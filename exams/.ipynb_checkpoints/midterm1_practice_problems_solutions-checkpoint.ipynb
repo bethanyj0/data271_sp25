{
 "cells": [
  {
   "cell_type": "markdown",
   "id": "87c3d8c8",
   "metadata": {},
   "source": [
    "# Midterm 1 Practice Problems SOLUTIONS\n",
    "\n",
    "The following problems are similar to what you'll see on the first DATA 271 exam. This set of problems is longer than what you'll see on the actual exam. "
   ]
  },
  {
   "cell_type": "markdown",
   "id": "cab3c21e",
   "metadata": {},
   "source": [
    "## Python Basics"
   ]
  },
  {
   "cell_type": "markdown",
   "id": "3214b684",
   "metadata": {},
   "source": [
    "**Problem:** Write a function to remove duplicates from a list. Test out your function on the list\n",
    "```python\n",
    "['I','love','love','love','data','science']\n",
    "```"
   ]
  },
  {
   "cell_type": "code",
   "execution_count": null,
   "id": "97add7ec",
   "metadata": {},
   "outputs": [],
   "source": [
    "def remove_duplicates(lst):\n",
    "    new_list = []\n",
    "    for i in lst:\n",
    "        if i not in new_list:\n",
    "            new_list.append(i)\n",
    "    return new_list\n",
    "    \n",
    "remove_duplicates(['I','love','love','love','data','science'])"
   ]
  },
  {
   "cell_type": "markdown",
   "id": "2a6ec5bd",
   "metadata": {},
   "source": [
    "**Problem:** Write a function to count the occurrences of each character in a string and return a dictionary where the keys are the unique characters and values are their counts.\n",
    "Test out your function on the string\n",
    "```python\n",
    "'If a dog chews shoes, whose shoes does he choose?'\n",
    "```"
   ]
  },
  {
   "cell_type": "code",
   "execution_count": null,
   "id": "67d37f42",
   "metadata": {},
   "outputs": [],
   "source": [
    "def count_characters(string):\n",
    "    return {i:string.count(i) for i in string}\n",
    "\n",
    "count_characters('If a dog chews shoes, whose shoes does he choose?')"
   ]
  },
  {
   "cell_type": "markdown",
   "id": "c3177f0a",
   "metadata": {},
   "source": [
    "**Problem:** Write a function to merge two lists into one sorted list in descending order. Test out your function on the lists \n",
    "```python\n",
    "lst1 = [8,3,5,8,4,9]\n",
    "lst2 = [6,9,0,2,7,2]\n",
    "```"
   ]
  },
  {
   "cell_type": "code",
   "execution_count": null,
   "id": "0c7e77b4",
   "metadata": {},
   "outputs": [],
   "source": [
    "def merge_lists(lst1,lst2):\n",
    "    lst1.extend(lst2)\n",
    "    lst1.sort()\n",
    "    return lst1\n",
    "\n",
    "lst1 = [8,3,5,8,4,9]\n",
    "lst2 = [6,9,0,2,7,2]\n",
    "merge_lists(lst1,lst2)"
   ]
  },
  {
   "cell_type": "markdown",
   "id": "00769261",
   "metadata": {},
   "source": [
    "**Problem:** The number $\\pi$ can be computed by the following formula:\n",
    "$$\n",
    "\\pi=4 \\sum_{k=0}^{\\infty} \\frac{(-1)^k}{2 k+1}=4\\left(\\frac{1}{1}-\\frac{1}{3}+\\frac{1}{5}-\\frac{1}{7}+\\frac{1}{9}-\\ldots\\right)\n",
    "$$\n",
    "\n",
    "Write a function to *approximate* $\\pi$ using the formula defined above (the approximation means that instead of infinity $\\infty$, the sequence considers only a certain amount of elements $n$).\n",
    "\n",
    "Here are examples of $\\pi$ approximations for some of the values of $n$ :\n",
    "$$\n",
    "\\begin{aligned}\n",
    "& n=0 \\rightarrow \\pi=4 \\\\\n",
    "& n=1 \\rightarrow \\pi \\approx 2.67 \\\\\n",
    "& n=2 \\rightarrow \\pi \\approx 3.47\n",
    "\\end{aligned}\n",
    "$$\n",
    "\n",
    "Use those $n$ values as inputs to make sure your function is working properly, then get the $pi$ approximation for $n=10000$."
   ]
  },
  {
   "cell_type": "code",
   "execution_count": null,
   "id": "b1848365",
   "metadata": {},
   "outputs": [],
   "source": [
    "def pi_approx(n):\n",
    "    sum_piece = 0\n",
    "    for k in range(n+1):\n",
    "        sum_piece += (-1)**k/(2*k+1)\n",
    "    return 4*sum_piece\n",
    "\n",
    "print(pi_approx(0))\n",
    "print(pi_approx(1))\n",
    "print(pi_approx(2))\n",
    "print(pi_approx(10000))"
   ]
  },
  {
   "cell_type": "markdown",
   "id": "be730604",
   "metadata": {},
   "source": [
    "**Problem:** You went to the market with your roommate and you both filled your own baskets (`basket1` and `basket2`) with fruits. You wanted to have one of each kind but realized that some fruits were put in both baskets. Remove everything from `basket2` that is present in `basket1`."
   ]
  },
  {
   "cell_type": "code",
   "execution_count": null,
   "id": "6a5b068c",
   "metadata": {},
   "outputs": [],
   "source": [
    "# The following structure might help\n",
    "basket1 = ['apple','banana','orange']\n",
    "basket2 = ['apple','pear']\n",
    "\n",
    "# The following structure might help\n",
    "for i in basket1:\n",
    "    if i in basket2:\n",
    "        basket2.remove(i)\n",
    "        \n",
    "basket1,basket2"
   ]
  },
  {
   "cell_type": "markdown",
   "id": "b5dc1806",
   "metadata": {},
   "source": [
    "**Problem:** You are given five lists below. Use them to answer the following questions"
   ]
  },
  {
   "cell_type": "code",
   "execution_count": null,
   "id": "0e1c62c6",
   "metadata": {},
   "outputs": [],
   "source": [
    "A = [1, 2, 3, 5, 6, 7]\n",
    "B = [5, 7, 9, 11, 13, 15, 15]\n",
    "C = [1, 2, 5, 7, 10, 8, 11, 12, 13, 14, 15, 16, 17, 16]\n",
    "D = [1, 3, 5, 7, 9, 11, 12, 13, 14, 15, 16, 17, 18, 19, 20]\n",
    "E = [9, 10, 11, 12, 13, 14, 15]"
   ]
  },
  {
   "cell_type": "markdown",
   "id": "84939305",
   "metadata": {},
   "source": [
    "**Subproblem:** Determine which numbers are in `A`, `B`, and `C`."
   ]
  },
  {
   "cell_type": "code",
   "execution_count": null,
   "id": "a8da8b07",
   "metadata": {},
   "outputs": [],
   "source": [
    "set(A) & set(B) & set(C)"
   ]
  },
  {
   "cell_type": "markdown",
   "id": "30220453",
   "metadata": {},
   "source": [
    "**Subproblem:** Find all unique numbers across all the lists."
   ]
  },
  {
   "cell_type": "code",
   "execution_count": null,
   "id": "d230a799",
   "metadata": {},
   "outputs": [],
   "source": [
    "set(A) | set(B) | set(C) | set(D) | set(E)"
   ]
  },
  {
   "cell_type": "markdown",
   "id": "4e8676e1",
   "metadata": {},
   "source": [
    "**Subproblem:** Determine which numbers are either in `A` or in the intersection of `D` and `E`."
   ]
  },
  {
   "cell_type": "code",
   "execution_count": null,
   "id": "c84d4217",
   "metadata": {},
   "outputs": [],
   "source": [
    "set(A) | (set(D) & set(E))"
   ]
  },
  {
   "cell_type": "markdown",
   "id": "606abcf1-7f21-4f65-86d1-1f00e08c099e",
   "metadata": {},
   "source": [
    "**Problem** Which of the following data structures is immutable in Python?\n",
    "\n",
    "1. List\n",
    "2. Dictionary\n",
    "3. Tuple\n",
    "4. Set\n",
    "\n",
    "Create a list with the numbers corresponding to the immutable data structures. "
   ]
  },
  {
   "cell_type": "code",
   "execution_count": null,
   "id": "edf97445-1039-4c73-b8d9-954a7756b888",
   "metadata": {},
   "outputs": [],
   "source": [
    "answer = [3]"
   ]
  },
  {
   "cell_type": "markdown",
   "id": "c3ffd554",
   "metadata": {},
   "source": [
    "**Problem**: The Caesar cipher (shift cipher) one of the most famous encryption systems. It is based on a simple shift of each letter in a message by a certain number of positions down the given `alphabet`. For example, given the English alphabet, a shift of 1 for `'xyz'` would imply `'yza'` and vice versa in case of decryption. Notice that `'z'` becomes `'a'` in this case.\n",
    "\n",
    "Thus, encryption/decryption requires two arguments: \n",
    "- text to encrypt/decrypt\n",
    "- an integer denoting the shift (key = 1 for the example above).\n",
    "\n",
    "Create an encryption function given the English alphabet stored in the `alphabet` string."
   ]
  },
  {
   "cell_type": "code",
   "execution_count": null,
   "id": "0fe202c4",
   "metadata": {},
   "outputs": [],
   "source": [
    "alphabet = 'abcdefghijklmnopqrstuvwxyz'\n",
    "def encryption(text,shift):\n",
    "    encrypted_text = ''\n",
    "    for i in text:\n",
    "        encrypted_text += alphabet[(alphabet.find(i) + shift)%26]\n",
    "    return encrypted_text\n",
    "\n",
    "encryption('xyz',1)"
   ]
  },
  {
   "cell_type": "markdown",
   "id": "339841ec",
   "metadata": {},
   "source": [
    "## List and Dictionary Comprehension"
   ]
  },
  {
   "cell_type": "markdown",
   "id": "951cb2f6-43c1-48b6-b1ba-981dcf8d1faf",
   "metadata": {},
   "source": [
    "**Problem** Create a list of tuples where the first item in each tuple is a number from 1 to 50, and the second item is its square.\n",
    "\n",
    "For example, the list should look like: \n",
    "```python\n",
    "[(1, 1), (2, 4), (3, 9), ..., (50, 2500)]\n",
    "```"
   ]
  },
  {
   "cell_type": "code",
   "execution_count": null,
   "id": "3744eef9-2b19-425b-9773-e01c0d329203",
   "metadata": {},
   "outputs": [],
   "source": [
    "[(i,i**2) for i in range(1,51)]"
   ]
  },
  {
   "cell_type": "markdown",
   "id": "bd9007d4-421a-488a-a825-c0cacc5c3c0b",
   "metadata": {},
   "source": [
    "**Problem** Create a dictionary where the keys are the positive even integers between 6 and 50 (inclusive), and the values are bools indicating whether each integer is divisible by 3 or not.\n",
    "\n",
    "For example, the dictionary should look like: \n",
    "```python \n",
    "{6: True, 8: False, ..., 50: False}\n",
    "```"
   ]
  },
  {
   "cell_type": "code",
   "execution_count": null,
   "id": "5e4e084c-140e-40a7-b9b1-4a4c68e7ad3a",
   "metadata": {},
   "outputs": [],
   "source": [
    "{i:i%3 == 0 for i in range(6,51,2)}"
   ]
  },
  {
   "cell_type": "markdown",
   "id": "3287f7d9",
   "metadata": {},
   "source": [
    "**Problem:** Write a function that takes a string as an argument and returns a dictionary, where each key represents a unique character from the string and the corresponding value is a list containing the indices/positions of this letter in the string.\n",
    "\n",
    "For example, passing the string `'ukulele'` to the function should result in the following output: \n",
    "```python\n",
    "{'u': [0, 2], 'k': [1], 'l': [3, 5], 'e': [4, 6]}\n",
    "```"
   ]
  },
  {
   "cell_type": "code",
   "execution_count": null,
   "id": "89624e13",
   "metadata": {},
   "outputs": [],
   "source": [
    "string = 'ukulele'\n",
    "{i:[j for j in range(len(string)) if string[j]==i] for i in string}"
   ]
  },
  {
   "cell_type": "markdown",
   "id": "779edbb9",
   "metadata": {},
   "source": [
    "**Problem:** Use dictionary comprehension to create a dictionary where the keys are words from the given string below. If the word contains only lowercase characters, its value should be the length of the word. If the word contains any uppercase characters, the value should be 0. "
   ]
  },
  {
   "cell_type": "code",
   "execution_count": null,
   "id": "6271bede",
   "metadata": {},
   "outputs": [],
   "source": [
    "string='No Luke I am your father'\n",
    "{word: len(word) if word == word.lower() else 0 for word in string.split()}"
   ]
  },
  {
   "cell_type": "markdown",
   "id": "4f2eee70",
   "metadata": {},
   "source": [
    "**Problem:** Use list comprehension to concatenate two lists of strings given below, keeping only the strings with lengths greater than 3."
   ]
  },
  {
   "cell_type": "code",
   "execution_count": null,
   "id": "710a045a",
   "metadata": {},
   "outputs": [],
   "source": [
    "list1 = ['aardvark','bear', 'cat', 'dog','elephant']\n",
    "list2 = ['apple','burger', 'cantalope', 'dragonfruit','egg']\n",
    "\n",
    "[i for j in [list1, list2] for i in j if len(i) > 3]"
   ]
  },
  {
   "cell_type": "code",
   "execution_count": null,
   "id": "dca5cb2d-d0bb-4daa-ab7e-53e48498ad9f",
   "metadata": {
    "tags": []
   },
   "outputs": [],
   "source": [
    "list1.extend(list2)\n",
    "[i for i in list1 if len(i) > 3]"
   ]
  },
  {
   "cell_type": "markdown",
   "id": "27a2a57f",
   "metadata": {},
   "source": [
    "**Problem:** The transpose of a matrix is found by interchanging its rows into columns or columns into rows. Using list comprehension, transpose a given matrix represented as a list of lists. We will use the matrix\n",
    "\n",
    "\\begin{bmatrix}\n",
    "1&2\\\\\n",
    "3&4\n",
    "\\end{bmatrix}\n",
    "\n",
    "which has transpose\n",
    "\\begin{bmatrix}\n",
    "1&3\\\\\n",
    "2&4\n",
    "\\end{bmatrix}\n",
    "\n",
    "So turn the list \n",
    "```python\n",
    "[[1,2],[3,4]]\n",
    "```\n",
    "should be transformed to\n",
    "```python\n",
    "[[1,3],[2,4]]\n",
    "```"
   ]
  },
  {
   "cell_type": "code",
   "execution_count": null,
   "id": "390ee67f",
   "metadata": {
    "scrolled": true
   },
   "outputs": [],
   "source": [
    "matrix = [[1,2],[3,4]]\n",
    "\n",
    "[[row[i] for row in matrix] for i in range(len(matrix[0]))]"
   ]
  },
  {
   "cell_type": "markdown",
   "id": "c1417edd",
   "metadata": {},
   "source": [
    "## Regular expression"
   ]
  },
  {
   "cell_type": "markdown",
   "id": "bca18796-ab30-4f27-9217-2e0091794d94",
   "metadata": {},
   "source": [
    "**Problem** Use regular expression to transform the string \n",
    "```python\n",
    "'Twinkle twinkle little star.'\n",
    "```\n",
    "into the string \n",
    "```python\n",
    "'3inkle 3inkle li3le s3ar.'\n",
    "```"
   ]
  },
  {
   "cell_type": "code",
   "execution_count": null,
   "id": "5aad2f16-c9e5-48bc-ae0d-d96422f1f716",
   "metadata": {},
   "outputs": [],
   "source": [
    "import re\n",
    "string = 'Twinkle twinkle little star.'\n",
    "\n",
    "re.sub('[Tt]+w*', '3', string)"
   ]
  },
  {
   "cell_type": "markdown",
   "id": "7501aac2",
   "metadata": {},
   "source": [
    "**Problem** Use regular expression to make a list of tuples. The first element of the tuple should be a math professor's last name and the second element should be their extension (last 4 digits of their office numbers). "
   ]
  },
  {
   "cell_type": "code",
   "execution_count": null,
   "id": "75bf7afe",
   "metadata": {},
   "outputs": [],
   "source": [
    "data = \"\"\"Dr. Rizzardi's office number is (707) 826-4951.\\n\n",
    "Dr. Ballinger's office number (707) 826-5344.\\n\n",
    "Dr. Dugaw's office number is (707) 826-4251.\\n\n",
    "Dr. Evans's office number is (707) 826-3217.\\n\n",
    "Dr. Freedman's office number is (707) 826-4763.\\n\n",
    "Dr. Haag's office number is (707) 826-5345.\\n\n",
    "Dr. Johnson's office number is (707) 826-4952.\"\"\""
   ]
  },
  {
   "cell_type": "code",
   "execution_count": null,
   "id": "32c69672-95e3-48e0-a162-4734d62a2e2f",
   "metadata": {
    "tags": []
   },
   "outputs": [],
   "source": [
    "re.findall(\"Dr.\\s([A-Za-z]+)'.+(\\d{4})\", data)"
   ]
  },
  {
   "cell_type": "markdown",
   "id": "baec350b",
   "metadata": {},
   "source": [
    "**Problem:** Create a regular expression matching a valid temperature represented either in Celsius or Fahrenheit scale (e.g. `+23.5 C`, `-4 F`, `0.0 C`, `73.45 F`) and to extract all the appearances from the given string text. Positive temperatures can be with or without the `+` prefix (e.g. `5 F`, `+5 F`). Negative temperatures must be prefixed with `-`. Zero temperature can be used with a prefix or without. Test out your regex on the string provided."
   ]
  },
  {
   "cell_type": "code",
   "execution_count": null,
   "id": "599c2ba3",
   "metadata": {},
   "outputs": [],
   "source": [
    "string = \"Let's consider the following temperatures using the Celsius scale: +23 C, 0 C, -20.0 C, -2.2 C, -5.65 C, 0.0001 C. To convert them to the Fahrenheit scale you have to multiply the number by 9/5 and add 32 to the result. Therefore, the corresponding temperatures in the Fahrenheit scale will be: +73.4 F, 32 F, -4.0 F, +28.04 F, 21.83 F, +32.00018 F.\"\n",
    "string = \"Let's consider the following temperatures using the Celsius scale: +23 C, 0 C, -20.0 C, -2.2 C, -5.65 C, 0.0001 C. To convert them to the Fahrenheit scale you have to multiply the number by 9/5 and add 32 to the result. Therefore, the corresponding temperatures in the Fahrenheit scale will be: +73.4 F, 32 F, -4.0 F, +28.04 F, 21.83 F, +32.00018 F.\"\n",
    "regex = '[+-]?\\d+\\.?\\d*\\s[CF]' # solution\n",
    "re.findall(regex,string) # check"
   ]
  },
  {
   "cell_type": "markdown",
   "id": "b0366fb0",
   "metadata": {},
   "source": [
    "**Problem:** You visit a website and it asks you to fill in a registration form. The username section requires you to choose a name between 3 and 16 characters long. It can only include hyphens, underscores, and alphanumeric characters (but no capital letters). Write a regex to match valid usernames. "
   ]
  },
  {
   "cell_type": "code",
   "execution_count": null,
   "id": "0ea0b010",
   "metadata": {},
   "outputs": [],
   "source": [
    "regex = '[a-z0-9_-]{3,16}'"
   ]
  },
  {
   "cell_type": "markdown",
   "id": "7107fc59",
   "metadata": {},
   "source": [
    "**Problem:** You are given a list where each element stores a movie name, its release date, and the director (e.g. \"The Godfather, 1972, Francis Ford Coppola\") below.\n",
    "\n",
    "Get the movie title and the director of each element in `movies` and put them in a new list. For example, if the element `movies` is \n",
    "```python\n",
    "\"The Godfather, 1972, Francis Ford Coppola\"\n",
    "```\n",
    "the result should be:\n",
    "\n",
    "```python\n",
    "\"The Godfather, Francis Ford Coppola\"\n",
    "```"
   ]
  },
  {
   "cell_type": "code",
   "execution_count": null,
   "id": "56b0bd8b",
   "metadata": {},
   "outputs": [],
   "source": [
    "movies = ['1984, 1984, Michael Radford',\n",
    "\"The Good the Bad, and the Ugly, 1966, Sergio Leone\",\n",
    "\"Terminator 2: Judgment Day, 1991, James Cameron\",\n",
    "\"Harry Potter and the Philosopher's Stone, 2001, Chris Columbus\",\n",
    "\"Back to the Future, 1985, Robert Zemeckis\",\n",
    "\"No Country for Old Men, 2007, Joel Coen, Ethan Coen\"]"
   ]
  },
  {
   "cell_type": "code",
   "execution_count": null,
   "id": "9a40a5b2",
   "metadata": {},
   "outputs": [],
   "source": [
    "[re.sub(',\\s\\d{4}','',movie) for movie in movies]"
   ]
  },
  {
   "cell_type": "markdown",
   "id": "b268d90b",
   "metadata": {},
   "source": [
    "## NumPy"
   ]
  },
  {
   "cell_type": "markdown",
   "id": "73ff302e-a67f-493a-b5f7-5c93853da6e7",
   "metadata": {},
   "source": [
    "What does the NumPy library primarily provide in Python?\n",
    "\n",
    "1. High-performance multidimensional array objects\n",
    "2. Methods for string manipulation\n",
    "3. Data visualization tools\n",
    "4. Regular expression functionality"
   ]
  },
  {
   "cell_type": "code",
   "execution_count": null,
   "id": "7c6f38f8-abe0-474e-b86c-4df94a270135",
   "metadata": {},
   "outputs": [],
   "source": [
    "answer = 1"
   ]
  },
  {
   "cell_type": "markdown",
   "id": "ba88f363",
   "metadata": {
    "tags": []
   },
   "source": [
    "**Problem:** Create a Numpy array of length 10 with values evenly distributed between 5 and 50."
   ]
  },
  {
   "cell_type": "code",
   "execution_count": null,
   "id": "12e53b59",
   "metadata": {},
   "outputs": [],
   "source": [
    "import numpy as np\n",
    "np.linspace(5,50,10)"
   ]
  },
  {
   "cell_type": "markdown",
   "id": "10a3ce44",
   "metadata": {},
   "source": [
    "**Problem:** Create NumPy array of length 5 filled with random integers from 0 to 10."
   ]
  },
  {
   "cell_type": "code",
   "execution_count": null,
   "id": "4d244664",
   "metadata": {},
   "outputs": [],
   "source": [
    "np.random.randint(0,11,5)"
   ]
  },
  {
   "cell_type": "markdown",
   "id": "da38cdbc",
   "metadata": {},
   "source": [
    "**Problem:** In the following array, replace all the numbers that are less than 5 with 0. "
   ]
  },
  {
   "cell_type": "code",
   "execution_count": null,
   "id": "924c2344",
   "metadata": {},
   "outputs": [],
   "source": [
    "import numpy as np \n",
    "array1= np.array([[7,3,1,6],[7,21,5,8],[-1,0,83,3]])\n",
    "array1[array1 < 5] = 0\n",
    "array1"
   ]
  },
  {
   "cell_type": "markdown",
   "id": "742e6a38-d363-4d6b-b2be-cdda67ef769a",
   "metadata": {},
   "source": [
    "**Problem** Create the following 2D numpy array:\n",
    "\n",
    "\\begin{bmatrix}\n",
    "    1 & 1 & 0 & 1 \\\\\n",
    "    1 & 1 & 0 & 1 \\\\\n",
    "    1 & 1 & 0 & 1 \\\\\n",
    "\\end{bmatrix}"
   ]
  },
  {
   "cell_type": "code",
   "execution_count": null,
   "id": "bde708d4-bcbd-4af2-8d32-ddcf684c3fc7",
   "metadata": {},
   "outputs": [],
   "source": [
    "mat = np.ones((3,4),dtype=int)\n",
    "mat[:,2] = 0\n",
    "mat"
   ]
  },
  {
   "cell_type": "markdown",
   "id": "750c9a60",
   "metadata": {},
   "source": [
    "**Problem:** Create the following array:\n",
    "\\begin{bmatrix}\n",
    "1&2&...&49&50\\\\\n",
    "50&49&...&2&1\n",
    "\\end{bmatrix}\n",
    "\n",
    "(the ellipses should be filled in with numbers stepping by 1."
   ]
  },
  {
   "cell_type": "code",
   "execution_count": null,
   "id": "4e89e8f2",
   "metadata": {},
   "outputs": [],
   "source": [
    "np.vstack((np.arange(1,51),np.arange(1,51)[::-1]))"
   ]
  },
  {
   "cell_type": "markdown",
   "id": "dc7e76c5-cdc1-4028-b0eb-433ef5dc2742",
   "metadata": {},
   "source": [
    "**Problem** Given the array `arr`\n",
    "\n",
    "\\begin{bmatrix}\n",
    "    1 & 2 & 3 & 4 & 5 & 6 & 7 & 8 & 9 & 10\\\\\n",
    "    11 & 12 & 13 & 14 & 15 & 16 & 17 & 18 & 19 & 20\\\\\n",
    "    21 & 22 & 23 & 24 & 25 & 26 & 27 & 28 & 29 & 30\\\\\n",
    "\\end{bmatrix}\n",
    "\n",
    "Use array slicing to get the array:\n",
    "    \\begin{bmatrix}\n",
    "    2 & 5 & 10\\\\\n",
    "    22 & 25 & 30\\\\\n",
    "    \\end{bmatrix}"
   ]
  },
  {
   "cell_type": "code",
   "execution_count": null,
   "id": "b8a1f699-8834-4adc-93f0-8a2073ddd2a0",
   "metadata": {},
   "outputs": [],
   "source": [
    "arr = np.arange(1,31).reshape(3,10)\n",
    "arr[::2,[1,4,9]]"
   ]
  },
  {
   "cell_type": "markdown",
   "id": "e9acd0c6",
   "metadata": {},
   "source": [
    "**Problem:** You are at the grocery store to buy cookies, and you notice that each brand sells boxes of cookies with different amounts and prices. The data for the brand, price per box, and number of ounces per box are given to you in three NumPy arrays below. You want to get most bang for your buck, so use the NumPy arrays to determine which brand you should buy to get the cheapest price per oz."
   ]
  },
  {
   "cell_type": "code",
   "execution_count": null,
   "id": "5c7ff951",
   "metadata": {},
   "outputs": [],
   "source": [
    "cookie_brands = np.array(['Brand A', 'Brand B', 'Brand C', 'Brand D', 'Brand E', 'Brand F', 'Brand G', 'Brand H', 'Brand I', 'Brand J'])\n",
    "prices_per_box = np.array([5.99, 4.99, 6.99, 3.49, 7.99, 2.99, 5.49, 4.29, 6.79, 3.99])\n",
    "ounces_per_box = np.array([12, 10, 16, 8, 14, 6, 11, 9, 15, 7])"
   ]
  },
  {
   "cell_type": "code",
   "execution_count": null,
   "id": "a6faf47c",
   "metadata": {},
   "outputs": [],
   "source": [
    "cookie_brands[(prices_per_box/ounces_per_box).argmin()]"
   ]
  },
  {
   "cell_type": "markdown",
   "id": "225a3391",
   "metadata": {},
   "source": [
    "## Pandas"
   ]
  },
  {
   "cell_type": "markdown",
   "id": "17b3fa97-7a18-4a41-8fec-d9dae335a20e",
   "metadata": {},
   "source": [
    "**True or False**: In Pandas, a Series is a two-dimensional data structure similar to a table."
   ]
  },
  {
   "cell_type": "code",
   "execution_count": null,
   "id": "c50e125f-b557-4520-a21b-8f4e2d3649d5",
   "metadata": {},
   "outputs": [],
   "source": [
    "answer = False"
   ]
  },
  {
   "cell_type": "markdown",
   "id": "147c6e7b",
   "metadata": {},
   "source": [
    "**Problem:** Go to [this link](https://www.kaggle.com/datasets/krishd123/olympics-legacy-1896-2020) and put the `all_athlete_games.csv` file in your working directory. Import the data as a Pandas DataFrame. "
   ]
  },
  {
   "cell_type": "code",
   "execution_count": null,
   "id": "3ba0a000",
   "metadata": {},
   "outputs": [],
   "source": [
    "import pandas as pd\n",
    "df = pd.read_csv('all_athlete_games.csv')\n",
    "df.head()"
   ]
  },
  {
   "cell_type": "markdown",
   "id": "bc94f21b",
   "metadata": {},
   "source": [
    "**Problem:** Create a Pandas Series displaying how many gold medals were won by each team in the dataset. "
   ]
  },
  {
   "cell_type": "code",
   "execution_count": null,
   "id": "dcf664f9",
   "metadata": {},
   "outputs": [],
   "source": [
    "golds = df[df.Medal == 'Gold']\n",
    "df[df.Medal == 'Gold'].Team.value_counts()"
   ]
  },
  {
   "cell_type": "markdown",
   "id": "80ba9846",
   "metadata": {},
   "source": [
    "**Problem:** How many athletes won gold medals in the dataset?"
   ]
  },
  {
   "cell_type": "code",
   "execution_count": null,
   "id": "df4acfc0",
   "metadata": {},
   "outputs": [],
   "source": [
    "len(golds.Name.unique())"
   ]
  },
  {
   "cell_type": "markdown",
   "id": "5086da4e",
   "metadata": {},
   "source": [
    "**Problem:** Who earned the most gold medals in the dataset and in what events did they earn golds? "
   ]
  },
  {
   "cell_type": "code",
   "execution_count": null,
   "id": "fae08815",
   "metadata": {},
   "outputs": [],
   "source": [
    "athlete_most_golds = golds.Name.value_counts().index[0]\n",
    "events = golds[golds.Name.str.contains(athlete_most_golds)]['Event'].unique()\n",
    "athlete_most_golds, events"
   ]
  },
  {
   "cell_type": "markdown",
   "id": "23ec5b4a",
   "metadata": {},
   "source": [
    "**Problem:** Create a Pandas Series containing the average age of athlete for each sport in the summer Olympics."
   ]
  },
  {
   "cell_type": "code",
   "execution_count": null,
   "id": "11330343",
   "metadata": {},
   "outputs": [],
   "source": [
    "df[df['Season']=='Summer'].groupby('Sport')['Age'].mean()"
   ]
  },
  {
   "cell_type": "markdown",
   "id": "c67a0acf",
   "metadata": {},
   "source": [
    "**Problem:** In what year did the oldest olympic athlete compete. How old where they?"
   ]
  },
  {
   "cell_type": "code",
   "execution_count": null,
   "id": "652dada3",
   "metadata": {},
   "outputs": [],
   "source": [
    "year = df.loc[df['Age'].idxmax(),'Year']\n",
    "age = df['Age'].max()\n",
    "\n",
    "year,age"
   ]
  },
  {
   "cell_type": "code",
   "execution_count": null,
   "id": "3e504361-4bfc-4772-832b-a5ac30e7d440",
   "metadata": {},
   "outputs": [],
   "source": []
  }
 ],
 "metadata": {
  "kernelspec": {
   "display_name": "Python 3 (ipykernel)",
   "language": "python",
   "name": "python3"
  },
  "language_info": {
   "codemirror_mode": {
    "name": "ipython",
    "version": 3
   },
   "file_extension": ".py",
   "mimetype": "text/x-python",
   "name": "python",
   "nbconvert_exporter": "python",
   "pygments_lexer": "ipython3",
   "version": "3.11.4"
  }
 },
 "nbformat": 4,
 "nbformat_minor": 5
}
