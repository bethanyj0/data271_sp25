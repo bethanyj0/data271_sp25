{
 "cells": [
  {
   "cell_type": "markdown",
   "id": "87c3d8c8",
   "metadata": {},
   "source": [
    "# DATA 271 Midterm 1 Spring 2025\n",
    "*Instructor: Bethany Johnson*  \n",
    "*Date:* 2/27/2025\n",
    "\n",
    "Please answer the following questions to the best of your ability. You are welcome to use your reference sheet and the help function in Python, but please do **not** use any other internet windows including books, demos from class, AI, Stack Overflow, or others.\n",
    "\n",
    "You have 1 hour and 50 minutes to complete this exam. When you have finished, click File $\\rightarrow$ Download as $\\rightarrow$ Notebook (.ipynb). Submit the notebook file you used to Canvas in the Midterm 1 assignment. \n",
    "\n",
    "Some helpful reminders:"
   ]
  },
  {
   "cell_type": "markdown",
   "id": "57673959-f5f5-4cdf-a36b-b0c37ebd66be",
   "metadata": {},
   "source": [
    "- Look up documentation with the `help` function"
   ]
  },
  {
   "cell_type": "code",
   "execution_count": null,
   "id": "8d9f70b8-27de-4556-8fee-3756c37971b6",
   "metadata": {
    "tags": []
   },
   "outputs": [],
   "source": [
    "help(max)"
   ]
  },
  {
   "cell_type": "markdown",
   "id": "de1f2574-981f-4797-9d33-f0497cf2e1d9",
   "metadata": {},
   "source": [
    "- Look up methods and attributes with `dir`."
   ]
  },
  {
   "cell_type": "code",
   "execution_count": null,
   "id": "0b23e2ac-f0f7-49e4-9adf-2a4f2db90dbd",
   "metadata": {
    "tags": []
   },
   "outputs": [],
   "source": [
    "dir('I need to know what I can do with a string')"
   ]
  },
  {
   "cell_type": "markdown",
   "id": "2acf6cf9-28aa-4cc2-9ec3-49a27033df45",
   "metadata": {},
   "source": [
    "- Use the `tab` key to find functions and methods for specific libraries.  \n",
    "Example: when NumPy is imported, typing `np.` then hitting the `tab` key will give you a bunch of NumPy functions.\n",
    "Similarly, typing `np.array(1).` then hitting the `tab` key will give you methods for arrays."
   ]
  },
  {
   "cell_type": "markdown",
   "id": "09296f6c-abc7-474d-a68d-529acff7423c",
   "metadata": {},
   "source": [
    "Good luck!"
   ]
  },
  {
   "cell_type": "markdown",
   "id": "e8dd9b2f-4117-4b7c-bb35-c3d08787eceb",
   "metadata": {},
   "source": [
    "### Problem 1\n",
    "You are given the `shows` list below containing tuples with the name of a TV show, its viewer rating (out of 10)."
   ]
  },
  {
   "cell_type": "code",
   "execution_count": null,
   "id": "3b402e23",
   "metadata": {},
   "outputs": [],
   "source": [
    "shows = [\n",
    "    (\"Emily in Paris\", 6.9),\n",
    "    (\"Stranger Things\", 8.7),\n",
    "    (\"The Office\", 8.9),\n",
    "    (\"Brooklyn Nine-Nine\", 8.4),\n",
    "    (\"Breaking Bad\", 9.5),\n",
    "    (\"Game of Thrones\", 9.2),\n",
    "    (\"Ted Lasso\", 8.8),\n",
    "    (\"Avatar: The Last Airbender\", 9.3),\n",
    "    (\"Seinfeld\", 8.8),\n",
    "    (\"The Bear\", 8.6),\n",
    "    (\"Too Hot to Handle\", 4.5),\n",
    "    (\"Friends\", 8.9),\n",
    "    (\"Ginny & Georgia\", 7.4),\n",
    "    (\"Pretty Little Liars\", 7.4),\n",
    "    (\"The Floor is Lava\", 5.3),\n",
    "    (\"Space Force\", 6.7)\n",
    "]"
   ]
  },
  {
   "cell_type": "markdown",
   "id": "06711f05-30cf-4d0f-bf3f-60c3b69242b0",
   "metadata": {},
   "source": [
    "**1.1:** Use indexing to access the first element of the list."
   ]
  },
  {
   "cell_type": "code",
   "execution_count": null,
   "id": "b6e37034-ef47-4479-80fc-0e1fa4632a05",
   "metadata": {
    "tags": []
   },
   "outputs": [],
   "source": [
    "first_element = ...\n",
    "first_element"
   ]
  },
  {
   "cell_type": "markdown",
   "id": "32205c6a-ed4a-4fa7-bf23-2092e52e00bf",
   "metadata": {},
   "source": [
    "**1.2** Use indexing to access the name of the first show in the list `shows`. "
   ]
  },
  {
   "cell_type": "code",
   "execution_count": null,
   "id": "0c1d7626-dce2-47d1-8160-3ed0ff2b6259",
   "metadata": {
    "tags": []
   },
   "outputs": [],
   "source": [
    "name_of_first = ...\n",
    "name_of_first"
   ]
  },
  {
   "cell_type": "markdown",
   "id": "d4115b90-614e-4fa5-a355-ebdde724d616",
   "metadata": {},
   "source": [
    "**1.3** Use indexing to access the rating of the first show in the list `shows`."
   ]
  },
  {
   "cell_type": "code",
   "execution_count": null,
   "id": "612e606d-46ca-480e-a064-c958bb89e214",
   "metadata": {
    "tags": []
   },
   "outputs": [],
   "source": [
    "rating_of_first = ...\n",
    "rating_of_first"
   ]
  },
  {
   "cell_type": "markdown",
   "id": "dbdc23ce-d991-4edc-a186-4768fa434c56",
   "metadata": {},
   "source": [
    "**1.4** Use slicing to access the first three elements of the list `shows`."
   ]
  },
  {
   "cell_type": "code",
   "execution_count": null,
   "id": "6088cfbb-e415-446e-b13d-669f5d2f9f1b",
   "metadata": {
    "tags": []
   },
   "outputs": [],
   "source": [
    "first_three = ...\n",
    "first_three"
   ]
  },
  {
   "cell_type": "markdown",
   "id": "8fff83a2-5455-42ff-9a7a-995c63f1875f",
   "metadata": {
    "tags": []
   },
   "source": [
    "**1.5:**  Create a list called `binge_worthy` containing the names of shows that are highly rated. A show is considered highly rated if its rating is 8 or higher. \n",
    "\n",
    "*NOTE:* Do not use list comprehension in your solution to this problem. The next problem will ask you to do the same task with list comprehension. "
   ]
  },
  {
   "cell_type": "code",
   "execution_count": null,
   "id": "10d9abd4",
   "metadata": {},
   "outputs": [],
   "source": [
    "# Your code here"
   ]
  },
  {
   "cell_type": "markdown",
   "id": "51015f7e-73a6-4e3d-8295-7e73cfa3c968",
   "metadata": {},
   "source": [
    "**1.6:** Now do the same task as the one in the previous problem, but this time with list comprehension. Your result should be stored in the list `binge_worthy2`."
   ]
  },
  {
   "cell_type": "code",
   "execution_count": null,
   "id": "8d849e74",
   "metadata": {},
   "outputs": [],
   "source": [
    "binge_worthy2 = ...\n",
    "binge_worthy2"
   ]
  },
  {
   "cell_type": "markdown",
   "id": "b85ea6ce-d4a5-4789-8811-8c76930a9760",
   "metadata": {},
   "source": [
    "**1.7**: Instead of filtering, create a list called `binge_labels` that contains \"Binge-Worthy\" if a show meets the criteria (rating ≥ 8) and \"Skip\" otherwise.\n",
    "\n",
    "*Hint:* Expected output is a list the same length as `shows` containing their binge status: \n",
    "```python\n",
    "['Skip','Binge-Worthy','Binge-Worthy', ...]\n",
    "```"
   ]
  },
  {
   "cell_type": "code",
   "execution_count": null,
   "id": "3fde9194-63d2-4d02-8e11-eab1e69794e4",
   "metadata": {
    "tags": []
   },
   "outputs": [],
   "source": [
    "binge_labels = ...\n",
    "binge_labels"
   ]
  },
  {
   "cell_type": "markdown",
   "id": "776be954-350c-49fb-b098-5788958bbbcf",
   "metadata": {},
   "source": [
    "**1.8:** How many shows in `shows` are binge worthy? Assign your answer to `num_binge_worthy_shows`."
   ]
  },
  {
   "cell_type": "code",
   "execution_count": null,
   "id": "5a3008cb-2ec3-441f-b9c0-bec3e98ebebb",
   "metadata": {
    "tags": []
   },
   "outputs": [],
   "source": [
    "num_binge_worthy_shows = ...\n",
    "num_binge_worthy_shows"
   ]
  },
  {
   "cell_type": "markdown",
   "id": "71d7c292-3e9b-4728-b53c-f163d147a902",
   "metadata": {},
   "source": [
    "**1.9:** Create a list `sorted_shows` that contains the show tuples sorted in descending order by rating."
   ]
  },
  {
   "cell_type": "code",
   "execution_count": null,
   "id": "21ae6fc7-4f40-48f9-aca5-f2e8e5dbed00",
   "metadata": {
    "tags": []
   },
   "outputs": [],
   "source": [
    "sorted_shows = ...\n",
    "sorted_shows"
   ]
  },
  {
   "cell_type": "markdown",
   "id": "9b771bd7",
   "metadata": {},
   "source": [
    "### Problem 2\n",
    "You're creating a playlist of classical pieces to listen to while studying. Here are some of the pieces you're considering, along with their composers and years:\n",
    "\n",
    "- Moonlight Sonata – Composed by Beethoven in 1801\n",
    "- Eine kleine Nachtmusik – Composed by Mozart in 1787\n",
    "- Goldberg Variations – Composed by Bach in 1741\n",
    "- The Four Seasons: Spring – Composed by Vivaldi in 1725\n",
    "- Ave Maria – Composed by Schubert in 1825\n",
    "\n",
    "The playlist is currently in the Python dictionary below. "
   ]
  },
  {
   "cell_type": "code",
   "execution_count": null,
   "id": "d15eafa3",
   "metadata": {},
   "outputs": [],
   "source": [
    "study_playlist = {'Moonlight Sonata': {'composer': 'Beethovan' , 'year': 1824},\n",
    "                 'Eine kleine Nachtmusik': {'composer': 'Mozart', 'year': 1787},\n",
    "                 'Goldberg Variations': {'composer': 'Bach', 'year': 1741},\n",
    "                 'The Four Seasons: Spring': {'composer': 'Vivaldi', 'year': 1725},\n",
    "                 'Ave Maria': {'composer': 'Schubert', 'year': 1825}\n",
    "                 }"
   ]
  },
  {
   "cell_type": "markdown",
   "id": "b6598e55",
   "metadata": {},
   "source": [
    "**2.1:** Use indexing to extract the year that *Ave Maria* was composed.  "
   ]
  },
  {
   "cell_type": "code",
   "execution_count": null,
   "id": "5fb36df1-e756-4725-bf68-7ca5fae0313f",
   "metadata": {
    "tags": []
   },
   "outputs": [],
   "source": [
    "# Your code here"
   ]
  },
  {
   "cell_type": "markdown",
   "id": "431130c9",
   "metadata": {},
   "source": [
    "**2.2:** You've decided to also add the following pieces to your playlist. \n",
    "- Clair de Lune – Composed by Debussy in 1905\n",
    "- The Four Seasons: Winter – Composed by Vivaldi in 1725\n",
    "\n",
    "Add these to your `study_playlist`."
   ]
  },
  {
   "cell_type": "code",
   "execution_count": null,
   "id": "e295355a",
   "metadata": {},
   "outputs": [],
   "source": [
    "# Your code here\n",
    "study_playlist # use this line to view your result"
   ]
  },
  {
   "cell_type": "markdown",
   "id": "69ec8353",
   "metadata": {},
   "source": [
    "**2.3:** Using `study_playlist` and dictionary comprehension, create a dictionary called `uppercase_pieces` where the keys are the same piece names, and the values are the names of the pieces in all uppercase letters."
   ]
  },
  {
   "cell_type": "code",
   "execution_count": null,
   "id": "33aa6d92",
   "metadata": {},
   "outputs": [],
   "source": [
    "uppercase_pieces = ...\n",
    "uppercase_pieces # use this line to view your result"
   ]
  },
  {
   "cell_type": "markdown",
   "id": "c1417edd",
   "metadata": {},
   "source": [
    "### Problem 3\n",
    "You're looking at a wildlife observation report from park rangers who recorded different animal sightings. Each observation always mentions an animal after the word \"saw\", but the report uses both singular and plural forms (e.g., \"saw a fox\" vs. \"saw some foxes\"). Email contact information is also given for each observer. Run the cell below to store the observation report text."
   ]
  },
  {
   "cell_type": "code",
   "execution_count": null,
   "id": "c64c5616",
   "metadata": {},
   "outputs": [],
   "source": [
    "observation_report =\"\"\"\n",
    "Ranger Mike and his friend saw a bear by the river. \n",
    "Emails: mike_ranger@wildlife.org, missing@domainz\n",
    "\n",
    "A visitor saw some deer in the extra quiet meadow. \n",
    "You can reach them at deer_watcher42@gmail.com.\n",
    "\n",
    "The team saw a eagle flying overhead. \n",
    "Members include ranger45@wildlife.org and wrong@@site.net.\n",
    "\n",
    "Ranger Lisa saw some wolves near the trail. \n",
    "Email: lisa.wolves@nature-conservation.net\n",
    "\n",
    "Ranger Juan saw a owl in a tree. \n",
    "Email: juan!special!chars@nature-conservation.net\n",
    "\"\"\""
   ]
  },
  {
   "cell_type": "markdown",
   "id": "e1281e24",
   "metadata": {},
   "source": [
    "**3.1:** Import the module for regular expression. "
   ]
  },
  {
   "cell_type": "code",
   "execution_count": null,
   "id": "b84c15b8",
   "metadata": {},
   "outputs": [],
   "source": [
    "# Your code here"
   ]
  },
  {
   "cell_type": "markdown",
   "id": "ccef6c6a",
   "metadata": {},
   "source": [
    "**3.2:** Use regular expressions to create a list of animal names that appear in the report. Store your result in `animals_in_report`.\n",
    "\n",
    "*HINT*: Look for animals that appear after \"saw a\" or \"saw some\"."
   ]
  },
  {
   "cell_type": "code",
   "execution_count": null,
   "id": "a76223a0",
   "metadata": {},
   "outputs": [],
   "source": [
    "animals_in_report = ...\n",
    "animals_in_report # use this line to view your result"
   ]
  },
  {
   "cell_type": "markdown",
   "id": "f631b524-5a2a-44e1-91ce-5462fed086ca",
   "metadata": {},
   "source": [
    "**3.3:** There are various email addresses in the observation report. Some are valid, and some are not. Extract all *valid* email addresses and return them as a list.\n",
    "\n",
    "A valid email address follows these rules:\n",
    "\n",
    "- Starts with lowercase letters, numbers, dots, underscores, or hyphens (no other special characters).\n",
    "- Must contain one \"@\" symbol.\n",
    "- After \"@\", must have a domain name (lowercase letters, numbers, or hyphens).\n",
    "- Ends with a valid top-level domain like \".com\", \".org\", \".edu\", or \".net\""
   ]
  },
  {
   "cell_type": "code",
   "execution_count": null,
   "id": "06657edf-d697-45e2-84da-e6e2c886325a",
   "metadata": {
    "tags": []
   },
   "outputs": [],
   "source": [
    "valid_emails = ...\n",
    "valid_emails # use this line to view your result"
   ]
  },
  {
   "cell_type": "markdown",
   "id": "873b875f-1ad0-44b8-af0f-d5b4f6dde28f",
   "metadata": {},
   "source": [
    "**3.4:** The `observation_report` has a few grammatical errors. Specifically, sometimes, it uses the word \"a\" instead of \"an\". For example, the sentence \n",
    "\n",
    "```python\n",
    "'Ranger Juan saw a owl in a tree.'\n",
    "```\n",
    "should be changed to\n",
    "```python\n",
    "'Ranger Juan saw an owl in a tree.'\n",
    "```\n",
    "\n",
    "Use regular expression to fix these errors. Store your result in `fixed_report`. \n",
    "\n",
    "*HINT:* The word \"a\" becomes \"an\" if the next word starts with a vowel (a,e,i,o, or u)."
   ]
  },
  {
   "cell_type": "code",
   "execution_count": null,
   "id": "2e9063c2-709a-4b7e-8034-7b0a667026f7",
   "metadata": {
    "tags": []
   },
   "outputs": [],
   "source": [
    "fixed_report = ...\n",
    "print(fixed_report) # use this line to view your result"
   ]
  },
  {
   "cell_type": "markdown",
   "id": "1cc9f2f4-242b-4d96-9dc6-3ddf80fad889",
   "metadata": {},
   "source": [
    "### Problem 4"
   ]
  },
  {
   "cell_type": "markdown",
   "id": "42813344-6c17-4ce3-8826-709b50bfd212",
   "metadata": {},
   "source": [
    "**4.1** Import the NumPy library"
   ]
  },
  {
   "cell_type": "code",
   "execution_count": null,
   "id": "6b6650ef-4d64-453d-90e9-5b99c66dbda7",
   "metadata": {
    "tags": []
   },
   "outputs": [],
   "source": [
    "# Your code here"
   ]
  },
  {
   "cell_type": "markdown",
   "id": "7512244f-2064-4097-9e25-27bec7fbf7a2",
   "metadata": {},
   "source": [
    "**4.2**  Create NumPy array `arr` of length 10 filled with random integers from 0 to 10. Replace all even numbers in the `arr` with -1."
   ]
  },
  {
   "cell_type": "code",
   "execution_count": null,
   "id": "a6d2e9fe-bc79-40a3-bdcb-b7035e479a95",
   "metadata": {
    "tags": []
   },
   "outputs": [],
   "source": [
    "np.random.seed(42)  # Keep this for reproducibility\n",
    "arr = ...\n",
    "# replace events here"
   ]
  },
  {
   "cell_type": "markdown",
   "id": "33d325e7",
   "metadata": {},
   "source": [
    "### Problem 5\n",
    "Glucose (blood sugar) levels fluctuate throughout the day, especially in response to meals, activity, and the body’s insulin response. Maintaining stable glucose levels is important for overall health, and extreme fluctuations can indicate potential issues such as diabetes.\n",
    "\n",
    "In this problem, we’ll analyze pre-breakfast glucose readings over time for a single diabetes patient. The data is structured as a 2D NumPy array with three columns:\n",
    "- month\n",
    "- day\n",
    "- glucose reading (mg/dL)"
   ]
  },
  {
   "cell_type": "code",
   "execution_count": null,
   "id": "bea5d861-0573-41cc-8889-1928367830e7",
   "metadata": {
    "tags": []
   },
   "outputs": [],
   "source": [
    "# Import the data\n",
    "glucose_data = np.loadtxt(\"glucose_data.csv\", delimiter=\",\",skiprows=1).astype(int)\n",
    "\n",
    "# Take a look at the first five rows\n",
    "glucose_data[:5,:]"
   ]
  },
  {
   "cell_type": "markdown",
   "id": "c3b4d235",
   "metadata": {},
   "source": [
    "**5.1:** Use array slicing to create a 1d array containing only the glucose readings from the dataset (3rd column)."
   ]
  },
  {
   "cell_type": "code",
   "execution_count": null,
   "id": "f1038000",
   "metadata": {},
   "outputs": [],
   "source": [
    "glucose = ...\n",
    "glucose # use this line to view your result"
   ]
  },
  {
   "cell_type": "markdown",
   "id": "8edba089-0c10-466d-aaa4-cf7fd92250b5",
   "metadata": {},
   "source": [
    "**5.2**: Compute the mean and standard deviation of the glucose readings."
   ]
  },
  {
   "cell_type": "code",
   "execution_count": null,
   "id": "947c6b44-0198-4a70-b3c8-6a347ff12a99",
   "metadata": {
    "tags": []
   },
   "outputs": [],
   "source": [
    "glucose_mean = ...\n",
    "glucose_std = ...\n",
    "\n",
    "glucose_mean,glucose_std"
   ]
  },
  {
   "cell_type": "markdown",
   "id": "8366e8e0-bb74-4d13-bcc7-b334f3b1d83a",
   "metadata": {},
   "source": [
    "**5.3**: Determine how many times this patient had unusually high glucose readings (outliers).  \n",
    "\n",
    "*By \"unusually high\" we mean glucose readings that are more than 2 standard deviations above the mean.* \n",
    "\n",
    "*Recall that*\n",
    "$\\frac{\\text{value} - \\text{mean}}{\\text{standard deviation}}$\n",
    "*gives the number of standard deviations a value is away from the mean.*"
   ]
  },
  {
   "cell_type": "code",
   "execution_count": null,
   "id": "8e984beb-4314-44b1-8bc4-4f38e7e2f3ed",
   "metadata": {
    "tags": []
   },
   "outputs": [],
   "source": [
    "num_outliers = ...\n",
    "num_outliers # use this line to view your result"
   ]
  },
  {
   "cell_type": "markdown",
   "id": "5509d43d-4eb7-43c5-9840-06a8662e6bf9",
   "metadata": {},
   "source": [
    "**5.4**: Identify the month and day of the highest glucose reading.\n",
    "\n",
    "*Hint*: Your solution should be a 1d array containing the month and day of the highest glucose measurement."
   ]
  },
  {
   "cell_type": "code",
   "execution_count": null,
   "id": "d9fa1018-a648-4a76-9121-daa1ccc6496a",
   "metadata": {
    "tags": []
   },
   "outputs": [],
   "source": [
    "date_of_highest = ...\n",
    "date_of_highest # use this line to view your result"
   ]
  },
  {
   "cell_type": "markdown",
   "id": "b055cc93-7018-4fca-a037-62f1ede480bd",
   "metadata": {},
   "source": [
    "**5.5**: Identify the month with the highest *average* glucose reading. You might need multiple lines of code for this.\n",
    "\n",
    "*HINT:* \n",
    "Some helpful steps might include:\n",
    "- Find the unique months in the month column.\n",
    "- Compute the average glucose reading for each unique month.\n",
    "- Identify the month with the highest average."
   ]
  },
  {
   "cell_type": "code",
   "execution_count": null,
   "id": "f4b65299-ef4e-4765-b855-747c49b4be2b",
   "metadata": {
    "tags": []
   },
   "outputs": [],
   "source": [
    "...\n",
    "highest_monthly_avg = ...\n",
    "highest_monthly_avg # use this line to view your result"
   ]
  },
  {
   "cell_type": "markdown",
   "id": "225a3391",
   "metadata": {},
   "source": [
    "### Problem 6\n",
    "The field of data science is growing rapidly, with companies across various industries seeking skilled professionals. In this problem, you'll work with a dataset containing job listings for data science roles from Glassdoor. The dataset includes information such as job titles, locations, salary ranges, company details, and job descriptions.\n",
    "\n",
    "You'll use Pandas to analyze trends in the job market, focusing on job availability in California."
   ]
  },
  {
   "cell_type": "markdown",
   "id": "9348e34d",
   "metadata": {},
   "source": [
    "**6.1:** Import the Pandas library."
   ]
  },
  {
   "cell_type": "code",
   "execution_count": null,
   "id": "a688e848",
   "metadata": {},
   "outputs": [],
   "source": [
    "# Your code here"
   ]
  },
  {
   "cell_type": "markdown",
   "id": "147c6e7b",
   "metadata": {},
   "source": [
    "**6.2:** Import the `glassdoor_jobs.csv` dataset containing data science jobs listing from Glassdoor. Import the data as a Pandas DataFrame. "
   ]
  },
  {
   "cell_type": "code",
   "execution_count": null,
   "id": "3ba0a000",
   "metadata": {},
   "outputs": [],
   "source": [
    "jobs = ...\n",
    "jobs.head() # use this line to view your result"
   ]
  },
  {
   "cell_type": "markdown",
   "id": "e37ffe15",
   "metadata": {},
   "source": [
    "**6.3:** Create a subset of the data called `cali_jobs` containing only jobs in California. How many California jobs are in the dataset? Put your result in `num_cali_jobs`.\n",
    "\n",
    "*HINT:* We know a job is in California if the string \"CA\" is in its `location` column. "
   ]
  },
  {
   "cell_type": "code",
   "execution_count": null,
   "id": "2ea6eeac",
   "metadata": {},
   "outputs": [],
   "source": [
    "cali_jobs = ...\n",
    "cali_jobs.head() # use this line to view your result"
   ]
  },
  {
   "cell_type": "code",
   "execution_count": null,
   "id": "6bc1bdb2",
   "metadata": {},
   "outputs": [],
   "source": [
    "num_cali_jobs = ...\n",
    "num_cali_jobs # use this line to view your result"
   ]
  },
  {
   "cell_type": "markdown",
   "id": "91ce056d",
   "metadata": {},
   "source": [
    "**6.4:** Which company type pays the most on average in California? Use Pandas methods on your `cali_jobs` DataFrame to determine the average salary for each company type (`type`). Comment on which company type offers the highest salary on average.\n",
    "\n",
    "*NOTE:* Use the `max_salary` column for this problem. "
   ]
  },
  {
   "cell_type": "code",
   "execution_count": null,
   "id": "5fec0901",
   "metadata": {},
   "outputs": [],
   "source": [
    "min_size_by_type = ...\n",
    "min_size_by_type # use this line to view your result"
   ]
  },
  {
   "cell_type": "markdown",
   "id": "915474b8-e9a8-4839-9814-21cfca960db0",
   "metadata": {},
   "source": [
    "*Comment here*"
   ]
  },
  {
   "cell_type": "markdown",
   "id": "78b2d1da",
   "metadata": {},
   "source": [
    "**6.5**: What percentage of job listings in California want data scientists with Python skills?  \n",
    "\n",
    "*You can assume that if the job description mentions Python, they want those skills*."
   ]
  },
  {
   "cell_type": "code",
   "execution_count": null,
   "id": "c520f6be",
   "metadata": {},
   "outputs": [],
   "source": [
    "python_skills = ...\n",
    "python_skills # use this line to view your result"
   ]
  },
  {
   "cell_type": "markdown",
   "id": "c1916197-75ce-4b56-8637-1cdfe4f4dcb4",
   "metadata": {},
   "source": [
    "**6.6:** What job listing in California offers the highest salary (according to `max_salary`)? Your solution should be a series containing all relevant information about the job listing. "
   ]
  },
  {
   "cell_type": "code",
   "execution_count": null,
   "id": "c644497a-f207-42a8-871b-10124ab1f75c",
   "metadata": {
    "tags": []
   },
   "outputs": [],
   "source": [
    "highest_cali_job = ...\n",
    "highest_cali_job"
   ]
  },
  {
   "cell_type": "markdown",
   "id": "b6a962dd",
   "metadata": {},
   "source": [
    "## Congratulations! \n",
    "\n",
    "You finished midterm 1! Don't forget to download your file as a notebook and submit it to Canvas. Then you can go relax like Gus. \n",
    "\n",
    "<img src=\"gus_sleeping.jpg\" alt=\"drawing\" width=\"300\"/>\n",
    "\n",
    "\n",
    "**References**:\n",
    "- Problem 5 data source can be found [here](https://archive.ics.uci.edu/dataset/34/diabetes).\n",
    "- Problem 6 data source can be found [here](https://www.kaggle.com/datasets/rashikrahmanpritom/data-science-job-posting-on-glassdoor?select=Cleaned_DS_Jobs.csv).  \n",
    "*Data for Problems 1-4 were fabricated for the purpose of these exercises*. "
   ]
  },
  {
   "cell_type": "code",
   "execution_count": null,
   "id": "00d4fdc9-5a1b-43a8-9ff3-a90769d3ad4c",
   "metadata": {},
   "outputs": [],
   "source": []
  }
 ],
 "metadata": {
  "kernelspec": {
   "display_name": "Python 3 (ipykernel)",
   "language": "python",
   "name": "python3"
  },
  "language_info": {
   "codemirror_mode": {
    "name": "ipython",
    "version": 3
   },
   "file_extension": ".py",
   "mimetype": "text/x-python",
   "name": "python",
   "nbconvert_exporter": "python",
   "pygments_lexer": "ipython3",
   "version": "3.11.4"
  }
 },
 "nbformat": 4,
 "nbformat_minor": 5
}
