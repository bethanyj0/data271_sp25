{
 "cells": [
  {
   "cell_type": "markdown",
   "id": "8e3a4f75-340a-4457-b397-9926b7016f5f",
   "metadata": {},
   "source": [
    "# Practice Midterm 1 Problems Designed by Students\n",
    "Here are the problems from your practice midterm designs. Please work on these before the exam on Thursday. I might select some problems to put on the actual exam!"
   ]
  },
  {
   "cell_type": "code",
   "execution_count": null,
   "id": "792db53c-7004-473c-87ae-f0412ea50ca4",
   "metadata": {
    "tags": []
   },
   "outputs": [],
   "source": [
    "import numpy as np\n",
    "import pandas as pd"
   ]
  },
  {
   "cell_type": "markdown",
   "id": "c1c28bc7-7988-4b90-b078-368cf0d95500",
   "metadata": {},
   "source": [
    "#### **Problem**: \n",
    "Given the dataframe below, where each inventory item has a color and a number of those colored objects, assume that these all exist in a box which you can reach into to randomly select. What is the probability that you'll pick out a purple umbrella? "
   ]
  },
  {
   "cell_type": "code",
   "execution_count": null,
   "id": "b3f9a1dc-a3ab-4aa3-bfbb-ad39fe78cc2d",
   "metadata": {
    "tags": []
   },
   "outputs": [],
   "source": [
    "df = pd.DataFrame({'Object': ['shoes','shoes', 'umbrella', 'umbrella', 'umbrella' ,'shirt', 'shirt' ], 'Color': ['yellow', 'blue', 'red', 'blue', 'purple', 'yellow', 'green'], 'Count': [12, 20, 15, 22, 13, 17, 21]})\n",
    "df"
   ]
  },
  {
   "cell_type": "code",
   "execution_count": null,
   "id": "418d9ffd-f116-4eaf-b8a2-bb89e8843db4",
   "metadata": {},
   "outputs": [],
   "source": []
  },
  {
   "cell_type": "markdown",
   "id": "5567903c-b5ee-4231-b9ef-fb18650704bf",
   "metadata": {},
   "source": [
    "#### **Problem**\n",
    "Convert 1.234 to a string. "
   ]
  },
  {
   "cell_type": "code",
   "execution_count": null,
   "id": "84121e3b-d34d-4c41-a688-77e881f7a839",
   "metadata": {},
   "outputs": [],
   "source": []
  },
  {
   "cell_type": "markdown",
   "id": "db7bea3e-d6a9-453e-b041-daa336203c48",
   "metadata": {},
   "source": [
    "#### **Problem**: \n",
    "Write a simulation for rolling a fair dice 5000 times to estimate the probability of rolling a 3 using numpy random module."
   ]
  },
  {
   "cell_type": "code",
   "execution_count": null,
   "id": "80e527fb-9096-416f-ab0c-c17ce795f595",
   "metadata": {},
   "outputs": [],
   "source": []
  },
  {
   "cell_type": "markdown",
   "id": "d648e3b2-adb9-4458-af81-2706172301fc",
   "metadata": {},
   "source": [
    "#### **Problem**: \n",
    "Use list comprehension and the provided veggies list to return a list of veggies in all capital letters that are greater than 5 characters in length. Next, use a for loop to return a list of veggies from the provided list that are less than or equal to 5 characters in length and sort in descending alphabetical order."
   ]
  },
  {
   "cell_type": "code",
   "execution_count": null,
   "id": "bca8afd4-33f4-4f4c-b7d1-73e1e239a058",
   "metadata": {
    "tags": []
   },
   "outputs": [],
   "source": [
    "veggies = ['tomato', 'lettuce', 'carrot', 'chard', 'beet', 'potato', 'squash', 'onion', 'turnip', 'cucumber', 'bean']"
   ]
  },
  {
   "cell_type": "code",
   "execution_count": null,
   "id": "316b4fd5-ecb7-4fc8-be70-9632a115ed41",
   "metadata": {},
   "outputs": [],
   "source": [
    "# List comprehension here"
   ]
  },
  {
   "cell_type": "code",
   "execution_count": null,
   "id": "43bd2bf9-6dc1-4daa-942d-4a6df436c3a7",
   "metadata": {
    "tags": []
   },
   "outputs": [],
   "source": [
    "# For loop here"
   ]
  },
  {
   "cell_type": "markdown",
   "id": "92118133-e219-4aba-a97a-d78afa8b18e7",
   "metadata": {},
   "source": [
    "#### **Problem**: \n",
    "Find the average of the T3 Free value below."
   ]
  },
  {
   "cell_type": "code",
   "execution_count": null,
   "id": "7fd2a78f-05d1-49d8-b303-217ae970af7b",
   "metadata": {
    "tags": []
   },
   "outputs": [],
   "source": [
    "mydata=pd.DataFrame(\n",
    "    {\n",
    "    't3_free' : [4.8, 5.1, 4.6],\n",
    "    'date' : ['07/15/2022', '08/19/2019', '03/09/2024'],\n",
    "    }, \n",
    "   \n",
    ")"
   ]
  },
  {
   "cell_type": "markdown",
   "id": "7938ef36-4ced-44fb-8f30-9f43c10f7d32",
   "metadata": {},
   "source": [
    "#### **Problem**: \n",
    "The evil data scientist has returned!! They demand that you create a pandas dataframe with the following contents:\n",
    "```\n",
    "[ 1, 2, 3 ]\n",
    "[ 4, 5, 6 ]\n",
    "[ 7, 8, 9 ]\n",
    "```"
   ]
  },
  {
   "cell_type": "markdown",
   "id": "554d29ca-c9a8-4585-8205-fef2d8543881",
   "metadata": {},
   "source": [
    "#### **Problem**: \n",
    "You are working on a text processing application that needs to extract all the dates from a given string. Write a Python function using regular expression to find and return a list of all valid dates in the format MM/DD/YYYY or DD-MM-YYYY."
   ]
  },
  {
   "cell_type": "code",
   "execution_count": null,
   "id": "d1c61336-ec56-48da-8329-f8418d401bdf",
   "metadata": {
    "tags": []
   },
   "outputs": [],
   "source": [
    "text = \"Important dates are 03/22/1995, 08/25/1999, and 28-06-2020.\""
   ]
  },
  {
   "cell_type": "markdown",
   "id": "b1223821-0fca-4888-959e-835827541513",
   "metadata": {},
   "source": [
    "#### **Problem**: \n",
    "Create a 1D array [1,2,3,4,5,6,7,8,9,10,11,12,13,14,15,16,17,18,19,20] and rearrange it into a 2D array with 4 rows."
   ]
  },
  {
   "cell_type": "code",
   "execution_count": null,
   "id": "93bf9ba6-d9ad-4b46-9c2d-b44ea969bd3b",
   "metadata": {
    "tags": []
   },
   "outputs": [],
   "source": [
    "flat_array = ...\n",
    "layered_array = ..."
   ]
  },
  {
   "cell_type": "markdown",
   "id": "c1e85c6c-a414-4a0e-bd4e-9c6c5447fb7a",
   "metadata": {},
   "source": [
    "#### **Problem**: \n",
    "A pangram is a phrase that contains every letter of the alphabet at least once. A popular example is \"the quick brown fox jumps over the lazy dog.\" Lesser known pangrams include \"sphinx of black quartz, judge my vow\" and \"pack my box with five dozen liquor jugs.\" Use regular expressions to write a function that checks whether a phrase is a pangram. The function should return `True` or `False`."
   ]
  },
  {
   "cell_type": "code",
   "execution_count": null,
   "id": "a8ac4c5b-eb33-4bef-b191-705a5e7746a7",
   "metadata": {},
   "outputs": [],
   "source": []
  },
  {
   "cell_type": "markdown",
   "id": "d80eab27-8f54-4cc5-b174-7e60f99957fc",
   "metadata": {},
   "source": [
    "#### **Problem**: \n",
    "Create an array `array`, \\begin{bmatrix}\n",
    "2 & 7 & 8 & 10 & 11\\\\\n",
    "5 & 12 & 15 & 9 & 20\\\\\n",
    "21 & 30 & 22 & 29 & 0\n",
    "\\end{bmatrix}"
   ]
  },
  {
   "cell_type": "code",
   "execution_count": null,
   "id": "ae583ec4-ce50-4948-96bc-718fab3f26f7",
   "metadata": {
    "tags": []
   },
   "outputs": [],
   "source": [
    "array = ..."
   ]
  },
  {
   "cell_type": "markdown",
   "id": "33a6f71c-e357-4331-8c87-87a35c992578",
   "metadata": {},
   "source": [
    "#### **Problem**: \n",
    "Use boolean masking to extract all the numbers from `array` that are divisible by 4."
   ]
  },
  {
   "cell_type": "code",
   "execution_count": null,
   "id": "3f847cd7-72cb-4947-ad8e-590e7ef1bf85",
   "metadata": {},
   "outputs": [],
   "source": []
  },
  {
   "cell_type": "markdown",
   "id": "2180cab9-7603-494a-933c-2aa1e76ea638",
   "metadata": {},
   "source": [
    "#### **Problem**: \n",
    "Use regex and lambda to fix the errors in the string below. \n",
    "```python\n",
    "\"Yesterday i bought a banana. today i bought a apple. tomorrow i will buy a orange.\"\n",
    "```\n",
    "\n",
    "(Make sure the word I is always capitalized, the word a becomes an if the next word starts with a vowel, and the first character in a sentence is capitalized) The corrected sentence should be \n",
    "```python\n",
    "\"Yesterday I bought a banana. Today I bought an apple. Tomorrow I will buy an orange.\"\n",
    "```\n",
    "\n",
    "You may need several lines of code."
   ]
  },
  {
   "cell_type": "code",
   "execution_count": null,
   "id": "0d78f168-8ba8-4c49-8698-096704827248",
   "metadata": {},
   "outputs": [],
   "source": [
    "fix_string = \"Yesterday i bought a banana. today i bought a apple. tomorrow i will buy a orange.\"\n",
    "fix_string = ...\n",
    "fix_string = ...\n",
    "fix_string = ...\n",
    "fix_string"
   ]
  },
  {
   "cell_type": "markdown",
   "id": "be77dddc-fb72-467e-aa9d-e30fcc2e737a",
   "metadata": {},
   "source": [
    "#### **Problem**: \n",
    "The synopsis for The Empress of Salt and Fortune by Nghi Vo is given. Use regex and dictionary comprehension to extract a count of each vowel. Your output should be a dictionary where each key is a vowel and each value is the number of times that vowel occured in the synopsis. "
   ]
  },
  {
   "cell_type": "code",
   "execution_count": null,
   "id": "7318a064-4e77-4517-a7ab-075b8fc5cee9",
   "metadata": {
    "tags": []
   },
   "outputs": [],
   "source": [
    "synopsis = \"\"\"A young royal from the far north is sent south for a political marriage\n",
    "            in an empire reminiscent of imperial China. Her brothers are dead, \n",
    "            her armies and their war mammoths long defeated and caged behind their borders. \n",
    "            Alone and sometimes reviled, she must choose her allies carefully. Rabbit, a handmaiden, \n",
    "            sold by her parents to the palace for the lack of five baskets of dye, befriends the emperor's \n",
    "            lonely new wife and gets more than she bargained for. At once feminist high fantasy and an \n",
    "            indictment of monarchy, this evocative debut follows the rise of the empress In-yo, who \n",
    "            has few resources and fewer friends. She's a northern daughter in a mage-made summer exile, \n",
    "            but she will bend history to her will and bring down her enemies, piece by piece.\"\"\""
   ]
  },
  {
   "cell_type": "code",
   "execution_count": null,
   "id": "73700c1e-90b4-48c2-be4a-65b441f8244c",
   "metadata": {},
   "outputs": [],
   "source": []
  },
  {
   "cell_type": "markdown",
   "id": "835b006e-5a6e-4873-82de-de6443e8a604",
   "metadata": {},
   "source": [
    "#### **Problem**: \n",
    "You are given a 5×5 NumPy array filled with random integers between 10 and 50. Perform the following operations:\n",
    "\n",
    "- Replace all even numbers in the array with -1.\n",
    "\n",
    "- Compute the row-wise sum of the modified array."
   ]
  },
  {
   "cell_type": "code",
   "execution_count": null,
   "id": "d27a19d8-e7a3-4cf6-83f8-d4bd8d877afc",
   "metadata": {
    "tags": []
   },
   "outputs": [],
   "source": [
    "np.random.seed(42)  # For reproducibility\n",
    "arr = np.random.randint(10, 50, (5, 5))\n",
    "arr"
   ]
  },
  {
   "cell_type": "code",
   "execution_count": null,
   "id": "1deac985-8ad2-4890-a3e9-55411f94c5a4",
   "metadata": {},
   "outputs": [],
   "source": []
  },
  {
   "cell_type": "markdown",
   "id": "9c6f0067-8472-4236-a708-15e10f27b6c7",
   "metadata": {},
   "source": [
    "#### **Problem** \n",
    "A friend has asked you for help answering some questions about their personal library. They have sent over a csv of all the books in their personal library and their questions.\n",
    "\n",
    "data: `bookdata.csv`\n",
    "\n",
    "Questions:\n",
    "\n",
    "1. How many unique books do they have?\n",
    "2. What author do they have the most books from?\n",
    "3. How many books in their library have they read?"
   ]
  },
  {
   "cell_type": "code",
   "execution_count": null,
   "id": "5cb63abb-9d84-49f6-8bb3-9e08bbeac41d",
   "metadata": {
    "tags": []
   },
   "outputs": [],
   "source": [
    "# Import the data here"
   ]
  },
  {
   "cell_type": "markdown",
   "id": "e6e3d9da-5ca3-4d33-909a-01e0ee34419b",
   "metadata": {},
   "source": [
    "**(a)** Your friend has a much bigger library than you thought and sent you a big file! You realize you need to know all the column headers to answer their questions. \n",
    "\n",
    "Write code to make a list containing the only the column headers then make a subset of the data with columns relevant to answering your friends questions."
   ]
  },
  {
   "cell_type": "code",
   "execution_count": null,
   "id": "cb1c1d2e-d625-4541-9dda-14d7db6ca83d",
   "metadata": {},
   "outputs": [],
   "source": []
  },
  {
   "cell_type": "markdown",
   "id": "1e83220e-47a3-4978-956e-f3274d425947",
   "metadata": {},
   "source": [
    "**(b)** Write code to answer your friends questions\n",
    "1. How many unique books do they have?\n",
    "2. What author do they have the most books from?\n",
    "3. How many books in their library have they read?\n",
    "\n",
    "Assign answers to `unique_books`, `author_name`, and `number_read`"
   ]
  },
  {
   "cell_type": "code",
   "execution_count": null,
   "id": "cbe0fa59-9241-49db-a52f-7b606c3fa258",
   "metadata": {},
   "outputs": [],
   "source": [
    "unique_books = ..."
   ]
  },
  {
   "cell_type": "code",
   "execution_count": null,
   "id": "6714c5d4-193b-4006-97d9-65cc2868f7fa",
   "metadata": {},
   "outputs": [],
   "source": [
    "author_name = ..."
   ]
  },
  {
   "cell_type": "code",
   "execution_count": null,
   "id": "22e64773-46ab-432a-8c4b-607ed9418460",
   "metadata": {},
   "outputs": [],
   "source": [
    "number_read = ..."
   ]
  },
  {
   "cell_type": "markdown",
   "id": "78e91988-3878-4e8b-8945-931dd8d4acbc",
   "metadata": {},
   "source": [
    "#### **Problem:** \n",
    "Import the survey data below and answer the following questions."
   ]
  },
  {
   "cell_type": "code",
   "execution_count": null,
   "id": "1102f255-1fec-43ea-acb6-f4eb4acadeb8",
   "metadata": {
    "tags": []
   },
   "outputs": [],
   "source": [
    "df = pd.read_excel('Data271_DTD.xlsx')\n",
    "df.head(2)"
   ]
  },
  {
   "cell_type": "markdown",
   "id": "84dec761-86bc-4ef5-8c35-f94a95d80392",
   "metadata": {},
   "source": [
    "**(a)** First extract salaries in USD. "
   ]
  },
  {
   "cell_type": "code",
   "execution_count": null,
   "id": "c744495c-61ef-43d3-85c3-5c0f4bd5ff60",
   "metadata": {},
   "outputs": [],
   "source": []
  },
  {
   "cell_type": "markdown",
   "id": "532ee563-ca91-4975-9cf8-d9f835815f66",
   "metadata": {},
   "source": [
    "**(b)** Find the mean, median, and standard deviation of the USD salaries."
   ]
  },
  {
   "cell_type": "code",
   "execution_count": null,
   "id": "882c0830-65a7-4dc9-bbdc-741db83c78c5",
   "metadata": {},
   "outputs": [],
   "source": []
  },
  {
   "cell_type": "markdown",
   "id": "27268e4a-f862-4b6c-a120-48ce71ea8e5c",
   "metadata": {},
   "source": [
    "**(c)** Although this gives us the numerical values we need, we don't quite know where they are coming from. Extract the salries once more; however, this time extract them with their respective job titles."
   ]
  },
  {
   "cell_type": "code",
   "execution_count": null,
   "id": "b1eb1b71-0501-4c71-a3f5-2a8d468cc1f1",
   "metadata": {},
   "outputs": [],
   "source": []
  },
  {
   "cell_type": "markdown",
   "id": "5a70fe64-5020-434b-8429-7f80de154f73",
   "metadata": {},
   "source": [
    "**(d)** In the original dataset, what is the average salary by educational level?"
   ]
  },
  {
   "cell_type": "code",
   "execution_count": null,
   "id": "eec107e8-d3dc-4302-bb9e-817a2d12106d",
   "metadata": {},
   "outputs": [],
   "source": []
  },
  {
   "cell_type": "markdown",
   "id": "a30e39f4-6531-427e-a12e-880097c3b1d3",
   "metadata": {},
   "source": [
    "**(e)** Can you find out the average salary per state? "
   ]
  },
  {
   "cell_type": "code",
   "execution_count": null,
   "id": "2b3ce496-edb5-414c-8e61-1d9550116288",
   "metadata": {},
   "outputs": [],
   "source": []
  },
  {
   "cell_type": "markdown",
   "id": "d8776e68-4b1a-4eb6-896c-22a96d54d669",
   "metadata": {},
   "source": [
    "**(f)** What is the state with the highest average salary?"
   ]
  },
  {
   "cell_type": "code",
   "execution_count": null,
   "id": "621614b8-eb9c-40d7-bb66-7deef7d38785",
   "metadata": {},
   "outputs": [],
   "source": []
  },
  {
   "cell_type": "markdown",
   "id": "ad8c78ae-63b8-413c-9898-011e96beb82b",
   "metadata": {},
   "source": [
    "#### **Problem**: \n",
    "Get Ready for Data\n",
    "\n",
    "...of the reef survey kind! Prepare to investigate Reef Check California (https://www.reefcheck.org/). \n",
    "\n",
    "\n",
    "Data Source: (https://opc.dataone.org/view/doi:10.25494/P69885)"
   ]
  },
  {
   "cell_type": "markdown",
   "id": "0513b78a-c71c-432f-aca5-a563673af9bd",
   "metadata": {},
   "source": [
    "**(a)** You don't know what you kind of data types you will encounter, so import two python modules to assist in your data wranglin'!**"
   ]
  },
  {
   "cell_type": "code",
   "execution_count": null,
   "id": "1aebe395-ccc3-48df-b8dd-ca8a46c0c9de",
   "metadata": {},
   "outputs": [],
   "source": []
  },
  {
   "cell_type": "markdown",
   "id": "528f9c20-2346-4662-8952-da37a100079f",
   "metadata": {},
   "source": [
    "**(b)** Assign `invsw` to a pandas data frame from the csv file `RCCA_invertebrate_swath_data.csv`. Reveal only the first 5 rows."
   ]
  },
  {
   "cell_type": "code",
   "execution_count": null,
   "id": "31fc07a0-cfd0-46de-a5a8-f043df82e2ad",
   "metadata": {},
   "outputs": [],
   "source": [
    "invsw = ..."
   ]
  },
  {
   "cell_type": "markdown",
   "id": "2f6dc9aa-ad4e-4aca-a0a4-d7d571e18b34",
   "metadata": {},
   "source": [
    "**(c)** What is the size of the dataframe, and what kind of data do they contain? (Don't need to explain, just reveal the information)"
   ]
  },
  {
   "cell_type": "code",
   "execution_count": null,
   "id": "0057929e-f409-4dbf-809d-5b092aca9323",
   "metadata": {},
   "outputs": [],
   "source": []
  },
  {
   "cell_type": "markdown",
   "id": "cc3458f0-e389-47de-8ff7-d0d622b3a993",
   "metadata": {},
   "source": [
    "**(d)** Wow! Thats a lot of information. I'm really only interested in Northern California, near abouts Fort Bragg. The region of interest starts at 39.125deg N, and ends at around 39.573deg N.**\n",
    "\n",
    "Filter the datatable to only include entries in the described range\n",
    "Assign this datatable to `ftbgg`."
   ]
  },
  {
   "cell_type": "code",
   "execution_count": null,
   "id": "11257230-ea06-463f-b035-3bbc9a8bc55d",
   "metadata": {},
   "outputs": [],
   "source": []
  },
  {
   "cell_type": "markdown",
   "id": "3e47f618-c00a-4154-bd66-e95e382981fb",
   "metadata": {},
   "source": [
    "**(e)** Check the minimum and maximum of the latitudes in the new dataset to ensure your code worked (many options)"
   ]
  },
  {
   "cell_type": "code",
   "execution_count": null,
   "id": "9036663c-567c-4523-92c1-9547d53aaa37",
   "metadata": {},
   "outputs": [],
   "source": []
  },
  {
   "cell_type": "markdown",
   "id": "a633b490-c11b-42d7-80dd-a937cad24726",
   "metadata": {},
   "source": [
    "**(f)** Sort the dataframe by decreasing latitude, so it is in order from North to South. Reassign this to `ftbrgg`."
   ]
  },
  {
   "cell_type": "code",
   "execution_count": null,
   "id": "cdce4fe2-311d-48b3-8222-ba880398eae6",
   "metadata": {},
   "outputs": [],
   "source": []
  },
  {
   "cell_type": "markdown",
   "id": "ec21e278-3bbf-4979-9824-700d02f31e56",
   "metadata": {},
   "source": [
    "**(g)** Identify the different sites we are investigating."
   ]
  },
  {
   "cell_type": "code",
   "execution_count": null,
   "id": "3a55ef70-998a-4084-8a9d-1ae465e06768",
   "metadata": {},
   "outputs": [],
   "source": []
  },
  {
   "cell_type": "markdown",
   "id": "63b11559-ceae-468d-aa00-055b17c17388",
   "metadata": {},
   "source": [
    "**(h)** Set the index to Site. \n",
    "Assign this to `bgg`"
   ]
  },
  {
   "cell_type": "code",
   "execution_count": null,
   "id": "a4672172-0d0f-4553-b40d-c9cee35311a6",
   "metadata": {},
   "outputs": [],
   "source": []
  },
  {
   "cell_type": "markdown",
   "id": "a300b967-17fc-43df-8cfb-63aa9c6b7950",
   "metadata": {},
   "source": [
    "**(i)** Get rid of the rows where the amount of that particular species is 0.0. Make sure this changes the original table (multiple methods)."
   ]
  },
  {
   "cell_type": "code",
   "execution_count": null,
   "id": "914762f1-3c7e-472d-af60-789e365ac854",
   "metadata": {},
   "outputs": [],
   "source": []
  },
  {
   "cell_type": "markdown",
   "id": "3a037969-9661-49f2-b59c-b1357feef00d",
   "metadata": {},
   "source": [
    "**(j)** Find all Caspar Cove surveys _(Hint: remember to check the site name(s) from part gg above)_. Group by Year and Classcode to find the sum of the species. Assign this to `cspr`"
   ]
  },
  {
   "cell_type": "code",
   "execution_count": null,
   "id": "65c86d2a-4e41-45c7-bb1b-ca12912a7cc1",
   "metadata": {},
   "outputs": [],
   "source": []
  },
  {
   "cell_type": "markdown",
   "id": "b8452909-d275-4143-8be1-f14adf46ed39",
   "metadata": {},
   "source": [
    "**(k)** Find how many unique species are in `cspr`."
   ]
  },
  {
   "cell_type": "code",
   "execution_count": null,
   "id": "e503472c-b688-4b13-bcaa-f4506a8c2707",
   "metadata": {},
   "outputs": [],
   "source": []
  },
  {
   "cell_type": "markdown",
   "id": "ef0977ac-9263-4cef-aba6-1b7b5c208867",
   "metadata": {},
   "source": [
    "**(l)** Select the rows that contain any urchins or anemones using regex and present the dataframe, name it `urchab`. Then find the unique species present at Caspar over the years"
   ]
  },
  {
   "cell_type": "code",
   "execution_count": null,
   "id": "1c4e8971-9ea6-4c20-83fd-96a5bf2a0b2b",
   "metadata": {},
   "outputs": [],
   "source": []
  }
 ],
 "metadata": {
  "kernelspec": {
   "display_name": "Python 3 (ipykernel)",
   "language": "python",
   "name": "python3"
  },
  "language_info": {
   "codemirror_mode": {
    "name": "ipython",
    "version": 3
   },
   "file_extension": ".py",
   "mimetype": "text/x-python",
   "name": "python",
   "nbconvert_exporter": "python",
   "pygments_lexer": "ipython3",
   "version": "3.11.4"
  }
 },
 "nbformat": 4,
 "nbformat_minor": 5
}
