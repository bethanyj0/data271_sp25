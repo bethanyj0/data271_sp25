{
 "cells": [
  {
   "cell_type": "code",
   "execution_count": null,
   "id": "25cbfaf9-a7e6-4742-8e74-97814240d3dd",
   "metadata": {
    "tags": []
   },
   "outputs": [],
   "source": [
    "import pandas as pd\n",
    "import numpy as np\n",
    "import seaborn as sns\n",
    "import matplotlib.pyplot as plt\n",
    "import re"
   ]
  },
  {
   "cell_type": "markdown",
   "id": "b2696492-3248-40a1-b105-f6cad9afd34d",
   "metadata": {},
   "source": [
    "**Question 1**: \n",
    "Using the provided dataset, write code that would calculate the correlation matrix for all the numerical features. Then write code that would create a heatmap to visually represent these correlation"
   ]
  },
  {
   "cell_type": "code",
   "execution_count": null,
   "id": "b289dc1c-2b35-4a9b-a6a0-c9289720ba5d",
   "metadata": {
    "tags": []
   },
   "outputs": [],
   "source": [
    "# Given Code\n",
    "data = {\n",
    "    \"Math_Score\": np.random.randint(50, 100, 50),       \n",
    "    \"Science_Score\": np.random.randint(50, 100, 50),    \n",
    "    \"English_Score\": np.random.randint(50, 100, 50),    \n",
    "    \"Study_Hours\": np.random.randint(1, 10, 50),     \n",
    "    \"Sleep_Hours\": np.random.randint(4, 10, 50)         \n",
    "}\n",
    "\n",
    "df = pd.DataFrame(data)"
   ]
  },
  {
   "cell_type": "code",
   "execution_count": null,
   "id": "a41bbf7c-74e8-4642-be2e-4a603bb3acd2",
   "metadata": {
    "tags": []
   },
   "outputs": [],
   "source": [
    "correlation_matrix = df.corr()\n",
    "sns.heatmap(correlation_matrix, annot=True, cmap=\"plasma\")\n",
    "plt.show()"
   ]
  },
  {
   "cell_type": "markdown",
   "id": "38cc71ff-e4a0-4788-845d-03c770dba8b0",
   "metadata": {},
   "source": [
    "**Question 2:**"
   ]
  },
  {
   "cell_type": "code",
   "execution_count": null,
   "id": "db2b0521-71d0-4db5-b4c6-0b65d796e77d",
   "metadata": {
    "tags": []
   },
   "outputs": [],
   "source": [
    "employee = {\n",
    "    'Employee ID': ['1232', '1343', '1453', '1211', '1225', '1777', '1436'],\n",
    "    'Employee First Name': ['James', 'John', 'Joe', 'Will', 'Mike', 'Tom', 'Mary'],\n",
    "    'Employee Last Name': ['Smith', 'Jones', 'Miller', 'Jackson', 'Lopez', 'Cooper', 'Brown'],\n",
    "    'Date Hired': ['10-31-2023','02-28-2024','01-09-2017','02-01-2020','11-30-2022','01-01-2020','12-25-2019'],\n",
    "    'Employee Type': ['Technician', 'Technician', 'Manager', 'Supervisor', 'Technician', 'Supervisor', 'Manager'],\n",
    "    'Salary': ['30000', '25000', '60000', '45000', '40000', '45000', '55000']\n",
    "}\n",
    "df_empl = pd.DataFrame(employee)\n",
    "df_empl"
   ]
  },
  {
   "cell_type": "markdown",
   "id": "68bf7245-0eda-45b8-b9e0-b8e3c4607a92",
   "metadata": {},
   "source": [
    "a) Using this dataframe first clean the column names (ex employee_id) and make sure the data types are appropriate."
   ]
  },
  {
   "cell_type": "code",
   "execution_count": null,
   "id": "0b18ce8e-4bb8-4f9c-9298-8d44bca18b95",
   "metadata": {
    "tags": []
   },
   "outputs": [],
   "source": [
    "#clean the column names\n",
    "df_empl.columns = df_empl.columns.str.lower().str.replace(' ', '_')\n",
    "\n",
    "#change some of the data types\n",
    "df_empl['date_hired']=pd.to_datetime(df_empl['date_hired'])\n",
    "df_empl=df_empl.astype({'employee_id':int, 'salary':int})\n",
    "df_empl.dtypes"
   ]
  },
  {
   "cell_type": "markdown",
   "id": "1fb818ab-0fcd-46a7-99a4-f70cf79c578b",
   "metadata": {},
   "source": [
    "b) Using your newly cleaned dataframe visualize the average salary for each employee type."
   ]
  },
  {
   "cell_type": "code",
   "execution_count": null,
   "id": "2c117d24-3a2f-4dc5-9b2d-3fc126f5b04b",
   "metadata": {
    "tags": []
   },
   "outputs": [],
   "source": [
    "sns.barplot(data=df_empl, x='employee_type',y='salary')\n",
    "plt.plot()"
   ]
  },
  {
   "cell_type": "markdown",
   "id": "72ec48ad-d938-487b-9dfc-4b4bc2919382",
   "metadata": {},
   "source": [
    "c) Now using pandas find the average salary for each employee type."
   ]
  },
  {
   "cell_type": "code",
   "execution_count": null,
   "id": "f69edfb0-3c4f-44a5-b8a8-11f06b28b9c1",
   "metadata": {
    "tags": []
   },
   "outputs": [],
   "source": [
    "average_salary = df_empl.groupby('employee_type')['salary'].mean()\n",
    "average_salary"
   ]
  },
  {
   "cell_type": "markdown",
   "id": "bb1870ee-0306-44c0-bbb1-1f8929fa7475",
   "metadata": {},
   "source": [
    "**Question 3:**"
   ]
  },
  {
   "cell_type": "markdown",
   "id": "a48ac930-838b-43ce-97b4-218e5bcc4e1d",
   "metadata": {},
   "source": [
    "a) Import seaborn's taxis dataset."
   ]
  },
  {
   "cell_type": "code",
   "execution_count": null,
   "id": "a134c2c5-d6cb-40fc-8f5a-1da981760a41",
   "metadata": {
    "tags": []
   },
   "outputs": [],
   "source": [
    "taxis = sns.load_dataset('taxis')\n",
    "taxis.head()"
   ]
  },
  {
   "cell_type": "markdown",
   "id": "307e2772-33dc-4391-b2d1-a16f8d571be6",
   "metadata": {},
   "source": [
    "b) What are the dimensions of the taxis dataset? What are the column names and data types? Do any of the columns have null values?"
   ]
  },
  {
   "cell_type": "code",
   "execution_count": null,
   "id": "0c71511e-ba9b-4d68-bc6c-627a9f326e3a",
   "metadata": {
    "tags": []
   },
   "outputs": [],
   "source": [
    "taxis.info()"
   ]
  },
  {
   "cell_type": "markdown",
   "id": "b666eab6-09f0-4b2b-bd81-fdea59549609",
   "metadata": {},
   "source": [
    "c) Create a pair plot of the taxis data. "
   ]
  },
  {
   "cell_type": "code",
   "execution_count": null,
   "id": "3c1abc77-b3a2-4b2e-8398-a0c7d23ab574",
   "metadata": {
    "tags": []
   },
   "outputs": [],
   "source": [
    "sns.pairplot(taxis);"
   ]
  },
  {
   "cell_type": "markdown",
   "id": "d1837dad-d213-4da5-a4f1-8aef6369a6b9",
   "metadata": {},
   "source": [
    "d) Create a correlation heat map of the taxis data. Are there any strong correlations between variables in the dataset?"
   ]
  },
  {
   "cell_type": "code",
   "execution_count": null,
   "id": "903dd3df-7bbc-48d3-8f72-b93b415a95dc",
   "metadata": {
    "tags": []
   },
   "outputs": [],
   "source": [
    "corrmat = taxis.corr(numeric_only=True)\n",
    "sns.heatmap(data=corrmat, annot=True);"
   ]
  },
  {
   "cell_type": "markdown",
   "id": "05b683bf-1d4e-4b9f-8d41-5193eac2c86c",
   "metadata": {},
   "source": [
    "There is a strong positive correlation between:\n",
    "- total and distance\n",
    "- total and fare\n",
    "- total and tip\n",
    "- total and tolls\n",
    "- tolls and distance\n",
    "- tolls and fare\n",
    "- distance and fare"
   ]
  },
  {
   "cell_type": "markdown",
   "id": "746ec562-0448-46f3-a2db-b732c911ebf4",
   "metadata": {},
   "source": [
    "**Question 4** "
   ]
  },
  {
   "cell_type": "markdown",
   "id": "cf55b88a-fded-44b8-88ac-5122abaee777",
   "metadata": {},
   "source": [
    "a) What is an API?"
   ]
  },
  {
   "cell_type": "markdown",
   "id": "8a0205fc-b951-413c-a442-99e9b4956d0d",
   "metadata": {},
   "source": [
    "A mechanism that allows two software components to interact with each other, stands for Application Programming Interface."
   ]
  },
  {
   "cell_type": "markdown",
   "id": "14499536-fc69-432c-902a-fc46cafa7830",
   "metadata": {},
   "source": [
    "b) What is the name of the data returned from an API request, typically in JSON format?"
   ]
  },
  {
   "cell_type": "markdown",
   "id": "3a126475-6749-4909-9b76-169da8ffae87",
   "metadata": {},
   "source": [
    "API Payload"
   ]
  },
  {
   "cell_type": "markdown",
   "id": "ed622987-44f7-415d-bb2f-86aef12378c1",
   "metadata": {},
   "source": [
    "**Question 5**"
   ]
  },
  {
   "cell_type": "markdown",
   "id": "4db0cdb3-65be-4cc3-ba68-198ad36440fd",
   "metadata": {},
   "source": [
    "a) Import the excel file \"SciDiv_Casper_Fall_24.xlsx\" into a pandas dataframe called ```survey_df```. Display the *first 3 rows.***"
   ]
  },
  {
   "cell_type": "code",
   "execution_count": null,
   "id": "16b671bd-cbc5-454a-82ef-142673088619",
   "metadata": {
    "tags": []
   },
   "outputs": [],
   "source": [
    "survey_df = pd.read_excel('SciDiv_Caspar_Fall_24.xlsx')\n",
    "survey_df.head(3)"
   ]
  },
  {
   "cell_type": "markdown",
   "id": "4f371056-3236-43aa-a14d-c777b6c4e36e",
   "metadata": {},
   "source": [
    "b) You will be performing an intial EDA to determine what changed should be made to this dataset to get it into a workable format. \n",
    "\n",
    "Get the general (i) *information* and (ii) *descriptions* of the dataset attributes and variables. Write what you learned from each in a markdown column. No more than 3 sentences each."
   ]
  },
  {
   "cell_type": "code",
   "execution_count": null,
   "id": "c39eafef-dc74-479c-907a-617fd86299be",
   "metadata": {
    "tags": []
   },
   "outputs": [],
   "source": [
    "# i \n",
    "survey_df.info()"
   ]
  },
  {
   "cell_type": "markdown",
   "id": "9b9019a5-b8ff-4113-957e-7dd4809cffa5",
   "metadata": {},
   "source": [
    "There are 462 rows and 23 columns. Only the columns Heading.., UPC Meter Mark..., Relief, Count, and Count.1 are floats, the rests are objects. There are two duplicate column names: 'Distance (m)' and 'Distance (m).1', and 'Count' and 'Count.1'."
   ]
  },
  {
   "cell_type": "code",
   "execution_count": null,
   "id": "220ca253-626a-4e76-a3ee-b8920d731b59",
   "metadata": {
    "tags": []
   },
   "outputs": [],
   "source": [
    "#ii\n",
    "survey_df.describe()"
   ]
  },
  {
   "cell_type": "markdown",
   "id": "39f1baeb-865c-49a4-a48e-acb45e297ed3",
   "metadata": {},
   "source": [
    "As discussed in i, there are only 5 columns with numeric values, so we can only get that information. Count and Count.1 are not duplicate columns, even with their duplicate names. Must represent different values."
   ]
  },
  {
   "cell_type": "markdown",
   "id": "9689951b-35fe-4590-ba5b-bcabf857b028",
   "metadata": {},
   "source": [
    "c) Look at the columns of the dataframe. What columns are representing values that would be better evaluated numerically?**\n",
    "\n",
    "In a markdown cell, list 5 columns that would be better represented as floats or integers."
   ]
  },
  {
   "cell_type": "markdown",
   "id": "bb9aac02-a3ad-45b0-9a5c-4f47949fb9bc",
   "metadata": {
    "tags": []
   },
   "source": [
    "5 columns that would be better represented as a float or integer are:\n",
    "1. Start Depth (ft)\n",
    "2. End Depth (ft)\n",
    "3. Size (mm)\n",
    "4. Distance (m)\n",
    "5. Distance (m).1"
   ]
  },
  {
   "cell_type": "markdown",
   "id": "8b59b22e-de21-4339-98ff-4c5b78186b30",
   "metadata": {},
   "source": [
    "d) The Hard Part! *Create a function that will convert the given columns of a dataframe to numerical equivalents using regex. Assign this to*** ```survey_df```.\n",
    "\n",
    "*Hint 1: Initial set up: ```def function(dataframe, list_of_columns):``` is a sound method to perform this task.*  \n",
    "*Hint 2: Don't forget to account for numbers with a decimal and numbers without!*  \n",
    "*Hint 3: Depending on how you build your function, it will either update the dataframe you enter, or create a new one.*"
   ]
  },
  {
   "cell_type": "code",
   "execution_count": null,
   "id": "9f0e729a-21a1-452c-916b-b52a36fd5ddc",
   "metadata": {
    "tags": []
   },
   "outputs": [],
   "source": [
    "def dataconversion(dataframe_orig, list_of_columns):\n",
    "    dataframe = dataframe_orig.copy()\n",
    "    num_floats = {}\n",
    "    for column in list_of_columns:\n",
    "        string_list = list(dataframe[column])\n",
    "        num_regex = r'[\\d]+\\.[\\d]+|[\\d]+'\n",
    "        \n",
    "        num_string = []\n",
    "        for i in string_list:\n",
    "            if pd.isna(i):\n",
    "                num_string.append(np.nan)\n",
    "            elif type(i)==int:\n",
    "                num_string.append(float(i))\n",
    "            elif type(i)==float:\n",
    "                num_string.append(i)\n",
    "            else:\n",
    "                found = re.findall(num_regex, str(i))\n",
    "                if found:\n",
    "                    num_string.append(float(found[0]))\n",
    "                else: \n",
    "                    num_string.append(np.nan)\n",
    "        dataframe[column] = num_string\n",
    "    return dataframe\n",
    "\n",
    "\n",
    "columns_to_change = ['Visibility', 'Start Depth (ft)', 'End Depth (ft)','Size (mm)', 'Distance (m)','Distance (m).1',]\n",
    "\n",
    "survey_df = dataconversion(survey_df,columns_to_change)\n",
    "survey_df"
   ]
  },
  {
   "cell_type": "markdown",
   "id": "5c27fee4-68f9-472b-b233-c6d54d937eb9",
   "metadata": {},
   "source": [
    "**Question 6:** What are the 7 components of a graph and what do they mean?"
   ]
  },
  {
   "cell_type": "markdown",
   "id": "847ee82f-a0af-4185-a5d2-7d3644c1bb10",
   "metadata": {},
   "source": [
    "Data: the data that fills the graph  \n",
    "Aesthetic mappings: The variables assigned to the axes of the graph  \n",
    "Scales: controls mapping data to aesthetic attributes. allows for visualization of continuous or categorical values.  \n",
    "Geometric objects: control the type of plot you create. This is the type of visualization you use, points, bars, lines, etc.  \n",
    "Statistical transformations: How the data is being summerized in the graph, sum, bin, density, etc.  \n",
    "Facets: The number of subplots on your graph. Each subplot can contain a unqiue chart.  \n",
    "Coordinate system: The numerical mapping of your data to the axes such as Cartesian."
   ]
  },
  {
   "cell_type": "markdown",
   "id": "04b3cc4a-6be0-4701-a072-85ad563066a8",
   "metadata": {},
   "source": [
    "**Question 7:**"
   ]
  },
  {
   "cell_type": "markdown",
   "id": "5bd159be-74de-4d5c-9005-fd50debaf451",
   "metadata": {
    "tags": []
   },
   "source": [
    "[The Cat API](https://thecatapi.com/) is a free to use API for cat images and other information. Read through the documentation to answer the questions below. You do not need to create an account in order to answer the following questions! Make sure to run the import cell below."
   ]
  },
  {
   "cell_type": "code",
   "execution_count": null,
   "id": "647e8f75-9472-419a-83df-5795fe1b4611",
   "metadata": {
    "tags": []
   },
   "outputs": [],
   "source": [
    "import requests\n",
    "from IPython.display import Image, display"
   ]
  },
  {
   "cell_type": "markdown",
   "id": "876c124b-a810-4c47-80ee-b01ff79bfeaa",
   "metadata": {},
   "source": [
    "(a) What is the base url for API requests for TheCatAPI? Assign it to `cat_base_url`"
   ]
  },
  {
   "cell_type": "code",
   "execution_count": null,
   "id": "db3ef0a6-6559-4a0c-bc50-9c9bb2ab5236",
   "metadata": {
    "tags": []
   },
   "outputs": [],
   "source": [
    "cat_base_url = 'https://api.thecatapi.com/v1'"
   ]
  },
  {
   "cell_type": "markdown",
   "id": "19bc374e-0109-4a11-81cd-d983a4d9fb61",
   "metadata": {},
   "source": [
    "(b) Create the URL to request 10 random cat images, assign it to `cat_images_url`"
   ]
  },
  {
   "cell_type": "code",
   "execution_count": null,
   "id": "8bb34a63-52ea-43a6-acdf-80c6a31b35eb",
   "metadata": {
    "tags": []
   },
   "outputs": [],
   "source": [
    "cat_images_url = 'https://api.thecatapi.com/v1/images/search?limit=10'"
   ]
  },
  {
   "cell_type": "markdown",
   "id": "1fd8f289-b102-4a7b-aa06-9db4f4f4371f",
   "metadata": {},
   "source": [
    "(c) Send an API request using your URl, assign it to `cat_response`. Assign the payload to `cat_payload`"
   ]
  },
  {
   "cell_type": "code",
   "execution_count": null,
   "id": "d528a435-93d1-43ed-a5fe-af2d3c3ffc2b",
   "metadata": {
    "tags": []
   },
   "outputs": [],
   "source": [
    "cat_response = requests.get(cat_images_url)\n",
    "cat_payload = cat_response.json()"
   ]
  },
  {
   "cell_type": "markdown",
   "id": "72d25add-97b1-4ead-a51d-e68dd47e1db5",
   "metadata": {},
   "source": [
    "(d) Inspect your `cat_payload`, what type of data structure is it? Choose an answer from below and assign it to `data_type`:\n",
    "\n",
    "1. list of strings\n",
    "2. dictionary of lists\n",
    "3. list of lists\n",
    "4. list of dictionaries"
   ]
  },
  {
   "cell_type": "code",
   "execution_count": null,
   "id": "96f8d1cf-69a1-4240-a7b8-9b8c81d90991",
   "metadata": {
    "tags": []
   },
   "outputs": [],
   "source": [
    "data_type = 4"
   ]
  },
  {
   "cell_type": "markdown",
   "id": "70f12ad6-dc1e-4233-8bd7-332378478068",
   "metadata": {},
   "source": [
    "(e) Using an appropriate method, assign all the urls from your API request to `cat_images`"
   ]
  },
  {
   "cell_type": "code",
   "execution_count": null,
   "id": "c3aadd9c-1685-4c54-9d8e-1b820a2ce3e3",
   "metadata": {
    "tags": []
   },
   "outputs": [],
   "source": [
    "cat_images = [x['url'] for x in cat_payload]"
   ]
  },
  {
   "cell_type": "markdown",
   "id": "9a446b56-6824-435d-98f6-f963726f9e54",
   "metadata": {},
   "source": [
    "(f) View your cats! Create a function called `cat_gallery` that will use the urls stored in `cat_images` to display your cat images. \n",
    "Use `display(Image(url=url_string))` within your function to produce images in your output. \n",
    "*Hint:  You should return nothing at the end of your function*"
   ]
  },
  {
   "cell_type": "code",
   "execution_count": null,
   "id": "bcc60a79-d8dc-4bfc-b6ed-60f8a86ff76f",
   "metadata": {
    "tags": []
   },
   "outputs": [],
   "source": [
    "def cat_gallery(a_list):\n",
    "    for url_string in a_list:\n",
    "        display(Image(url=url_string))\n",
    "    return\n",
    "cat_gallery(cat_images)"
   ]
  },
  {
   "cell_type": "markdown",
   "id": "6ca3f248-0e20-4fa2-8d5d-d38dc2d316c3",
   "metadata": {},
   "source": [
    "**Question 8**"
   ]
  },
  {
   "cell_type": "markdown",
   "id": "397b232b-d45a-4e97-957a-22b1b957cbd5",
   "metadata": {},
   "source": [
    "Go to this [Star Wars API website](https://swapi.dev) and find the base URL to request Star Wars data."
   ]
  },
  {
   "cell_type": "code",
   "execution_count": null,
   "id": "a5cd34c4-c15d-4614-9ad1-c5b4db9ca762",
   "metadata": {
    "tags": []
   },
   "outputs": [],
   "source": [
    "base_url = 'https://swapi.dev/api'"
   ]
  },
  {
   "cell_type": "markdown",
   "id": "f2135ecf-298d-4e02-88f9-015f812bd578",
   "metadata": {},
   "source": [
    "You want to find out how to access information on starships, what endpoint URL should you use?"
   ]
  },
  {
   "cell_type": "code",
   "execution_count": null,
   "id": "3bd34fe3-c859-4b6c-b956-a6260e430db3",
   "metadata": {
    "tags": []
   },
   "outputs": [],
   "source": [
    "endpoint = '/starships/'"
   ]
  },
  {
   "cell_type": "markdown",
   "id": "76950859-710a-4712-ad01-f5b97aa09c6d",
   "metadata": {},
   "source": [
    "Use the base URL and endpoint to get the json payload of starships"
   ]
  },
  {
   "cell_type": "code",
   "execution_count": null,
   "id": "5fc2e1dd-36d0-49b7-8d35-1c96bbe0e467",
   "metadata": {
    "scrolled": true,
    "tags": []
   },
   "outputs": [],
   "source": [
    "url = base_url+endpoint"
   ]
  },
  {
   "cell_type": "code",
   "execution_count": null,
   "id": "f68c35dc-0c05-4b9e-a62a-f526730da2cc",
   "metadata": {
    "tags": []
   },
   "outputs": [],
   "source": [
    "response = requests.get(url)\n",
    "response"
   ]
  },
  {
   "cell_type": "code",
   "execution_count": null,
   "id": "c9df5131-7b21-4ddc-bd11-d98ff6e27489",
   "metadata": {
    "tags": []
   },
   "outputs": [],
   "source": [
    "starships_data = response.json()\n",
    "starships_data"
   ]
  },
  {
   "cell_type": "markdown",
   "id": "421b0da5-124a-4ff7-a312-ad772b9a600f",
   "metadata": {},
   "source": [
    "**Question 9**"
   ]
  },
  {
   "cell_type": "markdown",
   "id": "815f4762-cfcb-47dd-ad2e-1ea2211a146a",
   "metadata": {},
   "source": [
    "Given a DataFrame containing first and last names, add a column containing abbreviations made up of the first and last initials (capitalized), both followed by periods (ex. John Owens yields J.O., Amy Watson yields A.W.)."
   ]
  },
  {
   "cell_type": "code",
   "execution_count": null,
   "id": "21948a58-0697-4f5f-97d7-e34aeb364eda",
   "metadata": {
    "tags": []
   },
   "outputs": [],
   "source": [
    "import pandas as pd\n",
    "data = {'first_name': ['John', 'Amy', 'Evan', 'Jane'],\n",
    "     'last_name': ['Owens','Watson','Guerrero','Jones']}\n",
    "names_df = pd.DataFrame(data)"
   ]
  },
  {
   "cell_type": "code",
   "execution_count": null,
   "id": "eab1d708-9531-4a70-b90f-ab1102520657",
   "metadata": {
    "tags": []
   },
   "outputs": [],
   "source": [
    "names_df['abbreviation'] = names_df.apply(lambda x: x['first_name'][0]+'.'+x['last_name'][0]+'.', axis=1)\n",
    "names_df"
   ]
  },
  {
   "cell_type": "markdown",
   "id": "15c385da-5c81-407f-979a-c215327a83a4",
   "metadata": {},
   "source": [
    "**Question 10**"
   ]
  },
  {
   "cell_type": "markdown",
   "id": "77563e16-366b-481f-a525-f16d42b59c97",
   "metadata": {},
   "source": [
    "Use the data below called names to create a new column with only the last names of each person."
   ]
  },
  {
   "cell_type": "code",
   "execution_count": null,
   "id": "53e35095-8547-4824-8ca9-f0fbb0501446",
   "metadata": {
    "tags": []
   },
   "outputs": [],
   "source": [
    "data = {\n",
    "    'Name': ['Jack Arnold', 'Steven Hughes', 'Alex Soup', 'John Brown', 'Alan Shwartz'],\n",
    "    'Occupation': ['Mechanic', 'Dentist', 'Trainer', 'Ranger', 'Police Officer'],\n",
    "    'Age': [34, 39, 28, 37, 41],\n",
    "    'Favorite Color': ['White', 'Gray', 'Orange', 'Brown', 'Red'],\n",
    "    'Happiness Score': [7.5, 8.0, 7.2, 2.3, 4.8]\n",
    "}\n",
    "names = pd.DataFrame(data)\n",
    "names"
   ]
  },
  {
   "cell_type": "code",
   "execution_count": null,
   "id": "5facaf10-6171-455c-abd5-e5d8a64fa154",
   "metadata": {
    "tags": []
   },
   "outputs": [],
   "source": [
    "names['Last Name'] = names['Name'].str.split().str[1]\n",
    "names"
   ]
  },
  {
   "cell_type": "markdown",
   "id": "035bf080-2e9d-4ad0-ba98-05d32f54c869",
   "metadata": {},
   "source": [
    "**Question 11** "
   ]
  },
  {
   "cell_type": "markdown",
   "id": "80cfa55f-511b-4bdc-8e6b-eb5e00d4f9e7",
   "metadata": {},
   "source": [
    "Given the dataframe below, create a barchart which has a height of the count value, a hue by color, facetted by object using seaborn  \n",
    "\n",
    "HINT: Use a catplot perhaps or a facet grid which we can map a barchart onto"
   ]
  },
  {
   "cell_type": "code",
   "execution_count": null,
   "id": "69d55b43-fa8d-4043-9c11-034a948fad97",
   "metadata": {
    "tags": []
   },
   "outputs": [],
   "source": [
    "df = pd.DataFrame({'Object': ['shoes','shoes', 'umbrella', 'umbrella', 'umbrella' ,'shirt', 'shirt' ], 'Color': ['yellow', 'blue', 'red', 'blue', 'purple', 'yellow', 'green'], 'Count': [12, 20, 15, 22, 13, 17, 21]})\n",
    "df"
   ]
  },
  {
   "cell_type": "code",
   "execution_count": null,
   "id": "06782df6-3219-403d-af47-ea1b3f425cc9",
   "metadata": {
    "tags": []
   },
   "outputs": [],
   "source": [
    "sns.catplot(data=df, kind='bar', x='Color', y='Count', col='Object');"
   ]
  },
  {
   "cell_type": "markdown",
   "id": "9e7c94ef-349e-48dc-a771-dc93b9e987e1",
   "metadata": {},
   "source": [
    "**Question 12**"
   ]
  },
  {
   "cell_type": "code",
   "execution_count": null,
   "id": "5c5a8776-476d-4ffd-ab05-06af91959571",
   "metadata": {
    "tags": []
   },
   "outputs": [],
   "source": [
    "df = pd.read_csv('https://raw.githubusercontent.com/ronniebugia/steph-curry-data/refs/heads/master/stephen_curry.csv')\n",
    "df = df.loc[:9]\n",
    "df.head()"
   ]
  },
  {
   "cell_type": "markdown",
   "id": "ba520ca0-f32c-4776-9083-416b2b380a45",
   "metadata": {},
   "source": [
    "Above are the career per game statistics for Golden State Warriors Point Guard Stephen Curry. Using the statistics from the dataframe can you find out the season in which Curry made his 3000th three pointer?"
   ]
  },
  {
   "cell_type": "code",
   "execution_count": null,
   "id": "ac78df98-b3a0-42f9-845b-f7869712bd91",
   "metadata": {
    "tags": []
   },
   "outputs": [],
   "source": [
    "df['3P_total'] = df['3P'] * df['G']"
   ]
  },
  {
   "cell_type": "code",
   "execution_count": null,
   "id": "88173c76-c28a-483f-b65f-6f936e159088",
   "metadata": {
    "tags": []
   },
   "outputs": [],
   "source": [
    "df['Cumulative_3s'] = df['3P_total'].cumsum()"
   ]
  },
  {
   "cell_type": "code",
   "execution_count": null,
   "id": "2793aef2-564a-4993-88c3-ef1fbcafe733",
   "metadata": {
    "tags": []
   },
   "outputs": [],
   "source": [
    "three_k = df[df['Cumulative_3s'] >= 3000].index.min()"
   ]
  },
  {
   "cell_type": "code",
   "execution_count": null,
   "id": "5fc2cb7b-442e-4ad0-a68d-f8678d69af51",
   "metadata": {
    "tags": []
   },
   "outputs": [],
   "source": [
    "df.loc[three_k]"
   ]
  },
  {
   "cell_type": "code",
   "execution_count": null,
   "id": "921105e9-3b8c-49c4-a7e2-f0d387c25974",
   "metadata": {},
   "outputs": [],
   "source": []
  },
  {
   "cell_type": "code",
   "execution_count": null,
   "id": "28f30ce9-5088-4ab1-bcfc-58d40c581194",
   "metadata": {},
   "outputs": [],
   "source": []
  }
 ],
 "metadata": {
  "kernelspec": {
   "display_name": "Python 3 (ipykernel)",
   "language": "python",
   "name": "python3"
  },
  "language_info": {
   "codemirror_mode": {
    "name": "ipython",
    "version": 3
   },
   "file_extension": ".py",
   "mimetype": "text/x-python",
   "name": "python",
   "nbconvert_exporter": "python",
   "pygments_lexer": "ipython3",
   "version": "3.11.4"
  }
 },
 "nbformat": 4,
 "nbformat_minor": 5
}
