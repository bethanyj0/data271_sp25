{
 "cells": [
  {
   "cell_type": "markdown",
   "id": "f8031c78",
   "metadata": {},
   "source": [
    "# DATA 271 Midterm 2\n",
    "\n",
    "Welcome to Midterm 2! In this midterm feel free to use the provided reference sheet and the `help` functionality in your notebook. Feel free to also reference the documentation for [Pandas](https://pandas.pydata.org/docs/user_guide/index.html), [Seaborn](https://seaborn.pydata.org/generated/seaborn.scatterplot.html), [Matplotlib](https://matplotlib.org/stable/api/pyplot_summary.html), [Numpy](https://numpy.org/doc/stable/reference/arrays.ndarray.html) in separate browser windows. "
   ]
  },
  {
   "cell_type": "markdown",
   "id": "d998ac61-a019-4eaf-9aa2-0190ad656d83",
   "metadata": {},
   "source": [
    "### Warm-up:\n",
    "We will start with a few warm-up/conceptual problems."
   ]
  },
  {
   "cell_type": "markdown",
   "id": "fef582ff-8712-4ff9-a4fa-06c26ceabc5d",
   "metadata": {},
   "source": [
    "**Warm-up 1:**  \n",
    "According to the grammar of graphics, what are the 7 components of a graph and what do they mean?"
   ]
  },
  {
   "cell_type": "markdown",
   "id": "b0d835bf-6059-4e29-b426-dcb0ac7562d6",
   "metadata": {},
   "source": [
    "*Your answer here*"
   ]
  },
  {
   "cell_type": "markdown",
   "id": "2892a051-23fe-46d6-9e29-c5ef38e329bb",
   "metadata": {},
   "source": [
    "**Warm-up 2: APIs**   \n",
    "(a) Which HTTP status code indicates a successful request?"
   ]
  },
  {
   "cell_type": "markdown",
   "id": "f0120d46-71d0-4ffa-80ee-8cf01b0116dd",
   "metadata": {},
   "source": [
    "*Your answer here*"
   ]
  },
  {
   "cell_type": "markdown",
   "id": "c7deb466-7d7e-4f51-a6d4-77aa748e676e",
   "metadata": {},
   "source": [
    "(b) Which Python module is used for getting data with an API?"
   ]
  },
  {
   "cell_type": "markdown",
   "id": "63859833-4908-4446-a6c4-36f4c4ed8518",
   "metadata": {},
   "source": [
    "*Your answer here*"
   ]
  },
  {
   "cell_type": "markdown",
   "id": "2ffe5498-f490-48c1-ad40-787489a8715d",
   "metadata": {},
   "source": [
    "(c) What type of data is usually returned by an API. In other words, what format is it in?"
   ]
  },
  {
   "cell_type": "markdown",
   "id": "4bcb4eed-fc8d-4153-9278-dc626b2170e1",
   "metadata": {},
   "source": [
    "*Your answer here*"
   ]
  },
  {
   "cell_type": "markdown",
   "id": "375b787a-2bf8-4ab9-b207-199a20f20304",
   "metadata": {},
   "source": [
    "**Warm-up 3:** Which of the following is *not* a principle of effective data visualization?\n",
    "\n",
    "A. Keep it simple and uncluttered (e.g., no unnecessary shapes)   \n",
    "B. Show as many variables as possible (e.g., through many colors and shapes)  \n",
    "C. Use color with purpose (e.g., to highlight different categories)  \n",
    "D. Provide necessary context (e.g., label axes) "
   ]
  },
  {
   "cell_type": "markdown",
   "id": "0439b2b0-2ca2-4209-bc38-2b93025e5169",
   "metadata": {},
   "source": [
    "*Your answer here*"
   ]
  },
  {
   "cell_type": "markdown",
   "id": "2bdefdb5-d1c7-430e-be37-5762b7ce6a38",
   "metadata": {},
   "source": [
    "**Warm-up 4:** What is often one of the first steps in an exploratory data analysis (EDA)?\n",
    "\n",
    "A. Building machine learning models  \n",
    "B. Visualizing the data  \n",
    "C. Cleaning and preparing the data  \n",
    "D. Applying statistical tests  "
   ]
  },
  {
   "cell_type": "markdown",
   "id": "4867fd6b-fe58-47a6-a2b4-f5c348477b84",
   "metadata": {},
   "source": [
    "*Your answer here*"
   ]
  },
  {
   "cell_type": "markdown",
   "id": "d6335a8c-fe9b-48be-8a1e-d52a83a34c67",
   "metadata": {},
   "source": [
    "### Main: EDA\n",
    "The CAL FIRE Incidents dataset provides comprehensive records of emergency responses managed by CAL FIRE's fire stations across California. These stations collectively handle approximately 300,000 emergencies annually, encompassing fire-related incidents and other disasters. Fires occur throughout the state on a daily basis during fire season. However, the majority of those fires are contained quickly and no information will generally be provided on these incidents at this site if the fire burns less than 10 acres. \n",
    "\n",
    "In this midterm, we will perform an exploratory data analysis on the fire incidents in the dataset."
   ]
  },
  {
   "cell_type": "markdown",
   "id": "d3ca6333",
   "metadata": {},
   "source": [
    "**Problem 0:** Import the required modules for this EDA. You will need, NumPy, Pandas, Matplotlib, Seaborn, and re. Feel free to use this cell to set the style and/or runtime configuration parameters for your Seaborn plots if you want to."
   ]
  },
  {
   "cell_type": "code",
   "execution_count": null,
   "id": "bff382db",
   "metadata": {},
   "outputs": [],
   "source": []
  },
  {
   "cell_type": "markdown",
   "id": "eb8c0eb0",
   "metadata": {},
   "source": [
    "## 1. Import the data and begin exploration"
   ]
  },
  {
   "cell_type": "markdown",
   "id": "3522ae8d",
   "metadata": {},
   "source": [
    "**Problem 1.1:** Import the `cal_fire.csv` file (already in your working directory) as a Pandas DataFrame. "
   ]
  },
  {
   "cell_type": "code",
   "execution_count": null,
   "id": "219cd552",
   "metadata": {},
   "outputs": [],
   "source": [
    "df = ...\n",
    "df"
   ]
  },
  {
   "cell_type": "markdown",
   "id": "474bc1b6",
   "metadata": {},
   "source": [
    "**Problem 1.2**: Begin with an initial inspection of your dataframe. How many rows and columns are there? What are the column names? How many null values are in each column? What is the datatype of each column?\n",
    "\n",
    "*HINT:* Feel free to use a single Pandas method get this information, or use several if you prefer that. Comment on something you find in a markdown cell."
   ]
  },
  {
   "cell_type": "code",
   "execution_count": null,
   "id": "22d4955e",
   "metadata": {},
   "outputs": [],
   "source": []
  },
  {
   "cell_type": "markdown",
   "id": "fbaf54b5-a331-46d4-ae46-894a62711205",
   "metadata": {},
   "source": [
    "*Comment here*"
   ]
  },
  {
   "cell_type": "markdown",
   "id": "bc62987d",
   "metadata": {},
   "source": [
    "## 2. Begin Data Preparation"
   ]
  },
  {
   "cell_type": "markdown",
   "id": "b15938eb",
   "metadata": {},
   "source": [
    "**Problem 2.1**: The current column names are not in a standardized format. Rename the columns so they are all in the form `lowercase_with_underscores`.  "
   ]
  },
  {
   "cell_type": "code",
   "execution_count": null,
   "id": "e74a7585",
   "metadata": {},
   "outputs": [],
   "source": []
  },
  {
   "cell_type": "markdown",
   "id": "47fd09c2",
   "metadata": {},
   "source": [
    "**Problem 2.2:** Create a copy of your dataframe called `df_copy`, so that the original data will be accessible after we make changes. "
   ]
  },
  {
   "cell_type": "code",
   "execution_count": null,
   "id": "1e055f27",
   "metadata": {},
   "outputs": [],
   "source": [
    "df_copy = ..."
   ]
  },
  {
   "cell_type": "markdown",
   "id": "e7abeb3b",
   "metadata": {},
   "source": [
    "**Problem 2.3**: Inspect the `date_created` column of the `df` dataset. This is the date an incident was first logged in the system. Create two new columns: `year` and `month` in your `df` DataFrame containing the year (all four digits) and the month the fire was logged. Both columns should be type int.\n",
    "\n",
    "*HINT:* You might want to convert the type of the `date_created` column to do this. "
   ]
  },
  {
   "cell_type": "code",
   "execution_count": null,
   "id": "33737423",
   "metadata": {},
   "outputs": [],
   "source": [
    "# inspect date_created column\n"
   ]
  },
  {
   "cell_type": "code",
   "execution_count": null,
   "id": "7069ec07-2c8e-4e11-87b5-65de3e31035d",
   "metadata": {},
   "outputs": [],
   "source": [
    "# add year column\n"
   ]
  },
  {
   "cell_type": "code",
   "execution_count": null,
   "id": "44ea005a",
   "metadata": {},
   "outputs": [],
   "source": [
    "# add month column\n"
   ]
  },
  {
   "cell_type": "markdown",
   "id": "183bf7be",
   "metadata": {},
   "source": [
    "**Problem 2.4**: Not all of the incidents in this dataset are fires. We will begin cleaning to filter the data to just fires. \n",
    "\n",
    "Inspect the `type` column of the dataframe. In a markdown cell, list at least one type of incident that is not a fire. \n",
    "\n",
    "Sometimes fires are listed in the `type` column as \"Fire\", sometimes as \"Wildfire\". Create a new column `fire_type` in `df` containing `True` if the type contains either \"Wildfire\" or \"Fire\", `False` if the type is something else, and either `NaN` or `False` if the type is a null value. \n",
    "\n",
    "*HINT*: You may find it helpful to use regular expression for this problem."
   ]
  },
  {
   "cell_type": "code",
   "execution_count": null,
   "id": "3f9db652",
   "metadata": {},
   "outputs": [],
   "source": [
    "# inspect type column\n"
   ]
  },
  {
   "cell_type": "markdown",
   "id": "b252d72e-8d0d-4442-970e-319865ad3825",
   "metadata": {},
   "source": [
    "*List a type that is not a fire here.*"
   ]
  },
  {
   "cell_type": "code",
   "execution_count": null,
   "id": "a7c9253d",
   "metadata": {},
   "outputs": [],
   "source": [
    "# add fire_type column\n"
   ]
  },
  {
   "cell_type": "markdown",
   "id": "aac7f363",
   "metadata": {},
   "source": [
    "**Problem 2.5**: Inspect the `name` column of the dataframe. Some fires and wildfires contain \"Fire\" in their name, others don't.  \n",
    "\n",
    "Create a new column `fire_name` in `df` containing `True` if the name has the word \"fire\" in it (not case sensitive), `False` if \"fire\" isn't in the name, and `NaN` or `False` if the name is a null value. \n",
    "\n",
    "*HINT*: Your solution should account for case typos. For example, if the name contains \"FIre\" you should still enter `True` in the `fire_name` column."
   ]
  },
  {
   "cell_type": "code",
   "execution_count": null,
   "id": "20522348",
   "metadata": {},
   "outputs": [],
   "source": [
    "# inspect the name column\n"
   ]
  },
  {
   "cell_type": "code",
   "execution_count": null,
   "id": "6769a39e",
   "metadata": {},
   "outputs": [],
   "source": [
    "# add fire_name column\n"
   ]
  },
  {
   "cell_type": "markdown",
   "id": "9795c005-aca1-4e96-801a-2bca7c5f2ee4",
   "metadata": {},
   "source": [
    "**Problem 2.6**: Create a new dataframe called `fires` that is a filtered copy of `df` containing only the rows where either the `fire_type` or `fire_name` (or both) are `True`."
   ]
  },
  {
   "cell_type": "code",
   "execution_count": null,
   "id": "e4064228-4ca4-4b45-97bd-fccb70b88655",
   "metadata": {},
   "outputs": [],
   "source": [
    "# create the fires dataframe\n"
   ]
  },
  {
   "cell_type": "markdown",
   "id": "2458f004-4022-4138-b0e5-e538e19f3a01",
   "metadata": {},
   "source": [
    "**Problem 2.7:** We will be analyzing the acres burned. Remove any rows from the `fires` dataframe that have a null value in the `acres_burned` column. (Be sure to update the original `fires` dataframe.)"
   ]
  },
  {
   "cell_type": "code",
   "execution_count": null,
   "id": "6b059677-9b39-4d5f-8d68-32045e306854",
   "metadata": {
    "tags": []
   },
   "outputs": [],
   "source": [
    "# Remove rows with missing acres_burned entries\n"
   ]
  },
  {
   "cell_type": "markdown",
   "id": "fec8982b-a0ac-468a-a7d7-fd32f41ff631",
   "metadata": {},
   "source": [
    "Some fires occurred in more than one county, and in those cases, the counties are listed together, separated by commas. To simplify our analysis, we’ll keep only the first listed county. Because the counties are sorted alphabetically, this introduces a slight bias toward counties with names earlier in the alphabet—but for this analysis, we won’t worry about that.\n",
    "\n",
    "Run the cell below to clean the column. "
   ]
  },
  {
   "cell_type": "code",
   "execution_count": null,
   "id": "8493f8d0-9295-482f-895e-e97781cc5d63",
   "metadata": {
    "tags": []
   },
   "outputs": [],
   "source": [
    "fires['county'] = [county[0] if type(county) == list else np.nan for county in fires.county.str.split(',')]"
   ]
  },
  {
   "cell_type": "markdown",
   "id": "5c936d8c",
   "metadata": {},
   "source": [
    "## 3. Visualize"
   ]
  },
  {
   "cell_type": "markdown",
   "id": "78e326bb",
   "metadata": {},
   "source": [
    "**Problem 3.1:** The next two cells contain data visualizations that don’t effectively convey the intended information. Identify an appropriate plot type for each case and revise the visualizations accordingly.\n",
    "\n",
    "After updating the plots, write down one insight or takeaway you can gather from each corrected visualization."
   ]
  },
  {
   "cell_type": "code",
   "execution_count": null,
   "id": "575dbced",
   "metadata": {},
   "outputs": [],
   "source": [
    "# Visualize the total number of acres burned in each county\n",
    "plt.figure(figsize=(4,10))\n",
    "sns.scatterplot(data = fires, x = 'acres_burned',y='county')\n",
    "plt.show()"
   ]
  },
  {
   "cell_type": "code",
   "execution_count": null,
   "id": "8253971a",
   "metadata": {},
   "outputs": [],
   "source": [
    "# Visualize the number of fires in each month\n",
    "plt.figure(figsize=(10,4))\n",
    "sns.kdeplot(data = fires,x='month',fill=True)\n",
    "plt.show()"
   ]
  },
  {
   "cell_type": "code",
   "execution_count": null,
   "id": "bdf441a3",
   "metadata": {},
   "outputs": [],
   "source": [
    "# REDO: Visualize the total number of acres burned in each county\n"
   ]
  },
  {
   "cell_type": "code",
   "execution_count": null,
   "id": "1d61ee85",
   "metadata": {},
   "outputs": [],
   "source": [
    "# REDO: Visualize the number of fires in each month\n"
   ]
  },
  {
   "cell_type": "markdown",
   "id": "2f729fbe",
   "metadata": {},
   "source": [
    "*Type your comments here replacing this text.*"
   ]
  },
  {
   "cell_type": "markdown",
   "id": "c256ee2e",
   "metadata": {},
   "source": [
    "**Problem 3.2:** Create a visualization that will help you determine which year had the worst fire season (i.e., which year had the most total acres burned). Comment on any trends you notice over time."
   ]
  },
  {
   "cell_type": "code",
   "execution_count": null,
   "id": "d03836cc",
   "metadata": {},
   "outputs": [],
   "source": []
  },
  {
   "cell_type": "markdown",
   "id": "6e0efadb",
   "metadata": {},
   "source": [
    "*Type your answer replacing this text.*"
   ]
  },
  {
   "cell_type": "markdown",
   "id": "46616e47",
   "metadata": {},
   "source": [
    "## 4. More exploration"
   ]
  },
  {
   "cell_type": "markdown",
   "id": "dae3b7ef",
   "metadata": {},
   "source": [
    "**Problem 4.1:** Determine which fire was the largest (in terms of acres burned) in the `fires` dataset."
   ]
  },
  {
   "cell_type": "code",
   "execution_count": null,
   "id": "bb029f6b",
   "metadata": {},
   "outputs": [],
   "source": []
  },
  {
   "cell_type": "markdown",
   "id": "770939e7-c01d-4599-a1b5-6c5df055e4c9",
   "metadata": {},
   "source": [
    "*Type your answer replacing this text.*"
   ]
  },
  {
   "cell_type": "markdown",
   "id": "c2a8b2e1",
   "metadata": {},
   "source": [
    "**Problem 4.2:** What was the most recent fire recorded in Humboldt county (according to `date_created`)?"
   ]
  },
  {
   "cell_type": "code",
   "execution_count": null,
   "id": "00803d3e",
   "metadata": {},
   "outputs": [],
   "source": []
  },
  {
   "cell_type": "markdown",
   "id": "48a6fcc9",
   "metadata": {},
   "source": [
    "*Type your answer replacing this text.*"
   ]
  },
  {
   "cell_type": "markdown",
   "id": "5de099f8",
   "metadata": {},
   "source": [
    "**Problem 4.3.1:** In January 2025, two major wildfires — the Eaton Fire and the Palisades Fire — devastated areas in and around Los Angeles. These fires caused widespread damage and raised urgent questions about prevention, preparedness, and equity in response efforts.\n",
    "\n",
    "How many acres burned in each fire?"
   ]
  },
  {
   "cell_type": "code",
   "execution_count": null,
   "id": "57085099",
   "metadata": {},
   "outputs": [],
   "source": [
    "# Eaton Fire acres burned\n",
    "eaton_acres = "
   ]
  },
  {
   "cell_type": "code",
   "execution_count": null,
   "id": "1ee2ad01",
   "metadata": {},
   "outputs": [],
   "source": [
    "# Palisades Fire acres burned\n",
    "palisades_acres = "
   ]
  },
  {
   "cell_type": "markdown",
   "id": "b9ee2b59",
   "metadata": {},
   "source": [
    "*Type your answer replacing this text.*"
   ]
  },
  {
   "cell_type": "markdown",
   "id": "814d1c39-e97c-443a-89c9-f6b810ca5c21",
   "metadata": {},
   "source": [
    "**Problem 4.3.2:** Compare the average fire size in Los Angeles County to the Eaton and Palisades fires. How many times larger were these fires than the county average?"
   ]
  },
  {
   "cell_type": "code",
   "execution_count": null,
   "id": "2fb021f5-c20e-4c85-89c0-7f73dc9d6565",
   "metadata": {},
   "outputs": [],
   "source": [
    "eaton_times_larger_than_average = "
   ]
  },
  {
   "cell_type": "code",
   "execution_count": null,
   "id": "17a20f2a-b1c6-483f-826b-bc114f8162d1",
   "metadata": {},
   "outputs": [],
   "source": [
    "palisades_times_larger_than_average = "
   ]
  },
  {
   "cell_type": "markdown",
   "id": "718fe241-5a62-40b6-8987-799bdbdd8f95",
   "metadata": {},
   "source": [
    "*Type your answer replacing this text.*"
   ]
  },
  {
   "cell_type": "markdown",
   "id": "c458b616-17bb-4d37-89dd-dc7666e2f295",
   "metadata": {},
   "source": [
    "**Problem 4.3.3:** Fires do not impact all communities equally. Many lower-income neighborhoods or historically underserved communities may face more barriers to evacuation, recovery, and rebuilding.\n",
    "\n",
    "What additional data could help you assess which communities were most impacted by these fires? Explain how you might approach this analysis. Please be as detailed as possible."
   ]
  },
  {
   "cell_type": "markdown",
   "id": "51837864-561a-4f0f-b624-f5e57e7c1243",
   "metadata": {},
   "source": [
    "*Type your answer replacing this text.*"
   ]
  },
  {
   "cell_type": "markdown",
   "id": "27aeb9a1",
   "metadata": {},
   "source": [
    "## 5. (Extra Credit) Your exploration"
   ]
  },
  {
   "cell_type": "markdown",
   "id": "a39991d2",
   "metadata": {},
   "source": [
    "**Problem 5.1**: Create a plot showing the location of fires (by latitude and longitude). What does this visualization reveal about the data? How would you improve the plot? This will probably require updating your dataframe."
   ]
  },
  {
   "cell_type": "code",
   "execution_count": null,
   "id": "3dfd6904-641c-411c-b87b-ea408a4a13a1",
   "metadata": {},
   "outputs": [],
   "source": [
    "# Create your plot"
   ]
  },
  {
   "cell_type": "markdown",
   "id": "50c5c47b-7431-4946-adb7-98a9a2ab2010",
   "metadata": {},
   "source": [
    "*Explain what you notice here*"
   ]
  },
  {
   "cell_type": "code",
   "execution_count": null,
   "id": "5c5339fd-d532-4b6d-a450-18fdf989affb",
   "metadata": {},
   "outputs": [],
   "source": [
    "# Make improvements"
   ]
  },
  {
   "cell_type": "markdown",
   "id": "4eb85351",
   "metadata": {},
   "source": [
    "**Problem 5.2**: Create a question (or several questions) about this dataset and use a data visualization and/or Pandas methods to begin answering it. Explain your thought process."
   ]
  },
  {
   "cell_type": "markdown",
   "id": "4cd6d59b",
   "metadata": {},
   "source": [
    "*Your question(s) here*"
   ]
  },
  {
   "cell_type": "code",
   "execution_count": null,
   "id": "4e9abda3",
   "metadata": {},
   "outputs": [],
   "source": [
    "# Your code here"
   ]
  },
  {
   "cell_type": "markdown",
   "id": "bb595019-01c6-423b-acc6-92dfea02024c",
   "metadata": {},
   "source": [
    "# Congratulations!\n",
    "You've finished the exam. Go do File -> Download as -> .ipynb and upload to Canvas.\n",
    "\n",
    "<img src=\"gus_daydreaming_of_food.JPG\" width=\"200\" height=\"100\">\n"
   ]
  },
  {
   "cell_type": "code",
   "execution_count": null,
   "id": "1582cd25-3358-49b9-af6d-a0d6d8779e46",
   "metadata": {},
   "outputs": [],
   "source": []
  }
 ],
 "metadata": {
  "kernelspec": {
   "display_name": "Python 3 (ipykernel)",
   "language": "python",
   "name": "python3"
  },
  "language_info": {
   "codemirror_mode": {
    "name": "ipython",
    "version": 3
   },
   "file_extension": ".py",
   "mimetype": "text/x-python",
   "name": "python",
   "nbconvert_exporter": "python",
   "pygments_lexer": "ipython3",
   "version": "3.11.4"
  }
 },
 "nbformat": 4,
 "nbformat_minor": 5
}
