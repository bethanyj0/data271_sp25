{
 "cells": [
  {
   "cell_type": "markdown",
   "id": "f8031c78",
   "metadata": {},
   "source": [
    "# DATA 271 Practice Midterm 2"
   ]
  },
  {
   "cell_type": "markdown",
   "id": "e88751fa-972b-4252-81a8-8413d2e7353d",
   "metadata": {},
   "source": [
    "We will begin with some basic practice problems."
   ]
  },
  {
   "cell_type": "markdown",
   "id": "f44bde80-889d-4787-a853-0f11a6dd301f",
   "metadata": {},
   "source": [
    "**Practice 1:** List all components of a data visualization according to the Grammar of Graphics."
   ]
  },
  {
   "cell_type": "markdown",
   "id": "da02a7b0-bc3c-41d7-a34f-4c27c7a27c77",
   "metadata": {},
   "source": []
  },
  {
   "cell_type": "markdown",
   "id": "d5bacc22-9787-4773-89ff-7c703931e2a8",
   "metadata": {},
   "source": [
    "**Practice 2:** True or False: Plotnine is the only data visualization module in Python that can be\n",
    "used to create figures that have Grammar of Graphics components. Enter True or False."
   ]
  },
  {
   "cell_type": "code",
   "execution_count": null,
   "id": "069dd373-bc93-4493-9637-d12e02c4601c",
   "metadata": {},
   "outputs": [],
   "source": []
  },
  {
   "cell_type": "markdown",
   "id": "415f01d8-7fee-44fa-a1d9-8261cad7a08d",
   "metadata": {},
   "source": [
    "**Practice 3:** Which visualization technique is best suited for displaying outliers of\n",
    "data?\n",
    "\n",
    "1. Box plot\n",
    "2. Swarm plot\n",
    "3. Heatmap\n",
    "4. Violin plot\n",
    "\n",
    "Enter 1, 2, 3, or 4."
   ]
  },
  {
   "cell_type": "code",
   "execution_count": null,
   "id": "fa6f7f80-118f-4d12-a2d7-c5b9188d9fff",
   "metadata": {},
   "outputs": [],
   "source": [
    "best_vis = "
   ]
  },
  {
   "cell_type": "markdown",
   "id": "5a4a9c34-7c79-4e6f-8bc5-2317572fe5fe",
   "metadata": {},
   "source": [
    "**Practice 4:** Rearrange the table below so that each plot is matched with its common use :\n",
    "\n",
    "| Chart type   | Use                                              | \n",
    "| :----------- | :----------------------------------------------- |\n",
    "| Bar chart    | Show trends over time                            |\n",
    "| Line graph   | Visualizing matrix-like data (e.g. correlations) |\n",
    "| Heatmap      | Show relationships between variables             |\n",
    "| Scatter plot | Compare values in categories                     |\n",
    "| Violin plot  | Show numerical distributions                     |\n",
    "| Histogram    | Smooth distribtions and quartiles                |\n"
   ]
  },
  {
   "cell_type": "markdown",
   "id": "69efe876-1265-49c8-98c1-bdc8264ea44f",
   "metadata": {},
   "source": [
    "Rearrange here: \n",
    "| Chart type   | Use                                              | \n",
    "| :----------- | :----------------------------------------------- |\n",
    "| Bar chart    | Show trends over time                            |\n",
    "| Line graph   | Visualizing matrix-like data (e.g. correlations) |\n",
    "| Heatmap      | Show relationships between variables             |\n",
    "| Scatter plot | Compare values in categories                     |\n",
    "| Violin plot  | Show numerical distributions                     |\n",
    "| Histogram    | Smooth distribtions and quartiles                |"
   ]
  },
  {
   "cell_type": "markdown",
   "id": "123dacd9-dff5-428d-82c4-1a5ed9f49dc0",
   "metadata": {},
   "source": [
    "**Practice 5** For the following figures, describe what is not good about the data visualization according\n",
    "to the principles of data visualization. How you would improve it?\n",
    "\n",
    " ![graph](bad_viz.png)\n",
    " ![graph](bad_viz2.png)\n",
    " ![graph](bad_viz3.png)"
   ]
  },
  {
   "cell_type": "markdown",
   "id": "0a6d1bb8-fdc6-4803-89a0-fcf36e727a9d",
   "metadata": {},
   "source": [
    "*Type your suggestions here.*"
   ]
  },
  {
   "cell_type": "markdown",
   "id": "0e87014f-52f2-46c2-8b0a-7b14692de27b",
   "metadata": {},
   "source": [
    "**Practice 6:** The [Rick and Morty API](https://rickandmortyapi.com) has\n",
    "three possible endpoints: character, location, or episode. The character endpoint has several optional parameters. One of them is name which takes the first name of the character in the show. What would Python code would you use to get information about Rick in the Rick and Morty API."
   ]
  },
  {
   "cell_type": "code",
   "execution_count": null,
   "id": "1d0d3d60-d02b-4f94-bfb4-8d96a214a109",
   "metadata": {},
   "outputs": [],
   "source": []
  },
  {
   "cell_type": "markdown",
   "id": "f1678893-1eb8-4b71-adb3-4a3d1d404809",
   "metadata": {},
   "source": [
    "**Practice 7:** Given the diamonds dataset in seaborn, I created the following visualisation.\n",
    "![diamonds](diamonds_plot.png)\n",
    "Write the code to recreate this figure. "
   ]
  },
  {
   "cell_type": "code",
   "execution_count": null,
   "id": "ab343db2-f871-4d7e-8902-d9f7b9c65547",
   "metadata": {
    "tags": []
   },
   "outputs": [],
   "source": []
  },
  {
   "cell_type": "markdown",
   "id": "856d5b79-258a-45b6-8602-bf35ad578ca6",
   "metadata": {
    "tags": []
   },
   "source": [
    "**Practice 8:** You are working with the following Pandas dataframe `pets`. You want to clean it up a\n",
    "little and add some columns."
   ]
  },
  {
   "cell_type": "code",
   "execution_count": null,
   "id": "c8b7b052-1e5b-44fc-9aee-43be655c2fb3",
   "metadata": {
    "tags": []
   },
   "outputs": [],
   "source": [
    "# Create a cute pets DataFrame\n",
    "import pandas as pd\n",
    "data = {\n",
    "    'Pet Name': ['Fluffy', 'Whiskers', 'Bubbles', 'Spike', 'Coco'],\n",
    "    'Animal Type': ['Cat', 'Rabbit', 'Fish', 'Dog', 'Hamster'],\n",
    "    'Age': [3, 2, 1, 5, 4],\n",
    "    'Color': ['White', 'Gray', 'Orange', 'Brown', 'Golden'],\n",
    "    'Happiness Score': [9.5, 8.0, 9.2, 7.3, 9.8]\n",
    "}\n",
    "pets = pd.DataFrame(data)\n",
    "pets"
   ]
  },
  {
   "cell_type": "markdown",
   "id": "52b118db-72d1-4dfc-9da7-7aee06ce644f",
   "metadata": {},
   "source": [
    "The following code has errors in it. Find the errors and correct them."
   ]
  },
  {
   "cell_type": "code",
   "execution_count": null,
   "id": "8fed2de9-238d-491e-ac59-716b300078e8",
   "metadata": {},
   "outputs": [],
   "source": [
    "# Add column called Mine full of False\n",
    "pets.'Mine' = [False]"
   ]
  },
  {
   "cell_type": "code",
   "execution_count": null,
   "id": "ebe915a0-2d8f-4cab-bebd-9a67b9d25c31",
   "metadata": {},
   "outputs": [],
   "source": [
    "# Rename the columns so there are no spaces\n",
    "pets.columns = pets.columns.replace(' ', '_')"
   ]
  },
  {
   "cell_type": "code",
   "execution_count": null,
   "id": "ac21c15b-aab9-48a6-a18b-2576867096c1",
   "metadata": {},
   "outputs": [],
   "source": [
    "# Reset the index as Pet Name\n",
    "pets.index = 'Pet Name '"
   ]
  },
  {
   "cell_type": "markdown",
   "id": "7b3a6050-785d-4a4d-9d21-996dd906c628",
   "metadata": {},
   "source": [
    "In the next section of this practice midterm, we will perform an exploratory data analysis on a rollercoaster dataset. Follow the steps below to perform your EDA.\n",
    "\n",
    "The actual midterm will also involve an exploratory data analysis. "
   ]
  },
  {
   "cell_type": "markdown",
   "id": "d3ca6333",
   "metadata": {},
   "source": [
    "**Problem 0:** Import the required modules for this EDA. You will need, Numpy, Pandas, Matplotlib, Seaborn, and re. Feel free to use this cell to set the style and/or runtime configuration parameters for your Seaborn plots if you want to."
   ]
  },
  {
   "cell_type": "code",
   "execution_count": null,
   "id": "bff382db",
   "metadata": {},
   "outputs": [],
   "source": []
  },
  {
   "cell_type": "markdown",
   "id": "eb8c0eb0",
   "metadata": {},
   "source": [
    "## 1. Import the data and begin exploration"
   ]
  },
  {
   "cell_type": "markdown",
   "id": "3522ae8d",
   "metadata": {},
   "source": [
    "**Problem 1.1:** Import the `rollercoasters.csv` file (already in your working directory) as a Pandas DataFrame. "
   ]
  },
  {
   "cell_type": "code",
   "execution_count": null,
   "id": "219cd552",
   "metadata": {},
   "outputs": [],
   "source": [
    "df = ..."
   ]
  },
  {
   "cell_type": "markdown",
   "id": "bb590485",
   "metadata": {},
   "source": [
    "**Problem 1.2:** How many rows and columns are in your dataframe?"
   ]
  },
  {
   "cell_type": "code",
   "execution_count": null,
   "id": "4db4bf27",
   "metadata": {},
   "outputs": [],
   "source": [
    "num_rows = ...\n",
    "num_cols = ...\n",
    "num_rows, num_cols"
   ]
  },
  {
   "cell_type": "markdown",
   "id": "474bc1b6",
   "metadata": {},
   "source": [
    "**Problem 1.3**: Begin with an initial inspection of your dataframe. What are the column names? How many null values are in each column? What is the datatype of each column? \n",
    "\n",
    "*HINT* Feel free to use a single Pandas method get this information, or use several if you prefer that."
   ]
  },
  {
   "cell_type": "code",
   "execution_count": null,
   "id": "22d4955e",
   "metadata": {},
   "outputs": [],
   "source": []
  },
  {
   "cell_type": "markdown",
   "id": "bc62987d",
   "metadata": {},
   "source": [
    "## 2. Begin Data Cleaning"
   ]
  },
  {
   "cell_type": "markdown",
   "id": "b15938eb",
   "metadata": {},
   "source": [
    "**Problem 2.1**: The current column names are not in a standardized format. Rename the columns so they are all in the form `lowercase_with_underscores`. \n",
    "\n",
    "*HINT:* When you are done, there should not be any special characters such as dashes or slashes. "
   ]
  },
  {
   "cell_type": "code",
   "execution_count": null,
   "id": "e74a7585",
   "metadata": {},
   "outputs": [],
   "source": []
  },
  {
   "cell_type": "markdown",
   "id": "47fd09c2",
   "metadata": {},
   "source": [
    "**Problem 2.2:** Create a copy of your dataframe called `df_copy`, so that the original data will be accessible even after we make changes. "
   ]
  },
  {
   "cell_type": "code",
   "execution_count": null,
   "id": "1e055f27",
   "metadata": {},
   "outputs": [],
   "source": [
    "df_copy = ..."
   ]
  },
  {
   "cell_type": "markdown",
   "id": "8144f836",
   "metadata": {},
   "source": [
    "**Problem 2.3:** Some columns have many null values. Drop all the columns from the dataframe `df` that have more than 250 null values. "
   ]
  },
  {
   "cell_type": "code",
   "execution_count": null,
   "id": "19c7c4f4",
   "metadata": {},
   "outputs": [],
   "source": []
  },
  {
   "cell_type": "markdown",
   "id": "c50bfa98",
   "metadata": {},
   "source": [
    "**Problem 2.4** How many columns are left in the dataframe after dropping the columns with more than 250 null values?"
   ]
  },
  {
   "cell_type": "code",
   "execution_count": null,
   "id": "b52ac95f",
   "metadata": {},
   "outputs": [],
   "source": [
    "new_num_cols = ...\n",
    "new_num_cols"
   ]
  },
  {
   "cell_type": "markdown",
   "id": "f77c88b4",
   "metadata": {},
   "source": [
    "**Problem 2.5** Visualize the number of null values in each column with a heatmap."
   ]
  },
  {
   "cell_type": "code",
   "execution_count": null,
   "id": "2f6d7f16",
   "metadata": {},
   "outputs": [],
   "source": []
  },
  {
   "cell_type": "markdown",
   "id": "e7abeb3b",
   "metadata": {},
   "source": [
    "**Problem 2.6** Inpsect the `height` column of the dataset. We want to extract the height in feet (ft) from the column. Create a new column called `height_ft` in your `df` DataFrame containing the heights in feet. Do not convert any data types; leave them as strings.\n",
    "\n",
    "*HINT:* You may want to use regular expression for this problem. Note that some of the heights are shown in whole numbers and some of them include digits past a decimal. Be sure to include decimals if they are available. Any NaNs should remain NaN in your new column."
   ]
  },
  {
   "cell_type": "code",
   "execution_count": null,
   "id": "33737423",
   "metadata": {},
   "outputs": [],
   "source": [
    "# inspect height column"
   ]
  },
  {
   "cell_type": "code",
   "execution_count": null,
   "id": "44ea005a",
   "metadata": {},
   "outputs": [],
   "source": [
    "df['height_ft'] = ..."
   ]
  },
  {
   "cell_type": "markdown",
   "id": "183bf7be",
   "metadata": {},
   "source": [
    "**Problem 2.7** Inpsect the `speed` column of the dataset. We want to extract the speed in miles per hour (mph) from the column. Create a new column called `speed_mph` in your `df` DataFrame containing the speed in miles per hour. Do not convert any data types; leave them as strings.\n",
    "\n",
    "HINT: You may want to use regular expression for this problem."
   ]
  },
  {
   "cell_type": "code",
   "execution_count": null,
   "id": "a7c9253d",
   "metadata": {},
   "outputs": [],
   "source": [
    "df['speed_mph'] = ..."
   ]
  },
  {
   "cell_type": "markdown",
   "id": "aac7f363",
   "metadata": {},
   "source": [
    "**Problem 2.8** Inpsect the `length` column of the dataset. We want to extract the length in feet (ft_ from the column. Create a new column called `length_ft` in your `df` DataFrame containing the length in feet. Do not convert any data types; leave them as strings.\n",
    "\n",
    "HINT: You may want to use regular expression for this problem. Note that some of the lengths include a comma. You will need to account for that in your regular expression, but do not include the comma in your final `length_ft` column. "
   ]
  },
  {
   "cell_type": "code",
   "execution_count": null,
   "id": "6769a39e",
   "metadata": {},
   "outputs": [],
   "source": [
    "df['length_ft'] = ..."
   ]
  },
  {
   "cell_type": "markdown",
   "id": "20e88e2c",
   "metadata": {},
   "source": [
    "**Problem 2.9** Are there any duplicates in the `coaster_name` column? If there are, remove any rows that have a duplicate `coaster_name` column."
   ]
  },
  {
   "cell_type": "code",
   "execution_count": null,
   "id": "3d28cb90",
   "metadata": {},
   "outputs": [],
   "source": [
    "num_duplicate_coasters = ...\n",
    "num_duplicate_coasters"
   ]
  },
  {
   "cell_type": "code",
   "execution_count": null,
   "id": "636e52aa",
   "metadata": {},
   "outputs": [],
   "source": [
    "# drop duplicate coaster names"
   ]
  },
  {
   "cell_type": "markdown",
   "id": "c130aead",
   "metadata": {},
   "source": [
    "**Problem 2.10** Use a Pandas method to get summary statistics for each numeric variable in the dataset."
   ]
  },
  {
   "cell_type": "code",
   "execution_count": null,
   "id": "693098ff",
   "metadata": {},
   "outputs": [],
   "source": []
  },
  {
   "cell_type": "markdown",
   "id": "5c936d8c",
   "metadata": {},
   "source": [
    "## 3. Visualize"
   ]
  },
  {
   "cell_type": "markdown",
   "id": "78e326bb",
   "metadata": {},
   "source": [
    "**Problem 3.1** In the following three cells, there is a problem with the data visualizations identify what the problems are and make the necessary changes to the data to get the proper plots. "
   ]
  },
  {
   "cell_type": "code",
   "execution_count": null,
   "id": "575dbced",
   "metadata": {},
   "outputs": [],
   "source": [
    "# Visualize the relationship between length and height of rollercoasters\n",
    "sns.scatterplot(data = df, x = 'length_ft',y='height_ft')\n",
    "plt.show()"
   ]
  },
  {
   "cell_type": "code",
   "execution_count": null,
   "id": "bc25d674",
   "metadata": {},
   "outputs": [],
   "source": [
    "# Visualize the relationship between speed and height of rollercoasters and their distributions\n",
    "sns.jointplot(data = df, x = 'speed_mph',y='height_ft')\n",
    "plt.show()"
   ]
  },
  {
   "cell_type": "code",
   "execution_count": null,
   "id": "8253971a",
   "metadata": {},
   "outputs": [],
   "source": [
    "# Visualize the trend in speed of rollercoasters over time\n",
    "sns.lineplot(data = df, x = 'opening_date',y = 'speed_mph')\n",
    "plt.show()"
   ]
  },
  {
   "cell_type": "code",
   "execution_count": null,
   "id": "4730c8a0",
   "metadata": {},
   "outputs": [],
   "source": [
    "# Make necessary changes here\n"
   ]
  },
  {
   "cell_type": "code",
   "execution_count": null,
   "id": "bdf441a3",
   "metadata": {},
   "outputs": [],
   "source": [
    "# REDO: Visualize the relationship between length and height of rollercoasters\n"
   ]
  },
  {
   "cell_type": "code",
   "execution_count": null,
   "id": "1d61ee85",
   "metadata": {},
   "outputs": [],
   "source": [
    "# REDO: Visualize the relationship between speed and height of rollercoasters and their distributions\n"
   ]
  },
  {
   "cell_type": "code",
   "execution_count": null,
   "id": "20795521",
   "metadata": {},
   "outputs": [],
   "source": [
    "# REDO: Visualize the trend in speed of rollercoasters over time\n"
   ]
  },
  {
   "cell_type": "markdown",
   "id": "c05b49fe",
   "metadata": {},
   "source": [
    "**Problem 3.2** The plot above showing the trend in speed vs time is a little messy. Let's look at the general relationship instead. Plot the relationship between `speed_mph` and `year_intoduced` (points) and show a regression line. Is it a positive correlation or a negative correlation? "
   ]
  },
  {
   "cell_type": "code",
   "execution_count": null,
   "id": "f09504a3",
   "metadata": {},
   "outputs": [],
   "source": []
  },
  {
   "cell_type": "markdown",
   "id": "2f729fbe",
   "metadata": {},
   "source": [
    "*Type your answer replacing this text.*"
   ]
  },
  {
   "cell_type": "markdown",
   "id": "c256ee2e",
   "metadata": {},
   "source": [
    "**Problem 3.3** Plot the correlation between all the numeric variables with a heatmap. (Be sure to annotate your heatmap with the correlation coefficients). Comment on what you see."
   ]
  },
  {
   "cell_type": "code",
   "execution_count": null,
   "id": "d03836cc",
   "metadata": {},
   "outputs": [],
   "source": []
  },
  {
   "cell_type": "markdown",
   "id": "6e0efadb",
   "metadata": {},
   "source": [
    "*Type your answer replacing this text.*"
   ]
  },
  {
   "cell_type": "markdown",
   "id": "50ce9d24",
   "metadata": {},
   "source": [
    "**Problem 3.4:** Visualize the relationship between the numeric variables with a Seaborn pairpplot. Comment on what you see."
   ]
  },
  {
   "cell_type": "code",
   "execution_count": null,
   "id": "7a004b7c",
   "metadata": {},
   "outputs": [],
   "source": []
  },
  {
   "cell_type": "markdown",
   "id": "6c9ec853",
   "metadata": {},
   "source": [
    "*Type your answer replacing this text.*"
   ]
  },
  {
   "cell_type": "markdown",
   "id": "0bceb1e3",
   "metadata": {},
   "source": [
    "**Problem 3.5** Visualize the number of rollercoasters of each `type_main`. What is the most common type of rollercoaster?"
   ]
  },
  {
   "cell_type": "code",
   "execution_count": null,
   "id": "17433fa1",
   "metadata": {},
   "outputs": [],
   "source": []
  },
  {
   "cell_type": "markdown",
   "id": "4cb404b0",
   "metadata": {},
   "source": [
    "*Type your answer replacing this text.*"
   ]
  },
  {
   "cell_type": "markdown",
   "id": "0e468a26",
   "metadata": {},
   "source": [
    "**Problem 3.5** Visualize the distribution of rollercoaster speeds (mph). "
   ]
  },
  {
   "cell_type": "code",
   "execution_count": null,
   "id": "8abe25a5",
   "metadata": {},
   "outputs": [],
   "source": []
  },
  {
   "cell_type": "markdown",
   "id": "3a118263",
   "metadata": {},
   "source": [
    "**Problem 3.6:** Visualize the smoothed distribution (KDE) of rollercoaster speeds (mph) for each `type_main` (either map it to color or facet by it). Are there any major differences in speed distributions across rollercoaster type?"
   ]
  },
  {
   "cell_type": "code",
   "execution_count": null,
   "id": "5875abfb",
   "metadata": {},
   "outputs": [],
   "source": []
  },
  {
   "cell_type": "markdown",
   "id": "76549ca3",
   "metadata": {},
   "source": [
    "*Type your answer replacing this text.*"
   ]
  },
  {
   "cell_type": "markdown",
   "id": "a18a2448",
   "metadata": {},
   "source": [
    "**Problem 3.7:** Visualize the smoothed distribution of rollercoaster speeds (mph) for each `type_main` AND the 5 number summary (min, 1st quartile, median, 3rd quartile, max).\n",
    "\n",
    "*HINT:* Which type of plot is a combination of a boxplot and a KDE? "
   ]
  },
  {
   "cell_type": "code",
   "execution_count": null,
   "id": "4f58cb93",
   "metadata": {},
   "outputs": [],
   "source": []
  },
  {
   "cell_type": "markdown",
   "id": "dae3b7ef",
   "metadata": {},
   "source": [
    "**Problem 3.7:** Create a data visualization to determine if there are any outliers in the numeric variables. Which variables have outliers?"
   ]
  },
  {
   "cell_type": "code",
   "execution_count": null,
   "id": "bb029f6b",
   "metadata": {},
   "outputs": [],
   "source": []
  },
  {
   "cell_type": "markdown",
   "id": "8d20f02c",
   "metadata": {},
   "source": [
    "*Type your answer replacing this text.*"
   ]
  },
  {
   "cell_type": "markdown",
   "id": "5de099f8",
   "metadata": {},
   "source": [
    "**Problem 3.8** Sort your data frame from fastest rollercoaster to slowest roller coaster. Then create a visualization showing the speed and the rollarcoaster name of the fastest 20 rollercoasters in the dataset. "
   ]
  },
  {
   "cell_type": "code",
   "execution_count": null,
   "id": "57085099",
   "metadata": {},
   "outputs": [],
   "source": [
    "df_sorted = ..."
   ]
  },
  {
   "cell_type": "code",
   "execution_count": null,
   "id": "1ee2ad01",
   "metadata": {},
   "outputs": [],
   "source": [
    "# Visualization here\n"
   ]
  },
  {
   "cell_type": "markdown",
   "id": "c2a8b2e1",
   "metadata": {},
   "source": [
    "**Problem 3.9:** Use pandas methods and data visualization to show how many rollercoasters were introduced in each year."
   ]
  },
  {
   "cell_type": "code",
   "execution_count": null,
   "id": "f097b4e9",
   "metadata": {},
   "outputs": [],
   "source": [
    "# Pandas methods\n"
   ]
  },
  {
   "cell_type": "code",
   "execution_count": null,
   "id": "00803d3e",
   "metadata": {},
   "outputs": [],
   "source": [
    "# Visualization\n"
   ]
  },
  {
   "cell_type": "markdown",
   "id": "781f03ac",
   "metadata": {},
   "source": [
    "**Problem 3.10:** Create 3 subplots showing the relationships of speed vs year introduced, speed vs height, and speed vs length."
   ]
  },
  {
   "cell_type": "code",
   "execution_count": null,
   "id": "4e892846",
   "metadata": {},
   "outputs": [],
   "source": []
  },
  {
   "cell_type": "markdown",
   "id": "27aeb9a1",
   "metadata": {},
   "source": [
    "## 4. Your exploration"
   ]
  },
  {
   "cell_type": "markdown",
   "id": "a39991d2",
   "metadata": {},
   "source": [
    "**Problem 4.1** Create a question about this dataset and use a data visualization to begin answering this question. Explain your thought process. "
   ]
  },
  {
   "cell_type": "code",
   "execution_count": null,
   "id": "4e9abda3",
   "metadata": {},
   "outputs": [],
   "source": []
  }
 ],
 "metadata": {
  "kernelspec": {
   "display_name": "Python 3 (ipykernel)",
   "language": "python",
   "name": "python3"
  },
  "language_info": {
   "codemirror_mode": {
    "name": "ipython",
    "version": 3
   },
   "file_extension": ".py",
   "mimetype": "text/x-python",
   "name": "python",
   "nbconvert_exporter": "python",
   "pygments_lexer": "ipython3",
   "version": "3.11.4"
  }
 },
 "nbformat": 4,
 "nbformat_minor": 5
}
