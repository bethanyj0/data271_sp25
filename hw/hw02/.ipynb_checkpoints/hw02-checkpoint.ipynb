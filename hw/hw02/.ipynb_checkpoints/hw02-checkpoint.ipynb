{
 "cells": [
  {
   "cell_type": "code",
   "execution_count": null,
   "id": "ca4819df",
   "metadata": {
    "deletable": false,
    "editable": false
   },
   "outputs": [],
   "source": [
    "# Initialize Otter\n",
    "import otter\n",
    "grader = otter.Notebook(\"hw02.ipynb\")"
   ]
  },
  {
   "cell_type": "markdown",
   "id": "d84e890d",
   "metadata": {},
   "source": [
    "# Homework 2: Python Modules `re` and `numpy`"
   ]
  },
  {
   "cell_type": "markdown",
   "id": "3c6940d4",
   "metadata": {},
   "source": [
    "Welcome to DATA 271: Data Wrangling and Visualization! This is your second homework assignment of the semester. \n",
    "\n",
    "In this assignment, we will be practice using some common and powerful Python modules, the `re` module and the `numpy` module. These will help you prepare for the rest of the semester. As always, if you get stuck or have questions feel free to discuss problems with your peers and come to office hours. \n",
    "\n",
    "For this homework and all future ones, please be sure to not re-assign variables throughout the notebook! For example, if you use `my_list` in your answer to one question, do not reassign it later on. Otherwise, you will fail tests that you passed previously. **NOTE:** This homework assignment contains hidden tests. Passing all the auto-graded tests in the assignment does *NOT* mean you have answered everything correctly. So be careful and check your work!"
   ]
  },
  {
   "cell_type": "code",
   "execution_count": null,
   "id": "f23531ab",
   "metadata": {
    "tags": []
   },
   "outputs": [],
   "source": [
    "import re\n",
    "import numpy as np\n",
    "import matplotlib.pyplot as plt\n",
    "from csv import reader"
   ]
  },
  {
   "cell_type": "markdown",
   "id": "fb8f9514",
   "metadata": {},
   "source": [
    "## 1. Regex on Book Reviews"
   ]
  },
  {
   "cell_type": "markdown",
   "id": "32c58b2a",
   "metadata": {
    "deletable": false,
    "editable": false
   },
   "source": [
    "**Question 1.1.** You are analyzing book reviews to help decide your next read. Each review includes a star rating, the number of likes, and the number of comments, formatted as follows:\n",
    "```python\n",
    "\"A beautifully written novel with unforgettable characters. Stars: 5 ⭐, Likes: 124, Comments: 37\"\n",
    "```\n",
    "\n",
    "Write a regular expression that extracts the statistics (including stars, likes, and comments) from `review` below. Your answer should be a string. For example, for the review above, the answer would be:\n",
    "\n",
    "```python\n",
    "'Stars: 5 ⭐, Likes: 124, Comments: 37'\n",
    "```\n",
    "\n",
    "Please assign your regular expression in the `stats_regex` variable and assign the output statistics in the `stats` variable. \n",
    "**(5 Points)**"
   ]
  },
  {
   "cell_type": "code",
   "execution_count": null,
   "id": "e5b3c104",
   "metadata": {
    "tags": []
   },
   "outputs": [],
   "source": [
    "review = \"Interesting premise but slow execution. Stars: 3 ⭐, Likes: 56, Comments: 12\"\n",
    "stats_regex = ...\n",
    "stats = ...\n",
    "stats"
   ]
  },
  {
   "cell_type": "code",
   "execution_count": null,
   "id": "d970384c",
   "metadata": {
    "deletable": false,
    "editable": false
   },
   "outputs": [],
   "source": [
    "grader.check(\"q1_1\")"
   ]
  },
  {
   "cell_type": "markdown",
   "id": "69c5d6fe",
   "metadata": {
    "deletable": false,
    "editable": false
   },
   "source": [
    "**Question 1.2.** Write a regex that finds the star rating in `review` above. Your answer should be a string. For example, \n",
    "```python\n",
    "'5'\n",
    "```\n",
    "Please assign your regular expression in the `stars_regex` variable and assign the output statistics in the `stars` variable.\n",
    "**(5 Points)**"
   ]
  },
  {
   "cell_type": "code",
   "execution_count": null,
   "id": "e63d5459",
   "metadata": {
    "tags": []
   },
   "outputs": [],
   "source": [
    "stars_regex = ...\n",
    "stars = ...\n",
    "stars"
   ]
  },
  {
   "cell_type": "code",
   "execution_count": null,
   "id": "a810f0d1",
   "metadata": {
    "deletable": false,
    "editable": false
   },
   "outputs": [],
   "source": [
    "grader.check(\"q1_2\")"
   ]
  },
  {
   "cell_type": "markdown",
   "id": "40519f61",
   "metadata": {
    "deletable": true,
    "tags": []
   },
   "source": [
    "**Question 1.3.** A sentiment analysis is a technique used to determine the emotional tone or attitude expressed in a piece of text. At its most basic level, sentiment analysis tries to classify whether a text is positive, negative, or neutral by looking for specific words and patterns. Think of it like a simple emotional detector - just as you might guess someone's mood by the words they use, sentiment analysis does this automatically with text.\n",
    "\n",
    "In its simplest form, sentiment analysis involves looking for positive words (like \"good,\" \"happy,\" \"excellent\") and negative words (like \"bad,\" \"sad,\" \"terrible\") to make a judgment about the overall sentiment. While real-world sentiment analysis can be quite sophisticated using machine learning and natural language processing, we can start to understand the concept by using simple pattern matching to count positive and negative words in text.\n",
    "\n",
    "Run the cell below to import book reviews for Mysterious Island by Jules Verne ([source](https://www.kaggle.com/datasets/meetnagadia/amazon-kindle-book-review-for-sentiment-analysis)). Use regular expression to perform a simple sentiment analysis on `book_reviews`. Assign `mysterious_island` to the 1 if the reviews indicate an overall positive attitude toward the book and assign 0 if the overall sentiment is negative. \n",
    "\n",
    "(*Hint* You will want to come up with your own list of positive and negative words. I have listed examples, but you should use of more. )\n",
    "**(5 Points)**"
   ]
  },
  {
   "cell_type": "code",
   "execution_count": null,
   "id": "e57fa00d-b50e-4140-8b78-1f2240a15f2a",
   "metadata": {
    "deletable": false,
    "editable": false,
    "tags": []
   },
   "outputs": [],
   "source": [
    "fhand = open('mysterious_island_reviews.txt', 'r') # file handle, open in read mode\n",
    "book_reviews = fhand.read()\n",
    "fhand.close()"
   ]
  },
  {
   "cell_type": "code",
   "execution_count": null,
   "id": "e8e90a64-82e4-46e4-9592-ec165ebfa50c",
   "metadata": {
    "tags": []
   },
   "outputs": [],
   "source": []
  },
  {
   "cell_type": "code",
   "execution_count": null,
   "id": "61d0db70",
   "metadata": {
    "tags": []
   },
   "outputs": [],
   "source": [
    "mysterious_island = ..."
   ]
  },
  {
   "cell_type": "code",
   "execution_count": null,
   "id": "e9911e1d",
   "metadata": {
    "deletable": false,
    "editable": false
   },
   "outputs": [],
   "source": [
    "grader.check(\"q1_3\")"
   ]
  },
  {
   "cell_type": "markdown",
   "id": "01c5b5b8-3c75-411f-a7b4-de64391d7e68",
   "metadata": {
    "deletable": false,
    "editable": false,
    "tags": []
   },
   "source": [
    "<!-- BEGIN QUESTION -->\n",
    "\n",
    "**Question 1.4.** Use regular expression and `book_reviews` to approximate how many reviewers gave Mysterious Island a poor rating (e.g. 1-2 stars). Assign `poor_ratings` to the number of poor ratings you expect, and explain your approach in text. \n",
    "**(5 Points)**"
   ]
  },
  {
   "cell_type": "code",
   "execution_count": null,
   "id": "71ec0351-9552-48cf-af89-6775625f60f5",
   "metadata": {
    "tags": []
   },
   "outputs": [],
   "source": []
  },
  {
   "cell_type": "code",
   "execution_count": null,
   "id": "38b1e8ae-88b1-4418-80db-1f307502a80b",
   "metadata": {
    "tags": []
   },
   "outputs": [],
   "source": [
    "poor_ratings = ..."
   ]
  },
  {
   "cell_type": "code",
   "execution_count": null,
   "id": "55e57428",
   "metadata": {
    "deletable": false,
    "editable": false,
    "otter": {
     "tests": [
      "q1_4_manual"
     ]
    }
   },
   "outputs": [],
   "source": [
    "grader.check(\"q1_4\")"
   ]
  },
  {
   "cell_type": "markdown",
   "id": "8e864d69-cc8a-42f5-9905-0a7edbf758ba",
   "metadata": {
    "deletable": false,
    "editable": false,
    "tags": []
   },
   "source": [
    "<!-- END QUESTION -->\n",
    "\n",
    "<!-- BEGIN QUESTION -->\n",
    "\n",
    "**Question 1.5.** Use regular expression and `book_reviews` to approximate how many reviewers gave Mysterious Island a positive rating (e.g. 1-2 stars). Assign `positive_ratings` to the number of poor ratings you expect and explain your approach in text. \n",
    "**(5 Points)**"
   ]
  },
  {
   "cell_type": "code",
   "execution_count": null,
   "id": "f50188de-fb45-446f-9c4f-1a71f4eb3ae7",
   "metadata": {
    "tags": []
   },
   "outputs": [],
   "source": []
  },
  {
   "cell_type": "code",
   "execution_count": null,
   "id": "0c8e2efc-4664-4525-bfde-e89201b5e6bc",
   "metadata": {
    "tags": []
   },
   "outputs": [],
   "source": [
    "positive_ratings = ..."
   ]
  },
  {
   "cell_type": "code",
   "execution_count": null,
   "id": "98f4b525",
   "metadata": {
    "deletable": false,
    "editable": false,
    "otter": {
     "tests": [
      "q1_5_manual"
     ]
    }
   },
   "outputs": [],
   "source": [
    "grader.check(\"q1_5\")"
   ]
  },
  {
   "cell_type": "markdown",
   "id": "e572349f",
   "metadata": {
    "deletable": false,
    "editable": false
   },
   "source": [
    "<!-- END QUESTION -->\n",
    "\n",
    "## 2. Regex on dates\n",
    "\n",
    "Pretend you are working with an environmental organization monitoring water quality off the coast of California. Your ultimate goal is to observe how water quality changes through time. The data you've been given are collected by voluteer citizens who go out and take samples of the water occasionally, but unfortunately all of the volunteers record dates in different styles. This makes it difficult to analyze the data through time, so you must first clean the data. \n",
    "\n",
    "Run the following cell to import the data. (These data were fabricated for the purpose of this exercise). "
   ]
  },
  {
   "cell_type": "code",
   "execution_count": null,
   "id": "ed6caf4f",
   "metadata": {},
   "outputs": [],
   "source": [
    "# Open and read the datasett\n",
    "water = open('water_data_dates.csv')\n",
    "water = reader(water) # type is csv.reader\n",
    "water = [i[0] for i in list(water)]\n",
    "water[0]=re.sub(\"\\ufeff\",\"\",water[0])\n",
    "water"
   ]
  },
  {
   "cell_type": "markdown",
   "id": "d2b84955",
   "metadata": {
    "deletable": false,
    "editable": false
   },
   "source": [
    "**Question 2.1.** Fill in the regular expression to find all the long-style dates in `water`. For example, find all the dates in the form `January 2 2023` or `January 02 2023` or `Jan 2 2023` or `Jan 02 2023.` or `Jan 2nd 2023.` (The specific month, day, and year do not have to match these examples, just the form). \n",
    "**(5 Points)**"
   ]
  },
  {
   "cell_type": "code",
   "execution_count": null,
   "id": "9617c483",
   "metadata": {
    "tags": []
   },
   "outputs": [],
   "source": [
    "regex = ...\n",
    "long_dates = [re.findall(regex,date)[0] for date in water if re.findall(regex,date) !=[]]\n",
    "long_dates"
   ]
  },
  {
   "cell_type": "code",
   "execution_count": null,
   "id": "4521b18a",
   "metadata": {
    "deletable": false,
    "editable": false
   },
   "outputs": [],
   "source": [
    "grader.check(\"q2_1\")"
   ]
  },
  {
   "cell_type": "markdown",
   "id": "45838132",
   "metadata": {
    "deletable": false,
    "editable": false
   },
   "source": [
    "**Question 2.2.** Fill in the regular expression to find all the short-style dates in `water`. For example, find all the dates in the form `1/2/23` or `01/02/2023` or `01/02/23` or `1/2/2023` or `1-1-2023` or `01-01-2023` or `01-01-23`  or `1-1-23`. (The specific month, day, and year do not have to match these examples, just the form). \n",
    "**(5 Points)**"
   ]
  },
  {
   "cell_type": "code",
   "execution_count": null,
   "id": "6f18da57",
   "metadata": {
    "scrolled": true,
    "tags": []
   },
   "outputs": [],
   "source": [
    "regex2 = ...\n",
    "short_dates = [re.findall(regex2,date)[0] for date in water if re.findall(regex2,date) !=[]] \n",
    "short_dates"
   ]
  },
  {
   "cell_type": "code",
   "execution_count": null,
   "id": "6b9894d4",
   "metadata": {
    "deletable": false,
    "editable": false
   },
   "outputs": [],
   "source": [
    "grader.check(\"q2_2\")"
   ]
  },
  {
   "cell_type": "markdown",
   "id": "6ee35f01",
   "metadata": {
    "deletable": false,
    "editable": false
   },
   "source": [
    "**Question 2.3.** Start cleaning the dates in `long_dates` to put them all in the form of `MON D YEAR`. For example, `January 2 2023` should become `Jan 2 2023` and `January 21st 2023` should become `Jan 21 2023`. (Again, the specific month, day, and year do not have to match this example, just the form). Your final answer should be a list which is the same length as `long_dates`.\n",
    "**(5 Points)**"
   ]
  },
  {
   "cell_type": "code",
   "execution_count": null,
   "id": "facd545c",
   "metadata": {
    "tags": []
   },
   "outputs": [],
   "source": [
    "clean_long_dates = ...\n",
    "clean_long_dates"
   ]
  },
  {
   "cell_type": "code",
   "execution_count": null,
   "id": "4ef0c99b",
   "metadata": {
    "deletable": false,
    "editable": false
   },
   "outputs": [],
   "source": [
    "grader.check(\"q2_3\")"
   ]
  },
  {
   "cell_type": "markdown",
   "id": "e1d51ff5-cf2d-4669-aa3d-1c1a4afb554c",
   "metadata": {},
   "source": [
    "## 3. Citations styles\n",
    "Pretend you're working on a paper for your English class. Just hours before the deadline, you discover a citation style mix-up. You originally formatted your paper using Harvard style citations, thinking that was the required format. However, the assignment instructions actually asked for MLA style.\n",
    "\n",
    "Your paper is long, with lots of carefully placed citations. Manually rewriting each citation would consume precious time, and you're worried you wouldn't finish before the deadline. You decide to use your regex skills to your advantage.\n",
    "\n",
    "Run the cell below to import the text of your paper. *NOTE:* This text of the paper was generated with AI. It is not a genuine academic paper and should just be used practice regex techniques for education purposes."
   ]
  },
  {
   "cell_type": "code",
   "execution_count": null,
   "id": "a57f3589-9601-49e7-baea-98a8950d5183",
   "metadata": {
    "tags": []
   },
   "outputs": [],
   "source": [
    "# Run this cell to import the paper\n",
    "fhand = open('english_paper.txt', 'r') # file handle, open in read mode\n",
    "english_paper = fhand.read()\n",
    "fhand.close()"
   ]
  },
  {
   "cell_type": "markdown",
   "id": "8f3b2207-d560-46e0-8ab6-8b0eb4a9eeb8",
   "metadata": {
    "deletable": false,
    "editable": false
   },
   "source": [
    "**Question 3.1** Make a regular expression that will match all the in-text citations. For example, it should match `(Smith et al. 2018)`, `(Johnson and Lee 2019)`, `(Taylor 2022)`, etc. Use your regular expression to find all the in-text citations in the English paper, and put them in a list called `in_text_matches`. **(5 points)**"
   ]
  },
  {
   "cell_type": "code",
   "execution_count": null,
   "id": "bc78e5fb-9083-44be-8ff3-cabec88b38e6",
   "metadata": {
    "tags": []
   },
   "outputs": [],
   "source": [
    "in_text_regex = ...\n",
    "in_text_matches = ...\n",
    "in_text_matches"
   ]
  },
  {
   "cell_type": "code",
   "execution_count": null,
   "id": "4acc47d1",
   "metadata": {
    "deletable": false,
    "editable": false
   },
   "outputs": [],
   "source": [
    "grader.check(\"q3_1\")"
   ]
  },
  {
   "cell_type": "markdown",
   "id": "a8b3d9b7-aea1-4577-b81d-744b23189c99",
   "metadata": {
    "deletable": false,
    "editable": false
   },
   "source": [
    "**Question 3.2** One difference between Harvard and MLA citation styles is that MLA requires a comma between the authors and the year in in-text citations. For example, (Smith et al. 2018) should be changed to (Smith et al., 2018). Use regular expression to make these changes. Update the paper's text and store it in `english_paper_update1`. **(5 points)**"
   ]
  },
  {
   "cell_type": "code",
   "execution_count": null,
   "id": "8754c287-eec5-499a-8717-c73a8e13cc8e",
   "metadata": {
    "tags": []
   },
   "outputs": [],
   "source": [
    "regex = ...\n",
    "english_paper_update1 = ...\n",
    "english_paper_update1"
   ]
  },
  {
   "cell_type": "code",
   "execution_count": null,
   "id": "d0c617c0",
   "metadata": {
    "deletable": false,
    "editable": false
   },
   "outputs": [],
   "source": [
    "grader.check(\"q3_2\")"
   ]
  },
  {
   "cell_type": "markdown",
   "id": "47df8a7f-987b-49d3-92dc-dd0f2d0fb141",
   "metadata": {
    "deletable": false,
    "editable": false
   },
   "source": [
    "**Question 3.3** Another difference between Harvard and MLA citation styles is that MLA uses an ampersand symbol (&) instead of the word \"and\" when there are two authors. For example, (Sharma and Gupta, 2024) should be changed to (Sharma & Gupta, 2024). Starting with `english_paper_update1`, use regular expression to make these changes and save them in `english_paper_update2`. **(5 points)**"
   ]
  },
  {
   "cell_type": "code",
   "execution_count": null,
   "id": "d83fe376-b640-41cb-a913-329cfc579e3f",
   "metadata": {
    "tags": []
   },
   "outputs": [],
   "source": [
    "english_paper_update2 = ...\n",
    "english_paper_update2"
   ]
  },
  {
   "cell_type": "code",
   "execution_count": null,
   "id": "edbbd1ae",
   "metadata": {
    "deletable": false,
    "editable": false
   },
   "outputs": [],
   "source": [
    "grader.check(\"q3_3\")"
   ]
  },
  {
   "cell_type": "markdown",
   "id": "27323053",
   "metadata": {},
   "source": [
    "## 4. Numpy for Financial Analysis\n",
    "Below is the daily open data for the S&P 500 in January 2025 ([source](https://www.investing.com/indices/us-spx-500-historical-data))."
   ]
  },
  {
   "cell_type": "code",
   "execution_count": null,
   "id": "c1de3fcb",
   "metadata": {
    "tags": []
   },
   "outputs": [],
   "source": [
    "# Stock prices\n",
    "stock_prices = np.array(\n",
    "[6096.79,\n",
    " 6050.75,\n",
    " 6057.7,\n",
    " 6026.97,\n",
    " 5969.04,\n",
    " 6121.43,\n",
    " 6076.32,\n",
    " 6081.39,\n",
    " 6014.12,\n",
    " 5995.4,\n",
    " 5963.61,\n",
    " 5905.21,\n",
    " 5859.27,\n",
    " 5782.02,\n",
    " 5890.35,\n",
    " 5910.66,\n",
    " 5993.26,\n",
    " 5982.81,\n",
    " 5891.07,\n",
    " 5903.26])"
   ]
  },
  {
   "cell_type": "markdown",
   "id": "adcf3577",
   "metadata": {
    "deletable": false,
    "editable": false
   },
   "source": [
    "**Question 4.1.** Calculate the daily percent change in stock prices and find the standard deviation of the percent change. Recall that percent change is \n",
    "\n",
    "$$\\frac{\\text{new_value-old_value}}{\\text{old_value}}\\times100$$\n",
    "\n",
    "*HINT:* You might find `np.diff` helpful. \n",
    "**(5 Points)**"
   ]
  },
  {
   "cell_type": "code",
   "execution_count": null,
   "id": "d5667faa",
   "metadata": {
    "scrolled": true,
    "tags": []
   },
   "outputs": [],
   "source": [
    "# Calculate daily percentage change\n",
    "percent_change = ...\n",
    "\n",
    "# Find standard deviation\n",
    "sd_change = ...\n",
    "sd_change"
   ]
  },
  {
   "cell_type": "code",
   "execution_count": null,
   "id": "b59ff266",
   "metadata": {
    "deletable": false,
    "editable": false
   },
   "outputs": [],
   "source": [
    "grader.check(\"q4_1\")"
   ]
  },
  {
   "cell_type": "markdown",
   "id": "ad55b18f",
   "metadata": {
    "deletable": false,
    "editable": false
   },
   "source": [
    "**Question 4.2:** *Trend analysis:* A moving average is a statistical technique used to smooth out fluctuations or noise in a dataset, making it easier to identify trends or patterns over time. It calculates the average of a subset of consecutive data points within a specified window or interval, and then moves the window forward one data point at a time, recalculating the average each time.\n",
    "\n",
    "Compute the 5-day moving average of stock prices to identify long-term trends in stock prices. Put your results in a numpy array called `moving_average`.\n",
    "\n",
    "*Hint:* To compute a moving average:\n",
    "\n",
    "- Set the window size: 5 in this case\n",
    "- Calculate the average: Take the average of the data points within the window at each step. This average becomes the value of the moving average at that position.\n",
    "- Move the window: Slide the window forward by one data point and recalculate the average. Repeat this process until the window reaches the end of the dataset.\n",
    " \n",
    "**(5 Points)**"
   ]
  },
  {
   "cell_type": "code",
   "execution_count": null,
   "id": "4f36f0f0",
   "metadata": {
    "tags": []
   },
   "outputs": [],
   "source": [
    "window_size = ...\n",
    "moving_average = ...\n",
    "\n",
    "...\n",
    "    moving_average = ...\n",
    "\n",
    "moving_average"
   ]
  },
  {
   "cell_type": "code",
   "execution_count": null,
   "id": "cff6b2d1",
   "metadata": {
    "deletable": false,
    "editable": false
   },
   "outputs": [],
   "source": [
    "grader.check(\"q4_2\")"
   ]
  },
  {
   "cell_type": "markdown",
   "id": "9c062fa8",
   "metadata": {
    "deletable": false,
    "editable": false
   },
   "source": [
    "**Question 4.3:** Now recompute the percent change from your moving average and find the standard deviation. What do you observe? **(5 Points)**"
   ]
  },
  {
   "cell_type": "code",
   "execution_count": null,
   "id": "42c3e850",
   "metadata": {
    "tags": []
   },
   "outputs": [],
   "source": [
    "# Calculate percentage change\n",
    "percent_change_ma = ...\n",
    "\n",
    "# Find standard deviation\n",
    "sd_change_ma = ...\n",
    "sd_change_ma"
   ]
  },
  {
   "cell_type": "code",
   "execution_count": null,
   "id": "549e9edb",
   "metadata": {
    "deletable": false,
    "editable": false
   },
   "outputs": [],
   "source": [
    "grader.check(\"q4_3\")"
   ]
  },
  {
   "cell_type": "markdown",
   "id": "b6e5c192",
   "metadata": {},
   "source": [
    "## 5. Numpy for Student Performance\n",
    "Suppose you have scores for students across multiple exams in a class. Each row represents a student, and each column represents an exam. (These data are fabricated for the purpose of this exercise. We will generate the score randomly in the cell below)."
   ]
  },
  {
   "cell_type": "code",
   "execution_count": null,
   "id": "4d0aa516",
   "metadata": {
    "tags": []
   },
   "outputs": [],
   "source": [
    "num_students = 50\n",
    "num_exams = 4\n",
    "exam_scores = np.random.normal(82, 7, size=(num_students, num_exams))"
   ]
  },
  {
   "cell_type": "markdown",
   "id": "3d4daad5",
   "metadata": {
    "deletable": false,
    "editable": false
   },
   "source": [
    "**Question 5.1:** Compute the average score for each exams. Your answer should be an array with each entry being the average score of each exam. \n",
    "**(5 Points)**"
   ]
  },
  {
   "cell_type": "code",
   "execution_count": null,
   "id": "737a6309",
   "metadata": {
    "tags": []
   },
   "outputs": [],
   "source": [
    "average_scores = ...\n",
    "average_scores"
   ]
  },
  {
   "cell_type": "code",
   "execution_count": null,
   "id": "1a6b8f58",
   "metadata": {
    "deletable": false,
    "editable": false
   },
   "outputs": [],
   "source": [
    "grader.check(\"q5_1\")"
   ]
  },
  {
   "cell_type": "markdown",
   "id": "5f07ae68",
   "metadata": {
    "deletable": false,
    "editable": false
   },
   "source": [
    "**Question 5.2:** The first three columns are midterms worth 20% each, and the last column is the final worth 40% of the overall grade. Compute each student's overall grade in the class. \n",
    "**(5 Points)**"
   ]
  },
  {
   "cell_type": "code",
   "execution_count": null,
   "id": "5019fbbd",
   "metadata": {
    "tags": []
   },
   "outputs": [],
   "source": [
    "student_grades = ...\n",
    "student_grades"
   ]
  },
  {
   "cell_type": "code",
   "execution_count": null,
   "id": "2a89af83",
   "metadata": {
    "deletable": false,
    "editable": false
   },
   "outputs": [],
   "source": [
    "grader.check(\"q5_2\")"
   ]
  },
  {
   "cell_type": "markdown",
   "id": "17f69703",
   "metadata": {
    "deletable": false,
    "editable": false
   },
   "source": [
    "**Question 5.3:** How did the student who got the highest grade overall do on exam 2?\n",
    "**(5 Points)**"
   ]
  },
  {
   "cell_type": "code",
   "execution_count": null,
   "id": "ebd389ca",
   "metadata": {
    "tags": []
   },
   "outputs": [],
   "source": [
    "exam_2_grade = ...\n",
    "exam_2_grade"
   ]
  },
  {
   "cell_type": "code",
   "execution_count": null,
   "id": "af4e5c4c",
   "metadata": {
    "deletable": false,
    "editable": false
   },
   "outputs": [],
   "source": [
    "grader.check(\"q5_3\")"
   ]
  },
  {
   "cell_type": "markdown",
   "id": "ab3181df",
   "metadata": {},
   "source": [
    "## 6. Random Functions in Numpy for Simulation: Estimating $\\pi$\n",
    "\n",
    "In this problem we will use Numpy's random number generation to estimate $\\pi$.\n",
    "\n",
    "Consider the unit circle inscribed in a square. The circle, with radius $1$ has an area of $A = \\pi$.  The square with sides of length $2$ has an area of $4$. The ratio of the area of the circle to the area of the square is therefore $\\frac{\\pi}{4}$.  If we throw darts randomly, the number of darts that land  in the circle divided by the total number of darts thrown will be described by the ratio of $\\frac{\\pi}{4}$.\n",
    "\n",
    "It is enough to just consider the quarter circle and quarter square in the first quadrant, because the ratio in one quadrant should be the same as the ratio for the whole inscribed circle. Because the equation of the unit circle is $x^2+y^2 = 1$ we know a point is within the quarter circle if $\\sqrt{x^2 + y^2} <1 $. Otherwise, it falls outside of the circle."
   ]
  },
  {
   "cell_type": "markdown",
   "id": "4057a33c",
   "metadata": {
    "deletable": false,
    "editable": false
   },
   "source": [
    "**Question 6.1:** Generate an array of size $1000 \\times 2$ with random numbers between 0 and 1. The first column will represent the x-coordinates of 1000 randomly thrown darts, and the second column will be the y-coordinates. **(5 Points)**"
   ]
  },
  {
   "cell_type": "code",
   "execution_count": null,
   "id": "ce4ecb4d",
   "metadata": {
    "tags": []
   },
   "outputs": [],
   "source": [
    "random_darts = ..."
   ]
  },
  {
   "cell_type": "code",
   "execution_count": null,
   "id": "9329a9b1",
   "metadata": {
    "deletable": false,
    "editable": false
   },
   "outputs": [],
   "source": [
    "grader.check(\"q6_1\")"
   ]
  },
  {
   "cell_type": "markdown",
   "id": "ad2f9b8e",
   "metadata": {
    "deletable": false,
    "editable": false
   },
   "source": [
    "**Question 6.2:** Create an array with all the points from `random_darts` that fall inside the first quadrant of the unit circle. **(5 Points)**"
   ]
  },
  {
   "cell_type": "code",
   "execution_count": null,
   "id": "db5a5391",
   "metadata": {
    "tags": []
   },
   "outputs": [],
   "source": [
    "inside = ...\n",
    "inside"
   ]
  },
  {
   "cell_type": "code",
   "execution_count": null,
   "id": "50c700e2",
   "metadata": {
    "deletable": false,
    "editable": false
   },
   "outputs": [],
   "source": [
    "grader.check(\"q6_2\")"
   ]
  },
  {
   "cell_type": "markdown",
   "id": "910c21e4",
   "metadata": {
    "deletable": false,
    "editable": false
   },
   "source": [
    "**Question 6.3:** Use your previous two answers to get an approximation of $\\pi$. **(5 Points)**"
   ]
  },
  {
   "cell_type": "code",
   "execution_count": null,
   "id": "c1bf0882",
   "metadata": {
    "tags": []
   },
   "outputs": [],
   "source": [
    "pi_approx = ...\n",
    "pi_approx"
   ]
  },
  {
   "cell_type": "code",
   "execution_count": null,
   "id": "cd40cc40",
   "metadata": {
    "deletable": false,
    "editable": false
   },
   "outputs": [],
   "source": [
    "grader.check(\"q6_3\")"
   ]
  },
  {
   "cell_type": "markdown",
   "id": "73f620c9",
   "metadata": {},
   "source": [
    "Run the following cell to visualize where your random darts landed. The blue ones are inside the unit circle, the red ones are outside. "
   ]
  },
  {
   "cell_type": "code",
   "execution_count": null,
   "id": "39aeebc6",
   "metadata": {
    "tags": []
   },
   "outputs": [],
   "source": [
    "# To visualize\n",
    "plt.figure(figsize = (8, 8))\n",
    "plt.scatter(random_darts[:, 0], random_darts[:, 1], s= 1, c = 'red') \n",
    "plt.scatter(inside[:, 0], inside[:, 1], s = 1, c = 'blue')\n",
    "plt.show()"
   ]
  },
  {
   "cell_type": "markdown",
   "id": "9234f059",
   "metadata": {},
   "source": [
    "## You're done!\n",
    "\n",
    "Congratulations! You finished Homework 2! Download the zip file and upload to Canvas. "
   ]
  },
  {
   "cell_type": "markdown",
   "id": "c9f472f9",
   "metadata": {
    "deletable": false,
    "editable": false
   },
   "source": [
    "## Submission\n",
    "\n",
    "Make sure you have run all cells in your notebook in order before running the cell below, so that all images/graphs appear in the output. The cell below will generate a zip file for you to submit. **Please save before exporting!**"
   ]
  },
  {
   "cell_type": "code",
   "execution_count": null,
   "id": "aca4760c",
   "metadata": {
    "deletable": false,
    "editable": false
   },
   "outputs": [],
   "source": [
    "# Save your notebook first, then run this cell to export your submission.\n",
    "grader.export(run_tests=True)"
   ]
  },
  {
   "cell_type": "markdown",
   "id": "77d6d6f7",
   "metadata": {},
   "source": [
    " "
   ]
  }
 ],
 "metadata": {
  "kernelspec": {
   "display_name": "Python 3 (ipykernel)",
   "language": "python",
   "name": "python3"
  },
  "language_info": {
   "codemirror_mode": {
    "name": "ipython",
    "version": 3
   },
   "file_extension": ".py",
   "mimetype": "text/x-python",
   "name": "python",
   "nbconvert_exporter": "python",
   "pygments_lexer": "ipython3",
   "version": "3.11.4"
  },
  "otter": {
   "OK_FORMAT": true,
   "tests": {
    "q1_1": {
     "name": "q1_1",
     "points": [
      0
     ],
     "suites": [
      {
       "cases": [
        {
         "code": ">>> stats != ... and stats_regex != ...\nTrue",
         "hidden": false,
         "locked": false
        }
       ],
       "scored": true,
       "setup": "",
       "teardown": "",
       "type": "doctest"
      }
     ]
    },
    "q1_2": {
     "name": "q1_2",
     "points": [
      0
     ],
     "suites": [
      {
       "cases": [
        {
         "code": ">>> stars != ... and stars_regex != ...\nTrue",
         "hidden": false,
         "locked": false
        }
       ],
       "scored": true,
       "setup": "",
       "teardown": "",
       "type": "doctest"
      }
     ]
    },
    "q1_3": {
     "name": "q1_3",
     "points": [
      0
     ],
     "suites": [
      {
       "cases": [
        {
         "code": ">>> mysterious_island != ...\nTrue",
         "hidden": false,
         "locked": false
        }
       ],
       "scored": true,
       "setup": "",
       "teardown": "",
       "type": "doctest"
      }
     ]
    },
    "q1_4": {
     "name": "q1_4",
     "points": null,
     "suites": [
      {
       "cases": [
        {
         "code": ">>> poor_ratings != ...\nTrue",
         "hidden": false,
         "locked": false
        }
       ],
       "scored": true,
       "setup": "",
       "teardown": "",
       "type": "doctest"
      }
     ]
    },
    "q1_4_manual": {
     "name": "q1_4_manual",
     "points": [],
     "suites": [
      {
       "cases": [],
       "scored": true,
       "setup": "",
       "teardown": "",
       "type": "doctest"
      }
     ]
    },
    "q1_5": {
     "name": "q1_5",
     "points": null,
     "suites": [
      {
       "cases": [
        {
         "code": ">>> positive_ratings != ...\nTrue",
         "hidden": false,
         "locked": false
        }
       ],
       "scored": true,
       "setup": "",
       "teardown": "",
       "type": "doctest"
      }
     ]
    },
    "q1_5_manual": {
     "name": "q1_5_manual",
     "points": [],
     "suites": [
      {
       "cases": [],
       "scored": true,
       "setup": "",
       "teardown": "",
       "type": "doctest"
      }
     ]
    },
    "q2_1": {
     "name": "q2_1",
     "points": [
      0
     ],
     "suites": [
      {
       "cases": [
        {
         "code": ">>> regex != ...\nTrue",
         "hidden": false,
         "locked": false
        }
       ],
       "scored": true,
       "setup": "",
       "teardown": "",
       "type": "doctest"
      }
     ]
    },
    "q2_2": {
     "name": "q2_2",
     "points": [
      0
     ],
     "suites": [
      {
       "cases": [
        {
         "code": ">>> regex2 != ...\nTrue",
         "hidden": false,
         "locked": false
        }
       ],
       "scored": true,
       "setup": "",
       "teardown": "",
       "type": "doctest"
      }
     ]
    },
    "q2_3": {
     "name": "q2_3",
     "points": [
      0
     ],
     "suites": [
      {
       "cases": [
        {
         "code": ">>> clean_long_dates != ...\nTrue",
         "hidden": false,
         "locked": false
        }
       ],
       "scored": true,
       "setup": "",
       "teardown": "",
       "type": "doctest"
      }
     ]
    },
    "q3_1": {
     "name": "q3_1",
     "points": [
      0
     ],
     "suites": [
      {
       "cases": [
        {
         "code": ">>> in_text_matches != ...\nTrue",
         "hidden": false,
         "locked": false
        }
       ],
       "scored": true,
       "setup": "",
       "teardown": "",
       "type": "doctest"
      }
     ]
    },
    "q3_2": {
     "name": "q3_2",
     "points": [
      0
     ],
     "suites": [
      {
       "cases": [
        {
         "code": ">>> english_paper_update1 != ...\nTrue",
         "hidden": false,
         "locked": false
        }
       ],
       "scored": true,
       "setup": "",
       "teardown": "",
       "type": "doctest"
      }
     ]
    },
    "q3_3": {
     "name": "q3_3",
     "points": [
      0
     ],
     "suites": [
      {
       "cases": [
        {
         "code": ">>> english_paper_update2 != ...\nTrue",
         "hidden": false,
         "locked": false
        }
       ],
       "scored": true,
       "setup": "",
       "teardown": "",
       "type": "doctest"
      }
     ]
    },
    "q4_1": {
     "name": "q4_1",
     "points": [
      0
     ],
     "suites": [
      {
       "cases": [
        {
         "code": ">>> len(percent_change) == 19\nTrue",
         "hidden": false,
         "locked": false
        }
       ],
       "scored": true,
       "setup": "",
       "teardown": "",
       "type": "doctest"
      }
     ]
    },
    "q4_2": {
     "name": "q4_2",
     "points": [
      0,
      0
     ],
     "suites": [
      {
       "cases": [
        {
         "code": ">>> window_size != ...\nTrue",
         "hidden": false,
         "locked": false
        },
        {
         "code": ">>> len(moving_average)\n16",
         "hidden": false,
         "locked": false
        }
       ],
       "scored": true,
       "setup": "",
       "teardown": "",
       "type": "doctest"
      }
     ]
    },
    "q4_3": {
     "name": "q4_3",
     "points": [
      0
     ],
     "suites": [
      {
       "cases": [
        {
         "code": ">>> len(percent_change_ma)\n15",
         "hidden": false,
         "locked": false
        }
       ],
       "scored": true,
       "setup": "",
       "teardown": "",
       "type": "doctest"
      }
     ]
    },
    "q5_1": {
     "name": "q5_1",
     "points": [
      0
     ],
     "suites": [
      {
       "cases": [
        {
         "code": ">>> len(average_scores)\n4",
         "hidden": false,
         "locked": false
        }
       ],
       "scored": true,
       "setup": "",
       "teardown": "",
       "type": "doctest"
      }
     ]
    },
    "q5_2": {
     "name": "q5_2",
     "points": [
      0
     ],
     "suites": [
      {
       "cases": [
        {
         "code": ">>> len(student_grades)\n50",
         "hidden": false,
         "locked": false
        }
       ],
       "scored": true,
       "setup": "",
       "teardown": "",
       "type": "doctest"
      }
     ]
    },
    "q5_3": {
     "name": "q5_3",
     "points": [
      0
     ],
     "suites": [
      {
       "cases": [
        {
         "code": ">>> exam_2_grade != ...\nTrue",
         "hidden": false,
         "locked": false
        }
       ],
       "scored": true,
       "setup": "",
       "teardown": "",
       "type": "doctest"
      }
     ]
    },
    "q6_1": {
     "name": "q6_1",
     "points": [
      0
     ],
     "suites": [
      {
       "cases": [
        {
         "code": ">>> random_darts.dtype == np.array([0.1]).dtype\nTrue",
         "hidden": false,
         "locked": false
        }
       ],
       "scored": true,
       "setup": "",
       "teardown": "",
       "type": "doctest"
      }
     ]
    },
    "q6_2": {
     "name": "q6_2",
     "points": [
      0
     ],
     "suites": [
      {
       "cases": [
        {
         "code": ">>> 700 <= len(inside) <= 850\nTrue",
         "hidden": false,
         "locked": false
        }
       ],
       "scored": true,
       "setup": "",
       "teardown": "",
       "type": "doctest"
      }
     ]
    },
    "q6_3": {
     "name": "q6_3",
     "points": [
      0
     ],
     "suites": [
      {
       "cases": [
        {
         "code": ">>> 3 < pi_approx < 3.3\nTrue",
         "hidden": false,
         "locked": false
        }
       ],
       "scored": true,
       "setup": "",
       "teardown": "",
       "type": "doctest"
      }
     ]
    }
   }
  }
 },
 "nbformat": 4,
 "nbformat_minor": 5
}
