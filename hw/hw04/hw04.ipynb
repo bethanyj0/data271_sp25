{
 "cells": [
  {
   "cell_type": "code",
   "execution_count": null,
   "id": "349cada6",
   "metadata": {
    "deletable": false,
    "editable": false
   },
   "outputs": [],
   "source": [
    "# Initialize Otter\n",
    "import otter\n",
    "grader = otter.Notebook(\"hw04.ipynb\")"
   ]
  },
  {
   "cell_type": "markdown",
   "id": "d84e890d",
   "metadata": {},
   "source": [
    "# Homework 4: Exploring and Visualizing Data"
   ]
  },
  {
   "cell_type": "markdown",
   "id": "3c6940d4",
   "metadata": {},
   "source": [
    "Welcome to homework 4 of DATA 271: Data Wrangling and Visualization! In this assignment, we will practice exploring data with visualizations and summaries. As always, if you get stuck or have questions feel free to discuss problems with your peers and come to office hours. \n",
    "\n",
    "For this homework and all future ones, please be sure to not re-assign variables throughout the notebook! For example, if you use `my_list` in your answer to one question, do not reassign it later on. Otherwise, you will fail tests that you passed previously. **NOTE:** This homework assignment contains hidden tests. Passing all the auto-graded tests in the assignment does *NOT* mean you have answered everything correctly. So be careful and check your work!"
   ]
  },
  {
   "cell_type": "markdown",
   "id": "c8ead896",
   "metadata": {
    "deletable": false,
    "editable": false
   },
   "source": [
    "<!-- BEGIN QUESTION -->\n",
    "\n",
    "**Question 0:** Import the appropriate modules for this assignment including NumPy, Pandas, Matplotlib, and Seaborn. **(5 Points)**"
   ]
  },
  {
   "cell_type": "code",
   "execution_count": null,
   "id": "55cf2d3a",
   "metadata": {
    "otter": {
     "tests": [
      "q0_manual"
     ]
    },
    "tags": []
   },
   "outputs": [],
   "source": []
  },
  {
   "cell_type": "markdown",
   "id": "fb8f9514",
   "metadata": {
    "deletable": false,
    "editable": false
   },
   "source": [
    "<!-- END QUESTION -->\n",
    "\n",
    "## 1. Grammar of Graphics"
   ]
  },
  {
   "cell_type": "markdown",
   "id": "f80cbd74",
   "metadata": {
    "deletable": false,
    "editable": false
   },
   "source": [
    "<!-- BEGIN QUESTION -->\n",
    "\n",
    "**Question 1.1.** What are the main components of a layered grammar of graphics? List them below and give a short description of each. **(5 Points)**"
   ]
  },
  {
   "cell_type": "markdown",
   "id": "6a00449c",
   "metadata": {},
   "source": [
    "_Type your answer here, replacing this text._"
   ]
  },
  {
   "cell_type": "markdown",
   "id": "11f25008",
   "metadata": {
    "deletable": false,
    "editable": false
   },
   "source": [
    "<!-- END QUESTION -->\n",
    "\n",
    "<!-- BEGIN QUESTION -->\n",
    "\n",
    "**Question 1.2.** Based on what you see in the figure below, deconstruct the visualization into it's grammar of graphics components. \n",
    "\n",
    "<img src=\"cars_graphic.PNG\" alt=\"drawing\" width=\"500\"/>\n",
    "\n",
    "**(5 Points)**"
   ]
  },
  {
   "cell_type": "markdown",
   "id": "2de259a7",
   "metadata": {},
   "source": [
    "_Type your answer here, replacing this text._"
   ]
  },
  {
   "cell_type": "markdown",
   "id": "e83e40dc",
   "metadata": {
    "deletable": false,
    "editable": false
   },
   "source": [
    "<!-- END QUESTION -->\n",
    "\n",
    "<!-- BEGIN QUESTION -->\n",
    "\n",
    "**Question 1.3.** Based on what you see in the figure below, deconstruct the visualization into it's grammar of graphics components. \n",
    "\n",
    "<img src=\"country_graphic.PNG\" alt=\"drawing\" width=\"500\"/>\n",
    "\n",
    "**(5 Points)**"
   ]
  },
  {
   "cell_type": "markdown",
   "id": "9017e8f3",
   "metadata": {},
   "source": [
    "_Type your answer here, replacing this text._"
   ]
  },
  {
   "cell_type": "markdown",
   "id": "e868bfbf",
   "metadata": {
    "deletable": false,
    "editable": false
   },
   "source": [
    "<!-- END QUESTION -->\n",
    "\n",
    "# 2. Exploritory Data Analysis on Penguins\n",
    "In the following problem we will be working with the `penguins.csv` file (already imported into your local repository if you are on JupyterHub). \n",
    "\n",
    "The data were collected and made available by Dr. Kristen Gorman and the Palmer Station, Antarctica LTER, a member of the Long Term Ecological Research Network. \n",
    "\n",
    "We will work through and exploritory data analysis on this dataset, and maybe learn a little about penguins along the way!"
   ]
  },
  {
   "cell_type": "markdown",
   "id": "efc032c8",
   "metadata": {
    "deletable": false,
    "editable": false
   },
   "source": [
    "**Question 2.1:** Import the `penguins.csv` as a Pandas DataFrame. **(5 Points)**"
   ]
  },
  {
   "cell_type": "code",
   "execution_count": null,
   "id": "9c9a6626",
   "metadata": {
    "tags": []
   },
   "outputs": [],
   "source": [
    "penguins = ...\n",
    "penguins.head()"
   ]
  },
  {
   "cell_type": "code",
   "execution_count": null,
   "id": "69817b61",
   "metadata": {
    "deletable": false,
    "editable": false
   },
   "outputs": [],
   "source": [
    "grader.check(\"q2_1\")"
   ]
  },
  {
   "cell_type": "markdown",
   "id": "f9955a61",
   "metadata": {
    "deletable": false,
    "editable": false
   },
   "source": [
    "**Question 2.2:** How many penguins are in the dataset? (i.e. How many rows are there?) **(5 Points)**"
   ]
  },
  {
   "cell_type": "code",
   "execution_count": null,
   "id": "54ccd25e",
   "metadata": {
    "tags": []
   },
   "outputs": [],
   "source": [
    "num_penguins = ...\n",
    "num_penguins"
   ]
  },
  {
   "cell_type": "code",
   "execution_count": null,
   "id": "4a732329",
   "metadata": {
    "deletable": false,
    "editable": false
   },
   "outputs": [],
   "source": [
    "grader.check(\"q2_2\")"
   ]
  },
  {
   "cell_type": "markdown",
   "id": "2478ce98",
   "metadata": {
    "deletable": false,
    "editable": false
   },
   "source": [
    "**Question 2.3:** Create a Python list of the column labels in your `penguins` DataFrame. **(5 Points)**"
   ]
  },
  {
   "cell_type": "code",
   "execution_count": null,
   "id": "5b0a4775",
   "metadata": {
    "tags": []
   },
   "outputs": [],
   "source": [
    "col_names = ...\n",
    "col_names"
   ]
  },
  {
   "cell_type": "code",
   "execution_count": null,
   "id": "29113743",
   "metadata": {
    "deletable": false,
    "editable": false
   },
   "outputs": [],
   "source": [
    "grader.check(\"q2_3\")"
   ]
  },
  {
   "cell_type": "markdown",
   "id": "823553e2",
   "metadata": {},
   "source": [
    "In case you aren't familiar with some of these terms, feel free to check out [this paper](https://doi.org/10.1371/journal.pone.0090081) where the data were originally published to learn more. Here is a diagram of the bill length and depth too.\n",
    "\n",
    "<img src=\"culmen_depth.PNG\" alt=\"drawing\" width=\"400\"/>\n",
    "\n",
    "Artwork by @allison_horst"
   ]
  },
  {
   "cell_type": "markdown",
   "id": "e8958035",
   "metadata": {
    "deletable": false,
    "editable": false
   },
   "source": [
    "**Question 2.4:** How many species of penguins are in the dataset? **(5 Points)**"
   ]
  },
  {
   "cell_type": "code",
   "execution_count": null,
   "id": "ce333c9f",
   "metadata": {
    "tags": []
   },
   "outputs": [],
   "source": [
    "num_species = ...\n",
    "num_species"
   ]
  },
  {
   "cell_type": "code",
   "execution_count": null,
   "id": "551aa602",
   "metadata": {
    "deletable": false,
    "editable": false
   },
   "outputs": [],
   "source": [
    "grader.check(\"q2_4\")"
   ]
  },
  {
   "cell_type": "markdown",
   "id": "5b06c779",
   "metadata": {
    "deletable": false,
    "editable": false
   },
   "source": [
    "**Question 2.5:** How many islands are in the dataset? **(5 Points)**"
   ]
  },
  {
   "cell_type": "code",
   "execution_count": null,
   "id": "6209c8eb",
   "metadata": {
    "tags": []
   },
   "outputs": [],
   "source": [
    "num_islands = ...\n",
    "num_islands"
   ]
  },
  {
   "cell_type": "code",
   "execution_count": null,
   "id": "d54f89f6",
   "metadata": {
    "deletable": false,
    "editable": false
   },
   "outputs": [],
   "source": [
    "grader.check(\"q2_5\")"
   ]
  },
  {
   "cell_type": "markdown",
   "id": "8bd9c4d3",
   "metadata": {
    "deletable": false,
    "editable": false
   },
   "source": [
    "**Question 2.6:** Are there any null values in the dataset? Assign `null_vals` to `True` if yes and `False` if no. **(5 Points)**"
   ]
  },
  {
   "cell_type": "code",
   "execution_count": null,
   "id": "9ad29125",
   "metadata": {
    "tags": []
   },
   "outputs": [],
   "source": [
    "null_vals = ...\n",
    "null_vals"
   ]
  },
  {
   "cell_type": "code",
   "execution_count": null,
   "id": "8c0cdb0d",
   "metadata": {
    "deletable": false,
    "editable": false
   },
   "outputs": [],
   "source": [
    "grader.check(\"q2_6\")"
   ]
  },
  {
   "cell_type": "markdown",
   "id": "6ebb1d51",
   "metadata": {
    "deletable": false,
    "editable": false
   },
   "source": [
    "**Question 2.7:** Which column in the dataset has the largest mean? Which one has the smallest mean?\n",
    "\n",
    "*NOTE:* Your answers should be strings of appropriate column names. **(5 Points)**"
   ]
  },
  {
   "cell_type": "code",
   "execution_count": null,
   "id": "788868ea",
   "metadata": {
    "tags": []
   },
   "outputs": [],
   "source": [
    "max_mean = ...\n",
    "min_mean = ...\n",
    "max_mean, min_mean"
   ]
  },
  {
   "cell_type": "code",
   "execution_count": null,
   "id": "0ce90b60",
   "metadata": {
    "deletable": false,
    "editable": false
   },
   "outputs": [],
   "source": [
    "grader.check(\"q2_7\")"
   ]
  },
  {
   "cell_type": "markdown",
   "id": "c612b930",
   "metadata": {
    "deletable": false,
    "editable": false
   },
   "source": [
    "**Question 2.8:** Create a Pandas Series that shows how many total penguins there are on each island. Then make a barplot to visualize your results. (Be sure to label your axes!) \n",
    "\n",
    "*HINT:* If you are using Seaborn, try using `seaborn.countplot`.  \n",
    "**(5 Points)**"
   ]
  },
  {
   "cell_type": "code",
   "execution_count": null,
   "id": "ba7274c1",
   "metadata": {
    "tags": []
   },
   "outputs": [],
   "source": [
    "# Create your series here\n",
    "penguins_per_island = ...\n",
    "penguins_per_island"
   ]
  },
  {
   "cell_type": "code",
   "execution_count": null,
   "id": "00995746",
   "metadata": {
    "tags": []
   },
   "outputs": [],
   "source": [
    "# Create your plot here"
   ]
  },
  {
   "cell_type": "code",
   "execution_count": null,
   "id": "61658ad1",
   "metadata": {
    "deletable": false,
    "editable": false
   },
   "outputs": [],
   "source": [
    "grader.check(\"q2_8\")"
   ]
  },
  {
   "cell_type": "markdown",
   "id": "859c298e",
   "metadata": {
    "deletable": false,
    "editable": false
   },
   "source": [
    "**Question 2.9:** Create a Pandas Series that shows how many total penguins there are of each species. Then make a barplot to visualize your results. (Be sure to label your axes!) \n",
    "\n",
    "*HINT:* If you are using Seaborn, try using `seaborn.countplot`.  \n",
    "**(5 Points)**"
   ]
  },
  {
   "cell_type": "code",
   "execution_count": null,
   "id": "efdfd8ed",
   "metadata": {
    "tags": []
   },
   "outputs": [],
   "source": [
    "# Create your series here\n",
    "penguins_per_species = ...\n",
    "penguins_per_species"
   ]
  },
  {
   "cell_type": "code",
   "execution_count": null,
   "id": "2cf14da2",
   "metadata": {
    "tags": []
   },
   "outputs": [],
   "source": [
    "# Create your plot here"
   ]
  },
  {
   "cell_type": "code",
   "execution_count": null,
   "id": "361a9c5a",
   "metadata": {
    "deletable": false,
    "editable": false
   },
   "outputs": [],
   "source": [
    "grader.check(\"q2_9\")"
   ]
  },
  {
   "cell_type": "markdown",
   "id": "6a74eac2",
   "metadata": {
    "deletable": false,
    "editable": false
   },
   "source": [
    "**Question 2.10.1:** Create a Pandas Series that shows how many total penguins there are of each species on each island. Then make a barplot to visualize your results. (Be sure to label your axes!) \n",
    "\n",
    "*HINT:* If you are using Seaborn, try using `seaborn.countplot`.  \n",
    "**(5 Points)**"
   ]
  },
  {
   "cell_type": "code",
   "execution_count": null,
   "id": "9f399ab4",
   "metadata": {
    "tags": []
   },
   "outputs": [],
   "source": [
    "species_per_island = ...\n",
    "species_per_island"
   ]
  },
  {
   "cell_type": "code",
   "execution_count": null,
   "id": "a0ba1a7e",
   "metadata": {
    "tags": []
   },
   "outputs": [],
   "source": []
  },
  {
   "cell_type": "code",
   "execution_count": null,
   "id": "edd86328",
   "metadata": {
    "deletable": false,
    "editable": false
   },
   "outputs": [],
   "source": [
    "grader.check(\"q2_10_1\")"
   ]
  },
  {
   "cell_type": "markdown",
   "id": "f4c3dc5c",
   "metadata": {
    "deletable": false,
    "editable": false
   },
   "source": [
    "**Question 2.10.2:** Use your solutions from the problem above to answer the following True or False questions. \n",
    "\n",
    "- **Statement 1:** Adelie penguins are on all the islands in the dataset. \n",
    "- **Statement 2:** Gentoo penguins are only on Biscoe island in the dataset.\n",
    "- **Statement 3:** All species are on Dream island in the dataset.\n",
    "- **Statement 4:** There are more Gentoo penguins than Adelie penguins on Biscoe island.\n",
    "- **Statement 5:** Chinstrap penguins are only on Torgenson island in the dataset.  \n",
    "\n",
    "Assign each statement to a bool indicating whether it is true or false. \n",
    "**(5 Points)**"
   ]
  },
  {
   "cell_type": "code",
   "execution_count": null,
   "id": "349e3a34",
   "metadata": {
    "tags": []
   },
   "outputs": [],
   "source": [
    "statement1 = ...\n",
    "statement2 = ...\n",
    "statement3 = ...\n",
    "statement4 = ...\n",
    "statement5 = ..."
   ]
  },
  {
   "cell_type": "code",
   "execution_count": null,
   "id": "86c4baba",
   "metadata": {
    "deletable": false,
    "editable": false
   },
   "outputs": [],
   "source": [
    "grader.check(\"q2_10_2\")"
   ]
  },
  {
   "cell_type": "markdown",
   "id": "bf843f35",
   "metadata": {
    "deletable": false,
    "editable": false
   },
   "source": [
    "<!-- BEGIN QUESTION -->\n",
    "\n",
    "**Question 2.11:** Let's start exploring the numeric variables. Use seaborn to look at the distributions of and relationships between all the numeric variables. Comment on anything interesting you find.\n",
    "**(2 Points)**"
   ]
  },
  {
   "cell_type": "markdown",
   "id": "99471990",
   "metadata": {},
   "source": [
    "_Type your answer here, replacing this text._"
   ]
  },
  {
   "cell_type": "code",
   "execution_count": null,
   "id": "2e5818b7",
   "metadata": {
    "tags": []
   },
   "outputs": [],
   "source": [
    "# Create your visulization here"
   ]
  },
  {
   "cell_type": "markdown",
   "id": "860b366f",
   "metadata": {
    "deletable": false,
    "editable": false
   },
   "source": [
    "<!-- END QUESTION -->\n",
    "\n",
    "<!-- BEGIN QUESTION -->\n",
    "\n",
    "**Question 2.12:** Some of the pairplots above have interesting gaps. Use seaborn to make a pairplot of all the numeric variables where each species is a different color. Comment on anything interesting you find.\n",
    "**(5 Points)**"
   ]
  },
  {
   "cell_type": "markdown",
   "id": "31c0a254",
   "metadata": {},
   "source": [
    "_Type your answer here, replacing this text._"
   ]
  },
  {
   "cell_type": "code",
   "execution_count": null,
   "id": "cc5b28fa",
   "metadata": {
    "tags": []
   },
   "outputs": [],
   "source": [
    "# Create your visulization here"
   ]
  },
  {
   "cell_type": "markdown",
   "id": "9708b05c",
   "metadata": {
    "deletable": false,
    "editable": false
   },
   "source": [
    "<!-- END QUESTION -->\n",
    "\n",
    "**Question 2.12:** How do the numeric variables correlate with one another? Use a heatmap to visualize the correlations and then answer the following true or false values. \n",
    "\n",
    "- **Statement A:** Bill length and Bill depth are positively correlated. \n",
    "- **Statement B:** Body mass and flipper length are positively correlated. \n",
    "- **Statement C:** Body mass and bill depth are negatively correlated. \n",
    "  \n",
    "Assign each statement to a bool indicating whether it is true or false.\n",
    "\n",
    "**(5 Points)**"
   ]
  },
  {
   "cell_type": "code",
   "execution_count": null,
   "id": "749eb5b5",
   "metadata": {
    "tags": []
   },
   "outputs": [],
   "source": [
    "# Create your visulization here\n",
    "plt.show()"
   ]
  },
  {
   "cell_type": "code",
   "execution_count": null,
   "id": "4ebe7edf",
   "metadata": {
    "tags": []
   },
   "outputs": [],
   "source": [
    "statement_a = ...\n",
    "statement_b = ...\n",
    "statement_c = ..."
   ]
  },
  {
   "cell_type": "code",
   "execution_count": null,
   "id": "2b94fb1b",
   "metadata": {
    "deletable": false,
    "editable": false
   },
   "outputs": [],
   "source": [
    "grader.check(\"q2_13\")"
   ]
  },
  {
   "cell_type": "markdown",
   "id": "d12a48ea",
   "metadata": {
    "deletable": false,
    "editable": false
   },
   "source": [
    "**Question 2.14:** \n",
    "\n",
    "**Scenario 1:** Suppose you found a penguin that had a flipper length of 240 mm and bill depth of 15 mm, what species would you guess the penguin is?  \n",
    "**Scenario 2:** Suppose you found a penguin that had a bill depth of 18 mm and a body mass of 3500 g, what species would you guess the penguin is?  \n",
    "**Scenario 3:** Suppose you found a penguin that had a flipper length of 190 mm and a bill length of 37, what species would you guess the penguin is?\n",
    "\n",
    "1. Adelie\n",
    "2. Chinstrap\n",
    "3. Gentoo\n",
    "4. Too difficult to determine\n",
    "\n",
    "Enter 1, 2, 3, 4 for the scenarios below. \n",
    "**(3 Points)**"
   ]
  },
  {
   "cell_type": "code",
   "execution_count": null,
   "id": "7c26ab63",
   "metadata": {
    "tags": []
   },
   "outputs": [],
   "source": [
    "scenario1 = ...\n",
    "scenario2 = ...\n",
    "scenario3 = ..."
   ]
  },
  {
   "cell_type": "code",
   "execution_count": null,
   "id": "47389313",
   "metadata": {
    "deletable": false,
    "editable": false
   },
   "outputs": [],
   "source": [
    "grader.check(\"q2_14\")"
   ]
  },
  {
   "cell_type": "markdown",
   "id": "633a318b",
   "metadata": {
    "deletable": false,
    "editable": false
   },
   "source": [
    "<!-- BEGIN QUESTION -->\n",
    "\n",
    "**Question 2.15:** Based on your answers above, what attributes (or combinations of attributes) of penguins might be helpful for predicting penguin species. Which attributes (or combinations of attributes) would not be very helpful?\n",
    "**(2 Points)**"
   ]
  },
  {
   "cell_type": "markdown",
   "id": "5895a7b3",
   "metadata": {},
   "source": [
    "_Type your answer here, replacing this text._"
   ]
  },
  {
   "cell_type": "markdown",
   "id": "3f691f4f",
   "metadata": {
    "deletable": false,
    "editable": false
   },
   "source": [
    "<!-- END QUESTION -->\n",
    "\n",
    "<img src=\"lter_penguins.PNG\" alt=\"drawing\" width=\"400\"/>\n",
    "Artwork by @allison_horst"
   ]
  },
  {
   "cell_type": "markdown",
   "id": "095cd936",
   "metadata": {},
   "source": [
    "# 3. Exploritory Data Analysis on Diabetes"
   ]
  },
  {
   "cell_type": "markdown",
   "id": "71d41b01",
   "metadata": {
    "deletable": false,
    "editable": false
   },
   "source": [
    "<!-- BEGIN QUESTION -->\n",
    "\n",
    "**Question 3.1:** Import `diabetes_prediction_dataset.csv` ([source](https://www.kaggle.com/datasets/iammustafatz/diabetes-prediction-dataset/data)) and perform your own exploratory analysis on it. You can use the steps we went through on the penguins dataset as inspiration, but be creative and think if your own ways of exploring and visualizing the data too. Explain what you find with markdown cells as you go. \n",
    "\n",
    "Identify columns (if any) in the dataset that could potentially help predict if a patient has diabetes. \n",
    "**(10 Points)**"
   ]
  },
  {
   "cell_type": "markdown",
   "id": "087aeb39",
   "metadata": {},
   "source": [
    "_Type your answer here, replacing this text._"
   ]
  },
  {
   "cell_type": "code",
   "execution_count": null,
   "id": "eb99576e",
   "metadata": {
    "scrolled": true,
    "tags": []
   },
   "outputs": [],
   "source": [
    "df = ...\n",
    "df"
   ]
  },
  {
   "cell_type": "code",
   "execution_count": null,
   "id": "412bd208-47a5-4335-bd5c-594c4161861b",
   "metadata": {
    "tags": []
   },
   "outputs": [],
   "source": []
  },
  {
   "cell_type": "code",
   "execution_count": null,
   "id": "0fb82ca5-dda9-472c-af4a-8ae6d8ed914a",
   "metadata": {
    "tags": []
   },
   "outputs": [],
   "source": []
  },
  {
   "cell_type": "code",
   "execution_count": null,
   "id": "26f85fac-5025-4b02-9e02-da58dc9972ca",
   "metadata": {
    "tags": []
   },
   "outputs": [],
   "source": []
  },
  {
   "cell_type": "code",
   "execution_count": null,
   "id": "5acb70f4-2292-49a9-a4ff-b58f93411c97",
   "metadata": {
    "tags": []
   },
   "outputs": [],
   "source": []
  },
  {
   "cell_type": "code",
   "execution_count": null,
   "id": "b14ffcfd-25e3-49ce-88e1-d9eca368029b",
   "metadata": {
    "tags": []
   },
   "outputs": [],
   "source": []
  },
  {
   "cell_type": "code",
   "execution_count": null,
   "id": "b5c73961-1bd9-48fe-8468-190d1a1f616f",
   "metadata": {
    "tags": []
   },
   "outputs": [],
   "source": []
  },
  {
   "cell_type": "code",
   "execution_count": null,
   "id": "26aa0d04",
   "metadata": {
    "tags": []
   },
   "outputs": [],
   "source": []
  },
  {
   "cell_type": "code",
   "execution_count": null,
   "id": "9893c224",
   "metadata": {
    "tags": []
   },
   "outputs": [],
   "source": []
  },
  {
   "cell_type": "code",
   "execution_count": null,
   "id": "f6c7bd56",
   "metadata": {
    "tags": []
   },
   "outputs": [],
   "source": []
  },
  {
   "cell_type": "code",
   "execution_count": null,
   "id": "577c9f70-dcb1-423f-924c-8e36bf617682",
   "metadata": {
    "tags": []
   },
   "outputs": [],
   "source": []
  },
  {
   "cell_type": "code",
   "execution_count": null,
   "id": "3f474fba-3b95-4b10-a8ab-28ecb86a497d",
   "metadata": {
    "tags": []
   },
   "outputs": [],
   "source": []
  },
  {
   "cell_type": "code",
   "execution_count": null,
   "id": "02f27d63-789f-4b24-92b8-3fec9ccce253",
   "metadata": {
    "tags": []
   },
   "outputs": [],
   "source": []
  },
  {
   "cell_type": "markdown",
   "id": "ba872d57",
   "metadata": {
    "deletable": false,
    "editable": false
   },
   "source": [
    "<!-- END QUESTION -->\n",
    "\n",
    "## You're done! \n",
    "Congrats on finishing Homework 4! Run the following cell to download a zip and submit to Canvas. "
   ]
  },
  {
   "cell_type": "markdown",
   "id": "ca4c8d8a",
   "metadata": {
    "deletable": false,
    "editable": false
   },
   "source": [
    "## Submission\n",
    "\n",
    "Make sure you have run all cells in your notebook in order before running the cell below, so that all images/graphs appear in the output. The cell below will generate a zip file for you to submit. **Please save before exporting!**"
   ]
  },
  {
   "cell_type": "code",
   "execution_count": null,
   "id": "31dca228",
   "metadata": {
    "deletable": false,
    "editable": false
   },
   "outputs": [],
   "source": [
    "# Save your notebook first, then run this cell to export your submission.\n",
    "grader.export(run_tests=True)"
   ]
  },
  {
   "cell_type": "markdown",
   "id": "9aec9228",
   "metadata": {},
   "source": [
    " "
   ]
  }
 ],
 "metadata": {
  "kernelspec": {
   "display_name": "Python 3 (ipykernel)",
   "language": "python",
   "name": "python3"
  },
  "language_info": {
   "codemirror_mode": {
    "name": "ipython",
    "version": 3
   },
   "file_extension": ".py",
   "mimetype": "text/x-python",
   "name": "python",
   "nbconvert_exporter": "python",
   "pygments_lexer": "ipython3",
   "version": "3.11.4"
  },
  "otter": {
   "OK_FORMAT": true,
   "tests": {
    "q0_manual": {
     "name": "q0_manual",
     "points": [],
     "suites": [
      {
       "cases": [],
       "scored": true,
       "setup": "",
       "teardown": "",
       "type": "doctest"
      }
     ]
    },
    "q1_1_manual": {
     "name": "q1_1_manual",
     "points": [],
     "suites": [
      {
       "cases": [],
       "scored": true,
       "setup": "",
       "teardown": "",
       "type": "doctest"
      }
     ]
    },
    "q1_2_manual": {
     "name": "q1_2_manual",
     "points": [],
     "suites": [
      {
       "cases": [],
       "scored": true,
       "setup": "",
       "teardown": "",
       "type": "doctest"
      }
     ]
    },
    "q1_3_manual": {
     "name": "q1_3_manual",
     "points": [],
     "suites": [
      {
       "cases": [],
       "scored": true,
       "setup": "",
       "teardown": "",
       "type": "doctest"
      }
     ]
    },
    "q2_1": {
     "name": "q2_1",
     "points": [
      0
     ],
     "suites": [
      {
       "cases": [
        {
         "code": ">>> not penguins.empty\nTrue",
         "hidden": false,
         "locked": false
        }
       ],
       "scored": true,
       "setup": "",
       "teardown": "",
       "type": "doctest"
      }
     ]
    },
    "q2_10_1": {
     "name": "q2_10_1",
     "points": [
      0
     ],
     "suites": [
      {
       "cases": [
        {
         "code": ">>> (species_per_island != ...).sum()\n5",
         "hidden": false,
         "locked": false
        }
       ],
       "scored": true,
       "setup": "",
       "teardown": "",
       "type": "doctest"
      }
     ]
    },
    "q2_10_2": {
     "name": "q2_10_2",
     "points": [
      0
     ],
     "suites": [
      {
       "cases": [
        {
         "code": ">>> statement1 != ... and statement2 != ... and (statement3 != ...) and (statement4 != ...) and (statement5 != ...)\nTrue",
         "hidden": false,
         "locked": false
        }
       ],
       "scored": true,
       "setup": "",
       "teardown": "",
       "type": "doctest"
      }
     ]
    },
    "q2_11_manual": {
     "name": "q2_11_manual",
     "points": [],
     "suites": [
      {
       "cases": [],
       "scored": true,
       "setup": "",
       "teardown": "",
       "type": "doctest"
      }
     ]
    },
    "q2_12_manual": {
     "name": "q2_12_manual",
     "points": [],
     "suites": [
      {
       "cases": [],
       "scored": true,
       "setup": "",
       "teardown": "",
       "type": "doctest"
      }
     ]
    },
    "q2_13": {
     "name": "q2_13",
     "points": [
      0
     ],
     "suites": [
      {
       "cases": [
        {
         "code": ">>> statement_a != ... and statement_b != ... and (statement_c != ...)\nTrue",
         "hidden": false,
         "locked": false
        }
       ],
       "scored": true,
       "setup": "",
       "teardown": "",
       "type": "doctest"
      }
     ]
    },
    "q2_14": {
     "name": "q2_14",
     "points": [
      0
     ],
     "suites": [
      {
       "cases": [
        {
         "code": ">>> type(scenario1) == int and type(scenario2) == int and (type(scenario3) == int)\nTrue",
         "hidden": false,
         "locked": false
        }
       ],
       "scored": true,
       "setup": "",
       "teardown": "",
       "type": "doctest"
      }
     ]
    },
    "q2_2": {
     "name": "q2_2",
     "points": [
      0
     ],
     "suites": [
      {
       "cases": [
        {
         "code": ">>> num_penguins != ...\nTrue",
         "hidden": false,
         "locked": false
        }
       ],
       "scored": true,
       "setup": "",
       "teardown": "",
       "type": "doctest"
      }
     ]
    },
    "q2_3": {
     "name": "q2_3",
     "points": [
      0
     ],
     "suites": [
      {
       "cases": [
        {
         "code": ">>> col_names != ...\nTrue",
         "hidden": false,
         "locked": false
        }
       ],
       "scored": true,
       "setup": "",
       "teardown": "",
       "type": "doctest"
      }
     ]
    },
    "q2_4": {
     "name": "q2_4",
     "points": [
      0
     ],
     "suites": [
      {
       "cases": [
        {
         "code": ">>> num_species != ...\nTrue",
         "hidden": false,
         "locked": false
        }
       ],
       "scored": true,
       "setup": "",
       "teardown": "",
       "type": "doctest"
      }
     ]
    },
    "q2_5": {
     "name": "q2_5",
     "points": [
      0
     ],
     "suites": [
      {
       "cases": [
        {
         "code": ">>> num_islands != ...\nTrue",
         "hidden": false,
         "locked": false
        }
       ],
       "scored": true,
       "setup": "",
       "teardown": "",
       "type": "doctest"
      }
     ]
    },
    "q2_6": {
     "name": "q2_6",
     "points": [
      0
     ],
     "suites": [
      {
       "cases": [
        {
         "code": ">>> null_vals != ...\nTrue",
         "hidden": false,
         "locked": false
        }
       ],
       "scored": true,
       "setup": "",
       "teardown": "",
       "type": "doctest"
      }
     ]
    },
    "q2_7": {
     "name": "q2_7",
     "points": [
      0
     ],
     "suites": [
      {
       "cases": [
        {
         "code": ">>> max_mean != ... and min_mean != ...\nTrue",
         "hidden": false,
         "locked": false
        }
       ],
       "scored": true,
       "setup": "",
       "teardown": "",
       "type": "doctest"
      }
     ]
    },
    "q2_8": {
     "name": "q2_8",
     "points": [
      0
     ],
     "suites": [
      {
       "cases": [
        {
         "code": ">>> (penguins_per_island != ...).sum()\n3",
         "hidden": false,
         "locked": false
        }
       ],
       "scored": true,
       "setup": "",
       "teardown": "",
       "type": "doctest"
      }
     ]
    },
    "q2_9": {
     "name": "q2_9",
     "points": [
      0
     ],
     "suites": [
      {
       "cases": [
        {
         "code": ">>> (penguins_per_island != ...).sum()\n3",
         "hidden": false,
         "locked": false
        }
       ],
       "scored": true,
       "setup": "",
       "teardown": "",
       "type": "doctest"
      }
     ]
    },
    "q3_1_manual": {
     "name": "q3_1_manual",
     "points": [],
     "suites": [
      {
       "cases": [],
       "scored": true,
       "setup": "",
       "teardown": "",
       "type": "doctest"
      }
     ]
    }
   }
  }
 },
 "nbformat": 4,
 "nbformat_minor": 5
}
