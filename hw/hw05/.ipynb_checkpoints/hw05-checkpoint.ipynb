{
 "cells": [
  {
   "cell_type": "code",
   "execution_count": null,
   "id": "01c1d509",
   "metadata": {
    "deletable": false,
    "editable": false
   },
   "outputs": [],
   "source": [
    "# Initialize Otter\n",
    "import otter\n",
    "grader = otter.Notebook(\"hw05.ipynb\")"
   ]
  },
  {
   "cell_type": "markdown",
   "id": "51d72711",
   "metadata": {},
   "source": [
    "# Homework 5\n",
    "\n",
    "Welcome to Homework 5 of DATA 271: Data Wrangling and Visualization! In this assignment, we will practice importing data from an API and exploring data. Remember that part of working with APIs is learning how to find answers—whether that's through documentation, forums, or tools like ChatGPT. If you get stuck, practice searching for solutions just like a real data scientist would! As always, if you have questions feel free to discuss problems with your peers and come to office hours.\n",
    "\n",
    "For this homework and all future ones, please be sure to not re-assign variables throughout the notebook! For example, if you use `my_list` in your answer to one question, do not reassign it later on. Otherwise, you will fail tests that you passed previously. **NOTE:** This homework assignment contains hidden tests. Passing all the auto-graded tests in the assignment does *NOT* mean you have answered everything correctly. So be careful and check your work!"
   ]
  },
  {
   "cell_type": "markdown",
   "id": "f5dec8da",
   "metadata": {},
   "source": [
    "### Import libraries"
   ]
  },
  {
   "cell_type": "markdown",
   "id": "c8ead896",
   "metadata": {
    "deletable": false,
    "editable": false
   },
   "source": [
    "**Question 0:** Import the appropriate modules for this assignment including NumPy, Pandas, Matplotlib, and Seaborn, Regular Expression (re), and Requests. **(1 Points)**"
   ]
  },
  {
   "cell_type": "code",
   "execution_count": null,
   "id": "55cf2d3a",
   "metadata": {
    "otter": {
     "tests": [
      "q0"
     ]
    },
    "tags": []
   },
   "outputs": [],
   "source": []
  },
  {
   "cell_type": "markdown",
   "id": "896f80c3",
   "metadata": {},
   "source": [
    "### 1. Importing the data\n",
    "\n",
    "In this assignment, you will practice using an API to retrieve air quality data from [OpenAQ](https://openaq.org/). You will explore available data, extract air quality measurements for different locations in California, and analyze trends over time.\n",
    "\n",
    "To acquire the data, you will use the [OpenAQ API](https://docs.openaq.org/about/about). To get started, go to [OpenAQ API documentation](https://docs.openaq.org/using-the-api/api-key) and sign up for a free account if needed. Once signed in, navigate to your profile and copy your API Key.\n",
    "\n",
    "Before making requests, read through the documentation to understand the available endpoints and data structure.\n",
    "\n",
    "NOTE: Creating an account is entirely free. You should NOT enter any payment information."
   ]
  },
  {
   "cell_type": "markdown",
   "id": "726fa5a4",
   "metadata": {
    "deletable": false,
    "editable": false
   },
   "source": [
    "**Question 1.1:** Assign your copied API Key to the string `api_key`. We will use this as a header when you make your API requests.**(1 Points)**"
   ]
  },
  {
   "cell_type": "code",
   "execution_count": null,
   "id": "87281a09",
   "metadata": {
    "tags": []
   },
   "outputs": [],
   "source": [
    "api_key = ...\n",
    "headers = {\"X-API-Key\": api_key}"
   ]
  },
  {
   "cell_type": "code",
   "execution_count": null,
   "id": "5ca68507",
   "metadata": {
    "deletable": false,
    "editable": false
   },
   "outputs": [],
   "source": [
    "grader.check(\"q1_1\")"
   ]
  },
  {
   "cell_type": "markdown",
   "id": "8ede4121",
   "metadata": {
    "deletable": false,
    "editable": false
   },
   "source": [
    "**Question 1.2:** All requests from the OpenAQ API will use a common base URL. Refer to the documentation to determine what the base URL is and assign it to `base_url`. **(1 Points)**"
   ]
  },
  {
   "cell_type": "code",
   "execution_count": null,
   "id": "94b7c6e9",
   "metadata": {
    "tags": []
   },
   "outputs": [],
   "source": [
    "base_url = ..."
   ]
  },
  {
   "cell_type": "code",
   "execution_count": null,
   "id": "f9ef9868",
   "metadata": {
    "deletable": false,
    "editable": false
   },
   "outputs": [],
   "source": [
    "grader.check(\"q1_2\")"
   ]
  },
  {
   "cell_type": "markdown",
   "id": "9b424733",
   "metadata": {
    "deletable": false,
    "editable": false
   },
   "source": [
    "**Question 1.3:** We will focus on several locations in California: Davis, Anaheim, Fresno, and San Francisco . The respective location IDs are provided. In each location, we will look at PM2.5 data, which refers to fine particulate matter with a diameter of 2.5 micrometers or smaller. These particles are small enough to be inhaled deep into the lungs and can have significant health effects.\n",
    "\n",
    "Use the sensors endpoint to get the sensor ID associated with the PM2.5 parameter for each of these locations. Put the sensor IDs in a dictionary called `pm25_sensors` where the keys are the names of the locations and the values are the PM2.5 sensor ID in that location. Your sensor IDs should be type string. **(5 Points)**"
   ]
  },
  {
   "cell_type": "code",
   "execution_count": null,
   "id": "327ddbcf-0841-4929-a8c1-9670a4dbedf5",
   "metadata": {
    "tags": []
   },
   "outputs": [],
   "source": [
    "location_ids = {'Davis': '878', 'Anaheim': '8875', 'Fresno':'895', 'San Francisco': '2009'}"
   ]
  },
  {
   "cell_type": "code",
   "execution_count": null,
   "id": "0f5fa54e",
   "metadata": {
    "tags": []
   },
   "outputs": [],
   "source": [
    "# Use this cell to find sensor ids"
   ]
  },
  {
   "cell_type": "code",
   "execution_count": null,
   "id": "d9e34e48-e1aa-4e65-abfd-776ba27df184",
   "metadata": {
    "tags": []
   },
   "outputs": [],
   "source": [
    "pm25_sensors = ..."
   ]
  },
  {
   "cell_type": "code",
   "execution_count": null,
   "id": "3b166506",
   "metadata": {
    "deletable": false,
    "editable": false
   },
   "outputs": [],
   "source": [
    "grader.check(\"q1_3\")"
   ]
  },
  {
   "cell_type": "markdown",
   "id": "bbba6ddc-c0f5-4bd8-aa5c-3f4ddf160cb1",
   "metadata": {
    "deletable": false,
    "editable": false
   },
   "source": [
    "**Question 1.4:** Pull the daily PM2.5 air quality data for each location over January 1, 2020 to December 31, 2022. Store the data for each location in separate response objects. \n",
    "\n",
    "*NOTE:* Set the limit to 1000. **(5 Points)**"
   ]
  },
  {
   "cell_type": "code",
   "execution_count": null,
   "id": "3fd3ab96-37df-42c4-bd84-9a1ce5a8e257",
   "metadata": {
    "tags": []
   },
   "outputs": [],
   "source": [
    "# Use this cell to pull the Davis data\n",
    "davis_pm25 = ..."
   ]
  },
  {
   "cell_type": "code",
   "execution_count": null,
   "id": "cc389c88-22e1-4bb2-a27e-d9f47f01311c",
   "metadata": {
    "tags": []
   },
   "outputs": [],
   "source": [
    "# Use this cell to pull the Anaheim data\n",
    "anaheim_pm25 = ..."
   ]
  },
  {
   "cell_type": "code",
   "execution_count": null,
   "id": "f20b2168-2ff5-42e8-9dbe-3f1a11c4d2a8",
   "metadata": {
    "tags": []
   },
   "outputs": [],
   "source": [
    "# Use this cell to pull the Fresno data\n",
    "fresno_pm25 = ..."
   ]
  },
  {
   "cell_type": "code",
   "execution_count": null,
   "id": "682fac50-2289-44c2-9fde-2b7c86df6e7d",
   "metadata": {
    "tags": []
   },
   "outputs": [],
   "source": [
    "# Use this cell to pull the San Francisco data\n",
    "sf_pm25 = ..."
   ]
  },
  {
   "cell_type": "code",
   "execution_count": null,
   "id": "4d42ee02",
   "metadata": {
    "deletable": false,
    "editable": false
   },
   "outputs": [],
   "source": [
    "grader.check(\"q1_4\")"
   ]
  },
  {
   "cell_type": "markdown",
   "id": "3ccbbf78",
   "metadata": {},
   "source": [
    "### 2. Inspecting the data\n",
    "We'll start understanding the output by focusing on the data from the Davis location."
   ]
  },
  {
   "cell_type": "markdown",
   "id": "179b8edf",
   "metadata": {
    "deletable": false,
    "editable": false
   },
   "source": [
    "**Question 2.1:** Recall that a payload in API is the actual data pack that is sent with the `GET` method. The payload can be sent or received in various formats, including JSON.\n",
    "The two primary parts that make up JSON are keys and values like a dictionary. Use the `.json()` method on the Davis response object to get the payload and assign it to `payload`. \n",
    "\n",
    "Then inspect the keys of `payload`. \n",
    "\n",
    "In a markdown cell, explain what information is associated with each key. **(2 Points)**"
   ]
  },
  {
   "cell_type": "code",
   "execution_count": null,
   "id": "a76a8f17",
   "metadata": {
    "tags": []
   },
   "outputs": [],
   "source": [
    "payload = ..."
   ]
  },
  {
   "cell_type": "code",
   "execution_count": null,
   "id": "80f4e651",
   "metadata": {
    "deletable": false,
    "editable": false
   },
   "outputs": [],
   "source": [
    "grader.check(\"q2_1\")"
   ]
  },
  {
   "cell_type": "markdown",
   "id": "1db0608c",
   "metadata": {
    "deletable": false,
    "editable": false
   },
   "source": [
    "**Question 2.2:** Take some time to inspect the results of the payload to get a feel for what is stored in it. Then, when you are ready, put the results into a Pandas DataFrame called `davis_df`.\n",
    "**(5 Points)**"
   ]
  },
  {
   "cell_type": "code",
   "execution_count": null,
   "id": "66523593",
   "metadata": {
    "tags": []
   },
   "outputs": [],
   "source": [
    "davis_df = ...\n",
    "davis_df.head()"
   ]
  },
  {
   "cell_type": "code",
   "execution_count": null,
   "id": "d6f8a5b2",
   "metadata": {
    "deletable": false,
    "editable": false
   },
   "outputs": [],
   "source": [
    "grader.check(\"q2_2\")"
   ]
  },
  {
   "cell_type": "markdown",
   "id": "22b41a43",
   "metadata": {
    "deletable": false,
    "editable": false
   },
   "source": [
    "**Question 2.3:** Follow the steps above to make similar Pandas DataFrames for Anaheim, Fresno, and San Francisco. **(5 Points)**"
   ]
  },
  {
   "cell_type": "code",
   "execution_count": null,
   "id": "b71ace38",
   "metadata": {
    "tags": []
   },
   "outputs": [],
   "source": [
    "anaheim_df = ...\n",
    "anaheim_df.head()"
   ]
  },
  {
   "cell_type": "code",
   "execution_count": null,
   "id": "da46dc66-c3d0-4c00-9726-14a6879f1cb3",
   "metadata": {
    "tags": []
   },
   "outputs": [],
   "source": [
    "fresno_df = ...\n",
    "fresno_df.head()"
   ]
  },
  {
   "cell_type": "code",
   "execution_count": null,
   "id": "45a20b30-cee9-4a4b-9e74-8bc46bbd2edf",
   "metadata": {
    "tags": []
   },
   "outputs": [],
   "source": [
    "sf_df = ...\n",
    "sf_df.head()"
   ]
  },
  {
   "cell_type": "code",
   "execution_count": null,
   "id": "38bd19c5",
   "metadata": {
    "deletable": false,
    "editable": false
   },
   "outputs": [],
   "source": [
    "grader.check(\"q2_3\")"
   ]
  },
  {
   "cell_type": "markdown",
   "id": "57387fa9",
   "metadata": {
    "deletable": false,
    "editable": false
   },
   "source": [
    "**Question 2.4:** Create a copy of the dataframe for each location so that we have an original copy of the data after we make changes to it in our analysis. **(2 Points)**"
   ]
  },
  {
   "cell_type": "code",
   "execution_count": null,
   "id": "51baf579",
   "metadata": {
    "tags": []
   },
   "outputs": [],
   "source": [
    "davis_df_copy = ...\n",
    "anaheim_df_copy = ...\n",
    "fresno_df_copy = ...\n",
    "sf_df_copy = ..."
   ]
  },
  {
   "cell_type": "code",
   "execution_count": null,
   "id": "373e7ebf",
   "metadata": {
    "deletable": false,
    "editable": false
   },
   "outputs": [],
   "source": [
    "grader.check(\"q2_4\")"
   ]
  },
  {
   "cell_type": "markdown",
   "id": "785bd61c",
   "metadata": {
    "deletable": false,
    "editable": false
   },
   "source": [
    "<!-- BEGIN QUESTION -->\n",
    "\n",
    "**Question 2.5:** Begin inspecting the dataframes with methods like `.describe()`, `.info()`, etc. Describe what each column means. Which columns have null values? Are there any unexpected data types? Describe what the `value` column represents. **(3 Points)**"
   ]
  },
  {
   "cell_type": "markdown",
   "id": "3bc6bcee",
   "metadata": {},
   "source": [
    "_Type your answer here, replacing this text._"
   ]
  },
  {
   "cell_type": "code",
   "execution_count": null,
   "id": "3ff3c263",
   "metadata": {
    "tags": []
   },
   "outputs": [],
   "source": []
  },
  {
   "cell_type": "markdown",
   "id": "12441b91",
   "metadata": {
    "deletable": false,
    "editable": false
   },
   "source": [
    "<!-- END QUESTION -->\n",
    "\n",
    "### 3. Preprocess/Clean the Data"
   ]
  },
  {
   "cell_type": "markdown",
   "id": "b854b82c",
   "metadata": {
    "deletable": false,
    "editable": false
   },
   "source": [
    "**Question 3.1:** You may have noticed in the previous problem that some of columns have many null values. Drop any columns from your dataframes that have more than 950 null values. **(5 Points)**"
   ]
  },
  {
   "cell_type": "code",
   "execution_count": null,
   "id": "5dc369fa",
   "metadata": {
    "tags": []
   },
   "outputs": [],
   "source": []
  },
  {
   "cell_type": "code",
   "execution_count": null,
   "id": "72dcc050-90b2-443d-94e8-21c510fa719e",
   "metadata": {
    "tags": []
   },
   "outputs": [],
   "source": []
  },
  {
   "cell_type": "code",
   "execution_count": null,
   "id": "9577c549-2ec9-4ddd-b55c-624a8f8ed6c2",
   "metadata": {
    "tags": []
   },
   "outputs": [],
   "source": []
  },
  {
   "cell_type": "code",
   "execution_count": null,
   "id": "c4daa4ae-aad3-4d0d-ab34-89cbf78028a6",
   "metadata": {
    "tags": []
   },
   "outputs": [],
   "source": []
  },
  {
   "cell_type": "code",
   "execution_count": null,
   "id": "7d6a9b6d",
   "metadata": {
    "deletable": false,
    "editable": false
   },
   "outputs": [],
   "source": [
    "grader.check(\"q3_1\")"
   ]
  },
  {
   "cell_type": "markdown",
   "id": "1f17f069",
   "metadata": {
    "deletable": false,
    "editable": false
   },
   "source": [
    "**Question 3.2:** Take a look at the `period.datetimeFrom.utc` column in each dataframe. What data type is each element in the column? Turn it into a Pandas datetime datatype. **(5 Points)**"
   ]
  },
  {
   "cell_type": "code",
   "execution_count": null,
   "id": "afa2e362-d02b-4dea-9516-446bbef1246e",
   "metadata": {
    "tags": []
   },
   "outputs": [],
   "source": [
    "davis_df['period.datetimeFrom.utc'] = ...\n",
    "anaheim_df['period.datetimeFrom.utc'] = ...\n",
    "fresno_df['period.datetimeFrom.utc'] = ...\n",
    "sf_df['period.datetimeFrom.utc'] = ..."
   ]
  },
  {
   "cell_type": "code",
   "execution_count": null,
   "id": "ab3877f5",
   "metadata": {
    "deletable": false,
    "editable": false
   },
   "outputs": [],
   "source": [
    "grader.check(\"q3_2\")"
   ]
  },
  {
   "cell_type": "markdown",
   "id": "1a89ff3c",
   "metadata": {
    "deletable": false,
    "editable": false
   },
   "source": [
    "**Question 3.3:** We want to focus on air quality over time. Create subsets of the dataframe for each location containing `value`, `period.datetimeFrom.utc`, `summary.median`, and `summary.max`. Rename the columns in each to `pm25_avg`, `date`, `pm25_median`, and `pm25_max` respectively. **(5 Points)**"
   ]
  },
  {
   "cell_type": "code",
   "execution_count": null,
   "id": "c6a54d4c",
   "metadata": {
    "tags": []
   },
   "outputs": [],
   "source": [
    "davis_subset = ...\n",
    "anaheim_subset = ...\n",
    "fresno_subset = ...\n",
    "sf_subset = ...\n"
   ]
  },
  {
   "cell_type": "code",
   "execution_count": null,
   "id": "9a2a8e04",
   "metadata": {
    "deletable": false,
    "editable": false
   },
   "outputs": [],
   "source": [
    "grader.check(\"q3_3\")"
   ]
  },
  {
   "cell_type": "markdown",
   "id": "e98371b8",
   "metadata": {
    "deletable": false,
    "editable": false
   },
   "source": [
    "**Question 3.4:** Each DataFrame currently has daily air quality data. Create new DataFrames for each location (based on the subset dataframes) with the average monthly data. **(5 Points)**"
   ]
  },
  {
   "cell_type": "code",
   "execution_count": null,
   "id": "ed061423",
   "metadata": {
    "tags": []
   },
   "outputs": [],
   "source": [
    "davis_monthly = ...\n",
    "anaheim_monthly = ...\n",
    "fresno_monthly = ...\n",
    "sf_monthly = ..."
   ]
  },
  {
   "cell_type": "code",
   "execution_count": null,
   "id": "194e4e24",
   "metadata": {
    "deletable": false,
    "editable": false
   },
   "outputs": [],
   "source": [
    "grader.check(\"q3_4\")"
   ]
  },
  {
   "cell_type": "markdown",
   "id": "bcbe9518",
   "metadata": {
    "deletable": false,
    "editable": false
   },
   "source": [
    "**Question 3.5:** We want to be able to look at data in each location together. Before we merge our datasets, add a column called `location` to each monthly DataFrame containing the location. For example, `davis_monthly` should have a location column containing `Davis` in every entry. **(5 Points)**"
   ]
  },
  {
   "cell_type": "code",
   "execution_count": null,
   "id": "10826198",
   "metadata": {
    "tags": []
   },
   "outputs": [],
   "source": []
  },
  {
   "cell_type": "code",
   "execution_count": null,
   "id": "d70ca686",
   "metadata": {
    "deletable": false,
    "editable": false
   },
   "outputs": [],
   "source": [
    "grader.check(\"q3_5\")"
   ]
  },
  {
   "cell_type": "markdown",
   "id": "604d035c",
   "metadata": {
    "deletable": false,
    "editable": false
   },
   "source": [
    "**Question 3.6:** Concatenate all of the monthly DataFrames to create a single DataFrame with monthly data from all four locations. **(5 Points)**"
   ]
  },
  {
   "cell_type": "code",
   "execution_count": null,
   "id": "c659010e",
   "metadata": {
    "tags": []
   },
   "outputs": [],
   "source": [
    "monthly_df = ...\n",
    "monthly_df.head()"
   ]
  },
  {
   "cell_type": "code",
   "execution_count": null,
   "id": "1b9a53c0",
   "metadata": {
    "deletable": false,
    "editable": false
   },
   "outputs": [],
   "source": [
    "grader.check(\"q3_6\")"
   ]
  },
  {
   "cell_type": "markdown",
   "id": "a64910b2-e011-4ec2-a178-eb7dbad5f3b9",
   "metadata": {
    "deletable": false,
    "editable": false
   },
   "source": [
    "**Question 3.7:** Create separate columns `year` and `month` in `monthly_df` containing the year and month from the `date` column. **(5 Points)**"
   ]
  },
  {
   "cell_type": "code",
   "execution_count": null,
   "id": "d5766ef6-fd75-4a78-b622-22e5b07e4b50",
   "metadata": {
    "tags": []
   },
   "outputs": [],
   "source": [
    "...\n",
    "monthly_df.head()"
   ]
  },
  {
   "cell_type": "code",
   "execution_count": null,
   "id": "95ce4b21",
   "metadata": {
    "deletable": false,
    "editable": false
   },
   "outputs": [],
   "source": [
    "grader.check(\"q3_7\")"
   ]
  },
  {
   "cell_type": "markdown",
   "id": "74042ed9",
   "metadata": {},
   "source": [
    "### 4. Explore and visualize the data"
   ]
  },
  {
   "cell_type": "markdown",
   "id": "a2b05428",
   "metadata": {
    "deletable": false,
    "editable": false
   },
   "source": [
    "**Question 4.1:** What is the mean of the PM2.5 averages at each location? Your solution should be a series with locations as the indices and PM2.5 levels as the values. Which location has the worst PM2.5 levels on average? Is this what you expect based on what you know about these locations? Put your comments in a Markdown cell.**(5 Points)**"
   ]
  },
  {
   "cell_type": "code",
   "execution_count": null,
   "id": "bd1b100a",
   "metadata": {
    "tags": []
   },
   "outputs": [],
   "source": [
    "location_averages = ..."
   ]
  },
  {
   "cell_type": "code",
   "execution_count": null,
   "id": "7e01f6ab",
   "metadata": {
    "deletable": false,
    "editable": false
   },
   "outputs": [],
   "source": [
    "grader.check(\"q4_1\")"
   ]
  },
  {
   "cell_type": "markdown",
   "id": "cf9bfbfe",
   "metadata": {
    "deletable": false,
    "editable": false
   },
   "source": [
    "**Question 4.2:** Create a violin plot (called `location_pm25`) showing the distribution of PM2.5 averages for each location. Comment on what you notice in a Markdown cell. **(5 Points)**"
   ]
  },
  {
   "cell_type": "code",
   "execution_count": null,
   "id": "29309414",
   "metadata": {
    "tags": []
   },
   "outputs": [],
   "source": [
    "location_pm25 = ..."
   ]
  },
  {
   "cell_type": "code",
   "execution_count": null,
   "id": "5d114d90",
   "metadata": {
    "deletable": false,
    "editable": false
   },
   "outputs": [],
   "source": [
    "grader.check(\"q4_2\")"
   ]
  },
  {
   "cell_type": "markdown",
   "id": "617ef232",
   "metadata": {
    "deletable": false,
    "editable": false
   },
   "source": [
    "<!-- BEGIN QUESTION -->\n",
    "\n",
    "**Question 4.3:** Compute the correlation between PM2.5 levels at different locations. Which locations have the strongest correlation in PM2.5 levels? What could explain high or low correlations between locations? (e.g., proximity, local climate, pollution sources) **(5 Points)**"
   ]
  },
  {
   "cell_type": "code",
   "execution_count": null,
   "id": "00247910",
   "metadata": {
    "tags": []
   },
   "outputs": [],
   "source": []
  },
  {
   "cell_type": "markdown",
   "id": "0fcaec7f",
   "metadata": {},
   "source": [
    "_Type your answer here, replacing this text._"
   ]
  },
  {
   "cell_type": "markdown",
   "id": "d2aed846",
   "metadata": {
    "deletable": false,
    "editable": false
   },
   "source": [
    "<!-- END QUESTION -->\n",
    "\n",
    "**Question 4.4:** Plot PM2.5 over time for each location in a figure called `pm25_over_time`. Facet the plot by location. Comment on what you notice. **(5 Points)**"
   ]
  },
  {
   "cell_type": "code",
   "execution_count": null,
   "id": "c55711c2",
   "metadata": {
    "tags": []
   },
   "outputs": [],
   "source": [
    "pm25_over_time = ..."
   ]
  },
  {
   "cell_type": "code",
   "execution_count": null,
   "id": "3a33eb96",
   "metadata": {
    "deletable": false,
    "editable": false
   },
   "outputs": [],
   "source": [
    "grader.check(\"q4_4\")"
   ]
  },
  {
   "cell_type": "markdown",
   "id": "c7c569b8",
   "metadata": {
    "deletable": false,
    "editable": false
   },
   "source": [
    "<!-- BEGIN QUESTION -->\n",
    "\n",
    "**Question 4.5:** Explore the distribution of average PM2.5 levels at different locations. Create a separate density plot (KDE) for each location, using different colors for different years to observe trends over time. **(5 Points)**"
   ]
  },
  {
   "cell_type": "code",
   "execution_count": null,
   "id": "5e1247c3-75ec-4139-9b1a-60546f83343f",
   "metadata": {
    "otter": {
     "tests": [
      "q4_5_manual"
     ]
    },
    "tags": []
   },
   "outputs": [],
   "source": [
    "pm25_distributions = ..."
   ]
  },
  {
   "cell_type": "markdown",
   "id": "9f4c2a70",
   "metadata": {
    "deletable": false,
    "editable": false
   },
   "source": [
    "<!-- END QUESTION -->\n",
    "\n",
    "<!-- BEGIN QUESTION -->\n",
    "\n",
    "**Question 4.6:** Use your choice of data visualization to see how PM2.5 changes by season.\n",
    "Do certain months have higher pollution levels? **(5 Points)**"
   ]
  },
  {
   "cell_type": "code",
   "execution_count": null,
   "id": "0484fa09",
   "metadata": {
    "tags": []
   },
   "outputs": [],
   "source": []
  },
  {
   "cell_type": "markdown",
   "id": "ac120799",
   "metadata": {},
   "source": [
    "_Type your answer here, replacing this text._"
   ]
  },
  {
   "cell_type": "markdown",
   "id": "b1347d85",
   "metadata": {
    "deletable": false,
    "editable": false
   },
   "source": [
    "<!-- END QUESTION -->\n",
    "\n",
    "<!-- BEGIN QUESTION -->\n",
    "\n",
    "**Question 4.7:** Data cleaning decisions can significantly impact the results of an analysis. Were there any assumptions or transformations we made while preparing this dataset that could introduce bias or misrepresent the data? How might these choices affect our interpretation of PM2.5 trends? **(2 Points)**"
   ]
  },
  {
   "cell_type": "markdown",
   "id": "4cf360b1",
   "metadata": {},
   "source": [
    "_Type your answer here, replacing this text._"
   ]
  },
  {
   "cell_type": "markdown",
   "id": "572076ca",
   "metadata": {
    "deletable": false,
    "editable": false
   },
   "source": [
    "<!-- END QUESTION -->\n",
    "\n",
    "<!-- BEGIN QUESTION -->\n",
    "\n",
    "**Question 4.8:** This preliminary exploration allowed us to compare the distribution of PM2.5 levels over time across a few different locations. What are some other explorations we could do with this dataset? Use code cells to try a few possibities. \n",
    "\n",
    "In what ways could an analysis like this be useful for public health, policy decisions, or environmental justice efforts? What additional data or context might be needed to make this analysis more actionable for communities affected by air pollution? Put your thoughts in a markdown cell. **(3 Points)**"
   ]
  },
  {
   "cell_type": "code",
   "execution_count": null,
   "id": "8d4f7de4-b4ef-40be-b49c-d414423228d3",
   "metadata": {
    "tags": []
   },
   "outputs": [],
   "source": [
    "# Additional exploration"
   ]
  },
  {
   "cell_type": "markdown",
   "id": "543adec7",
   "metadata": {},
   "source": [
    "_Type your answer here, replacing this text._"
   ]
  },
  {
   "cell_type": "markdown",
   "id": "94cb0650",
   "metadata": {
    "deletable": false,
    "editable": false
   },
   "source": [
    "<!-- END QUESTION -->\n",
    "\n"
   ]
  },
  {
   "cell_type": "markdown",
   "id": "1df399b3",
   "metadata": {
    "deletable": false,
    "editable": false
   },
   "source": [
    "## Submission\n",
    "\n",
    "Make sure you have run all cells in your notebook in order before running the cell below, so that all images/graphs appear in the output. The cell below will generate a zip file for you to submit. **Please save before exporting!**"
   ]
  },
  {
   "cell_type": "code",
   "execution_count": null,
   "id": "ffbacfe2",
   "metadata": {
    "deletable": false,
    "editable": false
   },
   "outputs": [],
   "source": [
    "# Save your notebook first, then run this cell to export your submission.\n",
    "grader.export(run_tests=True)"
   ]
  },
  {
   "cell_type": "markdown",
   "id": "b5ba6e92",
   "metadata": {},
   "source": [
    " "
   ]
  }
 ],
 "metadata": {
  "kernelspec": {
   "display_name": "Python 3 (ipykernel)",
   "language": "python",
   "name": "python3"
  },
  "language_info": {
   "codemirror_mode": {
    "name": "ipython",
    "version": 3
   },
   "file_extension": ".py",
   "mimetype": "text/x-python",
   "name": "python",
   "nbconvert_exporter": "python",
   "pygments_lexer": "ipython3",
   "version": "3.11.4"
  },
  "otter": {
   "OK_FORMAT": true,
   "tests": {
    "q0": {
     "name": "q0",
     "points": [],
     "suites": [
      {
       "cases": [],
       "scored": true,
       "setup": "",
       "teardown": "",
       "type": "doctest"
      }
     ]
    },
    "q1_1": {
     "name": "q1_1",
     "points": [
      0
     ],
     "suites": [
      {
       "cases": [
        {
         "code": ">>> api_key != ...\nTrue",
         "hidden": false,
         "locked": false
        }
       ],
       "scored": true,
       "setup": "",
       "teardown": "",
       "type": "doctest"
      }
     ]
    },
    "q1_2": {
     "name": "q1_2",
     "points": [
      0
     ],
     "suites": [
      {
       "cases": [
        {
         "code": ">>> base_url != ...\nTrue",
         "hidden": false,
         "locked": false
        }
       ],
       "scored": true,
       "setup": "",
       "teardown": "",
       "type": "doctest"
      }
     ]
    },
    "q1_3": {
     "name": "q1_3",
     "points": [
      0
     ],
     "suites": [
      {
       "cases": [
        {
         "code": ">>> pm25_sensors != ...\nTrue",
         "hidden": false,
         "locked": false
        }
       ],
       "scored": true,
       "setup": "",
       "teardown": "",
       "type": "doctest"
      }
     ]
    },
    "q1_4": {
     "name": "q1_4",
     "points": [
      0
     ],
     "suites": [
      {
       "cases": [
        {
         "code": ">>> davis_pm25.status_code + anaheim_pm25.status_code + fresno_pm25.status_code + sf_pm25.status_code\n800",
         "hidden": false,
         "locked": false
        }
       ],
       "scored": true,
       "setup": "",
       "teardown": "",
       "type": "doctest"
      }
     ]
    },
    "q2_1": {
     "name": "q2_1",
     "points": [
      0
     ],
     "suites": [
      {
       "cases": [
        {
         "code": ">>> bool(payload != ...)\nTrue",
         "hidden": false,
         "locked": false
        }
       ],
       "scored": true,
       "setup": "",
       "teardown": "",
       "type": "doctest"
      }
     ]
    },
    "q2_2": {
     "name": "q2_2",
     "points": [
      0
     ],
     "suites": [
      {
       "cases": [
        {
         "code": ">>> int((davis_df == ...).sum().sum())\n0",
         "hidden": false,
         "locked": false
        }
       ],
       "scored": true,
       "setup": "",
       "teardown": "",
       "type": "doctest"
      }
     ]
    },
    "q2_3": {
     "name": "q2_3",
     "points": [
      0
     ],
     "suites": [
      {
       "cases": [
        {
         "code": ">>> bool(not davis_df.empty and (not fresno_df.empty) and (not anaheim_df.empty) and (not sf_df.empty))\nTrue",
         "hidden": false,
         "locked": false
        }
       ],
       "scored": true,
       "setup": "",
       "teardown": "",
       "type": "doctest"
      }
     ]
    },
    "q2_4": {
     "name": "q2_4",
     "points": [
      0
     ],
     "suites": [
      {
       "cases": [
        {
         "code": ">>> int((davis_df_copy == ...).sum().sum() + (anaheim_df_copy == ...).sum().sum() + (fresno_df_copy == ...).sum().sum() + (sf_df_copy == ...).sum().sum())\n0",
         "hidden": false,
         "locked": false
        }
       ],
       "scored": true,
       "setup": "",
       "teardown": "",
       "type": "doctest"
      }
     ]
    },
    "q2_5_manual": {
     "name": "q2_5_manual",
     "points": [],
     "suites": [
      {
       "cases": [],
       "scored": true,
       "setup": "",
       "teardown": "",
       "type": "doctest"
      }
     ]
    },
    "q3_1": {
     "name": "q3_1",
     "points": [
      0
     ],
     "suites": [
      {
       "cases": [
        {
         "code": ">>> int((davis_df == ...).sum().sum())\n0",
         "hidden": false,
         "locked": false
        }
       ],
       "scored": true,
       "setup": "",
       "teardown": "",
       "type": "doctest"
      }
     ]
    },
    "q3_2": {
     "name": "q3_2",
     "points": [
      0
     ],
     "suites": [
      {
       "cases": [
        {
         "code": ">>> bool(pd.api.types.is_datetime64_any_dtype(davis_df['period.datetimeFrom.utc']))\nTrue",
         "hidden": false,
         "locked": false
        }
       ],
       "scored": true,
       "setup": "",
       "teardown": "",
       "type": "doctest"
      }
     ]
    },
    "q3_3": {
     "name": "q3_3",
     "points": [
      0
     ],
     "suites": [
      {
       "cases": [
        {
         "code": ">>> int(davis_subset.empty + anaheim_subset.empty + fresno_subset.empty + sf_subset.empty)\n0",
         "hidden": false,
         "locked": false
        }
       ],
       "scored": true,
       "setup": "",
       "teardown": "",
       "type": "doctest"
      }
     ]
    },
    "q3_4": {
     "name": "q3_4",
     "points": [
      0
     ],
     "suites": [
      {
       "cases": [
        {
         "code": ">>> int(davis_monthly.empty + anaheim_monthly.empty + fresno_monthly.empty + sf_monthly.empty)\n0",
         "hidden": false,
         "locked": false
        }
       ],
       "scored": true,
       "setup": "",
       "teardown": "",
       "type": "doctest"
      }
     ]
    },
    "q3_5": {
     "name": "q3_5",
     "points": [
      0
     ],
     "suites": [
      {
       "cases": [
        {
         "code": ">>> bool('location' in davis_monthly.columns)\nTrue",
         "hidden": false,
         "locked": false
        }
       ],
       "scored": true,
       "setup": "",
       "teardown": "",
       "type": "doctest"
      }
     ]
    },
    "q3_6": {
     "name": "q3_6",
     "points": [
      0
     ],
     "suites": [
      {
       "cases": [
        {
         "code": ">>> int(monthly_df.shape[0])\n140",
         "hidden": false,
         "locked": false
        }
       ],
       "scored": true,
       "setup": "",
       "teardown": "",
       "type": "doctest"
      }
     ]
    },
    "q3_7": {
     "name": "q3_7",
     "points": [
      0
     ],
     "suites": [
      {
       "cases": [
        {
         "code": ">>> int(monthly_df.shape[0])\n140",
         "hidden": false,
         "locked": false
        }
       ],
       "scored": true,
       "setup": "",
       "teardown": "",
       "type": "doctest"
      }
     ]
    },
    "q4_1": {
     "name": "q4_1",
     "points": [
      0
     ],
     "suites": [
      {
       "cases": [
        {
         "code": ">>> bool(all(location_averages != ...))\nTrue",
         "hidden": false,
         "locked": false
        }
       ],
       "scored": true,
       "setup": "",
       "teardown": "",
       "type": "doctest"
      }
     ]
    },
    "q4_2": {
     "name": "q4_2",
     "points": [
      0
     ],
     "suites": [
      {
       "cases": [
        {
         "code": ">>> bool(location_pm25 != ...)\nTrue",
         "hidden": false,
         "locked": false
        }
       ],
       "scored": true,
       "setup": "",
       "teardown": "",
       "type": "doctest"
      }
     ]
    },
    "q4_3_manual": {
     "name": "q4_3_manual",
     "points": [],
     "suites": [
      {
       "cases": [],
       "scored": true,
       "setup": "",
       "teardown": "",
       "type": "doctest"
      }
     ]
    },
    "q4_4": {
     "name": "q4_4",
     "points": [
      0
     ],
     "suites": [
      {
       "cases": [
        {
         "code": ">>> bool(pm25_over_time != ...)\nTrue",
         "hidden": false,
         "locked": false
        }
       ],
       "scored": true,
       "setup": "",
       "teardown": "",
       "type": "doctest"
      }
     ]
    },
    "q4_5_manual": {
     "name": "q4_5_manual",
     "points": [],
     "suites": [
      {
       "cases": [],
       "scored": true,
       "setup": "",
       "teardown": "",
       "type": "doctest"
      }
     ]
    },
    "q4_6_manual": {
     "name": "q4_6_manual",
     "points": [],
     "suites": [
      {
       "cases": [],
       "scored": true,
       "setup": "",
       "teardown": "",
       "type": "doctest"
      }
     ]
    },
    "q4_7_manual": {
     "name": "q4_7_manual",
     "points": [],
     "suites": [
      {
       "cases": [],
       "scored": true,
       "setup": "",
       "teardown": "",
       "type": "doctest"
      }
     ]
    },
    "q4_8_manual": {
     "name": "q4_8_manual",
     "points": [],
     "suites": [
      {
       "cases": [],
       "scored": true,
       "setup": "",
       "teardown": "",
       "type": "doctest"
      }
     ]
    }
   }
  }
 },
 "nbformat": 4,
 "nbformat_minor": 5
}
