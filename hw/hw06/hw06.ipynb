{
 "cells": [
  {
   "cell_type": "code",
   "execution_count": null,
   "id": "fff91302",
   "metadata": {
    "deletable": false,
    "editable": false
   },
   "outputs": [],
   "source": [
    "# Initialize Otter\n",
    "import otter\n",
    "grader = otter.Notebook(\"hw06.ipynb\")"
   ]
  },
  {
   "cell_type": "markdown",
   "id": "51d72711",
   "metadata": {},
   "source": [
    "# Homework 6\n",
    "\n",
    "Welcome to Homework 6 of DATA 271: Data Wrangling and Visualization! In this assignment, we will practice scraping data from a website and practice combining and cleaning data. As always, if you get stuck or have questions feel free to discuss problems with your peers and come to office hours. \n",
    "\n",
    "For this homework and all future ones, please be sure to not re-assign variables throughout the notebook! For example, if you use `my_list` in your answer to one question, do not reassign it later on. Otherwise, you will fail tests that you passed previously. **NOTE:** This homework assignment contains hidden tests. Passing all the auto-graded tests in the assignment does *NOT* mean you have answered everything correctly. So be careful and check your work!"
   ]
  },
  {
   "cell_type": "markdown",
   "id": "f5dec8da",
   "metadata": {},
   "source": [
    "### Import libraries"
   ]
  },
  {
   "cell_type": "markdown",
   "id": "c8ead896",
   "metadata": {
    "deletable": false,
    "editable": false
   },
   "source": [
    "**Question 0:** Import the appropriate modules for this assignment including NumPy, Pandas, Matplotlib, and Seaborn, Regular Expression (re), Requests, and BeautifulSoup. **(5 Points)**"
   ]
  },
  {
   "cell_type": "code",
   "execution_count": null,
   "id": "55cf2d3a",
   "metadata": {
    "otter": {
     "tests": [
      "q0"
     ]
    },
    "tags": []
   },
   "outputs": [],
   "source": [
    "import sys # keep this import"
   ]
  },
  {
   "cell_type": "markdown",
   "id": "896f80c3",
   "metadata": {},
   "source": [
    "### 1. Importing the data\n",
    "\n",
    "In this assignment, we will explore data from the men's soccer team at Cal Poly Humboldt. Let's look at the [2023](https://humboldtathletics.com/sports/mens-soccer/stats/2023) season.  "
   ]
  },
  {
   "cell_type": "markdown",
   "id": "726fa5a4",
   "metadata": {
    "deletable": false,
    "editable": false
   },
   "source": [
    "**Question 1.1:** Import the data from the link above. **(5 Points)**"
   ]
  },
  {
   "cell_type": "code",
   "execution_count": null,
   "id": "87281a09",
   "metadata": {
    "tags": []
   },
   "outputs": [],
   "source": [
    "stats_page = ..."
   ]
  },
  {
   "cell_type": "code",
   "execution_count": null,
   "id": "7229df05",
   "metadata": {
    "deletable": false,
    "editable": false
   },
   "outputs": [],
   "source": [
    "grader.check(\"q1_1\")"
   ]
  },
  {
   "cell_type": "markdown",
   "id": "8ede4121",
   "metadata": {
    "deletable": false,
    "editable": false
   },
   "source": [
    "**Question 1.2:** Check the status code to make sure your request was successful. **(5 Points)**"
   ]
  },
  {
   "cell_type": "code",
   "execution_count": null,
   "id": "94b7c6e9",
   "metadata": {
    "tags": []
   },
   "outputs": [],
   "source": [
    "stats_page_status = ...\n",
    "stats_page_status"
   ]
  },
  {
   "cell_type": "code",
   "execution_count": null,
   "id": "76938b4a",
   "metadata": {
    "deletable": false,
    "editable": false
   },
   "outputs": [],
   "source": [
    "grader.check(\"q1_2\")"
   ]
  },
  {
   "cell_type": "markdown",
   "id": "9b424733",
   "metadata": {
    "deletable": false,
    "editable": false
   },
   "source": [
    "**Question 1.3:** Inspect the text of your requests object. **(5 Points)**"
   ]
  },
  {
   "cell_type": "code",
   "execution_count": null,
   "id": "0f5fa54e",
   "metadata": {
    "tags": []
   },
   "outputs": [],
   "source": [
    "stats_text = ...\n",
    "stats_text"
   ]
  },
  {
   "cell_type": "code",
   "execution_count": null,
   "id": "5a1adc3b",
   "metadata": {
    "deletable": false,
    "editable": false
   },
   "outputs": [],
   "source": [
    "grader.check(\"q1_3\")"
   ]
  },
  {
   "cell_type": "markdown",
   "id": "3ccbbf78",
   "metadata": {},
   "source": [
    "### 2. Parse the data"
   ]
  },
  {
   "cell_type": "markdown",
   "id": "ecccfef9",
   "metadata": {
    "deletable": false,
    "editable": false
   },
   "source": [
    "**Question 2.1:** Use BeautifulSoup to begin parsing this HTML data. Create a BeautifulSoup object from `stats_text`. **(5 Points)**"
   ]
  },
  {
   "cell_type": "code",
   "execution_count": null,
   "id": "a818f47d",
   "metadata": {
    "tags": []
   },
   "outputs": [],
   "source": [
    "soup = ...\n",
    "soup"
   ]
  },
  {
   "cell_type": "code",
   "execution_count": null,
   "id": "45f71ad8",
   "metadata": {
    "deletable": false,
    "editable": false
   },
   "outputs": [],
   "source": [
    "grader.check(\"q2_1\")"
   ]
  },
  {
   "cell_type": "markdown",
   "id": "179b8edf",
   "metadata": {
    "deletable": false,
    "editable": false
   },
   "source": [
    "**Question 2.2:** Start using your soup object to explore the contents of the soccer stats webpage. How many level 1 headers tables are on the webpage? **(5 Points)**"
   ]
  },
  {
   "cell_type": "code",
   "execution_count": null,
   "id": "a76a8f17",
   "metadata": {
    "tags": []
   },
   "outputs": [],
   "source": [
    "num_h1_headers = ...\n",
    "num_h1_headers"
   ]
  },
  {
   "cell_type": "code",
   "execution_count": null,
   "id": "70bd4b38",
   "metadata": {
    "deletable": false,
    "editable": false
   },
   "outputs": [],
   "source": [
    "grader.check(\"q2_2\")"
   ]
  },
  {
   "cell_type": "markdown",
   "id": "5b87e6cb",
   "metadata": {
    "deletable": false,
    "editable": false
   },
   "source": [
    "**Question 2.3:** What is the text content of the second h1 header? **(5 Points)**"
   ]
  },
  {
   "cell_type": "code",
   "execution_count": null,
   "id": "17dc56d9",
   "metadata": {
    "tags": []
   },
   "outputs": [],
   "source": [
    "h1_header_text = ...\n",
    "h1_header_text"
   ]
  },
  {
   "cell_type": "code",
   "execution_count": null,
   "id": "b31fe979",
   "metadata": {
    "deletable": false,
    "editable": false
   },
   "outputs": [],
   "source": [
    "grader.check(\"q2_3\")"
   ]
  },
  {
   "cell_type": "markdown",
   "id": "1db0608c",
   "metadata": {
    "deletable": false,
    "editable": false
   },
   "source": [
    "**Question 2.4:** Find the number of tables on the webpage.\n",
    "**(5 Points)**"
   ]
  },
  {
   "cell_type": "code",
   "execution_count": null,
   "id": "66523593",
   "metadata": {
    "tags": []
   },
   "outputs": [],
   "source": [
    "num_tables = ...\n",
    "num_tables"
   ]
  },
  {
   "cell_type": "code",
   "execution_count": null,
   "id": "cdfa6b0b",
   "metadata": {
    "deletable": false,
    "editable": false
   },
   "outputs": [],
   "source": [
    "grader.check(\"q2_4\")"
   ]
  },
  {
   "cell_type": "markdown",
   "id": "b7fd7e12",
   "metadata": {
    "deletable": false,
    "editable": false
   },
   "source": [
    "**Question 2.5:** Inspect the contents of a few of the tables. Based on your exploration, what statistics are in the sixth table on the webpage? \n",
    "\n",
    "1. Game-By-Game Offensive Stats Statistics\n",
    "2. Game-By-Game Results Statistics\n",
    "3. Individual Overall Goalkeeping Statistics\n",
    "4. Team Leaders: Game Winning Goals\n",
    "\n",
    "Enter 1, 2, 3, or 4 in `table6_content`.\n",
    "**(5 Points)**"
   ]
  },
  {
   "cell_type": "code",
   "execution_count": null,
   "id": "c0abf43e",
   "metadata": {
    "tags": []
   },
   "outputs": [],
   "source": [
    "# Inspect the tables"
   ]
  },
  {
   "cell_type": "code",
   "execution_count": null,
   "id": "cbc4fb75",
   "metadata": {
    "tags": []
   },
   "outputs": [],
   "source": [
    "table6_content = ..."
   ]
  },
  {
   "cell_type": "code",
   "execution_count": null,
   "id": "c170670e",
   "metadata": {
    "deletable": false,
    "editable": false
   },
   "outputs": [],
   "source": [
    "grader.check(\"q2_5\")"
   ]
  },
  {
   "cell_type": "markdown",
   "id": "22b41a43",
   "metadata": {
    "deletable": false,
    "editable": false
   },
   "source": [
    "**Question 2.6:** Create a Pandas DataFrame from the sixth table on the webpage.\n",
    "\n",
    "*HINT:* Notice that the column headers have a slightly different structure in HTML. You might find it helpful to first create the data frame so that it contains the body of the table. Then create the column names of the table afterward. Make sure that the `Date` column is a Pandas datetime type. **(5 Points)**"
   ]
  },
  {
   "cell_type": "code",
   "execution_count": null,
   "id": "b71ace38",
   "metadata": {
    "tags": []
   },
   "outputs": [],
   "source": [
    "table_data = ...\n",
    "\n",
    "\n",
    "stats_df = ...\n",
    "stats_df.columns = ...\n",
    "stats_df"
   ]
  },
  {
   "cell_type": "code",
   "execution_count": null,
   "id": "0e7159ce",
   "metadata": {
    "deletable": false,
    "editable": false
   },
   "outputs": [],
   "source": [
    "grader.check(\"q2_6\")"
   ]
  },
  {
   "cell_type": "markdown",
   "id": "57387fa9",
   "metadata": {
    "deletable": false,
    "editable": false
   },
   "source": [
    "**Question 2.7:** The seventh table on the webpage contains Humboldt's offensive stats. Create a Pandas DataFrame from the the seventh table. Remove the `Total` and `Opponent` rows.\n",
    "\n",
    "*HINT:* You will likely have to use the same method you used in the previous problem for making the data frame column names. **(5 Points)**"
   ]
  },
  {
   "cell_type": "code",
   "execution_count": null,
   "id": "91e00b6a",
   "metadata": {
    "tags": []
   },
   "outputs": [],
   "source": [
    "table_data = ...\n",
    "\n",
    "        \n",
    "humboldt_offense_df = ...\n",
    "humboldt_offense_df.columns = ...\n",
    "humboldt_offense_df "
   ]
  },
  {
   "cell_type": "code",
   "execution_count": null,
   "id": "43f245d2",
   "metadata": {
    "deletable": false,
    "editable": false
   },
   "outputs": [],
   "source": [
    "grader.check(\"q2_7\")"
   ]
  },
  {
   "cell_type": "markdown",
   "id": "785bd61c",
   "metadata": {
    "deletable": false,
    "editable": false
   },
   "source": [
    "**Question 2.8:** The ninth table on the webpage contains Humboldt's opponents' offensive stats. Create a Pandas DataFrame from the ninth table. \n",
    "\n",
    "*HINT:* You will likely have to use the same method you used in the previous problem for making the data frame column names. **(5 Points)**\n",
    "**(5 Points)**"
   ]
  },
  {
   "cell_type": "code",
   "execution_count": null,
   "id": "3ff3c263",
   "metadata": {
    "tags": []
   },
   "outputs": [],
   "source": [
    "table_data = ...\n",
    "\n",
    "        \n",
    "\n",
    "opponent_offense_df = ...\n",
    "opponent_offense_df.columns = ...\n",
    "opponent_offense_df "
   ]
  },
  {
   "cell_type": "code",
   "execution_count": null,
   "id": "b552da02",
   "metadata": {
    "deletable": false,
    "editable": false
   },
   "outputs": [],
   "source": [
    "grader.check(\"q2_8\")"
   ]
  },
  {
   "cell_type": "markdown",
   "id": "12441b91",
   "metadata": {},
   "source": [
    "### 3. Clean/Preprocess the Data"
   ]
  },
  {
   "cell_type": "markdown",
   "id": "b854b82c",
   "metadata": {
    "deletable": false,
    "editable": false
   },
   "source": [
    "**Question 3.1:** The offense datasets have the following columns:\n",
    "- Date: Represents the date of the game.\n",
    "- Opponent: Indicates the team or opponent Cal Poly Humboldt played against.\n",
    "- Score: Shows the final score of the game, in the format \"home team score - away team score\".\n",
    "- G: Represents the number of goals scored by the team.\n",
    "- A: Represents the number of assists made by players on the team.\n",
    "- PTS: Stands for \"Points\" which is a combination of goals and assists. Goals are worth 2 points and assists are worth 1 point. \n",
    "- SH: Represents the total number of shots taken by the team.\n",
    "- Shot%: Represents the shooting percentage, calculated as goals divided by shots taken.\n",
    "- SOG: Stands for \"Shots on Goal\" and represents the number of shots that were on target and required a save from the goalkeeper.\n",
    "- SOG%: Represents the shots on goal percentage, calculated as shots on goal divided by total shots taken.\n",
    "- YC-RC: Represents Yellow Cards and Red Cards. Yellow cards are typically given as warnings for fouls, and red cards result in ejection from the game. This column might be formatted as \"YC-RC\" to indicate both types of cards.\n",
    "- GW: Stands for \"Game-Winning\" and represents goals or assists that directly led to winning the game.\n",
    "- PK-ATT: Stands for \"Penalty Kick Attempts\" and represents the number of penalty kicks attempted by the team.\n",
    "- Min: Represents the minutes played.\n",
    "\n",
    "Several of these columns won't be useful for our analysis, and others should be reformatted. In `humboldt_offense_df`, split the `YC-RC` column into two separate columns. One should be called `YC` and contain the number of yellow cards Humboldt recieved. The other new column should be called `RC` and contain the number of red cards Humboldt recieved. Once done, drop the `SOG`,`SOG%`,`YC-RC`,`GW`,`PK-ATT`,`Min` columns from `humboldt_offense_df`.\n",
    "**(5 Points)**"
   ]
  },
  {
   "cell_type": "code",
   "execution_count": null,
   "id": "5dc369fa",
   "metadata": {
    "tags": []
   },
   "outputs": [],
   "source": [
    "humboldt_offense_df['YC'] = ...\n",
    "humboldt_offense_df['RC'] = ...\n",
    "humboldt_offense_df"
   ]
  },
  {
   "cell_type": "code",
   "execution_count": null,
   "id": "6e15c85a",
   "metadata": {
    "deletable": false,
    "editable": false
   },
   "outputs": [],
   "source": [
    "grader.check(\"q3_1\")"
   ]
  },
  {
   "cell_type": "markdown",
   "id": "1f17f069",
   "metadata": {
    "deletable": false,
    "editable": false
   },
   "source": [
    "**Question 3.2:** Perform a similar task for `opponent_offense_df`. Split the `YC-RC` column into two separate columns. One should be called `YC` and contain the number of yellow cards the opponent recieved. The other new column should be called `RC` and contain the number of red cards the opponent recieved. Once done, drop the `Opponent`,`Score`,`SOG`,`SOG%`,`YC-RC`,`GW`,`PK-ATT`,`Min` columns from `opponent_offense_df`. **(5 Points)**"
   ]
  },
  {
   "cell_type": "code",
   "execution_count": null,
   "id": "f29df132",
   "metadata": {
    "tags": []
   },
   "outputs": [],
   "source": [
    "opponent_offense_df['YC'] = ...\n",
    "opponent_offense_df['RC'] = ...\n",
    "opponent_offense_df"
   ]
  },
  {
   "cell_type": "code",
   "execution_count": null,
   "id": "a4b8a653",
   "metadata": {
    "deletable": false,
    "editable": false
   },
   "outputs": [],
   "source": [
    "grader.check(\"q3_2\")"
   ]
  },
  {
   "cell_type": "markdown",
   "id": "1a89ff3c",
   "metadata": {
    "deletable": false,
    "editable": false
   },
   "source": [
    "**Question 3.3:** Check the dtypes of `humboldt_offense_df`. Convert the data types of each column appropriately. **(5 Points)**"
   ]
  },
  {
   "cell_type": "code",
   "execution_count": null,
   "id": "c6a54d4c",
   "metadata": {
    "tags": []
   },
   "outputs": [],
   "source": [
    "# Check dtypes"
   ]
  },
  {
   "cell_type": "code",
   "execution_count": null,
   "id": "d47b6c99",
   "metadata": {
    "tags": []
   },
   "outputs": [],
   "source": [
    "# Convert dtypes\n",
    "humboldt_offense_df"
   ]
  },
  {
   "cell_type": "code",
   "execution_count": null,
   "id": "6b7755a0",
   "metadata": {
    "deletable": false,
    "editable": false
   },
   "outputs": [],
   "source": [
    "grader.check(\"q3_3\")"
   ]
  },
  {
   "cell_type": "markdown",
   "id": "e98371b8",
   "metadata": {
    "deletable": false,
    "editable": false
   },
   "source": [
    "**Question 3.4:** Perform a similar task for `opponent_offense_df`. Convert the data types of each column appropriately. **(5 Points)**"
   ]
  },
  {
   "cell_type": "code",
   "execution_count": null,
   "id": "ba6485bc",
   "metadata": {
    "tags": []
   },
   "outputs": [],
   "source": [
    "# Check dtypes"
   ]
  },
  {
   "cell_type": "code",
   "execution_count": null,
   "id": "a81130e1",
   "metadata": {
    "tags": []
   },
   "outputs": [],
   "source": [
    "# Convert dtypes\n",
    "opponent_offense_df.dtypes"
   ]
  },
  {
   "cell_type": "code",
   "execution_count": null,
   "id": "d81f6079",
   "metadata": {
    "deletable": false,
    "editable": false
   },
   "outputs": [],
   "source": [
    "grader.check(\"q3_4\")"
   ]
  },
  {
   "cell_type": "markdown",
   "id": "bcbe9518",
   "metadata": {
    "deletable": false,
    "editable": false
   },
   "source": [
    "**Question 3.5:** Look at Humboldt's offensive statistics with their opponents offensive statistics. Combine your `humboldt_offense_df` and `opponent_offense_df` dataframes into a single data frame. \n",
    "\n",
    "*HINT*: The combined data should have additional columns. Some of those columns will show Humboldt's offensive stats, and other columns will show the opponent's offensive stats. Give the columns corresponding to Humboldt's stats the suffix `_humboldt` and the columns corresponding to opponents the suffix `_opp`  **(5 Points)**"
   ]
  },
  {
   "cell_type": "code",
   "execution_count": null,
   "id": "db459d48-b634-48a6-8c2a-3150b8b155ef",
   "metadata": {
    "tags": []
   },
   "outputs": [],
   "source": [
    "combined_offense_stats = humboldt_offense_df.merge(opponent_offense_df, on = 'Date', suffixes=['_humboldt', '_opp'])\n",
    "combined_offense_stats"
   ]
  },
  {
   "cell_type": "code",
   "execution_count": null,
   "id": "fd1ee521",
   "metadata": {
    "deletable": false,
    "editable": false
   },
   "outputs": [],
   "source": [
    "grader.check(\"q3_5\")"
   ]
  },
  {
   "cell_type": "markdown",
   "id": "604d035c",
   "metadata": {
    "deletable": false,
    "editable": false
   },
   "source": [
    "**Question 3.6:** In this analysis, we will want to compare some of the offensive statistics to Humboldt's win/loss record. Add the `W/L` column from `stats_df` to your `combined_offense_stats` data frame appropriately. **(5 Points)**"
   ]
  },
  {
   "cell_type": "code",
   "execution_count": null,
   "id": "c659010e",
   "metadata": {
    "tags": []
   },
   "outputs": [],
   "source": [
    "all_offense_stats = ...\n",
    "all_offense_stats"
   ]
  },
  {
   "cell_type": "code",
   "execution_count": null,
   "id": "ac3420c5",
   "metadata": {
    "deletable": false,
    "editable": false
   },
   "outputs": [],
   "source": [
    "grader.check(\"q3_6\")"
   ]
  },
  {
   "cell_type": "markdown",
   "id": "74042ed9",
   "metadata": {},
   "source": [
    "### 4. Visualize the data"
   ]
  },
  {
   "cell_type": "markdown",
   "id": "a2b05428",
   "metadata": {
    "deletable": false,
    "editable": false
   },
   "source": [
    "**Question 4.1:** Create a countplot showing the number of games Humboldt won, lost, and tied in the 2023 season. Comment on what you see. **(5 Points)**"
   ]
  },
  {
   "cell_type": "code",
   "execution_count": null,
   "id": "bd1b100a",
   "metadata": {
    "tags": []
   },
   "outputs": [],
   "source": [
    "wins_plot = ...\n",
    "plt.show()"
   ]
  },
  {
   "cell_type": "code",
   "execution_count": null,
   "id": "d701216a",
   "metadata": {
    "deletable": false,
    "editable": false
   },
   "outputs": [],
   "source": [
    "grader.check(\"q4_1\")"
   ]
  },
  {
   "cell_type": "markdown",
   "id": "0a4f5176",
   "metadata": {
    "deletable": false,
    "editable": false
   },
   "source": [
    "**Question 4.2:** Create a scatter plot showing the relationship between Humboldt's Shot% and their opponents' Shot%. Map the color of points to the W/L variable. Comment on what you notice. **(5 Points)**"
   ]
  },
  {
   "cell_type": "code",
   "execution_count": null,
   "id": "584f9cb5",
   "metadata": {
    "tags": []
   },
   "outputs": [],
   "source": [
    "shot_compare_plot = ...\n",
    "plt.show()"
   ]
  },
  {
   "cell_type": "code",
   "execution_count": null,
   "id": "8711c93c",
   "metadata": {
    "deletable": false,
    "editable": false
   },
   "outputs": [],
   "source": [
    "grader.check(\"q4_2\")"
   ]
  },
  {
   "cell_type": "markdown",
   "id": "cf9bfbfe",
   "metadata": {
    "deletable": false,
    "editable": false
   },
   "source": [
    "**Question 4.3:** Create a Seaborn violin plot showing the distribution and 5 number summary of Shot% for Humboldt and their opponent in each category of `W/L`. In other words, there should be a a total of 6 violins in your plot. There should be 2 violins for each category of `W/L`. One should show Humboldt's Shot% distribution (and be one color), and the other should show their opponents' Shot% distribution (and be another color). Comment on the visualization.\n",
    "\n",
    "*HINT:* You might find it helpful to reshape the data using the `.melt` method and use `hue` to show Humboldt vs. the opponents. **(5 Points)**"
   ]
  },
  {
   "cell_type": "code",
   "execution_count": null,
   "id": "3f9f8ebe",
   "metadata": {
    "tags": []
   },
   "outputs": [],
   "source": [
    "melted_offense = ...\n",
    "melted_offense"
   ]
  },
  {
   "cell_type": "code",
   "execution_count": null,
   "id": "00247910",
   "metadata": {
    "tags": []
   },
   "outputs": [],
   "source": [
    "win_loss_shot_violins = ..."
   ]
  },
  {
   "cell_type": "code",
   "execution_count": null,
   "id": "d9c63b77",
   "metadata": {
    "deletable": false,
    "editable": false
   },
   "outputs": [],
   "source": [
    "grader.check(\"q4_3\")"
   ]
  },
  {
   "cell_type": "markdown",
   "id": "f529a8fa",
   "metadata": {
    "deletable": false,
    "editable": false
   },
   "source": [
    "<!-- BEGIN QUESTION -->\n",
    "\n",
    "**Question 4.4:** Create two more plots to explore this dataset. Feel free to reshape/combine data as needed or parse additional data from the HTML. **(5 Points)**"
   ]
  },
  {
   "cell_type": "markdown",
   "id": "daba316c",
   "metadata": {},
   "source": [
    "_Type your answer here, replacing this text._"
   ]
  },
  {
   "cell_type": "markdown",
   "id": "eb99e5bf",
   "metadata": {
    "deletable": false,
    "editable": false
   },
   "source": [
    "<!-- END QUESTION -->\n",
    "\n"
   ]
  },
  {
   "cell_type": "markdown",
   "id": "f45a4968",
   "metadata": {
    "deletable": false,
    "editable": false
   },
   "source": [
    "## Submission\n",
    "\n",
    "Make sure you have run all cells in your notebook in order before running the cell below, so that all images/graphs appear in the output. The cell below will generate a zip file for you to submit. **Please save before exporting!**"
   ]
  },
  {
   "cell_type": "code",
   "execution_count": null,
   "id": "dc477aa8",
   "metadata": {
    "deletable": false,
    "editable": false
   },
   "outputs": [],
   "source": [
    "# Save your notebook first, then run this cell to export your submission.\n",
    "grader.export(run_tests=True)"
   ]
  },
  {
   "cell_type": "markdown",
   "id": "f72c89f1",
   "metadata": {},
   "source": [
    " "
   ]
  }
 ],
 "metadata": {
  "kernelspec": {
   "display_name": "Python 3 (ipykernel)",
   "language": "python",
   "name": "python3"
  },
  "language_info": {
   "codemirror_mode": {
    "name": "ipython",
    "version": 3
   },
   "file_extension": ".py",
   "mimetype": "text/x-python",
   "name": "python",
   "nbconvert_exporter": "python",
   "pygments_lexer": "ipython3",
   "version": "3.11.4"
  },
  "otter": {
   "OK_FORMAT": true,
   "tests": {
    "q0": {
     "name": "q0",
     "points": [],
     "suites": [
      {
       "cases": [],
       "scored": true,
       "setup": "",
       "teardown": "",
       "type": "doctest"
      }
     ]
    },
    "q1_1": {
     "name": "q1_1",
     "points": [
      0
     ],
     "suites": [
      {
       "cases": [
        {
         "code": ">>> bool(stats_page != ...)\nTrue",
         "hidden": false,
         "locked": false
        }
       ],
       "scored": true,
       "setup": "",
       "teardown": "",
       "type": "doctest"
      }
     ]
    },
    "q1_2": {
     "name": "q1_2",
     "points": [
      0
     ],
     "suites": [
      {
       "cases": [
        {
         "code": ">>> bool(stats_page_status != ...)\nTrue",
         "hidden": false,
         "locked": false
        }
       ],
       "scored": true,
       "setup": "",
       "teardown": "",
       "type": "doctest"
      }
     ]
    },
    "q1_3": {
     "name": "q1_3",
     "points": [
      0
     ],
     "suites": [
      {
       "cases": [
        {
         "code": ">>> bool(stats_text != ...)\nTrue",
         "hidden": false,
         "locked": false
        }
       ],
       "scored": true,
       "setup": "",
       "teardown": "",
       "type": "doctest"
      }
     ]
    },
    "q2_1": {
     "name": "q2_1",
     "points": [
      0
     ],
     "suites": [
      {
       "cases": [
        {
         "code": ">>> bool(soup != ...)\nTrue",
         "hidden": false,
         "locked": false
        }
       ],
       "scored": true,
       "setup": "",
       "teardown": "",
       "type": "doctest"
      }
     ]
    },
    "q2_2": {
     "name": "q2_2",
     "points": [
      0
     ],
     "suites": [
      {
       "cases": [
        {
         "code": ">>> bool(num_h1_headers != ...)\nTrue",
         "hidden": false,
         "locked": false
        }
       ],
       "scored": true,
       "setup": "",
       "teardown": "",
       "type": "doctest"
      }
     ]
    },
    "q2_3": {
     "name": "q2_3",
     "points": [
      0,
      2
     ],
     "suites": [
      {
       "cases": [
        {
         "code": ">>> bool(h1_header_text != ...)\nTrue",
         "hidden": false,
         "locked": false
        },
        {
         "code": ">>> str(h1_header_text)\n\"2023 Men's Soccer Cumulative Statistics\"",
         "hidden": false,
         "locked": false
        }
       ],
       "scored": true,
       "setup": "",
       "teardown": "",
       "type": "doctest"
      }
     ]
    },
    "q2_4": {
     "name": "q2_4",
     "points": [
      0
     ],
     "suites": [
      {
       "cases": [
        {
         "code": ">>> bool(num_tables != ...)\nTrue",
         "hidden": false,
         "locked": false
        }
       ],
       "scored": true,
       "setup": "",
       "teardown": "",
       "type": "doctest"
      }
     ]
    },
    "q2_5": {
     "name": "q2_5",
     "points": [
      0
     ],
     "suites": [
      {
       "cases": [
        {
         "code": ">>> bool(table6_content != ...)\nTrue",
         "hidden": false,
         "locked": false
        }
       ],
       "scored": true,
       "setup": "",
       "teardown": "",
       "type": "doctest"
      }
     ]
    },
    "q2_6": {
     "name": "q2_6",
     "points": [
      0
     ],
     "suites": [
      {
       "cases": [
        {
         "code": ">>> bool(type(stats_df) is pd.DataFrame)\nTrue",
         "hidden": false,
         "locked": false
        }
       ],
       "scored": true,
       "setup": "",
       "teardown": "",
       "type": "doctest"
      }
     ]
    },
    "q2_7": {
     "name": "q2_7",
     "points": [
      0
     ],
     "suites": [
      {
       "cases": [
        {
         "code": ">>> bool(type(humboldt_offense_df) is pd.DataFrame)\nTrue",
         "hidden": false,
         "locked": false
        }
       ],
       "scored": true,
       "setup": "",
       "teardown": "",
       "type": "doctest"
      }
     ]
    },
    "q2_8": {
     "name": "q2_8",
     "points": [
      0
     ],
     "suites": [
      {
       "cases": [
        {
         "code": ">>> bool(type(opponent_offense_df) is pd.DataFrame)\nTrue",
         "hidden": false,
         "locked": false
        }
       ],
       "scored": true,
       "setup": "",
       "teardown": "",
       "type": "doctest"
      }
     ]
    },
    "q3_1": {
     "name": "q3_1",
     "points": [
      0
     ],
     "suites": [
      {
       "cases": [
        {
         "code": ">>> humboldt_offense_df.shape\n(17, 10)",
         "hidden": false,
         "locked": false
        }
       ],
       "scored": true,
       "setup": "",
       "teardown": "",
       "type": "doctest"
      }
     ]
    },
    "q3_2": {
     "name": "q3_2",
     "points": [
      0
     ],
     "suites": [
      {
       "cases": [
        {
         "code": ">>> opponent_offense_df.shape\n(17, 8)",
         "hidden": false,
         "locked": false
        }
       ],
       "scored": true,
       "setup": "",
       "teardown": "",
       "type": "doctest"
      }
     ]
    },
    "q3_3": {
     "name": "q3_3",
     "points": [
      0
     ],
     "suites": [
      {
       "cases": [
        {
         "code": ">>> bool(humboldt_offense_df.dtypes.G == type(1.0) or humboldt_offense_df.dtypes.G == type(1))\nTrue",
         "hidden": false,
         "locked": false
        }
       ],
       "scored": true,
       "setup": "",
       "teardown": "",
       "type": "doctest"
      }
     ]
    },
    "q3_4": {
     "name": "q3_4",
     "points": [
      0
     ],
     "suites": [
      {
       "cases": [
        {
         "code": ">>> bool(opponent_offense_df.dtypes.G == type(1.0) or opponent_offense_df.dtypes.G == type(1))\nTrue",
         "hidden": false,
         "locked": false
        }
       ],
       "scored": true,
       "setup": "",
       "teardown": "",
       "type": "doctest"
      }
     ]
    },
    "q3_5": {
     "name": "q3_5",
     "points": [
      0
     ],
     "suites": [
      {
       "cases": [
        {
         "code": ">>> bool('Date' in combined_offense_stats.columns)\nTrue",
         "hidden": false,
         "locked": false
        }
       ],
       "scored": true,
       "setup": "",
       "teardown": "",
       "type": "doctest"
      }
     ]
    },
    "q3_6": {
     "name": "q3_6",
     "points": [
      0
     ],
     "suites": [
      {
       "cases": [
        {
         "code": ">>> bool('W/L' in all_offense_stats)\nTrue",
         "hidden": false,
         "locked": false
        }
       ],
       "scored": true,
       "setup": "",
       "teardown": "",
       "type": "doctest"
      }
     ]
    },
    "q4_1": {
     "name": "q4_1",
     "points": [
      0
     ],
     "suites": [
      {
       "cases": [
        {
         "code": ">>> bool(wins_plot != ...)\nTrue",
         "hidden": false,
         "locked": false
        }
       ],
       "scored": true,
       "setup": "",
       "teardown": "",
       "type": "doctest"
      }
     ]
    },
    "q4_2": {
     "name": "q4_2",
     "points": [
      0
     ],
     "suites": [
      {
       "cases": [
        {
         "code": ">>> bool(shot_compare_plot != ...)\nTrue",
         "hidden": false,
         "locked": false
        }
       ],
       "scored": true,
       "setup": "",
       "teardown": "",
       "type": "doctest"
      }
     ]
    },
    "q4_3": {
     "name": "q4_3",
     "points": [
      0
     ],
     "suites": [
      {
       "cases": [
        {
         "code": ">>> bool(win_loss_shot_violins != ...)\nTrue",
         "hidden": false,
         "locked": false
        }
       ],
       "scored": true,
       "setup": "",
       "teardown": "",
       "type": "doctest"
      }
     ]
    },
    "q4_4_manual": {
     "name": "q4_4_manual",
     "points": [],
     "suites": [
      {
       "cases": [],
       "scored": true,
       "setup": "",
       "teardown": "",
       "type": "doctest"
      }
     ]
    }
   }
  }
 },
 "nbformat": 4,
 "nbformat_minor": 5
}
