{
 "cells": [
  {
   "cell_type": "code",
   "execution_count": null,
   "id": "04527a34",
   "metadata": {
    "deletable": false,
    "editable": false
   },
   "outputs": [],
   "source": [
    "# Initialize Otter\n",
    "import otter\n",
    "grader = otter.Notebook(\"lab01.ipynb\")"
   ]
  },
  {
   "cell_type": "markdown",
   "id": "d84e890d",
   "metadata": {},
   "source": [
    "# Lab 1: Data Types and Structures in Python"
   ]
  },
  {
   "cell_type": "markdown",
   "id": "3c6940d4",
   "metadata": {},
   "source": [
    "Welcome to DATA 271: Data Wrangling and Visualization! This is your first weekly lab assignment of the semester. \n",
    "\n",
    "This document contains examples and small tasks (\"appetizers\") for you to make sure you understand the examples.  The culminating task (\"main course\") at the end of the document is more complex, and uses most of the topics you have will have worked through. You should rarely remain stuck for more than 10-15 minutes on questions in labs, so please ask for help. Collaborating on labs is encouraged! Explaining concepts is beneficial for learning -- one of the best way to solidify your knowledge of a subject is to teach it. Please don't just share answers, though. \n",
    "\n",
    "For this lab and all future ones, please be sure to not re-assign variables throughout the notebook. For example, if you use `my_list` in your answer to one question, do not reassign it later on. Otherwise, you will fail tests that you passed previously!"
   ]
  },
  {
   "cell_type": "markdown",
   "id": "cbdc51d6",
   "metadata": {},
   "source": [
    "### In today's lab, we will\n",
    "- Become familiar with Python's data types and structures.\n",
    "- Become familiar with common functions and methods for these data structures.\n",
    "- Understand indexing and slicing.\n",
    "- Write short programs to solve small problems using these data structures, functions and methods."
   ]
  },
  {
   "cell_type": "markdown",
   "id": "5ad7d543",
   "metadata": {},
   "source": [
    "## Overview"
   ]
  },
  {
   "cell_type": "markdown",
   "id": "e5eaabc6",
   "metadata": {},
   "source": [
    "A *data structure* is an abstract description of a way of organizing data to allow certain operations on it to be performed efficiently. Theoreticians describe data structures and prove their properties in order to show that certain algorithms or problems can be solved efficiently under certain assumptions.\n",
    "\n",
    "A *data type* is a class of objects that all share some property. For example, \"integer\" is a data type containing all of the infinitely many integers, \"string\" is a data type containing all of the infinitely many strings, and \"32-bit integer\" is a data type containing all integers expressible in thirty-two bits. \n",
    "\n",
    "A nice analogy from Stack Overflow is that a data type is like an atom, while data structures are like molecules, meaning data types can't be further reduced, whereas a data structure may consist of multiple fields of different data.\n",
    "\n",
    "The basic Python data structures include list, set, tuples, and dictionary. Each of the data structures is unique in its own way, and we will investigate these properties in this activity. Data structures are “containers” that organize and group data according to type.\n",
    "\n",
    "The data structures differ based on mutability and order. Mutability refers to the ability to change an object after its creation. Mutable objects can be modified after they’ve been created, while immutable objects cannot be modified after their creation. Order, in this context, relates to whether the position of an element can be used to access the element.\n",
    "\n",
    "Lists, sets, and dictionaries are **mutable**. They *can* be modified. \n",
    "String and tuples are **immutable**. They *cannot* be modified. \n",
    "\n",
    "The main Python scalar data types are:\n",
    "* numeric\n",
    "    * int\n",
    "    * float\n",
    "    * etc. (e.g. complex)\n",
    "* string\n",
    "* bool\n",
    "\n",
    "The main Python data structures are:\n",
    "* list\n",
    "* tuple\n",
    "* set\n",
    "* dictionary\n",
    "\n",
    "These are all **objects** and have properties and methods associated with them.  "
   ]
  },
  {
   "cell_type": "markdown",
   "id": "fb8f9514",
   "metadata": {},
   "source": [
    "## Type and Converting Types"
   ]
  },
  {
   "cell_type": "markdown",
   "id": "2c09b0d4",
   "metadata": {},
   "source": [
    "If you would like to know the type of a value, you can use `type()`."
   ]
  },
  {
   "cell_type": "code",
   "execution_count": null,
   "id": "5ee41277",
   "metadata": {},
   "outputs": [],
   "source": [
    "type(7)"
   ]
  },
  {
   "cell_type": "code",
   "execution_count": null,
   "id": "08d9d2b9",
   "metadata": {},
   "outputs": [],
   "source": [
    "type(7.1)"
   ]
  },
  {
   "cell_type": "code",
   "execution_count": null,
   "id": "03f8a78c",
   "metadata": {},
   "outputs": [],
   "source": [
    "type('Hello World')"
   ]
  },
  {
   "cell_type": "code",
   "execution_count": null,
   "id": "646863ca",
   "metadata": {},
   "outputs": [],
   "source": [
    "type(True)"
   ]
  },
  {
   "cell_type": "code",
   "execution_count": null,
   "id": "b8ae971e",
   "metadata": {},
   "outputs": [],
   "source": [
    "type(5+3j)"
   ]
  },
  {
   "cell_type": "markdown",
   "id": "3988893a",
   "metadata": {},
   "source": [
    "You can convert values from one type to another using built-in Python functions. This process is called *type casting.*"
   ]
  },
  {
   "cell_type": "code",
   "execution_count": null,
   "id": "138b8117",
   "metadata": {},
   "outputs": [],
   "source": [
    "s = '32'\n",
    "type(s)"
   ]
  },
  {
   "cell_type": "code",
   "execution_count": null,
   "id": "4be3c319",
   "metadata": {},
   "outputs": [],
   "source": [
    "t = int(s)\n",
    "type(t)\n",
    "# this creates a new variable called t that is an int, and does not change original variable s."
   ]
  },
  {
   "cell_type": "code",
   "execution_count": null,
   "id": "10cbf5c5",
   "metadata": {},
   "outputs": [],
   "source": [
    "b = True\n",
    "type(b)"
   ]
  },
  {
   "cell_type": "code",
   "execution_count": null,
   "id": "80e44a24",
   "metadata": {},
   "outputs": [],
   "source": [
    "i = int(True)\n",
    "i"
   ]
  },
  {
   "cell_type": "code",
   "execution_count": null,
   "id": "643145dd",
   "metadata": {},
   "outputs": [],
   "source": [
    "one = 1\n",
    "type(one)"
   ]
  },
  {
   "cell_type": "code",
   "execution_count": null,
   "id": "9ae4e3ab",
   "metadata": {},
   "outputs": [],
   "source": [
    "f_one = float(one)\n",
    "f_one"
   ]
  },
  {
   "cell_type": "code",
   "execution_count": null,
   "id": "19f9002f",
   "metadata": {},
   "outputs": [],
   "source": [
    "int(float('1.23456789'))"
   ]
  },
  {
   "cell_type": "markdown",
   "id": "e955f930",
   "metadata": {
    "deletable": false,
    "editable": false
   },
   "source": [
    "**Question 1.1**: Convert 3.99 to an integer."
   ]
  },
  {
   "cell_type": "code",
   "execution_count": null,
   "id": "41f504dd",
   "metadata": {
    "tags": []
   },
   "outputs": [],
   "source": [
    "..."
   ]
  },
  {
   "cell_type": "markdown",
   "id": "0ed09c9e",
   "metadata": {
    "deletable": false,
    "editable": false
   },
   "source": [
    "**Question 1.2:** Consider `3.14159`. What is its type?"
   ]
  },
  {
   "cell_type": "code",
   "execution_count": null,
   "id": "0d0b24b2",
   "metadata": {
    "tags": []
   },
   "outputs": [],
   "source": [
    "..."
   ]
  },
  {
   "cell_type": "markdown",
   "id": "adba8bad",
   "metadata": {
    "deletable": false,
    "editable": false
   },
   "source": [
    "**Question 1.3:** Convert `3.14159` to a string."
   ]
  },
  {
   "cell_type": "code",
   "execution_count": null,
   "id": "e5dd6f00",
   "metadata": {
    "tags": []
   },
   "outputs": [],
   "source": [
    "..."
   ]
  },
  {
   "cell_type": "markdown",
   "id": "e3ea16f0",
   "metadata": {},
   "source": [
    "## Strings"
   ]
  },
  {
   "cell_type": "markdown",
   "id": "f5b0fe49",
   "metadata": {},
   "source": [
    "A string is a sequence of characters and we can acccess the characters using bracket notation with an integer inside the bracket.  In Python, indexing starts at `0`.  Strings are immutable.\n",
    "    We can't modify a string once we make it.  An empty string can be created with either single or double quotes(`''` or `\"\"`)."
   ]
  },
  {
   "cell_type": "code",
   "execution_count": null,
   "id": "49e7cbb4",
   "metadata": {},
   "outputs": [],
   "source": [
    "fruit = 'pineapple'\n",
    "letter = fruit[2]\n",
    "print(letter)"
   ]
  },
  {
   "cell_type": "markdown",
   "id": "5693b4e7",
   "metadata": {},
   "source": [
    "### Slicing\n",
    "We can slice a strings.  For example, if we want to print the `ap` in the middle of the word pineapple, we can give the index where the slice should start and the index one beyond where it should end.  If these numbers are the same, you will get an empty string. If you start at the beginning or go all the way to the end, you do not need the second index.\n",
    "\n",
    "Indexing is a good thing to pay attention to because we will generalize it when working in data frames."
   ]
  },
  {
   "cell_type": "code",
   "execution_count": null,
   "id": "6ef29217",
   "metadata": {},
   "outputs": [],
   "source": [
    "print(fruit[4:6])"
   ]
  },
  {
   "cell_type": "code",
   "execution_count": null,
   "id": "4dcea391",
   "metadata": {},
   "outputs": [],
   "source": [
    "print(fruit[:6]) # from first to 6th position (indices 0 to 5)"
   ]
  },
  {
   "cell_type": "code",
   "execution_count": null,
   "id": "ee959e3d",
   "metadata": {},
   "outputs": [],
   "source": [
    "print(fruit[4:]) # from 5th to last position (indices 4 to 8)"
   ]
  },
  {
   "cell_type": "code",
   "execution_count": null,
   "id": "0923d7ef",
   "metadata": {},
   "outputs": [],
   "source": [
    "print(fruit[-1]) # notice the negative index.  This will print the last character"
   ]
  },
  {
   "cell_type": "markdown",
   "id": "107b35a1",
   "metadata": {
    "deletable": false,
    "editable": false
   },
   "source": [
    "**Question 2.1:** Consider the string \n",
    "```python \n",
    "\"A quick brown fox jumps over the lazy dog.\" \n",
    "``` \n",
    "Print the word `dog` using slicing and positive indices."
   ]
  },
  {
   "cell_type": "code",
   "execution_count": null,
   "id": "8249507e",
   "metadata": {
    "tags": []
   },
   "outputs": [],
   "source": [
    "phrase = ...\n",
    "dog_with_positive_inds = ...\n",
    "print(dog_with_positive_inds)"
   ]
  },
  {
   "cell_type": "code",
   "execution_count": null,
   "id": "05d05a41",
   "metadata": {
    "deletable": false,
    "editable": false
   },
   "outputs": [],
   "source": [
    "grader.check(\"q21\")"
   ]
  },
  {
   "cell_type": "markdown",
   "id": "2278c2d7",
   "metadata": {
    "deletable": false,
    "editable": false
   },
   "source": [
    "**Question 2.2:** Consider the same string \n",
    "```python\n",
    "\"A quick brown fox jumps over the lazy dog.\" \n",
    "```\n",
    "Print the word `dog` using slicing and negative indices."
   ]
  },
  {
   "cell_type": "code",
   "execution_count": null,
   "id": "d722c87d",
   "metadata": {
    "tags": []
   },
   "outputs": [],
   "source": [
    "dog_with_negative_inds = ...\n",
    "print(dog_with_negative_inds)"
   ]
  },
  {
   "cell_type": "code",
   "execution_count": null,
   "id": "faf40e66",
   "metadata": {
    "deletable": false,
    "editable": false
   },
   "outputs": [],
   "source": [
    "grader.check(\"q22\")"
   ]
  },
  {
   "cell_type": "markdown",
   "id": "52bf5e0b",
   "metadata": {
    "deletable": false,
    "editable": false
   },
   "source": [
    "**Question 2.3:** Using `phrase` and slicing, assign `new_phrase` to the string \n",
    "```python\n",
    "\"fox jumps over the lazy dog.\" \n",
    "```"
   ]
  },
  {
   "cell_type": "code",
   "execution_count": null,
   "id": "e73ceff5",
   "metadata": {
    "tags": []
   },
   "outputs": [],
   "source": [
    "new_phrase = ...\n",
    "print(new_phrase)"
   ]
  },
  {
   "cell_type": "code",
   "execution_count": null,
   "id": "869378f0",
   "metadata": {
    "deletable": false,
    "editable": false
   },
   "outputs": [],
   "source": [
    "grader.check(\"q23\")"
   ]
  },
  {
   "cell_type": "markdown",
   "id": "2b3cc5e8",
   "metadata": {},
   "source": [
    "### Methods \n",
    "Python has built in functions and methods that work on strings.  \n",
    "Methods are functions which are built into the object and are available to any instance of the object.\n",
    "For a whole list, do a quick google search or type `dir(str)` or `dir(fruit)` which will list the methods available for strings. You can also type `fruit.` and then press the `tab` key for method options. For today, we will start by highlighting\n",
    "- `len()` which is a function returns the length of an object\n",
    "- `.upper()` which is a string method that will convert the string to uppercase\n",
    "- `.lower()` which is a string method that will convert the string to lowercase\n",
    "\n",
    "Calling a function is done with the function name, parentheses and whatever argument(s) it takes.\n",
    "Calling a method is similar to calling a function, but the syntax is different.  It is the `variable_name.method_name()` (the period is a delimiter).  Calling a method is called an invocation (we are invoking the method on the variable)."
   ]
  },
  {
   "cell_type": "code",
   "execution_count": null,
   "id": "5aecb9bb",
   "metadata": {},
   "outputs": [],
   "source": [
    "# len is a function\n",
    "len(fruit) # how long is the word pineapple"
   ]
  },
  {
   "cell_type": "markdown",
   "id": "6f0a23d4",
   "metadata": {},
   "source": [
    "We are invoking `.upper()` on fruit."
   ]
  },
  {
   "cell_type": "code",
   "execution_count": null,
   "id": "8a88c394",
   "metadata": {},
   "outputs": [],
   "source": [
    "# upper is a method\n",
    "fruit.upper()"
   ]
  },
  {
   "cell_type": "code",
   "execution_count": null,
   "id": "d4eb0ae1",
   "metadata": {},
   "outputs": [],
   "source": [
    "# note, the orginal fruit variable is unchanged\n",
    "fruit"
   ]
  },
  {
   "cell_type": "markdown",
   "id": "6ef82f34",
   "metadata": {},
   "source": [
    "Remember, string are immutable, so if we want the uppercase word PINEAPPLE, we will need to save it to a variable."
   ]
  },
  {
   "cell_type": "code",
   "execution_count": null,
   "id": "17ef8b89",
   "metadata": {},
   "outputs": [],
   "source": [
    "upper_fruit = fruit.upper()\n",
    "upper_fruit"
   ]
  },
  {
   "cell_type": "markdown",
   "id": "93d8b070",
   "metadata": {},
   "source": [
    "We are invoking find on fruit to find the index of the letter `e` in the word \"pineapple\"."
   ]
  },
  {
   "cell_type": "code",
   "execution_count": null,
   "id": "6ea730c6",
   "metadata": {},
   "outputs": [],
   "source": [
    "fruit.find('e')"
   ]
  },
  {
   "cell_type": "markdown",
   "id": "7afcb455",
   "metadata": {},
   "source": [
    "We can also find substrings as well as a single character.  If `find()` returns $-1$, it means the substring was not found."
   ]
  },
  {
   "cell_type": "code",
   "execution_count": null,
   "id": "899b0f48",
   "metadata": {},
   "outputs": [],
   "source": [
    "fruit.find('ine')"
   ]
  },
  {
   "cell_type": "code",
   "execution_count": null,
   "id": "e5e9fb36",
   "metadata": {},
   "outputs": [],
   "source": [
    "fruit.find('data271')"
   ]
  },
  {
   "cell_type": "markdown",
   "id": "9cabfbe9",
   "metadata": {},
   "source": [
    "We can change substrings in a string by using the `replace()` method which takes the old substring as a first argument and a new substring as a second argument. "
   ]
  },
  {
   "cell_type": "code",
   "execution_count": null,
   "id": "16ffd16b",
   "metadata": {},
   "outputs": [],
   "source": [
    "fruit.replace('apple','cone')"
   ]
  },
  {
   "cell_type": "code",
   "execution_count": null,
   "id": "0c879230",
   "metadata": {},
   "outputs": [],
   "source": [
    "# Again, this does not change the original string\n",
    "fruit"
   ]
  },
  {
   "cell_type": "markdown",
   "id": "eba61ba1",
   "metadata": {},
   "source": [
    "`replace()` replaces all occurences of the old substring with the new one."
   ]
  },
  {
   "cell_type": "code",
   "execution_count": null,
   "id": "576c2777",
   "metadata": {},
   "outputs": [],
   "source": [
    "fruit.replace('p','b')"
   ]
  },
  {
   "cell_type": "markdown",
   "id": "cbe196fc",
   "metadata": {
    "deletable": false,
    "editable": false
   },
   "source": [
    "**Question 3.1:** Consider again the string \n",
    "```python\n",
    "\"A quick brown fox jumps over the lazy dog.\" \n",
    "```\n",
    "What is the index of the word `brown`?"
   ]
  },
  {
   "cell_type": "code",
   "execution_count": null,
   "id": "864f445a",
   "metadata": {
    "tags": []
   },
   "outputs": [],
   "source": [
    "index_of_brown = ...\n",
    "index_of_brown"
   ]
  },
  {
   "cell_type": "code",
   "execution_count": null,
   "id": "8f99dd21",
   "metadata": {
    "deletable": false,
    "editable": false
   },
   "outputs": [],
   "source": [
    "grader.check(\"q31\")"
   ]
  },
  {
   "cell_type": "markdown",
   "id": "725e61de",
   "metadata": {
    "deletable": false,
    "editable": false
   },
   "source": [
    "**Question 3.2:** Is the `.find()` method case-sensitive? Assign `case_sensitive` to either `True` or `False`. "
   ]
  },
  {
   "cell_type": "code",
   "execution_count": null,
   "id": "6ad6ed68",
   "metadata": {
    "tags": []
   },
   "outputs": [],
   "source": [
    "case_sensitive = ..."
   ]
  },
  {
   "cell_type": "code",
   "execution_count": null,
   "id": "c364cfd4",
   "metadata": {
    "deletable": false,
    "editable": false
   },
   "outputs": [],
   "source": [
    "grader.check(\"q32\")"
   ]
  },
  {
   "cell_type": "markdown",
   "id": "9955b464",
   "metadata": {
    "deletable": false,
    "editable": false
   },
   "source": [
    "**Question 3.3:** Find the index of the word \"coyote\" in `phrase.`"
   ]
  },
  {
   "cell_type": "code",
   "execution_count": null,
   "id": "d2dcc6f0",
   "metadata": {
    "tags": []
   },
   "outputs": [],
   "source": [
    "coyote_index = ...\n",
    "coyote_index"
   ]
  },
  {
   "cell_type": "code",
   "execution_count": null,
   "id": "1debcfa0",
   "metadata": {
    "deletable": false,
    "editable": false
   },
   "outputs": [],
   "source": [
    "grader.check(\"q33\")"
   ]
  },
  {
   "cell_type": "markdown",
   "id": "70ea589a",
   "metadata": {
    "deletable": false,
    "editable": false
   },
   "source": [
    "**Question 3.4:** Replace the word \"dog\" with the word \"coyote\" in `phrase.`"
   ]
  },
  {
   "cell_type": "code",
   "execution_count": null,
   "id": "4cffa2c8",
   "metadata": {
    "tags": []
   },
   "outputs": [],
   "source": [
    "coyote_phrase = ...\n",
    "coyote_phrase"
   ]
  },
  {
   "cell_type": "code",
   "execution_count": null,
   "id": "81213c4e",
   "metadata": {
    "deletable": false,
    "editable": false
   },
   "outputs": [],
   "source": [
    "grader.check(\"q34\")"
   ]
  },
  {
   "cell_type": "markdown",
   "id": "fdd1781e",
   "metadata": {
    "deletable": false,
    "editable": false
   },
   "source": [
    "**Question 3.5:** Now find the index of the word \"coyote\" in `coyote_phrase.`"
   ]
  },
  {
   "cell_type": "code",
   "execution_count": null,
   "id": "23e86391",
   "metadata": {
    "tags": []
   },
   "outputs": [],
   "source": [
    "new_coyote_index = ...\n",
    "new_coyote_index"
   ]
  },
  {
   "cell_type": "code",
   "execution_count": null,
   "id": "8eeed574",
   "metadata": {
    "deletable": false,
    "editable": false
   },
   "outputs": [],
   "source": [
    "grader.check(\"q35\")"
   ]
  },
  {
   "cell_type": "markdown",
   "id": "e8b0d71b",
   "metadata": {
    "deletable": false,
    "editable": false
   },
   "source": [
    "**Question 3.6:** Consider the Python code below which assigns a string to the name `my_string`. Use `find()` and string slicing to extract the portion of the string after the colon and then convert the extracted string to a float."
   ]
  },
  {
   "cell_type": "code",
   "execution_count": null,
   "id": "51e6b0c7",
   "metadata": {
    "tags": []
   },
   "outputs": [],
   "source": [
    "my_string = 'K-ARGT-Russe: 5.43'\n",
    "index = ...\n",
    "number = ...\n",
    "number"
   ]
  },
  {
   "cell_type": "code",
   "execution_count": null,
   "id": "92bd1e3c",
   "metadata": {
    "deletable": false,
    "editable": false
   },
   "outputs": [],
   "source": [
    "grader.check(\"q36\")"
   ]
  },
  {
   "cell_type": "markdown",
   "id": "4bf743f1",
   "metadata": {},
   "source": [
    "## Lists"
   ]
  },
  {
   "cell_type": "markdown",
   "id": "35942ab4",
   "metadata": {},
   "source": [
    "A list is a sequence of values (potentially of different types).  Lists are created with the square bracket notation.  Values are called elements, and elements are accessed with bracket notation (just as they are for strings).  In general, we can view lists as a mapping between indices and elements.  Lists are **mutable.**"
   ]
  },
  {
   "cell_type": "code",
   "execution_count": null,
   "id": "1da65ff7",
   "metadata": {},
   "outputs": [],
   "source": [
    "list1 = ['fox', 7, 3.1, [1,2]] # this list has a string, an int, a float, and a list as its elements\n",
    "list1[1]"
   ]
  },
  {
   "cell_type": "code",
   "execution_count": null,
   "id": "aae3d114",
   "metadata": {},
   "outputs": [],
   "source": [
    "list1[1] = 'apple' # reassign the second element of the list\n",
    "list1"
   ]
  },
  {
   "cell_type": "markdown",
   "id": "56eb2c2d",
   "metadata": {},
   "source": [
    "### Traversing a List\n",
    "It can be convenient to use the functions `range()` and `len()` to loop through a list and update elements.  For example, consider the list of numbers below and return a new list which is the square of each number."
   ]
  },
  {
   "cell_type": "code",
   "execution_count": null,
   "id": "9ceef6fb",
   "metadata": {},
   "outputs": [],
   "source": [
    "list2 = [1, 2, 3, 4]\n",
    "for i in range(len(list2)):\n",
    "    list2[i] = list2[i] ** 2\n",
    "list2   # note, list2 is the list of squares and the original list has been overwritten."
   ]
  },
  {
   "cell_type": "markdown",
   "id": "95c905a9",
   "metadata": {},
   "source": [
    "*Side note:* You can also loop through strings if you want to."
   ]
  },
  {
   "cell_type": "code",
   "execution_count": null,
   "id": "eac1fb45",
   "metadata": {},
   "outputs": [],
   "source": [
    "cal_poly_string = \"I am a Cal Poly Humboldt student. Woohoo!\"\n",
    "\n",
    "num_vowels = 0\n",
    "for character in cal_poly_string:\n",
    "    if character.lower() == 'a':\n",
    "        num_vowels += 1\n",
    "    elif character.lower() == 'e':\n",
    "        num_vowels += 1\n",
    "    elif character.lower() == 'i':\n",
    "        num_vowels += 1\n",
    "    elif character.lower() == 'o':\n",
    "        num_vowels += 1\n",
    "    elif character.lower() == 'u':\n",
    "        num_vowels += 1\n",
    "num_vowels"
   ]
  },
  {
   "cell_type": "markdown",
   "id": "241eed99",
   "metadata": {},
   "source": [
    "*Note:* The cell above could be more efficient by using the following code."
   ]
  },
  {
   "cell_type": "code",
   "execution_count": null,
   "id": "8988d979",
   "metadata": {},
   "outputs": [],
   "source": [
    "num_vowels = 0 \n",
    "for character in cal_poly_string:\n",
    "    if character.lower() in 'aeiou':\n",
    "        num_vowels += 1\n",
    "num_vowels"
   ]
  },
  {
   "cell_type": "markdown",
   "id": "1626614f",
   "metadata": {
    "deletable": false,
    "editable": false
   },
   "source": [
    "**Question 4.1:** Use the functions `range()` and `len()` to update the list `list3` so that it contains each number from the original `list3` divided by 10. Make sure that each element of the result is an integer, not a float."
   ]
  },
  {
   "cell_type": "code",
   "execution_count": null,
   "id": "927968de",
   "metadata": {
    "tags": []
   },
   "outputs": [],
   "source": [
    "list3 = [100, 200, 300, 400]\n",
    "...\n",
    "    list3[i] = ...\n",
    "list3   "
   ]
  },
  {
   "cell_type": "code",
   "execution_count": null,
   "id": "8d5523e0",
   "metadata": {
    "deletable": false,
    "editable": false
   },
   "outputs": [],
   "source": [
    "grader.check(\"q41\")"
   ]
  },
  {
   "cell_type": "markdown",
   "id": "1f81a963",
   "metadata": {},
   "source": [
    "### Methods"
   ]
  },
  {
   "cell_type": "markdown",
   "id": "682e53a0",
   "metadata": {},
   "source": [
    "Lists have a number methods such as `append()`, `sort()`, `copy()`, `insert()`, `pop()`, `remove()`, `reverse()` among others.  For example, the method `pop()` takes the index of the item you want to delete as an argument and returns the element removed from the list.  The method `remove()` takes as an argument the element you want to remove (not the index).  **These methods modify the list**.  If you might need the original values, make sure to make a copy first."
   ]
  },
  {
   "cell_type": "code",
   "execution_count": null,
   "id": "d4621afc",
   "metadata": {},
   "outputs": [],
   "source": [
    "list4 = [47, 3, 7, 8]\n",
    "list4.sort()\n",
    "list4"
   ]
  },
  {
   "cell_type": "markdown",
   "id": "a80f9cfa",
   "metadata": {},
   "source": [
    "Suppose we wanted to sort this list in descending order. When we used the `datascience` library in DATA 111, we used a `datascience.Table` method `.sort`, which accepted one argument for the column of the table to sort by and an optional second argument `descending = True` to sort in descending order. Lets see if this works for the `sort` method on lists.   "
   ]
  },
  {
   "cell_type": "code",
   "execution_count": null,
   "id": "03b659ae",
   "metadata": {},
   "outputs": [],
   "source": [
    "list4.sort(descending = True)"
   ]
  },
  {
   "cell_type": "markdown",
   "id": "a025b9c9",
   "metadata": {},
   "source": [
    "It looks like that didn't work. Fortunately, we can call `help()` on any built in function or method to read its documentation and find out more about its arguments. "
   ]
  },
  {
   "cell_type": "code",
   "execution_count": null,
   "id": "94de9522",
   "metadata": {},
   "outputs": [],
   "source": [
    "help(list4.sort)"
   ]
  },
  {
   "cell_type": "markdown",
   "id": "83af69a9",
   "metadata": {},
   "source": [
    "Looks like this method takes an argument called `reverse` which has a default value of `False`. Let's change that and see what happens."
   ]
  },
  {
   "cell_type": "code",
   "execution_count": null,
   "id": "44f17902",
   "metadata": {},
   "outputs": [],
   "source": [
    "list4.sort(reverse=True)\n",
    "list4"
   ]
  },
  {
   "cell_type": "markdown",
   "id": "cd0b4f98",
   "metadata": {},
   "source": [
    "Nice! Before we move on and explore more methods and fucntions, it's helpful to know that another way to look up the documentation for a particular function or method is my using a question mark `?` before or after it. The docstring should show up as a pop-up. This process is referred to as *object introspection* and it can be used on any object including variables you've defined."
   ]
  },
  {
   "cell_type": "code",
   "execution_count": null,
   "id": "20665aa6",
   "metadata": {},
   "outputs": [],
   "source": [
    "list4.sort?"
   ]
  },
  {
   "cell_type": "code",
   "execution_count": null,
   "id": "f11634e3",
   "metadata": {},
   "outputs": [],
   "source": [
    "fruit?"
   ]
  },
  {
   "cell_type": "markdown",
   "id": "29339106",
   "metadata": {},
   "source": [
    "The `append()` method allows us to append new values to a list."
   ]
  },
  {
   "cell_type": "code",
   "execution_count": null,
   "id": "84d6da35",
   "metadata": {},
   "outputs": [],
   "source": [
    "list4.append(54)\n",
    "list4"
   ]
  },
  {
   "cell_type": "markdown",
   "id": "9d04f270",
   "metadata": {},
   "source": [
    "Lists also have a number of built in functions that save you from writing a loop.  Examples include `len()`, `max()`, `min()`, `sum()`."
   ]
  },
  {
   "cell_type": "code",
   "execution_count": null,
   "id": "28247a87",
   "metadata": {},
   "outputs": [],
   "source": [
    "max(list4)"
   ]
  },
  {
   "cell_type": "markdown",
   "id": "e240e759",
   "metadata": {},
   "source": [
    "### Lambda \n",
    "Using `lambda` (a Python keyword to generate an anonymous function) ultimately means you don't have to define an entire function. Lambda functions are created, used, and immediately destroyed - so they don't clutter your code with more code that will only ever be used once.  Lambda syntax is as follows: \n",
    "\n",
    "`lambda input_variable(s): nice one liner`  \n",
    "\n",
    "The function is called right as it is created. Notice that you do not give the function a name because it will never be used again."
   ]
  },
  {
   "cell_type": "code",
   "execution_count": null,
   "id": "d53f2103",
   "metadata": {},
   "outputs": [],
   "source": [
    "# example lambda function to divide two numbers\n",
    "(lambda x, y: x / y)(10, 2)"
   ]
  },
  {
   "cell_type": "markdown",
   "id": "b7ce6ef1",
   "metadata": {},
   "source": [
    "### Another Way to Sort Lists and Use Lambda\n",
    "We can also sort lists with the function `sorted()`, which returns a list of sorted elements. If we want to sort in a particular way or if we want to sort a complex list of elements (e.g., nested lists or a list of tuples) we can invoke the `key` argument."
   ]
  },
  {
   "cell_type": "code",
   "execution_count": null,
   "id": "47ba50dd",
   "metadata": {},
   "outputs": [],
   "source": [
    "help(sorted)"
   ]
  },
  {
   "cell_type": "markdown",
   "id": "9cb39fc2",
   "metadata": {},
   "source": [
    "The idea behind the key argument is that it should take in a set of instructions that will essentially point the `sorted()` function at those list elements which should be used to sort by. When it says `key=`, what it really means is: As I iterate through the list, one element at a time, I'm going to pass the current element to the function specifed by the key argument and use that to create a transformed list which will inform me on the order of the final sorted list.\n",
    "\n",
    "With no key specified, `sorted()` will return elements in ascending order. **This will not modify the list**. "
   ]
  },
  {
   "cell_type": "code",
   "execution_count": null,
   "id": "b68b35ce",
   "metadata": {},
   "outputs": [],
   "source": [
    "mylist = [3, 6, 23, 2, 4, 8, 3]  # an example list\n",
    "print(sorted(mylist))\n",
    "print(mylist)"
   ]
  },
  {
   "cell_type": "markdown",
   "id": "3bb7fd98",
   "metadata": {},
   "source": [
    "If we instead wanted to separate out even and odd numbers in the list, we can use a key and a lambda function.  Our lambda function checks to see if a number is even (no remainder when dividing by 2).  It might seem strange that the odd numbers are returned before the even numbers, but the statement `x % 2 == 0` returns either a `0` for `False` or a `1` for `True`. "
   ]
  },
  {
   "cell_type": "code",
   "execution_count": null,
   "id": "00471405",
   "metadata": {},
   "outputs": [],
   "source": [
    "sorted(mylist, key = lambda x: x % 2 == 0)"
   ]
  },
  {
   "cell_type": "markdown",
   "id": "2ec244b7",
   "metadata": {},
   "source": [
    "You might also notice that the even numbers are not sorted in ascending order.  This is because the function `sorted()` only sorts once, so the those numbers remain in their original order relative to each other."
   ]
  },
  {
   "cell_type": "markdown",
   "id": "e8ca6860",
   "metadata": {},
   "source": [
    "As another example, if we want to sort a list of lists by the second element, we can use the second element as the key.  The lambda function takes the second element of each list for the sorting."
   ]
  },
  {
   "cell_type": "code",
   "execution_count": null,
   "id": "192c0f6e",
   "metadata": {},
   "outputs": [],
   "source": [
    "mylist2 = [[3, 5, 8], [6, 2, 8], [2, 9, 4], [6, 8, 5]]\n",
    "sorted(mylist2, key=lambda x: x[1])"
   ]
  },
  {
   "cell_type": "markdown",
   "id": "947061f7",
   "metadata": {
    "deletable": false,
    "editable": false
   },
   "source": [
    "**Question 5.1:** Sort the list `['aaac', 'ccb', 'd', 'ba']` by length of string."
   ]
  },
  {
   "cell_type": "code",
   "execution_count": null,
   "id": "e13d1c60",
   "metadata": {
    "tags": []
   },
   "outputs": [],
   "source": [
    "mylist3 = ['aaac', 'ccb', 'd', 'ba']\n",
    "sorted_by_length = ...\n",
    "sorted_by_length"
   ]
  },
  {
   "cell_type": "code",
   "execution_count": null,
   "id": "28cc37ab",
   "metadata": {
    "deletable": false,
    "editable": false
   },
   "outputs": [],
   "source": [
    "grader.check(\"q51\")"
   ]
  },
  {
   "cell_type": "markdown",
   "id": "3f332960",
   "metadata": {
    "deletable": false,
    "editable": false
   },
   "source": [
    "**Question 5.2:** Sort the list `['aaac', 'ccb', 'd', 'ba']` by the last letter of the string."
   ]
  },
  {
   "cell_type": "code",
   "execution_count": null,
   "id": "b441c046",
   "metadata": {
    "tags": []
   },
   "outputs": [],
   "source": [
    "sorted_by_last = ...\n",
    "sorted_by_last"
   ]
  },
  {
   "cell_type": "code",
   "execution_count": null,
   "id": "bb017295",
   "metadata": {
    "deletable": false,
    "editable": false
   },
   "outputs": [],
   "source": [
    "grader.check(\"q52\")"
   ]
  },
  {
   "cell_type": "markdown",
   "id": "590b8293",
   "metadata": {},
   "source": [
    "### Split and Join\n",
    "These methods conveniently allow us to convert a string to a list and vice versa.  (They can work on other data structures also, but we focus on strings and lists here.)"
   ]
  },
  {
   "cell_type": "code",
   "execution_count": null,
   "id": "0a569820",
   "metadata": {
    "scrolled": true
   },
   "outputs": [],
   "source": [
    "# turn string into list of words\n",
    "data_phrase = 'It is a capital mistake to theorize before one has data'\n",
    "listofwords = data_phrase.split(' ') # split on the space\n",
    "listofwords"
   ]
  },
  {
   "cell_type": "code",
   "execution_count": null,
   "id": "567a7bed",
   "metadata": {},
   "outputs": [],
   "source": [
    "# turn list of words into a string with a delimiter like a space\n",
    "list_of_words = ['Live', 'what', 'you', 'love']\n",
    "delimiter = ' ' # put space between words\n",
    "quote = delimiter.join(list_of_words)\n",
    "quote"
   ]
  },
  {
   "cell_type": "markdown",
   "id": "b2e4b55f",
   "metadata": {
    "deletable": false,
    "editable": false
   },
   "source": [
    "**Question 6.1:** Create a list called `random_numbers` of 50 random integers between 1 and 100.  Create a second list called `div_3_list` from the first list containing only numbers in the original list which are divisible by $3$.  Repeat the experiment 3 times.  Then calculate the average difference in length between the two lists.  \n",
    "\n",
    "*Hint*: The `random` library allows us to generate randome numbers. For example, to make a list of 5 random numbers between 1 and 10, the following code will work:"
   ]
  },
  {
   "cell_type": "code",
   "execution_count": null,
   "id": "3a267847",
   "metadata": {
    "deletable": false,
    "editable": false
   },
   "outputs": [],
   "source": [
    "import random \n",
    "\n",
    "example_random_list = [random.randint(0,10) for x in range(5)] # this syntax will become more clear next week\n",
    "print(example_random_list)"
   ]
  },
  {
   "cell_type": "code",
   "execution_count": null,
   "id": "e0ec80c7",
   "metadata": {
    "tags": []
   },
   "outputs": [],
   "source": [
    "number_of_experiments = ... \n",
    "# make an empty list to hold difference for each experiment\n",
    "difference = []\n",
    "for ... in ...: \n",
    "    # one experiment\n",
    "    random_numbers = ...\n",
    "    div_3_list = ... # % is the modulus and returns the remainder after division\n",
    "    difference.append(len(random_numbers) - len(div_3_list))\n",
    "\n",
    "\n",
    "# calculate the mean\n",
    "average_difference = ...\n",
    "average_difference"
   ]
  },
  {
   "cell_type": "code",
   "execution_count": null,
   "id": "1b42b814",
   "metadata": {
    "deletable": false,
    "editable": false
   },
   "outputs": [],
   "source": [
    "grader.check(\"q61\")"
   ]
  },
  {
   "cell_type": "markdown",
   "id": "b1b39c68",
   "metadata": {},
   "source": [
    "## Dictionaries"
   ]
  },
  {
   "cell_type": "markdown",
   "id": "6e821d87",
   "metadata": {},
   "source": [
    "A dictionary is similar to a list, but more general.  In a list, the index positions must be integers, but in a dictionary there is more freedom for the type of the indices.  We think of a dictionary as mapping between *keys* and *values*.  There is no intrinsic ordering.  For example, we could consider our favorite Hollywood actors (keys) and their respective ages (values).  We could also consider a literal dictionary, where keys are English words and values are the Spanish equivalent.  In this example, both keys and values are strings.  We create an empty dictionary using `dict()` or `{}` (empty curly braces}.  We use the square brackets to add items.\n",
    "\n",
    "* the dictionary method `values()` returns the values in a type that can be converted to a list.\n",
    "- the dictionary method `fromkeys()` creates a dictionary from a given sequence of keys and values.  It can take two parameters: keys and values (optional).\n",
    "- the dictionary method `keys()` has no parameters and returns a view object that displays the keys.\n",
    "- the dictionary method `items()` returns the key-value pairs of the dictionary as tuples in a list.\n",
    "- the `in` operator works on dictionaries. It checks to see if something is a key in a dictionary. \n",
    "\n",
    "Dictionaries can be quite useful as a set of counters.  For example, if you want to count the number of times each word appears in a text, you could create a dictionary and the first time you see a word, you could add it to the dictionary with the corresponding value of one.  If you see the word again, you will increment the value.  An advantage of this implementation is that we don't have to know ahead of time what words we will see."
   ]
  },
  {
   "cell_type": "code",
   "execution_count": null,
   "id": "1ab81dc4",
   "metadata": {},
   "outputs": [],
   "source": [
    "fruitdict = {'a': 'apple', 'b': 'banana', 'c': 'cantaloupe'}\n",
    "fruitdict.keys()"
   ]
  },
  {
   "cell_type": "code",
   "execution_count": null,
   "id": "a58ec3dd",
   "metadata": {},
   "outputs": [],
   "source": [
    "fruitdict.items()"
   ]
  },
  {
   "cell_type": "code",
   "execution_count": null,
   "id": "4e1a8fe6",
   "metadata": {},
   "outputs": [],
   "source": [
    "fruitdict['a']"
   ]
  },
  {
   "cell_type": "code",
   "execution_count": null,
   "id": "7d3949c2",
   "metadata": {},
   "outputs": [],
   "source": [
    "list(fruitdict.values())"
   ]
  },
  {
   "cell_type": "code",
   "execution_count": null,
   "id": "a92606e5",
   "metadata": {
    "scrolled": true
   },
   "outputs": [],
   "source": [
    "'b' in fruitdict"
   ]
  },
  {
   "cell_type": "code",
   "execution_count": null,
   "id": "1900490e",
   "metadata": {},
   "outputs": [],
   "source": [
    "'banana' in fruitdict # this is checking to see if banana is a key, not a value!"
   ]
  },
  {
   "cell_type": "code",
   "execution_count": null,
   "id": "5d4772fd",
   "metadata": {},
   "outputs": [],
   "source": [
    "'banana' in list(fruitdict.values()) # this checks to see if banana is a value"
   ]
  },
  {
   "cell_type": "markdown",
   "id": "c8925bd0",
   "metadata": {},
   "source": [
    "**Problem 7:** Consider the following dictionary:"
   ]
  },
  {
   "cell_type": "code",
   "execution_count": null,
   "id": "10374aac",
   "metadata": {},
   "outputs": [],
   "source": [
    "student_info = {\n",
    "    'name': 'Alice',\n",
    "    'age': 20,\n",
    "    'grades': {'math': 90, 'english': 85, 'history': 88},\n",
    "    'courses': ['math', 'english', 'history']\n",
    "}"
   ]
  },
  {
   "cell_type": "markdown",
   "id": "7768dee7",
   "metadata": {
    "deletable": false,
    "editable": false
   },
   "source": [
    "**Question 7.1:** Access and print Alice's age."
   ]
  },
  {
   "cell_type": "code",
   "execution_count": null,
   "id": "5042406b",
   "metadata": {
    "tags": []
   },
   "outputs": [],
   "source": [
    "alice_age = ...\n",
    "print(alice_age)"
   ]
  },
  {
   "cell_type": "code",
   "execution_count": null,
   "id": "0782cc2b",
   "metadata": {
    "deletable": false,
    "editable": false
   },
   "outputs": [],
   "source": [
    "grader.check(\"q71\")"
   ]
  },
  {
   "cell_type": "markdown",
   "id": "b349c6ab",
   "metadata": {
    "deletable": false,
    "editable": false
   },
   "source": [
    "**Question 7.2:** Access and print Alice's grade in English."
   ]
  },
  {
   "cell_type": "code",
   "execution_count": null,
   "id": "56ee65b8",
   "metadata": {
    "tags": []
   },
   "outputs": [],
   "source": [
    "alice_egrade = ...\n",
    "print(alice_egrade)"
   ]
  },
  {
   "cell_type": "code",
   "execution_count": null,
   "id": "a130884d",
   "metadata": {
    "deletable": false,
    "editable": false
   },
   "outputs": [],
   "source": [
    "grader.check(\"q72\")"
   ]
  },
  {
   "cell_type": "markdown",
   "id": "54b94f34",
   "metadata": {
    "deletable": false,
    "editable": false
   },
   "source": [
    "**Question 7.3:** Add physics to the courses Alice took."
   ]
  },
  {
   "cell_type": "code",
   "execution_count": null,
   "id": "3e9b1aaf",
   "metadata": {
    "tags": []
   },
   "outputs": [],
   "source": [
    "...\n",
    "student_info"
   ]
  },
  {
   "cell_type": "code",
   "execution_count": null,
   "id": "39afea0b",
   "metadata": {
    "deletable": false,
    "editable": false
   },
   "outputs": [],
   "source": [
    "grader.check(\"q73\")"
   ]
  },
  {
   "cell_type": "markdown",
   "id": "6caaa749",
   "metadata": {
    "deletable": false,
    "editable": false
   },
   "source": [
    "**Question 7.4:** Update Alice's math grade to 95."
   ]
  },
  {
   "cell_type": "code",
   "execution_count": null,
   "id": "473f7a94",
   "metadata": {
    "tags": []
   },
   "outputs": [],
   "source": [
    "student_info"
   ]
  },
  {
   "cell_type": "code",
   "execution_count": null,
   "id": "489753f4",
   "metadata": {
    "deletable": false,
    "editable": false
   },
   "outputs": [],
   "source": [
    "grader.check(\"q74\")"
   ]
  },
  {
   "cell_type": "markdown",
   "id": "7d3c5f3b",
   "metadata": {
    "deletable": false,
    "editable": false
   },
   "source": [
    "**Question 7.5:** Print the keys of the `grades` dictionary."
   ]
  },
  {
   "cell_type": "code",
   "execution_count": null,
   "id": "498628f2",
   "metadata": {
    "tags": []
   },
   "outputs": [],
   "source": [
    "grade_keys = ...\n",
    "print(grade_keys)"
   ]
  },
  {
   "cell_type": "code",
   "execution_count": null,
   "id": "1db9ff7c",
   "metadata": {
    "deletable": false,
    "editable": false
   },
   "outputs": [],
   "source": [
    "grader.check(\"q75\")"
   ]
  },
  {
   "cell_type": "markdown",
   "id": "bafbe294",
   "metadata": {
    "deletable": false,
    "editable": false
   },
   "source": [
    "**Question 7.6:** Check if 'biology' is in the list of courses. "
   ]
  },
  {
   "cell_type": "code",
   "execution_count": null,
   "id": "90b74f39",
   "metadata": {
    "tags": []
   },
   "outputs": [],
   "source": [
    "is_bio = ...\n",
    "print(is_bio)"
   ]
  },
  {
   "cell_type": "code",
   "execution_count": null,
   "id": "139dcef0",
   "metadata": {
    "deletable": false,
    "editable": false
   },
   "outputs": [],
   "source": [
    "grader.check(\"q76\")"
   ]
  },
  {
   "cell_type": "markdown",
   "id": "154c867f",
   "metadata": {},
   "source": [
    "### Sorted Dictionaries \n",
    "We can also use the `sorted()` function with a key to sort a dictionary and use a `lambda` function to sort on the value instead of the key.  The `item()` function retrieves a dictionary's keys and values."
   ]
  },
  {
   "cell_type": "code",
   "execution_count": null,
   "id": "7530f3d6",
   "metadata": {},
   "outputs": [],
   "source": [
    "actor = {'Keanu': 58, 'Hugh' : 54, 'Jason': 43, 'Mark' : 51}\n",
    "sorted_by_name = sorted(actor) # sort on name, this returns a list\n",
    "sorted_by_age = sorted(actor.items(), key = lambda x: x[1]) # sort on age\n",
    "# this returns a list of tuples\n",
    "print(sorted_by_name)\n",
    "print(sorted_by_age)"
   ]
  },
  {
   "cell_type": "markdown",
   "id": "b7da8396",
   "metadata": {},
   "source": [
    "## Tuples"
   ]
  },
  {
   "cell_type": "markdown",
   "id": "d40ef859",
   "metadata": {},
   "source": [
    "A tuples is a sequence of values.  The values can be any type and they are indexed by integers.  The important difference between tuples and lists is that tuples are **immutable** whereas lists, as we have seen, are **mutable**.  Tuples are comparable, so we can sort lists of tuples and use them as key values in Python dictionaries.  Tuples are created with parentheses and then listing values inside, separated with a comma.  An empty tuple is created with `()`.  Elements are accessed with square brackets, just like for lists."
   ]
  },
  {
   "cell_type": "code",
   "execution_count": null,
   "id": "e002f76e",
   "metadata": {},
   "outputs": [],
   "source": [
    "tup1 = ('fox', 7, 3.1, [1,2])"
   ]
  },
  {
   "cell_type": "code",
   "execution_count": null,
   "id": "b701b898",
   "metadata": {},
   "outputs": [],
   "source": [
    "tup1[0]"
   ]
  },
  {
   "cell_type": "code",
   "execution_count": null,
   "id": "da87abdf",
   "metadata": {},
   "outputs": [],
   "source": [
    "# we can't reassign values in a tuple because it is immutable\n",
    "tup1[0] = 'coyote'"
   ]
  },
  {
   "cell_type": "markdown",
   "id": "0d92a812",
   "metadata": {},
   "source": [
    "The comparison operator with tuples works by comparing the first element of each.  If they are equal, it goes on to the next element and continues until it finds an element that differs.  Once it finds an element that differs, it does not continue.  Consider the comparison below-- Python looks at the first element of each tuple, and since $0<1$ is true, it's done and never considers the next elements."
   ]
  },
  {
   "cell_type": "code",
   "execution_count": null,
   "id": "14071b26",
   "metadata": {},
   "outputs": [],
   "source": [
    "(0, 7, 2000) < (1, 0, 0)"
   ]
  },
  {
   "cell_type": "markdown",
   "id": "669eee8e",
   "metadata": {},
   "source": [
    "### Tuple methods\n",
    "Since tuples can't be modified, they do not have many methods."
   ]
  },
  {
   "cell_type": "code",
   "execution_count": null,
   "id": "69e72cb2",
   "metadata": {},
   "outputs": [],
   "source": [
    "a_tuple = (1,2,2,3,3,3,4,4,4,4,5,5,5,5,5)\n",
    "a_tuple.count(2)"
   ]
  },
  {
   "cell_type": "code",
   "execution_count": null,
   "id": "e73b72bc",
   "metadata": {},
   "outputs": [],
   "source": [
    "a_tuple.index(3)"
   ]
  },
  {
   "cell_type": "markdown",
   "id": "c6cfe94d",
   "metadata": {},
   "source": [
    "### Sorting Tuples and DSU\n",
    "The comparability of tuples can be used for sorting tasks.  This is part of a pattern termed DSU which stands for decorate-sort-undecorate.  The idea is to \"decorate\" a sequence by creating a list of tuples with a sort key before the element in the sequence (for example, if the sequence is a list of words, we would \"decorate\" this by creating a tuple (word length, word) for each.  We then sort the tuples.  We then \"undecorate\" by extracting the sorted elements of the sequence."
   ]
  },
  {
   "cell_type": "code",
   "execution_count": null,
   "id": "caa4ffce",
   "metadata": {},
   "outputs": [],
   "source": [
    "quote = 'The future belongs to those who believe in the beauty of their dreams'\n",
    "words = quote.split() # split Eleanor Roosevelt's quote into a list of words\n",
    "words"
   ]
  },
  {
   "cell_type": "code",
   "execution_count": null,
   "id": "144d5338",
   "metadata": {},
   "outputs": [],
   "source": [
    "# DECORATE\n",
    "t = list()\n",
    "for word in words:\n",
    "    t.append((len(word), word)) # for each word, store a tuple with the word length and the word in the list t\n",
    "t"
   ]
  },
  {
   "cell_type": "code",
   "execution_count": null,
   "id": "324f1d7d",
   "metadata": {},
   "outputs": [],
   "source": [
    "# SORT\n",
    "t.sort(reverse = True) # sort the list with the longest word first\n",
    "t"
   ]
  },
  {
   "cell_type": "code",
   "execution_count": null,
   "id": "0d16caa7",
   "metadata": {},
   "outputs": [],
   "source": [
    "# UNDECORATE\n",
    "result = list() # create an empty list and populate it with words in order of length\n",
    "for length, word in t:\n",
    "    result.append(word)\n",
    "result"
   ]
  },
  {
   "cell_type": "markdown",
   "id": "e9331c28",
   "metadata": {},
   "source": [
    "You may notice that the `for` loop in the last cell looks a little strange. It seems we assigned 2 variables `length` and `word` for each iteration of the loop. This is called *multi-assignment syntax* and it can it can be used when you are iterating through an object that holds containers or sequences.\n",
    "\n",
    "Along these lines, a unique syntactic feature of Python is that we can have multiple variables on the **left** side of an assignment.  This allows us to assign more than one variable at a time.  This also gives us a shortcut to swap values of variables."
   ]
  },
  {
   "cell_type": "code",
   "execution_count": null,
   "id": "7b75745b",
   "metadata": {},
   "outputs": [],
   "source": [
    "tup2 = ('apple', 'banana')\n",
    "x, y = tup2\n",
    "print(x)"
   ]
  },
  {
   "cell_type": "code",
   "execution_count": null,
   "id": "a39da75c",
   "metadata": {},
   "outputs": [],
   "source": [
    "y, x = x, y\n",
    "print(x)"
   ]
  },
  {
   "cell_type": "markdown",
   "id": "3bc8f770",
   "metadata": {},
   "source": [
    "### Sorting Dictionaries Revisited"
   ]
  },
  {
   "cell_type": "markdown",
   "id": "02e711fb",
   "metadata": {},
   "source": [
    "We mentioned above that dictionaries have a method called `items()` which returns a collection of tuples.  Each tuple is of the form (key, value).  Dictionaries have no ordering, so we do not expect this list to be in order.  However, we can sort a list of those tuples, and this gives us a way to sort the contents of a dictionary by key.  Compare this to the sorting above.  This works for sorting by the key, but not the value."
   ]
  },
  {
   "cell_type": "code",
   "execution_count": null,
   "id": "03ad8dc7",
   "metadata": {},
   "outputs": [],
   "source": [
    "actor = {'Keanu': 58, 'Hugh' : 54, 'Jason': 43, 'Mark' : 51}\n",
    "t = list(actor.items()) # returns a list of tuples of key-value pairs\n",
    "t"
   ]
  },
  {
   "cell_type": "code",
   "execution_count": null,
   "id": "94ca3096",
   "metadata": {},
   "outputs": [],
   "source": [
    "t.sort()\n",
    "t"
   ]
  },
  {
   "cell_type": "markdown",
   "id": "8f82aff9",
   "metadata": {},
   "source": [
    "## Sets"
   ]
  },
  {
   "cell_type": "markdown",
   "id": "f7422635",
   "metadata": {},
   "source": [
    "A set is, essentially a collection of different things.  Each element is listed only once.  This can be useful in coding if we want to eliminate of duplicate entries in a list."
   ]
  },
  {
   "cell_type": "code",
   "execution_count": null,
   "id": "2d827845",
   "metadata": {},
   "outputs": [],
   "source": [
    "fruit_list = ['apple', 'banana', 'apple', 'pear']\n",
    "set(fruit_list)"
   ]
  },
  {
   "cell_type": "code",
   "execution_count": null,
   "id": "850ca9a9",
   "metadata": {},
   "outputs": [],
   "source": [
    "fruit_list_unique = list(set(fruit_list)) # this turns a list to a set to eliminate duplicates and then turns that set back to a list.  \n",
    "fruit_list_unique"
   ]
  },
  {
   "cell_type": "markdown",
   "id": "432df1e6",
   "metadata": {},
   "source": [
    "You can find common elements in sets using the `.intersection` method."
   ]
  },
  {
   "cell_type": "code",
   "execution_count": null,
   "id": "4a3e275c",
   "metadata": {},
   "outputs": [],
   "source": [
    "a = {1,2,3,4,5}\n",
    "b = {3,4,5,6,7,8}\n",
    "\n",
    "a.intersection(b)"
   ]
  },
  {
   "cell_type": "markdown",
   "id": "f115c313",
   "metadata": {},
   "source": [
    "And you can find all unique elements occuring in either of two sets with the `.union`method."
   ]
  },
  {
   "cell_type": "code",
   "execution_count": null,
   "id": "ee27d587",
   "metadata": {
    "scrolled": true
   },
   "outputs": [],
   "source": [
    "a.union(b)"
   ]
  },
  {
   "cell_type": "markdown",
   "id": "8df6f695",
   "metadata": {
    "deletable": false,
    "editable": false
   },
   "source": [
    "**Question 8.1:** Consider the two lists `listA` and `listB` given below. Assign `common_elements` to a list of elements that occur in both `listA` and `listB`. "
   ]
  },
  {
   "cell_type": "code",
   "execution_count": null,
   "id": "af5bbb2c",
   "metadata": {
    "tags": []
   },
   "outputs": [],
   "source": [
    "listA = ['I', 'love', 'Data', 271, 'It', 'is', True]\n",
    "listB = ['i', '<3', 'Data', 111, 'It is', True]\n",
    "\n",
    "setA = ...\n",
    "setB = ...\n",
    "\n",
    "common_elements = ...\n",
    "common_elements"
   ]
  },
  {
   "cell_type": "code",
   "execution_count": null,
   "id": "cdea6adb",
   "metadata": {
    "deletable": false,
    "editable": false
   },
   "outputs": [],
   "source": [
    "grader.check(\"q81\")"
   ]
  },
  {
   "cell_type": "markdown",
   "id": "409b765d",
   "metadata": {},
   "source": [
    "## Reading files"
   ]
  },
  {
   "cell_type": "markdown",
   "id": "cf99d7ec",
   "metadata": {},
   "source": [
    "When you open a file, you are asking the operating system to find the file by its name and make sure it exists. If the open is successful (if the file exists and you have the proper permissions to read the file), the operating system returns a file handle.  This is not the actual data in the file, but a handle that can be used to read the data. Python has a built in function `open()`.\n",
    "If the file is relatively small compared to the size of your main memory, you can read the whole file into one string using the `read()` method on the file handle.\n",
    "In your culminating task below, you will be working with a `.txt` file and reading its contents into a string.  This code opens the file (which needs to be in the same directory as your Jupyter notebook or `.py` file), reads it and saves its contents to the string called multiline, and then closes the file.\n",
    "\n",
    "We will learn more about reading files later in this course."
   ]
  },
  {
   "cell_type": "code",
   "execution_count": null,
   "id": "49aab17e",
   "metadata": {},
   "outputs": [],
   "source": [
    "fhand = open('PrideandPredjudice.txt', 'r') # file handle, open in read mode\n",
    "multiline = fhand.read()\n",
    "fhand.close()"
   ]
  },
  {
   "cell_type": "markdown",
   "id": "4765530d",
   "metadata": {},
   "source": [
    "### Task (Main Course): \n",
    "In this task, we will analyze a multiline string and generate a unique word count.  We will use the first chapter of Jane Austen's book Pride and Predjudice.  We provided a preprocessed .txt file of Chapter 1.  This task relies on using\n",
    "- file reading\n",
    "- characters, strings, lists, and dictionaries as well as their methods\n",
    "- sets to create a list of unique items\n",
    "- sorting on a key\n",
    "- lambda functions\n",
    "\n",
    "\n",
    "The general steps will be:\n",
    "- get the multiline text and save it to a Python variable called multiline \n",
    "- eliminate all new lines and all special characters using string methods (e.g., replace())\n",
    "- find all unique words and their occurences in the string"
   ]
  },
  {
   "cell_type": "code",
   "execution_count": null,
   "id": "4b319ec2",
   "metadata": {},
   "outputs": [],
   "source": [
    "multiline"
   ]
  },
  {
   "cell_type": "markdown",
   "id": "6d887560",
   "metadata": {
    "deletable": false,
    "editable": false
   },
   "source": [
    "**Question 9.1:** `multiline` is a string that contains multiple lines from the first chapter of Pride and Predjudice. Anywere where you see `\\n` in the string is where there is a new line in the chapter. Begin by removing all the `\\n` instances in the string."
   ]
  },
  {
   "cell_type": "code",
   "execution_count": null,
   "id": "9b49b957",
   "metadata": {
    "tags": []
   },
   "outputs": [],
   "source": [
    "singleline = ...\n",
    "singleline"
   ]
  },
  {
   "cell_type": "code",
   "execution_count": null,
   "id": "6f360eeb",
   "metadata": {
    "deletable": false,
    "editable": false
   },
   "outputs": [],
   "source": [
    "grader.check(\"q91\")"
   ]
  },
  {
   "cell_type": "markdown",
   "id": "a3650109",
   "metadata": {
    "deletable": false,
    "editable": false
   },
   "source": [
    "**Question 9.2:** The string contains several special characters such as periods, quotation marks, commas, etc. Remove all special characters and replace them with a space. \n",
    "\n",
    "*Hint 1:* The string method `.isalnum` may help. "
   ]
  },
  {
   "cell_type": "code",
   "execution_count": null,
   "id": "2cd82163",
   "metadata": {
    "deletable": false,
    "editable": false
   },
   "outputs": [],
   "source": [
    "help('hello'.isalnum)"
   ]
  },
  {
   "cell_type": "markdown",
   "id": "0212cf64",
   "metadata": {
    "deletable": false,
    "editable": false
   },
   "source": [
    "*Hint 2:* Your solution will contain multiple spaces in a row sometimes. Don't worry about removing duplicate spaces - keep your answer as is. "
   ]
  },
  {
   "cell_type": "code",
   "execution_count": null,
   "id": "c62983f7",
   "metadata": {
    "tags": []
   },
   "outputs": [],
   "source": [
    "# remove special characters and punctuation\n",
    "cleaned_singleline = ... # define empty string\n",
    "for ... in ...:\n",
    "    # keep letters, numbers, and spaces and replace all other characters with a space\n",
    "    if ...:\n",
    "        ...\n",
    "    else:\n",
    "        ...\n",
    "\n",
    "cleaned_singleline"
   ]
  },
  {
   "cell_type": "code",
   "execution_count": null,
   "id": "e7676f64",
   "metadata": {
    "deletable": false,
    "editable": false
   },
   "outputs": [],
   "source": [
    "grader.check(\"q92\")"
   ]
  },
  {
   "cell_type": "markdown",
   "id": "e9d60c49",
   "metadata": {
    "deletable": false,
    "editable": false
   },
   "source": [
    "**Question 9.3:** Generate a list of words by splitting the string from the previous question. "
   ]
  },
  {
   "cell_type": "code",
   "execution_count": null,
   "id": "7d959f4d",
   "metadata": {
    "tags": []
   },
   "outputs": [],
   "source": [
    "list_of_words = ...\n",
    "list_of_words"
   ]
  },
  {
   "cell_type": "code",
   "execution_count": null,
   "id": "f254b5f3",
   "metadata": {
    "deletable": false,
    "editable": false
   },
   "outputs": [],
   "source": [
    "grader.check(\"q93\")"
   ]
  },
  {
   "cell_type": "markdown",
   "id": "53edae8a",
   "metadata": {
    "deletable": false,
    "editable": false
   },
   "source": [
    "**Question 9.4:** How many unique words are in Chapter 1 of Pride and Predjudice?"
   ]
  },
  {
   "cell_type": "code",
   "execution_count": null,
   "id": "d4d7b6ed",
   "metadata": {
    "tags": []
   },
   "outputs": [],
   "source": [
    "unique_words = ...\n",
    "num_unique_words = ...\n",
    "num_unique_words"
   ]
  },
  {
   "cell_type": "code",
   "execution_count": null,
   "id": "53374b55",
   "metadata": {
    "deletable": false,
    "editable": false
   },
   "outputs": [],
   "source": [
    "grader.check(\"q94\")"
   ]
  },
  {
   "cell_type": "markdown",
   "id": "3b770f57",
   "metadata": {
    "deletable": false,
    "editable": false
   },
   "source": [
    "**Question 9.5:** Create a dictionary with unique words as keys. (*Hint:* Use `dict.fromkeys` on `list_of_words`. The values should be `None` in the dictionary you create)."
   ]
  },
  {
   "cell_type": "code",
   "execution_count": null,
   "id": "7185834e",
   "metadata": {
    "tags": []
   },
   "outputs": [],
   "source": [
    "unique_words_as_dict = ...\n",
    "unique_words_as_dict"
   ]
  },
  {
   "cell_type": "code",
   "execution_count": null,
   "id": "5aadaf50",
   "metadata": {
    "deletable": false,
    "editable": false
   },
   "outputs": [],
   "source": [
    "grader.check(\"q95\")"
   ]
  },
  {
   "cell_type": "markdown",
   "id": "4565e58b",
   "metadata": {
    "deletable": false,
    "editable": false
   },
   "source": [
    "**Question 9.6:** Populate values in dictionary with the number of times each word occured by looping through the words in `list_of_words`."
   ]
  },
  {
   "cell_type": "code",
   "execution_count": null,
   "id": "56bb5a72",
   "metadata": {
    "tags": []
   },
   "outputs": [],
   "source": [
    "populated_unique_words = unique_words_as_dict\n",
    "for ... in ...:\n",
    "    if ...:\n",
    "        ...\n",
    "    else:\n",
    "        ...\n",
    "\n",
    "populated_unique_words"
   ]
  },
  {
   "cell_type": "code",
   "execution_count": null,
   "id": "0ba0b625",
   "metadata": {
    "deletable": false,
    "editable": false
   },
   "outputs": [],
   "source": [
    "grader.check(\"q96\")"
   ]
  },
  {
   "cell_type": "markdown",
   "id": "74db74c0",
   "metadata": {
    "deletable": false,
    "editable": false
   },
   "source": [
    "**Question 9.7:** Sort the dictionary based on frequency of count in descending order. Your answer should be a list of tuples."
   ]
  },
  {
   "cell_type": "code",
   "execution_count": null,
   "id": "7154d979",
   "metadata": {
    "tags": []
   },
   "outputs": [],
   "source": [
    "top_words = ...\n",
    "top_words"
   ]
  },
  {
   "cell_type": "code",
   "execution_count": null,
   "id": "2cfa7370",
   "metadata": {
    "deletable": false,
    "editable": false
   },
   "outputs": [],
   "source": [
    "grader.check(\"q97\")"
   ]
  },
  {
   "cell_type": "markdown",
   "id": "25fd6d2a",
   "metadata": {
    "deletable": false,
    "editable": false
   },
   "source": [
    "**Question 9.8:** What are the 25 most common words in Chapter 1 of Pride and Prejudice? Your answer should be a list of tuples containing the words and their cooresponding frequencies. "
   ]
  },
  {
   "cell_type": "code",
   "execution_count": null,
   "id": "2a73a5b5",
   "metadata": {
    "tags": []
   },
   "outputs": [],
   "source": [
    "top_25 = ...\n",
    "top_25"
   ]
  },
  {
   "cell_type": "code",
   "execution_count": null,
   "id": "624bf1b1",
   "metadata": {
    "deletable": false,
    "editable": false
   },
   "outputs": [],
   "source": [
    "grader.check(\"q98\")"
   ]
  },
  {
   "cell_type": "markdown",
   "id": "93bae830",
   "metadata": {
    "deletable": false,
    "editable": false
   },
   "source": [
    "**Question 9.9:** What word has the highest frequency in Chapter 1 of Pride and Prejudice and what is its frequency?"
   ]
  },
  {
   "cell_type": "code",
   "execution_count": null,
   "id": "7b1b4874",
   "metadata": {
    "tags": []
   },
   "outputs": [],
   "source": [
    "most_common_word = ...\n",
    "frequency = ...\n",
    "\n",
    "most_common_word, frequency"
   ]
  },
  {
   "cell_type": "code",
   "execution_count": null,
   "id": "ed9d50c8",
   "metadata": {
    "deletable": false,
    "editable": false
   },
   "outputs": [],
   "source": [
    "grader.check(\"q99\")"
   ]
  },
  {
   "cell_type": "markdown",
   "id": "e5e1018d",
   "metadata": {
    "deletable": false,
    "editable": false
   },
   "source": [
    "**Question 9.10:** What if words are not case sensitive?  Repeat the exercise with that assumption. Your final answer should be a list of tuples containing the top 25 most common words and their frequencies. Remember to avoid reassigning variables that you used before. (*Hint:* you will need several lines of code). "
   ]
  },
  {
   "cell_type": "code",
   "execution_count": null,
   "id": "d7780a44",
   "metadata": {
    "tags": []
   },
   "outputs": [],
   "source": [
    "\n",
    "\n",
    "\n",
    "\n",
    "\n",
    "new_top_words = ...\n",
    "new_top_words[:25]"
   ]
  },
  {
   "cell_type": "code",
   "execution_count": null,
   "id": "5adbdad8",
   "metadata": {
    "deletable": false,
    "editable": false
   },
   "outputs": [],
   "source": [
    "grader.check(\"q910\")"
   ]
  },
  {
   "cell_type": "markdown",
   "id": "fcbaffce",
   "metadata": {},
   "source": [
    "### References\n",
    "If you want to read more about any of these topics. Check out the following resources. \n",
    "- The Gutenberg Project.  https://www.gutenberg.org/files/1342/old/pandp12p.pdf\n",
    "- Python for Everybody: Exploring Data in Python 3 by Charles Severance\n",
    "- Data Wrangling with Python by Tirthajyoti Sarkar and Shubhadeep Roychowdhury (the word counting exercise came from this text).\n"
   ]
  },
  {
   "cell_type": "code",
   "execution_count": null,
   "id": "ee8402e8",
   "metadata": {},
   "outputs": [],
   "source": []
  },
  {
   "cell_type": "markdown",
   "id": "f7277bf8",
   "metadata": {
    "deletable": false,
    "editable": false
   },
   "source": [
    "## Submission\n",
    "\n",
    "Make sure you have run all cells in your notebook in order before running the cell below, so that all images/graphs appear in the output. The cell below will generate a zip file for you to submit. **Please save before exporting!**"
   ]
  },
  {
   "cell_type": "code",
   "execution_count": null,
   "id": "8ea6f541",
   "metadata": {
    "deletable": false,
    "editable": false
   },
   "outputs": [],
   "source": [
    "# Save your notebook first, then run this cell to export your submission.\n",
    "grader.export(pdf=False, run_tests=True)"
   ]
  },
  {
   "cell_type": "markdown",
   "id": "e22ede8d",
   "metadata": {},
   "source": [
    " "
   ]
  }
 ],
 "metadata": {
  "kernelspec": {
   "display_name": "Python 3 (ipykernel)",
   "language": "python",
   "name": "python3"
  },
  "language_info": {
   "codemirror_mode": {
    "name": "ipython",
    "version": 3
   },
   "file_extension": ".py",
   "mimetype": "text/x-python",
   "name": "python",
   "nbconvert_exporter": "python",
   "pygments_lexer": "ipython3",
   "version": "3.11.4"
  },
  "otter": {
   "OK_FORMAT": true,
   "tests": {
    "q21": {
     "name": "q21",
     "points": null,
     "suites": [
      {
       "cases": [
        {
         "code": ">>> dog_with_positive_inds != ...\nTrue",
         "hidden": false,
         "locked": false
        },
        {
         "code": ">>> len(dog_with_positive_inds) == 3\nTrue",
         "hidden": false,
         "locked": false
        },
        {
         "code": ">>> dog_with_positive_inds == 'dog'\nTrue",
         "hidden": false,
         "locked": false
        }
       ],
       "scored": true,
       "setup": "",
       "teardown": "",
       "type": "doctest"
      }
     ]
    },
    "q22": {
     "name": "q22",
     "points": null,
     "suites": [
      {
       "cases": [
        {
         "code": ">>> dog_with_negative_inds != ...\nTrue",
         "hidden": false,
         "locked": false
        },
        {
         "code": ">>> len(dog_with_negative_inds) == 3\nTrue",
         "hidden": false,
         "locked": false
        },
        {
         "code": ">>> dog_with_negative_inds == 'dog'\nTrue",
         "hidden": false,
         "locked": false
        }
       ],
       "scored": true,
       "setup": "",
       "teardown": "",
       "type": "doctest"
      }
     ]
    },
    "q23": {
     "name": "q23",
     "points": null,
     "suites": [
      {
       "cases": [
        {
         "code": ">>> new_phrase != ...\nTrue",
         "hidden": false,
         "locked": false
        },
        {
         "code": ">>> len(new_phrase) == 28\nTrue",
         "hidden": false,
         "locked": false
        },
        {
         "code": ">>> new_phrase\n'fox jumps over the lazy dog.'",
         "hidden": false,
         "locked": false
        }
       ],
       "scored": true,
       "setup": "",
       "teardown": "",
       "type": "doctest"
      }
     ]
    },
    "q31": {
     "name": "q31",
     "points": null,
     "suites": [
      {
       "cases": [
        {
         "code": ">>> index_of_brown != ...\nTrue",
         "hidden": false,
         "locked": false
        },
        {
         "code": ">>> index_of_brown\n8",
         "hidden": false,
         "locked": false
        }
       ],
       "scored": true,
       "setup": "",
       "teardown": "",
       "type": "doctest"
      }
     ]
    },
    "q32": {
     "name": "q32",
     "points": null,
     "suites": [
      {
       "cases": [
        {
         "code": ">>> case_sensitive != ...\nTrue",
         "hidden": false,
         "locked": false
        },
        {
         "code": ">>> case_sensitive\nTrue",
         "hidden": false,
         "locked": false
        }
       ],
       "scored": true,
       "setup": "",
       "teardown": "",
       "type": "doctest"
      }
     ]
    },
    "q33": {
     "name": "q33",
     "points": null,
     "suites": [
      {
       "cases": [
        {
         "code": ">>> coyote_index != ...\nTrue",
         "hidden": false,
         "locked": false
        },
        {
         "code": ">>> coyote_index\n-1",
         "hidden": false,
         "locked": false
        }
       ],
       "scored": true,
       "setup": "",
       "teardown": "",
       "type": "doctest"
      }
     ]
    },
    "q34": {
     "name": "q34",
     "points": null,
     "suites": [
      {
       "cases": [
        {
         "code": ">>> coyote_phrase != ...\nTrue",
         "hidden": false,
         "locked": false
        },
        {
         "code": ">>> coyote_phrase\n'A quick brown fox jumps over the lazy coyote.'",
         "hidden": false,
         "locked": false
        }
       ],
       "scored": true,
       "setup": "",
       "teardown": "",
       "type": "doctest"
      }
     ]
    },
    "q35": {
     "name": "q35",
     "points": null,
     "suites": [
      {
       "cases": [
        {
         "code": ">>> new_coyote_index != ...\nTrue",
         "hidden": false,
         "locked": false
        },
        {
         "code": ">>> new_coyote_index\n38",
         "hidden": false,
         "locked": false
        }
       ],
       "scored": true,
       "setup": "",
       "teardown": "",
       "type": "doctest"
      }
     ]
    },
    "q36": {
     "name": "q36",
     "points": null,
     "suites": [
      {
       "cases": [
        {
         "code": ">>> number\n5.43",
         "hidden": false,
         "locked": false
        }
       ],
       "scored": true,
       "setup": "",
       "teardown": "",
       "type": "doctest"
      }
     ]
    },
    "q41": {
     "name": "q41",
     "points": null,
     "suites": [
      {
       "cases": [
        {
         "code": ">>> list3\n[10, 20, 30, 40]",
         "hidden": false,
         "locked": false
        }
       ],
       "scored": true,
       "setup": "",
       "teardown": "",
       "type": "doctest"
      }
     ]
    },
    "q51": {
     "name": "q51",
     "points": null,
     "suites": [
      {
       "cases": [
        {
         "code": ">>> sorted_by_length[0]\n'd'",
         "hidden": false,
         "locked": false
        },
        {
         "code": ">>> sorted_by_length\n['d', 'ba', 'ccb', 'aaac']",
         "hidden": false,
         "locked": false
        }
       ],
       "scored": true,
       "setup": "",
       "teardown": "",
       "type": "doctest"
      }
     ]
    },
    "q52": {
     "name": "q52",
     "points": null,
     "suites": [
      {
       "cases": [
        {
         "code": ">>> sorted_by_last[0]\n'ba'",
         "hidden": false,
         "locked": false
        },
        {
         "code": ">>> sorted_by_last\n['ba', 'ccb', 'aaac', 'd']",
         "hidden": false,
         "locked": false
        }
       ],
       "scored": true,
       "setup": "",
       "teardown": "",
       "type": "doctest"
      }
     ]
    },
    "q61": {
     "name": "q61",
     "points": null,
     "suites": [
      {
       "cases": [
        {
         "code": ">>> 28 <= average_difference <= 38\nTrue",
         "hidden": false,
         "locked": false
        }
       ],
       "scored": true,
       "setup": "",
       "teardown": "",
       "type": "doctest"
      }
     ]
    },
    "q71": {
     "name": "q71",
     "points": null,
     "suites": [
      {
       "cases": [
        {
         "code": ">>> alice_age\n20",
         "hidden": false,
         "locked": false
        }
       ],
       "scored": true,
       "setup": "",
       "teardown": "",
       "type": "doctest"
      }
     ]
    },
    "q72": {
     "name": "q72",
     "points": null,
     "suites": [
      {
       "cases": [
        {
         "code": ">>> alice_egrade\n85",
         "hidden": false,
         "locked": false
        }
       ],
       "scored": true,
       "setup": "",
       "teardown": "",
       "type": "doctest"
      }
     ]
    },
    "q73": {
     "name": "q73",
     "points": null,
     "suites": [
      {
       "cases": [
        {
         "code": ">>> len(student_info['courses']) == 4\nTrue",
         "hidden": false,
         "locked": false
        },
        {
         "code": ">>> 'physics' in student_info['courses']\nTrue",
         "hidden": false,
         "locked": false
        }
       ],
       "scored": true,
       "setup": "",
       "teardown": "",
       "type": "doctest"
      }
     ]
    },
    "q74": {
     "name": "q74",
     "points": null,
     "suites": [
      {
       "cases": [
        {
         "code": ">>> student_info['grades']['math'] == 95\nTrue",
         "hidden": false,
         "locked": false
        }
       ],
       "scored": true,
       "setup": "",
       "teardown": "",
       "type": "doctest"
      }
     ]
    },
    "q75": {
     "name": "q75",
     "points": null,
     "suites": [
      {
       "cases": [
        {
         "code": ">>> 'math' in grade_keys\nTrue",
         "hidden": false,
         "locked": false
        },
        {
         "code": ">>> 'english' in grade_keys\nTrue",
         "hidden": false,
         "locked": false
        },
        {
         "code": ">>> 'history' in grade_keys\nTrue",
         "hidden": false,
         "locked": false
        }
       ],
       "scored": true,
       "setup": "",
       "teardown": "",
       "type": "doctest"
      }
     ]
    },
    "q76": {
     "name": "q76",
     "points": null,
     "suites": [
      {
       "cases": [
        {
         "code": ">>> is_bio == False\nTrue",
         "hidden": false,
         "locked": false
        }
       ],
       "scored": true,
       "setup": "",
       "teardown": "",
       "type": "doctest"
      }
     ]
    },
    "q81": {
     "name": "q81",
     "points": null,
     "suites": [
      {
       "cases": [
        {
         "code": ">>> common_elements == [True, 'Data'] or common_elements == ['Data', True]\nTrue",
         "hidden": false,
         "locked": false
        }
       ],
       "scored": true,
       "setup": "",
       "teardown": "",
       "type": "doctest"
      }
     ]
    },
    "q91": {
     "name": "q91",
     "points": null,
     "suites": [
      {
       "cases": [
        {
         "code": ">>> len(singleline)\n4409",
         "hidden": false,
         "locked": false
        }
       ],
       "scored": true,
       "setup": "",
       "teardown": "",
       "type": "doctest"
      }
     ]
    },
    "q910": {
     "name": "q910",
     "points": null,
     "suites": [
      {
       "cases": [
        {
         "code": ">>> new_top_words[0][0] == 'you' or new_top_words[0][0] == 'YOU' or new_top_words[0][0] == 'You'\nTrue",
         "hidden": false,
         "locked": false
        }
       ],
       "scored": true,
       "setup": "",
       "teardown": "",
       "type": "doctest"
      }
     ]
    },
    "q92": {
     "name": "q92",
     "points": null,
     "suites": [
      {
       "cases": [
        {
         "code": ">>> cleaned_singleline\n'It is a truth universally acknowledged  that a single man in possession of a good fortune  must be in want of a wife However little known the feelings or views of such a man may be on his first entering a neighbourhood  this truth is so well fixed in the minds of the surrounding families  that he is considered the rightful property of some one or other of their daughters  My dear Mr  Bennet   said his lady to him one day   have you heard that Netherfield Park is let at last  Mr  Bennet replied that he had not  But it is   returned she   for Mrs  Long has just been here  and she told me all about it  Mr  Bennet made no answer  Do you not want to know who has taken it   cried his wife impatiently  You want to tell me  and I have no objection to hearing it  This was invitation enough  Why  my dear  you must know  Mrs  Long says that Netherfield is taken by a young man of large fortune from the north of England  that he came down on Monday in a chaise and four to see the place  and was so much delighted with it  that he agreed with Mr  Morris immediately  that he is to take possession before Michaelmas  and some of his servants are to be in the house by the end of next week   What is his name   Bingley   Is he married or single   Oh  Single  my dear  to be sure  A single man of large fortune  four or five thousand a year  What a fine thing for our girls   How so  How can it affect them   My dear Mr  Bennet   replied his wife   how can you be so tiresome  You must know that I am thinking of his marrying one of them   Is that his design in settling here   Design  Nonsense  how can you talk so  But it is very likely that he may fall in love with one of them  and therefore you must visit him as soon as he comes   I see no occasion for that  You and the girls may go  or you may send them by themselves  which perhaps will be still better  for as you are as handsome as any of them  Mr  Bingley may like you the best of the party   My dear  you flatter me  I certainly have had my share of beauty  but I do not pretend to be anything extraordinary now  When a woman has five grown up daughters  she ought to give over thinking of her own beauty   In such cases  a woman has not often much beauty to think of   But  my dear  you must indeed go and see Mr  Bingley when he comes into the neighbourhood   It is more than I engage for  I assure you   But consider your daughters  Only think what an establishment it would be for one of them  Sir William and Lady Lucas are determined to go  merely on that account  for in general  you know  they visit no newcomers  Indeed you must go  for it will be impossible for us to visit him if you do not   You are over scrupulous  surely  I dare say Mr  Bingley will be very glad to see you  and I will send a few lines by you to assure him of my hearty consent to his marrying whichever he chooses of the girls  though I must throw in a good word for my little Lizzy   I desire you will do no such thing  Lizzy is not a bit better than the others  and I am sure she is not half so handsome as Jane  nor half so good humoured as Lydia  But you are always giving her the preference   They have none of them much to recommend them   replied he   they are all silly and ignorant like other girls  but Lizzy has something more of quickness than her sisters   Mr  Bennet  how can you abuse your own children in such a way  You take delight in vexing me  You have no compassion for my poor nerves   You mistake me  my dear  I have a high respect for your nerves  They are my old friends  I have heard you mention them with consideration these last twenty years at least   Ah  you do not know what I suffer   But I hope you will get over it  and live to see many young men of four thousand a year come into the neighbourhood   It will be no use to us  if twenty such should come  since you will not visit them   Depend upon it  my dear  that when there are twenty  I will visit them all  Mr  Bennet was so odd a mixture of quick parts  sarcastic humour  reserve  and caprice  that the experience of three and twenty years had been insufficient to make his wife understand his character  Her mind was less difficult to develop  She was a woman of mean understanding  little information  and uncertain temper  When she was discontented  she fancied herself nervous  The business of her life was to get her daughters married  its solace was visiting and news  '",
         "hidden": false,
         "locked": false
        }
       ],
       "scored": true,
       "setup": "",
       "teardown": "",
       "type": "doctest"
      }
     ]
    },
    "q93": {
     "name": "q93",
     "points": null,
     "suites": [
      {
       "cases": [
        {
         "code": ">>> len(list_of_words)\n852",
         "hidden": false,
         "locked": false
        }
       ],
       "scored": true,
       "setup": "",
       "teardown": "",
       "type": "doctest"
      }
     ]
    },
    "q94": {
     "name": "q94",
     "points": null,
     "suites": [
      {
       "cases": [
        {
         "code": ">>> num_unique_words\n340",
         "hidden": false,
         "locked": false
        }
       ],
       "scored": true,
       "setup": "",
       "teardown": "",
       "type": "doctest"
      }
     ]
    },
    "q95": {
     "name": "q95",
     "points": null,
     "suites": [
      {
       "cases": [
        {
         "code": ">>> len(unique_words_as_dict) == 340\nTrue",
         "hidden": false,
         "locked": false
        }
       ],
       "scored": true,
       "setup": "",
       "teardown": "",
       "type": "doctest"
      }
     ]
    },
    "q96": {
     "name": "q96",
     "points": null,
     "suites": [
      {
       "cases": [
        {
         "code": ">>> [elem for elem in populated_unique_words.values()][-1]\n1",
         "hidden": false,
         "locked": false
        },
        {
         "code": ">>> [elem for elem in populated_unique_words.values()][0]\n3",
         "hidden": false,
         "locked": false
        }
       ],
       "scored": true,
       "setup": "",
       "teardown": "",
       "type": "doctest"
      }
     ]
    },
    "q97": {
     "name": "q97",
     "points": null,
     "suites": [
      {
       "cases": [
        {
         "code": ">>> top_words[0]\n('of', 29)",
         "hidden": false,
         "locked": false
        },
        {
         "code": ">>> top_words[-1]\n('news', 1)",
         "hidden": false,
         "locked": false
        },
        {
         "code": ">>> len(top_words) == 340\nTrue",
         "hidden": false,
         "locked": false
        }
       ],
       "scored": true,
       "setup": "",
       "teardown": "",
       "type": "doctest"
      }
     ]
    },
    "q98": {
     "name": "q98",
     "points": null,
     "suites": [
      {
       "cases": [
        {
         "code": ">>> len(top_25) == 25\nTrue",
         "hidden": false,
         "locked": false
        },
        {
         "code": ">>> top_25[0]\n('of', 29)",
         "hidden": false,
         "locked": false
        },
        {
         "code": ">>> top_25[-1]\n('must', 7)",
         "hidden": false,
         "locked": false
        }
       ],
       "scored": true,
       "setup": "",
       "teardown": "",
       "type": "doctest"
      }
     ]
    },
    "q99": {
     "name": "q99",
     "points": null,
     "suites": [
      {
       "cases": [
        {
         "code": ">>> most_common_word\n'of'",
         "hidden": false,
         "locked": false
        },
        {
         "code": ">>> frequency\n29",
         "hidden": false,
         "locked": false
        }
       ],
       "scored": true,
       "setup": "",
       "teardown": "",
       "type": "doctest"
      }
     ]
    }
   }
  }
 },
 "nbformat": 4,
 "nbformat_minor": 5
}
