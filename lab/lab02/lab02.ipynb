{
 "cells": [
  {
   "cell_type": "code",
   "execution_count": null,
   "id": "4b91e910",
   "metadata": {
    "deletable": false,
    "editable": false
   },
   "outputs": [],
   "source": [
    "# Initialize Otter\n",
    "import otter\n",
    "grader = otter.Notebook(\"lab02.ipynb\")"
   ]
  },
  {
   "cell_type": "markdown",
   "id": "3f85aedf",
   "metadata": {},
   "source": [
    "# Lab 2: List and Dictionary Comprehension\n",
    "Welcome to Lab 2 of Data 271! This document contains examples and small tasks (\"appetizers\") for you to make sure you understand the examples. The culminating task (\"main course\") at the end of the document is more complex, and uses most of the topics you have will have worked through. You should rarely remain stuck for more than a few minutes on questions in labs, so feel free to ask for help. Collaborating on labs is more than okay -- it's encouraged! Explaining things is beneficial -- the best way to solidify your knowledge of a subject is to explain it. Please don't just share answers, though.\n",
    "\n",
    "For this lab and all future ones, please be sure to not re-assign variables throughout the notebook! For example, if you use `my_list` in your answer to one question, do not reassign it later on. Otherwise, you will fail tests that you passed previously!"
   ]
  },
  {
   "cell_type": "markdown",
   "id": "b2ccf8f4",
   "metadata": {},
   "source": [
    "### In today's lab, we will\n",
    "- Master the syntax for list and dictionary comprehension\n",
    "- Rewrite for loops using comprehension as an alternative\n",
    "- Implement comprehension to filter on a condition\n",
    "- Reinforce familiarity with lists and dictionaries, such as slicing, accessing an element, and populating.\n"
   ]
  },
  {
   "cell_type": "markdown",
   "id": "934d7b4c",
   "metadata": {},
   "source": [
    "## Overview\n",
    "List comprehensions are one of the most loved Python language features.  They are useful because they allow us to concisely form a new list by filtering elements of a collection and transforming the elements that pass the filter in one concise expression.  This idea also extends to dictionaries."
   ]
  },
  {
   "cell_type": "markdown",
   "id": "d16e476b",
   "metadata": {},
   "source": [
    "## 1. For Loops and List Comprehension\n",
    "Without list comprehension, we can write a for loop to extract the words from one list and put them in a new list."
   ]
  },
  {
   "cell_type": "code",
   "execution_count": null,
   "id": "a81b4ca3",
   "metadata": {},
   "outputs": [],
   "source": [
    "fruits = [\"apple\", \"banana\", \"cherry\", \"kiwi\", \"mango\"]\n",
    "newlist = []\n",
    "for x in fruits:\n",
    "    newlist.append(x)\n",
    "\n",
    "print(newlist)"
   ]
  },
  {
   "cell_type": "markdown",
   "id": "2442ba57",
   "metadata": {},
   "source": [
    "Alternatively, using list comprehension, we can write this much more succinctly."
   ]
  },
  {
   "cell_type": "code",
   "execution_count": null,
   "id": "a5e42c00",
   "metadata": {},
   "outputs": [],
   "source": [
    "newlist = [x for x in fruits]\n",
    "newlist"
   ]
  },
  {
   "cell_type": "markdown",
   "id": "2278c2d7",
   "metadata": {
    "deletable": false,
    "editable": false
   },
   "source": [
    "**Question 1.1:** Let `lst1=[1,2,3,4,5]`. Create an identical list from the `lst1` using list comprehension.  "
   ]
  },
  {
   "cell_type": "code",
   "execution_count": null,
   "id": "d722c87d",
   "metadata": {
    "tags": []
   },
   "outputs": [],
   "source": [
    "lst1 = ...\n",
    "identical_lst1 = ...\n",
    "identical_lst1"
   ]
  },
  {
   "cell_type": "code",
   "execution_count": null,
   "id": "2823b252",
   "metadata": {
    "deletable": false,
    "editable": false
   },
   "outputs": [],
   "source": [
    "grader.check(\"q11\")"
   ]
  },
  {
   "cell_type": "markdown",
   "id": "8370369d",
   "metadata": {
    "deletable": false,
    "editable": false
   },
   "source": [
    "**Question 1.2:** Create a list from the elements of a range from 1200 to 2000 with steps of 130, using list comprehension.  *Hint*: `range` can be constructed using three arguments - *start*, *stop* and *step size*. First assign `rng` to the appropriate `range`, then use list comprehension."
   ]
  },
  {
   "cell_type": "code",
   "execution_count": null,
   "id": "76a5892c",
   "metadata": {
    "tags": []
   },
   "outputs": [],
   "source": [
    "rng = ...\n",
    "lst_from_rng = ...\n",
    "lst_from_rng"
   ]
  },
  {
   "cell_type": "code",
   "execution_count": null,
   "id": "5ffa506f",
   "metadata": {
    "deletable": false,
    "editable": false
   },
   "outputs": [],
   "source": [
    "grader.check(\"q12\")"
   ]
  },
  {
   "cell_type": "markdown",
   "id": "254f58b8",
   "metadata": {
    "deletable": false,
    "editable": false
   },
   "source": [
    "**Question 1.3:** Given `lst2` below, use list comprehension to construct a new list by adding 6 to each item."
   ]
  },
  {
   "cell_type": "code",
   "execution_count": null,
   "id": "874c2afd",
   "metadata": {
    "tags": []
   },
   "outputs": [],
   "source": [
    "lst2=[44,54,64,74,104]\n",
    "new_lst2 = ...\n",
    "new_lst2"
   ]
  },
  {
   "cell_type": "code",
   "execution_count": null,
   "id": "15281f9f",
   "metadata": {
    "deletable": false,
    "editable": false
   },
   "outputs": [],
   "source": [
    "grader.check(\"q13\")"
   ]
  },
  {
   "cell_type": "markdown",
   "id": "3f9c324d",
   "metadata": {
    "deletable": false,
    "editable": false
   },
   "source": [
    "**Question 1.4:** Let `lst3 = [2,4,6,8,10,12,14]`. Use list comprehension to construct a new list from the squares of each element in `lst3`."
   ]
  },
  {
   "cell_type": "code",
   "execution_count": null,
   "id": "ad2697e9",
   "metadata": {
    "tags": []
   },
   "outputs": [],
   "source": [
    "lst3 = ...\n",
    "new_lst3 = ...\n",
    "new_lst3"
   ]
  },
  {
   "cell_type": "code",
   "execution_count": null,
   "id": "6a4731ff",
   "metadata": {
    "deletable": false,
    "editable": false
   },
   "outputs": [],
   "source": [
    "grader.check(\"q14\")"
   ]
  },
  {
   "cell_type": "markdown",
   "id": "d6e52104",
   "metadata": {},
   "source": [
    "## 2. Filtering With List Comprehension\n",
    "In the previous questions, we transformed every element of the original list and created a new list.  (By \"transformed,\" we added 6, squared the entries, etc.)  In some examples, we might have an additional contraint that filters out members of the new list."
   ]
  },
  {
   "cell_type": "markdown",
   "id": "3de1df53",
   "metadata": {},
   "source": [
    "As an example, without list comprehension, we can write a for loop to extract the words that have the letter `a` and put them in a new list."
   ]
  },
  {
   "cell_type": "code",
   "execution_count": null,
   "id": "0370bce4",
   "metadata": {},
   "outputs": [],
   "source": [
    "fruits = [\"apple\", \"banana\", \"cherry\", \"kiwi\", \"mango\"]\n",
    "newlist = []\n",
    "for x in fruits:\n",
    "    if \"a\" in x:\n",
    "        newlist.append(x)\n",
    "\n",
    "print(newlist)"
   ]
  },
  {
   "cell_type": "markdown",
   "id": "c056bd9e",
   "metadata": {},
   "source": [
    "Alternatively, we can also filter using list comprehension."
   ]
  },
  {
   "cell_type": "code",
   "execution_count": null,
   "id": "e9b2783f",
   "metadata": {},
   "outputs": [],
   "source": [
    "newlist = [x for x in fruits if \"a\" in x]\n",
    "newlist"
   ]
  },
  {
   "cell_type": "markdown",
   "id": "b38d2e8a",
   "metadata": {
    "deletable": false,
    "editable": false
   },
   "source": [
    "**Question 2.1:** Given `lst3` defined above, use list comprehension to construct a new list from the squares of each element in `lst3` if the square is greater than 50."
   ]
  },
  {
   "cell_type": "code",
   "execution_count": null,
   "id": "6a609a8b",
   "metadata": {
    "tags": []
   },
   "outputs": [],
   "source": [
    "new_filtered_lst3 = ...\n",
    "new_filtered_lst3"
   ]
  },
  {
   "cell_type": "code",
   "execution_count": null,
   "id": "ea9210e8",
   "metadata": {
    "deletable": false,
    "editable": false
   },
   "outputs": [],
   "source": [
    "grader.check(\"q21\")"
   ]
  },
  {
   "cell_type": "markdown",
   "id": "07592381",
   "metadata": {
    "deletable": false,
    "editable": false
   },
   "source": [
    "**Question 2.2:** Use list comprehension to construct a list containing the square of all even numbers between 1 and 10 (inclusive)."
   ]
  },
  {
   "cell_type": "code",
   "execution_count": null,
   "id": "6763a383",
   "metadata": {
    "tags": []
   },
   "outputs": [],
   "source": [
    "even_squares = ...\n",
    "even_squares"
   ]
  },
  {
   "cell_type": "code",
   "execution_count": null,
   "id": "c002255d",
   "metadata": {
    "deletable": false,
    "editable": false
   },
   "outputs": [],
   "source": [
    "grader.check(\"q22\")"
   ]
  },
  {
   "cell_type": "markdown",
   "id": "8571c7b3",
   "metadata": {},
   "source": [
    "## 3. Dictionary Comprehension"
   ]
  },
  {
   "cell_type": "markdown",
   "id": "c67e772b",
   "metadata": {},
   "source": [
    "Consider a list of words  `words = ['data', 'science', 'machine', 'learning']`.  Our goal is to associate with each word its length.\n",
    "\n",
    "Using list comprehension, we create a list that contains the length of each word.  In the dictionary comprehension, we need to specify both keys and values based on the iteration.  For the dictionary, the word is the key and the length of the word is the value."
   ]
  },
  {
   "cell_type": "code",
   "execution_count": null,
   "id": "2d2e3b6a",
   "metadata": {},
   "outputs": [],
   "source": [
    "words = ['data', 'science', 'machine', 'learning']\n",
    "\n",
    "#list comprehension\n",
    "length = [len(i) for i in words]\n",
    "length"
   ]
  },
  {
   "cell_type": "code",
   "execution_count": null,
   "id": "b880decf",
   "metadata": {},
   "outputs": [],
   "source": [
    "#dictionary comprehension\n",
    "length_dict = {i:len(i) for i in words}\n",
    "length_dict"
   ]
  },
  {
   "cell_type": "markdown",
   "id": "8ec42f2e",
   "metadata": {},
   "source": [
    "The above example did not include any filtering.  We can add an additional condition to pull out only the words that have length more than 4 letters."
   ]
  },
  {
   "cell_type": "code",
   "execution_count": null,
   "id": "0d7730ca",
   "metadata": {},
   "outputs": [],
   "source": [
    "words = ['data', 'science', 'machine', 'learning']\n",
    "#list comprehension\n",
    "length = [len(i) for i in words if len(i) >= 5]\n",
    "length"
   ]
  },
  {
   "cell_type": "code",
   "execution_count": null,
   "id": "0a7d7729",
   "metadata": {},
   "outputs": [],
   "source": [
    "#dictionary comprehension\n",
    "dict_length = {i:len(i) for i in words if len(i) >= 5}\n",
    "dict_length"
   ]
  },
  {
   "cell_type": "markdown",
   "id": "01ac84f6",
   "metadata": {},
   "source": [
    "In this example, we want to keep all the words in the dictionary.  If the word length is greater than 5, we will record the length.  If it is less than or equal to 5, we will record \"short\" as the value.  Dictionary comprehension has a convenient one line syntax for this."
   ]
  },
  {
   "cell_type": "code",
   "execution_count": null,
   "id": "baf6fc61",
   "metadata": {},
   "outputs": [],
   "source": [
    "words = ['data', 'science', 'machine', 'learning']\n",
    "words_dict = {i:len(i) if len(i) > 5 else 'short' for i in words}\n",
    "words_dict"
   ]
  },
  {
   "cell_type": "markdown",
   "id": "a72c7ce9",
   "metadata": {},
   "source": [
    "It can also be convenient to iterate over two lists of the same length and put their information into a dictionary."
   ]
  },
  {
   "cell_type": "code",
   "execution_count": null,
   "id": "26da2199",
   "metadata": {
    "scrolled": true
   },
   "outputs": [],
   "source": [
    "words = ['data', 'science', 'machine', 'learning']\n",
    "values = [5, 3, 1, 8]\n",
    "dict_a = {i:j for i, j in zip(words, values)}\n",
    "print(dict_a)"
   ]
  },
  {
   "cell_type": "markdown",
   "id": "86c3cc52",
   "metadata": {
    "deletable": false,
    "editable": false
   },
   "source": [
    "**Question 3.1:** Consider the list `country = [ 'US', 'France', 'Mexico']`, as well as the list of the capitals of each of these countries.  Put this information into a dictionary with countries as keys and capitals as values by iterating over two lists and using the `zip()` function."
   ]
  },
  {
   "cell_type": "code",
   "execution_count": null,
   "id": "5c8378c9",
   "metadata": {
    "tags": []
   },
   "outputs": [],
   "source": [
    "country = ...\n",
    "capital = ['Washington DC', 'Paris', 'Mexico City']\n",
    "dict_cap = ...\n",
    "dict_cap"
   ]
  },
  {
   "cell_type": "code",
   "execution_count": null,
   "id": "55c13a07",
   "metadata": {
    "deletable": false,
    "editable": false
   },
   "outputs": [],
   "source": [
    "grader.check(\"q31\")"
   ]
  },
  {
   "cell_type": "markdown",
   "id": "d0cfb20a",
   "metadata": {
    "deletable": false,
    "editable": false
   },
   "source": [
    "**Question 3.2:** Given the list of integers below, construct a dictionary where the keys are the even numbers from the list, and the values are the squares of those even numbers."
   ]
  },
  {
   "cell_type": "code",
   "execution_count": null,
   "id": "93d69410",
   "metadata": {
    "tags": []
   },
   "outputs": [],
   "source": [
    "numbers_list = [1, 2, 3, 4, 5, 6, 7, 8, 9, 10]\n",
    "even_squares_dict = ...\n",
    "even_squares_dict"
   ]
  },
  {
   "cell_type": "code",
   "execution_count": null,
   "id": "157a5744",
   "metadata": {
    "deletable": false,
    "editable": false
   },
   "outputs": [],
   "source": [
    "grader.check(\"q32\")"
   ]
  },
  {
   "cell_type": "markdown",
   "id": "1b0cd49f",
   "metadata": {
    "deletable": false,
    "editable": false
   },
   "source": [
    "**Question 3.3:** The given dictionary consists of vehicles and their weights in kilograms. Construct a list containing the names (in upper case) of vehicles that have a weight below 5000 kilograms."
   ]
  },
  {
   "cell_type": "code",
   "execution_count": null,
   "id": "2a22494b",
   "metadata": {
    "tags": []
   },
   "outputs": [],
   "source": [
    "vehicle_dict = {\"Sedan\": 1500, \"SUV\": 2000, \"Pickup\": 2500,\n",
    "                \"Minivan\": 1600, \"Van\": 2400, \"Semi\": 13600, \n",
    "                \"Bicycle\": 7, \"Motorcycle\": 110}\n",
    "vehicle_list = ...\n",
    "vehicle_list"
   ]
  },
  {
   "cell_type": "code",
   "execution_count": null,
   "id": "f0f88ac4",
   "metadata": {
    "deletable": false,
    "editable": false
   },
   "outputs": [],
   "source": [
    "grader.check(\"q33\")"
   ]
  },
  {
   "cell_type": "markdown",
   "id": "f8b542dd",
   "metadata": {
    "deletable": false,
    "editable": false
   },
   "source": [
    "**Question 3.4:** Construct a dictionary where the keys are the numbers from `numbers_list` in question 3.2 and the values are the square of the number if it's even, and the negative square if it's odd."
   ]
  },
  {
   "cell_type": "code",
   "execution_count": null,
   "id": "14ef1907",
   "metadata": {
    "tags": []
   },
   "outputs": [],
   "source": [
    "pos_neg_squares = ...\n",
    "pos_neg_squares"
   ]
  },
  {
   "cell_type": "code",
   "execution_count": null,
   "id": "79af1e05",
   "metadata": {
    "deletable": false,
    "editable": false
   },
   "outputs": [],
   "source": [
    "grader.check(\"q34\")"
   ]
  },
  {
   "cell_type": "markdown",
   "id": "c2d4f4f8",
   "metadata": {},
   "source": [
    "# 4. Main Course\n",
    "A data set from https://www.metacritic.com/ which contains a list of the top video games from 1995-2021 is in your directory.  The data set contains a lot of information, but we will focus on creating a dictionary with the name of a video game as a key and the platform (e.g., Nintendo 64) as the value.  "
   ]
  },
  {
   "cell_type": "markdown",
   "id": "ab0cc491",
   "metadata": {},
   "source": [
    "### Step 1: Import the data and put it in a list\n",
    "The data for this task is in `.csv` format. We will learn more about `.csv` formats and how to import them into Python later in this course. For now, just run the cell below to import the data for all the games in the dataset. "
   ]
  },
  {
   "cell_type": "code",
   "execution_count": null,
   "id": "a0445514",
   "metadata": {},
   "outputs": [],
   "source": [
    "from csv import reader #Python's built-in csv module\n",
    "# Open and read the dataset\n",
    "all_games = open('all_games.csv')\n",
    "all_games = reader(all_games) # type is csv.reader"
   ]
  },
  {
   "cell_type": "code",
   "execution_count": null,
   "id": "ad670853",
   "metadata": {},
   "outputs": [],
   "source": [
    "type(all_games)"
   ]
  },
  {
   "cell_type": "markdown",
   "id": "872191b5",
   "metadata": {
    "deletable": false,
    "editable": false
   },
   "source": [
    "**Question 4.1:** Convert `all_games` to a list."
   ]
  },
  {
   "cell_type": "code",
   "execution_count": null,
   "id": "e2520095",
   "metadata": {
    "collapsed": true,
    "jupyter": {
     "outputs_hidden": true
    },
    "tags": []
   },
   "outputs": [],
   "source": [
    "all_games = ...\n",
    "all_games"
   ]
  },
  {
   "cell_type": "code",
   "execution_count": null,
   "id": "3ea89732",
   "metadata": {
    "deletable": false,
    "editable": false
   },
   "outputs": [],
   "source": [
    "grader.check(\"q41\")"
   ]
  },
  {
   "cell_type": "markdown",
   "id": "23809cdf",
   "metadata": {
    "deletable": false,
    "editable": false
   },
   "source": [
    "**Question 4.2:** What data type is the first entry of `all_games`?\n",
    "\n",
    "1. int\n",
    "2. str\n",
    "3. list\n",
    "4. tuple\n",
    "5. dict\n",
    "\n",
    "Assign `all_games_entry_type` to 1, 2, 3, 4, or 5."
   ]
  },
  {
   "cell_type": "code",
   "execution_count": null,
   "id": "52c81705",
   "metadata": {
    "tags": []
   },
   "outputs": [],
   "source": [
    "all_games_entry_type = ...\n",
    "all_games_entry_type"
   ]
  },
  {
   "cell_type": "code",
   "execution_count": null,
   "id": "b6a48588",
   "metadata": {
    "deletable": false,
    "editable": false
   },
   "outputs": [],
   "source": [
    "grader.check(\"q42\")"
   ]
  },
  {
   "cell_type": "markdown",
   "id": "dca66c5c",
   "metadata": {
    "deletable": false,
    "editable": false
   },
   "source": [
    "**Question 4.3:** Create a dictionary `platform_dict` with the video game name as a key and the platform as the value. Do not include the header (column names) in your dictionary. "
   ]
  },
  {
   "cell_type": "code",
   "execution_count": null,
   "id": "85dedb04",
   "metadata": {
    "tags": []
   },
   "outputs": [],
   "source": [
    "# Dictionary without the column names\n",
    "platform_dict = ...\n",
    "\n",
    "# Look at five items of the dictionary (converting to a list first)\n",
    "list(platform_dict.items())[:5]"
   ]
  },
  {
   "cell_type": "code",
   "execution_count": null,
   "id": "8b039484",
   "metadata": {
    "deletable": false,
    "editable": false
   },
   "outputs": [],
   "source": [
    "grader.check(\"q43\")"
   ]
  },
  {
   "cell_type": "markdown",
   "id": "45e7db60",
   "metadata": {
    "deletable": false,
    "editable": false
   },
   "source": [
    "**Question 4.4:** Each platform has an extra space before its name starts.  Remove it using the `.strip()` string method and dictionary comprehension.  Recall that the method `.items()` returns a object containing the key-value pairs of the dictionary, as tuples in a list."
   ]
  },
  {
   "cell_type": "code",
   "execution_count": null,
   "id": "b3e1e840",
   "metadata": {
    "tags": []
   },
   "outputs": [],
   "source": [
    "platform_dict_clean = ...\n",
    "\n",
    "# Look at five items of the dictionary (need to transform it into a list before)\n",
    "list(platform_dict_clean.items())[:5]"
   ]
  },
  {
   "cell_type": "code",
   "execution_count": null,
   "id": "0a400e33",
   "metadata": {
    "deletable": false,
    "editable": false
   },
   "outputs": [],
   "source": [
    "grader.check(\"q44\")"
   ]
  },
  {
   "cell_type": "markdown",
   "id": "ff291c2a",
   "metadata": {
    "deletable": false,
    "editable": false
   },
   "source": [
    "**Question 4.5:** Create an list for each of the 5 variables in the data set (`name`, `platform`, `date`, `summary`, `meta_score`). We are not considering `user_score` becauase of the tbd entries, which can't be converted to a float.  Populate the lists with the values from the respective column in the data set. Be sure to convert the Metacritic score from a string to a float, and remove the extra space from the platform."
   ]
  },
  {
   "cell_type": "code",
   "execution_count": null,
   "id": "ec67bedb",
   "metadata": {
    "tags": []
   },
   "outputs": [],
   "source": [
    "    \n",
    "print(name[:3])\n",
    "print(platform[:3])\n",
    "print(date[:3])\n",
    "print(summary[:3])\n",
    "print(meta_score[:3])"
   ]
  },
  {
   "cell_type": "code",
   "execution_count": null,
   "id": "9ef0446c",
   "metadata": {
    "deletable": false,
    "editable": false
   },
   "outputs": [],
   "source": [
    "grader.check(\"q45\")"
   ]
  },
  {
   "cell_type": "markdown",
   "id": "73ced173",
   "metadata": {
    "deletable": false,
    "editable": false
   },
   "source": [
    "**Question 4.6:** Create a dictionary with game name as keys and release year as values (Note: the year, not the entire date can be entered as a string).  The `zip()` function will useful for this task.  You can do this with either a for loop or with dictionary comprehension. Your choice! You may use mutliple lines if needed."
   ]
  },
  {
   "cell_type": "code",
   "execution_count": null,
   "id": "4ffcbbad",
   "metadata": {
    "collapsed": true,
    "jupyter": {
     "outputs_hidden": true
    },
    "tags": []
   },
   "outputs": [],
   "source": [
    "year_dict = ...\n",
    "year_dict"
   ]
  },
  {
   "cell_type": "code",
   "execution_count": null,
   "id": "4a2a3958",
   "metadata": {
    "deletable": false,
    "editable": false
   },
   "outputs": [],
   "source": [
    "grader.check(\"q46\")"
   ]
  },
  {
   "cell_type": "markdown",
   "id": "c8352e5d",
   "metadata": {
    "deletable": false,
    "editable": false
   },
   "source": [
    "**Question 4.7:** Use `year_dict` to determine the year that *The Last of Us* was released. Make your answer an int."
   ]
  },
  {
   "cell_type": "code",
   "execution_count": null,
   "id": "94ed0ef6",
   "metadata": {
    "tags": []
   },
   "outputs": [],
   "source": [
    "last_of_us_year = ...\n",
    "last_of_us_year"
   ]
  },
  {
   "cell_type": "code",
   "execution_count": null,
   "id": "744b3b6a",
   "metadata": {
    "deletable": false,
    "editable": false
   },
   "outputs": [],
   "source": [
    "grader.check(\"q47\")"
   ]
  },
  {
   "cell_type": "markdown",
   "id": "ad2c0bf2",
   "metadata": {
    "deletable": false,
    "editable": false
   },
   "source": [
    "**Question 4.8:** Video games have changed a lot in the recent years.  Filter and create a dictionary of games released **after** 2018.  *Hint*: Use `year_dict.items()` as your iterator and make sure to convert the year from a string to an integer in your if statement."
   ]
  },
  {
   "cell_type": "code",
   "execution_count": null,
   "id": "37bb559e",
   "metadata": {
    "scrolled": true,
    "tags": []
   },
   "outputs": [],
   "source": [
    "after_2018 = ...\n",
    "\n",
    "# Look at the first five items of the dictionary\n",
    "list(after_2018.items())[:5]"
   ]
  },
  {
   "cell_type": "code",
   "execution_count": null,
   "id": "aab4bf70",
   "metadata": {
    "deletable": false,
    "editable": false
   },
   "outputs": [],
   "source": [
    "grader.check(\"q48\")"
   ]
  },
  {
   "cell_type": "markdown",
   "id": "aea57a00",
   "metadata": {},
   "source": [
    "## 5. Dessert\n",
    "In a previous assignment, we used a dictionary to represent word frequency in the first chapter of Jane Austen's Pride and Predjudice.  This code was written with a for loop to populate the values in the dictionary by looping through words.  Specifically, for each word in the text, we look to see if the word is already in the dictionary.  If it is not, we put it in the dictionary (as the key) with a count value of 1 (as the value).  If the word is already in the dictionary, we update its count value by 1, and then keep reading.  This task can also be accomplished using dictionary comprehension rather than a for loop.  "
   ]
  },
  {
   "cell_type": "markdown",
   "id": "c7169f00",
   "metadata": {
    "deletable": false,
    "editable": false
   },
   "source": [
    "**Question 5.1:** For the following poem, first clean it to remove special characters. Then use dictionary comprehension to create a dictionary where each key is a word from the quote and each value is the word's frequency in the quote. Sort the dictionary to determine the most frequent words in the quote. *Hint* `top_words` should be a list of tuples. "
   ]
  },
  {
   "cell_type": "code",
   "execution_count": null,
   "id": "2675a87a",
   "metadata": {
    "tags": []
   },
   "outputs": [],
   "source": [
    "# Poem by Gelett Burgess\n",
    "quote = \"\"\"I never saw a Purple Cow, I never hope to see one; But I can tell you, anyhow, I'd rather see than be one.\"\"\"\n",
    "\n",
    "# Clean the quote\n",
    "cleaned_quote = ...\n",
    "\n",
    "# Count frequency of words in the quote\n",
    "frequency_dict = ...\n",
    "\n",
    "# sort the dictionary based on descending frequency of count \n",
    "# (use frequency as key value, and return with highest frequency first)\n",
    "top_words = ...\n",
    "top_words"
   ]
  },
  {
   "cell_type": "code",
   "execution_count": null,
   "id": "932ef8b6",
   "metadata": {
    "deletable": false,
    "editable": false
   },
   "outputs": [],
   "source": [
    "grader.check(\"q51\")"
   ]
  },
  {
   "cell_type": "markdown",
   "id": "53d77d1c",
   "metadata": {},
   "source": [
    "### References\n",
    "- Kaggle data set: https://www.kaggle.com/datasets/deepcontractor/top-video-games-19952021-metacritic\n",
    "- Purple Cow poem by Gelett Burgess: https://poets.org/poem/purple-cow\n",
    "\n",
    "### Congratulations!\n",
    "Gus says congrats on finishing Lab 2! Run the cell below to download a zip and submit to Canvas. \n",
    "\n",
    "<img src=\"gus_this_me.JPG\" alt=\"drawing\" width=\"300\"/>"
   ]
  },
  {
   "cell_type": "markdown",
   "id": "37278c7e",
   "metadata": {
    "deletable": false,
    "editable": false
   },
   "source": [
    "## Submission\n",
    "\n",
    "Make sure you have run all cells in your notebook in order before running the cell below, so that all images/graphs appear in the output. The cell below will generate a zip file for you to submit. **Please save before exporting!**"
   ]
  },
  {
   "cell_type": "code",
   "execution_count": null,
   "id": "82a58080",
   "metadata": {
    "deletable": false,
    "editable": false
   },
   "outputs": [],
   "source": [
    "# Save your notebook first, then run this cell to export your submission.\n",
    "grader.export(pdf=False, run_tests=True)"
   ]
  },
  {
   "cell_type": "markdown",
   "id": "e62401ae",
   "metadata": {},
   "source": [
    " "
   ]
  }
 ],
 "metadata": {
  "kernelspec": {
   "display_name": "Python 3 (ipykernel)",
   "language": "python",
   "name": "python3"
  },
  "language_info": {
   "codemirror_mode": {
    "name": "ipython",
    "version": 3
   },
   "file_extension": ".py",
   "mimetype": "text/x-python",
   "name": "python",
   "nbconvert_exporter": "python",
   "pygments_lexer": "ipython3",
   "version": "3.11.4"
  },
  "otter": {
   "OK_FORMAT": true,
   "tests": {
    "q11": {
     "name": "q11",
     "points": null,
     "suites": [
      {
       "cases": [
        {
         "code": ">>> identical_lst1 != ...\nTrue",
         "hidden": false,
         "locked": false
        },
        {
         "code": ">>> identical_lst1\n[1, 2, 3, 4, 5]",
         "hidden": false,
         "locked": false
        }
       ],
       "scored": true,
       "setup": "",
       "teardown": "",
       "type": "doctest"
      }
     ]
    },
    "q12": {
     "name": "q12",
     "points": null,
     "suites": [
      {
       "cases": [
        {
         "code": ">>> lst_from_rng != ...\nTrue",
         "hidden": false,
         "locked": false
        },
        {
         "code": ">>> lst_from_rng\n[1200, 1330, 1460, 1590, 1720, 1850, 1980]",
         "hidden": false,
         "locked": false
        }
       ],
       "scored": true,
       "setup": "",
       "teardown": "",
       "type": "doctest"
      }
     ]
    },
    "q13": {
     "name": "q13",
     "points": null,
     "suites": [
      {
       "cases": [
        {
         "code": ">>> new_lst2 != ...\nTrue",
         "hidden": false,
         "locked": false
        },
        {
         "code": ">>> new_lst2\n[50, 60, 70, 80, 110]",
         "hidden": false,
         "locked": false
        }
       ],
       "scored": true,
       "setup": "",
       "teardown": "",
       "type": "doctest"
      }
     ]
    },
    "q14": {
     "name": "q14",
     "points": null,
     "suites": [
      {
       "cases": [
        {
         "code": ">>> new_lst3 != ...\nTrue",
         "hidden": false,
         "locked": false
        },
        {
         "code": ">>> new_lst3\n[4, 16, 36, 64, 100, 144, 196]",
         "hidden": false,
         "locked": false
        }
       ],
       "scored": true,
       "setup": "",
       "teardown": "",
       "type": "doctest"
      }
     ]
    },
    "q21": {
     "name": "q21",
     "points": null,
     "suites": [
      {
       "cases": [
        {
         "code": ">>> new_filtered_lst3 != ...\nTrue",
         "hidden": false,
         "locked": false
        },
        {
         "code": ">>> new_filtered_lst3\n[64, 100, 144, 196]",
         "hidden": false,
         "locked": false
        }
       ],
       "scored": true,
       "setup": "",
       "teardown": "",
       "type": "doctest"
      }
     ]
    },
    "q22": {
     "name": "q22",
     "points": null,
     "suites": [
      {
       "cases": [
        {
         "code": ">>> even_squares != ...\nTrue",
         "hidden": false,
         "locked": false
        },
        {
         "code": ">>> even_squares\n[4, 16, 36, 64, 100]",
         "hidden": false,
         "locked": false
        }
       ],
       "scored": true,
       "setup": "",
       "teardown": "",
       "type": "doctest"
      }
     ]
    },
    "q31": {
     "name": "q31",
     "points": null,
     "suites": [
      {
       "cases": [
        {
         "code": ">>> dict_cap != ...\nTrue",
         "hidden": false,
         "locked": false
        },
        {
         "code": ">>> dict_cap\n{'US': 'Washington DC', 'France': 'Paris', 'Mexico': 'Mexico City'}",
         "hidden": false,
         "locked": false
        }
       ],
       "scored": true,
       "setup": "",
       "teardown": "",
       "type": "doctest"
      }
     ]
    },
    "q32": {
     "name": "q32",
     "points": null,
     "suites": [
      {
       "cases": [
        {
         "code": ">>> even_squares_dict != ...\nTrue",
         "hidden": false,
         "locked": false
        },
        {
         "code": ">>> even_squares_dict\n{2: 4, 4: 16, 6: 36, 8: 64, 10: 100}",
         "hidden": false,
         "locked": false
        }
       ],
       "scored": true,
       "setup": "",
       "teardown": "",
       "type": "doctest"
      }
     ]
    },
    "q33": {
     "name": "q33",
     "points": null,
     "suites": [
      {
       "cases": [
        {
         "code": ">>> vehicle_list != ...\nTrue",
         "hidden": false,
         "locked": false
        },
        {
         "code": ">>> all([i in ['SEDAN', 'SUV', 'PICKUP', 'MINIVAN', 'VAN', 'BICYCLE', 'MOTORCYCLE'] for i in vehicle_list])\nTrue",
         "hidden": false,
         "locked": false
        }
       ],
       "scored": true,
       "setup": "",
       "teardown": "",
       "type": "doctest"
      }
     ]
    },
    "q34": {
     "name": "q34",
     "points": null,
     "suites": [
      {
       "cases": [
        {
         "code": ">>> pos_neg_squares != ...\nTrue",
         "hidden": false,
         "locked": false
        },
        {
         "code": ">>> pos_neg_squares\n{1: -1, 2: 4, 3: -9, 4: 16, 5: -25, 6: 36, 7: -49, 8: 64, 9: -81, 10: 100}",
         "hidden": false,
         "locked": false
        }
       ],
       "scored": true,
       "setup": "",
       "teardown": "",
       "type": "doctest"
      }
     ]
    },
    "q41": {
     "name": "q41",
     "points": null,
     "suites": [
      {
       "cases": [
        {
         "code": ">>> all_games[0]\n['name', 'platform', 'release_date', 'summary', 'meta_score', 'user_review']",
         "hidden": false,
         "locked": false
        }
       ],
       "scored": true,
       "setup": "",
       "teardown": "",
       "type": "doctest"
      }
     ]
    },
    "q42": {
     "name": "q42",
     "points": null,
     "suites": [
      {
       "cases": [
        {
         "code": ">>> all_games_entry_type\n3",
         "hidden": false,
         "locked": false
        }
       ],
       "scored": true,
       "setup": "",
       "teardown": "",
       "type": "doctest"
      }
     ]
    },
    "q43": {
     "name": "q43",
     "points": null,
     "suites": [
      {
       "cases": [
        {
         "code": ">>> list(platform_dict.items())[0]\n('The Legend of Zelda: Ocarina of Time', ' Nintendo 64')",
         "hidden": false,
         "locked": false
        },
        {
         "code": ">>> list(platform_dict.items())[1]\n(\"Tony Hawk's Pro Skater 2\", ' Nintendo 64')",
         "hidden": false,
         "locked": false
        },
        {
         "code": ">>> list(platform_dict.items())[2]\n('Grand Theft Auto IV', ' PC')",
         "hidden": false,
         "locked": false
        },
        {
         "code": ">>> list(platform_dict.items())[3]\n('SoulCalibur', ' Xbox 360')",
         "hidden": false,
         "locked": false
        },
        {
         "code": ">>> list(platform_dict.items())[4]\n('Super Mario Galaxy', ' Wii')",
         "hidden": false,
         "locked": false
        }
       ],
       "scored": true,
       "setup": "",
       "teardown": "",
       "type": "doctest"
      }
     ]
    },
    "q44": {
     "name": "q44",
     "points": null,
     "suites": [
      {
       "cases": [
        {
         "code": ">>> platform_dict_clean['The Legend of Zelda: Ocarina of Time'] == 'Nintendo 64'\nTrue",
         "hidden": false,
         "locked": false
        }
       ],
       "scored": true,
       "setup": "",
       "teardown": "",
       "type": "doctest"
      }
     ]
    },
    "q45": {
     "name": "q45",
     "points": null,
     "suites": [
      {
       "cases": [
        {
         "code": ">>> name[0]\n'The Legend of Zelda: Ocarina of Time'",
         "hidden": false,
         "locked": false
        },
        {
         "code": ">>> platform[0]\n'Nintendo 64'",
         "hidden": false,
         "locked": false
        },
        {
         "code": ">>> type(meta_score[0]) is type(float(99))\nTrue",
         "hidden": false,
         "locked": false
        },
        {
         "code": ">>> meta_score[0]\n99.0",
         "hidden": false,
         "locked": false
        }
       ],
       "scored": true,
       "setup": "",
       "teardown": "",
       "type": "doctest"
      }
     ]
    },
    "q46": {
     "name": "q46",
     "points": null,
     "suites": [
      {
       "cases": [
        {
         "code": ">>> year_dict['Super Mario Odyssey']\n'2017'",
         "hidden": false,
         "locked": false
        }
       ],
       "scored": true,
       "setup": "",
       "teardown": "",
       "type": "doctest"
      }
     ]
    },
    "q47": {
     "name": "q47",
     "points": null,
     "suites": [
      {
       "cases": [
        {
         "code": ">>> type(last_of_us_year) is int\nTrue",
         "hidden": false,
         "locked": false
        },
        {
         "code": ">>> last_of_us_year\n2013",
         "hidden": false,
         "locked": false
        }
       ],
       "scored": true,
       "setup": "",
       "teardown": "",
       "type": "doctest"
      }
     ]
    },
    "q48": {
     "name": "q48",
     "points": null,
     "suites": [
      {
       "cases": [
        {
         "code": ">>> len(after_2018)\n1660",
         "hidden": false,
         "locked": false
        },
        {
         "code": ">>> list(after_2018.items())[0][0]\n'Red Dead Redemption 2'",
         "hidden": false,
         "locked": false
        }
       ],
       "scored": true,
       "setup": "",
       "teardown": "",
       "type": "doctest"
      }
     ]
    },
    "q51": {
     "name": "q51",
     "points": null,
     "suites": [
      {
       "cases": [
        {
         "code": ">>> len(top_words)\n19",
         "hidden": false,
         "locked": false
        },
        {
         "code": ">>> top_words[0]\n('I', 3)",
         "hidden": false,
         "locked": false
        }
       ],
       "scored": true,
       "setup": "",
       "teardown": "",
       "type": "doctest"
      }
     ]
    }
   }
  }
 },
 "nbformat": 4,
 "nbformat_minor": 5
}
