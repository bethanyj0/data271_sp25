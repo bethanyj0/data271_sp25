{
 "cells": [
  {
   "cell_type": "code",
   "execution_count": null,
   "id": "3e8763d5",
   "metadata": {
    "deletable": false,
    "editable": false
   },
   "outputs": [],
   "source": [
    "# Initialize Otter\n",
    "import otter\n",
    "grader = otter.Notebook(\"lab03.ipynb\")"
   ]
  },
  {
   "cell_type": "markdown",
   "id": "3ba151ad",
   "metadata": {},
   "source": [
    "# Lab 3: Regular Expression with Python"
   ]
  },
  {
   "cell_type": "markdown",
   "id": "97384765",
   "metadata": {},
   "source": [
    "Welcome to Lab 3 of DATA 271! \n",
    "\n",
    "This document contains examples and small tasks (\"appetizers\") for you to make sure you understand the examples.  The culminating task (\"main course\") at the end of the document is more complex, and uses most of the topics you have will have worked through. You should rarely remain stuck for more than a few minutes on questions in labs, so feel free to ask for help. Collaborating on labs is more than okay -- it's encouraged! Explaining things is beneficial -- the best way to solidify your knowledge of a subject is to explain it. Please don't just share answers, though. \n",
    "\n",
    "For this lab and all future ones, please be sure to not re-assign variables throughout the notebook! For example, if you use `my_list` in your answer to one question, do not reassign it later on. Otherwise, you will fail tests that you passed previously!"
   ]
  },
  {
   "cell_type": "markdown",
   "id": "2c197917",
   "metadata": {},
   "source": [
    "### In today's lab, we will\n",
    "- Learn basic syntax for regular expression in Python and be able to write simple regular expressions using common operations in pattern matching.\n",
    "- Understand the flexibility regular expression affords in searching and articulate at least one real world example where this is useful\n",
    "- Become familiar with Python's `re` module and some of its functions such as `findall()`, `search()`, and `sub()`.\n",
    "- Become more familiar with using online resources such as documentation, \"cheat sheets\" and Stack Exchange to independently learn more about a technical topic."
   ]
  },
  {
   "cell_type": "markdown",
   "id": "a7cf4b75",
   "metadata": {},
   "source": [
    "## Overview\n",
    "\n",
    "Regular expression (shortened as regex or regexp) can be used for pattern matching in a text editor.  For example, when you use the \"find and replace\" feature in Microsoft Word, you are asking the computer to find specific strings which match a pattern and replace them with another string. We might desire a more flexible way to search and replace. For example, we might wish to locate and replace a word spelled two different ways in a text: serialise and serialize (British and American spelling). The regular expression `seriali[sz]e` matches both \"serialise\" and \"serialize\".\n",
    "\n",
    "Other examples where this flexibilty is useful might be searching for and extracting email addresses from a file.  We know there will be an at sign (@), but don't know what the constraints are in front of it in terms of word length or characters used. It is possible to read through texts and look for patterns using string methods like `split()` and `find()`. However, searching and extracting is so common that there is a powerful library for these tasks (`re`).\n",
    "\n",
    "The `re` module provides a set of powerful regular expression facilities, which allows you to quickly check whether a given string matches a given pattern (using the match function), or contains such a pattern (using the search function). A regular expression is a string pattern written in a compact (and quite cryptic) syntax.  \n",
    "\n",
    "The regex describes a pattern to locate in the text, and then we can use specific methods to accomplish tasks.  You can then ask questions such as “Does this string match the pattern?”, or “Is there a match for the pattern anywhere in this string?” You can also use regular expression to modify a string or to split it apart in various ways.\n",
    "\n",
    "The documentation provides more details: https://docs.python.org/3/library/re.html."
   ]
  },
  {
   "cell_type": "markdown",
   "id": "d1773c71",
   "metadata": {},
   "source": [
    "### Pattern matching\n"
   ]
  },
  {
   "cell_type": "code",
   "execution_count": null,
   "id": "5ecdf2f3",
   "metadata": {
    "tags": []
   },
   "outputs": [],
   "source": [
    "import re # Imports the re module\n",
    "\n",
    "#Check if the string starts with \"The\" and ends with \"Spain\":\n",
    "\n",
    "txt = \"The rain in Spain\"\n",
    "x = re.search(\"^The.*Spain$\", txt)\n",
    "\n",
    "if x:\n",
    "    print(\"YES! We have a match!\")\n",
    "else:\n",
    "    print(\"No match\")"
   ]
  },
  {
   "cell_type": "code",
   "execution_count": null,
   "id": "012e31dd",
   "metadata": {
    "tags": []
   },
   "outputs": [],
   "source": [
    "#Check if the string starts with \"The\" and ends with \"Spain\":\n",
    "txt = \"The Running of the Bulls occurs in Pamplona, Spain\"\n",
    "x = re.search(\"^The.*Spain$\", txt)\n",
    "\n",
    "if x:\n",
    "    print(\"YES! We have a match!\")\n",
    "else:\n",
    "    print(\"No match\")"
   ]
  },
  {
   "cell_type": "code",
   "execution_count": null,
   "id": "f64daabf",
   "metadata": {
    "tags": []
   },
   "outputs": [],
   "source": [
    "#Check if the string starts with \"The\" and ends with \"Spain\":\n",
    "\n",
    "txt = \"The Louvre is in Paris, France\"\n",
    "x = re.search(\"^The.*Spain$\", txt)\n",
    "\n",
    "if x:\n",
    "    print(\"YES! We have a match!\")\n",
    "else:\n",
    "    print(\"No match\")"
   ]
  },
  {
   "cell_type": "markdown",
   "id": "f1124a6f",
   "metadata": {},
   "source": [
    "### Print Matches\n",
    "You can print any matches found with the following."
   ]
  },
  {
   "cell_type": "code",
   "execution_count": null,
   "id": "71fca883",
   "metadata": {
    "tags": []
   },
   "outputs": [],
   "source": [
    "txt = \"The rain in Spain\"\n",
    "x = re.findall(\"ai\", txt)\n",
    "print(x)\n",
    "len(x) # how many matches are found"
   ]
  },
  {
   "cell_type": "code",
   "execution_count": null,
   "id": "0caa2f7e",
   "metadata": {
    "tags": []
   },
   "outputs": [],
   "source": [
    "# returns an empty list if no matches are found\n",
    "txt = \"The rain in Spain\"\n",
    "x = re.findall(\"Portugal\", txt)\n",
    "print(x)"
   ]
  },
  {
   "cell_type": "markdown",
   "id": "e10a163c",
   "metadata": {},
   "source": [
    "### Search\n",
    "The `search()` function searches the string for a match and returns a match object if there is a match.  If there is more than one match, only the first occurence will be returned.  If there are no matches `None` is returned.  The match object returned has properties and methods which can provide more information about the search such as\n",
    "- `span()` which returns a tuple containing the start and end positions of the match\n",
    "- `group()` returns the part of the string where there was a match"
   ]
  },
  {
   "cell_type": "code",
   "execution_count": null,
   "id": "0003c29f",
   "metadata": {
    "tags": []
   },
   "outputs": [],
   "source": [
    "txt = \"The rain in Spain\"\n",
    "# search for first white space character \\s\n",
    "x = re.search(\"\\s\", txt)\n",
    "\n",
    "print(\"The first white-space character is located in position:\", x.start())"
   ]
  },
  {
   "cell_type": "code",
   "execution_count": null,
   "id": "ce43c7d3",
   "metadata": {
    "tags": []
   },
   "outputs": [],
   "source": [
    "x = re.search(\"Portugal\", txt)\n",
    "print(x)"
   ]
  },
  {
   "cell_type": "code",
   "execution_count": null,
   "id": "27ca1d09",
   "metadata": {
    "tags": []
   },
   "outputs": [],
   "source": [
    "x = re.search(\"ai\", txt)\n",
    "print(x) #this will print an object"
   ]
  },
  {
   "cell_type": "code",
   "execution_count": null,
   "id": "7837be7c",
   "metadata": {
    "tags": []
   },
   "outputs": [],
   "source": [
    "x = re.search(r\"\\bS\\w+\", txt)\n",
    "print(x)\n",
    "# span returns the start and end position of the first match occurrence.\n",
    "print(x.span())"
   ]
  },
  {
   "cell_type": "code",
   "execution_count": null,
   "id": "74ca6891",
   "metadata": {
    "tags": []
   },
   "outputs": [],
   "source": [
    "# look for upper case S\n",
    "x = re.search(r\"\\bS\\w+\", txt)\n",
    "# print the part of the string where there was a match\n",
    "print(x.group())"
   ]
  },
  {
   "cell_type": "markdown",
   "id": "a32e2212",
   "metadata": {},
   "source": [
    "### Split\n",
    "The `split()` function returns a list where the string has been split on each match.  Notice this can also be accomplished with the string method `split()`."
   ]
  },
  {
   "cell_type": "code",
   "execution_count": null,
   "id": "b72b819d",
   "metadata": {
    "tags": []
   },
   "outputs": [],
   "source": [
    "# split on white space\n",
    "x = re.split(\"\\s\", txt)\n",
    "print(x)"
   ]
  },
  {
   "cell_type": "code",
   "execution_count": null,
   "id": "b15375e2",
   "metadata": {
    "tags": []
   },
   "outputs": [],
   "source": [
    "txt = \"The rain in Spain\"\n",
    "x = txt.split()\n",
    "print(x)"
   ]
  },
  {
   "cell_type": "markdown",
   "id": "a1a41bd6",
   "metadata": {},
   "source": [
    "### Substitution\n",
    "The `sub()` function replaces the matches found with a string you indicate.  You can control how many replacements are done with the optional count parameter."
   ]
  },
  {
   "cell_type": "code",
   "execution_count": null,
   "id": "fdf56130",
   "metadata": {
    "tags": []
   },
   "outputs": [],
   "source": [
    "# replace spaces with the number nine as a string\n",
    "x = re.sub(\"\\s\", \"9\", txt)\n",
    "print(x)"
   ]
  },
  {
   "cell_type": "code",
   "execution_count": null,
   "id": "9ae2a654",
   "metadata": {
    "tags": []
   },
   "outputs": [],
   "source": [
    "x = re.sub(\"\\s\", \"9\", txt, 2)\n",
    "print(x)"
   ]
  },
  {
   "cell_type": "markdown",
   "id": "8b855ade",
   "metadata": {},
   "source": [
    "## Appetizers\n",
    "Now it's time for you to practice."
   ]
  },
  {
   "cell_type": "markdown",
   "id": "fe4e5263",
   "metadata": {
    "deletable": false,
    "editable": false
   },
   "source": [
    "### 1. Regex exploration\n",
    "We have seen now different syntaxes to flexibly control what we want to match or replace.  Google \"regular expression in Python cheat sheet\" and download one of your choosing. Or use [this one](https://canvas.humboldt.edu/courses/76930/files/folder/Uploaded%20Media%202?preview=6039402). Take a moment to read through it.\n",
    "Choose four different syntaxes on the cheat sheet and write a small example with a string of your choosing like \"The rain in Spain\" to test them.  \n",
    "Specifically experiment with\n",
    "- `[]` vs `()`\n",
    "- `+` vs `*`\n",
    "- `{}`\n",
    "- etc.\n",
    "\n",
    "Explain what your thought process and what you learn in a Markdown cell."
   ]
  },
  {
   "cell_type": "code",
   "execution_count": null,
   "id": "1769526e",
   "metadata": {
    "tags": []
   },
   "outputs": [],
   "source": [
    "any_string = ...\n",
    "some_practice = ...\n",
    "some_practice"
   ]
  },
  {
   "cell_type": "code",
   "execution_count": null,
   "id": "ba5b3597",
   "metadata": {
    "tags": []
   },
   "outputs": [],
   "source": [
    "any_string = ...\n",
    "some_practice = ...\n",
    "some_practice"
   ]
  },
  {
   "cell_type": "code",
   "execution_count": null,
   "id": "06708809",
   "metadata": {
    "tags": []
   },
   "outputs": [],
   "source": [
    "any_string = ...\n",
    "some_practice = ...\n",
    "some_practice"
   ]
  },
  {
   "cell_type": "code",
   "execution_count": null,
   "id": "5c113e2a",
   "metadata": {
    "tags": []
   },
   "outputs": [],
   "source": [
    "any_string = ...\n",
    "some_practice = ...\n",
    "some_practice"
   ]
  },
  {
   "cell_type": "code",
   "execution_count": null,
   "id": "b7d8a973",
   "metadata": {
    "tags": []
   },
   "outputs": [],
   "source": [
    "any_string = ...\n",
    "some_practice = ...\n",
    "some_practice"
   ]
  },
  {
   "cell_type": "markdown",
   "id": "97c0df8f-635a-4ad8-b476-b8c8034b0c7c",
   "metadata": {},
   "source": [
    "### 2. Emails\n",
    "We will use the text file *emails.txt* for this exercise. Run the cell below to import the data and look at a snippet of the file."
   ]
  },
  {
   "cell_type": "code",
   "execution_count": null,
   "id": "85f0ee08-6a84-4d55-9f59-16ec3846e839",
   "metadata": {
    "tags": []
   },
   "outputs": [],
   "source": [
    "hand = open('emails.txt')\n",
    "emails = hand.read()\n",
    "hand.close()\n",
    "emails[:1000]"
   ]
  },
  {
   "cell_type": "markdown",
   "id": "ffef82b1",
   "metadata": {
    "deletable": false,
    "editable": false
   },
   "source": [
    "**Question 2.1:** With the `emails` data, make a list called `from_lines` containing all the lines in the .txt file which contain the word `\"From\"` (case sensitive). Be sure that the lines that end up in your list do not include any trailing spaces. \n",
    "\n",
    "*HINT:* The `rstrip` method will likely be helpful."
   ]
  },
  {
   "cell_type": "code",
   "execution_count": null,
   "id": "c84c441a",
   "metadata": {
    "collapsed": true,
    "jupyter": {
     "outputs_hidden": true
    },
    "tags": []
   },
   "outputs": [],
   "source": [
    "email_lines = ... # split email text by new lines\n",
    "from_lines = ... # a list of email lines containing the word \"From\" (with no trailing spaces)\n",
    "from_lines\n"
   ]
  },
  {
   "cell_type": "code",
   "execution_count": null,
   "id": "a621f75a",
   "metadata": {
    "deletable": false,
    "editable": false
   },
   "outputs": [],
   "source": [
    "grader.check(\"q2_1\")"
   ]
  },
  {
   "cell_type": "markdown",
   "id": "383a4b78-57d6-4217-9d48-b3661b99ef74",
   "metadata": {
    "deletable": false,
    "editable": false
   },
   "source": [
    "**Question 2.2:** The real power of regular expression comes from the flexibility to more precisely control which lines match the string. Use regular expression to make a list called `from_addresses` that contain all the lines from `emails` that *start* with `From:` and have an `@` sign. Be sure that the lines that end up in your list do not include any trailing spaces.\n",
    "\n",
    "Remember that email addresses vary in length.  For example, Humboldt's Math Department email is math@humboldt.edu and the Biology Deparment's email is biosci@humboldt.edu.  They have a different number of characters before the @ sign.  Therefore your regex will have to be flexible enough to account for this variability."
   ]
  },
  {
   "cell_type": "code",
   "execution_count": null,
   "id": "f772dc55-9773-4bf1-9b2c-f5d9121734a7",
   "metadata": {
    "collapsed": true,
    "jupyter": {
     "outputs_hidden": true
    },
    "tags": []
   },
   "outputs": [],
   "source": [
    "from_addresses = ...\n",
    "from_addresses"
   ]
  },
  {
   "cell_type": "code",
   "execution_count": null,
   "id": "da736d35",
   "metadata": {
    "deletable": false,
    "editable": false
   },
   "outputs": [],
   "source": [
    "grader.check(\"q2_2\")"
   ]
  },
  {
   "cell_type": "markdown",
   "id": "5b43acd3-eb41-4442-b512-c4b9d795ad3d",
   "metadata": {
    "deletable": false,
    "editable": false
   },
   "source": [
    "**Question 2.3:** Suppose we want to create a contact list based on the email addresses from which emails were sent. Use regular expression to create a list called `contacts` containing all the unique email addresses in `from_addresses`. Your final answer should be a list of strings. For example, the first few entries of `contacts` could look like\n",
    "\n",
    "```python\n",
    "['stuart.freeman@et.gatech.edu', 'zach.thomas@txstate.edu', 'louis@media.berkeley.edu', ...]\n",
    "```"
   ]
  },
  {
   "cell_type": "code",
   "execution_count": null,
   "id": "37feb5fb-28f5-467f-9928-a6f3cf647248",
   "metadata": {
    "tags": []
   },
   "outputs": [],
   "source": [
    "contacts = ...\n",
    "contacts"
   ]
  },
  {
   "cell_type": "code",
   "execution_count": null,
   "id": "a499e88c",
   "metadata": {
    "deletable": false,
    "editable": false
   },
   "outputs": [],
   "source": [
    "grader.check(\"q2_3\")"
   ]
  },
  {
   "cell_type": "markdown",
   "id": "8b0982d7-d6a5-4a46-8feb-35ad1d6bd856",
   "metadata": {
    "deletable": false,
    "editable": false
   },
   "source": [
    "**Question 2.4:** Using regular expressions, extract the *hour of day* that email messages were sent and put them into a list.\n",
    "\n",
    "*HINT:* Look for lines that start with `From` followed by a space to get time information about the emails. For example, the line \n",
    "\n",
    "```python\n",
    "'From stephen.marquard@uct.ac.za Sat Jan  5 09:14:16 2008'\n",
    "```\n",
    "\n",
    "contains time information and the hour of the day in which it was sent is `09`. Your final answer should be a list of strings. "
   ]
  },
  {
   "cell_type": "code",
   "execution_count": null,
   "id": "6805c7fc",
   "metadata": {
    "collapsed": true,
    "jupyter": {
     "outputs_hidden": true
    },
    "tags": []
   },
   "outputs": [],
   "source": [
    "hour_of_day = ...\n",
    "hour_of_day"
   ]
  },
  {
   "cell_type": "code",
   "execution_count": null,
   "id": "ee0aa33e",
   "metadata": {
    "deletable": false,
    "editable": false
   },
   "outputs": [],
   "source": [
    "grader.check(\"q2_4\")"
   ]
  },
  {
   "cell_type": "markdown",
   "id": "cab0edd1-e28b-4dab-b2d5-52e5d1821e0e",
   "metadata": {},
   "source": [
    "### 3. Comparing string methods and Regex"
   ]
  },
  {
   "cell_type": "markdown",
   "id": "ed108f8a",
   "metadata": {
    "deletable": false,
    "editable": false
   },
   "source": [
    "**Question 3.1:** Let the following string be considered: `'X-DSPAM-Confidence: 0.8475'`. Use `find` and string slicing to extract the number and cast it to a float. *HINT:* Everything after the colon is the number."
   ]
  },
  {
   "cell_type": "code",
   "execution_count": null,
   "id": "b2ad737a",
   "metadata": {
    "tags": []
   },
   "outputs": [],
   "source": [
    "phrase = 'X-DSPAM-Confidence: 0.8475'\n",
    "\n",
    "col_pos = ...\n",
    "number = ...\n",
    "number"
   ]
  },
  {
   "cell_type": "code",
   "execution_count": null,
   "id": "95563cac",
   "metadata": {
    "deletable": false,
    "editable": false
   },
   "outputs": [],
   "source": [
    "grader.check(\"q3_1\")"
   ]
  },
  {
   "cell_type": "markdown",
   "id": "8ba94d2d",
   "metadata": {
    "deletable": false,
    "editable": false
   },
   "source": [
    "**Question 3.2:** Consider the same string: `'X-DSPAM-Confidence: 0.8475'`. Complete the same task you did in question 3.1, but this time use regular expression. Please type your regular expression in `regex` then extract the number from phrase in `number_with_re`. "
   ]
  },
  {
   "cell_type": "code",
   "execution_count": null,
   "id": "f5b64fa9",
   "metadata": {
    "tags": []
   },
   "outputs": [],
   "source": [
    "regex = ...\n",
    "number_with_re = ...\n",
    "number_with_re"
   ]
  },
  {
   "cell_type": "code",
   "execution_count": null,
   "id": "1e851de0",
   "metadata": {
    "deletable": false,
    "editable": false
   },
   "outputs": [],
   "source": [
    "grader.check(\"q3_2\")"
   ]
  },
  {
   "cell_type": "markdown",
   "id": "db737bca-ff17-46a4-885e-4523ca1a78b1",
   "metadata": {
    "deletable": false,
    "editable": false
   },
   "source": [
    "**Question 3.3:** Compare your approach from problems 3.1 and 3.2. List pros and cons of string methods and pros and cons of regex. "
   ]
  },
  {
   "cell_type": "markdown",
   "id": "a357c63b-bae8-436c-ade9-045aa63888b9",
   "metadata": {
    "deletable": true,
    "tags": []
   },
   "source": [
    "*Type your answer, replacing this text.*"
   ]
  },
  {
   "cell_type": "markdown",
   "id": "7f01959e",
   "metadata": {},
   "source": [
    "## 4. Parsing data\n",
    "In this problem you will read through and parse a file with text and numbers. You will extract all the numbers in the file and compute the sum of the numbers.  \n",
    "\n",
    "The file contains text from a data science textbook introduction with random numbers inserted through the verbage.\n",
    "\n",
    "For example, the text might look like this:\n",
    "\n",
    "```python\n",
    "'''\n",
    "Why should you learn to write programs? 7746\n",
    "12 1929 8827\n",
    "Writing programs (or programming) is a very creative \n",
    "7 and rewarding activity.  You can write programs for \n",
    "many reasons, ranging from making your living to solving\n",
    "8837 a difficult data analysis problem to having fun to helping 128\n",
    "someone else solve a problem.  This book assumes that \n",
    "everyone needs to know how to program ...\n",
    "'''\n",
    "```"
   ]
  },
  {
   "cell_type": "markdown",
   "id": "d08b7444",
   "metadata": {
    "deletable": false,
    "editable": false
   },
   "source": [
    "**Question 4.1:** Import the data from `regex_sum.txt`. Find all the integers in the text file and add them up. Store your result in `numbers_sum`.\n",
    "\n",
    "**Tips:**\n",
    "- Refer to problem 2 to see how to import data from a txt file. \n",
    "- Consecutive digits should count as a single number. For example, the line \n",
    "```python\n",
    "'8837 a difficult data analysis problem to having fun to helping 128'\n",
    "```\n",
    " contains two numbers: 8837 and 128. "
   ]
  },
  {
   "cell_type": "code",
   "execution_count": null,
   "id": "386a0da5-ab16-4b17-8b94-03f2f6c8a3c2",
   "metadata": {
    "tags": []
   },
   "outputs": [],
   "source": [
    "file = ...\n",
    "text_file = ...\n",
    "...\n",
    "\n",
    "numbers_sum = ...\n",
    "numbers_sum"
   ]
  },
  {
   "cell_type": "code",
   "execution_count": null,
   "id": "bd0d9446",
   "metadata": {
    "deletable": false,
    "editable": false
   },
   "outputs": [],
   "source": [
    "grader.check(\"q4_1\")"
   ]
  },
  {
   "cell_type": "markdown",
   "id": "86a1bb90-87cb-4788-86fa-51189a564793",
   "metadata": {},
   "source": [
    "## Main Course\n",
    "\n",
    "Imagine you're ordering party invitations from a website like Shutterfly, which mails them directly to your guests. The website requires addresses to be entered in separate fields: Address Line 1, Address Line 2, City, State, and Zip Code. However, you currently have each address stored as a single string.\n",
    "\n",
    "Your task is to use regular expressions (regex) to separate the components from each address. Run the cell below to import the addresses. (*This address list was fabricated for the purpose of this exercise.*)"
   ]
  },
  {
   "cell_type": "code",
   "execution_count": null,
   "id": "f71fadae-26ab-4bb7-8750-a366c60c3d89",
   "metadata": {
    "tags": []
   },
   "outputs": [],
   "source": [
    "from csv import reader\n",
    "file = open('fake_address_list.csv')\n",
    "address_contents = list(reader(file))\n",
    "file.close()"
   ]
  },
  {
   "cell_type": "markdown",
   "id": "5dba30c2-834c-4a04-a735-14579018ec29",
   "metadata": {
    "deletable": false,
    "editable": false
   },
   "source": [
    "**Question 5.1:** The `address_contents` variable contains the names and contact information for your party guests. Use it to create a list containing just the addresses (no names). Do not include the header (column name) in your list. "
   ]
  },
  {
   "cell_type": "code",
   "execution_count": null,
   "id": "2ba3a129-07bc-4e9d-9a37-39f76caf7c85",
   "metadata": {
    "tags": []
   },
   "outputs": [],
   "source": [
    "address_list = ...\n",
    "address_list"
   ]
  },
  {
   "cell_type": "code",
   "execution_count": null,
   "id": "b4e2dc29",
   "metadata": {
    "deletable": false,
    "editable": false
   },
   "outputs": [],
   "source": [
    "grader.check(\"q5_1\")"
   ]
  },
  {
   "cell_type": "markdown",
   "id": "2a779511-7549-4822-a623-e471187c177e",
   "metadata": {
    "deletable": false,
    "editable": false
   },
   "source": [
    "**Question 5.2:** Use regular expressions to separate the City, State, and Zip Code from each address. Assign the following variables:\n",
    "\n",
    "- `city`:  a list containing all the cities in your address list (preserving the order from the original file)\n",
    "- `state`: a list containing all the state appreviations in your address list (preserving order)\n",
    "- `zip_code`: a list containing all the zip codes (type int) in your address list (preserving order)"
   ]
  },
  {
   "cell_type": "code",
   "execution_count": null,
   "id": "8c281c39-7c8c-4557-87ba-2d5448dcc93a",
   "metadata": {
    "tags": []
   },
   "outputs": [],
   "source": [
    "city = ...\n",
    "city"
   ]
  },
  {
   "cell_type": "code",
   "execution_count": null,
   "id": "f61f9b00-a6c2-4db4-a370-9fcb4c20bf26",
   "metadata": {
    "tags": []
   },
   "outputs": [],
   "source": [
    "state = ...\n",
    "state"
   ]
  },
  {
   "cell_type": "code",
   "execution_count": null,
   "id": "1967eb51-bfba-4de3-a80c-4929750a0a07",
   "metadata": {
    "tags": []
   },
   "outputs": [],
   "source": [
    "zip_code = ...\n",
    "zip_code"
   ]
  },
  {
   "cell_type": "code",
   "execution_count": null,
   "id": "df1b70a8",
   "metadata": {
    "deletable": false,
    "editable": false
   },
   "outputs": [],
   "source": [
    "grader.check(\"q5_2\")"
   ]
  },
  {
   "cell_type": "markdown",
   "id": "0d8a497e-a0a9-48b6-a3b0-687520793b75",
   "metadata": {
    "deletable": false,
    "editable": false
   },
   "source": [
    "**Question 5.3:** Use regular expressions to separate the address lines from each address. Assign the following variables:\n",
    "\n",
    "- `address_line1`:  a list containing all the first lines of addresses in your address list (preserving the order from the original file)\n",
    "- `address_line2`: a list containing all the second lines of addresses in your address list (preserving order). For addresses with no second line, this should contain an empty string. \n",
    "\n",
    "As an example, for the address \n",
    "```python\n",
    "'404 Elm Blvd Apt 37, Denver, CO 48403'\n",
    "```\n",
    "\n",
    "The cooresponding element in `address_line1` should be \n",
    "```python\n",
    "'404 Elm Blvd'\n",
    "```\n",
    "and the cooresponding element in `address_line2` should be \n",
    "```python\n",
    "'Apt 37'\n",
    "```\n",
    "\n",
    "*HINT:* The second line in addresses start with either \"Apt\", \"Unit\", or \"Suite\"."
   ]
  },
  {
   "cell_type": "code",
   "execution_count": null,
   "id": "7023ec4b-a8d4-45f5-b6d7-163f096ad7e1",
   "metadata": {
    "tags": []
   },
   "outputs": [],
   "source": [
    "address_line1 = ...\n",
    "address_line1"
   ]
  },
  {
   "cell_type": "code",
   "execution_count": null,
   "id": "db5d7f06-36c3-4622-9de8-9fb78f2858ea",
   "metadata": {
    "tags": []
   },
   "outputs": [],
   "source": [
    "address_line2 = ...\n",
    "                 ...\n",
    "                 ...\n",
    "                 ...\n",
    "address_line2"
   ]
  },
  {
   "cell_type": "code",
   "execution_count": null,
   "id": "b6f768bf",
   "metadata": {
    "deletable": false,
    "editable": false
   },
   "outputs": [],
   "source": [
    "grader.check(\"q5_3\")"
   ]
  },
  {
   "cell_type": "markdown",
   "id": "16810abd",
   "metadata": {},
   "source": [
    "## Dessert\n",
    "\n",
    "#### Background: Bioinformatics\n",
    "The flexibility of regular expression is useful in many applications including bioinformatics.  A codon is a DNA or RNA sequence of 3 nucleotides that encodes a particular amino acid or gives a stop signal.  For DNA, there are three stop codons: TAG, TAA, and TGA.  If we want to match any sequence of DNA terminated by a stop codon, we can use this syntax:\n",
    "`([ACTG])+(TAG|TAA|TGA)`.\n",
    "- `[ACTG]` indicates any of the nucleotide bases (A, C, T, G) \n",
    "- the parentheses group patterns\n",
    "- `+` modifies the previous group to match one or more times\n",
    "- `(TAG|TAA|TGA)` indicates followed by one of the stop codons (the | notation signifies or)\n",
    "\n",
    "Curly brackets allow flexibility in terms of how many repetitions we are searching for.  For example, `(AT){10,100}` matches an \"AT\" repeated 10 to 100 times.  `(AT){10,}` matches an \"AT\" repeated 10 or more times (no upper bound).\n",
    "\n",
    "Open the .txt file *grape.txt* provided.  This file contains information about the Vitis vinifera (common grape) genome.  \n",
    "\n",
    "The GATA protein is a transcription factor and is important for regulating transcription (the process where cells make an RNA copy of a piece of DNA which will later be used to make proteins). It binds to any short DNA sequence which matches the pattern GATA with either an A or a T before and either a G or an A after.  For example, in this sequence \n",
    "- `AAAAAAATGATAGAAAAAGATAAAAAA`\n",
    "there are two matches (find the substring GATA, and then check that before you see an A or a T and after you see a G or an A).\n",
    "\n",
    "Given a specific string, we can use regular expression to find out how many times this motif occurs."
   ]
  },
  {
   "cell_type": "code",
   "execution_count": null,
   "id": "f4125f22",
   "metadata": {
    "tags": []
   },
   "outputs": [],
   "source": [
    "def count_motifs(seq, motif):\n",
    "    pieces = re.split(motif, seq)\n",
    "    return len(pieces) - 1\n",
    "\n",
    "seq = 'AAAAAAATGATAGAAAAAGATAAAAAA'\n",
    "count_motifs(seq, '[AT]GATA[GA]')"
   ]
  },
  {
   "cell_type": "markdown",
   "id": "21f3fa80-7195-4108-a430-5c3a78bfc390",
   "metadata": {},
   "source": [
    "Huntington's Disease is a neurogenerative disorder and is linked to the anomalous expansion of the number of tribucleotide repeats in particular genes.  Human beings have 23 pairs of chromosomes in our cells and each of our parents contributes one chromosome to each pair. The gene that causes Huntington's Disease (HD) is found on chromosome 4.  Each of us gets one copy of the gene from our mother and one copy from our father.\n",
    "\n",
    "The gene responsible for HD contains a sequence with several CAG repeats (cytosine, adenine, guanine which are bases forming this specific codon). We all have these CAG repeats in the gene that codes for the huntingtin protein, but people with HD have a greater number than usual of CAG repeats in one of the genes they inherited.  (This protein is found in many of the body's tissues, with the highest levels of activity in the brain. Within cells, this protein may be involved in chemical signaling, transporting materials, binding to proteins and other structures, etc.)\n",
    "\n",
    "The actual number of repeats of a specific codon determines the risk of developing HD. More than 35 repeats virtually assures the disease.  In this task, we will use regular expression to find the number of repeats of the CAG codon in a specific mRNA sequence. \n",
    "\n",
    "Run the cell below to import data from the *HTTmRNA.txt* file ([source](https://www.ncbi.nlm.nih.gov/nuccore/NM_002111.8?report=fasta))."
   ]
  },
  {
   "cell_type": "code",
   "execution_count": null,
   "id": "d33fe69d-c014-44ae-b811-1012646bb0b8",
   "metadata": {
    "tags": []
   },
   "outputs": [],
   "source": [
    "fhand = open('HTTmRNA.txt')\n",
    "htt_mRNA = fhand.read()\n",
    "fhand.close()"
   ]
  },
  {
   "cell_type": "markdown",
   "id": "2456ad4b",
   "metadata": {
    "deletable": false,
    "editable": false
   },
   "source": [
    "**Question 6.1:** Use regular expression to determine how many times CAG is repeated. \n",
    "\n",
    "**Tips:**\n",
    "- `htt_mRNA` contains some new lines (`\\n`). Remove the new lines before looking for the repeating CAG pattern.\n",
    "- You may have to play around with the pattern to figure this out. "
   ]
  },
  {
   "cell_type": "code",
   "execution_count": null,
   "id": "7d2766bb",
   "metadata": {
    "tags": []
   },
   "outputs": [],
   "source": [
    "htt_mRNA_cleaned = ...\n",
    "htt_pattern = ...\n",
    "match = ...\n",
    "...\n",
    "num_repeats = ..."
   ]
  },
  {
   "cell_type": "code",
   "execution_count": null,
   "id": "ec899ff3",
   "metadata": {
    "deletable": false,
    "editable": false
   },
   "outputs": [],
   "source": [
    "grader.check(\"q6_1\")"
   ]
  },
  {
   "cell_type": "markdown",
   "id": "7c0921a1-60d0-4ecb-835b-3b4bb96aa9a6",
   "metadata": {
    "deletable": false,
    "editable": false
   },
   "source": [
    "**Question 6.2:** Based on your result from the previous problem, do you think the mRNA sequence indicates a high probability of Huntington's Disease?"
   ]
  },
  {
   "cell_type": "markdown",
   "id": "0a4b8b66-0cbb-4553-bc77-f00e0b457bcd",
   "metadata": {
    "deletable": true,
    "tags": []
   },
   "source": [
    "*Type your answer, replacing this text.*"
   ]
  },
  {
   "cell_type": "markdown",
   "id": "0801a99b",
   "metadata": {},
   "source": [
    "### Submission\n",
    "Congratulations on finishing Lab 3! Gus is very proud of you. Run the cell below to download a zip and upload to Canvas. \n",
    "\n",
    "<img src=\"gus_spies_on_neighbors.JPG\" alt=\"drawing\" width=\"300\"/>\n",
    "\n",
    "### References\n",
    "If you want to read more about these topics, check out these sources.\n",
    "- Python for Everybody: Exploring Data in Python 3 by Charles Severance.  https://www.py4e.com/book.php\n",
    "- Möncke‐Buchner, Elisabeth, et al. \"Counting CAG repeats in the Huntington’s disease gene by restriction endonuclease Eco P15I cleavage.\" Nucleic Acids Research 30.16 (2002): e83-e83.\n",
    "- A Primer for Computational Biology by Shawn T. ONeil https://open.oregonstate.education/computationalbiology/chapter/bioinformatics-knick-knacks-and-regular-expressions/\n",
    "- Using Regular Expression in Genetics with Python by Stephen Fordham.  https://towardsdatascience.com/using-regular-expression-in-genetics-with-python-175e2b9395c2"
   ]
  },
  {
   "cell_type": "markdown",
   "id": "0f0d4885",
   "metadata": {
    "deletable": false,
    "editable": false
   },
   "source": [
    "## Submission\n",
    "\n",
    "Make sure you have run all cells in your notebook in order before running the cell below, so that all images/graphs appear in the output. The cell below will generate a zip file for you to submit. **Please save before exporting!**"
   ]
  },
  {
   "cell_type": "code",
   "execution_count": null,
   "id": "52f8e2a4",
   "metadata": {
    "deletable": false,
    "editable": false
   },
   "outputs": [],
   "source": [
    "# Save your notebook first, then run this cell to export your submission.\n",
    "grader.export(pdf=False, run_tests=True)"
   ]
  },
  {
   "cell_type": "markdown",
   "id": "4145f874",
   "metadata": {},
   "source": [
    " "
   ]
  }
 ],
 "metadata": {
  "kernelspec": {
   "display_name": "Python 3 (ipykernel)",
   "language": "python",
   "name": "python3"
  },
  "language_info": {
   "codemirror_mode": {
    "name": "ipython",
    "version": 3
   },
   "file_extension": ".py",
   "mimetype": "text/x-python",
   "name": "python",
   "nbconvert_exporter": "python",
   "pygments_lexer": "ipython3",
   "version": "3.11.4"
  },
  "otter": {
   "OK_FORMAT": true,
   "tests": {
    "q2_1": {
     "name": "q2_1",
     "points": null,
     "suites": [
      {
       "cases": [
        {
         "code": ">>> from_lines != []\nTrue",
         "hidden": false,
         "locked": false
        },
        {
         "code": ">>> len(from_lines)\n528",
         "hidden": false,
         "locked": false
        },
        {
         "code": ">>> from_lines[0]\n'From stephen.marquard@uct.ac.za Sat Jan  5 09:14:16 2008'",
         "hidden": false,
         "locked": false
        },
        {
         "code": ">>> from_lines[8]\n'From zqian@umich.edu Fri Jan  4 15:03:18 2008'",
         "hidden": false,
         "locked": false
        }
       ],
       "scored": true,
       "setup": "",
       "teardown": "",
       "type": "doctest"
      }
     ]
    },
    "q2_2": {
     "name": "q2_2",
     "points": null,
     "suites": [
      {
       "cases": [
        {
         "code": ">>> from_addresses != []\nTrue",
         "hidden": false,
         "locked": false
        },
        {
         "code": ">>> len(from_addresses)\n264",
         "hidden": false,
         "locked": false
        },
        {
         "code": ">>> from_addresses[0]\n'From: stephen.marquard@uct.ac.za'",
         "hidden": false,
         "locked": false
        },
        {
         "code": ">>> from_addresses[8]\n'From: stuart.freeman@et.gatech.edu'",
         "hidden": false,
         "locked": false
        }
       ],
       "scored": true,
       "setup": "",
       "teardown": "",
       "type": "doctest"
      }
     ]
    },
    "q2_3": {
     "name": "q2_3",
     "points": null,
     "suites": [
      {
       "cases": [
        {
         "code": ">>> contacts != []\nTrue",
         "hidden": false,
         "locked": false
        },
        {
         "code": ">>> len(contacts)\n30",
         "hidden": false,
         "locked": false
        },
        {
         "code": ">>> 'hu2@iupui.edu' in contacts\nTrue",
         "hidden": false,
         "locked": false
        },
        {
         "code": ">>> 'a.fish@lancaster.ac.uk' in contacts\nTrue",
         "hidden": false,
         "locked": false
        }
       ],
       "scored": true,
       "setup": "",
       "teardown": "",
       "type": "doctest"
      }
     ]
    },
    "q2_4": {
     "name": "q2_4",
     "points": null,
     "suites": [
      {
       "cases": [
        {
         "code": ">>> hour_of_day != []\nTrue",
         "hidden": false,
         "locked": false
        },
        {
         "code": ">>> type(hour_of_day) == list\nTrue",
         "hidden": false,
         "locked": false
        },
        {
         "code": ">>> len(hour_of_day)\n264",
         "hidden": false,
         "locked": false
        },
        {
         "code": ">>> hour_of_day[0:5]\n['09', '18', '16', '15', '15']",
         "hidden": false,
         "locked": false
        }
       ],
       "scored": true,
       "setup": "",
       "teardown": "",
       "type": "doctest"
      }
     ]
    },
    "q3_1": {
     "name": "q3_1",
     "points": null,
     "suites": [
      {
       "cases": [
        {
         "code": ">>> number != ...\nTrue",
         "hidden": false,
         "locked": false
        },
        {
         "code": ">>> type(number) == float\nTrue",
         "hidden": false,
         "locked": false
        },
        {
         "code": ">>> number\n0.8475",
         "hidden": false,
         "locked": false
        }
       ],
       "scored": true,
       "setup": "",
       "teardown": "",
       "type": "doctest"
      }
     ]
    },
    "q3_2": {
     "name": "q3_2",
     "points": null,
     "suites": [
      {
       "cases": [
        {
         "code": ">>> number_with_re != ...\nTrue",
         "hidden": false,
         "locked": false
        },
        {
         "code": ">>> type(number_with_re) == float\nTrue",
         "hidden": false,
         "locked": false
        },
        {
         "code": ">>> number_with_re\n0.8475",
         "hidden": false,
         "locked": false
        },
        {
         "code": ">>> float(re.findall(regex, phrase)[0])\n0.8475",
         "hidden": false,
         "locked": false
        }
       ],
       "scored": true,
       "setup": "",
       "teardown": "",
       "type": "doctest"
      }
     ]
    },
    "q4_1": {
     "name": "q4_1",
     "points": null,
     "suites": [
      {
       "cases": [
        {
         "code": ">>> numbers_sum != []\nTrue",
         "hidden": false,
         "locked": false
        },
        {
         "code": ">>> type(numbers_sum) == int\nTrue",
         "hidden": false,
         "locked": false
        },
        {
         "code": ">>> numbers_sum\n406927",
         "hidden": false,
         "locked": false
        }
       ],
       "scored": true,
       "setup": "",
       "teardown": "",
       "type": "doctest"
      }
     ]
    },
    "q5_1": {
     "name": "q5_1",
     "points": null,
     "suites": [
      {
       "cases": [
        {
         "code": ">>> address_list != []\nTrue",
         "hidden": false,
         "locked": false
        },
        {
         "code": ">>> type(address_list) == list\nTrue",
         "hidden": false,
         "locked": false
        },
        {
         "code": ">>> len(address_list)\n25",
         "hidden": false,
         "locked": false
        },
        {
         "code": ">>> address_list[0]\n'123 Maple St, Springfield, IL 85039'",
         "hidden": false,
         "locked": false
        }
       ],
       "scored": true,
       "setup": "",
       "teardown": "",
       "type": "doctest"
      }
     ]
    },
    "q5_2": {
     "name": "q5_2",
     "points": null,
     "suites": [
      {
       "cases": [
        {
         "code": ">>> city != [] and state != [] and (zip_code != [])\nTrue",
         "hidden": false,
         "locked": false
        },
        {
         "code": ">>> type(city) == list and type(state) == list and (type(zip_code) == list)\nTrue",
         "hidden": false,
         "locked": false
        },
        {
         "code": ">>> city[1]\n'Los Angeles'",
         "hidden": false,
         "locked": false
        },
        {
         "code": ">>> state[0]\n'IL'",
         "hidden": false,
         "locked": false
        },
        {
         "code": ">>> zip_code[0]\n85039",
         "hidden": false,
         "locked": false
        }
       ],
       "scored": true,
       "setup": "",
       "teardown": "",
       "type": "doctest"
      }
     ]
    },
    "q5_3": {
     "name": "q5_3",
     "points": null,
     "suites": [
      {
       "cases": [
        {
         "code": ">>> address_line1 != [] and address_line2 != []\nTrue",
         "hidden": false,
         "locked": false
        },
        {
         "code": ">>> len(address_line2)\n25",
         "hidden": false,
         "locked": false
        },
        {
         "code": ">>> address_line1[12]\n'111 Fir St'",
         "hidden": false,
         "locked": false
        },
        {
         "code": ">>> address_line2[12]\n'Apt 9D'",
         "hidden": false,
         "locked": false
        },
        {
         "code": ">>> address_line1[0]\n'123 Maple St'",
         "hidden": false,
         "locked": false
        },
        {
         "code": ">>> address_line2[0]\n''",
         "hidden": false,
         "locked": false
        }
       ],
       "scored": true,
       "setup": "",
       "teardown": "",
       "type": "doctest"
      }
     ]
    },
    "q6_1": {
     "name": "q6_1",
     "points": null,
     "suites": [
      {
       "cases": [
        {
         "code": ">>> num_repeats\n21",
         "hidden": false,
         "locked": false
        }
       ],
       "scored": true,
       "setup": "",
       "teardown": "",
       "type": "doctest"
      }
     ]
    }
   }
  }
 },
 "nbformat": 4,
 "nbformat_minor": 5
}
