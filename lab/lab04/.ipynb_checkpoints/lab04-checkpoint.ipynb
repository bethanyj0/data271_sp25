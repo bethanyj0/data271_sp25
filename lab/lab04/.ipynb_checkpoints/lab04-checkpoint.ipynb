{
 "cells": [
  {
   "cell_type": "code",
   "execution_count": null,
   "id": "cf10104a",
   "metadata": {
    "deletable": false,
    "editable": false
   },
   "outputs": [],
   "source": [
    "# Initialize Otter\n",
    "import otter\n",
    "grader = otter.Notebook(\"lab04.ipynb\")"
   ]
  },
  {
   "cell_type": "markdown",
   "id": "b614fca3",
   "metadata": {},
   "source": [
    "# Intro to Numpy \n",
    "Welcome to Lab 4 of DATA 271! In this lab we will get practice with the Numpy library. This lab contains small tasks (\"appetizers\") for you to make sure you understand the examples. The culminating task (\"main course\") at the end of the document is more complex, and uses most of the topics you have will have worked through.\n",
    "\n",
    "\n",
    "## Overview\n",
    "Numpy (which stands for numerical Python) is one of Python's most vital libraries for data science.  Its key data format is the array (ndarray), which is useful for numerical and scientific computational tasks.  The ndarray is a multidimensional array which provides fast array-oriented arithmetic operations (without having to write loops).  Computations performed this way are called vectorized.  This results in concise code that is easy to read, as well as speed compared to element-by-element computation.\n",
    "\n",
    "Having familiarity with array-oriented semantics will help us use future tools (like Pandas) more effectively.  Numpy is the foundation for nearly all numerical libraries for Python. \n",
    "\n",
    "The main areas of functionality we will focus on are\n",
    "- fast vectorized array operations for data munging and cleaning, subsetting, filtering, and transforming\n",
    "- common array algorithms such as sorting, unique and set operations\n",
    "- using descriptive statistics and aggregating/summarizing data\n",
    "- group-wise data manipultions\n",
    "\n",
    "Numpy also has statistical functions, random number functions, a linear algebra library, and other functionality."
   ]
  },
  {
   "cell_type": "markdown",
   "id": "3de4e41e-d0db-40b0-b1d0-1be554d08fb6",
   "metadata": {},
   "source": [
    "## Appetizers"
   ]
  },
  {
   "cell_type": "markdown",
   "id": "956aa6d2-e818-487f-8246-5a1d93ae18b1",
   "metadata": {
    "deletable": false,
    "editable": false
   },
   "source": [
    "**Question 0:** Import the numpy module. "
   ]
  },
  {
   "cell_type": "code",
   "execution_count": null,
   "id": "78c6f2e4-31ce-41ae-8820-4b5d3dd30424",
   "metadata": {
    "tags": []
   },
   "outputs": [],
   "source": []
  },
  {
   "cell_type": "markdown",
   "id": "7ffbc0f8",
   "metadata": {},
   "source": [
    "#### 1. Creating arrays explicitly\n",
    "We can explictily generate small arrays using the `np.array` function.  The function takes a nested list where each element in the outer list contains the entries for a row in the array.  For larger arrays, it would be tedious to enter data by hand."
   ]
  },
  {
   "cell_type": "markdown",
   "id": "66d39d91",
   "metadata": {
    "deletable": false,
    "editable": false
   },
   "source": [
    "**Question 1:** Create a 2D array \\begin{bmatrix}\n",
    "1 & 6 & 3\\\\\n",
    "0 & 2 & 1\n",
    "\\end{bmatrix}\n",
    "and determine the number of dimensions, the shape, and the size using array attributes. "
   ]
  },
  {
   "cell_type": "code",
   "execution_count": null,
   "id": "cdfacbf9",
   "metadata": {
    "tags": []
   },
   "outputs": [],
   "source": [
    "my_array = ...\n",
    "\n",
    "number_of_dimensions = ...\n",
    "shape_of_my_array = ...\n",
    "size_of_my_array = ..."
   ]
  },
  {
   "cell_type": "code",
   "execution_count": null,
   "id": "8805a03d",
   "metadata": {
    "deletable": false,
    "editable": false
   },
   "outputs": [],
   "source": [
    "grader.check(\"q1\")"
   ]
  },
  {
   "cell_type": "markdown",
   "id": "f3f518a7",
   "metadata": {},
   "source": [
    "#### 2. Creating arrays that follow specific rules\n",
    "Numpy has a number of functions to create arrays of a specific type. Some examples include:\n",
    "- `np.zeros((m, n))` creates an array of size m x n with all zeros\n",
    "- `np.ones((m, n))` creates an array of size m x n with all ones\n",
    "- `np.full((m, n), i)` creates a m x n array with i in each entry\n",
    "- `np.eye(n)` creates a n x n array with ones on the diagonal and zeros elsewhere (the identity matrix)\n",
    "- `np.linspace(i, j, n)` creates an array of n evenly divided values between i and j\n",
    "- `np.arange(i, j, s)` creates an array of values from i up to but not including j with step size of s"
   ]
  },
  {
   "cell_type": "markdown",
   "id": "1bf47600",
   "metadata": {
    "deletable": true,
    "tags": []
   },
   "source": [
    "**Question 2:** Create the following arrays:\n",
    "- Assign `A` to a 2 x 3 array filled with the number 7 (int)\n",
    "- Assign `B` to a 4 x 4 identity array (ones on the diagonal and zeros everywhere else). Make each entry an int. \n",
    "- Assign `C` to a one-dimensional array with 5 numbers total which are evenly spaced and with first entry a 2 and last entry a 3\n",
    "- Assign `D` to a one-dimensional array with the integers 0, 1, 2\n",
    "- Assign `E` to a 4 x 4 array with the integers 0, 5, 10, 15 on the diagonal and zeros elsewhere.  \n",
    "Feel free to use online documentation.  If there are multiple ways to create the same array, demonstrate several."
   ]
  },
  {
   "cell_type": "code",
   "execution_count": null,
   "id": "574c2bc5",
   "metadata": {
    "scrolled": true,
    "tags": []
   },
   "outputs": [],
   "source": [
    "# option 1\n",
    "A = ...\n",
    "A\n",
    "# option 2\n",
    "A = ...\n",
    "A"
   ]
  },
  {
   "cell_type": "code",
   "execution_count": null,
   "id": "613bc95e",
   "metadata": {
    "tags": []
   },
   "outputs": [],
   "source": [
    "B = ...\n",
    "B"
   ]
  },
  {
   "cell_type": "code",
   "execution_count": null,
   "id": "e7e45184",
   "metadata": {
    "tags": []
   },
   "outputs": [],
   "source": [
    "C = ...\n",
    "C"
   ]
  },
  {
   "cell_type": "code",
   "execution_count": null,
   "id": "4e5656ac",
   "metadata": {
    "tags": []
   },
   "outputs": [],
   "source": [
    "# option 1\n",
    "D = ...\n",
    "D\n",
    "# option 2\n",
    "D = ...\n",
    "D"
   ]
  },
  {
   "cell_type": "code",
   "execution_count": null,
   "id": "569b555e",
   "metadata": {
    "scrolled": true,
    "tags": []
   },
   "outputs": [],
   "source": [
    "# option 1\n",
    "E = ...\n",
    "E\n",
    "# option 2\n",
    "E = ...\n",
    "E"
   ]
  },
  {
   "cell_type": "code",
   "execution_count": null,
   "id": "b769b221",
   "metadata": {
    "deletable": false,
    "editable": false
   },
   "outputs": [],
   "source": [
    "grader.check(\"q2\")"
   ]
  },
  {
   "cell_type": "markdown",
   "id": "cfbec832",
   "metadata": {},
   "source": [
    "#### 3. Indexing and Slicing\n",
    "Elements and subarrays of NumPy arrays are accessed using the standard square bracket notation that is also used with Python lists.  In general, the expression in the bracket is a tuple where each item in the tuple is a specifiction of which elements to access from each axis (dimension) of the array."
   ]
  },
  {
   "cell_type": "markdown",
   "id": "cb5a6c7a",
   "metadata": {
    "deletable": false,
    "editable": false
   },
   "source": [
    "**Question 3.1:** Create a one dimensional array `array1` with 5 evenly spaced entries starting at 2 and ending at 14 (floats). "
   ]
  },
  {
   "cell_type": "code",
   "execution_count": null,
   "id": "8a9cdf1b",
   "metadata": {
    "tags": []
   },
   "outputs": [],
   "source": [
    "array1 = ...\n",
    "array1"
   ]
  },
  {
   "cell_type": "code",
   "execution_count": null,
   "id": "d856865c",
   "metadata": {
    "deletable": false,
    "editable": false
   },
   "outputs": [],
   "source": [
    "grader.check(\"q3_1\")"
   ]
  },
  {
   "cell_type": "markdown",
   "id": "3c5efb7b",
   "metadata": {
    "deletable": false,
    "editable": false
   },
   "source": [
    "**Question 3.2:** Select the third element of `array1`."
   ]
  },
  {
   "cell_type": "code",
   "execution_count": null,
   "id": "854736ef",
   "metadata": {
    "tags": []
   },
   "outputs": [],
   "source": [
    "third_element = ...\n",
    "third_element"
   ]
  },
  {
   "cell_type": "code",
   "execution_count": null,
   "id": "e70b590d",
   "metadata": {
    "deletable": false,
    "editable": false
   },
   "outputs": [],
   "source": [
    "grader.check(\"q3_2\")"
   ]
  },
  {
   "cell_type": "markdown",
   "id": "c73894a6",
   "metadata": {
    "deletable": false,
    "editable": false
   },
   "source": [
    "**Question 3.3:** Select the second to last element of `array1`."
   ]
  },
  {
   "cell_type": "code",
   "execution_count": null,
   "id": "467c0ea3",
   "metadata": {
    "tags": []
   },
   "outputs": [],
   "source": [
    "second_to_last = ...\n",
    "second_to_last"
   ]
  },
  {
   "cell_type": "code",
   "execution_count": null,
   "id": "f5e67c0f",
   "metadata": {
    "deletable": false,
    "editable": false
   },
   "outputs": [],
   "source": [
    "grader.check(\"q3_3\")"
   ]
  },
  {
   "cell_type": "markdown",
   "id": "11b00993",
   "metadata": {
    "deletable": false,
    "editable": false
   },
   "source": [
    "**Question 3.4:** Select from the second element to last element of `array1`."
   ]
  },
  {
   "cell_type": "code",
   "execution_count": null,
   "id": "5957cbd0",
   "metadata": {
    "tags": []
   },
   "outputs": [],
   "source": [
    "second_element_to_last = ...\n",
    "second_element_to_last"
   ]
  },
  {
   "cell_type": "code",
   "execution_count": null,
   "id": "b517d140",
   "metadata": {
    "deletable": false,
    "editable": false
   },
   "outputs": [],
   "source": [
    "grader.check(\"q3_4\")"
   ]
  },
  {
   "cell_type": "markdown",
   "id": "f71357ee",
   "metadata": {
    "deletable": false,
    "editable": false
   },
   "source": [
    "**Question 3.5:** Reverse the order of `array1`."
   ]
  },
  {
   "cell_type": "code",
   "execution_count": null,
   "id": "3b3ece0a",
   "metadata": {
    "tags": []
   },
   "outputs": [],
   "source": [
    "reversed_array1 = ...\n",
    "reversed_array1"
   ]
  },
  {
   "cell_type": "code",
   "execution_count": null,
   "id": "5b2ed5d5",
   "metadata": {
    "deletable": false,
    "editable": false
   },
   "outputs": [],
   "source": [
    "grader.check(\"q3_5\")"
   ]
  },
  {
   "cell_type": "markdown",
   "id": "51d698f9",
   "metadata": {},
   "source": [
    "#### 4. Views vs copies\n",
    "Subarrays extracted from arrays using slicing and indexing are alternative views of the same underlying array data (they are arrays that refer to the same data in the memory as the original array).  If elements in views are assigned new values, the values of the original array are updated.  Be aware of this.\n",
    "\n",
    "If you would prefer to have a copy rather than a view (so you don't overwrite original data), you can use the `.copy()` method.  Then changes to the copy do not affect the original array."
   ]
  },
  {
   "cell_type": "markdown",
   "id": "82a2849f",
   "metadata": {
    "deletable": false,
    "editable": false
   },
   "source": [
    "**Question 4.1:** Create an array `array2`, \\begin{bmatrix}\n",
    "1 & 2 & 3 & 4 & 5\\\\\n",
    "6 & 7 & 8 & 9 & 10\\\\\n",
    "11 & 12 & 13 & 14 & 15\n",
    "\\end{bmatrix}"
   ]
  },
  {
   "cell_type": "code",
   "execution_count": null,
   "id": "37d02ad7",
   "metadata": {
    "tags": []
   },
   "outputs": [],
   "source": [
    "array2 = ...\n",
    "array2"
   ]
  },
  {
   "cell_type": "code",
   "execution_count": null,
   "id": "4817c9af",
   "metadata": {
    "deletable": false,
    "editable": false
   },
   "outputs": [],
   "source": [
    "grader.check(\"q4_1\")"
   ]
  },
  {
   "cell_type": "markdown",
   "id": "1b7af9a0",
   "metadata": {
    "deletable": false,
    "editable": false
   },
   "source": [
    "**Question 4.2:** Make a copy of `array2` called `array2_copy`. "
   ]
  },
  {
   "cell_type": "code",
   "execution_count": null,
   "id": "ebf5a5d7",
   "metadata": {
    "tags": []
   },
   "outputs": [],
   "source": []
  },
  {
   "cell_type": "code",
   "execution_count": null,
   "id": "e9e26ab2",
   "metadata": {
    "deletable": false,
    "editable": false
   },
   "outputs": [],
   "source": [
    "grader.check(\"q4_2\")"
   ]
  },
  {
   "cell_type": "markdown",
   "id": "934dc5f2",
   "metadata": {
    "deletable": true,
    "tags": []
   },
   "source": [
    "**Question 4.3:** In `array2_copy`, replace the element in the first row and first column with the number $27$."
   ]
  },
  {
   "cell_type": "code",
   "execution_count": null,
   "id": "f8833475",
   "metadata": {
    "tags": []
   },
   "outputs": [],
   "source": []
  },
  {
   "cell_type": "code",
   "execution_count": null,
   "id": "bc64b273",
   "metadata": {
    "deletable": false,
    "editable": false
   },
   "outputs": [],
   "source": [
    "grader.check(\"q4_3\")"
   ]
  },
  {
   "cell_type": "markdown",
   "id": "e686b354",
   "metadata": {
    "deletable": false,
    "editable": false
   },
   "source": [
    "**Question 4.4:** Extract a subarray from `array2_copy` by taking every other element in the second and third rows."
   ]
  },
  {
   "cell_type": "code",
   "execution_count": null,
   "id": "d6b8da20",
   "metadata": {
    "tags": []
   },
   "outputs": [],
   "source": [
    "subarray = ...\n",
    "subarray"
   ]
  },
  {
   "cell_type": "code",
   "execution_count": null,
   "id": "bffc06ee",
   "metadata": {
    "deletable": false,
    "editable": false
   },
   "outputs": [],
   "source": [
    "grader.check(\"q4_4\")"
   ]
  },
  {
   "cell_type": "markdown",
   "id": "bb0aae86-7da1-4a85-a97a-8482b4388df7",
   "metadata": {
    "deletable": false,
    "editable": false
   },
   "source": [
    "**Question 4.5:** Update the element in the second row, second column of `subarray` to 12. "
   ]
  },
  {
   "cell_type": "code",
   "execution_count": null,
   "id": "279dc16c-e359-4718-afe8-fc75510c5e63",
   "metadata": {
    "tags": []
   },
   "outputs": [],
   "source": []
  },
  {
   "cell_type": "code",
   "execution_count": null,
   "id": "78fc3314",
   "metadata": {
    "deletable": false,
    "editable": false
   },
   "outputs": [],
   "source": [
    "grader.check(\"q4_5\")"
   ]
  },
  {
   "cell_type": "markdown",
   "id": "b818924e",
   "metadata": {
    "deletable": false,
    "editable": false
   },
   "source": [
    "**Question 4.6:** Verify that the original array has not been modified. "
   ]
  },
  {
   "cell_type": "code",
   "execution_count": null,
   "id": "6f8b34ba",
   "metadata": {
    "tags": []
   },
   "outputs": [],
   "source": []
  },
  {
   "cell_type": "code",
   "execution_count": null,
   "id": "89f87f42",
   "metadata": {
    "deletable": false,
    "editable": false
   },
   "outputs": [],
   "source": [
    "grader.check(\"q4_6\")"
   ]
  },
  {
   "cell_type": "markdown",
   "id": "dcaba9ff",
   "metadata": {},
   "source": [
    "#### 5. Fancy and Boolean Valued Indexing\n",
    "Fancy indexing allows us to index an array with another NumPy array or a Python list.  We can also index with boolean values.\n",
    "In these instances, the array returned is not a view but a new, independent array."
   ]
  },
  {
   "cell_type": "markdown",
   "id": "ba453b03",
   "metadata": {
    "deletable": false,
    "editable": false
   },
   "source": [
    "**Question 5.1:** Create the following one-dimenstional array `array3` containing $3,4,6,10,24,89,45,43,46,99,100$. Use Boolean masking to extract all the numbers that are not divisible by 3. "
   ]
  },
  {
   "cell_type": "code",
   "execution_count": null,
   "id": "f94e2139",
   "metadata": {
    "tags": []
   },
   "outputs": [],
   "source": [
    "array3 = ...\n",
    "not_div_3 = ...\n",
    "not_div_3"
   ]
  },
  {
   "cell_type": "code",
   "execution_count": null,
   "id": "21a1d842",
   "metadata": {
    "deletable": false,
    "editable": false
   },
   "outputs": [],
   "source": [
    "grader.check(\"q5_1\")"
   ]
  },
  {
   "cell_type": "markdown",
   "id": "df2cfe87",
   "metadata": {
    "deletable": false,
    "editable": false
   },
   "source": [
    "**Question 5.2:** Using `array3` and Boolean masking, extract the numbers which are divisible by 5. "
   ]
  },
  {
   "cell_type": "code",
   "execution_count": null,
   "id": "6ae21c35",
   "metadata": {
    "tags": []
   },
   "outputs": [],
   "source": [
    "div5 = ...\n",
    "div5"
   ]
  },
  {
   "cell_type": "code",
   "execution_count": null,
   "id": "4f3c7e0a",
   "metadata": {
    "deletable": false,
    "editable": false
   },
   "outputs": [],
   "source": [
    "grader.check(\"q5_2\")"
   ]
  },
  {
   "cell_type": "markdown",
   "id": "64bfceef",
   "metadata": {
    "deletable": false,
    "editable": false
   },
   "source": [
    "**Question 5.3:** Using `array3` and Boolean masking, extract the numbers which are divisible by 3 and by 5. "
   ]
  },
  {
   "cell_type": "code",
   "execution_count": null,
   "id": "8705471f",
   "metadata": {
    "tags": []
   },
   "outputs": [],
   "source": [
    "div3_and_5 = ...\n",
    "div3_and_5"
   ]
  },
  {
   "cell_type": "code",
   "execution_count": null,
   "id": "e4d2aa44",
   "metadata": {
    "deletable": false,
    "editable": false
   },
   "outputs": [],
   "source": [
    "grader.check(\"q5_3\")"
   ]
  },
  {
   "cell_type": "markdown",
   "id": "0abd837c",
   "metadata": {
    "deletable": false,
    "editable": false
   },
   "source": [
    "**Question 5.4:** Using `array3` and Boolean masking, update the values that are divisible by 3 in the original array to 42."
   ]
  },
  {
   "cell_type": "code",
   "execution_count": null,
   "id": "d19fc5f9",
   "metadata": {
    "tags": []
   },
   "outputs": [],
   "source": [
    "array3"
   ]
  },
  {
   "cell_type": "code",
   "execution_count": null,
   "id": "e1af4c04",
   "metadata": {
    "deletable": false,
    "editable": false
   },
   "outputs": [],
   "source": [
    "grader.check(\"q5_4\")"
   ]
  },
  {
   "cell_type": "markdown",
   "id": "8dedd04f",
   "metadata": {},
   "source": [
    "#### 6. Reshaping and Resizing Arrays\n",
    "When working with data in arrays, it can be useful to rearrange the arrays and alter the way they are interpreted.  For example, an $N \\times N$ array can be rearranged into a vector of length $N^2$ or several vectors can be concatenated into a longer vector or stacked into a matrix.  Reshaping an array does not modify the underlying array data, and produces a view of the array (if a copy is needed, use `np.copy()`).  It is necessary that the requested new shape match the number of elements in the original array.\n",
    "The `ravel()` function is a special case of reshape which returns a flattened one dimensional array.\n",
    "The functions `vstack()` and `hstack()` allows the joining of arrays either vertically or horizontally."
   ]
  },
  {
   "cell_type": "markdown",
   "id": "2b280a8f",
   "metadata": {
    "deletable": false,
    "editable": false
   },
   "source": [
    "**Question 6.1:** Use array methods to reshape the array  `[1,2,3,4,5,6,7,8,9,10,11,12]` into the 2d array below. \n",
    "\n",
    "\\begin{bmatrix}\n",
    "1 & 4 & 7 & 10 \\\\\n",
    "2 & 5 & 8 & 11 \\\\\n",
    "3 & 6 & 9 & 12\n",
    "\\end{bmatrix}"
   ]
  },
  {
   "cell_type": "code",
   "execution_count": null,
   "id": "9c5f38ab",
   "metadata": {
    "tags": []
   },
   "outputs": [],
   "source": [
    "orig_array = np.array([1,2,3,4,5,6,7,8,9,10,11,12])\n",
    "reshaped_array = ...\n",
    "reshaped_array"
   ]
  },
  {
   "cell_type": "code",
   "execution_count": null,
   "id": "666f1c6d",
   "metadata": {
    "deletable": false,
    "editable": false
   },
   "outputs": [],
   "source": [
    "grader.check(\"q6_1\")"
   ]
  },
  {
   "cell_type": "markdown",
   "id": "3c9d6503",
   "metadata": {
    "deletable": false,
    "editable": false
   },
   "source": [
    "<!-- BEGIN QUESTION -->\n",
    "\n",
    "**Question 6.2:** Is it possible to reshape the previous array into an array with 2 rows and 5 columns? Why or why not?"
   ]
  },
  {
   "cell_type": "markdown",
   "id": "da3127ca",
   "metadata": {},
   "source": [
    "_Type your answer here, replacing this text._"
   ]
  },
  {
   "cell_type": "markdown",
   "id": "32536fee",
   "metadata": {
    "deletable": false,
    "editable": false
   },
   "source": [
    "<!-- END QUESTION -->\n",
    "\n",
    "**Question 6.3:** Create the array below and then flatten it to a one dimensional array containing the numbers 1 through 15 in order. \n",
    "\n",
    "\\begin{bmatrix}\n",
    "1 & 2 & 3 & 4 & 5\\\\\n",
    "6 & 7 & 8 & 9 & 10\\\\\n",
    "11 & 12 & 13 & 14 & 15\n",
    "\\end{bmatrix}"
   ]
  },
  {
   "cell_type": "code",
   "execution_count": null,
   "id": "398ff3bb",
   "metadata": {
    "tags": []
   },
   "outputs": [],
   "source": [
    "big_ndarray = ...\n",
    "flattened_array = ...\n",
    "flattened_array"
   ]
  },
  {
   "cell_type": "code",
   "execution_count": null,
   "id": "e2318b3d",
   "metadata": {
    "deletable": false,
    "editable": false
   },
   "outputs": [],
   "source": [
    "grader.check(\"q6_3\")"
   ]
  },
  {
   "cell_type": "markdown",
   "id": "f7a28d4e",
   "metadata": {
    "deletable": false,
    "editable": false
   },
   "source": [
    "**Question 6.4:** Create an array called `base_array`, $[1, 2, 3]$ and use array operations to build the following matrices:  \n",
    "`m1` = \n",
    "    $\\begin{bmatrix}\n",
    "1 & 2 & 3\\\\\n",
    "1 & 2 & 3 \\\\\n",
    "1 & 2 & 3 \n",
    "\\end{bmatrix}$ \n",
    "\n",
    "`m2`=\n",
    "$\\begin{bmatrix}\n",
    "1 & 1 & 1\\\\\n",
    "2 & 2 & 2 \\\\\n",
    "3 & 3 & 3 \n",
    "\\end{bmatrix}$"
   ]
  },
  {
   "cell_type": "code",
   "execution_count": null,
   "id": "5c1fd925",
   "metadata": {
    "tags": []
   },
   "outputs": [],
   "source": [
    "base_array = ...\n",
    "m1 = ...\n",
    "print(m1)\n",
    "m2 = ...\n",
    "print(m2)"
   ]
  },
  {
   "cell_type": "code",
   "execution_count": null,
   "id": "13b3da2c",
   "metadata": {
    "deletable": false,
    "editable": false
   },
   "outputs": [],
   "source": [
    "grader.check(\"q6_4\")"
   ]
  },
  {
   "cell_type": "markdown",
   "id": "f8a25cbd",
   "metadata": {},
   "source": [
    "#### 7. Sorting arrays"
   ]
  },
  {
   "cell_type": "markdown",
   "id": "ec18b4e4",
   "metadata": {
    "deletable": false,
    "editable": false
   },
   "source": [
    "**Question 7.1:** Sort each column of the array below.\n",
    "\n",
    "$\\begin{bmatrix}\n",
    "4 & 2 & 3 & 4 & 5\\\\\n",
    "9 & 7 & 8 & 1 & 10\\\\\n",
    "11 & 12 & 13 & 15 & 14\n",
    "\\end{bmatrix}$"
   ]
  },
  {
   "cell_type": "code",
   "execution_count": null,
   "id": "114607a3",
   "metadata": {
    "tags": []
   },
   "outputs": [],
   "source": [
    "given_array = ...\n",
    "sorted_columns = ...\n",
    "sorted_columns"
   ]
  },
  {
   "cell_type": "code",
   "execution_count": null,
   "id": "fc381454",
   "metadata": {
    "deletable": false,
    "editable": false
   },
   "outputs": [],
   "source": [
    "grader.check(\"q7_1\")"
   ]
  },
  {
   "cell_type": "markdown",
   "id": "074e5c2e",
   "metadata": {
    "deletable": false,
    "editable": false
   },
   "source": [
    "**Question 7.2:** Sort each row of the array below.\n",
    "\n",
    "$\\begin{bmatrix}\n",
    "4 & 2 & 3 & 4 & 5\\\\\n",
    "9 & 7 & 8 & 1 & 10\\\\\n",
    "11 & 12 & 13 & 15 & 14\n",
    "\\end{bmatrix}$"
   ]
  },
  {
   "cell_type": "code",
   "execution_count": null,
   "id": "8026d12f",
   "metadata": {
    "tags": []
   },
   "outputs": [],
   "source": [
    "sorted_rows = ...\n",
    "sorted_rows"
   ]
  },
  {
   "cell_type": "code",
   "execution_count": null,
   "id": "0b18760b",
   "metadata": {
    "deletable": false,
    "editable": false
   },
   "outputs": [],
   "source": [
    "grader.check(\"q7_2\")"
   ]
  },
  {
   "cell_type": "markdown",
   "id": "3f53ac4e",
   "metadata": {
    "deletable": false,
    "editable": false
   },
   "source": [
    "**Question 7.3:** Sort all elements of the array below. (Return a 1d array)\n",
    "\n",
    "$\\begin{bmatrix}\n",
    "4 & 2 & 3 & 4 & 5\\\\\n",
    "9 & 7 & 8 & 1 & 10\\\\\n",
    "11 & 12 & 13 & 15 & 14\n",
    "\\end{bmatrix}$"
   ]
  },
  {
   "cell_type": "code",
   "execution_count": null,
   "id": "1dc64ea4",
   "metadata": {
    "tags": []
   },
   "outputs": [],
   "source": [
    "sorted_elementwise = ...\n",
    "sorted_elementwise"
   ]
  },
  {
   "cell_type": "code",
   "execution_count": null,
   "id": "9fc343a1",
   "metadata": {
    "deletable": false,
    "editable": false
   },
   "outputs": [],
   "source": [
    "grader.check(\"q7_3\")"
   ]
  },
  {
   "cell_type": "markdown",
   "id": "d74592fb",
   "metadata": {
    "deletable": false,
    "editable": false
   },
   "source": [
    "**Question 7.4:** Sort the rows of the array below based on the elements in the first column.\n",
    "\n",
    "$\\begin{bmatrix}\n",
    "3 & 1 & 2 \\\\\n",
    "6 & 5 & 4 \\\\\n",
    "1 & 7 & 9 \n",
    "\\end{bmatrix}$\n",
    "\n",
    "*Expected output:*  \n",
    "$\\begin{bmatrix}\n",
    "1 & 7 & 9 \\\\\n",
    "3 & 1 & 2 \\\\\n",
    "6 & 5 & 4\n",
    "\\end{bmatrix}$"
   ]
  },
  {
   "cell_type": "code",
   "execution_count": null,
   "id": "ccf038cc",
   "metadata": {
    "tags": []
   },
   "outputs": [],
   "source": [
    "three_by_three = np.array([[3,1,2],[6,5,4],[1,7,9]])\n",
    "row_wise_sorting = ...\n",
    "row_wise_sorting"
   ]
  },
  {
   "cell_type": "code",
   "execution_count": null,
   "id": "ac9ee4f9",
   "metadata": {
    "deletable": false,
    "editable": false
   },
   "outputs": [],
   "source": [
    "grader.check(\"q7_4\")"
   ]
  },
  {
   "cell_type": "markdown",
   "id": "f0ab70cf-a418-4f00-83d1-4e07be02320f",
   "metadata": {
    "deletable": false,
    "editable": false
   },
   "source": [
    "**Question 7.5:** Sort the rows of the array below based on the elements in the first column in descending order.\n",
    "\n",
    "$\\begin{bmatrix}\n",
    "3 & 1 & 2 \\\\\n",
    "6 & 5 & 4 \\\\\n",
    "1 & 7 & 9 \n",
    "\\end{bmatrix}$"
   ]
  },
  {
   "cell_type": "code",
   "execution_count": null,
   "id": "fb998f73-5a72-4c0b-8bf9-480d79a1d6e0",
   "metadata": {
    "tags": []
   },
   "outputs": [],
   "source": [
    "row_wise_sorting_descending = ...\n",
    "row_wise_sorting_descending"
   ]
  },
  {
   "cell_type": "code",
   "execution_count": null,
   "id": "c1fbcead",
   "metadata": {
    "deletable": false,
    "editable": false
   },
   "outputs": [],
   "source": [
    "grader.check(\"q7_5\")"
   ]
  },
  {
   "cell_type": "markdown",
   "id": "a5142695-ede6-41a2-9f10-09cbd0f8bff1",
   "metadata": {},
   "source": [
    "#### 8. Broadcasting\n",
    "Numpy allows the user to perform element-wise operations on arrays of different shapes by broadcasting them to a common shape. This lets us add a scalar value to each element of an array, or to add two arrays of different shapes by automatically expanding the dimension of the smaller array."
   ]
  },
  {
   "cell_type": "markdown",
   "id": "2ac3a0af-1e90-4764-b022-ad894d848f15",
   "metadata": {
    "deletable": false,
    "editable": false
   },
   "source": [
    "**Question 8.1:** In the Fibonacci Sequence, each number in the sequence is the sum of the two numbers that precede it. The sequence goes: 0, 1, 1, 2, 3, 5, 8, 13, 21, 34,...  \n",
    "\n",
    "Binet's formula (derived by mathematician Jacques Philippe Marie Binet) is an explicit formula used to find the $n$th term of the Fibonacci sequence. It is given by:\n",
    "\n",
    "$$F_n=\\frac{1}{\\sqrt{5}}\\left(\\left(\\frac{1+\\sqrt{5}}{2}\\right)^n-\\left(\\frac{1-\\sqrt{5}}{2}\\right)^n\\right)$$\n",
    "\n",
    "Use NumPy and Binet's formula to make a 1d array containing the first 15 numbers (ints) in the Fibonacci Sequence. "
   ]
  },
  {
   "cell_type": "code",
   "execution_count": null,
   "id": "64e82144-fc84-4fd8-8ff9-dcfdf1ab14dd",
   "metadata": {
    "tags": []
   },
   "outputs": [],
   "source": [
    "n = ...\n",
    "Fn = ...\n",
    "Fn"
   ]
  },
  {
   "cell_type": "code",
   "execution_count": null,
   "id": "107c2920",
   "metadata": {
    "deletable": false,
    "editable": false
   },
   "outputs": [],
   "source": [
    "grader.check(\"q8_1\")"
   ]
  },
  {
   "cell_type": "markdown",
   "id": "563bbe71",
   "metadata": {},
   "source": [
    "#### 9. Random Numbers"
   ]
  },
  {
   "cell_type": "markdown",
   "id": "4d3f9a00",
   "metadata": {},
   "source": [
    "Numpy provides the random module to work with random numbers from various distributions (e.g., uniform, normal, etc.)."
   ]
  },
  {
   "cell_type": "markdown",
   "id": "f0b5c780",
   "metadata": {
    "deletable": false,
    "editable": false
   },
   "source": [
    "**Question 9.1:** Write a simulation for flipping a fair coin 5000 times to estimate $P(tails)$. "
   ]
  },
  {
   "cell_type": "code",
   "execution_count": null,
   "id": "593cec8b-a6cb-45b0-aead-92c9d16788ff",
   "metadata": {
    "tags": []
   },
   "outputs": [],
   "source": [
    "prob_tail = ...\n",
    "prob_tail"
   ]
  },
  {
   "cell_type": "code",
   "execution_count": null,
   "id": "7cd3af7f",
   "metadata": {
    "deletable": false,
    "editable": false
   },
   "outputs": [],
   "source": [
    "grader.check(\"q9_1\")"
   ]
  },
  {
   "cell_type": "markdown",
   "id": "04c5e95b",
   "metadata": {
    "deletable": false,
    "editable": false
   },
   "source": [
    "<!-- BEGIN QUESTION -->\n",
    "\n",
    "**Question 9.2:** In the previous part, do you get the same answer every time? Explain. "
   ]
  },
  {
   "cell_type": "markdown",
   "id": "d15f709d",
   "metadata": {},
   "source": [
    "_Type your answer here, replacing this text._"
   ]
  },
  {
   "cell_type": "markdown",
   "id": "9dedb94f",
   "metadata": {
    "deletable": false,
    "editable": false
   },
   "source": [
    "<!-- END QUESTION -->\n",
    "\n",
    "**Question 9.3:** Repeat the first part of this problem but include `np.random.seed(1)` at the beginning of your cell.  Run your code several times and revisit the question."
   ]
  },
  {
   "cell_type": "code",
   "execution_count": null,
   "id": "68ee5011",
   "metadata": {
    "tags": []
   },
   "outputs": [],
   "source": [
    "prob_tail_seed = ...\n",
    "prob_tail_seed"
   ]
  },
  {
   "cell_type": "code",
   "execution_count": null,
   "id": "c60fa116",
   "metadata": {
    "deletable": false,
    "editable": false
   },
   "outputs": [],
   "source": [
    "grader.check(\"q9_3\")"
   ]
  },
  {
   "cell_type": "markdown",
   "id": "ea594069-4110-47f1-ad28-b321966056fa",
   "metadata": {
    "deletable": false,
    "editable": false
   },
   "source": [
    "<!-- BEGIN QUESTION -->\n",
    "\n",
    "**Question 9.4:** In the previous part, do you get the same answer every time? Explain. "
   ]
  },
  {
   "cell_type": "markdown",
   "id": "9fea0d32",
   "metadata": {},
   "source": [
    "_Type your answer here, replacing this text._"
   ]
  },
  {
   "cell_type": "markdown",
   "id": "01eae89e-deba-4e82-9fe7-ee7490559994",
   "metadata": {
    "deletable": false,
    "editable": false
   },
   "source": [
    "<!-- END QUESTION -->\n",
    "\n",
    "## Main Course\n",
    "Air quality is an important factor in public health and environmental studies. One of the key pollutants monitored is PM10 (particulate matter with a diameter of 10 micrometers or less). PM10 comes from sources such as dust, smoke, and vehicle emissions. These tiny particles can be inhaled and may cause respiratory problems, especially for sensitive groups like children and the elderly.\n",
    "\n",
    "In this exercise, we will analyze daily average PM10 levels recorded at the Jacobs station in Eureka, CA throughout 2024 ([source](https://explore.openaq.org/)). Using NumPy, we will explore and process this dataset to uncover trends and insights.\n",
    "\n",
    "Run the cell below to import the dataset. This will load three separate NumPy arrays:\n",
    "\n",
    "-`day`: The day of the month (1–31) for each recorded observation.  \n",
    "-`month`: The month of the year (1–12).  \n",
    "-`pm10`: The daily average PM10 concentration (measured in µg/m³). These PM10 measurements coorespond to the month/day in the other arrays"
   ]
  },
  {
   "cell_type": "code",
   "execution_count": null,
   "id": "01cb4eee-adf1-445a-8922-50a66ec41d81",
   "metadata": {
    "tags": []
   },
   "outputs": [],
   "source": [
    "np.set_printoptions(suppress=True)\n",
    "month = np.loadtxt(\"month.csv\", delimiter=\",\")\n",
    "day = np.loadtxt(\"day.csv\", delimiter=\",\")\n",
    "pm10 = np.loadtxt(\"pm10.csv\", delimiter=\",\")"
   ]
  },
  {
   "cell_type": "markdown",
   "id": "6468ad61-7f90-472b-a1ba-a3f9471a3ddd",
   "metadata": {
    "deletable": false,
    "editable": false
   },
   "source": [
    "**Question 10.1:** Currently, we have three separate 1D arrays: `month`, `day`, and `pm10`. Combine them into a single 2D NumPy array, where each row represents a single day's data. The first column should contain month data, second column should contain day, and the third column should contain pm10. "
   ]
  },
  {
   "cell_type": "code",
   "execution_count": null,
   "id": "3e629a22-5a48-4b5e-bb15-9779c638ffa1",
   "metadata": {
    "tags": []
   },
   "outputs": [],
   "source": [
    "pm10_data = ...\n",
    "pm10_data"
   ]
  },
  {
   "cell_type": "code",
   "execution_count": null,
   "id": "0dc56091",
   "metadata": {
    "deletable": false,
    "editable": false
   },
   "outputs": [],
   "source": [
    "grader.check(\"q10_1\")"
   ]
  },
  {
   "cell_type": "markdown",
   "id": "25da7271-6912-4e2c-9ff5-d1fc9f378656",
   "metadata": {
    "deletable": false,
    "editable": false
   },
   "source": [
    "**Question 10.2:** On which day of the year was the PM10 level the highest? Your answer should be a 1d array containing the data (month, day, year) for that day."
   ]
  },
  {
   "cell_type": "code",
   "execution_count": null,
   "id": "5a238ded-8be7-4512-a612-dc2851795041",
   "metadata": {
    "tags": []
   },
   "outputs": [],
   "source": [
    "worst_quality = ...\n",
    "worst_quality"
   ]
  },
  {
   "cell_type": "code",
   "execution_count": null,
   "id": "15699a4b",
   "metadata": {
    "deletable": false,
    "editable": false
   },
   "outputs": [],
   "source": [
    "grader.check(\"q10_2\")"
   ]
  },
  {
   "cell_type": "markdown",
   "id": "7fabec02-2d9b-4737-8bd6-ea5df84cfac1",
   "metadata": {
    "deletable": false,
    "editable": false
   },
   "source": [
    "**Question 10.3:** Find the month that had the worst air quality on average. Your answer for `worst_month` should be a single int representing the month that had the highest average pm10 measurement."
   ]
  },
  {
   "cell_type": "code",
   "execution_count": null,
   "id": "ca17cfe8-8433-4123-b270-cced2de3ca71",
   "metadata": {
    "tags": []
   },
   "outputs": [],
   "source": [
    "unique_months = ...\n",
    "monthly_avg_pm10 = ...\n",
    "\n",
    "# Find the month with the highest average PM10\n",
    "worst_month = ...\n",
    "worst_month"
   ]
  },
  {
   "cell_type": "code",
   "execution_count": null,
   "id": "339604eb",
   "metadata": {
    "deletable": false,
    "editable": false
   },
   "outputs": [],
   "source": [
    "grader.check(\"q10_3\")"
   ]
  },
  {
   "cell_type": "markdown",
   "id": "f6a6648d-6a26-4fcb-bda0-c78f0bce5f44",
   "metadata": {
    "deletable": false,
    "editable": false
   },
   "source": [
    "**Question 10.4:** Since PM10 data is recorded daily, we expect 31 days for some months and 30 or 29 days for others. If the data for any day is missing, the difference between consecutive days in a given month will not be 1.\n",
    "\n",
    "Use NumPy functions to identify the months with missing data (if any). Your final answer should be a 1d array with the month(s) (int) that had missing data. "
   ]
  },
  {
   "cell_type": "code",
   "execution_count": null,
   "id": "8ae06c10-9f78-4e6d-a89a-cfe6a2293c63",
   "metadata": {
    "tags": []
   },
   "outputs": [],
   "source": [
    "day_gaps = ...\n",
    "months_with_missing = ...\n",
    "months_with_missing"
   ]
  },
  {
   "cell_type": "code",
   "execution_count": null,
   "id": "9996aa85",
   "metadata": {
    "deletable": false,
    "editable": false
   },
   "outputs": [],
   "source": [
    "grader.check(\"q10_4\")"
   ]
  },
  {
   "cell_type": "markdown",
   "id": "5ab226fc",
   "metadata": {
    "tags": []
   },
   "source": [
    "## Dessert (optional) \n",
    "Refer to the Lecture 10 demo if you choose to do this one. \n",
    "- choose an image for this task (a photo you took, a photo from the web, etc.).\n",
    "- display the image.\n",
    "- display its negative.\n",
    "- display the image rotated 90 degrees clockwise (different than example).\n",
    "- display the image as a grayscale image.\n",
    "- display the image in each of its color channels.\n",
    "- crop part of the image and display it.  (Choose a cropping that is visually interesting based on your image and experimentation.)\n",
    "- chose one other image and blend the two images.  Play with weights until you are happy with the results.\n"
   ]
  },
  {
   "cell_type": "markdown",
   "id": "9e2370aa",
   "metadata": {},
   "source": [
    "# You're done!\n",
    "\n",
    "Gus is so happy you made it to the end! Run the cell below to download the zip and submit to Canvas. \n",
    "\n",
    "<img src=\"gus_a_loaf_of_bread.JPG\" alt=\"drawing\" width=\"300\"/>\n",
    "\n",
    "### References\n",
    "If you want to read more about these topics, check out\n",
    "- Numerical Python: Scientific Computation and Data Science Applications wtih Numpy, SciPy and Matplotlib by Robert Johansson\n",
    "- Data Science with Python: Probabilistic Modeling.  https://www.cdslab.org/python/notes/probabilistic-modeling/random-numbers/random-numbers.html"
   ]
  },
  {
   "cell_type": "code",
   "execution_count": null,
   "id": "2fe2c33c-594d-407c-ba56-b9aa66301c58",
   "metadata": {},
   "outputs": [],
   "source": []
  },
  {
   "cell_type": "markdown",
   "id": "0e0283e3",
   "metadata": {
    "deletable": false,
    "editable": false
   },
   "source": [
    "## Submission\n",
    "\n",
    "Make sure you have run all cells in your notebook in order before running the cell below, so that all images/graphs appear in the output. The cell below will generate a zip file for you to submit. **Please save before exporting!**"
   ]
  },
  {
   "cell_type": "code",
   "execution_count": null,
   "id": "d170dc7d",
   "metadata": {
    "deletable": false,
    "editable": false
   },
   "outputs": [],
   "source": [
    "# Save your notebook first, then run this cell to export your submission.\n",
    "grader.export(run_tests=True)"
   ]
  },
  {
   "cell_type": "markdown",
   "id": "113b1a60",
   "metadata": {},
   "source": [
    " "
   ]
  }
 ],
 "metadata": {
  "kernelspec": {
   "display_name": "Python 3 (ipykernel)",
   "language": "python",
   "name": "python3"
  },
  "language_info": {
   "codemirror_mode": {
    "name": "ipython",
    "version": 3
   },
   "file_extension": ".py",
   "mimetype": "text/x-python",
   "name": "python",
   "nbconvert_exporter": "python",
   "pygments_lexer": "ipython3",
   "version": "3.11.4"
  },
  "otter": {
   "OK_FORMAT": true,
   "tests": {
    "q1": {
     "name": "q1",
     "points": null,
     "suites": [
      {
       "cases": [
        {
         "code": ">>> number_of_dimensions\n2",
         "hidden": false,
         "locked": false
        },
        {
         "code": ">>> shape_of_my_array\n(2, 3)",
         "hidden": false,
         "locked": false
        },
        {
         "code": ">>> size_of_my_array\n6",
         "hidden": false,
         "locked": false
        }
       ],
       "scored": true,
       "setup": "",
       "teardown": "",
       "type": "doctest"
      }
     ]
    },
    "q10_1": {
     "name": "q10_1",
     "points": null,
     "suites": [
      {
       "cases": [
        {
         "code": ">>> pm10_data.shape\n(349, 3)",
         "hidden": false,
         "locked": false
        },
        {
         "code": ">>> pm10_data[0]\narray([1.  , 1.  , 2.12])",
         "hidden": false,
         "locked": false
        }
       ],
       "scored": true,
       "setup": "",
       "teardown": "",
       "type": "doctest"
      }
     ]
    },
    "q10_2": {
     "name": "q10_2",
     "points": null,
     "suites": [
      {
       "cases": [
        {
         "code": ">>> worst_quality.shape\n(3,)",
         "hidden": false,
         "locked": false
        },
        {
         "code": ">>> worst_quality\narray([12. , 26. , 39.8])",
         "hidden": false,
         "locked": false
        }
       ],
       "scored": true,
       "setup": "",
       "teardown": "",
       "type": "doctest"
      }
     ]
    },
    "q10_3": {
     "name": "q10_3",
     "points": null,
     "suites": [
      {
       "cases": [
        {
         "code": ">>> worst_month\n1",
         "hidden": false,
         "locked": false
        }
       ],
       "scored": true,
       "setup": "",
       "teardown": "",
       "type": "doctest"
      }
     ]
    },
    "q10_4": {
     "name": "q10_4",
     "points": null,
     "suites": [
      {
       "cases": [
        {
         "code": ">>> len(months_with_missing)\n4",
         "hidden": false,
         "locked": false
        },
        {
         "code": ">>> months_with_missing\narray([3, 6, 8, 9])",
         "hidden": false,
         "locked": false
        }
       ],
       "scored": true,
       "setup": "",
       "teardown": "",
       "type": "doctest"
      }
     ]
    },
    "q2": {
     "name": "q2",
     "points": [
      1,
      1,
      1,
      1,
      1
     ],
     "suites": [
      {
       "cases": [
        {
         "code": ">>> A\narray([[7, 7, 7],\n       [7, 7, 7]])",
         "hidden": false,
         "locked": false
        },
        {
         "code": ">>> B\narray([[1, 0, 0, 0],\n       [0, 1, 0, 0],\n       [0, 0, 1, 0],\n       [0, 0, 0, 1]])",
         "hidden": false,
         "locked": false
        },
        {
         "code": ">>> C\narray([2.  , 2.25, 2.5 , 2.75, 3.  ])",
         "hidden": false,
         "locked": false
        },
        {
         "code": ">>> D\narray([0, 1, 2])",
         "hidden": false,
         "locked": false
        },
        {
         "code": ">>> E\narray([[ 0,  0,  0,  0],\n       [ 0,  5,  0,  0],\n       [ 0,  0, 10,  0],\n       [ 0,  0,  0, 15]])",
         "hidden": false,
         "locked": false
        }
       ],
       "scored": true,
       "setup": "",
       "teardown": "",
       "type": "doctest"
      }
     ]
    },
    "q3_1": {
     "name": "q3_1",
     "points": null,
     "suites": [
      {
       "cases": [
        {
         "code": ">>> array1\narray([ 2.,  5.,  8., 11., 14.])",
         "hidden": false,
         "locked": false
        }
       ],
       "scored": true,
       "setup": "",
       "teardown": "",
       "type": "doctest"
      }
     ]
    },
    "q3_2": {
     "name": "q3_2",
     "points": null,
     "suites": [
      {
       "cases": [
        {
         "code": ">>> third_element\n8.0",
         "hidden": false,
         "locked": false
        }
       ],
       "scored": true,
       "setup": "",
       "teardown": "",
       "type": "doctest"
      }
     ]
    },
    "q3_3": {
     "name": "q3_3",
     "points": null,
     "suites": [
      {
       "cases": [
        {
         "code": ">>> second_to_last\n11.0",
         "hidden": false,
         "locked": false
        }
       ],
       "scored": true,
       "setup": "",
       "teardown": "",
       "type": "doctest"
      }
     ]
    },
    "q3_4": {
     "name": "q3_4",
     "points": null,
     "suites": [
      {
       "cases": [
        {
         "code": ">>> second_element_to_last\narray([ 5.,  8., 11., 14.])",
         "hidden": false,
         "locked": false
        }
       ],
       "scored": true,
       "setup": "",
       "teardown": "",
       "type": "doctest"
      }
     ]
    },
    "q3_5": {
     "name": "q3_5",
     "points": null,
     "suites": [
      {
       "cases": [
        {
         "code": ">>> reversed_array1\narray([14., 11.,  8.,  5.,  2.])",
         "hidden": false,
         "locked": false
        }
       ],
       "scored": true,
       "setup": "",
       "teardown": "",
       "type": "doctest"
      }
     ]
    },
    "q4_1": {
     "name": "q4_1",
     "points": null,
     "suites": [
      {
       "cases": [
        {
         "code": ">>> array2\narray([[ 1,  2,  3,  4,  5],\n       [ 6,  7,  8,  9, 10],\n       [11, 12, 13, 14, 15]])",
         "hidden": false,
         "locked": false
        }
       ],
       "scored": true,
       "setup": "",
       "teardown": "",
       "type": "doctest"
      }
     ]
    },
    "q4_2": {
     "name": "q4_2",
     "points": null,
     "suites": [
      {
       "cases": [
        {
         "code": ">>> array2_copy\narray([[ 1,  2,  3,  4,  5],\n       [ 6,  7,  8,  9, 10],\n       [11, 12, 13, 14, 15]])",
         "hidden": false,
         "locked": false
        }
       ],
       "scored": true,
       "setup": "",
       "teardown": "",
       "type": "doctest"
      }
     ]
    },
    "q4_3": {
     "name": "q4_3",
     "points": null,
     "suites": [
      {
       "cases": [
        {
         "code": ">>> array2_copy\narray([[27,  2,  3,  4,  5],\n       [ 6,  7,  8,  9, 10],\n       [11, 12, 13, 14, 15]])",
         "hidden": false,
         "locked": false
        },
        {
         "code": ">>> array2\narray([[ 1,  2,  3,  4,  5],\n       [ 6,  7,  8,  9, 10],\n       [11, 12, 13, 14, 15]])",
         "hidden": false,
         "locked": false
        }
       ],
       "scored": true,
       "setup": "",
       "teardown": "",
       "type": "doctest"
      }
     ]
    },
    "q4_4": {
     "name": "q4_4",
     "points": null,
     "suites": [
      {
       "cases": [
        {
         "code": ">>> subarray\narray([[ 6,  8, 10],\n       [11, 13, 15]])",
         "hidden": false,
         "locked": false
        }
       ],
       "scored": true,
       "setup": "",
       "teardown": "",
       "type": "doctest"
      }
     ]
    },
    "q4_5": {
     "name": "q4_5",
     "points": null,
     "suites": [
      {
       "cases": [
        {
         "code": ">>> subarray\narray([[ 6,  8, 10],\n       [11, 12, 15]])",
         "hidden": false,
         "locked": false
        },
        {
         "code": ">>> array2_copy\narray([[27,  2,  3,  4,  5],\n       [ 6,  7,  8,  9, 10],\n       [11, 12, 13, 14, 15]])",
         "hidden": false,
         "locked": false
        }
       ],
       "scored": true,
       "setup": "",
       "teardown": "",
       "type": "doctest"
      }
     ]
    },
    "q4_6": {
     "name": "q4_6",
     "points": null,
     "suites": [
      {
       "cases": [
        {
         "code": ">>> array2\narray([[ 1,  2,  3,  4,  5],\n       [ 6,  7,  8,  9, 10],\n       [11, 12, 13, 14, 15]])",
         "hidden": false,
         "locked": false
        }
       ],
       "scored": true,
       "setup": "",
       "teardown": "",
       "type": "doctest"
      }
     ]
    },
    "q5_1": {
     "name": "q5_1",
     "points": null,
     "suites": [
      {
       "cases": [
        {
         "code": ">>> not_div_3\narray([  4,  10,  89,  43,  46, 100])",
         "hidden": false,
         "locked": false
        }
       ],
       "scored": true,
       "setup": "",
       "teardown": "",
       "type": "doctest"
      }
     ]
    },
    "q5_2": {
     "name": "q5_2",
     "points": null,
     "suites": [
      {
       "cases": [
        {
         "code": ">>> div5\narray([ 10,  45, 100])",
         "hidden": false,
         "locked": false
        }
       ],
       "scored": true,
       "setup": "",
       "teardown": "",
       "type": "doctest"
      }
     ]
    },
    "q5_3": {
     "name": "q5_3",
     "points": null,
     "suites": [
      {
       "cases": [
        {
         "code": ">>> div3_and_5\narray([45])",
         "hidden": false,
         "locked": false
        }
       ],
       "scored": true,
       "setup": "",
       "teardown": "",
       "type": "doctest"
      }
     ]
    },
    "q5_4": {
     "name": "q5_4",
     "points": null,
     "suites": [
      {
       "cases": [
        {
         "code": ">>> array3\narray([ 42,   4,  42,  10,  42,  89,  42,  43,  46,  42, 100])",
         "hidden": false,
         "locked": false
        }
       ],
       "scored": true,
       "setup": "",
       "teardown": "",
       "type": "doctest"
      }
     ]
    },
    "q6_1": {
     "name": "q6_1",
     "points": null,
     "suites": [
      {
       "cases": [
        {
         "code": ">>> reshaped_array.shape\n(3, 4)",
         "hidden": false,
         "locked": false
        },
        {
         "code": ">>> reshaped_array\narray([[ 1,  4,  7, 10],\n       [ 2,  5,  8, 11],\n       [ 3,  6,  9, 12]])",
         "hidden": false,
         "locked": false
        }
       ],
       "scored": true,
       "setup": "",
       "teardown": "",
       "type": "doctest"
      }
     ]
    },
    "q6_2_manual": {
     "name": "q6_2_manual",
     "points": null,
     "suites": [
      {
       "cases": [],
       "scored": true,
       "setup": "",
       "teardown": "",
       "type": "doctest"
      }
     ]
    },
    "q6_3": {
     "name": "q6_3",
     "points": null,
     "suites": [
      {
       "cases": [
        {
         "code": ">>> big_ndarray.shape\n(3, 5)",
         "hidden": false,
         "locked": false
        },
        {
         "code": ">>> big_ndarray\narray([[ 1,  2,  3,  4,  5],\n       [ 6,  7,  8,  9, 10],\n       [11, 12, 13, 14, 15]])",
         "hidden": false,
         "locked": false
        },
        {
         "code": ">>> flattened_array\narray([ 1,  2,  3,  4,  5,  6,  7,  8,  9, 10, 11, 12, 13, 14, 15])",
         "hidden": false,
         "locked": false
        }
       ],
       "scored": true,
       "setup": "",
       "teardown": "",
       "type": "doctest"
      }
     ]
    },
    "q6_4": {
     "name": "q6_4",
     "points": null,
     "suites": [
      {
       "cases": [
        {
         "code": ">>> base_array\narray([1, 2, 3])",
         "hidden": false,
         "locked": false
        },
        {
         "code": ">>> m1\narray([[1, 2, 3],\n       [1, 2, 3],\n       [1, 2, 3]])",
         "hidden": false,
         "locked": false
        },
        {
         "code": ">>> m2\narray([[1, 1, 1],\n       [2, 2, 2],\n       [3, 3, 3]])",
         "hidden": false,
         "locked": false
        }
       ],
       "scored": true,
       "setup": "",
       "teardown": "",
       "type": "doctest"
      }
     ]
    },
    "q7_1": {
     "name": "q7_1",
     "points": null,
     "suites": [
      {
       "cases": [
        {
         "code": ">>> sorted_columns\narray([[ 4,  2,  3,  1,  5],\n       [ 9,  7,  8,  4, 10],\n       [11, 12, 13, 15, 14]])",
         "hidden": false,
         "locked": false
        }
       ],
       "scored": true,
       "setup": "",
       "teardown": "",
       "type": "doctest"
      }
     ]
    },
    "q7_2": {
     "name": "q7_2",
     "points": null,
     "suites": [
      {
       "cases": [
        {
         "code": ">>> sorted_rows\narray([[ 2,  3,  4,  4,  5],\n       [ 1,  7,  8,  9, 10],\n       [11, 12, 13, 14, 15]])",
         "hidden": false,
         "locked": false
        }
       ],
       "scored": true,
       "setup": "",
       "teardown": "",
       "type": "doctest"
      }
     ]
    },
    "q7_3": {
     "name": "q7_3",
     "points": null,
     "suites": [
      {
       "cases": [
        {
         "code": ">>> sorted_elementwise\narray([ 1,  2,  3,  4,  4,  5,  7,  8,  9, 10, 11, 12, 13, 14, 15])",
         "hidden": false,
         "locked": false
        }
       ],
       "scored": true,
       "setup": "",
       "teardown": "",
       "type": "doctest"
      }
     ]
    },
    "q7_4": {
     "name": "q7_4",
     "points": null,
     "suites": [
      {
       "cases": [
        {
         "code": ">>> row_wise_sorting\narray([[1, 7, 9],\n       [3, 1, 2],\n       [6, 5, 4]])",
         "hidden": false,
         "locked": false
        }
       ],
       "scored": true,
       "setup": "",
       "teardown": "",
       "type": "doctest"
      }
     ]
    },
    "q7_5": {
     "name": "q7_5",
     "points": null,
     "suites": [
      {
       "cases": [
        {
         "code": ">>> row_wise_sorting_descending\narray([[6, 5, 4],\n       [3, 1, 2],\n       [1, 7, 9]])",
         "hidden": false,
         "locked": false
        }
       ],
       "scored": true,
       "setup": "",
       "teardown": "",
       "type": "doctest"
      }
     ]
    },
    "q8_1": {
     "name": "q8_1",
     "points": null,
     "suites": [
      {
       "cases": [
        {
         "code": ">>> len(n)\n15",
         "hidden": false,
         "locked": false
        },
        {
         "code": ">>> Fn\narray([  0,   1,   1,   2,   3,   5,   8,  13,  21,  34,  55,  89, 144,\n       233, 377])",
         "hidden": false,
         "locked": false
        }
       ],
       "scored": true,
       "setup": "",
       "teardown": "",
       "type": "doctest"
      }
     ]
    },
    "q9_1": {
     "name": "q9_1",
     "points": null,
     "suites": [
      {
       "cases": [
        {
         "code": ">>> 0.47 <= prob_tail <= 0.53\nTrue",
         "hidden": false,
         "locked": false
        }
       ],
       "scored": true,
       "setup": "",
       "teardown": "",
       "type": "doctest"
      }
     ]
    },
    "q9_2_manual": {
     "name": "q9_2_manual",
     "points": null,
     "suites": [
      {
       "cases": [],
       "scored": true,
       "setup": "",
       "teardown": "",
       "type": "doctest"
      }
     ]
    },
    "q9_3": {
     "name": "q9_3",
     "points": null,
     "suites": [
      {
       "cases": [
        {
         "code": ">>> 0.47 <= prob_tail_seed <= 0.53\nTrue",
         "hidden": false,
         "locked": false
        }
       ],
       "scored": true,
       "setup": "",
       "teardown": "",
       "type": "doctest"
      }
     ]
    },
    "q9_4_manual": {
     "name": "q9_4_manual",
     "points": null,
     "suites": [
      {
       "cases": [],
       "scored": true,
       "setup": "",
       "teardown": "",
       "type": "doctest"
      }
     ]
    }
   }
  }
 },
 "nbformat": 4,
 "nbformat_minor": 5
}
