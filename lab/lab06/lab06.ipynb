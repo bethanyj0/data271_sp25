{
 "cells": [
  {
   "cell_type": "code",
   "execution_count": null,
   "id": "823fce79",
   "metadata": {
    "deletable": false,
    "editable": false
   },
   "outputs": [],
   "source": [
    "# Initialize Otter\n",
    "import otter\n",
    "grader = otter.Notebook(\"lab06.ipynb\")"
   ]
  },
  {
   "cell_type": "markdown",
   "id": "5b043048",
   "metadata": {},
   "source": [
    "# Lab 06: The Grammar of Graphics\n",
    "Welcome to Lab 6 of DATA 271!"
   ]
  },
  {
   "cell_type": "markdown",
   "id": "1b6e6543",
   "metadata": {},
   "source": [
    "## Overview\n",
    "The phrase \"Grammar of Graphics\" was coined by statistician Leland Wilkinson who authored a book in the 1990s with a broad impact on statistics and data science.  The book codifies a consistent way to represent and think about statistical graphs.  The grammar laid out in this book is the foundation of the R graphics package ggplot2 written by Hadley Wickham in 2010. They key idea is that graphs are broken into semantic components such as scales and layers. Python has several packages that support a general grammar of graphics approach to visualization, but `plotnine` was specifically created to mimic the ggplot2 package in R. For this lab, we will use `plotnine`.\n",
    "\n",
    "The `plotnine` documentation can be found [here](https://plotnine.org/reference/). \n",
    "\n",
    "### In today's lab, we will...\n",
    "- Begin to understand what makes an effective graph and how to represent multiple variables (potentially both numeric and categorical) on the same plot.\n",
    "- Refresh the rules of \"the grammar of graphics.\"\n",
    "- Create and modify a plotnine object.\n",
    "- Build complex plots using a step-by-step approach following the grammar of graphics.\n",
    "- Intelligently break plots into meaningful subplots to extract insights from data.\n",
    "- Create scatter plots, box plots, bubble plots and lineplots.\n"
   ]
  },
  {
   "cell_type": "markdown",
   "id": "74132a6d",
   "metadata": {},
   "source": [
    "### Install and import required packages"
   ]
  },
  {
   "cell_type": "markdown",
   "id": "27919713",
   "metadata": {},
   "source": [
    "If you haven't done it in a while on your JupyterHub account, you may have to run reinstall `plotnine`. To do so, type \n",
    "```python\n",
    "pip install plotnine\n",
    "pip install matplotlib==3.8.3\n",
    "```\n",
    "in the terminal. Ask Dr. Johnson if you can't remember how to do this. "
   ]
  },
  {
   "cell_type": "code",
   "execution_count": null,
   "id": "05104d6c",
   "metadata": {
    "tags": []
   },
   "outputs": [],
   "source": [
    "from plotnine import *\n",
    "from plotnine.data import *\n",
    "\n",
    "import numpy as np\n",
    "import pandas as pd\n",
    "import warnings \n",
    "warnings.filterwarnings('ignore') "
   ]
  },
  {
   "cell_type": "markdown",
   "id": "94fcadb3",
   "metadata": {},
   "source": [
    "### 1. Introduction and recap of the Grammar of Graphics\n",
    "\n",
    "In the article [\"A Layered Grammar of Graphics\"](https://byrneslab.net/classes/biol607/readings/wickham_layered-grammar.pdf) by Hadley Wickham, the author highlights the main components of a statistical graphics:\n",
    "\n",
    "- data\n",
    "- aesthetic mapping\n",
    "- scales\n",
    "- geometric objects\n",
    "- statistical transformations\n",
    "- facets\n",
    "- coordinate system\n",
    "\n",
    "Review what each of these components mean and answer the following questions. "
   ]
  },
  {
   "cell_type": "markdown",
   "id": "8ba94d2d",
   "metadata": {
    "deletable": false,
    "editable": false
   },
   "source": [
    "<!-- BEGIN QUESTION -->\n",
    "\n",
    "**Question 1.1:** What are examples of aesthetics? How are these related to scales?"
   ]
  },
  {
   "cell_type": "markdown",
   "id": "45997527",
   "metadata": {},
   "source": [
    "_Type your answer here, replacing this text._"
   ]
  },
  {
   "cell_type": "markdown",
   "id": "a492f140",
   "metadata": {
    "deletable": false,
    "editable": false
   },
   "source": [
    "<!-- END QUESTION -->\n",
    "\n",
    "<!-- BEGIN QUESTION -->\n",
    "\n",
    "**Question 1.2:** What are examples of geometric objects?"
   ]
  },
  {
   "cell_type": "markdown",
   "id": "6d86e075",
   "metadata": {},
   "source": [
    "_Type your answer here, replacing this text._"
   ]
  },
  {
   "cell_type": "markdown",
   "id": "e3923d33",
   "metadata": {
    "deletable": false,
    "editable": false
   },
   "source": [
    "<!-- END QUESTION -->\n",
    "\n",
    "<!-- BEGIN QUESTION -->\n",
    "\n",
    "**Question 1.3:** What is a coordinate system? Give an example of a coordinate system beyond Cartesian. "
   ]
  },
  {
   "cell_type": "markdown",
   "id": "489aa748",
   "metadata": {},
   "source": [
    "_Type your answer here, replacing this text._"
   ]
  },
  {
   "cell_type": "markdown",
   "id": "3eb20826",
   "metadata": {
    "deletable": false,
    "editable": false
   },
   "source": [
    "<!-- END QUESTION -->\n",
    "\n",
    "<!-- BEGIN QUESTION -->\n",
    "\n",
    "**Question 1.4:** Give two examples of a statistical transformation.  "
   ]
  },
  {
   "cell_type": "markdown",
   "id": "548a350b",
   "metadata": {},
   "source": [
    "_Type your answer here, replacing this text._"
   ]
  },
  {
   "cell_type": "markdown",
   "id": "9707cc3e",
   "metadata": {
    "deletable": false,
    "editable": false
   },
   "source": [
    "<!-- END QUESTION -->\n",
    "\n",
    "<!-- BEGIN QUESTION -->\n",
    "\n",
    "**Question 1.5:** What are facets? Explain why using facets can lead to clearer visualizations. "
   ]
  },
  {
   "cell_type": "markdown",
   "id": "85536efe",
   "metadata": {},
   "source": [
    "_Type your answer here, replacing this text._"
   ]
  },
  {
   "cell_type": "markdown",
   "id": "57bd4d4b",
   "metadata": {
    "deletable": false,
    "editable": false
   },
   "source": [
    "<!-- END QUESTION -->\n",
    "\n",
    "### 2. Appetizers: ggplot basics with the mpg dataset\n",
    "`plotnine.data` contains a number of data sets.  One example was collected by the Environmental Protection Agency on different models of cars. "
   ]
  },
  {
   "cell_type": "code",
   "execution_count": null,
   "id": "aba19ece",
   "metadata": {
    "scrolled": true,
    "tags": []
   },
   "outputs": [],
   "source": [
    "mpg.head()"
   ]
  },
  {
   "cell_type": "markdown",
   "id": "2a609b5b",
   "metadata": {
    "deletable": false,
    "editable": false
   },
   "source": [
    "**Question 2.1:** How many rows and columns are in the `mpg` DataFrame?"
   ]
  },
  {
   "cell_type": "code",
   "execution_count": null,
   "id": "ff0cbbbf",
   "metadata": {
    "tags": []
   },
   "outputs": [],
   "source": [
    "num_rows = ...\n",
    "num_cols = ...\n",
    "\n",
    "num_rows,num_cols"
   ]
  },
  {
   "cell_type": "code",
   "execution_count": null,
   "id": "5fe67257",
   "metadata": {
    "deletable": false,
    "editable": false
   },
   "outputs": [],
   "source": [
    "grader.check(\"q2_1\")"
   ]
  },
  {
   "cell_type": "markdown",
   "id": "0c7701da",
   "metadata": {
    "deletable": false,
    "editable": false
   },
   "source": [
    "<!-- BEGIN QUESTION -->\n",
    "\n",
    "**Question 2.2:** What do the `cyl`, `hwy`, `displ`, and `drv` columns stand for?\n",
    "\n",
    "*HINT:* Check the plotnine documentation using the link above or type `mpg?` in a cell. "
   ]
  },
  {
   "cell_type": "markdown",
   "id": "56a1a596",
   "metadata": {},
   "source": [
    "_Type your answer here, replacing this text._"
   ]
  },
  {
   "cell_type": "markdown",
   "id": "8599e886",
   "metadata": {
    "deletable": false,
    "editable": false
   },
   "source": [
    "<!-- END QUESTION -->\n",
    "\n",
    "**Question 2.3:** Use a plotnine ggplot to create a scatter plot of `cyl` mapped to the x-axis and `hwy` mapped to the y-axis. Do you notice anything interesting about your plot? (How many data points do you expect to see?)"
   ]
  },
  {
   "cell_type": "code",
   "execution_count": null,
   "id": "43ac4475",
   "metadata": {
    "tags": []
   },
   "outputs": [],
   "source": [
    "cyl_hwy = ...\n",
    "cyl_hwy.draw()"
   ]
  },
  {
   "cell_type": "code",
   "execution_count": null,
   "id": "1fea7951",
   "metadata": {
    "deletable": false,
    "editable": false
   },
   "outputs": [],
   "source": [
    "grader.check(\"q2_3\")"
   ]
  },
  {
   "cell_type": "markdown",
   "id": "6e235217",
   "metadata": {
    "deletable": false,
    "editable": false
   },
   "source": [
    "**Question 2.4:** Use a plotnine ggplot to create a scatter plot of `drv` mapped to the x-axis and `class` mapped to the y-axis. Is this a useful plot? Explain."
   ]
  },
  {
   "cell_type": "code",
   "execution_count": null,
   "id": "c7e6bd33",
   "metadata": {
    "tags": []
   },
   "outputs": [],
   "source": [
    "class_drv = ...\n",
    "class_drv.draw()"
   ]
  },
  {
   "cell_type": "code",
   "execution_count": null,
   "id": "ba3b6827",
   "metadata": {
    "deletable": false,
    "editable": false
   },
   "outputs": [],
   "source": [
    "grader.check(\"q2_4\")"
   ]
  },
  {
   "cell_type": "markdown",
   "id": "c25ec1df",
   "metadata": {
    "deletable": false,
    "editable": false
   },
   "source": [
    "**Question 2.5:** Use a plotnine ggplot to create a scatter plot of `displ` mapped to the x-axis and `hwy` mapped to the y-axis."
   ]
  },
  {
   "cell_type": "code",
   "execution_count": null,
   "id": "a7554f99",
   "metadata": {
    "tags": []
   },
   "outputs": [],
   "source": [
    "hwy_displ = ...\n",
    "hwy_displ.draw()"
   ]
  },
  {
   "cell_type": "code",
   "execution_count": null,
   "id": "0251ac7a",
   "metadata": {
    "deletable": false,
    "editable": false
   },
   "outputs": [],
   "source": [
    "grader.check(\"q2_5\")"
   ]
  },
  {
   "cell_type": "markdown",
   "id": "54838334",
   "metadata": {
    "deletable": false,
    "editable": false
   },
   "source": [
    "**Question 2.6:** Which variables in the `mpg` dataset are categorical, which are numeric? Assign `categorical` to a Python list of strings containing the names of the categorical columns in `mpg`. Assign `numeric` to a Python list of strings containing the names of the numeric columns in `mpg`.  \n",
    "\n",
    "*NOTE:* Although certian variables could go either way, assume the variables of type int or float are numeric for this problem. "
   ]
  },
  {
   "cell_type": "code",
   "execution_count": null,
   "id": "0294c4c6",
   "metadata": {
    "tags": []
   },
   "outputs": [],
   "source": [
    "categorical = ...\n",
    "numeric = ..."
   ]
  },
  {
   "cell_type": "code",
   "execution_count": null,
   "id": "c46278f9",
   "metadata": {
    "deletable": false,
    "editable": false
   },
   "outputs": [],
   "source": [
    "grader.check(\"q2_6\")"
   ]
  },
  {
   "cell_type": "markdown",
   "id": "c37042bf",
   "metadata": {
    "deletable": false,
    "editable": false
   },
   "source": [
    "**Question 2.7:** If we inspect our scatterplot from problem 2.5, there are some points which fall between 20-30 on the `hwy` variable, and also have somewhat large engines (with `displ` between 5 and 7).  They seem to be outside of the linear trend we observed.  Is there something different about these variables?\n",
    "\n",
    "Aesthetic mappings (*aes*) allow us to add additional variables to our visualization. Add `class` to the scatterplot by mapping it to a shape aesthetic."
   ]
  },
  {
   "cell_type": "code",
   "execution_count": null,
   "id": "8842870b",
   "metadata": {
    "tags": []
   },
   "outputs": [],
   "source": [
    "hwy_displ_class = ...\n",
    "hwy_displ_class.draw()"
   ]
  },
  {
   "cell_type": "code",
   "execution_count": null,
   "id": "467ff986",
   "metadata": {
    "deletable": false,
    "editable": false
   },
   "outputs": [],
   "source": [
    "grader.check(\"q2_7\")"
   ]
  },
  {
   "cell_type": "markdown",
   "id": "72bfbd9c",
   "metadata": {
    "deletable": false,
    "editable": false
   },
   "source": [
    "**Question 2.8:** Interestingly, the plot from the previous problem shows us that most of those vehicles with abnormally large engine sizes are 2-seaters. What kind of cars are those?\n",
    "\n",
    "Add `manufacturer` to the scatterplot by mapping it to a color aesthetic. \n",
    "\n",
    "*HINT:* To see everything in the legends, you might find it helpful to add to your ggplot object\n",
    "```python\n",
    "+ theme(figure_size=(8, 8))\n",
    "```"
   ]
  },
  {
   "cell_type": "code",
   "execution_count": null,
   "id": "9a6abc5b",
   "metadata": {
    "tags": []
   },
   "outputs": [],
   "source": [
    "hwy_displ_class_manuf = ...\n",
    "                         ...\n",
    "                         ...\n",
    "hwy_displ_class_manuf.draw()"
   ]
  },
  {
   "cell_type": "code",
   "execution_count": null,
   "id": "617a6648",
   "metadata": {
    "deletable": false,
    "editable": false
   },
   "outputs": [],
   "source": [
    "grader.check(\"q2_8\")"
   ]
  },
  {
   "cell_type": "markdown",
   "id": "332b529b",
   "metadata": {
    "deletable": false,
    "editable": false
   },
   "source": [
    "**Question 2.9:**  What happens if you map a numeric variable to the color aesthetic? Create the same plot as the one above, map `cty` to the color aesthetic instead of manufacturer. Try other numeric variables too. What do you notice?"
   ]
  },
  {
   "cell_type": "code",
   "execution_count": null,
   "id": "774b3581",
   "metadata": {
    "tags": []
   },
   "outputs": [],
   "source": [
    "hwy_displ_class_cty = ...\n",
    "                         ...\n",
    "hwy_displ_class_cty.draw()"
   ]
  },
  {
   "cell_type": "code",
   "execution_count": null,
   "id": "d1a5a5c9",
   "metadata": {
    "deletable": false,
    "editable": false
   },
   "outputs": [],
   "source": [
    "grader.check(\"q2_9\")"
   ]
  },
  {
   "cell_type": "markdown",
   "id": "50154f50",
   "metadata": {},
   "source": [
    "If you find those lighter colors in the plot above difficult to see, it is also possible to set different scales for your color mapping. `plotnine` supports the matplotlib [colormaps](https://matplotlib.org/stable/users/explain/colors/colormaps.html). For example, we could use the the `seismic` colormap.  "
   ]
  },
  {
   "cell_type": "code",
   "execution_count": null,
   "id": "ab3cc88d",
   "metadata": {},
   "outputs": [],
   "source": [
    "(ggplot(mpg,aes(x='displ',y='hwy', shape = 'class',color = 'cty')) # SOLUTION\n",
    "                + geom_point() # SOLUTION\n",
    "                + scale_color_cmap(cmap_name=\"seismic\") # SOLUTION       \n",
    ").draw()"
   ]
  },
  {
   "cell_type": "markdown",
   "id": "ceb9a60b",
   "metadata": {
    "deletable": false,
    "editable": false
   },
   "source": [
    "<!-- BEGIN QUESTION -->\n",
    "\n",
    "**Question 2.10:** Play around with mapping different variables to different aesthetics. How do these aesthetics behave differently for categorical vs. numeric variables?"
   ]
  },
  {
   "cell_type": "markdown",
   "id": "8e0f50a4",
   "metadata": {},
   "source": [
    "_Type your answer here, replacing this text._"
   ]
  },
  {
   "cell_type": "markdown",
   "id": "4d9303bb",
   "metadata": {
    "deletable": false,
    "editable": false
   },
   "source": [
    "<!-- END QUESTION -->\n",
    "\n",
    "**Question 2.11:** We've seen that a way to add an additional variable is with aesthetics.  Another option, particularly useful for categorical variables, is to split the plot into facets. `facet_wrap()` allows us to do this (as long as the variable we pass in is discrete). This will create subplots that each display one subset of the data. \n",
    "\n",
    "Create a plot with `displ` mapped to the x-axis, `hwy` mapped to the y-axis and facetted with the `class` variable. Use this to create a subplot structure with 2 rows. "
   ]
  },
  {
   "cell_type": "code",
   "execution_count": null,
   "id": "36977dac",
   "metadata": {
    "tags": []
   },
   "outputs": [],
   "source": [
    "hwy_displ_class_fac = ...\n",
    "                        ...\n",
    "                        ...\n",
    "hwy_displ_class_fac.draw()"
   ]
  },
  {
   "cell_type": "code",
   "execution_count": null,
   "id": "aca2cc68",
   "metadata": {
    "deletable": false,
    "editable": false
   },
   "outputs": [],
   "source": [
    "grader.check(\"q2_11\")"
   ]
  },
  {
   "cell_type": "markdown",
   "id": "ab132088",
   "metadata": {
    "deletable": false,
    "editable": false
   },
   "source": [
    "**Questin 2.12:** Geometrical objects (*geoms*) are used to represent data in different ways.  We often describe the type of plot by the geom used by the plot-- for example, bar charts use bar geoms (`geom_bar`), line charts use line geoms (`geom_line`), boxplots use boxplot geoms `geom_boxplot`, scatterplots use the point geom (`geom_point`), etc.\n",
    "\n",
    "Create a bar plot to show the number of vehicles in the dataset for each `class`. "
   ]
  },
  {
   "cell_type": "code",
   "execution_count": null,
   "id": "8174a825",
   "metadata": {
    "tags": []
   },
   "outputs": [],
   "source": [
    "class_count = ...\n",
    "class_count.draw()"
   ]
  },
  {
   "cell_type": "code",
   "execution_count": null,
   "id": "40642b7c",
   "metadata": {
    "deletable": false,
    "editable": false
   },
   "outputs": [],
   "source": [
    "grader.check(\"q2_12\")"
   ]
  },
  {
   "cell_type": "markdown",
   "id": "36b83f4e",
   "metadata": {},
   "source": [
    "Statistical transfromations (*stats*) allow us to summarize or smooth the data. For example, `stat_summary()` summarizes the $y$ value for each unique $x$ value by plotting a the median, the minimum, and the maximum values of $y$ for each $x$. See the example below. "
   ]
  },
  {
   "cell_type": "code",
   "execution_count": null,
   "id": "53817b1d",
   "metadata": {
    "scrolled": true
   },
   "outputs": [],
   "source": [
    "( \n",
    "    ggplot(data=mpg, mapping=aes(x=\"displ\", y=\"hwy\")) \n",
    "    + stat_summary(\n",
    "    fun_ymin=np.min,\n",
    "    fun_ymax=np.max,\n",
    "    fun_y=np.median)\n",
    ").draw()"
   ]
  },
  {
   "cell_type": "markdown",
   "id": "708d72bd",
   "metadata": {
    "deletable": false,
    "editable": false
   },
   "source": [
    "**Question 2.13:** Stats also allow us to smooth the data.\n",
    "\n",
    "Create a scatter plot with `displ` mapped to the x-axis, `hwy` mapped to the y-axis and a smooth stat. Try using different \"methods\" of smoothing. You can find the options [here](https://plotnine.org/reference/stat_smooth#plotnine.stat_smooth)."
   ]
  },
  {
   "cell_type": "code",
   "execution_count": null,
   "id": "08ac32e5",
   "metadata": {
    "tags": []
   },
   "outputs": [],
   "source": [
    "hwy_displ_smooth = ...\n",
    "                        ...\n",
    "                        ...\n",
    "hwy_displ_smooth.draw()"
   ]
  },
  {
   "cell_type": "code",
   "execution_count": null,
   "id": "a36aa8c4",
   "metadata": {
    "deletable": false,
    "editable": false
   },
   "outputs": [],
   "source": [
    "grader.check(\"q2_13\")"
   ]
  },
  {
   "cell_type": "markdown",
   "id": "c328e178",
   "metadata": {
    "deletable": false,
    "editable": false
   },
   "source": [
    "**Question 2.14:** Create the same plot as above, but this time map `class` to the color aesthetic. What happens to your smoother lines?"
   ]
  },
  {
   "cell_type": "code",
   "execution_count": null,
   "id": "352084c5",
   "metadata": {
    "tags": []
   },
   "outputs": [],
   "source": [
    "hwy_displ_smooth2 = ...\n",
    "                        ...\n",
    "                        ...\n",
    "hwy_displ_smooth2.draw()"
   ]
  },
  {
   "cell_type": "code",
   "execution_count": null,
   "id": "06c18714",
   "metadata": {
    "deletable": false,
    "editable": false
   },
   "outputs": [],
   "source": [
    "grader.check(\"q2_14\")"
   ]
  },
  {
   "cell_type": "markdown",
   "id": "7f33c34b",
   "metadata": {},
   "source": [
    "### Other things that affect the style of your graph\n",
    "There are several things you can do to adjust the style of your `plotnine` ggplot. Some of them are demonstrated below. "
   ]
  },
  {
   "cell_type": "code",
   "execution_count": null,
   "id": "2f639a06",
   "metadata": {},
   "outputs": [],
   "source": [
    "# add a title to your plot\n",
    "(ggplot(mpg,aes('displ','hwy')) \n",
    " + geom_point()\n",
    " + ggtitle('Highway MPG vs Engine Size')).draw()"
   ]
  },
  {
   "cell_type": "code",
   "execution_count": null,
   "id": "bea34dd7",
   "metadata": {},
   "outputs": [],
   "source": [
    "# update axis labels\n",
    "(ggplot(mpg,aes('displ','hwy')) \n",
    " + geom_point()\n",
    " + ggtitle('Highway MPG vs Engine Size')\n",
    " + xlab('Engine Size')\n",
    " + ylab('Highway MPG')).draw()"
   ]
  },
  {
   "cell_type": "code",
   "execution_count": null,
   "id": "418ba8e9",
   "metadata": {},
   "outputs": [],
   "source": [
    "# adjust the theme (options can be found at https://plotnine.org/reference/#themes)\n",
    "(ggplot(mpg,aes('displ','hwy')) \n",
    " + geom_point()\n",
    " + ggtitle('Highway MPG vs Engine Size')\n",
    " + xlab('Engine Size')\n",
    " + ylab('Highway MPG')\n",
    " + theme_classic()).draw()"
   ]
  },
  {
   "cell_type": "markdown",
   "id": "1136b7f8",
   "metadata": {},
   "source": [
    "### 3. Main Course: Analysis on Hans Rosling's TED Talk data  \n",
    "Hans Rosling's TED talk ends with data from 2003.  Two decades has passed, and new data is available.\n",
    "Gapminder is an independent Swedish foundation with no political, religious, or economic affiliations.  It was founded in 2005 by Hans Rosling and others.  In 2007, some of its software was acquired by Google, and the Gapminder team assisted Google in improving their search to return better results for global statistics from big data providers.  Rosling and coauthors also released the book Factfulness in 2018, which became an international best seller.\n",
    "Gapminder provides data curated from a number of reputable sources.  Data can be accessed on this website: https://www.gapminder.org/data/.\n",
    "A csv file called `gapminder_all.csv` has been placed in your local directory if you are working on JupyterHub. If you are working on your own device, download the data or read it in from online. Use that csv file to answer the following questions. "
   ]
  },
  {
   "cell_type": "markdown",
   "id": "9de51dc7",
   "metadata": {
    "deletable": false,
    "editable": false
   },
   "source": [
    "**Question 3.1:** Import the `gapminder_all.csv` data. "
   ]
  },
  {
   "cell_type": "code",
   "execution_count": null,
   "id": "64e0b086",
   "metadata": {
    "tags": []
   },
   "outputs": [],
   "source": [
    "df = ...\n",
    "df.head()"
   ]
  },
  {
   "cell_type": "code",
   "execution_count": null,
   "id": "6daee0aa",
   "metadata": {
    "deletable": false,
    "editable": false
   },
   "outputs": [],
   "source": [
    "grader.check(\"q3_1\")"
   ]
  },
  {
   "cell_type": "markdown",
   "id": "13804bb4",
   "metadata": {
    "deletable": false,
    "editable": false
   },
   "source": [
    "**Question 3.2:** Consider the data for GDP and life expectancy in 2007.  Make a scatterplot with life expectancy (`lifeExp_2007`) as a function of GDP (`gdpPercap_2007`).  Add the variable `continent` as a color.  What trends do you notice?  Discuss your observations in a few sentences."
   ]
  },
  {
   "cell_type": "code",
   "execution_count": null,
   "id": "ef64fadb",
   "metadata": {
    "tags": []
   },
   "outputs": [],
   "source": [
    "scatter_2007 = ...\n",
    "            ...\n",
    "scatter_2007.draw()"
   ]
  },
  {
   "cell_type": "code",
   "execution_count": null,
   "id": "c67c8266",
   "metadata": {
    "deletable": false,
    "editable": false
   },
   "outputs": [],
   "source": [
    "grader.check(\"q3_2\")"
   ]
  },
  {
   "cell_type": "markdown",
   "id": "2a18ec3e",
   "metadata": {
    "deletable": false,
    "editable": false
   },
   "source": [
    "**Question 3.3:** Create a new graph with the same information as above and with each country's 2007 population (`pop_2007`) mapped to a size aesthetic. Explain any trends you see. \n",
    "\n",
    "*NOTE:* This will create something called bubble plot. If you want the points to have a little transperency, you can use  `geom_point(alpha = 0.7)`."
   ]
  },
  {
   "cell_type": "code",
   "execution_count": null,
   "id": "ec0ccc20",
   "metadata": {
    "tags": []
   },
   "outputs": [],
   "source": [
    "bubble_2007 = ...\n",
    "            ...\n",
    "bubble_2007.draw()"
   ]
  },
  {
   "cell_type": "code",
   "execution_count": null,
   "id": "7e4cae4d",
   "metadata": {
    "deletable": false,
    "editable": false
   },
   "outputs": [],
   "source": [
    "grader.check(\"q3_3\")"
   ]
  },
  {
   "cell_type": "markdown",
   "id": "1c969a1b",
   "metadata": {
    "deletable": false,
    "editable": false
   },
   "source": [
    "**Question 3.4:** Dr. Rosling warned us it can be problematic to use average data and that context is important.  Therefore, instead of grouping countries by continent, let's focus on a specific continent and look at differences between countries.  \n",
    "\n",
    "Make a similar graph for only the African countries in the year 2007.  Use size of dots to represent country population, color of dots to represent different countries, and rename axes, plot title and legend titles so they are clear.  Legend labels can be renamed with `labs(color = 'your name', size = 'your name')`. Note, you might have to adjust the figure size too. "
   ]
  },
  {
   "cell_type": "code",
   "execution_count": null,
   "id": "26c7dc2f",
   "metadata": {
    "tags": []
   },
   "outputs": [],
   "source": [
    "africa_2007 = ...\n",
    "            ...\n",
    "            ...\n",
    "            +ggtitle('Africa in 2007')\n",
    "            ...\n",
    "            ...\n",
    "            ...\n",
    "africa_2007.draw()"
   ]
  },
  {
   "cell_type": "code",
   "execution_count": null,
   "id": "dfdbc52c",
   "metadata": {
    "deletable": false,
    "editable": false
   },
   "outputs": [],
   "source": [
    "grader.check(\"q3_4\")"
   ]
  },
  {
   "cell_type": "markdown",
   "id": "a472b4af",
   "metadata": {
    "deletable": false,
    "editable": false
   },
   "source": [
    "**Question 3.5:** Repeat the task above, but this time, focus on the Americas.  \n",
    "\n",
    "Which two countries in the Americas had an extremely high GDP and an extremely high life expectancy in 2007?  Which country had a very low GDP and a very low life expectancy?"
   ]
  },
  {
   "cell_type": "code",
   "execution_count": null,
   "id": "8935abc5",
   "metadata": {
    "tags": []
   },
   "outputs": [],
   "source": [
    "americas_2007 = ...\n",
    "            ...\n",
    "            ...\n",
    "            ...\n",
    "            ...\n",
    "            ...\n",
    "            ...\n",
    "americas_2007.draw()"
   ]
  },
  {
   "cell_type": "code",
   "execution_count": null,
   "id": "6f79d392",
   "metadata": {
    "deletable": false,
    "editable": false
   },
   "outputs": [],
   "source": [
    "grader.check(\"q3_5\")"
   ]
  },
  {
   "cell_type": "markdown",
   "id": "6e9ffadb",
   "metadata": {
    "deletable": false,
    "editable": false
   },
   "source": [
    "<!-- BEGIN QUESTION -->\n",
    "\n",
    "**Question 3.6** Do you have a hypothesis about what factors impact the expected life expectancy in the countries with the two highest GDPs in 2007?  Why do you think they are ordered as they are?  (Feel free to use Google as you brainstorm.)  What about the country with the lowest GDP/life expectancy?"
   ]
  },
  {
   "cell_type": "markdown",
   "id": "dbaccc00",
   "metadata": {},
   "source": [
    "_Type your answer here, replacing this text._"
   ]
  },
  {
   "cell_type": "markdown",
   "id": "b31166d2",
   "metadata": {
    "deletable": false,
    "editable": false
   },
   "source": [
    "<!-- END QUESTION -->\n",
    "\n",
    "## You're done! \n",
    "\n",
    "Gus says congratulations on finishing the lab this week, and he wants you to have these flowers. Run the cell below and submit to Canvas. \n",
    "\n",
    "\n",
    "<img src=\"gus_gives_flowers.JPG\" alt=\"drawing\" width=\"500\"/>\n",
    "\n",
    "### References\n",
    "- Wickham, Hadley. \"A layered grammar of graphics.\" Journal of Computational and Graphical Statistics 19.1 (2010): 3-28. https://byrneslab.net/classes/biol607/readings/wickham_layered-grammar.pdf\n",
    "- Wilkinson, Leland. The grammar of graphics. Springer Berlin Heidelberg, 2012.\n",
    "- Factfulness: Ten Reasons We're Wrong About the World and Why Things Are Better Than You Think by Hans Rosling and Anna Rosling Ronnlund\n",
    "- Elegant Graphics for Data Analysis, Springer 3rd edition by Hadley Wickham, Danielle Navarro, and Thomas Lin Pedersen.: https://ggplot2-book.org/index.html"
   ]
  },
  {
   "cell_type": "code",
   "execution_count": null,
   "id": "fd9ada3e",
   "metadata": {},
   "outputs": [],
   "source": []
  },
  {
   "cell_type": "markdown",
   "id": "35b0380b",
   "metadata": {
    "deletable": false,
    "editable": false
   },
   "source": [
    "## Submission\n",
    "\n",
    "Make sure you have run all cells in your notebook in order before running the cell below, so that all images/graphs appear in the output. The cell below will generate a zip file for you to submit. **Please save before exporting!**"
   ]
  },
  {
   "cell_type": "code",
   "execution_count": null,
   "id": "c1af376f",
   "metadata": {
    "deletable": false,
    "editable": false
   },
   "outputs": [],
   "source": [
    "# Save your notebook first, then run this cell to export your submission.\n",
    "grader.export(run_tests=True)"
   ]
  },
  {
   "cell_type": "markdown",
   "id": "3fc65e34",
   "metadata": {},
   "source": [
    " "
   ]
  }
 ],
 "metadata": {
  "kernelspec": {
   "display_name": "Python 3 (ipykernel)",
   "language": "python",
   "name": "python3"
  },
  "language_info": {
   "codemirror_mode": {
    "name": "ipython",
    "version": 3
   },
   "file_extension": ".py",
   "mimetype": "text/x-python",
   "name": "python",
   "nbconvert_exporter": "python",
   "pygments_lexer": "ipython3",
   "version": "3.11.4"
  },
  "otter": {
   "OK_FORMAT": true,
   "tests": {
    "q1_1_manual": {
     "name": "q1_1_manual",
     "points": null,
     "suites": [
      {
       "cases": [],
       "scored": true,
       "setup": "",
       "teardown": "",
       "type": "doctest"
      }
     ]
    },
    "q1_2_manual": {
     "name": "q1_2_manual",
     "points": null,
     "suites": [
      {
       "cases": [],
       "scored": true,
       "setup": "",
       "teardown": "",
       "type": "doctest"
      }
     ]
    },
    "q1_3_manual": {
     "name": "q1_3_manual",
     "points": null,
     "suites": [
      {
       "cases": [],
       "scored": true,
       "setup": "",
       "teardown": "",
       "type": "doctest"
      }
     ]
    },
    "q1_4_manual": {
     "name": "q1_4_manual",
     "points": null,
     "suites": [
      {
       "cases": [],
       "scored": true,
       "setup": "",
       "teardown": "",
       "type": "doctest"
      }
     ]
    },
    "q1_5_manual": {
     "name": "q1_5_manual",
     "points": null,
     "suites": [
      {
       "cases": [],
       "scored": true,
       "setup": "",
       "teardown": "",
       "type": "doctest"
      }
     ]
    },
    "q2_1": {
     "name": "q2_1",
     "points": null,
     "suites": [
      {
       "cases": [
        {
         "code": ">>> num_rows\n234",
         "hidden": false,
         "locked": false
        },
        {
         "code": ">>> num_cols\n11",
         "hidden": false,
         "locked": false
        }
       ],
       "scored": true,
       "setup": "",
       "teardown": "",
       "type": "doctest"
      }
     ]
    },
    "q2_10_manual": {
     "name": "q2_10_manual",
     "points": null,
     "suites": [
      {
       "cases": [],
       "scored": true,
       "setup": "",
       "teardown": "",
       "type": "doctest"
      }
     ]
    },
    "q2_11": {
     "name": "q2_11",
     "points": null,
     "suites": [
      {
       "cases": [
        {
         "code": ">>> type(hwy_displ_class_fac) == type(ggplot())\nTrue",
         "hidden": false,
         "locked": false
        },
        {
         "code": ">>> hwy_displ_class_cty.mapping['x']\n'displ'",
         "hidden": false,
         "locked": false
        },
        {
         "code": ">>> hwy_displ_class_cty.mapping['y']\n'hwy'",
         "hidden": false,
         "locked": false
        }
       ],
       "scored": true,
       "setup": "",
       "teardown": "",
       "type": "doctest"
      }
     ]
    },
    "q2_12": {
     "name": "q2_12",
     "points": null,
     "suites": [
      {
       "cases": [
        {
         "code": ">>> type(class_count) == type(ggplot())\nTrue",
         "hidden": false,
         "locked": false
        },
        {
         "code": ">>> class_count.mapping['x']\n'class'",
         "hidden": false,
         "locked": false
        }
       ],
       "scored": true,
       "setup": "",
       "teardown": "",
       "type": "doctest"
      }
     ]
    },
    "q2_13": {
     "name": "q2_13",
     "points": null,
     "suites": [
      {
       "cases": [
        {
         "code": ">>> type(hwy_displ_smooth) == type(ggplot())\nTrue",
         "hidden": false,
         "locked": false
        },
        {
         "code": ">>> hwy_displ_smooth.mapping['x']\n'displ'",
         "hidden": false,
         "locked": false
        },
        {
         "code": ">>> hwy_displ_smooth.mapping['y']\n'hwy'",
         "hidden": false,
         "locked": false
        }
       ],
       "scored": true,
       "setup": "",
       "teardown": "",
       "type": "doctest"
      }
     ]
    },
    "q2_14": {
     "name": "q2_14",
     "points": null,
     "suites": [
      {
       "cases": [
        {
         "code": ">>> type(hwy_displ_smooth2) == type(ggplot())\nTrue",
         "hidden": false,
         "locked": false
        },
        {
         "code": ">>> hwy_displ_smooth2.mapping['x']\n'displ'",
         "hidden": false,
         "locked": false
        },
        {
         "code": ">>> hwy_displ_smooth2.mapping['y']\n'hwy'",
         "hidden": false,
         "locked": false
        },
        {
         "code": ">>> hwy_displ_smooth2.mapping['color']\n'class'",
         "hidden": false,
         "locked": false
        }
       ],
       "scored": true,
       "setup": "",
       "teardown": "",
       "type": "doctest"
      }
     ]
    },
    "q2_2_manual": {
     "name": "q2_2_manual",
     "points": null,
     "suites": [
      {
       "cases": [],
       "scored": true,
       "setup": "",
       "teardown": "",
       "type": "doctest"
      }
     ]
    },
    "q2_3": {
     "name": "q2_3",
     "points": null,
     "suites": [
      {
       "cases": [
        {
         "code": ">>> type(cyl_hwy) == type(ggplot())\nTrue",
         "hidden": false,
         "locked": false
        },
        {
         "code": ">>> cyl_hwy.mapping['x']\n'cyl'",
         "hidden": false,
         "locked": false
        },
        {
         "code": ">>> cyl_hwy.mapping['y']\n'hwy'",
         "hidden": false,
         "locked": false
        }
       ],
       "scored": true,
       "setup": "",
       "teardown": "",
       "type": "doctest"
      }
     ]
    },
    "q2_4": {
     "name": "q2_4",
     "points": null,
     "suites": [
      {
       "cases": [
        {
         "code": ">>> type(class_drv) == type(ggplot())\nTrue",
         "hidden": false,
         "locked": false
        },
        {
         "code": ">>> class_drv.mapping['x']\n'drv'",
         "hidden": false,
         "locked": false
        },
        {
         "code": ">>> class_drv.mapping['y']\n'class'",
         "hidden": false,
         "locked": false
        }
       ],
       "scored": true,
       "setup": "",
       "teardown": "",
       "type": "doctest"
      }
     ]
    },
    "q2_5": {
     "name": "q2_5",
     "points": null,
     "suites": [
      {
       "cases": [
        {
         "code": ">>> type(hwy_displ) == type(ggplot())\nTrue",
         "hidden": false,
         "locked": false
        },
        {
         "code": ">>> hwy_displ.mapping['x']\n'displ'",
         "hidden": false,
         "locked": false
        },
        {
         "code": ">>> hwy_displ.mapping['y']\n'hwy'",
         "hidden": false,
         "locked": false
        }
       ],
       "scored": true,
       "setup": "",
       "teardown": "",
       "type": "doctest"
      }
     ]
    },
    "q2_6": {
     "name": "q2_6",
     "points": null,
     "suites": [
      {
       "cases": [
        {
         "code": ">>> all([i in ['manufacturer', 'model', 'trans', 'drv', 'fl', 'class'] for i in categorical])\nTrue",
         "hidden": false,
         "locked": false
        },
        {
         "code": ">>> all([i in ['displ', 'year', 'cyl', 'cty', 'hwy'] for i in numeric])\nTrue",
         "hidden": false,
         "locked": false
        }
       ],
       "scored": true,
       "setup": "",
       "teardown": "",
       "type": "doctest"
      }
     ]
    },
    "q2_7": {
     "name": "q2_7",
     "points": null,
     "suites": [
      {
       "cases": [
        {
         "code": ">>> type(hwy_displ_class) == type(ggplot())\nTrue",
         "hidden": false,
         "locked": false
        },
        {
         "code": ">>> hwy_displ_class.mapping['shape']\n'class'",
         "hidden": false,
         "locked": false
        },
        {
         "code": ">>> hwy_displ_class.mapping['x']\n'displ'",
         "hidden": false,
         "locked": false
        },
        {
         "code": ">>> hwy_displ_class.mapping['y']\n'hwy'",
         "hidden": false,
         "locked": false
        }
       ],
       "scored": true,
       "setup": "",
       "teardown": "",
       "type": "doctest"
      }
     ]
    },
    "q2_8": {
     "name": "q2_8",
     "points": null,
     "suites": [
      {
       "cases": [
        {
         "code": ">>> type(hwy_displ_class_manuf) == type(ggplot())\nTrue",
         "hidden": false,
         "locked": false
        },
        {
         "code": ">>> hwy_displ_class_manuf.mapping['color']\n'manufacturer'",
         "hidden": false,
         "locked": false
        },
        {
         "code": ">>> hwy_displ_class_manuf.mapping['x']\n'displ'",
         "hidden": false,
         "locked": false
        },
        {
         "code": ">>> hwy_displ_class_manuf.mapping['y']\n'hwy'",
         "hidden": false,
         "locked": false
        },
        {
         "code": ">>> hwy_displ_class_manuf.mapping['shape']\n'class'",
         "hidden": false,
         "locked": false
        }
       ],
       "scored": true,
       "setup": "",
       "teardown": "",
       "type": "doctest"
      }
     ]
    },
    "q2_9": {
     "name": "q2_9",
     "points": null,
     "suites": [
      {
       "cases": [
        {
         "code": ">>> type(hwy_displ_class_cty) == type(ggplot())\nTrue",
         "hidden": false,
         "locked": false
        },
        {
         "code": ">>> hwy_displ_class_cty.mapping['color']\n'cty'",
         "hidden": false,
         "locked": false
        },
        {
         "code": ">>> hwy_displ_class_cty.mapping['x']\n'displ'",
         "hidden": false,
         "locked": false
        },
        {
         "code": ">>> hwy_displ_class_cty.mapping['y']\n'hwy'",
         "hidden": false,
         "locked": false
        }
       ],
       "scored": true,
       "setup": "",
       "teardown": "",
       "type": "doctest"
      }
     ]
    },
    "q3_1": {
     "name": "q3_1",
     "points": null,
     "suites": [
      {
       "cases": [
        {
         "code": ">>> df.shape\n(142, 38)",
         "hidden": false,
         "locked": false
        },
        {
         "code": ">>> df.columns\nIndex(['continent', 'country', 'gdpPercap_1952', 'gdpPercap_1957',\n       'gdpPercap_1962', 'gdpPercap_1967', 'gdpPercap_1972', 'gdpPercap_1977',\n       'gdpPercap_1982', 'gdpPercap_1987', 'gdpPercap_1992', 'gdpPercap_1997',\n       'gdpPercap_2002', 'gdpPercap_2007', 'lifeExp_1952', 'lifeExp_1957',\n       'lifeExp_1962', 'lifeExp_1967', 'lifeExp_1972', 'lifeExp_1977',\n       'lifeExp_1982', 'lifeExp_1987', 'lifeExp_1992', 'lifeExp_1997',\n       'lifeExp_2002', 'lifeExp_2007', 'pop_1952', 'pop_1957', 'pop_1962',\n       'pop_1967', 'pop_1972', 'pop_1977', 'pop_1982', 'pop_1987', 'pop_1992',\n       'pop_1997', 'pop_2002', 'pop_2007'],\n      dtype='object')",
         "hidden": false,
         "locked": false
        }
       ],
       "scored": true,
       "setup": "",
       "teardown": "",
       "type": "doctest"
      }
     ]
    },
    "q3_2": {
     "name": "q3_2",
     "points": null,
     "suites": [
      {
       "cases": [
        {
         "code": ">>> scatter_2007.mapping['x']\n'gdpPercap_2007'",
         "hidden": false,
         "locked": false
        },
        {
         "code": ">>> scatter_2007.mapping['y']\n'lifeExp_2007'",
         "hidden": false,
         "locked": false
        },
        {
         "code": ">>> scatter_2007.mapping['color']\n'continent'",
         "hidden": false,
         "locked": false
        }
       ],
       "scored": true,
       "setup": "",
       "teardown": "",
       "type": "doctest"
      }
     ]
    },
    "q3_3": {
     "name": "q3_3",
     "points": null,
     "suites": [
      {
       "cases": [
        {
         "code": ">>> bubble_2007.mapping['x']\n'gdpPercap_2007'",
         "hidden": false,
         "locked": false
        },
        {
         "code": ">>> bubble_2007.mapping['y']\n'lifeExp_2007'",
         "hidden": false,
         "locked": false
        },
        {
         "code": ">>> bubble_2007.mapping['color']\n'continent'",
         "hidden": false,
         "locked": false
        },
        {
         "code": ">>> bubble_2007.mapping['size']\n'pop_2007'",
         "hidden": false,
         "locked": false
        }
       ],
       "scored": true,
       "setup": "",
       "teardown": "",
       "type": "doctest"
      }
     ]
    },
    "q3_4": {
     "name": "q3_4",
     "points": null,
     "suites": [
      {
       "cases": [
        {
         "code": ">>> africa_2007.mapping['x']\n'gdpPercap_2007'",
         "hidden": false,
         "locked": false
        },
        {
         "code": ">>> africa_2007.mapping['y']\n'lifeExp_2007'",
         "hidden": false,
         "locked": false
        },
        {
         "code": ">>> africa_2007.mapping['color']\n'country'",
         "hidden": false,
         "locked": false
        },
        {
         "code": ">>> africa_2007.mapping['size']\n'pop_2007'",
         "hidden": false,
         "locked": false
        }
       ],
       "scored": true,
       "setup": "",
       "teardown": "",
       "type": "doctest"
      }
     ]
    },
    "q3_5": {
     "name": "q3_5",
     "points": null,
     "suites": [
      {
       "cases": [
        {
         "code": ">>> americas_2007.mapping['x']\n'gdpPercap_2007'",
         "hidden": false,
         "locked": false
        },
        {
         "code": ">>> americas_2007.mapping['y']\n'lifeExp_2007'",
         "hidden": false,
         "locked": false
        },
        {
         "code": ">>> americas_2007.mapping['color']\n'country'",
         "hidden": false,
         "locked": false
        },
        {
         "code": ">>> americas_2007.mapping['size']\n'pop_2007'",
         "hidden": false,
         "locked": false
        }
       ],
       "scored": true,
       "setup": "",
       "teardown": "",
       "type": "doctest"
      }
     ]
    },
    "q3_6_manual": {
     "name": "q3_6_manual",
     "points": null,
     "suites": [
      {
       "cases": [],
       "scored": true,
       "setup": "",
       "teardown": "",
       "type": "doctest"
      }
     ]
    }
   }
  }
 },
 "nbformat": 4,
 "nbformat_minor": 5
}
