{
 "cells": [
  {
   "cell_type": "code",
   "execution_count": null,
   "id": "8ca56daa",
   "metadata": {
    "deletable": false,
    "editable": false
   },
   "outputs": [],
   "source": [
    "# Initialize Otter\n",
    "import otter\n",
    "grader = otter.Notebook(\"lab07.ipynb\")"
   ]
  },
  {
   "cell_type": "markdown",
   "id": "c9027797",
   "metadata": {},
   "source": [
    "# Lab 07: Exploratory Data Analysis of California Housing Prices"
   ]
  },
  {
   "cell_type": "markdown",
   "id": "41a79ac0",
   "metadata": {},
   "source": [
    "Exploratory Data Analysis (EDA) in Python is a critical step in understanding and summarizing the characteristics of a dataset before diving into modeling. It involves techniques such as data visualization, statistical analysis, and summarization to gain insights into the data's underlying patterns and relationships. EDA is useful for identifying outliers, missing values, and understanding the distribution of variables, ultimately guiding preprocessing steps and informing subsequent modeling decisions. By exploring the data, we can uncover patterns, validate assumptions, and generate hypotheses, laying a solid foundation for further analysis and modeling. Many visualizations for EDA in Python are generated with the `seaborn` module.\n",
    "\n",
    "The `seaborn` documentation and tutorials can can be found [here](https://seaborn.pydata.org/examples/index.html).\n",
    "\n",
    "### In today's lab, we will...\n",
    "- Demonstrate mastery of methods for EDA\n",
    "- Use Pandas DataFrame\n",
    "- Use Seaborn to plot\n",
    "    - pair plots\n",
    "    - scatterplots\n",
    "    - heat map of correlation coefficients\n",
    "    - line of best fit and confidence interval\n",
    "    "
   ]
  },
  {
   "cell_type": "code",
   "execution_count": null,
   "id": "bf755f06",
   "metadata": {
    "tags": []
   },
   "outputs": [],
   "source": [
    "# import packages we will use\n",
    "import numpy as np\n",
    "import pandas as pd\n",
    "import matplotlib.pyplot as plt\n",
    "import sklearn # to get the California data set\n",
    "import warnings \n",
    "warnings.filterwarnings('ignore') "
   ]
  },
  {
   "cell_type": "markdown",
   "id": "0ec178ef",
   "metadata": {},
   "source": [
    "### 1. Import the Data\n",
    "\n",
    "We will begin by importing the dataset from a Python module called `scikit-learn`. `scikit-learn` is a machine learning module for Python. We will not learn about the functions and capabilities of the module in great depth in this course (you will see a lot more of it in DATA 322 and DATA 422), but we will occasionally use it in this class to import datasets. Like `plotnine` and `seaborn`, `scikit-learn` has several stored datasets. Today, we will use one about California housing prices. Run the cells below to import the data. "
   ]
  },
  {
   "cell_type": "code",
   "execution_count": null,
   "id": "cc0e293a",
   "metadata": {
    "tags": []
   },
   "outputs": [],
   "source": [
    "from sklearn.datasets import fetch_california_housing\n",
    "data = fetch_california_housing(as_frame=True)"
   ]
  },
  {
   "cell_type": "code",
   "execution_count": null,
   "id": "0cfd9663",
   "metadata": {
    "tags": []
   },
   "outputs": [],
   "source": [
    "# check the type of data\n",
    "type(data)"
   ]
  },
  {
   "cell_type": "markdown",
   "id": "abb9040b",
   "metadata": {},
   "source": [
    "As we can see, when we import the data it is imported as a `sklearn` bunch object. "
   ]
  },
  {
   "cell_type": "code",
   "execution_count": null,
   "id": "c224b029",
   "metadata": {
    "tags": []
   },
   "outputs": [],
   "source": [
    "# This is what the data look like\n",
    "data"
   ]
  },
  {
   "cell_type": "code",
   "execution_count": null,
   "id": "7f657933",
   "metadata": {
    "tags": []
   },
   "outputs": [],
   "source": [
    "# To get a general description of the dataset\n",
    "print(data.DESCR)"
   ]
  },
  {
   "cell_type": "markdown",
   "id": "8ba94d2d",
   "metadata": {
    "deletable": false,
    "editable": false
   },
   "source": [
    "<!-- BEGIN QUESTION -->\n",
    "\n",
    "**Question 1:** Based on the info shown above, the dataset contains attributes and a target. Make a bullet point list in Markdown of each attribute and target in the dataset and a description of what each one is. "
   ]
  },
  {
   "cell_type": "markdown",
   "id": "ba31aae4",
   "metadata": {},
   "source": [
    "_Type your answer here, replacing this text._"
   ]
  },
  {
   "cell_type": "markdown",
   "id": "1f9bb8a3",
   "metadata": {
    "deletable": false,
    "editable": false
   },
   "source": [
    "<!-- END QUESTION -->\n",
    "\n",
    "Now that we have a general understanding of the data, let's put it into a Pandas DataFrame with the target variable as the last column."
   ]
  },
  {
   "cell_type": "code",
   "execution_count": null,
   "id": "e9289979",
   "metadata": {
    "tags": []
   },
   "outputs": [],
   "source": [
    "ca_houses = pd.DataFrame(data=data.data, columns=data.feature_names)\n",
    "ca_houses['MedHouseVal'] = data.target # add last column\n",
    "ca_houses.head()"
   ]
  },
  {
   "cell_type": "markdown",
   "id": "204c529b",
   "metadata": {},
   "source": [
    "### 2. EDA - initial inspection"
   ]
  },
  {
   "cell_type": "markdown",
   "id": "2a609b5b",
   "metadata": {
    "deletable": false,
    "editable": false
   },
   "source": [
    "**Question 2.1:** How many rows and columns are in the `ca_houses` DataFrame?"
   ]
  },
  {
   "cell_type": "code",
   "execution_count": null,
   "id": "ff0cbbbf",
   "metadata": {
    "tags": []
   },
   "outputs": [],
   "source": [
    "num_rows = ...\n",
    "num_cols = ...\n",
    "\n",
    "num_rows,num_cols"
   ]
  },
  {
   "cell_type": "code",
   "execution_count": null,
   "id": "69b708a4",
   "metadata": {
    "deletable": false,
    "editable": false
   },
   "outputs": [],
   "source": [
    "grader.check(\"q2_1\")"
   ]
  },
  {
   "cell_type": "markdown",
   "id": "ce98c930",
   "metadata": {
    "deletable": false,
    "editable": false
   },
   "source": [
    "**Question 2.2:** Use Pandas method(s) to determine the minimum, maximum, mean, and median of the median house values in the data set."
   ]
  },
  {
   "cell_type": "code",
   "execution_count": null,
   "id": "79bc613d",
   "metadata": {
    "tags": []
   },
   "outputs": [],
   "source": [
    "describe_ca_houses = ...\n",
    "describe_ca_houses"
   ]
  },
  {
   "cell_type": "code",
   "execution_count": null,
   "id": "a5e08038",
   "metadata": {
    "tags": []
   },
   "outputs": [],
   "source": [
    "min_val = ...\n",
    "max_val = ...\n",
    "mean_val = ...\n",
    "median_val = ...\n",
    "\n",
    "min_val, max_val, mean_val, median_val"
   ]
  },
  {
   "cell_type": "code",
   "execution_count": null,
   "id": "8e3cd380",
   "metadata": {
    "deletable": false,
    "editable": false
   },
   "outputs": [],
   "source": [
    "grader.check(\"q2_2\")"
   ]
  },
  {
   "cell_type": "markdown",
   "id": "caf9de0f",
   "metadata": {
    "deletable": false,
    "editable": false
   },
   "source": [
    "**Question 2.3:** In the data set, what feature has the largest mean? What feature has the smallest mean? Report your answers as strings. "
   ]
  },
  {
   "cell_type": "code",
   "execution_count": null,
   "id": "0bd6eda5",
   "metadata": {
    "tags": []
   },
   "outputs": [],
   "source": [
    "largest_mean = ...\n",
    "smallest_mean = ...\n",
    "\n",
    "largest_mean, smallest_mean"
   ]
  },
  {
   "cell_type": "code",
   "execution_count": null,
   "id": "f3ae23fa",
   "metadata": {
    "deletable": false,
    "editable": false
   },
   "outputs": [],
   "source": [
    "grader.check(\"q2_3\")"
   ]
  },
  {
   "cell_type": "markdown",
   "id": "47f63c90",
   "metadata": {
    "deletable": false,
    "editable": false
   },
   "source": [
    "<!-- BEGIN QUESTION -->\n",
    "\n",
    "**Question 2.4:** Do any variables take on negative values? Explain. "
   ]
  },
  {
   "cell_type": "markdown",
   "id": "2d981188",
   "metadata": {},
   "source": [
    "_Type your answer here, replacing this text._"
   ]
  },
  {
   "cell_type": "markdown",
   "id": "0e123e2f",
   "metadata": {
    "deletable": false,
    "editable": false
   },
   "source": [
    "<!-- END QUESTION -->\n",
    "\n",
    "### 3. EDA - preprocessing"
   ]
  },
  {
   "cell_type": "markdown",
   "id": "4235eaec",
   "metadata": {
    "deletable": false,
    "editable": false
   },
   "source": [
    "**Question 3.1:** Does the dataset contain any null values? Assign `has_nulls` to 0 if there are no null values and 1 if there are null values. Assign `columns_with_nulls` to a list containing the names of columns that contain null values. (`columns_with_nulls` should be an empty list if there are no null values)"
   ]
  },
  {
   "cell_type": "code",
   "execution_count": null,
   "id": "ae3c35c5",
   "metadata": {
    "tags": []
   },
   "outputs": [],
   "source": [
    "..."
   ]
  },
  {
   "cell_type": "code",
   "execution_count": null,
   "id": "af52f62a",
   "metadata": {
    "tags": []
   },
   "outputs": [],
   "source": [
    "has_nulls = ...\n",
    "columns_with_nulls = ..."
   ]
  },
  {
   "cell_type": "code",
   "execution_count": null,
   "id": "1fe7a843",
   "metadata": {
    "deletable": false,
    "editable": false
   },
   "outputs": [],
   "source": [
    "grader.check(\"q3_1\")"
   ]
  },
  {
   "cell_type": "markdown",
   "id": "2f9b48aa",
   "metadata": {
    "deletable": false,
    "editable": false
   },
   "source": [
    "**Question 3.2:** Does the dataset contain any duplicated rows? Assign `num_duplicates` to the number of duplicated rows in the dataset. If there are duplicates remove them from `ca_houses`. "
   ]
  },
  {
   "cell_type": "code",
   "execution_count": null,
   "id": "361a4c60",
   "metadata": {
    "tags": []
   },
   "outputs": [],
   "source": [
    "num_duplicates = ...\n",
    "num_duplicates"
   ]
  },
  {
   "cell_type": "code",
   "execution_count": null,
   "id": "2ac16b84",
   "metadata": {
    "deletable": false,
    "editable": false
   },
   "outputs": [],
   "source": [
    "grader.check(\"q3_2\")"
   ]
  },
  {
   "cell_type": "markdown",
   "id": "2e837cf8",
   "metadata": {},
   "source": [
    "### 4. EDA - visualization"
   ]
  },
  {
   "cell_type": "markdown",
   "id": "d9190337",
   "metadata": {
    "deletable": false,
    "editable": false
   },
   "source": [
    "**Question 4.1:** Import the `seaborn` module. "
   ]
  },
  {
   "cell_type": "code",
   "execution_count": null,
   "id": "581cc19b",
   "metadata": {
    "tags": []
   },
   "outputs": [],
   "source": [
    "...\n",
    "..."
   ]
  },
  {
   "cell_type": "code",
   "execution_count": null,
   "id": "daeb62b9",
   "metadata": {
    "deletable": false,
    "editable": false
   },
   "outputs": [],
   "source": [
    "grader.check(\"q4_1\")"
   ]
  },
  {
   "cell_type": "markdown",
   "id": "70ce6593",
   "metadata": {
    "deletable": false,
    "editable": false
   },
   "source": [
    "**Question 4.2:** Run the cell below to take a random sample of 100 rows from the `ca_houses` dataframe. Generate a Seaborn pairplot from the `ca_houses_random_sample` data.\n",
    "\n",
    "*NOTE:* Don't create your pairplot with the original `ca_houses` data. This could crash your kernel! "
   ]
  },
  {
   "cell_type": "code",
   "execution_count": null,
   "id": "e59cfb53-1889-4ec3-b713-845557b26bc3",
   "metadata": {
    "deletable": false,
    "editable": false,
    "tags": []
   },
   "outputs": [],
   "source": [
    "np.random.seed(1)\n",
    "ca_houses_random_sample = ca_houses.iloc[np.random.randint(0,len(ca_houses),100),:]"
   ]
  },
  {
   "cell_type": "code",
   "execution_count": null,
   "id": "25d0b925",
   "metadata": {
    "tags": []
   },
   "outputs": [],
   "source": [
    "houses_pairplot = ...\n",
    "houses_pairplot;"
   ]
  },
  {
   "cell_type": "code",
   "execution_count": null,
   "id": "94f3766e",
   "metadata": {
    "deletable": false,
    "editable": false
   },
   "outputs": [],
   "source": [
    "grader.check(\"q4_2\")"
   ]
  },
  {
   "cell_type": "markdown",
   "id": "3e7d239d",
   "metadata": {
    "deletable": false,
    "editable": false
   },
   "source": [
    "**Question 4.3:** Based on your pairplot, identify the pair of variables which appear to have the strongest positively correlation.\n",
    "\n",
    "1. `HouseAge` and `MedInc`\n",
    "2. `MedInc` and `MedHouseVal`\n",
    "3. `Population` and `MedHouseVal`\n",
    "4. `AveOccup` and `Longitude`\n",
    "\n",
    "Enter 1, 2, 3, or 4. "
   ]
  },
  {
   "cell_type": "code",
   "execution_count": null,
   "id": "8032ec3e",
   "metadata": {
    "tags": []
   },
   "outputs": [],
   "source": [
    "positive_corr = ...\n",
    "positive_corr"
   ]
  },
  {
   "cell_type": "code",
   "execution_count": null,
   "id": "fc841394",
   "metadata": {
    "deletable": false,
    "editable": false
   },
   "outputs": [],
   "source": [
    "grader.check(\"q4_3\")"
   ]
  },
  {
   "cell_type": "markdown",
   "id": "bab2f1d3",
   "metadata": {
    "deletable": false,
    "editable": false
   },
   "source": [
    "<!-- BEGIN QUESTION -->\n",
    "\n",
    "**Question 4.4:** Based on your pairplot, do any of the variables appear to be bimodal? If so, which? Any hypothesis as to why that might be? "
   ]
  },
  {
   "cell_type": "markdown",
   "id": "1d13923c",
   "metadata": {},
   "source": [
    "_Type your answer here, replacing this text._"
   ]
  },
  {
   "cell_type": "markdown",
   "id": "ba1df717",
   "metadata": {
    "deletable": false,
    "editable": false
   },
   "source": [
    "<!-- END QUESTION -->\n",
    "\n",
    "<!-- BEGIN QUESTION -->\n",
    "\n",
    "**Question 4.5:** List any other insights you gained from your pairplot."
   ]
  },
  {
   "cell_type": "markdown",
   "id": "77236701",
   "metadata": {},
   "source": [
    "_Type your answer here, replacing this text._"
   ]
  },
  {
   "cell_type": "markdown",
   "id": "6dc9f19d",
   "metadata": {
    "deletable": false,
    "editable": false
   },
   "source": [
    "<!-- END QUESTION -->\n",
    "\n",
    "**Question 4.6:** Generate a Seaborn countplot to determine how many rows of each `HouseAge` there are. Explain what you see. Does this reveal anything about how the data were collected or recorded?"
   ]
  },
  {
   "cell_type": "code",
   "execution_count": null,
   "id": "523891c5",
   "metadata": {
    "tags": []
   },
   "outputs": [],
   "source": [
    "...\n",
    "countplot_houses = ..."
   ]
  },
  {
   "cell_type": "code",
   "execution_count": null,
   "id": "db561251",
   "metadata": {
    "deletable": false,
    "editable": false
   },
   "outputs": [],
   "source": [
    "grader.check(\"q4_6\")"
   ]
  },
  {
   "cell_type": "markdown",
   "id": "9dd16554",
   "metadata": {
    "deletable": false,
    "editable": false
   },
   "source": [
    "**Question 4.7:** Create a correlation matrix and a heatmap to observe the corrlation between each pair of variables in `ca_houses`."
   ]
  },
  {
   "cell_type": "code",
   "execution_count": null,
   "id": "67abfdce",
   "metadata": {
    "tags": []
   },
   "outputs": [],
   "source": [
    "...\n",
    "correlation_mat = ...\n",
    "houses_heatmap = ..."
   ]
  },
  {
   "cell_type": "code",
   "execution_count": null,
   "id": "2f7963fb",
   "metadata": {
    "deletable": false,
    "editable": false
   },
   "outputs": [],
   "source": [
    "grader.check(\"q4_7\")"
   ]
  },
  {
   "cell_type": "markdown",
   "id": "1bdd5244",
   "metadata": {
    "deletable": false,
    "editable": false
   },
   "source": [
    "**Question 4.8:** Which variables are positively correlated with median house price?\n",
    "\n",
    "1. `MinInc`\n",
    "2. `HouseAge`\n",
    "3. `AveRooms`\n",
    "4. `AveBedrms`\n",
    "5. `Population`\n",
    "6. `AveOccup`\n",
    "7. `Latitude`\n",
    "8. `Longitude`\n",
    "\n",
    "Assign `pos_corr` to a list with the numbers associated with positive correlations. "
   ]
  },
  {
   "cell_type": "code",
   "execution_count": null,
   "id": "f4c164c1",
   "metadata": {
    "tags": []
   },
   "outputs": [],
   "source": [
    "pos_corr = ..."
   ]
  },
  {
   "cell_type": "code",
   "execution_count": null,
   "id": "642a9325",
   "metadata": {
    "deletable": false,
    "editable": false
   },
   "outputs": [],
   "source": [
    "grader.check(\"q4_8\")"
   ]
  },
  {
   "cell_type": "markdown",
   "id": "8f9c6242",
   "metadata": {
    "deletable": false,
    "editable": false
   },
   "source": [
    "**Question 4.9:**  One thing we might want to explore more is how housing prices relate to the median income (since those are strongly correlated according to the heatmap). Create a copy of the `ca_houses` dataframe called `ca_houses_with_income_status`."
   ]
  },
  {
   "cell_type": "code",
   "execution_count": null,
   "id": "705905ab",
   "metadata": {
    "tags": []
   },
   "outputs": [],
   "source": []
  },
  {
   "cell_type": "code",
   "execution_count": null,
   "id": "a7fbe90f",
   "metadata": {
    "deletable": false,
    "editable": false
   },
   "outputs": [],
   "source": [
    "grader.check(\"q4_9\")"
   ]
  },
  {
   "cell_type": "markdown",
   "id": "bb31db1a",
   "metadata": {
    "deletable": false,
    "editable": false
   },
   "source": [
    "**Question 4.10:**  Create a new column in the new dataframe called `IncStatus`. Set the value in the column to `below average` if the income is below the average `MedInc` value. Set it to `above average` otherwise. \n",
    "\n",
    "*HINT:* You may want to use list comprehension to create this new column. The structure should look like \n",
    "```python\n",
    "ca_houses_with_income_status['IncStatus'] = # your list comprehension here\n",
    "```"
   ]
  },
  {
   "cell_type": "code",
   "execution_count": null,
   "id": "834c0b6f",
   "metadata": {
    "tags": []
   },
   "outputs": [],
   "source": [
    "ave_income = ...\n",
    "ca_houses_with_income_status['IncStatus'] = ...\n",
    "ca_houses_with_income_status"
   ]
  },
  {
   "cell_type": "code",
   "execution_count": null,
   "id": "14e322cd",
   "metadata": {
    "deletable": false,
    "editable": false
   },
   "outputs": [],
   "source": [
    "grader.check(\"q4_10\")"
   ]
  },
  {
   "cell_type": "markdown",
   "id": "428f8d72",
   "metadata": {
    "deletable": false,
    "editable": false
   },
   "source": [
    "**Question 4.11:**  Create a boxplot showing the distribution of median housing prices for each category of income status. Comment on what you see. "
   ]
  },
  {
   "cell_type": "code",
   "execution_count": null,
   "id": "aee66548",
   "metadata": {
    "tags": []
   },
   "outputs": [],
   "source": [
    "...\n",
    "houses_boxplot = ..."
   ]
  },
  {
   "cell_type": "code",
   "execution_count": null,
   "id": "f1529f2b",
   "metadata": {
    "deletable": false,
    "editable": false
   },
   "outputs": [],
   "source": [
    "grader.check(\"q4_11\")"
   ]
  },
  {
   "cell_type": "markdown",
   "id": "0a1c0991",
   "metadata": {
    "deletable": false,
    "editable": false
   },
   "source": [
    "**Question 4.12:**  Create a seaborn scatter plot with Longitude along the x-axis and Latitude along the y-axis. Map the median house value to the color of points and map the population size to the size of the points. Be sure to give your plot a title.\n",
    "\n",
    "*NOTE:* You might find it helpful to change the transperency of the points using `alpha = 0.5` when you create the graph."
   ]
  },
  {
   "cell_type": "code",
   "execution_count": null,
   "id": "384559e1",
   "metadata": {
    "tags": []
   },
   "outputs": [],
   "source": [
    "...\n",
    "cali_scatter = ...\n",
    "...\n",
    "..."
   ]
  },
  {
   "cell_type": "code",
   "execution_count": null,
   "id": "bc9f2579",
   "metadata": {
    "deletable": false,
    "editable": false
   },
   "outputs": [],
   "source": [
    "grader.check(\"q4_12\")"
   ]
  },
  {
   "cell_type": "markdown",
   "id": "1a07f483",
   "metadata": {
    "deletable": false,
    "editable": false
   },
   "source": [
    "<!-- BEGIN QUESTION -->\n",
    "\n",
    "**Question 4.13:** What do you notice about the figure you made in the previous problem?  Describe your observations.  Does anything in this figure relate to bimodality you noticed in a few histograms?  Explain."
   ]
  },
  {
   "cell_type": "markdown",
   "id": "eca4dfd3",
   "metadata": {},
   "source": [
    "_Type your answer here, replacing this text._"
   ]
  },
  {
   "cell_type": "markdown",
   "id": "f83708bf",
   "metadata": {
    "deletable": false,
    "editable": false
   },
   "source": [
    "<!-- END QUESTION -->\n",
    "\n",
    "<!-- BEGIN QUESTION -->\n",
    "\n",
    "**Question 4.14:** In this 1990s data set, how do prices in Humboldt compare qualitatively to the rest of the state?"
   ]
  },
  {
   "cell_type": "markdown",
   "id": "e27468a7",
   "metadata": {},
   "source": [
    "_Type your answer here, replacing this text._"
   ]
  },
  {
   "cell_type": "markdown",
   "id": "65cbf328",
   "metadata": {
    "deletable": false,
    "editable": false
   },
   "source": [
    "<!-- END QUESTION -->\n",
    "\n",
    "**Question 4.15:**  Use a Seaborn data visualization to determine at least one region of California that tends to have older homes in this dataset. Assign the visualization to `age_plot`, then answer the question in the text cell provided."
   ]
  },
  {
   "cell_type": "code",
   "execution_count": null,
   "id": "3c7680a3",
   "metadata": {
    "tags": []
   },
   "outputs": [],
   "source": [
    "...\n",
    "age_plot = ...\n",
    "...\n",
    "..."
   ]
  },
  {
   "cell_type": "code",
   "execution_count": null,
   "id": "717a40f8",
   "metadata": {
    "deletable": false,
    "editable": false
   },
   "outputs": [],
   "source": [
    "grader.check(\"q4_15\")"
   ]
  },
  {
   "cell_type": "markdown",
   "id": "f022a39b",
   "metadata": {
    "deletable": false,
    "editable": false
   },
   "source": [
    "**Question 4.16:**  Use a Seaborn data visualization to determine at least one region of California that tends to have below average income. Assign the visualization to `income_plot`, then answer the question in the text cell provided."
   ]
  },
  {
   "cell_type": "code",
   "execution_count": null,
   "id": "3c08d5ca",
   "metadata": {
    "tags": []
   },
   "outputs": [],
   "source": [
    "...\n",
    "income_plot = ...\n",
    "...\n",
    "..."
   ]
  },
  {
   "cell_type": "code",
   "execution_count": null,
   "id": "a50b8820",
   "metadata": {
    "deletable": false,
    "editable": false
   },
   "outputs": [],
   "source": [
    "grader.check(\"q4_16\")"
   ]
  },
  {
   "cell_type": "markdown",
   "id": "6c6518ed",
   "metadata": {},
   "source": [
    "## You're done! \n",
    "\n",
    "Congratulations on finishing the lab! Gus wishes he could join you for spring break. Run the cell below and submit to Canvas. \n",
    "\n",
    "<img src=\"gus_trip.JPG\" alt=\"drawing\" width=\"500\"/>\n",
    "\n",
    "## References\n",
    "- Pace, R. Kelley, and Ronald Barry. \"Sparse spatial autoregressions.\" Statistics & Probability Letters 33.3 (1997): 291-297."
   ]
  },
  {
   "cell_type": "code",
   "execution_count": null,
   "id": "efd7cc1a",
   "metadata": {},
   "outputs": [],
   "source": []
  },
  {
   "cell_type": "markdown",
   "id": "cbd62720",
   "metadata": {
    "deletable": false,
    "editable": false
   },
   "source": [
    "## Submission\n",
    "\n",
    "Make sure you have run all cells in your notebook in order before running the cell below, so that all images/graphs appear in the output. The cell below will generate a zip file for you to submit. **Please save before exporting!**"
   ]
  },
  {
   "cell_type": "code",
   "execution_count": null,
   "id": "f54c4d1c",
   "metadata": {
    "deletable": false,
    "editable": false
   },
   "outputs": [],
   "source": [
    "# Save your notebook first, then run this cell to export your submission.\n",
    "grader.export(run_tests=True)"
   ]
  },
  {
   "cell_type": "markdown",
   "id": "ec719170",
   "metadata": {},
   "source": [
    " "
   ]
  }
 ],
 "metadata": {
  "kernelspec": {
   "display_name": "Python 3 (ipykernel)",
   "language": "python",
   "name": "python3"
  },
  "language_info": {
   "codemirror_mode": {
    "name": "ipython",
    "version": 3
   },
   "file_extension": ".py",
   "mimetype": "text/x-python",
   "name": "python",
   "nbconvert_exporter": "python",
   "pygments_lexer": "ipython3",
   "version": "3.11.4"
  },
  "otter": {
   "OK_FORMAT": true,
   "tests": {
    "q1_manual": {
     "name": "q1_manual",
     "points": null,
     "suites": [
      {
       "cases": [],
       "scored": true,
       "setup": "",
       "teardown": "",
       "type": "doctest"
      }
     ]
    },
    "q2_1": {
     "name": "q2_1",
     "points": null,
     "suites": [
      {
       "cases": [
        {
         "code": ">>> num_rows\n20640",
         "hidden": false,
         "locked": false
        },
        {
         "code": ">>> num_cols\n9",
         "hidden": false,
         "locked": false
        }
       ],
       "scored": true,
       "setup": "",
       "teardown": "",
       "type": "doctest"
      }
     ]
    },
    "q2_2": {
     "name": "q2_2",
     "points": null,
     "suites": [
      {
       "cases": [
        {
         "code": ">>> float(round(min_val, 2))\n0.15",
         "hidden": false,
         "locked": false
        },
        {
         "code": ">>> float(round(max_val, 2))\n5.0",
         "hidden": false,
         "locked": false
        },
        {
         "code": ">>> float(round(mean_val, 3))\n2.069",
         "hidden": false,
         "locked": false
        },
        {
         "code": ">>> float(round(median_val, 3))\n1.797",
         "hidden": false,
         "locked": false
        }
       ],
       "scored": true,
       "setup": "",
       "teardown": "",
       "type": "doctest"
      }
     ]
    },
    "q2_3": {
     "name": "q2_3",
     "points": null,
     "suites": [
      {
       "cases": [
        {
         "code": ">>> str(largest_mean)\n'Population'",
         "hidden": false,
         "locked": false
        },
        {
         "code": ">>> str(smallest_mean)\n'Longitude'",
         "hidden": false,
         "locked": false
        }
       ],
       "scored": true,
       "setup": "",
       "teardown": "",
       "type": "doctest"
      }
     ]
    },
    "q2_4_manual": {
     "name": "q2_4_manual",
     "points": null,
     "suites": [
      {
       "cases": [],
       "scored": true,
       "setup": "",
       "teardown": "",
       "type": "doctest"
      }
     ]
    },
    "q3_1": {
     "name": "q3_1",
     "points": null,
     "suites": [
      {
       "cases": [
        {
         "code": ">>> int(has_nulls)\n0",
         "hidden": false,
         "locked": false
        },
        {
         "code": ">>> int(len(columns_with_nulls))\n0",
         "hidden": false,
         "locked": false
        }
       ],
       "scored": true,
       "setup": "",
       "teardown": "",
       "type": "doctest"
      }
     ]
    },
    "q3_2": {
     "name": "q3_2",
     "points": null,
     "suites": [
      {
       "cases": [
        {
         "code": ">>> int(num_duplicates)\n0",
         "hidden": false,
         "locked": false
        }
       ],
       "scored": true,
       "setup": "",
       "teardown": "",
       "type": "doctest"
      }
     ]
    },
    "q4_1": {
     "name": "q4_1",
     "points": null,
     "suites": [
      {
       "cases": [
        {
         "code": ">>> import sys\n>>> 'seaborn' in sys.modules\nTrue",
         "hidden": false,
         "locked": false
        }
       ],
       "scored": true,
       "setup": "",
       "teardown": "",
       "type": "doctest"
      }
     ]
    },
    "q4_10": {
     "name": "q4_10",
     "points": null,
     "suites": [
      {
       "cases": [
        {
         "code": ">>> ca_houses_with_income_status.shape\n(20640, 10)",
         "hidden": false,
         "locked": false
        },
        {
         "code": ">>> bool('IncStatus' in ca_houses_with_income_status.columns)\nTrue",
         "hidden": false,
         "locked": false
        }
       ],
       "scored": true,
       "setup": "",
       "teardown": "",
       "type": "doctest"
      }
     ]
    },
    "q4_11": {
     "name": "q4_11",
     "points": null,
     "suites": [
      {
       "cases": [
        {
         "code": ">>> bool(houses_boxplot.get_ylabel() == 'MedHouseVal' or houses_boxplot.get_xlabel() == 'MedHouseVal')\nTrue",
         "hidden": false,
         "locked": false
        },
        {
         "code": ">>> bool(houses_boxplot.get_ylabel() == 'IncStatus' or houses_boxplot.get_xlabel() == 'IncStatus')\nTrue",
         "hidden": false,
         "locked": false
        }
       ],
       "scored": true,
       "setup": "",
       "teardown": "",
       "type": "doctest"
      }
     ]
    },
    "q4_12": {
     "name": "q4_12",
     "points": null,
     "suites": [
      {
       "cases": [
        {
         "code": ">>> bool(not len(cali_scatter.get_title()) == 0)\nTrue",
         "hidden": false,
         "locked": false
        },
        {
         "code": ">>> str(cali_scatter.get_xlabel())\n'Longitude'",
         "hidden": false,
         "locked": false
        },
        {
         "code": ">>> str(cali_scatter.get_ylabel())\n'Latitude'",
         "hidden": false,
         "locked": false
        }
       ],
       "scored": true,
       "setup": "",
       "teardown": "",
       "type": "doctest"
      }
     ]
    },
    "q4_13_manual": {
     "name": "q4_13_manual",
     "points": null,
     "suites": [
      {
       "cases": [],
       "scored": true,
       "setup": "",
       "teardown": "",
       "type": "doctest"
      }
     ]
    },
    "q4_14_manual": {
     "name": "q4_14_manual",
     "points": null,
     "suites": [
      {
       "cases": [],
       "scored": true,
       "setup": "",
       "teardown": "",
       "type": "doctest"
      }
     ]
    },
    "q4_15": {
     "name": "q4_15",
     "points": null,
     "suites": [
      {
       "cases": [
        {
         "code": ">>> bool(not len(age_plot.get_title()) == 0)\nTrue",
         "hidden": false,
         "locked": false
        },
        {
         "code": ">>> bool(len(age_plot.get_xlabel()) == 0)\nFalse",
         "hidden": false,
         "locked": false
        },
        {
         "code": ">>> bool(len(age_plot.get_ylabel()) == 0)\nFalse",
         "hidden": false,
         "locked": false
        }
       ],
       "scored": true,
       "setup": "",
       "teardown": "",
       "type": "doctest"
      }
     ]
    },
    "q4_16": {
     "name": "q4_16",
     "points": null,
     "suites": [
      {
       "cases": [
        {
         "code": ">>> bool(income_plot != ...)\nTrue",
         "hidden": false,
         "locked": false
        }
       ],
       "scored": true,
       "setup": "",
       "teardown": "",
       "type": "doctest"
      }
     ]
    },
    "q4_2": {
     "name": "q4_2",
     "points": null,
     "suites": [
      {
       "cases": [
        {
         "code": ">>> houses_pairplot.axes.shape\n(9, 9)",
         "hidden": false,
         "locked": false
        },
        {
         "code": ">>> sum([i in ['MedInc', 'HouseAge', 'AveRooms', 'AveBedrms', 'Population', 'AveOccup', 'Latitude', 'Longitude', 'MedHouseVal'] for i in houses_pairplot.x_vars])\n9",
         "hidden": false,
         "locked": false
        },
        {
         "code": ">>> sum([i in ['MedInc', 'HouseAge', 'AveRooms', 'AveBedrms', 'Population', 'AveOccup', 'Latitude', 'Longitude', 'MedHouseVal'] for i in houses_pairplot.y_vars])\n9",
         "hidden": false,
         "locked": false
        }
       ],
       "scored": true,
       "setup": "",
       "teardown": "",
       "type": "doctest"
      }
     ]
    },
    "q4_3": {
     "name": "q4_3",
     "points": null,
     "suites": [
      {
       "cases": [
        {
         "code": ">>> positive_corr\n2",
         "hidden": false,
         "locked": false
        }
       ],
       "scored": true,
       "setup": "",
       "teardown": "",
       "type": "doctest"
      }
     ]
    },
    "q4_4_manual": {
     "name": "q4_4_manual",
     "points": null,
     "suites": [
      {
       "cases": [],
       "scored": true,
       "setup": "",
       "teardown": "",
       "type": "doctest"
      }
     ]
    },
    "q4_6": {
     "name": "q4_6",
     "points": null,
     "suites": [
      {
       "cases": [
        {
         "code": ">>> bool(countplot_houses.get_xlabel() == 'count' or countplot_houses.get_ylabel() == 'count')\nTrue",
         "hidden": false,
         "locked": false
        },
        {
         "code": ">>> bool(countplot_houses.get_xlabel() == 'HouseAge' or countplot_houses.get_ylabel() == 'HouseAge')\nTrue",
         "hidden": false,
         "locked": false
        }
       ],
       "scored": true,
       "setup": "",
       "teardown": "",
       "type": "doctest"
      }
     ]
    },
    "q4_7": {
     "name": "q4_7",
     "points": null,
     "suites": [
      {
       "cases": [
        {
         "code": ">>> correlation_mat.shape\n(9, 9)",
         "hidden": false,
         "locked": false
        },
        {
         "code": ">>> len(houses_heatmap.get_xticklabels())\n9",
         "hidden": false,
         "locked": false
        },
        {
         "code": ">>> houses_heatmap.get_yticks()\narray([0.5, 1.5, 2.5, 3.5, 4.5, 5.5, 6.5, 7.5, 8.5])",
         "hidden": false,
         "locked": false
        }
       ],
       "scored": true,
       "setup": "",
       "teardown": "",
       "type": "doctest"
      }
     ]
    },
    "q4_8": {
     "name": "q4_8",
     "points": null,
     "suites": [
      {
       "cases": [
        {
         "code": ">>> pos_corr\n[1, 2, 3]",
         "hidden": false,
         "locked": false
        }
       ],
       "scored": true,
       "setup": "",
       "teardown": "",
       "type": "doctest"
      }
     ]
    },
    "q4_9": {
     "name": "q4_9",
     "points": null,
     "suites": [
      {
       "cases": [
        {
         "code": ">>> bool(ca_houses_with_income_status.empty)\nFalse",
         "hidden": false,
         "locked": false
        }
       ],
       "scored": true,
       "setup": "",
       "teardown": "",
       "type": "doctest"
      }
     ]
    }
   }
  }
 },
 "nbformat": 4,
 "nbformat_minor": 5
}
