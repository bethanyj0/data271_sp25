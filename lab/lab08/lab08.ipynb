{
 "cells": [
  {
   "cell_type": "code",
   "execution_count": null,
   "id": "c9ee5cb2",
   "metadata": {
    "deletable": false,
    "editable": false
   },
   "outputs": [],
   "source": [
    "# Initialize Otter\n",
    "import otter\n",
    "grader = otter.Notebook(\"lab08.ipynb\")"
   ]
  },
  {
   "cell_type": "markdown",
   "id": "6ef8aef7",
   "metadata": {},
   "source": [
    "# Lab 08: Exploratory Data Analysis of the Spaceship Titanic Data Set"
   ]
  },
  {
   "cell_type": "markdown",
   "id": "94beeb44",
   "metadata": {},
   "source": [
    "Welcome to your eighth lab assignment of DATA 271!\n",
    "\n",
    "### Background/Overview\n",
    "\n",
    "Kaggle has an ongoing \"Getting Started\" competition inspired by the original Titanic dataset, which we have seen in our demos this week.  More information about the Spaceship Titanic data can be found [here](https://www.kaggle.com/competitions/spaceship-titanic/overview).\n",
    "\n",
    "The backstory (from Kaggle): The year is 2912, and Earth has received a transmission from four lightyears away and there has been an accident.\n",
    "\n",
    "The Spaceship Titanic was an interstellar passenger liner launched a month ago. With almost 13,000 passengers on board, the vessel set out on its maiden voyage transporting emigrants from our solar system to three newly habitable exoplanets orbiting nearby stars.\n",
    "\n",
    "While rounding Alpha Centauri en route to its first destination (the torrid 55 Cancri E) the unwary Spaceship Titanic collided with a spacetime anomaly hidden within a dust cloud. Sadly, it met a similar fate as its namesake from 1000 years before. Though the ship stayed intact, almost half of the passengers were transported to an alternate dimension.\n",
    "\n",
    "To help rescue crews retrieve the lost passengers, this dataset has been released to challenge people to predict which passengers were transported by the anomaly using records recovered from the spaceship’s damaged computer system.  \n",
    "\n",
    "In this assignment, we will only complete an exploratory data analysis and we will consider only the training set of data. \n",
    "\n",
    "### In today's lab, we will\n",
    "- Use Seaborn to plot\n",
    "    - heatmaps \n",
    "    - histograms\n",
    "    - bar plots\n",
    "    - violin plots\n",
    "    - KDEs\n",
    "- Create new columns in a data frame based one existing features\n",
    "- Address missing values"
   ]
  },
  {
   "cell_type": "markdown",
   "id": "1f19df73",
   "metadata": {},
   "source": [
    "### 1. Load Packages and Data"
   ]
  },
  {
   "cell_type": "markdown",
   "id": "2a609b5b",
   "metadata": {
    "deletable": false,
    "editable": false
   },
   "source": [
    "**Question 1.1:** Import Numpy, Pandas, MatplotLib, and Seaborn to prepare for the EDA. "
   ]
  },
  {
   "cell_type": "code",
   "execution_count": null,
   "id": "ff0cbbbf",
   "metadata": {
    "tags": []
   },
   "outputs": [],
   "source": []
  },
  {
   "cell_type": "code",
   "execution_count": null,
   "id": "e9001b24",
   "metadata": {
    "deletable": false,
    "editable": false
   },
   "outputs": [],
   "source": [
    "grader.check(\"q1_1\")"
   ]
  },
  {
   "cell_type": "markdown",
   "id": "2d0f2d66",
   "metadata": {
    "deletable": false,
    "editable": false
   },
   "source": [
    "**Question 1.2:** Set the [runtime configuration](https://matplotlib.org/stable/users/explain/customizing.html#customizing-with-dynamic-rc-settings) parameters so that the figure size is (6,3) and the default dpi is 80. (Default dpi is 72 in webpages, and we wish to see our figures in higher resolution)."
   ]
  },
  {
   "cell_type": "code",
   "execution_count": null,
   "id": "fafef26c",
   "metadata": {
    "tags": []
   },
   "outputs": [],
   "source": [
    "# set defined plot sizes and styles"
   ]
  },
  {
   "cell_type": "code",
   "execution_count": null,
   "id": "05756326",
   "metadata": {
    "deletable": false,
    "editable": false
   },
   "outputs": [],
   "source": [
    "grader.check(\"q1_2\")"
   ]
  },
  {
   "cell_type": "markdown",
   "id": "52d9f716",
   "metadata": {
    "deletable": false,
    "editable": false
   },
   "source": [
    "**Question 1.3:** Import the spaceship Titanic data.(It is already in your working directory if you are on JupyterHub). "
   ]
  },
  {
   "cell_type": "code",
   "execution_count": null,
   "id": "7c96fb04",
   "metadata": {
    "tags": []
   },
   "outputs": [],
   "source": [
    "titanic = ...\n",
    "titanic.head()"
   ]
  },
  {
   "cell_type": "code",
   "execution_count": null,
   "id": "24242e59",
   "metadata": {
    "deletable": false,
    "editable": false
   },
   "outputs": [],
   "source": [
    "grader.check(\"q1_3\")"
   ]
  },
  {
   "cell_type": "markdown",
   "id": "fe157b31",
   "metadata": {
    "deletable": false,
    "editable": false
   },
   "source": [
    "**Question 1.4:** Create a copy of the `titanic` dataframe so that we can check the original data even after we make changes to it. "
   ]
  },
  {
   "cell_type": "code",
   "execution_count": null,
   "id": "2b410cee",
   "metadata": {
    "tags": []
   },
   "outputs": [],
   "source": [
    "titanic_copy = ...\n",
    "titanic_copy.head()"
   ]
  },
  {
   "cell_type": "code",
   "execution_count": null,
   "id": "58899a49",
   "metadata": {
    "deletable": false,
    "editable": false
   },
   "outputs": [],
   "source": [
    "grader.check(\"q1_4\")"
   ]
  },
  {
   "cell_type": "markdown",
   "id": "942b7711",
   "metadata": {},
   "source": [
    "### 2. Understanding the Data"
   ]
  },
  {
   "cell_type": "markdown",
   "id": "f0dc34f4",
   "metadata": {
    "deletable": false,
    "editable": false
   },
   "source": [
    "**Question 2.1:** Use Pandas methods to answer the following questions\n",
    "- a) What features are included in the data? Put your answer in a list `features_2_1_a`.\n",
    "- b) What is the shape of the `titanic` dataframe? Put your answer in `shape_2_1_b`.\n",
    "- c) Indicate if features are categorical or numerical. Put the categoricals in a list `categorical_2_1_c`. Put the numerical variables in `numeric_2_1_c`."
   ]
  },
  {
   "cell_type": "code",
   "execution_count": null,
   "id": "ea162000",
   "metadata": {
    "tags": []
   },
   "outputs": [],
   "source": [
    "features_2_1_a = ...\n",
    "features_2_1_a"
   ]
  },
  {
   "cell_type": "code",
   "execution_count": null,
   "id": "f8e3caeb",
   "metadata": {
    "tags": []
   },
   "outputs": [],
   "source": [
    "shape_2_1_b = ...\n",
    "shape_2_1_b"
   ]
  },
  {
   "cell_type": "code",
   "execution_count": null,
   "id": "9513cfff",
   "metadata": {
    "tags": []
   },
   "outputs": [],
   "source": [
    "\n",
    "categorical_2_1_c = ...\n",
    "numeric_2_1_c = ..."
   ]
  },
  {
   "cell_type": "code",
   "execution_count": null,
   "id": "f9689f7a",
   "metadata": {
    "deletable": false,
    "editable": false
   },
   "outputs": [],
   "source": [
    "grader.check(\"q2_1\")"
   ]
  },
  {
   "cell_type": "markdown",
   "id": "9715680f",
   "metadata": {
    "deletable": false,
    "editable": false
   },
   "source": [
    "<!-- BEGIN QUESTION -->\n",
    "\n",
    "**Question 2.2:** Go to the source of the data on Kaggle and read descriptions of the variables.  Summarize this information using Markdown.  "
   ]
  },
  {
   "cell_type": "markdown",
   "id": "bd01a69f",
   "metadata": {},
   "source": [
    "_Type your answer here, replacing this text._"
   ]
  },
  {
   "cell_type": "markdown",
   "id": "2924fed8",
   "metadata": {
    "deletable": false,
    "editable": false
   },
   "source": [
    "<!-- END QUESTION -->\n",
    "\n",
    "### 3. Begin Exploration (Statistics)"
   ]
  },
  {
   "cell_type": "markdown",
   "id": "2356b37c",
   "metadata": {
    "deletable": false,
    "editable": false
   },
   "source": [
    "**Question 3.1:** How old is the oldest passenger on the ship? Assign `oldest` to a float indicating the age of the oldest passenger. "
   ]
  },
  {
   "cell_type": "code",
   "execution_count": null,
   "id": "b3312831",
   "metadata": {
    "tags": []
   },
   "outputs": [],
   "source": [
    "oldest = ...\n",
    "oldest"
   ]
  },
  {
   "cell_type": "code",
   "execution_count": null,
   "id": "2e4ea379",
   "metadata": {
    "deletable": false,
    "editable": false
   },
   "outputs": [],
   "source": [
    "grader.check(\"q3_1\")"
   ]
  },
  {
   "cell_type": "markdown",
   "id": "bc1a0ac6",
   "metadata": {
    "deletable": false,
    "editable": false
   },
   "source": [
    "**Question 3.2:** How old is the youngest passenger on the ship? Assign `youngest` to a float indicating the age of the youngest passenger. "
   ]
  },
  {
   "cell_type": "code",
   "execution_count": null,
   "id": "0d6784be",
   "metadata": {
    "tags": []
   },
   "outputs": [],
   "source": [
    "youngest = ...\n",
    "youngest"
   ]
  },
  {
   "cell_type": "code",
   "execution_count": null,
   "id": "8ed18e09",
   "metadata": {
    "deletable": false,
    "editable": false
   },
   "outputs": [],
   "source": [
    "grader.check(\"q3_2\")"
   ]
  },
  {
   "cell_type": "markdown",
   "id": "b35b0f25",
   "metadata": {
    "deletable": false,
    "editable": false
   },
   "source": [
    "**Question 3.3:** What is the average amount that passengers billed at the food court? Assign `food_court` to a float. "
   ]
  },
  {
   "cell_type": "code",
   "execution_count": null,
   "id": "db160244",
   "metadata": {
    "tags": []
   },
   "outputs": [],
   "source": [
    "food_court = ...\n",
    "food_court"
   ]
  },
  {
   "cell_type": "code",
   "execution_count": null,
   "id": "caf52458",
   "metadata": {
    "deletable": false,
    "editable": false
   },
   "outputs": [],
   "source": [
    "grader.check(\"q3_3\")"
   ]
  },
  {
   "cell_type": "markdown",
   "id": "36ded4e2",
   "metadata": {
    "deletable": false,
    "editable": false
   },
   "source": [
    "**Question 3.4:** How many cabins are on the ship? Assign `num_cabins` to an int."
   ]
  },
  {
   "cell_type": "code",
   "execution_count": null,
   "id": "1a9bb6bb",
   "metadata": {
    "tags": []
   },
   "outputs": [],
   "source": [
    "num_cabins = ...\n",
    "num_cabins"
   ]
  },
  {
   "cell_type": "code",
   "execution_count": null,
   "id": "272ff261",
   "metadata": {
    "deletable": false,
    "editable": false
   },
   "outputs": [],
   "source": [
    "grader.check(\"q3_4\")"
   ]
  },
  {
   "cell_type": "markdown",
   "id": "24e5e2ca",
   "metadata": {
    "deletable": false,
    "editable": false
   },
   "source": [
    "**Question 3.5:** How many passengers share a room? Assign `shared_room` to an int."
   ]
  },
  {
   "cell_type": "code",
   "execution_count": null,
   "id": "59445935",
   "metadata": {
    "tags": []
   },
   "outputs": [],
   "source": [
    "shared_room = ...\n",
    "shared_room"
   ]
  },
  {
   "cell_type": "code",
   "execution_count": null,
   "id": "bf0b5399",
   "metadata": {
    "deletable": false,
    "editable": false
   },
   "outputs": [],
   "source": [
    "grader.check(\"q3_5\")"
   ]
  },
  {
   "cell_type": "markdown",
   "id": "4bc6c1e1",
   "metadata": {},
   "source": [
    "### 4. Preprocess the Data"
   ]
  },
  {
   "cell_type": "markdown",
   "id": "194de59e",
   "metadata": {
    "deletable": false,
    "editable": false
   },
   "source": [
    "**Question 4.1:** Get the total number of null values per variable. (Your answer should be a Pandas Series)."
   ]
  },
  {
   "cell_type": "code",
   "execution_count": null,
   "id": "315a7c6e",
   "metadata": {
    "tags": []
   },
   "outputs": [],
   "source": [
    "num_nulls = ...\n",
    "num_nulls"
   ]
  },
  {
   "cell_type": "code",
   "execution_count": null,
   "id": "b514b487",
   "metadata": {
    "deletable": false,
    "editable": false
   },
   "outputs": [],
   "source": [
    "grader.check(\"q4_1\")"
   ]
  },
  {
   "cell_type": "markdown",
   "id": "82a85d61",
   "metadata": {
    "deletable": false,
    "editable": false
   },
   "source": [
    "**Question 4.2:** Sometimes it is handy to visualize the occurence of null values. Use a heatmap to visualize the placement of the null values in each column."
   ]
  },
  {
   "cell_type": "code",
   "execution_count": null,
   "id": "b425a16e",
   "metadata": {
    "tags": []
   },
   "outputs": [],
   "source": [
    "plt.figure(figsize=(12,12))\n",
    "nullvals_heat = ...\n",
    "plt.show()"
   ]
  },
  {
   "cell_type": "code",
   "execution_count": null,
   "id": "26d4668f",
   "metadata": {
    "deletable": false,
    "editable": false
   },
   "outputs": [],
   "source": [
    "grader.check(\"q4_2\")"
   ]
  },
  {
   "cell_type": "markdown",
   "id": "ea2c3f6b",
   "metadata": {},
   "source": [
    "### 5. Visualize the Data"
   ]
  },
  {
   "cell_type": "markdown",
   "id": "866e3a98",
   "metadata": {
    "deletable": false,
    "editable": false
   },
   "source": [
    "**Question 5.1a:** Create a figure with four count plots (subplots) for `HomePlanet`, `CryoSleep`, `Destination`, and `VIP`, and discuss your observations."
   ]
  },
  {
   "cell_type": "code",
   "execution_count": null,
   "id": "9e1d5551",
   "metadata": {
    "tags": []
   },
   "outputs": [],
   "source": [
    "fig, ax = ...\n",
    "\n",
    "...\n",
    "...\n",
    "...\n",
    "...\n",
    "\n",
    "..."
   ]
  },
  {
   "cell_type": "code",
   "execution_count": null,
   "id": "725eab4e",
   "metadata": {
    "deletable": false,
    "editable": false
   },
   "outputs": [],
   "source": [
    "grader.check(\"q5_1a\")"
   ]
  },
  {
   "cell_type": "markdown",
   "id": "53d3e9ed",
   "metadata": {
    "deletable": false,
    "editable": false
   },
   "source": [
    "**Question 5.1b:** Create a figure with four count plots (subplots) for `HomePlanet`, `CryoSleep`, `Destination`, and `VIP`, and map the `Transported` variable to the color aesthetic.  Discuss any observations you can make about individuals who are transported."
   ]
  },
  {
   "cell_type": "code",
   "execution_count": null,
   "id": "25a0e3da",
   "metadata": {
    "tags": []
   },
   "outputs": [],
   "source": [
    "fig2, ax2 = ...\n",
    "\n",
    "...\n",
    "...\n",
    "...\n",
    "...\n",
    "\n",
    "..."
   ]
  },
  {
   "cell_type": "code",
   "execution_count": null,
   "id": "563edf66",
   "metadata": {
    "deletable": false,
    "editable": false
   },
   "outputs": [],
   "source": [
    "grader.check(\"q5_1b\")"
   ]
  },
  {
   "cell_type": "markdown",
   "id": "a9a0fdc2",
   "metadata": {
    "deletable": false,
    "editable": false
   },
   "source": [
    "**Question 5.2:** Use the plots you created in 5.1a and 5.1b and/or Pandas methods to answer the following questions. \n",
    "\n",
    "- Where do most passengers come from?  How many come from that planet? Assign `most_common_home_planet` to a tuple where the first element is the name of the most common home planet and the second element is the number of passengers that came from that planet.\n",
    "- Where are most passengers going?  How many are going to that location? Assign `most_common_destination` to a tuple where the first element is the name of the most common destination and the second element is the number of passengers going to the destination.\n",
    "- Do either home planet or destination seem to relate to an individual being transported or not? Assign `transported_predictor` to a list containing `HomePlanet` or `Destination` or both. "
   ]
  },
  {
   "cell_type": "code",
   "execution_count": null,
   "id": "3fd6db44",
   "metadata": {
    "tags": []
   },
   "outputs": [],
   "source": [
    "most_common_home_planet = ...\n",
    "most_common_destination = ...\n",
    "transported_predictor = ..."
   ]
  },
  {
   "cell_type": "code",
   "execution_count": null,
   "id": "7a92ab2b",
   "metadata": {
    "deletable": false,
    "editable": false
   },
   "outputs": [],
   "source": [
    "grader.check(\"q5_2\")"
   ]
  },
  {
   "cell_type": "markdown",
   "id": "6610687e",
   "metadata": {
    "deletable": false,
    "editable": false
   },
   "source": [
    "**Question 5.3** Create a correlation matrix and a heatmap to understand the correlation between numeric variables in the data set. Discuss any features which are correlated. Specifically, are there any features correlated with a passenger being transported?"
   ]
  },
  {
   "cell_type": "code",
   "execution_count": null,
   "id": "9d9d1d8b",
   "metadata": {
    "tags": []
   },
   "outputs": [],
   "source": [
    "# Create correlation matrix\n",
    "corrmat = ...\n",
    "corrmat"
   ]
  },
  {
   "cell_type": "code",
   "execution_count": null,
   "id": "d910c334",
   "metadata": {
    "tags": []
   },
   "outputs": [],
   "source": [
    "# plot as a heat map to visualize the information in the matrix\n",
    "heatmap_fig = ...\n",
    "...\n",
    "..."
   ]
  },
  {
   "cell_type": "code",
   "execution_count": null,
   "id": "234058a9",
   "metadata": {
    "deletable": false,
    "editable": false
   },
   "outputs": [],
   "source": [
    "grader.check(\"q5_3\")"
   ]
  },
  {
   "cell_type": "markdown",
   "id": "4429f63a",
   "metadata": {
    "deletable": false,
    "editable": false
   },
   "source": [
    "**Question 5.4:** Create a histogram for age. Discuss the qualitative features of the plot and what they mean in terms of the passenger population."
   ]
  },
  {
   "cell_type": "code",
   "execution_count": null,
   "id": "77db57b9",
   "metadata": {
    "tags": []
   },
   "outputs": [],
   "source": [
    "age_dist = ...\n",
    "..."
   ]
  },
  {
   "cell_type": "code",
   "execution_count": null,
   "id": "2e4c1253",
   "metadata": {
    "deletable": false,
    "editable": false
   },
   "outputs": [],
   "source": [
    "grader.check(\"q5_4\")"
   ]
  },
  {
   "cell_type": "markdown",
   "id": "2cc57ac3",
   "metadata": {
    "deletable": false,
    "editable": false
   },
   "source": [
    "**Question 5.5a: Age** How does age relate to being transported? Make the following plots and then answer the questions in part b.\n",
    "- Create a box plot for the age of individuals who were transported and individuals who were not.  Compare the boxplots and five number summary between transported and non-transported individuals.  \n",
    "- Create a violin plot for the same information.\n",
    "- Create a histogram for age for both transported and non-transported individuals.\n",
    "- Create a KDE plot for age for both transported and non-transported individuals.  "
   ]
  },
  {
   "cell_type": "code",
   "execution_count": null,
   "id": "cecfcdec",
   "metadata": {
    "tags": []
   },
   "outputs": [],
   "source": [
    "# BOXPLOT\n",
    "...\n",
    "age_box = ...\n",
    "..."
   ]
  },
  {
   "cell_type": "code",
   "execution_count": null,
   "id": "169f2f1d",
   "metadata": {
    "scrolled": true,
    "tags": []
   },
   "outputs": [],
   "source": [
    "# VIOLIN PLOT\n",
    "...\n",
    "age_violin = ...\n",
    "..."
   ]
  },
  {
   "cell_type": "code",
   "execution_count": null,
   "id": "19d17ad3",
   "metadata": {
    "tags": []
   },
   "outputs": [],
   "source": [
    "# HISTOGRAM\n",
    "...\n",
    "age_hist = ...\n",
    "..."
   ]
  },
  {
   "cell_type": "code",
   "execution_count": null,
   "id": "c188b0c8",
   "metadata": {
    "tags": []
   },
   "outputs": [],
   "source": [
    "# KDE PLOT\n",
    "...\n",
    "age_kde = ...\n",
    "..."
   ]
  },
  {
   "cell_type": "code",
   "execution_count": null,
   "id": "1eb5b9e6",
   "metadata": {
    "deletable": false,
    "editable": false
   },
   "outputs": [],
   "source": [
    "grader.check(\"q5_5a\")"
   ]
  },
  {
   "cell_type": "markdown",
   "id": "23e69648",
   "metadata": {
    "deletable": false,
    "editable": false
   },
   "source": [
    "**Question 5.5b:** Select the statements below that align with insights you can gain from the plots you created in part a. \n",
    "\n",
    "1. The median age of transported individuals is slightly less than for non-transported individuals.  \n",
    "2. 0 to 18 year olds are more likely to be transported than not.\n",
    "3. adults roughly between 18 and 40 are more likely to be transported than not.\n",
    "4. beyond middle age (~40), there is a pretty equal likelihood of being transported.\n",
    "\n",
    "Assign `age_conclusions` to a list containing 1, 2, 3, or 4."
   ]
  },
  {
   "cell_type": "code",
   "execution_count": null,
   "id": "fce6a8a7",
   "metadata": {
    "tags": []
   },
   "outputs": [],
   "source": [
    "age_conclusions = ..."
   ]
  },
  {
   "cell_type": "code",
   "execution_count": null,
   "id": "4022aec4",
   "metadata": {
    "deletable": false,
    "editable": false
   },
   "outputs": [],
   "source": [
    "grader.check(\"q5_5b\")"
   ]
  },
  {
   "cell_type": "markdown",
   "id": "ad02fefd",
   "metadata": {
    "deletable": false,
    "editable": false
   },
   "source": [
    "**Question 5.6a** How do spending habits relate to being transported? Complete the following tasks. These will be used to create more plots in parts b and c.\n",
    "- Create a copy of `titanic` called `titanic_more_spending_features`.\n",
    "- Create a new column called `Premium` which shows the total amount the passenger spent on `RoomService`, `Spa` and `VRDeck` combined. \n",
    "- Create a new column called `Basic` which shows the total amount the passenger spent on `FoodCourt`, `ShoppingMall` combined.\n",
    "- Create a new column called `All_Services` which is the total amount the passenger spent. "
   ]
  },
  {
   "cell_type": "code",
   "execution_count": null,
   "id": "5425fb9d",
   "metadata": {
    "tags": []
   },
   "outputs": [],
   "source": [
    "titanic_more_spending_features['Premium'] = ...\n",
    "titanic_more_spending_features['Basic'] = ...\n",
    "titanic_more_spending_features['All_Services'] = ..."
   ]
  },
  {
   "cell_type": "code",
   "execution_count": null,
   "id": "20125f7d",
   "metadata": {
    "deletable": false,
    "editable": false
   },
   "outputs": [],
   "source": [
    "grader.check(\"q5_6a\")"
   ]
  },
  {
   "cell_type": "markdown",
   "id": "3a83a208",
   "metadata": {
    "deletable": false,
    "editable": false
   },
   "source": [
    "**Question 5.6b:** Using your new dataframe with additional columns. Recalculate the correlation matrix and plot a heatmap. Do you have any new observations?"
   ]
  },
  {
   "cell_type": "code",
   "execution_count": null,
   "id": "cedc42bd",
   "metadata": {
    "tags": []
   },
   "outputs": [],
   "source": [
    "plt.figure(figsize = (7,5))\n",
    "corrmat_update = ...\n",
    "\n",
    "heatmap_update = ...\n",
    "..."
   ]
  },
  {
   "cell_type": "code",
   "execution_count": null,
   "id": "7c69e267",
   "metadata": {
    "deletable": false,
    "editable": false
   },
   "outputs": [],
   "source": [
    "grader.check(\"q5_6b\")"
   ]
  },
  {
   "cell_type": "markdown",
   "id": "95d5f146",
   "metadata": {
    "deletable": false,
    "editable": false
   },
   "source": [
    "**Question 5.6c:** Create a KDE plot for luxury spending (Premium). Make transported and non-transported individuals different colors.  Does this give you any additional information?"
   ]
  },
  {
   "cell_type": "code",
   "execution_count": null,
   "id": "293c540e",
   "metadata": {
    "tags": []
   },
   "outputs": [],
   "source": [
    "plt.figure(figsize = (10,5))\n",
    "kde_luxury = ...\n",
    "..."
   ]
  },
  {
   "cell_type": "code",
   "execution_count": null,
   "id": "9b37f01c",
   "metadata": {
    "deletable": false,
    "editable": false
   },
   "outputs": [],
   "source": [
    "grader.check(\"q5_6c\")"
   ]
  },
  {
   "cell_type": "markdown",
   "id": "2b66fcab",
   "metadata": {
    "deletable": false,
    "editable": false
   },
   "source": [
    "**Question 5.7a:** In the 1912 Titanic dataset the number of siblings or family members had an impact on survival.  We will investigate if this has an impact on the Spaceship Titanic data.  The data set unfortunately does not have a feature for family size.  However, names are given. Some names are listed as NaN. First, remove those passengers from the dataset. Put your new dataframe with NaN names removed into a copy called `titanic_with_family_size`."
   ]
  },
  {
   "cell_type": "code",
   "execution_count": null,
   "id": "e674195b",
   "metadata": {
    "tags": []
   },
   "outputs": [],
   "source": [
    "titanic_with_family_size = titanic.copy() \n",
    "titanic_with_family_size = ..."
   ]
  },
  {
   "cell_type": "code",
   "execution_count": null,
   "id": "444727ff",
   "metadata": {
    "deletable": false,
    "editable": false
   },
   "outputs": [],
   "source": [
    "grader.check(\"q5_7a\")"
   ]
  },
  {
   "cell_type": "markdown",
   "id": "748849d5",
   "metadata": {
    "deletable": false,
    "editable": false
   },
   "source": [
    "**Question 5.7b:** Split the `Name` feature into a new feature called `LastName`.  This should be a new column in your `titanic_with_lastname` dataframe."
   ]
  },
  {
   "cell_type": "code",
   "execution_count": null,
   "id": "96a9b9a3",
   "metadata": {
    "tags": []
   },
   "outputs": [],
   "source": [
    "titanic_with_family_size.head()"
   ]
  },
  {
   "cell_type": "code",
   "execution_count": null,
   "id": "3c91c2bc-e540-4ddc-aeea-7470569aead7",
   "metadata": {},
   "outputs": [],
   "source": [
    "..."
   ]
  },
  {
   "cell_type": "code",
   "execution_count": null,
   "id": "fe0627a5",
   "metadata": {
    "deletable": false,
    "editable": false
   },
   "outputs": [],
   "source": [
    "grader.check(\"q5_7b\")"
   ]
  },
  {
   "cell_type": "markdown",
   "id": "65c627c3",
   "metadata": {
    "deletable": false,
    "editable": false
   },
   "source": [
    "**Question 5.7c:** Create a new column in your `titanic_with_lastname` dataframe called `FamilySize` containing the number of individuals in the passengers corresponding family (including the passenger). *Hint:* If you want to split the problem up into steps, you can create a series containing all the unique last names and their counts. Then use the series to populate the `FamilySize` column."
   ]
  },
  {
   "cell_type": "code",
   "execution_count": null,
   "id": "d36f2cf6",
   "metadata": {
    "tags": []
   },
   "outputs": [],
   "source": [
    "family_size_series = ...\n",
    "titanic_with_family_size.head()"
   ]
  },
  {
   "cell_type": "code",
   "execution_count": null,
   "id": "f8b1a012",
   "metadata": {
    "deletable": false,
    "editable": false
   },
   "outputs": [],
   "source": [
    "grader.check(\"q5_7c\")"
   ]
  },
  {
   "cell_type": "markdown",
   "id": "f20f7d19",
   "metadata": {
    "deletable": false,
    "editable": false
   },
   "source": [
    "**Question 5.7d:** What is the last name of the largest family onboard?"
   ]
  },
  {
   "cell_type": "code",
   "execution_count": null,
   "id": "0a747003",
   "metadata": {
    "tags": []
   },
   "outputs": [],
   "source": [
    "largest_family = ...\n",
    "largest_family"
   ]
  },
  {
   "cell_type": "code",
   "execution_count": null,
   "id": "65b82dbe",
   "metadata": {
    "deletable": false,
    "editable": false
   },
   "outputs": [],
   "source": [
    "grader.check(\"q5_7d\")"
   ]
  },
  {
   "cell_type": "markdown",
   "id": "29214771",
   "metadata": {
    "deletable": false,
    "editable": false
   },
   "source": [
    "**Question 5.7e:** Make a countplot for family size with `Transported` mapped to the color of the bars. What observations can you make? Does family size seem to be an important feature in terms of a passenger being transported or not?"
   ]
  },
  {
   "cell_type": "code",
   "execution_count": null,
   "id": "73d13c64",
   "metadata": {
    "tags": []
   },
   "outputs": [],
   "source": [
    "family_size_count = ...\n",
    "plt.show()"
   ]
  },
  {
   "cell_type": "code",
   "execution_count": null,
   "id": "a0b2f3d1",
   "metadata": {
    "deletable": false,
    "editable": false
   },
   "outputs": [],
   "source": [
    "grader.check(\"q5_7e\")"
   ]
  },
  {
   "cell_type": "markdown",
   "id": "6c6518ed",
   "metadata": {},
   "source": [
    "## You're done! \n",
    "\n",
    "Congratulations on finishing the lab! Gus is so happy for you! Run the cell below and submit to Canvas. \n",
    "\n",
    "<img src=\"gus_lives_in_tunnel.JPG\" alt=\"drawing\" width=\"500\"/>"
   ]
  },
  {
   "cell_type": "markdown",
   "id": "0582436c",
   "metadata": {
    "deletable": false,
    "editable": false
   },
   "source": [
    "## Submission\n",
    "\n",
    "Make sure you have run all cells in your notebook in order before running the cell below, so that all images/graphs appear in the output. The cell below will generate a zip file for you to submit. **Please save before exporting!**"
   ]
  },
  {
   "cell_type": "code",
   "execution_count": null,
   "id": "a8ea1367",
   "metadata": {
    "deletable": false,
    "editable": false
   },
   "outputs": [],
   "source": [
    "# Save your notebook first, then run this cell to export your submission.\n",
    "grader.export(run_tests=True)"
   ]
  },
  {
   "cell_type": "markdown",
   "id": "45390c09",
   "metadata": {},
   "source": [
    " "
   ]
  }
 ],
 "metadata": {
  "kernelspec": {
   "display_name": "Python 3 (ipykernel)",
   "language": "python",
   "name": "python3"
  },
  "language_info": {
   "codemirror_mode": {
    "name": "ipython",
    "version": 3
   },
   "file_extension": ".py",
   "mimetype": "text/x-python",
   "name": "python",
   "nbconvert_exporter": "python",
   "pygments_lexer": "ipython3",
   "version": "3.11.4"
  },
  "otter": {
   "OK_FORMAT": true,
   "tests": {
    "q1_1": {
     "name": "q1_1",
     "points": null,
     "suites": [
      {
       "cases": [
        {
         "code": ">>> import sys\n>>> 'numpy' in sys.modules\nTrue",
         "hidden": false,
         "locked": false
        },
        {
         "code": ">>> 'pandas' in sys.modules\nTrue",
         "hidden": false,
         "locked": false
        },
        {
         "code": ">>> 'matplotlib' in sys.modules\nTrue",
         "hidden": false,
         "locked": false
        },
        {
         "code": ">>> 'seaborn' in sys.modules\nTrue",
         "hidden": false,
         "locked": false
        }
       ],
       "scored": true,
       "setup": "",
       "teardown": "",
       "type": "doctest"
      }
     ]
    },
    "q1_2": {
     "name": "q1_2",
     "points": null,
     "suites": [
      {
       "cases": [
        {
         "code": ">>> bool(plt.rcParams['figure.figsize'][0] == 6 and plt.rcParams['figure.figsize'][1] == 3)\nTrue",
         "hidden": false,
         "locked": false
        },
        {
         "code": ">>> float(plt.rcParams['figure.dpi'])\n80.0",
         "hidden": false,
         "locked": false
        }
       ],
       "scored": true,
       "setup": "",
       "teardown": "",
       "type": "doctest"
      }
     ]
    },
    "q1_3": {
     "name": "q1_3",
     "points": null,
     "suites": [
      {
       "cases": [
        {
         "code": ">>> bool(titanic.empty)\nFalse",
         "hidden": false,
         "locked": false
        },
        {
         "code": ">>> bool(titanic.shape[0] == 8693 and titanic.shape[1] == 14)\nTrue",
         "hidden": false,
         "locked": false
        }
       ],
       "scored": true,
       "setup": "",
       "teardown": "",
       "type": "doctest"
      }
     ]
    },
    "q1_4": {
     "name": "q1_4",
     "points": null,
     "suites": [
      {
       "cases": [
        {
         "code": ">>> titanic_copy.empty\nFalse",
         "hidden": false,
         "locked": false
        },
        {
         "code": ">>> titanic_copy.shape\n(8693, 14)",
         "hidden": false,
         "locked": false
        }
       ],
       "scored": true,
       "setup": "",
       "teardown": "",
       "type": "doctest"
      }
     ]
    },
    "q2_1": {
     "name": "q2_1",
     "points": null,
     "suites": [
      {
       "cases": [
        {
         "code": ">>> sum([i in ['PassengerId', 'HomePlanet', 'CryoSleep', 'Cabin', 'Destination', 'Age', 'VIP', 'RoomService', 'FoodCourt', 'ShoppingMall', 'Spa', 'VRDeck', 'Name', 'Transported'] for i in features_2_1_a])\n14",
         "hidden": false,
         "locked": false
        },
        {
         "code": ">>> shape_2_1_b\n(8693, 14)",
         "hidden": false,
         "locked": false
        },
        {
         "code": ">>> sum((i in ['PassengerId', 'HomePlanet', 'CryoSleep', 'Cabin', 'Destination', 'VIP', 'Name', 'Transported'] for i in categorical_2_1_c))\n8",
         "hidden": false,
         "locked": false
        },
        {
         "code": ">>> sum((i in ['Age', 'RoomService', 'FoodCourt', 'ShoppingMall', 'Spa', 'VRDeck'] for i in numeric_2_1_c))\n6",
         "hidden": false,
         "locked": false
        }
       ],
       "scored": true,
       "setup": "",
       "teardown": "",
       "type": "doctest"
      }
     ]
    },
    "q2_2_manual": {
     "name": "q2_2_manual",
     "points": null,
     "suites": [
      {
       "cases": [],
       "scored": true,
       "setup": "",
       "teardown": "",
       "type": "doctest"
      }
     ]
    },
    "q3_1": {
     "name": "q3_1",
     "points": null,
     "suites": [
      {
       "cases": [
        {
         "code": ">>> int(oldest)\n79",
         "hidden": false,
         "locked": false
        }
       ],
       "scored": true,
       "setup": "",
       "teardown": "",
       "type": "doctest"
      }
     ]
    },
    "q3_2": {
     "name": "q3_2",
     "points": null,
     "suites": [
      {
       "cases": [
        {
         "code": ">>> int(youngest)\n0",
         "hidden": false,
         "locked": false
        }
       ],
       "scored": true,
       "setup": "",
       "teardown": "",
       "type": "doctest"
      }
     ]
    },
    "q3_3": {
     "name": "q3_3",
     "points": null,
     "suites": [
      {
       "cases": [
        {
         "code": ">>> float(np.round(food_court))\n458.0",
         "hidden": false,
         "locked": false
        }
       ],
       "scored": true,
       "setup": "",
       "teardown": "",
       "type": "doctest"
      }
     ]
    },
    "q3_4": {
     "name": "q3_4",
     "points": null,
     "suites": [
      {
       "cases": [
        {
         "code": ">>> int(num_cabins)\n6561",
         "hidden": false,
         "locked": false
        }
       ],
       "scored": true,
       "setup": "",
       "teardown": "",
       "type": "doctest"
      }
     ]
    },
    "q3_5": {
     "name": "q3_5",
     "points": null,
     "suites": [
      {
       "cases": [
        {
         "code": ">>> int(shared_room)\n3266",
         "hidden": false,
         "locked": false
        }
       ],
       "scored": true,
       "setup": "",
       "teardown": "",
       "type": "doctest"
      }
     ]
    },
    "q4_1": {
     "name": "q4_1",
     "points": null,
     "suites": [
      {
       "cases": [
        {
         "code": ">>> num_nulls\nPassengerId       0\nHomePlanet      201\nCryoSleep       217\nCabin           199\nDestination     182\nAge             179\nVIP             203\nRoomService     181\nFoodCourt       183\nShoppingMall    208\nSpa             183\nVRDeck          188\nName            200\nTransported       0\ndtype: int64",
         "hidden": false,
         "locked": false
        }
       ],
       "scored": true,
       "setup": "",
       "teardown": "",
       "type": "doctest"
      }
     ]
    },
    "q4_2": {
     "name": "q4_2",
     "points": null,
     "suites": [
      {
       "cases": [
        {
         "code": ">>> nullvals_heat.get_xticks()\narray([ 0.5,  1.5,  2.5,  3.5,  4.5,  5.5,  6.5,  7.5,  8.5,  9.5, 10.5,\n       11.5, 12.5, 13.5])",
         "hidden": false,
         "locked": false
        },
        {
         "code": ">>> nullvals_heat.get_yticks()\narray([5.0000e-01, 1.3250e+02, 2.6450e+02, 3.9650e+02, 5.2850e+02,\n       6.6050e+02, 7.9250e+02, 9.2450e+02, 1.0565e+03, 1.1885e+03,\n       1.3205e+03, 1.4525e+03, 1.5845e+03, 1.7165e+03, 1.8485e+03,\n       1.9805e+03, 2.1125e+03, 2.2445e+03, 2.3765e+03, 2.5085e+03,\n       2.6405e+03, 2.7725e+03, 2.9045e+03, 3.0365e+03, 3.1685e+03,\n       3.3005e+03, 3.4325e+03, 3.5645e+03, 3.6965e+03, 3.8285e+03,\n       3.9605e+03, 4.0925e+03, 4.2245e+03, 4.3565e+03, 4.4885e+03,\n       4.6205e+03, 4.7525e+03, 4.8845e+03, 5.0165e+03, 5.1485e+03,\n       5.2805e+03, 5.4125e+03, 5.5445e+03, 5.6765e+03, 5.8085e+03,\n       5.9405e+03, 6.0725e+03, 6.2045e+03, 6.3365e+03, 6.4685e+03,\n       6.6005e+03, 6.7325e+03, 6.8645e+03, 6.9965e+03, 7.1285e+03,\n       7.2605e+03, 7.3925e+03, 7.5245e+03, 7.6565e+03, 7.7885e+03,\n       7.9205e+03, 8.0525e+03, 8.1845e+03, 8.3165e+03, 8.4485e+03,\n       8.5805e+03])",
         "hidden": false,
         "locked": false
        }
       ],
       "scored": true,
       "setup": "",
       "teardown": "",
       "type": "doctest"
      }
     ]
    },
    "q5_1a": {
     "name": "q5_1a",
     "points": null,
     "suites": [
      {
       "cases": [
        {
         "code": ">>> ax.size\n4",
         "hidden": false,
         "locked": false
        },
        {
         "code": ">>> sum([fig.get_axes()[i].get_xlabel() in ['HomePlanet', 'CryoSleep', 'Destination', 'VIP'] for i in range(4)])\n4",
         "hidden": false,
         "locked": false
        },
        {
         "code": ">>> sum([fig.get_axes()[i].get_ylabel() == 'count' for i in range(4)])\n4",
         "hidden": false,
         "locked": false
        }
       ],
       "scored": true,
       "setup": "",
       "teardown": "",
       "type": "doctest"
      }
     ]
    },
    "q5_1b": {
     "name": "q5_1b",
     "points": null,
     "suites": [
      {
       "cases": [
        {
         "code": ">>> ax2.size\n4",
         "hidden": false,
         "locked": false
        },
        {
         "code": ">>> sum([fig.get_axes()[i].get_xlabel() in ['HomePlanet', 'CryoSleep', 'Destination', 'VIP'] for i in range(4)])\n4",
         "hidden": false,
         "locked": false
        },
        {
         "code": ">>> sum([fig.get_axes()[i].get_ylabel() == 'count' for i in range(4)])\n4",
         "hidden": false,
         "locked": false
        }
       ],
       "scored": true,
       "setup": "",
       "teardown": "",
       "type": "doctest"
      }
     ]
    },
    "q5_2": {
     "name": "q5_2",
     "points": null,
     "suites": [
      {
       "cases": [
        {
         "code": ">>> most_common_home_planet\n('Earth', 4602)",
         "hidden": false,
         "locked": false
        },
        {
         "code": ">>> most_common_destination\n('TRAPPIST-1e', 5915)",
         "hidden": false,
         "locked": false
        },
        {
         "code": ">>> sum([i in ['Destination', 'HomePlanet'] for i in transported_predictor])\n2",
         "hidden": false,
         "locked": false
        }
       ],
       "scored": true,
       "setup": "",
       "teardown": "",
       "type": "doctest"
      }
     ]
    },
    "q5_3": {
     "name": "q5_3",
     "points": null,
     "suites": [
      {
       "cases": [
        {
         "code": ">>> corrmat.shape\n(7, 7)",
         "hidden": false,
         "locked": false
        }
       ],
       "scored": true,
       "setup": "",
       "teardown": "",
       "type": "doctest"
      }
     ]
    },
    "q5_4": {
     "name": "q5_4",
     "points": null,
     "suites": [
      {
       "cases": [
        {
         "code": ">>> age_dist.get_xlabel()\n'Age'",
         "hidden": false,
         "locked": false
        }
       ],
       "scored": true,
       "setup": "",
       "teardown": "",
       "type": "doctest"
      }
     ]
    },
    "q5_5a": {
     "name": "q5_5a",
     "points": null,
     "suites": [
      {
       "cases": [
        {
         "code": ">>> age_box.get_xlabel() == 'Transported' or age_box.get_ylabel() == 'Transported'\nTrue",
         "hidden": false,
         "locked": false
        },
        {
         "code": ">>> age_box.get_xlabel() == 'Age' or age_box.get_ylabel() == 'Age'\nTrue",
         "hidden": false,
         "locked": false
        },
        {
         "code": ">>> age_violin.get_xlabel() == 'Transported' or age_violin.get_ylabel() == 'Transported'\nTrue",
         "hidden": false,
         "locked": false
        },
        {
         "code": ">>> age_violin.get_xlabel() == 'Age' or age_violin.get_ylabel() == 'Age'\nTrue",
         "hidden": false,
         "locked": false
        },
        {
         "code": ">>> age_hist.get_xlabel() == 'Age'\nTrue",
         "hidden": false,
         "locked": false
        },
        {
         "code": ">>> age_kde.get_xlabel() == 'Age'\nTrue",
         "hidden": false,
         "locked": false
        }
       ],
       "scored": true,
       "setup": "",
       "teardown": "",
       "type": "doctest"
      }
     ]
    },
    "q5_5b": {
     "name": "q5_5b",
     "points": null,
     "suites": [
      {
       "cases": [
        {
         "code": ">>> set(age_conclusions)\n{1, 2, 4}",
         "hidden": false,
         "locked": false
        }
       ],
       "scored": true,
       "setup": "",
       "teardown": "",
       "type": "doctest"
      }
     ]
    },
    "q5_6a": {
     "name": "q5_6a",
     "points": null,
     "suites": [
      {
       "cases": [
        {
         "code": ">>> bool('Premium' in titanic_more_spending_features.columns)\nTrue",
         "hidden": false,
         "locked": false
        },
        {
         "code": ">>> bool('Basic' in titanic_more_spending_features.columns)\nTrue",
         "hidden": false,
         "locked": false
        },
        {
         "code": ">>> bool('All_Services' in titanic_more_spending_features.columns)\nTrue",
         "hidden": false,
         "locked": false
        }
       ],
       "scored": true,
       "setup": "",
       "teardown": "",
       "type": "doctest"
      }
     ]
    },
    "q5_6b": {
     "name": "q5_6b",
     "points": null,
     "suites": [
      {
       "cases": [
        {
         "code": ">>> corrmat_update.shape\n(10, 10)",
         "hidden": false,
         "locked": false
        }
       ],
       "scored": true,
       "setup": "",
       "teardown": "",
       "type": "doctest"
      }
     ]
    },
    "q5_6c": {
     "name": "q5_6c",
     "points": null,
     "suites": [
      {
       "cases": [
        {
         "code": ">>> kde_luxury.get_xlabel()\n'Premium'",
         "hidden": false,
         "locked": false
        }
       ],
       "scored": true,
       "setup": "",
       "teardown": "",
       "type": "doctest"
      }
     ]
    },
    "q5_7a": {
     "name": "q5_7a",
     "points": null,
     "suites": [
      {
       "cases": [
        {
         "code": ">>> titanic_with_family_size.Name.isna().sum()\n0",
         "hidden": false,
         "locked": false
        }
       ],
       "scored": true,
       "setup": "",
       "teardown": "",
       "type": "doctest"
      }
     ]
    },
    "q5_7b": {
     "name": "q5_7b",
     "points": null,
     "suites": [
      {
       "cases": [
        {
         "code": ">>> 'LastName' in titanic_with_family_size.columns\nTrue",
         "hidden": false,
         "locked": false
        },
        {
         "code": ">>> titanic_with_family_size.loc[titanic_with_family_size['Name'] == 'Maham Ofracculy', 'LastName'].values[0]\n'Ofracculy'",
         "hidden": false,
         "locked": false
        },
        {
         "code": ">>> titanic_with_family_size.loc[titanic_with_family_size['Name'] == 'Willy Santantines', 'LastName'].values[0]\n'Santantines'",
         "hidden": false,
         "locked": false
        }
       ],
       "scored": true,
       "setup": "",
       "teardown": "",
       "type": "doctest"
      }
     ]
    },
    "q5_7c": {
     "name": "q5_7c",
     "points": null,
     "suites": [
      {
       "cases": [
        {
         "code": ">>> bool('FamilySize' in titanic_with_family_size.columns)\nTrue",
         "hidden": false,
         "locked": false
        },
        {
         "code": ">>> titanic_with_family_size.loc[titanic_with_family_size['LastName'] == 'Ofracculy', 'FamilySize'].values[0]\n1",
         "hidden": false,
         "locked": false
        },
        {
         "code": ">>> len(titanic_with_family_size.loc[titanic_with_family_size['LastName'] == 'Santantines', 'FamilySize'].values)\n6",
         "hidden": false,
         "locked": false
        }
       ],
       "scored": true,
       "setup": "",
       "teardown": "",
       "type": "doctest"
      }
     ]
    },
    "q5_7d": {
     "name": "q5_7d",
     "points": null,
     "suites": [
      {
       "cases": [
        {
         "code": ">>> largest_family\n'Casonston'",
         "hidden": false,
         "locked": false
        }
       ],
       "scored": true,
       "setup": "",
       "teardown": "",
       "type": "doctest"
      }
     ]
    },
    "q5_7e": {
     "name": "q5_7e",
     "points": null,
     "suites": [
      {
       "cases": [
        {
         "code": ">>> family_size_count.get_xlabel()\n'FamilySize'",
         "hidden": false,
         "locked": false
        }
       ],
       "scored": true,
       "setup": "",
       "teardown": "",
       "type": "doctest"
      }
     ]
    }
   }
  }
 },
 "nbformat": 4,
 "nbformat_minor": 5
}
