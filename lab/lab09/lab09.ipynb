{
 "cells": [
  {
   "cell_type": "code",
   "execution_count": null,
   "id": "0a03b802",
   "metadata": {
    "deletable": false,
    "editable": false
   },
   "outputs": [],
   "source": [
    "# Initialize Otter\n",
    "import otter\n",
    "grader = otter.Notebook(\"lab09.ipynb\")"
   ]
  },
  {
   "cell_type": "markdown",
   "id": "714bf844",
   "metadata": {},
   "source": [
    "# Lab 09: Getting Data from an API and Cleaning the Data\n",
    "\n",
    "Welcome to Lab 09 of Data Wrangling and Visualization!\n",
    "## Overview\n",
    "### APIs\n",
    "API is an acronym for Application Programming Interface that software uses to access data, server software, or other applications.  In simple terms, it is a software intermediary that allows two applications to \"talk\" to each other.  They are quite versatile and can be used on web-based systems, operating systems, database systems and computer hardware.\n",
    "\n",
    "A simplified example would be when you sign into Instagram from your phone you are telling the Instagram application that you would like to access your account. The mobile application makes a call to an API to retrieve your Instagram account and credentials. Instagram would then access this information from one of its servers and return the data to the mobile application.  This is an example of a web API, and will be what we use in this activity.\n",
    "\n",
    "APIs depend on the owner of the dataset. The data can be either offered for free or be available at a cost. The owner can also limit the number of requests that a single user can make or the amount of data they can access.\n",
    "\n",
    "### Data Wrangling\n",
    "Broadly, data wrangling can be split into 3 tasks (in no particular order and often repeated):\n",
    "- data cleaning (e.g., renaming columns, reordering, handling duplicates or missing data, filtering to desired subsets)\n",
    "- data transformation (changing the data's structure to facilitate downstream analysis, such as transposing the data, ensuring there is only one observation per row)\n",
    "- data enrichments (e.g., merge new data with the original data by appending new rows/columns or use the original data to create new data).\n",
    "This activity just scratches the surface of this topic.\n",
    "\n",
    "\n",
    "## In today's lab, we will\n",
    "- Explore an API to find and collect temperature data\n",
    "- Find the city we want\n",
    "- Begin to understand the frequently employed steps in data wrangling and clean the data\n",
    "- Do a small EDA\n",
    "\n",
    "For this activity, we will collect daily temperature data from the National Centers for Environmental Information (NCEI) API.  The site is here: https://www.ncdc.noaa.gov/cdo-web/webservices/v2 and is part of the National Oceanic and Atmospheric Adminsitration (NOAA).  NOAA's mission is to understand and predict changes in climate, weather, ocean, and coasts,to share that knowledge and information with others, and to conserve and manage coastal and marine ecosystems and resources."
   ]
  },
  {
   "cell_type": "code",
   "execution_count": null,
   "id": "025b3c9a",
   "metadata": {
    "tags": []
   },
   "outputs": [],
   "source": [
    "import numpy as np\n",
    "import pandas as pd\n",
    "import requests"
   ]
  },
  {
   "cell_type": "markdown",
   "id": "5dbd57eb",
   "metadata": {},
   "source": [
    "### 1. Request a token and Setup our URL"
   ]
  },
  {
   "cell_type": "markdown",
   "id": "2a609b5b",
   "metadata": {
    "deletable": false,
    "editable": false
   },
   "source": [
    "**Question 1.1:** To gain access to the NCDC Web Services, you have to register with your email address and will be sent a unique token.  Registration is here: https://www.ncdc.noaa.gov/cdo-web/token.  Get your token and paste it in `access_token` below.\n",
    "\n",
    "*NOTE:* This API limits users to 5 requests per second and 10,000 requests per day.  (If requests exceed this amount, you will get a client error with a status code in the 400s.  More about status codes can be found here: https://developer.mozilla.org/en-US/docs/Web/HTTP/Status.)"
   ]
  },
  {
   "cell_type": "code",
   "execution_count": null,
   "id": "ff0cbbbf",
   "metadata": {
    "tags": []
   },
   "outputs": [],
   "source": [
    "access_token = ..."
   ]
  },
  {
   "cell_type": "code",
   "execution_count": null,
   "id": "3cb4e8fc",
   "metadata": {
    "deletable": false,
    "editable": false
   },
   "outputs": [],
   "source": [
    "grader.check(\"q1_1\")"
   ]
  },
  {
   "cell_type": "markdown",
   "id": "b34d2ce2",
   "metadata": {
    "deletable": false,
    "editable": false
   },
   "source": [
    "**Question 1.2:** Online documentation about how to access specific data from this API can be found here: https://www.ncdc.noaa.gov/cdo-web/webservices/v2. Take some time to read through the documentation and learn about the different endpoint urls you can access. Each one has the same base URL. Find the base url from the documentation (without the endpoint), and paste it below."
   ]
  },
  {
   "cell_type": "code",
   "execution_count": null,
   "id": "ea7f7824",
   "metadata": {
    "tags": []
   },
   "outputs": [],
   "source": [
    "base_url = ..."
   ]
  },
  {
   "cell_type": "code",
   "execution_count": null,
   "id": "8b38f218",
   "metadata": {
    "deletable": false,
    "editable": false
   },
   "outputs": [],
   "source": [
    "grader.check(\"q1_2\")"
   ]
  },
  {
   "cell_type": "markdown",
   "id": "4ed25068",
   "metadata": {
    "deletable": false,
    "editable": false
   },
   "source": [
    "<!-- BEGIN QUESTION -->\n",
    "\n",
    "**Question 1.3:** List all the possible endpoints we could select, and give a short description of each. "
   ]
  },
  {
   "cell_type": "markdown",
   "id": "8cbf6165",
   "metadata": {},
   "source": [
    "_Type your answer here, replacing this text._"
   ]
  },
  {
   "cell_type": "markdown",
   "id": "143ba436",
   "metadata": {
    "deletable": false,
    "editable": false
   },
   "source": [
    "<!-- END QUESTION -->\n",
    "\n",
    "## 2. Exploring the API\n",
    "We will begin by exploring the API to get the data we need. Our ultimate goal is to look at daily temperature data from San Francisco. Let's figure out how we need to query the data to get the info we want. "
   ]
  },
  {
   "cell_type": "markdown",
   "id": "2c39b2b3",
   "metadata": {
    "deletable": false,
    "editable": false
   },
   "source": [
    "**Question 2.1:** We are going to start exploring the options in the `datasets` endpoint. Concatenate \n",
    "\n",
    "```python\n",
    "\"datasets\"\n",
    "```\n",
    "\n",
    "with your base url to create your endpoint url."
   ]
  },
  {
   "cell_type": "code",
   "execution_count": null,
   "id": "3563ed93",
   "metadata": {
    "tags": []
   },
   "outputs": [],
   "source": [
    "endpoint_url = ...\n",
    "endpoint_url"
   ]
  },
  {
   "cell_type": "code",
   "execution_count": null,
   "id": "40e293d4",
   "metadata": {
    "deletable": false,
    "editable": false
   },
   "outputs": [],
   "source": [
    "grader.check(\"q2_1\")"
   ]
  },
  {
   "cell_type": "markdown",
   "id": "9f2f9c2b",
   "metadata": {
    "deletable": false,
    "editable": false
   },
   "source": [
    "**Question 2.2:** Notice that \"token\" is listed as a Header in the documentation. We can pass this in to a get request with the `requests` module to allow the API to identify us as users. We will prepare to do that here. \n",
    "\n",
    "Create a dictionary containing one element. The key should be \"token\" and its value should be your access token from problem 1.1. "
   ]
  },
  {
   "cell_type": "code",
   "execution_count": null,
   "id": "d849b6e5",
   "metadata": {
    "tags": []
   },
   "outputs": [],
   "source": [
    "header_dict = ...\n",
    "header_dict"
   ]
  },
  {
   "cell_type": "code",
   "execution_count": null,
   "id": "82c25811",
   "metadata": {
    "deletable": false,
    "editable": false
   },
   "outputs": [],
   "source": [
    "grader.check(\"q2_2\")"
   ]
  },
  {
   "cell_type": "markdown",
   "id": "853c5a61",
   "metadata": {
    "deletable": false,
    "editable": false
   },
   "source": [
    "**Question 2.3:** Take a look at the `datasets` tab in the API documentation. Notice that there are several optional parameters we can use to query data when we make the request. We can pass this in to a get request with the `requests` module to allow the API to pull only relevant data. We will prepare to do that here. \n",
    "\n",
    "Create a dictionary containing one key-value pair. The key should be \"startdate\" and its value should be October 1st, 2018 (in the format specified by the APIs documentation). "
   ]
  },
  {
   "cell_type": "code",
   "execution_count": null,
   "id": "aaf06e86",
   "metadata": {
    "tags": []
   },
   "outputs": [],
   "source": [
    "params_dict = ...\n",
    "params_dict"
   ]
  },
  {
   "cell_type": "code",
   "execution_count": null,
   "id": "ab5e5263",
   "metadata": {
    "deletable": false,
    "editable": false
   },
   "outputs": [],
   "source": [
    "grader.check(\"q2_3\")"
   ]
  },
  {
   "cell_type": "markdown",
   "id": "b87ccee1",
   "metadata": {},
   "source": [
    "Run the following cell to fetch the information about the different datasets available."
   ]
  },
  {
   "cell_type": "code",
   "execution_count": null,
   "id": "511b3c19",
   "metadata": {
    "tags": []
   },
   "outputs": [],
   "source": [
    "# Get the data\n",
    "datasets_response = requests.get(endpoint_url,headers=header_dict,params=params_dict)\n",
    "datasets_response"
   ]
  },
  {
   "cell_type": "markdown",
   "id": "6ff6eb08",
   "metadata": {
    "deletable": false,
    "editable": false
   },
   "source": [
    "**Question 2.4:** Check the status code of your response object. "
   ]
  },
  {
   "cell_type": "code",
   "execution_count": null,
   "id": "4779abc5",
   "metadata": {
    "tags": []
   },
   "outputs": [],
   "source": [
    "response_status = ...\n",
    "response_status"
   ]
  },
  {
   "cell_type": "code",
   "execution_count": null,
   "id": "c6ba2bdd",
   "metadata": {
    "deletable": false,
    "editable": false
   },
   "outputs": [],
   "source": [
    "grader.check(\"q2_4\")"
   ]
  },
  {
   "cell_type": "markdown",
   "id": "0dde8ce7",
   "metadata": {
    "deletable": false,
    "editable": false
   },
   "source": [
    "**Question 2.5:** As we discussed in class, the payload in API is the actual data pack that is sent with the GET method.  It is the crucial information that you submit to the server when you are making an API request. The payload can be sent or received in various formats, including JSON. This API passes JSON data.\n",
    "\n",
    "Put the JSON data from your response in the `payload` variable below. "
   ]
  },
  {
   "cell_type": "code",
   "execution_count": null,
   "id": "6db26603",
   "metadata": {
    "tags": []
   },
   "outputs": [],
   "source": [
    "payload = ...\n",
    "payload"
   ]
  },
  {
   "cell_type": "code",
   "execution_count": null,
   "id": "4b3d2ab7",
   "metadata": {
    "deletable": false,
    "editable": false
   },
   "outputs": [],
   "source": [
    "grader.check(\"q2_5\")"
   ]
  },
  {
   "cell_type": "markdown",
   "id": "1b1c00ce",
   "metadata": {
    "deletable": false,
    "editable": false
   },
   "source": [
    "**Question 2.6:** Inspect the keys of `payload`. We want to figure out which dataset we should pull data from. The relevant information is in id and name. Create a list of tuples with \"id\" and \"name\" from the `results` key."
   ]
  },
  {
   "cell_type": "code",
   "execution_count": null,
   "id": "0e565805",
   "metadata": {
    "tags": []
   },
   "outputs": [],
   "source": [
    "# Inspect payload here\n"
   ]
  },
  {
   "cell_type": "code",
   "execution_count": null,
   "id": "922e24f5",
   "metadata": {
    "tags": []
   },
   "outputs": [],
   "source": [
    "id_and_name = ...\n",
    "id_and_name"
   ]
  },
  {
   "cell_type": "code",
   "execution_count": null,
   "id": "5ca8a08c",
   "metadata": {
    "deletable": false,
    "editable": false
   },
   "outputs": [],
   "source": [
    "grader.check(\"q2_6\")"
   ]
  },
  {
   "cell_type": "markdown",
   "id": "f250f6c8",
   "metadata": {
    "deletable": false,
    "editable": false
   },
   "source": [
    "**Question 2.7:** Looking at the results above, we have various options for frequency of data. In this lab, we want to work with daily summaries, so we will ask for the GHCND data. \n",
    "\n",
    "Next, we need to figure out what categories of data we can request. Make another API get request below. This time use `datacategories` as your endpoint and one parameter: `GHCND` as the datasetid parameter. Don't forget to also include your header dictionary. Inspect your response data."
   ]
  },
  {
   "cell_type": "code",
   "execution_count": null,
   "id": "4aba6518",
   "metadata": {
    "tags": []
   },
   "outputs": [],
   "source": [
    "# Make an API request\n",
    "daily_response = ...\n",
    "daily_response"
   ]
  },
  {
   "cell_type": "code",
   "execution_count": null,
   "id": "e77d7a35",
   "metadata": {
    "tags": []
   },
   "outputs": [],
   "source": [
    "# Inspect the response here\n"
   ]
  },
  {
   "cell_type": "code",
   "execution_count": null,
   "id": "bbb7c624",
   "metadata": {
    "deletable": false,
    "editable": false
   },
   "outputs": [],
   "source": [
    "grader.check(\"q2_7\")"
   ]
  },
  {
   "cell_type": "markdown",
   "id": "bdad1615",
   "metadata": {
    "deletable": false,
    "editable": false
   },
   "source": [
    "**Question 2.8:** For this activity, we are interested in air temperature, so we will use the `TEMP` id. \n",
    "\n",
    "Now we need to figure out what type of temperature data we can request. Make another API get request below. Use `datatypes` as your endpoint and `TEMP` as the datacategoryid parameter. Also limit your API call to 100 results in the response (read the documentation to figure out how to do this). Ask Dr. Johnson if you need help. \n",
    "\n",
    "Once you've successfully made the API request, inspect the payload."
   ]
  },
  {
   "cell_type": "code",
   "execution_count": null,
   "id": "6d0fc470",
   "metadata": {
    "tags": []
   },
   "outputs": [],
   "source": [
    "# Make an API request\n",
    "types_response = ...\n",
    "types_response"
   ]
  },
  {
   "cell_type": "code",
   "execution_count": null,
   "id": "40fd161f",
   "metadata": {
    "tags": []
   },
   "outputs": [],
   "source": [
    "# Inspect the payload here\n"
   ]
  },
  {
   "cell_type": "code",
   "execution_count": null,
   "id": "c1bb7cd5",
   "metadata": {
    "deletable": false,
    "editable": false
   },
   "outputs": [],
   "source": [
    "grader.check(\"q2_8\")"
   ]
  },
  {
   "cell_type": "markdown",
   "id": "40ac613f",
   "metadata": {
    "deletable": false,
    "editable": false
   },
   "source": [
    "**Question 2.9:** There is a lot going on in this payload. To make it easier to interpret, create a list of tuples with \"id\" and \"name\" from the results key of the `types_response` payload."
   ]
  },
  {
   "cell_type": "code",
   "execution_count": null,
   "id": "8327e913",
   "metadata": {
    "tags": []
   },
   "outputs": [],
   "source": [
    "# Make an API request\n",
    "id_and_name2 = ...\n",
    "id_and_name2"
   ]
  },
  {
   "cell_type": "code",
   "execution_count": null,
   "id": "3bf67827",
   "metadata": {
    "deletable": false,
    "editable": false
   },
   "outputs": [],
   "source": [
    "grader.check(\"q2_9\")"
   ]
  },
  {
   "cell_type": "markdown",
   "id": "c4a97f8f",
   "metadata": {
    "deletable": false,
    "editable": false
   },
   "source": [
    "**Question 2.10:** Wow, that's a lot of temperature data types we can pull. In lab, we'll focus on TMAX and TMIN. We're almost ready to request the data, but we only want to request in a specific location. \n",
    "\n",
    "Make another API get request below. Use `locationcategories` as your endpoint and `GHCND` as the datasetid parameter. Inspect the payload."
   ]
  },
  {
   "cell_type": "code",
   "execution_count": null,
   "id": "5729fdd5",
   "metadata": {
    "tags": []
   },
   "outputs": [],
   "source": [
    "loc_response = ...\n",
    "loc_response"
   ]
  },
  {
   "cell_type": "code",
   "execution_count": null,
   "id": "35cb64b9",
   "metadata": {
    "deletable": false,
    "editable": false
   },
   "outputs": [],
   "source": [
    "grader.check(\"q2_10\")"
   ]
  },
  {
   "cell_type": "markdown",
   "id": "0439fb2e",
   "metadata": {
    "deletable": false,
    "editable": false
   },
   "source": [
    "**Question 2.11:** \n",
    "For this lab, we will choose to focus on San Francisco, one of the largest cities in Northern California. We want data from San Francisco, so we will use the \"CITY\" id.  We will need to find the location ID San Francisco.  However, there are almost 2000 cities to choose from, so we don't want to look through the list to find the id by visual inspection.  \n",
    "\n",
    "Use the `locations` endpoint to find the city ID for San Francisco.\n",
    "\n",
    "*HINT:* You might find it helpful to use a `sortfield` by name and an `offset` to request the section of the data that contains San Francisco. Read the documentation to learn how to use these and ask Dr. Johnson if you are stuck. "
   ]
  },
  {
   "cell_type": "code",
   "execution_count": null,
   "id": "c7c2b7cc",
   "metadata": {
    "tags": []
   },
   "outputs": [],
   "source": [
    "pars = ..."
   ]
  },
  {
   "cell_type": "code",
   "execution_count": null,
   "id": "c8cdc16e",
   "metadata": {
    "tags": []
   },
   "outputs": [],
   "source": [
    "city_response = ...\n",
    "city_response"
   ]
  },
  {
   "cell_type": "code",
   "execution_count": null,
   "id": "8ff5e2c4",
   "metadata": {
    "tags": []
   },
   "outputs": [],
   "source": [
    "# Paste the city id for San Francisco here\n",
    "sf_id = ..."
   ]
  },
  {
   "cell_type": "code",
   "execution_count": null,
   "id": "fe66667f",
   "metadata": {
    "deletable": false,
    "editable": false
   },
   "outputs": [],
   "source": [
    "grader.check(\"q2_11\")"
   ]
  },
  {
   "cell_type": "markdown",
   "id": "3d4c9550",
   "metadata": {
    "deletable": false,
    "editable": false
   },
   "source": [
    "**Question 2.12:** Now its time to actually request the data we want with the `data` endpoint. \n",
    "\n",
    "Let's request San Francisco's temperature data (in Celsius) for October 2018.  We will need to use all of the parameters we have obtained previously by exploring the API. That is, the parameters should be\n",
    "- `datasetid` is GHCND\n",
    "- `locationid` is sf_id\n",
    "- `startdate` is 2018-10-01\n",
    "- `enddate` is 2018-10-31\n",
    "- `datatypeid` is ['TMAX', 'TMIN'] (average, maximum and minimum temperatures)\n",
    "- `units` is metric (if we want Celsius)\n",
    "- `limit` is 1000 "
   ]
  },
  {
   "cell_type": "code",
   "execution_count": null,
   "id": "7df0dbfe",
   "metadata": {
    "tags": []
   },
   "outputs": [],
   "source": [
    "# get SF daily summaries data \n",
    "data_response = ...\n",
    "    ...\n",
    "        ...\n",
    "        ...\n",
    "        ...\n",
    "        ...\n",
    "        ...\n",
    "        ...\n",
    "        ...\n",
    "    ...\n",
    "...\n",
    "data_response"
   ]
  },
  {
   "cell_type": "code",
   "execution_count": null,
   "id": "a74d8331",
   "metadata": {
    "deletable": false,
    "editable": false
   },
   "outputs": [],
   "source": [
    "grader.check(\"q2_12\")"
   ]
  },
  {
   "cell_type": "markdown",
   "id": "4867ca5f",
   "metadata": {},
   "source": [
    "## 3. Create a Pandas DataFrame"
   ]
  },
  {
   "cell_type": "markdown",
   "id": "4b5a5df5",
   "metadata": {
    "deletable": false,
    "editable": false
   },
   "source": [
    "**Question 3.1:** Create a pandas dataframe containing the results from the `data_response` payload."
   ]
  },
  {
   "cell_type": "code",
   "execution_count": null,
   "id": "b148eea2",
   "metadata": {
    "tags": []
   },
   "outputs": [],
   "source": [
    "sf_df = ...\n",
    "sf_df.head()"
   ]
  },
  {
   "cell_type": "code",
   "execution_count": null,
   "id": "11ab9fd7",
   "metadata": {
    "deletable": false,
    "editable": false
   },
   "outputs": [],
   "source": [
    "grader.check(\"q3_1\")"
   ]
  },
  {
   "cell_type": "markdown",
   "id": "f55c2a6b",
   "metadata": {
    "deletable": false,
    "editable": false
   },
   "source": [
    "**Question 3.2:** How many rows are there for each `datatype`? Comment on what you observe. Were you expecting these results? What do you think is going on here?"
   ]
  },
  {
   "cell_type": "code",
   "execution_count": null,
   "id": "8991a659",
   "metadata": {
    "tags": []
   },
   "outputs": [],
   "source": [
    "datatype_counts = ...\n",
    "datatype_counts"
   ]
  },
  {
   "cell_type": "code",
   "execution_count": null,
   "id": "b506c228",
   "metadata": {
    "deletable": false,
    "editable": false
   },
   "outputs": [],
   "source": [
    "grader.check(\"q3_2\")"
   ]
  },
  {
   "cell_type": "markdown",
   "id": "fa0697db",
   "metadata": {
    "deletable": false,
    "editable": false
   },
   "source": [
    "**Question 3.3:** Let's update the API request to a single station. Limit the API call results to just the San Francisco Downtown station located near Market Street (on the corner of Hermann and Buchanan Streets). The station ID is GHCND:USW00023272."
   ]
  },
  {
   "cell_type": "code",
   "execution_count": null,
   "id": "1cd11cdd",
   "metadata": {
    "tags": []
   },
   "outputs": [],
   "source": [
    "query_parameters = ...\n",
    "        ...\n",
    "        ...\n",
    "        ...\n",
    "        ...\n",
    "        ...\n",
    "        ...\n",
    "        ...\n",
    "        ...\n",
    "    ..."
   ]
  },
  {
   "cell_type": "code",
   "execution_count": null,
   "id": "c4333073",
   "metadata": {
    "tags": []
   },
   "outputs": [],
   "source": [
    "downtown_sf_response = ...\n",
    "downtown_sf_response"
   ]
  },
  {
   "cell_type": "code",
   "execution_count": null,
   "id": "8f51dc35",
   "metadata": {
    "deletable": false,
    "editable": false
   },
   "outputs": [],
   "source": [
    "grader.check(\"q3_3\")"
   ]
  },
  {
   "cell_type": "markdown",
   "id": "6c6f70e1",
   "metadata": {
    "deletable": false,
    "editable": false
   },
   "source": [
    "**Question 3.4:** Put your new response data into a Pandas DataFrame. "
   ]
  },
  {
   "cell_type": "code",
   "execution_count": null,
   "id": "5305023e",
   "metadata": {
    "tags": []
   },
   "outputs": [],
   "source": [
    "downtown_sf_df = ...\n",
    "downtown_sf_df.head()"
   ]
  },
  {
   "cell_type": "code",
   "execution_count": null,
   "id": "cdae039d",
   "metadata": {
    "deletable": false,
    "editable": false
   },
   "outputs": [],
   "source": [
    "grader.check(\"q3_4\")"
   ]
  },
  {
   "cell_type": "markdown",
   "id": "f5da8157",
   "metadata": {
    "deletable": false,
    "editable": false
   },
   "source": [
    "**Question 3.5:** Check the number of rows for each datatype in your new data. Comment on what you notice."
   ]
  },
  {
   "cell_type": "code",
   "execution_count": null,
   "id": "3615e6db",
   "metadata": {
    "tags": []
   },
   "outputs": [],
   "source": [
    "new_datatype_counts = ...\n",
    "new_datatype_counts"
   ]
  },
  {
   "cell_type": "code",
   "execution_count": null,
   "id": "60cef13e",
   "metadata": {
    "deletable": false,
    "editable": false
   },
   "outputs": [],
   "source": [
    "grader.check(\"q3_5\")"
   ]
  },
  {
   "cell_type": "markdown",
   "id": "28a85a33",
   "metadata": {},
   "source": [
    "## 4. Clean the Data"
   ]
  },
  {
   "cell_type": "markdown",
   "id": "8668bca1",
   "metadata": {
    "deletable": false,
    "editable": false
   },
   "source": [
    "**Question 4.1:** The value column contains temperatures in degrees Celsius.  We should rename this column so it is clear at first glance what it represents.  We can rename columns with the `rename()` method, which takes a dictionary mapping the old column name to the new column name.\n",
    "\n",
    "Rename the `value` column to `tempC`."
   ]
  },
  {
   "cell_type": "code",
   "execution_count": null,
   "id": "a4800150",
   "metadata": {
    "tags": []
   },
   "outputs": [],
   "source": [
    "downtown_sf_df = ...\n",
    "downtown_sf_df.head()"
   ]
  },
  {
   "cell_type": "code",
   "execution_count": null,
   "id": "03b6a5d5",
   "metadata": {
    "deletable": false,
    "editable": false
   },
   "outputs": [],
   "source": [
    "grader.check(\"q4_1\")"
   ]
  },
  {
   "cell_type": "markdown",
   "id": "3907453a",
   "metadata": {
    "deletable": false,
    "editable": false
   },
   "source": [
    "<!-- BEGIN QUESTION -->\n",
    "\n",
    "**Question 4.2:** Check the datatypes in the dataframe. "
   ]
  },
  {
   "cell_type": "code",
   "execution_count": null,
   "id": "d5be12b8",
   "metadata": {
    "otter": {
     "tests": [
      "q4_2_manual"
     ]
    },
    "tags": []
   },
   "outputs": [],
   "source": [
    "dtypes = ...\n",
    "dtypes"
   ]
  },
  {
   "cell_type": "markdown",
   "id": "53019e15",
   "metadata": {
    "deletable": false,
    "editable": false
   },
   "source": [
    "<!-- END QUESTION -->\n",
    "\n",
    "**Question 4.3:** Python has a `datetime` module which supplies classes for manipulating dates and times (e.g., arithmetic of dates and times, efficient attribute extraction for output formatting and manipulation, converting to common time zones). \n",
    "\n",
    "The `date` column is not currently being stored as a datetime object, but we can convert it using `pd.to_datetime(your_pandas_series)`. Convert the date column to datetime. "
   ]
  },
  {
   "cell_type": "code",
   "execution_count": null,
   "id": "763825e9",
   "metadata": {
    "tags": []
   },
   "outputs": [],
   "source": [
    "downtown_sf_df['date'] = ...\n",
    "downtown_sf_df.dtypes"
   ]
  },
  {
   "cell_type": "code",
   "execution_count": null,
   "id": "8a1fc723",
   "metadata": {
    "deletable": false,
    "editable": false
   },
   "outputs": [],
   "source": [
    "grader.check(\"q4_3\")"
   ]
  },
  {
   "cell_type": "markdown",
   "id": "c7ae81b4",
   "metadata": {
    "deletable": false,
    "editable": false
   },
   "source": [
    "**Question 4.4:** In the US, we are accustomed to thinking in degrees Fahrenheit, so we might wish to add a new column with this.  The linear equation which relates this two scales is $$F = \\frac{9}{5}C + 32$$.\n",
    "Add a new column called `tempF` with degrees in Fahrenheit."
   ]
  },
  {
   "cell_type": "code",
   "execution_count": null,
   "id": "9fcc2984",
   "metadata": {
    "tags": []
   },
   "outputs": [],
   "source": [
    "downtown_sf_df.head()"
   ]
  },
  {
   "cell_type": "code",
   "execution_count": null,
   "id": "7f9dfa7f",
   "metadata": {
    "deletable": false,
    "editable": false
   },
   "outputs": [],
   "source": [
    "grader.check(\"q4_4\")"
   ]
  },
  {
   "cell_type": "markdown",
   "id": "eb38c17d",
   "metadata": {
    "deletable": false,
    "editable": false
   },
   "source": [
    "**Question 4.5:** For some use cases, temperatures of type int are sufficient. Create two new columns called `tempC_int` and `tempF_int` of type int. "
   ]
  },
  {
   "cell_type": "code",
   "execution_count": null,
   "id": "89dbcaab",
   "metadata": {
    "tags": []
   },
   "outputs": [],
   "source": [
    "downtown_sf_df.head()"
   ]
  },
  {
   "cell_type": "code",
   "execution_count": null,
   "id": "17ab6dd0",
   "metadata": {
    "deletable": false,
    "editable": false
   },
   "outputs": [],
   "source": [
    "grader.check(\"q4_5\")"
   ]
  },
  {
   "cell_type": "markdown",
   "id": "8ed5e8c1",
   "metadata": {},
   "source": [
    "## 5. Small EDA"
   ]
  },
  {
   "cell_type": "markdown",
   "id": "5d7b1e8a",
   "metadata": {
    "deletable": false,
    "editable": false
   },
   "source": [
    "**Question 5.1:** Sort the dataframe to find which day in October 2018 had the highest `tempC` value.  \n",
    "Assign `hottest_day` to the day in October (type int) which was the hottest."
   ]
  },
  {
   "cell_type": "code",
   "execution_count": null,
   "id": "443f0374",
   "metadata": {
    "tags": []
   },
   "outputs": [],
   "source": [
    "# sort here"
   ]
  },
  {
   "cell_type": "code",
   "execution_count": null,
   "id": "c57bf7c1",
   "metadata": {
    "tags": []
   },
   "outputs": [],
   "source": [
    "# answer which day here\n",
    "hottest_day = ...\n",
    "hottest_day"
   ]
  },
  {
   "cell_type": "code",
   "execution_count": null,
   "id": "2b3d4f85",
   "metadata": {
    "deletable": false,
    "editable": false
   },
   "outputs": [],
   "source": [
    "grader.check(\"q5_1\")"
   ]
  },
  {
   "cell_type": "markdown",
   "id": "481fa18a",
   "metadata": {
    "deletable": false,
    "editable": false
   },
   "source": [
    "**Question 5.2:** When you sorted data in the problem above, notice that there are some ties.  For example, 26.1 Celsius appears twice, as does 11.7.  In some cases, the earlier date comes first. In other cases, the opposite is true. Resort the data by maximum temperature, but make sure that that the earliest date consistenty comes first when there is a tie."
   ]
  },
  {
   "cell_type": "code",
   "execution_count": null,
   "id": "d8d6551c",
   "metadata": {
    "tags": []
   },
   "outputs": [],
   "source": [
    "# sort here\n",
    "sorted_df = ...\n",
    "sorted_df"
   ]
  },
  {
   "cell_type": "code",
   "execution_count": null,
   "id": "5ad5c354",
   "metadata": {
    "deletable": false,
    "editable": false
   },
   "outputs": [],
   "source": [
    "grader.check(\"q5_2\")"
   ]
  },
  {
   "cell_type": "markdown",
   "id": "bd6c48b8",
   "metadata": {
    "deletable": false,
    "editable": false
   },
   "source": [
    "<!-- BEGIN QUESTION -->\n",
    "\n",
    "**Question 5.3:** Plot the TMAX and TMIN in Fahrenheit by date. "
   ]
  },
  {
   "cell_type": "code",
   "execution_count": null,
   "id": "90cfa69f",
   "metadata": {
    "otter": {
     "tests": [
      "q5_3_manual"
     ]
    },
    "tags": []
   },
   "outputs": [],
   "source": [
    "import seaborn as sns\n",
    "import matplotlib.pyplot as plt\n",
    "sns.set_style('darkgrid')\n"
   ]
  },
  {
   "cell_type": "markdown",
   "id": "86ef65fe",
   "metadata": {
    "deletable": false,
    "editable": false
   },
   "source": [
    "<!-- END QUESTION -->\n",
    "\n",
    "<!-- BEGIN QUESTION -->\n",
    "\n",
    "## 6. Dessert\n",
    "\n",
    "- Create a dataframe with temperatures recorded in Eureka in January 2024. How many entries do you have of each datatype? Does this exceed the number of days in the month? Explain why this might be.\n",
    "- How many unique stations are included in this data set?\n",
    "- What was the coldest temperature recorded at station GHCND:USW00024213 in January 2024 in degrees Fahrenheit? On what day did this occur?\n",
    "- Make a plot with dates along the x-axis and Degrees Fahrenheit along the y-axis showing the minimum and maximum daily temperatures in Eureka in January 2024 (facet by station)."
   ]
  },
  {
   "cell_type": "code",
   "execution_count": null,
   "id": "c6f2a501",
   "metadata": {
    "tags": []
   },
   "outputs": [],
   "source": []
  },
  {
   "cell_type": "code",
   "execution_count": null,
   "id": "67acd210",
   "metadata": {
    "tags": []
   },
   "outputs": [],
   "source": []
  },
  {
   "cell_type": "code",
   "execution_count": null,
   "id": "b17d6b77",
   "metadata": {
    "scrolled": true,
    "tags": []
   },
   "outputs": [],
   "source": []
  },
  {
   "cell_type": "code",
   "execution_count": null,
   "id": "5446b54c",
   "metadata": {
    "tags": []
   },
   "outputs": [],
   "source": []
  },
  {
   "cell_type": "code",
   "execution_count": null,
   "id": "0be3207f",
   "metadata": {
    "tags": []
   },
   "outputs": [],
   "source": []
  },
  {
   "cell_type": "code",
   "execution_count": null,
   "id": "469c81e3",
   "metadata": {
    "tags": []
   },
   "outputs": [],
   "source": []
  },
  {
   "cell_type": "code",
   "execution_count": null,
   "id": "1ad1fc3c",
   "metadata": {
    "tags": []
   },
   "outputs": [],
   "source": []
  },
  {
   "cell_type": "code",
   "execution_count": null,
   "id": "007edf20",
   "metadata": {
    "tags": []
   },
   "outputs": [],
   "source": []
  },
  {
   "cell_type": "code",
   "execution_count": null,
   "id": "c42b8b5a",
   "metadata": {
    "tags": []
   },
   "outputs": [],
   "source": []
  },
  {
   "cell_type": "code",
   "execution_count": null,
   "id": "88ea9b2e",
   "metadata": {
    "tags": []
   },
   "outputs": [],
   "source": []
  },
  {
   "cell_type": "code",
   "execution_count": null,
   "id": "e0db6fe6",
   "metadata": {
    "scrolled": true,
    "tags": []
   },
   "outputs": [],
   "source": []
  },
  {
   "cell_type": "code",
   "execution_count": null,
   "id": "38bc10ad",
   "metadata": {
    "tags": []
   },
   "outputs": [],
   "source": []
  },
  {
   "cell_type": "code",
   "execution_count": null,
   "id": "0f56bcd3",
   "metadata": {
    "tags": []
   },
   "outputs": [],
   "source": []
  },
  {
   "cell_type": "code",
   "execution_count": null,
   "id": "b2838d3c",
   "metadata": {
    "tags": []
   },
   "outputs": [],
   "source": []
  },
  {
   "cell_type": "code",
   "execution_count": null,
   "id": "93deb0ba",
   "metadata": {
    "otter": {
     "tests": [
      "q6_manual"
     ]
    },
    "tags": []
   },
   "outputs": [],
   "source": []
  },
  {
   "cell_type": "markdown",
   "id": "6c6518ed",
   "metadata": {
    "deletable": false,
    "editable": false
   },
   "source": [
    "<!-- END QUESTION -->\n",
    "\n",
    "## You're done! \n",
    "\n",
    "Congratulations on finishing the lab! Gus is happy you learned about temperature today even though he doesn't like the cold! Run the cell below and submit to Canvas. \n",
    "\n",
    "<img src=\"gus_goes_on_an_adventure.JPG\" alt=\"drawing\" width=\"500\"/>\n",
    "\n",
    "### References\n",
    "- Hands on Data Analysis with Pandas by Stefanie Molin\n",
    "- National Oceanic and Atmospheric Adminstration (NOAA) National Centers for Environmental Information (NCEI): https://www.ncei.noaa.gov"
   ]
  },
  {
   "cell_type": "code",
   "execution_count": null,
   "id": "9da5d4f0",
   "metadata": {},
   "outputs": [],
   "source": []
  },
  {
   "cell_type": "markdown",
   "id": "bc277c1f",
   "metadata": {
    "deletable": false,
    "editable": false
   },
   "source": [
    "## Submission\n",
    "\n",
    "Make sure you have run all cells in your notebook in order before running the cell below, so that all images/graphs appear in the output. The cell below will generate a zip file for you to submit. **Please save before exporting!**"
   ]
  },
  {
   "cell_type": "code",
   "execution_count": null,
   "id": "3ab47aaa",
   "metadata": {
    "deletable": false,
    "editable": false
   },
   "outputs": [],
   "source": [
    "# Save your notebook first, then run this cell to export your submission.\n",
    "grader.export(run_tests=True)"
   ]
  },
  {
   "cell_type": "markdown",
   "id": "cd6c14fa",
   "metadata": {},
   "source": [
    " "
   ]
  }
 ],
 "metadata": {
  "kernelspec": {
   "display_name": "Python 3 (ipykernel)",
   "language": "python",
   "name": "python3"
  },
  "language_info": {
   "codemirror_mode": {
    "name": "ipython",
    "version": 3
   },
   "file_extension": ".py",
   "mimetype": "text/x-python",
   "name": "python",
   "nbconvert_exporter": "python",
   "pygments_lexer": "ipython3",
   "version": "3.11.4"
  },
  "otter": {
   "OK_FORMAT": true,
   "tests": {
    "q1_1": {
     "name": "q1_1",
     "points": null,
     "suites": [
      {
       "cases": [
        {
         "code": ">>> access_token != ...\nTrue",
         "hidden": false,
         "locked": false
        }
       ],
       "scored": true,
       "setup": "",
       "teardown": "",
       "type": "doctest"
      }
     ]
    },
    "q1_2": {
     "name": "q1_2",
     "points": null,
     "suites": [
      {
       "cases": [
        {
         "code": ">>> str(base_url)\n'https://www.ncei.noaa.gov/cdo-web/api/v2/'",
         "hidden": false,
         "locked": false
        }
       ],
       "scored": true,
       "setup": "",
       "teardown": "",
       "type": "doctest"
      }
     ]
    },
    "q1_3_manual": {
     "name": "q1_3_manual",
     "points": null,
     "suites": [
      {
       "cases": [],
       "scored": true,
       "setup": "",
       "teardown": "",
       "type": "doctest"
      }
     ]
    },
    "q2_1": {
     "name": "q2_1",
     "points": null,
     "suites": [
      {
       "cases": [
        {
         "code": ">>> str(endpoint_url)\n'https://www.ncei.noaa.gov/cdo-web/api/v2/datasets'",
         "hidden": false,
         "locked": false
        }
       ],
       "scored": true,
       "setup": "",
       "teardown": "",
       "type": "doctest"
      }
     ]
    },
    "q2_10": {
     "name": "q2_10",
     "points": null,
     "suites": [
      {
       "cases": [
        {
         "code": ">>> loc_response != ...\nTrue",
         "hidden": false,
         "locked": false
        },
        {
         "code": ">>> int(loc_response.status_code)\n200",
         "hidden": false,
         "locked": false
        },
        {
         "code": ">>> bool('CITY' in [i['id'] for i in loc_response.json()['results']])\nTrue",
         "hidden": false,
         "locked": false
        }
       ],
       "scored": true,
       "setup": "",
       "teardown": "",
       "type": "doctest"
      }
     ]
    },
    "q2_11": {
     "name": "q2_11",
     "points": null,
     "suites": [
      {
       "cases": [
        {
         "code": ">>> city_response != ...\nTrue",
         "hidden": false,
         "locked": false
        },
        {
         "code": ">>> int(city_response.status_code)\n200",
         "hidden": false,
         "locked": false
        },
        {
         "code": ">>> str(sf_id)\n'CITY:US060031'",
         "hidden": false,
         "locked": false
        }
       ],
       "scored": true,
       "setup": "",
       "teardown": "",
       "type": "doctest"
      }
     ]
    },
    "q2_12": {
     "name": "q2_12",
     "points": null,
     "suites": [
      {
       "cases": [
        {
         "code": ">>> data_response != ...\nTrue",
         "hidden": false,
         "locked": false
        },
        {
         "code": ">>> int(data_response.status_code)\n200",
         "hidden": false,
         "locked": false
        },
        {
         "code": ">>> len(data_response.json()['results'])\n1000",
         "hidden": false,
         "locked": false
        }
       ],
       "scored": true,
       "setup": "",
       "teardown": "",
       "type": "doctest"
      }
     ]
    },
    "q2_2": {
     "name": "q2_2",
     "points": null,
     "suites": [
      {
       "cases": [
        {
         "code": ">>> type(header_dict) is type({1: 2})\nTrue",
         "hidden": false,
         "locked": false
        },
        {
         "code": ">>> len(header_dict['token']) > 0\nTrue",
         "hidden": false,
         "locked": false
        }
       ],
       "scored": true,
       "setup": "",
       "teardown": "",
       "type": "doctest"
      }
     ]
    },
    "q2_3": {
     "name": "q2_3",
     "points": null,
     "suites": [
      {
       "cases": [
        {
         "code": ">>> bool(type(params_dict) is type({1: 2}))\nTrue",
         "hidden": false,
         "locked": false
        },
        {
         "code": ">>> str(params_dict['startdate'])\n'2018-10-01'",
         "hidden": false,
         "locked": false
        }
       ],
       "scored": true,
       "setup": "",
       "teardown": "",
       "type": "doctest"
      }
     ]
    },
    "q2_4": {
     "name": "q2_4",
     "points": null,
     "suites": [
      {
       "cases": [
        {
         "code": ">>> int(response_status)\n200",
         "hidden": false,
         "locked": false
        }
       ],
       "scored": true,
       "setup": "",
       "teardown": "",
       "type": "doctest"
      }
     ]
    },
    "q2_5": {
     "name": "q2_5",
     "points": null,
     "suites": [
      {
       "cases": [
        {
         "code": ">>> bool(type(payload) is type({1: 2}))\nTrue",
         "hidden": false,
         "locked": false
        },
        {
         "code": ">>> bool(all([i in ['metadata', 'results'] for i in payload.keys()]))\nTrue",
         "hidden": false,
         "locked": false
        }
       ],
       "scored": true,
       "setup": "",
       "teardown": "",
       "type": "doctest"
      }
     ]
    },
    "q2_6": {
     "name": "q2_6",
     "points": null,
     "suites": [
      {
       "cases": [
        {
         "code": ">>> bool(type(id_and_name) is type([1, 2]))\nTrue",
         "hidden": false,
         "locked": false
        },
        {
         "code": ">>> bool('GHCND' in [i for i, name in id_and_name] and 'Daily Summaries' in [name for i, name in id_and_name])\nTrue",
         "hidden": false,
         "locked": false
        }
       ],
       "scored": true,
       "setup": "",
       "teardown": "",
       "type": "doctest"
      }
     ]
    },
    "q2_7": {
     "name": "q2_7",
     "points": null,
     "suites": [
      {
       "cases": [
        {
         "code": ">>> daily_response.status_code\n200",
         "hidden": false,
         "locked": false
        },
        {
         "code": ">>> bool('Air Temperature' in [i['name'] for i in daily_response.json()['results']] and 'TEMP' in [i['id'] for i in daily_response.json()['results']])\nTrue",
         "hidden": false,
         "locked": false
        }
       ],
       "scored": true,
       "setup": "",
       "teardown": "",
       "type": "doctest"
      }
     ]
    },
    "q2_8": {
     "name": "q2_8",
     "points": null,
     "suites": [
      {
       "cases": [
        {
         "code": ">>> types_response.status_code\n200",
         "hidden": false,
         "locked": false
        },
        {
         "code": ">>> bool('TMAX' in [i['id'] for i in types_response.json()['results']])\nTrue",
         "hidden": false,
         "locked": false
        },
        {
         "code": ">>> bool('TMIN' in [i['id'] for i in types_response.json()['results']])\nTrue",
         "hidden": false,
         "locked": false
        }
       ],
       "scored": true,
       "setup": "",
       "teardown": "",
       "type": "doctest"
      }
     ]
    },
    "q2_9": {
     "name": "q2_9",
     "points": null,
     "suites": [
      {
       "cases": [
        {
         "code": ">>> len(id_and_name2)\n59",
         "hidden": false,
         "locked": false
        },
        {
         "code": ">>> bool('TMAX' in [i for i, name in id_and_name2] and 'Maximum temperature' in [name for i, name in id_and_name2])\nTrue",
         "hidden": false,
         "locked": false
        },
        {
         "code": ">>> bool('TMIN' in [i for i, name in id_and_name2] and 'Minimum temperature' in [name for i, name in id_and_name2])\nTrue",
         "hidden": false,
         "locked": false
        }
       ],
       "scored": true,
       "setup": "",
       "teardown": "",
       "type": "doctest"
      }
     ]
    },
    "q3_1": {
     "name": "q3_1",
     "points": null,
     "suites": [
      {
       "cases": [
        {
         "code": ">>> (sf_df == ...).sum().sum()\n0",
         "hidden": false,
         "locked": false
        },
        {
         "code": ">>> bool(all([i in ['date', 'datatype', 'station', 'attributes', 'value'] for i in sf_df.columns]))\nTrue",
         "hidden": false,
         "locked": false
        },
        {
         "code": ">>> sf_df.shape\n(1000, 5)",
         "hidden": false,
         "locked": false
        }
       ],
       "scored": true,
       "setup": "",
       "teardown": "",
       "type": "doctest"
      }
     ]
    },
    "q3_2": {
     "name": "q3_2",
     "points": null,
     "suites": [
      {
       "cases": [
        {
         "code": ">>> (datatype_counts != ...).sum()\n2",
         "hidden": false,
         "locked": false
        },
        {
         "code": ">>> datatype_counts.index\nIndex(['TMAX', 'TMIN'], dtype='object', name='datatype')",
         "hidden": false,
         "locked": false
        },
        {
         "code": ">>> datatype_counts.values\narray([500, 500])",
         "hidden": false,
         "locked": false
        }
       ],
       "scored": true,
       "setup": "",
       "teardown": "",
       "type": "doctest"
      }
     ]
    },
    "q3_3": {
     "name": "q3_3",
     "points": null,
     "suites": [
      {
       "cases": [
        {
         "code": ">>> downtown_sf_response != ...\nTrue",
         "hidden": false,
         "locked": false
        },
        {
         "code": ">>> int(downtown_sf_response.status_code)\n200",
         "hidden": false,
         "locked": false
        }
       ],
       "scored": true,
       "setup": "",
       "teardown": "",
       "type": "doctest"
      }
     ]
    },
    "q3_4": {
     "name": "q3_4",
     "points": null,
     "suites": [
      {
       "cases": [
        {
         "code": ">>> downtown_sf_response != ...\nTrue",
         "hidden": false,
         "locked": false
        },
        {
         "code": ">>> int(downtown_sf_response.status_code)\n200",
         "hidden": false,
         "locked": false
        }
       ],
       "scored": true,
       "setup": "",
       "teardown": "",
       "type": "doctest"
      }
     ]
    },
    "q3_5": {
     "name": "q3_5",
     "points": null,
     "suites": [
      {
       "cases": [
        {
         "code": ">>> new_datatype_counts != ...\ndatatype\nTMAX    True\nTMIN    True\nName: count, dtype: bool",
         "hidden": false,
         "locked": false
        },
        {
         "code": ">>> new_datatype_counts.index\nIndex(['TMAX', 'TMIN'], dtype='object', name='datatype')",
         "hidden": false,
         "locked": false
        },
        {
         "code": ">>> new_datatype_counts.values\narray([31, 31])",
         "hidden": false,
         "locked": false
        }
       ],
       "scored": true,
       "setup": "",
       "teardown": "",
       "type": "doctest"
      }
     ]
    },
    "q4_1": {
     "name": "q4_1",
     "points": null,
     "suites": [
      {
       "cases": [
        {
         "code": ">>> bool('tempC' in downtown_sf_df.columns)\nTrue",
         "hidden": false,
         "locked": false
        },
        {
         "code": ">>> bool('value' not in downtown_sf_df.columns)\nTrue",
         "hidden": false,
         "locked": false
        }
       ],
       "scored": true,
       "setup": "",
       "teardown": "",
       "type": "doctest"
      }
     ]
    },
    "q4_2_manual": {
     "name": "q4_2_manual",
     "points": null,
     "suites": [
      {
       "cases": [],
       "scored": true,
       "setup": "",
       "teardown": "",
       "type": "doctest"
      }
     ]
    },
    "q4_3": {
     "name": "q4_3",
     "points": null,
     "suites": [
      {
       "cases": [
        {
         "code": ">>> downtown_sf_df.dtypes\ndate          datetime64[ns]\ndatatype              object\nstation               object\nattributes            object\ntempC                float64\ndtype: object",
         "hidden": false,
         "locked": false
        }
       ],
       "scored": true,
       "setup": "",
       "teardown": "",
       "type": "doctest"
      }
     ]
    },
    "q4_4": {
     "name": "q4_4",
     "points": null,
     "suites": [
      {
       "cases": [
        {
         "code": ">>> 'tempF' in downtown_sf_df.columns\nTrue",
         "hidden": false,
         "locked": false
        },
        {
         "code": ">>> downtown_sf_df.loc[downtown_sf_df['tempC'] == 15.0, 'tempF']\n1    59.0\nName: tempF, dtype: float64",
         "hidden": false,
         "locked": false
        }
       ],
       "scored": true,
       "setup": "",
       "teardown": "",
       "type": "doctest"
      }
     ]
    },
    "q4_5": {
     "name": "q4_5",
     "points": null,
     "suites": [
      {
       "cases": [
        {
         "code": ">>> 'tempF_int' in downtown_sf_df.columns and 'tempC_int' in downtown_sf_df.columns\nTrue",
         "hidden": false,
         "locked": false
        },
        {
         "code": ">>> downtown_sf_df['tempC_int'].dtype is np.array(3).dtype\nTrue",
         "hidden": false,
         "locked": false
        },
        {
         "code": ">>> downtown_sf_df['tempF_int'].dtype is np.array(3).dtype\nTrue",
         "hidden": false,
         "locked": false
        }
       ],
       "scored": true,
       "setup": "",
       "teardown": "",
       "type": "doctest"
      }
     ]
    },
    "q5_1": {
     "name": "q5_1",
     "points": null,
     "suites": [
      {
       "cases": [
        {
         "code": ">>> hottest_day\n15",
         "hidden": false,
         "locked": false
        }
       ],
       "scored": true,
       "setup": "",
       "teardown": "",
       "type": "doctest"
      }
     ]
    },
    "q5_2": {
     "name": "q5_2",
     "points": null,
     "suites": [
      {
       "cases": [
        {
         "code": ">>> sorted_df.loc[sorted_df.tempC == 26.1, 'date']\n12   2018-10-07\n14   2018-10-08\nName: date, dtype: datetime64[ns]",
         "hidden": false,
         "locked": false
        },
        {
         "code": ">>> sorted_df.loc[sorted_df.tempC == 11.7, 'date']\n33   2018-10-17\n35   2018-10-18\nName: date, dtype: datetime64[ns]",
         "hidden": false,
         "locked": false
        },
        {
         "code": ">>> sorted_df.loc[sorted_df.tempC == 11.1, 'date']\n37   2018-10-19\n39   2018-10-20\n41   2018-10-21\nName: date, dtype: datetime64[ns]",
         "hidden": false,
         "locked": false
        }
       ],
       "scored": true,
       "setup": "",
       "teardown": "",
       "type": "doctest"
      }
     ]
    },
    "q5_3_manual": {
     "name": "q5_3_manual",
     "points": null,
     "suites": [
      {
       "cases": [],
       "scored": true,
       "setup": "",
       "teardown": "",
       "type": "doctest"
      }
     ]
    },
    "q6_manual": {
     "name": "q6_manual",
     "points": null,
     "suites": [
      {
       "cases": [],
       "scored": true,
       "setup": "",
       "teardown": "",
       "type": "doctest"
      }
     ]
    }
   }
  }
 },
 "nbformat": 4,
 "nbformat_minor": 5
}
