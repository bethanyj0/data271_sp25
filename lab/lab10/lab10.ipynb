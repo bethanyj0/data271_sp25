{
 "cells": [
  {
   "cell_type": "code",
   "execution_count": null,
   "id": "c11b8f5f",
   "metadata": {
    "deletable": false,
    "editable": false
   },
   "outputs": [],
   "source": [
    "# Initialize Otter\n",
    "import otter\n",
    "grader = otter.Notebook(\"lab10.ipynb\")"
   ]
  },
  {
   "cell_type": "markdown",
   "id": "714bf844",
   "metadata": {},
   "source": [
    "# Lab 10: Web Scraping and Manipulating Data\n",
    "\n",
    "Welcome to Lab 10 of Data Wrangling and Visualization!\n",
    "\n",
    "## Overview\n",
    "The web provides a rich source of data, so we often want to work with that information programmatically in order to make sense of it. Sometimes, that data is provided to us by website creators via csv files or through an API (Application Programming Interface). Other times, we need to collect text from the web ourselves.\n",
    "\n",
    "It is easy to pull HTML from a website but more difficult to find the information we want from HTML.  Parsing the HTML for targeted information and then storing that information in a structured format will be the focus of this activity. Once we have our data in a structured format, we will practice cleaning and reshaping the data.\n",
    "\n",
    "\n",
    "## In today's lab, we will\n",
    "- Become familiar with the structure of HTML and CSS by inspecting source code\n",
    "- Use the Requests and Beautiful Soup libraries to acquire and parse data from websites\n",
    "- Work through the challenges of web scraping (i.e. turning messy, unstructured data into workable form)\n",
    "- Use Pandas methods to clean, manipulate, and reshape data for a brief EDA"
   ]
  },
  {
   "cell_type": "markdown",
   "id": "a21eef34",
   "metadata": {},
   "source": [
    "This activity will make use of the Requests and Beautiful Soup Python modules.\n",
    "Documentation can be found here: \n",
    "- https://docs.python-requests.org/en/latest/\n",
    "- https://www.crummy.com/software/BeautifulSoup/"
   ]
  },
  {
   "cell_type": "markdown",
   "id": "d27cbf18",
   "metadata": {},
   "source": [
    "### Import packages\n"
   ]
  },
  {
   "cell_type": "code",
   "execution_count": null,
   "id": "526a6023",
   "metadata": {
    "tags": []
   },
   "outputs": [],
   "source": [
    "import pandas as pd\n",
    "import requests\n",
    "from bs4 import BeautifulSoup\n",
    "import warnings\n",
    "warnings.filterwarnings(\"ignore\")\n",
    "import seaborn as sns\n",
    "sns.set_style('darkgrid')\n",
    "import matplotlib.pyplot as plt\n",
    "import numpy as np"
   ]
  },
  {
   "cell_type": "markdown",
   "id": "5dbd57eb",
   "metadata": {},
   "source": [
    "### 1. Scrape and Beautify Cal Poly Humboldt Data"
   ]
  },
  {
   "cell_type": "markdown",
   "id": "2a609b5b",
   "metadata": {
    "deletable": false,
    "editable": false
   },
   "source": [
    "**Question 1.1:** Go to https://pine.humboldt.edu/anstud/cgi-bin/filter.pl?relevant=ft1yr_retention.out. Read through the webpage and inspect its source code. What information does this page provide? Once you have a feel for what is on the webpage, import its contents with the requests module."
   ]
  },
  {
   "cell_type": "code",
   "execution_count": null,
   "id": "77813b5c",
   "metadata": {
    "tags": []
   },
   "outputs": [],
   "source": [
    "# Import the data\n",
    "page = ..."
   ]
  },
  {
   "cell_type": "code",
   "execution_count": null,
   "id": "fcc85b48",
   "metadata": {
    "deletable": false,
    "editable": false
   },
   "outputs": [],
   "source": [
    "grader.check(\"q1_1\")"
   ]
  },
  {
   "cell_type": "markdown",
   "id": "d4b601c8",
   "metadata": {
    "deletable": false,
    "editable": false
   },
   "source": [
    "**Question 1.2:** Inspect the text of the data you just imported. "
   ]
  },
  {
   "cell_type": "code",
   "execution_count": null,
   "id": "a12a24fb",
   "metadata": {
    "tags": []
   },
   "outputs": [],
   "source": [
    "# inspect the text\n",
    "page_text = ...\n",
    "page_text"
   ]
  },
  {
   "cell_type": "code",
   "execution_count": null,
   "id": "c1b718d2",
   "metadata": {
    "deletable": false,
    "editable": false
   },
   "outputs": [],
   "source": [
    "grader.check(\"q1_2\")"
   ]
  },
  {
   "cell_type": "markdown",
   "id": "ae054d76",
   "metadata": {
    "deletable": false,
    "editable": false
   },
   "source": [
    "**Question 1.3:** Create a Beautiful Soup object from `page_text`. "
   ]
  },
  {
   "cell_type": "code",
   "execution_count": null,
   "id": "64e10e7e",
   "metadata": {
    "tags": []
   },
   "outputs": [],
   "source": [
    "# Create soup object\n",
    "soup = ...\n",
    "soup"
   ]
  },
  {
   "cell_type": "code",
   "execution_count": null,
   "id": "3525c71d",
   "metadata": {
    "deletable": false,
    "editable": false
   },
   "outputs": [],
   "source": [
    "grader.check(\"q1_3\")"
   ]
  },
  {
   "cell_type": "markdown",
   "id": "3a3d106c",
   "metadata": {
    "deletable": false,
    "editable": false
   },
   "source": [
    "<!-- BEGIN QUESTION -->\n",
    "\n",
    "**Question 1.4:** Use the `prettify()` method to turn the Beautiful Soup parse tree into a nicely formatted string with each HTML tag on its own line. Take a look through it and take note of any tags or attributes you are unfamiliear with. Look up any tags that aren't familiar."
   ]
  },
  {
   "cell_type": "code",
   "execution_count": null,
   "id": "09ba4aa9",
   "metadata": {
    "otter": {
     "tests": [
      "q1_4_manual"
     ]
    },
    "tags": []
   },
   "outputs": [],
   "source": [
    "# Print pretty data"
   ]
  },
  {
   "cell_type": "markdown",
   "id": "47dbbe08",
   "metadata": {
    "deletable": false,
    "editable": false
   },
   "source": [
    "<!-- END QUESTION -->\n",
    "\n",
    "### 2. Parse and clean the data"
   ]
  },
  {
   "cell_type": "markdown",
   "id": "950f4d34",
   "metadata": {
    "deletable": false,
    "editable": false
   },
   "source": [
    "**Question 2.1:** Use a BeautifulSoup method to determine how many tables are on the webpage. "
   ]
  },
  {
   "cell_type": "code",
   "execution_count": null,
   "id": "8fd74f39",
   "metadata": {
    "tags": []
   },
   "outputs": [],
   "source": [
    "num_tables = ...\n",
    "num_tables"
   ]
  },
  {
   "cell_type": "code",
   "execution_count": null,
   "id": "0b0356cf",
   "metadata": {
    "deletable": false,
    "editable": false
   },
   "outputs": [],
   "source": [
    "grader.check(\"q2_1\")"
   ]
  },
  {
   "cell_type": "markdown",
   "id": "88c7b6b4",
   "metadata": {
    "deletable": false,
    "editable": false
   },
   "source": [
    "**Question 2.2:** Access the second to last table and put the contents in `table1_code`. Inspect it, and then give a brief description of what the table contains. "
   ]
  },
  {
   "cell_type": "code",
   "execution_count": null,
   "id": "d92e76dc",
   "metadata": {
    "tags": []
   },
   "outputs": [],
   "source": [
    "table1_code = ...\n",
    "table1_code"
   ]
  },
  {
   "cell_type": "code",
   "execution_count": null,
   "id": "fcffa9ee",
   "metadata": {
    "deletable": false,
    "editable": false
   },
   "outputs": [],
   "source": [
    "grader.check(\"q2_2\")"
   ]
  },
  {
   "cell_type": "markdown",
   "id": "89336e9e",
   "metadata": {
    "deletable": false,
    "editable": false
   },
   "source": [
    "**Question 2.3:** Put the contents from the second to last table (`table1_code`) into Pandas Data Frame.\n",
    "\n",
    "*HINT 1:* You will probably find it helpful to first create a nested list of the data. Each inner list should contain the contents of one row in the table. The outer list should contain all the rows. Use this nested list to create the Pandas DataFrame.\n",
    "\n",
    "*HINT 2:* Notice that the first two rows in the table have headers (a slightly different structure from the rest of the table). You might find it helpful to first create the data frame to contain the body of the table. Then create the column names with the headers afterward."
   ]
  },
  {
   "cell_type": "code",
   "execution_count": null,
   "id": "4e8fcece",
   "metadata": {
    "tags": []
   },
   "outputs": [],
   "source": [
    "nested_list = ...\n",
    "\n",
    "# Create a nested list of data\n",
    "\n",
    "# Put the data in a Pandas dataframe and rename columns as needed\n",
    "table1_df = ...\n",
    "table1_df.columns = ...\n",
    "table1_df"
   ]
  },
  {
   "cell_type": "code",
   "execution_count": null,
   "id": "7a770bce",
   "metadata": {
    "deletable": false,
    "editable": false
   },
   "outputs": [],
   "source": [
    "grader.check(\"q2_3\")"
   ]
  },
  {
   "cell_type": "markdown",
   "id": "f64a1390",
   "metadata": {
    "deletable": false,
    "editable": false
   },
   "source": [
    "**Question 2.4:** Notice that even rows contain numbers and odd rows contain percents in `table1_df1`. Let's separate this into two Pandas data frames. One should contain only numbers, one should contain percents. \n",
    "\n",
    "*NOTE:* Make sure that both tables have data in the `Major Program` column."
   ]
  },
  {
   "cell_type": "code",
   "execution_count": null,
   "id": "40e2584f",
   "metadata": {
    "tags": []
   },
   "outputs": [],
   "source": [
    "# Create numbers data frame\n",
    "table1_nums = ...\n",
    "table1_nums"
   ]
  },
  {
   "cell_type": "code",
   "execution_count": null,
   "id": "9f95bce5",
   "metadata": {
    "tags": []
   },
   "outputs": [],
   "source": [
    "# Create percents data frame\n",
    "table1_percents = ...\n",
    "table1_percents"
   ]
  },
  {
   "cell_type": "code",
   "execution_count": null,
   "id": "67436cbe",
   "metadata": {
    "deletable": false,
    "editable": false
   },
   "outputs": [],
   "source": [
    "grader.check(\"q2_4\")"
   ]
  },
  {
   "cell_type": "markdown",
   "id": "61994102",
   "metadata": {
    "deletable": false,
    "editable": false
   },
   "source": [
    "<!-- BEGIN QUESTION -->\n",
    "\n",
    "**Question 2.5:** Check the data types of each column in both tables from the previous question. "
   ]
  },
  {
   "cell_type": "code",
   "execution_count": null,
   "id": "ba4c25a4",
   "metadata": {
    "tags": []
   },
   "outputs": [],
   "source": [
    "# check nums dtypes"
   ]
  },
  {
   "cell_type": "code",
   "execution_count": null,
   "id": "427897f4",
   "metadata": {
    "otter": {
     "tests": [
      "q2_5manual"
     ]
    },
    "tags": []
   },
   "outputs": [],
   "source": [
    "# check percents dtypes"
   ]
  },
  {
   "cell_type": "markdown",
   "id": "57e74b68",
   "metadata": {
    "deletable": false,
    "editable": false
   },
   "source": [
    "<!-- END QUESTION -->\n",
    "\n",
    "**Question 2.6:** Cast the datatypes in your tables appropriately. In other words, if a column contains numbers, cast it to an appropriate numeric data type.\n",
    "\n",
    "*NOTE:* The percents in the `table1_percents` DataFrame should be floats."
   ]
  },
  {
   "cell_type": "code",
   "execution_count": null,
   "id": "b137bd90",
   "metadata": {
    "tags": []
   },
   "outputs": [],
   "source": [
    "# Cast datatypes in nums table\n",
    "    \n",
    "table1_nums.dtypes"
   ]
  },
  {
   "cell_type": "code",
   "execution_count": null,
   "id": "114d0e47",
   "metadata": {
    "tags": []
   },
   "outputs": [],
   "source": [
    "# Cast datatypes in percents table\n",
    "\n",
    "table1_percents.dtypes"
   ]
  },
  {
   "cell_type": "code",
   "execution_count": null,
   "id": "ee8a532e",
   "metadata": {
    "deletable": false,
    "editable": false
   },
   "outputs": [],
   "source": [
    "grader.check(\"q2_6\")"
   ]
  },
  {
   "cell_type": "markdown",
   "id": "79438785",
   "metadata": {},
   "source": [
    "## 3. Visualize"
   ]
  },
  {
   "cell_type": "markdown",
   "id": "c9bf93e0",
   "metadata": {
    "deletable": false,
    "editable": false
   },
   "source": [
    "**Question 3.1:** Visualize the relationship between the 1st Year retention rates (percents) in Fall 14 and the 1st Year retention rates (percents) in Fall 23. Make sure your visualization has a title and your axes are labeled appropriately as Fall 14 and Fall 23."
   ]
  },
  {
   "cell_type": "code",
   "execution_count": null,
   "id": "7b12af15",
   "metadata": {
    "tags": []
   },
   "outputs": [],
   "source": [
    "scatter_14_vs_23 = ...\n",
    "plt.show()"
   ]
  },
  {
   "cell_type": "code",
   "execution_count": null,
   "id": "2d8aacf8",
   "metadata": {
    "deletable": false,
    "editable": false
   },
   "outputs": [],
   "source": [
    "grader.check(\"q3_1\")"
   ]
  },
  {
   "cell_type": "markdown",
   "id": "23804c4e",
   "metadata": {
    "deletable": false,
    "editable": false
   },
   "source": [
    "<!-- BEGIN QUESTION -->\n",
    "\n",
    "**Question 3.2:** Visualize the trend in 1st Year retention rates (percents) over time for Biology. On the same axes plot the trend for English (in a different color). Make sure your plot has an informative legend, axes labels, and title. \n",
    "\n",
    "*HINT:* You will probably find it helpful to reshape your `table1_percents` dataframe to create this plot. "
   ]
  },
  {
   "cell_type": "code",
   "execution_count": null,
   "id": "a1830821",
   "metadata": {
    "tags": []
   },
   "outputs": [],
   "source": [
    "# reshape the data as needed\n"
   ]
  },
  {
   "cell_type": "code",
   "execution_count": null,
   "id": "e22b2af4",
   "metadata": {
    "otter": {
     "tests": [
      "q3_2_manual"
     ]
    },
    "tags": []
   },
   "outputs": [],
   "source": [
    "# plot the trends\n",
    "retention_trends = ...\n",
    "plt.show()"
   ]
  },
  {
   "cell_type": "markdown",
   "id": "ac0657c5",
   "metadata": {
    "deletable": false,
    "editable": false
   },
   "source": [
    "<!-- END QUESTION -->\n",
    "\n",
    "<!-- BEGIN QUESTION -->\n",
    "\n",
    "**Question 3.3:** Create one more data visualization of your choice. This might require reshaping your data. Describe what insights you gain from your visualization."
   ]
  },
  {
   "cell_type": "code",
   "execution_count": null,
   "id": "813e81c0",
   "metadata": {
    "otter": {
     "tests": [
      "q3_3_manual"
     ]
    },
    "tags": []
   },
   "outputs": [],
   "source": [
    "# Visualize"
   ]
  },
  {
   "cell_type": "markdown",
   "id": "6c6518ed",
   "metadata": {
    "deletable": false,
    "editable": false
   },
   "source": [
    "<!-- END QUESTION -->\n",
    "\n",
    "## You're done! \n",
    "\n",
    "Congratulations on finishing the lab! Gus is proud of you! Run the cell below and submit to Canvas. \n",
    "\n",
    "<img src=\"gus_big_stretch.JPG\" alt=\"drawing\" width=\"500\"/>"
   ]
  },
  {
   "cell_type": "markdown",
   "id": "3cc27bb9",
   "metadata": {
    "deletable": false,
    "editable": false
   },
   "source": [
    "## Submission\n",
    "\n",
    "Make sure you have run all cells in your notebook in order before running the cell below, so that all images/graphs appear in the output. The cell below will generate a zip file for you to submit. **Please save before exporting!**"
   ]
  },
  {
   "cell_type": "code",
   "execution_count": null,
   "id": "ca57c3a1",
   "metadata": {
    "deletable": false,
    "editable": false
   },
   "outputs": [],
   "source": [
    "# Save your notebook first, then run this cell to export your submission.\n",
    "grader.export(run_tests=True)"
   ]
  },
  {
   "cell_type": "markdown",
   "id": "e97163ca",
   "metadata": {},
   "source": [
    " "
   ]
  }
 ],
 "metadata": {
  "kernelspec": {
   "display_name": "Python 3 (ipykernel)",
   "language": "python",
   "name": "python3"
  },
  "language_info": {
   "codemirror_mode": {
    "name": "ipython",
    "version": 3
   },
   "file_extension": ".py",
   "mimetype": "text/x-python",
   "name": "python",
   "nbconvert_exporter": "python",
   "pygments_lexer": "ipython3",
   "version": "3.11.4"
  },
  "otter": {
   "OK_FORMAT": true,
   "tests": {
    "q1_1": {
     "name": "q1_1",
     "points": null,
     "suites": [
      {
       "cases": [
        {
         "code": ">>> bool(page != ...)\nTrue",
         "hidden": false,
         "locked": false
        },
        {
         "code": ">>> int(page.status_code)\n200",
         "hidden": false,
         "locked": false
        }
       ],
       "scored": true,
       "setup": "",
       "teardown": "",
       "type": "doctest"
      }
     ]
    },
    "q1_2": {
     "name": "q1_2",
     "points": null,
     "suites": [
      {
       "cases": [
        {
         "code": ">>> bool(page_text != ...)\nTrue",
         "hidden": false,
         "locked": false
        },
        {
         "code": ">>> bool(type(page_text) is str)\nTrue",
         "hidden": false,
         "locked": false
        }
       ],
       "scored": true,
       "setup": "",
       "teardown": "",
       "type": "doctest"
      }
     ]
    },
    "q1_3": {
     "name": "q1_3",
     "points": null,
     "suites": [
      {
       "cases": [
        {
         "code": ">>> bool(soup != ...)\nTrue",
         "hidden": false,
         "locked": false
        },
        {
         "code": ">>> bool(type(soup) is BeautifulSoup)\nTrue",
         "hidden": false,
         "locked": false
        }
       ],
       "scored": true,
       "setup": "",
       "teardown": "",
       "type": "doctest"
      }
     ]
    },
    "q1_4_manual": {
     "name": "q1_4_manual",
     "points": null,
     "suites": [
      {
       "cases": [],
       "scored": true,
       "setup": "",
       "teardown": "",
       "type": "doctest"
      }
     ]
    },
    "q2_1": {
     "name": "q2_1",
     "points": null,
     "suites": [
      {
       "cases": [
        {
         "code": ">>> bool(num_tables != ...)\nTrue",
         "hidden": false,
         "locked": false
        },
        {
         "code": ">>> int(num_tables)\n16",
         "hidden": false,
         "locked": false
        }
       ],
       "scored": true,
       "setup": "",
       "teardown": "",
       "type": "doctest"
      }
     ]
    },
    "q2_2": {
     "name": "q2_2",
     "points": null,
     "suites": [
      {
       "cases": [
        {
         "code": ">>> bool(table1_code != ...)\nTrue",
         "hidden": false,
         "locked": false
        },
        {
         "code": ">>> bool('First-Time full-time Undergrads by current Major' in table1_code.find('tr').text)\nTrue",
         "hidden": false,
         "locked": false
        }
       ],
       "scored": true,
       "setup": "",
       "teardown": "",
       "type": "doctest"
      }
     ]
    },
    "q2_3": {
     "name": "q2_3",
     "points": null,
     "suites": [
      {
       "cases": [
        {
         "code": ">>> bool(type(table1_df) is pd.DataFrame)\nTrue",
         "hidden": false,
         "locked": false
        },
        {
         "code": ">>> int(sum([i in ['Major Program', 'Fall 14', 'Fall 14', 'Fall 15', 'Fall 16', 'Fall 17', 'Fall 18', 'Fall 19', 'Fall 20', 'Fall 21', 'Fall 22', 'Fall 23'] for i in list(table1_df.columns)]))\n11",
         "hidden": false,
         "locked": false
        },
        {
         "code": ">>> int(table1_df.shape[0])\n126",
         "hidden": false,
         "locked": false
        }
       ],
       "scored": true,
       "setup": "",
       "teardown": "",
       "type": "doctest"
      }
     ]
    },
    "q2_4": {
     "name": "q2_4",
     "points": null,
     "suites": [
      {
       "cases": [
        {
         "code": ">>> bool(type(table1_nums) is pd.DataFrame and type(table1_percents) is pd.DataFrame)\nTrue",
         "hidden": false,
         "locked": false
        },
        {
         "code": ">>> int(sum([i in ['Major Program', 'Fall 14', 'Fall 14', 'Fall 15', 'Fall 16', 'Fall 17', 'Fall 18', 'Fall 19', 'Fall 20', 'Fall 21', 'Fall 22', 'Fall 23'] for i in list(table1_nums.columns)]))\n11",
         "hidden": false,
         "locked": false
        },
        {
         "code": ">>> int(sum([i in ['Major Program', 'Fall 14', 'Fall 14', 'Fall 15', 'Fall 16', 'Fall 17', 'Fall 18', 'Fall 19', 'Fall 20', 'Fall 21', 'Fall 22', 'Fall 23'] for i in list(table1_percents.columns)]))\n11",
         "hidden": false,
         "locked": false
        },
        {
         "code": ">>> table1_nums.shape[0]\n63",
         "hidden": false,
         "locked": false
        },
        {
         "code": ">>> 'Art' in table1_percents['Major Program'].values\nTrue",
         "hidden": false,
         "locked": false
        }
       ],
       "scored": true,
       "setup": "",
       "teardown": "",
       "type": "doctest"
      }
     ]
    },
    "q2_5manual": {
     "name": "q2_5manual",
     "points": null,
     "suites": [
      {
       "cases": [],
       "scored": true,
       "setup": "",
       "teardown": "",
       "type": "doctest"
      }
     ]
    },
    "q2_6": {
     "name": "q2_6",
     "points": null,
     "suites": [
      {
       "cases": [
        {
         "code": ">>> bool(table1_nums.iloc[:, 5].dtype is np.array(2).dtype)\nTrue",
         "hidden": false,
         "locked": false
        },
        {
         "code": ">>> bool(table1_percents.iloc[:, 5].dtype is np.ones(2).dtype)\nTrue",
         "hidden": false,
         "locked": false
        }
       ],
       "scored": true,
       "setup": "",
       "teardown": "",
       "type": "doctest"
      }
     ]
    },
    "q3_1": {
     "name": "q3_1",
     "points": null,
     "suites": [
      {
       "cases": [
        {
         "code": ">>> bool('Fall 14' == scatter_14_vs_23.get_xlabel() or 'Fall 14' == scatter_14_vs_23.get_ylabel())\nTrue",
         "hidden": false,
         "locked": false
        },
        {
         "code": ">>> bool('Fall 23' == scatter_14_vs_23.get_xlabel() or 'Fall 23' == scatter_14_vs_23.get_ylabel())\nTrue",
         "hidden": false,
         "locked": false
        },
        {
         "code": ">>> bool(len(scatter_14_vs_23.get_title()) != 0)\nTrue",
         "hidden": false,
         "locked": false
        }
       ],
       "scored": true,
       "setup": "",
       "teardown": "",
       "type": "doctest"
      }
     ]
    },
    "q3_2_manual": {
     "name": "q3_2_manual",
     "points": null,
     "suites": [
      {
       "cases": [],
       "scored": true,
       "setup": "",
       "teardown": "",
       "type": "doctest"
      }
     ]
    },
    "q3_3_manual": {
     "name": "q3_3_manual",
     "points": null,
     "suites": [
      {
       "cases": [],
       "scored": true,
       "setup": "",
       "teardown": "",
       "type": "doctest"
      }
     ]
    }
   }
  }
 },
 "nbformat": 4,
 "nbformat_minor": 5
}
