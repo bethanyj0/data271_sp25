{
 "cells": [
  {
   "cell_type": "code",
   "execution_count": null,
   "id": "25511075",
   "metadata": {
    "deletable": false,
    "editable": false
   },
   "outputs": [],
   "source": [
    "# Initialize Otter\n",
    "import otter\n",
    "grader = otter.Notebook(\"lab11.ipynb\")"
   ]
  },
  {
   "cell_type": "markdown",
   "id": "714bf844",
   "metadata": {},
   "source": [
    "# Lab 11: Tidy Data and Interactive Visualization\n",
    "\n",
    "Welcome to Lab 11 of Data Wrangling and Visualization!\n",
    "\n",
    "## Overview\n",
    "Statistician Hadley Wickham draws an analaogy for data to Leo Tolstoy's quote \"Happy families are all alike; every unhappy family is unhappy in its own way.\"  Wickham's insight is that tidy datasets are all alike but every messy dataset is messy in its own way ([paper](https://vita.had.co.nz/papers/tidy-data.pdf)).\n",
    "\n",
    "Tidy data sets are desirable because they provide a standard way to connect the structure of the dataset (e.g., columns, physical layout) to its meaning.  Tidy data follows three principles:\n",
    "\n",
    "- Every column is a variable\n",
    "- Every row is an observation\n",
    "- Every cell is a single value.\n",
    "\n",
    "Messy data refers to any other arrangement of a dataset.\n",
    "\n",
    "\n",
    "The five most common problems with messy datasets are\n",
    "- column headers are values, not variable names\n",
    "- multiple variables are stored in one column\n",
    "- variables are stored in both rows and columns\n",
    "- multiple types of observational units are stored in the same table\n",
    "- a single observational unit is stored in multiple tables.\n",
    "\n",
    "\n",
    "The most common tools to address messiness are\n",
    "- melting (changing wide format data to long format data)\n",
    "- string splitting\n",
    "- pivoting (changing long format data to wide format data)\n",
    "\n",
    "Other tools that are nice for cleaning data include \n",
    "- filter (subsetting or removing observations based on some condition)\n",
    "- transform (adding or modifying variables, e.g., log transforming a single variable or computing force from mass and acceleration variables)\n",
    "- aggregate (collapsing multiple values into a single value, such as taking the mean, or summing the total count)\n",
    "- sort (changing the order of observations, for example, sorting by date or sorting alphabetically)\n",
    "\n",
    "Tidying a dataset puts it in the form described above (3 principles), and tidying is a subset of data cleaning.\n",
    "\n",
    "## In today's lab, we will\n",
    "- work on understanding concept of tidy data\n",
    "- recognize whether a given dataset is tidy or messy\n",
    "- utilize common tools to reshape data into tidy form"
   ]
  },
  {
   "cell_type": "code",
   "execution_count": null,
   "id": "fb40496d",
   "metadata": {
    "tags": []
   },
   "outputs": [],
   "source": [
    "import pandas as pd\n",
    "import numpy as np"
   ]
  },
  {
   "cell_type": "markdown",
   "id": "5dbd57eb",
   "metadata": {},
   "source": [
    "### 1. Practice: Reshaping data"
   ]
  },
  {
   "cell_type": "markdown",
   "id": "2a609b5b",
   "metadata": {
    "deletable": false,
    "editable": false
   },
   "source": [
    "**Question 1.1:** Given the dataset below, use Pandas methods to reshape the data frame on the left to match the data frame on the right. \n",
    "\n",
    "\n",
    "<table style=\"text-align:center;\"><tr>\n",
    "<th style='text-align:center; vertical-align:middle'> Original </th>\n",
    "<th style='text-align:center; vertical-align:middle'> Reshaped </th></tr>\n",
    "<tr>\n",
    "<td> <img src=\"df_orig.PNG\" alt=\"Drawing\" style=\"width: 280px;\"/> </td>\n",
    "<td> <img src=\"df_reshape1.PNG\" alt=\"Drawing\" style=\"width: 180px;\"/> </td>\n",
    "</tr></table>\n",
    "\n",
    "*NOTES:* \n",
    "- The data frame on the right above has been truncated (for space). Your resulting data frame should include all the data from the original data frame.\n",
    "- The goal in this problem is not to tidy the data. It is to practice and refresh our memories reshaping methods in Pandas. (We went over these during midterm week, so we didn't get as much practice with them)"
   ]
  },
  {
   "cell_type": "code",
   "execution_count": null,
   "id": "77813b5c",
   "metadata": {
    "tags": []
   },
   "outputs": [],
   "source": [
    "# Create original dataframe:\n",
    "df_orig = pd.DataFrame(\n",
    "        {\"Person\":[\"Alan\",\"Berta\",\"Charlie\",\"Danielle\"], #Name of Person\n",
    "        \"House\":[\"A\",\"B\",\"A\",\"C\"],                      #Name of houses they live in\n",
    "        \"Age\":[32,46,35,28],                            #Age of Person\n",
    "        \"Books\":[100,30,20,40],                         #Number of books owned\n",
    "        \"Movies\":[10,20,80,60]                          #Number of movie watched\n",
    "        })\n",
    "df_orig"
   ]
  },
  {
   "cell_type": "code",
   "execution_count": null,
   "id": "7caedc18",
   "metadata": {
    "tags": []
   },
   "outputs": [],
   "source": [
    "df_reshaped1 = ...\n",
    "df_reshaped1"
   ]
  },
  {
   "cell_type": "code",
   "execution_count": null,
   "id": "39dc3dbf",
   "metadata": {
    "deletable": false,
    "editable": false
   },
   "outputs": [],
   "source": [
    "grader.check(\"q1_1\")"
   ]
  },
  {
   "cell_type": "markdown",
   "id": "8bc02a42",
   "metadata": {
    "deletable": false,
    "editable": false
   },
   "source": [
    "**Question 1.2:** Given the dataset below, use Pandas methods to reshape the data frame on the left to match the data frame on the right. \n",
    "\n",
    "<table style=\"text-align:center;\"><tr>\n",
    "<th style='text-align:center; vertical-align:middle'> Original </th>\n",
    "<th style='text-align:center; vertical-align:middle'> Reshaped </th></tr>\n",
    "<tr>\n",
    "<td> <img src=\"df_orig.PNG\" alt=\"Drawing\" style=\"width: 280px;\"/> </td>\n",
    "<td> <img src=\"df_reshape2.PNG\" alt=\"Drawing\" style=\"width: 250px;\"/> </td>\n",
    "</tr></table>\n",
    "\n",
    "*NOTES:* \n",
    "- - The goal in this problem is not to tidy the data. It is to practice and refresh our memories reshaping methods in Pandas."
   ]
  },
  {
   "cell_type": "code",
   "execution_count": null,
   "id": "edbebb27",
   "metadata": {
    "tags": []
   },
   "outputs": [],
   "source": [
    "df_reshaped2 = ...\n",
    "df_reshaped2"
   ]
  },
  {
   "cell_type": "code",
   "execution_count": null,
   "id": "124c00c4",
   "metadata": {
    "deletable": false,
    "editable": false
   },
   "outputs": [],
   "source": [
    "grader.check(\"q1_2\")"
   ]
  },
  {
   "cell_type": "markdown",
   "id": "1cc3c1e7",
   "metadata": {
    "deletable": false,
    "editable": false
   },
   "source": [
    "**Question 1.3:** Given the dataset below, use Pandas methods to reshape the data frame on the left to match the data frame on the right. \n",
    "\n",
    "<table style=\"text-align:center;\"><tr>\n",
    "<th style='text-align:center; vertical-align:middle'> Original </th>\n",
    "<th style='text-align:center; vertical-align:middle'> Reshaped </th></tr>\n",
    "<tr>\n",
    "<td> <img src=\"df_orig.PNG\" alt=\"Drawing\" style=\"width: 280px;\"/> </td>\n",
    "<td> <img src=\"df_reshape3.PNG\" alt=\"Drawing\" style=\"width: 200px;\"/> </td>\n",
    "</tr></table>\n",
    "\n",
    "*NOTES:* \n",
    "- The data frame on the right above has *not* been truncated. Your resulting data frame should only include the data that is shown.\n",
    "- The goal in this problem is not to tidy the data. It is to practice and refresh our memories reshaping methods in Pandas."
   ]
  },
  {
   "cell_type": "code",
   "execution_count": null,
   "id": "caabee61",
   "metadata": {
    "tags": []
   },
   "outputs": [],
   "source": [
    "df_reshaped3 = ...\n",
    "df_reshaped3"
   ]
  },
  {
   "cell_type": "code",
   "execution_count": null,
   "id": "ba4ff3ba",
   "metadata": {
    "deletable": false,
    "editable": false
   },
   "outputs": [],
   "source": [
    "grader.check(\"q1_3\")"
   ]
  },
  {
   "cell_type": "markdown",
   "id": "03e17605",
   "metadata": {
    "deletable": false,
    "editable": false
   },
   "source": [
    "**Question 1.4:** Given the dataset below, use Pandas methods to reshape the data frame on the left to match the data frame on the right. \n",
    "\n",
    "<table style=\"text-align:center;\"><tr>\n",
    "<th style='text-align:center; vertical-align:middle'> Original </th>\n",
    "<th style='text-align:center; vertical-align:middle'> Reshaped </th></tr>\n",
    "<tr>\n",
    "<td> <img src=\"df_orig.PNG\" alt=\"Drawing\" style=\"width: 280px;\"/> </td>\n",
    "<td> <img src=\"df_reshape4.PNG\" alt=\"Drawing\" style=\"width: 250px;\"/> </td>\n",
    "</tr></table>\n",
    "\n",
    "*NOTES:* \n",
    "- The goal in this problem is not to tidy the data. It is to practice and refresh our memories reshaping methods in Pandas."
   ]
  },
  {
   "cell_type": "code",
   "execution_count": null,
   "id": "941c81c8",
   "metadata": {
    "tags": []
   },
   "outputs": [],
   "source": [
    "df_reshaped4 = ...\n",
    "df_reshaped4"
   ]
  },
  {
   "cell_type": "code",
   "execution_count": null,
   "id": "596d9b88",
   "metadata": {
    "deletable": false,
    "editable": false
   },
   "outputs": [],
   "source": [
    "grader.check(\"q1_4\")"
   ]
  },
  {
   "cell_type": "markdown",
   "id": "4ffc021c",
   "metadata": {
    "deletable": false,
    "editable": false
   },
   "source": [
    "**Question 1.5:** Given the dataset below, use Pandas methods to reshape the data frame on the left to match the data frame on the right. \n",
    "\n",
    "<table style=\"text-align:center;\"><tr>\n",
    "<th style='text-align:center; vertical-align:middle'> Original </th>\n",
    "<th style='text-align:center; vertical-align:middle'> Reshaped </th></tr>\n",
    "<tr>\n",
    "<td> <img src=\"df_orig3.PNG\" alt=\"Drawing\" style=\"width: 520px;\"/> </td>\n",
    "<td> <img src=\"df1_reshape.PNG\" alt=\"Drawing\" style=\"width: 250px;\"/> </td>\n",
    "</tr></table>\n",
    "\n",
    "*NOTES:* \n",
    "- You will likely need more than one line of code\n",
    "- The goal in this problem is not to tidy the data. It is to practice and refresh our memories reshaping methods in Pandas."
   ]
  },
  {
   "cell_type": "code",
   "execution_count": null,
   "id": "95963460",
   "metadata": {
    "tags": []
   },
   "outputs": [],
   "source": [
    "df1 = pd.DataFrame({\n",
    "    'ID': [1,2,3],\n",
    "    'Name': ['John', 'Alice', 'Bob'],\n",
    "    'Math_Score_Feb': [85, 90, 78],\n",
    "    'Math_Score_Mar': [88, 85, 90],\n",
    "    'Science_Score_Feb': [92, 88, 85],\n",
    "    'Science_Score_Mar': [85, 90, 88]\n",
    "})\n",
    "df1"
   ]
  },
  {
   "cell_type": "code",
   "execution_count": null,
   "id": "40b00a5d",
   "metadata": {
    "tags": []
   },
   "outputs": [],
   "source": [
    "df1_reshaped = ...\n",
    "df1_reshaped"
   ]
  },
  {
   "cell_type": "code",
   "execution_count": null,
   "id": "e01a1bef",
   "metadata": {
    "deletable": false,
    "editable": false
   },
   "outputs": [],
   "source": [
    "grader.check(\"q1_5\")"
   ]
  },
  {
   "cell_type": "markdown",
   "id": "9cb08643",
   "metadata": {
    "deletable": false,
    "editable": false
   },
   "source": [
    "**Question 1.6:** Given the dataset below, use Pandas methods to reshape the data frame on the left to match the data frame on the right. \n",
    "\n",
    "<table style=\"text-align:center;\"><tr>\n",
    "<th style='text-align:center; vertical-align:middle'> Original </th>\n",
    "<th style='text-align:center; vertical-align:middle'> Reshaped </th></tr>\n",
    "<tr>\n",
    "<td> <img src=\"df_orig3.PNG\" alt=\"Drawing\" style=\"width: 520px;\"/> </td>\n",
    "<td> <img src=\"df3_reshape.PNG\" alt=\"Drawing\" style=\"width: 300px;\"/> </td>\n",
    "</tr></table>\n",
    "\n",
    "*NOTES:* \n",
    "- You will likely need more than one line of code.\n",
    "- The goal in this problem is not to tidy the data. It is to practice and become more familiar with reshaping methods in Pandas."
   ]
  },
  {
   "cell_type": "code",
   "execution_count": null,
   "id": "13a2384c",
   "metadata": {
    "tags": []
   },
   "outputs": [],
   "source": [
    "df1_reshaped2 = ...\n",
    "df1_reshaped2"
   ]
  },
  {
   "cell_type": "code",
   "execution_count": null,
   "id": "7a2b0334",
   "metadata": {
    "deletable": false,
    "editable": false
   },
   "outputs": [],
   "source": [
    "grader.check(\"q1_6\")"
   ]
  },
  {
   "cell_type": "markdown",
   "id": "c48b86f0",
   "metadata": {},
   "source": [
    "### 2. Tidying Data: Weather in Mexico"
   ]
  },
  {
   "cell_type": "markdown",
   "id": "9a894989",
   "metadata": {
    "deletable": false,
    "editable": false
   },
   "source": [
    "**Question 2.1:** Read in the data from `weather_raw.csv` (in your working directory). This dataset contains daily weather data from the Global Historical Climatology Network for one weather station (MX17004) in Mexico for several months in 2010. It has variables in individual columns (`id`, `year`, `month`), spread across columns (day, `d1`–`d31`) and across rows (`tmin`, `tmax`) (minimum and maximum temperature). Months with less than 31 days have\n",
    "structural missing values for the last day(s) of the month. The `element` column is not a variable; it stores the names of variables."
   ]
  },
  {
   "cell_type": "code",
   "execution_count": null,
   "id": "273bc72e",
   "metadata": {
    "tags": []
   },
   "outputs": [],
   "source": [
    "weather_df = ...\n",
    "weather_df.head()"
   ]
  },
  {
   "cell_type": "code",
   "execution_count": null,
   "id": "6f1fa1b4",
   "metadata": {
    "deletable": false,
    "editable": false
   },
   "outputs": [],
   "source": [
    "grader.check(\"q2_1\")"
   ]
  },
  {
   "cell_type": "markdown",
   "id": "9e7208e5",
   "metadata": {
    "deletable": false,
    "editable": false
   },
   "source": [
    "**Question 2.2:** Put your weather data frame in long form so that it contains the columns, `id`,`year`,`month`,`element`,`day_raw` (containing `d1`,`d2`,etc.), and `value`. The `value` column should contain many NaNs at this stage."
   ]
  },
  {
   "cell_type": "code",
   "execution_count": null,
   "id": "94ad500f",
   "metadata": {
    "tags": []
   },
   "outputs": [],
   "source": [
    "weather_long = ...\n",
    "weather_long.head()"
   ]
  },
  {
   "cell_type": "code",
   "execution_count": null,
   "id": "fc415408",
   "metadata": {
    "deletable": false,
    "editable": false
   },
   "outputs": [],
   "source": [
    "grader.check(\"q2_2\")"
   ]
  },
  {
   "cell_type": "markdown",
   "id": "10b6bc63",
   "metadata": {
    "deletable": false,
    "editable": false
   },
   "source": [
    "**Question 2.3:** Since `element` is not a variable (it contains the names of variables), reshape the data so that each unique value in `element` is a column name and that corresponding values are appropriately placed in the columns.\n",
    "\n",
    "*NOTE:* In this step, remove any rows with NaNs in your reshaped dataframe. "
   ]
  },
  {
   "cell_type": "code",
   "execution_count": null,
   "id": "b60949a0",
   "metadata": {
    "tags": []
   },
   "outputs": [],
   "source": [
    "weather_nearly_tidy = ...\n",
    "weather_nearly_tidy.head()"
   ]
  },
  {
   "cell_type": "code",
   "execution_count": null,
   "id": "7e5100cb",
   "metadata": {
    "deletable": false,
    "editable": false
   },
   "outputs": [],
   "source": [
    "grader.check(\"q2_3\")"
   ]
  },
  {
   "cell_type": "markdown",
   "id": "387a4b85",
   "metadata": {
    "deletable": false,
    "editable": false
   },
   "source": [
    "**Question 2.4:** The `year`, `month`, and `day_raw` columns contain information for a single variable, date. Use those three columns to create a new column called `date`. Make sure `date` is a Pandas datetime type. Then remove the `year`, `month`, and `day_raw` columns. "
   ]
  },
  {
   "cell_type": "code",
   "execution_count": null,
   "id": "7febf005",
   "metadata": {
    "tags": []
   },
   "outputs": [],
   "source": [
    "weather_with_date = ...\n",
    "weather_with_date.head()"
   ]
  },
  {
   "cell_type": "code",
   "execution_count": null,
   "id": "34a8eeee",
   "metadata": {
    "deletable": false,
    "editable": false
   },
   "outputs": [],
   "source": [
    "grader.check(\"q2_4\")"
   ]
  },
  {
   "cell_type": "markdown",
   "id": "df7f2d2c",
   "metadata": {
    "deletable": false,
    "editable": false
   },
   "source": [
    "**Question 2.5:** Sort the data by `date`. "
   ]
  },
  {
   "cell_type": "code",
   "execution_count": null,
   "id": "8984184a",
   "metadata": {
    "tags": []
   },
   "outputs": [],
   "source": [
    "weather_sorted = ...\n",
    "weather_sorted.head(10)"
   ]
  },
  {
   "cell_type": "code",
   "execution_count": null,
   "id": "8d4b7795",
   "metadata": {
    "deletable": false,
    "editable": false
   },
   "outputs": [],
   "source": [
    "grader.check(\"q2_5\")"
   ]
  },
  {
   "cell_type": "markdown",
   "id": "086412c4-1ecf-423b-b93d-08814ae755cf",
   "metadata": {
    "deletable": false,
    "editable": false
   },
   "source": [
    "<!-- BEGIN QUESTION -->\n",
    "\n",
    "**Question 2.6:** Create an interactive plot that allows users to visualize tmax vs time or tmin vs time with a dropdown menu. "
   ]
  },
  {
   "cell_type": "code",
   "execution_count": null,
   "id": "dbdd01cd-9262-4bb7-aeaa-e43984964311",
   "metadata": {
    "tags": []
   },
   "outputs": [],
   "source": [
    "\n",
    "\n"
   ]
  },
  {
   "cell_type": "markdown",
   "id": "ace07eec",
   "metadata": {
    "deletable": false,
    "editable": false
   },
   "source": [
    "<!-- END QUESTION -->\n",
    "\n",
    "## 3. Tidying Data: Ebola Outbreak"
   ]
  },
  {
   "cell_type": "markdown",
   "id": "2ec774d3",
   "metadata": {
    "deletable": false,
    "editable": false
   },
   "source": [
    "<!-- BEGIN QUESTION -->\n",
    "\n",
    "**Question 3:** Import the data from `country_timeseries.csv`. Tidy the data and then create an interactive data visualization which shows the number of cases or the number of deaths through time for Guinea, SierraLeone, and Liberia."
   ]
  },
  {
   "cell_type": "code",
   "execution_count": null,
   "id": "adc0d90c",
   "metadata": {
    "tags": []
   },
   "outputs": [],
   "source": []
  },
  {
   "cell_type": "code",
   "execution_count": null,
   "id": "d14a7b46",
   "metadata": {
    "tags": []
   },
   "outputs": [],
   "source": []
  },
  {
   "cell_type": "code",
   "execution_count": null,
   "id": "c3caf8e1",
   "metadata": {
    "tags": []
   },
   "outputs": [],
   "source": []
  },
  {
   "cell_type": "code",
   "execution_count": null,
   "id": "832f216e-66bb-41a8-81f4-56cc4ad55dae",
   "metadata": {
    "tags": []
   },
   "outputs": [],
   "source": []
  },
  {
   "cell_type": "code",
   "execution_count": null,
   "id": "2e8ed9ad-432a-40ed-9cb7-79c5a4632d60",
   "metadata": {
    "tags": []
   },
   "outputs": [],
   "source": [
    "\n",
    "\n"
   ]
  },
  {
   "cell_type": "code",
   "execution_count": null,
   "id": "069d0040-d848-445d-9379-7096b5682f74",
   "metadata": {
    "tags": []
   },
   "outputs": [],
   "source": []
  },
  {
   "cell_type": "markdown",
   "id": "ca6d671f",
   "metadata": {
    "deletable": false,
    "editable": false
   },
   "source": [
    "<!-- END QUESTION -->\n",
    "\n",
    "## You're done! \n",
    "\n",
    "Congratulations on finishing the lab! Gus is proud of you! Run the cell below and submit to Canvas. \n",
    "\n",
    "<img src=\"gus_high_five.JPG\" alt=\"drawing\" width=\"500\"/>"
   ]
  },
  {
   "cell_type": "code",
   "execution_count": null,
   "id": "68c41575",
   "metadata": {},
   "outputs": [],
   "source": []
  },
  {
   "cell_type": "markdown",
   "id": "ee61f1c0",
   "metadata": {
    "deletable": false,
    "editable": false
   },
   "source": [
    "## Submission\n",
    "\n",
    "Make sure you have run all cells in your notebook in order before running the cell below, so that all images/graphs appear in the output. The cell below will generate a zip file for you to submit. **Please save before exporting!**"
   ]
  },
  {
   "cell_type": "code",
   "execution_count": null,
   "id": "a0c71062",
   "metadata": {
    "deletable": false,
    "editable": false
   },
   "outputs": [],
   "source": [
    "# Save your notebook first, then run this cell to export your submission.\n",
    "grader.export(pdf=False, run_tests=True)"
   ]
  },
  {
   "cell_type": "markdown",
   "id": "549fa244",
   "metadata": {},
   "source": [
    " "
   ]
  }
 ],
 "metadata": {
  "kernelspec": {
   "display_name": "Python 3 (ipykernel)",
   "language": "python",
   "name": "python3"
  },
  "language_info": {
   "codemirror_mode": {
    "name": "ipython",
    "version": 3
   },
   "file_extension": ".py",
   "mimetype": "text/x-python",
   "name": "python",
   "nbconvert_exporter": "python",
   "pygments_lexer": "ipython3",
   "version": "3.11.4"
  },
  "otter": {
   "OK_FORMAT": true,
   "tests": {
    "q1_1": {
     "name": "q1_1",
     "points": null,
     "suites": [
      {
       "cases": [
        {
         "code": ">>> int((df_reshaped1 == ...).sum().sum())\n0",
         "hidden": false,
         "locked": false
        },
        {
         "code": ">>> int(df_reshaped1.shape[0])\n20",
         "hidden": false,
         "locked": false
        },
        {
         "code": ">>> int(df_reshaped1.shape[1])\n2",
         "hidden": false,
         "locked": false
        }
       ],
       "scored": true,
       "setup": "",
       "teardown": "",
       "type": "doctest"
      }
     ]
    },
    "q1_2": {
     "name": "q1_2",
     "points": null,
     "suites": [
      {
       "cases": [
        {
         "code": ">>> int((df_reshaped2 == ...).sum().sum())\n0",
         "hidden": false,
         "locked": false
        },
        {
         "code": ">>> int(df_reshaped2.shape[0])\n12",
         "hidden": false,
         "locked": false
        },
        {
         "code": ">>> int(df_reshaped2.shape[1])\n4",
         "hidden": false,
         "locked": false
        },
        {
         "code": ">>> bool('Person' in df_reshaped2.columns and 'House' in df_reshaped2.columns and ('variable' in df_reshaped2.columns) and ('value' in df_reshaped2.columns))\nTrue",
         "hidden": false,
         "locked": false
        }
       ],
       "scored": true,
       "setup": "",
       "teardown": "",
       "type": "doctest"
      }
     ]
    },
    "q1_3": {
     "name": "q1_3",
     "points": null,
     "suites": [
      {
       "cases": [
        {
         "code": ">>> int((df_reshaped3 == ...).sum().sum())\n0",
         "hidden": false,
         "locked": false
        },
        {
         "code": ">>> int(df_reshaped3.shape[0])\n8",
         "hidden": false,
         "locked": false
        },
        {
         "code": ">>> int(df_reshaped3.shape[1])\n3",
         "hidden": false,
         "locked": false
        },
        {
         "code": ">>> bool('Person' in df_reshaped3.columns and 'variable' in df_reshaped3.columns and ('value' in df_reshaped3.columns))\nTrue",
         "hidden": false,
         "locked": false
        }
       ],
       "scored": true,
       "setup": "",
       "teardown": "",
       "type": "doctest"
      }
     ]
    },
    "q1_4": {
     "name": "q1_4",
     "points": null,
     "suites": [
      {
       "cases": [
        {
         "code": ">>> int((df_reshaped4 == ...).sum().sum())\n0",
         "hidden": false,
         "locked": false
        },
        {
         "code": ">>> int(df_reshaped4.shape[0])\n12",
         "hidden": false,
         "locked": false
        },
        {
         "code": ">>> int(df_reshaped4.shape[1])\n4",
         "hidden": false,
         "locked": false
        },
        {
         "code": ">>> bool('Person' in df_reshaped4.columns and 'House' in df_reshaped4.columns and ('Info' in df_reshaped4.columns) and ('Numerical' in df_reshaped4.columns))\nTrue",
         "hidden": false,
         "locked": false
        }
       ],
       "scored": true,
       "setup": "",
       "teardown": "",
       "type": "doctest"
      }
     ]
    },
    "q1_5": {
     "name": "q1_5",
     "points": null,
     "suites": [
      {
       "cases": [
        {
         "code": ">>> int((df1_reshaped == ...).sum().sum())\n0",
         "hidden": false,
         "locked": false
        },
        {
         "code": ">>> int(df1_reshaped.shape[0])\n12",
         "hidden": false,
         "locked": false
        },
        {
         "code": ">>> int(df1_reshaped.shape[1])\n5",
         "hidden": false,
         "locked": false
        },
        {
         "code": ">>> bool(df1_reshaped.columns[0] == 'ID' and df1_reshaped.columns[1] == 'Name' and (df1_reshaped.columns[2] == 'Subject') and (df1_reshaped.columns[3] == 'Month') and (df1_reshaped.columns[4] == 'Score'))\nTrue",
         "hidden": false,
         "locked": false
        },
        {
         "code": ">>> bool(all(df1_reshaped.ID.values == np.array([1, 2, 3, 1, 2, 3, 1, 2, 3, 1, 2, 3])))\nTrue",
         "hidden": false,
         "locked": false
        }
       ],
       "scored": true,
       "setup": "",
       "teardown": "",
       "type": "doctest"
      }
     ]
    },
    "q1_6": {
     "name": "q1_6",
     "points": null,
     "suites": [
      {
       "cases": [
        {
         "code": ">>> int((df1_reshaped2 == ...).sum().sum())\n0",
         "hidden": false,
         "locked": false
        },
        {
         "code": ">>> int(df1_reshaped2.shape[0])\n6",
         "hidden": false,
         "locked": false
        },
        {
         "code": ">>> int(df1_reshaped2.shape[1])\n5",
         "hidden": false,
         "locked": false
        },
        {
         "code": ">>> bool(df1_reshaped2.columns[1] == 'Name' and df1_reshaped2.columns[2] == 'Month' and (df1_reshaped2.columns[3] == 'Math_Score'))\nTrue",
         "hidden": false,
         "locked": false
        },
        {
         "code": ">>> bool(all(df1_reshaped2.ID.values == np.array([1, 1, 2, 2, 3, 3])))\nTrue",
         "hidden": false,
         "locked": false
        }
       ],
       "scored": true,
       "setup": "",
       "teardown": "",
       "type": "doctest"
      }
     ]
    },
    "q2_1": {
     "name": "q2_1",
     "points": null,
     "suites": [
      {
       "cases": [
        {
         "code": ">>> int((weather_df == ...).sum().sum())\n0",
         "hidden": false,
         "locked": false
        },
        {
         "code": ">>> int(weather_df.shape[0])\n22",
         "hidden": false,
         "locked": false
        },
        {
         "code": ">>> int(weather_df.shape[1])\n35",
         "hidden": false,
         "locked": false
        }
       ],
       "scored": true,
       "setup": "",
       "teardown": "",
       "type": "doctest"
      }
     ]
    },
    "q2_2": {
     "name": "q2_2",
     "points": null,
     "suites": [
      {
       "cases": [
        {
         "code": ">>> int((weather_long == ...).sum().sum())\n0",
         "hidden": false,
         "locked": false
        },
        {
         "code": ">>> int(weather_long.shape[0])\n682",
         "hidden": false,
         "locked": false
        },
        {
         "code": ">>> int(weather_long.shape[1])\n6",
         "hidden": false,
         "locked": false
        }
       ],
       "scored": true,
       "setup": "",
       "teardown": "",
       "type": "doctest"
      }
     ]
    },
    "q2_3": {
     "name": "q2_3",
     "points": null,
     "suites": [
      {
       "cases": [
        {
         "code": ">>> int((weather_nearly_tidy == ...).sum().sum())\n0",
         "hidden": false,
         "locked": false
        },
        {
         "code": ">>> int(weather_nearly_tidy.shape[0])\n33",
         "hidden": false,
         "locked": false
        },
        {
         "code": ">>> int(weather_nearly_tidy.shape[1])\n6",
         "hidden": false,
         "locked": false
        }
       ],
       "scored": true,
       "setup": "",
       "teardown": "",
       "type": "doctest"
      }
     ]
    },
    "q2_4": {
     "name": "q2_4",
     "points": null,
     "suites": [
      {
       "cases": [
        {
         "code": ">>> int((weather_with_date == ...).sum().sum())\n0",
         "hidden": false,
         "locked": false
        },
        {
         "code": ">>> int(weather_with_date.shape[0])\n33",
         "hidden": false,
         "locked": false
        },
        {
         "code": ">>> int(weather_with_date.shape[1])\n4",
         "hidden": false,
         "locked": false
        },
        {
         "code": ">>> bool(type(weather_with_date.loc[0, 'date']) is type(pd.to_datetime('2023-10-20')))\nTrue",
         "hidden": false,
         "locked": false
        }
       ],
       "scored": true,
       "setup": "",
       "teardown": "",
       "type": "doctest"
      }
     ]
    },
    "q2_5": {
     "name": "q2_5",
     "points": null,
     "suites": [
      {
       "cases": [
        {
         "code": ">>> int((weather_sorted == ...).sum().sum())\n0",
         "hidden": false,
         "locked": false
        },
        {
         "code": ">>> int(weather_sorted.shape[0])\n33",
         "hidden": false,
         "locked": false
        },
        {
         "code": ">>> int(weather_sorted.shape[1])\n4",
         "hidden": false,
         "locked": false
        }
       ],
       "scored": true,
       "setup": "",
       "teardown": "",
       "type": "doctest"
      }
     ]
    }
   }
  }
 },
 "nbformat": 4,
 "nbformat_minor": 5
}
