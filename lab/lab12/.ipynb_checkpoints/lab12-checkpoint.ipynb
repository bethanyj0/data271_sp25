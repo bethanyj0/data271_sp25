{
 "cells": [
  {
   "cell_type": "code",
   "execution_count": null,
   "id": "aabac70b",
   "metadata": {
    "deletable": false,
    "editable": false
   },
   "outputs": [],
   "source": [
    "# Initialize Otter\n",
    "import otter\n",
    "grader = otter.Notebook(\"lab12.ipynb\")"
   ]
  },
  {
   "cell_type": "markdown",
   "id": "714bf844",
   "metadata": {},
   "source": [
    "# Lab 12: Missing Data\n",
    "\n",
    "Welcome to Lab 12 of Data Wrangling and Visualization!\n",
    "\n",
    "## Overview\n",
    "Missing data is a huge problem in data science. Having a fully complete dataset is quite rare. Many times, complete datasets are not the raw form of data. \n",
    "\n",
    "There are three main types of missing data:\n",
    "- Missing completely at random (MCAR)\n",
    "- Missing at random (MAR)\n",
    "- Missing not at random (MNAR)\n",
    "\n",
    "The methods we use to handle missing data depend on the type of missing data. MCAR data is usually easiest to handle. Since the probability of being missing is equal for all observations, we can safely remove missing observations without accidentally erasing important trends in other variables. MAR data occurs when the probability that one variable is missing depends on another variable in the dataset. We handle some types of MAR data by filling in the missing values, but we have to be careful about avoiding the introduction of bias. MNAR data is typically the most difficult form of missing data to work with. You will learn about techniques for MNAR data in future classes.\n",
    "\n",
    "Some common techniques for handling missing data include\n",
    "- Drop missing observations \n",
    "- Impute data\n",
    "    - Mean\n",
    "    - Median\n",
    "    - Mode\n",
    "    - Forward fill (best for time series)\n",
    "    - Backward fill (best for time series)\n",
    "    - Interpolate (best for time series)\n",
    "    \n",
    "## In today's lab, we will\n",
    "- work on understanding types of missing data\n",
    "- handle missing values using a variety of techniques"
   ]
  },
  {
   "cell_type": "code",
   "execution_count": null,
   "id": "4e548c93",
   "metadata": {
    "tags": []
   },
   "outputs": [],
   "source": [
    "import pandas as pd\n",
    "import numpy as np"
   ]
  },
  {
   "cell_type": "markdown",
   "id": "2a609b5b",
   "metadata": {
    "deletable": false,
    "editable": false
   },
   "source": [
    "**Question 1.1:** Import the `temp_weather_data.csv` file. "
   ]
  },
  {
   "cell_type": "code",
   "execution_count": null,
   "id": "77813b5c",
   "metadata": {
    "tags": []
   },
   "outputs": [],
   "source": [
    "# Import data\n",
    "weather = ...\n",
    "weather"
   ]
  },
  {
   "cell_type": "code",
   "execution_count": null,
   "id": "30b3779e",
   "metadata": {
    "deletable": false,
    "editable": false
   },
   "outputs": [],
   "source": [
    "grader.check(\"q1_1\")"
   ]
  },
  {
   "cell_type": "markdown",
   "id": "46927ebb",
   "metadata": {
    "deletable": false,
    "editable": false
   },
   "source": [
    "<!-- BEGIN QUESTION -->\n",
    "\n",
    "**Question 1.2:** Check on the weather dataframe info to look at datatypes and the number of null values in each column. "
   ]
  },
  {
   "cell_type": "code",
   "execution_count": null,
   "id": "fece842f",
   "metadata": {
    "tags": []
   },
   "outputs": [],
   "source": [
    "..."
   ]
  },
  {
   "cell_type": "markdown",
   "id": "2ce154a7",
   "metadata": {
    "deletable": true,
    "tags": []
   },
   "source": [
    "<!-- END QUESTION -->\n",
    "\n",
    "**Question 1.3:** If there are any null values in the dataset that do not show up as a NaN, convert them to `np.nan`. Make `temperature`, `humidity`, and `rainfall` type float."
   ]
  },
  {
   "cell_type": "code",
   "execution_count": null,
   "id": "fec54112",
   "metadata": {
    "tags": []
   },
   "outputs": [],
   "source": [
    "..."
   ]
  },
  {
   "cell_type": "code",
   "execution_count": null,
   "id": "6a489d19",
   "metadata": {
    "deletable": false,
    "editable": false
   },
   "outputs": [],
   "source": [
    "grader.check(\"q1_3\")"
   ]
  },
  {
   "cell_type": "markdown",
   "id": "f0475004",
   "metadata": {
    "deletable": false,
    "editable": false
   },
   "source": [
    "<!-- BEGIN QUESTION -->\n",
    "\n",
    "**Question 1.4:** Create several visualizations to find any patterns in null values. After you've looked at your visualizations, determine which column has data that is most likely MCAR."
   ]
  },
  {
   "cell_type": "markdown",
   "id": "1692acbe",
   "metadata": {},
   "source": [
    "_Type your answer here, replacing this text._"
   ]
  },
  {
   "cell_type": "code",
   "execution_count": null,
   "id": "219503f9",
   "metadata": {
    "tags": []
   },
   "outputs": [],
   "source": [
    "# Create visualizations here"
   ]
  },
  {
   "cell_type": "markdown",
   "id": "56ed5a72",
   "metadata": {
    "deletable": false,
    "editable": false
   },
   "source": [
    "<!-- END QUESTION -->\n",
    "\n",
    "**Question 1.5:** Drop any rows from the dataframe that has a null value in the `humidity` column."
   ]
  },
  {
   "cell_type": "code",
   "execution_count": null,
   "id": "3a10be44",
   "metadata": {
    "tags": []
   },
   "outputs": [],
   "source": [
    "...\n",
    "weather"
   ]
  },
  {
   "cell_type": "code",
   "execution_count": null,
   "id": "e6c532fe",
   "metadata": {
    "deletable": false,
    "editable": false
   },
   "outputs": [],
   "source": [
    "grader.check(\"q1_5\")"
   ]
  },
  {
   "cell_type": "markdown",
   "id": "ea455405",
   "metadata": {
    "deletable": false,
    "editable": false
   },
   "source": [
    "**Question 1.6:** Use linear interpolation to fill in the missing values in the `temperature` column. \n",
    "\n",
    "*NOTE:* First create a copy of the weather dataframe called `weather_filled`. Then fill in the missing values."
   ]
  },
  {
   "cell_type": "code",
   "execution_count": null,
   "id": "5a3dd83f",
   "metadata": {
    "tags": []
   },
   "outputs": [],
   "source": [
    "weather_filled = ...\n",
    "weather_filled"
   ]
  },
  {
   "cell_type": "code",
   "execution_count": null,
   "id": "5eeb8572",
   "metadata": {
    "deletable": false,
    "editable": false
   },
   "outputs": [],
   "source": [
    "grader.check(\"q1_6\")"
   ]
  },
  {
   "cell_type": "markdown",
   "id": "ec452646",
   "metadata": {
    "deletable": false,
    "editable": false
   },
   "source": [
    "**Question 1.7:** Use the backward fill method to fill in the missing values in the `rainfall` column."
   ]
  },
  {
   "cell_type": "code",
   "execution_count": null,
   "id": "8c8352f5",
   "metadata": {
    "tags": []
   },
   "outputs": [],
   "source": [
    "...\n",
    "weather_filled"
   ]
  },
  {
   "cell_type": "code",
   "execution_count": null,
   "id": "e0e63b71",
   "metadata": {
    "deletable": false,
    "editable": false
   },
   "outputs": [],
   "source": [
    "grader.check(\"q1_7\")"
   ]
  },
  {
   "cell_type": "markdown",
   "id": "de6f5280-13f1-4c08-ad86-05b636e5c227",
   "metadata": {
    "deletable": false,
    "editable": false
   },
   "source": [
    "<!-- BEGIN QUESTION -->\n",
    "\n",
    "**Question 1.8:** Do a small EDA on this dataset."
   ]
  },
  {
   "cell_type": "markdown",
   "id": "4c1c039b",
   "metadata": {},
   "source": [
    "_Type your answer here, replacing this text._"
   ]
  },
  {
   "cell_type": "code",
   "execution_count": null,
   "id": "0b15cbdf-e12d-4d9a-83f1-f9de63c28a05",
   "metadata": {
    "tags": []
   },
   "outputs": [],
   "source": [
    "# EDA here"
   ]
  },
  {
   "cell_type": "markdown",
   "id": "97646e29",
   "metadata": {
    "deletable": false,
    "editable": false
   },
   "source": [
    "<!-- END QUESTION -->\n",
    "\n",
    "## You're done! \n",
    "\n",
    "Yay! Great job for making it through your final DATA 271 lab! At the beginning of the semester, you were new data wranglers like baby Gus.\n",
    "\n",
    "<img src=\"gus_smol.JPG\" alt=\"drawing\" width=\"500\"/>\n",
    "\n",
    "Now you're like fully grown Gus with all your data wrangling and visualization knowledge. Congratulations!\n",
    "\n",
    "<img src=\"gus_another_loaf_of_bread.JPG\" alt=\"drawing\" width=\"500\"/>\n",
    "\n",
    "Run the cell below and submit to Canvas. "
   ]
  },
  {
   "cell_type": "code",
   "execution_count": null,
   "id": "40210cd2",
   "metadata": {},
   "outputs": [],
   "source": []
  },
  {
   "cell_type": "markdown",
   "id": "23456ce5",
   "metadata": {
    "deletable": false,
    "editable": false
   },
   "source": [
    "## Submission\n",
    "\n",
    "Make sure you have run all cells in your notebook in order before running the cell below, so that all images/graphs appear in the output. The cell below will generate a zip file for you to submit. **Please save before exporting!**"
   ]
  },
  {
   "cell_type": "code",
   "execution_count": null,
   "id": "1766910c",
   "metadata": {
    "deletable": false,
    "editable": false
   },
   "outputs": [],
   "source": [
    "# Save your notebook first, then run this cell to export your submission.\n",
    "grader.export(run_tests=True)"
   ]
  },
  {
   "cell_type": "markdown",
   "id": "fc6f9093",
   "metadata": {},
   "source": [
    " "
   ]
  }
 ],
 "metadata": {
  "kernelspec": {
   "display_name": "Python 3 (ipykernel)",
   "language": "python",
   "name": "python3"
  },
  "language_info": {
   "codemirror_mode": {
    "name": "ipython",
    "version": 3
   },
   "file_extension": ".py",
   "mimetype": "text/x-python",
   "name": "python",
   "nbconvert_exporter": "python",
   "pygments_lexer": "ipython3",
   "version": "3.11.4"
  },
  "otter": {
   "OK_FORMAT": true,
   "tests": {
    "q1_1": {
     "name": "q1_1",
     "points": null,
     "suites": [
      {
       "cases": [
        {
         "code": ">>> int((weather == ...).sum().sum())\n0",
         "hidden": false,
         "locked": false
        },
        {
         "code": ">>> int(weather.shape[0])\n237",
         "hidden": false,
         "locked": false
        },
        {
         "code": ">>> int(weather.shape[1])\n8",
         "hidden": false,
         "locked": false
        }
       ],
       "scored": true,
       "setup": "",
       "teardown": "",
       "type": "doctest"
      }
     ]
    },
    "q1_3": {
     "name": "q1_3",
     "points": null,
     "suites": [
      {
       "cases": [
        {
         "code": ">>> int(weather.isna().sum()['temperature'])\n54",
         "hidden": false,
         "locked": false
        },
        {
         "code": ">>> int(weather.isna().sum()['humidity'])\n10",
         "hidden": false,
         "locked": false
        },
        {
         "code": ">>> int(weather.isna().sum()['rainfall'])\n19",
         "hidden": false,
         "locked": false
        },
        {
         "code": ">>> int(weather.isna().sum()['air_quality'])\n0",
         "hidden": false,
         "locked": false
        }
       ],
       "scored": true,
       "setup": "",
       "teardown": "",
       "type": "doctest"
      }
     ]
    },
    "q1_4_manual": {
     "name": "q1_4_manual",
     "points": null,
     "suites": [
      {
       "cases": [],
       "scored": true,
       "setup": "",
       "teardown": "",
       "type": "doctest"
      }
     ]
    },
    "q1_5": {
     "name": "q1_5",
     "points": null,
     "suites": [
      {
       "cases": [
        {
         "code": ">>> int(weather.shape[0])\n227",
         "hidden": false,
         "locked": false
        },
        {
         "code": ">>> int(weather.shape[1])\n8",
         "hidden": false,
         "locked": false
        }
       ],
       "scored": true,
       "setup": "",
       "teardown": "",
       "type": "doctest"
      }
     ]
    },
    "q1_6": {
     "name": "q1_6",
     "points": null,
     "suites": [
      {
       "cases": [
        {
         "code": ">>> int(weather_filled.temperature.isna().sum())\n0",
         "hidden": false,
         "locked": false
        }
       ],
       "scored": true,
       "setup": "",
       "teardown": "",
       "type": "doctest"
      }
     ]
    },
    "q1_7": {
     "name": "q1_7",
     "points": null,
     "suites": [
      {
       "cases": [
        {
         "code": ">>> int(weather_filled.rainfall.isna().sum())\n0",
         "hidden": false,
         "locked": false
        }
       ],
       "scored": true,
       "setup": "",
       "teardown": "",
       "type": "doctest"
      }
     ]
    },
    "q1_8_manual": {
     "name": "q1_8_manual",
     "points": null,
     "suites": [
      {
       "cases": [],
       "scored": true,
       "setup": "",
       "teardown": "",
       "type": "doctest"
      }
     ]
    }
   }
  }
 },
 "nbformat": 4,
 "nbformat_minor": 5
}
