{
 "cells": [
  {
   "cell_type": "markdown",
   "id": "5791e92f",
   "metadata": {},
   "source": [
    "# Other NumPy Features and Applications"
   ]
  },
  {
   "cell_type": "code",
   "execution_count": null,
   "id": "1fb3a498",
   "metadata": {},
   "outputs": [],
   "source": [
    "# Whenever you want to use numpy import it with the following code\n",
    "import numpy as np"
   ]
  },
  {
   "cell_type": "markdown",
   "id": "5a0747e9",
   "metadata": {},
   "source": [
    "### Indexing/slicing 2d arrays"
   ]
  },
  {
   "cell_type": "code",
   "execution_count": null,
   "id": "8d7c6c92",
   "metadata": {},
   "outputs": [],
   "source": [
    "arr2d = np.array([[1,2,3],[4,5,6]])"
   ]
  },
  {
   "cell_type": "code",
   "execution_count": null,
   "id": "21fa5cf7",
   "metadata": {},
   "outputs": [],
   "source": [
    "# elements can be accessed recursively\n",
    "arr2d[0][1]"
   ]
  },
  {
   "cell_type": "code",
   "execution_count": null,
   "id": "443bd491",
   "metadata": {},
   "outputs": [],
   "source": [
    "# Or with a comma\n",
    "arr2d[0,1]"
   ]
  },
  {
   "cell_type": "code",
   "execution_count": null,
   "id": "9cea8010",
   "metadata": {},
   "outputs": [],
   "source": [
    "# access a \"row\"\n",
    "arr2d[0]"
   ]
  },
  {
   "cell_type": "code",
   "execution_count": null,
   "id": "11969475",
   "metadata": {},
   "outputs": [],
   "source": [
    "# access a single \"row\" gives a 1d array\n",
    "arr2d[0].shape"
   ]
  },
  {
   "cell_type": "code",
   "execution_count": null,
   "id": "420a03d5",
   "metadata": {},
   "outputs": [],
   "source": [
    "# access a \"row\" another way\n",
    "arr2d[0:1,]"
   ]
  },
  {
   "cell_type": "code",
   "execution_count": null,
   "id": "1b950aa3",
   "metadata": {},
   "outputs": [],
   "source": [
    "# access a \"row\" another way gives 2d array\n",
    "arr2d[0:1,].shape"
   ]
  },
  {
   "cell_type": "code",
   "execution_count": null,
   "id": "beab0e14",
   "metadata": {},
   "outputs": [],
   "source": [
    "# access a \"column\"\n"
   ]
  },
  {
   "cell_type": "code",
   "execution_count": null,
   "id": "e2fff3fa",
   "metadata": {},
   "outputs": [],
   "source": [
    "# access a \"column\" gives a 1d array\n",
    "arr2d[:,0].shape"
   ]
  },
  {
   "cell_type": "code",
   "execution_count": null,
   "id": "28fcbcb9",
   "metadata": {},
   "outputs": [],
   "source": [
    "# access a \"column\" another way\n",
    "new_arr = arr2d[:,0]\n"
   ]
  },
  {
   "cell_type": "code",
   "execution_count": null,
   "id": "d82df050",
   "metadata": {},
   "outputs": [],
   "source": [
    "# access a \"column\" another way gives 2d array\n",
    "new_arr[:,np.newaxis].shape"
   ]
  },
  {
   "cell_type": "markdown",
   "id": "ff8d0f73",
   "metadata": {},
   "source": [
    "## Fancy indexing/slicing"
   ]
  },
  {
   "cell_type": "code",
   "execution_count": null,
   "id": "4c199c42",
   "metadata": {},
   "outputs": [],
   "source": [
    "arr = np.arange(0,20,2)\n",
    "arr"
   ]
  },
  {
   "cell_type": "code",
   "execution_count": null,
   "id": "002b7d54",
   "metadata": {},
   "outputs": [],
   "source": [
    "# select elements that are divisible by 3\n"
   ]
  },
  {
   "cell_type": "code",
   "execution_count": null,
   "id": "b229598c",
   "metadata": {},
   "outputs": [],
   "source": [
    "# another way to do that \"masking\"\n",
    "mask = \n"
   ]
  },
  {
   "cell_type": "code",
   "execution_count": null,
   "id": "1214e909",
   "metadata": {},
   "outputs": [],
   "source": [
    "# specify the exact indices to select\n"
   ]
  },
  {
   "cell_type": "markdown",
   "id": "bcc005b0",
   "metadata": {},
   "source": [
    "## Views vs copies"
   ]
  },
  {
   "cell_type": "code",
   "execution_count": null,
   "id": "b9ae7e44",
   "metadata": {
    "scrolled": true
   },
   "outputs": [],
   "source": [
    "# to update elements with slicing\n",
    "arr\n",
    "arr"
   ]
  },
  {
   "cell_type": "code",
   "execution_count": null,
   "id": "15bbc48b",
   "metadata": {},
   "outputs": [],
   "source": [
    "arr_slice = \n",
    "arr_slice"
   ]
  },
  {
   "cell_type": "code",
   "execution_count": null,
   "id": "3566bc59",
   "metadata": {},
   "outputs": [],
   "source": [
    "arr_slice\n",
    "arr_slice"
   ]
  },
  {
   "cell_type": "code",
   "execution_count": null,
   "id": "0f38f083",
   "metadata": {},
   "outputs": [],
   "source": [
    "arr"
   ]
  },
  {
   "cell_type": "code",
   "execution_count": null,
   "id": "d4bdacb3",
   "metadata": {},
   "outputs": [],
   "source": [
    "# This is a view\n",
    "arr_slice = np.array([1,2,3,4,5,6])\n",
    "print(arr_slice.base)"
   ]
  },
  {
   "cell_type": "code",
   "execution_count": null,
   "id": "42623e8b",
   "metadata": {},
   "outputs": [],
   "source": [
    "# This is a copy\n",
    "arr_slice_c = np.array([1,2,3,4,5,6])\n",
    "print(arr_slice_c.base)"
   ]
  },
  {
   "cell_type": "markdown",
   "id": "31894bb1",
   "metadata": {},
   "source": [
    "## Updating arrays"
   ]
  },
  {
   "cell_type": "code",
   "execution_count": null,
   "id": "4e88f51c",
   "metadata": {},
   "outputs": [],
   "source": [
    "arr = np.arange(0,20,2)\n",
    "arr"
   ]
  },
  {
   "cell_type": "code",
   "execution_count": null,
   "id": "379a0c00",
   "metadata": {},
   "outputs": [],
   "source": [
    "# append value(s)\n"
   ]
  },
  {
   "cell_type": "code",
   "execution_count": null,
   "id": "0ed8b6b0",
   "metadata": {},
   "outputs": [],
   "source": [
    "# insert value(s)\n"
   ]
  },
  {
   "cell_type": "code",
   "execution_count": null,
   "id": "bbc9afe0",
   "metadata": {},
   "outputs": [],
   "source": [
    "# delete value(s)\n"
   ]
  },
  {
   "cell_type": "code",
   "execution_count": null,
   "id": "5b275d45",
   "metadata": {},
   "outputs": [],
   "source": [
    "# doesn't update original array\n",
    "arr"
   ]
  },
  {
   "cell_type": "code",
   "execution_count": null,
   "id": "9b01e841",
   "metadata": {},
   "outputs": [],
   "source": [
    "# sorting 1d array\n",
    "a = np.array([7,3,5,2,67,6])\n"
   ]
  },
  {
   "cell_type": "code",
   "execution_count": null,
   "id": "f58d3105",
   "metadata": {},
   "outputs": [],
   "source": [
    "# make array for sorting 2d array\n",
    "b = np.array([[7,4,8,3],[9,1,0,2]])\n",
    "b"
   ]
  },
  {
   "cell_type": "code",
   "execution_count": null,
   "id": "6a5a0697",
   "metadata": {},
   "outputs": [],
   "source": [
    "# default sort\n"
   ]
  },
  {
   "cell_type": "code",
   "execution_count": null,
   "id": "b52d16ea",
   "metadata": {},
   "outputs": [],
   "source": [
    "# sort columns\n"
   ]
  },
  {
   "cell_type": "code",
   "execution_count": null,
   "id": "ccf85740",
   "metadata": {},
   "outputs": [],
   "source": [
    "# sort rows\n"
   ]
  },
  {
   "cell_type": "code",
   "execution_count": null,
   "id": "43de3793",
   "metadata": {},
   "outputs": [],
   "source": [
    "# sort all\n"
   ]
  },
  {
   "cell_type": "markdown",
   "id": "102e8569",
   "metadata": {},
   "source": [
    "## Reshaping and stacking"
   ]
  },
  {
   "cell_type": "code",
   "execution_count": null,
   "id": "61a403f3",
   "metadata": {},
   "outputs": [],
   "source": [
    "# reshape the array to a 2d array with 2 rows and 5 columns with the .reshape method\n"
   ]
  },
  {
   "cell_type": "code",
   "execution_count": null,
   "id": "bb1d4dde",
   "metadata": {},
   "outputs": [],
   "source": [
    "# doesn't update the original array\n",
    "arr"
   ]
  },
  {
   "cell_type": "code",
   "execution_count": null,
   "id": "eef42fd0",
   "metadata": {},
   "outputs": [],
   "source": [
    "# Can also use the np.reshape function\n"
   ]
  },
  {
   "cell_type": "code",
   "execution_count": null,
   "id": "6215970a",
   "metadata": {},
   "outputs": [],
   "source": [
    "# unravel any 2+d array into a 1d array\n"
   ]
  },
  {
   "cell_type": "code",
   "execution_count": null,
   "id": "1ab2af34",
   "metadata": {},
   "outputs": [],
   "source": [
    "# stack an array on top of another\n"
   ]
  },
  {
   "cell_type": "code",
   "execution_count": null,
   "id": "6eb465a0",
   "metadata": {},
   "outputs": [],
   "source": [
    "# stack an array next to another\n"
   ]
  },
  {
   "cell_type": "code",
   "execution_count": null,
   "id": "1eebab69",
   "metadata": {},
   "outputs": [],
   "source": [
    "# stack an array next to another\n"
   ]
  },
  {
   "cell_type": "markdown",
   "id": "a1f8efbc",
   "metadata": {},
   "source": [
    "## Random number generation"
   ]
  },
  {
   "cell_type": "code",
   "execution_count": null,
   "id": "e651648a",
   "metadata": {},
   "outputs": [],
   "source": [
    "# generate 10 random numbers between 0 (inclusive) and 1 (exclusive); uniform\n"
   ]
  },
  {
   "cell_type": "code",
   "execution_count": null,
   "id": "e95c3705",
   "metadata": {},
   "outputs": [],
   "source": [
    "# generate a 2x2 array of random numbers between 0 (inclusive) and 1 (exclusive); uniform\n"
   ]
  },
  {
   "cell_type": "code",
   "execution_count": null,
   "id": "757d5e28",
   "metadata": {},
   "outputs": [],
   "source": [
    "# generate 10 random integers between 0 and 20 (exclusive)\n"
   ]
  },
  {
   "cell_type": "code",
   "execution_count": null,
   "id": "32d67dc1",
   "metadata": {},
   "outputs": [],
   "source": [
    "# generate 10 random numbers sampled from the standard normal\n"
   ]
  },
  {
   "cell_type": "code",
   "execution_count": null,
   "id": "dbb34eb1",
   "metadata": {},
   "outputs": [],
   "source": [
    "# generate 10 random numbers sampled from a normal distribution with mean 100, sd 2\n"
   ]
  },
  {
   "cell_type": "markdown",
   "id": "cdaa9d76",
   "metadata": {},
   "source": [
    "### Other Useful Numpy Tools"
   ]
  },
  {
   "cell_type": "code",
   "execution_count": null,
   "id": "ccfc93df",
   "metadata": {},
   "outputs": [],
   "source": [
    "# trigonometric functions\n",
    "trig_arr = np.array((0,np.pi/4,np.pi/2,3*np.pi/4,np.pi,5*np.pi/4,3*np.pi/2,7*np.pi/4,2*np.pi))\n",
    "np.round(np.sin(trig_arr),3)"
   ]
  },
  {
   "cell_type": "code",
   "execution_count": null,
   "id": "3e5e1f51",
   "metadata": {},
   "outputs": [],
   "source": [
    "# statistical functions\n",
    "A = np.array([1, 2, 3, 4, 5, 6, 7, 9, 10])\n",
    "mean = np.mean(A)\n",
    "print('Mean of A is ', mean)\n",
    "sd = np.std(A)\n",
    "print('Standard deviation of A is ', sd)\n",
    "median = np.median(A)\n",
    "print('Median of A is ', median)"
   ]
  },
  {
   "cell_type": "code",
   "execution_count": null,
   "id": "0cca1657",
   "metadata": {},
   "outputs": [],
   "source": [
    "# matrix multiplication\n",
    "A = np.array([[1,2], [3,4]]) # 2 x 2 matrix with 1 and 2 in the first row and 3 and 4 in the second row\n",
    "B = np.array([[5,6], [7,8]])\n",
    "C = np.dot(A,B) # matrix multiplication\n",
    "print(C)"
   ]
  },
  {
   "cell_type": "code",
   "execution_count": null,
   "id": "3291c04d",
   "metadata": {},
   "outputs": [],
   "source": [
    "# unique values-- similar to set ({})\n",
    "np.array([1, 2, 3, 2, 1, 3, 4, 4, 5, 5, 5])\n",
    "B = np.unique(A)\n",
    "print(B)"
   ]
  },
  {
   "cell_type": "code",
   "execution_count": null,
   "id": "b330436c",
   "metadata": {},
   "outputs": [],
   "source": [
    "# get max and min\n",
    "print(A.max())\n",
    "print(A.max(axis=0))\n",
    "print(A.max(axis=1))"
   ]
  },
  {
   "cell_type": "markdown",
   "id": "aed3e63e",
   "metadata": {},
   "source": [
    "## Activity"
   ]
  },
  {
   "cell_type": "markdown",
   "id": "bec4798a",
   "metadata": {},
   "source": [
    "1. Create the following array:\n",
    "\n",
    "\\begin{bmatrix}\n",
    "1 & 1 & 1 & 1 & 1 \\\\\n",
    "1 & 0 & 0 & 0 & 1 \\\\\n",
    "1 & 0 & 2 & 0 & 1 \\\\\n",
    "1 & 0 & 0 & 0 & 1 \\\\\n",
    "1 & 1 & 1 & 1 & 1 \\\\\n",
    "\\end{bmatrix}\n",
    "\n",
    "Feel free to use several lines of code."
   ]
  },
  {
   "cell_type": "code",
   "execution_count": null,
   "id": "d423607a",
   "metadata": {},
   "outputs": [],
   "source": []
  },
  {
   "cell_type": "markdown",
   "id": "ee8b331d",
   "metadata": {},
   "source": [
    "2. Consider the following array: "
   ]
  },
  {
   "cell_type": "code",
   "execution_count": null,
   "id": "2413c681",
   "metadata": {},
   "outputs": [],
   "source": [
    "array1 = np.array([[1,3,8,2,89],[76,4,7,12,5],[9,31,86,18,13],[19,10,26,28,33]])\n",
    "array1"
   ]
  },
  {
   "cell_type": "markdown",
   "id": "47ec7d8b",
   "metadata": {},
   "source": [
    "Access the elements containing 12, 5, 18, and 13. Output should be shape (2,2)."
   ]
  },
  {
   "cell_type": "markdown",
   "id": "195835da",
   "metadata": {},
   "source": [
    "3. Given the two arrays below, create the following matrix\n",
    "\\begin{bmatrix}\n",
    "1 & 2 & 3 & 4 & 3 & 2 & 1 \\\\\n",
    "1 & 2 & 3 & 4 & 3 & 2 & 1 \\\\\n",
    "\\end{bmatrix}"
   ]
  },
  {
   "cell_type": "code",
   "execution_count": null,
   "id": "a6ed16d0",
   "metadata": {},
   "outputs": [],
   "source": [
    "a = np.array((1,2))\n",
    "b = np.array((3,4))\n",
    "\n"
   ]
  },
  {
   "cell_type": "markdown",
   "id": "b75958ca",
   "metadata": {},
   "source": [
    "## APPLICATION: Linear Algebra (*not required*)\n",
    "Numpy has a number of linear algebra functions.  Common examples include finding eigenvalues, eigenvectors, the inverse of a matrix, the determinant, the rank and solving systems of linear equations.  More documentation can be found here: https://numpy.org/doc/stable/reference/routines.linalg.html.  This will not be emphasized in this class, but the Data Science major requires linear algebra, so being aware of this module might be helpful to you both in a linear algebra course and for applications of linear algebra in data science."
   ]
  },
  {
   "cell_type": "code",
   "execution_count": null,
   "id": "d2f0b0f9",
   "metadata": {},
   "outputs": [],
   "source": [
    "# linear algebra\n",
    "A = np.array([[1, 2], [4,5]])\n",
    "inv = np.linalg.inv(A) # returns inverse of matrix\n",
    "print(inv)\n",
    "evalsvecs = np.linalg.eig(A) # returns evals and then evecs\n",
    "print(evalsvecs)\n",
    "evals = np.linalg.eigvals(A) # returns just evals\n",
    "print(evals)\n",
    "det = np.linalg.det(A) # returns determinant\n",
    "print(det)\n",
    "rank = np.linalg.matrix_rank(A)\n",
    "print(rank)"
   ]
  },
  {
   "cell_type": "code",
   "execution_count": null,
   "id": "1659524f",
   "metadata": {},
   "outputs": [],
   "source": [
    "# solve Ax = b for x\n",
    "A = np.array([[1, 2], [3, 5]])\n",
    "b = np.array([1, 2])\n",
    "x = np.linalg.solve(A, b)\n",
    "x"
   ]
  },
  {
   "cell_type": "markdown",
   "id": "4382dc30",
   "metadata": {},
   "source": [
    "## APPLICATION: Image Manipulation As Array Operations (*not required*)"
   ]
  },
  {
   "cell_type": "markdown",
   "id": "63378237",
   "metadata": {},
   "source": [
    "We can open an image from our working directory and display it.  For this demo, we will use the PIL (Python Image Library) module as well as Matplotlib, which is a comprehensive library for creating visualizations in Python.  Later in this class, we will cover Matplotlib in greater detail.  For this demo, we will reuse the same few commands to display a figure, resize a figure, add a plot title, and create subplots.  Further documentation can be found here: https://matplotlib.org."
   ]
  },
  {
   "cell_type": "code",
   "execution_count": null,
   "id": "91b55a0f",
   "metadata": {},
   "outputs": [],
   "source": [
    "import numpy as np\n",
    "import matplotlib.pyplot as plt\n",
    "from PIL import Image, ImageOps\n",
    "\n",
    "img = np.array(Image.open('gus_fat.JPG'))\n",
    "plt.figure(figsize = (8,8))\n",
    "plt.imshow(img)\n",
    "plt.show() "
   ]
  },
  {
   "cell_type": "code",
   "execution_count": null,
   "id": "037c61cb",
   "metadata": {},
   "outputs": [],
   "source": [
    "# Number of dimensions\n",
    "img.ndim"
   ]
  },
  {
   "cell_type": "code",
   "execution_count": null,
   "id": "8edca7e7",
   "metadata": {},
   "outputs": [],
   "source": [
    "# Shape\n",
    "img.shape"
   ]
  },
  {
   "cell_type": "markdown",
   "id": "b189db18",
   "metadata": {},
   "source": [
    "### Negative of an Image\n",
    "Each pixel contains three values for the red, green, and blue color. Each value is in the range 0-255.  The values combined make up the resultant color of the pixel.  To negatively transform an image, we subtract the value of the pixel from 255 (maximum possible value of the pixel)."
   ]
  },
  {
   "cell_type": "code",
   "execution_count": null,
   "id": "ba5af0c7",
   "metadata": {},
   "outputs": [],
   "source": [
    "fig = plt.figure(figsize = (10,10))\n",
    "\n",
    "fig.add_subplot(1, 2, 1)\n",
    "plt.imshow(img)\n",
    "plt.title('Original')\n",
    "\n",
    "neg_img = 255 - img # transform image\n",
    "fig.add_subplot(1, 2, 2)\n",
    "plt.imshow(neg_img)\n",
    "plt.title('Negative')\n",
    "plt.show()"
   ]
  },
  {
   "cell_type": "markdown",
   "id": "0cd86b09",
   "metadata": {},
   "source": [
    "### Rotation\n"
   ]
  },
  {
   "cell_type": "code",
   "execution_count": null,
   "id": "915c8ff4",
   "metadata": {
    "scrolled": true
   },
   "outputs": [],
   "source": [
    "degrees = 90\n",
    "img_rot = np.rot90(img) # rotate array 90 degree counterclockwise\n",
    "plt.figure(figsize = (5,5))\n",
    "plt.imshow(img_rot)\n",
    "plt.show()"
   ]
  },
  {
   "cell_type": "markdown",
   "id": "9b0bca17",
   "metadata": {},
   "source": [
    "### Grayscale as a Weighted Mean\n",
    "In digital photography, a grayscale image is one in which the value of each pixel is a single sample representing only an amount of light; that is, it carries only intensity information. Grayscale images, a kind of black-and-white or gray monochrome, are composed exclusively of shades of gray. The contrast ranges from black at the weakest intensity to white at the strongest.\n",
    "The formula used gives a weight to each color channel: $Y = 0.299R + 0.587G + 0.114B$."
   ]
  },
  {
   "cell_type": "code",
   "execution_count": null,
   "id": "417419fd",
   "metadata": {},
   "outputs": [],
   "source": [
    "np.dot(img[:,:, :3] , [0.299 , 0.587, 0.114]).shape"
   ]
  },
  {
   "cell_type": "code",
   "execution_count": null,
   "id": "cee2211a",
   "metadata": {},
   "outputs": [],
   "source": [
    "gray = lambda pic : np.dot(pic[: , :3] , [0.299 , 0.587, 0.114]) \n",
    "\n",
    "def make_gray(pic):\n",
    "    return np.dot(pic[:,:, :3] , [0.299 , 0.587, 0.114]) \n",
    "\n",
    "gray = make_gray(img)  \n",
    "plt.imshow(gray,cmap = plt.get_cmap(name = 'gray'))\n",
    "plt.show()"
   ]
  },
  {
   "cell_type": "markdown",
   "id": "7561e6f9",
   "metadata": {},
   "source": [
    "### Split into Color Channels"
   ]
  },
  {
   "cell_type": "code",
   "execution_count": null,
   "id": "f810754e",
   "metadata": {
    "scrolled": true
   },
   "outputs": [],
   "source": [
    "# function to split on color channels\n",
    "def rgb_splitter(image):\n",
    "    rgb_list = ['Reds','Greens','Blues']\n",
    "    fig, ax = plt.subplots(1, 3, figsize=(15,5), sharey = True) # sharey = True means y-axis shared among plots\n",
    "    for i in range(3):\n",
    "        ax[i].imshow(image[:,:,i], cmap = rgb_list[i]) # iterate along the color dimension\n",
    "        ax[i].set_title(rgb_list[i], fontsize = 15) # give specific color title\n",
    "     \n",
    "rgb_splitter(img) # call function on image"
   ]
  },
  {
   "cell_type": "markdown",
   "id": "5d746e5f",
   "metadata": {},
   "source": [
    "### Array Slicing to Crop an Image\n"
   ]
  },
  {
   "cell_type": "code",
   "execution_count": null,
   "id": "6215bd83",
   "metadata": {},
   "outputs": [],
   "source": [
    "fig = plt.figure(figsize = (10, 10))\n",
    "\n",
    "fig.add_subplot(1,2,1)\n",
    "plt.imshow(img)\n",
    "plt.title('Original')\n",
    "\n",
    "img_crop = img[150:1250, 380:2100, :] # array slicing\n",
    "\n",
    "fig.add_subplot(1, 2, 2)\n",
    "plt.imshow(img_crop)\n",
    "plt.title('Cropped')\n",
    "\n",
    "plt.show()"
   ]
  },
  {
   "cell_type": "markdown",
   "id": "d7be8d4c",
   "metadata": {},
   "source": [
    "### Shadows and Highlights \n",
    "These effects (which you can apply using your cell phone editor) have an impact on the intensity of image pixels within specific ranges.\n",
    "We are using logical indexing and finding pixels with an intensity above a threshold and then amplifying them."
   ]
  },
  {
   "cell_type": "code",
   "execution_count": null,
   "id": "e3617234",
   "metadata": {},
   "outputs": [],
   "source": [
    "img_64 = np.where(img > 64, img, 0) * 255\n",
    "img_128 = np.where(img > 128, img, 0) * 255\n",
    "\n",
    "img_all = np.concatenate((img, img_64, img_128), axis = 1)\n",
    "plt.imshow(img_all)\n",
    "plt.show()"
   ]
  },
  {
   "cell_type": "markdown",
   "id": "c5f7bc9e",
   "metadata": {},
   "source": [
    "### Blending Images\n",
    "We can combine images, and give each a weight to determine how much of it comes through.  We will use an image from a local Humboldt beach and combine it with our Gus photo."
   ]
  },
  {
   "cell_type": "code",
   "execution_count": null,
   "id": "c1216747",
   "metadata": {},
   "outputs": [],
   "source": [
    "beach_img = np.array(Image.open('sunset.JPG'))\n",
    "plt.figure(figsize = (8, 8))\n",
    "plt.imshow(beach_img)\n",
    "plt.show()"
   ]
  },
  {
   "cell_type": "code",
   "execution_count": null,
   "id": "7ebb98b4",
   "metadata": {
    "scrolled": false
   },
   "outputs": [],
   "source": [
    "img_crop = img[:1250, 0:2000, :] # array slicing\n",
    "beach_crop = beach_img[:1250, 0:2000, :]\n",
    "\n",
    "# 40% gus and 60% beach\n",
    "blend = (img_crop * .4 + beach_crop * .6).astype(np.uint8) # convert back to unsigned integer after multiplying by decimals\n",
    "\n",
    "plt.figure(figsize = (10, 10))\n",
    "plt.imshow(blend)\n",
    "plt.show()"
   ]
  },
  {
   "cell_type": "code",
   "execution_count": null,
   "id": "dca8addf",
   "metadata": {},
   "outputs": [],
   "source": []
  }
 ],
 "metadata": {
  "kernelspec": {
   "display_name": "Python 3 (ipykernel)",
   "language": "python",
   "name": "python3"
  },
  "language_info": {
   "codemirror_mode": {
    "name": "ipython",
    "version": 3
   },
   "file_extension": ".py",
   "mimetype": "text/x-python",
   "name": "python",
   "nbconvert_exporter": "python",
   "pygments_lexer": "ipython3",
   "version": "3.11.4"
  }
 },
 "nbformat": 4,
 "nbformat_minor": 5
}
