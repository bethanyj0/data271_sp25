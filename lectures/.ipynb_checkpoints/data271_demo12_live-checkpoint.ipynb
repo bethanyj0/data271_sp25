{
 "cells": [
  {
   "cell_type": "markdown",
   "id": "5791e92f",
   "metadata": {},
   "source": [
    "# Intro to Pandas\n",
    "If you want to type along with me, use [this notebook](https://humboldt.cloudbank.2i2c.cloud/hub/user-redirect/git-pull?repo=https%3A%2F%2Fgithub.com%2Fbethanyj0%2Fdata271_sp24&branch=main&urlpath=tree%2Fdata271_sp24%2Fdemos%2Fdata271_demo12_live.ipynb) instead. \n",
    "If you don't want to type and want to follow along just by executing the cells, stay in this notebook. "
   ]
  },
  {
   "cell_type": "code",
   "execution_count": null,
   "id": "1fb3a498",
   "metadata": {},
   "outputs": [],
   "source": [
    "# Whenever you want to use numpy import it with the following code\n",
    "import numpy as np"
   ]
  },
  {
   "cell_type": "markdown",
   "id": "616862ae",
   "metadata": {},
   "source": [
    "## Activities from last time\n",
    "\n",
    "There are two arrays below:\n",
    "\n",
    "`restaurant_items` is a 2D array. The first row contains appetizers, the second row contains main dishes, and the third row contains beverages. \n",
    "\n",
    "`prices` is a 2D array of the same shape as `restaurant_items`. It contains the prices of each resturant item. \n",
    "\n",
    "Use these to answer the following questions."
   ]
  },
  {
   "cell_type": "code",
   "execution_count": null,
   "id": "5710e4db",
   "metadata": {},
   "outputs": [],
   "source": [
    "restaurant_items = np.array([['fries','salad','soup'],\n",
    "                  ['pizza','pasta','burger'],\n",
    "                  ['soda','iced tea','lemonade']])\n",
    "prices = np.array([[6.50,7.25,4.75],\n",
    "                  [9.50,10.25,10.75],\n",
    "                  [2,2.25,3]])"
   ]
  },
  {
   "cell_type": "markdown",
   "id": "d04bf147",
   "metadata": {},
   "source": [
    "1. Use NumPy methods to determin how much would someone pay for their meal if they ordered the most expensive appetizer, main dish, and beverage? "
   ]
  },
  {
   "cell_type": "code",
   "execution_count": null,
   "id": "cd3db0ed",
   "metadata": {},
   "outputs": [],
   "source": []
  },
  {
   "cell_type": "markdown",
   "id": "45f7377b",
   "metadata": {},
   "source": [
    "2. Use NumPy methods and slicing to create a 1d array containing all the resturaunt items sorted by most expensive to least expensive. "
   ]
  },
  {
   "cell_type": "code",
   "execution_count": null,
   "id": "7834e5d5",
   "metadata": {},
   "outputs": [],
   "source": []
  },
  {
   "cell_type": "markdown",
   "id": "a5975cf1",
   "metadata": {},
   "source": [
    "3. Use NumPy methods and slicing to create a 1d array containing the most expensive appetizer, the most expensive main dish, and the most expensive beverage. "
   ]
  },
  {
   "cell_type": "code",
   "execution_count": null,
   "id": "ede448ab",
   "metadata": {},
   "outputs": [],
   "source": []
  },
  {
   "cell_type": "markdown",
   "id": "e669e1b6",
   "metadata": {},
   "source": [
    "## Pandas"
   ]
  },
  {
   "cell_type": "code",
   "execution_count": null,
   "id": "31acf7bf",
   "metadata": {},
   "outputs": [],
   "source": [
    "# whenever we want to use Pandas\n",
    "import pandas as pd"
   ]
  },
  {
   "cell_type": "markdown",
   "id": "05ae91a4",
   "metadata": {},
   "source": [
    "### Pandas Series"
   ]
  },
  {
   "cell_type": "code",
   "execution_count": null,
   "id": "e2d7f41f",
   "metadata": {},
   "outputs": [],
   "source": [
    "evens_array = np.arange(1,20,2)\n",
    "evens_array"
   ]
  },
  {
   "cell_type": "code",
   "execution_count": null,
   "id": "1d45818b",
   "metadata": {},
   "outputs": [],
   "source": [
    "# create pandas series from a numpy array\n",
    "evens_series = \n",
    "evens_series"
   ]
  },
  {
   "cell_type": "code",
   "execution_count": null,
   "id": "758e7a7b",
   "metadata": {},
   "outputs": [],
   "source": [
    "# make a list\n",
    "lst = ['data','science','math']"
   ]
  },
  {
   "cell_type": "code",
   "execution_count": null,
   "id": "3c796cea",
   "metadata": {},
   "outputs": [],
   "source": [
    "# create a series from a list\n"
   ]
  },
  {
   "cell_type": "code",
   "execution_count": null,
   "id": "3beeaee7",
   "metadata": {
    "scrolled": true
   },
   "outputs": [],
   "source": [
    "# create a series from a tuple\n",
    "tup = (2,3,5)\n",
    "tup_series =\n",
    "tup_series"
   ]
  },
  {
   "cell_type": "code",
   "execution_count": null,
   "id": "1f0e386f",
   "metadata": {
    "scrolled": true
   },
   "outputs": [],
   "source": [
    "# create a series from a dict (keys become indicies)\n",
    "dct = \n",
    "dct_series =\n",
    "dct_series"
   ]
  },
  {
   "cell_type": "markdown",
   "id": "fce4f404",
   "metadata": {},
   "source": [
    "##### Accessing elements"
   ]
  },
  {
   "cell_type": "code",
   "execution_count": null,
   "id": "02934326",
   "metadata": {},
   "outputs": [],
   "source": [
    "# access elements by index\n"
   ]
  },
  {
   "cell_type": "code",
   "execution_count": null,
   "id": "6b58a107",
   "metadata": {},
   "outputs": [],
   "source": [
    "# or access by position\n"
   ]
  },
  {
   "cell_type": "code",
   "execution_count": null,
   "id": "ad88880a",
   "metadata": {},
   "outputs": [],
   "source": [
    "# or access multiple \n"
   ]
  },
  {
   "cell_type": "code",
   "execution_count": null,
   "id": "26d23fab",
   "metadata": {},
   "outputs": [],
   "source": [
    "# access multiple with position\n"
   ]
  },
  {
   "cell_type": "markdown",
   "id": "b83fb11e",
   "metadata": {},
   "source": [
    "##### Series attributes"
   ]
  },
  {
   "cell_type": "code",
   "execution_count": null,
   "id": "35538ebb",
   "metadata": {},
   "outputs": [],
   "source": [
    "# data type of the elements\n"
   ]
  },
  {
   "cell_type": "code",
   "execution_count": null,
   "id": "b99480c4",
   "metadata": {},
   "outputs": [],
   "source": [
    "# shape (always 1d)\n"
   ]
  },
  {
   "cell_type": "code",
   "execution_count": null,
   "id": "c608aa15",
   "metadata": {},
   "outputs": [],
   "source": [
    "# indices in the series\n"
   ]
  },
  {
   "cell_type": "code",
   "execution_count": null,
   "id": "ee49af68",
   "metadata": {},
   "outputs": [],
   "source": [
    "# values in the series\n"
   ]
  },
  {
   "cell_type": "code",
   "execution_count": null,
   "id": "feea5c66",
   "metadata": {},
   "outputs": [],
   "source": [
    "# general info about the series\n"
   ]
  },
  {
   "cell_type": "code",
   "execution_count": null,
   "id": "b460a609",
   "metadata": {},
   "outputs": [],
   "source": [
    "# updating indices\n",
    "\n",
    "evens_series"
   ]
  },
  {
   "cell_type": "code",
   "execution_count": null,
   "id": "f97bee37",
   "metadata": {},
   "outputs": [],
   "source": [
    "# or specify index when making the series \n"
   ]
  },
  {
   "cell_type": "markdown",
   "id": "9864577f",
   "metadata": {},
   "source": [
    "### Pandas dataframes"
   ]
  },
  {
   "cell_type": "code",
   "execution_count": null,
   "id": "d6bae2e8",
   "metadata": {},
   "outputs": [],
   "source": [
    "my_dict = {'fruit':['apple','banana','orange'],\n",
    "          'color':['red','yellow','orange'],\n",
    "          'yum score':[5,5,5],\n",
    "          'in fridge':[True, False, True],\n",
    "          'number':[3,4,0]}"
   ]
  },
  {
   "cell_type": "code",
   "execution_count": null,
   "id": "d8047b91",
   "metadata": {},
   "outputs": [],
   "source": [
    "# dataframe from a dictionary (treats each key as a column)\n",
    "fruit_df = \n",
    "fruit_df.index = \n",
    "fruit_df"
   ]
  },
  {
   "cell_type": "code",
   "execution_count": null,
   "id": "b911a930",
   "metadata": {},
   "outputs": [],
   "source": [
    "# list of tuples\n",
    "list_of_tups = \n",
    "list_of_tups"
   ]
  },
  {
   "cell_type": "code",
   "execution_count": null,
   "id": "a79a0945",
   "metadata": {},
   "outputs": [],
   "source": [
    "# dataframe from a list of tups (treats each tuple as a row)\n"
   ]
  },
  {
   "cell_type": "code",
   "execution_count": null,
   "id": "5e8f1757",
   "metadata": {},
   "outputs": [],
   "source": [
    "# list of dictionaries\n",
    "list_of_dicts = [\n",
    "    {'Median Home Price': 454000, 'Town': 'Arcata'},\n",
    "     {'Median Home Price': 383000, 'Town': 'Eureka'},\n",
    "]\n",
    "list_of_dicts"
   ]
  },
  {
   "cell_type": "code",
   "execution_count": null,
   "id": "ec48c144",
   "metadata": {
    "scrolled": true
   },
   "outputs": [],
   "source": [
    "# Dataframe from list of dictionaries (treats each dict as a row)\n"
   ]
  },
  {
   "cell_type": "markdown",
   "id": "5425f487",
   "metadata": {},
   "source": [
    "##### Accessing elements"
   ]
  },
  {
   "cell_type": "code",
   "execution_count": null,
   "id": "d2743161",
   "metadata": {},
   "outputs": [],
   "source": [
    "# accessing columns\n"
   ]
  },
  {
   "cell_type": "code",
   "execution_count": null,
   "id": "7474a785",
   "metadata": {},
   "outputs": [],
   "source": [
    "# accessing columns (another way)\n"
   ]
  },
  {
   "cell_type": "code",
   "execution_count": null,
   "id": "5c62704e",
   "metadata": {
    "scrolled": true
   },
   "outputs": [],
   "source": [
    "# accessing rows (by label)\n"
   ]
  },
  {
   "cell_type": "code",
   "execution_count": null,
   "id": "e98b80af",
   "metadata": {},
   "outputs": [],
   "source": [
    "# accessing rows (by position)\n"
   ]
  },
  {
   "cell_type": "code",
   "execution_count": null,
   "id": "d7a09b35",
   "metadata": {},
   "outputs": [],
   "source": [
    "# accessing elements (by label)\n"
   ]
  },
  {
   "cell_type": "code",
   "execution_count": null,
   "id": "f80db1fb",
   "metadata": {},
   "outputs": [],
   "source": [
    "# accessing elements (by position)\n"
   ]
  },
  {
   "cell_type": "code",
   "execution_count": null,
   "id": "59116733",
   "metadata": {},
   "outputs": [],
   "source": [
    "# slicing (by label)\n"
   ]
  },
  {
   "cell_type": "code",
   "execution_count": null,
   "id": "2baf56d7",
   "metadata": {
    "scrolled": true
   },
   "outputs": [],
   "source": [
    "# slicing (by position)\n"
   ]
  },
  {
   "cell_type": "markdown",
   "id": "5d0547bf",
   "metadata": {},
   "source": [
    "##### Dataframe attributes"
   ]
  },
  {
   "cell_type": "code",
   "execution_count": null,
   "id": "0c56b4d3",
   "metadata": {},
   "outputs": [],
   "source": [
    "# data type of elements in each column\n",
    "fruit_df."
   ]
  },
  {
   "cell_type": "code",
   "execution_count": null,
   "id": "43defaac",
   "metadata": {},
   "outputs": [],
   "source": [
    "# shape (2d)\n",
    "fruit_df."
   ]
  },
  {
   "cell_type": "code",
   "execution_count": null,
   "id": "6c1ad4bb",
   "metadata": {},
   "outputs": [],
   "source": [
    "# indices of rows\n",
    "fruit_df."
   ]
  },
  {
   "cell_type": "code",
   "execution_count": null,
   "id": "2bf363b8",
   "metadata": {},
   "outputs": [],
   "source": [
    "# all the values (output as numpy array)\n",
    "fruit_df."
   ]
  },
  {
   "cell_type": "code",
   "execution_count": null,
   "id": "f7a86a7b",
   "metadata": {},
   "outputs": [],
   "source": [
    "# column names\n",
    "fruit_df."
   ]
  },
  {
   "cell_type": "code",
   "execution_count": null,
   "id": "aa6fe3bb",
   "metadata": {},
   "outputs": [],
   "source": [
    "# general info\n",
    "fruit_df"
   ]
  },
  {
   "cell_type": "markdown",
   "id": "6bc9ad45",
   "metadata": {},
   "source": [
    "## Why Pandas?\n",
    "NumPy is nice for handling homogeneous data types, but sometimes we need more flexibility as data become more complicated. We might also desire visually pleasing way to view the data.  "
   ]
  },
  {
   "cell_type": "code",
   "execution_count": null,
   "id": "6cc8f832",
   "metadata": {},
   "outputs": [],
   "source": [
    "# Sample data (made up employees)\n",
    "employee_data = np.array([\n",
    "    [101, 'John', 'Engineering', 60000, '2018-01-15'],\n",
    "    [102, 'Jane', 'Engineering', 65000, '2017-05-12'],\n",
    "    [103, 'Doe', 'HR', 55000, '2019-02-28'],\n",
    "    [104, 'Alice', 'Marketing', 70000, '2016-11-20'],\n",
    "    [105, 'Bob', 'HR', 60000, '2019-09-10'],\n",
    "    [106, 'Eve', 'Marketing', 75000, '2017-04-05']\n",
    "])\n",
    "print(employee_data)\n",
    "\n",
    "# Same data in Pandas dataframe\n",
    "employee_df = pd.DataFrame(employee_data, columns=['ID', 'Name', 'Department', 'Salary', 'Hire Date'])\n",
    "employee_df['Salary'] = pd.to_numeric(employee_df['Salary'])\n",
    "employee_df"
   ]
  },
  {
   "cell_type": "code",
   "execution_count": null,
   "id": "2e4a7d6b",
   "metadata": {},
   "outputs": [],
   "source": [
    "# Get the average salary by department\n",
    "\n",
    "# Find unique departments\n",
    "unique_departments = \n",
    "\n",
    "# Calculate average salary for each department\n",
    "avg_salaries = []\n",
    "for ... in ...:\n",
    "    department_salaries = ...\n",
    "    avg_salaries.append(...)\n",
    "\n",
    "print(unique_departments)\n",
    "print(avg_salaries)"
   ]
  },
  {
   "cell_type": "code",
   "execution_count": null,
   "id": "6d04211a",
   "metadata": {},
   "outputs": [],
   "source": [
    "# Do the same task with Pandas\n",
    "avg_salaries = \n",
    "avg_salaries"
   ]
  },
  {
   "cell_type": "markdown",
   "id": "3b308454",
   "metadata": {},
   "source": [
    "## Activity \n",
    "\n",
    "Consider the following jokes:\n",
    "\n",
    "1. Q: Why don't scientists trust atoms?\n",
    "    1. Because they make up everything.\n",
    "2. Q: What do you call fake spaghetti?\n",
    "    1. An impasta!\n",
    "3. Q: Why did the scarecrow win an award?\n",
    "    1. Because he was outstanding in his field.\n"
   ]
  },
  {
   "cell_type": "markdown",
   "id": "e5f2a0aa",
   "metadata": {},
   "source": [
    "Create a Pandas dataframe with the jokes in one column, their answers in another column, and your rating of the joke on a scale of 0-5 stars (ints) in another column. "
   ]
  },
  {
   "cell_type": "code",
   "execution_count": null,
   "id": "ad017766",
   "metadata": {},
   "outputs": [],
   "source": []
  },
  {
   "cell_type": "markdown",
   "id": "22ec28e4",
   "metadata": {},
   "source": [
    "Compute your average rating of these jokes."
   ]
  },
  {
   "cell_type": "code",
   "execution_count": null,
   "id": "70bcb8c1",
   "metadata": {},
   "outputs": [],
   "source": []
  },
  {
   "cell_type": "markdown",
   "id": "7928ff8b",
   "metadata": {},
   "source": [
    "Access the question and answer of your highest rated joke. (output should be a Pandas df with 1(or more) rows and two columns)"
   ]
  },
  {
   "cell_type": "code",
   "execution_count": null,
   "id": "446ad547",
   "metadata": {},
   "outputs": [],
   "source": []
  }
 ],
 "metadata": {
  "kernelspec": {
   "display_name": "Python 3 (ipykernel)",
   "language": "python",
   "name": "python3"
  },
  "language_info": {
   "codemirror_mode": {
    "name": "ipython",
    "version": 3
   },
   "file_extension": ".py",
   "mimetype": "text/x-python",
   "name": "python",
   "nbconvert_exporter": "python",
   "pygments_lexer": "ipython3",
   "version": "3.11.4"
  }
 },
 "nbformat": 4,
 "nbformat_minor": 5
}
