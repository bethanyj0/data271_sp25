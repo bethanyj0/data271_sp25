{
 "cells": [
  {
   "cell_type": "markdown",
   "id": "5791e92f",
   "metadata": {},
   "source": [
    "# Importing and inspecting data"
   ]
  },
  {
   "cell_type": "code",
   "execution_count": null,
   "id": "604b93b6",
   "metadata": {},
   "outputs": [],
   "source": [
    "import numpy as np\n",
    "import pandas as pd"
   ]
  },
  {
   "cell_type": "markdown",
   "id": "6bc9ad45",
   "metadata": {},
   "source": [
    "## Why Pandas?\n",
    "NumPy is nice for handling homogeneous data types, but sometimes we need more flexibility as data become more complicated. We might also desire visually pleasing way to view the data.  "
   ]
  },
  {
   "cell_type": "code",
   "execution_count": null,
   "id": "6cc8f832",
   "metadata": {},
   "outputs": [],
   "source": [
    "# Sample data (made up employees)\n",
    "employee_data = np.array([\n",
    "    [101, 'John', 'Engineering', 60000, '2018-01-15'],\n",
    "    [102, 'Jane', 'Engineering', 65000, '2017-05-12'],\n",
    "    [103, 'Doe', 'HR', 55000, '2019-02-28'],\n",
    "    [104, 'Alice', 'Marketing', 70000, '2016-11-20'],\n",
    "    [105, 'Bob', 'HR', 60000, '2019-09-10'],\n",
    "    [106, 'Eve', 'Marketing', 75000, '2017-04-05']\n",
    "])\n",
    "print(employee_data)\n",
    "\n",
    "# Same data in Pandas dataframe\n",
    "employee_df = pd.DataFrame(employee_data, columns=['ID', 'Name', 'Department', 'Salary', 'Hire Date'])\n",
    "employee_df['Salary'] = pd.to_numeric(employee_df['Salary'])\n",
    "employee_df"
   ]
  },
  {
   "cell_type": "code",
   "execution_count": null,
   "id": "63c67eff",
   "metadata": {},
   "outputs": [],
   "source": [
    "# Get the average salary by department\n",
    "\n",
    "# Find unique departments\n",
    "unique_departments = np.unique(employee_data[:, 2])\n",
    "\n",
    "# Calculate average salary for each department\n",
    "avg_salaries = []\n",
    "for department in unique_departments:\n",
    "    department_salaries = employee_data[employee_data[:, 2] == department, 3].astype(float)\n",
    "    avg_salaries.append(np.mean(department_salaries))\n",
    "\n",
    "print(unique_departments)\n",
    "print(avg_salaries)"
   ]
  },
  {
   "cell_type": "code",
   "execution_count": null,
   "id": "0cfefe25",
   "metadata": {},
   "outputs": [],
   "source": [
    "# Do the same task with Pandas\n",
    "avg_salaries = employee_df.groupby('Department')['Salary'].mean()\n",
    "avg_salaries"
   ]
  },
  {
   "cell_type": "markdown",
   "id": "d102f887",
   "metadata": {},
   "source": [
    "## Import data"
   ]
  },
  {
   "cell_type": "code",
   "execution_count": null,
   "id": "de503b4d",
   "metadata": {},
   "outputs": [],
   "source": [
    "# read a csv in your working directory\n",
    "df = \n",
    "df.head()"
   ]
  },
  {
   "cell_type": "code",
   "execution_count": null,
   "id": "11a7c991",
   "metadata": {},
   "outputs": [],
   "source": [
    "# read a csv online\n"
   ]
  },
  {
   "cell_type": "code",
   "execution_count": null,
   "id": "e4a64965",
   "metadata": {
    "scrolled": false
   },
   "outputs": [],
   "source": [
    "# read in an excel file\n"
   ]
  },
  {
   "cell_type": "code",
   "execution_count": null,
   "id": "bb6b0a70",
   "metadata": {},
   "outputs": [],
   "source": [
    "# Read in an excel file online\n"
   ]
  },
  {
   "cell_type": "markdown",
   "id": "2298267e",
   "metadata": {},
   "source": [
    "### Inspecting data"
   ]
  },
  {
   "cell_type": "code",
   "execution_count": null,
   "id": "cc0a4b7c",
   "metadata": {},
   "outputs": [],
   "source": [
    "# is the data frame empty?  returns true or false\n",
    "df."
   ]
  },
  {
   "cell_type": "code",
   "execution_count": null,
   "id": "acc49a3c",
   "metadata": {},
   "outputs": [],
   "source": [
    "# what are the dimensions?  (returns as number of rows, number of columns)\n",
    "df."
   ]
  },
  {
   "cell_type": "code",
   "execution_count": null,
   "id": "5d8d4602",
   "metadata": {},
   "outputs": [],
   "source": [
    "# what are the columns?  We know there are 26, but what are they?\n",
    "df."
   ]
  },
  {
   "cell_type": "code",
   "execution_count": null,
   "id": "754f8a9c",
   "metadata": {},
   "outputs": [],
   "source": [
    "# inspect the top few rows\n",
    "df."
   ]
  },
  {
   "cell_type": "code",
   "execution_count": null,
   "id": "a704ce0f",
   "metadata": {},
   "outputs": [],
   "source": [
    "# inspecting the last three rows\n",
    "df."
   ]
  },
  {
   "cell_type": "code",
   "execution_count": null,
   "id": "a7b516e7",
   "metadata": {},
   "outputs": [],
   "source": [
    "# what data types are included?\n",
    "df."
   ]
  },
  {
   "cell_type": "code",
   "execution_count": null,
   "id": "ead2d9b2",
   "metadata": {},
   "outputs": [],
   "source": [
    "# info() gives more information, including the number of non-nulls\n",
    "df."
   ]
  },
  {
   "cell_type": "markdown",
   "id": "286d3c69",
   "metadata": {},
   "source": [
    "## Methods"
   ]
  },
  {
   "cell_type": "code",
   "execution_count": null,
   "id": "b7014f6e",
   "metadata": {},
   "outputs": [],
   "source": [
    "# obtain summary statistics for numeric columns\n",
    "df."
   ]
  },
  {
   "cell_type": "code",
   "execution_count": null,
   "id": "e787d645",
   "metadata": {},
   "outputs": [],
   "source": [
    "# if we would like to just describe one column, such as mag (magnitude)\n",
    "df."
   ]
  },
  {
   "cell_type": "code",
   "execution_count": null,
   "id": "2d880acc",
   "metadata": {},
   "outputs": [],
   "source": [
    "# we can look for unique values in a column\n",
    "df."
   ]
  },
  {
   "cell_type": "code",
   "execution_count": null,
   "id": "7ad4ebea",
   "metadata": {},
   "outputs": [],
   "source": [
    "# Get the number in each category\n",
    "df."
   ]
  },
  {
   "cell_type": "code",
   "execution_count": null,
   "id": "4b0d4f8e",
   "metadata": {},
   "outputs": [],
   "source": [
    "# mean of a column\n",
    "df."
   ]
  },
  {
   "cell_type": "code",
   "execution_count": null,
   "id": "e037973d",
   "metadata": {},
   "outputs": [],
   "source": [
    "# median\n",
    "df."
   ]
  },
  {
   "cell_type": "code",
   "execution_count": null,
   "id": "09f6a04d",
   "metadata": {},
   "outputs": [],
   "source": [
    "# quantile\n",
    "df."
   ]
  },
  {
   "cell_type": "code",
   "execution_count": null,
   "id": "69861196",
   "metadata": {},
   "outputs": [],
   "source": [
    "# sum of a column\n",
    "df."
   ]
  },
  {
   "cell_type": "code",
   "execution_count": null,
   "id": "7d436567",
   "metadata": {},
   "outputs": [],
   "source": [
    "# min of a column\n",
    "df."
   ]
  },
  {
   "cell_type": "code",
   "execution_count": null,
   "id": "2d7ef28a",
   "metadata": {},
   "outputs": [],
   "source": [
    "# max of a column\n",
    "df."
   ]
  },
  {
   "cell_type": "code",
   "execution_count": null,
   "id": "94bdec9a",
   "metadata": {},
   "outputs": [],
   "source": [
    "# method chaining (max of each type)\n",
    "df."
   ]
  },
  {
   "cell_type": "markdown",
   "id": "9de24e88",
   "metadata": {},
   "source": [
    "### Subsetting Data"
   ]
  },
  {
   "cell_type": "code",
   "execution_count": null,
   "id": "7bcfe41b",
   "metadata": {},
   "outputs": [],
   "source": [
    "# attribute notation\n",
    "df."
   ]
  },
  {
   "cell_type": "code",
   "execution_count": null,
   "id": "341ed0c1",
   "metadata": {},
   "outputs": [],
   "source": [
    "# dictionary notation\n",
    "df"
   ]
  },
  {
   "cell_type": "code",
   "execution_count": null,
   "id": "d1cc7eb4",
   "metadata": {
    "scrolled": true
   },
   "outputs": [],
   "source": [
    "# selecting multiple columns\n",
    "df"
   ]
  },
  {
   "cell_type": "code",
   "execution_count": null,
   "id": "b278cf90",
   "metadata": {},
   "outputs": [],
   "source": [
    "# chaining recursively to select specific columns and rows\n",
    "df"
   ]
  },
  {
   "cell_type": "code",
   "execution_count": null,
   "id": "dd4e343c",
   "metadata": {
    "scrolled": true
   },
   "outputs": [],
   "source": [
    "# select all columns with object datatypes\n",
    "df"
   ]
  },
  {
   "cell_type": "code",
   "execution_count": null,
   "id": "91b3617f",
   "metadata": {},
   "outputs": [],
   "source": [
    "# select all columns with numeric datatypes\n",
    "df"
   ]
  },
  {
   "cell_type": "markdown",
   "id": "0bab0487",
   "metadata": {},
   "source": [
    "### Indexing\n"
   ]
  },
  {
   "cell_type": "code",
   "execution_count": null,
   "id": "bc0463f6",
   "metadata": {
    "scrolled": true
   },
   "outputs": [],
   "source": [
    "# loc lets us make these selections without chaining-- note: row index is inclusive with loc\n",
    "df.loc[0:3, ['mag', 'place']] # select colums mag and place and rows 0 through 3"
   ]
  },
  {
   "cell_type": "code",
   "execution_count": null,
   "id": "0b8be3a1",
   "metadata": {},
   "outputs": [],
   "source": [
    "# note: row index is exclusive with iloc\n",
    "df.iloc[0:4, [8,13]]"
   ]
  },
  {
   "cell_type": "markdown",
   "id": "44ab13f4",
   "metadata": {},
   "source": [
    "### Filtering with conditions"
   ]
  },
  {
   "cell_type": "code",
   "execution_count": null,
   "id": "5d814e2a",
   "metadata": {},
   "outputs": [],
   "source": [
    "# keep only the rows where this boolean statement is true (mag greater than or equal to 7)\n"
   ]
  },
  {
   "cell_type": "code",
   "execution_count": null,
   "id": "0fe2f326",
   "metadata": {},
   "outputs": [],
   "source": [
    "# important columns for earthquakes with magnitude greater than or equal to 7 OR caused a tsunami\n"
   ]
  },
  {
   "cell_type": "code",
   "execution_count": null,
   "id": "b8118688",
   "metadata": {
    "scrolled": false
   },
   "outputs": [],
   "source": [
    "# Just get the earthquakes in California\n"
   ]
  },
  {
   "cell_type": "code",
   "execution_count": null,
   "id": "36a3e64f",
   "metadata": {
    "scrolled": false
   },
   "outputs": [],
   "source": [
    "# We might have missed some-- the USGS has tagged some locations as California and some as CA. USE REGEX!\n",
    "cali_df \n",
    "cali_df"
   ]
  },
  {
   "cell_type": "code",
   "execution_count": null,
   "id": "41544a91",
   "metadata": {},
   "outputs": [],
   "source": [
    "# if we just want the columns related to magnitude\n"
   ]
  },
  {
   "cell_type": "markdown",
   "id": "aba00778",
   "metadata": {},
   "source": [
    "### Finding the minimum and maximum\n",
    "We might be interested in knowing the lowest and highest magnitude earthquakes which occured in California during the time frame the data frame represents, and also knowing where and when they occured.  Pandas lets us find the index of these extrema and then we can select the entire row."
   ]
  },
  {
   "cell_type": "code",
   "execution_count": null,
   "id": "9885bcdb",
   "metadata": {},
   "outputs": [],
   "source": [
    "# get the index of lowest and highest magnitude earthquakes in California\n",
    "cali_df.mag..., cali_df.mag..."
   ]
  },
  {
   "cell_type": "code",
   "execution_count": null,
   "id": "34e99b62",
   "metadata": {},
   "outputs": [],
   "source": [
    "# ERROR! this gives us the POSITION index\n",
    "cali_df.loc[\n",
    "    [cali_df.mag.argmin(), cali_df.mag.argmax()],\n",
    "    ['mag', 'title', 'tsunami', 'place']\n",
    "]"
   ]
  },
  {
   "cell_type": "code",
   "execution_count": null,
   "id": "2ee93b23",
   "metadata": {},
   "outputs": [],
   "source": [
    "# get the index LABEL of the lowest and highest magnitude earthquakes in Cali\n",
    "cali_df.mag..., cali_df.mag..."
   ]
  },
  {
   "cell_type": "code",
   "execution_count": null,
   "id": "f4291c38",
   "metadata": {},
   "outputs": [],
   "source": [
    "# This allows us to indwex with loc\n",
    "cali_df.loc[\n",
    "    [cali_df.mag.idxmin(), cali_df.mag.idxmax()],\n",
    "    ['mag', 'title', 'tsunami', 'place']\n",
    "]"
   ]
  },
  {
   "cell_type": "markdown",
   "id": "038cd06a",
   "metadata": {},
   "source": [
    "The largest quake in California was in Trinidad! "
   ]
  },
  {
   "cell_type": "markdown",
   "id": "adb30169",
   "metadata": {},
   "source": [
    "## Plotting with Pandas"
   ]
  },
  {
   "cell_type": "code",
   "execution_count": null,
   "id": "304c3b38",
   "metadata": {},
   "outputs": [],
   "source": [
    "# histograms\n"
   ]
  },
  {
   "cell_type": "code",
   "execution_count": null,
   "id": "4810269b",
   "metadata": {},
   "outputs": [],
   "source": [
    "# line plots\n"
   ]
  },
  {
   "cell_type": "code",
   "execution_count": null,
   "id": "cf8ff30f",
   "metadata": {},
   "outputs": [],
   "source": [
    "# scatter plots\n"
   ]
  },
  {
   "cell_type": "code",
   "execution_count": null,
   "id": "1bd31b6e",
   "metadata": {},
   "outputs": [],
   "source": [
    "# bar charts\n"
   ]
  },
  {
   "cell_type": "markdown",
   "id": "f59dbbd1",
   "metadata": {},
   "source": [
    "## Activity \n",
    "\n",
    "Consider the following jokes:\n",
    "\n",
    "1. Q: Why don't scientists trust atoms?\n",
    "    1. Because they make up everything.\n",
    "2. Q: What do you call fake spaghetti?\n",
    "    1. An impasta!\n",
    "3. Q: Why did the scarecrow win an award?\n",
    "    1. Because he was outstanding in his field.\n"
   ]
  },
  {
   "cell_type": "markdown",
   "id": "7788e257",
   "metadata": {},
   "source": [
    "Create a Pandas dataframe with the jokes in one column, their answers in another column, and your rating of the joke on a scale of 0-5 stars (ints) in another column. "
   ]
  },
  {
   "cell_type": "code",
   "execution_count": null,
   "id": "e37db99e",
   "metadata": {},
   "outputs": [],
   "source": []
  },
  {
   "cell_type": "markdown",
   "id": "7f657ab2",
   "metadata": {},
   "source": [
    "Compute your average rating of these jokes."
   ]
  },
  {
   "cell_type": "code",
   "execution_count": null,
   "id": "690d07ee",
   "metadata": {},
   "outputs": [],
   "source": []
  },
  {
   "cell_type": "markdown",
   "id": "b1b7c494",
   "metadata": {},
   "source": [
    "Access the question and answer of your highest rated joke. (output should be a Pandas df with 1(or more) rows and two columns)"
   ]
  },
  {
   "cell_type": "code",
   "execution_count": null,
   "id": "92188ea2",
   "metadata": {},
   "outputs": [],
   "source": []
  }
 ],
 "metadata": {
  "kernelspec": {
   "display_name": "Python 3 (ipykernel)",
   "language": "python",
   "name": "python3"
  },
  "language_info": {
   "codemirror_mode": {
    "name": "ipython",
    "version": 3
   },
   "file_extension": ".py",
   "mimetype": "text/x-python",
   "name": "python",
   "nbconvert_exporter": "python",
   "pygments_lexer": "ipython3",
   "version": "3.11.4"
  }
 },
 "nbformat": 4,
 "nbformat_minor": 5
}
