{
 "cells": [
  {
   "cell_type": "markdown",
   "id": "bd035d4a",
   "metadata": {},
   "source": [
    "# Plotting with Matplotlib "
   ]
  },
  {
   "cell_type": "code",
   "execution_count": null,
   "id": "26e99e3b",
   "metadata": {},
   "outputs": [],
   "source": [
    "import numpy as np\n",
    "import pandas as pd"
   ]
  },
  {
   "cell_type": "markdown",
   "id": "22e4f050",
   "metadata": {},
   "source": [
    "## Matplotlib basics"
   ]
  },
  {
   "cell_type": "code",
   "execution_count": null,
   "id": "a2edeb0a",
   "metadata": {},
   "outputs": [],
   "source": [
    "# Whenever we want to use matplotlib\n"
   ]
  },
  {
   "cell_type": "code",
   "execution_count": null,
   "id": "c809597b",
   "metadata": {},
   "outputs": [],
   "source": [
    "# If you have data living in lists\n",
    "x = [1,2,3,4,5]\n",
    "y = [1,4,7,3,5]\n",
    "\n"
   ]
  },
  {
   "cell_type": "code",
   "execution_count": null,
   "id": "b9534e0c",
   "metadata": {},
   "outputs": [],
   "source": [
    "# Can also plot more than one line at a time\n",
    "x = [1,2,3,4,5]\n",
    "y = [1,4,7,3,5]\n",
    "z = [1,5,7,2,7]\n",
    "n = [7,3,2,5,2]\n",
    "\n"
   ]
  },
  {
   "cell_type": "code",
   "execution_count": null,
   "id": "a9eb0d1e",
   "metadata": {},
   "outputs": [],
   "source": [
    "# if we have two different x-axes, the categorical get's plotted\n",
    "x2 = ['a','b','c','d','e']\n",
    "y2 = [1,6,2,5,1]\n",
    "\n"
   ]
  },
  {
   "cell_type": "markdown",
   "id": "1afb1923",
   "metadata": {},
   "source": [
    "## Changing plot type"
   ]
  },
  {
   "cell_type": "code",
   "execution_count": null,
   "id": "c215fbf8",
   "metadata": {
    "scrolled": false
   },
   "outputs": [],
   "source": [
    "# 'r' indicates red and 'o' indixates circle shape\n"
   ]
  },
  {
   "cell_type": "code",
   "execution_count": null,
   "id": "59a8d5a6",
   "metadata": {},
   "outputs": [],
   "source": [
    "# Can have multiple types on same plot\n"
   ]
  },
  {
   "cell_type": "markdown",
   "id": "b8a4865d",
   "metadata": {},
   "source": [
    "## Why we might need plotting flexibility"
   ]
  },
  {
   "cell_type": "code",
   "execution_count": null,
   "id": "f427ee3f",
   "metadata": {},
   "outputs": [],
   "source": [
    "y2 = [1,6,250,5,1]\n",
    "\n"
   ]
  },
  {
   "cell_type": "markdown",
   "id": "ba2fe103",
   "metadata": {},
   "source": [
    "## Object-Oriented Plotting"
   ]
  },
  {
   "cell_type": "code",
   "execution_count": null,
   "id": "53f56edf",
   "metadata": {},
   "outputs": [],
   "source": [
    "# another way to generate a figure\n",
    "\n",
    "# axes [left start, bottom start, width, height]\n",
    "\n",
    "\n"
   ]
  },
  {
   "cell_type": "code",
   "execution_count": null,
   "id": "f34ef9fe",
   "metadata": {
    "scrolled": false
   },
   "outputs": [],
   "source": [
    "# display the figure again\n"
   ]
  },
  {
   "cell_type": "markdown",
   "id": "da15bcc4",
   "metadata": {},
   "source": [
    "## Customizing your Matplotlib Figure"
   ]
  },
  {
   "cell_type": "code",
   "execution_count": null,
   "id": "07f7d5ab",
   "metadata": {},
   "outputs": [],
   "source": [
    "## adding subplots\n",
    "# add_subplot(num rows, num cols, index of subplot we're adding)\n",
    "\n"
   ]
  },
  {
   "cell_type": "code",
   "execution_count": null,
   "id": "90cf1cc7",
   "metadata": {},
   "outputs": [],
   "source": [
    "# adding multiple subplots\n"
   ]
  },
  {
   "cell_type": "code",
   "execution_count": null,
   "id": "5be8aa8d",
   "metadata": {},
   "outputs": [],
   "source": [
    "# if you need to add many subplots stacked on top of eachother\n",
    "\n"
   ]
  },
  {
   "cell_type": "code",
   "execution_count": null,
   "id": "ab811c2d",
   "metadata": {},
   "outputs": [],
   "source": [
    "# or you can rearrange them\n"
   ]
  },
  {
   "cell_type": "code",
   "execution_count": null,
   "id": "2440c933",
   "metadata": {},
   "outputs": [],
   "source": [
    "# changing the figure size\n"
   ]
  },
  {
   "cell_type": "code",
   "execution_count": null,
   "id": "4c845d86",
   "metadata": {},
   "outputs": [],
   "source": [
    "# Adding information to your plot\n"
   ]
  },
  {
   "cell_type": "code",
   "execution_count": null,
   "id": "e1f48920",
   "metadata": {},
   "outputs": [],
   "source": [
    "# adding info with object oriented version\n"
   ]
  },
  {
   "cell_type": "markdown",
   "id": "596c7010",
   "metadata": {},
   "source": [
    "## Data in a Pandas DataFrame"
   ]
  },
  {
   "cell_type": "code",
   "execution_count": null,
   "id": "6d2d6880",
   "metadata": {},
   "outputs": [],
   "source": [
    "# Make peppers dataframe\n",
    "df = pd.DataFrame({\n",
    "    'Scoville_scale':[0.0,5000.0,10000.0,60000.0,500000.0,2000000.0],\n",
    "    'Chili_pepper_scale':[0,1,2,3,4,5],\n",
    "    'Name': ['Bell pepper','Espelette pepper','Serrano pepper',\"Bird's eye chili\",'Chocolate habanero','Carolina Reaper'],\n",
    "    'Feeling':['Not even spicy','Uncomfortable','I regret this','4th stage of grief','Practically ate pepper spray','Actually ate pepper spray']\n",
    "    \n",
    "})\n",
    "df"
   ]
  },
  {
   "cell_type": "code",
   "execution_count": null,
   "id": "b45b34e0",
   "metadata": {},
   "outputs": [],
   "source": [
    "# plotting with matplotlib\n"
   ]
  },
  {
   "cell_type": "code",
   "execution_count": null,
   "id": "0e8edf71",
   "metadata": {},
   "outputs": [],
   "source": [
    "# another way plt.plot(x_label,y_label,[format],data = Pandas DataFrame)\n"
   ]
  },
  {
   "cell_type": "code",
   "execution_count": null,
   "id": "8eb369b7",
   "metadata": {},
   "outputs": [],
   "source": []
  }
 ],
 "metadata": {
  "kernelspec": {
   "display_name": "Python 3 (ipykernel)",
   "language": "python",
   "name": "python3"
  },
  "language_info": {
   "codemirror_mode": {
    "name": "ipython",
    "version": 3
   },
   "file_extension": ".py",
   "mimetype": "text/x-python",
   "name": "python",
   "nbconvert_exporter": "python",
   "pygments_lexer": "ipython3",
   "version": "3.11.4"
  }
 },
 "nbformat": 4,
 "nbformat_minor": 5
}
