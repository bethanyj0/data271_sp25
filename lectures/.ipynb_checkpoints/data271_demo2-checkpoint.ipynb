{
 "cells": [
  {
   "cell_type": "markdown",
   "id": "56ee5168",
   "metadata": {},
   "source": [
    "# Data Structures\n",
    "\n",
    "If you want to type along with me, click to use [this notebook](https://humboldt.cloudbank.2i2c.cloud/hub/user-redirect/git-pull?repo=https%3A%2F%2Fgithub.com%2Fbethanyj0%2Fdata271_sp24&branch=main&urlpath=tree%2Fdata271_sp24%2Fdemos%2Fdata271_demo2_live.ipynb) instead. \n",
    "If you don't want to type and want to follow along just by executing the cells, stay in this notebook. "
   ]
  },
  {
   "cell_type": "markdown",
   "id": "9dbb4126",
   "metadata": {},
   "source": [
    "## Lists"
   ]
  },
  {
   "cell_type": "code",
   "execution_count": null,
   "id": "ebbc7080",
   "metadata": {},
   "outputs": [],
   "source": [
    "empty_list = []\n",
    "type(empty_list)"
   ]
  },
  {
   "cell_type": "markdown",
   "id": "86444830",
   "metadata": {},
   "source": [
    "Lists can store different data types and are ordered (so indexing is possible)."
   ]
  },
  {
   "cell_type": "code",
   "execution_count": null,
   "id": "149fc81f",
   "metadata": {},
   "outputs": [],
   "source": [
    "my_list = [1,'banana', 3]\n",
    "my_list[0]"
   ]
  },
  {
   "cell_type": "markdown",
   "id": "1de598be",
   "metadata": {},
   "source": [
    "Lists are mutable"
   ]
  },
  {
   "cell_type": "code",
   "execution_count": null,
   "id": "bfe958d1",
   "metadata": {},
   "outputs": [],
   "source": [
    "# update an element\n",
    "my_list[1] = 'orange'\n",
    "my_list"
   ]
  },
  {
   "cell_type": "markdown",
   "id": "8f472293",
   "metadata": {},
   "source": [
    "**Some useful list methods:** `append` adds an element to the list, `extend()` adds a few elements list, and `remove()` removes the first occurence"
   ]
  },
  {
   "cell_type": "code",
   "execution_count": null,
   "id": "c7ae195a",
   "metadata": {},
   "outputs": [],
   "source": [
    "my_list.append('dragon fruit')\n",
    "print(my_list)\n",
    "my_list.extend([3,4])\n",
    "print(my_list)\n",
    "my_list.remove(3)\n",
    "print(my_list)"
   ]
  },
  {
   "cell_type": "markdown",
   "id": "0dec3780",
   "metadata": {},
   "source": [
    "**Some useful functions**:"
   ]
  },
  {
   "cell_type": "code",
   "execution_count": null,
   "id": "b49983f4",
   "metadata": {},
   "outputs": [],
   "source": [
    "len(my_list)"
   ]
  },
  {
   "cell_type": "code",
   "execution_count": null,
   "id": "9450cab4",
   "metadata": {},
   "outputs": [],
   "source": [
    "max([1,5,2,3,4])"
   ]
  },
  {
   "cell_type": "code",
   "execution_count": null,
   "id": "3ee38d16",
   "metadata": {},
   "outputs": [],
   "source": [
    "sorted([1,5,2,3,4])"
   ]
  },
  {
   "cell_type": "markdown",
   "id": "0f4cbe37",
   "metadata": {},
   "source": [
    "**Indexing and slicing**"
   ]
  },
  {
   "cell_type": "code",
   "execution_count": null,
   "id": "3a2d7034",
   "metadata": {},
   "outputs": [],
   "source": [
    "# Indexing: accessing one element with it's position\n",
    "my_list[0]"
   ]
  },
  {
   "cell_type": "code",
   "execution_count": null,
   "id": "33e1b2a5",
   "metadata": {},
   "outputs": [],
   "source": [
    "# Indexing: accessing one element with it's position\n",
    "my_list[-1]"
   ]
  },
  {
   "cell_type": "code",
   "execution_count": null,
   "id": "603505f3",
   "metadata": {},
   "outputs": [],
   "source": [
    "# Indexing: accessing one element with it's position\n",
    "my_list[2]"
   ]
  },
  {
   "cell_type": "code",
   "execution_count": null,
   "id": "68cdf2c1",
   "metadata": {},
   "outputs": [],
   "source": [
    "# Slicing: accessing more than one element with their positions\n",
    "my_list[0:2]"
   ]
  },
  {
   "cell_type": "code",
   "execution_count": null,
   "id": "18374fd9",
   "metadata": {},
   "outputs": [],
   "source": [
    "# Slicing\n",
    "my_list[:2]"
   ]
  },
  {
   "cell_type": "code",
   "execution_count": null,
   "id": "adbbb49f",
   "metadata": {},
   "outputs": [],
   "source": [
    "# Slicing\n",
    "my_list[-3:]"
   ]
  },
  {
   "cell_type": "code",
   "execution_count": null,
   "id": "5e1596fa",
   "metadata": {},
   "outputs": [],
   "source": [
    "# Every other\n",
    "my_list[0:5:2]"
   ]
  },
  {
   "cell_type": "code",
   "execution_count": null,
   "id": "151c08d0",
   "metadata": {},
   "outputs": [],
   "source": [
    "# Another way for every other\n",
    "my_list[::2]"
   ]
  },
  {
   "cell_type": "code",
   "execution_count": null,
   "id": "1dca0208",
   "metadata": {},
   "outputs": [],
   "source": [
    "# Reverse order\n",
    "my_list[::-1]"
   ]
  },
  {
   "cell_type": "markdown",
   "id": "b3c01f32",
   "metadata": {},
   "source": [
    "## Dictionaries"
   ]
  },
  {
   "cell_type": "code",
   "execution_count": null,
   "id": "273f7b8c",
   "metadata": {},
   "outputs": [],
   "source": [
    "my_dict = {'Edward':1, 'Mike':2, 'Sarah':3, 'Joe':4}\n",
    "type(my_dict)"
   ]
  },
  {
   "cell_type": "markdown",
   "id": "581a5497",
   "metadata": {},
   "source": [
    "Dictionaries are unordered"
   ]
  },
  {
   "cell_type": "code",
   "execution_count": null,
   "id": "b326cf38",
   "metadata": {},
   "outputs": [],
   "source": [
    "# Can't access elements based on their position\n",
    "my_dict[1]"
   ]
  },
  {
   "cell_type": "code",
   "execution_count": null,
   "id": "269c9967",
   "metadata": {},
   "outputs": [],
   "source": [
    "# Access by key\n",
    "my_dict['Mike']"
   ]
  },
  {
   "cell_type": "markdown",
   "id": "e9a39de3",
   "metadata": {},
   "source": [
    "Dictionaries are mutable"
   ]
  },
  {
   "cell_type": "code",
   "execution_count": null,
   "id": "08392316",
   "metadata": {},
   "outputs": [],
   "source": [
    "del my_dict['Edward']\n",
    "my_dict"
   ]
  },
  {
   "cell_type": "code",
   "execution_count": null,
   "id": "a23e007f",
   "metadata": {},
   "outputs": [],
   "source": [
    "my_dict['Sam'] = 5\n",
    "my_dict"
   ]
  },
  {
   "cell_type": "markdown",
   "id": "39999df8",
   "metadata": {},
   "source": [
    "Looking at the keys and values"
   ]
  },
  {
   "cell_type": "code",
   "execution_count": null,
   "id": "b8c67fec",
   "metadata": {},
   "outputs": [],
   "source": [
    "my_dict.keys()"
   ]
  },
  {
   "cell_type": "code",
   "execution_count": null,
   "id": "260f181c",
   "metadata": {},
   "outputs": [],
   "source": [
    "my_dict.values()"
   ]
  },
  {
   "cell_type": "markdown",
   "id": "6fdf13f0",
   "metadata": {},
   "source": [
    "Functions"
   ]
  },
  {
   "cell_type": "code",
   "execution_count": null,
   "id": "b3c1e761",
   "metadata": {},
   "outputs": [],
   "source": [
    "len(my_dict)"
   ]
  },
  {
   "cell_type": "code",
   "execution_count": null,
   "id": "d5e563e2",
   "metadata": {},
   "outputs": [],
   "source": [
    "min(my_dict)"
   ]
  },
  {
   "cell_type": "markdown",
   "id": "dd9016d2",
   "metadata": {},
   "source": [
    "## Tuples"
   ]
  },
  {
   "cell_type": "code",
   "execution_count": null,
   "id": "8db9c84d",
   "metadata": {},
   "outputs": [],
   "source": [
    "my_tup = ('c','a','k','e')\n",
    "type(my_tup)"
   ]
  },
  {
   "cell_type": "markdown",
   "id": "4e08d047",
   "metadata": {},
   "source": [
    "Tuples are ordered"
   ]
  },
  {
   "cell_type": "code",
   "execution_count": null,
   "id": "5077f19f",
   "metadata": {},
   "outputs": [],
   "source": [
    "my_tup[0]"
   ]
  },
  {
   "cell_type": "markdown",
   "id": "c86f5ae6",
   "metadata": {},
   "source": [
    "Tuples are immutable"
   ]
  },
  {
   "cell_type": "code",
   "execution_count": null,
   "id": "8c9df4ca",
   "metadata": {
    "scrolled": true
   },
   "outputs": [],
   "source": [
    "# Can't update elements\n",
    "my_tup[2] = 'n'"
   ]
  },
  {
   "cell_type": "markdown",
   "id": "636a34a8",
   "metadata": {},
   "source": [
    "## Sets"
   ]
  },
  {
   "cell_type": "code",
   "execution_count": null,
   "id": "b1f67aa6",
   "metadata": {},
   "outputs": [],
   "source": [
    "my_set = {1,2,3,4,4}\n",
    "type(my_set)"
   ]
  },
  {
   "cell_type": "markdown",
   "id": "4570357e",
   "metadata": {},
   "source": [
    "Sets only store unique values"
   ]
  },
  {
   "cell_type": "code",
   "execution_count": null,
   "id": "56749d6d",
   "metadata": {},
   "outputs": [],
   "source": [
    "my_set"
   ]
  },
  {
   "cell_type": "code",
   "execution_count": null,
   "id": "ac627247",
   "metadata": {},
   "outputs": [],
   "source": [
    "# This helps us get unique characters in strings etc.\n",
    "cookie = set('cookie')\n",
    "cookie"
   ]
  },
  {
   "cell_type": "markdown",
   "id": "497ff67b",
   "metadata": {},
   "source": [
    "Sets are unordered"
   ]
  },
  {
   "cell_type": "code",
   "execution_count": null,
   "id": "b9ecf89a",
   "metadata": {
    "scrolled": true
   },
   "outputs": [],
   "source": [
    "# Can't access based on position\n",
    "cookie[1]"
   ]
  },
  {
   "cell_type": "markdown",
   "id": "fc5b83e6",
   "metadata": {},
   "source": [
    "Sets are mutable (but it is limited)"
   ]
  },
  {
   "cell_type": "code",
   "execution_count": null,
   "id": "5cf7dcec",
   "metadata": {},
   "outputs": [],
   "source": [
    "cookie.add(1)\n",
    "cookie"
   ]
  },
  {
   "cell_type": "markdown",
   "id": "c2e0b0c5",
   "metadata": {},
   "source": [
    "Some useful features about sets"
   ]
  },
  {
   "cell_type": "code",
   "execution_count": null,
   "id": "620c6a28",
   "metadata": {},
   "outputs": [],
   "source": [
    "# All values in two sets\n",
    "my_set | cookie"
   ]
  },
  {
   "cell_type": "code",
   "execution_count": null,
   "id": "9fd996a0",
   "metadata": {},
   "outputs": [],
   "source": [
    "# or\n",
    "my_set.union(cookie)"
   ]
  },
  {
   "cell_type": "code",
   "execution_count": null,
   "id": "58e9f44d",
   "metadata": {},
   "outputs": [],
   "source": [
    "# All values that occur in both sets\n",
    "my_set & cookie"
   ]
  },
  {
   "cell_type": "code",
   "execution_count": null,
   "id": "df410f7e",
   "metadata": {},
   "outputs": [],
   "source": [
    "# or\n",
    "my_set.intersection(cookie)"
   ]
  },
  {
   "cell_type": "markdown",
   "id": "60a3bc86",
   "metadata": {},
   "source": [
    "## Converting data structures"
   ]
  },
  {
   "cell_type": "code",
   "execution_count": null,
   "id": "f16ce40e",
   "metadata": {},
   "outputs": [],
   "source": [
    "my_list.append(5)\n",
    "my_list"
   ]
  },
  {
   "cell_type": "markdown",
   "id": "3663fc95",
   "metadata": {},
   "source": [
    "**Lists to other structures:**"
   ]
  },
  {
   "cell_type": "code",
   "execution_count": null,
   "id": "53c4d0b6",
   "metadata": {},
   "outputs": [],
   "source": [
    "list_to_dict = dict(zip(my_list[::2],my_list[1::2]))\n",
    "type(list_to_dict)"
   ]
  },
  {
   "cell_type": "code",
   "execution_count": null,
   "id": "07165bb4",
   "metadata": {},
   "outputs": [],
   "source": [
    "list_to_dict"
   ]
  },
  {
   "cell_type": "code",
   "execution_count": null,
   "id": "764b6eed",
   "metadata": {},
   "outputs": [],
   "source": [
    "list_to_tup = tuple(my_list)\n",
    "type(list_to_tup)"
   ]
  },
  {
   "cell_type": "code",
   "execution_count": null,
   "id": "bf7461c6",
   "metadata": {},
   "outputs": [],
   "source": [
    "list_to_tup"
   ]
  },
  {
   "cell_type": "code",
   "execution_count": null,
   "id": "c0446478",
   "metadata": {},
   "outputs": [],
   "source": [
    "list_to_set = set(my_list)\n",
    "type(list_to_set)"
   ]
  },
  {
   "cell_type": "code",
   "execution_count": null,
   "id": "6985243b",
   "metadata": {},
   "outputs": [],
   "source": [
    "list_to_set"
   ]
  },
  {
   "cell_type": "markdown",
   "id": "7cc59b74",
   "metadata": {},
   "source": [
    "**Dictionaries to other structures**"
   ]
  },
  {
   "cell_type": "code",
   "execution_count": null,
   "id": "8806417c",
   "metadata": {},
   "outputs": [],
   "source": [
    "# If you just call list, it only takes the keys\n",
    "dict_to_list = list(my_dict)\n",
    "dict_to_list"
   ]
  },
  {
   "cell_type": "code",
   "execution_count": null,
   "id": "3cc13be3",
   "metadata": {},
   "outputs": [],
   "source": [
    "dict_to_list = list(my_dict.items())\n",
    "type(dict_to_list)"
   ]
  },
  {
   "cell_type": "code",
   "execution_count": null,
   "id": "8d761a68",
   "metadata": {},
   "outputs": [],
   "source": [
    "dict_to_list"
   ]
  },
  {
   "cell_type": "code",
   "execution_count": null,
   "id": "ed06ae73",
   "metadata": {},
   "outputs": [],
   "source": [
    "dict_to_tup = tuple(my_dict.items())\n",
    "type(dict_to_tup)"
   ]
  },
  {
   "cell_type": "code",
   "execution_count": null,
   "id": "aa8dfd29",
   "metadata": {},
   "outputs": [],
   "source": [
    "dict_to_tup"
   ]
  },
  {
   "cell_type": "code",
   "execution_count": null,
   "id": "45043fca",
   "metadata": {},
   "outputs": [],
   "source": [
    "dict_to_set = set(my_dict.items())\n",
    "type(dict_to_set)"
   ]
  },
  {
   "cell_type": "code",
   "execution_count": null,
   "id": "0f3d292e",
   "metadata": {},
   "outputs": [],
   "source": [
    "dict_to_set"
   ]
  },
  {
   "cell_type": "markdown",
   "id": "af5ea2f3",
   "metadata": {},
   "source": [
    "**Tuples to other structures:**"
   ]
  },
  {
   "cell_type": "code",
   "execution_count": null,
   "id": "28deb174",
   "metadata": {},
   "outputs": [],
   "source": [
    "tup_to_list = list(my_tup)\n",
    "type(tup_to_list)"
   ]
  },
  {
   "cell_type": "code",
   "execution_count": null,
   "id": "d7a01b43",
   "metadata": {},
   "outputs": [],
   "source": [
    "tup_to_list"
   ]
  },
  {
   "cell_type": "code",
   "execution_count": null,
   "id": "5f0b929f",
   "metadata": {},
   "outputs": [],
   "source": [
    "tup_to_dict = dict(zip(my_tup[::2],my_tup[1::2]))\n",
    "type(tup_to_dict)"
   ]
  },
  {
   "cell_type": "code",
   "execution_count": null,
   "id": "feab2332",
   "metadata": {},
   "outputs": [],
   "source": [
    "tup_to_dict"
   ]
  },
  {
   "cell_type": "code",
   "execution_count": null,
   "id": "eac539eb",
   "metadata": {},
   "outputs": [],
   "source": [
    "tup_to_set = set(my_tup)\n",
    "type(tup_to_set)"
   ]
  },
  {
   "cell_type": "code",
   "execution_count": null,
   "id": "03caebc2",
   "metadata": {},
   "outputs": [],
   "source": [
    "tup_to_set"
   ]
  },
  {
   "cell_type": "markdown",
   "id": "f4195b78",
   "metadata": {},
   "source": [
    "**Sets to other structures:**"
   ]
  },
  {
   "cell_type": "code",
   "execution_count": null,
   "id": "cbe28caf",
   "metadata": {},
   "outputs": [],
   "source": [
    "set_to_list = list(my_set)\n",
    "type(set_to_list)"
   ]
  },
  {
   "cell_type": "code",
   "execution_count": null,
   "id": "b921f533",
   "metadata": {},
   "outputs": [],
   "source": [
    "set_to_list"
   ]
  },
  {
   "cell_type": "code",
   "execution_count": null,
   "id": "70ab574c",
   "metadata": {},
   "outputs": [],
   "source": [
    "set_to_dict = dict.fromkeys(my_set)\n",
    "type(set_to_dict)"
   ]
  },
  {
   "cell_type": "code",
   "execution_count": null,
   "id": "c0559f57",
   "metadata": {},
   "outputs": [],
   "source": [
    "set_to_dict"
   ]
  },
  {
   "cell_type": "code",
   "execution_count": null,
   "id": "251f7c51",
   "metadata": {},
   "outputs": [],
   "source": [
    "set_to_tup = tuple(my_set)\n",
    "type(set_to_tup)"
   ]
  },
  {
   "cell_type": "code",
   "execution_count": null,
   "id": "d204ab2b",
   "metadata": {},
   "outputs": [],
   "source": [
    "set_to_tup"
   ]
  },
  {
   "cell_type": "markdown",
   "id": "324f303a",
   "metadata": {},
   "source": [
    "## Activity\n",
    "Suppose you have a list of your favorite super heros including\n",
    "\n",
    "- spider man\n",
    "- thor\n",
    "- hulk\n",
    "- iron man\n",
    "- captain america\n",
    "- captain marvel\n",
    "\n",
    "Answer the following."
   ]
  },
  {
   "cell_type": "markdown",
   "id": "e811198a",
   "metadata": {},
   "source": [
    "What is the length of the list. (*Hint:* You will need to create the list first)"
   ]
  },
  {
   "cell_type": "code",
   "execution_count": null,
   "id": "af4a2ec5",
   "metadata": {},
   "outputs": [],
   "source": [
    "..."
   ]
  },
  {
   "cell_type": "markdown",
   "id": "db1d1910",
   "metadata": {},
   "source": [
    "Add `black panther` to the end of the list."
   ]
  },
  {
   "cell_type": "code",
   "execution_count": null,
   "id": "81ecd5d2",
   "metadata": {},
   "outputs": [],
   "source": [
    "..."
   ]
  },
  {
   "cell_type": "markdown",
   "id": "4ba4ca29",
   "metadata": {},
   "source": [
    "You decide that you actually want to place black panther after iron man in your list. Remove it from the list first and then add it after iron man.  "
   ]
  },
  {
   "cell_type": "code",
   "execution_count": null,
   "id": "fc5fb4ff",
   "metadata": {},
   "outputs": [],
   "source": [
    "..."
   ]
  },
  {
   "cell_type": "markdown",
   "id": "e192174a",
   "metadata": {},
   "source": [
    "You decide that you actually don't like Thor or the Hulk since they get angry so easily. So you want to remove them from the list and replace them with doctor strange. He's awesome."
   ]
  },
  {
   "cell_type": "code",
   "execution_count": null,
   "id": "76e23277",
   "metadata": {},
   "outputs": [],
   "source": [
    "..."
   ]
  },
  {
   "cell_type": "markdown",
   "id": "1096e03a",
   "metadata": {},
   "source": [
    "Sort the heros list in alphabetical order."
   ]
  },
  {
   "cell_type": "code",
   "execution_count": null,
   "id": "f30effa3",
   "metadata": {},
   "outputs": [],
   "source": [
    "..."
   ]
  }
 ],
 "metadata": {
  "kernelspec": {
   "display_name": "Python 3 (ipykernel)",
   "language": "python",
   "name": "python3"
  },
  "language_info": {
   "codemirror_mode": {
    "name": "ipython",
    "version": 3
   },
   "file_extension": ".py",
   "mimetype": "text/x-python",
   "name": "python",
   "nbconvert_exporter": "python",
   "pygments_lexer": "ipython3",
   "version": "3.11.4"
  }
 },
 "nbformat": 4,
 "nbformat_minor": 5
}
