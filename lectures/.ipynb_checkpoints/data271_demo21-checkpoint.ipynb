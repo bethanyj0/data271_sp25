{
 "cells": [
  {
   "cell_type": "markdown",
   "id": "bd035d4a",
   "metadata": {},
   "source": [
    "# EDA on Boston Housing\n",
    "If you want to type along with me, use [this notebook](https://humboldt.cloudbank.2i2c.cloud/hub/user-redirect/git-pull?repo=https%3A%2F%2Fgithub.com%2Fbethanyj0%2Fdata271_sp24&branch=main&urlpath=tree%2Fdata271_sp24%2Fdemos%2Fdata271_demo21_live.ipynb) instead. \n",
    "If you don't want to type and want to follow along just by executing the cells, stay in this notebook. "
   ]
  },
  {
   "cell_type": "code",
   "execution_count": null,
   "id": "26e99e3b",
   "metadata": {},
   "outputs": [],
   "source": [
    "import numpy as np\n",
    "import pandas as pd\n",
    "import matplotlib.pyplot as plt\n",
    "import sklearn\n",
    "import seaborn as sns\n",
    "sns.set_style(\"darkgrid\")\n",
    "import warnings \n",
    "warnings.filterwarnings('ignore') "
   ]
  },
  {
   "cell_type": "code",
   "execution_count": null,
   "id": "c1cda193",
   "metadata": {},
   "outputs": [],
   "source": [
    "iris = sns.load_dataset('iris')\n",
    "iris"
   ]
  },
  {
   "cell_type": "markdown",
   "id": "a85cd2fe",
   "metadata": {},
   "source": [
    "## Useful Seaborn plots for EDA"
   ]
  },
  {
   "cell_type": "code",
   "execution_count": null,
   "id": "ac407ff0",
   "metadata": {},
   "outputs": [],
   "source": [
    "# pairplot\n",
    "sns.pairplot(iris)\n",
    "plt.show()"
   ]
  },
  {
   "cell_type": "code",
   "execution_count": null,
   "id": "37cd810d",
   "metadata": {
    "scrolled": false
   },
   "outputs": [],
   "source": [
    "# pairplot customizations\n",
    "sns.pairplot(data = iris, hue='species')\n",
    "plt.show()"
   ]
  },
  {
   "cell_type": "code",
   "execution_count": null,
   "id": "a3bd7441",
   "metadata": {},
   "outputs": [],
   "source": [
    "# boxplot\n",
    "sns.boxplot(data = iris)\n",
    "plt.show()"
   ]
  },
  {
   "cell_type": "code",
   "execution_count": null,
   "id": "fef56e7a",
   "metadata": {},
   "outputs": [],
   "source": [
    "# boxplot for numeric variable vs categorical\n",
    "sns.boxplot(data = iris, x = 'species',y='sepal_width')\n",
    "plt.show()"
   ]
  },
  {
   "cell_type": "code",
   "execution_count": null,
   "id": "3c37822b",
   "metadata": {},
   "outputs": [],
   "source": [
    "# heatmaps\n",
    "corrmat = iris.corr(numeric_only=True) # make correlation matrix\n",
    "\n",
    "sns.heatmap(corrmat, annot = True) \n",
    "plt.title('Correlation Coefficients')\n",
    "plt.show()"
   ]
  },
  {
   "cell_type": "markdown",
   "id": "fd1d9f97",
   "metadata": {},
   "source": [
    "# Group Activity: EDA on Housing Data "
   ]
  },
  {
   "cell_type": "markdown",
   "id": "2929c5cb",
   "metadata": {},
   "source": [
    "### Importing the data"
   ]
  },
  {
   "cell_type": "code",
   "execution_count": null,
   "id": "55d2157c",
   "metadata": {},
   "outputs": [],
   "source": [
    "data_url = \"http://lib.stat.cmu.edu/datasets/boston\"\n",
    "raw_df = pd.read_csv(data_url, sep=\"\\s+\", skiprows=22,header = None)\n",
    "data = pd.DataFrame(np.hstack([raw_df.values[::2, :], raw_df.values[1::2, :3]]))\n",
    "data.columns = [\"CRIM\", \"ZN\", \"INDUS\", \"CHAS\", \"NOX\", \"RM\",\"AGE\", \"DIS\", \"RAD\", \"TAX\", \"PTRATIO\", \"B\", \"LSTAT\",\"PRICE\"]\n",
    "data"
   ]
  },
  {
   "cell_type": "markdown",
   "id": "b9e62c99",
   "metadata": {},
   "source": [
    "### Understanding the Features\n"
   ]
  },
  {
   "cell_type": "markdown",
   "id": "4f72a65e",
   "metadata": {},
   "source": [
    " - CRIM   -  per capita crime rate by town\n",
    " - ZN    -   proportion of residential land zoned for lots over 25,000 sq.ft.\n",
    "- INDUS  -  proportion of non-retail business acres per town\n",
    "- CHAS  -   Charles River dummy variable (= 1 if tract bounds river; 0 otherwise)\n",
    "- NOX  -    nitric oxides concentration (parts per 10 million)\n",
    "- RM   -    average number of rooms per dwelling\n",
    "- AGE  -    proportion of owner-occupied units built prior to 1940\n",
    "- DIS   -   weighted distances to five Boston employment centres\n",
    "- RAD  -    index of accessibility to radial highways\n",
    "- TAX  -    full-value property-tax rate per \\$10,000\n",
    "- PTRATIO - pupil-teacher ratio by town\n",
    "- B    -    1000(Bk - 0.63)^2 where Bk is the proportion of blacks by town\n",
    "- LSTAT -   \\% lower status of the population\n",
    "- MEDV   -  Median value of owner-occupied homes in \\$1000's"
   ]
  },
  {
   "cell_type": "markdown",
   "id": "1c0fa54b",
   "metadata": {},
   "source": [
    "## Discussion question\n",
    "Looking at the variables and their descriptions above, do any of them stand out, seem strange, or seem potentially problematic?"
   ]
  },
  {
   "cell_type": "markdown",
   "id": "16ef1e82",
   "metadata": {},
   "source": [
    "## EDA - Descriptive statistics"
   ]
  },
  {
   "cell_type": "code",
   "execution_count": null,
   "id": "4134edd8",
   "metadata": {},
   "outputs": [],
   "source": [
    "# General data info\n",
    "data.info()"
   ]
  },
  {
   "cell_type": "code",
   "execution_count": null,
   "id": "00f74fec",
   "metadata": {},
   "outputs": [],
   "source": [
    "# statistical description of the data\n",
    "data.describe()"
   ]
  },
  {
   "cell_type": "code",
   "execution_count": null,
   "id": "6414140e",
   "metadata": {},
   "outputs": [],
   "source": [
    "# look at mean of each attribute \n",
    "data.describe().loc['mean']"
   ]
  },
  {
   "cell_type": "markdown",
   "id": "07d77873",
   "metadata": {},
   "source": [
    "## EDA - Data Preparation"
   ]
  },
  {
   "cell_type": "code",
   "execution_count": null,
   "id": "871d7cfe",
   "metadata": {},
   "outputs": [],
   "source": [
    "# Search for null values\n",
    "data.isna().sum()"
   ]
  },
  {
   "cell_type": "code",
   "execution_count": null,
   "id": "4ce1219c",
   "metadata": {},
   "outputs": [],
   "source": [
    "# check for duplicate entries\n",
    "data.duplicated().sum()"
   ]
  },
  {
   "cell_type": "markdown",
   "id": "3e3347a5",
   "metadata": {},
   "source": [
    "## EDA - Visualization"
   ]
  },
  {
   "cell_type": "code",
   "execution_count": null,
   "id": "3b9b7edb",
   "metadata": {},
   "outputs": [],
   "source": [
    "# start with a pairplot\n",
    "sns.pairplot(data)  "
   ]
  },
  {
   "cell_type": "markdown",
   "id": "8978908a",
   "metadata": {},
   "source": [
    "### Reduce number of plots by making scatterplots"
   ]
  },
  {
   "cell_type": "code",
   "execution_count": null,
   "id": "ad209616",
   "metadata": {},
   "outputs": [],
   "source": [
    "rows = 2\n",
    "cols = 7\n",
    "fig, ax = plt.subplots(rows, cols, figsize = (16,4) ) \n",
    "index = 0\n",
    "\n",
    "# plot price as dependent variable (y-axis) against all other variables\n",
    "for i in range(rows):\n",
    "    for j in range(cols):\n",
    "        sns.scatterplot(x = data.columns[index], y = 'PRICE', data = data, ax = ax[i][j]) \n",
    "        index = index + 1\n",
    "        \n",
    "plt.tight_layout()\n",
    "plt.show()\n"
   ]
  },
  {
   "cell_type": "markdown",
   "id": "f916a07d",
   "metadata": {},
   "source": [
    "### Correlation Coefficients and Heatmaps"
   ]
  },
  {
   "cell_type": "code",
   "execution_count": null,
   "id": "2fe9433b",
   "metadata": {},
   "outputs": [],
   "source": [
    "# correlation matrix\n",
    "corrmat = data.corr(numeric_only=True) \n",
    "corrmat  "
   ]
  },
  {
   "cell_type": "code",
   "execution_count": null,
   "id": "9ab5324c",
   "metadata": {},
   "outputs": [],
   "source": [
    "# plot as a heat map to visualize the information in the matrix\n",
    "plt.figure(figsize = (9, 9)) \n",
    "sns.heatmap(corrmat, annot = True) \n",
    "plt.show()"
   ]
  },
  {
   "cell_type": "markdown",
   "id": "a31de69d",
   "metadata": {},
   "source": [
    "### Heatmap and Pair Plot of Correlated Data"
   ]
  },
  {
   "cell_type": "code",
   "execution_count": null,
   "id": "831de994",
   "metadata": {},
   "outputs": [],
   "source": [
    "# Which variables are highly (>0.5) correlated with price?\n",
    "abs(corrmat.PRICE) > 0.5"
   ]
  },
  {
   "cell_type": "code",
   "execution_count": null,
   "id": "137fd8c1",
   "metadata": {},
   "outputs": [],
   "source": [
    "corrmat.index[abs(corrmat.PRICE) > 0.5]"
   ]
  },
  {
   "cell_type": "code",
   "execution_count": null,
   "id": "26a7b6c3",
   "metadata": {},
   "outputs": [],
   "source": [
    "correlated_data = data[corrmat.index[abs(corrmat.PRICE) > 0.5]]\n",
    "correlated_data.head()"
   ]
  },
  {
   "cell_type": "code",
   "execution_count": null,
   "id": "5e03cb17",
   "metadata": {},
   "outputs": [],
   "source": [
    "# plot pair plots to display columns which are highly correlated with the price\n",
    "sns.pairplot(correlated_data)\n",
    "plt.tight_layout()"
   ]
  },
  {
   "cell_type": "markdown",
   "id": "9ced1822",
   "metadata": {},
   "source": [
    "### Distributions of variables and boxplots"
   ]
  },
  {
   "cell_type": "code",
   "execution_count": null,
   "id": "a0d0d3f5",
   "metadata": {},
   "outputs": [],
   "source": [
    "# distributions of data\n",
    "sns.boxplot(data)\n",
    "plt.show()"
   ]
  },
  {
   "cell_type": "code",
   "execution_count": null,
   "id": "a38fa532",
   "metadata": {},
   "outputs": [],
   "source": [
    "# plot price vs CHAS\n",
    "sns.boxplot( x = 'CHAS',y = 'PRICE', data = data)\n",
    "plt.show()"
   ]
  },
  {
   "cell_type": "markdown",
   "id": "e1526e9a",
   "metadata": {},
   "source": [
    "**IMPORTANT NOTE:** The boston housing data set has an ethical problem (actually, several)! It used to be available to import from Python libraries and repositories, and it was often used for benchmarking machine learning models. However, it has been phased out of many libraries due to its ethical issues.  It is an example of how systemic racism can occur in data, and alerts us to the need to be aware of societal biases that can manifest in data sets and resulting analyses.\n",
    "\n",
    "We will talk about the history of this dataset and problematic ways in which the variables were constructed during class. If you return to the dataset another time, be careful about how you use it and be aware of its issues. "
   ]
  },
  {
   "cell_type": "code",
   "execution_count": null,
   "id": "0653bc75",
   "metadata": {},
   "outputs": [],
   "source": []
  }
 ],
 "metadata": {
  "kernelspec": {
   "display_name": "Python 3 (ipykernel)",
   "language": "python",
   "name": "python3"
  },
  "language_info": {
   "codemirror_mode": {
    "name": "ipython",
    "version": 3
   },
   "file_extension": ".py",
   "mimetype": "text/x-python",
   "name": "python",
   "nbconvert_exporter": "python",
   "pygments_lexer": "ipython3",
   "version": "3.11.4"
  }
 },
 "nbformat": 4,
 "nbformat_minor": 5
}
