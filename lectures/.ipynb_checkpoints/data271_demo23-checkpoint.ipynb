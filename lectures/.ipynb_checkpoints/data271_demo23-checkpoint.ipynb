{
 "cells": [
  {
   "cell_type": "markdown",
   "id": "bd035d4a",
   "metadata": {},
   "source": [
    "# Advanced Plotting in Seaborn and how to use it in EDA\n",
    "If you want to type along with me, use [this notebook](https://humboldt.cloudbank.2i2c.cloud/hub/user-redirect/git-pull?repo=https%3A%2F%2Fgithub.com%2Fbethanyj0%2Fdata271_sp24&branch=main&urlpath=tree%2Fdata271_sp24%2Fdemos%2Fdata271_demo23_live.ipynb) instead. \n",
    "If you don't want to type and want to follow along just by executing the cells, stay in this notebook. "
   ]
  },
  {
   "cell_type": "code",
   "execution_count": null,
   "id": "07295d99",
   "metadata": {},
   "outputs": [],
   "source": [
    "import numpy as np\n",
    "import pandas as pd\n",
    "import matplotlib.pyplot as plt\n",
    "import seaborn as sns"
   ]
  },
  {
   "cell_type": "code",
   "execution_count": null,
   "id": "03bb78be",
   "metadata": {},
   "outputs": [],
   "source": [
    "iris = sns.load_dataset('iris')"
   ]
  },
  {
   "cell_type": "markdown",
   "id": "13eb1f39",
   "metadata": {},
   "source": [
    "### Distributions of numerical data"
   ]
  },
  {
   "cell_type": "code",
   "execution_count": null,
   "id": "21282050",
   "metadata": {},
   "outputs": [],
   "source": [
    "# Historgrams for distributions\n",
    "sns.histplot(data = iris, x = 'petal_width')\n",
    "plt.show()"
   ]
  },
  {
   "cell_type": "code",
   "execution_count": null,
   "id": "03b84c1e",
   "metadata": {},
   "outputs": [],
   "source": [
    "# Histograms take hue argument\n",
    "sns.histplot(data = iris, x = 'petal_width', hue = 'species')\n",
    "plt.show()"
   ]
  },
  {
   "cell_type": "code",
   "execution_count": null,
   "id": "cb1dbbe0",
   "metadata": {},
   "outputs": [],
   "source": [
    "# Kernel Density Estimate (KDE) plot for smooth distributions\n",
    "sns.kdeplot(data = iris, x = 'petal_width')\n",
    "plt.show()"
   ]
  },
  {
   "cell_type": "code",
   "execution_count": null,
   "id": "01eeb72f",
   "metadata": {},
   "outputs": [],
   "source": [
    "# Shade your KDE plot\n",
    "sns.kdeplot(data = iris, x = 'petal_width',fill=True)\n",
    "plt.show()"
   ]
  },
  {
   "cell_type": "code",
   "execution_count": null,
   "id": "b5f44848",
   "metadata": {
    "scrolled": true
   },
   "outputs": [],
   "source": [
    "# More options with colors\n",
    "sns.kdeplot(data = iris, x = 'petal_width', fill = True, hue = 'species')\n",
    "plt.show()"
   ]
  },
  {
   "cell_type": "code",
   "execution_count": null,
   "id": "d8ebefd0",
   "metadata": {},
   "outputs": [],
   "source": [
    "# Can plot binned histograms and smooth distributions together\n",
    "sns.histplot(data = iris, x = 'petal_width', kde = True, hue = 'species')\n",
    "plt.show()"
   ]
  },
  {
   "cell_type": "code",
   "execution_count": null,
   "id": "500e7d85",
   "metadata": {},
   "outputs": [],
   "source": [
    "# Easily transition between different types of distributions using displot\n",
    "sns.displot(data = iris, x = 'petal_width', hue = 'species',kind='hist')\n",
    "plt.show()"
   ]
  },
  {
   "cell_type": "code",
   "execution_count": null,
   "id": "759a5323",
   "metadata": {},
   "outputs": [],
   "source": [
    "# distplot with KDE\n",
    "sns.displot(data = iris, x = 'petal_width', hue = 'species', kind='kde', fill=True)\n",
    "plt.show()"
   ]
  },
  {
   "cell_type": "code",
   "execution_count": null,
   "id": "ecaaf137",
   "metadata": {},
   "outputs": [],
   "source": [
    "# distplot makes facetting easier!! Use argument col to map a variable to different columns in a subplot\n",
    "sns.displot(data = iris, x = 'petal_width', hue = 'species', kind='kde', fill=True, col = 'species')\n",
    "plt.show()"
   ]
  },
  {
   "cell_type": "markdown",
   "id": "a92ced1d",
   "metadata": {},
   "source": [
    "### Numerical data"
   ]
  },
  {
   "cell_type": "code",
   "execution_count": null,
   "id": "3c937ede",
   "metadata": {
    "scrolled": true
   },
   "outputs": [],
   "source": [
    "# plot numerical data with regression plots\n",
    "sns.regplot(data = iris, x = 'petal_length',y='petal_width')\n",
    "plt.show()"
   ]
  },
  {
   "cell_type": "code",
   "execution_count": null,
   "id": "05d931e2",
   "metadata": {},
   "outputs": [],
   "source": [
    "# plot data associations AND distributions in same plot\n",
    "sns.jointplot(data = iris, x = 'petal_length',y='petal_width')\n",
    "plt.show()"
   ]
  },
  {
   "cell_type": "code",
   "execution_count": null,
   "id": "a7ff5c41",
   "metadata": {},
   "outputs": [],
   "source": [
    "# joinplot has options such as hex (useful when there is a lot of overlap in original scatter)\n",
    "sns.jointplot(data = iris, x = 'petal_length',y='petal_width',kind='hex')\n",
    "plt.show()"
   ]
  },
  {
   "cell_type": "markdown",
   "id": "6648a3fc",
   "metadata": {},
   "source": [
    "### Categorical data"
   ]
  },
  {
   "cell_type": "code",
   "execution_count": null,
   "id": "e0acf646",
   "metadata": {},
   "outputs": [],
   "source": [
    "# swarm plot\n",
    "plt.figure(figsize=(5,5))\n",
    "sns.swarmplot(data = iris, x = 'species', y = 'petal_width')\n",
    "plt.show()"
   ]
  },
  {
   "cell_type": "code",
   "execution_count": null,
   "id": "51549d62",
   "metadata": {},
   "outputs": [],
   "source": [
    "# swarm plot (adjust point size)\n",
    "plt.figure(figsize=(5,5))\n",
    "sns.swarmplot(data = iris, x = 'species', y = 'petal_width',size=2)\n",
    "plt.show()"
   ]
  },
  {
   "cell_type": "code",
   "execution_count": null,
   "id": "01dba931",
   "metadata": {},
   "outputs": [],
   "source": [
    "# Violin plot\n",
    "plt.figure(figsize=(5,5))\n",
    "sns.violinplot(data = iris, x = 'species', y = 'petal_width')\n",
    "plt.show()"
   ]
  },
  {
   "cell_type": "code",
   "execution_count": null,
   "id": "9d8f0e51",
   "metadata": {},
   "outputs": [],
   "source": [
    "# Point plot (best when there is some order to the categories)\n",
    "plt.figure(figsize=(5,5))\n",
    "sns.pointplot(data = iris, x = 'species', y = 'petal_width')\n",
    "plt.show()"
   ]
  },
  {
   "cell_type": "code",
   "execution_count": null,
   "id": "5607fe27",
   "metadata": {},
   "outputs": [],
   "source": [
    "# Categorical plots (catplot) allow you to seemlessly transition between different types of categorical plots\n",
    "sns.catplot(data = iris, x = 'species', y = None, kind = 'count')\n",
    "plt.show()"
   ]
  },
  {
   "cell_type": "code",
   "execution_count": null,
   "id": "5f1df8ac",
   "metadata": {},
   "outputs": [],
   "source": [
    "# another version of catplot\n",
    "sns.catplot(data = iris, x = 'species',y = 'petal_width',kind = 'bar')\n",
    "plt.show()"
   ]
  },
  {
   "cell_type": "code",
   "execution_count": null,
   "id": "e26bf07a",
   "metadata": {},
   "outputs": [],
   "source": [
    "# Another version of catplot\n",
    "sns.catplot(data = iris, x = 'species',y = 'petal_width',kind = 'box')\n",
    "plt.show()"
   ]
  },
  {
   "cell_type": "code",
   "execution_count": null,
   "id": "e5665605",
   "metadata": {},
   "outputs": [],
   "source": [
    "# Cat plot takes the same arguments as the original type of plot\n",
    "sns.catplot(data = iris, x = 'species',y = 'petal_width',kind = 'swarm',size=2)\n",
    "plt.show()"
   ]
  },
  {
   "cell_type": "code",
   "execution_count": null,
   "id": "5ee1165b",
   "metadata": {},
   "outputs": [],
   "source": [
    "# Violin with catplot\n",
    "sns.catplot(data = iris, x = 'species',y = 'petal_width',kind = 'violin')\n",
    "plt.show()"
   ]
  },
  {
   "cell_type": "code",
   "execution_count": null,
   "id": "18196adb",
   "metadata": {
    "scrolled": false
   },
   "outputs": [],
   "source": [
    "# Point plot with catplot\n",
    "sns.catplot(data = iris, x = 'species',y = 'petal_width',kind = 'point')\n",
    "plt.show()"
   ]
  },
  {
   "cell_type": "markdown",
   "id": "afda7dfe",
   "metadata": {},
   "source": [
    "### Subplots with Seaborn"
   ]
  },
  {
   "cell_type": "code",
   "execution_count": null,
   "id": "ff5edc68",
   "metadata": {},
   "outputs": [],
   "source": [
    "# sometimes we want to visualize the relationship between all variables and 1 specific variable\n",
    "fig, ax = plt.subplots(1, 3, figsize = (12, 4)) \n",
    "\n",
    "sns.scatterplot(x ='petal_width', y = 'petal_length', data = iris, ax = ax[0], hue = 'species')\n",
    "sns.scatterplot(x ='sepal_width', y = 'petal_length', data = iris, ax = ax[1], hue = 'species')\n",
    "sns.scatterplot(x ='sepal_length', y = 'petal_length', data = iris, ax = ax[2], hue = 'species')\n",
    "\n",
    "plt.tight_layout()"
   ]
  },
  {
   "cell_type": "markdown",
   "id": "80893930",
   "metadata": {},
   "source": [
    "## Group Activity: Using plotting methods in an EDA: Titanic Data"
   ]
  },
  {
   "cell_type": "code",
   "execution_count": null,
   "id": "5a3684ab",
   "metadata": {},
   "outputs": [],
   "source": [
    "# set defined plot sizes and styles\n",
    "plt.rcParams['figure.figsize'] = [6,3] # figures will be 6 units in length 3 units in height\n",
    "plt.rcParams['figure.dpi'] = 80 # default is 72 in webpages, we wish to see in higher resolution"
   ]
  },
  {
   "cell_type": "code",
   "execution_count": null,
   "id": "a7316748",
   "metadata": {},
   "outputs": [],
   "source": [
    "# titanic data set is part of Seaborn\n",
    "titanic = sns.load_dataset('titanic')"
   ]
  },
  {
   "cell_type": "code",
   "execution_count": null,
   "id": "7dc6a4db",
   "metadata": {},
   "outputs": [],
   "source": [
    "# look at the first few lines\n",
    "titanic.head()"
   ]
  },
  {
   "cell_type": "code",
   "execution_count": null,
   "id": "02b91b3d",
   "metadata": {},
   "outputs": [],
   "source": [
    "# describe will only represent the numerical columns-- for example, sex, class, embark town, etc. are not included\n",
    "titanic.describe()"
   ]
  },
  {
   "cell_type": "code",
   "execution_count": null,
   "id": "66011004",
   "metadata": {},
   "outputs": [],
   "source": [
    "titanic.info()"
   ]
  },
  {
   "cell_type": "markdown",
   "id": "378c4194",
   "metadata": {},
   "source": [
    "### Task: \n",
    "Use a heatmap to visualize the null values in the dataset. "
   ]
  },
  {
   "cell_type": "code",
   "execution_count": null,
   "id": "c56b4b89",
   "metadata": {},
   "outputs": [],
   "source": [
    "plt.style.use('ggplot')"
   ]
  },
  {
   "cell_type": "code",
   "execution_count": null,
   "id": "946c0596",
   "metadata": {},
   "outputs": [],
   "source": []
  },
  {
   "cell_type": "code",
   "execution_count": null,
   "id": "1d17dee0",
   "metadata": {},
   "outputs": [],
   "source": []
  },
  {
   "cell_type": "markdown",
   "id": "5c06123a",
   "metadata": {},
   "source": [
    "### Discussion Question: \n",
    "What do you notice about the heatmap? What information does it show. What information does it not show?"
   ]
  },
  {
   "cell_type": "markdown",
   "id": "b59836c7",
   "metadata": {},
   "source": [
    "### Task\n",
    "Use a heatmap to visualize the correlation in the data. "
   ]
  },
  {
   "cell_type": "code",
   "execution_count": null,
   "id": "deda2ba0",
   "metadata": {},
   "outputs": [],
   "source": []
  },
  {
   "cell_type": "code",
   "execution_count": null,
   "id": "a2a60d5c",
   "metadata": {
    "scrolled": true
   },
   "outputs": [],
   "source": []
  },
  {
   "cell_type": "markdown",
   "id": "1026859c",
   "metadata": {},
   "source": [
    "### Discussion question\n",
    "Looking at the `survived` column, what do you notice. Anything else you notice about the heatmap overall?"
   ]
  },
  {
   "cell_type": "markdown",
   "id": "2be4e6ae",
   "metadata": {},
   "source": [
    "## Task \n",
    "Create subplots to show the count of each category for the variables `survived`, `pclass`, `sex`, `sibsp`, `parch`, `embark_town`, and `alone`. "
   ]
  },
  {
   "cell_type": "code",
   "execution_count": null,
   "id": "bf85ad9c",
   "metadata": {},
   "outputs": [],
   "source": []
  },
  {
   "cell_type": "markdown",
   "id": "702de9d9",
   "metadata": {},
   "source": [
    "### Discussion Question\n",
    "What observations can you make from the plots you created?"
   ]
  }
 ],
 "metadata": {
  "kernelspec": {
   "display_name": "Python 3 (ipykernel)",
   "language": "python",
   "name": "python3"
  },
  "language_info": {
   "codemirror_mode": {
    "name": "ipython",
    "version": 3
   },
   "file_extension": ".py",
   "mimetype": "text/x-python",
   "name": "python",
   "nbconvert_exporter": "python",
   "pygments_lexer": "ipython3",
   "version": "3.11.4"
  }
 },
 "nbformat": 4,
 "nbformat_minor": 5
}
