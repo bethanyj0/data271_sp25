{
 "cells": [
  {
   "cell_type": "markdown",
   "id": "bd035d4a",
   "metadata": {},
   "source": [
    "# Titanic EDA"
   ]
  },
  {
   "cell_type": "code",
   "execution_count": null,
   "id": "07295d99",
   "metadata": {},
   "outputs": [],
   "source": [
    "import numpy as np\n",
    "import pandas as pd\n",
    "import matplotlib.pyplot as plt\n",
    "import seaborn as sns"
   ]
  },
  {
   "cell_type": "markdown",
   "id": "80893930",
   "metadata": {},
   "source": [
    "## Group Activity: Using plotting methods in an EDA: Titanic Data"
   ]
  },
  {
   "cell_type": "code",
   "execution_count": null,
   "id": "5a3684ab",
   "metadata": {},
   "outputs": [],
   "source": [
    "# set defined plot sizes and styles\n",
    "plt.rcParams['figure.figsize'] = [6,3] # figures will be 6 units in length 3 units in height\n",
    "plt.rcParams['figure.dpi'] = 80 # default is 72 in webpages, we wish to see in higher resolution"
   ]
  },
  {
   "cell_type": "code",
   "execution_count": null,
   "id": "a7316748",
   "metadata": {},
   "outputs": [],
   "source": [
    "# titanic data set is part of Seaborn\n",
    "titanic = sns.load_dataset('titanic')"
   ]
  },
  {
   "cell_type": "code",
   "execution_count": null,
   "id": "7dc6a4db",
   "metadata": {},
   "outputs": [],
   "source": [
    "# look at the first few lines\n",
    "titanic.head()"
   ]
  },
  {
   "cell_type": "code",
   "execution_count": null,
   "id": "02b91b3d",
   "metadata": {},
   "outputs": [],
   "source": [
    "# describe will only represent the numerical columns-- for example, sex, class, embark town, etc. are not included\n",
    "titanic.describe()"
   ]
  },
  {
   "cell_type": "code",
   "execution_count": null,
   "id": "66011004",
   "metadata": {},
   "outputs": [],
   "source": [
    "titanic.info()"
   ]
  },
  {
   "cell_type": "markdown",
   "id": "378c4194",
   "metadata": {},
   "source": [
    "### Task: \n",
    "Use a heatmap to visualize the null values in the dataset."
   ]
  },
  {
   "cell_type": "code",
   "execution_count": null,
   "id": "c56b4b89",
   "metadata": {},
   "outputs": [],
   "source": [
    "plt.style.use('ggplot')"
   ]
  },
  {
   "cell_type": "code",
   "execution_count": null,
   "id": "946c0596",
   "metadata": {},
   "outputs": [],
   "source": []
  },
  {
   "cell_type": "code",
   "execution_count": null,
   "id": "1d17dee0",
   "metadata": {},
   "outputs": [],
   "source": [
    "# Visualize the null values\n"
   ]
  },
  {
   "cell_type": "markdown",
   "id": "a11d608f",
   "metadata": {},
   "source": [
    "### Discussion Question: \n",
    "What information does the heatmap show well. What information does it not show well?"
   ]
  },
  {
   "cell_type": "markdown",
   "id": "47a7c736",
   "metadata": {},
   "source": [
    "### Task\n",
    "Use a heatmap to visualize the correlation in the data. "
   ]
  },
  {
   "cell_type": "code",
   "execution_count": null,
   "id": "deda2ba0",
   "metadata": {},
   "outputs": [],
   "source": []
  },
  {
   "cell_type": "code",
   "execution_count": null,
   "id": "a2a60d5c",
   "metadata": {
    "scrolled": true
   },
   "outputs": [],
   "source": []
  },
  {
   "cell_type": "markdown",
   "id": "bab9c6d3",
   "metadata": {},
   "source": [
    "### Discussion question\n",
    "Looking at the `survived` column, which variables would likely be good predictors of survival? Which would be bad? Which ones would you look into more?"
   ]
  },
  {
   "cell_type": "markdown",
   "id": "f1c4b2a1",
   "metadata": {},
   "source": [
    "## Task \n",
    "Create 9 subplots. Use 7 of them to show the number of passengers in each category of `survived`, `pclass`, `sex`, `sibsp`, `parch`, `embark_town`, and `alone`. Use 2 of them to show the distribution of `fare` and the distribution of `age`. "
   ]
  },
  {
   "cell_type": "code",
   "execution_count": null,
   "id": "bf85ad9c",
   "metadata": {},
   "outputs": [],
   "source": []
  },
  {
   "cell_type": "markdown",
   "id": "e7cbf7c8",
   "metadata": {},
   "source": [
    "### Discussion Question\n",
    "Looking at the countplots and distributions, what do you notice? What do you wonder?"
   ]
  },
  {
   "cell_type": "markdown",
   "id": "b290cb81",
   "metadata": {},
   "source": [
    "### Discussion Question\n",
    "Bar charts look similar to histograms, but there are some fundamental differences. List at least 3 differences between bar charts and histograms. "
   ]
  },
  {
   "cell_type": "markdown",
   "id": "fa5deb78",
   "metadata": {},
   "source": [
    "### Discussion Question\n",
    "Bar charts give use a nice visual (somewhat qualitative) idea about counts in each category. If we wanted to know the exact number of passengers who survived and who didn't, what Pandas method could we use?"
   ]
  },
  {
   "cell_type": "markdown",
   "id": "1246b2b5",
   "metadata": {},
   "source": [
    "## Task\n",
    "**Survival by class**: Create a visualization that could help you understand the number of passengers that survived and the number of passengers that didn't in each class. "
   ]
  },
  {
   "cell_type": "code",
   "execution_count": null,
   "id": "56bdc84f",
   "metadata": {
    "scrolled": true
   },
   "outputs": [],
   "source": []
  },
  {
   "cell_type": "markdown",
   "id": "5a81387a",
   "metadata": {},
   "source": [
    "### Discussion Question\n",
    "Do you have any hypotheses for why you see the pattern above?"
   ]
  },
  {
   "cell_type": "markdown",
   "id": "0e27d40f",
   "metadata": {},
   "source": [
    " "
   ]
  },
  {
   "cell_type": "markdown",
   "id": "55dd7e63",
   "metadata": {},
   "source": [
    "### Task\n",
    "\n",
    "**Probability of survival by class:** Create a way to visualize the probability of survival by class."
   ]
  },
  {
   "cell_type": "code",
   "execution_count": null,
   "id": "d950bf91",
   "metadata": {
    "scrolled": true
   },
   "outputs": [],
   "source": []
  },
  {
   "cell_type": "markdown",
   "id": "cd1b9a5c",
   "metadata": {},
   "source": [
    "### Discussion Question:\n",
    "What do you notice? What do you wonder?"
   ]
  },
  {
   "cell_type": "markdown",
   "id": "dbdc9cd2",
   "metadata": {},
   "source": [
    "### Task\n",
    "**Survival by sex:** Visualize the number of passengers who survived and the number of passengers who didn't for each sex. "
   ]
  },
  {
   "cell_type": "code",
   "execution_count": null,
   "id": "ce3e28f1",
   "metadata": {},
   "outputs": [],
   "source": []
  },
  {
   "cell_type": "markdown",
   "id": "0bd874ff",
   "metadata": {},
   "source": [
    "### Task\n",
    "\n",
    "**Probability of survival by sex:** Plot the probability of survival by sex. What is the best kind of plot to use here?"
   ]
  },
  {
   "cell_type": "code",
   "execution_count": null,
   "id": "dc919b24",
   "metadata": {
    "scrolled": true
   },
   "outputs": [],
   "source": []
  },
  {
   "cell_type": "markdown",
   "id": "fa242433",
   "metadata": {},
   "source": [
    "### Task\n",
    "**Survival by class and sex**: Create a plot that shows the number of passengers that survived and the number of passengers that didn't in each `pclass`, facetted by `sex`. "
   ]
  },
  {
   "cell_type": "code",
   "execution_count": null,
   "id": "b9628533",
   "metadata": {
    "scrolled": false
   },
   "outputs": [],
   "source": []
  },
  {
   "cell_type": "markdown",
   "id": "7eb0fb0c",
   "metadata": {},
   "source": [
    "### Task\n",
    "**Probability of survival by class and sex**: Create a visualization that could help you determine if sex or class was more important in terms of probability of survival."
   ]
  },
  {
   "cell_type": "code",
   "execution_count": null,
   "id": "14aab8a6",
   "metadata": {
    "scrolled": false
   },
   "outputs": [],
   "source": []
  },
  {
   "cell_type": "markdown",
   "id": "6730d18b",
   "metadata": {},
   "source": [
    "### Discussion Question\n",
    "Based on your graph, do you think sex or class is more important in terms of survival?"
   ]
  },
  {
   "cell_type": "markdown",
   "id": "353a7116",
   "metadata": {},
   "source": []
  },
  {
   "cell_type": "markdown",
   "id": "1e2ac104",
   "metadata": {},
   "source": [
    "### Task\n",
    "Create a visualization that will help you determine how the median age of inviduals who survived compares to the median age of individuals who did not survive. What plot would also help you compare the age distributions between those who survived and those who didn't?"
   ]
  },
  {
   "cell_type": "code",
   "execution_count": null,
   "id": "e4c792c4",
   "metadata": {},
   "outputs": [],
   "source": []
  },
  {
   "cell_type": "markdown",
   "id": "3a729f6e",
   "metadata": {},
   "source": [
    "### Discussion Question\n",
    "What does the plot above reveal?"
   ]
  },
  {
   "cell_type": "markdown",
   "id": "53f68446",
   "metadata": {},
   "source": [
    "### Task\n",
    "Create your own question about this dataset, and use a visualization to uncover information. "
   ]
  },
  {
   "cell_type": "code",
   "execution_count": null,
   "id": "21051d2a",
   "metadata": {},
   "outputs": [],
   "source": []
  }
 ],
 "metadata": {
  "kernelspec": {
   "display_name": "Python 3 (ipykernel)",
   "language": "python",
   "name": "python3"
  },
  "language_info": {
   "codemirror_mode": {
    "name": "ipython",
    "version": 3
   },
   "file_extension": ".py",
   "mimetype": "text/x-python",
   "name": "python",
   "nbconvert_exporter": "python",
   "pygments_lexer": "ipython3",
   "version": "3.11.4"
  }
 },
 "nbformat": 4,
 "nbformat_minor": 5
}
