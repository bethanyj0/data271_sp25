{
 "cells": [
  {
   "cell_type": "markdown",
   "id": "bd035d4a",
   "metadata": {},
   "source": [
    "# Preparing Data: Adding Columns\n",
    "If you want to type along with me, use [this notebook](https://humboldt.cloudbank.2i2c.cloud/hub/user-redirect/git-pull?repo=https%3A%2F%2Fgithub.com%2Fbethanyj0%2Fdata271_sp24&branch=main&urlpath=tree%2Fdata271_sp24%2Fdemos%2Fdata271_demo25_live.ipynb) instead. \n",
    "If you don't want to type and want to follow along just by executing the cells, stay in this notebook. "
   ]
  },
  {
   "cell_type": "code",
   "execution_count": null,
   "id": "26e99e3b",
   "metadata": {},
   "outputs": [],
   "source": [
    "import numpy as np\n",
    "import pandas as pd\n",
    "import matplotlib.pyplot as plt\n",
    "import sklearn\n",
    "import seaborn as sns\n",
    "import re\n",
    "sns.set_style(\"darkgrid\")\n",
    "import warnings \n",
    "warnings.filterwarnings('ignore') "
   ]
  },
  {
   "cell_type": "markdown",
   "id": "51d3b736",
   "metadata": {},
   "source": [
    "## Adding independent columns"
   ]
  },
  {
   "cell_type": "markdown",
   "id": "b1333f8b",
   "metadata": {},
   "source": [
    "### Method 1: Add to the end"
   ]
  },
  {
   "cell_type": "code",
   "execution_count": null,
   "id": "c1cda193",
   "metadata": {},
   "outputs": [],
   "source": [
    "# Creating animals dataframe\n",
    "animals_dct = {\n",
    "    'Animal': ['cow', 'kitten', 'penguin', 'Puppy'],\n",
    "    'Sound': ['moo', 'purr', 'chirp', 'bark'],\n",
    "}\n",
    "\n",
    "animals = pd.DataFrame(animals_dct)\n",
    "animals"
   ]
  },
  {
   "cell_type": "code",
   "execution_count": null,
   "id": "7943261b",
   "metadata": {},
   "outputs": [],
   "source": [
    "# add a column on the right (broadcasting)\n",
    "\n",
    "animals"
   ]
  },
  {
   "cell_type": "code",
   "execution_count": null,
   "id": "9df70041",
   "metadata": {},
   "outputs": [],
   "source": [
    "# add a column on the right (list)\n",
    "animals = pd.DataFrame(animals_dct)\n",
    "\n",
    "animals"
   ]
  },
  {
   "cell_type": "markdown",
   "id": "9ec70798",
   "metadata": {},
   "source": [
    "### Method 2: Insert the column in specific position"
   ]
  },
  {
   "cell_type": "code",
   "execution_count": null,
   "id": "565aa5a5",
   "metadata": {},
   "outputs": [],
   "source": [
    "# Insert at a specific position with .insert(loc, column, value)\n",
    "animals = pd.DataFrame(animals_dct)\n",
    "\n",
    "animals"
   ]
  },
  {
   "cell_type": "code",
   "execution_count": null,
   "id": "38a3733d",
   "metadata": {},
   "outputs": [],
   "source": [
    "# or do it with a list\n",
    "animals = pd.DataFrame(animals_dct)\n",
    "\n",
    "animals"
   ]
  },
  {
   "cell_type": "markdown",
   "id": "67247ee7",
   "metadata": {},
   "source": [
    "### Method 3: Add more than 1 column at once"
   ]
  },
  {
   "cell_type": "code",
   "execution_count": null,
   "id": "b2db0a68",
   "metadata": {},
   "outputs": [],
   "source": [
    "# create two columns at once\n"
   ]
  },
  {
   "cell_type": "code",
   "execution_count": null,
   "id": "2f1ec1c3",
   "metadata": {},
   "outputs": [],
   "source": [
    "animals"
   ]
  },
  {
   "cell_type": "markdown",
   "id": "b54588c1",
   "metadata": {},
   "source": [
    "## Adding columns based on other columns"
   ]
  },
  {
   "cell_type": "code",
   "execution_count": null,
   "id": "83a080cb",
   "metadata": {},
   "outputs": [],
   "source": [
    "# Making a bool column based on condition\n",
    "\n",
    "animals.head()"
   ]
  },
  {
   "cell_type": "code",
   "execution_count": null,
   "id": "ac456b59",
   "metadata": {},
   "outputs": [],
   "source": [
    "# Making a categorical column based on another categorical column with map\n",
    "\n",
    "animals.head()"
   ]
  },
  {
   "cell_type": "code",
   "execution_count": null,
   "id": "25f7a092",
   "metadata": {},
   "outputs": [],
   "source": [
    "# applying a function to everything in another column\n",
    "\n",
    "animals.head()"
   ]
  },
  {
   "cell_type": "code",
   "execution_count": null,
   "id": "37f959bd",
   "metadata": {
    "scrolled": true
   },
   "outputs": [],
   "source": [
    "# Creating new columns with element-wise arithmetic\n",
    "\n",
    "animals.head()"
   ]
  },
  {
   "cell_type": "code",
   "execution_count": null,
   "id": "2d6bb8ff",
   "metadata": {},
   "outputs": [],
   "source": [
    "# With string methods\n",
    "\n",
    "animals.head()"
   ]
  },
  {
   "cell_type": "code",
   "execution_count": null,
   "id": "05df9024",
   "metadata": {},
   "outputs": [],
   "source": [
    "# With list comprehension\n",
    "\n",
    "animals.head()"
   ]
  },
  {
   "cell_type": "markdown",
   "id": "a85cd2fe",
   "metadata": {},
   "source": [
    "## Activity"
   ]
  },
  {
   "cell_type": "markdown",
   "id": "372ab7c6",
   "metadata": {},
   "source": [
    "Let's revisit the titanic data from Wednesday."
   ]
  },
  {
   "cell_type": "code",
   "execution_count": null,
   "id": "ac407ff0",
   "metadata": {},
   "outputs": [],
   "source": [
    "# load titanic data \n",
    "titanic = sns.load_dataset('titanic')\n",
    "titanic.head()"
   ]
  },
  {
   "cell_type": "markdown",
   "id": "c0fc732a",
   "metadata": {},
   "source": [
    "**Activity 1:** Create a new column called `my_alive` based on the original `survived` column. It should be \"no\" when `survived` is 0, and \"yes\" when `survived` is 1. Your goal is to make it match the `alive` column which was added by the Seaborn creators. "
   ]
  },
  {
   "cell_type": "code",
   "execution_count": null,
   "id": "5e29815c",
   "metadata": {},
   "outputs": [],
   "source": []
  },
  {
   "cell_type": "code",
   "execution_count": null,
   "id": "ba5ef489",
   "metadata": {},
   "outputs": [],
   "source": [
    "# run this to check your work\n",
    "(titanic['my_alive'] == titanic['alive']).all()"
   ]
  },
  {
   "cell_type": "markdown",
   "id": "107a75ca",
   "metadata": {},
   "source": [
    "**Activity 2:** Create a new column called `my_alone` based on the original `sibsp` and `parch` columns. It should be False if the passenger had any family members on board, True otherwise. Your goal is to make it match the `alone` column which was added by the Seaborn creators. "
   ]
  },
  {
   "cell_type": "code",
   "execution_count": null,
   "id": "cb79e105",
   "metadata": {},
   "outputs": [],
   "source": []
  },
  {
   "cell_type": "code",
   "execution_count": null,
   "id": "2c77e696",
   "metadata": {},
   "outputs": [],
   "source": [
    "# run this to check your work\n",
    "(titanic['my_alone'] == titanic['alone']).all()"
   ]
  },
  {
   "cell_type": "markdown",
   "id": "c1f83e5d",
   "metadata": {},
   "source": [
    "**Activity 3 *CHALLENGE*:** Create a new column called `my_who` based on the original `sex` and `age` columns. If the passenger is under 16, they should be labelled as \"child\", if they are over 16 and are `sex` \"male\" they should be labelled \"man\", and if they are over 16 and are `sex` \"female\" they should be labelled \"woman.\" Your goal is to make it match the `who` column which was added by the Seaborn creators. \n",
    "\n",
    "*HINT*: You might find it helpful to split this one up and solve in multiple lines of code. "
   ]
  },
  {
   "cell_type": "code",
   "execution_count": null,
   "id": "e6fc59c9",
   "metadata": {},
   "outputs": [],
   "source": []
  },
  {
   "cell_type": "code",
   "execution_count": null,
   "id": "446267d0",
   "metadata": {},
   "outputs": [],
   "source": [
    "# run this to check your work\n",
    "(titanic['my_who'] == titanic['who']).all()"
   ]
  },
  {
   "cell_type": "markdown",
   "id": "73576825",
   "metadata": {},
   "source": [
    "### Code for Discussion Questions"
   ]
  },
  {
   "cell_type": "code",
   "execution_count": null,
   "id": "6e056dd6",
   "metadata": {},
   "outputs": [],
   "source": [
    "flights = pd.read_csv('flight_delays.csv')\n",
    "flights.head()"
   ]
  },
  {
   "cell_type": "code",
   "execution_count": null,
   "id": "7928cce4",
   "metadata": {},
   "outputs": [],
   "source": [
    "flights['Year'] = flights['Flight_Date'].str.split(\"-\").str[0]"
   ]
  },
  {
   "cell_type": "code",
   "execution_count": null,
   "id": "1d710b9a",
   "metadata": {},
   "outputs": [],
   "source": [
    "flights = flights.sort_values(by='Year')"
   ]
  },
  {
   "cell_type": "code",
   "execution_count": null,
   "id": "22abee86",
   "metadata": {},
   "outputs": [],
   "source": [
    "sns.set(font_scale = 1.8)\n",
    "fig = sns.displot(data = flights, x  = 'Departure_Delay_Minutes', col = 'Year',binwidth=5)\n",
    "fig.set(xlim=(-20, 100))\n",
    "plt.tight_layout()"
   ]
  },
  {
   "cell_type": "code",
   "execution_count": null,
   "id": "39741540",
   "metadata": {},
   "outputs": [],
   "source": []
  }
 ],
 "metadata": {
  "kernelspec": {
   "display_name": "Python 3 (ipykernel)",
   "language": "python",
   "name": "python3"
  },
  "language_info": {
   "codemirror_mode": {
    "name": "ipython",
    "version": 3
   },
   "file_extension": ".py",
   "mimetype": "text/x-python",
   "name": "python",
   "nbconvert_exporter": "python",
   "pygments_lexer": "ipython3",
   "version": "3.11.4"
  }
 },
 "nbformat": 4,
 "nbformat_minor": 5
}
