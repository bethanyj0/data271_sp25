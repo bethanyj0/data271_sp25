{
 "cells": [
  {
   "cell_type": "markdown",
   "id": "bd035d4a",
   "metadata": {},
   "source": [
    "# Fetching Data from an API and Preparing the Data\n",
    "If you want to type along with me, use [this notebook](https://humboldt.cloudbank.2i2c.cloud/hub/user-redirect/git-pull?repo=https%3A%2F%2Fgithub.com%2Fbethanyj0%2Fdata271_sp24&branch=main&urlpath=tree%2Fdata271_sp24%2Fdemos%2Fdata271_demo26_live.ipynb) instead. \n",
    "If you don't want to type and want to follow along just by executing the cells, stay in this notebook. "
   ]
  },
  {
   "cell_type": "code",
   "execution_count": null,
   "id": "26e99e3b",
   "metadata": {},
   "outputs": [],
   "source": [
    "import numpy as np\n",
    "import pandas as pd"
   ]
  },
  {
   "cell_type": "markdown",
   "id": "51d3b736",
   "metadata": {},
   "source": [
    "## Requesting data from Google's Youtube API"
   ]
  },
  {
   "cell_type": "markdown",
   "id": "11b1e485",
   "metadata": {},
   "source": [
    "First we have to create credentials. Go to https://console.cloud.google.com/. Sign in with your Google account if you haven't already. Click on \"Create Project\" and name a new project whatever you want. When it asks you to enable API's look through the API library, and select the Youtube Data API. Once you've enabled the API, you should be able to access your API Key. "
   ]
  },
  {
   "cell_type": "code",
   "execution_count": null,
   "id": "89bbfcd2",
   "metadata": {},
   "outputs": [],
   "source": [
    "# Paste your youtube API here\n",
    "api_key = "
   ]
  },
  {
   "cell_type": "markdown",
   "id": "d152f7bd",
   "metadata": {},
   "source": [
    "We will just request data from Cal Poly Humboldt's Youtube Channel (@HumboldtOnline). For this, we will need the channel's channel ID. Go to Youtube and find one of Cal Poly Humboldt's youtube videos. Right-click on your browser and click View Page Source. Search (Ctrl-F) for https://www.youtube.com/channel/ in the page source. The channel ID will appear directly after the /channel/ text in the URL path."
   ]
  },
  {
   "cell_type": "code",
   "execution_count": null,
   "id": "8ebcbf4a",
   "metadata": {},
   "outputs": [],
   "source": [
    "# Paste the channel ID here\n",
    "channel_id = \"UCg7Fdhrmwi8ZqakqiO3xPkg\""
   ]
  },
  {
   "cell_type": "code",
   "execution_count": null,
   "id": "9b42e298",
   "metadata": {},
   "outputs": [],
   "source": [
    "# whenever we want to request data from an API\n",
    "import requests"
   ]
  },
  {
   "cell_type": "markdown",
   "id": "b6848af5",
   "metadata": {},
   "source": [
    "Read the Youtube API documentation [here](https://developers.google.com/youtube/v3/docs). "
   ]
  },
  {
   "cell_type": "code",
   "execution_count": null,
   "id": "91f48894",
   "metadata": {},
   "outputs": [],
   "source": [
    "# The url to request from\n",
    "url = \"https://www.googleapis.com/youtube/v3/search?key=\"+api_key+\"&channelId=\"+channel_id+\"&part=snippet,id&order=date&maxResults=10000\""
   ]
  },
  {
   "cell_type": "code",
   "execution_count": null,
   "id": "d3095047",
   "metadata": {},
   "outputs": [],
   "source": [
    "# Request the data with a \"GET\" request\n",
    "response = requests.get(url)\n",
    "response"
   ]
  },
  {
   "cell_type": "code",
   "execution_count": null,
   "id": "57496806",
   "metadata": {},
   "outputs": [],
   "source": [
    "# check out response\n",
    "type(response)"
   ]
  },
  {
   "cell_type": "code",
   "execution_count": null,
   "id": "f8054d27",
   "metadata": {},
   "outputs": [],
   "source": [
    "# learn more about response\n",
    "help(response)"
   ]
  },
  {
   "cell_type": "code",
   "execution_count": null,
   "id": "081c7d67",
   "metadata": {},
   "outputs": [],
   "source": [
    "# use the json() method to access the data\n",
    "response.json()"
   ]
  },
  {
   "cell_type": "code",
   "execution_count": null,
   "id": "8287583d",
   "metadata": {},
   "outputs": [],
   "source": [
    "# Save the response data\n",
    "payload = response.json()"
   ]
  },
  {
   "cell_type": "code",
   "execution_count": null,
   "id": "7af7b0e2",
   "metadata": {},
   "outputs": [],
   "source": [
    "# inpsect the payload\n",
    "payload.keys()"
   ]
  },
  {
   "cell_type": "code",
   "execution_count": null,
   "id": "54d57a6d",
   "metadata": {
    "scrolled": true
   },
   "outputs": [],
   "source": [
    "# Inspect the data\n",
    "payload['items'][0]['snippet']"
   ]
  },
  {
   "cell_type": "markdown",
   "id": "ad40f021",
   "metadata": {},
   "source": [
    "## Parsing/Preparing the Data"
   ]
  },
  {
   "cell_type": "code",
   "execution_count": null,
   "id": "5ac3c793",
   "metadata": {
    "scrolled": true
   },
   "outputs": [],
   "source": [
    "# Put the data in a pandas dataframe\n",
    "payload_df = pd.DataFrame(payload['items'])\n",
    "payload_df.head()"
   ]
  },
  {
   "cell_type": "code",
   "execution_count": null,
   "id": "6ab75339",
   "metadata": {},
   "outputs": [],
   "source": [
    "# inspect the id data\n",
    "payload_df.id[0]"
   ]
  },
  {
   "cell_type": "code",
   "execution_count": null,
   "id": "5406c8d6",
   "metadata": {},
   "outputs": [],
   "source": [
    "# inspect the snippet data\n",
    "payload_df.snippet[0]"
   ]
  },
  {
   "cell_type": "code",
   "execution_count": null,
   "id": "f442754e",
   "metadata": {},
   "outputs": [],
   "source": [
    "# Create a new dataframe to store the clean data\n",
    "clean_df = pd.DataFrame()"
   ]
  },
  {
   "cell_type": "code",
   "execution_count": null,
   "id": "b81e54e7",
   "metadata": {},
   "outputs": [],
   "source": [
    "# add video ID\n",
    "clean_df['videoID'] = [i['videoId'] for i in payload_df.id]\n",
    "clean_df.head()"
   ]
  },
  {
   "cell_type": "code",
   "execution_count": null,
   "id": "c17841c6",
   "metadata": {},
   "outputs": [],
   "source": [
    "# add published date/time\n",
    "clean_df['publishedAt'] = [i['publishedAt'] for i in payload_df.snippet]\n",
    "clean_df.head()"
   ]
  },
  {
   "cell_type": "code",
   "execution_count": null,
   "id": "d0a3fe6e",
   "metadata": {},
   "outputs": [],
   "source": [
    "# Video title\n",
    "clean_df['title'] = [i['title'] for i in payload_df.snippet]\n",
    "clean_df.head()"
   ]
  },
  {
   "cell_type": "markdown",
   "id": "7084453c",
   "metadata": {},
   "source": [
    "## Enhancing the data with video-specific info"
   ]
  },
  {
   "cell_type": "code",
   "execution_count": null,
   "id": "51773387",
   "metadata": {},
   "outputs": [],
   "source": [
    "# Test getting data for a specific video\n",
    "video_id = \"GpOplrOC7X0\"\n",
    "video_stats_test = \"https://www.googleapis.com/youtube/v3/videos?id=\"+video_id+\"&part=statistics&key=\"+api_key"
   ]
  },
  {
   "cell_type": "code",
   "execution_count": null,
   "id": "907efed0",
   "metadata": {},
   "outputs": [],
   "source": [
    "response_video_stats_test = requests.get(video_stats_test)"
   ]
  },
  {
   "cell_type": "code",
   "execution_count": null,
   "id": "d2fbbefd",
   "metadata": {},
   "outputs": [],
   "source": [
    "response_video_stats_test.json()"
   ]
  },
  {
   "cell_type": "markdown",
   "id": "2cc99870",
   "metadata": {},
   "source": [
    "Get data for multiple videos"
   ]
  },
  {
   "cell_type": "code",
   "execution_count": null,
   "id": "25889a05",
   "metadata": {},
   "outputs": [],
   "source": [
    "# get data for multiple videos\n",
    "ids = ','.join(clean_df.videoID)\n",
    "ids"
   ]
  },
  {
   "cell_type": "code",
   "execution_count": null,
   "id": "92c1d471",
   "metadata": {},
   "outputs": [],
   "source": [
    "# Create url for the video statistics\n",
    "url_for_stats = \"https://www.googleapis.com/youtube/v3/videos?id=\"+ids+\"&part=statistics&key=\"+api_key"
   ]
  },
  {
   "cell_type": "code",
   "execution_count": null,
   "id": "c0b4c0ac",
   "metadata": {},
   "outputs": [],
   "source": [
    "# Request the data\n",
    "response_stats = requests.get(url_for_stats).json()"
   ]
  },
  {
   "cell_type": "code",
   "execution_count": null,
   "id": "28f97eab",
   "metadata": {},
   "outputs": [],
   "source": [
    "# Inspect the result\n",
    "response_stats.keys()"
   ]
  },
  {
   "cell_type": "code",
   "execution_count": null,
   "id": "75db3e27",
   "metadata": {},
   "outputs": [],
   "source": [
    "# Access the statistics\n",
    "response_stats['items'][0]['statistics']"
   ]
  },
  {
   "cell_type": "code",
   "execution_count": null,
   "id": "fa4ba835",
   "metadata": {},
   "outputs": [],
   "source": [
    "# Add to the dataframe\n",
    "clean_df['viewCount'] = [i['statistics']['viewCount'] for i in response_stats['items']]\n",
    "clean_df.head()"
   ]
  },
  {
   "cell_type": "code",
   "execution_count": null,
   "id": "f3fee01d",
   "metadata": {},
   "outputs": [],
   "source": [
    "# Add to the dataframe\n",
    "clean_df['likeCount'] = [i['statistics']['likeCount'] for i in response_stats['items']]\n",
    "clean_df.head()"
   ]
  },
  {
   "cell_type": "markdown",
   "id": "288b9893",
   "metadata": {},
   "source": [
    "## Activity"
   ]
  },
  {
   "cell_type": "markdown",
   "id": "8d1c82cf",
   "metadata": {},
   "source": [
    "**Activity 1:** With a partner, choose a Youtube channel of your choice, and use the `requests` module to fetch basic video data from the YouTube API (e.g. videoId, publishedAt, title)."
   ]
  },
  {
   "cell_type": "code",
   "execution_count": null,
   "id": "78b00544",
   "metadata": {},
   "outputs": [],
   "source": []
  },
  {
   "cell_type": "markdown",
   "id": "890bf896",
   "metadata": {},
   "source": [
    "**Activity 2:** Put the response object in a Pandas DataFrame and use it to create two new columns `date` and `time` to show the date the video was published, and the time the video was published. "
   ]
  },
  {
   "cell_type": "code",
   "execution_count": null,
   "id": "d27535f2",
   "metadata": {},
   "outputs": [],
   "source": []
  }
 ],
 "metadata": {
  "kernelspec": {
   "display_name": "Python 3 (ipykernel)",
   "language": "python",
   "name": "python3"
  },
  "language_info": {
   "codemirror_mode": {
    "name": "ipython",
    "version": 3
   },
   "file_extension": ".py",
   "mimetype": "text/x-python",
   "name": "python",
   "nbconvert_exporter": "python",
   "pygments_lexer": "ipython3",
   "version": "3.11.4"
  }
 },
 "nbformat": 4,
 "nbformat_minor": 5
}
