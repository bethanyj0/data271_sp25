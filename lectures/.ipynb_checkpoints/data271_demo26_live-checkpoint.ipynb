{
 "cells": [
  {
   "cell_type": "markdown",
   "id": "bd035d4a",
   "metadata": {},
   "source": [
    "# Fetching Data from an API and Preparing the Data\n",
    "If you want to type along with me, use [this notebook](https://humboldt.cloudbank.2i2c.cloud/hub/user-redirect/git-pull?repo=https%3A%2F%2Fgithub.com%2Fbethanyj0%2Fdata271_sp24&branch=main&urlpath=tree%2Fdata271_sp24%2Fdemos%2Fdata271_demo26_live.ipynb) instead. \n",
    "If you don't want to type and want to follow along just by executing the cells, stay in this notebook. "
   ]
  },
  {
   "cell_type": "code",
   "execution_count": null,
   "id": "26e99e3b",
   "metadata": {},
   "outputs": [],
   "source": [
    "import numpy as np\n",
    "import pandas as pd"
   ]
  },
  {
   "cell_type": "markdown",
   "id": "51d3b736",
   "metadata": {},
   "source": [
    "## Requesting data from Google's Youtube API"
   ]
  },
  {
   "cell_type": "markdown",
   "id": "d328fe48",
   "metadata": {},
   "source": [
    "First we have to create credentials. Go to https://console.cloud.google.com/. Sign in with your Google account if you haven't already. Click on \"Create Project\" and name a new project whatever you want. When it asks you to enable API's look through the API library, and select the Youtube Data API. Once you've enabled the API, you should be able to access your API Key. "
   ]
  },
  {
   "cell_type": "code",
   "execution_count": null,
   "id": "fd32e93e",
   "metadata": {},
   "outputs": [],
   "source": [
    "# Paste your youtube API here\n",
    "api_key = "
   ]
  },
  {
   "cell_type": "markdown",
   "id": "26b20a67",
   "metadata": {},
   "source": [
    "We will just request data from Cal Poly Humboldt's Youtube Channel (@HumboldtOnline). For this, we will need the channel's channel ID. Go to Youtube and find one of Cal Poly Humboldt's youtube videos. Right-click on your browser and click View Page Source. Search (Ctrl-F) for https://www.youtube.com/channel/ in the page source. The channel ID will appear directly after the /channel/ text in the URL path."
   ]
  },
  {
   "cell_type": "code",
   "execution_count": null,
   "id": "7d460d81",
   "metadata": {},
   "outputs": [],
   "source": [
    "# Paste the channel ID here\n",
    "channel_id = "
   ]
  },
  {
   "cell_type": "code",
   "execution_count": null,
   "id": "5b4d63a5",
   "metadata": {},
   "outputs": [],
   "source": [
    "# whenever we want to request data from an API\n"
   ]
  },
  {
   "cell_type": "markdown",
   "id": "12b10cbd",
   "metadata": {},
   "source": [
    "Read the Youtube API documentation [here](https://developers.google.com/youtube/v3/docs). "
   ]
  },
  {
   "cell_type": "code",
   "execution_count": null,
   "id": "d00d53b1",
   "metadata": {},
   "outputs": [],
   "source": [
    "# The url to request from\n",
    "url = "
   ]
  },
  {
   "cell_type": "code",
   "execution_count": null,
   "id": "4091e013",
   "metadata": {},
   "outputs": [],
   "source": [
    "# Request the data with a \"GET\" request\n",
    "response = \n",
    "response"
   ]
  },
  {
   "cell_type": "code",
   "execution_count": null,
   "id": "d6439f8d",
   "metadata": {},
   "outputs": [],
   "source": [
    "# check out response\n"
   ]
  },
  {
   "cell_type": "code",
   "execution_count": null,
   "id": "0fdbf350",
   "metadata": {},
   "outputs": [],
   "source": [
    "# learn more about response\n"
   ]
  },
  {
   "cell_type": "code",
   "execution_count": null,
   "id": "b0db4be5",
   "metadata": {},
   "outputs": [],
   "source": [
    "# use the json() method to access the data\n"
   ]
  },
  {
   "cell_type": "code",
   "execution_count": null,
   "id": "7a62c216",
   "metadata": {},
   "outputs": [],
   "source": [
    "# Save the response data\n",
    "payload = response.json()"
   ]
  },
  {
   "cell_type": "code",
   "execution_count": null,
   "id": "83a6a431",
   "metadata": {},
   "outputs": [],
   "source": [
    "# inpsect the payload\n",
    "payload."
   ]
  },
  {
   "cell_type": "code",
   "execution_count": null,
   "id": "8b9fb539",
   "metadata": {
    "scrolled": true
   },
   "outputs": [],
   "source": [
    "# Inspect the data\n"
   ]
  },
  {
   "cell_type": "markdown",
   "id": "c215aaa1",
   "metadata": {},
   "source": [
    "## Parsing/Preparing the Data"
   ]
  },
  {
   "cell_type": "code",
   "execution_count": null,
   "id": "9ca8c01b",
   "metadata": {
    "scrolled": true
   },
   "outputs": [],
   "source": [
    "# Put the data in a pandas dataframe\n",
    "payload_df = \n",
    "payload_df.head()"
   ]
  },
  {
   "cell_type": "code",
   "execution_count": null,
   "id": "94c6f45d",
   "metadata": {},
   "outputs": [],
   "source": [
    "# inspect the id data\n",
    "payload_df"
   ]
  },
  {
   "cell_type": "code",
   "execution_count": null,
   "id": "b8d58ee8",
   "metadata": {},
   "outputs": [],
   "source": [
    "# inspect the snippet data\n",
    "payload_df"
   ]
  },
  {
   "cell_type": "code",
   "execution_count": null,
   "id": "7309478e",
   "metadata": {},
   "outputs": [],
   "source": [
    "# Create a new dataframe to store the clean data\n",
    "clean_df = pd.DataFrame()"
   ]
  },
  {
   "cell_type": "code",
   "execution_count": null,
   "id": "d318071e",
   "metadata": {},
   "outputs": [],
   "source": [
    "# add video ID\n",
    "clean_df\n",
    "clean_df.head()"
   ]
  },
  {
   "cell_type": "code",
   "execution_count": null,
   "id": "dddfa0e8",
   "metadata": {},
   "outputs": [],
   "source": [
    "# add published date/time\n",
    "clean_df\n",
    "clean_df.head()"
   ]
  },
  {
   "cell_type": "code",
   "execution_count": null,
   "id": "9dcb20ed",
   "metadata": {},
   "outputs": [],
   "source": [
    "# Video title\n",
    "clean_df\n",
    "clean_df.head()"
   ]
  },
  {
   "cell_type": "markdown",
   "id": "b3e26d2c",
   "metadata": {},
   "source": [
    "## Enhancing the data with video-specific info"
   ]
  },
  {
   "cell_type": "code",
   "execution_count": null,
   "id": "84e824e4",
   "metadata": {},
   "outputs": [],
   "source": [
    "# Test getting data for a specific video\n",
    "video_id = \n",
    "video_stats_test = \"https://www.googleapis.com/youtube/v3/videos?id=\"+video_id+\"&part=statistics&key=\"+api_key"
   ]
  },
  {
   "cell_type": "code",
   "execution_count": null,
   "id": "73cd6e49",
   "metadata": {},
   "outputs": [],
   "source": [
    "response_video_stats_test = "
   ]
  },
  {
   "cell_type": "code",
   "execution_count": null,
   "id": "f2563492",
   "metadata": {},
   "outputs": [],
   "source": [
    "response_video_stats_test.json()"
   ]
  },
  {
   "cell_type": "markdown",
   "id": "6e623dad",
   "metadata": {},
   "source": [
    "Get data for multiple videos"
   ]
  },
  {
   "cell_type": "code",
   "execution_count": null,
   "id": "3f9d0cbd",
   "metadata": {},
   "outputs": [],
   "source": [
    "# get data for multiple videos\n",
    "ids = ','.join(clean_df.videoID)\n",
    "ids"
   ]
  },
  {
   "cell_type": "code",
   "execution_count": null,
   "id": "473f0998",
   "metadata": {},
   "outputs": [],
   "source": [
    "# Create url for the video statistics\n",
    "url_for_stats = \"https://www.googleapis.com/youtube/v3/videos?id=\"+ids+\"&part=statistics&key=\"+api_key"
   ]
  },
  {
   "cell_type": "code",
   "execution_count": null,
   "id": "17e2a329",
   "metadata": {},
   "outputs": [],
   "source": [
    "# Request the data\n",
    "response_stats = "
   ]
  },
  {
   "cell_type": "code",
   "execution_count": null,
   "id": "acc335f3",
   "metadata": {},
   "outputs": [],
   "source": [
    "# Inspect the result\n",
    "response_stats.keys()"
   ]
  },
  {
   "cell_type": "code",
   "execution_count": null,
   "id": "a20efbfd",
   "metadata": {},
   "outputs": [],
   "source": [
    "# Access the statistics\n",
    "response_stats['items'][0]['statistics']"
   ]
  },
  {
   "cell_type": "code",
   "execution_count": null,
   "id": "cc5b40e9",
   "metadata": {},
   "outputs": [],
   "source": [
    "# Add to the dataframe\n",
    "clean_df['viewCount'] = [i['statistics']['viewCount'] for i in response_stats['items']]\n",
    "clean_df.head()"
   ]
  },
  {
   "cell_type": "code",
   "execution_count": null,
   "id": "e5d353e6",
   "metadata": {},
   "outputs": [],
   "source": [
    "# Add to the dataframe\n",
    "clean_df['likeCount'] = [i['statistics']['likeCount'] for i in response_stats['items']]\n",
    "clean_df.head()"
   ]
  },
  {
   "cell_type": "markdown",
   "id": "38390fe8",
   "metadata": {},
   "source": [
    "## Activity"
   ]
  },
  {
   "cell_type": "markdown",
   "id": "aa692af4",
   "metadata": {},
   "source": [
    "**Activity 1:** With a partner, choose a Youtube channel of your choice, and use the `requests` module to fetch basic video data from the YouTube API (e.g. videoId, publishedAt, title)."
   ]
  },
  {
   "cell_type": "code",
   "execution_count": null,
   "id": "ba772147",
   "metadata": {},
   "outputs": [],
   "source": []
  },
  {
   "cell_type": "markdown",
   "id": "d772c28d",
   "metadata": {},
   "source": [
    "**Activity 2:** Put the response object in a Pandas DataFrame and use it to create two new columns `date` and `time` to show the date the video was published, and the time the video was published. "
   ]
  },
  {
   "cell_type": "code",
   "execution_count": null,
   "id": "7eb2f08d",
   "metadata": {},
   "outputs": [],
   "source": []
  }
 ],
 "metadata": {
  "kernelspec": {
   "display_name": "Python 3 (ipykernel)",
   "language": "python",
   "name": "python3"
  },
  "language_info": {
   "codemirror_mode": {
    "name": "ipython",
    "version": 3
   },
   "file_extension": ".py",
   "mimetype": "text/x-python",
   "name": "python",
   "nbconvert_exporter": "python",
   "pygments_lexer": "ipython3",
   "version": "3.11.4"
  }
 },
 "nbformat": 4,
 "nbformat_minor": 5
}
