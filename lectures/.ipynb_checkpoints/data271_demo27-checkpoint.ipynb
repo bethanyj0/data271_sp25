{
 "cells": [
  {
   "cell_type": "markdown",
   "id": "bd035d4a",
   "metadata": {},
   "source": [
    "# Fetching Data from an API and Preparing the Data\n",
    "If you want to type along with me, use [this notebook](https://humboldt.cloudbank.2i2c.cloud/hub/user-redirect/git-pull?repo=https%3A%2F%2Fgithub.com%2Fbethanyj0%2Fdata271_sp24&branch=main&urlpath=tree%2Fdata271_sp24%2Fdemos%2Fdata271_demo27_live.ipynb) instead. \n",
    "If you don't want to type and want to follow along just by executing the cells, stay in this notebook. "
   ]
  },
  {
   "cell_type": "code",
   "execution_count": null,
   "id": "26e99e3b",
   "metadata": {},
   "outputs": [],
   "source": [
    "import numpy as np\n",
    "import pandas as pd"
   ]
  },
  {
   "cell_type": "markdown",
   "id": "51d3b736",
   "metadata": {},
   "source": [
    "## Requesting data from Google's Youtube API"
   ]
  },
  {
   "cell_type": "markdown",
   "id": "11b1e485",
   "metadata": {},
   "source": [
    "First we have to create credentials. Go to https://console.cloud.google.com/. Sign in with your Google account if you haven't already. Click on \"Create Project\" and name a new project whatever you want. When it asks you to enable API's look through the API library, and select the Youtube Data API. Once you've enabled the API, you should be able to access your API Key. "
   ]
  },
  {
   "cell_type": "code",
   "execution_count": null,
   "id": "89bbfcd2",
   "metadata": {},
   "outputs": [],
   "source": [
    "# Paste your youtube API key here\n",
    "api_key = "
   ]
  },
  {
   "cell_type": "markdown",
   "id": "d152f7bd",
   "metadata": {},
   "source": [
    "We will just request data from Cal Poly Humboldt's Youtube Channel (@HumboldtOnline). For this, we will need the channel's channel ID. Go to Youtube and find one of Cal Poly Humboldt's youtube videos. Right-click on your browser and click View Page Source. Search (Ctrl-F) for https://www.youtube.com/channel/ in the page source. The channel ID will appear directly after the /channel/ text in the URL path."
   ]
  },
  {
   "cell_type": "code",
   "execution_count": null,
   "id": "8ebcbf4a",
   "metadata": {},
   "outputs": [],
   "source": [
    "# Paste the channel ID here\n",
    "channel_id = \"UCg7Fdhrmwi8ZqakqiO3xPkg\""
   ]
  },
  {
   "cell_type": "code",
   "execution_count": null,
   "id": "9b42e298",
   "metadata": {},
   "outputs": [],
   "source": [
    "# whenever we want to request data from an API\n",
    "import requests"
   ]
  },
  {
   "cell_type": "markdown",
   "id": "b6848af5",
   "metadata": {},
   "source": [
    "Read the Youtube API documentation [here](https://developers.google.com/youtube/v3/docs). "
   ]
  },
  {
   "cell_type": "code",
   "execution_count": null,
   "id": "91f48894",
   "metadata": {},
   "outputs": [],
   "source": [
    "# The url to request from\n",
    "url = \"https://www.googleapis.com/youtube/v3/search?key=\"+api_key+\"&channelId=\"+channel_id+\"&part=snippet,id&maxResults=50\""
   ]
  },
  {
   "cell_type": "code",
   "execution_count": null,
   "id": "d3095047",
   "metadata": {},
   "outputs": [],
   "source": [
    "# Request the data with a \"GET\" request\n",
    "response = requests.get(url)\n",
    "response"
   ]
  },
  {
   "cell_type": "code",
   "execution_count": null,
   "id": "57496806",
   "metadata": {},
   "outputs": [],
   "source": [
    "# check out response\n",
    "type(response)"
   ]
  },
  {
   "cell_type": "code",
   "execution_count": null,
   "id": "f8054d27",
   "metadata": {},
   "outputs": [],
   "source": [
    "# learn more about response\n",
    "help(response)"
   ]
  },
  {
   "cell_type": "code",
   "execution_count": null,
   "id": "081c7d67",
   "metadata": {},
   "outputs": [],
   "source": [
    "# use the json() method to access the data\n",
    "response.json()"
   ]
  },
  {
   "cell_type": "code",
   "execution_count": null,
   "id": "8287583d",
   "metadata": {},
   "outputs": [],
   "source": [
    "# Save the response data\n",
    "payload = response.json()"
   ]
  },
  {
   "cell_type": "code",
   "execution_count": null,
   "id": "7af7b0e2",
   "metadata": {},
   "outputs": [],
   "source": [
    "# inpsect the payload\n",
    "payload.keys()"
   ]
  },
  {
   "cell_type": "code",
   "execution_count": null,
   "id": "54d57a6d",
   "metadata": {
    "scrolled": true
   },
   "outputs": [],
   "source": [
    "# Inspect the data\n",
    "payload['items'][0]['snippet']"
   ]
  },
  {
   "cell_type": "markdown",
   "id": "ad40f021",
   "metadata": {},
   "source": [
    "## Parsing/Preparing the Data"
   ]
  },
  {
   "cell_type": "code",
   "execution_count": null,
   "id": "5ac3c793",
   "metadata": {
    "scrolled": true
   },
   "outputs": [],
   "source": [
    "# Put the data in a pandas dataframe\n",
    "payload_df = pd.DataFrame(payload['items'])\n",
    "payload_df.head()"
   ]
  },
  {
   "cell_type": "code",
   "execution_count": null,
   "id": "6ab75339",
   "metadata": {},
   "outputs": [],
   "source": [
    "# inspect the id data\n",
    "payload_df.id[0]"
   ]
  },
  {
   "cell_type": "code",
   "execution_count": null,
   "id": "5406c8d6",
   "metadata": {},
   "outputs": [],
   "source": [
    "# inspect the snippet data\n",
    "payload_df.snippet[0]"
   ]
  },
  {
   "cell_type": "code",
   "execution_count": null,
   "id": "f442754e",
   "metadata": {},
   "outputs": [],
   "source": [
    "# Create a new dataframe to store the clean data\n",
    "clean_df = pd.DataFrame()"
   ]
  },
  {
   "cell_type": "code",
   "execution_count": null,
   "id": "b81e54e7",
   "metadata": {},
   "outputs": [],
   "source": [
    "# add video ID\n",
    "clean_df['videoId'] = [i['videoId'] for i in payload_df.id]\n",
    "clean_df.head()"
   ]
  },
  {
   "cell_type": "code",
   "execution_count": null,
   "id": "8bc1891d",
   "metadata": {},
   "outputs": [],
   "source": [
    "# Redo the new column to handle nulls\n",
    "clean_df['videoId'] = [i['videoId'] if 'videoId' in i.keys() else np.nan for i in payload_df.id]\n",
    "clean_df.head()"
   ]
  },
  {
   "cell_type": "code",
   "execution_count": null,
   "id": "c221abec",
   "metadata": {},
   "outputs": [],
   "source": [
    "# another way to fetch data\n",
    "params = {'key':api_key,\n",
    "          'channelId':channel_id,\n",
    "          'part':['snippet','id'],\n",
    "          'order':'date',\n",
    "          'maxResults':50}\n",
    "url = \"https://www.googleapis.com/youtube/v3/search\""
   ]
  },
  {
   "cell_type": "code",
   "execution_count": null,
   "id": "5fe1e51a",
   "metadata": {},
   "outputs": [],
   "source": [
    "payload = requests.get(url,params=params).json()\n",
    "payload_df = pd.DataFrame(payload['items'])\n",
    "payload_df.head()"
   ]
  },
  {
   "cell_type": "code",
   "execution_count": null,
   "id": "3d34e541",
   "metadata": {},
   "outputs": [],
   "source": [
    "# Create a new dataframe to store the clean data\n",
    "clean_df = pd.DataFrame()"
   ]
  },
  {
   "cell_type": "code",
   "execution_count": null,
   "id": "eb9942c2",
   "metadata": {},
   "outputs": [],
   "source": [
    "# add video ID\n",
    "clean_df['videoId'] = [i['videoId'] for i in payload_df.id]\n",
    "clean_df.head()"
   ]
  },
  {
   "cell_type": "code",
   "execution_count": null,
   "id": "c17841c6",
   "metadata": {},
   "outputs": [],
   "source": [
    "# add published date/time\n",
    "clean_df['publishedAt'] = [i['publishedAt'] for i in payload_df.snippet]\n",
    "clean_df.head()"
   ]
  },
  {
   "cell_type": "code",
   "execution_count": null,
   "id": "d0a3fe6e",
   "metadata": {},
   "outputs": [],
   "source": [
    "# Video title\n",
    "clean_df['title'] = [i['title'] for i in payload_df.snippet]\n",
    "clean_df.head()"
   ]
  },
  {
   "cell_type": "markdown",
   "id": "7084453c",
   "metadata": {},
   "source": [
    "## Enhancing the data with video-specific info"
   ]
  },
  {
   "cell_type": "code",
   "execution_count": null,
   "id": "51773387",
   "metadata": {},
   "outputs": [],
   "source": [
    "# Test getting data for a specific video\n",
    "video_id = \"GpOplrOC7X0\"\n",
    "video_stats_test = \"https://www.googleapis.com/youtube/v3/videos?id=\"+video_id+\"&part=statistics&key=\"+api_key"
   ]
  },
  {
   "cell_type": "code",
   "execution_count": null,
   "id": "907efed0",
   "metadata": {},
   "outputs": [],
   "source": [
    "response_video_stats_test = requests.get(video_stats_test)"
   ]
  },
  {
   "cell_type": "code",
   "execution_count": null,
   "id": "d2fbbefd",
   "metadata": {},
   "outputs": [],
   "source": [
    "response_video_stats_test.json()"
   ]
  },
  {
   "cell_type": "markdown",
   "id": "2cc99870",
   "metadata": {},
   "source": [
    "Get data for multiple videos"
   ]
  },
  {
   "cell_type": "code",
   "execution_count": null,
   "id": "25889a05",
   "metadata": {},
   "outputs": [],
   "source": [
    "# get data for multiple videos\n",
    "ids = ','.join(clean_df.videoId)\n",
    "ids"
   ]
  },
  {
   "cell_type": "code",
   "execution_count": null,
   "id": "92c1d471",
   "metadata": {},
   "outputs": [],
   "source": [
    "# Create url for the video statistics\n",
    "url_for_stats = \"https://www.googleapis.com/youtube/v3/videos?id=\"+ids+\"&part=statistics&key=\"+api_key"
   ]
  },
  {
   "cell_type": "code",
   "execution_count": null,
   "id": "c0b4c0ac",
   "metadata": {},
   "outputs": [],
   "source": [
    "# Request the data\n",
    "response_stats = requests.get(url_for_stats).json()"
   ]
  },
  {
   "cell_type": "code",
   "execution_count": null,
   "id": "28f97eab",
   "metadata": {},
   "outputs": [],
   "source": [
    "# Inspect the result\n",
    "response_stats.keys()"
   ]
  },
  {
   "cell_type": "code",
   "execution_count": null,
   "id": "75db3e27",
   "metadata": {},
   "outputs": [],
   "source": [
    "# Access the statistics\n",
    "response_stats['items'][0]['statistics']"
   ]
  },
  {
   "cell_type": "code",
   "execution_count": null,
   "id": "fa4ba835",
   "metadata": {},
   "outputs": [],
   "source": [
    "# Add to the dataframe\n",
    "clean_df['viewCount'] = [i['statistics']['viewCount'] for i in response_stats['items']]\n",
    "clean_df.head()"
   ]
  },
  {
   "cell_type": "code",
   "execution_count": null,
   "id": "f3fee01d",
   "metadata": {},
   "outputs": [],
   "source": [
    "# Add to the dataframe\n",
    "clean_df['likeCount'] = [i['statistics']['likeCount'] for i in response_stats['items']]\n",
    "clean_df.head()"
   ]
  },
  {
   "cell_type": "markdown",
   "id": "af3c8fc7",
   "metadata": {},
   "source": [
    "## Cleaning the data "
   ]
  },
  {
   "cell_type": "markdown",
   "id": "64fa73c1",
   "metadata": {},
   "source": [
    "### Reformat column names"
   ]
  },
  {
   "cell_type": "code",
   "execution_count": null,
   "id": "95be0b97",
   "metadata": {},
   "outputs": [],
   "source": [
    "# OPTION 1 .rename method\n",
    "clean_df.rename(columns = {'videoId':'video_id',\n",
    "                                'publishedAt':'published_at',\n",
    "                                'viewCount':'view_count',\n",
    "                                'likeCount':'like_count'})"
   ]
  },
  {
   "cell_type": "code",
   "execution_count": null,
   "id": "f2a17d69",
   "metadata": {},
   "outputs": [],
   "source": [
    "# does not update original (use inline=True)\n",
    "clean_df"
   ]
  },
  {
   "cell_type": "code",
   "execution_count": null,
   "id": "bae21f12",
   "metadata": {},
   "outputs": [],
   "source": [
    "# OPTION 2: more general approach that would work for many columns\n",
    "# Split column names by words\n",
    "import re\n",
    "split_by_words = [re.split('(?=[A-Z])',i) for i in clean_df.columns]\n",
    "split_by_words"
   ]
  },
  {
   "cell_type": "code",
   "execution_count": null,
   "id": "a838f17b",
   "metadata": {},
   "outputs": [],
   "source": [
    "# Insert an underscore between words\n",
    "columns_with_underscores = ['_'.join(i) for i in split_by_words]\n",
    "columns_with_underscores"
   ]
  },
  {
   "cell_type": "code",
   "execution_count": null,
   "id": "54f329a7",
   "metadata": {},
   "outputs": [],
   "source": [
    "# Reassign column names\n",
    "clean_df.columns = columns_with_underscores"
   ]
  },
  {
   "cell_type": "code",
   "execution_count": null,
   "id": "1cf95c6f",
   "metadata": {},
   "outputs": [],
   "source": [
    "# Make everything lowercase\n",
    "clean_df.columns = clean_df.columns.str.lower()\n",
    "clean_df.head()"
   ]
  },
  {
   "cell_type": "markdown",
   "id": "6d215253",
   "metadata": {},
   "source": [
    "### Convert datatypes"
   ]
  },
  {
   "cell_type": "code",
   "execution_count": null,
   "id": "1af9c825",
   "metadata": {},
   "outputs": [],
   "source": [
    "# Suppose we wanted to look at the relationship between view counts and like counts\n",
    "import matplotlib.pyplot as plt\n",
    "import seaborn as sns\n",
    "sns.set_style('darkgrid')\n",
    "sns.scatterplot(data = clean_df, x='view_count',y='like_count')\n",
    "plt.show()"
   ]
  },
  {
   "cell_type": "code",
   "execution_count": null,
   "id": "91c46319",
   "metadata": {
    "scrolled": true
   },
   "outputs": [],
   "source": [
    "# Something is funky. Check the data types\n",
    "clean_df.dtypes"
   ]
  },
  {
   "cell_type": "code",
   "execution_count": null,
   "id": "c4dd2e51",
   "metadata": {},
   "outputs": [],
   "source": [
    "# convert the data types\n",
    "clean_df = clean_df.assign(view_count = clean_df.view_count.astype(int),\n",
    "                like_count = clean_df.like_count.astype(int))"
   ]
  },
  {
   "cell_type": "code",
   "execution_count": null,
   "id": "17867ec2",
   "metadata": {},
   "outputs": [],
   "source": [
    "# check data types again\n",
    "clean_df.dtypes"
   ]
  },
  {
   "cell_type": "code",
   "execution_count": null,
   "id": "42a16c5c",
   "metadata": {},
   "outputs": [],
   "source": [
    "# plot again\n",
    "sns.scatterplot(data = clean_df, x='view_count',y='like_count')\n",
    "plt.show()"
   ]
  },
  {
   "cell_type": "code",
   "execution_count": null,
   "id": "0c58b328",
   "metadata": {},
   "outputs": [],
   "source": [
    "# What if we wanted to plot trend in view counts?\n",
    "sns.lineplot(data = clean_df, x='published_at',y='view_count')\n",
    "plt.show()"
   ]
  },
  {
   "cell_type": "code",
   "execution_count": null,
   "id": "d3d4882a",
   "metadata": {},
   "outputs": [],
   "source": [
    "# change dates to datetime data\n",
    "clean_df = clean_df.assign(date = pd.to_datetime(clean_df.published_at))\n",
    "clean_df.head()"
   ]
  },
  {
   "cell_type": "code",
   "execution_count": null,
   "id": "e1b4c288",
   "metadata": {},
   "outputs": [],
   "source": [
    "# Check dtypes again\n",
    "clean_df.dtypes"
   ]
  },
  {
   "cell_type": "code",
   "execution_count": null,
   "id": "9c837ebf",
   "metadata": {},
   "outputs": [],
   "source": [
    "# plot again\n",
    "sns.lineplot(data = clean_df, x='date',y='view_count')\n",
    "plt.show()"
   ]
  },
  {
   "cell_type": "markdown",
   "id": "c6aac8a6",
   "metadata": {},
   "source": [
    "### Reset the index"
   ]
  },
  {
   "cell_type": "code",
   "execution_count": null,
   "id": "409775d8",
   "metadata": {},
   "outputs": [],
   "source": [
    "# Reset the index for easy access by video id\n",
    "clean_df.set_index('video_id',inplace=True)\n",
    "clean_df.head()"
   ]
  },
  {
   "cell_type": "code",
   "execution_count": null,
   "id": "e1054bcc",
   "metadata": {},
   "outputs": [],
   "source": [
    "# index by video id\n",
    "clean_df.loc[video_id]"
   ]
  },
  {
   "cell_type": "code",
   "execution_count": null,
   "id": "b6143cd1",
   "metadata": {},
   "outputs": [],
   "source": [
    "clean_df.loc[clean_df.view_count.idxmax()]"
   ]
  },
  {
   "cell_type": "markdown",
   "id": "288b9893",
   "metadata": {},
   "source": [
    "## Activity"
   ]
  },
  {
   "cell_type": "markdown",
   "id": "8d1c82cf",
   "metadata": {},
   "source": [
    "**Activity 1:** With a partner, choose a Youtube channel of your choice, and use the `requests` module to fetch basic video data from the YouTube API (e.g. videoId, publishedAt, title)."
   ]
  },
  {
   "cell_type": "code",
   "execution_count": null,
   "id": "78b00544",
   "metadata": {},
   "outputs": [],
   "source": []
  },
  {
   "cell_type": "markdown",
   "id": "890bf896",
   "metadata": {},
   "source": [
    "**Activity 2:** Put the response object in a Pandas DataFrame and use it to create two new columns `date` and `time` to show the date the video was published, and the time the video was published. "
   ]
  },
  {
   "cell_type": "code",
   "execution_count": null,
   "id": "d27535f2",
   "metadata": {},
   "outputs": [],
   "source": []
  }
 ],
 "metadata": {
  "kernelspec": {
   "display_name": "Python 3 (ipykernel)",
   "language": "python",
   "name": "python3"
  },
  "language_info": {
   "codemirror_mode": {
    "name": "ipython",
    "version": 3
   },
   "file_extension": ".py",
   "mimetype": "text/x-python",
   "name": "python",
   "nbconvert_exporter": "python",
   "pygments_lexer": "ipython3",
   "version": "3.11.4"
  }
 },
 "nbformat": 4,
 "nbformat_minor": 5
}
