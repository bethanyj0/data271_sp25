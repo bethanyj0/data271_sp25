{
 "cells": [
  {
   "cell_type": "markdown",
   "id": "bd035d4a",
   "metadata": {},
   "source": [
    "# Cleaning Data\n",
    "If you want to type along with me, use [this notebook](https://humboldt.cloudbank.2i2c.cloud/hub/user-redirect/git-pull?repo=https%3A%2F%2Fgithub.com%2Fbethanyj0%2Fdata271_sp24&branch=main&urlpath=tree%2Fdata271_sp24%2Fdemos%2Fdata271_demo28_live.ipynb) instead. \n",
    "If you don't want to type and want to follow along just by executing the cells, stay in this notebook. "
   ]
  },
  {
   "cell_type": "code",
   "execution_count": null,
   "id": "26e99e3b",
   "metadata": {},
   "outputs": [],
   "source": [
    "import numpy as np\n",
    "import pandas as pd"
   ]
  },
  {
   "cell_type": "code",
   "execution_count": null,
   "id": "17cd3549",
   "metadata": {},
   "outputs": [],
   "source": [
    "# import the data from last time\n",
    "df = pd.read_csv('youtube_humboldt.csv')\n",
    "df = df.iloc[:,1:]\n",
    "df.head()"
   ]
  },
  {
   "cell_type": "markdown",
   "id": "af3c8fc7",
   "metadata": {},
   "source": [
    "## Cleaning the data "
   ]
  },
  {
   "cell_type": "markdown",
   "id": "64fa73c1",
   "metadata": {},
   "source": [
    "### Reformat column names"
   ]
  },
  {
   "cell_type": "code",
   "execution_count": null,
   "id": "95be0b97",
   "metadata": {},
   "outputs": [],
   "source": [
    "# OPTION 1 .rename method\n",
    "df.rename(columns = {'videoId':'video_id',\n",
    "                                'publishedAt':'published_at',\n",
    "                                'viewCount':'view_count',\n",
    "                                'likeCount':'like_count'})"
   ]
  },
  {
   "cell_type": "code",
   "execution_count": null,
   "id": "f2a17d69",
   "metadata": {},
   "outputs": [],
   "source": [
    "# does not update original (use inline=True)\n",
    "df"
   ]
  },
  {
   "cell_type": "code",
   "execution_count": null,
   "id": "bae21f12",
   "metadata": {},
   "outputs": [],
   "source": [
    "# OPTION 2: more general approach that would work for many columns\n",
    "# Split column names by words\n",
    "import re\n",
    "split_by_words = [re.split('(?=[A-Z])',i) for i in df.columns]\n",
    "split_by_words"
   ]
  },
  {
   "cell_type": "code",
   "execution_count": null,
   "id": "a838f17b",
   "metadata": {},
   "outputs": [],
   "source": [
    "# Insert an underscore between words\n",
    "columns_with_underscores = ['_'.join(i) for i in split_by_words]\n",
    "columns_with_underscores"
   ]
  },
  {
   "cell_type": "code",
   "execution_count": null,
   "id": "54f329a7",
   "metadata": {},
   "outputs": [],
   "source": [
    "# Reassign column names\n",
    "df.columns = columns_with_underscores"
   ]
  },
  {
   "cell_type": "code",
   "execution_count": null,
   "id": "1cf95c6f",
   "metadata": {},
   "outputs": [],
   "source": [
    "# Make everything lowercase\n",
    "df.columns = df.columns.str.lower()\n",
    "df.head()"
   ]
  },
  {
   "cell_type": "markdown",
   "id": "6d215253",
   "metadata": {},
   "source": [
    "### Convert datatypes"
   ]
  },
  {
   "cell_type": "code",
   "execution_count": null,
   "id": "1af9c825",
   "metadata": {},
   "outputs": [],
   "source": [
    "# Suppose we wanted to look at the relationship between view counts and like counts\n",
    "import matplotlib.pyplot as plt\n",
    "import seaborn as sns\n",
    "sns.set_style('darkgrid')\n",
    "sns.scatterplot(data = df, x='view_count',y='like_count')\n",
    "plt.show()"
   ]
  },
  {
   "cell_type": "code",
   "execution_count": null,
   "id": "91c46319",
   "metadata": {
    "scrolled": true
   },
   "outputs": [],
   "source": [
    "# Something is funky. Check the data types\n",
    "df.dtypes"
   ]
  },
  {
   "cell_type": "code",
   "execution_count": null,
   "id": "c4dd2e51",
   "metadata": {},
   "outputs": [],
   "source": [
    "# convert the data types\n",
    "df = df.assign(view_count = df.view_count.astype(int),\n",
    "                like_count = df.like_count.astype(int))"
   ]
  },
  {
   "cell_type": "code",
   "execution_count": null,
   "id": "17867ec2",
   "metadata": {},
   "outputs": [],
   "source": [
    "# check data types again\n",
    "df.dtypes"
   ]
  },
  {
   "cell_type": "code",
   "execution_count": null,
   "id": "42a16c5c",
   "metadata": {},
   "outputs": [],
   "source": [
    "# plot again\n",
    "sns.scatterplot(data = df, x='view_count',y='like_count')\n",
    "plt.show()"
   ]
  },
  {
   "cell_type": "code",
   "execution_count": null,
   "id": "0c58b328",
   "metadata": {},
   "outputs": [],
   "source": [
    "# What if we wanted to plot trend in view counts?\n",
    "sns.lineplot(data = df, x='published_at',y='view_count')\n",
    "plt.show()"
   ]
  },
  {
   "cell_type": "code",
   "execution_count": null,
   "id": "d3d4882a",
   "metadata": {},
   "outputs": [],
   "source": [
    "# change dates to datetime data\n",
    "df = df.assign(date = pd.to_datetime(df.published_at))\n",
    "df.head()"
   ]
  },
  {
   "cell_type": "code",
   "execution_count": null,
   "id": "e1b4c288",
   "metadata": {},
   "outputs": [],
   "source": [
    "# Check dtypes again\n",
    "df.dtypes"
   ]
  },
  {
   "cell_type": "code",
   "execution_count": null,
   "id": "9c837ebf",
   "metadata": {},
   "outputs": [],
   "source": [
    "# plot again\n",
    "sns.lineplot(data = df, x='date',y='view_count')\n",
    "plt.show()"
   ]
  },
  {
   "cell_type": "markdown",
   "id": "3f2b7db4",
   "metadata": {},
   "source": [
    "#### More on working with dates"
   ]
  },
  {
   "cell_type": "code",
   "execution_count": null,
   "id": "dfede1e1",
   "metadata": {},
   "outputs": [],
   "source": [
    "date1 = 'March 29, 2024'\n",
    "pd.to_datetime(date1, format = '%B %d, %Y')"
   ]
  },
  {
   "cell_type": "code",
   "execution_count": null,
   "id": "03654fc4",
   "metadata": {},
   "outputs": [],
   "source": [
    "date2 = 'Mar 29, 2024'\n",
    "pd.to_datetime(date2, format = '%b %d, %Y')"
   ]
  },
  {
   "cell_type": "code",
   "execution_count": null,
   "id": "657a95e6",
   "metadata": {},
   "outputs": [],
   "source": [
    "date3 = '3/29/10'\n",
    "pd.to_datetime(date3, format = '%m/%d/%y')"
   ]
  },
  {
   "cell_type": "code",
   "execution_count": null,
   "id": "9cac84ce",
   "metadata": {},
   "outputs": [],
   "source": [
    "date4 = '29-03-10'\n",
    "pd.to_datetime(date4, format = '%d-%m-%y')"
   ]
  },
  {
   "cell_type": "markdown",
   "id": "c6aac8a6",
   "metadata": {},
   "source": [
    "### Reset the index"
   ]
  },
  {
   "cell_type": "code",
   "execution_count": null,
   "id": "409775d8",
   "metadata": {},
   "outputs": [],
   "source": [
    "# Reset the index for easy access by video id\n",
    "df.set_index('video_id',inplace=True)\n",
    "df.head()"
   ]
  },
  {
   "cell_type": "code",
   "execution_count": null,
   "id": "e1054bcc",
   "metadata": {},
   "outputs": [],
   "source": [
    "# index by video id\n",
    "video_id = \"GpOplrOC7X0\"\n",
    "df.loc[video_id]"
   ]
  },
  {
   "cell_type": "code",
   "execution_count": null,
   "id": "b6143cd1",
   "metadata": {},
   "outputs": [],
   "source": [
    "df.loc[df.view_count.idxmax()]"
   ]
  },
  {
   "cell_type": "markdown",
   "id": "65648f4f",
   "metadata": {},
   "source": [
    "### Reorder the data"
   ]
  },
  {
   "cell_type": "code",
   "execution_count": null,
   "id": "9d6fe8fe",
   "metadata": {},
   "outputs": [],
   "source": [
    "# reorder rows\n",
    "df.sort_index(axis=0)"
   ]
  },
  {
   "cell_type": "code",
   "execution_count": null,
   "id": "1dc52a38",
   "metadata": {},
   "outputs": [],
   "source": [
    "# doesn't update original\n",
    "df"
   ]
  },
  {
   "cell_type": "code",
   "execution_count": null,
   "id": "0e03793b",
   "metadata": {},
   "outputs": [],
   "source": [
    "# reorder columns\n",
    "df.sort_index(axis=1)"
   ]
  },
  {
   "cell_type": "code",
   "execution_count": null,
   "id": "a607035e",
   "metadata": {},
   "outputs": [],
   "source": [
    "# reorder columns manually\n",
    "df[['view_count','like_count','date','published_at','title']]"
   ]
  },
  {
   "cell_type": "code",
   "execution_count": null,
   "id": "32b78877",
   "metadata": {},
   "outputs": [],
   "source": [
    "# sort the data \n",
    "df.sort_values(by='view_count')"
   ]
  },
  {
   "cell_type": "code",
   "execution_count": null,
   "id": "1a057b18",
   "metadata": {},
   "outputs": [],
   "source": [
    "# doesn't update original\n",
    "df"
   ]
  },
  {
   "cell_type": "code",
   "execution_count": null,
   "id": "3a27eeff",
   "metadata": {},
   "outputs": [],
   "source": [
    "# do it inplace\n",
    "df.sort_values(by = 'view_count',ascending=False, inplace=True)"
   ]
  },
  {
   "cell_type": "code",
   "execution_count": null,
   "id": "3eb036e4",
   "metadata": {},
   "outputs": [],
   "source": [
    "df"
   ]
  },
  {
   "cell_type": "code",
   "execution_count": null,
   "id": "9ce33edc",
   "metadata": {},
   "outputs": [],
   "source": [
    "# sort by multiple values at once\n",
    "df.sort_values(by = ['view_count','like_count'],ascending=[False,True], inplace=True)\n",
    "df"
   ]
  },
  {
   "cell_type": "markdown",
   "id": "cd2645b9",
   "metadata": {},
   "source": [
    "### Reshaping data"
   ]
  },
  {
   "cell_type": "code",
   "execution_count": null,
   "id": "4ad91bd0",
   "metadata": {},
   "outputs": [],
   "source": [
    "df_weather_wide = pd.read_csv('sample_weather.csv')\n",
    "df_weather_wide = df_weather_wide.iloc[:,1:]\n",
    "df_weather_wide"
   ]
  },
  {
   "cell_type": "code",
   "execution_count": null,
   "id": "16883a75",
   "metadata": {},
   "outputs": [],
   "source": [
    "# transpose the data\n",
    "df_weather_wide.T"
   ]
  },
  {
   "cell_type": "code",
   "execution_count": null,
   "id": "b5bca58a",
   "metadata": {},
   "outputs": [],
   "source": [
    "# transpose with more informative columns\n",
    "df_weather_wide.set_index('date').T"
   ]
  },
  {
   "cell_type": "code",
   "execution_count": null,
   "id": "84ddf353",
   "metadata": {
    "scrolled": true
   },
   "outputs": [],
   "source": [
    "# change wide format data into long format\n",
    "long_df = df_weather_wide.melt(id_vars = 'date',value_vars = ['max_temp','min_temp','inches_of_rain'])\n",
    "long_df"
   ]
  },
  {
   "cell_type": "code",
   "execution_count": null,
   "id": "0653f0ef",
   "metadata": {},
   "outputs": [],
   "source": [
    "# change long format back into wide format\n",
    "long_df.pivot(index = 'date',columns = 'variable',values='value')"
   ]
  },
  {
   "cell_type": "markdown",
   "id": "9a7bbf13",
   "metadata": {},
   "source": [
    "### What do when there are multiple values in categories "
   ]
  },
  {
   "cell_type": "code",
   "execution_count": null,
   "id": "d194e8e4",
   "metadata": {},
   "outputs": [],
   "source": [
    "long_df = pd.read_csv('long_data.csv')\n",
    "long_df = long_df.iloc[:,1:]\n",
    "long_df.head()"
   ]
  },
  {
   "cell_type": "code",
   "execution_count": null,
   "id": "0f60a215",
   "metadata": {
    "scrolled": true
   },
   "outputs": [],
   "source": [
    "# Pivot the data to get average sales by date and category\n",
    "long_df.pivot_table(index=['date'], columns='category', values=['sales'])"
   ]
  },
  {
   "cell_type": "code",
   "execution_count": null,
   "id": "de30781e",
   "metadata": {},
   "outputs": [],
   "source": [
    "# Pivot the data to get TOTAL sales by date and category\n",
    "wide_df = long_df.pivot_table(index=['date'], columns='category', values=['sales'], aggfunc=sum)\n",
    "wide_df"
   ]
  },
  {
   "cell_type": "code",
   "execution_count": null,
   "id": "0da0f20f",
   "metadata": {},
   "outputs": [],
   "source": [
    "# Pivot the data to get TOTAL sales by date, product, and category\n",
    "long_df.pivot_table(index='date', columns=['category','product'], values=['sales'], aggfunc=sum)"
   ]
  },
  {
   "cell_type": "code",
   "execution_count": null,
   "id": "7e2cbe2d",
   "metadata": {},
   "outputs": [],
   "source": [
    "# Go from wide to long\n",
    "wide_df.reset_index().melt(id_vars='date', var_name=['type','category'])"
   ]
  },
  {
   "cell_type": "markdown",
   "id": "288b9893",
   "metadata": {},
   "source": [
    "## Activity"
   ]
  },
  {
   "cell_type": "code",
   "execution_count": null,
   "id": "574ebd80",
   "metadata": {},
   "outputs": [],
   "source": [
    "\n",
    "# Create a DataFrame with data cleaning and reshaping opportunities\n",
    "data = {\n",
    "    'Pet Name': ['Fluffy', 'Whiskers', 'Bubbles', 'Spike', 'Coco', 'Maybelle', 'Snowball'],\n",
    "    'Date Adopted': ['10-01-2023','03-04-2024','01-10-2024','02-14-2024','11-22-2023','01-04-2024','12-25-2025'],\n",
    "    'Animal Type': ['Cat', 'Cat', 'Fish', 'Dog', 'Fish', 'Dog', 'Cat'],\n",
    "    'Pet Age': ['3', '2', '13', '5', '4', '3', '2'],\n",
    "    'Color': ['White', 'Gray', 'Orange', 'White', 'White', 'Black', 'Black'],\n",
    "    'Happiness Level': ['High', 'Medium', 'High', 'Low', 'High', 'High', 'Medium']\n",
    "}\n",
    "df_pets = pd.DataFrame(data)\n",
    "df_pets"
   ]
  },
  {
   "cell_type": "markdown",
   "id": "8d1c82cf",
   "metadata": {},
   "source": [
    "**Activity 1:** Rename the columns of the pets dataframe to be in a better format."
   ]
  },
  {
   "cell_type": "code",
   "execution_count": null,
   "id": "78b00544",
   "metadata": {},
   "outputs": [],
   "source": []
  },
  {
   "cell_type": "markdown",
   "id": "890bf896",
   "metadata": {},
   "source": [
    "**Activity 2:** Change any datatypes that should be adjusted.  "
   ]
  },
  {
   "cell_type": "code",
   "execution_count": null,
   "id": "d27535f2",
   "metadata": {},
   "outputs": [],
   "source": []
  },
  {
   "cell_type": "markdown",
   "id": "221b9aaa",
   "metadata": {},
   "source": [
    "**Activity 3:** Practice pivoting the dataframe."
   ]
  },
  {
   "cell_type": "code",
   "execution_count": null,
   "id": "9e8fa2b2",
   "metadata": {},
   "outputs": [],
   "source": []
  }
 ],
 "metadata": {
  "kernelspec": {
   "display_name": "Python 3 (ipykernel)",
   "language": "python",
   "name": "python3"
  },
  "language_info": {
   "codemirror_mode": {
    "name": "ipython",
    "version": 3
   },
   "file_extension": ".py",
   "mimetype": "text/x-python",
   "name": "python",
   "nbconvert_exporter": "python",
   "pygments_lexer": "ipython3",
   "version": "3.11.4"
  }
 },
 "nbformat": 4,
 "nbformat_minor": 5
}
