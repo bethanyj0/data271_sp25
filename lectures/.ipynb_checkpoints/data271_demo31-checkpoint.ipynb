{
 "cells": [
  {
   "cell_type": "markdown",
   "id": "bd035d4a",
   "metadata": {},
   "source": [
    "# Web Scraping\n",
    "If you want to type along with me, use [this notebook](https://humboldt.cloudbank.2i2c.cloud/hub/user-redirect/git-pull?repo=https%3A%2F%2Fgithub.com%2Fbethanyj0%2Fdata271_sp24&branch=main&urlpath=tree%2Fdata271_sp24%2Fdemos%2Fdata271_demo31_live.ipynb) instead. \n",
    "If you don't want to type and want to follow along just by executing the cells, stay in this notebook. "
   ]
  },
  {
   "cell_type": "code",
   "execution_count": 1,
   "id": "26e99e3b",
   "metadata": {},
   "outputs": [],
   "source": [
    "import numpy as np\n",
    "import pandas as pd"
   ]
  },
  {
   "cell_type": "markdown",
   "id": "eb858da6",
   "metadata": {},
   "source": [
    "## Scraping a very basic webpage"
   ]
  },
  {
   "cell_type": "code",
   "execution_count": 2,
   "id": "bc21531e",
   "metadata": {},
   "outputs": [],
   "source": [
    "# Whenever you want to scrape a website without an API\n",
    "import requests\n",
    "from bs4 import BeautifulSoup"
   ]
  },
  {
   "cell_type": "markdown",
   "id": "567e721e",
   "metadata": {},
   "source": [
    "BeautifulSoup documentation [here](https://www.crummy.com/software/BeautifulSoup/bs4/doc/).\n",
    "\n",
    "\n",
    "Let's look [this](https://bethanyj0.github.io/) very simple webpage."
   ]
  },
  {
   "cell_type": "code",
   "execution_count": 7,
   "id": "1c46f125",
   "metadata": {},
   "outputs": [],
   "source": [
    "# Get the content of a website\n",
    "site = requests.get('https://bethanyj0.github.io/')"
   ]
  },
  {
   "cell_type": "code",
   "execution_count": null,
   "id": "676027cf",
   "metadata": {},
   "outputs": [],
   "source": [
    "# What did we just get?\n",
    "type(site)"
   ]
  },
  {
   "cell_type": "code",
   "execution_count": null,
   "id": "38fd11cf",
   "metadata": {},
   "outputs": [],
   "source": [
    "# Check the status\n",
    "site.status_code"
   ]
  },
  {
   "cell_type": "code",
   "execution_count": 4,
   "id": "59fe513a",
   "metadata": {},
   "outputs": [
    {
     "data": {
      "text/plain": [
       "'<html>\\n\\n<head>\\n<title>A very webpage</title>\\n</head>\\n\\n<h1>This is an \"h1\" level header.</h1>\\n\\n<h2>This is a level h2 header.</h2>\\n\\n<h5>I can skip to a level h5 header!</h5>\\n\\n<p>This is a paragraph.</p>\\n\\n<p>Now <i>this</i> is a <b>cool</b> website!</p>\\n\\n<p>Here is a <a href=https://math.humboldt.edu/programs/data-science>link</a>.</p>\\n\\n<h2>Let\\'s make a list (ordered)!</h2>\\n<ol>\\n  <li>Do\\n  <li>Re\\n  <li>Mi\\n  <li>Fa\\n  <li>So\\n</ol>\\n\\n<h2>Let\\'s make a list (unordered)!</h2>\\n<ul>\\n  <li>La\\n  <li>Ti\\n  <li>Do\\n</ul>\\n\\n<h2>Nested Lists!</h2>\\n<ul>\\n  <li>Do:\\n    <ol>\\n      <li>A deer\\n      <li>A female deer\\n    </ol>\\n  <li>Re:\\n    <ol>\\n      <li>A drop\\n      <li>Of golden sun\\n    </ol>\\n</ul>\\n\\n</body>\\n\\n</html>\\n'"
      ]
     },
     "execution_count": 4,
     "metadata": {},
     "output_type": "execute_result"
    }
   ],
   "source": [
    "# inspect the contents\n",
    "site.text\n",
    "# messy!"
   ]
  },
  {
   "cell_type": "code",
   "execution_count": 8,
   "id": "1e5337e6",
   "metadata": {},
   "outputs": [
    {
     "name": "stderr",
     "output_type": "stream",
     "text": [
      "/Users/bj117/anaconda3/lib/python3.11/site-packages/bs4/__init__.py:228: UserWarning: You provided Unicode markup but also provided a value for from_encoding. Your from_encoding will be ignored.\n",
      "  warnings.warn(\"You provided Unicode markup but also provided a value for from_encoding. Your from_encoding will be ignored.\")\n"
     ]
    }
   ],
   "source": [
    "# Let's beautify this and make it easier to parse\n",
    "soup = BeautifulSoup(site.text)"
   ]
  },
  {
   "cell_type": "code",
   "execution_count": null,
   "id": "06edd6f6",
   "metadata": {},
   "outputs": [],
   "source": [
    "# What does our soup look like?\n",
    "soup"
   ]
  },
  {
   "cell_type": "code",
   "execution_count": null,
   "id": "b89758e9",
   "metadata": {},
   "outputs": [],
   "source": [
    "# Make it even prettier\n",
    "print(soup.prettify())"
   ]
  },
  {
   "cell_type": "markdown",
   "id": "958701d5",
   "metadata": {},
   "source": [
    "### Parse the html"
   ]
  },
  {
   "cell_type": "code",
   "execution_count": null,
   "id": "a179176a",
   "metadata": {},
   "outputs": [],
   "source": [
    "# Find a level 1 header\n",
    "soup.find('h1')"
   ]
  },
  {
   "cell_type": "code",
   "execution_count": null,
   "id": "64836c99",
   "metadata": {},
   "outputs": [],
   "source": [
    "# Find a level 2 header\n",
    "soup.find('h2')"
   ]
  },
  {
   "cell_type": "code",
   "execution_count": null,
   "id": "54b53b02",
   "metadata": {},
   "outputs": [],
   "source": [
    "# Find all the level 2 headers\n",
    "soup.find_all('h2')"
   ]
  },
  {
   "cell_type": "code",
   "execution_count": null,
   "id": "6f1c3e8e",
   "metadata": {},
   "outputs": [],
   "source": [
    "# Find all the level 3 headers\n",
    "soup.find_all('h3')\n",
    "# There were none."
   ]
  },
  {
   "cell_type": "code",
   "execution_count": null,
   "id": "87ca511c",
   "metadata": {},
   "outputs": [],
   "source": [
    "# Find all the paragraphs\n",
    "soup.find_all('p')"
   ]
  },
  {
   "cell_type": "code",
   "execution_count": null,
   "id": "5a56f4ff",
   "metadata": {},
   "outputs": [],
   "source": [
    "# Find all the hyperlinks\n",
    "soup.find_all('a')"
   ]
  },
  {
   "cell_type": "code",
   "execution_count": null,
   "id": "a2fe9a66",
   "metadata": {},
   "outputs": [],
   "source": [
    "# Get the links\n",
    "soup.find('a')['href']"
   ]
  },
  {
   "cell_type": "code",
   "execution_count": null,
   "id": "31f87a52",
   "metadata": {},
   "outputs": [],
   "source": [
    "# Get the text for the hyperlink\n",
    "soup.find('a').text"
   ]
  },
  {
   "cell_type": "code",
   "execution_count": null,
   "id": "8a019b34",
   "metadata": {},
   "outputs": [],
   "source": [
    "# Get all the list items\n",
    "soup.find_all('li')"
   ]
  },
  {
   "cell_type": "code",
   "execution_count": null,
   "id": "7d76827e",
   "metadata": {},
   "outputs": [],
   "source": [
    "# Specifically get the ordered lists\n",
    "soup.find_all('ol')"
   ]
  },
  {
   "cell_type": "code",
   "execution_count": null,
   "id": "e9b5d164",
   "metadata": {},
   "outputs": [],
   "source": [
    "# Specifically get the unordered lists\n",
    "soup.find_all('ul')"
   ]
  },
  {
   "cell_type": "markdown",
   "id": "98543c13",
   "metadata": {},
   "source": [
    "## Another example"
   ]
  },
  {
   "cell_type": "markdown",
   "id": "ce208e0c",
   "metadata": {},
   "source": [
    "Let's check out [this](https://irar.humboldt.edu/node/552) Cal Poly Humboldt website."
   ]
  },
  {
   "cell_type": "code",
   "execution_count": null,
   "id": "3d5db93e",
   "metadata": {},
   "outputs": [],
   "source": [
    "# Get the data\n",
    "cph_stats = requests.get('https://irar.humboldt.edu/node/552')\n",
    "cph_stats.status_code"
   ]
  },
  {
   "cell_type": "code",
   "execution_count": null,
   "id": "40239f56",
   "metadata": {},
   "outputs": [],
   "source": [
    "# Beautify the data\n",
    "cph_soup = BeautifulSoup(cph_stats.text, 'html.parser')"
   ]
  },
  {
   "cell_type": "code",
   "execution_count": null,
   "id": "acb522ef",
   "metadata": {},
   "outputs": [],
   "source": [
    "# Pretty!\n",
    "print(cph_soup.prettify())"
   ]
  },
  {
   "cell_type": "code",
   "execution_count": null,
   "id": "76739b93",
   "metadata": {},
   "outputs": [],
   "source": [
    "# check for specific tags\n",
    "cph_soup.find_all('a')"
   ]
  },
  {
   "cell_type": "code",
   "execution_count": null,
   "id": "eb14eac1",
   "metadata": {},
   "outputs": [],
   "source": [
    "# refine the search with css selectors\n",
    "cph_soup.find_all('a', class_ = \"expanded\")"
   ]
  },
  {
   "cell_type": "code",
   "execution_count": null,
   "id": "dca7bc28",
   "metadata": {},
   "outputs": [],
   "source": [
    "# A shorthand way of searching that\n",
    "cph_soup.select('a.expanded')"
   ]
  },
  {
   "cell_type": "code",
   "execution_count": null,
   "id": "bdc0a883",
   "metadata": {},
   "outputs": [],
   "source": [
    "# How many tables are there?\n",
    "len(cph_soup.find_all('table'))"
   ]
  },
  {
   "cell_type": "code",
   "execution_count": null,
   "id": "5af9a283",
   "metadata": {},
   "outputs": [],
   "source": [
    "# Tables are labeled with h3 headers\n",
    "cph_soup.find_all('h3')"
   ]
  },
  {
   "cell_type": "code",
   "execution_count": null,
   "id": "3ee2e740",
   "metadata": {},
   "outputs": [],
   "source": [
    "# Let's just focus on one of the tables\n",
    "student_ethnicity_table = cph_soup.find_all('table')[3]"
   ]
  },
  {
   "cell_type": "code",
   "execution_count": null,
   "id": "3c1479c1",
   "metadata": {},
   "outputs": [],
   "source": [
    "# Look at the rows\n",
    "student_ethnicity_table.find_all('tr')"
   ]
  },
  {
   "cell_type": "code",
   "execution_count": null,
   "id": "95d5e97f",
   "metadata": {},
   "outputs": [],
   "source": [
    "# Look at a single row\n",
    "student_ethnicity_table.find_all('tr')[0]"
   ]
  },
  {
   "cell_type": "code",
   "execution_count": null,
   "id": "cf4eaef6",
   "metadata": {},
   "outputs": [],
   "source": [
    "# Look at all the data points in that row\n",
    "student_ethnicity_table.find_all('tr')[0].find_all('td')"
   ]
  },
  {
   "cell_type": "code",
   "execution_count": null,
   "id": "cf87f632",
   "metadata": {},
   "outputs": [],
   "source": [
    "# Look at one specific data point\n",
    "student_ethnicity_table.find_all('tr')[0].find_all('td')[1]"
   ]
  },
  {
   "cell_type": "code",
   "execution_count": null,
   "id": "f97dc351",
   "metadata": {},
   "outputs": [],
   "source": [
    "# Get the text of that data point \n",
    "student_ethnicity_table.find_all('tr')[0].find_all('td')[1].text"
   ]
  },
  {
   "cell_type": "markdown",
   "id": "81969601",
   "metadata": {},
   "source": [
    "### Create a Pandas DataFrame"
   ]
  },
  {
   "cell_type": "code",
   "execution_count": null,
   "id": "0bcc29b4",
   "metadata": {},
   "outputs": [],
   "source": [
    "# Create a nested list with the data\n",
    "table_vals = []\n",
    "\n",
    "for i in student_ethnicity_table.find_all('tr'):\n",
    "    row_i = []\n",
    "    for j in i.find_all('td'):\n",
    "        row_i.append(j.text)\n",
    "    table_vals.append(row_i)"
   ]
  },
  {
   "cell_type": "code",
   "execution_count": null,
   "id": "463256a0",
   "metadata": {},
   "outputs": [],
   "source": [
    "# Check out the result\n",
    "table_vals"
   ]
  },
  {
   "cell_type": "code",
   "execution_count": null,
   "id": "37c5dfc7",
   "metadata": {},
   "outputs": [],
   "source": [
    "# Make it a dataframe\n",
    "df = pd.DataFrame(table_vals)\n",
    "df"
   ]
  },
  {
   "cell_type": "code",
   "execution_count": null,
   "id": "0648bcca",
   "metadata": {},
   "outputs": [],
   "source": [
    "# Clean it up (reset column labels)\n",
    "df.columns = df.iloc[0]\n",
    "df.drop(0,inplace=True)\n",
    "df"
   ]
  },
  {
   "cell_type": "code",
   "execution_count": null,
   "id": "8137480c",
   "metadata": {},
   "outputs": [],
   "source": [
    "# Clean it up (reset row labels)\n",
    "df.set_index('',inplace=True)"
   ]
  },
  {
   "cell_type": "code",
   "execution_count": null,
   "id": "48ec8ad5",
   "metadata": {},
   "outputs": [],
   "source": [
    "df"
   ]
  },
  {
   "cell_type": "code",
   "execution_count": null,
   "id": "e75489b2",
   "metadata": {},
   "outputs": [],
   "source": [
    "# Would require further cleanup\n",
    "df.dtypes"
   ]
  },
  {
   "cell_type": "markdown",
   "id": "d392d536",
   "metadata": {},
   "source": [
    "## Activity"
   ]
  },
  {
   "cell_type": "markdown",
   "id": "18632132",
   "metadata": {},
   "source": [
    "1. From the same webpage we scraped last (Cal Poly Humboldt IRAR), put the data in the Fall 2023 Geographic Origin of Current Students. Table into a Pandas DataFrame."
   ]
  },
  {
   "cell_type": "code",
   "execution_count": null,
   "id": "51b39173",
   "metadata": {},
   "outputs": [],
   "source": []
  }
 ],
 "metadata": {
  "kernelspec": {
   "display_name": "Python 3 (ipykernel)",
   "language": "python",
   "name": "python3"
  },
  "language_info": {
   "codemirror_mode": {
    "name": "ipython",
    "version": 3
   },
   "file_extension": ".py",
   "mimetype": "text/x-python",
   "name": "python",
   "nbconvert_exporter": "python",
   "pygments_lexer": "ipython3",
   "version": "3.11.4"
  }
 },
 "nbformat": 4,
 "nbformat_minor": 5
}
