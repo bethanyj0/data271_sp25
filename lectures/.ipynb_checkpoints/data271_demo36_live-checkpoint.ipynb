{
 "cells": [
  {
   "cell_type": "markdown",
   "id": "bd035d4a",
   "metadata": {},
   "source": [
    "# How to Handle Missing Data (continued)\n",
    "If you want to type along with me, use [this notebook](https://humboldt.cloudbank.2i2c.cloud/hub/user-redirect/git-pull?repo=https%3A%2F%2Fgithub.com%2Fbethanyj0%2Fdata271_sp24&branch=main&urlpath=tree%2Fdata271_sp24%2Fdemos%2Fdata271_demo36_live.ipynb) instead. \n",
    "If you don't want to type and want to follow along just by executing the cells, stay in this notebook. "
   ]
  },
  {
   "cell_type": "code",
   "execution_count": null,
   "id": "26e99e3b",
   "metadata": {},
   "outputs": [],
   "source": [
    "import numpy as np\n",
    "import pandas as pd\n",
    "import warnings\n",
    "warnings.filterwarnings(\"ignore\")\n",
    "import matplotlib.pyplot as plt\n",
    "import seaborn as sns"
   ]
  },
  {
   "cell_type": "code",
   "execution_count": null,
   "id": "d87e3063",
   "metadata": {
    "scrolled": false
   },
   "outputs": [],
   "source": [
    "# Import a dataset about diabetes\n",
    "df = pd.read_csv('diabetes.csv')\n",
    "df"
   ]
  },
  {
   "cell_type": "code",
   "execution_count": null,
   "id": "573a54fe",
   "metadata": {},
   "outputs": [],
   "source": []
  },
  {
   "cell_type": "code",
   "execution_count": null,
   "id": "3befbdab",
   "metadata": {},
   "outputs": [],
   "source": []
  },
  {
   "cell_type": "markdown",
   "id": "d7976626",
   "metadata": {},
   "source": [
    "Based on this check, it appears this dataset has no null values. However, if we take a close look at the data we notice that some columns use `0` where there should be nulls."
   ]
  },
  {
   "cell_type": "markdown",
   "id": "e94b62d5",
   "metadata": {},
   "source": [
    "Convert missing values to nulls."
   ]
  },
  {
   "cell_type": "code",
   "execution_count": null,
   "id": "cbe73084",
   "metadata": {
    "scrolled": true
   },
   "outputs": [],
   "source": [
    "# Replace zeros in certain columns with nans\n",
    "\n",
    "df"
   ]
  },
  {
   "cell_type": "markdown",
   "id": "cbb7be42",
   "metadata": {},
   "source": [
    "Analyze type and amount of missing data."
   ]
  },
  {
   "cell_type": "code",
   "execution_count": null,
   "id": "9aa1cbb3",
   "metadata": {},
   "outputs": [],
   "source": []
  },
  {
   "cell_type": "code",
   "execution_count": null,
   "id": "2aeb3f6c",
   "metadata": {},
   "outputs": [],
   "source": []
  },
  {
   "cell_type": "markdown",
   "id": "265aab7b",
   "metadata": {},
   "source": [
    "Several columns have missing data. Let's explore more to determine the type. "
   ]
  },
  {
   "cell_type": "code",
   "execution_count": null,
   "id": "877b70d4",
   "metadata": {},
   "outputs": [],
   "source": [
    "# Make a heatmap to visualize null values in the dataset\n"
   ]
  },
  {
   "cell_type": "code",
   "execution_count": null,
   "id": "e5383121",
   "metadata": {},
   "outputs": [],
   "source": [
    "# Install a package that allows for nice graphical analysis of missingvalues\n",
    "!pip install missingno"
   ]
  },
  {
   "cell_type": "code",
   "execution_count": null,
   "id": "cca31a17",
   "metadata": {},
   "outputs": [],
   "source": [
    "# Import missingno module\n",
    "import missingno as msno"
   ]
  },
  {
   "cell_type": "code",
   "execution_count": null,
   "id": "66924f82",
   "metadata": {},
   "outputs": [],
   "source": [
    "# Can visualize the percent missing in each column\n"
   ]
  },
  {
   "cell_type": "code",
   "execution_count": null,
   "id": "45997655",
   "metadata": {},
   "outputs": [],
   "source": [
    "# Another way to make the null map with the msno module \n"
   ]
  },
  {
   "cell_type": "code",
   "execution_count": null,
   "id": "590ba277",
   "metadata": {},
   "outputs": [],
   "source": [
    "# Plot the matrix again sorted by insulin\n",
    "sorted_df = \n",
    "msno.matrix(sorted_df);"
   ]
  },
  {
   "cell_type": "markdown",
   "id": "f3b41a83",
   "metadata": {},
   "source": [
    "It looks like some variables only have NaNs when insulin is NaN. This is an important pattern to notice. While we don't completely understand what about insuline influences the missingness, we can see that insuline influences missingness. Let's quantify this further with a heatmap."
   ]
  },
  {
   "cell_type": "code",
   "execution_count": null,
   "id": "05fa727b",
   "metadata": {},
   "outputs": [],
   "source": [
    "# Correlation in missingness \n"
   ]
  },
  {
   "cell_type": "markdown",
   "id": "bafa20d5",
   "metadata": {},
   "source": [
    "Decide on an approach. \n",
    "Some of these columns (e.g. Glucose) don't have lots of missing values and they are not highly correlated with other variables. We can assume those are MCAR and drop those rows. "
   ]
  },
  {
   "cell_type": "code",
   "execution_count": null,
   "id": "819fa623",
   "metadata": {},
   "outputs": [],
   "source": [
    "# Drop rows that have NaN in the Glucose column\n",
    "df_dropped = \n",
    "df_dropped"
   ]
  },
  {
   "cell_type": "code",
   "execution_count": null,
   "id": "a091e21c",
   "metadata": {},
   "outputs": [],
   "source": [
    "df_dropped.isna().sum()"
   ]
  },
  {
   "cell_type": "markdown",
   "id": "10f54ee1",
   "metadata": {},
   "source": [
    "BMI was similar to Glucose; very few missing values and not highly correlated with anything else. If we wanted, we could also drop rows with missing BMI."
   ]
  },
  {
   "cell_type": "code",
   "execution_count": null,
   "id": "ef071ff7",
   "metadata": {},
   "outputs": [],
   "source": [
    "df_dropped.dropna(subset='BMI',inplace=True)\n",
    "df_dropped.isna().sum()"
   ]
  },
  {
   "cell_type": "markdown",
   "id": "b2a321a6",
   "metadata": {},
   "source": [
    "Since BMI is likely MCAR, we could have also decided to impute the data."
   ]
  },
  {
   "cell_type": "code",
   "execution_count": null,
   "id": "30e03e13",
   "metadata": {
    "scrolled": true
   },
   "outputs": [],
   "source": [
    "df['BMI'].hist()"
   ]
  },
  {
   "cell_type": "code",
   "execution_count": null,
   "id": "9bc60ef3",
   "metadata": {},
   "outputs": [],
   "source": [
    "# Impute BMI\n",
    "filled_df = df.copy()\n",
    "\n",
    "filled_df"
   ]
  },
  {
   "cell_type": "code",
   "execution_count": null,
   "id": "29ea4b39",
   "metadata": {},
   "outputs": [],
   "source": [
    "# Visualize the imputation\n",
    "nullity = df['BMI'].isna()\n",
    "filled_df.plot(x='Insulin', y='BMI', kind='scatter', alpha=0.8,                   \n",
    "                   c=nullity, cmap='rainbow',title='Mean Imputation');"
   ]
  },
  {
   "cell_type": "markdown",
   "id": "b4d01fa2",
   "metadata": {},
   "source": [
    "It looks like there is only one value, this isn't actually the case, most of the missing BMI's showed up when Insulin was missing too. What if we imputed both variables?"
   ]
  },
  {
   "cell_type": "code",
   "execution_count": null,
   "id": "4b1f97b0",
   "metadata": {},
   "outputs": [],
   "source": [
    "# check distribution of insuline\n",
    "df['Insulin'].hist()"
   ]
  },
  {
   "cell_type": "code",
   "execution_count": null,
   "id": "68b00bbf",
   "metadata": {},
   "outputs": [],
   "source": [
    "# Impute BMI and Insulin\n",
    "filled_df = df.copy()\n",
    "filled_df['BMI'].fillna(filled_df['BMI'].mean(),inplace = True)\n",
    "filled_df['Insulin'].fillna(filled_df['Insulin'].mean(),inplace = True)\n",
    "nullity = df['BMI'].isna() + df['Insulin'].isna()\n",
    "filled_df.plot(x='Insulin', y='BMI', kind='scatter', alpha=0.8,                   \n",
    "                   c=nullity, cmap='rainbow',title='Mean Imputation');"
   ]
  },
  {
   "cell_type": "markdown",
   "id": "d40e72ae",
   "metadata": {},
   "source": [
    "### Imputing time series data\n",
    "We saw last time that imputing with mean, median, or mode is not always the best option. Specifically on time series data. Lets explore other options"
   ]
  },
  {
   "cell_type": "code",
   "execution_count": null,
   "id": "8388da83",
   "metadata": {},
   "outputs": [],
   "source": [
    "airquality = pd.read_csv(\"airquality.csv\")\n",
    "airquality"
   ]
  },
  {
   "cell_type": "code",
   "execution_count": null,
   "id": "1a8aec78",
   "metadata": {},
   "outputs": [],
   "source": []
  },
  {
   "cell_type": "code",
   "execution_count": null,
   "id": "357df2a7",
   "metadata": {},
   "outputs": [],
   "source": [
    "airquality['Date'] = pd.to_datetime(airquality['Date'])\n",
    "airquality"
   ]
  },
  {
   "cell_type": "code",
   "execution_count": null,
   "id": "16a599b9",
   "metadata": {},
   "outputs": [],
   "source": [
    "# Look at the missing data in Ozone\n",
    "plt.figure(figsize=(10,4))\n",
    "airquality['Ozone'].plot(marker='o')\n",
    "plt.xlabel('Day')\n",
    "plt.ylabel('Ozone')\n",
    "plt.show()"
   ]
  },
  {
   "cell_type": "markdown",
   "id": "f9b76b6b",
   "metadata": {},
   "source": [
    "The time series varies a lot. If we fill everything with the mean or median, we might get strange results. "
   ]
  },
  {
   "cell_type": "code",
   "execution_count": null,
   "id": "68c73097",
   "metadata": {},
   "outputs": [],
   "source": [
    "# Fill nans with the mean datapoint\n",
    "mean_fill = \n",
    "\n",
    "plt.figure(figsize=(10,4))\n",
    "mean_fill['Ozone'].plot(color = 'r', marker='o')\n",
    "airquality['Ozone'].plot( marker='o')\n",
    "plt.xlabel('Day')\n",
    "plt.ylabel('Ozone')\n",
    "plt.show()"
   ]
  },
  {
   "cell_type": "code",
   "execution_count": null,
   "id": "7beefd88",
   "metadata": {},
   "outputs": [],
   "source": [
    "# Fill nans with the previous datapoint\n",
    "forward_fill = "
   ]
  },
  {
   "cell_type": "code",
   "execution_count": null,
   "id": "e499d9a1",
   "metadata": {},
   "outputs": [],
   "source": [
    "# Look at the missing data in Ozone\n",
    "plt.figure(figsize=(10,4))\n",
    "forward_fill['Ozone'].plot(color = 'r', marker='o')\n",
    "airquality['Ozone'].plot( marker='o')\n",
    "plt.xlabel('Day')\n",
    "plt.ylabel('Ozone')\n",
    "plt.show()"
   ]
  },
  {
   "cell_type": "code",
   "execution_count": null,
   "id": "fa5cffb9",
   "metadata": {},
   "outputs": [],
   "source": [
    "# Fill nans with the next datapoint\n",
    "back_fill = "
   ]
  },
  {
   "cell_type": "code",
   "execution_count": null,
   "id": "bc465f0f",
   "metadata": {},
   "outputs": [],
   "source": [
    "# Look at the missing data in Ozone\n",
    "plt.figure(figsize=(10,4))\n",
    "back_fill['Ozone'].plot(color = 'r', marker='o')\n",
    "airquality['Ozone'].plot( marker='o')\n",
    "plt.xlabel('Day')\n",
    "plt.ylabel('Ozone')\n",
    "plt.show()"
   ]
  },
  {
   "cell_type": "code",
   "execution_count": null,
   "id": "82c07b39",
   "metadata": {},
   "outputs": [],
   "source": [
    "# Linear interpolation\n",
    "interpolated_oz = airquality.copy()\n",
    "interpolated_oz['Ozone'] = "
   ]
  },
  {
   "cell_type": "code",
   "execution_count": null,
   "id": "c5bccdb9",
   "metadata": {},
   "outputs": [],
   "source": [
    "# Look at the missing data in Ozone\n",
    "plt.figure(figsize=(10,4))\n",
    "interpolated_oz['Ozone'].plot(color = 'r', marker='o')\n",
    "airquality['Ozone'].plot( marker='o')\n",
    "plt.xlabel('Day')\n",
    "plt.ylabel('Ozone')\n",
    "plt.show()"
   ]
  },
  {
   "cell_type": "markdown",
   "id": "2d8522aa",
   "metadata": {},
   "source": [
    "This looks like the most reasonable guess for how to fill in the datapoints.\n",
    "\n",
    "*NOTE:* There are other methods that can be used to interpolate."
   ]
  },
  {
   "cell_type": "code",
   "execution_count": null,
   "id": "40d895d9",
   "metadata": {},
   "outputs": [],
   "source": [
    "# Quadratic interpolation\n",
    "interpolated_oz['Ozone'] = airquality.Ozone.interpolate(method='quadratic')"
   ]
  },
  {
   "cell_type": "code",
   "execution_count": null,
   "id": "9637057a",
   "metadata": {},
   "outputs": [],
   "source": [
    "# Look at the missing data in Ozone\n",
    "plt.figure(figsize=(10,4))\n",
    "interpolated_oz['Ozone'].plot(color = 'r', marker='o')\n",
    "airquality['Ozone'].plot( marker='o')\n",
    "plt.xlabel('Day')\n",
    "plt.ylabel('Ozone')\n",
    "plt.show()"
   ]
  },
  {
   "cell_type": "markdown",
   "id": "c3bf8652",
   "metadata": {},
   "source": [
    "This method highly overshot the data ranges. This is not a good option. "
   ]
  },
  {
   "cell_type": "markdown",
   "id": "0fe3cc76",
   "metadata": {},
   "source": [
    "One other option is to fill null values with a random sample. This could work when the data is MCAR or MAR and could also work for categorical data."
   ]
  },
  {
   "cell_type": "code",
   "execution_count": null,
   "id": "8d930a47",
   "metadata": {},
   "outputs": [],
   "source": [
    "# Get non-NaN values from column 'A'\n",
    "non_nan_values = airquality['Ozone'].dropna()\n",
    "\n",
    "# Count the number of NaN values in column 'A'\n",
    "nan_count = airquality['Ozone'].isna().sum()\n",
    "\n",
    "# Generate random samples from non-NaN values with replacement to fill NaNs\n",
    "random_samples = np.random.choice(non_nan_values, nan_count, replace=True)\n",
    "\n",
    "# Fill NaN values in column 'A' with random samples\n",
    "random_fill = airquality.copy()\n",
    "random_fill.loc[random_fill['Ozone'].isna(), 'Ozone'] = random_samples\n",
    "\n",
    "plt.figure(figsize=(10,4))\n",
    "random_fill['Ozone'].plot(color = 'r', marker='o')\n",
    "airquality['Ozone'].plot( marker='o')\n",
    "plt.xlabel('Day')\n",
    "plt.ylabel('Ozone')\n",
    "plt.show()"
   ]
  },
  {
   "cell_type": "markdown",
   "id": "11cd66e5",
   "metadata": {},
   "source": [
    "## Activity\n",
    "\n",
    "**Activity 1:** Run the following cells to import and clean the Lake Mendocino Data from last time. Use an appropriate imputation method to fill in the null values in this dataset. Plot your results to evaluate if your imputation was reasonable."
   ]
  },
  {
   "cell_type": "code",
   "execution_count": null,
   "id": "1a35dab7",
   "metadata": {},
   "outputs": [],
   "source": [
    "# Import a dataset about Lake Mendocino\n",
    "lake = pd.read_csv('coy_wy2024_csvdata.csv')\n",
    "lake"
   ]
  },
  {
   "cell_type": "code",
   "execution_count": null,
   "id": "50896b87",
   "metadata": {},
   "outputs": [],
   "source": [
    "lake[lake=='-'] = np.nan\n",
    "notes_columns = [col for col in lake.columns if 'notes' in col]\n",
    "lake[notes_columns] = lake[notes_columns].replace(0, np.nan)\n",
    "lake.dropna(axis = 1, thresh = 230,inplace=True)\n",
    "lake = lake.assign(cons_high = lake['Top of Conservation High (ac-ft)'].astype(float),\n",
    "              cons = lake['Top of Conservation (ac-ft)'].astype(float),\n",
    "              gross_pool = lake['Gross Pool'].astype(float),\n",
    "              gross_pool_elev = lake['Gross Pool(elev)'].astype(float))\n",
    "lake['date'] = pd.to_datetime(lake['ISO 8601 Date Time'].str[:10])\n",
    "lake.drop(columns = ['Top of Conservation High (ac-ft)', 'Top of Conservation (ac-ft)','Gross Pool','Gross Pool(elev)'],inplace=True)\n",
    "lake"
   ]
  },
  {
   "cell_type": "code",
   "execution_count": null,
   "id": "1956f117",
   "metadata": {},
   "outputs": [],
   "source": [
    "# Fill nans\n"
   ]
  },
  {
   "cell_type": "code",
   "execution_count": null,
   "id": "1a3a5855",
   "metadata": {},
   "outputs": [],
   "source": [
    "# Check if it worked \n"
   ]
  },
  {
   "cell_type": "code",
   "execution_count": null,
   "id": "5be1ac11",
   "metadata": {},
   "outputs": [],
   "source": [
    "# Plot \n"
   ]
  },
  {
   "cell_type": "code",
   "execution_count": null,
   "id": "d5938b94",
   "metadata": {},
   "outputs": [],
   "source": []
  }
 ],
 "metadata": {
  "kernelspec": {
   "display_name": "Python 3 (ipykernel)",
   "language": "python",
   "name": "python3"
  },
  "language_info": {
   "codemirror_mode": {
    "name": "ipython",
    "version": 3
   },
   "file_extension": ".py",
   "mimetype": "text/x-python",
   "name": "python",
   "nbconvert_exporter": "python",
   "pygments_lexer": "ipython3",
   "version": "3.11.4"
  }
 },
 "nbformat": 4,
 "nbformat_minor": 5
}
