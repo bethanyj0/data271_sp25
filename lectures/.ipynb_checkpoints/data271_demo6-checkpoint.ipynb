{
 "cells": [
  {
   "cell_type": "markdown",
   "id": "97e493d7",
   "metadata": {},
   "source": [
    "# Intro to Regular Expression\n",
    "If you want to type along with me, use [this notebook](https://humboldt.cloudbank.2i2c.cloud/hub/user-redirect/git-pull?repo=https%3A%2F%2Fgithub.com%2Fbethanyj0%2Fdata271_sp24&branch=main&urlpath=tree%2Fdata271_sp24%2Fdemos%2Fdata271_demo6_live.ipynb) instead. \n",
    "If you don't want to type and want to follow along just by executing the cells, stay in this notebook. "
   ]
  },
  {
   "cell_type": "code",
   "execution_count": null,
   "id": "79bcb88a",
   "metadata": {},
   "outputs": [],
   "source": [
    "import re "
   ]
  },
  {
   "cell_type": "markdown",
   "id": "302ef322",
   "metadata": {},
   "source": [
    "## Regular Expression Functions in `re`"
   ]
  },
  {
   "cell_type": "code",
   "execution_count": null,
   "id": "5c91584b",
   "metadata": {},
   "outputs": [],
   "source": [
    "text = \"I'm not lazy, I'm just on energy-saving mode. It's the best mode. - Unknown\""
   ]
  },
  {
   "cell_type": "code",
   "execution_count": null,
   "id": "66a67c2c",
   "metadata": {},
   "outputs": [],
   "source": [
    "# search (don't usually use this too much unless working with large texts just to know if something is there)\n",
    "print(re.search('mode',text))"
   ]
  },
  {
   "cell_type": "code",
   "execution_count": null,
   "id": "3c62d078",
   "metadata": {},
   "outputs": [],
   "source": [
    "print(re.search('271',text))"
   ]
  },
  {
   "cell_type": "code",
   "execution_count": null,
   "id": "eca1b8d1",
   "metadata": {
    "scrolled": true
   },
   "outputs": [],
   "source": [
    "# findall catches all occurences and puts them into a list\n",
    "re.findall('mode',text)"
   ]
  },
  {
   "cell_type": "code",
   "execution_count": null,
   "id": "12b316a4",
   "metadata": {},
   "outputs": [],
   "source": [
    "# Using len with findall allows us to count occurances\n",
    "len(re.findall('mode',text))"
   ]
  },
  {
   "cell_type": "code",
   "execution_count": null,
   "id": "08dec184",
   "metadata": {},
   "outputs": [],
   "source": [
    "# split puts things in a list split by your input. NOTE mode doesn't necessarily make sense to split by\n",
    "re.split('mode',text)"
   ]
  },
  {
   "cell_type": "code",
   "execution_count": null,
   "id": "c7039b49",
   "metadata": {},
   "outputs": [],
   "source": [
    "# to split by sentence\n",
    "re.split('\\.',text)"
   ]
  },
  {
   "cell_type": "code",
   "execution_count": null,
   "id": "c271a3c4",
   "metadata": {},
   "outputs": [],
   "source": [
    "# sub to swap things in the string\n",
    "re.sub('on','in',text)"
   ]
  },
  {
   "cell_type": "code",
   "execution_count": null,
   "id": "1e52336c",
   "metadata": {},
   "outputs": [],
   "source": [
    "# sub replaces all occurances\n",
    "re.sub('mode','zone',text)"
   ]
  },
  {
   "cell_type": "code",
   "execution_count": null,
   "id": "6e7442c6",
   "metadata": {},
   "outputs": [],
   "source": [
    "# you can replace just one if needed\n",
    "re.sub('mode','zone',text, count = 1)"
   ]
  },
  {
   "cell_type": "markdown",
   "id": "c6c2c53d",
   "metadata": {},
   "source": [
    "## Character classes"
   ]
  },
  {
   "cell_type": "code",
   "execution_count": null,
   "id": "7443ae2c",
   "metadata": {},
   "outputs": [],
   "source": [
    "quote = \"Life is 10% what happens to us and 90% how we react to it. But I want to be 100% happy. - Unknown\""
   ]
  },
  {
   "cell_type": "code",
   "execution_count": null,
   "id": "13679a34",
   "metadata": {},
   "outputs": [],
   "source": [
    "# To find the digits\n",
    "re.findall('\\d',quote)"
   ]
  },
  {
   "cell_type": "code",
   "execution_count": null,
   "id": "57db0237",
   "metadata": {
    "scrolled": true
   },
   "outputs": [],
   "source": [
    "# To get everything that isn't a number\n",
    "re.findall('\\D',quote)"
   ]
  },
  {
   "cell_type": "code",
   "execution_count": null,
   "id": "ab9de391",
   "metadata": {
    "scrolled": true
   },
   "outputs": [],
   "source": [
    "# Something similar\n",
    "# doesn't include the special characters but does include letters and numbers\n",
    "re.findall('\\w',quote) "
   ]
  },
  {
   "cell_type": "code",
   "execution_count": null,
   "id": "4dd19a8e",
   "metadata": {},
   "outputs": [],
   "source": [
    "# To get just the special characters\n",
    "re.findall('\\W',quote)"
   ]
  },
  {
   "cell_type": "code",
   "execution_count": null,
   "id": "90ea0266",
   "metadata": {},
   "outputs": [],
   "source": [
    "# To just get the white spaces\n",
    "re.findall('\\s',quote)"
   ]
  },
  {
   "cell_type": "code",
   "execution_count": null,
   "id": "02356614",
   "metadata": {},
   "outputs": [],
   "source": [
    "# To get everything but white spaces\n",
    "re.findall('\\S',quote)"
   ]
  },
  {
   "cell_type": "markdown",
   "id": "442ec858",
   "metadata": {},
   "source": [
    "## Sets"
   ]
  },
  {
   "cell_type": "code",
   "execution_count": null,
   "id": "358f324c",
   "metadata": {
    "scrolled": true
   },
   "outputs": [],
   "source": [
    "string = \"I like going to Cal Poly Humboldt, and DATA 271 is a fun class.\""
   ]
  },
  {
   "cell_type": "code",
   "execution_count": null,
   "id": "d0f9605b",
   "metadata": {},
   "outputs": [],
   "source": [
    "# gets characters, C, a, or l, but not 'Cal'\n",
    "re.findall('[Cal]',string)"
   ]
  },
  {
   "cell_type": "code",
   "execution_count": null,
   "id": "1a56416f",
   "metadata": {},
   "outputs": [],
   "source": [
    "# get the lowercase characters between a and m\n",
    "re.findall('[a-m]',string) "
   ]
  },
  {
   "cell_type": "code",
   "execution_count": null,
   "id": "0c9e765f",
   "metadata": {
    "scrolled": true
   },
   "outputs": [],
   "source": [
    "# get the lowercase and uppercase characters between a and z\n",
    "re.findall('[a-zA-z]',string) "
   ]
  },
  {
   "cell_type": "code",
   "execution_count": null,
   "id": "a7b0b36d",
   "metadata": {},
   "outputs": [],
   "source": [
    "# get the lowercase and uppercase characters between a and z and numbers\n",
    "re.findall('[a-zA-z0-9]',string)"
   ]
  },
  {
   "cell_type": "code",
   "execution_count": null,
   "id": "283e451b",
   "metadata": {
    "scrolled": true
   },
   "outputs": [],
   "source": [
    "# just the numbers 0 through 5\n",
    "re.findall('[0-5]',string)"
   ]
  },
  {
   "cell_type": "code",
   "execution_count": null,
   "id": "2f14f597",
   "metadata": {},
   "outputs": [],
   "source": [
    "# Get every single character\n",
    "re.findall('.',string)"
   ]
  },
  {
   "cell_type": "markdown",
   "id": "b39a2a4c",
   "metadata": {},
   "source": [
    "## Special characters: Specifying number of occurences"
   ]
  },
  {
   "cell_type": "markdown",
   "id": "0100399d",
   "metadata": {},
   "source": [
    "- `*` zero or more\n",
    "- `+` 1 or more\n",
    "- `?` zero or one"
   ]
  },
  {
   "cell_type": "code",
   "execution_count": null,
   "id": "11263f66",
   "metadata": {},
   "outputs": [],
   "source": [
    "tongue_twister = 'How much wood would a woodchuck chuck if a woodchuck could chuck wood?'"
   ]
  },
  {
   "cell_type": "code",
   "execution_count": null,
   "id": "ab903161",
   "metadata": {},
   "outputs": [],
   "source": [
    "# Match wo and then any character zero or more times (greedy)\n",
    "re.findall('wo.*',tongue_twister)"
   ]
  },
  {
   "cell_type": "code",
   "execution_count": null,
   "id": "19eed681",
   "metadata": {},
   "outputs": [],
   "source": [
    "# Match wo and then any character zero more times followed by i (greedy)\n",
    "re.findall('wo.*i',tongue_twister)"
   ]
  },
  {
   "cell_type": "code",
   "execution_count": null,
   "id": "7b61081a",
   "metadata": {},
   "outputs": [],
   "source": [
    "# Match wo and then any character 1 or more times followed by d (greedy)\n",
    "re.findall('wo.+d',tongue_twister)"
   ]
  },
  {
   "cell_type": "code",
   "execution_count": null,
   "id": "73ae63c0",
   "metadata": {},
   "outputs": [],
   "source": [
    "# Match wo and then any character zero or more times followed by d (not greedy)\n",
    "re.findall('wo.+?d',tongue_twister)"
   ]
  },
  {
   "cell_type": "code",
   "execution_count": null,
   "id": "4007ee3d",
   "metadata": {},
   "outputs": [],
   "source": [
    "# Match w o 0 or more times followed by d\n",
    "re.findall('wo*d',tongue_twister)"
   ]
  },
  {
   "cell_type": "code",
   "execution_count": null,
   "id": "bfd533cf",
   "metadata": {},
   "outputs": [],
   "source": [
    "# Match woo and then any character 0 or 1 or zero times followed by d\n",
    "re.findall('wo.+?d',tongue_twister)"
   ]
  },
  {
   "cell_type": "code",
   "execution_count": null,
   "id": "e5238d5b",
   "metadata": {},
   "outputs": [],
   "source": [
    "# Match w then o 0 or more times then u 0 or 1 times then l 0 or 1 times then d\n",
    "re.findall('wo*u?l?d',tongue_twister)"
   ]
  },
  {
   "cell_type": "code",
   "execution_count": null,
   "id": "8fb12573",
   "metadata": {},
   "outputs": [],
   "source": [
    "re.findall('wood|would',tongue_twister)"
   ]
  },
  {
   "cell_type": "code",
   "execution_count": null,
   "id": "6fd64d80",
   "metadata": {},
   "outputs": [],
   "source": [
    "# special characters can't be searched for directly. Can't search for question marks like this\n",
    "re.findall('?',tongue_twister)"
   ]
  },
  {
   "cell_type": "code",
   "execution_count": null,
   "id": "8f236148",
   "metadata": {},
   "outputs": [],
   "source": [
    "# We need to escape\n",
    "re.findall('\\?',tongue_twister)"
   ]
  },
  {
   "cell_type": "code",
   "execution_count": null,
   "id": "8738b8bd",
   "metadata": {
    "scrolled": true
   },
   "outputs": [],
   "source": [
    "# Search start of the string\n",
    "re.findall('^wood',tongue_twister)"
   ]
  },
  {
   "cell_type": "code",
   "execution_count": null,
   "id": "1038aa48",
   "metadata": {},
   "outputs": [],
   "source": [
    "# Search start of the string\n",
    "re.findall('^How',tongue_twister)"
   ]
  }
 ],
 "metadata": {
  "kernelspec": {
   "display_name": "Python 3 (ipykernel)",
   "language": "python",
   "name": "python3"
  },
  "language_info": {
   "codemirror_mode": {
    "name": "ipython",
    "version": 3
   },
   "file_extension": ".py",
   "mimetype": "text/x-python",
   "name": "python",
   "nbconvert_exporter": "python",
   "pygments_lexer": "ipython3",
   "version": "3.11.4"
  }
 },
 "nbformat": 4,
 "nbformat_minor": 5
}
