{
 "cells": [
  {
   "cell_type": "markdown",
   "id": "5791e92f",
   "metadata": {},
   "source": [
    "# Markdown in Jupyter Notebooks\n",
    "If you want to type along with me, use [this notebook](https://humboldt.cloudbank.2i2c.cloud/hub/user-redirect/git-pull?repo=https%3A%2F%2Fgithub.com%2Fbethanyj0%2Fdata271_sp24&branch=main&urlpath=tree%2Fdata271_sp24%2Fdemos%2Fdata271_demo8_live.ipynb) instead. \n",
    "If you don't want to type and want to follow along just by executing the cells, stay in this notebook. "
   ]
  },
  {
   "cell_type": "code",
   "execution_count": null,
   "id": "1fb3a498",
   "metadata": {},
   "outputs": [],
   "source": [
    "# This is a code cell"
   ]
  },
  {
   "cell_type": "markdown",
   "id": "6307c942",
   "metadata": {},
   "source": [
    "This is a Markdown cell. Markdown is a language for creating formatted text. Jupyter notebooks integrate Markdown cells, which allow us to describe what we're doing with nice clean formatting in between our code cells. Let's see  what we can do with it."
   ]
  },
  {
   "cell_type": "markdown",
   "id": "16bea070",
   "metadata": {},
   "source": [
    "# This is a heading\n",
    "blah\n",
    "\n",
    "## This is a subheading\n",
    "\n",
    "### This is a subsubheading\n",
    "\n",
    "#### Another\n",
    "\n",
    "##### Another\n",
    "\n",
    "###### Another\n",
    "\n",
    "####### Stops here"
   ]
  },
  {
   "cell_type": "markdown",
   "id": "ccc9ef6e",
   "metadata": {},
   "source": [
    "## Function\n",
    "The following cell contains a function that I've written to double a number. The function accepts one argument and multiplies the input by 2. This function can be used if anyone asks you to double something.\n",
    "\n",
    "You can use this function:\n",
    "1. in data science\n",
    "    1. 111\n",
    "    2. 271\n",
    "2. in math\n",
    "3. in stats\n",
    "\n",
    "In no particular order, I've used this function\n",
    "- at home\n",
    "- at school\n",
    "    - in office\n",
    "    - in classroom"
   ]
  },
  {
   "cell_type": "code",
   "execution_count": null,
   "id": "5273d3a7",
   "metadata": {},
   "outputs": [],
   "source": [
    "# Function that doubles\n",
    "def a_function(a):\n",
    "    return 2*a\n",
    "\n",
    "a_function(2)"
   ]
  },
  {
   "cell_type": "markdown",
   "id": "9ea652bc",
   "metadata": {},
   "source": [
    "**To make text bold, enclose it in double stars**\n",
    "\n",
    "*To italicize, enclose text in single stars*"
   ]
  },
  {
   "cell_type": "markdown",
   "id": "a2145b64",
   "metadata": {},
   "source": [
    "## Formatting code\n",
    "\n",
    "When I give you problems in labs, I say \n",
    "\n",
    "**QuestionX** Do a thing. Assign it to variable `variable`.\n",
    "\n",
    "For example:\n",
    "\n",
    "```python\n",
    "def doing_a_thing(arg):\n",
    "    return(arg)\n",
    "    \n",
    "variable = doing_a_thing(4)\n",
    "```"
   ]
  },
  {
   "cell_type": "markdown",
   "id": "7abadf21",
   "metadata": {},
   "source": [
    "## Formatting math\n",
    "\n",
    "Inline: $\\frac{1}{2}$\n",
    "\n",
    "Display:\n",
    "$$\\frac{1}{2}\\cdot1$$\n",
    "\n",
    "Common mathy things: $\\theta, \\lambda,\\pi$\n",
    "\n",
    "Multiple lines:\n",
    "\\begin{align*}\n",
    "f(x) &= x^2+3x+2\\\\\n",
    "&= (x+2)(x+1)\n",
    "\\end{align*}\n",
    "\n",
    "Matrix: \n",
    "\\begin{bmatrix}\n",
    "1&2\\\\\n",
    "3&4\n",
    "\\end{bmatrix}\n",
    "\n",
    "\n",
    "\n",
    "To learn more, lookup Latex. "
   ]
  },
  {
   "cell_type": "markdown",
   "id": "9d33e426",
   "metadata": {},
   "source": [
    "## Adding Links\n",
    "\n",
    "We are at [Cal Poly Humboldt](https://www.humboldt.edu/)\n",
    "\n",
    "The text we want to link goes in square brackets and the link goes in parentheses. "
   ]
  },
  {
   "cell_type": "markdown",
   "id": "e72c1ba4",
   "metadata": {},
   "source": [
    "## Add images\n",
    "Here's a pic:\n",
    "\n",
    "![humboldt](https://www.times-standard.com/wp-content/uploads/2022/02/spiritSeal-interim-calPolyHumboldt.jpg?w=575)"
   ]
  },
  {
   "cell_type": "code",
   "execution_count": null,
   "id": "a7a8df19",
   "metadata": {},
   "outputs": [],
   "source": []
  }
 ],
 "metadata": {
  "kernelspec": {
   "display_name": "Python 3 (ipykernel)",
   "language": "python",
   "name": "python3"
  },
  "language_info": {
   "codemirror_mode": {
    "name": "ipython",
    "version": 3
   },
   "file_extension": ".py",
   "mimetype": "text/x-python",
   "name": "python",
   "nbconvert_exporter": "python",
   "pygments_lexer": "ipython3",
   "version": "3.11.4"
  }
 },
 "nbformat": 4,
 "nbformat_minor": 5
}
