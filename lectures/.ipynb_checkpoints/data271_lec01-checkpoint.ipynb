{
 "cells": [
  {
   "cell_type": "markdown",
   "id": "9455fd29",
   "metadata": {},
   "source": [
    "# Discussion questions"
   ]
  },
  {
   "cell_type": "code",
   "execution_count": null,
   "id": "e662b1d6",
   "metadata": {
    "tags": []
   },
   "outputs": [],
   "source": [
    "type(None)"
   ]
  },
  {
   "cell_type": "code",
   "execution_count": null,
   "id": "cb7d5c85",
   "metadata": {
    "tags": []
   },
   "outputs": [],
   "source": [
    "type(5.2)"
   ]
  },
  {
   "cell_type": "code",
   "execution_count": null,
   "id": "6d3aeabb",
   "metadata": {
    "tags": []
   },
   "outputs": [],
   "source": [
    "type(True)"
   ]
  },
  {
   "cell_type": "code",
   "execution_count": null,
   "id": "a854a445",
   "metadata": {
    "tags": []
   },
   "outputs": [],
   "source": [
    "type('Data 271 rules!')"
   ]
  },
  {
   "cell_type": "code",
   "execution_count": null,
   "id": "2fdef585",
   "metadata": {
    "tags": []
   },
   "outputs": [],
   "source": [
    "type(3)"
   ]
  },
  {
   "cell_type": "code",
   "execution_count": null,
   "id": "e92bc352",
   "metadata": {
    "tags": []
   },
   "outputs": [],
   "source": [
    "type(3 + 4j)"
   ]
  },
  {
   "cell_type": "code",
   "execution_count": null,
   "id": "f251986c",
   "metadata": {
    "tags": []
   },
   "outputs": [],
   "source": [
    "int(5.2 + 3.1)"
   ]
  },
  {
   "cell_type": "code",
   "execution_count": null,
   "id": "4c6f8316",
   "metadata": {
    "tags": []
   },
   "outputs": [],
   "source": [
    "type(True + float('2.3'))"
   ]
  },
  {
   "cell_type": "code",
   "execution_count": null,
   "id": "ce50e374",
   "metadata": {
    "tags": []
   },
   "outputs": [],
   "source": [
    "str(45) * 3"
   ]
  },
  {
   "cell_type": "code",
   "execution_count": null,
   "id": "5db7c32f",
   "metadata": {
    "tags": []
   },
   "outputs": [],
   "source": [
    "type(1/1)"
   ]
  },
  {
   "cell_type": "code",
   "execution_count": null,
   "id": "26dbc5d7",
   "metadata": {
    "tags": []
   },
   "outputs": [],
   "source": [
    "int('67.3')"
   ]
  },
  {
   "cell_type": "code",
   "execution_count": null,
   "id": "f134291e",
   "metadata": {
    "tags": []
   },
   "outputs": [],
   "source": [
    "'ha' + 'ha'"
   ]
  },
  {
   "cell_type": "code",
   "execution_count": null,
   "id": "a8cf8970-aff1-469b-8994-70c54ae8d3a8",
   "metadata": {},
   "outputs": [],
   "source": []
  }
 ],
 "metadata": {
  "kernelspec": {
   "display_name": "Python 3 (ipykernel)",
   "language": "python",
   "name": "python3"
  },
  "language_info": {
   "codemirror_mode": {
    "name": "ipython",
    "version": 3
   },
   "file_extension": ".py",
   "mimetype": "text/x-python",
   "name": "python",
   "nbconvert_exporter": "python",
   "pygments_lexer": "ipython3",
   "version": "3.11.4"
  }
 },
 "nbformat": 4,
 "nbformat_minor": 5
}
