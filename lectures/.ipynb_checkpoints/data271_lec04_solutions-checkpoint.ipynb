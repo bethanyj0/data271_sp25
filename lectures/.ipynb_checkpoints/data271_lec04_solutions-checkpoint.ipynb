{
 "cells": [
  {
   "cell_type": "markdown",
   "id": "7b9bc633",
   "metadata": {},
   "source": [
    "# List and Dictionary Comprehension\n",
    "\n",
    "If you want to type along with me, use [this notebook](https://humboldt.cloudbank.2i2c.cloud/hub/user-redirect/git-pull?repo=https%3A%2F%2Fgithub.com%2Fbethanyj0%2Fdata271_sp25&branch=main&urlpath=tree%2Fdata271_sp25%2Flectures%2Fdata271_lec04_live.ipynb) instead. \n",
    "If you don't want to type and want to follow along just by executing the cells, stay in this notebook. "
   ]
  },
  {
   "cell_type": "markdown",
   "id": "e682c3b6",
   "metadata": {},
   "source": [
    "## List comprehension\n",
    "*List comprehensions* are a convenient and widely used Python feature. They allow you to concisely form a new list by filtering the elements of a collection, transforming the elements passing the filter into once concise expression. They take the basic form\n",
    "\n",
    "```python\n",
    "[expr for value in collection if condition]\n",
    "```\n",
    "\n",
    "where `collection` is an *iterable* object in python (something we can loop through like a list) and `value` is an *iterator variable* (a variable that temporarily takes on the value of each element of `collection` as we iterate through it).\n",
    "This is equivalent to running the following for loop:\n",
    "```python\n",
    "result = []\n",
    "for value in collection:\n",
    "    if condition:\n",
    "        result.append(expr)\n",
    "```\n",
    "\n",
    "So you can see that they make your code much more efficient, condensing potentially multiple lines of code into a single line!\n",
    "\n",
    "\n",
    "The filter condition can be omitted, leaving only the expression. For example, given a list of strings, we could convert all of the strings to uppercase like this:"
   ]
  },
  {
   "cell_type": "code",
   "execution_count": null,
   "id": "5a9cb6dc",
   "metadata": {
    "tags": []
   },
   "outputs": [],
   "source": [
    "strings = ['a','as','bat','car','dove','python']\n",
    "\n",
    "[x.upper() for x in strings]"
   ]
  },
  {
   "cell_type": "code",
   "execution_count": null,
   "id": "897be9b0",
   "metadata": {
    "tags": []
   },
   "outputs": [],
   "source": [
    "# as a for loop\n",
    "\n",
    "new_list = []\n",
    "for x in strings:\n",
    "    new_list.append(x.upper())\n",
    "    \n",
    "new_list"
   ]
  },
  {
   "cell_type": "markdown",
   "id": "dd5d8308",
   "metadata": {},
   "source": [
    "Or we could use the filter conditions. For example given the same list of strings. we could filter out strings with length 2 or less and convert them to uppercase like this:"
   ]
  },
  {
   "cell_type": "code",
   "execution_count": null,
   "id": "0e318b7b",
   "metadata": {
    "tags": []
   },
   "outputs": [],
   "source": [
    "[x.upper() for x in strings if len(x)>2]"
   ]
  },
  {
   "cell_type": "code",
   "execution_count": null,
   "id": "2c193600",
   "metadata": {
    "tags": []
   },
   "outputs": [],
   "source": [
    "# as a for loop\n",
    "\n",
    "new_list2 = []\n",
    "for x in strings:\n",
    "    if len(x) > 2:\n",
    "        new_list2.append(x.upper())\n",
    "        \n",
    "new_list2"
   ]
  },
  {
   "cell_type": "markdown",
   "id": "ddf88c2f",
   "metadata": {},
   "source": [
    "Just as the iterator variable doesn't really matter with for loops, the iterator variable doesn't really matter with list comprehensions too. It is good practice to choose a variable that is descriptive. "
   ]
  },
  {
   "cell_type": "code",
   "execution_count": null,
   "id": "69af3a70",
   "metadata": {
    "tags": []
   },
   "outputs": [],
   "source": [
    "[i.upper() for i in strings if len(i) > 2]"
   ]
  },
  {
   "cell_type": "code",
   "execution_count": null,
   "id": "8a2987c5",
   "metadata": {
    "tags": []
   },
   "outputs": [],
   "source": [
    "[string.upper() for string in strings if len(string) > 2]"
   ]
  },
  {
   "cell_type": "markdown",
   "id": "09e5405d",
   "metadata": {},
   "source": [
    "Sometimes list comprehension is an efficient way to generate lists. "
   ]
  },
  {
   "cell_type": "code",
   "execution_count": null,
   "id": "04c9821f",
   "metadata": {
    "tags": []
   },
   "outputs": [],
   "source": [
    "range(0,31,2)"
   ]
  },
  {
   "cell_type": "code",
   "execution_count": null,
   "id": "7abd5050",
   "metadata": {
    "scrolled": true,
    "tags": []
   },
   "outputs": [],
   "source": [
    "# generate a list of even numbers between 0 and 30 (inclusive)\n",
    "list1=[x for x in range(0,31) if x%2 == 0]\n",
    "list1"
   ]
  },
  {
   "cell_type": "code",
   "execution_count": null,
   "id": "6bd2d164",
   "metadata": {
    "tags": []
   },
   "outputs": [],
   "source": [
    "# or you can do this without a condition\n",
    "list2 = [2*num for num in range(0,16)]\n",
    "list2"
   ]
  },
  {
   "cell_type": "code",
   "execution_count": null,
   "id": "e40a4588",
   "metadata": {
    "tags": []
   },
   "outputs": [],
   "source": [
    "# or another way\n",
    "list3 = [num for num in range(0,31,2)]\n",
    "list3"
   ]
  },
  {
   "cell_type": "markdown",
   "id": "bc99c40b",
   "metadata": {},
   "source": [
    "Note that you can also create these new lists from dictionaries, sets, or tuples."
   ]
  },
  {
   "cell_type": "code",
   "execution_count": null,
   "id": "a6c7351d",
   "metadata": {
    "tags": []
   },
   "outputs": [],
   "source": [
    "my_dict = {'first':1,'second':2,'third':3}\n",
    "\n",
    "[key + str(val) for key,val in my_dict.items()]"
   ]
  },
  {
   "cell_type": "code",
   "execution_count": null,
   "id": "cfd737e2",
   "metadata": {
    "tags": []
   },
   "outputs": [],
   "source": [
    "my_set = {1,2,3,4,5,5}\n",
    "\n",
    "[i for i in my_set]"
   ]
  },
  {
   "cell_type": "code",
   "execution_count": null,
   "id": "18f6626d",
   "metadata": {
    "tags": []
   },
   "outputs": [],
   "source": [
    "my_tup = (1,2,3,4,5)\n",
    "\n",
    "[i for i in my_tup]"
   ]
  },
  {
   "cell_type": "markdown",
   "id": "a2a2ca69",
   "metadata": {},
   "source": [
    "## Dictionary comprehension\n",
    "A dictionary comprehension is a natural extension and works exactly the same way as list comprehension, but we need to specify both the keys and values. A dictionary comprehension looks like this:\n",
    "```python\n",
    "{key-expr:value-expr for value in collection if condition}\n",
    "```\n",
    "Like list comprehensions, dictionary comprehensions are mostly for convenience, but they similarly can make code easier to both read and write. Here are some examples:"
   ]
  },
  {
   "cell_type": "code",
   "execution_count": null,
   "id": "577ec72c",
   "metadata": {
    "tags": []
   },
   "outputs": [],
   "source": [
    "# Generate a dict that has 0 to 9 as keys and the square of the key as values\n",
    "dict1 = {x : x**2 for x in range(10)}\n",
    "dict1"
   ]
  },
  {
   "cell_type": "code",
   "execution_count": null,
   "id": "3d261627",
   "metadata": {
    "tags": []
   },
   "outputs": [],
   "source": [
    "# conditions work with dictionary comprehensions too\n",
    "dict2 = {x : x**2 for x in range(10) if x > 4}\n",
    "dict2"
   ]
  },
  {
   "cell_type": "markdown",
   "id": "afa90c72",
   "metadata": {},
   "source": [
    "This can be very handy for creating a lookup map for the location of elements in a list:"
   ]
  },
  {
   "cell_type": "code",
   "execution_count": null,
   "id": "b2aaf40f",
   "metadata": {
    "tags": []
   },
   "outputs": [],
   "source": [
    "# Create a lookup map of strings for their location in the strings list. This can be very nice when lists get big!\n",
    "lookup = {value:index for index, value in enumerate(strings)}\n",
    "lookup"
   ]
  },
  {
   "cell_type": "code",
   "execution_count": null,
   "id": "b118873d",
   "metadata": {
    "tags": []
   },
   "outputs": [],
   "source": [
    "# How this might be used \n",
    "list_related_to_strings = [len(i) for i in strings]\n",
    "list_related_to_strings[lookup['bat']]"
   ]
  },
  {
   "cell_type": "code",
   "execution_count": null,
   "id": "d00f3951",
   "metadata": {
    "tags": []
   },
   "outputs": [],
   "source": [
    "# Can use a dictionary as your iterator\n",
    "{key.upper():value**2 for key,value in my_dict.items()}"
   ]
  },
  {
   "cell_type": "code",
   "execution_count": null,
   "id": "487e98af",
   "metadata": {
    "tags": []
   },
   "outputs": [],
   "source": [
    "# Can use a set as your iterator\n",
    "{str(i):i for i in {1,2,3,4,5,5}}"
   ]
  },
  {
   "cell_type": "markdown",
   "id": "e34ca48a",
   "metadata": {},
   "source": [
    "You can also use tuples to iterate through. Test this out on your own if you want. "
   ]
  },
  {
   "cell_type": "markdown",
   "id": "0b8b66af",
   "metadata": {},
   "source": [
    "## Nested List Comprehension\n",
    "Suppose we have a list of lists containing some English and Spanish names. "
   ]
  },
  {
   "cell_type": "code",
   "execution_count": null,
   "id": "bb592c4a",
   "metadata": {
    "tags": []
   },
   "outputs": [],
   "source": [
    "all_data = [['John','Emily','Michael','Mary','Steven'],['Maria','Juan','Javier','Natalia','Pilar']]"
   ]
  },
  {
   "cell_type": "markdown",
   "id": "e3c78c5c",
   "metadata": {},
   "source": [
    "Suppose we wanted to get a single list containing all names with two or more a's in them. How would we do this strictly with for loops?"
   ]
  },
  {
   "cell_type": "code",
   "execution_count": null,
   "id": "1be93ff5",
   "metadata": {
    "tags": []
   },
   "outputs": [],
   "source": [
    "names_we_want = []\n",
    "\n",
    "for names in all_data:\n",
    "    for name in names:\n",
    "        if name.count(\"a\") >=2:\n",
    "            names_we_want.append(name)\n",
    "    \n",
    "names_we_want"
   ]
  },
  {
   "cell_type": "code",
   "execution_count": null,
   "id": "fee7c428",
   "metadata": {
    "tags": []
   },
   "outputs": [],
   "source": [
    "# or if we use some list comprehension\n",
    "\n",
    "names_we_want = []\n",
    "\n",
    "for names in all_data:\n",
    "    enough_as = [name for name in names if name.count(\"a\") >=2]\n",
    "    names_we_want.extend(enough_as)\n",
    "    \n",
    "names_we_want"
   ]
  },
  {
   "cell_type": "markdown",
   "id": "081d441d",
   "metadata": {},
   "source": [
    "It turns out you can actually wrap this whole operation up in a single *nested* list comprehension, which will look like"
   ]
  },
  {
   "cell_type": "code",
   "execution_count": null,
   "id": "4dd74865",
   "metadata": {
    "tags": []
   },
   "outputs": [],
   "source": [
    "[name for names in all_data for name in names if name.count(\"a\") >=2]"
   ]
  },
  {
   "cell_type": "markdown",
   "id": "5b02f791",
   "metadata": {},
   "source": [
    "At first, nested list comprehensions are a bit hard to wrap your head around. The `for` parts of the list comprehension are arranged according to the order of nesting. The outer most goes first, the inner most goes last. Any filter condition goes at the very end (just like we saw in ordinary list comprehension). Here is another example where we flatten a list of tuples of integers into just a list of integers. "
   ]
  },
  {
   "cell_type": "code",
   "execution_count": null,
   "id": "927db85a",
   "metadata": {
    "tags": []
   },
   "outputs": [],
   "source": [
    "some_tuples = [(1,2,3),(4,5,6),(7,8,9)]\n",
    "flattened = [x for tup in some_tuples for x in tup]\n",
    "flattened"
   ]
  },
  {
   "cell_type": "markdown",
   "id": "606c1864",
   "metadata": {},
   "source": [
    "Keep in mind that the order of the `for` expressions would be the same if you wrote a nested for loop instead of a list comprehension. "
   ]
  },
  {
   "cell_type": "code",
   "execution_count": null,
   "id": "dbd714b9",
   "metadata": {
    "tags": []
   },
   "outputs": [],
   "source": [
    "flattened = []\n",
    "\n",
    "for tup in some_tuples:\n",
    "    for x in tup:\n",
    "        flattened.append(x)\n",
    "        \n",
    "flattened"
   ]
  },
  {
   "cell_type": "markdown",
   "id": "e0f0419d",
   "metadata": {},
   "source": [
    "You can have arbitrarily many levels of nesting, though if you have more than two or three levels of nesting, you should probably start to question whether this makes sense from a code readibility standpoint. Would someone be able to approach your code and understand what is going on? If the answer is no, it's a good idea to rework some things."
   ]
  },
  {
   "cell_type": "markdown",
   "id": "ea7cfdbc",
   "metadata": {},
   "source": [
    "## If-else statements\n",
    "You can include if else statements in list comprehensions with the following syntax:\n",
    "\n",
    "\n",
    "```python\n",
    "[expr if condition else expr2 for value in collection]\n",
    "```"
   ]
  },
  {
   "cell_type": "code",
   "execution_count": null,
   "id": "cce8ca2a",
   "metadata": {
    "tags": []
   },
   "outputs": [],
   "source": [
    "# Squares the number if it is even, puts 0 if it is not \n",
    "[num**2 if num % 2 == 0 else 0 for num in range(10)]"
   ]
  },
  {
   "cell_type": "code",
   "execution_count": null,
   "id": "179f0952",
   "metadata": {
    "tags": []
   },
   "outputs": [],
   "source": [
    "# as a for loop\n",
    "\n",
    "result = []\n",
    "for i in range(10):\n",
    "    if i % 2 == 0:\n",
    "        result.append(i**2)\n",
    "    else:\n",
    "        result.append(0)\n",
    "result"
   ]
  },
  {
   "cell_type": "markdown",
   "id": "7eced835",
   "metadata": {},
   "source": [
    "You can see that the if-else statement comes before the for in the example above. This may seem different than how you observed `if` come up in list comprehensions before. Let's look into this a little more. Let's try putting our if (not the else) from above at the end of the list comprehension. "
   ]
  },
  {
   "cell_type": "code",
   "execution_count": null,
   "id": "859111b5",
   "metadata": {
    "tags": []
   },
   "outputs": [],
   "source": [
    "[num**2 for num in range(10) if num % 2 == 0]"
   ]
  },
  {
   "cell_type": "markdown",
   "id": "071f40e7",
   "metadata": {},
   "source": [
    "We see here that using `if` in this way resulted in something slightly different. When `if` is used at the end of a list comprehension, it serves as a sort of first-pass filter, where nothing is added to the list if the condition is not met. On the other hand, when the `if` (and else) comes before the `for`, it is used to adjust what is added to the list based on a condition. So in summary, an `if` statement at the end is used as a filter, and an `if-else` at the beginning allows us to change the output based on a condition. Play around with this on your own to gain some understanding. "
   ]
  },
  {
   "cell_type": "markdown",
   "id": "a29ff03f",
   "metadata": {},
   "source": [
    "What if we want to transform something with an elif statement in it, we have to do transform it a bit."
   ]
  },
  {
   "cell_type": "code",
   "execution_count": null,
   "id": "92abffeb",
   "metadata": {
    "tags": []
   },
   "outputs": [],
   "source": [
    "# squares the number if it is divisible by 3, keeps the number of it has a remainder of 1, 0 otherwise\n",
    "\n",
    "result = []\n",
    "for i in range(10):\n",
    "    if i % 3 == 0:\n",
    "        result.append(i**2)\n",
    "    elif i % 3 == 1:\n",
    "        result.append(i)\n",
    "    else:\n",
    "        result.append(0)\n",
    "\n",
    "result"
   ]
  },
  {
   "cell_type": "code",
   "execution_count": null,
   "id": "4553920e",
   "metadata": {
    "tags": []
   },
   "outputs": [],
   "source": [
    "# rewrite this without any elifs\n",
    "\n",
    "result = []\n",
    "for i in range(10):\n",
    "    if i % 3 == 0:\n",
    "        result.append(i**2)\n",
    "    else:\n",
    "        if i % 3 == 1:\n",
    "            result.append(i)\n",
    "        else:\n",
    "            result.append(0)\n",
    "\n",
    "result"
   ]
  },
  {
   "cell_type": "code",
   "execution_count": null,
   "id": "04e26bae",
   "metadata": {
    "tags": []
   },
   "outputs": [],
   "source": [
    "# so with list comprehension\n",
    "[num**2 if num % 3 == 0 else num if num % 3 == 1 else 0 for num in range(10)]"
   ]
  },
  {
   "cell_type": "markdown",
   "id": "35635be8",
   "metadata": {},
   "source": [
    "Note that you can also use this along with conditions as a filter. "
   ]
  },
  {
   "cell_type": "code",
   "execution_count": null,
   "id": "11b8fc05",
   "metadata": {
    "tags": []
   },
   "outputs": [],
   "source": [
    "[num**2 if num % 3 == 0 else num if num % 3 == 1 else 0 for num in range(10) if num % 2 == 0]"
   ]
  },
  {
   "cell_type": "code",
   "execution_count": null,
   "id": "5b5d0611-cc17-4c79-9d07-e1a316a0be82",
   "metadata": {
    "tags": []
   },
   "outputs": [],
   "source": [
    "# if-else with dictionary comprension -- changing values \n",
    "{i:i**3 if i < 5 else i**2 for i in range(10)}"
   ]
  },
  {
   "cell_type": "code",
   "execution_count": null,
   "id": "de8c6286-4218-40ba-ab2f-13146bc0ba10",
   "metadata": {
    "tags": []
   },
   "outputs": [],
   "source": [
    "# if-else with dictionary comprension -- changing keys and values \n",
    "{(i if i < 5 else i**2):(i**3 if i < 5 else i**2) for i in range(10)}"
   ]
  },
  {
   "cell_type": "markdown",
   "id": "6b79cdfa",
   "metadata": {},
   "source": [
    "## Activities"
   ]
  },
  {
   "cell_type": "markdown",
   "id": "7f684081",
   "metadata": {},
   "source": [
    "**Activity 1:** Create a list containing each word of the string *Peter piper picked a pair of pickled peppers*. Then create a dictionary containing each word as a key and the length of each word as the value. "
   ]
  },
  {
   "cell_type": "code",
   "execution_count": null,
   "id": "6f1558d1",
   "metadata": {
    "scrolled": true,
    "tags": []
   },
   "outputs": [],
   "source": [
    "peter = 'Peter piper picked a pair of pickled peppers'\n",
    "peter_list = peter.split()\n",
    "\n",
    "{word:len(word) for word in peter_list}"
   ]
  },
  {
   "cell_type": "markdown",
   "id": "cc986f61",
   "metadata": {},
   "source": [
    "**Activity 2:** Take the following list:\n",
    "\n",
    "`doctor = ['house', 'cuddy', 'chase', 'thirteen', 'wilson']`\n",
    "\n",
    "Use list comprehension to produce a list of the first character of each string in `doctor`."
   ]
  },
  {
   "cell_type": "code",
   "execution_count": null,
   "id": "08feffaf",
   "metadata": {},
   "outputs": [],
   "source": [
    "doctor = ['house', 'cuddy', 'chase', 'thirteen', 'wilson']\n",
    "[word[0] for word in doctor]"
   ]
  },
  {
   "cell_type": "markdown",
   "id": "1f751e64",
   "metadata": {},
   "source": [
    "**Activity 3:** Using the range of numbers from 0 to 9 as your iterable and `i` as your iterator variable, write a list comprehension that produces a list of numbers consisting of the squared values of `i`."
   ]
  },
  {
   "cell_type": "code",
   "execution_count": null,
   "id": "0f8ef7fb",
   "metadata": {},
   "outputs": [],
   "source": [
    "[i**2 for i in range(0,9)]"
   ]
  },
  {
   "cell_type": "markdown",
   "id": "7577c0fe",
   "metadata": {},
   "source": [
    "**Activity 4:** Matrices can be represented as a list of lists in Python. For example a 5 x 5 matrix with values 0 to 4 in each row can be written as:\n",
    "\n",
    "```{pyth}\n",
    "matrix = [[0, 1, 2, 3, 4],\n",
    "          [0, 1, 2, 3, 4],\n",
    "          [0, 1, 2, 3, 4],\n",
    "          [0, 1, 2, 3, 4],\n",
    "          [0, 1, 2, 3, 4]]\n",
    "```\n",
    "\n",
    "Recreate this matrix by using nested list comprehensions. Recall that you can create one of the rows of the matrix with a single list comprehension. To create the list of lists, you simply have to supply the list comprehension as the output expression of the overall list comprehension:\n",
    "\n",
    "`[[output expression] for iterator variable in iterable]`"
   ]
  },
  {
   "cell_type": "code",
   "execution_count": null,
   "id": "c8c958cc",
   "metadata": {},
   "outputs": [],
   "source": [
    "matrix = [[i for i in range(5)] for x in range(5)]\n",
    "matrix"
   ]
  },
  {
   "cell_type": "markdown",
   "id": "422f16d0",
   "metadata": {},
   "source": [
    "**Activity 5:** Use `member` as the iterator variable in a list comprehension to create a list that only includes the members of `fellowship` that have 7 characters or more."
   ]
  },
  {
   "cell_type": "code",
   "execution_count": null,
   "id": "11aafb38",
   "metadata": {},
   "outputs": [],
   "source": [
    "fellowship = ['frodo', 'samwise', 'merry', 'aragorn', 'legolas', 'boromir', 'gimli']\n",
    "[member for member in fellowship if len(member) >=7]"
   ]
  },
  {
   "cell_type": "code",
   "execution_count": null,
   "id": "cca07ab1",
   "metadata": {},
   "outputs": [],
   "source": []
  },
  {
   "cell_type": "markdown",
   "id": "40ba37ce",
   "metadata": {},
   "source": [
    "**Activity 6:** Using the same `fellowship` list, using a list comprehension and an if-else conditional statement in the output expression, create a list that keeps members of fellowship with 7 or more characters and replaces others with an empty string. Use member as the iterator variable in the list comprehension."
   ]
  },
  {
   "cell_type": "code",
   "execution_count": null,
   "id": "062c44a8",
   "metadata": {},
   "outputs": [],
   "source": [
    "[member if len(member) >=7 else '' for member in fellowship]"
   ]
  },
  {
   "cell_type": "code",
   "execution_count": null,
   "id": "a9550456-9f70-4117-ba2c-d0befe84fcdf",
   "metadata": {},
   "outputs": [],
   "source": []
  }
 ],
 "metadata": {
  "kernelspec": {
   "display_name": "Python 3 (ipykernel)",
   "language": "python",
   "name": "python3"
  },
  "language_info": {
   "codemirror_mode": {
    "name": "ipython",
    "version": 3
   },
   "file_extension": ".py",
   "mimetype": "text/x-python",
   "name": "python",
   "nbconvert_exporter": "python",
   "pygments_lexer": "ipython3",
   "version": "3.11.4"
  }
 },
 "nbformat": 4,
 "nbformat_minor": 5
}
