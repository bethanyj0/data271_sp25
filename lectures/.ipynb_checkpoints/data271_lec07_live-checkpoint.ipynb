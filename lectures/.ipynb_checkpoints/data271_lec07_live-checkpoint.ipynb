{
 "cells": [
  {
   "cell_type": "markdown",
   "id": "5791e92f",
   "metadata": {},
   "source": [
    "# More Regular Expression "
   ]
  },
  {
   "cell_type": "code",
   "execution_count": null,
   "id": "701da2dc",
   "metadata": {},
   "outputs": [],
   "source": [
    "import re "
   ]
  },
  {
   "cell_type": "markdown",
   "id": "307ca45c-ea81-4fbc-9c29-fe79fd41f02e",
   "metadata": {},
   "source": [
    "## Raw strings"
   ]
  },
  {
   "cell_type": "code",
   "execution_count": null,
   "id": "96108dc4",
   "metadata": {},
   "outputs": [],
   "source": [
    "# A string in python\n"
   ]
  },
  {
   "cell_type": "code",
   "execution_count": null,
   "id": "b31454da",
   "metadata": {},
   "outputs": [],
   "source": [
    "# A raw string in python\n"
   ]
  },
  {
   "cell_type": "code",
   "execution_count": null,
   "id": "503c4d23",
   "metadata": {
    "scrolled": true
   },
   "outputs": [],
   "source": []
  },
  {
   "cell_type": "code",
   "execution_count": null,
   "id": "eb562a14",
   "metadata": {},
   "outputs": [],
   "source": []
  },
  {
   "cell_type": "code",
   "execution_count": null,
   "id": "1a092490",
   "metadata": {},
   "outputs": [],
   "source": [
    "regular_string_with_backslash = \"This is a backslash: \\ \""
   ]
  },
  {
   "cell_type": "code",
   "execution_count": null,
   "id": "12445d4a",
   "metadata": {
    "tags": []
   },
   "outputs": [],
   "source": [
    "# matching won't work with regular strings\n",
    "#re.findall(\"\\\\\",regular_string_with_backslash)"
   ]
  },
  {
   "cell_type": "code",
   "execution_count": null,
   "id": "2ff85a77",
   "metadata": {},
   "outputs": [],
   "source": [
    "# Use a raw string\n",
    "backslash_matches = \n",
    "backslash_matches"
   ]
  },
  {
   "cell_type": "code",
   "execution_count": null,
   "id": "b9557642-a9aa-44b3-819f-389f2e7c825d",
   "metadata": {
    "tags": []
   },
   "outputs": [],
   "source": [
    "print(backslash_matches[0])"
   ]
  },
  {
   "cell_type": "markdown",
   "id": "a92c60e6-fa21-4127-b52b-2041c3013e69",
   "metadata": {},
   "source": [
    "## Set behavior"
   ]
  },
  {
   "cell_type": "code",
   "execution_count": null,
   "id": "17c24516",
   "metadata": {},
   "outputs": [],
   "source": [
    "question = \"What is the meaning of life? ^o^ \""
   ]
  },
  {
   "cell_type": "code",
   "execution_count": null,
   "id": "da361379",
   "metadata": {},
   "outputs": [],
   "source": [
    "# We have to escape special characters\n"
   ]
  },
  {
   "cell_type": "code",
   "execution_count": null,
   "id": "55c6a052",
   "metadata": {},
   "outputs": [],
   "source": [
    "# We don't have to escape if it's inside of a set\n"
   ]
  },
  {
   "cell_type": "code",
   "execution_count": null,
   "id": "38ce53f9-c1cd-433b-9c3a-131d31125bdd",
   "metadata": {
    "tags": []
   },
   "outputs": [],
   "source": [
    "# ^ inside a set excludes characters in that set\n"
   ]
  },
  {
   "cell_type": "code",
   "execution_count": null,
   "id": "a5d667fe-cdb8-4c2b-b9c5-70dbecbb9333",
   "metadata": {
    "tags": []
   },
   "outputs": [],
   "source": [
    "# escape a ^ inside a set with a backslash\n"
   ]
  },
  {
   "cell_type": "markdown",
   "id": "0f9f56cc",
   "metadata": {},
   "source": [
    "## Quantifiers"
   ]
  },
  {
   "cell_type": "code",
   "execution_count": null,
   "id": "6fb0e3f0",
   "metadata": {},
   "outputs": [],
   "source": [
    "string = \"She sells seashells by the seashore.\""
   ]
  },
  {
   "cell_type": "code",
   "execution_count": null,
   "id": "227da84b",
   "metadata": {},
   "outputs": [],
   "source": [
    "# get patterns that start with s and end with s with any character in between\n"
   ]
  },
  {
   "cell_type": "code",
   "execution_count": null,
   "id": "65e6f75b",
   "metadata": {},
   "outputs": [],
   "source": [
    "# get patterns that start with s and end with s with any 2 characters in between\n"
   ]
  },
  {
   "cell_type": "code",
   "execution_count": null,
   "id": "0eafe292",
   "metadata": {},
   "outputs": [],
   "source": [
    "# three characters in between\n"
   ]
  },
  {
   "cell_type": "code",
   "execution_count": null,
   "id": "0aa18bcf",
   "metadata": {},
   "outputs": [],
   "source": [
    "# 1 to 4 characters between s and s\n"
   ]
  },
  {
   "cell_type": "code",
   "execution_count": null,
   "id": "43d39dfb",
   "metadata": {},
   "outputs": [],
   "source": [
    "# 1 tp 4 characters between s and s (shifted)\n",
    "re.findall(r's.{1,4}s',string[string.find('s')+1:])"
   ]
  },
  {
   "cell_type": "markdown",
   "id": "7322cd2f-dc99-4b83-82b1-eec47e2cbd2e",
   "metadata": {},
   "source": [
    "## Look ahead"
   ]
  },
  {
   "cell_type": "code",
   "execution_count": null,
   "id": "0c003505-a113-4d82-8a17-914efb944043",
   "metadata": {
    "tags": []
   },
   "outputs": [],
   "source": [
    "cats = \"I love cats, but not catnaps! Cats are great! 🐱\""
   ]
  },
  {
   "cell_type": "code",
   "execution_count": null,
   "id": "288ca2d8",
   "metadata": {},
   "outputs": [],
   "source": [
    "# positive lookahead; match cat or Cat only if it is followed by s\n",
    "re.findall(...,cats)"
   ]
  },
  {
   "cell_type": "code",
   "execution_count": null,
   "id": "a8b9b075",
   "metadata": {},
   "outputs": [],
   "source": [
    "# negative lookahead; match cat or Cat only if it is NOT followed by naps\n",
    "re.findall(...,cats)"
   ]
  },
  {
   "cell_type": "code",
   "execution_count": null,
   "id": "e9ed471f",
   "metadata": {},
   "outputs": [],
   "source": [
    "# positive lookbehind; match cat or Cat only if it is preceded by \"love \"\n",
    "re.findall(...,cats)"
   ]
  },
  {
   "cell_type": "code",
   "execution_count": null,
   "id": "09d33b61",
   "metadata": {},
   "outputs": [],
   "source": [
    "# positive lookbehind; match cat or Cat only if it is NOT preceded by \"love \"\n",
    "re.findall(...,cats)"
   ]
  },
  {
   "cell_type": "markdown",
   "id": "50810a14",
   "metadata": {},
   "source": [
    "## Capture groups "
   ]
  },
  {
   "cell_type": "code",
   "execution_count": null,
   "id": "3ec8aaaa",
   "metadata": {},
   "outputs": [],
   "source": [
    "text = 'apple banana appleappleapple applee orange'"
   ]
  },
  {
   "cell_type": "code",
   "execution_count": null,
   "id": "e8e6d7d7",
   "metadata": {},
   "outputs": [],
   "source": [
    "# + only matches characters immediately to the left\n",
    "re.findall(...,text)"
   ]
  },
  {
   "cell_type": "code",
   "execution_count": null,
   "id": "02af42c4",
   "metadata": {},
   "outputs": [],
   "source": [
    "# If we want to match a whole word 1 or more times, we group\n",
    "# note that it only matches the things in the group -- \"capture group\" \n",
    "re.findall(...,text)"
   ]
  },
  {
   "cell_type": "code",
   "execution_count": null,
   "id": "135271bc-c21b-4644-9c26-7cdc80c44f2a",
   "metadata": {
    "tags": []
   },
   "outputs": [],
   "source": [
    "# To make it a non-capturing group, use ?:\n",
    "re.findall(...,text)"
   ]
  },
  {
   "cell_type": "code",
   "execution_count": null,
   "id": "13722036",
   "metadata": {},
   "outputs": [],
   "source": [
    "# Using grouping for collections of info\n",
    "statement = 'Mary has 3 cats. Ben had 2 dogs. Maya has 14 chickens, and April has 1 alpaca.'"
   ]
  },
  {
   "cell_type": "code",
   "execution_count": null,
   "id": "8ab1408f",
   "metadata": {
    "scrolled": true
   },
   "outputs": [],
   "source": [
    "# get all the statements in the form \"person has or had # pets\"\n",
    "re.findall(r'[A-Za-z]+\\s[A-Za-z]+\\s\\d+\\s[A-Za-z]+',statement)"
   ]
  },
  {
   "cell_type": "code",
   "execution_count": null,
   "id": "81c9a857",
   "metadata": {},
   "outputs": [],
   "source": [
    "# if I only care about the people, group by the first part\n",
    "re.findall(...,statement)"
   ]
  },
  {
   "cell_type": "code",
   "execution_count": null,
   "id": "4dabd990",
   "metadata": {},
   "outputs": [],
   "source": [
    "# if I care about the people and the number of pets they have or had\n",
    "re.findall(r'([A-Za-z]+)\\s[A-Za-z]+\\s(\\d+)\\s[A-Za-z]+',statement)"
   ]
  },
  {
   "cell_type": "code",
   "execution_count": null,
   "id": "e92d2c77",
   "metadata": {},
   "outputs": [],
   "source": [
    "# if I care about the people and the number of pets and the type of pet\n",
    "re.findall(r'([A-Za-z]+)\\s[A-Za-z]+\\s(\\d+)\\s([A-Za-z]+)',statement)"
   ]
  },
  {
   "cell_type": "markdown",
   "id": "0a0d2906-979a-4a3a-b16b-89f0f69da501",
   "metadata": {},
   "source": [
    "You can backreference things in capture groups."
   ]
  },
  {
   "cell_type": "code",
   "execution_count": null,
   "id": "e8d0ad74-ac27-403d-80c3-717a514ac103",
   "metadata": {
    "tags": []
   },
   "outputs": [],
   "source": [
    "dates = \"12/25/2025 01/01/2023 11/14/2022\"\n",
    "re.findall('(\\d{2})/(\\d{2})/(\\d{4})',dates)"
   ]
  },
  {
   "cell_type": "code",
   "execution_count": null,
   "id": "9807761d-f6b1-453a-b75a-46a2fdddc0ed",
   "metadata": {
    "tags": []
   },
   "outputs": [],
   "source": [
    "# Reference the capture groups switch from MM/DD/YYY to YYYY/MM/DD\n"
   ]
  },
  {
   "cell_type": "code",
   "execution_count": null,
   "id": "46d00259-8465-4560-b60e-c9be3a92799e",
   "metadata": {
    "tags": []
   },
   "outputs": [],
   "source": [
    "# You can name capture groups with ?P to make it easier to reference. use \\g when referencing\n",
    "# Note this only works for substitutions\n",
    "re.sub(r'(?P<month>\\d{2})/(?P<day>\\d{2})/(?P<year>\\d{4})',r'\\g<year>/\\g<month>/\\g<day>', dates)"
   ]
  },
  {
   "cell_type": "code",
   "execution_count": null,
   "id": "71a6143f-01fa-4dee-893f-a7ab6e9fb65b",
   "metadata": {
    "tags": []
   },
   "outputs": [],
   "source": [
    "# This type of technique is helpful for cleaning data\n",
    "messy_dates = \"12/25/2025 01/1/2023 11/14/2022\"\n",
    "re.sub(r'/(\\d)/', r'/0\\1/', messy_dates)"
   ]
  },
  {
   "cell_type": "markdown",
   "id": "44a71bae-fa29-41f1-b523-26a2b6c92a1b",
   "metadata": {},
   "source": [
    "Capture groups and backreferences can be used within a single regex."
   ]
  },
  {
   "cell_type": "code",
   "execution_count": null,
   "id": "138162b4-c9b9-41e9-b762-65c775c78c0a",
   "metadata": {
    "tags": []
   },
   "outputs": [],
   "source": [
    "string_with_nums = \"123 432 543 578 443 444 757 577 222 974 199\""
   ]
  },
  {
   "cell_type": "code",
   "execution_count": null,
   "id": "d48894af-0465-43b1-832e-54d69404806a",
   "metadata": {
    "tags": []
   },
   "outputs": [],
   "source": [
    "# find all occurances of 3 digits in a row\n"
   ]
  },
  {
   "cell_type": "code",
   "execution_count": null,
   "id": "bcf27e86-caeb-4d69-be02-8a6c3206e448",
   "metadata": {
    "tags": []
   },
   "outputs": [],
   "source": [
    "# find all occurances of identical digit repeated 3 times in a row\n"
   ]
  },
  {
   "cell_type": "code",
   "execution_count": null,
   "id": "3e0c4e38-3d3b-4cb9-94df-383ad36c4372",
   "metadata": {
    "tags": []
   },
   "outputs": [],
   "source": [
    "# it takes some work to show the repeats\n",
    "matches = re.findall(r'((\\d)\\2{2})', string_with_nums)\n",
    "[tup[0] for tup in matches]"
   ]
  },
  {
   "cell_type": "markdown",
   "id": "f811e216",
   "metadata": {},
   "source": [
    "## Activities"
   ]
  },
  {
   "cell_type": "markdown",
   "id": "eb5c1754",
   "metadata": {},
   "source": [
    "1. Extract all the emoticons such as `:)` or `:-)` etc. "
   ]
  },
  {
   "cell_type": "code",
   "execution_count": null,
   "id": "fa005f2c",
   "metadata": {},
   "outputs": [],
   "source": [
    "greeting = \"\"\"\n",
    "Hi! :D \n",
    "It is so nice to meet you! :-) \n",
    "I wish I could stay and chat :P but I have to go. :( \n",
    "Bye bye. D,:\n",
    "\"\"\""
   ]
  },
  {
   "cell_type": "code",
   "execution_count": null,
   "id": "a6180209-18d5-435c-924c-9986a5c6bfb5",
   "metadata": {
    "tags": []
   },
   "outputs": [],
   "source": [
    "..."
   ]
  },
  {
   "cell_type": "markdown",
   "id": "373a03e0",
   "metadata": {},
   "source": [
    "2. Extract the year, month, and day for each date in the list. The dates are in the form MM-DD-YYYY."
   ]
  },
  {
   "cell_type": "code",
   "execution_count": null,
   "id": "70f8eacd",
   "metadata": {},
   "outputs": [],
   "source": [
    "dates = ['01-31-2001','02-28-2002','03-30-2003','04-29-2004','05-28-2005','06-27-2006',\n",
    "         '07-07-2007','08-08-2008','09-09-2009','10-10-2010','11-11-2011','12-12-2012']\n",
    "\n",
    "year = ...\n",
    "month = ...\n",
    "day = ...\n",
    "\n",
    "print(year)\n",
    "print(month)\n",
    "print(day)"
   ]
  },
  {
   "cell_type": "code",
   "execution_count": null,
   "id": "3816ea9d",
   "metadata": {},
   "outputs": [],
   "source": []
  }
 ],
 "metadata": {
  "kernelspec": {
   "display_name": "Python 3 (ipykernel)",
   "language": "python",
   "name": "python3"
  },
  "language_info": {
   "codemirror_mode": {
    "name": "ipython",
    "version": 3
   },
   "file_extension": ".py",
   "mimetype": "text/x-python",
   "name": "python",
   "nbconvert_exporter": "python",
   "pygments_lexer": "ipython3",
   "version": "3.11.4"
  }
 },
 "nbformat": 4,
 "nbformat_minor": 5
}
