{
 "cells": [
  {
   "cell_type": "markdown",
   "id": "5791e92f",
   "metadata": {},
   "source": [
    "# NumPy\n",
    "If you want to type along with me, use [this notebook](https://humboldt.cloudbank.2i2c.cloud/hub/user-redirect/git-pull?repo=https%3A%2F%2Fgithub.com%2Fbethanyj0%2Fdata271_sp25&branch=main&urlpath=tree%2Fdata271_sp25%2Flectures%2Fdata271_lec09_live.ipynb) instead. \n",
    "If you don't want to type and want to follow along just by executing the cells, stay in this notebook. "
   ]
  },
  {
   "cell_type": "code",
   "execution_count": null,
   "id": "1fb3a498",
   "metadata": {
    "tags": []
   },
   "outputs": [],
   "source": [
    "# Whenever you want to use numpy, import it with the following code\n",
    "import numpy as np"
   ]
  },
  {
   "cell_type": "code",
   "execution_count": null,
   "id": "a7a8df19",
   "metadata": {
    "tags": []
   },
   "outputs": [],
   "source": [
    "arr = np.array([1,2,3])\n",
    "arr"
   ]
  },
  {
   "cell_type": "code",
   "execution_count": null,
   "id": "148c7b8a",
   "metadata": {
    "tags": []
   },
   "outputs": [],
   "source": [
    "type(arr)"
   ]
  },
  {
   "cell_type": "code",
   "execution_count": null,
   "id": "659c2b97",
   "metadata": {
    "tags": []
   },
   "outputs": [],
   "source": [
    "arr2d=np.array([[1,2,3],[4,5,6]])\n",
    "arr2d"
   ]
  },
  {
   "cell_type": "markdown",
   "id": "aed327fb",
   "metadata": {},
   "source": [
    "## Attributes"
   ]
  },
  {
   "cell_type": "code",
   "execution_count": null,
   "id": "0623a96b",
   "metadata": {
    "tags": []
   },
   "outputs": [],
   "source": [
    "# number of dimensions\n",
    "arr2d.ndim"
   ]
  },
  {
   "cell_type": "code",
   "execution_count": null,
   "id": "33c80a7f",
   "metadata": {
    "tags": []
   },
   "outputs": [],
   "source": [
    "# shape of the array\n",
    "arr2d.shape"
   ]
  },
  {
   "cell_type": "code",
   "execution_count": null,
   "id": "c8e15a74",
   "metadata": {
    "tags": []
   },
   "outputs": [],
   "source": [
    "# size of the array (how many total elements)\n",
    "arr2d.size"
   ]
  },
  {
   "cell_type": "code",
   "execution_count": null,
   "id": "3620598d",
   "metadata": {
    "tags": []
   },
   "outputs": [],
   "source": [
    "# type of the elements within the array\n",
    "arr2d.dtype"
   ]
  },
  {
   "cell_type": "markdown",
   "id": "60b872ff",
   "metadata": {},
   "source": [
    "## Why NumPy?"
   ]
  },
  {
   "cell_type": "code",
   "execution_count": null,
   "id": "95bb78f4",
   "metadata": {
    "tags": []
   },
   "outputs": [],
   "source": [
    "# Base Python data structures can't handle elementwise operations\n",
    "lst = [1,2,3]\n",
    "lst**2"
   ]
  },
  {
   "cell_type": "code",
   "execution_count": null,
   "id": "4f50149a",
   "metadata": {
    "tags": []
   },
   "outputs": [],
   "source": [
    "# NumPy can\n",
    "arr = np.array([1,2,3])\n",
    "arr**2"
   ]
  },
  {
   "cell_type": "markdown",
   "id": "077c65f5",
   "metadata": {},
   "source": [
    "Numpy is more computationally efficient"
   ]
  },
  {
   "cell_type": "code",
   "execution_count": null,
   "id": "b8f08da4",
   "metadata": {
    "tags": []
   },
   "outputs": [],
   "source": [
    "# How long to double every element in a big list\n",
    "big_list = list(range(1000000))\n",
    "%timeit [i**2 for i in big_list]"
   ]
  },
  {
   "cell_type": "code",
   "execution_count": null,
   "id": "07fc3e3b",
   "metadata": {
    "tags": []
   },
   "outputs": [],
   "source": [
    "# How long to double every element in a big array\n",
    "big_array = np.arange(1000000)\n",
    "%timeit big_array**2"
   ]
  },
  {
   "cell_type": "markdown",
   "id": "c2548e69",
   "metadata": {},
   "source": [
    "## Creating NumPy arrays"
   ]
  },
  {
   "cell_type": "code",
   "execution_count": null,
   "id": "9c9c3d89",
   "metadata": {
    "tags": []
   },
   "outputs": [],
   "source": [
    "# Manually enter each element\n",
    "np.array([1,2,3])"
   ]
  },
  {
   "cell_type": "code",
   "execution_count": null,
   "id": "b01f4bbf",
   "metadata": {
    "tags": []
   },
   "outputs": [],
   "source": [
    "# Create sequential array with np.arange\n",
    "np.arange(10)"
   ]
  },
  {
   "cell_type": "code",
   "execution_count": null,
   "id": "2224dfa2",
   "metadata": {
    "tags": []
   },
   "outputs": [],
   "source": [
    "# Indicate start, stop, and step in np.arange\n",
    "np.arange(2,10,2)"
   ]
  },
  {
   "cell_type": "code",
   "execution_count": null,
   "id": "ef0a68e2",
   "metadata": {
    "scrolled": true,
    "tags": []
   },
   "outputs": [],
   "source": [
    "# Create a set number of equally spaced elements with np.linspace(start,stop,number)\n",
    "np.linspace(2,5,10)"
   ]
  },
  {
   "cell_type": "code",
   "execution_count": null,
   "id": "f969b9d6",
   "metadata": {
    "tags": []
   },
   "outputs": [],
   "source": [
    "# ndarray of ones\n",
    "np.ones((3,3))"
   ]
  },
  {
   "cell_type": "code",
   "execution_count": null,
   "id": "641f7e5c",
   "metadata": {
    "tags": []
   },
   "outputs": [],
   "source": [
    "# ndarray of zeros\n",
    "np.zeros(10)"
   ]
  },
  {
   "cell_type": "code",
   "execution_count": null,
   "id": "2d380294",
   "metadata": {
    "tags": []
   },
   "outputs": [],
   "source": [
    "# identity matrix\n",
    "np.eye(3)"
   ]
  },
  {
   "cell_type": "code",
   "execution_count": null,
   "id": "792bac45",
   "metadata": {
    "tags": []
   },
   "outputs": [],
   "source": [
    "# Fill whole nd array with a specific value\n",
    "np.full((3,4),2)"
   ]
  },
  {
   "cell_type": "markdown",
   "id": "1405b190",
   "metadata": {},
   "source": [
    "### Casting other data structures to numpy arrays"
   ]
  },
  {
   "cell_type": "code",
   "execution_count": null,
   "id": "9f82f7ab",
   "metadata": {
    "tags": []
   },
   "outputs": [],
   "source": [
    "lst = [1,2,3]\n",
    "type(lst)"
   ]
  },
  {
   "cell_type": "code",
   "execution_count": null,
   "id": "32a9b562",
   "metadata": {
    "tags": []
   },
   "outputs": [],
   "source": [
    "np.asarray(lst)"
   ]
  },
  {
   "cell_type": "code",
   "execution_count": null,
   "id": "9a307142",
   "metadata": {
    "tags": []
   },
   "outputs": [],
   "source": [
    "tup = (1,2,3)\n",
    "np.asarray(tup)"
   ]
  },
  {
   "cell_type": "code",
   "execution_count": null,
   "id": "5889b9c3",
   "metadata": {
    "tags": []
   },
   "outputs": [],
   "source": [
    "# Not typically used (no ordering)\n",
    "dct = {1:2,3:4}\n",
    "np.asarray(dct)"
   ]
  },
  {
   "cell_type": "code",
   "execution_count": null,
   "id": "3a166d87",
   "metadata": {
    "tags": []
   },
   "outputs": [],
   "source": [
    "# Not typically used (no ordering)\n",
    "my_set = {1,2,3,3}\n",
    "np.asarray(my_set)"
   ]
  },
  {
   "cell_type": "markdown",
   "id": "6ae4d828",
   "metadata": {},
   "source": [
    "## Converting data types"
   ]
  },
  {
   "cell_type": "code",
   "execution_count": null,
   "id": "1e61161a",
   "metadata": {
    "tags": []
   },
   "outputs": [],
   "source": [
    "arr2 = np.array((0,2,3))\n",
    "arr2.dtype"
   ]
  },
  {
   "cell_type": "code",
   "execution_count": null,
   "id": "03352dcb",
   "metadata": {
    "scrolled": true,
    "tags": []
   },
   "outputs": [],
   "source": [
    "arr2.astype('float')"
   ]
  },
  {
   "cell_type": "code",
   "execution_count": null,
   "id": "ca46aaea",
   "metadata": {
    "tags": []
   },
   "outputs": [],
   "source": [
    "arr2.astype('bool')"
   ]
  },
  {
   "cell_type": "markdown",
   "id": "95334753",
   "metadata": {},
   "source": [
    "More about numpy [data types](https://numpy.org/doc/stable/user/basics.types.html)."
   ]
  },
  {
   "cell_type": "markdown",
   "id": "c0c2bbf2",
   "metadata": {},
   "source": [
    "## Arithmetic with NumPy Arrays"
   ]
  },
  {
   "cell_type": "code",
   "execution_count": null,
   "id": "fb3424bd",
   "metadata": {
    "tags": []
   },
   "outputs": [],
   "source": [
    "# Performs elementwise arithmetic\n",
    "arr1 = np.array([[2,3],[4,5]])\n",
    "arr2 = np.array([[3,3],[3,3]])"
   ]
  },
  {
   "cell_type": "code",
   "execution_count": null,
   "id": "d930ef40",
   "metadata": {
    "scrolled": true,
    "tags": []
   },
   "outputs": [],
   "source": [
    "arr1"
   ]
  },
  {
   "cell_type": "code",
   "execution_count": null,
   "id": "459d3fef",
   "metadata": {
    "tags": []
   },
   "outputs": [],
   "source": [
    "arr2"
   ]
  },
  {
   "cell_type": "code",
   "execution_count": null,
   "id": "1cb691c0",
   "metadata": {
    "tags": []
   },
   "outputs": [],
   "source": [
    "arr1-arr2"
   ]
  },
  {
   "cell_type": "code",
   "execution_count": null,
   "id": "b89c8af1",
   "metadata": {
    "tags": []
   },
   "outputs": [],
   "source": [
    "arr1+arr2"
   ]
  },
  {
   "cell_type": "code",
   "execution_count": null,
   "id": "12b0052e",
   "metadata": {},
   "outputs": [],
   "source": [
    "arr1*arr2"
   ]
  },
  {
   "cell_type": "code",
   "execution_count": null,
   "id": "25abb159",
   "metadata": {},
   "outputs": [],
   "source": [
    "arr1/arr2"
   ]
  },
  {
   "cell_type": "code",
   "execution_count": null,
   "id": "c38b1b85",
   "metadata": {},
   "outputs": [],
   "source": [
    "# comparisons are also elementwise\n",
    "arr1 > arr2"
   ]
  },
  {
   "cell_type": "markdown",
   "id": "4053491c",
   "metadata": {},
   "source": [
    "## Broadcasting"
   ]
  },
  {
   "cell_type": "code",
   "execution_count": null,
   "id": "1eb2bcee",
   "metadata": {},
   "outputs": [],
   "source": [
    "# adding two arrays of the same shape\n",
    "arr1 + arr2"
   ]
  },
  {
   "cell_type": "code",
   "execution_count": null,
   "id": "445e343e",
   "metadata": {},
   "outputs": [],
   "source": [
    "# adding number, it \"stretches\" or \"broadcasts\" the number into the right shape \n",
    "arr1 + 3"
   ]
  },
  {
   "cell_type": "code",
   "execution_count": null,
   "id": "12131aad",
   "metadata": {},
   "outputs": [],
   "source": [
    "# works with any operation\n",
    "1/arr1"
   ]
  },
  {
   "cell_type": "markdown",
   "id": "19106a63",
   "metadata": {},
   "source": [
    "# Indexing and slicing"
   ]
  },
  {
   "cell_type": "code",
   "execution_count": null,
   "id": "645b4d0b",
   "metadata": {},
   "outputs": [],
   "source": [
    "arr = np.arange(10)"
   ]
  },
  {
   "cell_type": "code",
   "execution_count": null,
   "id": "ba8407c7",
   "metadata": {},
   "outputs": [],
   "source": [
    "# indexing \n",
    "arr[3]"
   ]
  },
  {
   "cell_type": "code",
   "execution_count": null,
   "id": "6311f1ed",
   "metadata": {
    "scrolled": true
   },
   "outputs": [],
   "source": [
    "# slicing\n",
    "arr[3:5]"
   ]
  },
  {
   "cell_type": "markdown",
   "id": "5a0747e9",
   "metadata": {},
   "source": [
    "### Indexing/slicing 2d arrays"
   ]
  },
  {
   "cell_type": "code",
   "execution_count": null,
   "id": "8d7c6c92",
   "metadata": {},
   "outputs": [],
   "source": [
    "arr2d"
   ]
  },
  {
   "cell_type": "code",
   "execution_count": null,
   "id": "21fa5cf7",
   "metadata": {},
   "outputs": [],
   "source": [
    "# elements can be accessed recursively\n",
    "arr2d[0][1]"
   ]
  },
  {
   "cell_type": "code",
   "execution_count": null,
   "id": "443bd491",
   "metadata": {},
   "outputs": [],
   "source": [
    "# Or with a comma\n",
    "arr2d[0,1]"
   ]
  },
  {
   "cell_type": "code",
   "execution_count": null,
   "id": "9cea8010",
   "metadata": {},
   "outputs": [],
   "source": [
    "# access a \"row\"\n",
    "arr2d[0]"
   ]
  },
  {
   "cell_type": "code",
   "execution_count": null,
   "id": "11969475",
   "metadata": {},
   "outputs": [],
   "source": [
    "# access a single \"row\" gives a 1d array\n",
    "arr2d[0].shape"
   ]
  },
  {
   "cell_type": "code",
   "execution_count": null,
   "id": "420a03d5",
   "metadata": {},
   "outputs": [],
   "source": [
    "# access a \"row\" another way\n",
    "arr2d[0:1,]"
   ]
  },
  {
   "cell_type": "code",
   "execution_count": null,
   "id": "1b950aa3",
   "metadata": {},
   "outputs": [],
   "source": [
    "# access a \"row\" another way gives 2d array\n",
    "arr2d[0:1,].shape"
   ]
  },
  {
   "cell_type": "code",
   "execution_count": null,
   "id": "beab0e14",
   "metadata": {},
   "outputs": [],
   "source": [
    "# access a \"column\"\n",
    "arr2d[:,0]"
   ]
  },
  {
   "cell_type": "code",
   "execution_count": null,
   "id": "e2fff3fa",
   "metadata": {},
   "outputs": [],
   "source": [
    "# access a \"column\" gives a 1d array\n",
    "arr2d[:,0].shape"
   ]
  },
  {
   "cell_type": "code",
   "execution_count": null,
   "id": "28fcbcb9",
   "metadata": {},
   "outputs": [],
   "source": [
    "# access a \"column\" another way\n",
    "new_arr = arr2d[:,0]\n",
    "new_arr[:,np.newaxis]"
   ]
  },
  {
   "cell_type": "code",
   "execution_count": null,
   "id": "d82df050",
   "metadata": {},
   "outputs": [],
   "source": [
    "# access a \"column\" another way gives 2d array\n",
    "new_arr[:,np.newaxis].shape"
   ]
  },
  {
   "cell_type": "markdown",
   "id": "bcc005b0",
   "metadata": {},
   "source": [
    "## Views vs copies"
   ]
  },
  {
   "cell_type": "code",
   "execution_count": null,
   "id": "ab3f787f-3832-4376-8c72-791aab2d2fa1",
   "metadata": {
    "tags": []
   },
   "outputs": [],
   "source": [
    "arr"
   ]
  },
  {
   "cell_type": "code",
   "execution_count": null,
   "id": "15bbc48b",
   "metadata": {},
   "outputs": [],
   "source": [
    "arr_slice = arr[3:5]\n",
    "arr_slice"
   ]
  },
  {
   "cell_type": "code",
   "execution_count": null,
   "id": "3566bc59",
   "metadata": {},
   "outputs": [],
   "source": [
    "arr_slice[0]=20\n",
    "arr_slice"
   ]
  },
  {
   "cell_type": "code",
   "execution_count": null,
   "id": "0f38f083",
   "metadata": {},
   "outputs": [],
   "source": [
    "arr"
   ]
  },
  {
   "cell_type": "code",
   "execution_count": null,
   "id": "d4bdacb3",
   "metadata": {},
   "outputs": [],
   "source": [
    "# This is a view\n",
    "one_thru_nine = np.arange(1,10)\n",
    "reshaped_array = one_thru_nine.reshape((3,3)) \n",
    "print(reshaped_array)\n",
    "print(reshaped_array.base)"
   ]
  },
  {
   "cell_type": "code",
   "execution_count": null,
   "id": "42623e8b",
   "metadata": {},
   "outputs": [],
   "source": [
    "# This is a copy\n",
    "reshaped_array_copy = one_thru_nine.reshape((3,3)).copy()\n",
    "print(reshaped_array_copy)\n",
    "print(reshaped_array_copy.base)"
   ]
  },
  {
   "cell_type": "code",
   "execution_count": null,
   "id": "bea442e1-9951-458f-b6d2-e87b282de5b0",
   "metadata": {
    "tags": []
   },
   "outputs": [],
   "source": [
    "# Updating the copy will not update the original\n",
    "reshaped_array_copy[0,0] = 0\n",
    "print(reshaped_array_copy)\n",
    "print(one_thru_nine)"
   ]
  },
  {
   "cell_type": "code",
   "execution_count": null,
   "id": "f0b5adb5-fc5e-49dd-8ced-eda98bd1c550",
   "metadata": {
    "tags": []
   },
   "outputs": [],
   "source": [
    "# Updating the view will update the original\n",
    "reshaped_array[0,0] = 0\n",
    "print(reshaped_array)\n",
    "print(one_thru_nine)"
   ]
  },
  {
   "cell_type": "markdown",
   "id": "aed3e63e",
   "metadata": {},
   "source": [
    "## Activity"
   ]
  },
  {
   "cell_type": "markdown",
   "id": "bec4798a",
   "metadata": {},
   "source": [
    "1. Create the following array:\n",
    "\n",
    "\\begin{bmatrix}\n",
    "1 & 1 & 1 & 1 & 1 \\\\\n",
    "1 & 0 & 0 & 0 & 1 \\\\\n",
    "1 & 0 & 2 & 0 & 1 \\\\\n",
    "1 & 0 & 0 & 0 & 1 \\\\\n",
    "1 & 1 & 1 & 1 & 1 \\\\\n",
    "\\end{bmatrix}\n",
    "\n",
    "Feel free to use several lines of code."
   ]
  },
  {
   "cell_type": "code",
   "execution_count": null,
   "id": "d423607a",
   "metadata": {},
   "outputs": [],
   "source": [
    "import numpy as np\n",
    "# Create a 5x5 array filled with ones\n",
    "matrix = np.ones((5, 5))\n",
    "matrix[1:4, 1:4] = 0\n",
    "matrix[2, 2] = 2\n",
    "matrix"
   ]
  },
  {
   "cell_type": "markdown",
   "id": "ee8b331d",
   "metadata": {},
   "source": [
    "2. Consider the following array: "
   ]
  },
  {
   "cell_type": "code",
   "execution_count": null,
   "id": "2413c681",
   "metadata": {},
   "outputs": [],
   "source": [
    "array1 = np.array([[1,3,8,2,89],[76,4,7,12,5],[9,31,86,18,13],[19,10,26,28,33]])\n",
    "array1"
   ]
  },
  {
   "cell_type": "markdown",
   "id": "47ec7d8b",
   "metadata": {},
   "source": [
    "Access the elements containing 12, 5, 18, and 13. Output should be shape (2,2)."
   ]
  },
  {
   "cell_type": "code",
   "execution_count": null,
   "id": "1b7d5053",
   "metadata": {},
   "outputs": [],
   "source": [
    "array1[1:3,3:5]"
   ]
  },
  {
   "cell_type": "code",
   "execution_count": null,
   "id": "120fca9a-d5da-4f22-b367-e30e4300fd20",
   "metadata": {},
   "outputs": [],
   "source": []
  }
 ],
 "metadata": {
  "kernelspec": {
   "display_name": "Python 3 (ipykernel)",
   "language": "python",
   "name": "python3"
  },
  "language_info": {
   "codemirror_mode": {
    "name": "ipython",
    "version": 3
   },
   "file_extension": ".py",
   "mimetype": "text/x-python",
   "name": "python",
   "nbconvert_exporter": "python",
   "pygments_lexer": "ipython3",
   "version": "3.11.4"
  }
 },
 "nbformat": 4,
 "nbformat_minor": 5
}
