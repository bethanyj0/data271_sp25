{
 "cells": [
  {
   "cell_type": "markdown",
   "id": "5791e92f",
   "metadata": {},
   "source": [
    "# Other NumPy Features and Applications\n",
    "If you want to type along with me, use [this notebook](https://humboldt.cloudbank.2i2c.cloud/hub/user-redirect/git-pull?repo=https%3A%2F%2Fgithub.com%2Fbethanyj0%2Fdata271_sp25&branch=main&urlpath=tree%2Fdata271_sp25%2Flectures%2Fdata271_lec10_live.ipynb) instead. \n",
    "If you don't want to type and want to follow along just by executing the cells, stay in this notebook. "
   ]
  },
  {
   "cell_type": "code",
   "execution_count": null,
   "id": "1fb3a498",
   "metadata": {},
   "outputs": [],
   "source": [
    "# Whenever you want to use numpy import it with the following code\n",
    "import numpy as np"
   ]
  },
  {
   "cell_type": "markdown",
   "id": "f12f87ea",
   "metadata": {},
   "source": [
    "## Advanced indexing"
   ]
  },
  {
   "cell_type": "code",
   "execution_count": null,
   "id": "3918d4db",
   "metadata": {},
   "outputs": [],
   "source": [
    "arr = np.arange(0,20,2)\n",
    "arr"
   ]
  },
  {
   "cell_type": "code",
   "execution_count": null,
   "id": "d1aaeadb",
   "metadata": {},
   "outputs": [],
   "source": [
    "# select elements that are divisible by 3\n",
    "arr[arr % 3 == 0]"
   ]
  },
  {
   "cell_type": "code",
   "execution_count": null,
   "id": "ac14660a",
   "metadata": {},
   "outputs": [],
   "source": [
    "# another way to do that \"masking\"\n",
    "mask = arr % 3 == 0\n",
    "arr2 = arr[mask]\n",
    "arr2"
   ]
  },
  {
   "cell_type": "code",
   "execution_count": null,
   "id": "2b09d612",
   "metadata": {},
   "outputs": [],
   "source": [
    "# also works with 2d arrays\n",
    "arr2d = np.array([[1, 7, 9], \n",
    "                    [14, 19, 21], \n",
    "                    [25, 29, 35]])\n",
    "arr2d"
   ]
  },
  {
   "cell_type": "code",
   "execution_count": null,
   "id": "493cd3c4-b028-4853-b01e-a71909df3b82",
   "metadata": {
    "tags": []
   },
   "outputs": [],
   "source": [
    "# results 1d array\n",
    "boolean_mask = arr2d > 9\n",
    "result = arr2d[boolean_mask]\n",
    "result"
   ]
  },
  {
   "cell_type": "code",
   "execution_count": null,
   "id": "634cd7df-02a6-42cf-9a59-dedb3b29023c",
   "metadata": {
    "tags": []
   },
   "outputs": [],
   "source": [
    "# to preserve the shape\n",
    "result = np.where(boolean_mask, arr2d, 0)\n",
    "result"
   ]
  },
  {
   "cell_type": "markdown",
   "id": "308f19b0-2671-4f2c-82e8-ca60665f0ace",
   "metadata": {},
   "source": [
    "### NumPy Methods"
   ]
  },
  {
   "cell_type": "code",
   "execution_count": null,
   "id": "6ce4b633-a4c7-4b00-93d1-e25b44300c95",
   "metadata": {
    "tags": []
   },
   "outputs": [],
   "source": [
    "arr = np.array([5,2,7,3,1,8,3,1,7,2])"
   ]
  },
  {
   "cell_type": "code",
   "execution_count": null,
   "id": "ca7da519-34eb-4548-93a9-51d89457e8c1",
   "metadata": {},
   "outputs": [],
   "source": [
    "# find the max\n",
    "arr.max()"
   ]
  },
  {
   "cell_type": "code",
   "execution_count": null,
   "id": "becf04de-1fa9-4b1a-9770-74991efe503f",
   "metadata": {},
   "outputs": [],
   "source": [
    "# find the min\n",
    "arr.min()"
   ]
  },
  {
   "cell_type": "code",
   "execution_count": null,
   "id": "4f790f67-29dc-4e37-934b-f27f8921f6aa",
   "metadata": {},
   "outputs": [],
   "source": [
    "# find the index of the maximum\n",
    "arr.argmax()"
   ]
  },
  {
   "cell_type": "code",
   "execution_count": null,
   "id": "ae0eb8a7-5481-4623-b73d-837f6edf3b3b",
   "metadata": {},
   "outputs": [],
   "source": [
    "# find the index of the maximum\n",
    "arr.argmin()"
   ]
  },
  {
   "cell_type": "code",
   "execution_count": null,
   "id": "0ecbb972-cd4c-48ec-9175-dc1ab6cf4c67",
   "metadata": {},
   "outputs": [],
   "source": [
    "# find the indices that would sort the array\n",
    "arr.argsort()"
   ]
  },
  {
   "cell_type": "code",
   "execution_count": null,
   "id": "699a6be6-d877-48f3-bf0b-750d5edfcf78",
   "metadata": {},
   "outputs": [],
   "source": [
    "arr[arr.argsort()]"
   ]
  },
  {
   "cell_type": "code",
   "execution_count": null,
   "id": "05da3879-1c06-4445-8b29-0d3129fef3ee",
   "metadata": {},
   "outputs": [],
   "source": [
    "# find the mean\n",
    "arr.mean()"
   ]
  },
  {
   "cell_type": "code",
   "execution_count": null,
   "id": "38cf4c74-5954-4c4c-8273-9b799e5c0afd",
   "metadata": {},
   "outputs": [],
   "source": [
    "# find the standard deviation\n",
    "arr.std()"
   ]
  },
  {
   "cell_type": "code",
   "execution_count": null,
   "id": "cdac0eb7-bbfa-4268-bd47-21b9dfc59638",
   "metadata": {},
   "outputs": [],
   "source": [
    "# add everything up\n",
    "arr.sum()"
   ]
  },
  {
   "cell_type": "code",
   "execution_count": null,
   "id": "6ff0439e-b844-4e08-8339-744c245dfc7e",
   "metadata": {},
   "outputs": [],
   "source": [
    "# get cumulative sum element by element\n",
    "arr.cumsum()"
   ]
  },
  {
   "cell_type": "code",
   "execution_count": null,
   "id": "8d174a6b-22f4-46b1-b1ca-753599f66bca",
   "metadata": {},
   "outputs": [],
   "source": [
    "# \"peak to peak\" maximum - minimum\n",
    "arr.ptp()"
   ]
  },
  {
   "cell_type": "code",
   "execution_count": null,
   "id": "70e1a230-6748-4e46-89df-44820bf198f7",
   "metadata": {},
   "outputs": [],
   "source": [
    "# clip values\n",
    "print(arr.clip(3,6))\n",
    "print(arr)"
   ]
  },
  {
   "cell_type": "markdown",
   "id": "fed874a2",
   "metadata": {},
   "source": [
    "## Functions for updating arrays"
   ]
  },
  {
   "cell_type": "code",
   "execution_count": null,
   "id": "164b6cdb",
   "metadata": {},
   "outputs": [],
   "source": [
    "arr = np.arange(0,20,2)\n",
    "arr"
   ]
  },
  {
   "cell_type": "code",
   "execution_count": null,
   "id": "1d50256c",
   "metadata": {},
   "outputs": [],
   "source": [
    "# append value(s)\n",
    "np.append(arr,20)"
   ]
  },
  {
   "cell_type": "code",
   "execution_count": null,
   "id": "a0cb8804",
   "metadata": {},
   "outputs": [],
   "source": [
    "# insert value(s)\n",
    "np.insert(arr,1,1)"
   ]
  },
  {
   "cell_type": "code",
   "execution_count": null,
   "id": "d9b1e59b",
   "metadata": {},
   "outputs": [],
   "source": [
    "# delete value(s)\n",
    "np.delete(arr,2)"
   ]
  },
  {
   "cell_type": "code",
   "execution_count": null,
   "id": "6c7f41ce",
   "metadata": {},
   "outputs": [],
   "source": [
    "# doesn't update original array\n",
    "arr"
   ]
  },
  {
   "cell_type": "code",
   "execution_count": null,
   "id": "6d5ab2d5",
   "metadata": {},
   "outputs": [],
   "source": [
    "# sorting 1d array\n",
    "a = np.array([7,3,5,2,67,6])\n",
    "np.sort(a)"
   ]
  },
  {
   "cell_type": "code",
   "execution_count": null,
   "id": "62d2d185",
   "metadata": {},
   "outputs": [],
   "source": [
    "# make array for sorting 2d array\n",
    "b = np.array([[9,4,8,3],[7,1,0,2]])\n",
    "b"
   ]
  },
  {
   "cell_type": "code",
   "execution_count": null,
   "id": "07a24265",
   "metadata": {},
   "outputs": [],
   "source": [
    "# default sort\n",
    "np.sort(b)"
   ]
  },
  {
   "cell_type": "code",
   "execution_count": null,
   "id": "81f0c23f",
   "metadata": {},
   "outputs": [],
   "source": [
    "# sort columns\n",
    "np.sort(b,axis=0)"
   ]
  },
  {
   "cell_type": "code",
   "execution_count": null,
   "id": "632c90d5",
   "metadata": {},
   "outputs": [],
   "source": [
    "# sort rows\n",
    "np.sort(b,axis=1)"
   ]
  },
  {
   "cell_type": "code",
   "execution_count": null,
   "id": "4949f539",
   "metadata": {},
   "outputs": [],
   "source": [
    "# sort all\n",
    "np.sort(b,axis=None)"
   ]
  },
  {
   "cell_type": "code",
   "execution_count": null,
   "id": "19683d43-3942-42e5-865b-61471521c1ea",
   "metadata": {
    "tags": []
   },
   "outputs": [],
   "source": [
    "b[b[:,0].argsort()]"
   ]
  },
  {
   "cell_type": "markdown",
   "id": "32d6216f",
   "metadata": {},
   "source": [
    "## Methods and Functions for Manipulating arrays"
   ]
  },
  {
   "cell_type": "code",
   "execution_count": null,
   "id": "95e29197",
   "metadata": {
    "tags": []
   },
   "outputs": [],
   "source": [
    "# reshapes with function reshape()\n",
    "data = np.array([[1, 2], [3, 4]])\n",
    "np.reshape(data, (1, 4)) "
   ]
  },
  {
   "cell_type": "code",
   "execution_count": null,
   "id": "9b832616",
   "metadata": {
    "tags": []
   },
   "outputs": [],
   "source": [
    "# reshapes with method reshape()\n",
    "data.reshape(4) "
   ]
  },
  {
   "cell_type": "code",
   "execution_count": null,
   "id": "f8d7c6ed",
   "metadata": {
    "tags": []
   },
   "outputs": [],
   "source": [
    "# reshaping\n",
    "A = np.array([1, 2, 3, 4, 5, 6])\n",
    "B = np.reshape(A, (2,3))\n",
    "B"
   ]
  },
  {
   "cell_type": "code",
   "execution_count": null,
   "id": "51898231",
   "metadata": {
    "tags": []
   },
   "outputs": [],
   "source": [
    "x = np.array([[1, 2, 3], [4, 5, 6]])\n",
    "np.ravel(x)"
   ]
  },
  {
   "cell_type": "code",
   "execution_count": null,
   "id": "227e369d",
   "metadata": {
    "tags": []
   },
   "outputs": [],
   "source": [
    "# stacks data as rows vertically\n",
    "data = np.arange(5)\n",
    "print(data)\n",
    "np.vstack((data, data, data)) "
   ]
  },
  {
   "cell_type": "code",
   "execution_count": null,
   "id": "3a5c7267",
   "metadata": {
    "tags": []
   },
   "outputs": [],
   "source": [
    "# stacks data horizontally; equivalent to concatenating 1d array three times\n",
    "np.hstack((data, data, data)) "
   ]
  },
  {
   "cell_type": "code",
   "execution_count": null,
   "id": "326ee82e-75aa-4097-bd42-d2b26dcc77ab",
   "metadata": {
    "tags": []
   },
   "outputs": [],
   "source": [
    "# Stack as if they were columns\n",
    "np.column_stack((data,data,data))"
   ]
  },
  {
   "cell_type": "code",
   "execution_count": null,
   "id": "db52005e",
   "metadata": {},
   "outputs": [],
   "source": [
    "# Also works for 2d arrays\n",
    "np.hstack((arr2d,arr2d))"
   ]
  },
  {
   "cell_type": "code",
   "execution_count": null,
   "id": "f7e1680d-ac9e-463b-989b-45758590fc69",
   "metadata": {
    "tags": []
   },
   "outputs": [],
   "source": [
    "np.vstack((arr2d,arr2d))"
   ]
  },
  {
   "cell_type": "markdown",
   "id": "b79b08d5",
   "metadata": {},
   "source": [
    "## Random number generation"
   ]
  },
  {
   "cell_type": "code",
   "execution_count": null,
   "id": "eeed9c68",
   "metadata": {},
   "outputs": [],
   "source": [
    "# generate 10 random numbers between 0 (inclusive) and 1 (exclusive); uniform\n",
    "np.random.rand(10)"
   ]
  },
  {
   "cell_type": "code",
   "execution_count": null,
   "id": "a6147072",
   "metadata": {},
   "outputs": [],
   "source": [
    "# generate a 2x2 array of random numbers between 0 (inclusive) and 1 (exclusive); uniform\n",
    "np.random.rand(2,3)"
   ]
  },
  {
   "cell_type": "code",
   "execution_count": null,
   "id": "aaa91191",
   "metadata": {},
   "outputs": [],
   "source": [
    "# generate 10 random integers between 0 and 20 (exclusive)\n",
    "np.random.randint(0,20,10)"
   ]
  },
  {
   "cell_type": "code",
   "execution_count": null,
   "id": "20390c49",
   "metadata": {},
   "outputs": [],
   "source": [
    "# generate 10 random numbers sampled from the standard normal\n",
    "np.random.randn(10)"
   ]
  },
  {
   "cell_type": "code",
   "execution_count": null,
   "id": "09eed9e2",
   "metadata": {},
   "outputs": [],
   "source": [
    "# generate 10 random numbers sampled from a normal distribution with mean 100, sd 2\n",
    "np.random.normal(100,2,10)"
   ]
  },
  {
   "cell_type": "markdown",
   "id": "cdaa9d76",
   "metadata": {},
   "source": [
    "### Other Useful Numpy Tools"
   ]
  },
  {
   "cell_type": "code",
   "execution_count": null,
   "id": "b7727cf8",
   "metadata": {},
   "outputs": [],
   "source": [
    "# trigonometric functions\n",
    "trig_arr = np.array((0,np.pi/4,np.pi/2,3*np.pi/4,np.pi,5*np.pi/4,3*np.pi/2,7*np.pi/4,2*np.pi))\n",
    "np.round(np.sin(trig_arr),3)"
   ]
  },
  {
   "cell_type": "code",
   "execution_count": null,
   "id": "0cca1657",
   "metadata": {},
   "outputs": [],
   "source": [
    "# matrix multiplication\n",
    "A = np.array([[1,2], [3,4]]) \n",
    "B = np.array([[5,6], [7,8]])\n",
    "C = np.dot(A,B) \n",
    "C"
   ]
  },
  {
   "cell_type": "code",
   "execution_count": null,
   "id": "3291c04d",
   "metadata": {},
   "outputs": [],
   "source": [
    "# unique values-- similar to set ({})\n",
    "np.array([1, 2, 3, 2, 1, 3, 4, 4, 5, 5, 5])\n",
    "B = np.unique(A)\n",
    "B"
   ]
  },
  {
   "cell_type": "markdown",
   "id": "aed3e63e",
   "metadata": {},
   "source": [
    "## Activity"
   ]
  },
  {
   "cell_type": "markdown",
   "id": "bec4798a",
   "metadata": {},
   "source": [
    "1. Create the following array:\n",
    "\n",
    "\\begin{bmatrix}\n",
    "1 & 1 & 1 & 1 & 1 \\\\\n",
    "1 & 0 & 0 & 0 & 1 \\\\\n",
    "1 & 0 & 2 & 0 & 1 \\\\\n",
    "1 & 0 & 0 & 0 & 1 \\\\\n",
    "1 & 1 & 1 & 1 & 1 \\\\\n",
    "\\end{bmatrix}\n",
    "\n",
    "Feel free to use several lines of code."
   ]
  },
  {
   "cell_type": "code",
   "execution_count": null,
   "id": "d423607a",
   "metadata": {},
   "outputs": [],
   "source": []
  },
  {
   "cell_type": "markdown",
   "id": "ee8b331d",
   "metadata": {},
   "source": [
    "2. Consider the following array: "
   ]
  },
  {
   "cell_type": "code",
   "execution_count": null,
   "id": "2413c681",
   "metadata": {},
   "outputs": [],
   "source": [
    "array1 = np.array([[1,3,8,2,89],[76,4,7,12,5],[9,31,86,18,13],[19,10,26,28,33]])\n",
    "array1"
   ]
  },
  {
   "cell_type": "markdown",
   "id": "47ec7d8b",
   "metadata": {},
   "source": [
    "Access the elements containing 12, 5, 18, and 13. Output should be shape (2,2)."
   ]
  },
  {
   "cell_type": "markdown",
   "id": "7322b7ee",
   "metadata": {},
   "source": [
    "3. Given the two arrays below, create the following matrix\n",
    "\\begin{bmatrix}\n",
    "1 & 2 & 3 & 4 & 3 & 2 & 1 \\\\\n",
    "1 & 2 & 3 & 4 & 3 & 2 & 1 \\\\\n",
    "\\end{bmatrix}"
   ]
  },
  {
   "cell_type": "code",
   "execution_count": null,
   "id": "d35d60ea",
   "metadata": {},
   "outputs": [],
   "source": [
    "a = np.array((1,2))\n",
    "b = np.array((3,4))\n",
    "\n"
   ]
  },
  {
   "cell_type": "markdown",
   "id": "b75958ca",
   "metadata": {},
   "source": [
    "## APPLICATION: Linear Algebra (*not required*)\n",
    "Numpy has a number of linear algebra functions.  Common examples include finding eigenvalues, eigenvectors, the inverse of a matrix, the determinant, the rank and solving systems of linear equations.  More documentation can be found here: https://numpy.org/doc/stable/reference/routines.linalg.html.  This will not be emphasized in this class, but the Data Science major requires linear algebra, so being aware of this module might be helpful to you both in a linear algebra course and for applications of linear algebra in data science."
   ]
  },
  {
   "cell_type": "code",
   "execution_count": null,
   "id": "d2f0b0f9",
   "metadata": {},
   "outputs": [],
   "source": [
    "# linear algebra\n",
    "A = np.array([[1, 2], [4,5]])\n",
    "inv = np.linalg.inv(A) # returns inverse of matrix\n",
    "print(inv)\n",
    "evalsvecs = np.linalg.eig(A) # returns evals and then evecs\n",
    "print(evalsvecs)\n",
    "evals = np.linalg.eigvals(A) # returns just evals\n",
    "print(evals)\n",
    "det = np.linalg.det(A) # returns determinant\n",
    "print(det)\n",
    "rank = np.linalg.matrix_rank(A)\n",
    "print(rank)"
   ]
  },
  {
   "cell_type": "code",
   "execution_count": null,
   "id": "1659524f",
   "metadata": {},
   "outputs": [],
   "source": [
    "# solve Ax = b for x\n",
    "A = np.array([[1, 2], [3, 5]])\n",
    "b = np.array([1, 2])\n",
    "x = np.linalg.solve(A, b)\n",
    "x"
   ]
  },
  {
   "cell_type": "markdown",
   "id": "4382dc30",
   "metadata": {},
   "source": [
    "## APPLICATION: Image Manipulation As Array Operations (*not required*)"
   ]
  },
  {
   "cell_type": "markdown",
   "id": "63378237",
   "metadata": {},
   "source": [
    "We can open an image from our working directory and display it.  For this demo, we will use the PIL (Python Image Library) module as well as Matplotlib, which is a comprehensive library for creating visualizations in Python.  Later in this class, we will cover Matplotlib in greater detail.  For this demo, we will reuse the same few commands to display a figure, resize a figure, add a plot title, and create subplots.  Further documentation can be found here: https://matplotlib.org."
   ]
  },
  {
   "cell_type": "code",
   "execution_count": null,
   "id": "91b55a0f",
   "metadata": {},
   "outputs": [],
   "source": [
    "import numpy as np\n",
    "import matplotlib.pyplot as plt\n",
    "from PIL import Image, ImageOps\n",
    "\n",
    "img = np.array(Image.open('gus_fat.JPG'))\n",
    "plt.figure(figsize = (8,8))\n",
    "plt.imshow(img)\n",
    "plt.show() "
   ]
  },
  {
   "cell_type": "code",
   "execution_count": null,
   "id": "037c61cb",
   "metadata": {},
   "outputs": [],
   "source": [
    "# Number of dimensions\n",
    "img.ndim"
   ]
  },
  {
   "cell_type": "code",
   "execution_count": null,
   "id": "60d4475c",
   "metadata": {},
   "outputs": [],
   "source": [
    "# Shape\n",
    "img.shape"
   ]
  },
  {
   "cell_type": "markdown",
   "id": "b189db18",
   "metadata": {},
   "source": [
    "### Negative of an Image\n",
    "Each pixel contains three values for the red, green, and blue color. Each value is in the range 0-255.  The values combined make up the resultant color of the pixel.  To negatively transform an image, we subtract the value of the pixel from 255 (maximum possible value of the pixel)."
   ]
  },
  {
   "cell_type": "code",
   "execution_count": null,
   "id": "ba5af0c7",
   "metadata": {},
   "outputs": [],
   "source": [
    "fig = plt.figure(figsize = (10,10))\n",
    "\n",
    "fig.add_subplot(1, 2, 1)\n",
    "plt.imshow(img)\n",
    "plt.title('Original')\n",
    "\n",
    "neg_img = 255 - img # transform image\n",
    "fig.add_subplot(1, 2, 2)\n",
    "plt.imshow(neg_img)\n",
    "plt.title('Negative')\n",
    "plt.show()"
   ]
  },
  {
   "cell_type": "markdown",
   "id": "0cd86b09",
   "metadata": {},
   "source": [
    "### Rotation\n"
   ]
  },
  {
   "cell_type": "code",
   "execution_count": null,
   "id": "915c8ff4",
   "metadata": {
    "scrolled": true
   },
   "outputs": [],
   "source": [
    "degrees = 90\n",
    "img_rot = np.rot90(img) # rotate array 90 degree counterclockwise\n",
    "plt.figure(figsize = (5,5))\n",
    "plt.imshow(img_rot)\n",
    "plt.show()"
   ]
  },
  {
   "cell_type": "markdown",
   "id": "9b0bca17",
   "metadata": {},
   "source": [
    "### Grayscale as a Weighted Mean\n",
    "In digital photography, a grayscale image is one in which the value of each pixel is a single sample representing only an amount of light; that is, it carries only intensity information. Grayscale images, a kind of black-and-white or gray monochrome, are composed exclusively of shades of gray. The contrast ranges from black at the weakest intensity to white at the strongest.\n",
    "The formula used gives a weight to each color channel: $Y = 0.299R + 0.587G + 0.114B$."
   ]
  },
  {
   "cell_type": "code",
   "execution_count": null,
   "id": "6afa001d",
   "metadata": {},
   "outputs": [],
   "source": [
    "np.dot(img[:,:, :3] , [0.299 , 0.587, 0.114]).shape"
   ]
  },
  {
   "cell_type": "code",
   "execution_count": null,
   "id": "cee2211a",
   "metadata": {},
   "outputs": [],
   "source": [
    "gray = lambda pic : np.dot(pic[: , :3] , [0.299 , 0.587, 0.114]) \n",
    "\n",
    "def make_gray(pic):\n",
    "    return np.dot(pic[:,:, :3] , [0.299 , 0.587, 0.114]) \n",
    "\n",
    "gray = make_gray(img)  \n",
    "plt.imshow(gray,cmap = plt.get_cmap(name = 'gray'))\n",
    "plt.show()"
   ]
  },
  {
   "cell_type": "markdown",
   "id": "7561e6f9",
   "metadata": {},
   "source": [
    "### Split into Color Channels"
   ]
  },
  {
   "cell_type": "code",
   "execution_count": null,
   "id": "f810754e",
   "metadata": {
    "scrolled": true
   },
   "outputs": [],
   "source": [
    "# function to split on color channels\n",
    "def rgb_splitter(image):\n",
    "    rgb_list = ['Reds','Greens','Blues']\n",
    "    fig, ax = plt.subplots(1, 3, figsize=(15,5), sharey = True) # sharey = True means y-axis shared among plots\n",
    "    for i in range(3):\n",
    "        ax[i].imshow(image[:,:,i], cmap = rgb_list[i]) # iterate along the color dimension\n",
    "        ax[i].set_title(rgb_list[i], fontsize = 15) # give specific color title\n",
    "     \n",
    "rgb_splitter(img) # call function on image"
   ]
  },
  {
   "cell_type": "markdown",
   "id": "5d746e5f",
   "metadata": {},
   "source": [
    "### Array Slicing to Crop an Image\n"
   ]
  },
  {
   "cell_type": "code",
   "execution_count": null,
   "id": "6215bd83",
   "metadata": {},
   "outputs": [],
   "source": [
    "fig = plt.figure(figsize = (10, 10))\n",
    "\n",
    "fig.add_subplot(1,2,1)\n",
    "plt.imshow(img)\n",
    "plt.title('Original')\n",
    "\n",
    "img_crop = img[150:1250, 380:2100, :] # array slicing\n",
    "\n",
    "fig.add_subplot(1, 2, 2)\n",
    "plt.imshow(img_crop)\n",
    "plt.title('Cropped')\n",
    "\n",
    "plt.show()"
   ]
  },
  {
   "cell_type": "markdown",
   "id": "d7be8d4c",
   "metadata": {},
   "source": [
    "### Shadows and Highlights \n",
    "These effects (which you can apply using your cell phone editor) have an impact on the intensity of image pixels within specific ranges.\n",
    "We are using logical indexing and finding pixels with an intensity above a threshold and then amplifying them."
   ]
  },
  {
   "cell_type": "code",
   "execution_count": null,
   "id": "e3617234",
   "metadata": {},
   "outputs": [],
   "source": [
    "img_64 = np.where(img > 64, img, 0) * 255\n",
    "img_128 = np.where(img > 128, img, 0) * 255\n",
    "\n",
    "img_all = np.concatenate((img, img_64, img_128), axis = 1)\n",
    "plt.imshow(img_all)\n",
    "plt.show()"
   ]
  },
  {
   "cell_type": "markdown",
   "id": "c5f7bc9e",
   "metadata": {},
   "source": [
    "### Blending Images\n",
    "We can combine images, and give each a weight to determine how much of it comes through.  We will use an image from a local Humboldt beach and combine it with our Gus photo."
   ]
  },
  {
   "cell_type": "code",
   "execution_count": null,
   "id": "c1216747",
   "metadata": {},
   "outputs": [],
   "source": [
    "beach_img = np.array(Image.open('sunset.JPG'))\n",
    "plt.figure(figsize = (8, 8))\n",
    "plt.imshow(beach_img)\n",
    "plt.show()"
   ]
  },
  {
   "cell_type": "code",
   "execution_count": null,
   "id": "7ebb98b4",
   "metadata": {},
   "outputs": [],
   "source": [
    "img_crop = img[:1250, 0:2000, :] # array slicing\n",
    "beach_crop = beach_img[:1250, 0:2000, :]\n",
    "\n",
    "# 40% gus and 60% beach\n",
    "blend = (img_crop * .4 + beach_crop * .6).astype(np.uint8) # convert back to unsigned integer after multiplying by decimals\n",
    "\n",
    "plt.figure(figsize = (10, 10))\n",
    "plt.imshow(blend)\n",
    "plt.show()"
   ]
  },
  {
   "cell_type": "code",
   "execution_count": null,
   "id": "207b8bad",
   "metadata": {},
   "outputs": [],
   "source": []
  }
 ],
 "metadata": {
  "kernelspec": {
   "display_name": "Python 3 (ipykernel)",
   "language": "python",
   "name": "python3"
  },
  "language_info": {
   "codemirror_mode": {
    "name": "ipython",
    "version": 3
   },
   "file_extension": ".py",
   "mimetype": "text/x-python",
   "name": "python",
   "nbconvert_exporter": "python",
   "pygments_lexer": "ipython3",
   "version": "3.11.4"
  }
 },
 "nbformat": 4,
 "nbformat_minor": 5
}
