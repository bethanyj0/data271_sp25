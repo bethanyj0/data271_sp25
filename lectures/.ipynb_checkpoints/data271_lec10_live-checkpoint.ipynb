{
 "cells": [
  {
   "cell_type": "markdown",
   "id": "c92a1c18-7b58-49cd-957b-0b882bdc7cfb",
   "metadata": {},
   "source": [
    "# Other NumPy Features and Applications"
   ]
  },
  {
   "cell_type": "code",
   "execution_count": null,
   "id": "6c860f99-8300-4261-899d-a36128193334",
   "metadata": {},
   "outputs": [],
   "source": [
    "# Whenever you want to use numpy import it with the following code\n",
    "import numpy as np"
   ]
  },
  {
   "cell_type": "markdown",
   "id": "48d38b7b-d4a5-4c51-a327-b8f82b528688",
   "metadata": {},
   "source": [
    "## Advanced indexing"
   ]
  },
  {
   "cell_type": "code",
   "execution_count": null,
   "id": "a6f960cc-bac2-4336-83f5-ee8bdda47e9c",
   "metadata": {},
   "outputs": [],
   "source": [
    "arr = np.arange(0,20,2)\n",
    "arr"
   ]
  },
  {
   "cell_type": "code",
   "execution_count": null,
   "id": "bc87b07a-8ad6-45c9-9c77-d634e0435aef",
   "metadata": {},
   "outputs": [],
   "source": [
    "# select elements that are divisible by 3\n"
   ]
  },
  {
   "cell_type": "code",
   "execution_count": null,
   "id": "9d6253b4-fdd0-498a-aa21-5641a45a4b66",
   "metadata": {},
   "outputs": [],
   "source": [
    "# another way to do that \"masking\"\n",
    "mask = \n",
    "arr2 = arr[mask]\n",
    "arr2"
   ]
  },
  {
   "cell_type": "code",
   "execution_count": null,
   "id": "eaad9192-78d2-4790-881d-d45717e1ac78",
   "metadata": {},
   "outputs": [],
   "source": [
    "# also works with 2d arrays\n",
    "arr2d = np.array([[1, 7, 9], \n",
    "                    [14, 19, 21], \n",
    "                    [25, 29, 35]])\n",
    "arr2d"
   ]
  },
  {
   "cell_type": "code",
   "execution_count": null,
   "id": "46b6fa4b-8f26-4f00-9360-a34402b5c446",
   "metadata": {
    "tags": []
   },
   "outputs": [],
   "source": [
    "# results 1d array\n",
    "boolean_mask = \n",
    "result = arr2d[boolean_mask]\n",
    "result"
   ]
  },
  {
   "cell_type": "code",
   "execution_count": null,
   "id": "e37bf43a-3627-4929-a902-77de821aaacb",
   "metadata": {
    "tags": []
   },
   "outputs": [],
   "source": [
    "# to preserve the shape\n",
    "result = \n",
    "result"
   ]
  },
  {
   "cell_type": "markdown",
   "id": "0d8f6aa2-5f4e-4056-905f-bd4c89cca032",
   "metadata": {},
   "source": [
    "### NumPy Methods"
   ]
  },
  {
   "cell_type": "code",
   "execution_count": null,
   "id": "48b4b576-3714-4038-9bbf-f20be87271bd",
   "metadata": {
    "tags": []
   },
   "outputs": [],
   "source": [
    "arr = np.array([5,2,7,3,1,8,3,1,7,2])"
   ]
  },
  {
   "cell_type": "code",
   "execution_count": null,
   "id": "7d42da66-675e-4597-b8c5-cd4157341572",
   "metadata": {},
   "outputs": [],
   "source": [
    "# find the max\n",
    "arr."
   ]
  },
  {
   "cell_type": "code",
   "execution_count": null,
   "id": "c5868bc5-e5a7-4628-b5f5-0ac8c25e85ae",
   "metadata": {},
   "outputs": [],
   "source": [
    "# find the min\n",
    "arr."
   ]
  },
  {
   "cell_type": "code",
   "execution_count": null,
   "id": "2a23d7cb-e235-4883-9727-ea365d9d168e",
   "metadata": {},
   "outputs": [],
   "source": [
    "# find the index of the maximum\n",
    "arr."
   ]
  },
  {
   "cell_type": "code",
   "execution_count": null,
   "id": "26439017-812d-41ee-8bca-f73dc068e7a1",
   "metadata": {},
   "outputs": [],
   "source": [
    "# find the index of the maximum\n",
    "arr."
   ]
  },
  {
   "cell_type": "code",
   "execution_count": null,
   "id": "17e626a1-441c-4444-8c37-b1c9bc6dbb2f",
   "metadata": {},
   "outputs": [],
   "source": [
    "# find the indices that would sort the array\n",
    "arr."
   ]
  },
  {
   "cell_type": "code",
   "execution_count": null,
   "id": "dcd2c69a-b1e7-46dc-bcc1-209d748f7a8d",
   "metadata": {},
   "outputs": [],
   "source": [
    "arr[arr.argsort()]"
   ]
  },
  {
   "cell_type": "code",
   "execution_count": null,
   "id": "20d2e4d6-4906-4910-ada6-8c4cca37c0cd",
   "metadata": {},
   "outputs": [],
   "source": [
    "# find the mean\n",
    "arr."
   ]
  },
  {
   "cell_type": "code",
   "execution_count": null,
   "id": "23247722-2d89-44ef-a3ad-168717a9cad8",
   "metadata": {},
   "outputs": [],
   "source": [
    "# find the standard deviation\n",
    "arr."
   ]
  },
  {
   "cell_type": "code",
   "execution_count": null,
   "id": "cfbde14f-d8f4-4de6-8e15-625f7b73cf11",
   "metadata": {},
   "outputs": [],
   "source": [
    "# add everything up\n",
    "arr."
   ]
  },
  {
   "cell_type": "code",
   "execution_count": null,
   "id": "4ab20d42-1e0d-488e-a5b0-061e34f4df4f",
   "metadata": {},
   "outputs": [],
   "source": [
    "# get cumulative sum element by element\n",
    "arr."
   ]
  },
  {
   "cell_type": "code",
   "execution_count": null,
   "id": "c1e340b9-be1c-4a88-a865-6dd9296b7b1c",
   "metadata": {},
   "outputs": [],
   "source": [
    "# \"peak to peak\" maximum - minimum\n",
    "arr."
   ]
  },
  {
   "cell_type": "code",
   "execution_count": null,
   "id": "4f8cfe2c-bb28-4cf3-9120-a0fe8fc97384",
   "metadata": {},
   "outputs": [],
   "source": [
    "# clip values\n",
    "print(arr.clip(3,6))\n",
    "print(arr)"
   ]
  },
  {
   "cell_type": "markdown",
   "id": "c9478d8a-23a3-4afa-91b9-11d233955a26",
   "metadata": {},
   "source": [
    "## Functions for updating arrays"
   ]
  },
  {
   "cell_type": "code",
   "execution_count": null,
   "id": "020407aa-c04a-4dea-b17d-8c92783d3a38",
   "metadata": {},
   "outputs": [],
   "source": [
    "arr = np.arange(0,20,2)\n",
    "arr"
   ]
  },
  {
   "cell_type": "code",
   "execution_count": null,
   "id": "ef28efb1-d0f0-4421-ac24-3b7ed1c9412f",
   "metadata": {},
   "outputs": [],
   "source": [
    "# append value(s)\n"
   ]
  },
  {
   "cell_type": "code",
   "execution_count": null,
   "id": "d93d549c-34b6-4619-9425-fe2bfb25508d",
   "metadata": {},
   "outputs": [],
   "source": [
    "# insert value(s)\n"
   ]
  },
  {
   "cell_type": "code",
   "execution_count": null,
   "id": "eac0ca52-db53-4830-a0b0-be85213cf2c1",
   "metadata": {},
   "outputs": [],
   "source": [
    "# delete value(s)\n"
   ]
  },
  {
   "cell_type": "code",
   "execution_count": null,
   "id": "0f06c251-b6e0-4fe0-a2b3-8e043999c23b",
   "metadata": {},
   "outputs": [],
   "source": [
    "# doesn't update original array\n",
    "arr"
   ]
  },
  {
   "cell_type": "code",
   "execution_count": null,
   "id": "a293710f-edfe-4916-ae70-1d4cda2b4fe9",
   "metadata": {},
   "outputs": [],
   "source": [
    "# sorting 1d array\n",
    "a = np.array([7,3,5,2,67,6])\n"
   ]
  },
  {
   "cell_type": "code",
   "execution_count": null,
   "id": "fde9c1e1-dc00-497c-ac94-31bd13c24f2b",
   "metadata": {},
   "outputs": [],
   "source": [
    "# make array for sorting 2d array\n",
    "b = np.array([[9,4,8,3],[7,1,0,2]])\n",
    "b"
   ]
  },
  {
   "cell_type": "code",
   "execution_count": null,
   "id": "790a7072-dbe7-44c2-a2ae-ff464b4122a1",
   "metadata": {},
   "outputs": [],
   "source": [
    "# default sort\n"
   ]
  },
  {
   "cell_type": "code",
   "execution_count": null,
   "id": "438bf3f0-8037-4528-8c6c-ef46bba2a307",
   "metadata": {},
   "outputs": [],
   "source": [
    "# sort columns\n"
   ]
  },
  {
   "cell_type": "code",
   "execution_count": null,
   "id": "b5d19bb5-9129-4b28-b76a-75f0f96014b0",
   "metadata": {},
   "outputs": [],
   "source": [
    "# sort rows\n"
   ]
  },
  {
   "cell_type": "code",
   "execution_count": null,
   "id": "6c35ea11-a632-4c0c-a88d-2f08e9a9a5ed",
   "metadata": {},
   "outputs": [],
   "source": [
    "# sort all\n"
   ]
  },
  {
   "cell_type": "code",
   "execution_count": null,
   "id": "668adf83-2059-4c8c-957d-e334eea7eef8",
   "metadata": {
    "tags": []
   },
   "outputs": [],
   "source": [
    "b[b[:,0].argsort()]"
   ]
  },
  {
   "cell_type": "markdown",
   "id": "5c0fe3ef-518e-4d67-9055-2c05c5abc8da",
   "metadata": {},
   "source": [
    "## Methods and Functions for Manipulating arrays"
   ]
  },
  {
   "cell_type": "code",
   "execution_count": null,
   "id": "c492662a-e44d-4e0a-bc16-fdc0dec97717",
   "metadata": {
    "tags": []
   },
   "outputs": [],
   "source": [
    "# reshapes with function reshape()\n",
    "data = np.array([[1, 2], [3, 4]]) \n",
    "np.reshape(data, (1, 4)) "
   ]
  },
  {
   "cell_type": "code",
   "execution_count": null,
   "id": "1984611f-d831-4562-af20-8c45f3a61a75",
   "metadata": {
    "tags": []
   },
   "outputs": [],
   "source": [
    "# reshapes with method reshape()\n",
    "data.reshape(4) "
   ]
  },
  {
   "cell_type": "code",
   "execution_count": null,
   "id": "1c4afacb-694d-4264-b71d-c80a5d6c80d5",
   "metadata": {
    "tags": []
   },
   "outputs": [],
   "source": [
    "# reshaping\n",
    "A = np.array([1, 2, 3, 4, 5, 6])\n",
    "B = np.reshape(A, (2,3)) \n",
    "B"
   ]
  },
  {
   "cell_type": "code",
   "execution_count": null,
   "id": "638c3741-3fcb-4050-856f-fcf571798fab",
   "metadata": {
    "tags": []
   },
   "outputs": [],
   "source": [
    "x = np.array([[1, 2, 3], [4, 5, 6]])\n",
    "np.ravel(x)"
   ]
  },
  {
   "cell_type": "code",
   "execution_count": null,
   "id": "2da66c22-35be-4201-9f69-fada7047ee2f",
   "metadata": {
    "tags": []
   },
   "outputs": [],
   "source": [
    "# stacks data as rows vertically\n",
    "data = np.arange(5)\n",
    "print(data)\n",
    "np.vstack((data, data, data)) "
   ]
  },
  {
   "cell_type": "code",
   "execution_count": null,
   "id": "acf91985-4c4e-4412-a602-b8ca84b587f6",
   "metadata": {
    "tags": []
   },
   "outputs": [],
   "source": [
    "# # stacks data horizontally; equivalent to concatenating 1d array three times\n",
    "np.hstack((data, data, data)) "
   ]
  },
  {
   "cell_type": "code",
   "execution_count": null,
   "id": "fc400473-0ce1-431b-99bb-ff5d10fbbb0f",
   "metadata": {
    "tags": []
   },
   "outputs": [],
   "source": [
    "# Stack as if they were columns\n"
   ]
  },
  {
   "cell_type": "code",
   "execution_count": null,
   "id": "208afb48-5524-4d95-89a3-fceaeb04960e",
   "metadata": {},
   "outputs": [],
   "source": [
    "# Also works for 2d arrays\n",
    "np.hstack((arr2d,arr2d))"
   ]
  },
  {
   "cell_type": "code",
   "execution_count": null,
   "id": "a388f993-cde6-4fc0-93f1-0d6cc39c484c",
   "metadata": {
    "tags": []
   },
   "outputs": [],
   "source": [
    "np.vstack((arr2d,arr2d))"
   ]
  },
  {
   "cell_type": "markdown",
   "id": "c03bb201-718c-4194-bf2a-8d42e0a6d2d6",
   "metadata": {},
   "source": [
    "## Random number generation"
   ]
  },
  {
   "cell_type": "code",
   "execution_count": null,
   "id": "7124e393-fd40-4a29-9ac4-1b0342e47d72",
   "metadata": {},
   "outputs": [],
   "source": [
    "# generate 10 random numbers between 0 (inclusive) and 1 (exclusive); uniform\n",
    "np.random.rand(10)"
   ]
  },
  {
   "cell_type": "code",
   "execution_count": null,
   "id": "b1cb947b-535d-4960-9102-1cf212a1e266",
   "metadata": {},
   "outputs": [],
   "source": [
    "# generate a 2x2 array of random numbers between 0 (inclusive) and 1 (exclusive); uniform\n",
    "np.random.rand(2,3)"
   ]
  },
  {
   "cell_type": "code",
   "execution_count": null,
   "id": "280cf355-238a-4fa4-9676-7eb17c6fe89a",
   "metadata": {},
   "outputs": [],
   "source": [
    "# generate 10 random integers between 0 and 20 (exclusive)\n",
    "np.random.randint(0,20,10)"
   ]
  },
  {
   "cell_type": "code",
   "execution_count": null,
   "id": "4a44aadb-c8c9-4b1b-99c5-d96b95895b50",
   "metadata": {},
   "outputs": [],
   "source": [
    "# generate 10 random numbers sampled from the standard normal\n",
    "np.random.randn(10)"
   ]
  },
  {
   "cell_type": "code",
   "execution_count": null,
   "id": "08f2222a-b9c8-423a-b4f0-dc137e162a68",
   "metadata": {},
   "outputs": [],
   "source": [
    "# generate 10 random numbers sampled from a normal distribution with mean 100, sd 2\n",
    "np.random.normal(100,2,10)"
   ]
  },
  {
   "cell_type": "markdown",
   "id": "693789ea-c872-4313-8df4-8fc16a46f05e",
   "metadata": {},
   "source": [
    "### Other Useful Numpy Tools"
   ]
  },
  {
   "cell_type": "code",
   "execution_count": null,
   "id": "7122e21b-9f9d-4c23-a478-c1ee89882c82",
   "metadata": {},
   "outputs": [],
   "source": [
    "# trigonometric functions\n",
    "trig_arr = np.array((0,np.pi/4,np.pi/2,3*np.pi/4,np.pi,5*np.pi/4,3*np.pi/2,7*np.pi/4,2*np.pi))\n",
    "np.round(np.sin(trig_arr),3)"
   ]
  },
  {
   "cell_type": "code",
   "execution_count": null,
   "id": "d6bbbf26-e008-4b40-9ccc-d01c51fe177f",
   "metadata": {},
   "outputs": [],
   "source": [
    "# matrix multiplication\n",
    "A = np.array([[1,2], [3,4]]) \n",
    "B = np.array([[5,6], [7,8]])\n",
    "C = np.dot(A,B) \n",
    "C"
   ]
  },
  {
   "cell_type": "code",
   "execution_count": null,
   "id": "a358ae66-46aa-4fa6-ac3f-ef0f02f2f600",
   "metadata": {},
   "outputs": [],
   "source": [
    "# unique values-- similar to set ({})\n",
    "np.array([1, 2, 3, 2, 1, 3, 4, 4, 5, 5, 5])\n",
    "B = np.unique(A)\n",
    "B"
   ]
  },
  {
   "cell_type": "markdown",
   "id": "145d4090-2455-4fd8-9cdc-1662f0d6d701",
   "metadata": {},
   "source": [
    "## Activity"
   ]
  },
  {
   "cell_type": "markdown",
   "id": "3dc77be8-edb5-4ef4-abe0-1fca4e466a38",
   "metadata": {},
   "source": [
    "1. Create the following array:\n",
    "\n",
    "\\begin{bmatrix}\n",
    "1 & 1 & 1 & 1 & 1 \\\\\n",
    "1 & 0 & 0 & 0 & 1 \\\\\n",
    "1 & 0 & 2 & 0 & 1 \\\\\n",
    "1 & 0 & 0 & 0 & 1 \\\\\n",
    "1 & 1 & 1 & 1 & 1 \\\\\n",
    "\\end{bmatrix}\n",
    "\n",
    "Feel free to use several lines of code."
   ]
  },
  {
   "cell_type": "code",
   "execution_count": null,
   "id": "8b22defd-4767-44a8-82b4-0a83eec5f643",
   "metadata": {},
   "outputs": [],
   "source": []
  },
  {
   "cell_type": "markdown",
   "id": "109dcbd2-abe8-409c-a0f0-e1510ccfed6e",
   "metadata": {},
   "source": [
    "2. Consider the following array: "
   ]
  },
  {
   "cell_type": "code",
   "execution_count": null,
   "id": "2b3a9396-1189-4f90-ac21-afd573702749",
   "metadata": {},
   "outputs": [],
   "source": [
    "array1 = np.array([[1,3,8,2,89],[76,4,7,12,5],[9,31,86,18,13],[19,10,26,28,33]])\n",
    "array1"
   ]
  },
  {
   "cell_type": "markdown",
   "id": "6938dbae-9244-4b06-b06a-2021969b3e28",
   "metadata": {},
   "source": [
    "Access the elements containing 12, 5, 18, and 13. Output should be shape (2,2)."
   ]
  },
  {
   "cell_type": "markdown",
   "id": "684757bb-ca33-415f-8916-ebacb0467ca1",
   "metadata": {},
   "source": [
    "3. Given the two arrays below, create the following matrix\n",
    "\\begin{bmatrix}\n",
    "1 & 2 & 3 & 4 & 3 & 2 & 1 \\\\\n",
    "1 & 2 & 3 & 4 & 3 & 2 & 1 \\\\\n",
    "\\end{bmatrix}"
   ]
  },
  {
   "cell_type": "code",
   "execution_count": null,
   "id": "b2f2a313-2fbb-4e53-be94-cdf504303b3d",
   "metadata": {},
   "outputs": [],
   "source": [
    "a = np.array((1,2))\n",
    "b = np.array((3,4))\n",
    "\n"
   ]
  },
  {
   "cell_type": "markdown",
   "id": "9cae7d5d-63d5-47c8-88e7-4f4decc08e69",
   "metadata": {},
   "source": [
    "## APPLICATION: Linear Algebra (*not required*)\n",
    "Numpy has a number of linear algebra functions.  Common examples include finding eigenvalues, eigenvectors, the inverse of a matrix, the determinant, the rank and solving systems of linear equations.  More documentation can be found here: https://numpy.org/doc/stable/reference/routines.linalg.html.  This will not be emphasized in this class, but the Data Science major requires linear algebra, so being aware of this module might be helpful to you both in a linear algebra course and for applications of linear algebra in data science."
   ]
  },
  {
   "cell_type": "code",
   "execution_count": null,
   "id": "23003c58-4903-4a64-bca1-9b008c07cad9",
   "metadata": {},
   "outputs": [],
   "source": [
    "# linear algebra\n",
    "A = np.array([[1, 2], [4,5]])\n",
    "inv = np.linalg.inv(A) # returns inverse of matrix\n",
    "print(inv)\n",
    "evalsvecs = np.linalg.eig(A) # returns evals and then evecs\n",
    "print(evalsvecs)\n",
    "evals = np.linalg.eigvals(A) # returns just evals\n",
    "print(evals)\n",
    "det = np.linalg.det(A) # returns determinant\n",
    "print(det)\n",
    "rank = np.linalg.matrix_rank(A)\n",
    "print(rank)"
   ]
  },
  {
   "cell_type": "code",
   "execution_count": null,
   "id": "dd66ac4d-f6da-4484-9efc-25db7163e785",
   "metadata": {},
   "outputs": [],
   "source": [
    "# solve Ax = b for x\n",
    "A = np.array([[1, 2], [3, 5]])\n",
    "b = np.array([1, 2])\n",
    "x = np.linalg.solve(A, b)\n",
    "x"
   ]
  },
  {
   "cell_type": "markdown",
   "id": "1759e802-11f8-441d-9f42-9ea7c4f894b1",
   "metadata": {},
   "source": [
    "## APPLICATION: Image Manipulation As Array Operations (*not required*)"
   ]
  },
  {
   "cell_type": "markdown",
   "id": "ccf3324a-a8ed-48ca-afe7-06099d00bf74",
   "metadata": {},
   "source": [
    "We can open an image from our working directory and display it.  For this demo, we will use the PIL (Python Image Library) module as well as Matplotlib, which is a comprehensive library for creating visualizations in Python.  Later in this class, we will cover Matplotlib in greater detail.  For this demo, we will reuse the same few commands to display a figure, resize a figure, add a plot title, and create subplots.  Further documentation can be found here: https://matplotlib.org."
   ]
  },
  {
   "cell_type": "code",
   "execution_count": null,
   "id": "0075d9f3-4d1d-4c70-9058-f0ca8d72be98",
   "metadata": {},
   "outputs": [],
   "source": [
    "import numpy as np\n",
    "import matplotlib.pyplot as plt\n",
    "from PIL import Image, ImageOps\n",
    "\n",
    "img = np.array(Image.open('gus_fat.JPG'))\n",
    "plt.figure(figsize = (8,8))\n",
    "plt.imshow(img)\n",
    "plt.show() "
   ]
  },
  {
   "cell_type": "code",
   "execution_count": null,
   "id": "73996baf-f6cb-4e15-b0a9-6068b2f44840",
   "metadata": {},
   "outputs": [],
   "source": [
    "# Number of dimensions\n",
    "img.ndim"
   ]
  },
  {
   "cell_type": "code",
   "execution_count": null,
   "id": "aaaf80bf-703c-478f-84fd-900a7a29549c",
   "metadata": {},
   "outputs": [],
   "source": [
    "# Shape\n",
    "img.shape"
   ]
  },
  {
   "cell_type": "markdown",
   "id": "9801fc1a-1b94-4c47-b9aa-1fe52665e73f",
   "metadata": {},
   "source": [
    "### Negative of an Image\n",
    "Each pixel contains three values for the red, green, and blue color. Each value is in the range 0-255.  The values combined make up the resultant color of the pixel.  To negatively transform an image, we subtract the value of the pixel from 255 (maximum possible value of the pixel)."
   ]
  },
  {
   "cell_type": "code",
   "execution_count": null,
   "id": "d026a800-8965-4956-ab57-7353999fc557",
   "metadata": {},
   "outputs": [],
   "source": [
    "fig = plt.figure(figsize = (10,10))\n",
    "\n",
    "fig.add_subplot(1, 2, 1)\n",
    "plt.imshow(img)\n",
    "plt.title('Original')\n",
    "\n",
    "neg_img = 255 - img # transform image\n",
    "fig.add_subplot(1, 2, 2)\n",
    "plt.imshow(neg_img)\n",
    "plt.title('Negative')\n",
    "plt.show()"
   ]
  },
  {
   "cell_type": "markdown",
   "id": "090342b3-fe3c-4bfb-b4b6-d1ca3dea2e19",
   "metadata": {},
   "source": [
    "### Rotation\n"
   ]
  },
  {
   "cell_type": "code",
   "execution_count": null,
   "id": "16c929fb-d28e-416b-825a-93bf99f53fd9",
   "metadata": {
    "scrolled": true
   },
   "outputs": [],
   "source": [
    "degrees = 90\n",
    "img_rot = np.rot90(img) # rotate array 90 degree counterclockwise\n",
    "plt.figure(figsize = (5,5))\n",
    "plt.imshow(img_rot)\n",
    "plt.show()"
   ]
  },
  {
   "cell_type": "markdown",
   "id": "9ad8b8e1-07c2-4230-89f4-0b44ca6b1286",
   "metadata": {},
   "source": [
    "### Grayscale as a Weighted Mean\n",
    "In digital photography, a grayscale image is one in which the value of each pixel is a single sample representing only an amount of light; that is, it carries only intensity information. Grayscale images, a kind of black-and-white or gray monochrome, are composed exclusively of shades of gray. The contrast ranges from black at the weakest intensity to white at the strongest.\n",
    "The formula used gives a weight to each color channel: $Y = 0.299R + 0.587G + 0.114B$."
   ]
  },
  {
   "cell_type": "code",
   "execution_count": null,
   "id": "5e9e41d9-9797-4877-bf2b-9d53f5ac32e4",
   "metadata": {},
   "outputs": [],
   "source": [
    "np.dot(img[:,:, :3] , [0.299 , 0.587, 0.114]).shape"
   ]
  },
  {
   "cell_type": "code",
   "execution_count": null,
   "id": "ea724048-dfe6-41b4-a94f-22e97c3f6338",
   "metadata": {},
   "outputs": [],
   "source": [
    "gray = lambda pic : np.dot(pic[: , :3] , [0.299 , 0.587, 0.114]) \n",
    "\n",
    "def make_gray(pic):\n",
    "    return np.dot(pic[:,:, :3] , [0.299 , 0.587, 0.114]) \n",
    "\n",
    "gray = make_gray(img)  \n",
    "plt.imshow(gray,cmap = plt.get_cmap(name = 'gray'))\n",
    "plt.show()"
   ]
  },
  {
   "cell_type": "markdown",
   "id": "b43fb01e-8e12-4b74-927c-63b06b4f20fb",
   "metadata": {},
   "source": [
    "### Split into Color Channels"
   ]
  },
  {
   "cell_type": "code",
   "execution_count": null,
   "id": "8b70f1ee-2207-457b-95d0-6f5962a87394",
   "metadata": {
    "scrolled": true
   },
   "outputs": [],
   "source": [
    "# function to split on color channels\n",
    "def rgb_splitter(image):\n",
    "    rgb_list = ['Reds','Greens','Blues']\n",
    "    fig, ax = plt.subplots(1, 3, figsize=(15,5), sharey = True) # sharey = True means y-axis shared among plots\n",
    "    for i in range(3):\n",
    "        ax[i].imshow(image[:,:,i], cmap = rgb_list[i]) # iterate along the color dimension\n",
    "        ax[i].set_title(rgb_list[i], fontsize = 15) # give specific color title\n",
    "     \n",
    "rgb_splitter(img) # call function on image"
   ]
  },
  {
   "cell_type": "markdown",
   "id": "da77a263-c358-48ec-8bbc-864bb26837c3",
   "metadata": {},
   "source": [
    "### Array Slicing to Crop an Image\n"
   ]
  },
  {
   "cell_type": "code",
   "execution_count": null,
   "id": "1765b91f-c55e-4e9c-bc02-35976271d608",
   "metadata": {},
   "outputs": [],
   "source": [
    "fig = plt.figure(figsize = (10, 10))\n",
    "\n",
    "fig.add_subplot(1,2,1)\n",
    "plt.imshow(img)\n",
    "plt.title('Original')\n",
    "\n",
    "img_crop = img[150:1250, 380:2100, :] # array slicing\n",
    "\n",
    "fig.add_subplot(1, 2, 2)\n",
    "plt.imshow(img_crop)\n",
    "plt.title('Cropped')\n",
    "\n",
    "plt.show()"
   ]
  },
  {
   "cell_type": "markdown",
   "id": "023a9d61-5325-41dd-91a5-7c53d77a3208",
   "metadata": {},
   "source": [
    "### Shadows and Highlights \n",
    "These effects (which you can apply using your cell phone editor) have an impact on the intensity of image pixels within specific ranges.\n",
    "We are using logical indexing and finding pixels with an intensity above a threshold and then amplifying them."
   ]
  },
  {
   "cell_type": "code",
   "execution_count": null,
   "id": "e9c1635d-4967-4d6a-be3e-7aaf55e68c3d",
   "metadata": {},
   "outputs": [],
   "source": [
    "img_64 = np.where(img > 64, img, 0) * 255\n",
    "img_128 = np.where(img > 128, img, 0) * 255\n",
    "\n",
    "img_all = np.concatenate((img, img_64, img_128), axis = 1)\n",
    "plt.imshow(img_all)\n",
    "plt.show()"
   ]
  },
  {
   "cell_type": "markdown",
   "id": "2e7f4266-e919-4b68-8dde-ebd087b05fd4",
   "metadata": {},
   "source": [
    "### Blending Images\n",
    "We can combine images, and give each a weight to determine how much of it comes through.  We will use an image from a local Humboldt beach and combine it with our Gus photo."
   ]
  },
  {
   "cell_type": "code",
   "execution_count": null,
   "id": "3493143c-8bbd-4b0a-b488-4f1b02e41cff",
   "metadata": {},
   "outputs": [],
   "source": [
    "beach_img = np.array(Image.open('sunset.JPG'))\n",
    "plt.figure(figsize = (8, 8))\n",
    "plt.imshow(beach_img)\n",
    "plt.show()"
   ]
  },
  {
   "cell_type": "code",
   "execution_count": null,
   "id": "4b2d9702-5d3d-40f0-97b0-f39ae34125bb",
   "metadata": {},
   "outputs": [],
   "source": [
    "img_crop = img[:1250, 0:2000, :] # array slicing\n",
    "beach_crop = beach_img[:1250, 0:2000, :]\n",
    "\n",
    "# 40% gus and 60% beach\n",
    "blend = (img_crop * .4 + beach_crop * .6).astype(np.uint8) # convert back to unsigned integer after multiplying by decimals\n",
    "\n",
    "plt.figure(figsize = (10, 10))\n",
    "plt.imshow(blend)\n",
    "plt.show()"
   ]
  },
  {
   "cell_type": "code",
   "execution_count": null,
   "id": "dca8addf",
   "metadata": {},
   "outputs": [],
   "source": []
  }
 ],
 "metadata": {
  "kernelspec": {
   "display_name": "Python 3 (ipykernel)",
   "language": "python",
   "name": "python3"
  },
  "language_info": {
   "codemirror_mode": {
    "name": "ipython",
    "version": 3
   },
   "file_extension": ".py",
   "mimetype": "text/x-python",
   "name": "python",
   "nbconvert_exporter": "python",
   "pygments_lexer": "ipython3",
   "version": "3.11.4"
  }
 },
 "nbformat": 4,
 "nbformat_minor": 5
}
