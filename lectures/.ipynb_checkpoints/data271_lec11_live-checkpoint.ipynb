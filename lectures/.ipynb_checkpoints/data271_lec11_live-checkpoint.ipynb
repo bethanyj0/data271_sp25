{
 "cells": [
  {
   "cell_type": "markdown",
   "id": "5791e92f",
   "metadata": {},
   "source": [
    "# Method Chaining with NumPy and Intro to Pandas"
   ]
  },
  {
   "cell_type": "code",
   "execution_count": null,
   "id": "979739be-3de1-47f0-a16e-377aff1dffa3",
   "metadata": {},
   "outputs": [],
   "source": [
    "# Whenever you want to use numpy import it with the following code\n"
   ]
  },
  {
   "cell_type": "markdown",
   "id": "e260d529-ceb2-4028-ae50-734ae12b878c",
   "metadata": {},
   "source": [
    "### Method chaining"
   ]
  },
  {
   "cell_type": "code",
   "execution_count": null,
   "id": "615cab54-50dd-4828-8196-60b7526d9da0",
   "metadata": {
    "tags": []
   },
   "outputs": [],
   "source": [
    "arr2d = np.random.randint(0,20,(5,4))\n",
    "arr2d"
   ]
  },
  {
   "cell_type": "code",
   "execution_count": null,
   "id": "e43bf352-f71d-496e-a998-243873108e86",
   "metadata": {},
   "outputs": [],
   "source": [
    "# start by reshaping\n"
   ]
  },
  {
   "cell_type": "code",
   "execution_count": null,
   "id": "53beb938-3620-4603-9f17-958d03c77256",
   "metadata": {},
   "outputs": [],
   "source": [
    "# chain: reshape and then take the max of each column\n"
   ]
  },
  {
   "cell_type": "code",
   "execution_count": null,
   "id": "624e766c-a6aa-400f-96e1-3b1b5e25182b",
   "metadata": {},
   "outputs": [],
   "source": [
    "# chain: reshape and then take the max of each column then get the average of those\n"
   ]
  },
  {
   "cell_type": "code",
   "execution_count": null,
   "id": "8dd4e9a5-2420-4ebe-8ab6-e3dc0a32dd4b",
   "metadata": {},
   "outputs": [],
   "source": [
    "# when your chains start getting long \n",
    "(arr2d.reshape((2,10))\n",
    " .max(axis=0)\n",
    " .mean())"
   ]
  },
  {
   "cell_type": "code",
   "execution_count": null,
   "id": "b3f6c100-e066-4a97-84b6-67f8853a4ed8",
   "metadata": {},
   "outputs": [],
   "source": [
    "# reminder that this doesn't change the original array\n",
    "arr2d"
   ]
  },
  {
   "cell_type": "markdown",
   "id": "f33e5aaf-b39f-4512-832b-79145f386d34",
   "metadata": {},
   "source": [
    "## Activity\n",
    "\n",
    "There are two arrays below:\n",
    "\n",
    "`restaurant_items` is a 2D array:\n",
    "- Row 1: appetizers\n",
    "- Row 2: main dishes\n",
    "- Row 3: beverages\n",
    "\n",
    "`prices` is a 2D array of the same shape as `restaurant_items`. It contains the prices of each corresponding resturant item. \n",
    "\n",
    "Use these to answer the following questions."
   ]
  },
  {
   "cell_type": "code",
   "execution_count": null,
   "id": "7f8d87ef-64d6-473d-8cd6-b51a7c80c62c",
   "metadata": {},
   "outputs": [],
   "source": [
    "restaurant_items = np.array([['fries','salad','soup'],\n",
    "                  ['pizza','pasta','burger'],\n",
    "                  ['soda','iced tea','lemonade']])\n",
    "prices = np.array([[6.50,7.25,4.75],\n",
    "                  [9.50,10.25,10.75],\n",
    "                  [2,2.25,3]])"
   ]
  },
  {
   "cell_type": "markdown",
   "id": "a2c4540e-f4a0-4075-b942-4b5476b9964e",
   "metadata": {},
   "source": [
    "1. Use NumPy methods to determine how much would someone pay for their meal if they ordered the most expensive appetizer, main dish, and beverage? "
   ]
  },
  {
   "cell_type": "code",
   "execution_count": null,
   "id": "96040a73-567b-46ac-8331-d523ff621620",
   "metadata": {},
   "outputs": [],
   "source": []
  },
  {
   "cell_type": "markdown",
   "id": "1f20972f-8ae8-430d-9785-192c3b0d75aa",
   "metadata": {},
   "source": [
    "2. Use NumPy methods and slicing to create a 1d array containing all the resturaunt items sorted by most expensive to least expensive. "
   ]
  },
  {
   "cell_type": "code",
   "execution_count": null,
   "id": "c0545b50-3fd9-45d4-9ff9-5cf31b236e9f",
   "metadata": {},
   "outputs": [],
   "source": []
  },
  {
   "cell_type": "markdown",
   "id": "57c98e1a-443b-44b4-9df8-d4641b3babd8",
   "metadata": {},
   "source": [
    "3. Use NumPy methods and slicing to create a 1d array containing the most expensive appetizer, the most expensive main dish, and the most expensive beverage. "
   ]
  },
  {
   "cell_type": "code",
   "execution_count": null,
   "id": "d273337f-485d-4518-ab28-335d49e1f587",
   "metadata": {},
   "outputs": [],
   "source": []
  },
  {
   "cell_type": "markdown",
   "id": "2fbc73eb-f40e-4a82-9a94-738233a6d514",
   "metadata": {},
   "source": [
    "## Pandas"
   ]
  },
  {
   "cell_type": "code",
   "execution_count": null,
   "id": "80b626f9-45ba-4098-93e2-1d4f045d4f9d",
   "metadata": {},
   "outputs": [],
   "source": [
    "# whenever we want to use Pandas\n"
   ]
  },
  {
   "cell_type": "markdown",
   "id": "0b2bdfba-ea27-4797-baa3-c7523230103d",
   "metadata": {},
   "source": [
    "### Creating Pandas Series"
   ]
  },
  {
   "cell_type": "code",
   "execution_count": null,
   "id": "bc0ef2ee-796f-4ee4-a46a-6d64243b02bd",
   "metadata": {},
   "outputs": [],
   "source": [
    "# Create a series from array\n",
    "arr_series = pd.Series(...)\n",
    "arr_series"
   ]
  },
  {
   "cell_type": "code",
   "execution_count": null,
   "id": "71edb399-e53d-480a-a815-4b1cd342083a",
   "metadata": {},
   "outputs": [],
   "source": [
    "# Create a series from list\n",
    "lst = ['data','science','math']\n",
    "lst_series = \n",
    "lst_series"
   ]
  },
  {
   "cell_type": "code",
   "execution_count": null,
   "id": "fddb76f6-ddb2-439d-9caa-534a73a076d0",
   "metadata": {
    "scrolled": true
   },
   "outputs": [],
   "source": [
    "# Create a series from tuple\n",
    "tup = (2,3,5)\n",
    "tup_series = \n",
    "tup_series"
   ]
  },
  {
   "cell_type": "code",
   "execution_count": null,
   "id": "f59766ad-499f-434c-b332-1e7bfb42a3b3",
   "metadata": {
    "tags": []
   },
   "outputs": [],
   "source": [
    "# Create a series from dict (keys become index, values become data)\n",
    "dct = {\"one\": 1, \"two\": 2, \"three\": 3}\n",
    "dct_series = \n",
    "dct_series"
   ]
  },
  {
   "cell_type": "code",
   "execution_count": null,
   "id": "26fa142f-7d27-4357-ab91-0106ad57a554",
   "metadata": {
    "tags": []
   },
   "outputs": [],
   "source": [
    "# Specify indicies when creating a series\n",
    "tup_series_w_index = pd.Series(tup, ...)\n",
    "tup_series_w_index"
   ]
  },
  {
   "cell_type": "code",
   "execution_count": null,
   "id": "56da4b0f-df6b-441f-882f-b07fc3a1435f",
   "metadata": {},
   "outputs": [],
   "source": [
    "# Specify indicies after\n",
    "tup_series.index = ['two','three','five']\n",
    "tup_series"
   ]
  },
  {
   "cell_type": "code",
   "execution_count": null,
   "id": "a6a68381-e2aa-48c7-8cb4-a0b9cf747870",
   "metadata": {
    "tags": []
   },
   "outputs": [],
   "source": [
    "# Can also name your series\n",
    "tup_series_w_index_name = pd.Series(tup, index = ['two','three','five'], name='nums')\n",
    "tup_series_w_index_name"
   ]
  },
  {
   "cell_type": "markdown",
   "id": "74fee07c-8e5d-4879-aef3-71466eed4a8a",
   "metadata": {},
   "source": [
    "### Series attributes"
   ]
  },
  {
   "cell_type": "code",
   "execution_count": null,
   "id": "ef15bf97-6f2a-417e-aaea-1309fc851332",
   "metadata": {},
   "outputs": [],
   "source": [
    "arr_series.dtype"
   ]
  },
  {
   "cell_type": "code",
   "execution_count": null,
   "id": "84740a4d-671b-4dec-ae2a-00eea78bd423",
   "metadata": {},
   "outputs": [],
   "source": [
    "arr_series.shape"
   ]
  },
  {
   "cell_type": "code",
   "execution_count": null,
   "id": "c462d1fa-35c1-4e63-a06b-d806d3e4edbf",
   "metadata": {},
   "outputs": [],
   "source": [
    "arr_series.index"
   ]
  },
  {
   "cell_type": "code",
   "execution_count": null,
   "id": "abcaec1b-43b4-4530-90ed-dd0a88458e28",
   "metadata": {
    "tags": []
   },
   "outputs": [],
   "source": [
    "tup_series_w_index_name.index"
   ]
  },
  {
   "cell_type": "code",
   "execution_count": null,
   "id": "0faadb9d-2676-4778-9ff2-edbe9e0060b3",
   "metadata": {},
   "outputs": [],
   "source": [
    "arr_series.values"
   ]
  },
  {
   "cell_type": "code",
   "execution_count": null,
   "id": "76fb43f8-9c7c-44b0-a530-61ebac451d8d",
   "metadata": {
    "tags": []
   },
   "outputs": [],
   "source": [
    "tup_series_w_index_name.name"
   ]
  },
  {
   "cell_type": "markdown",
   "id": "3d9f324a-14ac-495a-9861-4fd66c23843e",
   "metadata": {},
   "source": [
    "### Accessing Elements"
   ]
  },
  {
   "cell_type": "code",
   "execution_count": null,
   "id": "1fde2438-58f5-447a-b9e0-f5554428e498",
   "metadata": {
    "tags": []
   },
   "outputs": [],
   "source": [
    "dct_series"
   ]
  },
  {
   "cell_type": "code",
   "execution_count": null,
   "id": "92d60ca8-f01f-44d6-8074-5da25a2ff42b",
   "metadata": {
    "tags": []
   },
   "outputs": [],
   "source": [
    "# Access elements by their index (bracket notation)\n"
   ]
  },
  {
   "cell_type": "code",
   "execution_count": null,
   "id": "ba6ac54f-a052-4d5a-83bc-4719f3c48954",
   "metadata": {
    "tags": []
   },
   "outputs": [],
   "source": [
    "# Access elements by their index (dot/attribute notation)\n"
   ]
  },
  {
   "cell_type": "code",
   "execution_count": null,
   "id": "98f96c0d-52ce-4b48-b25e-d96e89f4f602",
   "metadata": {
    "tags": []
   },
   "outputs": [],
   "source": [
    "# Accessing elements by their position\n"
   ]
  },
  {
   "cell_type": "code",
   "execution_count": null,
   "id": "d5c7dbcf-e410-41b7-9942-26f14e285c1e",
   "metadata": {
    "tags": []
   },
   "outputs": [],
   "source": [
    "# Slicing by index (inclusive stop)\n"
   ]
  },
  {
   "cell_type": "code",
   "execution_count": null,
   "id": "fe012a90-4578-4376-a813-f8d02e89e69e",
   "metadata": {
    "tags": []
   },
   "outputs": [],
   "source": [
    "# Slicing by position (exclusive stop)\n"
   ]
  },
  {
   "cell_type": "code",
   "execution_count": null,
   "id": "ca967d62-1f78-4274-8411-55be9717f229",
   "metadata": {
    "tags": []
   },
   "outputs": [],
   "source": [
    "# These different ways of accessing elements can get confusing if indices are ints\n",
    "new_series = pd.Series({1:1,2:2,3:3,4:4,5:5})\n",
    "new_series"
   ]
  },
  {
   "cell_type": "code",
   "execution_count": null,
   "id": "d2a81fee-10eb-42a5-b2f4-c2a22a297537",
   "metadata": {
    "tags": []
   },
   "outputs": [],
   "source": [
    "# Are we accessing by index or position here?\n"
   ]
  },
  {
   "cell_type": "code",
   "execution_count": null,
   "id": "7850cc29-f0a4-441a-90e4-9fef38f3b088",
   "metadata": {
    "tags": []
   },
   "outputs": [],
   "source": [
    "# Are we slicing by index or position here?\n"
   ]
  },
  {
   "cell_type": "markdown",
   "id": "de175d95-0cdd-42fa-ae53-19a5cac6f2b7",
   "metadata": {
    "tags": []
   },
   "source": [
    "Be explicit with `.loc` (for index-based access) and `.iloc` (for position-based access)"
   ]
  },
  {
   "cell_type": "code",
   "execution_count": null,
   "id": "5299e456-2daf-4832-83af-a5dacc2c00aa",
   "metadata": {
    "tags": []
   },
   "outputs": [],
   "source": [
    "# Access by index\n"
   ]
  },
  {
   "cell_type": "code",
   "execution_count": null,
   "id": "69cbab0a-215c-4337-beb2-4e92a13d9d5c",
   "metadata": {
    "tags": []
   },
   "outputs": [],
   "source": [
    "# Access by position\n"
   ]
  },
  {
   "cell_type": "code",
   "execution_count": null,
   "id": "c4a8592d-a527-45cd-a0df-de05415a0610",
   "metadata": {
    "tags": []
   },
   "outputs": [],
   "source": [
    "# Slice by index\n"
   ]
  },
  {
   "cell_type": "code",
   "execution_count": null,
   "id": "2aab6254-835a-44c5-ae0a-e1f603c06086",
   "metadata": {
    "tags": []
   },
   "outputs": [],
   "source": [
    "# Slice by position\n"
   ]
  },
  {
   "cell_type": "markdown",
   "id": "14feda96-9800-44bc-b411-492a4c01c526",
   "metadata": {},
   "source": [
    "### Pandas dataframes"
   ]
  },
  {
   "cell_type": "code",
   "execution_count": null,
   "id": "c65323eb-b971-44e1-b9ad-a20a1d8cf4cf",
   "metadata": {},
   "outputs": [],
   "source": [
    "my_dict = {'fruit':['apple','banana','orange'],\n",
    "          'color':['red','yellow','orange'],\n",
    "          'yum score':[5,5,5],\n",
    "          'in fridge':[True, False, True],\n",
    "          'number':[3,4,0]}"
   ]
  },
  {
   "cell_type": "code",
   "execution_count": null,
   "id": "96d2a96f-374c-4791-9fdb-09fac0213b36",
   "metadata": {},
   "outputs": [],
   "source": [
    "fruit_df = pd.DataFrame(my_dict)\n",
    "fruit_df"
   ]
  },
  {
   "cell_type": "code",
   "execution_count": null,
   "id": "1c8e5620-f2d3-47f9-be21-12a70a01705e",
   "metadata": {},
   "outputs": [],
   "source": [
    "list_of_tups = [(i,i**2,i**3) for i in range(10)]\n",
    "list_of_tups"
   ]
  },
  {
   "cell_type": "code",
   "execution_count": null,
   "id": "866d7a0c-f1b6-4ee6-b9e8-f8423e0550d0",
   "metadata": {},
   "outputs": [],
   "source": [
    "squares_and_cubes = pd.DataFrame(list_of_tups,columns = ['n','squared','cubed'])\n",
    "squares_and_cubes"
   ]
  },
  {
   "cell_type": "markdown",
   "id": "17149c3b-33a1-471d-a7f6-70d7f51718b5",
   "metadata": {},
   "source": [
    "##### Dataframe attributes"
   ]
  },
  {
   "cell_type": "code",
   "execution_count": null,
   "id": "ca4cb77e-d8b6-495f-b202-0a800b7b3ee0",
   "metadata": {},
   "outputs": [],
   "source": [
    "fruit_df.dtypes"
   ]
  },
  {
   "cell_type": "code",
   "execution_count": null,
   "id": "6ca73d40-204f-4575-8bc7-074168a7ee46",
   "metadata": {},
   "outputs": [],
   "source": [
    "fruit_df.shape"
   ]
  },
  {
   "cell_type": "code",
   "execution_count": null,
   "id": "171d90c0-3578-4436-9d8e-14255ea5b525",
   "metadata": {},
   "outputs": [],
   "source": [
    "fruit_df.index"
   ]
  },
  {
   "cell_type": "code",
   "execution_count": null,
   "id": "5246f211-cb2e-4ac1-909e-b912ae9e1791",
   "metadata": {},
   "outputs": [],
   "source": [
    "fruit_df.values"
   ]
  },
  {
   "cell_type": "code",
   "execution_count": null,
   "id": "90c4bb68-b518-40f8-87ab-791f6ad940f8",
   "metadata": {},
   "outputs": [],
   "source": [
    "fruit_df.columns"
   ]
  }
 ],
 "metadata": {
  "kernelspec": {
   "display_name": "Python 3 (ipykernel)",
   "language": "python",
   "name": "python3"
  },
  "language_info": {
   "codemirror_mode": {
    "name": "ipython",
    "version": 3
   },
   "file_extension": ".py",
   "mimetype": "text/x-python",
   "name": "python",
   "nbconvert_exporter": "python",
   "pygments_lexer": "ipython3",
   "version": "3.11.4"
  }
 },
 "nbformat": 4,
 "nbformat_minor": 5
}
