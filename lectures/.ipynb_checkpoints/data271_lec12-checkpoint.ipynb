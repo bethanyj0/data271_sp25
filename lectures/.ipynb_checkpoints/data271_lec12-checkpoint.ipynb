{
 "cells": [
  {
   "cell_type": "markdown",
   "id": "5791e92f",
   "metadata": {},
   "source": [
    "# Intro to Pandas\n",
    "If you want to type along with me, use [this notebook](https://humboldt.cloudbank.2i2c.cloud/hub/user-redirect/git-pull?repo=https%3A%2F%2Fgithub.com%2Fbethanyj0%2Fdata271_sp25&branch=main&urlpath=tree%2Fdata271_sp25%2Flectures%2Fdata271_lec12_live.ipynb) instead. \n",
    "If you don't want to type and want to follow along just by executing the cells, stay in this notebook."
   ]
  },
  {
   "cell_type": "code",
   "execution_count": null,
   "id": "31acf7bf",
   "metadata": {
    "tags": []
   },
   "outputs": [],
   "source": [
    "# Standard imports\n",
    "import numpy as np\n",
    "import pandas as pd"
   ]
  },
  {
   "cell_type": "markdown",
   "id": "05ae91a4",
   "metadata": {},
   "source": [
    "### Pandas Series"
   ]
  },
  {
   "cell_type": "code",
   "execution_count": null,
   "id": "5d7566f1",
   "metadata": {
    "scrolled": true,
    "tags": []
   },
   "outputs": [],
   "source": [
    "# Create a series from a dict (keys become indicies)\n",
    "dct = {'one': 1, 'two': 2,'three':3}\n",
    "dct_series = pd.Series(dct)\n",
    "dct_series"
   ]
  },
  {
   "cell_type": "markdown",
   "id": "0c293452-9859-4df0-a4a6-28af2a3c845c",
   "metadata": {},
   "source": [
    "### Accessing Elements"
   ]
  },
  {
   "cell_type": "code",
   "execution_count": null,
   "id": "f77f5853-6943-4182-9e74-a33feed67f25",
   "metadata": {
    "tags": []
   },
   "outputs": [],
   "source": [
    "dct_series"
   ]
  },
  {
   "cell_type": "code",
   "execution_count": null,
   "id": "24bc62bc-e840-4321-b7fc-8c346b564ce0",
   "metadata": {
    "tags": []
   },
   "outputs": [],
   "source": [
    "# Access elements by their index (bracket notation)\n",
    "dct_series['one']"
   ]
  },
  {
   "cell_type": "code",
   "execution_count": null,
   "id": "d6bd33aa-4c0f-44bb-957f-3400be12927f",
   "metadata": {
    "tags": []
   },
   "outputs": [],
   "source": [
    "# Access elements by their index (dot/attribute notation)\n",
    "dct_series.one"
   ]
  },
  {
   "cell_type": "code",
   "execution_count": null,
   "id": "809cedd2-09ec-4b61-b670-7e971567170b",
   "metadata": {
    "tags": []
   },
   "outputs": [],
   "source": [
    "# Accessing elements by their position\n",
    "dct_series[0]"
   ]
  },
  {
   "cell_type": "code",
   "execution_count": null,
   "id": "e595f1c8-7d71-446e-9215-eb1a9256b858",
   "metadata": {
    "tags": []
   },
   "outputs": [],
   "source": [
    "# Slicing by index (inclusive stop)\n",
    "dct_series['one':'three']"
   ]
  },
  {
   "cell_type": "code",
   "execution_count": null,
   "id": "c93e0d82-dcc2-4e92-8398-d10a57775987",
   "metadata": {
    "tags": []
   },
   "outputs": [],
   "source": [
    "# Slicing by position (exclusive stop)\n",
    "dct_series[0:2]"
   ]
  },
  {
   "cell_type": "code",
   "execution_count": null,
   "id": "059e6391-ea14-472b-bf0e-8fcfb9948a30",
   "metadata": {
    "tags": []
   },
   "outputs": [],
   "source": [
    "# These different ways of accessing elements can get confusing if indices are ints\n",
    "new_series = pd.Series({1:1,2:2,3:3,4:4,5:5})\n",
    "new_series"
   ]
  },
  {
   "cell_type": "code",
   "execution_count": null,
   "id": "f46c0035-6f4d-4d85-8904-23be2e13f3d1",
   "metadata": {
    "tags": []
   },
   "outputs": [],
   "source": [
    "# Are we accessing by index or position here?\n",
    "new_series[1]"
   ]
  },
  {
   "cell_type": "code",
   "execution_count": null,
   "id": "7ef74367-f548-4537-95d9-cef040f5ac42",
   "metadata": {
    "tags": []
   },
   "outputs": [],
   "source": [
    "# Are we slicing by index or position here?\n",
    "new_series[1:3]"
   ]
  },
  {
   "cell_type": "markdown",
   "id": "868811fa-17b5-4310-908b-046bdb277589",
   "metadata": {
    "tags": []
   },
   "source": [
    "Be explicit with `.loc` (for index-based access) and `.iloc` (for position-based access)"
   ]
  },
  {
   "cell_type": "code",
   "execution_count": null,
   "id": "61b8c230-b2da-412f-a86a-7264780773ef",
   "metadata": {
    "tags": []
   },
   "outputs": [],
   "source": [
    "# Access by index\n",
    "new_series.loc[1]"
   ]
  },
  {
   "cell_type": "code",
   "execution_count": null,
   "id": "b71ab775-449f-49a9-9942-b9381e951cf2",
   "metadata": {
    "tags": []
   },
   "outputs": [],
   "source": [
    "# Access by position\n",
    "new_series.iloc[1]"
   ]
  },
  {
   "cell_type": "code",
   "execution_count": null,
   "id": "e32fa961-0d51-4bd0-9bce-50dcfb027abd",
   "metadata": {
    "tags": []
   },
   "outputs": [],
   "source": [
    "# Slice by index\n",
    "new_series.loc[1:3]"
   ]
  },
  {
   "cell_type": "code",
   "execution_count": null,
   "id": "30273319-52ef-4268-b80e-8e2cc8967b54",
   "metadata": {
    "tags": []
   },
   "outputs": [],
   "source": [
    "# Slice by position\n",
    "new_series.iloc[1:3]"
   ]
  },
  {
   "cell_type": "markdown",
   "id": "bbf7289c-df89-47d9-91c5-07ab6e72f41f",
   "metadata": {},
   "source": [
    "### Advanced indexing"
   ]
  },
  {
   "cell_type": "code",
   "execution_count": null,
   "id": "bc9bf52c-a91c-4879-a7f7-a44be55477b7",
   "metadata": {
    "tags": []
   },
   "outputs": [],
   "source": [
    "# Select multiple elements by index\n",
    "new_series.loc[[1,3]]"
   ]
  },
  {
   "cell_type": "code",
   "execution_count": null,
   "id": "18122a25-9834-48d3-bd77-809dda70896b",
   "metadata": {
    "tags": []
   },
   "outputs": [],
   "source": [
    "# Select multiple elements by position\n",
    "new_series.iloc[[1,3]]"
   ]
  },
  {
   "cell_type": "code",
   "execution_count": null,
   "id": "9256e481-419b-4c6b-9641-b5769293a728",
   "metadata": {
    "tags": []
   },
   "outputs": [],
   "source": [
    "# Supports Boolean indexing\n",
    "new_series[new_series % 2 == 0]"
   ]
  },
  {
   "cell_type": "code",
   "execution_count": null,
   "id": "efc49f36-9dc1-4b4f-b95c-661ca895219b",
   "metadata": {
    "tags": []
   },
   "outputs": [],
   "source": [
    "# Conditional indexing\n",
    "new_series[(new_series > 2) & (new_series < 5)]"
   ]
  },
  {
   "cell_type": "code",
   "execution_count": null,
   "id": "8dfec23e-14f4-4bec-a63c-d7c3f9dc55fd",
   "metadata": {
    "tags": []
   },
   "outputs": [],
   "source": [
    "# Another way to do conditional indexing (specify inclusive as 'both','neither','left', or 'right')\n",
    "new_series[new_series.between(2,5,inclusive='neither')]"
   ]
  },
  {
   "cell_type": "code",
   "execution_count": null,
   "id": "28231367-ebb5-4922-8976-9c65d3d925d8",
   "metadata": {
    "tags": []
   },
   "outputs": [],
   "source": [
    "# Select specific elements\n",
    "new_series[(new_series == 1) | (new_series == 4)]"
   ]
  },
  {
   "cell_type": "code",
   "execution_count": null,
   "id": "353b0dbe-46e4-4327-9eff-cb7097b38f8b",
   "metadata": {
    "tags": []
   },
   "outputs": [],
   "source": [
    "# Another way to select specific elements\n",
    "new_series[new_series.isin([1,4])]"
   ]
  },
  {
   "cell_type": "markdown",
   "id": "b83fb11e",
   "metadata": {},
   "source": [
    "### General Series Info"
   ]
  },
  {
   "cell_type": "code",
   "execution_count": null,
   "id": "7f1ed26a",
   "metadata": {
    "tags": []
   },
   "outputs": [],
   "source": [
    "# general info about the series\n",
    "dct_series.info()"
   ]
  },
  {
   "cell_type": "markdown",
   "id": "9864577f",
   "metadata": {},
   "source": [
    "### Creating Pandas DataFrames"
   ]
  },
  {
   "cell_type": "code",
   "execution_count": null,
   "id": "d6bae2e8",
   "metadata": {
    "tags": []
   },
   "outputs": [],
   "source": [
    "my_dict = {'fruit':['apple','banana','orange'],\n",
    "          'color':['red','yellow','orange'],\n",
    "          'yum_score':[5,5,5],\n",
    "          'in fridge':[True, False, True]}"
   ]
  },
  {
   "cell_type": "code",
   "execution_count": null,
   "id": "d8047b91",
   "metadata": {
    "tags": []
   },
   "outputs": [],
   "source": [
    "# dataframe from a dictionary (treats each key as a column)\n",
    "fruit_df = pd.DataFrame(my_dict)\n",
    "fruit_df"
   ]
  },
  {
   "cell_type": "code",
   "execution_count": null,
   "id": "81717097-bc7f-4d26-8384-cf3a7d31dd9a",
   "metadata": {
    "tags": []
   },
   "outputs": [],
   "source": [
    "# dataframe from a dictionary (specify row labels)\n",
    "fruit_df = pd.DataFrame(my_dict,index = np.arange(1,4))\n",
    "fruit_df"
   ]
  },
  {
   "cell_type": "code",
   "execution_count": null,
   "id": "c4a96422-7592-4c48-94d9-459af9f42e98",
   "metadata": {
    "tags": []
   },
   "outputs": [],
   "source": [
    "# To change column labels\n",
    "fruit_df.columns = ['fruit','color','yum_score','in_fridge']\n",
    "fruit_df"
   ]
  },
  {
   "cell_type": "code",
   "execution_count": null,
   "id": "b911a930",
   "metadata": {
    "tags": []
   },
   "outputs": [],
   "source": [
    "# nested lists (or lists of tups)\n",
    "lists = [[i,i**2,i**3] for i in range(10)]\n",
    "lists"
   ]
  },
  {
   "cell_type": "code",
   "execution_count": null,
   "id": "ec046acd-d0a5-4d79-8407-19e1068bce47",
   "metadata": {
    "tags": []
   },
   "outputs": [],
   "source": [
    "# dataframe from a list of lists (treats each sublist as a row)\n",
    "pd.DataFrame(lists)"
   ]
  },
  {
   "cell_type": "code",
   "execution_count": null,
   "id": "a79a0945",
   "metadata": {
    "tags": []
   },
   "outputs": [],
   "source": [
    "# specify column names \n",
    "pd.DataFrame(lists,columns = ['n','squared','cubed'])"
   ]
  },
  {
   "cell_type": "code",
   "execution_count": null,
   "id": "bc234d37",
   "metadata": {
    "tags": []
   },
   "outputs": [],
   "source": [
    "# list of dictionaries (with same keys)\n",
    "list_of_dicts = [\n",
    "    {'Median Home Price': 454000, 'Town': 'Arcata'},\n",
    "     {'Median Home Price': 383000, 'Town': 'Eureka'},\n",
    "]\n",
    "list_of_dicts"
   ]
  },
  {
   "cell_type": "code",
   "execution_count": null,
   "id": "fa9a2de9",
   "metadata": {
    "scrolled": true,
    "tags": []
   },
   "outputs": [],
   "source": [
    "# Dataframe from list of dictionaries (treats each dict value as a row)\n",
    "pd.DataFrame(list_of_dicts)"
   ]
  },
  {
   "cell_type": "markdown",
   "id": "7a5d956b",
   "metadata": {},
   "source": [
    "### Accessing DataFrame Elements"
   ]
  },
  {
   "cell_type": "code",
   "execution_count": null,
   "id": "59f36b3b",
   "metadata": {
    "tags": []
   },
   "outputs": [],
   "source": [
    "# accessing columns (dot notation)\n",
    "fruit_df.color"
   ]
  },
  {
   "cell_type": "code",
   "execution_count": null,
   "id": "3f66cb84",
   "metadata": {
    "tags": []
   },
   "outputs": [],
   "source": [
    "# accessing columns (bracket notation)\n",
    "fruit_df['color']"
   ]
  },
  {
   "cell_type": "code",
   "execution_count": null,
   "id": "02e2c0b7",
   "metadata": {
    "scrolled": true,
    "tags": []
   },
   "outputs": [],
   "source": [
    "# accessing rows (by label)\n",
    "fruit_df.loc[2]"
   ]
  },
  {
   "cell_type": "code",
   "execution_count": null,
   "id": "285eb1e5",
   "metadata": {
    "tags": []
   },
   "outputs": [],
   "source": [
    "# accessing rows (by position)\n",
    "fruit_df.iloc[2]"
   ]
  },
  {
   "cell_type": "code",
   "execution_count": null,
   "id": "d74b9a02",
   "metadata": {
    "tags": []
   },
   "outputs": [],
   "source": [
    "# accessing elements (by label)\n",
    "fruit_df.loc[2,'color']"
   ]
  },
  {
   "cell_type": "code",
   "execution_count": null,
   "id": "2f17dea0",
   "metadata": {
    "tags": []
   },
   "outputs": [],
   "source": [
    "# accessing elements (by position)\n",
    "fruit_df.iloc[1,1]"
   ]
  },
  {
   "cell_type": "code",
   "execution_count": null,
   "id": "a53ced07",
   "metadata": {
    "scrolled": true,
    "tags": []
   },
   "outputs": [],
   "source": [
    "# slicing (by label)\n",
    "fruit_df.loc[1:2,['fruit','color']]"
   ]
  },
  {
   "cell_type": "code",
   "execution_count": null,
   "id": "381cecfd",
   "metadata": {
    "scrolled": true,
    "tags": []
   },
   "outputs": [],
   "source": [
    "# slicing (by position)\n",
    "fruit_df.iloc[0:2,0:2]"
   ]
  },
  {
   "cell_type": "code",
   "execution_count": null,
   "id": "5476f1c9-e25a-420b-8f9f-63f9868e03be",
   "metadata": {
    "tags": []
   },
   "outputs": [],
   "source": [
    "# Subsetting columns (by column label)\n",
    "fruit_df[['fruit','yum_score']]"
   ]
  },
  {
   "cell_type": "code",
   "execution_count": null,
   "id": "2ac4801d-9b7d-48b4-8ca8-f7c4b8416985",
   "metadata": {
    "tags": []
   },
   "outputs": [],
   "source": [
    "# Subsetting columns (by column position)\n",
    "fruit_df.iloc[:,[0,2]]"
   ]
  },
  {
   "cell_type": "markdown",
   "id": "5d0547bf",
   "metadata": {},
   "source": [
    "### Dataframe attributes"
   ]
  },
  {
   "cell_type": "code",
   "execution_count": null,
   "id": "0c56b4d3",
   "metadata": {
    "tags": []
   },
   "outputs": [],
   "source": [
    "# data type of elements in each column\n",
    "fruit_df.dtypes"
   ]
  },
  {
   "cell_type": "code",
   "execution_count": null,
   "id": "43defaac",
   "metadata": {
    "tags": []
   },
   "outputs": [],
   "source": [
    "# shape (2d)\n",
    "fruit_df.shape"
   ]
  },
  {
   "cell_type": "code",
   "execution_count": null,
   "id": "6c1ad4bb",
   "metadata": {
    "tags": []
   },
   "outputs": [],
   "source": [
    "# row labels\n",
    "fruit_df.index"
   ]
  },
  {
   "cell_type": "code",
   "execution_count": null,
   "id": "f7a86a7b",
   "metadata": {
    "tags": []
   },
   "outputs": [],
   "source": [
    "# column labels\n",
    "fruit_df.columns"
   ]
  },
  {
   "cell_type": "code",
   "execution_count": null,
   "id": "2bf363b8",
   "metadata": {
    "tags": []
   },
   "outputs": [],
   "source": [
    "# all the values output as numpy array (note dtype)\n",
    "fruit_df.values"
   ]
  },
  {
   "cell_type": "markdown",
   "id": "d5e18b75-0e8d-4506-b2f6-c17db410454e",
   "metadata": {},
   "source": [
    "### General Info"
   ]
  },
  {
   "cell_type": "code",
   "execution_count": null,
   "id": "92b2f559-87d8-4420-af71-800ebf96bd00",
   "metadata": {
    "tags": []
   },
   "outputs": [],
   "source": [
    "# general info\n",
    "fruit_df.info()"
   ]
  },
  {
   "cell_type": "markdown",
   "id": "83d5d8ab",
   "metadata": {},
   "source": [
    "## Why Pandas?\n",
    "NumPy is nice for handling homogeneous data types, but sometimes we need more flexibility as data become more complicated. We might also desire visually pleasing way to view the data.  "
   ]
  },
  {
   "cell_type": "code",
   "execution_count": null,
   "id": "c549b85b",
   "metadata": {
    "tags": []
   },
   "outputs": [],
   "source": [
    "# Sample data (made up employees)\n",
    "employee_data = np.array([\n",
    "    [101, 'John', 'Engineering', 60000, '2018-01-15'],\n",
    "    [102, 'Jane', 'Engineering', 65000, '2017-05-12'],\n",
    "    [103, 'Doe', 'HR', 55000, '2019-02-28'],\n",
    "    [104, 'Alice', 'Marketing', 70000, '2016-11-20'],\n",
    "    [105, 'Bob', 'HR', 60000, '2019-09-10'],\n",
    "    [106, 'Eve', 'Marketing', 75000, '2017-04-05']\n",
    "])\n",
    "print(employee_data)\n",
    "\n",
    "# Same data in Pandas dataframe\n",
    "employee_df = pd.DataFrame(employee_data, columns=['ID', 'Name', 'Department', 'Salary', 'Hire Date'])\n",
    "employee_df['Salary'] = pd.to_numeric(employee_df['Salary'])\n",
    "employee_df"
   ]
  },
  {
   "cell_type": "code",
   "execution_count": null,
   "id": "1ac5b282",
   "metadata": {
    "tags": []
   },
   "outputs": [],
   "source": [
    "# Get the average salary by department\n",
    "\n",
    "# Find unique departments\n",
    "unique_departments = np.unique(employee_data[:, 2])\n",
    "\n",
    "# Calculate average salary for each department\n",
    "avg_salaries = []\n",
    "for department in unique_departments:\n",
    "    department_salaries = employee_data[employee_data[:, 2] == department, 3].astype(float)\n",
    "    avg_salaries.append(np.mean(department_salaries))\n",
    "\n",
    "print(unique_departments)\n",
    "print(avg_salaries)"
   ]
  },
  {
   "cell_type": "code",
   "execution_count": null,
   "id": "37721bbd",
   "metadata": {
    "tags": []
   },
   "outputs": [],
   "source": [
    "# Do the same task with Pandas\n",
    "avg_salaries = employee_df.groupby('Department')['Salary'].mean()\n",
    "avg_salaries"
   ]
  },
  {
   "cell_type": "markdown",
   "id": "239b62e3",
   "metadata": {},
   "source": [
    "## Activity \n",
    "\n",
    "Consider the following data:\n",
    "\n",
    "|Pet name | Species| Age| Adoption Fee|\n",
    "|---------|--------|----|-------------|\n",
    "|Whiskers | Cat    | 3  | 25.00       |\n",
    "|Bubbles  | Fish   | 1  | 3.00        |\n",
    "| Rover   | Dog    | 2  | 75.00       |\n",
    "| Hopper  | Bunny  | 2  | 15.00       |\n"
   ]
  },
  {
   "cell_type": "markdown",
   "id": "b0ce3eb8",
   "metadata": {},
   "source": [
    "Create a Pandas dataframe containing the data above. "
   ]
  },
  {
   "cell_type": "code",
   "execution_count": null,
   "id": "f31f8556",
   "metadata": {},
   "outputs": [],
   "source": []
  },
  {
   "cell_type": "markdown",
   "id": "d317c843",
   "metadata": {},
   "source": [
    "Select and display only the `Pet Name` and `Species` columns."
   ]
  },
  {
   "cell_type": "code",
   "execution_count": null,
   "id": "09e7d947",
   "metadata": {},
   "outputs": [],
   "source": []
  },
  {
   "cell_type": "markdown",
   "id": "9acdeb4b",
   "metadata": {},
   "source": [
    "Select and display only the first two rows of the dataframe."
   ]
  },
  {
   "cell_type": "code",
   "execution_count": null,
   "id": "02afd32b",
   "metadata": {},
   "outputs": [],
   "source": []
  },
  {
   "cell_type": "markdown",
   "id": "6b830d85-dcf4-4b1e-be64-9c1972f5466e",
   "metadata": {},
   "source": [
    "Select and display the pets that have an adoption fee less than $20. "
   ]
  },
  {
   "cell_type": "code",
   "execution_count": null,
   "id": "8a024cf4-9e97-40ae-80cd-df08650e6d0a",
   "metadata": {},
   "outputs": [],
   "source": []
  }
 ],
 "metadata": {
  "kernelspec": {
   "display_name": "Python 3 (ipykernel)",
   "language": "python",
   "name": "python3"
  },
  "language_info": {
   "codemirror_mode": {
    "name": "ipython",
    "version": 3
   },
   "file_extension": ".py",
   "mimetype": "text/x-python",
   "name": "python",
   "nbconvert_exporter": "python",
   "pygments_lexer": "ipython3",
   "version": "3.11.4"
  }
 },
 "nbformat": 4,
 "nbformat_minor": 5
}
