{
 "cells": [
  {
   "cell_type": "markdown",
   "id": "5791e92f",
   "metadata": {},
   "source": [
    "# Intro to Pandas"
   ]
  },
  {
   "cell_type": "code",
   "execution_count": null,
   "id": "1c951dfa-0f2d-4bef-b040-e6536f9c00c2",
   "metadata": {
    "tags": []
   },
   "outputs": [],
   "source": [
    "# Standard imports\n"
   ]
  },
  {
   "cell_type": "markdown",
   "id": "ef12c296-b004-4e93-baa2-80624e157258",
   "metadata": {},
   "source": [
    "### Pandas Series"
   ]
  },
  {
   "cell_type": "code",
   "execution_count": null,
   "id": "924ff27c-a0de-4a27-91ab-a42f62cfa856",
   "metadata": {
    "scrolled": true,
    "tags": []
   },
   "outputs": [],
   "source": [
    "# Create a series from a dict (keys become indicies)\n",
    "dct = {'one': 1, 'two': 2,'three':3}\n",
    "dct_series = pd.Series(dct)\n",
    "dct_series"
   ]
  },
  {
   "cell_type": "markdown",
   "id": "cb7de9ed-ae72-4a7d-b03b-7797aa54213b",
   "metadata": {},
   "source": [
    "### Accessing Elements"
   ]
  },
  {
   "cell_type": "code",
   "execution_count": null,
   "id": "3119f472-f518-4360-bb34-85b619362307",
   "metadata": {
    "tags": []
   },
   "outputs": [],
   "source": [
    "# Access elements by their index (bracket notation)\n"
   ]
  },
  {
   "cell_type": "code",
   "execution_count": null,
   "id": "7c8ad9c4-a014-43c1-89ca-059f7c55987e",
   "metadata": {
    "tags": []
   },
   "outputs": [],
   "source": [
    "# Access elements by their index (dot/attribute notation)\n"
   ]
  },
  {
   "cell_type": "code",
   "execution_count": null,
   "id": "ef9beb67-4100-4dbe-aae8-aab9530b5762",
   "metadata": {
    "tags": []
   },
   "outputs": [],
   "source": [
    "# Accessing elements by their position\n"
   ]
  },
  {
   "cell_type": "code",
   "execution_count": null,
   "id": "99469427-108d-4f2a-a622-4919a62050e5",
   "metadata": {
    "tags": []
   },
   "outputs": [],
   "source": [
    "# Slicing by index (inclusive stop)\n"
   ]
  },
  {
   "cell_type": "code",
   "execution_count": null,
   "id": "9d525a7f-8f44-446a-9d70-17e562cf97b3",
   "metadata": {
    "tags": []
   },
   "outputs": [],
   "source": [
    "# Slicing by position (exclusive stop)\n"
   ]
  },
  {
   "cell_type": "code",
   "execution_count": null,
   "id": "357e8a69-a554-4b61-b7c1-260e8cdc1e0c",
   "metadata": {
    "tags": []
   },
   "outputs": [],
   "source": [
    "# These different ways of accessing elements can get confusing if indices are ints\n",
    "new_series = pd.Series({1:1,2:2,3:3,4:4,5:5})\n",
    "new_series"
   ]
  },
  {
   "cell_type": "code",
   "execution_count": null,
   "id": "ae065769-69c5-49a3-bc97-11f1d370374e",
   "metadata": {
    "tags": []
   },
   "outputs": [],
   "source": [
    "# Are we accessing by index or position here?\n"
   ]
  },
  {
   "cell_type": "code",
   "execution_count": null,
   "id": "34e44c8f-7c9a-4df1-bd89-b188621d1c3c",
   "metadata": {
    "tags": []
   },
   "outputs": [],
   "source": [
    "# Are we slicing by index or position here?\n"
   ]
  },
  {
   "cell_type": "markdown",
   "id": "2a454c19-721c-48ba-961c-bc59e514eb5e",
   "metadata": {
    "tags": []
   },
   "source": [
    "Be explicit with `.loc` (for index-based access) and `.iloc` (for position-based access)"
   ]
  },
  {
   "cell_type": "code",
   "execution_count": null,
   "id": "f2b44078-0483-4eea-b0d2-c8792f6c5d9a",
   "metadata": {
    "tags": []
   },
   "outputs": [],
   "source": [
    "# Access by index\n"
   ]
  },
  {
   "cell_type": "code",
   "execution_count": null,
   "id": "b4d3a190-9c00-4a52-8341-494aaae78879",
   "metadata": {
    "tags": []
   },
   "outputs": [],
   "source": [
    "# Access by position\n"
   ]
  },
  {
   "cell_type": "code",
   "execution_count": null,
   "id": "e3a9063b-4cb3-4a31-bd53-0eee655c720a",
   "metadata": {
    "tags": []
   },
   "outputs": [],
   "source": [
    "# Slice by index\n"
   ]
  },
  {
   "cell_type": "code",
   "execution_count": null,
   "id": "ccaf5a2b-7c93-4bf7-97fd-549eda94fc31",
   "metadata": {
    "tags": []
   },
   "outputs": [],
   "source": [
    "# Slice by position\n"
   ]
  },
  {
   "cell_type": "markdown",
   "id": "096ced67-6c22-467f-af3f-40f9ba27b29f",
   "metadata": {},
   "source": [
    "### Advanced indexing"
   ]
  },
  {
   "cell_type": "code",
   "execution_count": null,
   "id": "cb4c4d13-12a0-40ad-bc55-c2d27de394ae",
   "metadata": {
    "tags": []
   },
   "outputs": [],
   "source": [
    "# Select multiple elements by index\n"
   ]
  },
  {
   "cell_type": "code",
   "execution_count": null,
   "id": "9f6bce3f-1db0-411b-ae9e-f5a971b903ca",
   "metadata": {
    "tags": []
   },
   "outputs": [],
   "source": [
    "# Select multiple elements by position\n"
   ]
  },
  {
   "cell_type": "code",
   "execution_count": null,
   "id": "c8612d78-f898-45b3-ad10-05ccdf7510a1",
   "metadata": {
    "tags": []
   },
   "outputs": [],
   "source": [
    "# Supports Boolean indexing\n"
   ]
  },
  {
   "cell_type": "code",
   "execution_count": null,
   "id": "fd83475e-74a2-4a44-9068-9f4d1715e747",
   "metadata": {
    "tags": []
   },
   "outputs": [],
   "source": [
    "# Conditional indexing\n",
    "new_series[(new_series > 2) & (new_series < 5)]"
   ]
  },
  {
   "cell_type": "code",
   "execution_count": null,
   "id": "bab3455d-62a3-424e-8363-1ec553518f2c",
   "metadata": {
    "tags": []
   },
   "outputs": [],
   "source": [
    "# Another way to do conditional indexing (specify inclusive as 'both','neither','left', or 'right')\n"
   ]
  },
  {
   "cell_type": "code",
   "execution_count": null,
   "id": "d33d1efb-bfb7-4274-99d7-9748e64f23b5",
   "metadata": {
    "tags": []
   },
   "outputs": [],
   "source": [
    "# Select specific elements\n",
    "new_series[(new_series == 1) | (new_series == 4)]"
   ]
  },
  {
   "cell_type": "code",
   "execution_count": null,
   "id": "c27f5d57-757b-4ea9-a199-c45e35e811e9",
   "metadata": {
    "tags": []
   },
   "outputs": [],
   "source": [
    "# Another way to select specific elements\n"
   ]
  },
  {
   "cell_type": "markdown",
   "id": "ed49dd09-9358-4bf0-a310-5cc1fae7388b",
   "metadata": {},
   "source": [
    "### General Series Info"
   ]
  },
  {
   "cell_type": "code",
   "execution_count": null,
   "id": "bab93474-8792-4dee-9544-8c8dbabbaf04",
   "metadata": {
    "tags": []
   },
   "outputs": [],
   "source": [
    "# general info about the series\n",
    "dct_series."
   ]
  },
  {
   "cell_type": "markdown",
   "id": "01b743c2-47bb-4e17-aec2-7548e3d0bcdb",
   "metadata": {},
   "source": [
    "### Creating Pandas DataFrames"
   ]
  },
  {
   "cell_type": "code",
   "execution_count": null,
   "id": "3cf73107-b33e-4a8d-ab1e-5654f739a98d",
   "metadata": {
    "tags": []
   },
   "outputs": [],
   "source": [
    "my_dict = {'fruit':['apple','banana','orange'],\n",
    "          'color':['red','yellow','orange'],\n",
    "          'yum_score':[5,5,5],\n",
    "          'in fridge':[True, False, True]}"
   ]
  },
  {
   "cell_type": "code",
   "execution_count": null,
   "id": "a2b7c894-9e5a-43bc-8da2-71e449de27cc",
   "metadata": {
    "tags": []
   },
   "outputs": [],
   "source": [
    "# dataframe from a dictionary (treats each key as a column)\n",
    "fruit_df = pd.DataFrame(my_dict)\n",
    "fruit_df"
   ]
  },
  {
   "cell_type": "code",
   "execution_count": null,
   "id": "aaeff86e-6878-40cd-bf41-b3adb8d99a6f",
   "metadata": {
    "tags": []
   },
   "outputs": [],
   "source": [
    "# dataframe from a dictionary (specify row labels)\n",
    "fruit_df = pd.DataFrame(my_dict,...)\n",
    "fruit_df"
   ]
  },
  {
   "cell_type": "code",
   "execution_count": null,
   "id": "0fa2157a-e540-4274-9529-0609a4e89f8a",
   "metadata": {
    "tags": []
   },
   "outputs": [],
   "source": [
    "# To change column labels\n",
    "fruit_df.columns = ['fruit','color','yum_score','in_fridge']\n",
    "fruit_df"
   ]
  },
  {
   "cell_type": "code",
   "execution_count": null,
   "id": "0ba1a7db-bba1-4d09-b831-eca2308e2131",
   "metadata": {
    "tags": []
   },
   "outputs": [],
   "source": [
    "# nested lists (or lists of tups)\n",
    "lists = [[i,i**2,i**3] for i in range(10)]\n",
    "lists"
   ]
  },
  {
   "cell_type": "code",
   "execution_count": null,
   "id": "602d54da-009b-4a02-a0bd-5131cc38c8a3",
   "metadata": {
    "tags": []
   },
   "outputs": [],
   "source": [
    "# dataframe from a list of lists (treats each sublist as a row)\n"
   ]
  },
  {
   "cell_type": "code",
   "execution_count": null,
   "id": "5b837b00-1025-4f42-966b-de42ed2591c7",
   "metadata": {
    "tags": []
   },
   "outputs": [],
   "source": [
    "# specify column names \n",
    "pd.DataFrame(lists,...)"
   ]
  },
  {
   "cell_type": "code",
   "execution_count": null,
   "id": "e8cc7107-5f10-45bf-9e43-79ccb9103640",
   "metadata": {
    "tags": []
   },
   "outputs": [],
   "source": [
    "# list of dictionaries (with same keys)\n",
    "list_of_dicts = [\n",
    "    {'Median Home Price': 454000, 'Town': 'Arcata'},\n",
    "     {'Median Home Price': 383000, 'Town': 'Eureka'},\n",
    "]\n",
    "list_of_dicts"
   ]
  },
  {
   "cell_type": "code",
   "execution_count": null,
   "id": "5914f3a1-7b68-4319-b988-731a2575aaa4",
   "metadata": {
    "scrolled": true,
    "tags": []
   },
   "outputs": [],
   "source": [
    "# Dataframe from list of dictionaries (treats each dict value as a row)\n"
   ]
  },
  {
   "cell_type": "markdown",
   "id": "ed8a006e-3140-4a53-8d22-4e2c88c5b1cc",
   "metadata": {},
   "source": [
    "### Accessing DataFrame Elements"
   ]
  },
  {
   "cell_type": "code",
   "execution_count": null,
   "id": "756b706f-5490-4875-a65c-6fe3ba9e19d4",
   "metadata": {
    "tags": []
   },
   "outputs": [],
   "source": [
    "# accessing columns (dot notation)\n"
   ]
  },
  {
   "cell_type": "code",
   "execution_count": null,
   "id": "62dadf95-45fc-4431-adaf-cdd5224a2138",
   "metadata": {
    "tags": []
   },
   "outputs": [],
   "source": [
    "# accessing columns (bracket notation)\n"
   ]
  },
  {
   "cell_type": "code",
   "execution_count": null,
   "id": "db3094f3-2591-4dee-b10e-02dbc905206c",
   "metadata": {
    "scrolled": true,
    "tags": []
   },
   "outputs": [],
   "source": [
    "# accessing rows (by label)\n"
   ]
  },
  {
   "cell_type": "code",
   "execution_count": null,
   "id": "80ae32e8-78a2-4b59-ab87-20607099047d",
   "metadata": {
    "tags": []
   },
   "outputs": [],
   "source": [
    "# accessing rows (by position)\n"
   ]
  },
  {
   "cell_type": "code",
   "execution_count": null,
   "id": "7168a283-e3e7-4e39-a357-ad8f2651d2a7",
   "metadata": {
    "tags": []
   },
   "outputs": [],
   "source": [
    "# accessing elements (by label)\n"
   ]
  },
  {
   "cell_type": "code",
   "execution_count": null,
   "id": "639cb05e-2a81-4e5f-80b9-101d36eab7fb",
   "metadata": {
    "tags": []
   },
   "outputs": [],
   "source": [
    "# accessing elements (by position)\n"
   ]
  },
  {
   "cell_type": "code",
   "execution_count": null,
   "id": "2f6bc27e-dea6-4b49-8157-9ed50931f079",
   "metadata": {
    "scrolled": true,
    "tags": []
   },
   "outputs": [],
   "source": [
    "# slicing (by label)\n"
   ]
  },
  {
   "cell_type": "code",
   "execution_count": null,
   "id": "eb77d6c5-fc15-4fe8-86a2-350d0e6824c3",
   "metadata": {
    "scrolled": true,
    "tags": []
   },
   "outputs": [],
   "source": [
    "# slicing (by position)\n"
   ]
  },
  {
   "cell_type": "code",
   "execution_count": null,
   "id": "c274a2e9-fbbc-4de3-b70f-d5d7e2253de1",
   "metadata": {
    "tags": []
   },
   "outputs": [],
   "source": [
    "# Subsetting columns (by column label)\n"
   ]
  },
  {
   "cell_type": "code",
   "execution_count": null,
   "id": "7ada9ae9-06eb-4aa4-aa97-e22a70f7d96a",
   "metadata": {
    "tags": []
   },
   "outputs": [],
   "source": [
    "# Subsetting columns (by column position)\n"
   ]
  },
  {
   "cell_type": "markdown",
   "id": "9f762ec9-7236-48fc-9180-3c5c12de7557",
   "metadata": {},
   "source": [
    "### Dataframe attributes"
   ]
  },
  {
   "cell_type": "code",
   "execution_count": null,
   "id": "8fa560ad-0595-44c5-ae22-50124ef02675",
   "metadata": {
    "tags": []
   },
   "outputs": [],
   "source": [
    "# data type of elements in each column\n",
    "fruit_df.dtypes"
   ]
  },
  {
   "cell_type": "code",
   "execution_count": null,
   "id": "0a3c6b0e-e35c-40f6-9475-ab54a2267e69",
   "metadata": {
    "tags": []
   },
   "outputs": [],
   "source": [
    "# shape (2d)\n",
    "fruit_df.shape"
   ]
  },
  {
   "cell_type": "code",
   "execution_count": null,
   "id": "a2625533-b2a2-4204-b7dd-5fc664f2cf41",
   "metadata": {
    "tags": []
   },
   "outputs": [],
   "source": [
    "# row labels\n",
    "fruit_df.index"
   ]
  },
  {
   "cell_type": "code",
   "execution_count": null,
   "id": "63cb3f19-22d7-4779-8a44-07bc32ebb6bf",
   "metadata": {
    "tags": []
   },
   "outputs": [],
   "source": [
    "# column labels\n",
    "fruit_df.columns"
   ]
  },
  {
   "cell_type": "code",
   "execution_count": null,
   "id": "65ab46e1-6c52-49fd-b50c-2d287d007d1e",
   "metadata": {
    "tags": []
   },
   "outputs": [],
   "source": [
    "# all the values output as numpy array (note dtype)\n",
    "fruit_df.values"
   ]
  },
  {
   "cell_type": "markdown",
   "id": "1301147e-5876-4820-ab64-76ed4c4e3ba0",
   "metadata": {},
   "source": [
    "### General Info"
   ]
  },
  {
   "cell_type": "code",
   "execution_count": null,
   "id": "b02a6e83-a592-4c87-8c38-1c3e23840e34",
   "metadata": {
    "tags": []
   },
   "outputs": [],
   "source": [
    "# general info\n",
    "fruit_df.info()"
   ]
  },
  {
   "cell_type": "markdown",
   "id": "ba473c26-919d-40fe-89bb-2442d9f5156e",
   "metadata": {},
   "source": [
    "## Why Pandas?\n",
    "NumPy is nice for handling homogeneous data types, but sometimes we need more flexibility as data become more complicated. We might also desire visually pleasing way to view the data.  "
   ]
  },
  {
   "cell_type": "code",
   "execution_count": null,
   "id": "262955d0-d9a2-428d-a882-4df0937cce72",
   "metadata": {
    "tags": []
   },
   "outputs": [],
   "source": [
    "# Sample data (made up employees)\n",
    "employee_data = np.array([\n",
    "    [101, 'John', 'Engineering', 60000, '2018-01-15'],\n",
    "    [102, 'Jane', 'Engineering', 65000, '2017-05-12'],\n",
    "    [103, 'Doe', 'HR', 55000, '2019-02-28'],\n",
    "    [104, 'Alice', 'Marketing', 70000, '2016-11-20'],\n",
    "    [105, 'Bob', 'HR', 60000, '2019-09-10'],\n",
    "    [106, 'Eve', 'Marketing', 75000, '2017-04-05']\n",
    "])\n",
    "print(employee_data)\n",
    "\n",
    "# Same data in Pandas dataframe\n",
    "employee_df = pd.DataFrame(employee_data, columns=['ID', 'Name', 'Department', 'Salary', 'Hire Date'])\n",
    "employee_df['Salary'] = pd.to_numeric(employee_df['Salary'])\n",
    "employee_df"
   ]
  },
  {
   "cell_type": "code",
   "execution_count": null,
   "id": "35f2c25f-0608-4657-8b20-ca3954e69e2d",
   "metadata": {
    "tags": []
   },
   "outputs": [],
   "source": [
    "# Get the average salary by department\n",
    "\n",
    "# Find unique departments\n",
    "unique_departments = np.unique(employee_data[:, 2])\n",
    "\n",
    "# Calculate average salary for each department\n",
    "avg_salaries = []\n",
    "for department in unique_departments:\n",
    "    department_salaries = employee_data[employee_data[:, 2] == department, 3].astype(float)\n",
    "    avg_salaries.append(np.mean(department_salaries))\n",
    "\n",
    "print(unique_departments)\n",
    "print(avg_salaries)"
   ]
  },
  {
   "cell_type": "code",
   "execution_count": null,
   "id": "2d345c7d-9e0d-4571-8799-b9321ce164ed",
   "metadata": {
    "tags": []
   },
   "outputs": [],
   "source": [
    "# Do the same task with Pandas\n",
    "avg_salaries = employee_df.groupby('Department')['Salary'].mean()\n",
    "avg_salaries"
   ]
  },
  {
   "cell_type": "markdown",
   "id": "7eedeeca-c455-4bac-b1ca-e002cfe73a8a",
   "metadata": {},
   "source": [
    "## Activity \n",
    "\n",
    "Consider the following data:\n",
    "\n",
    "|Pet name | Species| Age| Adoption Fee|\n",
    "|---------|--------|----|-------------|\n",
    "|Whiskers | Cat    | 3  | 25.00       |\n",
    "|Bubbles  | Fish   | 1  | 3.00        |\n",
    "| Rover   | Dog    | 2  | 75.00       |\n",
    "| Hopper  | Bunny  | 2  | 15.00       |\n"
   ]
  },
  {
   "cell_type": "markdown",
   "id": "5c079069-401f-4b45-962c-9b977a81c8a9",
   "metadata": {},
   "source": [
    "Create a Pandas dataframe containing the data above. "
   ]
  },
  {
   "cell_type": "code",
   "execution_count": null,
   "id": "23a0d559-e37f-4945-8bcc-e0734fb3fb5b",
   "metadata": {},
   "outputs": [],
   "source": []
  },
  {
   "cell_type": "markdown",
   "id": "31d8368b-18b7-43c3-89be-cbb5fb28e7d5",
   "metadata": {},
   "source": [
    "Select and display only the `Pet Name` and `Species` columns."
   ]
  },
  {
   "cell_type": "code",
   "execution_count": null,
   "id": "dfa03924-07a4-4d64-a575-40b1507e708f",
   "metadata": {},
   "outputs": [],
   "source": []
  },
  {
   "cell_type": "markdown",
   "id": "92d0f716-3085-486c-a671-1227f2f8382b",
   "metadata": {},
   "source": [
    "Select and display only the first two rows of the dataframe."
   ]
  },
  {
   "cell_type": "code",
   "execution_count": null,
   "id": "81d0a4d7-c077-4cd6-8ca0-29e9136e39b6",
   "metadata": {},
   "outputs": [],
   "source": []
  },
  {
   "cell_type": "markdown",
   "id": "365b464e-3cc5-478a-b0f7-1d91f78439fd",
   "metadata": {},
   "source": [
    "Select and display the pets that have an adoption fee less than $20. "
   ]
  },
  {
   "cell_type": "code",
   "execution_count": null,
   "id": "f4d024e5-05f5-4ae7-914e-b8ffeb08cf92",
   "metadata": {},
   "outputs": [],
   "source": []
  }
 ],
 "metadata": {
  "kernelspec": {
   "display_name": "Python 3 (ipykernel)",
   "language": "python",
   "name": "python3"
  },
  "language_info": {
   "codemirror_mode": {
    "name": "ipython",
    "version": 3
   },
   "file_extension": ".py",
   "mimetype": "text/x-python",
   "name": "python",
   "nbconvert_exporter": "python",
   "pygments_lexer": "ipython3",
   "version": "3.11.4"
  }
 },
 "nbformat": 4,
 "nbformat_minor": 5
}
