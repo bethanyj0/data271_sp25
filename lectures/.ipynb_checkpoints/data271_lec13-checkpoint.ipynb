{
 "cells": [
  {
   "cell_type": "markdown",
   "id": "5791e92f",
   "metadata": {},
   "source": [
    "# Importing and inspecting data\n",
    "If you want to type along with me, use [this notebook](https://humboldt.cloudbank.2i2c.cloud/hub/user-redirect/git-pull?repo=https%3A%2F%2Fgithub.com%2Fbethanyj0%2Fdata271_sp25&branch=main&urlpath=tree%2Fdata271_sp25%2Flectures%2Fdata271_lec13_live.ipynb) instead. \n",
    "If you don't want to type and want to follow along just by executing the cells, stay in this notebook. "
   ]
  },
  {
   "cell_type": "code",
   "execution_count": null,
   "id": "e3f9f8ab",
   "metadata": {
    "tags": []
   },
   "outputs": [],
   "source": [
    "import numpy as np\n",
    "import pandas as pd"
   ]
  },
  {
   "cell_type": "markdown",
   "id": "576485f0",
   "metadata": {},
   "source": [
    "## Import data"
   ]
  },
  {
   "cell_type": "code",
   "execution_count": null,
   "id": "de503b4d",
   "metadata": {
    "tags": []
   },
   "outputs": [],
   "source": [
    "# read a csv in your working directory\n",
    "df = pd.read_csv('earthquakes.csv')\n",
    "df.head(2)"
   ]
  },
  {
   "cell_type": "code",
   "execution_count": null,
   "id": "11a7c991",
   "metadata": {
    "tags": []
   },
   "outputs": [],
   "source": [
    "# read a csv online\n",
    "df = pd.read_csv('https://github.com/bethanyj0/data271_sp24/blob/main/demos/earthquakes.csv?raw=True')\n",
    "df.head(2)"
   ]
  },
  {
   "cell_type": "code",
   "execution_count": null,
   "id": "e4a64965",
   "metadata": {
    "tags": []
   },
   "outputs": [],
   "source": [
    "# read in an excel file\n",
    "df = pd.read_excel('earthquakes.xlsx',sheet_name = 'earthquakes')\n",
    "df.head(2)"
   ]
  },
  {
   "cell_type": "code",
   "execution_count": null,
   "id": "bb6b0a70",
   "metadata": {
    "tags": []
   },
   "outputs": [],
   "source": [
    "# Read in an excel file online\n",
    "df = pd.read_excel('https://github.com/bethanyj0/data271_sp24/blob/main/demos/earthquakes.xlsx?raw=True',sheet_name = 'earthquakes')\n",
    "df.head(2)"
   ]
  },
  {
   "cell_type": "code",
   "execution_count": null,
   "id": "81d00ad9-d0b4-47a3-aa0a-26009eff82bf",
   "metadata": {
    "tags": []
   },
   "outputs": [],
   "source": [
    "# To use one of the columns as your row index\n",
    "df = pd.read_csv('earthquakes.csv',index_col='code')\n",
    "df.head(2)"
   ]
  },
  {
   "cell_type": "code",
   "execution_count": null,
   "id": "6a951a00-e5f0-4434-9bf3-5670439e6208",
   "metadata": {
    "tags": []
   },
   "outputs": [],
   "source": [
    "df.index.name"
   ]
  },
  {
   "cell_type": "markdown",
   "id": "2298267e",
   "metadata": {},
   "source": [
    "### Initial Inspection of the Data"
   ]
  },
  {
   "cell_type": "code",
   "execution_count": null,
   "id": "fe813f15-797d-4f7c-9e8c-30eeecdbdf03",
   "metadata": {
    "tags": []
   },
   "outputs": [],
   "source": [
    "# Is the data frame empty? Did import fail?\n",
    "df.empty"
   ]
  },
  {
   "cell_type": "code",
   "execution_count": null,
   "id": "754f8a9c",
   "metadata": {
    "tags": []
   },
   "outputs": [],
   "source": [
    "# display the top few rows\n",
    "df.head(3)"
   ]
  },
  {
   "cell_type": "code",
   "execution_count": null,
   "id": "a704ce0f",
   "metadata": {
    "tags": []
   },
   "outputs": [],
   "source": [
    "# inspecting the last three rows\n",
    "df.tail(3)"
   ]
  },
  {
   "cell_type": "code",
   "execution_count": null,
   "id": "ead2d9b2",
   "metadata": {
    "tags": []
   },
   "outputs": [],
   "source": [
    "# info() gives more information, including the number of non-nulls\n",
    "df.info()"
   ]
  },
  {
   "cell_type": "markdown",
   "id": "b6d66fe9",
   "metadata": {},
   "source": [
    "## Pandas Methods"
   ]
  },
  {
   "cell_type": "code",
   "execution_count": null,
   "id": "6867c604-264a-48fb-a3d5-ab08b05fc5dc",
   "metadata": {
    "tags": []
   },
   "outputs": [],
   "source": [
    "# To reset the index\n",
    "df.reset_index().head(2)"
   ]
  },
  {
   "cell_type": "code",
   "execution_count": null,
   "id": "6716474d-b9fd-4628-8feb-16d5b9e4e79e",
   "metadata": {
    "tags": []
   },
   "outputs": [],
   "source": [
    "# Doesn't update the original\n",
    "df.head(2)"
   ]
  },
  {
   "cell_type": "code",
   "execution_count": null,
   "id": "33dfeaef-f234-4d56-880c-5cbd6d961ede",
   "metadata": {
    "tags": []
   },
   "outputs": [],
   "source": [
    "# Reset the index in the original\n",
    "df.reset_index(inplace=True)\n",
    "df.head(2)"
   ]
  },
  {
   "cell_type": "code",
   "execution_count": null,
   "id": "b7014f6e",
   "metadata": {
    "tags": []
   },
   "outputs": [],
   "source": [
    "# obtain summary statistics for numeric columns\n",
    "df.describe()"
   ]
  },
  {
   "cell_type": "code",
   "execution_count": null,
   "id": "e787d645",
   "metadata": {
    "tags": []
   },
   "outputs": [],
   "source": [
    "# if we would like to just describe one column, such as mag (magnitude)\n",
    "df.mag.describe()"
   ]
  },
  {
   "cell_type": "code",
   "execution_count": null,
   "id": "2d880acc",
   "metadata": {
    "tags": []
   },
   "outputs": [],
   "source": [
    "# we can look for unique values in a column\n",
    "df.status.unique()"
   ]
  },
  {
   "cell_type": "code",
   "execution_count": null,
   "id": "7ad4ebea",
   "metadata": {},
   "outputs": [],
   "source": [
    "# Get the number of rows in each category\n",
    "df.status.value_counts()"
   ]
  },
  {
   "cell_type": "code",
   "execution_count": null,
   "id": "ce83413b-f9c1-4421-b124-8e55afd2b615",
   "metadata": {
    "tags": []
   },
   "outputs": [],
   "source": [
    "# Get the number of non-null values in a column\n",
    "df.felt.count()"
   ]
  },
  {
   "cell_type": "code",
   "execution_count": null,
   "id": "210113cc",
   "metadata": {
    "tags": []
   },
   "outputs": [],
   "source": [
    "# mean of a column\n",
    "df.mag.mean()"
   ]
  },
  {
   "cell_type": "code",
   "execution_count": null,
   "id": "a49c116c",
   "metadata": {
    "tags": []
   },
   "outputs": [],
   "source": [
    "# median\n",
    "df.mag.median()"
   ]
  },
  {
   "cell_type": "code",
   "execution_count": null,
   "id": "748c9fec",
   "metadata": {
    "tags": []
   },
   "outputs": [],
   "source": [
    "# quantile\n",
    "df.mag.quantile(0.5)"
   ]
  },
  {
   "cell_type": "code",
   "execution_count": null,
   "id": "b6807a70",
   "metadata": {
    "tags": []
   },
   "outputs": [],
   "source": [
    "# sum of a column\n",
    "df.mag.sum()"
   ]
  },
  {
   "cell_type": "code",
   "execution_count": null,
   "id": "9a505488",
   "metadata": {
    "tags": []
   },
   "outputs": [],
   "source": [
    "# min of a column\n",
    "df.mag.min()"
   ]
  },
  {
   "cell_type": "code",
   "execution_count": null,
   "id": "e03ea8a5",
   "metadata": {
    "tags": []
   },
   "outputs": [],
   "source": [
    "# max of a column\n",
    "df.mag.max()"
   ]
  },
  {
   "cell_type": "code",
   "execution_count": null,
   "id": "95812d25-d2c9-41f4-87f3-4821f0a42694",
   "metadata": {
    "tags": []
   },
   "outputs": [],
   "source": [
    "# POSITION of maximum (can also use min)\n",
    "df.mag.argmax()"
   ]
  },
  {
   "cell_type": "code",
   "execution_count": null,
   "id": "a119fec4-3d7f-43e4-81d1-07ab64017164",
   "metadata": {
    "tags": []
   },
   "outputs": [],
   "source": [
    "# INDEX LABEL of maximum (can also use min)\n",
    "df.mag.idxmax()"
   ]
  },
  {
   "cell_type": "code",
   "execution_count": null,
   "id": "f97ac7bd-9dbe-4e65-909a-9318e8e069fb",
   "metadata": {
    "tags": []
   },
   "outputs": [],
   "source": [
    "# Sort values in a series\n",
    "df.mag.sort_values()"
   ]
  },
  {
   "cell_type": "code",
   "execution_count": null,
   "id": "25a27368-64e2-4940-968b-9a1239e65c65",
   "metadata": {
    "tags": []
   },
   "outputs": [],
   "source": [
    "# Sort values rows in a dataframe by a value\n",
    "df.sort_values(by='mag')"
   ]
  },
  {
   "cell_type": "code",
   "execution_count": null,
   "id": "0d5dbec3-754a-463b-8738-01ea5a1da4b7",
   "metadata": {
    "tags": []
   },
   "outputs": [],
   "source": [
    "# Certain numeric methods won't automatically work on dataframes\n",
    "#df.max()"
   ]
  },
  {
   "cell_type": "code",
   "execution_count": null,
   "id": "f2a90e2c-a996-4c28-94d9-ed1fd6d22147",
   "metadata": {
    "tags": []
   },
   "outputs": [],
   "source": [
    "# You can do multiple columns at once if all numeric\n",
    "df.loc[:,['mag','gap']].max()"
   ]
  },
  {
   "cell_type": "code",
   "execution_count": null,
   "id": "32291b53-c1cf-4dae-91b8-1c999ced5091",
   "metadata": {
    "tags": []
   },
   "outputs": [],
   "source": [
    "# Get the average of one column based on another column \n",
    "df.groupby('status')['mag'].mean()"
   ]
  },
  {
   "cell_type": "code",
   "execution_count": null,
   "id": "b6d2c828-9642-4621-a7c6-f79a25a7e4d6",
   "metadata": {
    "tags": []
   },
   "outputs": [],
   "source": [
    "# Get the average of multiple columns based on another column \n",
    "df.groupby('status')[['mag','gap']].mean()"
   ]
  },
  {
   "cell_type": "markdown",
   "id": "9de24e88",
   "metadata": {},
   "source": [
    "### Selecting subsets"
   ]
  },
  {
   "cell_type": "code",
   "execution_count": null,
   "id": "b26a6533",
   "metadata": {
    "scrolled": true,
    "tags": []
   },
   "outputs": [],
   "source": [
    "# select all columns with object datatypes\n",
    "df.select_dtypes(object)"
   ]
  },
  {
   "cell_type": "code",
   "execution_count": null,
   "id": "737534ad",
   "metadata": {
    "tags": []
   },
   "outputs": [],
   "source": [
    "# select all columns with ints\n",
    "df.select_dtypes(int)"
   ]
  },
  {
   "cell_type": "code",
   "execution_count": null,
   "id": "bcf89800-6ccd-4828-87d2-8e688303afea",
   "metadata": {
    "tags": []
   },
   "outputs": [],
   "source": [
    "# select all columns with numeric datatypes\n",
    "df.select_dtypes('number')"
   ]
  },
  {
   "cell_type": "markdown",
   "id": "44ab13f4",
   "metadata": {},
   "source": [
    "### Filtering DataFrames with boolean indexing"
   ]
  },
  {
   "cell_type": "code",
   "execution_count": null,
   "id": "5d814e2a",
   "metadata": {
    "tags": []
   },
   "outputs": [],
   "source": [
    "# keep only the rows where this boolean statement is true (mag greater than or equal to 7)\n",
    "df[df.mag >= 7]"
   ]
  },
  {
   "cell_type": "code",
   "execution_count": null,
   "id": "0fe2f326",
   "metadata": {
    "tags": []
   },
   "outputs": [],
   "source": [
    "# important columns for earthquakes with magnitude greater than or equal to 7 OR caused a tsunami\n",
    "df.loc[\n",
    "    (df.tsunami == 1) | (df.mag >= 7),\n",
    "    ['mag', 'title', 'tsunami', 'place']\n",
    "].head(3)"
   ]
  },
  {
   "cell_type": "code",
   "execution_count": null,
   "id": "b8118688",
   "metadata": {
    "tags": []
   },
   "outputs": [],
   "source": [
    "# Just get the earthquakes in California\n",
    "df.loc[\n",
    "    (df.place.str.contains('California')),\n",
    "    ['mag', 'title', 'tsunami', 'place']\n",
    "]"
   ]
  },
  {
   "cell_type": "code",
   "execution_count": null,
   "id": "36a3e64f",
   "metadata": {
    "tags": []
   },
   "outputs": [],
   "source": [
    "# We might have missed some-- the USGS has tagged some locations as California and some as CA.\n",
    "cali_df = df.loc[\n",
    "    (df.place.str.contains('CA|California')),\n",
    "    ['mag', 'title', 'tsunami', 'place']\n",
    "]\n",
    "cali_df.head(3)"
   ]
  },
  {
   "cell_type": "code",
   "execution_count": null,
   "id": "ed37e0af",
   "metadata": {
    "tags": []
   },
   "outputs": [],
   "source": [
    "# if we just want the columns related to magnitude\n",
    "df.loc[\n",
    "    (df.place.str.contains('CA|California')),\n",
    "    [col for col in df.columns if 'mag' in col]\n",
    "].head(3)"
   ]
  },
  {
   "cell_type": "markdown",
   "id": "a2a9da2c-5b1e-4711-afe3-f198342ad9a2",
   "metadata": {},
   "source": [
    "## Activity \n",
    "Create a DataFrame with two rows and 2 columns. The columns should be `mag` and `place`. The first row should contain the information for the smallest earthquake in California (lowest magnitude) and the second row should contain information for the largest earthquake) in California."
   ]
  },
  {
   "cell_type": "code",
   "execution_count": null,
   "id": "f4291c38",
   "metadata": {
    "tags": []
   },
   "outputs": [],
   "source": []
  },
  {
   "cell_type": "markdown",
   "id": "d0a07aff-319f-4ea4-9488-b2b9be982e62",
   "metadata": {
    "tags": []
   },
   "source": [
    "How many earthquakes in the dataset had a red alert?"
   ]
  },
  {
   "cell_type": "code",
   "execution_count": null,
   "id": "aca815ab-4ea7-44ec-905c-11a8f71cf56f",
   "metadata": {
    "tags": []
   },
   "outputs": [],
   "source": []
  },
  {
   "cell_type": "markdown",
   "id": "bb2b5c3c-703f-4a66-9ef7-977310a66f61",
   "metadata": {},
   "source": [
    "How many Oregon earthquakes are in the dataset?"
   ]
  },
  {
   "cell_type": "code",
   "execution_count": null,
   "id": "e34ae716-e666-400c-a66c-30e82a06e5af",
   "metadata": {
    "tags": []
   },
   "outputs": [],
   "source": []
  }
 ],
 "metadata": {
  "kernelspec": {
   "display_name": "Python 3 (ipykernel)",
   "language": "python",
   "name": "python3"
  },
  "language_info": {
   "codemirror_mode": {
    "name": "ipython",
    "version": 3
   },
   "file_extension": ".py",
   "mimetype": "text/x-python",
   "name": "python",
   "nbconvert_exporter": "python",
   "pygments_lexer": "ipython3",
   "version": "3.11.4"
  }
 },
 "nbformat": 4,
 "nbformat_minor": 5
}
