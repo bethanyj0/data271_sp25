{
 "cells": [
  {
   "cell_type": "markdown",
   "id": "5791e92f",
   "metadata": {},
   "source": [
    "# Importing and inspecting data"
   ]
  },
  {
   "cell_type": "code",
   "execution_count": null,
   "id": "8e82bd46-b30f-4f82-8ce6-14252f8b01f7",
   "metadata": {
    "tags": []
   },
   "outputs": [],
   "source": [
    "import pandas as pd"
   ]
  },
  {
   "cell_type": "markdown",
   "id": "41a929b2-6d39-4fa2-a66f-5e4967cdd761",
   "metadata": {},
   "source": [
    "## Import data"
   ]
  },
  {
   "cell_type": "code",
   "execution_count": null,
   "id": "5f895170-465e-4904-ab9c-da8a34757d1a",
   "metadata": {
    "tags": []
   },
   "outputs": [],
   "source": [
    "# read a csv in your working directory\n",
    "df = \n",
    "df.head(2)"
   ]
  },
  {
   "cell_type": "code",
   "execution_count": null,
   "id": "df58a3d0-bc8c-4c3a-a142-3ca3f1b0da51",
   "metadata": {
    "tags": []
   },
   "outputs": [],
   "source": [
    "# read a csv online\n",
    "df = \n",
    "df.head(2)"
   ]
  },
  {
   "cell_type": "code",
   "execution_count": null,
   "id": "364e5453-b4e4-435a-afde-f60710ffb664",
   "metadata": {
    "tags": []
   },
   "outputs": [],
   "source": [
    "# read in an excel file\n",
    "df = \n",
    "df.head(2)"
   ]
  },
  {
   "cell_type": "code",
   "execution_count": null,
   "id": "19bf56ee-dff0-46b2-80bc-2612f43e2061",
   "metadata": {
    "tags": []
   },
   "outputs": [],
   "source": [
    "# Read in an excel file online\n",
    "df = \n",
    "df.head(2)"
   ]
  },
  {
   "cell_type": "code",
   "execution_count": null,
   "id": "6206674a-81b5-4e9d-8d3d-3a57d33b2834",
   "metadata": {
    "tags": []
   },
   "outputs": [],
   "source": [
    "# To use one of the columns as your row index\n",
    "df = \n",
    "df.head(2)"
   ]
  },
  {
   "cell_type": "code",
   "execution_count": null,
   "id": "5e9b2823-ac9b-4e1a-91d0-fe6cb47141bc",
   "metadata": {
    "tags": []
   },
   "outputs": [],
   "source": []
  },
  {
   "cell_type": "markdown",
   "id": "ebd5764a-4200-4dca-a39e-75f4b3d6aa80",
   "metadata": {},
   "source": [
    "### Initial Inspection of the Data"
   ]
  },
  {
   "cell_type": "code",
   "execution_count": null,
   "id": "5be387fc-1d9f-4f15-a38e-ded539c785ed",
   "metadata": {
    "tags": []
   },
   "outputs": [],
   "source": [
    "# Is the data frame empty? Did import fail?\n"
   ]
  },
  {
   "cell_type": "code",
   "execution_count": null,
   "id": "c37ff775-a52a-4028-b5ce-b6cc20bcf5c8",
   "metadata": {
    "tags": []
   },
   "outputs": [],
   "source": [
    "# display the top few rows\n"
   ]
  },
  {
   "cell_type": "code",
   "execution_count": null,
   "id": "e1a9a543-e92d-4ee0-9274-156816db0ed6",
   "metadata": {
    "tags": []
   },
   "outputs": [],
   "source": [
    "# inspecting the last three rows\n"
   ]
  },
  {
   "cell_type": "code",
   "execution_count": null,
   "id": "4807d3cd-82c1-4c39-af80-db8550191d70",
   "metadata": {
    "tags": []
   },
   "outputs": [],
   "source": [
    "# info() gives more information, including the number of non-nulls\n"
   ]
  },
  {
   "cell_type": "markdown",
   "id": "565bb229-7d81-4960-b48c-9d9966de0176",
   "metadata": {},
   "source": [
    "## Pandas Methods"
   ]
  },
  {
   "cell_type": "code",
   "execution_count": null,
   "id": "ec697560-1f39-4649-a553-7e59ae51a179",
   "metadata": {
    "tags": []
   },
   "outputs": [],
   "source": [
    "# To reset the index\n"
   ]
  },
  {
   "cell_type": "code",
   "execution_count": null,
   "id": "8af321f5-92f4-4ecc-9466-3cccb7ca36bd",
   "metadata": {
    "tags": []
   },
   "outputs": [],
   "source": [
    "# Doesn't update the original\n",
    "df.head(2)"
   ]
  },
  {
   "cell_type": "code",
   "execution_count": null,
   "id": "83c2d352-873f-4c25-abb9-8cf8c296c6d8",
   "metadata": {
    "tags": []
   },
   "outputs": [],
   "source": [
    "# Reset the index in the original\n",
    "\n",
    "df.head(2)"
   ]
  },
  {
   "cell_type": "code",
   "execution_count": null,
   "id": "f9a23192-e685-4988-a496-bf5513956edd",
   "metadata": {
    "tags": []
   },
   "outputs": [],
   "source": [
    "# obtain summary statistics for numeric columns\n"
   ]
  },
  {
   "cell_type": "code",
   "execution_count": null,
   "id": "6ae3ac04-aa18-4915-acc2-4bcb527a8858",
   "metadata": {
    "tags": []
   },
   "outputs": [],
   "source": [
    "# if we would like to just describe one column, such as mag (magnitude)\n"
   ]
  },
  {
   "cell_type": "code",
   "execution_count": null,
   "id": "245167b3-1804-4adc-a065-791541c590a8",
   "metadata": {
    "tags": []
   },
   "outputs": [],
   "source": [
    "# we can look for unique values in a column\n"
   ]
  },
  {
   "cell_type": "code",
   "execution_count": null,
   "id": "36a53294-b61d-48e7-9b21-8ac2c77eb86d",
   "metadata": {},
   "outputs": [],
   "source": [
    "# Get the number of rows in each category\n"
   ]
  },
  {
   "cell_type": "code",
   "execution_count": null,
   "id": "17a50086-713d-4268-a1ef-452090ff4348",
   "metadata": {
    "tags": []
   },
   "outputs": [],
   "source": [
    "# Get the number of non-null values in a column\n"
   ]
  },
  {
   "cell_type": "code",
   "execution_count": null,
   "id": "6410098b-a39f-4b41-99a9-09bc00bc24f0",
   "metadata": {
    "tags": []
   },
   "outputs": [],
   "source": [
    "# mean of a column\n"
   ]
  },
  {
   "cell_type": "code",
   "execution_count": null,
   "id": "15b283c2-528a-4ea6-9b89-012c95bc9ea8",
   "metadata": {
    "tags": []
   },
   "outputs": [],
   "source": [
    "# median\n"
   ]
  },
  {
   "cell_type": "code",
   "execution_count": null,
   "id": "f745aed3-452f-424f-8dee-362fbb95ad91",
   "metadata": {
    "tags": []
   },
   "outputs": [],
   "source": [
    "# quantile\n"
   ]
  },
  {
   "cell_type": "code",
   "execution_count": null,
   "id": "ec2db164-95dd-419b-994a-b6da18d64c79",
   "metadata": {
    "tags": []
   },
   "outputs": [],
   "source": [
    "# sum of a column\n"
   ]
  },
  {
   "cell_type": "code",
   "execution_count": null,
   "id": "f727b873-4e69-4ea2-8c25-e7bf6ca26f9f",
   "metadata": {
    "tags": []
   },
   "outputs": [],
   "source": [
    "# min of a column\n"
   ]
  },
  {
   "cell_type": "code",
   "execution_count": null,
   "id": "389c4853-5498-4c8c-9c2f-de1e3855afdb",
   "metadata": {
    "tags": []
   },
   "outputs": [],
   "source": [
    "# max of a column\n"
   ]
  },
  {
   "cell_type": "code",
   "execution_count": null,
   "id": "70e8466e-1f55-49d2-9b13-e6cc7800e5ec",
   "metadata": {
    "tags": []
   },
   "outputs": [],
   "source": [
    "# POSITION of maximum (can also use min)\n"
   ]
  },
  {
   "cell_type": "code",
   "execution_count": null,
   "id": "2a95d175-add8-4d91-8dab-3eefb5a128c9",
   "metadata": {
    "tags": []
   },
   "outputs": [],
   "source": [
    "# INDEX LABEL of maximum (can also use min)\n"
   ]
  },
  {
   "cell_type": "code",
   "execution_count": null,
   "id": "9aeb6864-2e75-4727-99fa-827aa47daf30",
   "metadata": {
    "tags": []
   },
   "outputs": [],
   "source": [
    "# Sort values in a series\n"
   ]
  },
  {
   "cell_type": "code",
   "execution_count": null,
   "id": "b9a364cf-e025-4a7f-b305-f39c1c1e9754",
   "metadata": {
    "tags": []
   },
   "outputs": [],
   "source": [
    "# Sort values rows in a dataframe by a value\n"
   ]
  },
  {
   "cell_type": "code",
   "execution_count": null,
   "id": "63519dab-46ed-4ed1-9b87-3971377173db",
   "metadata": {
    "tags": []
   },
   "outputs": [],
   "source": [
    "# Certain numeric methods won't automatically work on dataframes\n",
    "#df.max()"
   ]
  },
  {
   "cell_type": "code",
   "execution_count": null,
   "id": "bc26a0b6-2c4c-42e0-b5df-d34ae0a52cd8",
   "metadata": {
    "tags": []
   },
   "outputs": [],
   "source": [
    "# You can do multiple columns at once if all numeric\n",
    "df.loc[:,['mag','gap']].max()"
   ]
  },
  {
   "cell_type": "markdown",
   "id": "ace865ec-533b-4872-b0ce-75bee6f5c1e9",
   "metadata": {},
   "source": [
    "### Selecting subsets"
   ]
  },
  {
   "cell_type": "code",
   "execution_count": null,
   "id": "4045071b-1046-4608-97ba-7710c84b596a",
   "metadata": {
    "scrolled": true,
    "tags": []
   },
   "outputs": [],
   "source": [
    "# select all columns with object datatypes\n"
   ]
  },
  {
   "cell_type": "code",
   "execution_count": null,
   "id": "6a1153ae-a169-466c-a7ad-94e9b5e4beb2",
   "metadata": {
    "tags": []
   },
   "outputs": [],
   "source": [
    "# select all columns with ints\n"
   ]
  },
  {
   "cell_type": "code",
   "execution_count": null,
   "id": "c0ac93c4-7e55-4fbb-a0c0-5b0a0ddabbc8",
   "metadata": {
    "tags": []
   },
   "outputs": [],
   "source": [
    "# select all columns with numeric datatypes\n"
   ]
  },
  {
   "cell_type": "markdown",
   "id": "b4221f32-f24f-4a58-b3bb-6d43c8517707",
   "metadata": {},
   "source": [
    "### Filtering DataFrames with boolean indexing"
   ]
  },
  {
   "cell_type": "code",
   "execution_count": null,
   "id": "12bbde95-5d93-409c-8e2a-a49b8eff52e2",
   "metadata": {
    "tags": []
   },
   "outputs": [],
   "source": [
    "# keep only the rows where this boolean statement is true (mag greater than or equal to 7)\n"
   ]
  },
  {
   "cell_type": "code",
   "execution_count": null,
   "id": "11877569-e2e5-4ffb-8def-38c3a70fa592",
   "metadata": {
    "tags": []
   },
   "outputs": [],
   "source": [
    "# important columns for earthquakes with magnitude greater than or equal to 7 OR caused a tsunami\n",
    "df.loc[\n",
    "    ...,\n",
    "    ['mag', 'title', 'tsunami', 'place']\n",
    "].head(3)"
   ]
  },
  {
   "cell_type": "code",
   "execution_count": null,
   "id": "f530c0bb-ac8d-4d5d-851a-525c1ac08716",
   "metadata": {
    "tags": []
   },
   "outputs": [],
   "source": [
    "# Just get the earthquakes in California\n",
    "df.loc[\n",
    "    (df.place.str.contains('California')),\n",
    "    ['mag', 'title', 'tsunami', 'place']\n",
    "]"
   ]
  },
  {
   "cell_type": "code",
   "execution_count": null,
   "id": "941466cc-fcc0-4247-92d7-a17ae4de512c",
   "metadata": {
    "tags": []
   },
   "outputs": [],
   "source": [
    "# We might have missed some-- the USGS has tagged some locations as California and some as CA.\n",
    "cali_df = df.loc[\n",
    "    (df.place.str.contains('CA|California')),\n",
    "    ['mag', 'title', 'tsunami', 'place']\n",
    "]\n",
    "cali_df.head(3)"
   ]
  },
  {
   "cell_type": "code",
   "execution_count": null,
   "id": "8d885299-9f89-45ab-a37d-2f38627b68f7",
   "metadata": {
    "tags": []
   },
   "outputs": [],
   "source": [
    "# if we just want the columns related to magnitude\n",
    "df.loc[\n",
    "    (df.place.str.contains('CA|California')),\n",
    "    [col for col in df.columns if 'mag' in col]\n",
    "].head(3)"
   ]
  },
  {
   "cell_type": "markdown",
   "id": "3ee56307-18ae-4ed1-9b05-d4fba88e61d0",
   "metadata": {},
   "source": [
    "## Activity \n",
    "Create a DataFrame with two rows and 2 columns. The columns should be `mag` and `place`. The first row should contain the information for the smallest earthquake in California (lowest magnitude) and the second row should contain information for the largest earthquake) in California."
   ]
  },
  {
   "cell_type": "code",
   "execution_count": null,
   "id": "b556973a-5a90-439c-bc1b-fb0d319fe1ee",
   "metadata": {
    "tags": []
   },
   "outputs": [],
   "source": []
  },
  {
   "cell_type": "markdown",
   "id": "76992563-504b-4057-a8b5-f49be0b2e758",
   "metadata": {
    "tags": []
   },
   "source": [
    "How many earthquakes in the dataset had a red alert?"
   ]
  },
  {
   "cell_type": "code",
   "execution_count": null,
   "id": "46ede918-eb1d-438e-92b1-faefc74af9f0",
   "metadata": {
    "tags": []
   },
   "outputs": [],
   "source": []
  },
  {
   "cell_type": "markdown",
   "id": "8b9a3ebf-1ae0-4e14-bb6f-c9004ead5ced",
   "metadata": {},
   "source": [
    "How many Oregon earthquakes are in the dataset?"
   ]
  },
  {
   "cell_type": "code",
   "execution_count": null,
   "id": "aba00206-a89f-4526-b6a3-780d4d653ac8",
   "metadata": {
    "tags": []
   },
   "outputs": [],
   "source": []
  }
 ],
 "metadata": {
  "kernelspec": {
   "display_name": "Python 3 (ipykernel)",
   "language": "python",
   "name": "python3"
  },
  "language_info": {
   "codemirror_mode": {
    "name": "ipython",
    "version": 3
   },
   "file_extension": ".py",
   "mimetype": "text/x-python",
   "name": "python",
   "nbconvert_exporter": "python",
   "pygments_lexer": "ipython3",
   "version": "3.11.4"
  }
 },
 "nbformat": 4,
 "nbformat_minor": 5
}
