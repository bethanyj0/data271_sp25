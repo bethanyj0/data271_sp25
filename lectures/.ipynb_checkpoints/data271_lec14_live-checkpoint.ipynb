{
 "cells": [
  {
   "cell_type": "markdown",
   "id": "bd035d4a",
   "metadata": {},
   "source": [
    "# More Pandas"
   ]
  },
  {
   "cell_type": "code",
   "execution_count": null,
   "id": "bb13cfce-73e4-432b-8484-9b66ccde80dd",
   "metadata": {},
   "outputs": [],
   "source": [
    "import numpy as np\n",
    "import pandas as pd\n",
    "import warnings\n",
    "warnings.filterwarnings(\"ignore\")"
   ]
  },
  {
   "cell_type": "markdown",
   "id": "3fc6a0df-b06f-40ea-9b05-3ea49493343f",
   "metadata": {},
   "source": [
    "### Import data"
   ]
  },
  {
   "cell_type": "code",
   "execution_count": null,
   "id": "085eadf5-f2e5-47d6-8e6d-ab0e481ebda1",
   "metadata": {},
   "outputs": [],
   "source": [
    "# read a csv in your working directory\n",
    "df = \n",
    "df.head(2)"
   ]
  },
  {
   "cell_type": "markdown",
   "id": "cd98ee23-b8a9-454a-8c11-6aadbc3fed6a",
   "metadata": {},
   "source": [
    "### Selecting subsets based on datatype"
   ]
  },
  {
   "cell_type": "code",
   "execution_count": null,
   "id": "9a8addd5-ca08-4dbe-8261-e500ff60e184",
   "metadata": {
    "scrolled": true,
    "tags": []
   },
   "outputs": [],
   "source": [
    "# select all columns with object datatypes\n"
   ]
  },
  {
   "cell_type": "code",
   "execution_count": null,
   "id": "e81dc34c-860c-4a39-aa5b-6a7600fda328",
   "metadata": {
    "tags": []
   },
   "outputs": [],
   "source": [
    "# select all columns with ints\n"
   ]
  },
  {
   "cell_type": "code",
   "execution_count": null,
   "id": "a5ab6866-c05c-4d3b-bc64-45107c56fd62",
   "metadata": {
    "tags": []
   },
   "outputs": [],
   "source": [
    "# select all columns with numeric datatypes\n"
   ]
  },
  {
   "cell_type": "markdown",
   "id": "8994ad6c-0662-4a2a-8569-d2e90c835cc3",
   "metadata": {},
   "source": [
    "### Filtering rows or columns with boolean indexing"
   ]
  },
  {
   "cell_type": "code",
   "execution_count": null,
   "id": "4d88a5f3-042d-423b-8b1f-b3591e58502a",
   "metadata": {
    "tags": []
   },
   "outputs": [],
   "source": [
    "# tempting syntax, but doesn't work\n",
    "#df['mag' >= 7]"
   ]
  },
  {
   "cell_type": "code",
   "execution_count": null,
   "id": "a13ae99a-7e3a-4ae7-aafa-b7abf97174f1",
   "metadata": {
    "tags": []
   },
   "outputs": [],
   "source": [
    "# keep only the rows where this boolean statement is true (mag greater than or equal to 7)\n"
   ]
  },
  {
   "cell_type": "code",
   "execution_count": null,
   "id": "1b8f1ed0-3941-499d-b7dc-502476be98e9",
   "metadata": {
    "tags": []
   },
   "outputs": [],
   "source": [
    "# Supports multiple conditions with & or |\n",
    "# select some columns for earthquakes with magnitude greater than or equal to 7 OR caused a tsunami\n",
    "df.loc[\n",
    "    ...,\n",
    "    ['mag', 'title', 'tsunami', 'place']\n",
    "].head(3)"
   ]
  },
  {
   "cell_type": "code",
   "execution_count": null,
   "id": "12cae38a-f609-48a9-8762-352cfbc4fc0b",
   "metadata": {
    "tags": []
   },
   "outputs": [],
   "source": [
    "# Use str.contains to filter strings\n",
    "df.loc[\n",
    "    ...,\n",
    "    ['mag', 'title', 'tsunami', 'place']\n",
    "].shape"
   ]
  },
  {
   "cell_type": "code",
   "execution_count": null,
   "id": "3afa6132-6444-401c-9315-daf162bea047",
   "metadata": {
    "tags": []
   },
   "outputs": [],
   "source": [
    "# Also supports regex -- the USGS has tagged some locations as California and some as CA.\n",
    "cali_df = df.loc[\n",
    "    ...,\n",
    "    ['mag', 'title', 'tsunami', 'place']\n",
    "]\n",
    "cali_df.shape"
   ]
  },
  {
   "cell_type": "code",
   "execution_count": null,
   "id": "c5865b05-ccbd-45d7-aedd-89c8aba994f6",
   "metadata": {
    "tags": []
   },
   "outputs": [],
   "source": [
    "# Can use list comprehensions to help filtering\n",
    "df.loc[\n",
    "    (df.place.str.contains('CA|California', regex=True)),\n",
    "    ...\n",
    "].head(3)"
   ]
  },
  {
   "cell_type": "code",
   "execution_count": null,
   "id": "8336e687-5818-437b-825e-b32b771a8582",
   "metadata": {},
   "outputs": [],
   "source": [
    "# another way\n",
    "df.loc[\n",
    "    (df.place.str.contains('CA|California', regex=True)),\n",
    "    ...\n",
    "]"
   ]
  },
  {
   "cell_type": "code",
   "execution_count": null,
   "id": "5fead65c-2e05-4929-bb3d-585bffa57e48",
   "metadata": {},
   "outputs": [],
   "source": [
    "# recall .between (inclusive)\n",
    "df.loc[df.mag.between(6.5,7.5),['mag','magType','title','tsunami','type']]"
   ]
  },
  {
   "cell_type": "code",
   "execution_count": null,
   "id": "d8bfefdb-9e46-4a82-a024-25c987908f19",
   "metadata": {},
   "outputs": [],
   "source": [
    "# recall isin\n",
    "df.loc[df.magType.isin(['mw','mwb']),['mag','magType','title','tsunami','type']]"
   ]
  },
  {
   "cell_type": "markdown",
   "id": "cf6826e1-b51c-406f-a266-8df704639ad6",
   "metadata": {},
   "source": [
    "### Additional methods to filter columns"
   ]
  },
  {
   "cell_type": "code",
   "execution_count": null,
   "id": "a9afb118-7ff4-4dff-8377-f7a5e6228857",
   "metadata": {
    "tags": []
   },
   "outputs": [],
   "source": [
    "df.shape"
   ]
  },
  {
   "cell_type": "code",
   "execution_count": null,
   "id": "555b009f-b970-4970-8243-1eb54f32cf96",
   "metadata": {
    "tags": []
   },
   "outputs": [],
   "source": [
    "# Drop a column\n"
   ]
  },
  {
   "cell_type": "code",
   "execution_count": null,
   "id": "3ada8e4d-9d48-4f39-a66e-8a048fd6ffb6",
   "metadata": {
    "tags": []
   },
   "outputs": [],
   "source": []
  },
  {
   "cell_type": "code",
   "execution_count": null,
   "id": "7a0880b1-ea0f-4ce2-abe4-d12f58e58858",
   "metadata": {
    "tags": []
   },
   "outputs": [],
   "source": []
  },
  {
   "cell_type": "code",
   "execution_count": null,
   "id": "9dbd78ac-49f8-481e-b27d-16b3d18a5cbc",
   "metadata": {
    "tags": []
   },
   "outputs": [],
   "source": [
    "# Doesn't update the original (use inplace if you want to update)\n",
    "df.shape"
   ]
  },
  {
   "cell_type": "markdown",
   "id": "1e11f58e-50f6-4d28-85f3-226e9acab78a",
   "metadata": {},
   "source": [
    "### Broadcasting and Elementwise Arithmetic"
   ]
  },
  {
   "cell_type": "code",
   "execution_count": null,
   "id": "55dfd3f0-27e6-4b2c-848b-ca32cb14caf5",
   "metadata": {
    "tags": []
   },
   "outputs": [],
   "source": [
    "# Broadcasting works on Pandas Series\n"
   ]
  },
  {
   "cell_type": "code",
   "execution_count": null,
   "id": "a8c07031-0517-4829-8285-d11851e97f37",
   "metadata": {
    "tags": []
   },
   "outputs": [],
   "source": [
    "# Broadcasting works on Pandas DataFrames\n"
   ]
  },
  {
   "cell_type": "code",
   "execution_count": null,
   "id": "844bd20c-26b8-4b19-a4e3-b2c27347a7ca",
   "metadata": {
    "tags": []
   },
   "outputs": [],
   "source": [
    "# Understanding elementwise arithmetic\n",
    "df1 = pd.DataFrame({'A':[1,2,3], 'B':[3,4,5], 'C':[5,6,7]})\n",
    "df2 = pd.DataFrame({'B':[5,6,7], 'C':[7,8,9], 'D':[9,10,11]}, index = [1,2,3])"
   ]
  },
  {
   "cell_type": "code",
   "execution_count": null,
   "id": "6b195414-9b03-41f8-afba-06b831ba4802",
   "metadata": {
    "tags": []
   },
   "outputs": [],
   "source": [
    "df1"
   ]
  },
  {
   "cell_type": "code",
   "execution_count": null,
   "id": "c3f5cc12-f527-4aa4-a7fd-f84c65798961",
   "metadata": {
    "tags": []
   },
   "outputs": [],
   "source": [
    "df2"
   ]
  },
  {
   "cell_type": "code",
   "execution_count": null,
   "id": "3b33b331-8582-4c96-987b-a44ff4313ed7",
   "metadata": {
    "tags": []
   },
   "outputs": [],
   "source": [
    "# Elementsise arithmetic goes by labels\n"
   ]
  },
  {
   "cell_type": "code",
   "execution_count": null,
   "id": "d5354d42-fc58-4b25-87e4-930568a4f396",
   "metadata": {
    "tags": []
   },
   "outputs": [],
   "source": [
    "# Series behave like a row in elementwise arithmetic\n",
    "srs = pd.Series([1,2,3], index = ['A','B','C'])\n"
   ]
  },
  {
   "cell_type": "code",
   "execution_count": null,
   "id": "3d9b4e7c-e863-421c-ae5f-718f46d3913b",
   "metadata": {
    "tags": []
   },
   "outputs": [],
   "source": [
    "# Will not work with different labels\n",
    "srs = pd.Series([1,2,3])\n"
   ]
  },
  {
   "cell_type": "code",
   "execution_count": null,
   "id": "acdcfa00-0820-4cd8-b05b-dee28d1d3187",
   "metadata": {
    "tags": []
   },
   "outputs": [],
   "source": [
    "# To do arithmetic along the other axis use the arithmetic methods\n"
   ]
  },
  {
   "cell_type": "markdown",
   "id": "b98898bc-f2cc-4712-8b94-b461dd2de90d",
   "metadata": {},
   "source": [
    "## MultiIndex DataFrames"
   ]
  },
  {
   "cell_type": "code",
   "execution_count": null,
   "id": "57502770-31af-4da4-8e65-49d1a1825f18",
   "metadata": {
    "tags": []
   },
   "outputs": [],
   "source": [
    "# Originial DataFrame\n",
    "olympics = pd.read_csv('athlete_events.csv')\n",
    "olympics.head()"
   ]
  },
  {
   "cell_type": "code",
   "execution_count": null,
   "id": "06e74650-f5f5-4bcb-8902-1387c97ca1d3",
   "metadata": {
    "tags": []
   },
   "outputs": [],
   "source": [
    "# If we wanted to filter United States entries for 2012 \n"
   ]
  },
  {
   "cell_type": "code",
   "execution_count": null,
   "id": "35f0c835-1c3e-42be-9d45-1fa6753c521e",
   "metadata": {
    "tags": []
   },
   "outputs": [],
   "source": [
    "# Using multiple columns as indices\n",
    "multi_olympics = pd.read_csv('athlete_events.csv', ...)\n",
    "multi_olympics.head()"
   ]
  },
  {
   "cell_type": "code",
   "execution_count": null,
   "id": "5750d9df-77b3-42e7-ab6c-9a8906b41bd7",
   "metadata": {
    "tags": []
   },
   "outputs": [],
   "source": [
    "# Indexing with MultiIndex dataframes\n"
   ]
  },
  {
   "cell_type": "code",
   "execution_count": null,
   "id": "5c865095-af18-4500-a1c1-311c6a98f1b6",
   "metadata": {
    "tags": []
   },
   "outputs": [],
   "source": [
    "# To just use the first level index\n"
   ]
  },
  {
   "cell_type": "code",
   "execution_count": null,
   "id": "a61570df-f769-4f83-8438-63c0729a9a82",
   "metadata": {
    "tags": []
   },
   "outputs": [],
   "source": [
    "# To use the second level index\n",
    "multi_olympics.loc[(slice(None), 2012),:]"
   ]
  },
  {
   "cell_type": "code",
   "execution_count": null,
   "id": "6ddb6e04-dafa-4cde-8427-ead9a89c3290",
   "metadata": {
    "tags": []
   },
   "outputs": [],
   "source": [
    "# To use the second level index\n",
    "multi_olympics.xs(key = 2012, level = 'Year')"
   ]
  },
  {
   "cell_type": "code",
   "execution_count": null,
   "id": "7f57632e-d3b9-4755-95fd-ca171072376b",
   "metadata": {
    "tags": []
   },
   "outputs": [],
   "source": [
    "# You can also swap the index levels\n",
    "multi_olympics.swaplevel(\"Team\", \"Year\").loc[2012]"
   ]
  },
  {
   "cell_type": "markdown",
   "id": "8e00fa6a-dcdd-4329-8c39-4f91768f1e30",
   "metadata": {},
   "source": [
    "## Plotting with Pandas"
   ]
  },
  {
   "cell_type": "code",
   "execution_count": null,
   "id": "58463649-fbc0-47af-a7dc-2ab65ed50bcc",
   "metadata": {},
   "outputs": [],
   "source": [
    "# histograms\n"
   ]
  },
  {
   "cell_type": "code",
   "execution_count": null,
   "id": "17af2fbc-4e0c-40ba-b8b5-2415101f7959",
   "metadata": {},
   "outputs": [],
   "source": [
    "# line plots\n"
   ]
  },
  {
   "cell_type": "code",
   "execution_count": null,
   "id": "c1e3fbc8-d1e0-48e0-a163-aeb30cdc49d9",
   "metadata": {},
   "outputs": [],
   "source": [
    "# scatter plots\n"
   ]
  },
  {
   "cell_type": "code",
   "execution_count": null,
   "id": "f6494ae2-1f88-4ac4-908e-f2848b6740a1",
   "metadata": {},
   "outputs": [],
   "source": [
    "# bar charts\n"
   ]
  },
  {
   "cell_type": "code",
   "execution_count": null,
   "id": "70dc188c-e1fc-4471-8f14-7e3138cd4482",
   "metadata": {},
   "outputs": [],
   "source": [
    "# another notation \n",
    "df.plot.hist(y='mag');"
   ]
  },
  {
   "cell_type": "markdown",
   "id": "e48e977d-bc2f-4340-8eb7-defcb4d546a5",
   "metadata": {
    "tags": []
   },
   "source": [
    "## Activity \n",
    "Create a DataFrame with two rows and 2 columns. The columns should be `mag` and `place`. The first row should contain the information for the smallest earthquake in California (lowest magnitude) and the second row should contain information for the largest earthquake) in California."
   ]
  },
  {
   "cell_type": "code",
   "execution_count": null,
   "id": "9a27a410-54a5-4aa9-90b2-9c4f7c8ab379",
   "metadata": {
    "tags": []
   },
   "outputs": [],
   "source": [
    "# This allows us to index with loc\n"
   ]
  },
  {
   "cell_type": "markdown",
   "id": "2460dbc0-315b-4f95-b647-a4f0ff369c22",
   "metadata": {
    "tags": []
   },
   "source": [
    "How many earthquakes in the dataset had a red alert?"
   ]
  },
  {
   "cell_type": "code",
   "execution_count": null,
   "id": "1f4fe983-cced-4af2-bcdc-929cfdd6373f",
   "metadata": {
    "tags": []
   },
   "outputs": [],
   "source": []
  },
  {
   "cell_type": "markdown",
   "id": "641e6ff6-c943-4407-b0a3-584fef956d4d",
   "metadata": {},
   "source": [
    "How many Oregon earthquakes are in the dataset?"
   ]
  },
  {
   "cell_type": "code",
   "execution_count": null,
   "id": "03a2f960-fd54-415d-9bbc-9a26fb7d4555",
   "metadata": {
    "tags": []
   },
   "outputs": [],
   "source": []
  }
 ],
 "metadata": {
  "kernelspec": {
   "display_name": "Python 3 (ipykernel)",
   "language": "python",
   "name": "python3"
  },
  "language_info": {
   "codemirror_mode": {
    "name": "ipython",
    "version": 3
   },
   "file_extension": ".py",
   "mimetype": "text/x-python",
   "name": "python",
   "nbconvert_exporter": "python",
   "pygments_lexer": "ipython3",
   "version": "3.11.4"
  }
 },
 "nbformat": 4,
 "nbformat_minor": 5
}
