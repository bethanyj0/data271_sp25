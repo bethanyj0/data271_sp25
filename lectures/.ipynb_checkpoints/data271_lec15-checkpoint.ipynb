{
 "cells": [
  {
   "cell_type": "markdown",
   "id": "bd035d4a",
   "metadata": {},
   "source": [
    "# Plotting with Matplotlib\n",
    "If you want to type along with me, use [this notebook](https://humboldt.cloudbank.2i2c.cloud/hub/user-redirect/git-pull?repo=https%3A%2F%2Fgithub.com%2Fbethanyj0%2Fdata271_sp25&branch=main&urlpath=tree%2Fdata271_sp25%2Flectures%2Fdata271_lec15_live.ipynb) instead. \n",
    "If you don't want to type and want to follow along just by executing the cells, stay in this notebook. "
   ]
  },
  {
   "cell_type": "code",
   "execution_count": null,
   "id": "26e99e3b",
   "metadata": {},
   "outputs": [],
   "source": [
    "import numpy as np\n",
    "import pandas as pd"
   ]
  },
  {
   "cell_type": "markdown",
   "id": "918fab55",
   "metadata": {},
   "source": [
    "## Matplotlib basics"
   ]
  },
  {
   "cell_type": "code",
   "execution_count": null,
   "id": "6f7ec718",
   "metadata": {},
   "outputs": [],
   "source": [
    "# Whenever we want to use matplotlib\n",
    "import matplotlib.pyplot as plt"
   ]
  },
  {
   "cell_type": "code",
   "execution_count": null,
   "id": "c8a816a8",
   "metadata": {},
   "outputs": [],
   "source": [
    "# If you have data living in lists\n",
    "x = [1,2,3,4,5]\n",
    "y = [1,4,7,3,5]\n",
    "\n",
    "plt.plot(x,y) # generate the plot\n",
    "plt.show() # display the plot"
   ]
  },
  {
   "cell_type": "code",
   "execution_count": null,
   "id": "ffa9c28f",
   "metadata": {},
   "outputs": [],
   "source": [
    "# Can also plot more than one line at a time\n",
    "x = [1,2,3,4,5]\n",
    "y = [1,4,7,3,5]\n",
    "z = [1,5,7,2,7]\n",
    "n = [7,3,2,5,2]\n",
    "\n",
    "plt.plot(x,y) # generate the plot \n",
    "plt.plot(x,z) # generate the plot \n",
    "plt.show() # display the plot"
   ]
  },
  {
   "cell_type": "code",
   "execution_count": null,
   "id": "f014329c",
   "metadata": {},
   "outputs": [],
   "source": [
    "# if we have two different x-axes, the categorical get's plotted\n",
    "x2 = ['a','b','c','d','e']\n",
    "y2 = [1,6,2,5,1]\n",
    "\n",
    "plt.plot(x,y)\n",
    "plt.plot(x2,y2)\n",
    "plt.show()"
   ]
  },
  {
   "cell_type": "markdown",
   "id": "c5b1e991",
   "metadata": {},
   "source": [
    "## Changing plot type"
   ]
  },
  {
   "cell_type": "code",
   "execution_count": null,
   "id": "89f40889",
   "metadata": {},
   "outputs": [],
   "source": [
    "# 'r' indicates red and 'o' indixates circle shape\n",
    "plt.plot(x,y,'ro')\n",
    "plt.show()"
   ]
  },
  {
   "cell_type": "code",
   "execution_count": null,
   "id": "e221ff0d",
   "metadata": {},
   "outputs": [],
   "source": [
    "# Can have multiple types on same plot\n",
    "plt.plot(x,y)\n",
    "plt.plot(x2,y2,'ro')\n",
    "plt.show()"
   ]
  },
  {
   "cell_type": "markdown",
   "id": "85fb0aa2-b484-4b83-b902-10c15e806a40",
   "metadata": {},
   "source": [
    "# Another way to create scatter plots"
   ]
  },
  {
   "cell_type": "code",
   "execution_count": null,
   "id": "fc5fdad5-5d91-4e28-bb72-2e243aacf2d0",
   "metadata": {
    "tags": []
   },
   "outputs": [],
   "source": [
    "plt.scatter(x2,y2)\n",
    "plt.show()"
   ]
  },
  {
   "cell_type": "code",
   "execution_count": null,
   "id": "5e071482-99e4-45cb-9a7d-1f7ab3c39084",
   "metadata": {
    "tags": []
   },
   "outputs": [],
   "source": [
    "# This allows for more flexibility with markers\n",
    "plt.scatter(x2,y2, s=100)\n",
    "plt.show()"
   ]
  },
  {
   "cell_type": "markdown",
   "id": "7c660c2e-6129-4349-bf9a-c4b26d395e03",
   "metadata": {},
   "source": [
    "## Data in a Pandas DataFrame"
   ]
  },
  {
   "cell_type": "code",
   "execution_count": null,
   "id": "6d2d6880",
   "metadata": {},
   "outputs": [],
   "source": [
    "# Make peppers dataframe\n",
    "peppers = pd.DataFrame({\n",
    "    'Scoville_scale':[0.0,5000.0,10000.0,60000.0,500000.0,2000000.0],\n",
    "    'Chili_pepper_scale':[0,1,2,3,4,5],\n",
    "    'Name': ['Bell pepper','Espelette pepper','Serrano pepper',\"Bird's eye chili\",'Chocolate habanero','Carolina Reaper'],\n",
    "    'Feeling':['Not even spicy','Uncomfortable','I regret this','4th stage of grief','Practically ate pepper spray','Actually ate pepper spray']\n",
    "    \n",
    "})\n",
    "peppers"
   ]
  },
  {
   "cell_type": "code",
   "execution_count": null,
   "id": "340c9c8b-a7ce-42b2-acef-d2496245e45c",
   "metadata": {
    "tags": []
   },
   "outputs": [],
   "source": [
    "# Recall pandas plotting\n",
    "peppers.plot(kind = 'scatter', x = 'Scoville_scale', y = 'Chili_pepper_scale');"
   ]
  },
  {
   "cell_type": "code",
   "execution_count": null,
   "id": "49db94e9",
   "metadata": {},
   "outputs": [],
   "source": [
    "# Syntax for plotting with matplotlib\n",
    "plt.scatter(peppers.Scoville_scale,peppers.Chili_pepper_scale)\n",
    "plt.show()"
   ]
  },
  {
   "cell_type": "code",
   "execution_count": null,
   "id": "53595a4b",
   "metadata": {},
   "outputs": [],
   "source": [
    "# another way plt.scatter(x_label,y_label,data = Pandas DataFrame)\n",
    "plt.scatter('Scoville_scale','Chili_pepper_scale',data = peppers)\n",
    "plt.show()"
   ]
  },
  {
   "cell_type": "markdown",
   "id": "bd85c1cd-a9ef-4221-959c-1c107a9d39e2",
   "metadata": {
    "tags": []
   },
   "source": [
    "## Plotting distributions"
   ]
  },
  {
   "cell_type": "code",
   "execution_count": null,
   "id": "b433bd48-5af6-4537-adf9-d874ed9ef0d7",
   "metadata": {},
   "outputs": [],
   "source": [
    "# Import Affordability Data\n",
    "df = pd.read_csv('https://raw.githubusercontent.com/bethanyj0/data271_sp24/main/midterms/property_price.csv')\n",
    "df['state'] = [i[-2:] for i in df.City]\n",
    "df.head()"
   ]
  },
  {
   "cell_type": "code",
   "execution_count": null,
   "id": "f53a9f6f-70b9-4b6f-ac42-06c1a1c6cde1",
   "metadata": {},
   "outputs": [],
   "source": [
    "# Get frequency of each state and make a bar plot\n",
    "state_nums = df.state.value_counts()\n",
    "plt.bar(state_nums.index, state_nums.values)\n",
    "plt.show()"
   ]
  },
  {
   "cell_type": "code",
   "execution_count": null,
   "id": "7b29b341-1876-4666-acae-a25491ac66d4",
   "metadata": {},
   "outputs": [],
   "source": [
    "# Can also make horizontal bar plots\n",
    "plt.barh(state_nums.index, state_nums.values)\n",
    "plt.show()"
   ]
  },
  {
   "cell_type": "code",
   "execution_count": null,
   "id": "cdfb5e5f-3abf-4307-8d0e-6c4b03e7c0b1",
   "metadata": {},
   "outputs": [],
   "source": [
    "# Numeric distributions\n",
    "plt.hist('Affordability Index', data = df)\n",
    "plt.show()"
   ]
  },
  {
   "cell_type": "markdown",
   "id": "60987634",
   "metadata": {},
   "source": [
    "## Why we might need plotting flexibility\n",
    "Some of the examples above show why we might want to adjust our plots. Here is another example"
   ]
  },
  {
   "cell_type": "code",
   "execution_count": null,
   "id": "13ccb7d1",
   "metadata": {},
   "outputs": [],
   "source": [
    "y2 = [1,6,250,5,1]\n",
    "\n",
    "plt.plot(x,y)\n",
    "plt.plot(x2,y2)\n",
    "plt.show()"
   ]
  },
  {
   "cell_type": "markdown",
   "id": "89391ad0",
   "metadata": {},
   "source": [
    "## Object-Oriented Plotting"
   ]
  },
  {
   "cell_type": "code",
   "execution_count": null,
   "id": "926236ee",
   "metadata": {},
   "outputs": [],
   "source": [
    "# another way to generate a figure\n",
    "figure = plt.figure()\n",
    "# axes [left start, bottom start, width, height]\n",
    "ax = figure.add_axes([0,0,1,1])\n",
    "\n",
    "ax.plot(x,y)\n",
    "plt.show()"
   ]
  },
  {
   "cell_type": "code",
   "execution_count": null,
   "id": "63e90902",
   "metadata": {},
   "outputs": [],
   "source": [
    "# display the figure again\n",
    "figure"
   ]
  },
  {
   "cell_type": "markdown",
   "id": "ec43c00c",
   "metadata": {},
   "source": [
    "## Customizing your Matplotlib Figure"
   ]
  },
  {
   "cell_type": "code",
   "execution_count": null,
   "id": "1b9673c5",
   "metadata": {},
   "outputs": [],
   "source": [
    "## adding subplots\n",
    "# add_subplot(num rows, num cols, index of subplot we're adding)\n",
    "\n",
    "figure = plt.figure()\n",
    "ax = figure.add_subplot(111)\n",
    "\n",
    "ax.plot(x,y)\n",
    "plt.show()"
   ]
  },
  {
   "cell_type": "code",
   "execution_count": null,
   "id": "711feccb",
   "metadata": {},
   "outputs": [],
   "source": [
    "# adding multiple subplots\n",
    "figure = plt.figure()\n",
    "ax = figure.add_subplot(121)\n",
    "ax2 = figure.add_subplot(122)\n",
    "\n",
    "ax.plot(x,y)\n",
    "ax2.plot(x,y2)\n",
    "plt.show()"
   ]
  },
  {
   "cell_type": "code",
   "execution_count": null,
   "id": "87d6e1fb",
   "metadata": {},
   "outputs": [],
   "source": [
    "# if you need to add many subplots stacked on top of eachother\n",
    "fig,ax = plt.subplots(4)\n",
    "n = [7,3,2,5,2]\n",
    "\n",
    "ax[0].plot(x)\n",
    "ax[1].plot(y)\n",
    "ax[2].plot(z)\n",
    "ax[3].plot(n)\n",
    "plt.show()"
   ]
  },
  {
   "cell_type": "code",
   "execution_count": null,
   "id": "9f325b7f",
   "metadata": {},
   "outputs": [],
   "source": [
    "# or you can rearrange them\n",
    "fig,ax = plt.subplots(2,2)\n",
    "\n",
    "ax[0,0].plot(x)\n",
    "ax[0,1].plot(y)\n",
    "ax[1,0].plot(z)\n",
    "ax[1,1].plot(n)\n",
    "plt.show()"
   ]
  },
  {
   "cell_type": "code",
   "execution_count": null,
   "id": "a1f0a673",
   "metadata": {},
   "outputs": [],
   "source": [
    "# changing the figure size\n",
    "fig,ax = plt.subplots(4,figsize=(6,8))\n",
    "\n",
    "ax[0].plot(x)\n",
    "ax[1].plot(y)\n",
    "ax[2].plot(z)\n",
    "ax[3].plot(n)\n",
    "plt.show()"
   ]
  },
  {
   "cell_type": "code",
   "execution_count": null,
   "id": "c783d2a1",
   "metadata": {},
   "outputs": [],
   "source": [
    "# Adding information to your plot\n",
    "plt.plot(x,y)\n",
    "plt.xlabel('x-axis label')\n",
    "plt.ylabel('y-axis label')\n",
    "plt.show()"
   ]
  },
  {
   "cell_type": "code",
   "execution_count": null,
   "id": "b5dd688f",
   "metadata": {},
   "outputs": [],
   "source": [
    "# In an explicit object-oriented syntax\n",
    "figure = plt.figure()\n",
    "ax = figure.add_axes([0,0,1,1])\n",
    "\n",
    "ax.plot(x,y)\n",
    "ax.set_xlabel('x-axis label')\n",
    "ax.set_ylabel('y-axis label')\n",
    "plt.show()"
   ]
  },
  {
   "cell_type": "code",
   "execution_count": null,
   "id": "2e6bce36-89c0-4818-99fd-8a6f9b4220f2",
   "metadata": {},
   "outputs": [],
   "source": [
    "# Putting it all together in an applied example\n",
    "fig = plt.figure()\n",
    "ax = fig.add_axes([0,0,0.7,0.7])\n",
    "ax.plot('Scoville_scale','Chili_pepper_scale','ro',data = peppers)\n",
    "ax.set_xlabel('Schoville scale')\n",
    "ax.set_ylabel('Chili pepper scale')\n",
    "plt.show()"
   ]
  },
  {
   "cell_type": "code",
   "execution_count": null,
   "id": "d241b5e7-c6f2-4f8c-b134-6597cc2bc4e1",
   "metadata": {},
   "outputs": [],
   "source": [
    "# Make a title\n",
    "ax.set_title('Spicy scales')\n",
    "fig"
   ]
  },
  {
   "cell_type": "code",
   "execution_count": null,
   "id": "8211e06c-ffe5-42cb-b0fc-54fb56eda6d7",
   "metadata": {},
   "outputs": [],
   "source": [
    "ax.annotate('mild',xytext=(10**5,0.15),xy = (0,0), arrowprops = dict(arrowstyle='->'))\n",
    "ax.annotate('spicy',xytext=(1800000,4.5),\n",
    "            xy = (peppers.Scoville_scale.iloc[-1],peppers.Chili_pepper_scale.iloc[-1]), \n",
    "            arrowprops = dict(arrowstyle='->'))\n",
    "fig"
   ]
  },
  {
   "cell_type": "code",
   "execution_count": null,
   "id": "0b7276eb-06bd-4727-8639-ec248492b99d",
   "metadata": {},
   "outputs": [],
   "source": []
  }
 ],
 "metadata": {
  "kernelspec": {
   "display_name": "Python 3 (ipykernel)",
   "language": "python",
   "name": "python3"
  },
  "language_info": {
   "codemirror_mode": {
    "name": "ipython",
    "version": 3
   },
   "file_extension": ".py",
   "mimetype": "text/x-python",
   "name": "python",
   "nbconvert_exporter": "python",
   "pygments_lexer": "ipython3",
   "version": "3.11.4"
  }
 },
 "nbformat": 4,
 "nbformat_minor": 5
}
