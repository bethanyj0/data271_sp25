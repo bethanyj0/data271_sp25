{
 "cells": [
  {
   "cell_type": "markdown",
   "id": "bd035d4a",
   "metadata": {},
   "source": [
    "# Plotting with Matplotlib "
   ]
  },
  {
   "cell_type": "code",
   "execution_count": null,
   "id": "26e99e3b",
   "metadata": {},
   "outputs": [],
   "source": [
    "import numpy as np\n",
    "import pandas as pd"
   ]
  },
  {
   "cell_type": "markdown",
   "id": "118e5c0b-3686-4557-bb53-2246e89aebff",
   "metadata": {},
   "source": [
    "## Matplotlib basics"
   ]
  },
  {
   "cell_type": "code",
   "execution_count": null,
   "id": "1254d27c-208e-4734-bcbd-0b4905c9410a",
   "metadata": {},
   "outputs": [],
   "source": [
    "# Whenever we want to use matplotlib\n"
   ]
  },
  {
   "cell_type": "code",
   "execution_count": null,
   "id": "c0c50163-5ebf-4d3b-87f4-fadb28f93d58",
   "metadata": {},
   "outputs": [],
   "source": [
    "# If you have data living in lists\n",
    "x = [1,2,3,4,5]\n",
    "y = [1,4,7,3,5]\n",
    "\n"
   ]
  },
  {
   "cell_type": "code",
   "execution_count": null,
   "id": "a80980b8-4a76-4484-98b8-3ecbb26afba5",
   "metadata": {},
   "outputs": [],
   "source": [
    "# Can also plot more than one line at a time\n",
    "x = [1,2,3,4,5]\n",
    "y = [1,4,7,3,5]\n",
    "z = [1,5,7,2,7]\n",
    "n = [7,3,2,5,2]\n",
    "\n"
   ]
  },
  {
   "cell_type": "code",
   "execution_count": null,
   "id": "eec1cddd-e91f-4279-85d5-67fda94d48ad",
   "metadata": {},
   "outputs": [],
   "source": [
    "# if we have two different x-axes, the categorical get's plotted\n",
    "x2 = ['a','b','c','d','e']\n",
    "y2 = [1,6,2,5,1]\n",
    "\n"
   ]
  },
  {
   "cell_type": "markdown",
   "id": "7921ecdb-f742-4efb-8247-352131608821",
   "metadata": {},
   "source": [
    "## Changing plot type"
   ]
  },
  {
   "cell_type": "code",
   "execution_count": null,
   "id": "60a90d82-f927-4660-893e-3e4cf8567d2e",
   "metadata": {},
   "outputs": [],
   "source": [
    "# 'r' indicates red and 'o' indixates circle shape\n"
   ]
  },
  {
   "cell_type": "code",
   "execution_count": null,
   "id": "1bc6adba-7a19-4c72-9adf-08408e42ab9d",
   "metadata": {},
   "outputs": [],
   "source": [
    "# Can have multiple types on same plot\n",
    "\n",
    "plt.show()"
   ]
  },
  {
   "cell_type": "markdown",
   "id": "05295244-b5d8-409a-9dde-ffd2f1fc6cd5",
   "metadata": {},
   "source": [
    "# Another way to create scatter plots"
   ]
  },
  {
   "cell_type": "code",
   "execution_count": null,
   "id": "debf8d6f-4651-49c2-bdee-9ed266ce4464",
   "metadata": {
    "tags": []
   },
   "outputs": [],
   "source": [
    "\n",
    "plt.show()"
   ]
  },
  {
   "cell_type": "code",
   "execution_count": null,
   "id": "f5dc77d0-676a-4882-a1ce-fe04eb32b70d",
   "metadata": {
    "tags": []
   },
   "outputs": [],
   "source": [
    "# This allows for more flexibility with markers\n",
    "\n",
    "plt.show()"
   ]
  },
  {
   "cell_type": "markdown",
   "id": "474f0fd5-4764-4c04-b8e0-51f0ddfcbdcc",
   "metadata": {},
   "source": [
    "## Data in a Pandas DataFrame"
   ]
  },
  {
   "cell_type": "code",
   "execution_count": null,
   "id": "e1c45b54-8d9f-464d-a6d4-b369475e596b",
   "metadata": {},
   "outputs": [],
   "source": [
    "# Make peppers dataframe\n",
    "peppers = pd.DataFrame({\n",
    "    'Scoville_scale':[0.0,5000.0,10000.0,60000.0,500000.0,2000000.0],\n",
    "    'Chili_pepper_scale':[0,1,2,3,4,5],\n",
    "    'Name': ['Bell pepper','Espelette pepper','Serrano pepper',\"Bird's eye chili\",'Chocolate habanero','Carolina Reaper'],\n",
    "    'Feeling':['Not even spicy','Uncomfortable','I regret this','4th stage of grief','Practically ate pepper spray','Actually ate pepper spray']\n",
    "    \n",
    "})\n",
    "peppers"
   ]
  },
  {
   "cell_type": "code",
   "execution_count": null,
   "id": "d968eb0e-a1f8-4fde-8a15-d059187bd6f9",
   "metadata": {
    "tags": []
   },
   "outputs": [],
   "source": [
    "# Recall pandas plotting\n"
   ]
  },
  {
   "cell_type": "code",
   "execution_count": null,
   "id": "e4ef2f70-aec1-44ff-b875-bfae1b5b443a",
   "metadata": {},
   "outputs": [],
   "source": [
    "# Syntax for plotting with matplotlib\n",
    "\n",
    "plt.show()"
   ]
  },
  {
   "cell_type": "code",
   "execution_count": null,
   "id": "6f4faa84-54b6-40f6-bd5f-e916298d60c5",
   "metadata": {},
   "outputs": [],
   "source": [
    "# another way plt.scatter(x_label,y_label,data = Pandas DataFrame)\n",
    "\n",
    "plt.show()"
   ]
  },
  {
   "cell_type": "markdown",
   "id": "30f7be85-514d-4817-a1df-22796577145c",
   "metadata": {
    "tags": []
   },
   "source": [
    "## Plotting distributions"
   ]
  },
  {
   "cell_type": "code",
   "execution_count": null,
   "id": "065580ef-607b-460e-a903-ea93f48bc42b",
   "metadata": {},
   "outputs": [],
   "source": [
    "# Import Affordability Data\n",
    "df = pd.read_csv('https://raw.githubusercontent.com/bethanyj0/data271_sp24/main/midterms/property_price.csv')\n",
    "df['state'] = [i[-2:] for i in df.City]\n",
    "df.head()"
   ]
  },
  {
   "cell_type": "code",
   "execution_count": null,
   "id": "1b15478f-cb39-4ca9-91fc-686d0e7f8914",
   "metadata": {},
   "outputs": [],
   "source": [
    "# Get frequency of each state and make a bar plot\n",
    "state_nums =\n",
    "\n"
   ]
  },
  {
   "cell_type": "code",
   "execution_count": null,
   "id": "588bcc1f-733d-4574-8d01-835450a3850d",
   "metadata": {},
   "outputs": [],
   "source": [
    "# Can also make horizontal bar plots\n",
    "\n",
    "plt.show()"
   ]
  },
  {
   "cell_type": "code",
   "execution_count": null,
   "id": "670a0933-ab2a-456b-958c-49c3539c028b",
   "metadata": {},
   "outputs": [],
   "source": [
    "# Numeric distributions\n",
    "\n",
    "plt.show()"
   ]
  },
  {
   "cell_type": "markdown",
   "id": "269cbc79-3fb5-488a-86d8-e0f9643f3b45",
   "metadata": {},
   "source": [
    "## Why we might need plotting flexibility\n",
    "Some of the examples above show why we might want to adjust our plots. Here is another example"
   ]
  },
  {
   "cell_type": "code",
   "execution_count": null,
   "id": "f7c278e9-5dd5-4f5e-84a4-eef31e673588",
   "metadata": {},
   "outputs": [],
   "source": [
    "y2 = [1,6,250,5,1]\n",
    "\n",
    "plt.plot(x,y)\n",
    "plt.plot(x2,y2)\n",
    "plt.show()"
   ]
  },
  {
   "cell_type": "markdown",
   "id": "c61d2c0f-46f0-4e81-b36b-dfe0c6d56b4e",
   "metadata": {},
   "source": [
    "## Object-Oriented Plotting"
   ]
  },
  {
   "cell_type": "code",
   "execution_count": null,
   "id": "cf3dc0f5-ab93-4c65-8f92-beede825d93b",
   "metadata": {},
   "outputs": [],
   "source": [
    "# another way to generate a figure\n",
    "figure = \n",
    "# axes [left start, bottom start, width, height]\n",
    "ax = \n",
    "\n",
    "\n",
    "plt.show()"
   ]
  },
  {
   "cell_type": "code",
   "execution_count": null,
   "id": "97940347-88e7-423a-af10-d5dd441df5a5",
   "metadata": {},
   "outputs": [],
   "source": [
    "# display the figure again\n",
    "figure"
   ]
  },
  {
   "cell_type": "markdown",
   "id": "7bb180de-43ec-406e-8f33-7f2712bcdf18",
   "metadata": {},
   "source": [
    "## Customizing your Matplotlib Figure"
   ]
  },
  {
   "cell_type": "code",
   "execution_count": null,
   "id": "b455e71e-db2e-4d72-b625-956e72a62eb4",
   "metadata": {},
   "outputs": [],
   "source": [
    "## adding subplots\n",
    "# add_subplot(num rows, num cols, index of subplot we're adding)\n",
    "\n",
    "figure = plt.figure()\n",
    "ax = \n",
    "\n",
    "ax.plot(x,y)\n",
    "plt.show()"
   ]
  },
  {
   "cell_type": "code",
   "execution_count": null,
   "id": "191f5f41-b09b-4ff4-b5df-c3bce0ced696",
   "metadata": {},
   "outputs": [],
   "source": [
    "# adding multiple subplots\n",
    "figure = plt.figure()\n",
    "ax = \n",
    "ax2 = \n",
    "\n",
    "\n",
    "plt.show()"
   ]
  },
  {
   "cell_type": "code",
   "execution_count": null,
   "id": "d02b0064-e624-480c-b4b0-f5de94e34a9e",
   "metadata": {},
   "outputs": [],
   "source": [
    "# if you need to add many subplots stacked on top of eachother\n",
    "fig,ax = \n",
    "n = [7,3,2,5,2]\n",
    "\n",
    "\n",
    "\n",
    "\n",
    "\n",
    "plt.show()"
   ]
  },
  {
   "cell_type": "code",
   "execution_count": null,
   "id": "1b8d977e-cd2b-4791-b2d0-605a3621a28f",
   "metadata": {},
   "outputs": [],
   "source": [
    "# or you can rearrange them\n",
    "fig,ax = \n",
    "\n",
    "\n",
    "plt.show()"
   ]
  },
  {
   "cell_type": "code",
   "execution_count": null,
   "id": "0d1cd31f-d374-437b-93cf-1085c20c5dcf",
   "metadata": {},
   "outputs": [],
   "source": [
    "# changing the figure size\n",
    "fig,ax = plt.subplots(4,...)\n",
    "\n",
    "ax[0].plot(x)\n",
    "ax[1].plot(y)\n",
    "ax[2].plot(z)\n",
    "ax[3].plot(n)\n",
    "plt.show()"
   ]
  },
  {
   "cell_type": "code",
   "execution_count": null,
   "id": "96f5f32f-b296-43f9-9c7a-deca9a1be76a",
   "metadata": {},
   "outputs": [],
   "source": [
    "# Adding information to your plot\n",
    "plt.plot(x,y)\n",
    "\n",
    "plt.show()"
   ]
  },
  {
   "cell_type": "code",
   "execution_count": null,
   "id": "3f8f6882-e47b-4089-b896-da9a727eb14f",
   "metadata": {},
   "outputs": [],
   "source": [
    "# In an explicit object-oriented syntax\n",
    "figure = plt.figure()\n",
    "ax = figure.add_axes([0,0,1,1])\n",
    "\n",
    "\n",
    "plt.show()"
   ]
  },
  {
   "cell_type": "code",
   "execution_count": null,
   "id": "0426c22f-f533-429f-92b9-32d560bace3c",
   "metadata": {},
   "outputs": [],
   "source": [
    "# Putting it all together in an applied example\n",
    "fig = plt.figure()\n",
    "ax = fig.add_axes([0,0,0.7,0.7])\n",
    "ax.plot('Scoville_scale','Chili_pepper_scale','ro',data = peppers)\n",
    "ax.set_xlabel('Schoville scale')\n",
    "ax.set_ylabel('Chili pepper scale')\n",
    "plt.show()"
   ]
  },
  {
   "cell_type": "code",
   "execution_count": null,
   "id": "c2abfb3c-803f-45c9-a007-c877be28c40e",
   "metadata": {},
   "outputs": [],
   "source": [
    "# Make a title\n",
    "ax.set_title('Spicy scales')\n",
    "fig"
   ]
  },
  {
   "cell_type": "code",
   "execution_count": null,
   "id": "e3be6d79-7593-455b-9aa4-3670254df74f",
   "metadata": {},
   "outputs": [],
   "source": [
    "ax.annotate('mild',xytext=(10**5,0.15),xy = (0,0), arrowprops = dict(arrowstyle='->'))\n",
    "ax.annotate('spicy',xytext=(1800000,4.5),\n",
    "            xy = (peppers.Scoville_scale.iloc[-1],peppers.Chili_pepper_scale.iloc[-1]), \n",
    "            arrowprops = dict(arrowstyle='->'))\n",
    "fig"
   ]
  }
 ],
 "metadata": {
  "kernelspec": {
   "display_name": "Python 3 (ipykernel)",
   "language": "python",
   "name": "python3"
  },
  "language_info": {
   "codemirror_mode": {
    "name": "ipython",
    "version": 3
   },
   "file_extension": ".py",
   "mimetype": "text/x-python",
   "name": "python",
   "nbconvert_exporter": "python",
   "pygments_lexer": "ipython3",
   "version": "3.11.4"
  }
 },
 "nbformat": 4,
 "nbformat_minor": 5
}
