{
 "cells": [
  {
   "cell_type": "markdown",
   "id": "bd035d4a",
   "metadata": {},
   "source": [
    "# Grammar of Graphics with plotnine\n",
    "If you want to type along with me, use [this notebook](https://humboldt.cloudbank.2i2c.cloud/hub/user-redirect/git-pull?repo=https%3A%2F%2Fgithub.com%2Fbethanyj0%2Fdata271_sp25&branch=main&urlpath=tree%2Fdata271_sp25%2Flectures%2Fdata271_lec18_live.ipynb) instead. \n",
    "If you don't want to type and want to follow along just by executing the cells, stay in this notebook. "
   ]
  },
  {
   "cell_type": "code",
   "execution_count": null,
   "id": "26e99e3b",
   "metadata": {},
   "outputs": [],
   "source": [
    "import numpy as np\n",
    "import pandas as pd\n",
    "import matplotlib.pyplot as plt\n",
    "from plotnine import *\n",
    "from plotnine.data import *\n",
    "import warnings \n",
    "warnings.filterwarnings('ignore') "
   ]
  },
  {
   "cell_type": "markdown",
   "id": "aa868a1b",
   "metadata": {},
   "source": [
    "**NOTE** If you get errors when you run the cell above, go to the terminal and type the following\n",
    "```python\n",
    "pip install plotnine\n",
    "pip install matplotlib==3.8.3\n",
    "```\n",
    "\n",
    "Then come back to this notebook and try again. (You might have to restart your kernel). "
   ]
  },
  {
   "cell_type": "code",
   "execution_count": null,
   "id": "59d97531",
   "metadata": {},
   "outputs": [],
   "source": [
    "df = midwest\n",
    "df"
   ]
  },
  {
   "cell_type": "markdown",
   "id": "4474f5ee",
   "metadata": {},
   "source": [
    "## Basics"
   ]
  },
  {
   "cell_type": "code",
   "execution_count": null,
   "id": "521dae3b",
   "metadata": {},
   "outputs": [],
   "source": [
    "# Visualize the relationship between the percent who went to college, and the percent who got a professional degree\n",
    "# With matplotlib\n",
    "plt.scatter('percollege','percprof',data = df)\n",
    "plt.xlabel('percollege')\n",
    "plt.ylabel('percprof')\n",
    "plt.show()"
   ]
  },
  {
   "cell_type": "markdown",
   "id": "0d1d6a0d",
   "metadata": {},
   "source": [
    "The rest of the plotnine documentation is [here](https://plotnine.org/reference/) (including examples). "
   ]
  },
  {
   "cell_type": "code",
   "execution_count": null,
   "id": "cd63b784",
   "metadata": {
    "scrolled": true
   },
   "outputs": [],
   "source": [
    "# Do the same with a plotnine ggplot\n",
    "(ggplot(df, aes(x='percollege',y='percprof'))\n",
    "+geom_point())"
   ]
  },
  {
   "cell_type": "code",
   "execution_count": null,
   "id": "3a449a0f",
   "metadata": {},
   "outputs": [],
   "source": [
    "# to make the output pretty, use .draw() (kind of like .show() in matplotlib)\n",
    "(ggplot(df, aes(x='percollege',y='percprof'))\n",
    "+geom_point()).draw()"
   ]
  },
  {
   "cell_type": "markdown",
   "id": "579ef93e",
   "metadata": {},
   "source": [
    "## Adding additional variables with aesthetic mappings (aes)\n",
    "Does the relationship vary by state? Let's make each state a different color."
   ]
  },
  {
   "cell_type": "code",
   "execution_count": null,
   "id": "dd225d59",
   "metadata": {},
   "outputs": [],
   "source": [
    "# Do this with matplotlib\n",
    "df.state.unique()"
   ]
  },
  {
   "cell_type": "code",
   "execution_count": null,
   "id": "8ec72790",
   "metadata": {},
   "outputs": [],
   "source": [
    "# Separate our data\n",
    "IL = df[df.state == 'IL']\n",
    "IN = df[df.state == 'IN']\n",
    "MI = df[df.state == 'MI']\n",
    "OH = df[df.state == 'OH']\n",
    "WI = df[df.state == 'WI']"
   ]
  },
  {
   "cell_type": "code",
   "execution_count": null,
   "id": "16e0b838",
   "metadata": {},
   "outputs": [],
   "source": [
    "# Create our scatter plots\n",
    "plt.scatter('percollege','percprof',data = IL,label='IL')\n",
    "plt.scatter('percollege','percprof',data = IN,label='IN')\n",
    "plt.scatter('percollege','percprof',data = MI,label='MI')\n",
    "plt.scatter('percollege','percprof',data = OH,label='OH')\n",
    "plt.scatter('percollege','percprof',data = WI,label='WI')\n",
    "plt.xlabel('percollege')\n",
    "plt.ylabel('percprof')\n",
    "plt.legend()\n",
    "plt.show()"
   ]
  },
  {
   "cell_type": "code",
   "execution_count": null,
   "id": "1ef0e117",
   "metadata": {},
   "outputs": [],
   "source": [
    "# do the same thing with a plotnine ggplot\n",
    "(ggplot(df, aes('percollege','percprof',color = 'state'))\n",
    "+geom_point()).draw()"
   ]
  },
  {
   "cell_type": "markdown",
   "id": "1ece841b",
   "metadata": {},
   "source": [
    "## Scales\n",
    "Maybe we don't like that default color scale, we can reset the scales in a number of ways. One way is to choose one of the [discrete color scales from matplotlib](https://matplotlib.org/stable/users/explain/colors/colormaps.html#qualitative)."
   ]
  },
  {
   "cell_type": "code",
   "execution_count": null,
   "id": "4a85e37a",
   "metadata": {},
   "outputs": [],
   "source": [
    "# Change color scale with matplotlib\n",
    "(ggplot(df, aes('percollege','percprof',color = 'state'))\n",
    "+geom_point()\n",
    "+scale_color_cmap_d('Set1')).draw() "
   ]
  },
  {
   "cell_type": "code",
   "execution_count": null,
   "id": "3d462202-6846-4313-996d-1068f70db037",
   "metadata": {
    "tags": []
   },
   "outputs": [],
   "source": [
    "# Or you can change the color scale manually\n",
    "(ggplot(df, aes('percollege','percprof',color = 'state'))\n",
    "+geom_point()\n",
    "+scale_color_manual(['r','b','g','m','c'])).draw()"
   ]
  },
  {
   "cell_type": "code",
   "execution_count": null,
   "id": "8ab8293b",
   "metadata": {},
   "outputs": [],
   "source": [
    "# Other scales can be changed too\n",
    "(ggplot(df, aes('percollege','percprof',color = 'state'))\n",
    "+geom_point()\n",
    "+scale_color_cmap_d('Set1')\n",
    "+scale_x_continuous(limits = (0,60))\n",
    "+scale_y_continuous(limits = (-10,30))\n",
    ").draw()"
   ]
  },
  {
   "cell_type": "markdown",
   "id": "603244c3",
   "metadata": {},
   "source": [
    "## Geometric objects (geom)\n",
    "What if we wanted to visualize the number of counties in each state?"
   ]
  },
  {
   "cell_type": "code",
   "execution_count": null,
   "id": "b7acecb3",
   "metadata": {},
   "outputs": [],
   "source": [
    "# with matplotlib \n",
    "counties_per_state = df.state.value_counts()\n",
    "plt.bar(counties_per_state.index, counties_per_state.values)\n",
    "plt.show()"
   ]
  },
  {
   "cell_type": "code",
   "execution_count": null,
   "id": "498746a0",
   "metadata": {},
   "outputs": [],
   "source": [
    "# with ggplot\n",
    "(ggplot(df, aes(x='state'))\n",
    "+geom_bar()).draw()"
   ]
  },
  {
   "cell_type": "code",
   "execution_count": null,
   "id": "0eab96be-09cc-4c06-bf92-350e7b800613",
   "metadata": {
    "tags": []
   },
   "outputs": [],
   "source": [
    "# Note that this uses a \"count\" statistical transformation by default\n",
    "(ggplot(df, aes(x='state'))\n",
    "+geom_bar()\n",
    "+stat_count()).draw()"
   ]
  },
  {
   "cell_type": "code",
   "execution_count": null,
   "id": "064e821d",
   "metadata": {},
   "outputs": [],
   "source": [
    "# To adjust the order of the bars, we adjust the x-axis scale\n",
    "(ggplot(df, aes(x='state'))\n",
    "+geom_bar()\n",
    "+scale_x_discrete(limits = list(df.state.value_counts().index))).draw()"
   ]
  },
  {
   "cell_type": "code",
   "execution_count": null,
   "id": "60d1500b-7a9a-47c5-af5c-4d3594b8cd37",
   "metadata": {
    "tags": []
   },
   "outputs": [],
   "source": [
    "# Histograms (use geom_bar with a statistical transformation of binning)\n",
    "(ggplot(midwest, aes(x='percollege')) \n",
    "+ geom_bar()\n",
    "+ stat_bin(bins=20)).draw()"
   ]
  },
  {
   "cell_type": "code",
   "execution_count": null,
   "id": "a35eb56b",
   "metadata": {},
   "outputs": [],
   "source": [
    "# Histograms (another way)\n",
    "(ggplot(df, aes(x='percollege'))\n",
    "+geom_histogram(bins=20)).draw()"
   ]
  },
  {
   "cell_type": "markdown",
   "id": "2a37eccf",
   "metadata": {},
   "source": [
    "## Facets\n",
    "In the plots above, points occasionally fell on top of eachother. Let's split up the visulizations for each state."
   ]
  },
  {
   "cell_type": "code",
   "execution_count": null,
   "id": "17cb2357",
   "metadata": {},
   "outputs": [],
   "source": [
    "# with matplotlib\n",
    "fig, ax = plt.subplots(1,5,figsize = (12,3))\n",
    "ax[0].scatter('percollege','percprof',data = IL)\n",
    "ax[0].set_title('IL')\n",
    "ax[1].scatter('percollege','percprof',data = IN)\n",
    "ax[1].set_title('IN')\n",
    "ax[2].scatter('percollege','percprof',data = MI)\n",
    "ax[2].set_title('MI')\n",
    "ax[3].scatter('percollege','percprof',data = OH)\n",
    "ax[3].set_title('OH')\n",
    "ax[4].scatter('percollege','percprof',data = WI)\n",
    "ax[4].set_title('WI')\n",
    "ax[0].set_xlabel('percollege')\n",
    "ax[0].set_ylabel('percprof')\n",
    "plt.show()"
   ]
  },
  {
   "cell_type": "code",
   "execution_count": null,
   "id": "ea358a2e",
   "metadata": {},
   "outputs": [],
   "source": [
    "# with a plotnine ggplot\n",
    "(ggplot(df,aes('percollege','percprof',color = 'state'))\n",
    "+geom_point()\n",
    "+facet_wrap('state')).draw()"
   ]
  },
  {
   "cell_type": "code",
   "execution_count": null,
   "id": "9e0014ef",
   "metadata": {},
   "outputs": [],
   "source": [
    "# adjusting the number of rows in your facetting\n",
    "(ggplot(df,aes('percollege','percprof',color = 'state'))\n",
    "+geom_point()\n",
    "+facet_wrap('state',nrow=1)).draw()"
   ]
  },
  {
   "cell_type": "code",
   "execution_count": null,
   "id": "c78668be",
   "metadata": {},
   "outputs": [],
   "source": [
    "# change figure size\n",
    "(ggplot(df,aes('percollege','percprof',color = 'state'))\n",
    "+geom_point()\n",
    "+facet_wrap('state',nrow=1)\n",
    "+theme(figure_size=(10,3))).draw()"
   ]
  },
  {
   "cell_type": "code",
   "execution_count": null,
   "id": "52ae9fab",
   "metadata": {
    "scrolled": true
   },
   "outputs": [],
   "source": [
    "# facet by more than one variable\n",
    "(ggplot(df,aes('percollege','percprof',color = 'state'))\n",
    "+geom_point()\n",
    "+facet_grid(('category','state'))\n",
    "+theme(figure_size=(8,16))).draw()"
   ]
  },
  {
   "cell_type": "markdown",
   "id": "52a05050",
   "metadata": {},
   "source": [
    "## Statistical transformations (stat)"
   ]
  },
  {
   "cell_type": "code",
   "execution_count": null,
   "id": "9c131acb",
   "metadata": {},
   "outputs": [],
   "source": [
    "# add statistical transformations\n",
    "(ggplot(df,aes('percollege','percprof',color = 'state'))\n",
    "+geom_point()\n",
    "+facet_wrap('state')\n",
    "+stat_smooth()).draw()"
   ]
  },
  {
   "cell_type": "code",
   "execution_count": null,
   "id": "39813562-a17e-4c67-a373-986e2fc53aa5",
   "metadata": {
    "tags": []
   },
   "outputs": [],
   "source": [
    "# Using stats with bars\n",
    "(ggplot(df,aes('percollege'))\n",
    "+stat_bin(geom = 'bar',bins = 20)).draw()"
   ]
  },
  {
   "cell_type": "code",
   "execution_count": null,
   "id": "8f90e9d3-1abf-4796-b955-6df24b1c241d",
   "metadata": {
    "tags": []
   },
   "outputs": [],
   "source": [
    "# Using stats with bars\n",
    "(ggplot(df,aes(x='state',y='poptotal'))\n",
    "+stat_summary(geom=\"bar\", fun_data=\"mean_se\")).draw()"
   ]
  },
  {
   "cell_type": "code",
   "execution_count": null,
   "id": "351344e0-b87a-46a0-b765-4aa3164bac25",
   "metadata": {
    "tags": []
   },
   "outputs": [],
   "source": [
    "# check what the above plot is doing \n",
    "df.groupby('state')['poptotal'].mean()"
   ]
  },
  {
   "cell_type": "markdown",
   "id": "0cebba23",
   "metadata": {},
   "source": [
    "## Layer-specific mappings"
   ]
  },
  {
   "cell_type": "code",
   "execution_count": null,
   "id": "f45fe01b",
   "metadata": {
    "scrolled": true
   },
   "outputs": [],
   "source": [
    "# Use different aesthetics for different parts of graphic\n",
    "(ggplot(df,aes('percollege','percprof'))\n",
    "+geom_point(aes(color = 'state'))\n",
    "+facet_wrap('state')\n",
    "+stat_smooth()).draw()"
   ]
  },
  {
   "cell_type": "markdown",
   "id": "8aa697a7",
   "metadata": {},
   "source": [
    "## Themes\n",
    "There are several things we can adjust about the figure that don't fall into the specific grammar of graphics components. These often fall into the `theme` category. For example, the graph below shows how we can adjust the angle of the x-tick labels and the size of the axis labels. See the documentation for other options."
   ]
  },
  {
   "cell_type": "code",
   "execution_count": null,
   "id": "ebb30e6b",
   "metadata": {},
   "outputs": [],
   "source": [
    "(ggplot(df, aes(x='percollege'))\n",
    "+geom_histogram()\n",
    "+ ggtitle('Distribution of College Graduates')\n",
    "+theme(axis_text_x  = element_text(angle = 45, hjust = 1),\n",
    "      axis_title_x = element_text(size = 18),\n",
    "      axis_title_y = element_text(size = 18),\n",
    "      plot_title = element_text(size = 20))).draw()"
   ]
  },
  {
   "cell_type": "markdown",
   "id": "4702c53f",
   "metadata": {},
   "source": [
    "## Activity\n",
    "\n",
    "The `plotnine` module has several has a dataset called `diamonds`. \n",
    "\n",
    "A dataset containing the prices and other attributes of almost 54,000 diamonds."
   ]
  },
  {
   "cell_type": "markdown",
   "id": "30434fc8",
   "metadata": {},
   "source": [
    "1. Create a grid of histograms showing the distribution of prices facetted by `cut` and `clarity`. Adjust the number of bins as needed."
   ]
  },
  {
   "cell_type": "code",
   "execution_count": null,
   "id": "07b1dd4f",
   "metadata": {},
   "outputs": [],
   "source": []
  },
  {
   "cell_type": "markdown",
   "id": "d0c1b119",
   "metadata": {},
   "source": [
    "2. Plot the number of carats vs the price. Think about how you might gain additional insights with additional aesthetic mappings, facetting, statistical transformations, etc. "
   ]
  },
  {
   "cell_type": "code",
   "execution_count": null,
   "id": "0d580bf8",
   "metadata": {},
   "outputs": [],
   "source": []
  }
 ],
 "metadata": {
  "kernelspec": {
   "display_name": "Python 3 (ipykernel)",
   "language": "python",
   "name": "python3"
  },
  "language_info": {
   "codemirror_mode": {
    "name": "ipython",
    "version": 3
   },
   "file_extension": ".py",
   "mimetype": "text/x-python",
   "name": "python",
   "nbconvert_exporter": "python",
   "pygments_lexer": "ipython3",
   "version": "3.11.4"
  }
 },
 "nbformat": 4,
 "nbformat_minor": 5
}
