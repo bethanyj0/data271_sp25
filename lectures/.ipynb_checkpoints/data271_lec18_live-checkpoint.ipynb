{
 "cells": [
  {
   "cell_type": "markdown",
   "id": "bd035d4a",
   "metadata": {},
   "source": [
    "# Grammar of Graphics with plotnine"
   ]
  },
  {
   "cell_type": "code",
   "execution_count": null,
   "id": "e9458c34-f66b-4b57-859f-60e5f857c63f",
   "metadata": {},
   "outputs": [],
   "source": [
    "import numpy as np\n",
    "import pandas as pd\n",
    "import matplotlib.pyplot as plt\n",
    "from plotnine import *\n",
    "from plotnine.data import *\n",
    "import warnings \n",
    "warnings.filterwarnings('ignore') "
   ]
  },
  {
   "cell_type": "markdown",
   "id": "f4b55cf5-91a4-4c2c-9585-3d3c20f82b70",
   "metadata": {},
   "source": [
    "**NOTE** If you get errors when you run the cell above, go to the terminal and type the following\n",
    "```python\n",
    "pip install plotnine\n",
    "pip install matplotlib==3.8.3\n",
    "```\n",
    "\n",
    "Then come back to this notebook and try again. (You might have to restart your kernel). "
   ]
  },
  {
   "cell_type": "code",
   "execution_count": null,
   "id": "4471c530-6fcb-4d8b-a91b-5491ee1684e7",
   "metadata": {},
   "outputs": [],
   "source": [
    "df = midwest\n",
    "df"
   ]
  },
  {
   "cell_type": "markdown",
   "id": "de62ecb3-a070-44b9-ab09-6c6c2b149452",
   "metadata": {},
   "source": [
    "## Basics"
   ]
  },
  {
   "cell_type": "code",
   "execution_count": null,
   "id": "f4b089aa-d2b6-4da4-a1a5-878c8cfad150",
   "metadata": {},
   "outputs": [],
   "source": [
    "# Visualize the relationship between the percent who went to college, and the percent who got a professional degree\n",
    "# With matplotlib\n",
    "plt.scatter('percollege','percprof',data = df)\n",
    "plt.xlabel('percollege')\n",
    "plt.ylabel('percprof')\n",
    "plt.show()"
   ]
  },
  {
   "cell_type": "code",
   "execution_count": null,
   "id": "14611bd3-4f60-4842-9892-43637ae353a3",
   "metadata": {
    "tags": []
   },
   "outputs": [],
   "source": [
    "# In plotnine\n",
    "ggplot?"
   ]
  },
  {
   "cell_type": "markdown",
   "id": "c87598f3-cd7a-4a2d-9baf-be606644a613",
   "metadata": {},
   "source": [
    "The rest of the plotnine documentation is [here](https://plotnine.org/reference/) (including examples). "
   ]
  },
  {
   "cell_type": "code",
   "execution_count": null,
   "id": "a63cd247-2922-4d7c-8409-1c9302509553",
   "metadata": {
    "scrolled": true
   },
   "outputs": [],
   "source": [
    "# Do the same with a plotnine ggplot\n"
   ]
  },
  {
   "cell_type": "code",
   "execution_count": null,
   "id": "b5d345cb-7296-443c-872e-95676239b13c",
   "metadata": {},
   "outputs": [],
   "source": [
    "# to make the output pretty, use .draw() (kind of like .show() in matplotlib)\n"
   ]
  },
  {
   "cell_type": "markdown",
   "id": "b1b9f359-f1e3-43be-9c85-9152b80ad51a",
   "metadata": {},
   "source": [
    "## Adding additional variables with aesthetic mappings (aes)\n",
    "Does the relationship vary by state? Let's make each state a different color."
   ]
  },
  {
   "cell_type": "code",
   "execution_count": null,
   "id": "c9d16280-713e-40ec-ab4e-30639fa40876",
   "metadata": {},
   "outputs": [],
   "source": [
    "# Do this with matplotlib\n",
    "df.state.unique()"
   ]
  },
  {
   "cell_type": "code",
   "execution_count": null,
   "id": "4468b466-ab21-45d0-8d54-f62a74c67924",
   "metadata": {},
   "outputs": [],
   "source": [
    "# Separate our data\n",
    "IL = df[df.state == 'IL']\n",
    "IN = df[df.state == 'IN']\n",
    "MI = df[df.state == 'MI']\n",
    "OH = df[df.state == 'OH']\n",
    "WI = df[df.state == 'WI']"
   ]
  },
  {
   "cell_type": "code",
   "execution_count": null,
   "id": "0c67c6ff-be27-4644-8b7e-fe4aeaf8c6c5",
   "metadata": {},
   "outputs": [],
   "source": [
    "# Create our scatter plots\n",
    "plt.scatter('percollege','percprof',data = IL,label='IL')\n",
    "plt.scatter('percollege','percprof',data = IN,label='IN')\n",
    "plt.scatter('percollege','percprof',data = MI,label='MI')\n",
    "plt.scatter('percollege','percprof',data = OH,label='OH')\n",
    "plt.scatter('percollege','percprof',data = WI,label='WI')\n",
    "plt.xlabel('percollege')\n",
    "plt.ylabel('percprof')\n",
    "plt.legend()\n",
    "plt.show()"
   ]
  },
  {
   "cell_type": "code",
   "execution_count": null,
   "id": "771af7d4-3582-464d-bdaf-2ed385da59ef",
   "metadata": {},
   "outputs": [],
   "source": [
    "# do the same thing with a plotnine ggplot\n",
    "(ggplot(df, aes('percollege','percprof',...))\n",
    "+geom_point()).draw() "
   ]
  },
  {
   "cell_type": "markdown",
   "id": "b771359f-c7cb-4d66-ba83-863fe5f59a02",
   "metadata": {},
   "source": [
    "## Scales\n",
    "Maybe we don't like that default color scale, we can reset the scales in a number of ways. One way is to choose one of the [discrete color scales from matplotlib](https://matplotlib.org/stable/users/explain/colors/colormaps.html#qualitative)."
   ]
  },
  {
   "cell_type": "code",
   "execution_count": null,
   "id": "c563238d-3a08-4710-a6df-b52e9c0dc6ee",
   "metadata": {},
   "outputs": [],
   "source": [
    "# Change color scale with matplotlib\n",
    "(ggplot(df, aes('percollege','percprof',color = 'state'))\n",
    "+geom_point()\n",
    "...).draw() "
   ]
  },
  {
   "cell_type": "code",
   "execution_count": null,
   "id": "cb392330-e0c3-4e52-a08f-844f112e4d08",
   "metadata": {
    "tags": []
   },
   "outputs": [],
   "source": [
    "# Or you can change the color scale manually\n",
    "(ggplot(df, aes('percollege','percprof',color = 'state'))\n",
    "+geom_point()\n",
    "+scale_color_manual(['r','b','g','m','c'])).draw()"
   ]
  },
  {
   "cell_type": "code",
   "execution_count": null,
   "id": "72da792a-1ede-410d-a2fb-f42182a56be3",
   "metadata": {},
   "outputs": [],
   "source": [
    "# Other scales can be changed too\n",
    "(ggplot(df, aes('percollege','percprof',color = 'state'))\n",
    "+geom_point()\n",
    "+scale_color_cmap_d('Set1')\n",
    "...\n",
    ").draw()"
   ]
  },
  {
   "cell_type": "markdown",
   "id": "f0ad6b6f-e660-469a-835a-0f2cf9bf5130",
   "metadata": {},
   "source": [
    "## Geometric objects (geom)\n",
    "What if we wanted to visualize the number of counties in each state?"
   ]
  },
  {
   "cell_type": "code",
   "execution_count": null,
   "id": "c8641cf8-bdd1-4b5f-b0f3-a0378662bbee",
   "metadata": {},
   "outputs": [],
   "source": [
    "# with matplotlib \n",
    "counties_per_state = df.state.value_counts()\n",
    "plt.bar(counties_per_state.index, counties_per_state.values)\n",
    "plt.show()"
   ]
  },
  {
   "cell_type": "code",
   "execution_count": null,
   "id": "be1024b1-b7e9-4453-bb94-40b1c4083821",
   "metadata": {},
   "outputs": [],
   "source": [
    "# with ggplot\n",
    "(ggplot(df, aes(x='state'))\n",
    "...).draw()"
   ]
  },
  {
   "cell_type": "code",
   "execution_count": null,
   "id": "d12b4dc8-3cd9-4934-8e99-4bccd2e80bee",
   "metadata": {
    "tags": []
   },
   "outputs": [],
   "source": [
    "# Note that this uses a \"count\" statistical transformation by default\n",
    "(ggplot(df, aes(x='state'))\n",
    "+geom_bar()\n",
    "...).draw()"
   ]
  },
  {
   "cell_type": "code",
   "execution_count": null,
   "id": "7407578b-ca81-4a02-bd8b-6ab1f6918f3a",
   "metadata": {},
   "outputs": [],
   "source": [
    "# To adjust the order of the bars, we adjust the x-axis scale\n",
    "(ggplot(df, aes(x='state'))\n",
    "+geom_bar()\n",
    "+scale_x_discrete(limits = list(df.state.value_counts().index))).draw()"
   ]
  },
  {
   "cell_type": "code",
   "execution_count": null,
   "id": "940fa738-9b36-4157-b3c7-a7351c90efd2",
   "metadata": {
    "tags": []
   },
   "outputs": [],
   "source": [
    "# Histograms (use geom_bar with a statistical transformation of binning)\n",
    "(ggplot(midwest, aes(x='percollege')) \n",
    "...).draw()"
   ]
  },
  {
   "cell_type": "code",
   "execution_count": null,
   "id": "e256e8a5-36a5-47c9-8260-4cdc8718e729",
   "metadata": {},
   "outputs": [],
   "source": [
    "# Histograms (another way)\n",
    "(ggplot(df, aes(x='percollege'))\n",
    "+geom_histogram(bins=20)).draw()"
   ]
  },
  {
   "cell_type": "markdown",
   "id": "11b9fc2f-636a-4f65-9dca-4f8f1903301a",
   "metadata": {},
   "source": [
    "## Facets\n",
    "In the plots above, points occasionally fell on top of eachother. Let's split up the visulizations for each state."
   ]
  },
  {
   "cell_type": "code",
   "execution_count": null,
   "id": "52a5fdf4-e486-4a3d-ba68-aa23ef669cd8",
   "metadata": {},
   "outputs": [],
   "source": [
    "# with matplotlib\n",
    "fig, ax = plt.subplots(1,5,figsize = (12,3))\n",
    "ax[0].scatter('percollege','percprof',data = IL)\n",
    "ax[0].set_title('IL')\n",
    "ax[1].scatter('percollege','percprof',data = IN)\n",
    "ax[1].set_title('IN')\n",
    "ax[2].scatter('percollege','percprof',data = MI)\n",
    "ax[2].set_title('MI')\n",
    "ax[3].scatter('percollege','percprof',data = OH)\n",
    "ax[3].set_title('OH')\n",
    "ax[4].scatter('percollege','percprof',data = WI)\n",
    "ax[4].set_title('WI')\n",
    "ax[0].set_xlabel('percollege')\n",
    "ax[0].set_ylabel('percprof')\n",
    "plt.show()"
   ]
  },
  {
   "cell_type": "code",
   "execution_count": null,
   "id": "9c78c749-2bdf-407d-b34b-1061b0e9e156",
   "metadata": {},
   "outputs": [],
   "source": [
    "# with a plotnine ggplot\n",
    "(ggplot(df,aes('percollege','percprof',color = 'state'))\n",
    "+geom_point()\n",
    "...).draw()"
   ]
  },
  {
   "cell_type": "code",
   "execution_count": null,
   "id": "827a214b-b94c-4e68-9faa-5ac5e5082988",
   "metadata": {},
   "outputs": [],
   "source": [
    "# adjusting the number of rows in your facetting\n",
    "(ggplot(df,aes('percollege','percprof',color = 'state'))\n",
    "+geom_point()\n",
    "...).draw()"
   ]
  },
  {
   "cell_type": "code",
   "execution_count": null,
   "id": "479420c8-06ca-4f7a-8c0c-599023bdf8d4",
   "metadata": {},
   "outputs": [],
   "source": [
    "# change figure size\n",
    "(ggplot(df,aes('percollege','percprof',color = 'state'))\n",
    "+geom_point()\n",
    "+facet_wrap('state',nrow=1)\n",
    "+theme(figure_size=(10,3))).draw()"
   ]
  },
  {
   "cell_type": "code",
   "execution_count": null,
   "id": "14136f55-cb4b-4abd-8b4b-13b8865b711d",
   "metadata": {
    "scrolled": true
   },
   "outputs": [],
   "source": [
    "# facet by more than one variable\n",
    "(ggplot(df,aes('percollege','percprof',color = 'state'))\n",
    "+geom_point()\n",
    "...\n",
    "+theme(figure_size=(8,16))).draw()"
   ]
  },
  {
   "cell_type": "markdown",
   "id": "3c13452f-65a4-4085-9b78-544db8346444",
   "metadata": {},
   "source": [
    "## Statistical transformations (stat)"
   ]
  },
  {
   "cell_type": "code",
   "execution_count": null,
   "id": "94ab729b-15a4-4e8f-a31f-b29afbd18964",
   "metadata": {},
   "outputs": [],
   "source": [
    "# add statistical transformations\n",
    "(ggplot(df,aes('percollege','percprof',color = 'state'))\n",
    "+geom_point()\n",
    "+facet_wrap('state')\n",
    "...).draw()"
   ]
  },
  {
   "cell_type": "code",
   "execution_count": null,
   "id": "bc289294-f733-432d-b81e-920dc5bf019f",
   "metadata": {
    "tags": []
   },
   "outputs": [],
   "source": [
    "# Using stats with bars\n",
    "(ggplot(df,aes('percollege'))\n",
    "+stat_bin(geom = 'bar',bins = 20)).draw()"
   ]
  },
  {
   "cell_type": "code",
   "execution_count": null,
   "id": "09397137-47a0-4ee2-b5b5-e62c21286e98",
   "metadata": {
    "tags": []
   },
   "outputs": [],
   "source": [
    "# Using stats with bars\n",
    "(ggplot(df,aes(x='state',y='poptotal'))\n",
    "+stat_summary(geom=\"bar\", fun_data=\"mean_se\")).draw()"
   ]
  },
  {
   "cell_type": "code",
   "execution_count": null,
   "id": "cc813ed7-e5ca-4cc2-8f36-e795d8dfe218",
   "metadata": {
    "tags": []
   },
   "outputs": [],
   "source": [
    "# check what the above plot is doing \n",
    "df.groupby('state')['poptotal'].mean()"
   ]
  },
  {
   "cell_type": "markdown",
   "id": "76308a25-e348-42d3-abc1-6aeeeec3baec",
   "metadata": {},
   "source": [
    "## Layer-specific mappings"
   ]
  },
  {
   "cell_type": "code",
   "execution_count": null,
   "id": "960b5003-0719-4ca2-b599-5cc9760dd5e0",
   "metadata": {
    "scrolled": true
   },
   "outputs": [],
   "source": [
    "# Use different aesthetics for different parts of graphic\n",
    "(ggplot(df,aes('percollege','percprof'))\n",
    "+geom_point(aes(color = 'state'))\n",
    "+facet_wrap('state')\n",
    "+stat_smooth()).draw()"
   ]
  },
  {
   "cell_type": "markdown",
   "id": "ac033355-cdc9-4eb3-a43c-6e1a11067ea0",
   "metadata": {},
   "source": [
    "## Themes\n",
    "There are several things we can adjust about the figure that don't fall into the specific grammar of graphics components. These often fall into the `theme` category. For example, the graph below shows how we can adjust the angle of the x-tick labels and the size of the axis labels. See the documentation for other options."
   ]
  },
  {
   "cell_type": "code",
   "execution_count": null,
   "id": "0a7c7da5-f2db-49e2-8d82-ea92992d266c",
   "metadata": {},
   "outputs": [],
   "source": [
    "(ggplot(df, aes(x='percollege'))\n",
    "+geom_histogram()\n",
    "+ ggtitle('Distribution of College Graduates')\n",
    "+theme(axis_text_x  = element_text(angle = 45, hjust = 1),\n",
    "      axis_title_x = element_text(size = 18),\n",
    "      axis_title_y = element_text(size = 18),\n",
    "      plot_title = element_text(size = 20))).draw()"
   ]
  },
  {
   "cell_type": "markdown",
   "id": "e108271e-39b7-4f40-961a-b39394dbf554",
   "metadata": {},
   "source": [
    "## Activity\n",
    "\n",
    "The `plotnine` module has several has a dataset called `diamonds`. \n",
    "\n",
    "A dataset containing the prices and other attributes of almost 54,000 diamonds."
   ]
  },
  {
   "cell_type": "markdown",
   "id": "729bdf81-6ab8-4ed0-951c-ac989b29218b",
   "metadata": {},
   "source": [
    "1. Create a grid of histograms showing the distribution of prices facetted by `cut` and `clarity`. Adjust the number of bins as needed."
   ]
  },
  {
   "cell_type": "code",
   "execution_count": null,
   "id": "113181eb-d530-4ca4-b0f3-756c6a7e0770",
   "metadata": {},
   "outputs": [],
   "source": []
  },
  {
   "cell_type": "markdown",
   "id": "fe69eed7-02c2-4618-a233-723f934c3fca",
   "metadata": {},
   "source": [
    "2. Plot the number of carats vs the price. Think about how you might gain additional insights with additional aesthetic mappings, facetting, statistical transformations, etc. "
   ]
  },
  {
   "cell_type": "code",
   "execution_count": null,
   "id": "630ca2d2-fc2f-4430-a37e-087744530115",
   "metadata": {},
   "outputs": [],
   "source": []
  }
 ],
 "metadata": {
  "kernelspec": {
   "display_name": "Python 3 (ipykernel)",
   "language": "python",
   "name": "python3"
  },
  "language_info": {
   "codemirror_mode": {
    "name": "ipython",
    "version": 3
   },
   "file_extension": ".py",
   "mimetype": "text/x-python",
   "name": "python",
   "nbconvert_exporter": "python",
   "pygments_lexer": "ipython3",
   "version": "3.11.4"
  }
 },
 "nbformat": 4,
 "nbformat_minor": 5
}
