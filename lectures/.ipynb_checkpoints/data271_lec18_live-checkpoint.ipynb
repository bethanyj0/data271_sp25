{
 "cells": [
  {
   "cell_type": "markdown",
   "id": "bd035d4a",
   "metadata": {},
   "source": [
    "# Grammar of Graphics with plotnine"
   ]
  },
  {
   "cell_type": "code",
   "execution_count": 2,
   "id": "e9458c34-f66b-4b57-859f-60e5f857c63f",
   "metadata": {},
   "outputs": [],
   "source": [
    "import numpy as np\n",
    "import pandas as pd\n",
    "import matplotlib.pyplot as plt\n",
    "from plotnine import *\n",
    "from plotnine.data import *\n",
    "import warnings \n",
    "warnings.filterwarnings('ignore') "
   ]
  },
  {
   "cell_type": "markdown",
   "id": "f4b55cf5-91a4-4c2c-9585-3d3c20f82b70",
   "metadata": {},
   "source": [
    "**NOTE** If you get errors when you run the cell above, go to the terminal and type the following\n",
    "```python\n",
    "pip install plotnine\n",
    "pip install matplotlib==3.8.3\n",
    "```\n",
    "\n",
    "Then come back to this notebook and try again. (You might have to restart your kernel). "
   ]
  },
  {
   "cell_type": "code",
   "execution_count": 3,
   "id": "4471c530-6fcb-4d8b-a91b-5491ee1684e7",
   "metadata": {},
   "outputs": [
    {
     "data": {
      "text/html": [
       "<div>\n",
       "<style scoped>\n",
       "    .dataframe tbody tr th:only-of-type {\n",
       "        vertical-align: middle;\n",
       "    }\n",
       "\n",
       "    .dataframe tbody tr th {\n",
       "        vertical-align: top;\n",
       "    }\n",
       "\n",
       "    .dataframe thead th {\n",
       "        text-align: right;\n",
       "    }\n",
       "</style>\n",
       "<table border=\"1\" class=\"dataframe\">\n",
       "  <thead>\n",
       "    <tr style=\"text-align: right;\">\n",
       "      <th></th>\n",
       "      <th>PID</th>\n",
       "      <th>county</th>\n",
       "      <th>state</th>\n",
       "      <th>area</th>\n",
       "      <th>poptotal</th>\n",
       "      <th>popdensity</th>\n",
       "      <th>popwhite</th>\n",
       "      <th>popblack</th>\n",
       "      <th>popamerindian</th>\n",
       "      <th>popasian</th>\n",
       "      <th>...</th>\n",
       "      <th>percollege</th>\n",
       "      <th>percprof</th>\n",
       "      <th>poppovertyknown</th>\n",
       "      <th>percpovertyknown</th>\n",
       "      <th>percbelowpoverty</th>\n",
       "      <th>percchildbelowpovert</th>\n",
       "      <th>percadultpoverty</th>\n",
       "      <th>percelderlypoverty</th>\n",
       "      <th>inmetro</th>\n",
       "      <th>category</th>\n",
       "    </tr>\n",
       "  </thead>\n",
       "  <tbody>\n",
       "    <tr>\n",
       "      <th>0</th>\n",
       "      <td>561</td>\n",
       "      <td>ADAMS</td>\n",
       "      <td>IL</td>\n",
       "      <td>0.052</td>\n",
       "      <td>66090</td>\n",
       "      <td>1270.961540</td>\n",
       "      <td>63917</td>\n",
       "      <td>1702</td>\n",
       "      <td>98</td>\n",
       "      <td>249</td>\n",
       "      <td>...</td>\n",
       "      <td>19.631392</td>\n",
       "      <td>4.355859</td>\n",
       "      <td>63628</td>\n",
       "      <td>96.274777</td>\n",
       "      <td>13.151443</td>\n",
       "      <td>18.011717</td>\n",
       "      <td>11.009776</td>\n",
       "      <td>12.443812</td>\n",
       "      <td>0</td>\n",
       "      <td>AAR</td>\n",
       "    </tr>\n",
       "    <tr>\n",
       "      <th>1</th>\n",
       "      <td>562</td>\n",
       "      <td>ALEXANDER</td>\n",
       "      <td>IL</td>\n",
       "      <td>0.014</td>\n",
       "      <td>10626</td>\n",
       "      <td>759.000000</td>\n",
       "      <td>7054</td>\n",
       "      <td>3496</td>\n",
       "      <td>19</td>\n",
       "      <td>48</td>\n",
       "      <td>...</td>\n",
       "      <td>11.243308</td>\n",
       "      <td>2.870315</td>\n",
       "      <td>10529</td>\n",
       "      <td>99.087145</td>\n",
       "      <td>32.244278</td>\n",
       "      <td>45.826514</td>\n",
       "      <td>27.385647</td>\n",
       "      <td>25.228976</td>\n",
       "      <td>0</td>\n",
       "      <td>LHR</td>\n",
       "    </tr>\n",
       "    <tr>\n",
       "      <th>2</th>\n",
       "      <td>563</td>\n",
       "      <td>BOND</td>\n",
       "      <td>IL</td>\n",
       "      <td>0.022</td>\n",
       "      <td>14991</td>\n",
       "      <td>681.409091</td>\n",
       "      <td>14477</td>\n",
       "      <td>429</td>\n",
       "      <td>35</td>\n",
       "      <td>16</td>\n",
       "      <td>...</td>\n",
       "      <td>17.033819</td>\n",
       "      <td>4.488572</td>\n",
       "      <td>14235</td>\n",
       "      <td>94.956974</td>\n",
       "      <td>12.068844</td>\n",
       "      <td>14.036061</td>\n",
       "      <td>10.852090</td>\n",
       "      <td>12.697410</td>\n",
       "      <td>0</td>\n",
       "      <td>AAR</td>\n",
       "    </tr>\n",
       "    <tr>\n",
       "      <th>3</th>\n",
       "      <td>564</td>\n",
       "      <td>BOONE</td>\n",
       "      <td>IL</td>\n",
       "      <td>0.017</td>\n",
       "      <td>30806</td>\n",
       "      <td>1812.117650</td>\n",
       "      <td>29344</td>\n",
       "      <td>127</td>\n",
       "      <td>46</td>\n",
       "      <td>150</td>\n",
       "      <td>...</td>\n",
       "      <td>17.278954</td>\n",
       "      <td>4.197800</td>\n",
       "      <td>30337</td>\n",
       "      <td>98.477569</td>\n",
       "      <td>7.209019</td>\n",
       "      <td>11.179536</td>\n",
       "      <td>5.536013</td>\n",
       "      <td>6.217047</td>\n",
       "      <td>1</td>\n",
       "      <td>ALU</td>\n",
       "    </tr>\n",
       "    <tr>\n",
       "      <th>4</th>\n",
       "      <td>565</td>\n",
       "      <td>BROWN</td>\n",
       "      <td>IL</td>\n",
       "      <td>0.018</td>\n",
       "      <td>5836</td>\n",
       "      <td>324.222222</td>\n",
       "      <td>5264</td>\n",
       "      <td>547</td>\n",
       "      <td>14</td>\n",
       "      <td>5</td>\n",
       "      <td>...</td>\n",
       "      <td>14.475999</td>\n",
       "      <td>3.367680</td>\n",
       "      <td>4815</td>\n",
       "      <td>82.505140</td>\n",
       "      <td>13.520249</td>\n",
       "      <td>13.022889</td>\n",
       "      <td>11.143211</td>\n",
       "      <td>19.200000</td>\n",
       "      <td>0</td>\n",
       "      <td>AAR</td>\n",
       "    </tr>\n",
       "    <tr>\n",
       "      <th>...</th>\n",
       "      <td>...</td>\n",
       "      <td>...</td>\n",
       "      <td>...</td>\n",
       "      <td>...</td>\n",
       "      <td>...</td>\n",
       "      <td>...</td>\n",
       "      <td>...</td>\n",
       "      <td>...</td>\n",
       "      <td>...</td>\n",
       "      <td>...</td>\n",
       "      <td>...</td>\n",
       "      <td>...</td>\n",
       "      <td>...</td>\n",
       "      <td>...</td>\n",
       "      <td>...</td>\n",
       "      <td>...</td>\n",
       "      <td>...</td>\n",
       "      <td>...</td>\n",
       "      <td>...</td>\n",
       "      <td>...</td>\n",
       "      <td>...</td>\n",
       "    </tr>\n",
       "    <tr>\n",
       "      <th>432</th>\n",
       "      <td>3048</td>\n",
       "      <td>WAUKESHA</td>\n",
       "      <td>WI</td>\n",
       "      <td>0.034</td>\n",
       "      <td>304715</td>\n",
       "      <td>8962.205880</td>\n",
       "      <td>298313</td>\n",
       "      <td>1096</td>\n",
       "      <td>672</td>\n",
       "      <td>2699</td>\n",
       "      <td>...</td>\n",
       "      <td>35.396784</td>\n",
       "      <td>7.667090</td>\n",
       "      <td>299802</td>\n",
       "      <td>98.387674</td>\n",
       "      <td>3.121060</td>\n",
       "      <td>3.785820</td>\n",
       "      <td>2.590061</td>\n",
       "      <td>4.085479</td>\n",
       "      <td>1</td>\n",
       "      <td>HLU</td>\n",
       "    </tr>\n",
       "    <tr>\n",
       "      <th>433</th>\n",
       "      <td>3049</td>\n",
       "      <td>WAUPACA</td>\n",
       "      <td>WI</td>\n",
       "      <td>0.045</td>\n",
       "      <td>46104</td>\n",
       "      <td>1024.533330</td>\n",
       "      <td>45695</td>\n",
       "      <td>22</td>\n",
       "      <td>125</td>\n",
       "      <td>92</td>\n",
       "      <td>...</td>\n",
       "      <td>16.549869</td>\n",
       "      <td>3.138596</td>\n",
       "      <td>44412</td>\n",
       "      <td>96.330036</td>\n",
       "      <td>8.488697</td>\n",
       "      <td>10.071411</td>\n",
       "      <td>6.953799</td>\n",
       "      <td>10.338641</td>\n",
       "      <td>0</td>\n",
       "      <td>AAR</td>\n",
       "    </tr>\n",
       "    <tr>\n",
       "      <th>434</th>\n",
       "      <td>3050</td>\n",
       "      <td>WAUSHARA</td>\n",
       "      <td>WI</td>\n",
       "      <td>0.037</td>\n",
       "      <td>19385</td>\n",
       "      <td>523.918919</td>\n",
       "      <td>19094</td>\n",
       "      <td>29</td>\n",
       "      <td>70</td>\n",
       "      <td>43</td>\n",
       "      <td>...</td>\n",
       "      <td>15.064584</td>\n",
       "      <td>2.620907</td>\n",
       "      <td>19163</td>\n",
       "      <td>98.854785</td>\n",
       "      <td>13.786985</td>\n",
       "      <td>20.050708</td>\n",
       "      <td>11.695784</td>\n",
       "      <td>11.804558</td>\n",
       "      <td>0</td>\n",
       "      <td>AAR</td>\n",
       "    </tr>\n",
       "    <tr>\n",
       "      <th>435</th>\n",
       "      <td>3051</td>\n",
       "      <td>WINNEBAGO</td>\n",
       "      <td>WI</td>\n",
       "      <td>0.035</td>\n",
       "      <td>140320</td>\n",
       "      <td>4009.142860</td>\n",
       "      <td>136822</td>\n",
       "      <td>697</td>\n",
       "      <td>685</td>\n",
       "      <td>1728</td>\n",
       "      <td>...</td>\n",
       "      <td>24.995504</td>\n",
       "      <td>5.659847</td>\n",
       "      <td>133950</td>\n",
       "      <td>95.460376</td>\n",
       "      <td>8.804031</td>\n",
       "      <td>10.592031</td>\n",
       "      <td>8.660587</td>\n",
       "      <td>6.661094</td>\n",
       "      <td>1</td>\n",
       "      <td>HAU</td>\n",
       "    </tr>\n",
       "    <tr>\n",
       "      <th>436</th>\n",
       "      <td>3052</td>\n",
       "      <td>WOOD</td>\n",
       "      <td>WI</td>\n",
       "      <td>0.048</td>\n",
       "      <td>73605</td>\n",
       "      <td>1533.437500</td>\n",
       "      <td>72157</td>\n",
       "      <td>90</td>\n",
       "      <td>481</td>\n",
       "      <td>722</td>\n",
       "      <td>...</td>\n",
       "      <td>21.666382</td>\n",
       "      <td>4.583725</td>\n",
       "      <td>72685</td>\n",
       "      <td>98.750085</td>\n",
       "      <td>8.525831</td>\n",
       "      <td>11.162997</td>\n",
       "      <td>7.375656</td>\n",
       "      <td>7.882918</td>\n",
       "      <td>0</td>\n",
       "      <td>AAR</td>\n",
       "    </tr>\n",
       "  </tbody>\n",
       "</table>\n",
       "<p>437 rows × 28 columns</p>\n",
       "</div>"
      ],
      "text/plain": [
       "      PID     county state   area  poptotal   popdensity  popwhite  popblack  \\\n",
       "0     561      ADAMS    IL  0.052     66090  1270.961540     63917      1702   \n",
       "1     562  ALEXANDER    IL  0.014     10626   759.000000      7054      3496   \n",
       "2     563       BOND    IL  0.022     14991   681.409091     14477       429   \n",
       "3     564      BOONE    IL  0.017     30806  1812.117650     29344       127   \n",
       "4     565      BROWN    IL  0.018      5836   324.222222      5264       547   \n",
       "..    ...        ...   ...    ...       ...          ...       ...       ...   \n",
       "432  3048   WAUKESHA    WI  0.034    304715  8962.205880    298313      1096   \n",
       "433  3049    WAUPACA    WI  0.045     46104  1024.533330     45695        22   \n",
       "434  3050   WAUSHARA    WI  0.037     19385   523.918919     19094        29   \n",
       "435  3051  WINNEBAGO    WI  0.035    140320  4009.142860    136822       697   \n",
       "436  3052       WOOD    WI  0.048     73605  1533.437500     72157        90   \n",
       "\n",
       "     popamerindian  popasian  ...  percollege  percprof  poppovertyknown  \\\n",
       "0               98       249  ...   19.631392  4.355859            63628   \n",
       "1               19        48  ...   11.243308  2.870315            10529   \n",
       "2               35        16  ...   17.033819  4.488572            14235   \n",
       "3               46       150  ...   17.278954  4.197800            30337   \n",
       "4               14         5  ...   14.475999  3.367680             4815   \n",
       "..             ...       ...  ...         ...       ...              ...   \n",
       "432            672      2699  ...   35.396784  7.667090           299802   \n",
       "433            125        92  ...   16.549869  3.138596            44412   \n",
       "434             70        43  ...   15.064584  2.620907            19163   \n",
       "435            685      1728  ...   24.995504  5.659847           133950   \n",
       "436            481       722  ...   21.666382  4.583725            72685   \n",
       "\n",
       "     percpovertyknown  percbelowpoverty  percchildbelowpovert  \\\n",
       "0           96.274777         13.151443             18.011717   \n",
       "1           99.087145         32.244278             45.826514   \n",
       "2           94.956974         12.068844             14.036061   \n",
       "3           98.477569          7.209019             11.179536   \n",
       "4           82.505140         13.520249             13.022889   \n",
       "..                ...               ...                   ...   \n",
       "432         98.387674          3.121060              3.785820   \n",
       "433         96.330036          8.488697             10.071411   \n",
       "434         98.854785         13.786985             20.050708   \n",
       "435         95.460376          8.804031             10.592031   \n",
       "436         98.750085          8.525831             11.162997   \n",
       "\n",
       "     percadultpoverty  percelderlypoverty  inmetro  category  \n",
       "0           11.009776           12.443812        0       AAR  \n",
       "1           27.385647           25.228976        0       LHR  \n",
       "2           10.852090           12.697410        0       AAR  \n",
       "3            5.536013            6.217047        1       ALU  \n",
       "4           11.143211           19.200000        0       AAR  \n",
       "..                ...                 ...      ...       ...  \n",
       "432          2.590061            4.085479        1       HLU  \n",
       "433          6.953799           10.338641        0       AAR  \n",
       "434         11.695784           11.804558        0       AAR  \n",
       "435          8.660587            6.661094        1       HAU  \n",
       "436          7.375656            7.882918        0       AAR  \n",
       "\n",
       "[437 rows x 28 columns]"
      ]
     },
     "execution_count": 3,
     "metadata": {},
     "output_type": "execute_result"
    }
   ],
   "source": [
    "df = midwest\n",
    "df"
   ]
  },
  {
   "cell_type": "markdown",
   "id": "de62ecb3-a070-44b9-ab09-6c6c2b149452",
   "metadata": {},
   "source": [
    "## Basics"
   ]
  },
  {
   "cell_type": "code",
   "execution_count": 4,
   "id": "f4b089aa-d2b6-4da4-a1a5-878c8cfad150",
   "metadata": {},
   "outputs": [
    {
     "data": {
      "image/png": "[encoded data removed]",
      "text/plain": [
       "<Figure size 640x480 with 1 Axes>"
      ]
     },
     "metadata": {},
     "output_type": "display_data"
    }
   ],
   "source": [
    "# Visualize the relationship between the percent who went to college, and the percent who got a professional degree\n",
    "# With matplotlib\n",
    "plt.scatter('percollege','percprof',data = df)\n",
    "plt.xlabel('percollege')\n",
    "plt.ylabel('percprof')\n",
    "plt.show()"
   ]
  },
  {
   "cell_type": "code",
   "execution_count": 5,
   "id": "14611bd3-4f60-4842-9892-43637ae353a3",
   "metadata": {
    "collapsed": true,
    "jupyter": {
     "outputs_hidden": true
    },
    "tags": []
   },
   "outputs": [
    {
     "data": {
      "text/plain": [
       "\u001b[0;31mInit signature:\u001b[0m\n",
       "\u001b[0mggplot\u001b[0m\u001b[0;34m(\u001b[0m\u001b[0;34m\u001b[0m\n",
       "\u001b[0;34m\u001b[0m    \u001b[0mdata\u001b[0m\u001b[0;34m:\u001b[0m \u001b[0;34m'DataLike | None'\u001b[0m \u001b[0;34m=\u001b[0m \u001b[0;32mNone\u001b[0m\u001b[0;34m,\u001b[0m\u001b[0;34m\u001b[0m\n",
       "\u001b[0;34m\u001b[0m    \u001b[0mmapping\u001b[0m\u001b[0;34m:\u001b[0m \u001b[0;34m'aes | None'\u001b[0m \u001b[0;34m=\u001b[0m \u001b[0;32mNone\u001b[0m\u001b[0;34m,\u001b[0m\u001b[0;34m\u001b[0m\n",
       "\u001b[0;34m\u001b[0m    \u001b[0menvironment\u001b[0m\u001b[0;34m:\u001b[0m \u001b[0;34m'EvalEnvironment | None'\u001b[0m \u001b[0;34m=\u001b[0m \u001b[0;32mNone\u001b[0m\u001b[0;34m,\u001b[0m\u001b[0;34m\u001b[0m\n",
       "\u001b[0;34m\u001b[0m\u001b[0;34m)\u001b[0m\u001b[0;34m\u001b[0m\u001b[0;34m\u001b[0m\u001b[0m\n",
       "\u001b[0;31mDocstring:\u001b[0m     \n",
       "Create a new ggplot object\n",
       "\n",
       "Parameters\n",
       "----------\n",
       "data : dataframe\n",
       "    Default data for plot. Every layer that does not\n",
       "    have data of its own will use this one.\n",
       "mapping : aes\n",
       "    Default aesthetics mapping for the plot. These will be used\n",
       "    by all layers unless specifically overridden.\n",
       "environment : ~patsy.Eval.EvalEnvironment\n",
       "    If a variable defined in the aesthetic mapping is not\n",
       "    found in the data, ggplot will look for it in this\n",
       "    namespace. It defaults to using the environment/namespace.\n",
       "    in which `ggplot()` is called.\n",
       "\u001b[0;31mFile:\u001b[0m           ~/anaconda3/lib/python3.11/site-packages/plotnine/ggplot.py\n",
       "\u001b[0;31mType:\u001b[0m           type\n",
       "\u001b[0;31mSubclasses:\u001b[0m     "
      ]
     },
     "metadata": {},
     "output_type": "display_data"
    }
   ],
   "source": [
    "# In plotnine\n",
    "ggplot?"
   ]
  },
  {
   "cell_type": "markdown",
   "id": "c87598f3-cd7a-4a2d-9baf-be606644a613",
   "metadata": {},
   "source": [
    "The rest of the plotnine documentation is [here](https://plotnine.org/reference/) (including examples). "
   ]
  },
  {
   "cell_type": "code",
   "execution_count": null,
   "id": "a63cd247-2922-4d7c-8409-1c9302509553",
   "metadata": {
    "scrolled": true
   },
   "outputs": [],
   "source": [
    "# Do the same with a plotnine ggplot\n"
   ]
  },
  {
   "cell_type": "code",
   "execution_count": null,
   "id": "b5d345cb-7296-443c-872e-95676239b13c",
   "metadata": {},
   "outputs": [],
   "source": [
    "# to make the output pretty, use .draw() (kind of like .show() in matplotlib)\n"
   ]
  },
  {
   "cell_type": "markdown",
   "id": "b1b9f359-f1e3-43be-9c85-9152b80ad51a",
   "metadata": {},
   "source": [
    "## Adding additional variables with aesthetic mappings (aes)\n",
    "Does the relationship vary by state? Let's make each state a different color."
   ]
  },
  {
   "cell_type": "code",
   "execution_count": null,
   "id": "c9d16280-713e-40ec-ab4e-30639fa40876",
   "metadata": {},
   "outputs": [],
   "source": [
    "# Do this with matplotlib\n",
    "df.state.unique()"
   ]
  },
  {
   "cell_type": "code",
   "execution_count": null,
   "id": "4468b466-ab21-45d0-8d54-f62a74c67924",
   "metadata": {},
   "outputs": [],
   "source": [
    "# Separate our data\n",
    "IL = df[df.state == 'IL']\n",
    "IN = df[df.state == 'IN']\n",
    "MI = df[df.state == 'MI']\n",
    "OH = df[df.state == 'OH']\n",
    "WI = df[df.state == 'WI']"
   ]
  },
  {
   "cell_type": "code",
   "execution_count": null,
   "id": "0c67c6ff-be27-4644-8b7e-fe4aeaf8c6c5",
   "metadata": {},
   "outputs": [],
   "source": [
    "# Create our scatter plots\n",
    "plt.scatter('percollege','percprof',data = IL,label='IL')\n",
    "plt.scatter('percollege','percprof',data = IN,label='IN')\n",
    "plt.scatter('percollege','percprof',data = MI,label='MI')\n",
    "plt.scatter('percollege','percprof',data = OH,label='OH')\n",
    "plt.scatter('percollege','percprof',data = WI,label='WI')\n",
    "plt.xlabel('percollege')\n",
    "plt.ylabel('percprof')\n",
    "plt.legend()\n",
    "plt.show()"
   ]
  },
  {
   "cell_type": "code",
   "execution_count": null,
   "id": "771af7d4-3582-464d-bdaf-2ed385da59ef",
   "metadata": {},
   "outputs": [],
   "source": [
    "# do the same thing with a plotnine ggplot\n",
    "(ggplot(df, aes('percollege','percprof',...))\n",
    "+geom_point()).draw() "
   ]
  },
  {
   "cell_type": "markdown",
   "id": "b771359f-c7cb-4d66-ba83-863fe5f59a02",
   "metadata": {},
   "source": [
    "## Scales\n",
    "Maybe we don't like that default color scale, we can reset the scales in a number of ways. One way is to choose one of the [discrete color scales from matplotlib](https://matplotlib.org/stable/users/explain/colors/colormaps.html#qualitative)."
   ]
  },
  {
   "cell_type": "code",
   "execution_count": null,
   "id": "c563238d-3a08-4710-a6df-b52e9c0dc6ee",
   "metadata": {},
   "outputs": [],
   "source": [
    "# Change color scale with matplotlib\n",
    "(ggplot(df, aes('percollege','percprof',color = 'state'))\n",
    "+geom_point()\n",
    "...).draw() "
   ]
  },
  {
   "cell_type": "code",
   "execution_count": null,
   "id": "cb392330-e0c3-4e52-a08f-844f112e4d08",
   "metadata": {
    "tags": []
   },
   "outputs": [],
   "source": [
    "# Or you can change the color scale manually\n",
    "(ggplot(df, aes('percollege','percprof',color = 'state'))\n",
    "+geom_point()\n",
    "+scale_color_manual(['r','b','g','m','c'])).draw()"
   ]
  },
  {
   "cell_type": "code",
   "execution_count": null,
   "id": "72da792a-1ede-410d-a2fb-f42182a56be3",
   "metadata": {},
   "outputs": [],
   "source": [
    "# Other scales can be changed too\n",
    "(ggplot(df, aes('percollege','percprof',color = 'state'))\n",
    "+geom_point()\n",
    "+scale_color_cmap_d('Set1')\n",
    "...\n",
    ").draw()"
   ]
  },
  {
   "cell_type": "markdown",
   "id": "f0ad6b6f-e660-469a-835a-0f2cf9bf5130",
   "metadata": {},
   "source": [
    "## Geometric objects (geom)\n",
    "What if we wanted to visualize the number of counties in each state?"
   ]
  },
  {
   "cell_type": "code",
   "execution_count": null,
   "id": "c8641cf8-bdd1-4b5f-b0f3-a0378662bbee",
   "metadata": {},
   "outputs": [],
   "source": [
    "# with matplotlib \n",
    "counties_per_state = df.state.value_counts()\n",
    "plt.bar(counties_per_state.index, counties_per_state.values)\n",
    "plt.show()"
   ]
  },
  {
   "cell_type": "code",
   "execution_count": null,
   "id": "be1024b1-b7e9-4453-bb94-40b1c4083821",
   "metadata": {},
   "outputs": [],
   "source": [
    "# with ggplot\n",
    "(ggplot(df, aes(x='state'))\n",
    "...).draw()"
   ]
  },
  {
   "cell_type": "code",
   "execution_count": null,
   "id": "d12b4dc8-3cd9-4934-8e99-4bccd2e80bee",
   "metadata": {
    "tags": []
   },
   "outputs": [],
   "source": [
    "# Note that this uses a \"count\" statistical transformation by default\n",
    "(ggplot(df, aes(x='state'))\n",
    "+geom_bar()\n",
    "...).draw()"
   ]
  },
  {
   "cell_type": "code",
   "execution_count": null,
   "id": "7407578b-ca81-4a02-bd8b-6ab1f6918f3a",
   "metadata": {},
   "outputs": [],
   "source": [
    "# To adjust the order of the bars, we adjust the x-axis scale\n",
    "(ggplot(df, aes(x='state'))\n",
    "+geom_bar()\n",
    "+scale_x_discrete(limits = list(df.state.value_counts().index))).draw()"
   ]
  },
  {
   "cell_type": "code",
   "execution_count": null,
   "id": "940fa738-9b36-4157-b3c7-a7351c90efd2",
   "metadata": {
    "tags": []
   },
   "outputs": [],
   "source": [
    "# Histograms (use geom_bar with a statistical transformation of binning)\n",
    "(ggplot(midwest, aes(x='percollege')) \n",
    "...).draw()"
   ]
  },
  {
   "cell_type": "code",
   "execution_count": null,
   "id": "e256e8a5-36a5-47c9-8260-4cdc8718e729",
   "metadata": {},
   "outputs": [],
   "source": [
    "# Histograms (another way)\n",
    "(ggplot(df, aes(x='percollege'))\n",
    "+geom_histogram(bins=20)).draw()"
   ]
  },
  {
   "cell_type": "markdown",
   "id": "11b9fc2f-636a-4f65-9dca-4f8f1903301a",
   "metadata": {},
   "source": [
    "## Facets\n",
    "In the plots above, points occasionally fell on top of eachother. Let's split up the visulizations for each state."
   ]
  },
  {
   "cell_type": "code",
   "execution_count": null,
   "id": "52a5fdf4-e486-4a3d-ba68-aa23ef669cd8",
   "metadata": {},
   "outputs": [],
   "source": [
    "# with matplotlib\n",
    "fig, ax = plt.subplots(1,5,figsize = (12,3))\n",
    "ax[0].scatter('percollege','percprof',data = IL)\n",
    "ax[0].set_title('IL')\n",
    "ax[1].scatter('percollege','percprof',data = IN)\n",
    "ax[1].set_title('IN')\n",
    "ax[2].scatter('percollege','percprof',data = MI)\n",
    "ax[2].set_title('MI')\n",
    "ax[3].scatter('percollege','percprof',data = OH)\n",
    "ax[3].set_title('OH')\n",
    "ax[4].scatter('percollege','percprof',data = WI)\n",
    "ax[4].set_title('WI')\n",
    "ax[0].set_xlabel('percollege')\n",
    "ax[0].set_ylabel('percprof')\n",
    "plt.show()"
   ]
  },
  {
   "cell_type": "code",
   "execution_count": null,
   "id": "9c78c749-2bdf-407d-b34b-1061b0e9e156",
   "metadata": {},
   "outputs": [],
   "source": [
    "# with a plotnine ggplot\n",
    "(ggplot(df,aes('percollege','percprof',color = 'state'))\n",
    "+geom_point()\n",
    "...).draw()"
   ]
  },
  {
   "cell_type": "code",
   "execution_count": null,
   "id": "827a214b-b94c-4e68-9faa-5ac5e5082988",
   "metadata": {},
   "outputs": [],
   "source": [
    "# adjusting the number of rows in your facetting\n",
    "(ggplot(df,aes('percollege','percprof',color = 'state'))\n",
    "+geom_point()\n",
    "...).draw()"
   ]
  },
  {
   "cell_type": "code",
   "execution_count": null,
   "id": "479420c8-06ca-4f7a-8c0c-599023bdf8d4",
   "metadata": {},
   "outputs": [],
   "source": [
    "# change figure size\n",
    "(ggplot(df,aes('percollege','percprof',color = 'state'))\n",
    "+geom_point()\n",
    "+facet_wrap('state',nrow=1)\n",
    "+theme(figure_size=(10,3))).draw()"
   ]
  },
  {
   "cell_type": "code",
   "execution_count": null,
   "id": "14136f55-cb4b-4abd-8b4b-13b8865b711d",
   "metadata": {
    "scrolled": true
   },
   "outputs": [],
   "source": [
    "# facet by more than one variable\n",
    "(ggplot(df,aes('percollege','percprof',color = 'state'))\n",
    "+geom_point()\n",
    "...\n",
    "+theme(figure_size=(8,16))).draw()"
   ]
  },
  {
   "cell_type": "markdown",
   "id": "3c13452f-65a4-4085-9b78-544db8346444",
   "metadata": {},
   "source": [
    "## Statistical transformations (stat)"
   ]
  },
  {
   "cell_type": "code",
   "execution_count": null,
   "id": "94ab729b-15a4-4e8f-a31f-b29afbd18964",
   "metadata": {},
   "outputs": [],
   "source": [
    "# add statistical transformations\n",
    "(ggplot(df,aes('percollege','percprof',color = 'state'))\n",
    "+geom_point()\n",
    "+facet_wrap('state')\n",
    "...).draw()"
   ]
  },
  {
   "cell_type": "code",
   "execution_count": null,
   "id": "bc289294-f733-432d-b81e-920dc5bf019f",
   "metadata": {
    "tags": []
   },
   "outputs": [],
   "source": [
    "# Using stats with bars\n",
    "(ggplot(df,aes('percollege'))\n",
    "+stat_bin(geom = 'bar',bins = 20)).draw()"
   ]
  },
  {
   "cell_type": "code",
   "execution_count": null,
   "id": "09397137-47a0-4ee2-b5b5-e62c21286e98",
   "metadata": {
    "tags": []
   },
   "outputs": [],
   "source": [
    "# Using stats with bars\n",
    "(ggplot(df,aes(x='state',y='poptotal'))\n",
    "+stat_summary(geom=\"bar\", fun_data=\"mean_se\")).draw()"
   ]
  },
  {
   "cell_type": "code",
   "execution_count": null,
   "id": "cc813ed7-e5ca-4cc2-8f36-e795d8dfe218",
   "metadata": {
    "tags": []
   },
   "outputs": [],
   "source": [
    "# check what the above plot is doing \n",
    "df.groupby('state')['poptotal'].mean()"
   ]
  },
  {
   "cell_type": "markdown",
   "id": "76308a25-e348-42d3-abc1-6aeeeec3baec",
   "metadata": {},
   "source": [
    "## Layer-specific mappings"
   ]
  },
  {
   "cell_type": "code",
   "execution_count": null,
   "id": "960b5003-0719-4ca2-b599-5cc9760dd5e0",
   "metadata": {
    "scrolled": true
   },
   "outputs": [],
   "source": [
    "# Use different aesthetics for different parts of graphic\n",
    "(ggplot(df,aes('percollege','percprof'))\n",
    "+geom_point(aes(color = 'state'))\n",
    "+facet_wrap('state')\n",
    "+stat_smooth()).draw()"
   ]
  },
  {
   "cell_type": "markdown",
   "id": "ac033355-cdc9-4eb3-a43c-6e1a11067ea0",
   "metadata": {},
   "source": [
    "## Themes\n",
    "There are several things we can adjust about the figure that don't fall into the specific grammar of graphics components. These often fall into the `theme` category. For example, the graph below shows how we can adjust the angle of the x-tick labels and the size of the axis labels. See the documentation for other options."
   ]
  },
  {
   "cell_type": "code",
   "execution_count": null,
   "id": "0a7c7da5-f2db-49e2-8d82-ea92992d266c",
   "metadata": {},
   "outputs": [],
   "source": [
    "(ggplot(df, aes(x='percollege'))\n",
    "+geom_histogram()\n",
    "+ ggtitle('Distribution of College Graduates')\n",
    "+theme(axis_text_x  = element_text(angle = 45, hjust = 1),\n",
    "      axis_title_x = element_text(size = 18),\n",
    "      axis_title_y = element_text(size = 18),\n",
    "      plot_title = element_text(size = 20))).draw()"
   ]
  },
  {
   "cell_type": "markdown",
   "id": "e108271e-39b7-4f40-961a-b39394dbf554",
   "metadata": {},
   "source": [
    "## Activity\n",
    "\n",
    "The `plotnine` module has several has a dataset called `diamonds`. \n",
    "\n",
    "A dataset containing the prices and other attributes of almost 54,000 diamonds."
   ]
  },
  {
   "cell_type": "markdown",
   "id": "729bdf81-6ab8-4ed0-951c-ac989b29218b",
   "metadata": {},
   "source": [
    "1. Create a grid of histograms showing the distribution of prices facetted by `cut` and `clarity`. Adjust the number of bins as needed."
   ]
  },
  {
   "cell_type": "code",
   "execution_count": null,
   "id": "113181eb-d530-4ca4-b0f3-756c6a7e0770",
   "metadata": {},
   "outputs": [],
   "source": []
  },
  {
   "cell_type": "markdown",
   "id": "fe69eed7-02c2-4618-a233-723f934c3fca",
   "metadata": {},
   "source": [
    "2. Plot the number of carats vs the price. Think about how you might gain additional insights with additional aesthetic mappings, facetting, statistical transformations, etc. "
   ]
  },
  {
   "cell_type": "code",
   "execution_count": null,
   "id": "630ca2d2-fc2f-4430-a37e-087744530115",
   "metadata": {},
   "outputs": [],
   "source": []
  }
 ],
 "metadata": {
  "kernelspec": {
   "display_name": "Python 3 (ipykernel)",
   "language": "python",
   "name": "python3"
  },
  "language_info": {
   "codemirror_mode": {
    "name": "ipython",
    "version": 3
   },
   "file_extension": ".py",
   "mimetype": "text/x-python",
   "name": "python",
   "nbconvert_exporter": "python",
   "pygments_lexer": "ipython3",
   "version": "3.11.4"
  }
 },
 "nbformat": 4,
 "nbformat_minor": 5
}
