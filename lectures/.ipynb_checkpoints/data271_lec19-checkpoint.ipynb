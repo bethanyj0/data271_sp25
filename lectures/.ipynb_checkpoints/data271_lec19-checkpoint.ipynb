{
 "cells": [
  {
   "cell_type": "markdown",
   "id": "bd035d4a",
   "metadata": {},
   "source": [
    "# Principles of Data Visualization\n",
    "If you want to type along with me, use [this notebook](https://humboldt.cloudbank.2i2c.cloud/hub/user-redirect/git-pull?repo=https%3A%2F%2Fgithub.com%2Fbethanyj0%2Fdata271_sp25&branch=main&urlpath=tree%2Fdata271_sp25%2Flectures%2Fdata271_lec19_live.ipynb) instead. \n",
    "If you don't want to type and want to follow along just by executing the cells, stay in this notebook."
   ]
  },
  {
   "cell_type": "code",
   "execution_count": null,
   "id": "26e99e3b",
   "metadata": {
    "tags": []
   },
   "outputs": [],
   "source": [
    "import numpy as np\n",
    "import pandas as pd\n",
    "import matplotlib.pyplot as plt\n",
    "from plotnine import *\n",
    "from plotnine.data import *\n",
    "import warnings \n",
    "warnings.filterwarnings('ignore') "
   ]
  },
  {
   "cell_type": "markdown",
   "id": "aa868a1b",
   "metadata": {},
   "source": [
    "**NOTE** If you get errors when you run the cell above, go to the terminal and type the following\n",
    "```python\n",
    "pip install plotnine\n",
    "pip install matplotlib==3.8.3\n",
    "```\n",
    "\n",
    "Then come back to this notebook and try again. (You might have to restart your kernel). "
   ]
  },
  {
   "cell_type": "markdown",
   "id": "f9765bba-e7f3-4331-b147-648830174776",
   "metadata": {},
   "source": [
    "## Statistical transformations (stat)"
   ]
  },
  {
   "cell_type": "code",
   "execution_count": null,
   "id": "9c131acb",
   "metadata": {},
   "outputs": [],
   "source": [
    "# add statistical transformations\n",
    "(ggplot(midwest,aes('percollege','percprof',color = 'state'))\n",
    "+geom_point()\n",
    "+facet_wrap('state')\n",
    "+stat_smooth()).draw()"
   ]
  },
  {
   "cell_type": "code",
   "execution_count": null,
   "id": "4e7736c6-3f86-4f71-af54-db046565a420",
   "metadata": {
    "tags": []
   },
   "outputs": [],
   "source": [
    "# Using stats with bars (continuous)\n",
    "(ggplot(midwest,aes('percollege'))\n",
    " +geom_bar()\n",
    " +stat_bin(bins = 20)).draw()"
   ]
  },
  {
   "cell_type": "code",
   "execution_count": null,
   "id": "632366a7-c589-4042-a324-592d7d50b2f6",
   "metadata": {
    "tags": []
   },
   "outputs": [],
   "source": [
    "# Using stats with bars (discrete)\n",
    "(ggplot(midwest,aes('state'))\n",
    " +geom_bar()\n",
    " +stat_count()).draw()"
   ]
  },
  {
   "cell_type": "code",
   "execution_count": null,
   "id": "39813562-a17e-4c67-a373-986e2fc53aa5",
   "metadata": {
    "tags": []
   },
   "outputs": [],
   "source": [
    "# Since stats get paired with specific geoms, can place them together\n",
    "(ggplot(midwest,aes('percollege'))\n",
    "+stat_bin(geom = 'bar',bins = 20)).draw()"
   ]
  },
  {
   "cell_type": "code",
   "execution_count": null,
   "id": "8f90e9d3-1abf-4796-b955-6df24b1c241d",
   "metadata": {
    "tags": []
   },
   "outputs": [],
   "source": [
    "# Using stats with bars\n",
    "(ggplot(midwest,aes(x='state',y='poptotal'))\n",
    " + geom_bar(stat='summary', fun_y=np.mean)).draw()"
   ]
  },
  {
   "cell_type": "code",
   "execution_count": null,
   "id": "351344e0-b87a-46a0-b765-4aa3164bac25",
   "metadata": {
    "tags": []
   },
   "outputs": [],
   "source": [
    "# check what the above plot is doing \n",
    "midwest.groupby('state')['poptotal'].mean()"
   ]
  },
  {
   "cell_type": "markdown",
   "id": "107f56f5-6fb5-4562-b900-c4f3c2268589",
   "metadata": {},
   "source": [
    "## Layer-specific mappings"
   ]
  },
  {
   "cell_type": "code",
   "execution_count": null,
   "id": "d4831392-bb39-48ce-8136-c6b4c331f451",
   "metadata": {
    "tags": []
   },
   "outputs": [],
   "source": [
    "# Use different aesthetics for different parts of graphic\n",
    "(ggplot(midwest,aes('percollege','percprof', color = 'state'))\n",
    "+geom_point()\n",
    "+stat_smooth()).draw()"
   ]
  },
  {
   "cell_type": "code",
   "execution_count": null,
   "id": "77a24581-e531-4f34-9dc8-16186a581c77",
   "metadata": {
    "tags": []
   },
   "outputs": [],
   "source": [
    "(ggplot(midwest,aes('percollege','percprof'))\n",
    "+geom_point(aes(color = 'state'))\n",
    "+stat_smooth()).draw()"
   ]
  },
  {
   "cell_type": "code",
   "execution_count": null,
   "id": "0c14fd85-0480-4406-9018-7673769d65b8",
   "metadata": {
    "tags": []
   },
   "outputs": [],
   "source": [
    "# Use different aesthetics for different parts of graphic\n",
    "(ggplot(midwest,aes('percollege','percprof', color = 'state'))\n",
    "+geom_point()\n",
    "+facet_wrap('state')\n",
    "+stat_smooth()).draw()"
   ]
  },
  {
   "cell_type": "code",
   "execution_count": null,
   "id": "f45fe01b",
   "metadata": {
    "scrolled": true
   },
   "outputs": [],
   "source": [
    "# Use different aesthetics for different parts of graphic\n",
    "(ggplot(midwest,aes('percollege','percprof'))\n",
    "+geom_point(aes(color = 'state'))\n",
    "+facet_wrap('state')\n",
    "+stat_smooth()).draw()"
   ]
  },
  {
   "cell_type": "markdown",
   "id": "f8dfe379-7fe7-4621-9119-e25984d3da9e",
   "metadata": {},
   "source": [
    "## Themes\n",
    "There are several things we can adjust about the figure that don't fall into the specific grammar of graphics components. These often fall into the `theme` category. For example, the graph below shows how we can adjust the angle of the x-tick labels and the size of the axis labels. See the documentation for other options."
   ]
  },
  {
   "cell_type": "code",
   "execution_count": null,
   "id": "ebb30e6b",
   "metadata": {},
   "outputs": [],
   "source": [
    "(ggplot(midwest, aes(x='percollege'))\n",
    "+geom_histogram()\n",
    "+ggtitle('Distribution of College Graduates')\n",
    "+theme(axis_text_x  = element_text(angle = 45, hjust = 1),\n",
    "      axis_title_x = element_text(size = 18),\n",
    "      axis_title_y = element_text(size = 18),\n",
    "      plot_title = element_text(size = 20))).draw()"
   ]
  },
  {
   "cell_type": "markdown",
   "id": "4702c53f",
   "metadata": {},
   "source": [
    "## Activity\n",
    "\n",
    "The `plotnine` module has several has a dataset called `diamonds`, a dataset containing the prices and other attributes of almost 54,000 diamonds."
   ]
  },
  {
   "cell_type": "code",
   "execution_count": null,
   "id": "ae4101e0",
   "metadata": {},
   "outputs": [],
   "source": [
    "diamonds.head()"
   ]
  },
  {
   "cell_type": "markdown",
   "id": "4daef21f-2782-406b-8e75-1b8d1e95564f",
   "metadata": {},
   "source": [
    "1. Use plotnine to recreate this figure.\n",
    "\n",
    "![Diamonds Plot](diamonds_plot.png)"
   ]
  },
  {
   "cell_type": "code",
   "execution_count": null,
   "id": "7ecbfcc2-90ab-4144-b3bd-b9eb2b08d3cd",
   "metadata": {
    "tags": []
   },
   "outputs": [],
   "source": [
    "# Your code here\n"
   ]
  },
  {
   "cell_type": "markdown",
   "id": "8d5bc0f0",
   "metadata": {},
   "source": [
    "2. According to the principles of data visualization, what is wrong with the graph below? Adjust the ggplot so that it aligns with the principles of data visualization.  "
   ]
  },
  {
   "cell_type": "code",
   "execution_count": null,
   "id": "816cf659",
   "metadata": {},
   "outputs": [],
   "source": [
    "(ggplot(diamonds, aes(x='x',y='y'))\n",
    "       +geom_line()).draw()"
   ]
  },
  {
   "cell_type": "markdown",
   "id": "5ffaacb2",
   "metadata": {},
   "source": [
    "3. According to the principles of data visualization, what is wrong with the graph below? Adjust the matplotlib graph, or create a ggplot so that it aligns with the principles of data visualization.  "
   ]
  },
  {
   "cell_type": "code",
   "execution_count": null,
   "id": "8ec72790",
   "metadata": {},
   "outputs": [],
   "source": [
    "ideal = diamonds[diamonds.cut == 'Ideal']\n",
    "prem = diamonds[diamonds.cut == 'Premium']\n",
    "good = diamonds[diamonds.cut == 'Good']\n",
    "vgood = diamonds[diamonds.cut == 'Very Good']\n",
    "fair = diamonds[diamonds.cut == 'Fair']\n",
    "\n",
    "plt.plot('carat','price','r.',data = ideal)\n",
    "plt.plot('carat','price','m.',data = prem)\n",
    "plt.plot('carat','price','y.',data = good)\n",
    "plt.plot('carat','price','w.',data = vgood)\n",
    "plt.plot('carat','price','k.',data = fair)\n",
    "plt.show()"
   ]
  },
  {
   "cell_type": "markdown",
   "id": "baddb3cd",
   "metadata": {},
   "source": [
    "4. According to the principles of data visualization, what is wrong with the graph below? Adjust the ggplot so that it aligns with the principles of data visualization.  "
   ]
  },
  {
   "cell_type": "code",
   "execution_count": null,
   "id": "cba005e7",
   "metadata": {
    "scrolled": true
   },
   "outputs": [],
   "source": [
    "avg_price = diamonds.groupby('clarity').price.mean().reset_index()\n",
    "(ggplot(avg_price,aes(x='clarity',y='price',fill = 'clarity')) \n",
    " + geom_bar(stat='identity',color='r')\n",
    " + geom_text(label=avg_price.clarity)\n",
    " + theme_classic()).draw()"
   ]
  },
  {
   "cell_type": "code",
   "execution_count": null,
   "id": "17c8f1f4",
   "metadata": {},
   "outputs": [],
   "source": []
  }
 ],
 "metadata": {
  "kernelspec": {
   "display_name": "Python 3 (ipykernel)",
   "language": "python",
   "name": "python3"
  },
  "language_info": {
   "codemirror_mode": {
    "name": "ipython",
    "version": 3
   },
   "file_extension": ".py",
   "mimetype": "text/x-python",
   "name": "python",
   "nbconvert_exporter": "python",
   "pygments_lexer": "ipython3",
   "version": "3.11.4"
  }
 },
 "nbformat": 4,
 "nbformat_minor": 5
}
