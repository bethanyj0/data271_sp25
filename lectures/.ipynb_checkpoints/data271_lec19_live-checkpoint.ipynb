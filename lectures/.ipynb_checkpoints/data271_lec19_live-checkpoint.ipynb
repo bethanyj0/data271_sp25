{
 "cells": [
  {
   "cell_type": "markdown",
   "id": "bd035d4a",
   "metadata": {},
   "source": [
    "# Principles of Data Visualization"
   ]
  },
  {
   "cell_type": "code",
   "execution_count": null,
   "id": "26e99e3b",
   "metadata": {},
   "outputs": [],
   "source": [
    "import numpy as np\n",
    "import pandas as pd\n",
    "import matplotlib.pyplot as plt\n",
    "from plotnine import *\n",
    "from plotnine.data import *\n",
    "import warnings \n",
    "warnings.filterwarnings('ignore') "
   ]
  },
  {
   "cell_type": "markdown",
   "id": "aa868a1b",
   "metadata": {},
   "source": [
    "**NOTE** If you get errors when you run the cell above, go to the terminal and type the following\n",
    "```python\n",
    "pip install plotnine\n",
    "pip install matplotlib==3.8.3\n",
    "```\n",
    "\n",
    "Then come back to this notebook and try again. (You might have to restart your kernel). "
   ]
  },
  {
   "cell_type": "markdown",
   "id": "92a67225-cabc-4a4e-b219-90c16a46d55e",
   "metadata": {},
   "source": [
    "## Statistical transformations (stat)"
   ]
  },
  {
   "cell_type": "code",
   "execution_count": null,
   "id": "3861c040-6d09-4107-bd82-e217ae2453e4",
   "metadata": {},
   "outputs": [],
   "source": [
    "# add statistical transformations\n",
    "(ggplot(midwest,aes('percollege','percprof',color = 'state'))\n",
    "+geom_point()\n",
    "+facet_wrap('state')\n",
    "...).draw()"
   ]
  },
  {
   "cell_type": "code",
   "execution_count": null,
   "id": "a216e472-3b50-429c-bf07-01e233bdf556",
   "metadata": {
    "tags": []
   },
   "outputs": [],
   "source": [
    "# Using stats with bars (continuous)\n",
    "(ggplot(midwest,aes('percollege'))\n",
    " +geom_bar()\n",
    "...).draw()"
   ]
  },
  {
   "cell_type": "code",
   "execution_count": null,
   "id": "e9372971-6db4-47ec-95eb-d65793821332",
   "metadata": {
    "tags": []
   },
   "outputs": [],
   "source": [
    "# Using stats with bars (discrete)\n",
    "(ggplot(midwest,aes('state'))\n",
    " +geom_bar()\n",
    "...).draw()"
   ]
  },
  {
   "cell_type": "code",
   "execution_count": null,
   "id": "255dc76a-6b97-4d40-885e-8f3cd9f0c9a7",
   "metadata": {
    "tags": []
   },
   "outputs": [],
   "source": [
    "# Since stats get paired with specific geoms, can place them together\n",
    "(ggplot(midwest,aes('percollege'))\n",
    "...).draw()"
   ]
  },
  {
   "cell_type": "code",
   "execution_count": null,
   "id": "22364277-f35d-45f0-8ba6-ee064adcfb3e",
   "metadata": {
    "tags": []
   },
   "outputs": [],
   "source": [
    "# Using stats with bars\n",
    "(ggplot(midwest,aes(x='state',y='poptotal'))\n",
    " ...).draw()"
   ]
  },
  {
   "cell_type": "code",
   "execution_count": null,
   "id": "7d3892ab-594b-48b3-84b5-3334f0bcec36",
   "metadata": {
    "tags": []
   },
   "outputs": [],
   "source": [
    "# check what the above plot is doing \n",
    "midwest.groupby('state')['poptotal'].mean()"
   ]
  },
  {
   "cell_type": "markdown",
   "id": "1d3a5ab6-955a-40b9-a522-e8c062fd5681",
   "metadata": {},
   "source": [
    "## Layer-specific mappings"
   ]
  },
  {
   "cell_type": "code",
   "execution_count": null,
   "id": "2744f644-24d2-4f26-8d81-9eb41439fdc3",
   "metadata": {
    "tags": []
   },
   "outputs": [],
   "source": [
    "# Use different aesthetics for different parts of graphic\n",
    "(ggplot(midwest,aes('percollege','percprof', color = 'state'))\n",
    "+geom_point()\n",
    "+stat_smooth()).draw()"
   ]
  },
  {
   "cell_type": "code",
   "execution_count": null,
   "id": "7a9e8832-7aac-455e-8806-d9c15028f1f0",
   "metadata": {
    "tags": []
   },
   "outputs": [],
   "source": [
    "(ggplot(midwest,aes('percollege','percprof'))\n",
    "+geom_point(...)\n",
    "+stat_smooth()).draw()"
   ]
  },
  {
   "cell_type": "code",
   "execution_count": null,
   "id": "350dd76c-daa2-4196-a928-bc43b3912b57",
   "metadata": {
    "tags": []
   },
   "outputs": [],
   "source": [
    "# Use different aesthetics for different parts of graphic\n",
    "(ggplot(midwest,aes('percollege','percprof', color = 'state'))\n",
    "+geom_point()\n",
    "+facet_wrap('state')\n",
    "+stat_smooth()).draw()"
   ]
  },
  {
   "cell_type": "code",
   "execution_count": null,
   "id": "8c792b7f-48ea-4b6e-90f1-e47d1338ae92",
   "metadata": {
    "scrolled": true
   },
   "outputs": [],
   "source": [
    "# Use different aesthetics for different parts of graphic\n",
    "(ggplot(midwest,aes('percollege','percprof'))\n",
    "+geom_point(...)\n",
    "+facet_wrap('state')\n",
    "+stat_smooth()).draw()"
   ]
  },
  {
   "cell_type": "markdown",
   "id": "a910e9b4-5381-4be0-bc58-25da31e587fb",
   "metadata": {},
   "source": [
    "## Themes\n",
    "There are several things we can adjust about the figure that don't fall into the specific grammar of graphics components. These often fall into the `theme` category. For example, the graph below shows how we can adjust the angle of the x-tick labels and the size of the axis labels. See the documentation for other options."
   ]
  },
  {
   "cell_type": "code",
   "execution_count": null,
   "id": "89fa7137-14a6-4197-a101-b5e6b6ee2296",
   "metadata": {},
   "outputs": [],
   "source": [
    "(ggplot(midwest, aes(x='percollege'))\n",
    "+geom_histogram()\n",
    "+ggtitle('Distribution of College Graduates')\n",
    "+theme(axis_text_x  = element_text(angle = 45, hjust = 1),\n",
    "      axis_title_x = element_text(size = 18),\n",
    "      axis_title_y = element_text(size = 18),\n",
    "      plot_title = element_text(size = 20))).draw()"
   ]
  },
  {
   "cell_type": "markdown",
   "id": "b5196f4c-ab07-4011-83d3-fc6fd611ad9a",
   "metadata": {},
   "source": [
    "## Activity\n",
    "\n",
    "The `plotnine` module has several has a dataset called `diamonds`, a dataset containing the prices and other attributes of almost 54,000 diamonds."
   ]
  },
  {
   "cell_type": "code",
   "execution_count": null,
   "id": "975a58ae-630a-4355-9a9b-e2d401a0b575",
   "metadata": {},
   "outputs": [],
   "source": [
    "diamonds.head()"
   ]
  },
  {
   "cell_type": "markdown",
   "id": "26da2945-8726-4d5a-b260-d6ad8fe1d3b8",
   "metadata": {},
   "source": [
    "1. Use plotnine to recreate this figure.\n",
    "\n",
    "![Diamonds Plot](diamonds_plot.png)"
   ]
  },
  {
   "cell_type": "code",
   "execution_count": null,
   "id": "a6e90b97-ef48-491b-a1e6-a1e1d69e38b9",
   "metadata": {
    "tags": []
   },
   "outputs": [],
   "source": [
    "# Your code here\n"
   ]
  },
  {
   "cell_type": "markdown",
   "id": "c0ea3a21-5c8e-4e59-bf46-6d8426477614",
   "metadata": {},
   "source": [
    "2. According to the principles of data visualization, what is wrong with the graph below? Adjust the ggplot so that it aligns with the principles of data visualization.  "
   ]
  },
  {
   "cell_type": "code",
   "execution_count": null,
   "id": "b9ba3848-12dc-4231-909c-895e715fb08d",
   "metadata": {},
   "outputs": [],
   "source": [
    "(ggplot(diamonds, aes(x='x',y='y'))\n",
    "       +geom_line()).draw()"
   ]
  },
  {
   "cell_type": "markdown",
   "id": "049b0680-d619-495e-a474-65e7ece95f37",
   "metadata": {},
   "source": [
    "3. According to the principles of data visualization, what is wrong with the graph below? Adjust the matplotlib graph, or create a ggplot so that it aligns with the principles of data visualization.  "
   ]
  },
  {
   "cell_type": "code",
   "execution_count": null,
   "id": "6dedcf5d-411b-4763-93f9-441572316dd9",
   "metadata": {},
   "outputs": [],
   "source": [
    "ideal = diamonds[diamonds.cut == 'Ideal']\n",
    "prem = diamonds[diamonds.cut == 'Premium']\n",
    "good = diamonds[diamonds.cut == 'Good']\n",
    "vgood = diamonds[diamonds.cut == 'Very Good']\n",
    "fair = diamonds[diamonds.cut == 'Fair']\n",
    "\n",
    "plt.plot('carat','price','r.',data = ideal)\n",
    "plt.plot('carat','price','m.',data = prem)\n",
    "plt.plot('carat','price','y.',data = good)\n",
    "plt.plot('carat','price','w.',data = vgood)\n",
    "plt.plot('carat','price','k.',data = fair)\n",
    "plt.show()"
   ]
  },
  {
   "cell_type": "markdown",
   "id": "2dd04e86-e49d-423d-b8ec-5eafa4494960",
   "metadata": {},
   "source": [
    "4. According to the principles of data visualization, what is wrong with the graph below? Adjust the ggplot so that it aligns with the principles of data visualization.  "
   ]
  },
  {
   "cell_type": "code",
   "execution_count": null,
   "id": "297de6b6-869d-48e6-bee8-ffa3c40dba73",
   "metadata": {
    "scrolled": true
   },
   "outputs": [],
   "source": [
    "avg_price = diamonds.groupby('clarity').price.mean().reset_index()\n",
    "(ggplot(avg_price,aes(x='clarity',y='price',fill = 'clarity')) \n",
    " + geom_bar(stat='identity',color='r')\n",
    " + geom_text(label=avg_price.clarity)\n",
    " + theme_classic()).draw()"
   ]
  }
 ],
 "metadata": {
  "kernelspec": {
   "display_name": "Python 3 (ipykernel)",
   "language": "python",
   "name": "python3"
  },
  "language_info": {
   "codemirror_mode": {
    "name": "ipython",
    "version": 3
   },
   "file_extension": ".py",
   "mimetype": "text/x-python",
   "name": "python",
   "nbconvert_exporter": "python",
   "pygments_lexer": "ipython3",
   "version": "3.11.4"
  }
 },
 "nbformat": 4,
 "nbformat_minor": 5
}
