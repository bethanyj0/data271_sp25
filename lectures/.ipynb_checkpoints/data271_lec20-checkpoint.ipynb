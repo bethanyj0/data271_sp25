{
 "cells": [
  {
   "cell_type": "markdown",
   "id": "bd035d4a",
   "metadata": {},
   "source": [
    "# EDA and Intro to Seaborn\n",
    "If you want to type along with me, use [this notebook](https://humboldt.cloudbank.2i2c.cloud/hub/user-redirect/git-pull?repo=https%3A%2F%2Fgithub.com%2Fbethanyj0%2Fdata271_sp25&branch=main&urlpath=tree%2Fdata271_sp25%2Flectures%2Fdata271_lec20_live.ipynb) instead. \n",
    "If you don't want to type and want to follow along just by executing the cells, stay in this notebook. "
   ]
  },
  {
   "cell_type": "code",
   "execution_count": null,
   "id": "26e99e3b",
   "metadata": {
    "tags": []
   },
   "outputs": [],
   "source": [
    "import numpy as np\n",
    "import pandas as pd\n",
    "import matplotlib.pyplot as plt\n",
    "import warnings \n",
    "warnings.filterwarnings('ignore') "
   ]
  },
  {
   "cell_type": "markdown",
   "id": "4adf385f",
   "metadata": {},
   "source": [
    "## Seaborn basics"
   ]
  },
  {
   "cell_type": "code",
   "execution_count": null,
   "id": "992bf5c6",
   "metadata": {
    "tags": []
   },
   "outputs": [],
   "source": [
    "# Whenever we want to use seaborn for visualization\n",
    "import seaborn as sns\n",
    "sns.set_style(\"darkgrid\")"
   ]
  },
  {
   "cell_type": "code",
   "execution_count": null,
   "id": "425937bd",
   "metadata": {
    "tags": []
   },
   "outputs": [],
   "source": [
    "iris = sns.load_dataset('iris')\n",
    "iris"
   ]
  },
  {
   "cell_type": "code",
   "execution_count": null,
   "id": "7f5a429b",
   "metadata": {
    "tags": []
   },
   "outputs": [],
   "source": [
    "# To make a scatter plot\n",
    "sns.scatterplot(data = iris, x = 'petal_length', y = 'petal_width'); "
   ]
  },
  {
   "cell_type": "code",
   "execution_count": null,
   "id": "d7f5a44d",
   "metadata": {
    "tags": []
   },
   "outputs": [],
   "source": [
    "# Customizing your scatter plot: change the color of all the points to another color\n",
    "sns.scatterplot(data = iris, x = 'petal_length', y = 'petal_width', color = 'r'); "
   ]
  },
  {
   "cell_type": "code",
   "execution_count": null,
   "id": "e91e55bb",
   "metadata": {
    "tags": []
   },
   "outputs": [],
   "source": [
    "# Customizing your scatter plot: change the color of points to map to another variable (like an aesthetic map)\n",
    "sns.scatterplot(data = iris, x = 'petal_length', y = 'petal_width', hue = 'species');"
   ]
  },
  {
   "cell_type": "code",
   "execution_count": null,
   "id": "df095729",
   "metadata": {
    "tags": []
   },
   "outputs": [],
   "source": [
    "# Customizing your scatter plot: change the shape of points to map to another variable (like an aesthetic map)\n",
    "sns.scatterplot(data = iris, x = 'petal_length', y = 'petal_width', style = 'species'); "
   ]
  },
  {
   "cell_type": "code",
   "execution_count": null,
   "id": "7785f48b",
   "metadata": {
    "tags": []
   },
   "outputs": [],
   "source": [
    "# adjusting axis scales\n",
    "fig = sns.scatterplot(data = iris, x = 'petal_length', y = 'petal_width', hue = 'species')\n",
    "fig.set_xlim(0,8);"
   ]
  },
  {
   "cell_type": "code",
   "execution_count": null,
   "id": "22f863a3",
   "metadata": {
    "tags": []
   },
   "outputs": [],
   "source": [
    "# adjusting color scales\n",
    "sns.scatterplot(data = iris, x = 'petal_length', y = 'petal_width', \n",
    "                hue = 'species', palette = 'colorblind');"
   ]
  },
  {
   "cell_type": "code",
   "execution_count": null,
   "id": "e7a3ca8a",
   "metadata": {
    "tags": []
   },
   "outputs": [],
   "source": [
    "# Facetting\n",
    "# Create a facet grid\n",
    "fig = sns.FacetGrid(iris, col=\"species\", hue = 'species')\n",
    "# map your scatter plots to the grid\n",
    "fig.map(sns.scatterplot, \"petal_length\", \"petal_width\");"
   ]
  },
  {
   "cell_type": "code",
   "execution_count": null,
   "id": "a6c16cf0",
   "metadata": {
    "tags": []
   },
   "outputs": [],
   "source": [
    "# line plots (NOTE: just for demonstration. Not a good use for line plot)\n",
    "sns.lineplot(data = iris, x = 'petal_length', y = 'petal_width', hue = 'species'); "
   ]
  },
  {
   "cell_type": "code",
   "execution_count": null,
   "id": "20875367",
   "metadata": {
    "tags": []
   },
   "outputs": [],
   "source": [
    "# barplots to just look at counts\n",
    "sns.countplot(data = iris, x = 'species'); "
   ]
  },
  {
   "cell_type": "code",
   "execution_count": null,
   "id": "359a2c03",
   "metadata": {
    "tags": []
   },
   "outputs": [],
   "source": [
    "# barplots to look at averages of a numeric variable vs a categorical variable\n",
    "sns.barplot(data = iris, x = 'species', y='petal_length'); "
   ]
  },
  {
   "cell_type": "code",
   "execution_count": null,
   "id": "e6287291-9b0a-42ba-b2f9-c041b20f0c7c",
   "metadata": {
    "tags": []
   },
   "outputs": [],
   "source": [
    "# To remove error bars\n",
    "sns.barplot(data = iris, x = 'species', y='petal_length', errorbar= None); "
   ]
  },
  {
   "cell_type": "code",
   "execution_count": null,
   "id": "77bda647-2f7e-42f3-badf-c5bafa48f952",
   "metadata": {
    "tags": []
   },
   "outputs": [],
   "source": [
    "# Use other aggregate functions\n",
    "sns.barplot(data = iris, x = 'species', y='petal_length', \n",
    "            errorbar= None, estimator=np.sum); "
   ]
  },
  {
   "cell_type": "code",
   "execution_count": null,
   "id": "13acb1c0",
   "metadata": {
    "tags": []
   },
   "outputs": [],
   "source": [
    "# Histograms\n",
    "sns.histplot(data = iris, x = 'petal_length');"
   ]
  },
  {
   "cell_type": "markdown",
   "id": "f9404db0",
   "metadata": {},
   "source": [
    "## Visualizations for EDA"
   ]
  },
  {
   "cell_type": "code",
   "execution_count": null,
   "id": "674b352d",
   "metadata": {
    "tags": []
   },
   "outputs": [],
   "source": [
    "# Pairplots show the relationship between numeric variables\n",
    "sns.pairplot(data = iris);"
   ]
  },
  {
   "cell_type": "code",
   "execution_count": null,
   "id": "e2a4108e",
   "metadata": {
    "tags": []
   },
   "outputs": [],
   "source": [
    "# Can map other variables to aesthetic properties\n",
    "sns.pairplot(data = iris, hue='species');"
   ]
  },
  {
   "cell_type": "code",
   "execution_count": null,
   "id": "0bec15ec",
   "metadata": {
    "tags": []
   },
   "outputs": [],
   "source": [
    "# boxplots can be used to look at the distribution of data in different categories\n",
    "sns.boxplot(data = iris);"
   ]
  },
  {
   "cell_type": "code",
   "execution_count": null,
   "id": "7a5b73e3",
   "metadata": {
    "tags": []
   },
   "outputs": [],
   "source": [
    "# boxplots can also be used with a categorical x and a numerical y\n",
    "sns.boxplot(data = iris, x = 'species',y='sepal_width');"
   ]
  },
  {
   "cell_type": "code",
   "execution_count": null,
   "id": "b4102f1e",
   "metadata": {
    "tags": []
   },
   "outputs": [],
   "source": [
    "# heatmaps can be used to study correlations\n",
    "corrmat = iris.corr(numeric_only = True) # make correlation matrix\n",
    "sns.heatmap(data = corrmat, annot = True);"
   ]
  },
  {
   "cell_type": "markdown",
   "id": "5f0549d6",
   "metadata": {},
   "source": [
    "## Practice: Exploratory Data Analysis on Covid Data"
   ]
  },
  {
   "cell_type": "code",
   "execution_count": null,
   "id": "eb8c785d",
   "metadata": {
    "tags": []
   },
   "outputs": [],
   "source": [
    "# import covid data\n",
    "covid = pd.read_csv('https://raw.githubusercontent.com/PacktPublishing/Python-Data-Cleaning-Cookbook/master/Chapter05/data/covidtotals.csv')\n",
    "covid.head()"
   ]
  },
  {
   "cell_type": "code",
   "execution_count": null,
   "id": "34e10a93",
   "metadata": {
    "tags": []
   },
   "outputs": [],
   "source": [
    "# begin exploring the dataset\n",
    "covid_desc = covid.describe()\n",
    "covid_desc"
   ]
  },
  {
   "cell_type": "code",
   "execution_count": null,
   "id": "4d90d1b5",
   "metadata": {
    "tags": []
   },
   "outputs": [],
   "source": [
    "covid.info()"
   ]
  },
  {
   "cell_type": "code",
   "execution_count": null,
   "id": "3187dd72",
   "metadata": {
    "tags": []
   },
   "outputs": [],
   "source": [
    "# Check for na values\n",
    "covid.isna()"
   ]
  },
  {
   "cell_type": "code",
   "execution_count": null,
   "id": "53d9554e",
   "metadata": {
    "tags": []
   },
   "outputs": [],
   "source": [
    "# Summarize number of na's by column\n",
    "nas = covid.isna().sum()\n",
    "nas"
   ]
  },
  {
   "cell_type": "code",
   "execution_count": null,
   "id": "32cb0a92",
   "metadata": {
    "tags": []
   },
   "outputs": [],
   "source": [
    "# drop columns with na values\n",
    "covid = covid.dropna(axis=1)\n",
    "covid"
   ]
  },
  {
   "cell_type": "code",
   "execution_count": null,
   "id": "ed333bc5",
   "metadata": {
    "tags": []
   },
   "outputs": [],
   "source": [
    "# check if there are any duplicate rows\n",
    "covid.duplicated().sum()"
   ]
  },
  {
   "cell_type": "code",
   "execution_count": null,
   "id": "0beecbe7",
   "metadata": {
    "tags": []
   },
   "outputs": [],
   "source": [
    "# begin visualizing for insights\n",
    "sns.pairplot(data = covid);"
   ]
  },
  {
   "cell_type": "code",
   "execution_count": null,
   "id": "9de3e6e3",
   "metadata": {
    "scrolled": true,
    "tags": []
   },
   "outputs": [],
   "source": [
    "# boxplots to look at distributions\n",
    "plt.figure(figsize=(12,4))\n",
    "sns.boxplot(x = covid.region,y=covid.total_deaths_pm)\n",
    "plt.xticks(rotation=45)\n",
    "plt.show()"
   ]
  },
  {
   "cell_type": "code",
   "execution_count": null,
   "id": "e45bd7dc",
   "metadata": {
    "tags": []
   },
   "outputs": [],
   "source": [
    "# heatmaps to look at correlations\n",
    "corrmatc = covid.corr(numeric_only = True) # make correlation matrix\n",
    "sns.heatmap(data = corrmatc, annot = True);"
   ]
  },
  {
   "cell_type": "markdown",
   "id": "9002715c",
   "metadata": {},
   "source": [
    "## Activity"
   ]
  },
  {
   "cell_type": "markdown",
   "id": "6508b71d",
   "metadata": {},
   "source": [
    "1. What did the inital visualizations above reveal that was surprising or interesting? Create an additional Seaborn visualization to explore this. "
   ]
  },
  {
   "cell_type": "code",
   "execution_count": null,
   "id": "85366a35",
   "metadata": {},
   "outputs": [],
   "source": []
  }
 ],
 "metadata": {
  "kernelspec": {
   "display_name": "Python 3 (ipykernel)",
   "language": "python",
   "name": "python3"
  },
  "language_info": {
   "codemirror_mode": {
    "name": "ipython",
    "version": 3
   },
   "file_extension": ".py",
   "mimetype": "text/x-python",
   "name": "python",
   "nbconvert_exporter": "python",
   "pygments_lexer": "ipython3",
   "version": "3.11.4"
  }
 },
 "nbformat": 4,
 "nbformat_minor": 5
}
