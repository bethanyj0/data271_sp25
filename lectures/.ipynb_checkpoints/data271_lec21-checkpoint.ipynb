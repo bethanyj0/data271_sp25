{
 "cells": [
  {
   "cell_type": "markdown",
   "id": "bd035d4a",
   "metadata": {},
   "source": [
    "# EDA on Boston Housing\n",
    "If you want to type along with me, use [this notebook](https://humboldt.cloudbank.2i2c.cloud/hub/user-redirect/git-pull?repo=https%3A%2F%2Fgithub.com%2Fbethanyj0%2Fdata271_sp25&branch=main&urlpath=tree%2Fdata271_sp25%2Flectures%2Fdata271_lec21_live.ipynb) instead. \n",
    "If you don't want to type and want to follow along just by executing the cells, stay in this notebook. "
   ]
  },
  {
   "cell_type": "code",
   "execution_count": null,
   "id": "26e99e3b",
   "metadata": {
    "tags": []
   },
   "outputs": [],
   "source": [
    "import numpy as np\n",
    "import pandas as pd\n",
    "import matplotlib.pyplot as plt\n",
    "import sklearn\n",
    "import seaborn as sns\n",
    "sns.set_style(\"darkgrid\")\n",
    "import warnings \n",
    "warnings.filterwarnings('ignore') "
   ]
  },
  {
   "cell_type": "code",
   "execution_count": null,
   "id": "c1cda193",
   "metadata": {
    "tags": []
   },
   "outputs": [],
   "source": [
    "iris = sns.load_dataset('iris')\n",
    "iris"
   ]
  },
  {
   "cell_type": "markdown",
   "id": "a85cd2fe",
   "metadata": {},
   "source": [
    "## Useful Seaborn plots for EDA"
   ]
  },
  {
   "cell_type": "code",
   "execution_count": null,
   "id": "ac407ff0",
   "metadata": {
    "tags": []
   },
   "outputs": [],
   "source": [
    "# pairplot\n",
    "sns.pairplot(iris)\n",
    "plt.show()"
   ]
  },
  {
   "cell_type": "code",
   "execution_count": null,
   "id": "37cd810d",
   "metadata": {
    "tags": []
   },
   "outputs": [],
   "source": [
    "# pairplot customizations\n",
    "sns.pairplot(data = iris, hue='species')\n",
    "plt.show()"
   ]
  },
  {
   "cell_type": "code",
   "execution_count": null,
   "id": "a3bd7441",
   "metadata": {
    "tags": []
   },
   "outputs": [],
   "source": [
    "# boxplot\n",
    "sns.boxplot(data = iris)\n",
    "plt.show()"
   ]
  },
  {
   "cell_type": "code",
   "execution_count": null,
   "id": "fef56e7a",
   "metadata": {
    "tags": []
   },
   "outputs": [],
   "source": [
    "# boxplot for numeric variable vs categorical\n",
    "sns.boxplot(data = iris, x = 'species',y='sepal_width')\n",
    "plt.show()"
   ]
  },
  {
   "cell_type": "code",
   "execution_count": null,
   "id": "3c37822b",
   "metadata": {
    "tags": []
   },
   "outputs": [],
   "source": [
    "# heatmaps\n",
    "corrmat = iris.corr(numeric_only=True) # make correlation matrix\n",
    "\n",
    "sns.heatmap(corrmat, annot = True) \n",
    "plt.title('Correlation Coefficients')\n",
    "plt.show()"
   ]
  },
  {
   "cell_type": "markdown",
   "id": "fd1d9f97",
   "metadata": {},
   "source": [
    "# Group Activity: EDA on Housing Data "
   ]
  },
  {
   "cell_type": "markdown",
   "id": "2929c5cb",
   "metadata": {},
   "source": [
    "### Importing the data"
   ]
  },
  {
   "cell_type": "code",
   "execution_count": null,
   "id": "55d2157c",
   "metadata": {
    "tags": []
   },
   "outputs": [],
   "source": [
    "data = pd.read_csv('BostonHousingData.csv')\n",
    "data"
   ]
  },
  {
   "cell_type": "markdown",
   "id": "b9e62c99",
   "metadata": {},
   "source": [
    "### Understanding the Features\n",
    "Info about the columns is [here](https://www.cs.toronto.edu/~delve/data/boston/bostonDetail.html#:~:text=The%20Boston%20Housing%20Dataset,the%20area%20of%20Boston%20Mass)."
   ]
  },
  {
   "cell_type": "markdown",
   "id": "f09eb3d3",
   "metadata": {},
   "source": [
    "*Fill in descriptions of each variable here*"
   ]
  },
  {
   "cell_type": "markdown",
   "id": "1e464ff6",
   "metadata": {},
   "source": [
    "## Discussion question\n",
    "Looking at the variables and their descriptions above, do any of them stand out? Are there any you have more questions about?"
   ]
  },
  {
   "cell_type": "markdown",
   "id": "a9072c6f",
   "metadata": {},
   "source": [
    "## EDA - Descriptive statistics"
   ]
  },
  {
   "cell_type": "code",
   "execution_count": null,
   "id": "4134edd8",
   "metadata": {
    "tags": []
   },
   "outputs": [],
   "source": [
    "# General data info\n",
    "data.info()"
   ]
  },
  {
   "cell_type": "code",
   "execution_count": null,
   "id": "00f74fec",
   "metadata": {
    "tags": []
   },
   "outputs": [],
   "source": [
    "# statistical description of the data\n",
    "data.describe()"
   ]
  },
  {
   "cell_type": "code",
   "execution_count": null,
   "id": "6414140e",
   "metadata": {
    "tags": []
   },
   "outputs": [],
   "source": [
    "# look at mean of each attribute \n",
    "data.describe().loc['mean']"
   ]
  },
  {
   "cell_type": "markdown",
   "id": "442add11",
   "metadata": {},
   "source": [
    "## EDA - Data Preparation"
   ]
  },
  {
   "cell_type": "code",
   "execution_count": null,
   "id": "871d7cfe",
   "metadata": {
    "tags": []
   },
   "outputs": [],
   "source": [
    "# Search for null values\n",
    "data.isna().sum()"
   ]
  },
  {
   "cell_type": "code",
   "execution_count": null,
   "id": "4ce1219c",
   "metadata": {
    "tags": []
   },
   "outputs": [],
   "source": [
    "# check for duplicate entries\n",
    "data.duplicated().sum()"
   ]
  },
  {
   "cell_type": "markdown",
   "id": "3e3347a5",
   "metadata": {},
   "source": [
    "## EDA - Visualization"
   ]
  },
  {
   "cell_type": "code",
   "execution_count": null,
   "id": "3b9b7edb",
   "metadata": {
    "tags": []
   },
   "outputs": [],
   "source": [
    "# Could start with a pairplot; but this can be computationally expensive\n",
    "# and not too informative\n",
    "\n",
    "# sns.pairplot(data)"
   ]
  },
  {
   "cell_type": "markdown",
   "id": "8978908a",
   "metadata": {},
   "source": [
    "### Reduce number of plots by making scatterplots"
   ]
  },
  {
   "cell_type": "code",
   "execution_count": null,
   "id": "ad209616",
   "metadata": {
    "tags": []
   },
   "outputs": [],
   "source": [
    "rows = 2\n",
    "cols = 7\n",
    "fig, ax = plt.subplots(rows, cols, figsize = (16,4) ) \n",
    "index = 0\n",
    "\n",
    "# plot price as dependent variable (y-axis) against all other variables\n",
    "for i in range(rows):\n",
    "    for j in range(cols):\n",
    "        sns.scatterplot(data = data, x = data.columns[index], y = 'MEDV', ax = ax[i][j]) \n",
    "        index = index + 1\n",
    "        \n",
    "plt.tight_layout()\n",
    "plt.show()\n"
   ]
  },
  {
   "cell_type": "markdown",
   "id": "f916a07d",
   "metadata": {},
   "source": [
    "### Correlation Coefficients and Heatmaps"
   ]
  },
  {
   "cell_type": "code",
   "execution_count": null,
   "id": "2fe9433b",
   "metadata": {
    "tags": []
   },
   "outputs": [],
   "source": [
    "# correlation matrix\n",
    "corrmat = data.corr(numeric_only=True) \n",
    "corrmat  "
   ]
  },
  {
   "cell_type": "code",
   "execution_count": null,
   "id": "9ab5324c",
   "metadata": {
    "tags": []
   },
   "outputs": [],
   "source": [
    "# plot as a heat map to visualize the information in the matrix\n",
    "plt.figure(figsize = (9, 9)) \n",
    "sns.heatmap(corrmat, annot = True) \n",
    "plt.show()"
   ]
  },
  {
   "cell_type": "markdown",
   "id": "a31de69d",
   "metadata": {},
   "source": [
    "### Heatmap and Pair Plot of Correlated Data"
   ]
  },
  {
   "cell_type": "code",
   "execution_count": null,
   "id": "74acdbdd",
   "metadata": {
    "tags": []
   },
   "outputs": [],
   "source": [
    "# Which variables are highly (>0.5) correlated with price?\n",
    "abs(corrmat.MEDV) > 0.5"
   ]
  },
  {
   "cell_type": "code",
   "execution_count": null,
   "id": "4d5aed5a",
   "metadata": {
    "tags": []
   },
   "outputs": [],
   "source": [
    "corrmat.index[abs(corrmat.MEDV) > 0.5]"
   ]
  },
  {
   "cell_type": "code",
   "execution_count": null,
   "id": "26a7b6c3",
   "metadata": {
    "tags": []
   },
   "outputs": [],
   "source": [
    "correlated_data = data[corrmat.index[abs(corrmat.MEDV) > 0.5]]\n",
    "correlated_data.head()"
   ]
  },
  {
   "cell_type": "code",
   "execution_count": null,
   "id": "5e03cb17",
   "metadata": {
    "tags": []
   },
   "outputs": [],
   "source": [
    "# plot pair plots to display columns which are highly correlated with the price\n",
    "sns.pairplot(correlated_data)\n",
    "plt.tight_layout()"
   ]
  },
  {
   "cell_type": "markdown",
   "id": "ddd1dfeb",
   "metadata": {},
   "source": [
    "### Distributions of variables and boxplots"
   ]
  },
  {
   "cell_type": "code",
   "execution_count": null,
   "id": "1c0c7082",
   "metadata": {
    "tags": []
   },
   "outputs": [],
   "source": [
    "# distributions of data\n",
    "sns.boxplot(data)\n",
    "plt.show()"
   ]
  },
  {
   "cell_type": "code",
   "execution_count": null,
   "id": "a38fa532",
   "metadata": {
    "tags": []
   },
   "outputs": [],
   "source": [
    "# plot price vs CHAS\n",
    "sns.boxplot( x = 'CHAS',y = 'MEDV', data = data)\n",
    "plt.show()"
   ]
  },
  {
   "cell_type": "markdown",
   "id": "e1526e9a",
   "metadata": {},
   "source": []
  },
  {
   "cell_type": "code",
   "execution_count": null,
   "id": "d092e872",
   "metadata": {},
   "outputs": [],
   "source": []
  }
 ],
 "metadata": {
  "kernelspec": {
   "display_name": "Python 3 (ipykernel)",
   "language": "python",
   "name": "python3"
  },
  "language_info": {
   "codemirror_mode": {
    "name": "ipython",
    "version": 3
   },
   "file_extension": ".py",
   "mimetype": "text/x-python",
   "name": "python",
   "nbconvert_exporter": "python",
   "pygments_lexer": "ipython3",
   "version": "3.11.4"
  }
 },
 "nbformat": 4,
 "nbformat_minor": 5
}
