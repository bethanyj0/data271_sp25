{
 "cells": [
  {
   "cell_type": "markdown",
   "id": "bd035d4a",
   "metadata": {},
   "source": [
    "# EDA on Boston Housing"
   ]
  },
  {
   "cell_type": "code",
   "execution_count": null,
   "id": "e5eddeaf-df21-4a2f-b2bf-a70b19d1fd44",
   "metadata": {
    "tags": []
   },
   "outputs": [],
   "source": [
    "import numpy as np\n",
    "import pandas as pd\n",
    "import matplotlib.pyplot as plt\n",
    "import sklearn\n",
    "import seaborn as sns\n",
    "sns.set_style(\"darkgrid\")\n",
    "import warnings \n",
    "warnings.filterwarnings('ignore') "
   ]
  },
  {
   "cell_type": "code",
   "execution_count": null,
   "id": "86e3f6e3-a165-4de5-87d3-c046e3f32806",
   "metadata": {
    "tags": []
   },
   "outputs": [],
   "source": [
    "iris = sns.load_dataset('iris')\n",
    "iris"
   ]
  },
  {
   "cell_type": "markdown",
   "id": "4f505270-c6f6-4318-8933-626d651f482e",
   "metadata": {},
   "source": [
    "## Useful Seaborn plots for EDA"
   ]
  },
  {
   "cell_type": "code",
   "execution_count": null,
   "id": "31e27bd2-0034-4113-b2e4-103630c591d3",
   "metadata": {
    "tags": []
   },
   "outputs": [],
   "source": [
    "# pairplot\n",
    "\n",
    "plt.show()"
   ]
  },
  {
   "cell_type": "code",
   "execution_count": null,
   "id": "1d603ad7-3247-4eb0-a3a1-dcba6d7f2e36",
   "metadata": {
    "tags": []
   },
   "outputs": [],
   "source": [
    "# pairplot customizations\n",
    "\n",
    "plt.show()"
   ]
  },
  {
   "cell_type": "code",
   "execution_count": null,
   "id": "1780ed3b-1b8f-40e4-83d9-8886f316328d",
   "metadata": {
    "tags": []
   },
   "outputs": [],
   "source": [
    "# boxplot\n",
    "\n",
    "plt.show()"
   ]
  },
  {
   "cell_type": "code",
   "execution_count": null,
   "id": "fb69cbf0-58b8-4ee5-98d4-9e7c019cd4fd",
   "metadata": {
    "tags": []
   },
   "outputs": [],
   "source": [
    "# boxplot for numeric variable vs categorical\n",
    "\n",
    "plt.show()"
   ]
  },
  {
   "cell_type": "code",
   "execution_count": null,
   "id": "fb2e353b-65ce-4195-94a4-165e6d37c4ac",
   "metadata": {
    "tags": []
   },
   "outputs": [],
   "source": [
    "# heatmaps\n",
    "corrmat =  # make correlation matrix\n",
    "\n",
    "\n",
    "plt.title('Correlation Coefficients')\n",
    "plt.show()"
   ]
  },
  {
   "cell_type": "markdown",
   "id": "f4b910de-c1fe-41d2-a670-47784410d786",
   "metadata": {},
   "source": [
    "# Group Activity: EDA on Housing Data "
   ]
  },
  {
   "cell_type": "markdown",
   "id": "ed66b8c6-fad9-48a9-8076-fedb062b1237",
   "metadata": {},
   "source": [
    "### Importing the data"
   ]
  },
  {
   "cell_type": "code",
   "execution_count": null,
   "id": "bf406e24-9669-48ef-ba3e-ec241fba2773",
   "metadata": {
    "tags": []
   },
   "outputs": [],
   "source": [
    "data = pd.read_csv('BostonHousingData.csv')\n",
    "data"
   ]
  },
  {
   "cell_type": "markdown",
   "id": "ab8cd1a7-c08b-45f3-83a8-d65d653fb796",
   "metadata": {},
   "source": [
    "### Understanding the Features\n",
    "Info about the columns is [here](https://www.cs.toronto.edu/~delve/data/boston/bostonDetail.html#:~:text=The%20Boston%20Housing%20Dataset,the%20area%20of%20Boston%20Mass)."
   ]
  },
  {
   "cell_type": "markdown",
   "id": "bb6065ad-7d46-4e7e-90b6-bc61076b6e00",
   "metadata": {},
   "source": [
    "*Fill in descriptions of each variable here*"
   ]
  },
  {
   "cell_type": "markdown",
   "id": "e9f64808-d371-4dbe-b10f-c774a8ff44ef",
   "metadata": {},
   "source": [
    "## Discussion question\n",
    "Looking at the variables and their descriptions above, do any of them stand out? Are there any you have more questions about?"
   ]
  },
  {
   "cell_type": "markdown",
   "id": "d88a9dab-adf7-4462-8a23-f59b17eb82d3",
   "metadata": {},
   "source": [
    "## EDA - Descriptive statistics"
   ]
  },
  {
   "cell_type": "code",
   "execution_count": null,
   "id": "253fd951-5214-4871-9074-3fa3e7aa3cf1",
   "metadata": {
    "tags": []
   },
   "outputs": [],
   "source": [
    "# General data info\n"
   ]
  },
  {
   "cell_type": "code",
   "execution_count": null,
   "id": "8957e172-69e9-4273-885c-12e2315ea445",
   "metadata": {
    "tags": []
   },
   "outputs": [],
   "source": [
    "# statistical description of the data\n"
   ]
  },
  {
   "cell_type": "code",
   "execution_count": null,
   "id": "25f52474-105b-4b45-83b0-71765ffff1af",
   "metadata": {
    "tags": []
   },
   "outputs": [],
   "source": [
    "# look at mean of each attribute \n"
   ]
  },
  {
   "cell_type": "markdown",
   "id": "e99d115e-f5b7-4334-b1f4-fdce92244ea7",
   "metadata": {},
   "source": [
    "## EDA - Data Preparation"
   ]
  },
  {
   "cell_type": "code",
   "execution_count": null,
   "id": "00d57dbd-9839-4bdf-b41a-e26cb0f432c0",
   "metadata": {
    "tags": []
   },
   "outputs": [],
   "source": [
    "# Search for null values\n"
   ]
  },
  {
   "cell_type": "code",
   "execution_count": null,
   "id": "02bfd38f-1d79-454a-a268-231e561e322b",
   "metadata": {
    "tags": []
   },
   "outputs": [],
   "source": [
    "# check for duplicate entries\n"
   ]
  },
  {
   "cell_type": "markdown",
   "id": "38fb478d-e963-46dc-903d-7f755c63aad0",
   "metadata": {},
   "source": [
    "## EDA - Visualization"
   ]
  },
  {
   "cell_type": "code",
   "execution_count": null,
   "id": "81048973-b3f1-4f59-a0de-aa896b4bdb0c",
   "metadata": {
    "tags": []
   },
   "outputs": [],
   "source": [
    "# Could start with a pairplot; but this can be computationally expensive\n",
    "# and not too informative\n",
    "\n",
    "# sns.pairplot(data)"
   ]
  },
  {
   "cell_type": "markdown",
   "id": "82bcb623-4936-455f-b923-c594fa389f0f",
   "metadata": {},
   "source": [
    "### Reduce number of plots by making scatterplots"
   ]
  },
  {
   "cell_type": "code",
   "execution_count": null,
   "id": "0354fc60-abab-4e42-84c7-c3bfefda65f5",
   "metadata": {
    "tags": []
   },
   "outputs": [],
   "source": [
    "rows = 2\n",
    "cols = 7\n",
    "fig, ax = plt.subplots(rows, cols, figsize = (16,4) ) \n",
    "index = 0\n",
    "\n",
    "# plot price as dependent variable (y-axis) against all other variables\n",
    "for i in range(rows):\n",
    "    for j in range(cols):\n",
    "         \n",
    "        index = index + 1\n",
    "        \n",
    "\n",
    "plt.show()\n"
   ]
  },
  {
   "cell_type": "markdown",
   "id": "635303d5-21f7-4758-a32a-ad4397a017d9",
   "metadata": {},
   "source": [
    "### Correlation Coefficients and Heatmaps"
   ]
  },
  {
   "cell_type": "code",
   "execution_count": null,
   "id": "cc5f6310-7926-41b7-9123-14dff7f263d6",
   "metadata": {
    "tags": []
   },
   "outputs": [],
   "source": [
    "# correlation matrix\n",
    "corrmat =  \n",
    "corrmat  "
   ]
  },
  {
   "cell_type": "code",
   "execution_count": null,
   "id": "8333753c-151b-48cc-9970-bd7403358fd1",
   "metadata": {
    "tags": []
   },
   "outputs": [],
   "source": [
    "# plot as a heat map to visualize the information in the matrix\n",
    "plt.figure(figsize = (9, 9)) \n",
    "\n",
    "plt.show()"
   ]
  },
  {
   "cell_type": "markdown",
   "id": "f4fb35cb-5ab2-46ef-b5a6-b9fb9386364e",
   "metadata": {},
   "source": [
    "### Heatmap and Pair Plot of Correlated Data"
   ]
  },
  {
   "cell_type": "code",
   "execution_count": null,
   "id": "239cfa69-c12d-4569-9690-20cd756aee57",
   "metadata": {
    "tags": []
   },
   "outputs": [],
   "source": [
    "# Which variables are highly (>0.5) correlated with price?\n"
   ]
  },
  {
   "cell_type": "code",
   "execution_count": null,
   "id": "39de3bc2-38a1-4650-8a1e-17fa9284d761",
   "metadata": {
    "tags": []
   },
   "outputs": [],
   "source": []
  },
  {
   "cell_type": "code",
   "execution_count": null,
   "id": "40e73ed7-cd39-4ec7-9b0a-d2e7cd2efe78",
   "metadata": {
    "tags": []
   },
   "outputs": [],
   "source": [
    "correlated_data = \n",
    "correlated_data.head()"
   ]
  },
  {
   "cell_type": "code",
   "execution_count": null,
   "id": "1867638a-1416-40c1-a0a5-0ad8d83b1d54",
   "metadata": {
    "tags": []
   },
   "outputs": [],
   "source": [
    "# plot pair plots to display columns which are highly correlated with the price\n",
    "\n",
    "plt.tight_layout()"
   ]
  },
  {
   "cell_type": "markdown",
   "id": "63b335ee-3eba-40b3-84f9-e810cf052c1b",
   "metadata": {},
   "source": [
    "### Distributions of variables and boxplots"
   ]
  },
  {
   "cell_type": "code",
   "execution_count": null,
   "id": "672fb38a-f295-4691-8ac4-9606d947dab1",
   "metadata": {
    "tags": []
   },
   "outputs": [],
   "source": [
    "# distributions of data\n",
    "sns.boxplot(data)\n",
    "plt.show()"
   ]
  },
  {
   "cell_type": "code",
   "execution_count": null,
   "id": "1e8f9dd8-5857-46c2-ab72-58caf1ca78e4",
   "metadata": {
    "tags": []
   },
   "outputs": [],
   "source": [
    "# plot price vs CHAS\n",
    "sns.boxplot( x = 'CHAS',y = 'MEDV', data = data)\n",
    "plt.show()"
   ]
  },
  {
   "cell_type": "code",
   "execution_count": null,
   "id": "a5e38149",
   "metadata": {},
   "outputs": [],
   "source": []
  }
 ],
 "metadata": {
  "kernelspec": {
   "display_name": "Python 3 (ipykernel)",
   "language": "python",
   "name": "python3"
  },
  "language_info": {
   "codemirror_mode": {
    "name": "ipython",
    "version": 3
   },
   "file_extension": ".py",
   "mimetype": "text/x-python",
   "name": "python",
   "nbconvert_exporter": "python",
   "pygments_lexer": "ipython3",
   "version": "3.11.4"
  }
 },
 "nbformat": 4,
 "nbformat_minor": 5
}
