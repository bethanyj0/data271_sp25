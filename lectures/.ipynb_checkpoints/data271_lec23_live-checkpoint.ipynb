{
 "cells": [
  {
   "cell_type": "markdown",
   "id": "bd035d4a",
   "metadata": {},
   "source": [
    "# Advanced Plotting in Seaborn and how to use it in EDA"
   ]
  },
  {
   "cell_type": "code",
   "execution_count": null,
   "id": "178a1f79-c5e0-435e-9f54-0e9122bed67b",
   "metadata": {
    "tags": []
   },
   "outputs": [],
   "source": [
    "import numpy as np\n",
    "import pandas as pd\n",
    "import matplotlib.pyplot as plt\n",
    "import seaborn as sns\n",
    "import warnings\n",
    "warnings.filterwarnings('ignore')"
   ]
  },
  {
   "cell_type": "code",
   "execution_count": null,
   "id": "bc05aeb1-d621-45e2-b79e-9baa24eb8089",
   "metadata": {
    "tags": []
   },
   "outputs": [],
   "source": [
    "# import covid data\n",
    "covid = pd.read_csv('https://raw.githubusercontent.com/PacktPublishing/Python-Data-Cleaning-Cookbook/master/Chapter05/data/covidtotals.csv')"
   ]
  },
  {
   "cell_type": "markdown",
   "id": "1b9b5268-7b3e-4a4b-a202-a0fa4952cb7d",
   "metadata": {},
   "source": [
    "### Initial inspection"
   ]
  },
  {
   "cell_type": "code",
   "execution_count": null,
   "id": "d5a93f0a-8d23-4c7a-ba6d-096b33c7ad75",
   "metadata": {
    "tags": []
   },
   "outputs": [],
   "source": [
    "covid.head()"
   ]
  },
  {
   "cell_type": "code",
   "execution_count": null,
   "id": "bc2d11cf-99a8-4301-81ae-6a0525b38ca3",
   "metadata": {
    "tags": []
   },
   "outputs": [],
   "source": [
    "covid.shape"
   ]
  },
  {
   "cell_type": "code",
   "execution_count": null,
   "id": "c0b10697-ee47-4ed7-9f8c-a136dca4e791",
   "metadata": {
    "tags": []
   },
   "outputs": [],
   "source": [
    "covid.info()"
   ]
  },
  {
   "cell_type": "markdown",
   "id": "aec66a4e-00a8-4276-9e2f-5ce13ca60b75",
   "metadata": {},
   "source": [
    "`covid` is a DataFrame with with 209 rows. Each row represents a location (country). It contains the following columns: \n",
    "\n",
    "- iso_code - a unique 3 digit identifier for each country\n",
    "- lastdate - the date for when the report was last updated\n",
    "- location - full name of the country\n",
    "- total_cases - the cumulative number of confirmed COVID-19 cases in that location\n",
    "- total_deaths - the cumulative number of confirmed COVID-19 deaths in that location\n",
    "- total_cases_pm - the cumulative number of confirmed COVID-19 cases per million in that location\n",
    "- total_deaths_pm - the cumulative number of confirmed COVID-19 deaths per million in that location\n",
    "- population - population size\n",
    "- pop_density - number of people per square kilometer\n",
    "- median_age - median age of the population \n",
    "- gdp_per_capita - The GDP per capita (economic indicator of wealth per person)\n",
    "- hosp_beds - The number of hospital beds per 1,000 people (an indicator of healthcare capacity)\n",
    "- region - broader region "
   ]
  },
  {
   "cell_type": "markdown",
   "id": "d282927f-a6e7-49ee-aafb-8adbfff426a7",
   "metadata": {},
   "source": [
    "### Preprocessing"
   ]
  },
  {
   "cell_type": "code",
   "execution_count": null,
   "id": "506f587c-82f3-49a1-ad52-4cddbedf5bbd",
   "metadata": {
    "tags": []
   },
   "outputs": [],
   "source": [
    "# Check for na values\n",
    "covid.isna()"
   ]
  },
  {
   "cell_type": "code",
   "execution_count": null,
   "id": "e5adea73-2ee4-44da-8222-d219e66e619a",
   "metadata": {
    "tags": []
   },
   "outputs": [],
   "source": [
    "# Summarize number of na's by column\n",
    "nas = covid.isna().sum()\n",
    "nas"
   ]
  },
  {
   "cell_type": "code",
   "execution_count": null,
   "id": "0e0de03a-04e4-4c09-ba76-bd493688f94e",
   "metadata": {
    "tags": []
   },
   "outputs": [],
   "source": [
    "# drop columns with na values\n",
    "covid.dropna(axis=1)"
   ]
  },
  {
   "cell_type": "code",
   "execution_count": null,
   "id": "7864ca69-0de2-42f9-8cd4-62ac791aee3e",
   "metadata": {
    "tags": []
   },
   "outputs": [],
   "source": [
    "covid.shape"
   ]
  },
  {
   "cell_type": "code",
   "execution_count": null,
   "id": "d68e1919-6614-446a-b2e1-b42925f51d59",
   "metadata": {
    "tags": []
   },
   "outputs": [],
   "source": [
    "# drop rows with na values\n",
    "covid.dropna(axis=0,inplace=True)"
   ]
  },
  {
   "cell_type": "code",
   "execution_count": null,
   "id": "941fbccc-f8b0-4a5d-9587-1b505ea941a0",
   "metadata": {
    "tags": []
   },
   "outputs": [],
   "source": [
    "covid.shape"
   ]
  },
  {
   "cell_type": "code",
   "execution_count": null,
   "id": "e4a5536d-ce25-47e6-bf9c-1abc40c816e8",
   "metadata": {
    "tags": []
   },
   "outputs": [],
   "source": [
    "# check if there are any duplicate rows\n",
    "covid.duplicated().sum()"
   ]
  },
  {
   "cell_type": "code",
   "execution_count": null,
   "id": "79bb2457-4d00-4fa9-b413-f84743036850",
   "metadata": {
    "tags": []
   },
   "outputs": [],
   "source": [
    "# check the data types to make sure they are appropriate\n",
    "covid.dtypes"
   ]
  },
  {
   "cell_type": "code",
   "execution_count": null,
   "id": "46b1d0ee-90d0-4498-a2e8-eea4f5d2e486",
   "metadata": {
    "tags": []
   },
   "outputs": [],
   "source": [
    "covid['lastdate'] = pd.to_datetime(covid['lastdate'])\n",
    "covid.dtypes"
   ]
  },
  {
   "cell_type": "markdown",
   "id": "1e70b7da-9bc5-48aa-8746-f43132640bc8",
   "metadata": {},
   "source": [
    "### Summary statistics and Exploration"
   ]
  },
  {
   "cell_type": "code",
   "execution_count": null,
   "id": "98483f1a-13de-41e0-900c-3ee8667f7c35",
   "metadata": {
    "tags": []
   },
   "outputs": [],
   "source": [
    "# begin exploring the dataset\n",
    "covid_desc = covid.describe()\n",
    "covid_desc"
   ]
  },
  {
   "cell_type": "code",
   "execution_count": null,
   "id": "20a073e9-6e12-4db3-9917-e947469dee10",
   "metadata": {
    "tags": []
   },
   "outputs": [],
   "source": [
    "# What is the average death rate by region?\n",
    "covid.groupby('region')['total_deaths_pm'].mean()"
   ]
  },
  {
   "cell_type": "code",
   "execution_count": null,
   "id": "cd9ab14f-c306-4c42-ad28-d4f6292f08cb",
   "metadata": {
    "tags": []
   },
   "outputs": [],
   "source": [
    "# Which country has the highest death counts\n",
    "covid.loc[covid.total_deaths.idxmax(),'location']"
   ]
  },
  {
   "cell_type": "code",
   "execution_count": null,
   "id": "d84056f9-7c64-4367-8b95-c4ab63002838",
   "metadata": {
    "tags": []
   },
   "outputs": [],
   "source": [
    "# Which country has the highest death rate\n",
    "covid.loc[covid.total_deaths_pm.idxmax(),'location']"
   ]
  },
  {
   "cell_type": "markdown",
   "id": "7d0f7325-53ba-4803-b0f3-016c12719d30",
   "metadata": {},
   "source": [
    "# Visualization"
   ]
  },
  {
   "cell_type": "code",
   "execution_count": null,
   "id": "2be002e5-3549-4319-b121-a555a8e68d40",
   "metadata": {
    "tags": []
   },
   "outputs": [],
   "source": [
    "# heatmaps to look at correlations\n",
    "corrmatc = covid.corr(numeric_only = True) # make correlation matrix\n",
    "sns.heatmap(data = corrmatc, annot = True);"
   ]
  },
  {
   "cell_type": "markdown",
   "id": "00663828-a815-444f-ba0c-f233adcddae8",
   "metadata": {},
   "source": [
    "The median age and gdp per capita are correlated with deaths per million. This is interesting. "
   ]
  },
  {
   "cell_type": "code",
   "execution_count": null,
   "id": "fb9d99a9-8b11-41e0-81ce-493b3d23ed49",
   "metadata": {
    "tags": []
   },
   "outputs": [],
   "source": [
    "# Let's look at the relationship with gdp\n"
   ]
  },
  {
   "cell_type": "code",
   "execution_count": null,
   "id": "8aebf566-64fa-4cd2-8c91-c801cd86c345",
   "metadata": {
    "tags": []
   },
   "outputs": [],
   "source": [
    "# Where would the regression line be?\n",
    "sns...(data = covid, x = 'gdp_per_capita',y = 'total_deaths_pm');"
   ]
  },
  {
   "cell_type": "code",
   "execution_count": null,
   "id": "ddd3c63a-99ef-4fc8-831d-4e67b275e13c",
   "metadata": {
    "tags": []
   },
   "outputs": [],
   "source": [
    "# Look at the relationships and distributions together\n",
    "sns...(data = covid, x = 'gdp_per_capita',y = 'total_deaths_pm');"
   ]
  },
  {
   "cell_type": "code",
   "execution_count": null,
   "id": "0106fb49-5efb-461e-ada4-92a545dff099",
   "metadata": {
    "scrolled": true,
    "tags": []
   },
   "outputs": [],
   "source": [
    "# boxplots to look at deaths by region\n",
    "plt.figure(figsize=(4,6))\n",
    "\n",
    "plt.show()"
   ]
  },
  {
   "cell_type": "markdown",
   "id": "01270885-acfc-4527-98fb-306198a36ace",
   "metadata": {},
   "source": [
    "There are a few regions we might want to zoom in on..."
   ]
  },
  {
   "cell_type": "code",
   "execution_count": null,
   "id": "7aaa7130-0b02-466d-abba-479f3c7a6981",
   "metadata": {
    "tags": []
   },
   "outputs": [],
   "source": [
    "high_covid_regions = ...\n",
    "high_covid_regions.head()"
   ]
  },
  {
   "cell_type": "code",
   "execution_count": null,
   "id": "b708d16a-7d1b-4860-9251-169777bc20cd",
   "metadata": {
    "tags": []
   },
   "outputs": [],
   "source": [
    "# Let's redo the boxplot with these points\n",
    "sns.boxplot(data = ..., y = 'region',x='total_deaths_pm');"
   ]
  },
  {
   "cell_type": "code",
   "execution_count": null,
   "id": "a3d096bf-8599-449f-bc7f-51f25ced5b44",
   "metadata": {
    "tags": []
   },
   "outputs": [],
   "source": [
    "# To get more information about the distributions\n",
    "sns...(data = high_covid_regions, y = 'region',x='total_deaths_pm');"
   ]
  },
  {
   "cell_type": "code",
   "execution_count": null,
   "id": "c84dc166-8dec-498e-8876-90004358ce09",
   "metadata": {
    "tags": []
   },
   "outputs": [],
   "source": [
    "# Show all the points in the distributions with a swarm plot\n",
    "sns...(data = high_covid_regions, y = 'region',x='total_deaths_pm');"
   ]
  },
  {
   "cell_type": "code",
   "execution_count": null,
   "id": "f8a71141-2729-4015-9c22-cabe77888309",
   "metadata": {
    "tags": []
   },
   "outputs": [],
   "source": [
    "# Notice a swarm plot is different from a scatter plot\n",
    "sns...(data = high_covid_regions, y = 'region',x='total_deaths_pm');"
   ]
  },
  {
   "cell_type": "code",
   "execution_count": null,
   "id": "f9258302-1040-46ea-a1d5-60da7bca2d6e",
   "metadata": {
    "tags": []
   },
   "outputs": [],
   "source": [
    "# Another way to compare categories (best if this is an ordinal variable)\n",
    "sns...(data = high_covid_regions, x = 'region',y='total_deaths_pm');"
   ]
  },
  {
   "cell_type": "code",
   "execution_count": null,
   "id": "0b755f1d-d2ec-4baf-863a-3f61d5be87af",
   "metadata": {
    "tags": []
   },
   "outputs": [],
   "source": [
    "# Let's look at that gdp relationship again\n",
    "sns.jointplot(data = high_covid_regions, x = 'gdp_per_capita',y = 'total_deaths_pm', hue = 'region');\n",
    "plt.xlim([0,120000]);\n",
    "plt.ylim([-20,1000]);"
   ]
  },
  {
   "cell_type": "markdown",
   "id": "d042c4be-8e25-48cc-9a50-73e4be508f07",
   "metadata": {},
   "source": [
    "South America has almost a bimodal distribution"
   ]
  },
  {
   "cell_type": "code",
   "execution_count": null,
   "id": "5b718600-1f73-4ae4-b2fd-8025a7312489",
   "metadata": {
    "tags": []
   },
   "outputs": [],
   "source": [
    "# Focus on these distributions more (messy!)\n",
    "sns...(high_covid_regions, x = 'total_deaths_pm', hue = 'region');"
   ]
  },
  {
   "cell_type": "code",
   "execution_count": null,
   "id": "61e4ca65-0558-47c5-8d1a-f64c030009ee",
   "metadata": {
    "tags": []
   },
   "outputs": [],
   "source": [
    "# Better\n",
    "sns...(high_covid_regions, x = 'total_deaths_pm', hue = 'region', fill=True);"
   ]
  },
  {
   "cell_type": "code",
   "execution_count": null,
   "id": "8ab0485b-d56f-44a1-8b76-6b5d40c8e620",
   "metadata": {
    "tags": []
   },
   "outputs": [],
   "source": [
    "# Even better  (but watch out for scales)\n",
    "g = sns.FacetGrid(high_covid_regions, col=\"region\", hue = 'region')\n",
    "g.map(sns.kdeplot, \"total_deaths_pm\", fill = True)\n",
    "plt.tight_layout();"
   ]
  },
  {
   "cell_type": "code",
   "execution_count": null,
   "id": "f32d716e-9602-4dc3-81ca-87f908205ebe",
   "metadata": {
    "tags": []
   },
   "outputs": [],
   "source": [
    "# Displot makes facetting easier\n",
    "sns.displot(data = high_covid_regions, x = 'total_deaths_pm', hue = 'region', kind='kde', fill=True, col = 'region');"
   ]
  },
  {
   "cell_type": "code",
   "execution_count": null,
   "id": "a59b62af-3f53-4a91-ae43-b3de65dbb0d7",
   "metadata": {
    "tags": []
   },
   "outputs": [],
   "source": [
    "# Relplot makes facetting easier when looking at relationships\n",
    "sns.relplot(data = high_covid_regions, \n",
    "            x = 'total_deaths_pm', \n",
    "            y = 'total_cases_pm', \n",
    "            col = 'region', \n",
    "            kind='scatter');"
   ]
  },
  {
   "cell_type": "code",
   "execution_count": null,
   "id": "bac7ec72-4b77-454c-acbe-8d6b5665d217",
   "metadata": {
    "tags": []
   },
   "outputs": [],
   "source": [
    "na = covid.loc[covid.region == 'North America', :]\n",
    "na"
   ]
  },
  {
   "cell_type": "code",
   "execution_count": null,
   "id": "cfabd149-edc0-412f-b27a-b60eecc8cfe8",
   "metadata": {
    "tags": []
   },
   "outputs": [],
   "source": [
    "# A teaser for interactive plots\n",
    "\n",
    "import plotly.express as px\n",
    "\n",
    "\n",
    "fig = px.scatter(covid, x = 'gdp_per_capita', y = 'total_deaths_pm', hover_name='location')\n",
    "# Set figure size\n",
    "fig.update_layout(width=600, height=600)"
   ]
  },
  {
   "cell_type": "markdown",
   "id": "80893930",
   "metadata": {},
   "source": [
    "## Group Activity: Using plotting methods in an EDA: Titanic Data"
   ]
  },
  {
   "cell_type": "code",
   "execution_count": null,
   "id": "5a3684ab",
   "metadata": {},
   "outputs": [],
   "source": [
    "# set defined plot sizes and styles\n",
    "plt.rcParams['figure.figsize'] = [6,3] # figures will be 6 units in length 3 units in height\n",
    "plt.rcParams['figure.dpi'] = 80 # default is 72 in webpages, we wish to see in higher resolution"
   ]
  },
  {
   "cell_type": "code",
   "execution_count": null,
   "id": "a7316748",
   "metadata": {},
   "outputs": [],
   "source": [
    "# titanic data set is part of Seaborn\n",
    "titanic = sns.load_dataset('titanic')"
   ]
  },
  {
   "cell_type": "code",
   "execution_count": null,
   "id": "7dc6a4db",
   "metadata": {},
   "outputs": [],
   "source": [
    "# look at the first few lines\n",
    "titanic.head()"
   ]
  },
  {
   "cell_type": "code",
   "execution_count": null,
   "id": "02b91b3d",
   "metadata": {},
   "outputs": [],
   "source": [
    "# describe will only represent the numerical columns-- for example, sex, class, embark town, etc. are not included\n",
    "titanic.describe()"
   ]
  },
  {
   "cell_type": "code",
   "execution_count": null,
   "id": "66011004",
   "metadata": {},
   "outputs": [],
   "source": [
    "titanic.info()"
   ]
  },
  {
   "cell_type": "markdown",
   "id": "378c4194",
   "metadata": {},
   "source": [
    "### Task: \n",
    "Use a heatmap to visualize the null values in the dataset. "
   ]
  },
  {
   "cell_type": "code",
   "execution_count": null,
   "id": "c56b4b89",
   "metadata": {},
   "outputs": [],
   "source": [
    "plt.style.use('ggplot')"
   ]
  },
  {
   "cell_type": "code",
   "execution_count": null,
   "id": "946c0596",
   "metadata": {},
   "outputs": [],
   "source": []
  },
  {
   "cell_type": "code",
   "execution_count": null,
   "id": "1d17dee0",
   "metadata": {},
   "outputs": [],
   "source": []
  },
  {
   "cell_type": "markdown",
   "id": "5f5b58f7",
   "metadata": {},
   "source": [
    "### Discussion Question: \n",
    "What do you notice about the heatmap? What information does it show. What information does it not show?"
   ]
  },
  {
   "cell_type": "markdown",
   "id": "ef04ed57",
   "metadata": {},
   "source": [
    "### Task\n",
    "Use a heatmap to visualize the correlation in the data. "
   ]
  },
  {
   "cell_type": "code",
   "execution_count": null,
   "id": "deda2ba0",
   "metadata": {},
   "outputs": [],
   "source": []
  },
  {
   "cell_type": "code",
   "execution_count": null,
   "id": "a2a60d5c",
   "metadata": {
    "scrolled": true
   },
   "outputs": [],
   "source": []
  },
  {
   "cell_type": "markdown",
   "id": "ec3504e8",
   "metadata": {},
   "source": [
    "### Discussion question\n",
    "Looking at the `survived` column, what do you notice. Anything else you notice about the heatmap overall?"
   ]
  },
  {
   "cell_type": "markdown",
   "id": "2e6448f2",
   "metadata": {},
   "source": [
    "## Task \n",
    "Create subplots to show the count of each category for the variables `survived`, `pclass`, `sex`, `sibsp`, `parch`, `embark_town`, and `alone`. "
   ]
  },
  {
   "cell_type": "code",
   "execution_count": null,
   "id": "bf85ad9c",
   "metadata": {},
   "outputs": [],
   "source": []
  },
  {
   "cell_type": "markdown",
   "id": "aa4e95ff",
   "metadata": {},
   "source": [
    "### Discussion Question\n",
    "What observations can you make from the plots you created?"
   ]
  }
 ],
 "metadata": {
  "kernelspec": {
   "display_name": "Python 3 (ipykernel)",
   "language": "python",
   "name": "python3"
  },
  "language_info": {
   "codemirror_mode": {
    "name": "ipython",
    "version": 3
   },
   "file_extension": ".py",
   "mimetype": "text/x-python",
   "name": "python",
   "nbconvert_exporter": "python",
   "pygments_lexer": "ipython3",
   "version": "3.11.4"
  }
 },
 "nbformat": 4,
 "nbformat_minor": 5
}
