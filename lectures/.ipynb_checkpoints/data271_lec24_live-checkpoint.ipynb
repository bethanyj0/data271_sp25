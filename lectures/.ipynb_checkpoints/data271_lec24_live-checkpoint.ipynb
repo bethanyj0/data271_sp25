{
 "cells": [
  {
   "cell_type": "markdown",
   "id": "bd035d4a",
   "metadata": {},
   "source": [
    "# Preparing Data: Adding Columns"
   ]
  },
  {
   "cell_type": "code",
   "execution_count": 2,
   "id": "26e99e3b",
   "metadata": {},
   "outputs": [],
   "source": [
    "import numpy as np\n",
    "import pandas as pd\n",
    "import matplotlib.pyplot as plt\n",
    "import sklearn\n",
    "import seaborn as sns\n",
    "import re\n",
    "sns.set_style(\"darkgrid\")\n",
    "import warnings \n",
    "warnings.filterwarnings('ignore') "
   ]
  },
  {
   "cell_type": "markdown",
   "id": "51d3b736",
   "metadata": {},
   "source": [
    "## Adding independent columns"
   ]
  },
  {
   "cell_type": "markdown",
   "id": "b1333f8b",
   "metadata": {},
   "source": [
    "### Method 1: Add to the end"
   ]
  },
  {
   "cell_type": "code",
   "execution_count": null,
   "id": "c1cda193",
   "metadata": {},
   "outputs": [],
   "source": [
    "# Creating animals dataframe\n",
    "animals_dct = {\n",
    "    'Animal': ['cow', 'kitten', 'penguin', 'Puppy'],\n",
    "    'Sound': ['moo', 'purr', 'chirp', 'bark'],\n",
    "}\n",
    "\n",
    "animals = pd.DataFrame(animals_dct)\n",
    "animals"
   ]
  },
  {
   "cell_type": "code",
   "execution_count": null,
   "id": "7943261b",
   "metadata": {},
   "outputs": [],
   "source": [
    "# add a column on the right (broadcasting)\n",
    "\n",
    "animals"
   ]
  },
  {
   "cell_type": "code",
   "execution_count": null,
   "id": "9df70041",
   "metadata": {},
   "outputs": [],
   "source": [
    "# add a column on the right (list)\n",
    "animals = pd.DataFrame(animals_dct)\n",
    "\n",
    "animals"
   ]
  },
  {
   "cell_type": "markdown",
   "id": "9ec70798",
   "metadata": {},
   "source": [
    "### Method 2: Insert the column in specific position"
   ]
  },
  {
   "cell_type": "code",
   "execution_count": null,
   "id": "565aa5a5",
   "metadata": {},
   "outputs": [],
   "source": [
    "# Insert at a specific position with .insert(i, column, value)\n",
    "animals = pd.DataFrame(animals_dct)\n",
    "\n",
    "animals"
   ]
  },
  {
   "cell_type": "code",
   "execution_count": null,
   "id": "38a3733d",
   "metadata": {},
   "outputs": [],
   "source": [
    "# or do it with a list\n",
    "animals = pd.DataFrame(animals_dct)\n",
    "\n",
    "animals"
   ]
  },
  {
   "cell_type": "markdown",
   "id": "67247ee7",
   "metadata": {},
   "source": [
    "### Method 3: Add more than 1 column at once"
   ]
  },
  {
   "cell_type": "code",
   "execution_count": null,
   "id": "b2db0a68",
   "metadata": {},
   "outputs": [],
   "source": [
    "# create two columns at once\n"
   ]
  },
  {
   "cell_type": "code",
   "execution_count": null,
   "id": "2f1ec1c3",
   "metadata": {},
   "outputs": [],
   "source": [
    "animals"
   ]
  },
  {
   "cell_type": "markdown",
   "id": "b54588c1",
   "metadata": {},
   "source": [
    "## Adding columns based on other columns"
   ]
  },
  {
   "cell_type": "code",
   "execution_count": null,
   "id": "83a080cb",
   "metadata": {},
   "outputs": [],
   "source": [
    "# Making a bool column based on condition\n",
    "\n",
    "animals.head()"
   ]
  },
  {
   "cell_type": "code",
   "execution_count": null,
   "id": "ac456b59",
   "metadata": {},
   "outputs": [],
   "source": [
    "# Making a categorical column based on another categorical column with map\n",
    "\n",
    "animals.head()"
   ]
  },
  {
   "cell_type": "code",
   "execution_count": null,
   "id": "25f7a092",
   "metadata": {},
   "outputs": [],
   "source": [
    "# applying a function to everything in another column\n",
    "\n",
    "animals.head()"
   ]
  },
  {
   "cell_type": "code",
   "execution_count": null,
   "id": "37f959bd",
   "metadata": {
    "scrolled": true
   },
   "outputs": [],
   "source": [
    "# Creating new columns with element-wise arithmetic\n",
    "\n",
    "animals.head()"
   ]
  },
  {
   "cell_type": "code",
   "execution_count": null,
   "id": "2d6bb8ff",
   "metadata": {},
   "outputs": [],
   "source": [
    "# With string methods\n",
    "\n",
    "animals.head()"
   ]
  },
  {
   "cell_type": "code",
   "execution_count": null,
   "id": "05df9024",
   "metadata": {},
   "outputs": [],
   "source": [
    "# With list comprehension\n",
    "\n",
    "animals.head()"
   ]
  },
  {
   "cell_type": "markdown",
   "id": "98538749-9adf-4922-98bf-57b69c64e09b",
   "metadata": {},
   "source": [
    "## Activity"
   ]
  },
  {
   "cell_type": "markdown",
   "id": "d72d7e3c-75dc-4740-9f94-5ed283bac96b",
   "metadata": {},
   "source": [
    "Let's look at the Titanic dataset from the Seaborn library."
   ]
  },
  {
   "cell_type": "code",
   "execution_count": null,
   "id": "3559703f-b1dd-47d7-a755-2969cb602ae6",
   "metadata": {},
   "outputs": [],
   "source": [
    "# load titanic data \n",
    "titanic_seaborn = sns.load_dataset('titanic')\n",
    "titanic_seaborn.head()"
   ]
  },
  {
   "cell_type": "markdown",
   "id": "7bc30c35-8779-410c-a555-3be1ad7c53ba",
   "metadata": {},
   "source": [
    "The titanic dataset is available in Seaborn, but it originally came from [this](https://www.kaggle.com/c/titanic/data) Kaggle source."
   ]
  },
  {
   "cell_type": "code",
   "execution_count": null,
   "id": "bdc8838a-bec2-4057-b403-109018bd58d9",
   "metadata": {
    "tags": []
   },
   "outputs": [],
   "source": [
    "titanic_kaggle = pd.read_csv('titanic.csv')\n",
    "titanic_kaggle.head()"
   ]
  },
  {
   "cell_type": "markdown",
   "id": "03c75fe5-75d6-4399-9e6f-8fb85ef77f9f",
   "metadata": {},
   "source": [
    "Notice that some of the columns in the Seaborn version of this dataset are not included in the Kaggle version. This is because the Seaborn creators added columns to make the data more interpretable and to make further analysis easier. We will replicate this process, then do a short EDA."
   ]
  },
  {
   "cell_type": "markdown",
   "id": "6e0cf0ab-7dd8-4cd4-943f-27c1b73f5b21",
   "metadata": {},
   "source": [
    "**Activity 1:** In the `titanic_kaggle` dataframe, create a new column called `alive` based on the `survived` column. It should be \"no\" when `survived` is 0, and \"yes\" when `survived` is 1. Your goal is to make it match the `alive` column in the `titanic_seaborn` dataframe, which was added by the Seaborn creators. "
   ]
  },
  {
   "cell_type": "code",
   "execution_count": null,
   "id": "68a05554-b83e-40bf-885d-354ee6ceff29",
   "metadata": {},
   "outputs": [],
   "source": []
  },
  {
   "cell_type": "code",
   "execution_count": null,
   "id": "84d4442c-d427-4b45-9b38-f9b7d02faaf9",
   "metadata": {},
   "outputs": [],
   "source": [
    "# run this to check your work\n",
    "(titanic_kaggle['alive'] == titanic_seaborn['alive']).all()"
   ]
  },
  {
   "cell_type": "markdown",
   "id": "3568bc36-4798-445b-b112-858a8807ac85",
   "metadata": {},
   "source": [
    "**Activity 2:** In the `titanic_kaggle` dataframe, create a new column called `alone` based on the `sibsp` and `parch` columns. It should be False if the passenger had any family members on board, True otherwise. Your goal is to make it match the `alone` column in `titanic_seaborn`, which was added by the Seaborn creators. "
   ]
  },
  {
   "cell_type": "code",
   "execution_count": null,
   "id": "4f5d83a3-b2e0-4ad9-aeca-68cf01ed0a16",
   "metadata": {},
   "outputs": [],
   "source": []
  },
  {
   "cell_type": "code",
   "execution_count": null,
   "id": "730bbf8a-36fe-4382-b2db-1855c9733192",
   "metadata": {},
   "outputs": [],
   "source": [
    "# run this to check your work\n",
    "(titanic_kaggle['alone'] == titanic_seaborn['alone']).all()"
   ]
  },
  {
   "cell_type": "markdown",
   "id": "e987e792-b4c2-4a6b-a40a-afc5ef2e41c7",
   "metadata": {},
   "source": [
    "**Activity 3:** In the `titanic_kaggle` dataframe, create a new column called `who` based on the original `sex` and `age` columns. If the passenger is under 16, they should be labelled as \"child\", if they are over 16 and are `sex` \"male\" they should be labelled \"man\", and if they are over 16 and are `sex` \"female\" they should be labelled \"woman.\" Your goal is to make it match the `who` column in `titanic_seaborn` which was added by the Seaborn creators. \n",
    "\n",
    "*HINT*: You might find it helpful to split this one up and solve in multiple lines of code. "
   ]
  },
  {
   "cell_type": "code",
   "execution_count": null,
   "id": "ea6aba80-5358-423f-8879-459d66aca91f",
   "metadata": {},
   "outputs": [],
   "source": []
  },
  {
   "cell_type": "code",
   "execution_count": null,
   "id": "93905975-f82d-41c9-95c9-9b77f39a41d9",
   "metadata": {},
   "outputs": [],
   "source": [
    "# run this to check your work\n",
    "(titanic_kaggle['who'] == titanic_seaborn['who']).all()"
   ]
  },
  {
   "cell_type": "markdown",
   "id": "60cb5fe2-566e-4e62-b8f1-2e4030721cf3",
   "metadata": {},
   "source": [
    "**Activity 4:** Use Pandas methods or visualization to determine the number of passengers that survived and the number of passengers that didn't in each class. "
   ]
  },
  {
   "cell_type": "code",
   "execution_count": null,
   "id": "70b50c51-3939-4b6f-ab25-25be757f254f",
   "metadata": {},
   "outputs": [],
   "source": []
  },
  {
   "cell_type": "markdown",
   "id": "03b00fee-6fd4-4dcb-9c75-68dea092418c",
   "metadata": {},
   "source": [
    "**Activity 5:** Survival by class and sex: Create a plot that shows the number of passengers that survived and the number of passengers that didn't in each pclass, facetted by sex."
   ]
  },
  {
   "cell_type": "code",
   "execution_count": null,
   "id": "4c953579-e569-470c-a5ad-8693efc6c2f1",
   "metadata": {},
   "outputs": [],
   "source": []
  },
  {
   "cell_type": "markdown",
   "id": "96429086-6abc-4661-972c-d2f19f150f47",
   "metadata": {},
   "source": [
    "**Activity 6:** Create a visualization that will help you determine how the median age of inviduals who survived compares to the median age of individuals who did not survive. What plot would also help you compare the age distributions between those who survived and those who didn't?"
   ]
  },
  {
   "cell_type": "code",
   "execution_count": null,
   "id": "8c031ef4-ae83-4a5d-85d1-59baf51080a5",
   "metadata": {},
   "outputs": [],
   "source": []
  },
  {
   "cell_type": "markdown",
   "id": "89dc55f1-9518-49ff-80e7-64b03248d63d",
   "metadata": {},
   "source": [
    "### Code for Discussion Questions"
   ]
  },
  {
   "cell_type": "code",
   "execution_count": 3,
   "id": "c4c32ed4-7649-431f-98d2-a9b3cf35db97",
   "metadata": {},
   "outputs": [
    {
     "data": {
      "text/html": [
       "<div>\n",
       "<style scoped>\n",
       "    .dataframe tbody tr th:only-of-type {\n",
       "        vertical-align: middle;\n",
       "    }\n",
       "\n",
       "    .dataframe tbody tr th {\n",
       "        vertical-align: top;\n",
       "    }\n",
       "\n",
       "    .dataframe thead th {\n",
       "        text-align: right;\n",
       "    }\n",
       "</style>\n",
       "<table border=\"1\" class=\"dataframe\">\n",
       "  <thead>\n",
       "    <tr style=\"text-align: right;\">\n",
       "      <th></th>\n",
       "      <th>Flight_Date</th>\n",
       "      <th>Airline_Name</th>\n",
       "      <th>Origin_City</th>\n",
       "      <th>Destination_City</th>\n",
       "      <th>Scheduled_Departure_Time</th>\n",
       "      <th>Actual_Departure_Time</th>\n",
       "      <th>Departure_Delay_Minutes</th>\n",
       "      <th>Scheduled_Arrival_Time</th>\n",
       "      <th>Actual_Arrival_Time</th>\n",
       "      <th>Arrival_Delay_Minutes</th>\n",
       "      <th>Cancelled_Flag</th>\n",
       "      <th>Cancellation_Code</th>\n",
       "      <th>Diverted_Flag</th>\n",
       "      <th>Scheduled_Elapsed_Time_Minutes</th>\n",
       "      <th>Actual_Elapsed_Time_Minutes</th>\n",
       "      <th>Carrier_Delay_HH_MM</th>\n",
       "      <th>Weather_Delay_HH_MM</th>\n",
       "      <th>NAS_Delay_HH_MM</th>\n",
       "      <th>Security_Delay_HH_MM</th>\n",
       "      <th>Late_Aircraft_Delay_HH_MM</th>\n",
       "    </tr>\n",
       "  </thead>\n",
       "  <tbody>\n",
       "    <tr>\n",
       "      <th>0</th>\n",
       "      <td>2019-12-03</td>\n",
       "      <td>JetBlue Airways</td>\n",
       "      <td>Fort Lauderdale, FL</td>\n",
       "      <td>Boston, MA</td>\n",
       "      <td>06:10</td>\n",
       "      <td>06:03</td>\n",
       "      <td>-7.0</td>\n",
       "      <td>09:14</td>\n",
       "      <td>10:18</td>\n",
       "      <td>64.0</td>\n",
       "      <td>Not Cancelled</td>\n",
       "      <td>Not Cancelled</td>\n",
       "      <td>Not Diverted</td>\n",
       "      <td>184.0</td>\n",
       "      <td>255.0</td>\n",
       "      <td>26:04</td>\n",
       "      <td>04:44</td>\n",
       "      <td>01:04</td>\n",
       "      <td>01:38</td>\n",
       "      <td>03:37</td>\n",
       "    </tr>\n",
       "    <tr>\n",
       "      <th>1</th>\n",
       "      <td>2019-01-26</td>\n",
       "      <td>American Airlines Inc.</td>\n",
       "      <td>Las Vegas, NV</td>\n",
       "      <td>Miami, FL</td>\n",
       "      <td>12:38</td>\n",
       "      <td>12:32</td>\n",
       "      <td>-6.0</td>\n",
       "      <td>20:20</td>\n",
       "      <td>20:15</td>\n",
       "      <td>-5.0</td>\n",
       "      <td>Not Cancelled</td>\n",
       "      <td>Not Cancelled</td>\n",
       "      <td>Not Diverted</td>\n",
       "      <td>282.0</td>\n",
       "      <td>283.0</td>\n",
       "      <td>30:38</td>\n",
       "      <td>14:28</td>\n",
       "      <td>02:50</td>\n",
       "      <td>04:39</td>\n",
       "      <td>08:23</td>\n",
       "    </tr>\n",
       "    <tr>\n",
       "      <th>2</th>\n",
       "      <td>2023-08-25</td>\n",
       "      <td>Alaska Airlines Inc.</td>\n",
       "      <td>Seattle, WA</td>\n",
       "      <td>Pittsburgh, PA</td>\n",
       "      <td>09:35</td>\n",
       "      <td>09:27</td>\n",
       "      <td>-8.0</td>\n",
       "      <td>17:14</td>\n",
       "      <td>16:51</td>\n",
       "      <td>-23.0</td>\n",
       "      <td>Not Cancelled</td>\n",
       "      <td>Not Cancelled</td>\n",
       "      <td>Not Diverted</td>\n",
       "      <td>279.0</td>\n",
       "      <td>264.0</td>\n",
       "      <td>08:27</td>\n",
       "      <td>16:37</td>\n",
       "      <td>03:22</td>\n",
       "      <td>04:52</td>\n",
       "      <td>01:49</td>\n",
       "    </tr>\n",
       "    <tr>\n",
       "      <th>3</th>\n",
       "      <td>2021-10-24</td>\n",
       "      <td>Endeavor Air Inc.</td>\n",
       "      <td>New York, NY</td>\n",
       "      <td>Richmond, VA</td>\n",
       "      <td>12:43</td>\n",
       "      <td>12:33</td>\n",
       "      <td>-10.0</td>\n",
       "      <td>14:10</td>\n",
       "      <td>13:51</td>\n",
       "      <td>-19.0</td>\n",
       "      <td>Not Cancelled</td>\n",
       "      <td>Not Cancelled</td>\n",
       "      <td>Not Diverted</td>\n",
       "      <td>87.0</td>\n",
       "      <td>78.0</td>\n",
       "      <td>44:52</td>\n",
       "      <td>04:48</td>\n",
       "      <td>04:39</td>\n",
       "      <td>02:49</td>\n",
       "      <td>10:38</td>\n",
       "    </tr>\n",
       "    <tr>\n",
       "      <th>4</th>\n",
       "      <td>2023-02-14</td>\n",
       "      <td>Alaska Airlines Inc.</td>\n",
       "      <td>Los Angeles, CA</td>\n",
       "      <td>Seattle, WA</td>\n",
       "      <td>10:50</td>\n",
       "      <td>12:31</td>\n",
       "      <td>101.0</td>\n",
       "      <td>13:48</td>\n",
       "      <td>16:08</td>\n",
       "      <td>140.0</td>\n",
       "      <td>Not Cancelled</td>\n",
       "      <td>Not Cancelled</td>\n",
       "      <td>Not Diverted</td>\n",
       "      <td>178.0</td>\n",
       "      <td>217.0</td>\n",
       "      <td>28:40</td>\n",
       "      <td>21:38</td>\n",
       "      <td>00:39</td>\n",
       "      <td>04:13</td>\n",
       "      <td>01:41</td>\n",
       "    </tr>\n",
       "  </tbody>\n",
       "</table>\n",
       "</div>"
      ],
      "text/plain": [
       "  Flight_Date            Airline_Name          Origin_City Destination_City  \\\n",
       "0  2019-12-03         JetBlue Airways  Fort Lauderdale, FL       Boston, MA   \n",
       "1  2019-01-26  American Airlines Inc.        Las Vegas, NV        Miami, FL   \n",
       "2  2023-08-25    Alaska Airlines Inc.          Seattle, WA   Pittsburgh, PA   \n",
       "3  2021-10-24       Endeavor Air Inc.         New York, NY     Richmond, VA   \n",
       "4  2023-02-14    Alaska Airlines Inc.      Los Angeles, CA      Seattle, WA   \n",
       "\n",
       "  Scheduled_Departure_Time Actual_Departure_Time  Departure_Delay_Minutes  \\\n",
       "0                    06:10                 06:03                     -7.0   \n",
       "1                    12:38                 12:32                     -6.0   \n",
       "2                    09:35                 09:27                     -8.0   \n",
       "3                    12:43                 12:33                    -10.0   \n",
       "4                    10:50                 12:31                    101.0   \n",
       "\n",
       "  Scheduled_Arrival_Time Actual_Arrival_Time  Arrival_Delay_Minutes  \\\n",
       "0                  09:14               10:18                   64.0   \n",
       "1                  20:20               20:15                   -5.0   \n",
       "2                  17:14               16:51                  -23.0   \n",
       "3                  14:10               13:51                  -19.0   \n",
       "4                  13:48               16:08                  140.0   \n",
       "\n",
       "  Cancelled_Flag Cancellation_Code Diverted_Flag  \\\n",
       "0  Not Cancelled     Not Cancelled  Not Diverted   \n",
       "1  Not Cancelled     Not Cancelled  Not Diverted   \n",
       "2  Not Cancelled     Not Cancelled  Not Diverted   \n",
       "3  Not Cancelled     Not Cancelled  Not Diverted   \n",
       "4  Not Cancelled     Not Cancelled  Not Diverted   \n",
       "\n",
       "   Scheduled_Elapsed_Time_Minutes  Actual_Elapsed_Time_Minutes  \\\n",
       "0                           184.0                        255.0   \n",
       "1                           282.0                        283.0   \n",
       "2                           279.0                        264.0   \n",
       "3                            87.0                         78.0   \n",
       "4                           178.0                        217.0   \n",
       "\n",
       "  Carrier_Delay_HH_MM Weather_Delay_HH_MM NAS_Delay_HH_MM  \\\n",
       "0               26:04               04:44           01:04   \n",
       "1               30:38               14:28           02:50   \n",
       "2               08:27               16:37           03:22   \n",
       "3               44:52               04:48           04:39   \n",
       "4               28:40               21:38           00:39   \n",
       "\n",
       "  Security_Delay_HH_MM Late_Aircraft_Delay_HH_MM  \n",
       "0                01:38                     03:37  \n",
       "1                04:39                     08:23  \n",
       "2                04:52                     01:49  \n",
       "3                02:49                     10:38  \n",
       "4                04:13                     01:41  "
      ]
     },
     "execution_count": 3,
     "metadata": {},
     "output_type": "execute_result"
    }
   ],
   "source": [
    "flights = pd.read_csv('flight_delays.csv')\n",
    "flights.head()"
   ]
  },
  {
   "cell_type": "code",
   "execution_count": 4,
   "id": "53eae271-95dd-4e09-9c03-e53821b49b14",
   "metadata": {},
   "outputs": [
    {
     "data": {
      "text/html": [
       "<div>\n",
       "<style scoped>\n",
       "    .dataframe tbody tr th:only-of-type {\n",
       "        vertical-align: middle;\n",
       "    }\n",
       "\n",
       "    .dataframe tbody tr th {\n",
       "        vertical-align: top;\n",
       "    }\n",
       "\n",
       "    .dataframe thead th {\n",
       "        text-align: right;\n",
       "    }\n",
       "</style>\n",
       "<table border=\"1\" class=\"dataframe\">\n",
       "  <thead>\n",
       "    <tr style=\"text-align: right;\">\n",
       "      <th></th>\n",
       "      <th>Flight_Date</th>\n",
       "      <th>Airline_Name</th>\n",
       "      <th>Origin_City</th>\n",
       "      <th>Destination_City</th>\n",
       "      <th>Scheduled_Departure_Time</th>\n",
       "      <th>Actual_Departure_Time</th>\n",
       "      <th>Departure_Delay_Minutes</th>\n",
       "      <th>Scheduled_Arrival_Time</th>\n",
       "      <th>Actual_Arrival_Time</th>\n",
       "      <th>Arrival_Delay_Minutes</th>\n",
       "      <th>...</th>\n",
       "      <th>Cancellation_Code</th>\n",
       "      <th>Diverted_Flag</th>\n",
       "      <th>Scheduled_Elapsed_Time_Minutes</th>\n",
       "      <th>Actual_Elapsed_Time_Minutes</th>\n",
       "      <th>Carrier_Delay_HH_MM</th>\n",
       "      <th>Weather_Delay_HH_MM</th>\n",
       "      <th>NAS_Delay_HH_MM</th>\n",
       "      <th>Security_Delay_HH_MM</th>\n",
       "      <th>Late_Aircraft_Delay_HH_MM</th>\n",
       "      <th>Year</th>\n",
       "    </tr>\n",
       "  </thead>\n",
       "  <tbody>\n",
       "    <tr>\n",
       "      <th>0</th>\n",
       "      <td>2019-12-03</td>\n",
       "      <td>JetBlue Airways</td>\n",
       "      <td>Fort Lauderdale, FL</td>\n",
       "      <td>Boston, MA</td>\n",
       "      <td>06:10</td>\n",
       "      <td>06:03</td>\n",
       "      <td>-7.0</td>\n",
       "      <td>09:14</td>\n",
       "      <td>10:18</td>\n",
       "      <td>64.0</td>\n",
       "      <td>...</td>\n",
       "      <td>Not Cancelled</td>\n",
       "      <td>Not Diverted</td>\n",
       "      <td>184.0</td>\n",
       "      <td>255.0</td>\n",
       "      <td>26:04</td>\n",
       "      <td>04:44</td>\n",
       "      <td>01:04</td>\n",
       "      <td>01:38</td>\n",
       "      <td>03:37</td>\n",
       "      <td>2019</td>\n",
       "    </tr>\n",
       "    <tr>\n",
       "      <th>1</th>\n",
       "      <td>2019-01-26</td>\n",
       "      <td>American Airlines Inc.</td>\n",
       "      <td>Las Vegas, NV</td>\n",
       "      <td>Miami, FL</td>\n",
       "      <td>12:38</td>\n",
       "      <td>12:32</td>\n",
       "      <td>-6.0</td>\n",
       "      <td>20:20</td>\n",
       "      <td>20:15</td>\n",
       "      <td>-5.0</td>\n",
       "      <td>...</td>\n",
       "      <td>Not Cancelled</td>\n",
       "      <td>Not Diverted</td>\n",
       "      <td>282.0</td>\n",
       "      <td>283.0</td>\n",
       "      <td>30:38</td>\n",
       "      <td>14:28</td>\n",
       "      <td>02:50</td>\n",
       "      <td>04:39</td>\n",
       "      <td>08:23</td>\n",
       "      <td>2019</td>\n",
       "    </tr>\n",
       "    <tr>\n",
       "      <th>2</th>\n",
       "      <td>2023-08-25</td>\n",
       "      <td>Alaska Airlines Inc.</td>\n",
       "      <td>Seattle, WA</td>\n",
       "      <td>Pittsburgh, PA</td>\n",
       "      <td>09:35</td>\n",
       "      <td>09:27</td>\n",
       "      <td>-8.0</td>\n",
       "      <td>17:14</td>\n",
       "      <td>16:51</td>\n",
       "      <td>-23.0</td>\n",
       "      <td>...</td>\n",
       "      <td>Not Cancelled</td>\n",
       "      <td>Not Diverted</td>\n",
       "      <td>279.0</td>\n",
       "      <td>264.0</td>\n",
       "      <td>08:27</td>\n",
       "      <td>16:37</td>\n",
       "      <td>03:22</td>\n",
       "      <td>04:52</td>\n",
       "      <td>01:49</td>\n",
       "      <td>2023</td>\n",
       "    </tr>\n",
       "    <tr>\n",
       "      <th>3</th>\n",
       "      <td>2021-10-24</td>\n",
       "      <td>Endeavor Air Inc.</td>\n",
       "      <td>New York, NY</td>\n",
       "      <td>Richmond, VA</td>\n",
       "      <td>12:43</td>\n",
       "      <td>12:33</td>\n",
       "      <td>-10.0</td>\n",
       "      <td>14:10</td>\n",
       "      <td>13:51</td>\n",
       "      <td>-19.0</td>\n",
       "      <td>...</td>\n",
       "      <td>Not Cancelled</td>\n",
       "      <td>Not Diverted</td>\n",
       "      <td>87.0</td>\n",
       "      <td>78.0</td>\n",
       "      <td>44:52</td>\n",
       "      <td>04:48</td>\n",
       "      <td>04:39</td>\n",
       "      <td>02:49</td>\n",
       "      <td>10:38</td>\n",
       "      <td>2021</td>\n",
       "    </tr>\n",
       "    <tr>\n",
       "      <th>4</th>\n",
       "      <td>2023-02-14</td>\n",
       "      <td>Alaska Airlines Inc.</td>\n",
       "      <td>Los Angeles, CA</td>\n",
       "      <td>Seattle, WA</td>\n",
       "      <td>10:50</td>\n",
       "      <td>12:31</td>\n",
       "      <td>101.0</td>\n",
       "      <td>13:48</td>\n",
       "      <td>16:08</td>\n",
       "      <td>140.0</td>\n",
       "      <td>...</td>\n",
       "      <td>Not Cancelled</td>\n",
       "      <td>Not Diverted</td>\n",
       "      <td>178.0</td>\n",
       "      <td>217.0</td>\n",
       "      <td>28:40</td>\n",
       "      <td>21:38</td>\n",
       "      <td>00:39</td>\n",
       "      <td>04:13</td>\n",
       "      <td>01:41</td>\n",
       "      <td>2023</td>\n",
       "    </tr>\n",
       "  </tbody>\n",
       "</table>\n",
       "<p>5 rows × 21 columns</p>\n",
       "</div>"
      ],
      "text/plain": [
       "  Flight_Date            Airline_Name          Origin_City Destination_City  \\\n",
       "0  2019-12-03         JetBlue Airways  Fort Lauderdale, FL       Boston, MA   \n",
       "1  2019-01-26  American Airlines Inc.        Las Vegas, NV        Miami, FL   \n",
       "2  2023-08-25    Alaska Airlines Inc.          Seattle, WA   Pittsburgh, PA   \n",
       "3  2021-10-24       Endeavor Air Inc.         New York, NY     Richmond, VA   \n",
       "4  2023-02-14    Alaska Airlines Inc.      Los Angeles, CA      Seattle, WA   \n",
       "\n",
       "  Scheduled_Departure_Time Actual_Departure_Time  Departure_Delay_Minutes  \\\n",
       "0                    06:10                 06:03                     -7.0   \n",
       "1                    12:38                 12:32                     -6.0   \n",
       "2                    09:35                 09:27                     -8.0   \n",
       "3                    12:43                 12:33                    -10.0   \n",
       "4                    10:50                 12:31                    101.0   \n",
       "\n",
       "  Scheduled_Arrival_Time Actual_Arrival_Time  Arrival_Delay_Minutes  ...  \\\n",
       "0                  09:14               10:18                   64.0  ...   \n",
       "1                  20:20               20:15                   -5.0  ...   \n",
       "2                  17:14               16:51                  -23.0  ...   \n",
       "3                  14:10               13:51                  -19.0  ...   \n",
       "4                  13:48               16:08                  140.0  ...   \n",
       "\n",
       "  Cancellation_Code Diverted_Flag Scheduled_Elapsed_Time_Minutes  \\\n",
       "0     Not Cancelled  Not Diverted                          184.0   \n",
       "1     Not Cancelled  Not Diverted                          282.0   \n",
       "2     Not Cancelled  Not Diverted                          279.0   \n",
       "3     Not Cancelled  Not Diverted                           87.0   \n",
       "4     Not Cancelled  Not Diverted                          178.0   \n",
       "\n",
       "   Actual_Elapsed_Time_Minutes  Carrier_Delay_HH_MM Weather_Delay_HH_MM  \\\n",
       "0                        255.0                26:04               04:44   \n",
       "1                        283.0                30:38               14:28   \n",
       "2                        264.0                08:27               16:37   \n",
       "3                         78.0                44:52               04:48   \n",
       "4                        217.0                28:40               21:38   \n",
       "\n",
       "  NAS_Delay_HH_MM Security_Delay_HH_MM Late_Aircraft_Delay_HH_MM  Year  \n",
       "0           01:04                01:38                     03:37  2019  \n",
       "1           02:50                04:39                     08:23  2019  \n",
       "2           03:22                04:52                     01:49  2023  \n",
       "3           04:39                02:49                     10:38  2021  \n",
       "4           00:39                04:13                     01:41  2023  \n",
       "\n",
       "[5 rows x 21 columns]"
      ]
     },
     "execution_count": 4,
     "metadata": {},
     "output_type": "execute_result"
    }
   ],
   "source": [
    "flights['Year'] = flights['Flight_Date'].str.split(\"-\").str[0]\n",
    "flights.head()"
   ]
  },
  {
   "cell_type": "code",
   "execution_count": 5,
   "id": "68b5694c-f6de-415d-839e-c328e28fa60d",
   "metadata": {
    "tags": []
   },
   "outputs": [
    {
     "data": {
      "text/plain": [
       "Flight_Date                       datetime64[ns]\n",
       "Airline_Name                              object\n",
       "Origin_City                               object\n",
       "Destination_City                          object\n",
       "Scheduled_Departure_Time                  object\n",
       "Actual_Departure_Time                     object\n",
       "Departure_Delay_Minutes                  float64\n",
       "Scheduled_Arrival_Time                    object\n",
       "Actual_Arrival_Time                       object\n",
       "Arrival_Delay_Minutes                    float64\n",
       "Cancelled_Flag                            object\n",
       "Cancellation_Code                         object\n",
       "Diverted_Flag                             object\n",
       "Scheduled_Elapsed_Time_Minutes           float64\n",
       "Actual_Elapsed_Time_Minutes              float64\n",
       "Carrier_Delay_HH_MM                       object\n",
       "Weather_Delay_HH_MM                       object\n",
       "NAS_Delay_HH_MM                           object\n",
       "Security_Delay_HH_MM                      object\n",
       "Late_Aircraft_Delay_HH_MM                 object\n",
       "Year                                      object\n",
       "dtype: object"
      ]
     },
     "execution_count": 5,
     "metadata": {},
     "output_type": "execute_result"
    }
   ],
   "source": [
    "# Another option\n",
    "flights['Flight_Date'] = pd.to_datetime(flights['Flight_Date'])\n",
    "flights.dtypes"
   ]
  },
  {
   "cell_type": "code",
   "execution_count": 6,
   "id": "3eac5467-db32-437a-947b-5c23c45c71e8",
   "metadata": {
    "tags": []
   },
   "outputs": [
    {
     "data": {
      "text/html": [
       "<div>\n",
       "<style scoped>\n",
       "    .dataframe tbody tr th:only-of-type {\n",
       "        vertical-align: middle;\n",
       "    }\n",
       "\n",
       "    .dataframe tbody tr th {\n",
       "        vertical-align: top;\n",
       "    }\n",
       "\n",
       "    .dataframe thead th {\n",
       "        text-align: right;\n",
       "    }\n",
       "</style>\n",
       "<table border=\"1\" class=\"dataframe\">\n",
       "  <thead>\n",
       "    <tr style=\"text-align: right;\">\n",
       "      <th></th>\n",
       "      <th>Flight_Date</th>\n",
       "      <th>Airline_Name</th>\n",
       "      <th>Origin_City</th>\n",
       "      <th>Destination_City</th>\n",
       "      <th>Scheduled_Departure_Time</th>\n",
       "      <th>Actual_Departure_Time</th>\n",
       "      <th>Departure_Delay_Minutes</th>\n",
       "      <th>Scheduled_Arrival_Time</th>\n",
       "      <th>Actual_Arrival_Time</th>\n",
       "      <th>Arrival_Delay_Minutes</th>\n",
       "      <th>...</th>\n",
       "      <th>Diverted_Flag</th>\n",
       "      <th>Scheduled_Elapsed_Time_Minutes</th>\n",
       "      <th>Actual_Elapsed_Time_Minutes</th>\n",
       "      <th>Carrier_Delay_HH_MM</th>\n",
       "      <th>Weather_Delay_HH_MM</th>\n",
       "      <th>NAS_Delay_HH_MM</th>\n",
       "      <th>Security_Delay_HH_MM</th>\n",
       "      <th>Late_Aircraft_Delay_HH_MM</th>\n",
       "      <th>Year</th>\n",
       "      <th>Year_dt</th>\n",
       "    </tr>\n",
       "  </thead>\n",
       "  <tbody>\n",
       "    <tr>\n",
       "      <th>0</th>\n",
       "      <td>2019-12-03</td>\n",
       "      <td>JetBlue Airways</td>\n",
       "      <td>Fort Lauderdale, FL</td>\n",
       "      <td>Boston, MA</td>\n",
       "      <td>06:10</td>\n",
       "      <td>06:03</td>\n",
       "      <td>-7.0</td>\n",
       "      <td>09:14</td>\n",
       "      <td>10:18</td>\n",
       "      <td>64.0</td>\n",
       "      <td>...</td>\n",
       "      <td>Not Diverted</td>\n",
       "      <td>184.0</td>\n",
       "      <td>255.0</td>\n",
       "      <td>26:04</td>\n",
       "      <td>04:44</td>\n",
       "      <td>01:04</td>\n",
       "      <td>01:38</td>\n",
       "      <td>03:37</td>\n",
       "      <td>2019</td>\n",
       "      <td>2019</td>\n",
       "    </tr>\n",
       "    <tr>\n",
       "      <th>1</th>\n",
       "      <td>2019-01-26</td>\n",
       "      <td>American Airlines Inc.</td>\n",
       "      <td>Las Vegas, NV</td>\n",
       "      <td>Miami, FL</td>\n",
       "      <td>12:38</td>\n",
       "      <td>12:32</td>\n",
       "      <td>-6.0</td>\n",
       "      <td>20:20</td>\n",
       "      <td>20:15</td>\n",
       "      <td>-5.0</td>\n",
       "      <td>...</td>\n",
       "      <td>Not Diverted</td>\n",
       "      <td>282.0</td>\n",
       "      <td>283.0</td>\n",
       "      <td>30:38</td>\n",
       "      <td>14:28</td>\n",
       "      <td>02:50</td>\n",
       "      <td>04:39</td>\n",
       "      <td>08:23</td>\n",
       "      <td>2019</td>\n",
       "      <td>2019</td>\n",
       "    </tr>\n",
       "    <tr>\n",
       "      <th>2</th>\n",
       "      <td>2023-08-25</td>\n",
       "      <td>Alaska Airlines Inc.</td>\n",
       "      <td>Seattle, WA</td>\n",
       "      <td>Pittsburgh, PA</td>\n",
       "      <td>09:35</td>\n",
       "      <td>09:27</td>\n",
       "      <td>-8.0</td>\n",
       "      <td>17:14</td>\n",
       "      <td>16:51</td>\n",
       "      <td>-23.0</td>\n",
       "      <td>...</td>\n",
       "      <td>Not Diverted</td>\n",
       "      <td>279.0</td>\n",
       "      <td>264.0</td>\n",
       "      <td>08:27</td>\n",
       "      <td>16:37</td>\n",
       "      <td>03:22</td>\n",
       "      <td>04:52</td>\n",
       "      <td>01:49</td>\n",
       "      <td>2023</td>\n",
       "      <td>2023</td>\n",
       "    </tr>\n",
       "    <tr>\n",
       "      <th>3</th>\n",
       "      <td>2021-10-24</td>\n",
       "      <td>Endeavor Air Inc.</td>\n",
       "      <td>New York, NY</td>\n",
       "      <td>Richmond, VA</td>\n",
       "      <td>12:43</td>\n",
       "      <td>12:33</td>\n",
       "      <td>-10.0</td>\n",
       "      <td>14:10</td>\n",
       "      <td>13:51</td>\n",
       "      <td>-19.0</td>\n",
       "      <td>...</td>\n",
       "      <td>Not Diverted</td>\n",
       "      <td>87.0</td>\n",
       "      <td>78.0</td>\n",
       "      <td>44:52</td>\n",
       "      <td>04:48</td>\n",
       "      <td>04:39</td>\n",
       "      <td>02:49</td>\n",
       "      <td>10:38</td>\n",
       "      <td>2021</td>\n",
       "      <td>2021</td>\n",
       "    </tr>\n",
       "    <tr>\n",
       "      <th>4</th>\n",
       "      <td>2023-02-14</td>\n",
       "      <td>Alaska Airlines Inc.</td>\n",
       "      <td>Los Angeles, CA</td>\n",
       "      <td>Seattle, WA</td>\n",
       "      <td>10:50</td>\n",
       "      <td>12:31</td>\n",
       "      <td>101.0</td>\n",
       "      <td>13:48</td>\n",
       "      <td>16:08</td>\n",
       "      <td>140.0</td>\n",
       "      <td>...</td>\n",
       "      <td>Not Diverted</td>\n",
       "      <td>178.0</td>\n",
       "      <td>217.0</td>\n",
       "      <td>28:40</td>\n",
       "      <td>21:38</td>\n",
       "      <td>00:39</td>\n",
       "      <td>04:13</td>\n",
       "      <td>01:41</td>\n",
       "      <td>2023</td>\n",
       "      <td>2023</td>\n",
       "    </tr>\n",
       "  </tbody>\n",
       "</table>\n",
       "<p>5 rows × 22 columns</p>\n",
       "</div>"
      ],
      "text/plain": [
       "  Flight_Date            Airline_Name          Origin_City Destination_City  \\\n",
       "0  2019-12-03         JetBlue Airways  Fort Lauderdale, FL       Boston, MA   \n",
       "1  2019-01-26  American Airlines Inc.        Las Vegas, NV        Miami, FL   \n",
       "2  2023-08-25    Alaska Airlines Inc.          Seattle, WA   Pittsburgh, PA   \n",
       "3  2021-10-24       Endeavor Air Inc.         New York, NY     Richmond, VA   \n",
       "4  2023-02-14    Alaska Airlines Inc.      Los Angeles, CA      Seattle, WA   \n",
       "\n",
       "  Scheduled_Departure_Time Actual_Departure_Time  Departure_Delay_Minutes  \\\n",
       "0                    06:10                 06:03                     -7.0   \n",
       "1                    12:38                 12:32                     -6.0   \n",
       "2                    09:35                 09:27                     -8.0   \n",
       "3                    12:43                 12:33                    -10.0   \n",
       "4                    10:50                 12:31                    101.0   \n",
       "\n",
       "  Scheduled_Arrival_Time Actual_Arrival_Time  Arrival_Delay_Minutes  ...  \\\n",
       "0                  09:14               10:18                   64.0  ...   \n",
       "1                  20:20               20:15                   -5.0  ...   \n",
       "2                  17:14               16:51                  -23.0  ...   \n",
       "3                  14:10               13:51                  -19.0  ...   \n",
       "4                  13:48               16:08                  140.0  ...   \n",
       "\n",
       "  Diverted_Flag Scheduled_Elapsed_Time_Minutes Actual_Elapsed_Time_Minutes  \\\n",
       "0  Not Diverted                          184.0                       255.0   \n",
       "1  Not Diverted                          282.0                       283.0   \n",
       "2  Not Diverted                          279.0                       264.0   \n",
       "3  Not Diverted                           87.0                        78.0   \n",
       "4  Not Diverted                          178.0                       217.0   \n",
       "\n",
       "   Carrier_Delay_HH_MM  Weather_Delay_HH_MM NAS_Delay_HH_MM  \\\n",
       "0                26:04                04:44           01:04   \n",
       "1                30:38                14:28           02:50   \n",
       "2                08:27                16:37           03:22   \n",
       "3                44:52                04:48           04:39   \n",
       "4                28:40                21:38           00:39   \n",
       "\n",
       "  Security_Delay_HH_MM Late_Aircraft_Delay_HH_MM  Year Year_dt  \n",
       "0                01:38                     03:37  2019    2019  \n",
       "1                04:39                     08:23  2019    2019  \n",
       "2                04:52                     01:49  2023    2023  \n",
       "3                02:49                     10:38  2021    2021  \n",
       "4                04:13                     01:41  2023    2023  \n",
       "\n",
       "[5 rows x 22 columns]"
      ]
     },
     "execution_count": 6,
     "metadata": {},
     "output_type": "execute_result"
    }
   ],
   "source": [
    "flights['Year_dt'] = flights['Flight_Date'].dt.year\n",
    "flights.head()"
   ]
  },
  {
   "cell_type": "code",
   "execution_count": 7,
   "id": "167cce27-790e-45c6-bb9d-a603ff407bfc",
   "metadata": {
    "tags": []
   },
   "outputs": [
    {
     "data": {
      "text/plain": [
       "Flight_Date                       datetime64[ns]\n",
       "Airline_Name                              object\n",
       "Origin_City                               object\n",
       "Destination_City                          object\n",
       "Scheduled_Departure_Time                  object\n",
       "Actual_Departure_Time                     object\n",
       "Departure_Delay_Minutes                  float64\n",
       "Scheduled_Arrival_Time                    object\n",
       "Actual_Arrival_Time                       object\n",
       "Arrival_Delay_Minutes                    float64\n",
       "Cancelled_Flag                            object\n",
       "Cancellation_Code                         object\n",
       "Diverted_Flag                             object\n",
       "Scheduled_Elapsed_Time_Minutes           float64\n",
       "Actual_Elapsed_Time_Minutes              float64\n",
       "Carrier_Delay_HH_MM                       object\n",
       "Weather_Delay_HH_MM                       object\n",
       "NAS_Delay_HH_MM                           object\n",
       "Security_Delay_HH_MM                      object\n",
       "Late_Aircraft_Delay_HH_MM                 object\n",
       "Year                                      object\n",
       "Year_dt                                    int32\n",
       "dtype: object"
      ]
     },
     "execution_count": 7,
     "metadata": {},
     "output_type": "execute_result"
    }
   ],
   "source": [
    "flights.dtypes"
   ]
  },
  {
   "cell_type": "code",
   "execution_count": 8,
   "id": "6d125a55-e35c-4a67-a458-26d41d200ecf",
   "metadata": {},
   "outputs": [
    {
     "data": {
      "image/png": "[encoded data removed]",
      "text/plain": [
       "<Figure size 2500x500 with 5 Axes>"
      ]
     },
     "metadata": {},
     "output_type": "display_data"
    }
   ],
   "source": [
    "sns.set(font_scale = 1.8)\n",
    "fig = sns.displot(data = flights, x  = 'Departure_Delay_Minutes', col = 'Year_dt',binwidth=5)\n",
    "fig.set(xlim=(-20, 100))\n",
    "plt.tight_layout()"
   ]
  },
  {
   "cell_type": "code",
   "execution_count": 9,
   "id": "05d2ca5f-33b3-4843-8333-6b7c65281503",
   "metadata": {},
   "outputs": [
    {
     "data": {
      "image/png": "[encoded data removed]",
      "text/plain": [
       "<Figure size 2500x500 with 5 Axes>"
      ]
     },
     "metadata": {},
     "output_type": "display_data"
    }
   ],
   "source": [
    "sns.set(font_scale = 1.8)\n",
    "fig = sns.displot(data = flights, x  = 'Departure_Delay_Minutes', col = 'Year',binwidth=5)\n",
    "fig.set(xlim=(-20, 100))\n",
    "plt.tight_layout()"
   ]
  },
  {
   "cell_type": "code",
   "execution_count": null,
   "id": "e194e6e5",
   "metadata": {},
   "outputs": [],
   "source": []
  }
 ],
 "metadata": {
  "kernelspec": {
   "display_name": "Python 3 (ipykernel)",
   "language": "python",
   "name": "python3"
  },
  "language_info": {
   "codemirror_mode": {
    "name": "ipython",
    "version": 3
   },
   "file_extension": ".py",
   "mimetype": "text/x-python",
   "name": "python",
   "nbconvert_exporter": "python",
   "pygments_lexer": "ipython3",
   "version": "3.11.4"
  }
 },
 "nbformat": 4,
 "nbformat_minor": 5
}
