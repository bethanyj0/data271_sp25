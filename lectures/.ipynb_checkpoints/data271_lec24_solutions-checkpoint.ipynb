{
 "cells": [
  {
   "cell_type": "markdown",
   "id": "4be64f56-1c4f-4eb0-be68-61d03d29f598",
   "metadata": {},
   "source": [
    "# Preparing Data: Adding Columns\n",
    "If you want to type along with me, use [this notebook](https://humboldt.cloudbank.2i2c.cloud/hub/user-redirect/git-pull?repo=https%3A%2F%2Fgithub.com%2Fbethanyj0%2Fdata271_sp25&branch=main&urlpath=tree%2Fdata271_sp25%2Flectures%2Fdata271_lec24_live.ipynb) instead. \n",
    "If you don't want to type and want to follow along just by executing the cells, stay in this notebook.  "
   ]
  },
  {
   "cell_type": "code",
   "execution_count": null,
   "id": "7e39de5d-e9a3-41b3-9e94-3c2687b74af6",
   "metadata": {},
   "outputs": [],
   "source": [
    "import numpy as np\n",
    "import pandas as pd\n",
    "import matplotlib.pyplot as plt\n",
    "import sklearn\n",
    "import seaborn as sns\n",
    "import re\n",
    "sns.set_style(\"darkgrid\")\n",
    "import warnings \n",
    "warnings.filterwarnings('ignore') "
   ]
  },
  {
   "cell_type": "markdown",
   "id": "75ef9fe4-1271-4cbc-b5e2-8c26a88d8e73",
   "metadata": {},
   "source": [
    "## Adding independent columns"
   ]
  },
  {
   "cell_type": "markdown",
   "id": "869f0f14-205c-46ee-9499-9f2db7fb8257",
   "metadata": {},
   "source": [
    "### Method 1: Add to the end"
   ]
  },
  {
   "cell_type": "code",
   "execution_count": null,
   "id": "851993da-8d9a-4b14-9ce6-874f71c91da4",
   "metadata": {},
   "outputs": [],
   "source": [
    "# Creating animals dataframe\n",
    "animals_dct = {\n",
    "    'Animal': ['cow', 'kitten', 'penguin', 'Puppy'],\n",
    "    'Sound': ['moo', 'purr', 'chirp', 'bark'],\n",
    "}\n",
    "\n",
    "animals = pd.DataFrame(animals_dct)\n",
    "animals"
   ]
  },
  {
   "cell_type": "code",
   "execution_count": null,
   "id": "48c10cdc-fed4-4547-888f-1be9565cc44f",
   "metadata": {},
   "outputs": [],
   "source": [
    "# add a column on the right (broadcasting)\n",
    "animals['Cute score'] = 10\n",
    "animals"
   ]
  },
  {
   "cell_type": "code",
   "execution_count": null,
   "id": "49a522c9-014e-492a-b65e-631c81d99364",
   "metadata": {},
   "outputs": [],
   "source": [
    "# add a column on the right (list)\n",
    "animals = pd.DataFrame(animals_dct)\n",
    "animals['Cute score'] = [10,9.9,10,10]\n",
    "animals"
   ]
  },
  {
   "cell_type": "markdown",
   "id": "1f6385df-39da-477e-a455-cca00a95b0b2",
   "metadata": {},
   "source": [
    "### Method 2: Insert the column in specific position"
   ]
  },
  {
   "cell_type": "code",
   "execution_count": null,
   "id": "bb650802-a4c7-43a4-9668-327ccd70fead",
   "metadata": {},
   "outputs": [],
   "source": [
    "# Insert at a specific position with .insert(loc, column, value)\n",
    "animals = pd.DataFrame(animals_dct)\n",
    "animals.insert(1,'Cute score',10)\n",
    "animals"
   ]
  },
  {
   "cell_type": "code",
   "execution_count": null,
   "id": "4cc521ba-e4fa-4121-821e-309c9781b227",
   "metadata": {},
   "outputs": [],
   "source": [
    "# or do it with a list\n",
    "animals = pd.DataFrame(animals_dct)\n",
    "animals.insert(1,'Cute score',[10,9.9,10,10])\n",
    "animals"
   ]
  },
  {
   "cell_type": "markdown",
   "id": "9178dacd-34df-4923-b4ac-6366eddceead",
   "metadata": {},
   "source": [
    "### Method 3: Add more than 1 column at once"
   ]
  },
  {
   "cell_type": "code",
   "execution_count": null,
   "id": "9dbff500-98fd-49ed-91c0-dd898a407551",
   "metadata": {},
   "outputs": [],
   "source": [
    "# create two columns at once\n",
    "animals = animals.assign(Adjective = ['adorable','playful','tough','cuddly'], Pet = [False,True,False,True])"
   ]
  },
  {
   "cell_type": "code",
   "execution_count": null,
   "id": "527c1e0e-f061-40df-9bfc-975dc84f82f9",
   "metadata": {},
   "outputs": [],
   "source": [
    "animals"
   ]
  },
  {
   "cell_type": "markdown",
   "id": "1a23c739-bbdd-4665-8955-6d12d3ab3dbe",
   "metadata": {},
   "source": [
    "## Adding columns based on other columns"
   ]
  },
  {
   "cell_type": "code",
   "execution_count": null,
   "id": "31e5b361-2435-490c-9393-ac7d3f0ea2ef",
   "metadata": {},
   "outputs": [],
   "source": [
    "# Making a bool column based on condition\n",
    "animals['Is Cute'] = animals['Cute score'] > 5\n",
    "animals.head()"
   ]
  },
  {
   "cell_type": "code",
   "execution_count": null,
   "id": "a932052b-90c7-4cd4-b969-9ee880fd1d56",
   "metadata": {},
   "outputs": [],
   "source": [
    "# Making a categorical column based on another categorical column with map\n",
    "animals['Can Own'] = animals['Pet'].map({True:'yes',False:'no'})\n",
    "animals.head()"
   ]
  },
  {
   "cell_type": "code",
   "execution_count": null,
   "id": "3455179c-ca3d-4b00-a991-124de6e14d28",
   "metadata": {},
   "outputs": [],
   "source": [
    "# applying a function to everything in another column\n",
    "animals['Rounded Score'] = animals['Cute score'].apply(round)\n",
    "animals.head()"
   ]
  },
  {
   "cell_type": "code",
   "execution_count": null,
   "id": "7949d656-6475-4dcb-bc76-fbbd1b019eeb",
   "metadata": {
    "scrolled": true
   },
   "outputs": [],
   "source": [
    "# Creating new columns with element-wise arithmetic\n",
    "animals['Cute & Pet'] = animals['Cute score'] + animals['Pet']\n",
    "animals.head()"
   ]
  },
  {
   "cell_type": "code",
   "execution_count": null,
   "id": "0964742b-361c-41ec-ad15-1087199c9319",
   "metadata": {},
   "outputs": [],
   "source": [
    "# With string methods\n",
    "animals['First letter'] = animals['Animal'].str[0]\n",
    "animals.head()"
   ]
  },
  {
   "cell_type": "code",
   "execution_count": null,
   "id": "585836f7-d48c-4efb-959d-2f0b0f984e87",
   "metadata": {},
   "outputs": [],
   "source": [
    "# With list comprehension\n",
    "animals['starts with p'] = ['yes' if re.search('[Pp]',i) else 'no' for i in animals['First letter']]\n",
    "animals.head()"
   ]
  },
  {
   "cell_type": "markdown",
   "id": "8e36ea7b-b67d-46d4-b23e-b610a3abad47",
   "metadata": {},
   "source": [
    "## Activity"
   ]
  },
  {
   "cell_type": "markdown",
   "id": "c4c4b279-94f6-469d-a08f-590bbeafc395",
   "metadata": {},
   "source": [
    "Let's look at the Titanic dataset from the Seaborn library."
   ]
  },
  {
   "cell_type": "code",
   "execution_count": null,
   "id": "4d48c154-ca45-4795-b147-65c37470dd5e",
   "metadata": {},
   "outputs": [],
   "source": [
    "# load titanic data \n",
    "titanic_seaborn = sns.load_dataset('titanic')\n",
    "titanic_seaborn.head()"
   ]
  },
  {
   "cell_type": "markdown",
   "id": "48eed4da-3961-4f61-bbbc-a15306e0c5aa",
   "metadata": {},
   "source": [
    "The titanic dataset is available in Seaborn, but it originally came from [this](https://www.kaggle.com/c/titanic/data) Kaggle source."
   ]
  },
  {
   "cell_type": "code",
   "execution_count": null,
   "id": "8df386a7-793b-41bc-bb11-e08b9274b41f",
   "metadata": {
    "tags": []
   },
   "outputs": [],
   "source": [
    "titanic_kaggle = pd.read_csv('titanic.csv')\n",
    "titanic_kaggle.head()"
   ]
  },
  {
   "cell_type": "markdown",
   "id": "322277f5-07d0-4401-8acf-324242d4fb77",
   "metadata": {},
   "source": [
    "Notice that some of the columns in the Seaborn version of this dataset are not included in the Kaggle version. This is because the Seaborn creators added columns to make the data more interpretable and to make further analysis easier. We will replicate this process, then do a short EDA."
   ]
  },
  {
   "cell_type": "markdown",
   "id": "b51bc5fe-6a04-4001-8418-062fca733b60",
   "metadata": {},
   "source": [
    "**Activity 1:** In the `titanic_kaggle` dataframe, create a new column called `alive` based on the `survived` column. It should be \"no\" when `survived` is 0, and \"yes\" when `survived` is 1. Your goal is to make it match the `alive` column in the `titanic_seaborn` dataframe, which was added by the Seaborn creators. "
   ]
  },
  {
   "cell_type": "code",
   "execution_count": null,
   "id": "fc9ed55f-d356-45dc-983d-b3dbc375adfc",
   "metadata": {},
   "outputs": [],
   "source": []
  },
  {
   "cell_type": "code",
   "execution_count": null,
   "id": "d9a1dc4a-c895-4d95-a8ca-e755e9657d0a",
   "metadata": {},
   "outputs": [],
   "source": [
    "# run this to check your work\n",
    "(titanic_kaggle['alive'] == titanic_seaborn['alive']).all()"
   ]
  },
  {
   "cell_type": "markdown",
   "id": "9914cd65-ce13-4f57-88f3-10975d959f52",
   "metadata": {},
   "source": [
    "**Activity 2:** In the `titanic_kaggle` dataframe, create a new column called `alone` based on the `sibsp` and `parch` columns. It should be False if the passenger had any family members on board, True otherwise. Your goal is to make it match the `alone` column in `titanic_seaborn`, which was added by the Seaborn creators. "
   ]
  },
  {
   "cell_type": "code",
   "execution_count": null,
   "id": "49237626-8eef-435e-9f9a-9b4ec14b7ea1",
   "metadata": {},
   "outputs": [],
   "source": []
  },
  {
   "cell_type": "code",
   "execution_count": null,
   "id": "29d8d5db-0f1a-41ba-ba9e-7f7b385c45bf",
   "metadata": {},
   "outputs": [],
   "source": [
    "# run this to check your work\n",
    "(titanic_kaggle['alone'] == titanic_seaborn['alone']).all()"
   ]
  },
  {
   "cell_type": "markdown",
   "id": "63bc2329-1971-4b8b-b4df-ca3f70b61617",
   "metadata": {},
   "source": [
    "**Activity 3:** In the `titanic_kaggle` dataframe, create a new column called `who` based on the original `sex` and `age` columns. If the passenger is under 16, they should be labelled as \"child\", if they are over 16 and are `sex` \"male\" they should be labelled \"man\", and if they are over 16 and are `sex` \"female\" they should be labelled \"woman.\" Your goal is to make it match the `who` column in `titanic_seaborn` which was added by the Seaborn creators. \n",
    "\n",
    "*HINT*: You might find it helpful to split this one up and solve in multiple lines of code. "
   ]
  },
  {
   "cell_type": "code",
   "execution_count": null,
   "id": "d6d4f471-5793-40a7-853e-6755851db0c1",
   "metadata": {},
   "outputs": [],
   "source": []
  },
  {
   "cell_type": "code",
   "execution_count": null,
   "id": "2dc1707f-7fe1-4a4c-aff6-bd9d986f73ec",
   "metadata": {},
   "outputs": [],
   "source": [
    "# run this to check your work\n",
    "(titanic_kaggle['who'] == titanic_seaborn['who']).all()"
   ]
  },
  {
   "cell_type": "markdown",
   "id": "026f17eb-3c0e-4567-87cd-778b2aeef7bc",
   "metadata": {},
   "source": [
    "**Activity 4:** Use Pandas methods or visualization to determine the number of passengers that survived and the number of passengers that didn't in each class. "
   ]
  },
  {
   "cell_type": "code",
   "execution_count": null,
   "id": "a3e5c5e1-8e45-4efe-a0d5-9a380d0d8763",
   "metadata": {},
   "outputs": [],
   "source": []
  },
  {
   "cell_type": "markdown",
   "id": "b766002d-ed58-49bc-9708-ecbbdb2cd985",
   "metadata": {},
   "source": [
    "**Activity 5:** Survival by class and sex: Create a plot that shows the number of passengers that survived and the number of passengers that didn't in each pclass, facetted by sex."
   ]
  },
  {
   "cell_type": "code",
   "execution_count": null,
   "id": "1634b0e2-3541-4796-8ea1-d4ed0ced6f60",
   "metadata": {},
   "outputs": [],
   "source": []
  },
  {
   "cell_type": "markdown",
   "id": "4ff3cacf-b67e-4db6-a230-13ed4569e9ac",
   "metadata": {},
   "source": [
    "**Activity 6:** Create a visualization that will help you determine how the median age of inviduals who survived compares to the median age of individuals who did not survive. What plot would also help you compare the age distributions between those who survived and those who didn't?"
   ]
  },
  {
   "cell_type": "code",
   "execution_count": null,
   "id": "706918cd-ed05-4590-8255-aead8bbfdc9e",
   "metadata": {},
   "outputs": [],
   "source": []
  },
  {
   "cell_type": "markdown",
   "id": "5c5e5cff-c387-456b-b5a0-09484a4e2860",
   "metadata": {},
   "source": [
    "### Code for Discussion Questions"
   ]
  },
  {
   "cell_type": "code",
   "execution_count": null,
   "id": "74429ec0-6f23-4144-bad3-97eb5c966e15",
   "metadata": {},
   "outputs": [],
   "source": [
    "flights = pd.read_csv('flight_delays.csv')\n",
    "flights.head()"
   ]
  },
  {
   "cell_type": "code",
   "execution_count": null,
   "id": "2bd266de-731d-44fe-8d07-478217027c29",
   "metadata": {},
   "outputs": [],
   "source": [
    "flights['Year'] = flights['Flight_Date'].str.split(\"-\").str[0]\n",
    "flights.head()"
   ]
  },
  {
   "cell_type": "code",
   "execution_count": null,
   "id": "a7442914-2950-49f9-a764-72f2d14b66f3",
   "metadata": {
    "tags": []
   },
   "outputs": [],
   "source": [
    "# Another option\n",
    "flights['Flight_Date'] = pd.to_datetime(flights['Flight_Date'])\n",
    "flights.dtypes"
   ]
  },
  {
   "cell_type": "code",
   "execution_count": null,
   "id": "64774998-aad0-4cf8-8894-55231909551c",
   "metadata": {
    "tags": []
   },
   "outputs": [],
   "source": [
    "flights['Year_dt'] = flights['Flight_Date'].dt.year\n",
    "flights.head()"
   ]
  },
  {
   "cell_type": "code",
   "execution_count": null,
   "id": "9eb3170e-682f-439d-ba7a-57d8fcc135f1",
   "metadata": {
    "tags": []
   },
   "outputs": [],
   "source": [
    "flights.dtypes"
   ]
  },
  {
   "cell_type": "code",
   "execution_count": null,
   "id": "06a677b2-ed6a-4f5a-9e46-34833f6c7a8f",
   "metadata": {},
   "outputs": [],
   "source": [
    "sns.set(font_scale = 1.8)\n",
    "fig = sns.displot(data = flights, x  = 'Departure_Delay_Minutes', col = 'Year_dt',binwidth=5)\n",
    "fig.set(xlim=(-20, 100))\n",
    "plt.tight_layout()"
   ]
  },
  {
   "cell_type": "code",
   "execution_count": null,
   "id": "06392e8b-982a-4f73-b682-a01c90664f58",
   "metadata": {},
   "outputs": [],
   "source": [
    "sns.set(font_scale = 1.8)\n",
    "fig = sns.displot(data = flights, x  = 'Departure_Delay_Minutes', col = 'Year',binwidth=5)\n",
    "fig.set(xlim=(-20, 100))\n",
    "plt.tight_layout()"
   ]
  }
 ],
 "metadata": {
  "kernelspec": {
   "display_name": "Python 3 (ipykernel)",
   "language": "python",
   "name": "python3"
  },
  "language_info": {
   "codemirror_mode": {
    "name": "ipython",
    "version": 3
   },
   "file_extension": ".py",
   "mimetype": "text/x-python",
   "name": "python",
   "nbconvert_exporter": "python",
   "pygments_lexer": "ipython3",
   "version": "3.11.4"
  }
 },
 "nbformat": 4,
 "nbformat_minor": 5
}
