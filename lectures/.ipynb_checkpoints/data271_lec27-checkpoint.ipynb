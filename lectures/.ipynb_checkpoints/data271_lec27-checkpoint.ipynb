{
 "cells": [
  {
   "cell_type": "markdown",
   "id": "3f9d6644-82f3-4ed4-b2ad-454946795156",
   "metadata": {},
   "source": [
    "# Cleaning Data\n",
    "If you want to type along with me, use [this notebook](https://humboldt.cloudbank.2i2c.cloud/hub/user-redirect/git-pull?repo=https%3A%2F%2Fgithub.com%2Fbethanyj0%2Fdata271_sp25&branch=main&urlpath=tree%2Fdata271_sp25%2Flectures%2Fdata271_lec27_live.ipynb) instead. \n",
    "If you don't want to type and want to follow along just by executing the cells, stay in this notebook. "
   ]
  },
  {
   "cell_type": "code",
   "execution_count": null,
   "id": "a54e1dcf-40b7-4940-8a01-7eaa1c7ea863",
   "metadata": {
    "tags": []
   },
   "outputs": [],
   "source": [
    "import numpy as np\n",
    "import pandas as pd"
   ]
  },
  {
   "cell_type": "code",
   "execution_count": null,
   "id": "9dc15d23-1f91-49f7-a5f6-f383e4453fb2",
   "metadata": {
    "tags": []
   },
   "outputs": [],
   "source": [
    "# import the youtube data from last time\n",
    "df = pd.read_csv('humboldt_youtube_2025.csv', dtype={'viewCount': 'object', 'likeCount':'object'})\n",
    "df.head()"
   ]
  },
  {
   "cell_type": "markdown",
   "id": "848ca840-7865-4599-b0e3-59212a3d11c9",
   "metadata": {},
   "source": [
    "## Cleaning the data "
   ]
  },
  {
   "cell_type": "code",
   "execution_count": null,
   "id": "19740704-3914-44a5-be8b-b058e2bfca60",
   "metadata": {
    "tags": []
   },
   "outputs": [],
   "source": [
    "# Check the column names\n",
    "df.columns"
   ]
  },
  {
   "cell_type": "code",
   "execution_count": null,
   "id": "717622c6-4d45-4eaf-bd3e-1ebd4eadb29e",
   "metadata": {
    "tags": []
   },
   "outputs": [],
   "source": [
    "# Inspect some questions\n",
    "sum(df.publishedAt != df.publishTime)"
   ]
  },
  {
   "cell_type": "code",
   "execution_count": null,
   "id": "08c086a0-276f-4538-929f-293c0f1087ec",
   "metadata": {
    "tags": []
   },
   "outputs": [],
   "source": [
    "# the two columns above are identical\n",
    "df.drop(columns='publishTime',inplace=True)"
   ]
  },
  {
   "cell_type": "code",
   "execution_count": null,
   "id": "b0153dcf-8aea-4199-8be4-64a7bb6c6256",
   "metadata": {
    "tags": []
   },
   "outputs": [],
   "source": [
    "# Check for any columns with just one value\n",
    "df.nunique() == 1"
   ]
  },
  {
   "cell_type": "code",
   "execution_count": null,
   "id": "c7e7202a-ad04-422a-984a-fb73f8f2f938",
   "metadata": {
    "tags": []
   },
   "outputs": [],
   "source": [
    "# Save some relevant data, then remove redundant columns\n",
    "channel_id = df.channelId[0]\n",
    "chanel_title = df.channelTitle[0]"
   ]
  },
  {
   "cell_type": "code",
   "execution_count": null,
   "id": "e32276da-7b9f-4c5c-9786-969cd9587c89",
   "metadata": {
    "tags": []
   },
   "outputs": [],
   "source": [
    "df = df.loc[:,df.nunique() > 1]"
   ]
  },
  {
   "cell_type": "code",
   "execution_count": null,
   "id": "10be4266-55f1-43a2-a047-e956d86b6a2e",
   "metadata": {
    "tags": []
   },
   "outputs": [],
   "source": [
    "df.head()"
   ]
  },
  {
   "cell_type": "markdown",
   "id": "2d2496e8-5e04-4445-bb18-7b890bff2d75",
   "metadata": {},
   "source": [
    "### Reformat column names\n",
    "Our columns names are in different formats. Let's fix that."
   ]
  },
  {
   "cell_type": "code",
   "execution_count": null,
   "id": "91e62b5c-5c1f-454e-9b3b-b3d3e182e2a2",
   "metadata": {
    "tags": []
   },
   "outputs": [],
   "source": [
    "# OPTION 1 .rename method\n",
    "df.rename(columns = {'videoId':'video_id',\n",
    "                     'publishedAt':'published_at',\n",
    "                     'viewCount':'view_count',\n",
    "                     'likeCount':'like_count'}).head()"
   ]
  },
  {
   "cell_type": "code",
   "execution_count": null,
   "id": "3eb63c69-8045-4f20-8cc4-3725383c1b50",
   "metadata": {
    "tags": []
   },
   "outputs": [],
   "source": [
    "# does not update original (use inline=True)\n",
    "df.head()"
   ]
  },
  {
   "cell_type": "code",
   "execution_count": null,
   "id": "ed6982e5-1a8e-4944-9a56-7f5a60183853",
   "metadata": {
    "tags": []
   },
   "outputs": [],
   "source": [
    "# OPTION 2: more general approach that would work for many columns\n",
    "# Split column names by words\n",
    "import re\n",
    "split_by_words = [re.split('(?=[A-Z])',i) for i in df.columns]\n",
    "split_by_words"
   ]
  },
  {
   "cell_type": "code",
   "execution_count": null,
   "id": "b2d64e4a-5187-408d-88c3-c67884968c44",
   "metadata": {
    "tags": []
   },
   "outputs": [],
   "source": [
    "# Insert an underscore between words\n",
    "columns_with_underscores = ['_'.join(i).lower() for i in split_by_words]\n",
    "columns_with_underscores"
   ]
  },
  {
   "cell_type": "code",
   "execution_count": null,
   "id": "1e09bb70-bf74-431a-93d9-cd01fc484988",
   "metadata": {
    "tags": []
   },
   "outputs": [],
   "source": [
    "# Reassign column names\n",
    "df.columns = columns_with_underscores"
   ]
  },
  {
   "cell_type": "code",
   "execution_count": null,
   "id": "5dbe86fa-dca2-4de6-8c70-cc37f89f637e",
   "metadata": {
    "tags": []
   },
   "outputs": [],
   "source": [
    "df.head()"
   ]
  },
  {
   "cell_type": "markdown",
   "id": "7e2734fd-68a1-4040-98e0-f3ef525f335c",
   "metadata": {},
   "source": [
    "### Convert datatypes"
   ]
  },
  {
   "cell_type": "code",
   "execution_count": null,
   "id": "e8c4ff8d-c9ae-4924-811f-e052bb8a6e06",
   "metadata": {
    "tags": []
   },
   "outputs": [],
   "source": [
    "# Suppose we wanted to look at the relationship between view counts and like counts\n",
    "import matplotlib.pyplot as plt\n",
    "import seaborn as sns\n",
    "sns.set_style('darkgrid')\n",
    "sns.scatterplot(data = df, x='view_count',y='like_count')\n",
    "plt.show()"
   ]
  },
  {
   "cell_type": "code",
   "execution_count": null,
   "id": "55cb5ea7-1489-4a7a-a2ca-6d5df6d4d62f",
   "metadata": {
    "scrolled": true,
    "tags": []
   },
   "outputs": [],
   "source": [
    "# Something is funky. Check the data types\n",
    "df.dtypes"
   ]
  },
  {
   "cell_type": "code",
   "execution_count": null,
   "id": "7714148b-c4fe-49b3-a331-cb2d1efb6e5b",
   "metadata": {
    "tags": []
   },
   "outputs": [],
   "source": [
    "# convert the data types\n",
    "df = df.astype({'view_count':int, 'like_count':int})"
   ]
  },
  {
   "cell_type": "code",
   "execution_count": null,
   "id": "1a1b2998-b3b0-455b-9d3b-90de0433aa56",
   "metadata": {
    "tags": []
   },
   "outputs": [],
   "source": [
    "# check data types again\n",
    "df.dtypes"
   ]
  },
  {
   "cell_type": "code",
   "execution_count": null,
   "id": "c4903418-0a9c-41bc-9a57-c7dfb37551e0",
   "metadata": {
    "tags": []
   },
   "outputs": [],
   "source": [
    "# plot again\n",
    "sns.scatterplot(data = df, x='view_count',y='like_count')\n",
    "plt.show()"
   ]
  },
  {
   "cell_type": "code",
   "execution_count": null,
   "id": "d23b34e0-7925-4d5e-8815-cc7b0b085402",
   "metadata": {
    "tags": []
   },
   "outputs": [],
   "source": [
    "# What if we wanted to plot trend in view counts?\n",
    "sns.lineplot(data = df, x='published_at',y='view_count')\n",
    "plt.show()"
   ]
  },
  {
   "cell_type": "code",
   "execution_count": null,
   "id": "cf42cafe-bcea-4bc4-8b5a-dbd2ae342f3b",
   "metadata": {
    "tags": []
   },
   "outputs": [],
   "source": [
    "# change dates to datetime data\n",
    "df['published_at'] = pd.to_datetime(df.published_at)\n",
    "df.head()"
   ]
  },
  {
   "cell_type": "code",
   "execution_count": null,
   "id": "76775597-e509-456c-b643-ab45eb836343",
   "metadata": {
    "tags": []
   },
   "outputs": [],
   "source": [
    "# Check dtypes again\n",
    "df.dtypes"
   ]
  },
  {
   "cell_type": "code",
   "execution_count": null,
   "id": "ff9a4829-271e-48b1-838f-faf41c635945",
   "metadata": {
    "tags": []
   },
   "outputs": [],
   "source": [
    "# plot again\n",
    "plt.figure(figsize = (10,4))\n",
    "sns.lineplot(data = df, x='published_at',y='view_count')\n",
    "plt.show()"
   ]
  },
  {
   "cell_type": "markdown",
   "id": "9e7aa8b0-87cc-443e-9e87-7d3d28c99a4f",
   "metadata": {},
   "source": [
    "#### More on working with dates\n",
    "Pandas datetime types can be interpreted in multiple formats"
   ]
  },
  {
   "cell_type": "code",
   "execution_count": null,
   "id": "6497a450-7d01-4411-9a5d-45af9a103a31",
   "metadata": {
    "tags": []
   },
   "outputs": [],
   "source": [
    "date1 = 'April 5, 2025'\n",
    "pd.to_datetime(date1, format = '%B %d, %Y')"
   ]
  },
  {
   "cell_type": "code",
   "execution_count": null,
   "id": "d549b688-74bd-41de-8d4f-f58694732608",
   "metadata": {
    "tags": []
   },
   "outputs": [],
   "source": [
    "date2 = 'Apr 5, 2025'\n",
    "pd.to_datetime(date2, format = '%b %d, %Y')"
   ]
  },
  {
   "cell_type": "code",
   "execution_count": null,
   "id": "b21d9adc-864e-407c-8b33-f943410c0b71",
   "metadata": {
    "tags": []
   },
   "outputs": [],
   "source": [
    "date3 = '4/5/25'\n",
    "pd.to_datetime(date3, format = '%m/%d/%y')"
   ]
  },
  {
   "cell_type": "code",
   "execution_count": null,
   "id": "77ec4ae7-019a-4e79-a518-3fbbc4e4ca06",
   "metadata": {
    "tags": []
   },
   "outputs": [],
   "source": [
    "date4 = '5-4-25'\n",
    "pd.to_datetime(date4, format = '%d-%m-%y')"
   ]
  },
  {
   "cell_type": "code",
   "execution_count": null,
   "id": "f80753b8-f123-4562-a977-cc4e593faf54",
   "metadata": {
    "tags": []
   },
   "outputs": [],
   "source": [
    "date5 = '4-5-2025'\n",
    "pd.to_datetime(date5, format = '%m-%d-%Y')"
   ]
  },
  {
   "cell_type": "code",
   "execution_count": null,
   "id": "4cf0dbf4-1594-4944-988e-395cf4c644c0",
   "metadata": {
    "tags": []
   },
   "outputs": [],
   "source": [
    "date6 = '4-05-2025'\n",
    "pd.to_datetime(date5, format = '%m-%d-%Y')"
   ]
  },
  {
   "cell_type": "markdown",
   "id": "c5875408-c98e-4c18-ad9c-45d7cb963d42",
   "metadata": {},
   "source": [
    "Use [this reference](https://docs.python.org/3/library/datetime.html#strftime-and-strptime-behavior) for more info about datetime formats. "
   ]
  },
  {
   "cell_type": "markdown",
   "id": "8cadaab0-d07a-4bd8-b78c-cba3b86d66b6",
   "metadata": {},
   "source": [
    "### Reset the index"
   ]
  },
  {
   "cell_type": "code",
   "execution_count": null,
   "id": "913d4983-e5a2-43c4-b806-d54852c9b6bf",
   "metadata": {
    "tags": []
   },
   "outputs": [],
   "source": [
    "# Reset the index for easy access by video id\n",
    "df.set_index('video_id',inplace=True)\n",
    "df.head()"
   ]
  },
  {
   "cell_type": "code",
   "execution_count": null,
   "id": "c70db638-a11e-48f6-b047-015e73ce64b0",
   "metadata": {
    "tags": []
   },
   "outputs": [],
   "source": [
    "# index by video id\n",
    "video_id = \"PoGnLtH1UHY\"\n",
    "df.loc[video_id]"
   ]
  },
  {
   "cell_type": "code",
   "execution_count": null,
   "id": "05d6be84-fa62-4c1d-b91e-72f8a8c7b144",
   "metadata": {
    "tags": []
   },
   "outputs": [],
   "source": [
    "df.loc[df.view_count.idxmax()]"
   ]
  },
  {
   "cell_type": "markdown",
   "id": "cd998bf8-f5b4-483c-8db7-21e9885fc3a9",
   "metadata": {},
   "source": [
    "### Reorder the data"
   ]
  },
  {
   "cell_type": "code",
   "execution_count": null,
   "id": "7eccd5fc-1bcb-42c2-86fb-fc6ad8430f0b",
   "metadata": {
    "tags": []
   },
   "outputs": [],
   "source": [
    "# reorder rows\n",
    "df.sort_index(axis=0).head()"
   ]
  },
  {
   "cell_type": "code",
   "execution_count": null,
   "id": "0bef6009-4ede-4ce1-a6ae-a2c790cf72ca",
   "metadata": {
    "tags": []
   },
   "outputs": [],
   "source": [
    "# doesn't update original\n",
    "df.head()"
   ]
  },
  {
   "cell_type": "code",
   "execution_count": null,
   "id": "63073abe-39c5-4074-9878-69a1c60107cb",
   "metadata": {
    "tags": []
   },
   "outputs": [],
   "source": [
    "# reorder columns\n",
    "df.sort_index(axis=1).head()"
   ]
  },
  {
   "cell_type": "code",
   "execution_count": null,
   "id": "31ab3c39-86ac-44a7-9932-5c5c6c231d0e",
   "metadata": {
    "tags": []
   },
   "outputs": [],
   "source": [
    "# Place columns in your chosen order\n",
    "df[['view_count','like_count','published_at','title']].head()"
   ]
  },
  {
   "cell_type": "code",
   "execution_count": null,
   "id": "4970d685-2b93-4892-b923-893ec8d6e6c3",
   "metadata": {
    "tags": []
   },
   "outputs": [],
   "source": [
    "# sort the data \n",
    "df.sort_values(by='view_count').head()"
   ]
  },
  {
   "cell_type": "code",
   "execution_count": null,
   "id": "119f9991-7b19-4bcb-a118-0cce2415a258",
   "metadata": {
    "tags": []
   },
   "outputs": [],
   "source": [
    "# doesn't update original\n",
    "df.head()"
   ]
  },
  {
   "cell_type": "code",
   "execution_count": null,
   "id": "136ab857-3659-4c50-b333-fff8ba3bbf8b",
   "metadata": {
    "tags": []
   },
   "outputs": [],
   "source": [
    "# do it inplace\n",
    "df.sort_values(by = 'view_count',ascending=False, inplace=True)"
   ]
  },
  {
   "cell_type": "code",
   "execution_count": null,
   "id": "1b9b5491-d11d-4928-aa87-7b1f1cf7277b",
   "metadata": {
    "tags": []
   },
   "outputs": [],
   "source": [
    "df.head()"
   ]
  },
  {
   "cell_type": "code",
   "execution_count": null,
   "id": "5142a38a-e4e5-426a-aa5f-f553699931ca",
   "metadata": {
    "tags": []
   },
   "outputs": [],
   "source": [
    "# sort by multiple values at once\n",
    "df.sort_values(by = ['view_count','like_count'],ascending=[False,True], inplace=True)\n",
    "df.head()"
   ]
  },
  {
   "cell_type": "markdown",
   "id": "f97e8387-8acc-4f9e-a675-9f93794ec29e",
   "metadata": {},
   "source": [
    "### Reshaping data"
   ]
  },
  {
   "cell_type": "code",
   "execution_count": null,
   "id": "2eb30dd5-bb76-4384-b8a2-e21d377e623a",
   "metadata": {
    "tags": []
   },
   "outputs": [],
   "source": [
    "df_weather_wide = pd.read_csv('sample_weather.csv')\n",
    "df_weather_wide = df_weather_wide.iloc[:,1:]\n",
    "df_weather_wide"
   ]
  },
  {
   "cell_type": "code",
   "execution_count": null,
   "id": "2ab99dc8-f4d5-4820-9b30-33d5f2796d7f",
   "metadata": {},
   "outputs": [],
   "source": [
    "# transpose with more informative columns\n",
    "date_index = df_weather_wide.set_index('date')\n",
    "date_index"
   ]
  },
  {
   "cell_type": "code",
   "execution_count": null,
   "id": "34b69cbf-09ec-4dc8-bea7-e735060a8a8d",
   "metadata": {
    "tags": []
   },
   "outputs": [],
   "source": [
    "# Make a long series\n",
    "long_df = date_index.stack()\n",
    "long_df"
   ]
  },
  {
   "cell_type": "code",
   "execution_count": null,
   "id": "9e77ea5f-a78f-477f-a59b-5c1e7961aad8",
   "metadata": {
    "tags": []
   },
   "outputs": [],
   "source": [
    "long_df = long_df.reset_index(name='value')\n",
    "long_df"
   ]
  },
  {
   "cell_type": "code",
   "execution_count": null,
   "id": "3da7e83c-74be-4da4-8c54-834a97bf7b99",
   "metadata": {
    "tags": []
   },
   "outputs": [],
   "source": [
    "long_df.rename(columns = {'level_1':'variable'},inplace=True)\n",
    "long_df"
   ]
  },
  {
   "cell_type": "code",
   "execution_count": null,
   "id": "b00c33c0-6564-4088-8f2e-fe92df0a8d95",
   "metadata": {
    "tags": []
   },
   "outputs": [],
   "source": [
    "# If our columns had a name\n",
    "date_index.columns.name = 'variable'"
   ]
  },
  {
   "cell_type": "code",
   "execution_count": null,
   "id": "303757f8-2655-4138-9251-fd1a60800ed3",
   "metadata": {
    "tags": []
   },
   "outputs": [],
   "source": [
    "date_index"
   ]
  },
  {
   "cell_type": "code",
   "execution_count": null,
   "id": "2e87cda8-921b-4c2b-8440-825272763d93",
   "metadata": {
    "tags": []
   },
   "outputs": [],
   "source": [
    "# Now renaming isn't necessary\n",
    "date_index.stack().reset_index(name = 'value')"
   ]
  },
  {
   "cell_type": "code",
   "execution_count": null,
   "id": "2715e278-0961-4668-aa85-1da5038064bf",
   "metadata": {
    "tags": []
   },
   "outputs": [],
   "source": [
    "# another way\n",
    "df_weather_wide"
   ]
  },
  {
   "cell_type": "code",
   "execution_count": null,
   "id": "0df346f8-09f5-447d-8a28-37e3c5ea7511",
   "metadata": {
    "scrolled": true,
    "tags": []
   },
   "outputs": [],
   "source": [
    "# another way\n",
    "long_df = df_weather_wide.melt(id_vars = 'date',value_vars = ['max_temp','min_temp','inches_of_rain'])\n",
    "long_df"
   ]
  },
  {
   "cell_type": "code",
   "execution_count": null,
   "id": "8992d58b-b954-4c31-b775-2296bd93698a",
   "metadata": {
    "tags": []
   },
   "outputs": [],
   "source": [
    "# change long format back into wide format\n",
    "long_df.pivot(index = 'date',columns = 'variable',values='value')"
   ]
  },
  {
   "cell_type": "markdown",
   "id": "38977d9d-2f68-401b-a8f9-b87d1133a0ab",
   "metadata": {},
   "source": [
    "### What do when there are multiple values in categories "
   ]
  },
  {
   "cell_type": "code",
   "execution_count": null,
   "id": "601b87e5-2892-4afe-b1fc-e0f2cc2df6e1",
   "metadata": {
    "tags": []
   },
   "outputs": [],
   "source": [
    "long_df = pd.read_csv('long_data.csv')\n",
    "long_df = long_df.iloc[:,1:]\n",
    "long_df.head()"
   ]
  },
  {
   "cell_type": "code",
   "execution_count": null,
   "id": "52bee2e8-a982-44fd-b9bf-2b2be0153d22",
   "metadata": {
    "scrolled": true,
    "tags": []
   },
   "outputs": [],
   "source": [
    "# Pivot the data to get average sales by date and category\n",
    "long_df.pivot_table(index=['date'], columns='category', values=['sales'])"
   ]
  },
  {
   "cell_type": "code",
   "execution_count": null,
   "id": "e42219b6-7acd-4952-9eae-06a3d285f564",
   "metadata": {
    "tags": []
   },
   "outputs": [],
   "source": [
    "# Pivot the data to get TOTAL sales by date and category\n",
    "wide_df = long_df.pivot_table(index=['date'], columns='category', values=['sales'], aggfunc=sum)\n",
    "wide_df"
   ]
  },
  {
   "cell_type": "code",
   "execution_count": null,
   "id": "9718e753-5e1b-4f5c-b11b-c06eab3ca428",
   "metadata": {
    "tags": []
   },
   "outputs": [],
   "source": [
    "# Pivot the data to get TOTAL sales by date, product, and category\n",
    "long_df.pivot_table(index='date', columns=['category','product'], values=['sales'], aggfunc=sum)"
   ]
  },
  {
   "cell_type": "code",
   "execution_count": null,
   "id": "f9f426ce-67a4-44f0-b00e-129d7a60f2ad",
   "metadata": {
    "tags": []
   },
   "outputs": [],
   "source": [
    "# Go from wide to long\n",
    "wide_df.reset_index().melt(id_vars='date', var_name=['type','category'])"
   ]
  },
  {
   "cell_type": "markdown",
   "id": "fb525577-7c49-4ee9-bb23-04b3f60652b2",
   "metadata": {},
   "source": [
    "## Activity"
   ]
  },
  {
   "cell_type": "code",
   "execution_count": null,
   "id": "1557a685-3cd9-400b-aa51-ef8d65652e08",
   "metadata": {},
   "outputs": [],
   "source": [
    "\n",
    "# Create a DataFrame with data cleaning and reshaping opportunities\n",
    "data = {\n",
    "    'Pet Name': ['Fluffy', 'Whiskers', 'Bubbles', 'Spike', 'Coco', 'Maybelle', 'Snowball'],\n",
    "    'Date Adopted': ['10-01-2023','03-04-2024','01-10-2024','02-14-2024','11-22-2023','01-04-2024','12-25-2025'],\n",
    "    'Animal Type': ['Cat', 'Cat', 'Fish', 'Dog', 'Fish', 'Dog', 'Cat'],\n",
    "    'Pet Age': ['3', '2', '13', '5', '4', '3', '2'],\n",
    "    'Color': ['White', 'Gray', 'Orange', 'White', 'White', 'Black', 'Black'],\n",
    "    'Happiness Level': ['High', 'Medium', 'High', 'Low', 'High', 'High', 'Medium']\n",
    "}\n",
    "df_pets = pd.DataFrame(data)\n",
    "df_pets"
   ]
  },
  {
   "cell_type": "markdown",
   "id": "43c8091a-1e87-4fd0-87bb-c434e122d3f9",
   "metadata": {},
   "source": [
    "**Activity 1:** Rename the columns of the pets dataframe to be in a better format."
   ]
  },
  {
   "cell_type": "code",
   "execution_count": null,
   "id": "1e77d7be-82d2-48e6-a0e4-8f3fe8fcb433",
   "metadata": {},
   "outputs": [],
   "source": []
  },
  {
   "cell_type": "markdown",
   "id": "c716e648-d61a-42b1-a10a-7615969dfa01",
   "metadata": {},
   "source": [
    "**Activity 2:** Change any datatypes that should be adjusted.  "
   ]
  },
  {
   "cell_type": "code",
   "execution_count": null,
   "id": "50496617-5618-4924-834b-e2dfe8d8ac6e",
   "metadata": {},
   "outputs": [],
   "source": []
  },
  {
   "cell_type": "markdown",
   "id": "7449ad61-c3e3-41d2-b463-708d05404504",
   "metadata": {},
   "source": [
    "**Activity 3:** Practice pivoting the dataframe."
   ]
  },
  {
   "cell_type": "code",
   "execution_count": null,
   "id": "63ca2e9e-8dfe-4c54-9dd5-9dd86de7a6a5",
   "metadata": {},
   "outputs": [],
   "source": []
  }
 ],
 "metadata": {
  "kernelspec": {
   "display_name": "Python 3 (ipykernel)",
   "language": "python",
   "name": "python3"
  },
  "language_info": {
   "codemirror_mode": {
    "name": "ipython",
    "version": 3
   },
   "file_extension": ".py",
   "mimetype": "text/x-python",
   "name": "python",
   "nbconvert_exporter": "python",
   "pygments_lexer": "ipython3",
   "version": "3.11.4"
  }
 },
 "nbformat": 4,
 "nbformat_minor": 5
}
