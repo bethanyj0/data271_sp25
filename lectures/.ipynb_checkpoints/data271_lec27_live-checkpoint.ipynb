{
 "cells": [
  {
   "cell_type": "markdown",
   "id": "b4a1f3a0-32ff-42ac-a747-2b62d0b1eb25",
   "metadata": {},
   "source": [
    "# Cleaning Data\n",
    "If you want to type along with me, use [this notebook](https://humboldt.cloudbank.2i2c.cloud/hub/user-redirect/git-pull?repo=https%3A%2F%2Fgithub.com%2Fbethanyj0%2Fdata271_sp25&branch=main&urlpath=tree%2Fdata271_sp25%2Flectures%2Fdata271_lec27_live.ipynb) instead. \n",
    "If you don't want to type and want to follow along just by executing the cells, stay in this notebook. "
   ]
  },
  {
   "cell_type": "code",
   "execution_count": null,
   "id": "c2a7407d-dc30-450a-8287-f89e6048c8b3",
   "metadata": {
    "tags": []
   },
   "outputs": [],
   "source": [
    "import numpy as np\n",
    "import pandas as pd"
   ]
  },
  {
   "cell_type": "code",
   "execution_count": null,
   "id": "71723be9-5523-4054-b182-3182a1bd677b",
   "metadata": {
    "tags": []
   },
   "outputs": [],
   "source": [
    "# import the youtube data from last time\n",
    "df = pd.read_csv('humboldt_youtube_2025.csv', dtype={'viewCount': 'object', 'likeCount':'object'})\n",
    "df.head()"
   ]
  },
  {
   "cell_type": "markdown",
   "id": "27c50d1e-af3f-4f83-a478-202f99fe87b9",
   "metadata": {},
   "source": [
    "## Cleaning the data "
   ]
  },
  {
   "cell_type": "code",
   "execution_count": null,
   "id": "9ddbd260-b056-4d4e-a248-81be916d02f6",
   "metadata": {
    "tags": []
   },
   "outputs": [],
   "source": [
    "# Check the column names\n"
   ]
  },
  {
   "cell_type": "code",
   "execution_count": null,
   "id": "b1c0984d-e689-45c7-aaae-abfbb9d4ceb0",
   "metadata": {
    "tags": []
   },
   "outputs": [],
   "source": [
    "# Inspect some questions\n"
   ]
  },
  {
   "cell_type": "code",
   "execution_count": null,
   "id": "4b958f14-d6dd-42f0-b802-2ce8804d8ce8",
   "metadata": {
    "tags": []
   },
   "outputs": [],
   "source": [
    "# the two columns above are identical\n"
   ]
  },
  {
   "cell_type": "code",
   "execution_count": null,
   "id": "893ed23b-646d-402c-8a98-d9d18664c614",
   "metadata": {
    "tags": []
   },
   "outputs": [],
   "source": [
    "# Check for any columns with just one value\n"
   ]
  },
  {
   "cell_type": "code",
   "execution_count": null,
   "id": "f33b0c1c-dab3-44a2-bda6-23ba314b64ad",
   "metadata": {
    "tags": []
   },
   "outputs": [],
   "source": [
    "# Save some relevant data, then remove redundant columns\n",
    "channel_id = \n",
    "chanel_title = "
   ]
  },
  {
   "cell_type": "code",
   "execution_count": null,
   "id": "5178cfe1-de67-4699-acc9-99ba105fb113",
   "metadata": {
    "tags": []
   },
   "outputs": [],
   "source": []
  },
  {
   "cell_type": "code",
   "execution_count": null,
   "id": "b6a5e7f3-fe92-4d66-92ad-ed56f378093c",
   "metadata": {
    "tags": []
   },
   "outputs": [],
   "source": [
    "df.head()"
   ]
  },
  {
   "cell_type": "markdown",
   "id": "66e96878-391d-429e-817f-fdf3a71040d7",
   "metadata": {},
   "source": [
    "### Reformat column names\n",
    "Our columns names are in different formats. Let's fix that."
   ]
  },
  {
   "cell_type": "code",
   "execution_count": null,
   "id": "437055f4-704a-4416-b636-6baa5d1a6f04",
   "metadata": {
    "tags": []
   },
   "outputs": [],
   "source": [
    "# OPTION 1 .rename method\n"
   ]
  },
  {
   "cell_type": "code",
   "execution_count": null,
   "id": "ae89fec1-bfaa-4fd5-a78c-ac53f2e5cf50",
   "metadata": {
    "tags": []
   },
   "outputs": [],
   "source": [
    "# does not update original (use inline=True)\n",
    "df.head()"
   ]
  },
  {
   "cell_type": "code",
   "execution_count": null,
   "id": "85464674-689d-4913-82b2-7a3447671ad6",
   "metadata": {
    "tags": []
   },
   "outputs": [],
   "source": [
    "# OPTION 2: more general approach that would work for many columns\n",
    "# Split column names by words\n",
    "import re\n",
    "split_by_words = [re.split('(?=[A-Z])',i) for i in df.columns]\n",
    "split_by_words"
   ]
  },
  {
   "cell_type": "code",
   "execution_count": null,
   "id": "e7f63897-d7f7-4c12-983f-cefd22cb82d3",
   "metadata": {
    "tags": []
   },
   "outputs": [],
   "source": [
    "# Insert an underscore between words\n",
    "columns_with_underscores = ['_'.join(i).lower() for i in split_by_words]\n",
    "columns_with_underscores"
   ]
  },
  {
   "cell_type": "code",
   "execution_count": null,
   "id": "7f35414b-211e-4205-92a7-b42269dd92da",
   "metadata": {
    "tags": []
   },
   "outputs": [],
   "source": [
    "# Reassign column names\n",
    "df.columns = columns_with_underscores"
   ]
  },
  {
   "cell_type": "code",
   "execution_count": null,
   "id": "43521562-fcbb-43ae-a419-11fefddac48d",
   "metadata": {
    "tags": []
   },
   "outputs": [],
   "source": [
    "df.head()"
   ]
  },
  {
   "cell_type": "markdown",
   "id": "15302901-e6cc-4076-b1ac-3eb7631a1aba",
   "metadata": {},
   "source": [
    "### Convert datatypes"
   ]
  },
  {
   "cell_type": "code",
   "execution_count": null,
   "id": "2aaa8b62-4462-4c54-b448-c63e42063120",
   "metadata": {
    "tags": []
   },
   "outputs": [],
   "source": [
    "# Suppose we wanted to look at the relationship between view counts and like counts\n",
    "import matplotlib.pyplot as plt\n",
    "import seaborn as sns\n",
    "sns.set_style('darkgrid')\n",
    "sns.scatterplot(data = df, x='view_count',y='like_count')\n",
    "plt.show()"
   ]
  },
  {
   "cell_type": "code",
   "execution_count": null,
   "id": "c1cfdc33-5862-4c47-9062-d21d2ba94d12",
   "metadata": {
    "scrolled": true,
    "tags": []
   },
   "outputs": [],
   "source": [
    "# Something is funky. Check the data types\n"
   ]
  },
  {
   "cell_type": "code",
   "execution_count": null,
   "id": "66d77945-f587-44d1-94a3-a9f8d9900ca8",
   "metadata": {
    "tags": []
   },
   "outputs": [],
   "source": [
    "# convert the data types\n",
    "df = "
   ]
  },
  {
   "cell_type": "code",
   "execution_count": null,
   "id": "b5c6a5e4-4843-43f2-be47-8155b5654b60",
   "metadata": {
    "tags": []
   },
   "outputs": [],
   "source": [
    "# check data types again\n",
    "df.dtypes"
   ]
  },
  {
   "cell_type": "code",
   "execution_count": null,
   "id": "a94030a3-66e6-4863-ae8e-17839a999ddb",
   "metadata": {
    "tags": []
   },
   "outputs": [],
   "source": [
    "# plot again\n",
    "sns.scatterplot(data = df, x='view_count',y='like_count')\n",
    "plt.show()"
   ]
  },
  {
   "cell_type": "code",
   "execution_count": null,
   "id": "e6d863af-a558-471e-88f3-711608bdca99",
   "metadata": {
    "tags": []
   },
   "outputs": [],
   "source": [
    "# What if we wanted to plot trend in view counts?\n",
    "sns.lineplot(data = df, x='published_at',y='view_count')\n",
    "plt.show()"
   ]
  },
  {
   "cell_type": "code",
   "execution_count": null,
   "id": "07a15eab-1b39-44b1-bc77-471ffa298d62",
   "metadata": {
    "tags": []
   },
   "outputs": [],
   "source": [
    "# change dates to datetime data\n",
    "df['published_at'] = \n",
    "df.head()"
   ]
  },
  {
   "cell_type": "code",
   "execution_count": null,
   "id": "8e877f3a-6183-4b25-9171-65dd4d4dc0bd",
   "metadata": {
    "tags": []
   },
   "outputs": [],
   "source": [
    "# Check dtypes again\n",
    "df.dtypes"
   ]
  },
  {
   "cell_type": "code",
   "execution_count": null,
   "id": "4bdeb08f-c1ac-4771-9cca-7fb5dc8bbd4c",
   "metadata": {
    "tags": []
   },
   "outputs": [],
   "source": [
    "# plot again\n",
    "plt.figure(figsize = (10,4))\n",
    "sns.lineplot(data = df, x='published_at',y='view_count')\n",
    "plt.show()"
   ]
  },
  {
   "cell_type": "markdown",
   "id": "eb7a3bf1-69f6-4ad7-8343-dea930f75aa2",
   "metadata": {},
   "source": [
    "#### More on working with dates\n",
    "Pandas datetime types can be interpreted in multiple formats"
   ]
  },
  {
   "cell_type": "code",
   "execution_count": null,
   "id": "d725019a-08ee-483b-9768-c12bb7318c45",
   "metadata": {
    "tags": []
   },
   "outputs": [],
   "source": [
    "date1 = 'April 5, 2025'\n",
    "pd.to_datetime(date1, format = )"
   ]
  },
  {
   "cell_type": "code",
   "execution_count": 1,
   "id": "1a8d520f-709b-4d4a-a743-afd3343918a9",
   "metadata": {
    "tags": []
   },
   "outputs": [
    {
     "ename": "NameError",
     "evalue": "name 'pd' is not defined",
     "output_type": "error",
     "traceback": [
      "\u001b[0;31m---------------------------------------------------------------------------\u001b[0m",
      "\u001b[0;31mNameError\u001b[0m                                 Traceback (most recent call last)",
      "Cell \u001b[0;32mIn[1], line 2\u001b[0m\n\u001b[1;32m      1\u001b[0m date2 \u001b[38;5;241m=\u001b[39m \u001b[38;5;124m'\u001b[39m\u001b[38;5;124mApr 5, 2025\u001b[39m\u001b[38;5;124m'\u001b[39m\n\u001b[0;32m----> 2\u001b[0m pd\u001b[38;5;241m.\u001b[39mto_datetime(date2, \u001b[38;5;28mformat\u001b[39m \u001b[38;5;241m=\u001b[39m \u001b[38;5;124m'\u001b[39m\u001b[38;5;124m%\u001b[39m\u001b[38;5;124mb \u001b[39m\u001b[38;5;132;01m%d\u001b[39;00m\u001b[38;5;124m, \u001b[39m\u001b[38;5;124m%\u001b[39m\u001b[38;5;124mY\u001b[39m\u001b[38;5;124m'\u001b[39m)\n",
      "\u001b[0;31mNameError\u001b[0m: name 'pd' is not defined"
     ]
    }
   ],
   "source": [
    "date2 = 'Apr 5, 2025'\n",
    "pd.to_datetime(date2, format = )"
   ]
  },
  {
   "cell_type": "code",
   "execution_count": null,
   "id": "014651c9-9ac8-41e0-afc7-2f436e470940",
   "metadata": {
    "tags": []
   },
   "outputs": [],
   "source": [
    "date3 = '4/5/25'\n",
    "pd.to_datetime(date3, format = )"
   ]
  },
  {
   "cell_type": "code",
   "execution_count": null,
   "id": "3350030c-c595-46f9-8ee2-5c0c3f894ad1",
   "metadata": {
    "tags": []
   },
   "outputs": [],
   "source": [
    "date4 = '5-4-25'\n",
    "pd.to_datetime(date4, format = )"
   ]
  },
  {
   "cell_type": "code",
   "execution_count": null,
   "id": "a2992be0-d757-4451-b374-06c42fe55e1e",
   "metadata": {
    "tags": []
   },
   "outputs": [],
   "source": [
    "date5 = '4-5-2025'\n",
    "pd.to_datetime(date5, format = )"
   ]
  },
  {
   "cell_type": "code",
   "execution_count": null,
   "id": "00cc0df5-552e-430d-a4eb-4c2840edb028",
   "metadata": {
    "tags": []
   },
   "outputs": [],
   "source": [
    "date6 = '4-05-2025'\n",
    "pd.to_datetime(date5, format = )"
   ]
  },
  {
   "cell_type": "markdown",
   "id": "d1e74bba-b928-4604-8f28-dc5c340778d4",
   "metadata": {},
   "source": [
    "Use [this reference](https://docs.python.org/3/library/datetime.html#strftime-and-strptime-behavior) for more info about datetime formats. "
   ]
  },
  {
   "cell_type": "markdown",
   "id": "2226f4fc-ac35-4314-84fd-9c4787d20ba8",
   "metadata": {},
   "source": [
    "### Reset the index"
   ]
  },
  {
   "cell_type": "code",
   "execution_count": null,
   "id": "db154d50-192a-4366-bcab-f247358db22e",
   "metadata": {
    "tags": []
   },
   "outputs": [],
   "source": [
    "# Reset the index for easy access by video id\n",
    "df.set_index('video_id',inplace=True)\n",
    "df.head()"
   ]
  },
  {
   "cell_type": "code",
   "execution_count": null,
   "id": "3af59e98-ff6e-4c0a-a4b3-f8595c914de6",
   "metadata": {
    "tags": []
   },
   "outputs": [],
   "source": [
    "# index by video id\n",
    "video_id = \"PoGnLtH1UHY\"\n",
    "df.loc[video_id]"
   ]
  },
  {
   "cell_type": "code",
   "execution_count": null,
   "id": "6692338c-9731-4e7d-bb8b-f26cdc455f1f",
   "metadata": {
    "tags": []
   },
   "outputs": [],
   "source": [
    "df.loc[df.view_count.idxmax()]"
   ]
  },
  {
   "cell_type": "markdown",
   "id": "d1074c94-48fe-450b-8bd7-9ae28de38fca",
   "metadata": {},
   "source": [
    "### Reorder the data"
   ]
  },
  {
   "cell_type": "code",
   "execution_count": null,
   "id": "12ac8aeb-818c-4b02-8ba0-949382d19313",
   "metadata": {
    "tags": []
   },
   "outputs": [],
   "source": [
    "# reorder rows\n",
    "df.sort_index(axis=0).head()"
   ]
  },
  {
   "cell_type": "code",
   "execution_count": null,
   "id": "cee0050c-f4fe-4063-99ea-d233bfe6d345",
   "metadata": {
    "tags": []
   },
   "outputs": [],
   "source": [
    "# doesn't update original\n",
    "df.head()"
   ]
  },
  {
   "cell_type": "code",
   "execution_count": null,
   "id": "c3e22c1b-ed3e-4656-af9c-131ea98499b0",
   "metadata": {
    "tags": []
   },
   "outputs": [],
   "source": [
    "# reorder columns\n",
    "df.sort_index(axis=1).head()"
   ]
  },
  {
   "cell_type": "code",
   "execution_count": null,
   "id": "9c1c3ae5-985f-4c4a-bace-9562f8e8a4b7",
   "metadata": {
    "tags": []
   },
   "outputs": [],
   "source": [
    "# Place columns in your chosen order\n",
    "df[['view_count','like_count','published_at','title']].head()"
   ]
  },
  {
   "cell_type": "code",
   "execution_count": null,
   "id": "15e5f5ca-d561-4298-9ee5-044094663940",
   "metadata": {
    "tags": []
   },
   "outputs": [],
   "source": [
    "# sort the data \n",
    "df.sort_values(by='view_count').head()"
   ]
  },
  {
   "cell_type": "code",
   "execution_count": null,
   "id": "4803d0c2-3d77-424e-b215-12f6a87e6124",
   "metadata": {
    "tags": []
   },
   "outputs": [],
   "source": [
    "# doesn't update original\n",
    "df.head()"
   ]
  },
  {
   "cell_type": "code",
   "execution_count": null,
   "id": "d830047e-0ea3-4e98-a61d-6829ab6c1ec3",
   "metadata": {
    "tags": []
   },
   "outputs": [],
   "source": [
    "# do it inplace\n",
    "df.sort_values(by = 'view_count',ascending=False, inplace=True)"
   ]
  },
  {
   "cell_type": "code",
   "execution_count": null,
   "id": "2dd1ac14-b5d4-4552-8628-d146fb786df0",
   "metadata": {
    "tags": []
   },
   "outputs": [],
   "source": [
    "df.head()"
   ]
  },
  {
   "cell_type": "code",
   "execution_count": null,
   "id": "f45ef354-ab70-42f4-9e0f-1c776aada226",
   "metadata": {
    "tags": []
   },
   "outputs": [],
   "source": [
    "# sort by multiple values at once\n",
    "df.sort_values(by = ['view_count','like_count'],ascending=[False,True], inplace=True)\n",
    "df.head()"
   ]
  },
  {
   "cell_type": "markdown",
   "id": "47920b84-bbc2-483f-a8f5-76024e8ad50d",
   "metadata": {},
   "source": [
    "### Reshaping data"
   ]
  },
  {
   "cell_type": "code",
   "execution_count": null,
   "id": "5858f13a-3f89-45ea-ab85-4ec1d3e19cc3",
   "metadata": {
    "tags": []
   },
   "outputs": [],
   "source": [
    "df_weather_wide = pd.read_csv('sample_weather.csv')\n",
    "df_weather_wide = df_weather_wide.iloc[:,1:]\n",
    "df_weather_wide"
   ]
  },
  {
   "cell_type": "code",
   "execution_count": null,
   "id": "ec0afe66-2e20-498a-8ec1-6d378eb22bdf",
   "metadata": {},
   "outputs": [],
   "source": [
    "# transpose with more informative columns\n",
    "date_index = \n",
    "date_index"
   ]
  },
  {
   "cell_type": "code",
   "execution_count": null,
   "id": "3d178653-5784-46b9-ba54-cf9e5e2cb33b",
   "metadata": {
    "tags": []
   },
   "outputs": [],
   "source": [
    "# Make a long series\n",
    "long_df = \n",
    "long_df"
   ]
  },
  {
   "cell_type": "code",
   "execution_count": null,
   "id": "ae2d0341-0203-4783-8b79-b77c2e5a943b",
   "metadata": {
    "tags": []
   },
   "outputs": [],
   "source": [
    "long_df = \n",
    "long_df"
   ]
  },
  {
   "cell_type": "code",
   "execution_count": null,
   "id": "3ec992f0-0944-4157-a047-302ea34cfc3b",
   "metadata": {
    "tags": []
   },
   "outputs": [],
   "source": [
    "long_df.rename(columns = {'level_1':'variable'},inplace=True)\n",
    "long_df"
   ]
  },
  {
   "cell_type": "code",
   "execution_count": null,
   "id": "b5a840c6-37b2-492a-9b07-0b8d3d0f1bce",
   "metadata": {
    "tags": []
   },
   "outputs": [],
   "source": [
    "# If our columns had a name\n"
   ]
  },
  {
   "cell_type": "code",
   "execution_count": null,
   "id": "2183142c-987e-404f-9269-c1ffac24f2b5",
   "metadata": {
    "tags": []
   },
   "outputs": [],
   "source": [
    "date_index"
   ]
  },
  {
   "cell_type": "code",
   "execution_count": null,
   "id": "0001b645-e8d3-4945-a086-74d55d4dac8c",
   "metadata": {
    "tags": []
   },
   "outputs": [],
   "source": [
    "# Now renaming isn't necessary\n"
   ]
  },
  {
   "cell_type": "code",
   "execution_count": null,
   "id": "d5502afc-b430-49a0-805a-8a804ea8a1a0",
   "metadata": {
    "tags": []
   },
   "outputs": [],
   "source": [
    "# another way\n",
    "df_weather_wide"
   ]
  },
  {
   "cell_type": "code",
   "execution_count": null,
   "id": "0a5b7baf-ab5a-4a45-b9a1-4c614c4c40b8",
   "metadata": {
    "scrolled": true,
    "tags": []
   },
   "outputs": [],
   "source": [
    "# another way\n",
    "long_df = \n",
    "long_df"
   ]
  },
  {
   "cell_type": "code",
   "execution_count": null,
   "id": "3a95835d-bcf0-4bbe-bc54-141760bd04df",
   "metadata": {
    "tags": []
   },
   "outputs": [],
   "source": [
    "# change long format back into wide format\n",
    "long_df.pivot(index = 'date',columns = 'variable',values='value')"
   ]
  },
  {
   "cell_type": "markdown",
   "id": "775b3a11-f693-4f10-8ec1-0a3684858e52",
   "metadata": {},
   "source": [
    "### What do when there are multiple values in categories "
   ]
  },
  {
   "cell_type": "code",
   "execution_count": null,
   "id": "766697bf-bac3-470c-9810-fb96c6182efb",
   "metadata": {
    "tags": []
   },
   "outputs": [],
   "source": [
    "long_df = pd.read_csv('long_data.csv')\n",
    "long_df = long_df.iloc[:,1:]\n",
    "long_df.head()"
   ]
  },
  {
   "cell_type": "code",
   "execution_count": null,
   "id": "cf47e32e-b263-4bc0-8459-c4221d035d3e",
   "metadata": {
    "scrolled": true,
    "tags": []
   },
   "outputs": [],
   "source": [
    "# Pivot the data to get average sales by date and category\n"
   ]
  },
  {
   "cell_type": "code",
   "execution_count": null,
   "id": "7fb9cbfb-846a-4355-af5f-b29e8b4c5b0a",
   "metadata": {
    "tags": []
   },
   "outputs": [],
   "source": [
    "# Pivot the data to get TOTAL sales by date and category\n",
    "wide_df = long_df.pivot_table(index=['date'], columns='category', values=['sales'], aggfunc=sum)\n",
    "wide_df"
   ]
  },
  {
   "cell_type": "code",
   "execution_count": null,
   "id": "369168cf-cf7c-4b69-b86d-adf8e73a8862",
   "metadata": {
    "tags": []
   },
   "outputs": [],
   "source": [
    "# Pivot the data to get TOTAL sales by date, product, and category\n",
    "long_df.pivot_table(index='date', columns=['category','product'], values=['sales'], aggfunc=sum)"
   ]
  },
  {
   "cell_type": "code",
   "execution_count": null,
   "id": "7adf71b5-69d8-4537-b60b-e133ee4ab16f",
   "metadata": {
    "tags": []
   },
   "outputs": [],
   "source": [
    "# Go from wide to long\n",
    "wide_df.reset_index().melt(id_vars='date', var_name=['type','category'])"
   ]
  },
  {
   "cell_type": "markdown",
   "id": "19e6ccab-9cfc-4637-ab01-766a4efbfc64",
   "metadata": {},
   "source": [
    "## Activity"
   ]
  },
  {
   "cell_type": "code",
   "execution_count": null,
   "id": "022601ea-8f2c-4449-a407-870c6932389c",
   "metadata": {},
   "outputs": [],
   "source": [
    "\n",
    "# Create a DataFrame with data cleaning and reshaping opportunities\n",
    "data = {\n",
    "    'Pet Name': ['Fluffy', 'Whiskers', 'Bubbles', 'Spike', 'Coco', 'Maybelle', 'Snowball'],\n",
    "    'Date Adopted': ['10-01-2023','03-04-2024','01-10-2024','02-14-2024','11-22-2023','01-04-2024','12-25-2025'],\n",
    "    'Animal Type': ['Cat', 'Cat', 'Fish', 'Dog', 'Fish', 'Dog', 'Cat'],\n",
    "    'Pet Age': ['3', '2', '13', '5', '4', '3', '2'],\n",
    "    'Color': ['White', 'Gray', 'Orange', 'White', 'White', 'Black', 'Black'],\n",
    "    'Happiness Level': ['High', 'Medium', 'High', 'Low', 'High', 'High', 'Medium']\n",
    "}\n",
    "df_pets = pd.DataFrame(data)\n",
    "df_pets"
   ]
  },
  {
   "cell_type": "markdown",
   "id": "e5b624be-d619-4aad-a622-e6de309fb4b5",
   "metadata": {},
   "source": [
    "**Activity 1:** Rename the columns of the pets dataframe to be in a better format."
   ]
  },
  {
   "cell_type": "code",
   "execution_count": null,
   "id": "b00d1f70-afa2-43f3-bda3-dc8d72176eb4",
   "metadata": {},
   "outputs": [],
   "source": []
  },
  {
   "cell_type": "markdown",
   "id": "ee0f6c65-8357-41ca-9e4d-2e885928b9f6",
   "metadata": {},
   "source": [
    "**Activity 2:** Change any datatypes that should be adjusted.  "
   ]
  },
  {
   "cell_type": "code",
   "execution_count": null,
   "id": "a620c15a-1095-4335-9d60-6fac958e93cd",
   "metadata": {},
   "outputs": [],
   "source": []
  },
  {
   "cell_type": "markdown",
   "id": "9757f462-0ba3-4c89-92a7-eda131f3ded1",
   "metadata": {},
   "source": [
    "**Activity 3:** Practice pivoting the dataframe."
   ]
  },
  {
   "cell_type": "code",
   "execution_count": null,
   "id": "a6ce23ce-ae87-4052-9da5-df422955c469",
   "metadata": {},
   "outputs": [],
   "source": []
  }
 ],
 "metadata": {
  "kernelspec": {
   "display_name": "Python 3 (ipykernel)",
   "language": "python",
   "name": "python3"
  },
  "language_info": {
   "codemirror_mode": {
    "name": "ipython",
    "version": 3
   },
   "file_extension": ".py",
   "mimetype": "text/x-python",
   "name": "python",
   "nbconvert_exporter": "python",
   "pygments_lexer": "ipython3",
   "version": "3.11.4"
  }
 },
 "nbformat": 4,
 "nbformat_minor": 5
}
