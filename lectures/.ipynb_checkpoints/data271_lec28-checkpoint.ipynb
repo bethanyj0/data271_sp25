{
 "cells": [
  {
   "cell_type": "markdown",
   "id": "bd035d4a",
   "metadata": {},
   "source": [
    "# Cleaning Data (continued): Reshaping\n",
    "If you want to type along with me, use [this notebook](https://humboldt.cloudbank.2i2c.cloud/hub/user-redirect/git-pull?repo=https%3A%2F%2Fgithub.com%2Fbethanyj0%2Fdata271_sp25&branch=main&urlpath=tree%2Fdata271_sp25%2Flectures%2Fdata271_lec28_live.ipynb) instead. \n",
    "If you don't want to type and want to follow along just by executing the cells, stay in this notebook. "
   ]
  },
  {
   "cell_type": "code",
   "execution_count": null,
   "id": "f7ca083f-1d13-4ad8-8e5f-bf30839f4e8a",
   "metadata": {
    "tags": []
   },
   "outputs": [],
   "source": [
    "import pandas as pd"
   ]
  },
  {
   "cell_type": "markdown",
   "id": "ba7916ee-499b-4f2b-baec-c6c07ab162e3",
   "metadata": {},
   "source": [
    "### Reshaping data"
   ]
  },
  {
   "cell_type": "code",
   "execution_count": null,
   "id": "89fd1ceb-6f01-47cf-a8d7-2bd5a10f10be",
   "metadata": {
    "tags": []
   },
   "outputs": [],
   "source": [
    "df_weather_wide = pd.read_csv('sample_weather.csv')\n",
    "df_weather_wide = df_weather_wide.iloc[:,1:]\n",
    "df_weather_wide"
   ]
  },
  {
   "cell_type": "code",
   "execution_count": null,
   "id": "94457dc4-0c83-40ae-b1c1-9b1f91e111b3",
   "metadata": {},
   "outputs": [],
   "source": [
    "# transpose with more informative columns\n",
    "date_index = df_weather_wide.set_index('date')\n",
    "date_index"
   ]
  },
  {
   "cell_type": "code",
   "execution_count": null,
   "id": "44d2483e-d468-412b-98fc-b4db785ace0f",
   "metadata": {
    "tags": []
   },
   "outputs": [],
   "source": [
    "# Make a long series\n",
    "long_df = date_index.stack()\n",
    "long_df"
   ]
  },
  {
   "cell_type": "code",
   "execution_count": null,
   "id": "cf8a3392-1119-422e-9d58-95ba54fa5a8b",
   "metadata": {
    "tags": []
   },
   "outputs": [],
   "source": [
    "long_df = long_df.reset_index(name='value')\n",
    "long_df"
   ]
  },
  {
   "cell_type": "code",
   "execution_count": null,
   "id": "e927b972-6e19-46d7-83a3-dcdecef4940c",
   "metadata": {
    "tags": []
   },
   "outputs": [],
   "source": [
    "long_df.rename(columns = {'level_1':'variable'},inplace=True)\n",
    "long_df"
   ]
  },
  {
   "cell_type": "code",
   "execution_count": null,
   "id": "b2231898-a372-4f1a-a237-f64461b20110",
   "metadata": {
    "tags": []
   },
   "outputs": [],
   "source": [
    "# If our columns had a name\n",
    "date_index.columns.name = 'variable'"
   ]
  },
  {
   "cell_type": "code",
   "execution_count": null,
   "id": "f83057e2-0af6-4d85-baf8-0d8876ad5009",
   "metadata": {
    "tags": []
   },
   "outputs": [],
   "source": [
    "date_index"
   ]
  },
  {
   "cell_type": "code",
   "execution_count": null,
   "id": "0337c468-cc60-4e67-8d40-c5a9955fa514",
   "metadata": {
    "tags": []
   },
   "outputs": [],
   "source": [
    "# Now renaming isn't necessary\n",
    "date_index.stack().reset_index(name = 'value')"
   ]
  },
  {
   "cell_type": "code",
   "execution_count": null,
   "id": "e87cdf0f-9c76-44f9-9615-6f7e31a075a1",
   "metadata": {
    "tags": []
   },
   "outputs": [],
   "source": [
    "# another way\n",
    "df_weather_wide"
   ]
  },
  {
   "cell_type": "code",
   "execution_count": null,
   "id": "68637fcd-5484-4bc0-9339-6504d55dd049",
   "metadata": {
    "scrolled": true,
    "tags": []
   },
   "outputs": [],
   "source": [
    "# another way\n",
    "long_df = df_weather_wide.melt(id_vars = 'date',value_vars = ['max_temp','min_temp','inches_of_rain'])\n",
    "long_df"
   ]
  },
  {
   "cell_type": "code",
   "execution_count": null,
   "id": "cc167b86-467e-4488-893b-e71f25944327",
   "metadata": {
    "tags": []
   },
   "outputs": [],
   "source": [
    "# change long format back into wide format\n",
    "long_df.pivot(index = 'date',columns = 'variable',values='value')"
   ]
  },
  {
   "cell_type": "markdown",
   "id": "b60459c6-2db9-461d-b866-7ab01afbd406",
   "metadata": {},
   "source": [
    "### What do when there are multiple values in categories "
   ]
  },
  {
   "cell_type": "code",
   "execution_count": null,
   "id": "aad334de",
   "metadata": {},
   "outputs": [],
   "source": [
    "# A new long dataframe\n",
    "long_df = pd.read_csv('long_data.csv')\n",
    "long_df = long_df.iloc[:,1:]\n",
    "long_df.head()"
   ]
  },
  {
   "cell_type": "code",
   "execution_count": null,
   "id": "38ce852a",
   "metadata": {},
   "outputs": [],
   "source": [
    "# check the number of entries for each combination of date/category\n",
    "pd.crosstab(index=long_df.date,columns=long_df.category)"
   ]
  },
  {
   "cell_type": "code",
   "execution_count": null,
   "id": "40fc9cf2",
   "metadata": {},
   "outputs": [],
   "source": [
    "# Pivot doesn't know how to handle this\n",
    "long_df.pivot(index='date', columns='category', values='sales')"
   ]
  },
  {
   "cell_type": "code",
   "execution_count": null,
   "id": "2c69de22",
   "metadata": {
    "scrolled": true
   },
   "outputs": [],
   "source": [
    "# Use pivot table instead to get the average sales by date and category\n",
    "long_df.pivot_table(index='date', columns='category', values='sales')"
   ]
  },
  {
   "cell_type": "code",
   "execution_count": null,
   "id": "02c35905",
   "metadata": {},
   "outputs": [],
   "source": [
    "# You can also change the aggregation function; e.g. TOTAL sales by date/category\n",
    "wide_df = long_df.pivot_table(index='date', columns='category', values='sales', aggfunc=sum)\n",
    "wide_df"
   ]
  },
  {
   "cell_type": "code",
   "execution_count": null,
   "id": "362cd3a1",
   "metadata": {},
   "outputs": [],
   "source": [
    "# Can also use it like crosstab if you choose len as the aggfunc\n",
    "long_df.pivot_table(index=['date'], columns='category', values=['sales'], aggfunc=len)"
   ]
  },
  {
   "cell_type": "code",
   "execution_count": null,
   "id": "42de4c67",
   "metadata": {},
   "outputs": [],
   "source": [
    "# back to a longer format (note that this only has total sales)\n",
    "wide_df.reset_index().melt(id_vars='date', value_vars=['Books','Clothing','Electronics'])"
   ]
  },
  {
   "cell_type": "code",
   "execution_count": null,
   "id": "f724bda6",
   "metadata": {},
   "outputs": [],
   "source": [
    "# You can also change choose multiple columns\n",
    "wide_df2 = long_df.pivot_table(index='date', columns=['category','product'], values='sales', aggfunc=sum)\n",
    "wide_df2"
   ]
  },
  {
   "cell_type": "code",
   "execution_count": null,
   "id": "9f011cc3",
   "metadata": {},
   "outputs": [],
   "source": [
    "# Rename columns and reset index to work with it as you normally would\n",
    "wide_df2.columns = list(map(\"_\".join, wide_df2.columns))\n",
    "wide_df2.reset_index()"
   ]
  },
  {
   "cell_type": "markdown",
   "id": "6d9f30ca-e2c2-4df4-b666-46cdd5a10a15",
   "metadata": {},
   "source": [
    "## Activity"
   ]
  },
  {
   "cell_type": "code",
   "execution_count": null,
   "id": "3fbd544c-aed2-423f-9fbb-69f6c3403863",
   "metadata": {},
   "outputs": [],
   "source": [
    "\n",
    "# Create a DataFrame with data cleaning and reshaping opportunities\n",
    "data = {\n",
    "    'Pet Name': ['Fluffy', 'Whiskers', 'Bubbles', 'Spike', 'Coco', 'Maybelle', 'Snowball'],\n",
    "    'Date Adopted': ['10-01-2023','03-04-2024','01-10-2024','02-14-2024','11-22-2023','01-04-2024','12-25-2025'],\n",
    "    'Animal Type': ['Cat', 'Cat', 'Fish', 'Dog', 'Fish', 'Dog', 'Cat'],\n",
    "    'Pet Age': ['3', '2', '13', '5', '4', '3', '2'],\n",
    "    'Color': ['White', 'Gray', 'Orange', 'White', 'White', 'Black', 'Black'],\n",
    "    'Happiness Level': ['High', 'Medium', 'High', 'Low', 'High', 'High', 'Medium']\n",
    "}\n",
    "df_pets = pd.DataFrame(data)\n",
    "df_pets"
   ]
  },
  {
   "cell_type": "markdown",
   "id": "54e261d3-03e3-48e8-86cf-8dbe00cffac4",
   "metadata": {},
   "source": [
    "**Activity 1:** Rename the columns of the pets dataframe to be in a better format."
   ]
  },
  {
   "cell_type": "code",
   "execution_count": null,
   "id": "5f234dac-239f-44c5-a144-8cefc76bd434",
   "metadata": {},
   "outputs": [],
   "source": []
  },
  {
   "cell_type": "markdown",
   "id": "c7c1192f-2127-4128-a6f2-dd7a52d0c5ca",
   "metadata": {},
   "source": [
    "**Activity 2:** Change any datatypes that should be adjusted.  "
   ]
  },
  {
   "cell_type": "code",
   "execution_count": null,
   "id": "e10dcee8-ac94-4503-8a33-80a5a6a984f5",
   "metadata": {},
   "outputs": [],
   "source": []
  },
  {
   "cell_type": "markdown",
   "id": "636058d9-7244-4476-8fcf-a9fe39251836",
   "metadata": {},
   "source": [
    "**Activity 3:** Practice pivoting the dataframe."
   ]
  },
  {
   "cell_type": "code",
   "execution_count": null,
   "id": "7ddba1ce-65bb-4674-a177-13755a6a658c",
   "metadata": {},
   "outputs": [],
   "source": []
  }
 ],
 "metadata": {
  "kernelspec": {
   "display_name": "Python 3 (ipykernel)",
   "language": "python",
   "name": "python3"
  },
  "language_info": {
   "codemirror_mode": {
    "name": "ipython",
    "version": 3
   },
   "file_extension": ".py",
   "mimetype": "text/x-python",
   "name": "python",
   "nbconvert_exporter": "python",
   "pygments_lexer": "ipython3",
   "version": "3.11.4"
  }
 },
 "nbformat": 4,
 "nbformat_minor": 5
}
