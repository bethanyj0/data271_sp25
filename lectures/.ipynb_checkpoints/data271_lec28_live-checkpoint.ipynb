{
 "cells": [
  {
   "cell_type": "markdown",
   "id": "bd035d4a",
   "metadata": {},
   "source": [
    "# Cleaning Data (continued): Reshaping"
   ]
  },
  {
   "cell_type": "code",
   "execution_count": null,
   "id": "12d9b93a-a2df-4569-9942-e23bbbf93300",
   "metadata": {
    "tags": []
   },
   "outputs": [],
   "source": [
    "import pandas as pd"
   ]
  },
  {
   "cell_type": "markdown",
   "id": "a661fdca-3ec9-4b5d-a6a4-b5a8300d8dc3",
   "metadata": {},
   "source": [
    "### Reshaping data"
   ]
  },
  {
   "cell_type": "code",
   "execution_count": null,
   "id": "9398b900-c9d5-4c4e-88a8-f29ea561465e",
   "metadata": {
    "tags": []
   },
   "outputs": [],
   "source": [
    "df_weather_wide = pd.read_csv('sample_weather.csv')\n",
    "df_weather_wide = df_weather_wide.iloc[:,1:]\n",
    "df_weather_wide"
   ]
  },
  {
   "cell_type": "code",
   "execution_count": null,
   "id": "cc354dd2-891c-4fa1-a25b-fb08468c4335",
   "metadata": {},
   "outputs": [],
   "source": [
    "# transpose with more informative columns\n",
    "date_index = \n",
    "date_index"
   ]
  },
  {
   "cell_type": "code",
   "execution_count": null,
   "id": "cf93aaf7-2430-45b3-8040-bd29effb9aad",
   "metadata": {
    "tags": []
   },
   "outputs": [],
   "source": [
    "# Make a long series\n",
    "long_df = \n",
    "long_df"
   ]
  },
  {
   "cell_type": "code",
   "execution_count": null,
   "id": "9ec69065-c65c-440d-ac98-2b0798c4e362",
   "metadata": {
    "tags": []
   },
   "outputs": [],
   "source": [
    "long_df = \n",
    "long_df"
   ]
  },
  {
   "cell_type": "code",
   "execution_count": null,
   "id": "5bfbb634-0a8c-4fed-8c93-7c3780cbd961",
   "metadata": {
    "tags": []
   },
   "outputs": [],
   "source": [
    "\n",
    "long_df"
   ]
  },
  {
   "cell_type": "code",
   "execution_count": null,
   "id": "7e225730-7cf9-4d98-8373-150bb31709d6",
   "metadata": {
    "tags": []
   },
   "outputs": [],
   "source": [
    "# If our columns had a name\n"
   ]
  },
  {
   "cell_type": "code",
   "execution_count": null,
   "id": "fd21a669-5ea3-419b-b959-5466afb6999e",
   "metadata": {
    "tags": []
   },
   "outputs": [],
   "source": [
    "date_index"
   ]
  },
  {
   "cell_type": "code",
   "execution_count": null,
   "id": "a7a64f54-51b8-4e29-97a8-09e4070c4c87",
   "metadata": {
    "tags": []
   },
   "outputs": [],
   "source": [
    "# Now renaming isn't necessary\n"
   ]
  },
  {
   "cell_type": "code",
   "execution_count": null,
   "id": "3608edab-5986-41c6-8779-22dd207d7f55",
   "metadata": {
    "tags": []
   },
   "outputs": [],
   "source": [
    "# another way\n",
    "df_weather_wide"
   ]
  },
  {
   "cell_type": "code",
   "execution_count": null,
   "id": "5d62024a-f0a4-4b3e-8f4a-a57e89767ea4",
   "metadata": {
    "scrolled": true,
    "tags": []
   },
   "outputs": [],
   "source": [
    "# another way\n",
    "long_df = \n",
    "long_df"
   ]
  },
  {
   "cell_type": "code",
   "execution_count": null,
   "id": "4a0cb8e8-f357-4668-88a4-30f96d2664c9",
   "metadata": {
    "tags": []
   },
   "outputs": [],
   "source": [
    "# change long format back into wide format\n"
   ]
  },
  {
   "cell_type": "markdown",
   "id": "ea07e9f1-0738-4156-a1de-7c4ec556577c",
   "metadata": {},
   "source": [
    "### What do when there are multiple values in categories "
   ]
  },
  {
   "cell_type": "code",
   "execution_count": null,
   "id": "6c8f3707-c88d-4a48-8b0c-b079d0cba54b",
   "metadata": {},
   "outputs": [],
   "source": [
    "# A new long dataframe\n",
    "long_df = pd.read_csv('long_data.csv')\n",
    "long_df = long_df.iloc[:,1:]\n",
    "long_df.head()"
   ]
  },
  {
   "cell_type": "code",
   "execution_count": null,
   "id": "3c76053e-d9e4-459b-97a4-d5bcfe2f99ba",
   "metadata": {},
   "outputs": [],
   "source": [
    "# check the number of entries for each combination of date/category\n"
   ]
  },
  {
   "cell_type": "code",
   "execution_count": null,
   "id": "ac678056-fa2e-457b-ac91-b4126921ff4c",
   "metadata": {},
   "outputs": [],
   "source": [
    "# Pivot doesn't know how to handle this\n"
   ]
  },
  {
   "cell_type": "code",
   "execution_count": null,
   "id": "63f3e0ec-38aa-48ae-a9dd-47d3d97127c7",
   "metadata": {
    "scrolled": true
   },
   "outputs": [],
   "source": [
    "# Use pivot table instead to get the average sales by date and category\n"
   ]
  },
  {
   "cell_type": "code",
   "execution_count": null,
   "id": "4fb56e2c-b2d1-4341-af1a-8dfc8837897f",
   "metadata": {},
   "outputs": [],
   "source": [
    "# You can also change the aggregation function; e.g. TOTAL sales by date/category\n",
    "wide_df = \n",
    "wide_df"
   ]
  },
  {
   "cell_type": "code",
   "execution_count": null,
   "id": "fa93ee91-c4a9-4084-b815-0ebb92bc5cd5",
   "metadata": {},
   "outputs": [],
   "source": [
    "# Can also use it like crosstab if you choose len as the aggfunc\n"
   ]
  },
  {
   "cell_type": "code",
   "execution_count": null,
   "id": "e14c9939-486c-48f6-b3b0-86d9360232f0",
   "metadata": {},
   "outputs": [],
   "source": [
    "# back to a longer format (note that this only has total sales)\n"
   ]
  },
  {
   "cell_type": "code",
   "execution_count": null,
   "id": "04b4610c-bbc5-411d-a942-5501a24136bc",
   "metadata": {},
   "outputs": [],
   "source": [
    "# You can also change choose multiple columns\n",
    "wide_df2 = \n",
    "wide_df2"
   ]
  },
  {
   "cell_type": "code",
   "execution_count": null,
   "id": "9dc05b40-b63a-452e-bed6-c6d3950d636d",
   "metadata": {},
   "outputs": [],
   "source": [
    "# Rename columns and reset index to work with it as you normally would\n",
    "wide_df2.columns = \n",
    "wide_df2.reset_index()"
   ]
  },
  {
   "cell_type": "markdown",
   "id": "41d3d966-95b9-4f7a-9cd5-0dc6e0293d94",
   "metadata": {},
   "source": [
    "## Activity"
   ]
  },
  {
   "cell_type": "code",
   "execution_count": null,
   "id": "fc40d431-ac64-4f48-b5eb-32a68c8b9916",
   "metadata": {},
   "outputs": [],
   "source": [
    "\n",
    "# Create a DataFrame with data cleaning and reshaping opportunities\n",
    "data = {\n",
    "    'Pet Name': ['Fluffy', 'Whiskers', 'Bubbles', 'Spike', 'Coco', 'Maybelle', 'Snowball'],\n",
    "    'Date Adopted': ['10-01-2023','03-04-2024','01-10-2024','02-14-2024','11-22-2023','01-04-2024','12-25-2025'],\n",
    "    'Animal Type': ['Cat', 'Cat', 'Fish', 'Dog', 'Fish', 'Dog', 'Cat'],\n",
    "    'Pet Age': ['3', '2', '13', '5', '4', '3', '2'],\n",
    "    'Color': ['White', 'Gray', 'Orange', 'White', 'White', 'Black', 'Black'],\n",
    "    'Happiness Level': ['High', 'Medium', 'High', 'Low', 'High', 'High', 'Medium']\n",
    "}\n",
    "df_pets = pd.DataFrame(data)\n",
    "df_pets"
   ]
  },
  {
   "cell_type": "markdown",
   "id": "569cfc5f-ca63-41e3-9830-bc8b0846f6e8",
   "metadata": {},
   "source": [
    "**Activity 1:** Rename the columns of the pets dataframe to be in a better format."
   ]
  },
  {
   "cell_type": "code",
   "execution_count": null,
   "id": "4906e209-8723-4e52-b9c2-725f435308af",
   "metadata": {},
   "outputs": [],
   "source": []
  },
  {
   "cell_type": "markdown",
   "id": "3c711a19-c0d7-4dc3-8bf2-8f0055e665c1",
   "metadata": {},
   "source": [
    "**Activity 2:** Change any datatypes that should be adjusted.  "
   ]
  },
  {
   "cell_type": "code",
   "execution_count": null,
   "id": "26011954-9f19-4e0a-ae09-4f21240d2462",
   "metadata": {},
   "outputs": [],
   "source": []
  },
  {
   "cell_type": "markdown",
   "id": "a01e055e-1cb0-4c01-909f-4fa847bec1fb",
   "metadata": {},
   "source": [
    "**Activity 3:** Practice pivoting the dataframe."
   ]
  },
  {
   "cell_type": "code",
   "execution_count": null,
   "id": "f05e2d70-fcf5-478c-ab6f-9f93a0d575ec",
   "metadata": {},
   "outputs": [],
   "source": []
  }
 ],
 "metadata": {
  "kernelspec": {
   "display_name": "Python 3 (ipykernel)",
   "language": "python",
   "name": "python3"
  },
  "language_info": {
   "codemirror_mode": {
    "name": "ipython",
    "version": 3
   },
   "file_extension": ".py",
   "mimetype": "text/x-python",
   "name": "python",
   "nbconvert_exporter": "python",
   "pygments_lexer": "ipython3",
   "version": "3.11.4"
  }
 },
 "nbformat": 4,
 "nbformat_minor": 5
}
