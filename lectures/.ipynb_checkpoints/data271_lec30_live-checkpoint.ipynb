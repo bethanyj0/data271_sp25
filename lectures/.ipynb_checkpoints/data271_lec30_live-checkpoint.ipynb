{
 "cells": [
  {
   "cell_type": "markdown",
   "id": "bd035d4a",
   "metadata": {},
   "source": [
    "# Combining Data Wrap-up\n",
    "If you want to type along with me, use [this notebook](https://humboldt.cloudbank.2i2c.cloud/hub/user-redirect/git-pull?repo=https%3A%2F%2Fgithub.com%2Fbethanyj0%2Fdata271_sp24&branch=main&urlpath=tree%2Fdata271_sp24%2Fdemos%2Fdata271_demo30_live.ipynb) instead. \n",
    "If you don't want to type and want to follow along just by executing the cells, stay in this notebook. "
   ]
  },
  {
   "cell_type": "code",
   "execution_count": null,
   "id": "f1290959-0161-4bdf-a271-d1677c37a249",
   "metadata": {},
   "outputs": [],
   "source": [
    "import numpy as np\n",
    "import pandas as pd"
   ]
  },
  {
   "cell_type": "markdown",
   "id": "deca11c7-c5cc-4858-a319-77c9b37f3865",
   "metadata": {},
   "source": [
    "## Combining Time Series Data"
   ]
  },
  {
   "cell_type": "code",
   "execution_count": null,
   "id": "12d619f0-fae8-4082-8da8-da14ecfe7f42",
   "metadata": {
    "tags": []
   },
   "outputs": [],
   "source": [
    "env_data = pd.DataFrame({\n",
    "    'time': pd.date_range('2025-04-14 08:00', periods=6, freq='1h'),\n",
    "    'temperature_C': [14.0, 12.5, 13.0, 13.5, 12.0, 14.2],\n",
    "    'humidity_pct': [85, 83, 80, 78, 76, 75]\n",
    "})\n",
    "env_data.sort_values(by='temperature_C',inplace=True)\n",
    "env_data"
   ]
  },
  {
   "cell_type": "code",
   "execution_count": null,
   "id": "413313c4-253f-4b9d-a451-d53ea6fff557",
   "metadata": {
    "tags": []
   },
   "outputs": [],
   "source": [
    "precip_data = pd.DataFrame({\n",
    "    'time': pd.date_range('2025-04-14 07:00', periods=9, freq='1h'),\n",
    "    'precipitation': [0.1, 0.3, 0, 0, 0.1, 0.05, 0.05, 0.1, 0.1],\n",
    "})\n",
    "precip_data"
   ]
  },
  {
   "cell_type": "code",
   "execution_count": null,
   "id": "5f36a163-044b-4dfd-8709-4e8c0a4d034c",
   "metadata": {
    "tags": []
   },
   "outputs": [],
   "source": [
    "# A standard merge goes in the order of the original left dataframe\n"
   ]
  },
  {
   "cell_type": "code",
   "execution_count": null,
   "id": "dd4d5e69-cbdf-4dde-8515-c4f88822d772",
   "metadata": {
    "tags": []
   },
   "outputs": [],
   "source": [
    "# merge_ordered sorts the data too\n"
   ]
  },
  {
   "cell_type": "code",
   "execution_count": null,
   "id": "5aa5f8b1-6941-4b43-8cad-b6de590beca6",
   "metadata": {
    "tags": []
   },
   "outputs": [],
   "source": [
    "# merge_ordered also allows you to fill in gaps with a method of choice\n",
    "pd.merge_ordered(env_data, precip_data,)"
   ]
  },
  {
   "cell_type": "code",
   "execution_count": null,
   "id": "2a02fb22-b161-40a1-8859-d4bcbc847e00",
   "metadata": {
    "tags": []
   },
   "outputs": [],
   "source": [
    "# When this is most useful?\n",
    "precip_data = pd.DataFrame({\n",
    "    'time': pd.date_range('2025-04-14 07:00', periods=10, freq='30min'),\n",
    "    'precipitation': [0.1, 0.3, 0, 0, 0.1, 0.05, 0.05, 0.1, 0.1, 0.2],\n",
    "})\n",
    "precip_data"
   ]
  },
  {
   "cell_type": "code",
   "execution_count": null,
   "id": "561f741d-ed8e-4f63-a1f2-49dbc90e168d",
   "metadata": {
    "tags": []
   },
   "outputs": [],
   "source": [
    "# When the frequency of data points is different\n",
    "env_data"
   ]
  },
  {
   "cell_type": "code",
   "execution_count": null,
   "id": "2ff70db8-1b14-4363-8d40-f6b6124a353a",
   "metadata": {
    "tags": []
   },
   "outputs": [],
   "source": [
    "# When the frequency of data points is different\n"
   ]
  },
  {
   "cell_type": "code",
   "execution_count": null,
   "id": "a533d5c3-a7a0-4222-90f3-175caaf3bf42",
   "metadata": {
    "tags": []
   },
   "outputs": [],
   "source": []
  },
  {
   "cell_type": "code",
   "execution_count": null,
   "id": "a2ce81cc-f046-4a9a-9d0e-5150a1426a93",
   "metadata": {
    "tags": []
   },
   "outputs": [],
   "source": [
    "# Merge_ordered also accepts different \"how\" args\n",
    "pd.merge_ordered(env_data, precip_data, ... )"
   ]
  },
  {
   "cell_type": "code",
   "execution_count": null,
   "id": "639e38f0-02c4-4c91-a4d0-c8b853548349",
   "metadata": {
    "tags": []
   },
   "outputs": [],
   "source": [
    "# You can also take the approach of \"course graining\" with resample\n",
    "hourly_precip = \n",
    "hourly_precip"
   ]
  },
  {
   "cell_type": "code",
   "execution_count": null,
   "id": "0e0f0aa2-19e4-40a2-b154-264aa26e0383",
   "metadata": {
    "tags": []
   },
   "outputs": [],
   "source": [
    "# Merge at course-grained resolution\n",
    "course = \n",
    "course"
   ]
  },
  {
   "cell_type": "code",
   "execution_count": null,
   "id": "5cf64930-bcc0-48d7-a837-8b5bf2f48610",
   "metadata": {
    "tags": []
   },
   "outputs": [],
   "source": [
    "# When should we be careful about resampling?\n",
    "precip_data['lat'] = [38.1, 38.1, 38.1, 38.1, 38.1, 38.2, 38.2, 38.2, 38.2, 38.2]\n",
    "precip_data['lon'] = [-120.1, -120.1, -120.2,-120.2, -120.2,-120.1, -120.1, -120.2,-120.2, -120.2]\n",
    "precip_data"
   ]
  },
  {
   "cell_type": "code",
   "execution_count": null,
   "id": "3d9709d1-a4f6-4414-98b7-9669ce0f27e3",
   "metadata": {
    "tags": []
   },
   "outputs": [],
   "source": [
    "# Resampling this would lead to inaccurate location data\n"
   ]
  },
  {
   "cell_type": "code",
   "execution_count": null,
   "id": "8d8ad78e-ede4-4207-b8ae-12ba6cb38fd1",
   "metadata": {
    "tags": []
   },
   "outputs": [],
   "source": [
    "# In this case, use groupby with pd.Grouper\n"
   ]
  },
  {
   "cell_type": "code",
   "execution_count": null,
   "id": "7a85be14-c967-4855-943d-b6688b2eec68",
   "metadata": {
    "tags": []
   },
   "outputs": [],
   "source": [
    "# Groupby can handle multiple columns\n",
    "precip_data.groupby(...).sum()"
   ]
  },
  {
   "cell_type": "code",
   "execution_count": null,
   "id": "5d9146ed-283c-4409-894a-914adf73618f",
   "metadata": {
    "tags": []
   },
   "outputs": [],
   "source": [
    "# Get course-grained data for each location\n",
    "precip_data.groupby([pd.Grouper(key = 'time', freq=\"1H\"),'lat','lon']).mean().reset_index()"
   ]
  },
  {
   "cell_type": "markdown",
   "id": "8fc64b09-384d-4361-96dd-9cf5acbf642d",
   "metadata": {},
   "source": [
    "### More flexible temporal matches"
   ]
  },
  {
   "cell_type": "code",
   "execution_count": null,
   "id": "3cc8502e-1f86-4d93-a504-6a95f003a286",
   "metadata": {},
   "outputs": [],
   "source": [
    "# Irregular observational data\n",
    "observations = pd.DataFrame({\n",
    "    'time': pd.to_datetime([\n",
    "        '2025-04-14 08:03', '2025-04-14 09:21', '2025-04-14 11:00',\n",
    "        '2025-04-14 09:45', '2025-04-14 13:27'\n",
    "    ]),\n",
    "    'animal': ['fox', 'bear', 'wolf', 'bear', 'wolf'],\n",
    "    'location': ['ridge', 'valley', 'creek', 'creek', 'ridge']\n",
    "}).sort_values('time')\n",
    "\n",
    "observations"
   ]
  },
  {
   "cell_type": "code",
   "execution_count": null,
   "id": "497f9949-1283-4b31-8247-41225b032941",
   "metadata": {},
   "outputs": [],
   "source": [
    "env_data = pd.DataFrame({\n",
    "    'time': pd.date_range('2025-04-14 08:00', periods=6, freq='1h'),\n",
    "    'temperature_C': [12.0, 12.5, 13.0, 13.5, 14.0, 14.2],\n",
    "    'humidity_pct': [85, 83, 80, 78, 76, 75]\n",
    "})\n",
    "env_data"
   ]
  },
  {
   "cell_type": "code",
   "execution_count": null,
   "id": "767ac987-f510-449e-8c9e-8029f9ea740e",
   "metadata": {
    "tags": []
   },
   "outputs": [],
   "source": [
    "# Merge ordered takes all unique\n",
    "pd.merge_ordered(observations, env_data)"
   ]
  },
  {
   "cell_type": "code",
   "execution_count": null,
   "id": "70b00b75-d7ca-442f-aad9-5ed87b991c18",
   "metadata": {
    "tags": []
   },
   "outputs": [],
   "source": [
    "# Merge ordered incorrectly duplicates observations\n",
    "pd.merge_ordered(observations, env_data, ...)"
   ]
  },
  {
   "cell_type": "code",
   "execution_count": null,
   "id": "4f6cc2f2-200e-4655-8d68-5a403afcc536",
   "metadata": {
    "tags": []
   },
   "outputs": [],
   "source": [
    "# Remind ourselves of what the originals look like\n"
   ]
  },
  {
   "cell_type": "code",
   "execution_count": null,
   "id": "cead1d69-9b02-40e5-9c7f-7f164ea91805",
   "metadata": {
    "tags": []
   },
   "outputs": [],
   "source": []
  },
  {
   "cell_type": "code",
   "execution_count": null,
   "id": "22e1c45f-10c2-432e-a252-a53f98c7ef32",
   "metadata": {
    "tags": []
   },
   "outputs": [],
   "source": [
    "# Merge the left time points to the previous point from the right\n"
   ]
  },
  {
   "cell_type": "code",
   "execution_count": null,
   "id": "a2c664b2-2a81-4f38-9c8a-ce8604d72bc9",
   "metadata": {
    "tags": []
   },
   "outputs": [],
   "source": [
    "# Merge the left time points to the nearest point from the right \n",
    "pd.merge_asof(observations, env_data, on='time',...)"
   ]
  },
  {
   "cell_type": "code",
   "execution_count": null,
   "id": "7f97f4e0-2f4f-4f2c-9fb0-340124c603c6",
   "metadata": {
    "tags": []
   },
   "outputs": [],
   "source": [
    "# Merge the left time points to the next point from the right\n",
    "pd.merge_asof(observations, env_data, on='time', direction=...)"
   ]
  },
  {
   "cell_type": "code",
   "execution_count": null,
   "id": "19fb5267-7ae5-4b7f-993b-36c0164e4778",
   "metadata": {
    "tags": []
   },
   "outputs": [],
   "source": [
    "# If they have different names\n",
    "env_data.rename(columns={'time':'Time'},inplace=True)\n",
    "pd.merge_asof(observations, env_data, ...)"
   ]
  },
  {
   "cell_type": "code",
   "execution_count": null,
   "id": "9b6497a0-3749-4de8-80ad-83ab07d38c92",
   "metadata": {
    "tags": []
   },
   "outputs": [],
   "source": [
    "# Reset\n",
    "env_data.rename(columns={'Time':'time'},inplace=True)"
   ]
  },
  {
   "cell_type": "markdown",
   "id": "60b1fe92-c85e-464b-a3ba-a3256a0e9458",
   "metadata": {
    "tags": []
   },
   "source": [
    "### If we have spatial information too"
   ]
  },
  {
   "cell_type": "code",
   "execution_count": null,
   "id": "a423df07-8900-4279-9969-81d4f0c62eb7",
   "metadata": {
    "tags": []
   },
   "outputs": [],
   "source": [
    "observations['lat'] = [38.2, 38.2, 38.2, 38.2, 38.2]\n",
    "observations['lon'] = [-120.1, -120.1, -120.2,-120.2, -120.2]"
   ]
  },
  {
   "cell_type": "code",
   "execution_count": null,
   "id": "cbea947b-0bef-42f4-b037-db067d5e6689",
   "metadata": {
    "tags": []
   },
   "outputs": [],
   "source": [
    "env_data['lat'] = [38.2, 38.2, 38.2, 38.2, 38.2,38.2]\n",
    "env_data['lon'] = [-120.1, -120.1, -120.2,-120.2, -120.2, -120.1]"
   ]
  },
  {
   "cell_type": "code",
   "execution_count": null,
   "id": "55e63969-850c-415b-8311-17d3ff64d5ae",
   "metadata": {
    "tags": []
   },
   "outputs": [],
   "source": [
    "observations"
   ]
  },
  {
   "cell_type": "code",
   "execution_count": null,
   "id": "cc38b031-8052-4824-b640-c787d515e8d4",
   "metadata": {
    "tags": []
   },
   "outputs": [],
   "source": [
    "env_data"
   ]
  },
  {
   "cell_type": "code",
   "execution_count": null,
   "id": "1d8921e4-9f05-407b-8748-6aeb5b86c764",
   "metadata": {
    "tags": []
   },
   "outputs": [],
   "source": [
    "# Merge each location on the time column\n",
    "pd.merge_asof(observations, env_data, on='time')"
   ]
  },
  {
   "cell_type": "code",
   "execution_count": null,
   "id": "ea530090-ab0a-41ef-a3bb-f5e330a8d6f0",
   "metadata": {
    "tags": []
   },
   "outputs": [],
   "source": [
    "pd.merge_asof(observations, env_data, on='time', ...)"
   ]
  },
  {
   "cell_type": "markdown",
   "id": "e6aa935a-886b-475d-8afe-f537047d03dc",
   "metadata": {},
   "source": [
    "This could change the distance it reaches to get a match."
   ]
  },
  {
   "cell_type": "code",
   "execution_count": null,
   "id": "aeaea72a-853e-4fd8-affc-816c6cd4d03a",
   "metadata": {
    "tags": []
   },
   "outputs": [],
   "source": [
    "# Set a tolerance for how close the points have to be to match\n",
    "pd.merge_asof(observations, env_data, on='time', by = ['lat','lon'],\n",
    "              ...)"
   ]
  },
  {
   "cell_type": "markdown",
   "id": "ea676055-38b7-4187-9200-13dc42005378",
   "metadata": {},
   "source": [
    "## Activity"
   ]
  },
  {
   "cell_type": "markdown",
   "id": "38c4e5e3-17a8-4e47-bc25-a33b922a2225",
   "metadata": {},
   "source": [
    "You're analyzing bird behavior with GPS trackers and sound-activated recorders. The GPS trackers log positions every 5 minutes. The sound recorders log audio events (calls, songs, other birds) at irregular times. \n",
    "\n",
    "For each bird location, merge the most recent sound event recorded in that area."
   ]
  },
  {
   "cell_type": "code",
   "execution_count": null,
   "id": "b34ecf55-7a25-4328-908b-e0d1aab76a64",
   "metadata": {
    "tags": []
   },
   "outputs": [],
   "source": [
    "bird_gps = pd.DataFrame({\n",
    "    \"time\": pd.to_datetime([\n",
    "        \"2023-04-13 08:00\", \"2023-04-13 08:05\", \"2023-04-13 08:10\"\n",
    "    ]),\n",
    "    \"bird_id\": [101, 101, 101],\n",
    "    \"lat\": [40.5, 40.5, 40.5],\n",
    "    \"lon\": [-123.8, -123.8, -123.8]\n",
    "})\n",
    "\n",
    "sound_events = pd.DataFrame({\n",
    "    \"time\": pd.to_datetime([\n",
    "        \"2023-04-13 07:59\", \"2023-04-13 08:03\", \"2023-04-13 08:12\"\n",
    "    ]),\n",
    "    \"event_type\": [\"call\", \"song\", \"flight\"]\n",
    "})"
   ]
  }
 ],
 "metadata": {
  "kernelspec": {
   "display_name": "Python 3 (ipykernel)",
   "language": "python",
   "name": "python3"
  },
  "language_info": {
   "codemirror_mode": {
    "name": "ipython",
    "version": 3
   },
   "file_extension": ".py",
   "mimetype": "text/x-python",
   "name": "python",
   "nbconvert_exporter": "python",
   "pygments_lexer": "ipython3",
   "version": "3.11.4"
  }
 },
 "nbformat": 4,
 "nbformat_minor": 5
}
