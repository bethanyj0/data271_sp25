{
 "cells": [
  {
   "cell_type": "markdown",
   "id": "bd035d4a",
   "metadata": {},
   "source": [
    "# Web Scraping\n",
    "If you want to type along with me, use [this notebook](https://humboldt.cloudbank.2i2c.cloud/hub/user-redirect/git-pull?repo=https%3A%2F%2Fgithub.com%2Fbethanyj0%2Fdata271_sp25&branch=main&urlpath=tree%2Fdata271_sp25%2Flectures%2Fdata271_lec31_live.ipynb) instead. \n",
    "If you don't want to type and want to follow along just by executing the cells, stay in this notebook. "
   ]
  },
  {
   "cell_type": "code",
   "execution_count": null,
   "id": "26e99e3b",
   "metadata": {
    "tags": []
   },
   "outputs": [],
   "source": [
    "import numpy as np\n",
    "import pandas as pd"
   ]
  },
  {
   "cell_type": "markdown",
   "id": "eb858da6",
   "metadata": {},
   "source": [
    "## Scraping a very basic webpage"
   ]
  },
  {
   "cell_type": "code",
   "execution_count": null,
   "id": "a63804f0",
   "metadata": {
    "tags": []
   },
   "outputs": [],
   "source": [
    "# Whenever you want to scrape a website without an API\n",
    "import requests\n",
    "from bs4 import BeautifulSoup"
   ]
  },
  {
   "cell_type": "markdown",
   "id": "0bc3696c",
   "metadata": {},
   "source": [
    "BeautifulSoup documentation [here](https://www.crummy.com/software/BeautifulSoup/bs4/doc/).\n",
    "\n",
    "\n",
    "Let's look [this](https://web.ics.purdue.edu/~gchopra/class/public/pages/webdesign/05_simple.html) very simple webpage."
   ]
  },
  {
   "cell_type": "code",
   "execution_count": null,
   "id": "d2d7adea",
   "metadata": {
    "tags": []
   },
   "outputs": [],
   "source": [
    "# Get the content of a website\n",
    "site = requests.get('https://web.ics.purdue.edu/~gchopra/class/public/pages/webdesign/05_simple.html')"
   ]
  },
  {
   "cell_type": "code",
   "execution_count": null,
   "id": "7329ee21",
   "metadata": {
    "tags": []
   },
   "outputs": [],
   "source": [
    "# What did we just get?\n",
    "type(site)"
   ]
  },
  {
   "cell_type": "code",
   "execution_count": null,
   "id": "c44daa59",
   "metadata": {
    "tags": []
   },
   "outputs": [],
   "source": [
    "# Check the status\n",
    "site.status_code"
   ]
  },
  {
   "cell_type": "code",
   "execution_count": null,
   "id": "e207c9af-9aea-4296-9f1e-349f8e458cab",
   "metadata": {
    "tags": []
   },
   "outputs": [],
   "source": [
    "# With APIs, the output was typically JSON, but not regular webpages\n",
    "site.json() # error!"
   ]
  },
  {
   "cell_type": "code",
   "execution_count": null,
   "id": "e0a88fa9",
   "metadata": {
    "tags": []
   },
   "outputs": [],
   "source": [
    "# inspect the contents with text\n",
    "site.text\n",
    "# messy!"
   ]
  },
  {
   "cell_type": "code",
   "execution_count": null,
   "id": "ce69bc1e",
   "metadata": {
    "tags": []
   },
   "outputs": [],
   "source": [
    "# Let's beautify this and make it easier to parse\n",
    "soup = BeautifulSoup(site.text)"
   ]
  },
  {
   "cell_type": "code",
   "execution_count": null,
   "id": "c424aa8b",
   "metadata": {
    "tags": []
   },
   "outputs": [],
   "source": [
    "# What does our soup look like?\n",
    "soup"
   ]
  },
  {
   "cell_type": "code",
   "execution_count": null,
   "id": "59eb06cf",
   "metadata": {
    "tags": []
   },
   "outputs": [],
   "source": [
    "# Make it even prettier\n",
    "print(soup.prettify())"
   ]
  },
  {
   "cell_type": "markdown",
   "id": "78a2e336",
   "metadata": {},
   "source": [
    "### Parse the html"
   ]
  },
  {
   "cell_type": "code",
   "execution_count": null,
   "id": "8bf3f817",
   "metadata": {
    "tags": []
   },
   "outputs": [],
   "source": [
    "# Find a level 1 header\n",
    "soup.find('h1')"
   ]
  },
  {
   "cell_type": "code",
   "execution_count": null,
   "id": "a6ebe02f",
   "metadata": {
    "tags": []
   },
   "outputs": [],
   "source": [
    "# Find a level 2 header\n",
    "soup.find('h2')"
   ]
  },
  {
   "cell_type": "code",
   "execution_count": null,
   "id": "68d141f3",
   "metadata": {
    "tags": []
   },
   "outputs": [],
   "source": [
    "# Find all the level 2 headers\n",
    "soup.find_all('h2')"
   ]
  },
  {
   "cell_type": "code",
   "execution_count": null,
   "id": "f78a3046",
   "metadata": {
    "tags": []
   },
   "outputs": [],
   "source": [
    "# Find all the level 3 headers\n",
    "soup.find_all('h3')\n",
    "# There were none."
   ]
  },
  {
   "cell_type": "code",
   "execution_count": null,
   "id": "dbb0ede7",
   "metadata": {
    "tags": []
   },
   "outputs": [],
   "source": [
    "# Find all the paragraphs\n",
    "soup.find_all('p')"
   ]
  },
  {
   "cell_type": "code",
   "execution_count": null,
   "id": "fa07d4cc",
   "metadata": {
    "tags": []
   },
   "outputs": [],
   "source": [
    "# Find all the hyperlinks\n",
    "soup.find_all('a')"
   ]
  },
  {
   "cell_type": "code",
   "execution_count": null,
   "id": "75042ed9",
   "metadata": {
    "tags": []
   },
   "outputs": [],
   "source": [
    "# Get the links\n",
    "soup.find('a')['href']"
   ]
  },
  {
   "cell_type": "code",
   "execution_count": null,
   "id": "d74a2321",
   "metadata": {
    "tags": []
   },
   "outputs": [],
   "source": [
    "# Get the text for the hyperlink\n",
    "soup.find('a').text"
   ]
  },
  {
   "cell_type": "code",
   "execution_count": null,
   "id": "910bcddb",
   "metadata": {
    "tags": []
   },
   "outputs": [],
   "source": [
    "# Get all the list items\n",
    "soup.find_all('li')"
   ]
  },
  {
   "cell_type": "code",
   "execution_count": null,
   "id": "870d3679",
   "metadata": {
    "tags": []
   },
   "outputs": [],
   "source": [
    "# Specifically get the ordered lists\n",
    "soup.find_all('ol')"
   ]
  },
  {
   "cell_type": "code",
   "execution_count": null,
   "id": "76dd1921",
   "metadata": {
    "tags": []
   },
   "outputs": [],
   "source": [
    "# Specifically get the unordered lists\n",
    "soup.find_all('ul')"
   ]
  },
  {
   "cell_type": "markdown",
   "id": "a208cd85",
   "metadata": {},
   "source": [
    "## Another example"
   ]
  },
  {
   "cell_type": "markdown",
   "id": "1d493169",
   "metadata": {},
   "source": [
    "Let's check out [this](https://irar.humboldt.edu/node/552) Cal Poly Humboldt website."
   ]
  },
  {
   "cell_type": "code",
   "execution_count": null,
   "id": "6841bcdf",
   "metadata": {
    "tags": []
   },
   "outputs": [],
   "source": [
    "# Get the data\n",
    "cph_stats = requests.get('https://www.humboldt.edu/irar/fall-semester-fast-facts')\n",
    "cph_stats.status_code"
   ]
  },
  {
   "cell_type": "code",
   "execution_count": null,
   "id": "4eef15d2",
   "metadata": {
    "tags": []
   },
   "outputs": [],
   "source": [
    "# Beautify the data\n",
    "cph_soup = BeautifulSoup(cph_stats.text, 'html.parser')"
   ]
  },
  {
   "cell_type": "code",
   "execution_count": null,
   "id": "8e646b26",
   "metadata": {
    "tags": []
   },
   "outputs": [],
   "source": [
    "# Pretty!\n",
    "print(cph_soup.prettify())"
   ]
  },
  {
   "cell_type": "code",
   "execution_count": null,
   "id": "d8b2af76",
   "metadata": {
    "tags": []
   },
   "outputs": [],
   "source": [
    "# check for specific tags\n",
    "cph_soup.find_all('a')"
   ]
  },
  {
   "cell_type": "code",
   "execution_count": null,
   "id": "bd4674a8",
   "metadata": {
    "tags": []
   },
   "outputs": [],
   "source": [
    "# refine the search with css selectors\n",
    "cph_soup.find_all('a', class_ = \"top-level\")"
   ]
  },
  {
   "cell_type": "code",
   "execution_count": null,
   "id": "4aa3dba1",
   "metadata": {
    "tags": []
   },
   "outputs": [],
   "source": [
    "# A shorthand way of searching that\n",
    "cph_soup.select('a.top-level')"
   ]
  },
  {
   "cell_type": "code",
   "execution_count": null,
   "id": "2bdf3263",
   "metadata": {
    "tags": []
   },
   "outputs": [],
   "source": [
    "# How many tables are there?\n",
    "len(cph_soup.find_all('table'))"
   ]
  },
  {
   "cell_type": "code",
   "execution_count": null,
   "id": "d3202091",
   "metadata": {
    "tags": []
   },
   "outputs": [],
   "source": [
    "# Tables are labeled with h3 headers\n",
    "cph_soup.find_all('h3')"
   ]
  },
  {
   "cell_type": "code",
   "execution_count": null,
   "id": "8c67f0e8",
   "metadata": {
    "tags": []
   },
   "outputs": [],
   "source": [
    "# Let's just focus on one of the tables\n",
    "student_ethnicity_table = cph_soup.find_all('table')[3]"
   ]
  },
  {
   "cell_type": "code",
   "execution_count": null,
   "id": "0921e963",
   "metadata": {
    "tags": []
   },
   "outputs": [],
   "source": [
    "# Look at the rows\n",
    "student_ethnicity_table.find_all('tr')"
   ]
  },
  {
   "cell_type": "code",
   "execution_count": null,
   "id": "2e6fee26",
   "metadata": {
    "tags": []
   },
   "outputs": [],
   "source": [
    "# Look at a single row\n",
    "student_ethnicity_table.find_all('tr')[0]"
   ]
  },
  {
   "cell_type": "code",
   "execution_count": null,
   "id": "3952654f",
   "metadata": {
    "tags": []
   },
   "outputs": [],
   "source": [
    "# Look at all the data points in that row\n",
    "student_ethnicity_table.find_all('tr')[0].find_all('td')"
   ]
  },
  {
   "cell_type": "code",
   "execution_count": null,
   "id": "35376b2f",
   "metadata": {
    "tags": []
   },
   "outputs": [],
   "source": [
    "# Look at one specific data point\n",
    "student_ethnicity_table.find_all('tr')[0].find_all('td')[1]"
   ]
  },
  {
   "cell_type": "code",
   "execution_count": null,
   "id": "ef6376fd",
   "metadata": {
    "tags": []
   },
   "outputs": [],
   "source": [
    "# Get the text of that data point \n",
    "student_ethnicity_table.find_all('tr')[0].find_all('td')[1].text"
   ]
  },
  {
   "cell_type": "markdown",
   "id": "9a0ef1b4",
   "metadata": {},
   "source": [
    "### Create a Pandas DataFrame\n",
    "\n",
    "We'll start with the manual approach."
   ]
  },
  {
   "cell_type": "code",
   "execution_count": null,
   "id": "7db1cdbf",
   "metadata": {
    "tags": []
   },
   "outputs": [],
   "source": [
    "# Create a nested list with the data\n",
    "table_vals = []\n",
    "\n",
    "for i in student_ethnicity_table.find_all('tr'):\n",
    "    row_i = []\n",
    "    for j in i.find_all('td'):\n",
    "        row_i.append(j.text)\n",
    "    table_vals.append(row_i)"
   ]
  },
  {
   "cell_type": "code",
   "execution_count": null,
   "id": "9fecff70",
   "metadata": {
    "tags": []
   },
   "outputs": [],
   "source": [
    "# Check out the result\n",
    "table_vals"
   ]
  },
  {
   "cell_type": "code",
   "execution_count": null,
   "id": "28a5b4e3",
   "metadata": {
    "tags": []
   },
   "outputs": [],
   "source": [
    "# Make it a dataframe\n",
    "df = pd.DataFrame(table_vals)\n",
    "df"
   ]
  },
  {
   "cell_type": "code",
   "execution_count": null,
   "id": "65224b72",
   "metadata": {
    "tags": []
   },
   "outputs": [],
   "source": [
    "# Clean it up (reset column labels)\n",
    "df.columns = df.iloc[0]\n",
    "df.drop(0,inplace=True)\n",
    "df"
   ]
  },
  {
   "cell_type": "code",
   "execution_count": null,
   "id": "b40bf43a-8e0b-4841-9431-6a0548cec7d0",
   "metadata": {
    "tags": []
   },
   "outputs": [],
   "source": [
    "df.columns[0]"
   ]
  },
  {
   "cell_type": "code",
   "execution_count": null,
   "id": "53a45d0a",
   "metadata": {
    "tags": []
   },
   "outputs": [],
   "source": [
    "# Clean it up (reset row labels)\n",
    "df.set_index('\\xa0',inplace=True)"
   ]
  },
  {
   "cell_type": "code",
   "execution_count": null,
   "id": "da03c444",
   "metadata": {
    "tags": []
   },
   "outputs": [],
   "source": [
    "df"
   ]
  },
  {
   "cell_type": "code",
   "execution_count": null,
   "id": "c5aaa6c1",
   "metadata": {
    "tags": []
   },
   "outputs": [],
   "source": [
    "# Would require further cleanup\n",
    "df.dtypes"
   ]
  },
  {
   "cell_type": "markdown",
   "id": "34df3227-d1b9-4268-8305-7216fd47f519",
   "metadata": {},
   "source": [
    "There is also a Pandas approach."
   ]
  },
  {
   "cell_type": "code",
   "execution_count": null,
   "id": "406e16cf-682e-4c9f-9e0f-de77f02c81d0",
   "metadata": {
    "tags": []
   },
   "outputs": [],
   "source": [
    "# We've taken a chunk of html that we want to parse\n",
    "student_ethnicity_table"
   ]
  },
  {
   "cell_type": "code",
   "execution_count": null,
   "id": "408c4ef1-449c-4f1f-b2ab-1190efee17ab",
   "metadata": {
    "tags": []
   },
   "outputs": [],
   "source": [
    "# What is the type\n",
    "type(student_ethnicity_table)"
   ]
  },
  {
   "cell_type": "code",
   "execution_count": null,
   "id": "1827e382-f607-4541-b143-3faf7ecc4ea1",
   "metadata": {
    "tags": []
   },
   "outputs": [],
   "source": [
    "# Read the html into a dataframe\n",
    "pd.read_html(str(student_ethnicity_table))[0]"
   ]
  },
  {
   "cell_type": "code",
   "execution_count": null,
   "id": "75e768d4-d1c1-4dcb-a09a-833b3d3bee16",
   "metadata": {
    "tags": []
   },
   "outputs": [],
   "source": [
    "# We can use it on the whole page if we want to\n",
    "pd.read_html(cph_stats.text)"
   ]
  },
  {
   "cell_type": "markdown",
   "id": "b2ebab06",
   "metadata": {},
   "source": [
    "## Activity"
   ]
  },
  {
   "cell_type": "markdown",
   "id": "fc2f8727",
   "metadata": {},
   "source": [
    "1. From the same webpage we scraped last (Cal Poly Humboldt IRAR), put the data in the Fall 2024 Geographic Origin of Current Students table into a Pandas DataFrame. Clean the dataframe."
   ]
  },
  {
   "cell_type": "code",
   "execution_count": null,
   "id": "a6ce7284",
   "metadata": {},
   "outputs": [],
   "source": []
  }
 ],
 "metadata": {
  "kernelspec": {
   "display_name": "Python 3 (ipykernel)",
   "language": "python",
   "name": "python3"
  },
  "language_info": {
   "codemirror_mode": {
    "name": "ipython",
    "version": 3
   },
   "file_extension": ".py",
   "mimetype": "text/x-python",
   "name": "python",
   "nbconvert_exporter": "python",
   "pygments_lexer": "ipython3",
   "version": "3.11.4"
  }
 },
 "nbformat": 4,
 "nbformat_minor": 5
}
