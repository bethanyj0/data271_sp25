{
 "cells": [
  {
   "cell_type": "markdown",
   "id": "bd035d4a",
   "metadata": {},
   "source": [
    "# Web Scraping"
   ]
  },
  {
   "cell_type": "code",
   "execution_count": null,
   "id": "a2bb27ba-97b5-4ba9-91c1-68e225e1ed92",
   "metadata": {
    "tags": []
   },
   "outputs": [],
   "source": [
    "import numpy as np\n",
    "import pandas as pd"
   ]
  },
  {
   "cell_type": "markdown",
   "id": "79ebae6b-1676-4417-94db-b61c7cbfec87",
   "metadata": {},
   "source": [
    "## Scraping a very basic webpage"
   ]
  },
  {
   "cell_type": "code",
   "execution_count": null,
   "id": "e01c652d-00aa-4cd2-8ad3-b528933f4aa5",
   "metadata": {
    "tags": []
   },
   "outputs": [],
   "source": [
    "# Whenever you want to scrape a website without an API\n",
    "import requests\n",
    "from bs4 import BeautifulSoup"
   ]
  },
  {
   "cell_type": "markdown",
   "id": "e9b36ad7-aea7-407a-97f4-8f9267cc9043",
   "metadata": {},
   "source": [
    "BeautifulSoup documentation [here](https://www.crummy.com/software/BeautifulSoup/bs4/doc/).\n",
    "\n",
    "\n",
    "Let's look [this](https://web.ics.purdue.edu/~gchopra/class/public/pages/webdesign/05_simple.html) very simple webpage."
   ]
  },
  {
   "cell_type": "code",
   "execution_count": null,
   "id": "542b0c3d-6b2c-4c4d-8c4b-6016acd3d02d",
   "metadata": {
    "tags": []
   },
   "outputs": [],
   "source": [
    "# Get the content of a website\n",
    "site = "
   ]
  },
  {
   "cell_type": "code",
   "execution_count": null,
   "id": "3d220a66-8d66-4068-9b6b-a455eb330a01",
   "metadata": {
    "tags": []
   },
   "outputs": [],
   "source": [
    "# What did we just get?\n"
   ]
  },
  {
   "cell_type": "code",
   "execution_count": null,
   "id": "d0ceec84-550e-42b7-b4b7-2f869ef2daca",
   "metadata": {
    "tags": []
   },
   "outputs": [],
   "source": [
    "# Check the status\n"
   ]
  },
  {
   "cell_type": "code",
   "execution_count": null,
   "id": "10485403-1078-4c8e-8c29-299a155bcbd9",
   "metadata": {
    "tags": []
   },
   "outputs": [],
   "source": [
    "# With APIs, the output was typically JSON, but not regular webpages\n",
    "site.json() # error!"
   ]
  },
  {
   "cell_type": "code",
   "execution_count": null,
   "id": "78ec2ce6-387b-4b73-803f-7ffdecafb3fc",
   "metadata": {
    "tags": []
   },
   "outputs": [],
   "source": [
    "# inspect the contents with text\n",
    "\n",
    "# messy!"
   ]
  },
  {
   "cell_type": "code",
   "execution_count": null,
   "id": "8aa3ad52-ae36-4b17-b616-15a74e789154",
   "metadata": {
    "tags": []
   },
   "outputs": [],
   "source": [
    "# Let's beautify this and make it easier to parse\n",
    "soup = "
   ]
  },
  {
   "cell_type": "code",
   "execution_count": null,
   "id": "b997875d-5757-446a-87f5-bb39412562d8",
   "metadata": {
    "tags": []
   },
   "outputs": [],
   "source": [
    "# What does our soup look like?\n",
    "soup"
   ]
  },
  {
   "cell_type": "code",
   "execution_count": null,
   "id": "0525e6a5-aba3-4c1c-ab53-a5c9638c429b",
   "metadata": {
    "tags": []
   },
   "outputs": [],
   "source": [
    "# Make it even prettier\n"
   ]
  },
  {
   "cell_type": "markdown",
   "id": "29937381-189e-499c-a792-6b174f30a196",
   "metadata": {},
   "source": [
    "### Parse the html"
   ]
  },
  {
   "cell_type": "code",
   "execution_count": null,
   "id": "ba0be819-64f7-48aa-82f8-4452d2504f18",
   "metadata": {
    "tags": []
   },
   "outputs": [],
   "source": [
    "# Find a level 1 header\n"
   ]
  },
  {
   "cell_type": "code",
   "execution_count": null,
   "id": "341b79cd-2014-4802-9ab2-f7aaf3bfeb0b",
   "metadata": {
    "tags": []
   },
   "outputs": [],
   "source": [
    "# Find a level 2 header\n"
   ]
  },
  {
   "cell_type": "code",
   "execution_count": null,
   "id": "27b5f91c-2257-4fe7-b034-183782e2705b",
   "metadata": {
    "tags": []
   },
   "outputs": [],
   "source": [
    "# Find all the level 2 headers\n"
   ]
  },
  {
   "cell_type": "code",
   "execution_count": null,
   "id": "fbcdcac8-d8b4-4491-a409-029adbaf661b",
   "metadata": {
    "tags": []
   },
   "outputs": [],
   "source": [
    "# Find all the level 3 headers\n",
    "\n",
    "# There were none."
   ]
  },
  {
   "cell_type": "code",
   "execution_count": null,
   "id": "b7426a70-1c4f-4c7d-a8cc-a5b13dce4dbe",
   "metadata": {
    "tags": []
   },
   "outputs": [],
   "source": [
    "# Find all the paragraphs\n"
   ]
  },
  {
   "cell_type": "code",
   "execution_count": null,
   "id": "626e74d1-5074-4e83-9e42-a4de971b223b",
   "metadata": {
    "tags": []
   },
   "outputs": [],
   "source": [
    "# Find all the hyperlinks\n"
   ]
  },
  {
   "cell_type": "code",
   "execution_count": null,
   "id": "1b7babb7-43c8-4e02-bccd-4574200c9b69",
   "metadata": {
    "tags": []
   },
   "outputs": [],
   "source": [
    "# Get the links\n",
    "soup.find('a')"
   ]
  },
  {
   "cell_type": "code",
   "execution_count": null,
   "id": "8fae090f-e470-4e62-9d36-7555513c8f15",
   "metadata": {
    "tags": []
   },
   "outputs": [],
   "source": [
    "# Get the text for the hyperlink\n",
    "soup.find('a')"
   ]
  },
  {
   "cell_type": "code",
   "execution_count": null,
   "id": "6b825463-baab-4a78-91ac-45dc98228900",
   "metadata": {
    "tags": []
   },
   "outputs": [],
   "source": [
    "# Get all the list items\n",
    "soup.find_all(...)"
   ]
  },
  {
   "cell_type": "code",
   "execution_count": null,
   "id": "5e799076-b928-46d7-a08e-9941cc4af71a",
   "metadata": {
    "tags": []
   },
   "outputs": [],
   "source": [
    "# Specifically get the ordered lists\n",
    "soup.find_all(...)"
   ]
  },
  {
   "cell_type": "code",
   "execution_count": null,
   "id": "a27c20d4-eae3-41a5-92a8-986e8d71d5d4",
   "metadata": {
    "tags": []
   },
   "outputs": [],
   "source": [
    "# Specifically get the unordered lists\n",
    "soup.find_all(...)"
   ]
  },
  {
   "cell_type": "markdown",
   "id": "2041be41-1761-451b-b253-5b5207263b57",
   "metadata": {},
   "source": [
    "## Another example"
   ]
  },
  {
   "cell_type": "markdown",
   "id": "7d602426-a62b-4e9f-8682-4014fdc9e44a",
   "metadata": {},
   "source": [
    "Let's check out [this](https://irar.humboldt.edu/node/552) Cal Poly Humboldt website."
   ]
  },
  {
   "cell_type": "code",
   "execution_count": null,
   "id": "5fc2e66e-2d35-4d0b-9c97-5766f4ddd2b0",
   "metadata": {
    "tags": []
   },
   "outputs": [],
   "source": [
    "# Get the data\n",
    "cph_stats = requests.get('https://www.humboldt.edu/irar/fall-semester-fast-facts')\n",
    "cph_stats.status_code"
   ]
  },
  {
   "cell_type": "code",
   "execution_count": null,
   "id": "c3788dd5-2d7b-46c4-bb7d-31f739ae3cf7",
   "metadata": {
    "tags": []
   },
   "outputs": [],
   "source": [
    "# Beautify the data\n",
    "cph_soup = BeautifulSoup(cph_stats.text, 'html.parser')"
   ]
  },
  {
   "cell_type": "code",
   "execution_count": null,
   "id": "659cca7c-5364-4731-9ece-b81ae3023f6a",
   "metadata": {
    "tags": []
   },
   "outputs": [],
   "source": [
    "# Pretty!\n",
    "print(cph_soup.prettify())"
   ]
  },
  {
   "cell_type": "code",
   "execution_count": null,
   "id": "5e7ace5d-78f4-4960-bc5c-fc098276aecd",
   "metadata": {
    "tags": []
   },
   "outputs": [],
   "source": [
    "# check for specific tags\n",
    "cph_soup.find_all('a')"
   ]
  },
  {
   "cell_type": "code",
   "execution_count": null,
   "id": "b393cab7-5a33-4add-abbb-0ea7adc341a9",
   "metadata": {
    "tags": []
   },
   "outputs": [],
   "source": [
    "# refine the search with css selectors\n",
    "cph_soup.find_all('a', class_ = \"top-level\")"
   ]
  },
  {
   "cell_type": "code",
   "execution_count": null,
   "id": "55868ab9-ff03-4f74-af9f-2339e871a75c",
   "metadata": {
    "tags": []
   },
   "outputs": [],
   "source": [
    "# A shorthand way of searching that\n",
    "cph_soup.select('a.top-level')"
   ]
  },
  {
   "cell_type": "code",
   "execution_count": null,
   "id": "b3810aed-50dd-460a-b3a3-90db21aff522",
   "metadata": {
    "tags": []
   },
   "outputs": [],
   "source": [
    "# How many tables are there?\n",
    "len(cph_soup.find_all('...'))"
   ]
  },
  {
   "cell_type": "code",
   "execution_count": null,
   "id": "e9c6a2a7-f14a-442b-9cb6-914f287b3ef5",
   "metadata": {
    "tags": []
   },
   "outputs": [],
   "source": [
    "# Some tables are labeled with h3 headers\n",
    "cph_soup.find_all('h3')"
   ]
  },
  {
   "cell_type": "code",
   "execution_count": null,
   "id": "22aa496d-6560-4f8e-91e5-bb60d6687fcf",
   "metadata": {
    "tags": []
   },
   "outputs": [],
   "source": [
    "# Let's just focus on one of the tables\n",
    "student_ethnicity_table = cph_soup.find_all('table')"
   ]
  },
  {
   "cell_type": "code",
   "execution_count": null,
   "id": "9a1d60d3-ebb3-4c4a-9fe2-c9f273d4a150",
   "metadata": {
    "tags": []
   },
   "outputs": [],
   "source": [
    "# Look at the rows\n",
    "student_ethnicity_table.find_all('')"
   ]
  },
  {
   "cell_type": "code",
   "execution_count": null,
   "id": "67900194-c078-496d-9112-5e2c78657086",
   "metadata": {
    "tags": []
   },
   "outputs": [],
   "source": [
    "# Look at a single row\n",
    "student_ethnicity_table.find_all('tr')"
   ]
  },
  {
   "cell_type": "code",
   "execution_count": null,
   "id": "da87fa5e-26a8-484b-8142-9bd1f3c3dd13",
   "metadata": {
    "tags": []
   },
   "outputs": [],
   "source": [
    "# Look at all the data points in that row\n",
    "student_ethnicity_table.find_all('tr')[0]"
   ]
  },
  {
   "cell_type": "code",
   "execution_count": null,
   "id": "c1e27f8a-3365-4941-872d-a1ee55153c6e",
   "metadata": {
    "tags": []
   },
   "outputs": [],
   "source": [
    "# Look at one specific data point\n",
    "student_ethnicity_table.find_all('tr')[0].find_all('td')"
   ]
  },
  {
   "cell_type": "code",
   "execution_count": null,
   "id": "86a268c3-1472-4b6a-bae8-e263a520a9cd",
   "metadata": {
    "tags": []
   },
   "outputs": [],
   "source": [
    "# Get the text of that data point \n",
    "student_ethnicity_table.find_all('tr')[0].find_all('td')[1]"
   ]
  },
  {
   "cell_type": "markdown",
   "id": "3009de37-7c77-4c0a-a844-8c0f054a3127",
   "metadata": {},
   "source": [
    "### Create a Pandas DataFrame\n",
    "\n",
    "We'll start with the manual approach."
   ]
  },
  {
   "cell_type": "code",
   "execution_count": null,
   "id": "7ae62e31-a545-40d0-aba3-c47f85a13606",
   "metadata": {
    "tags": []
   },
   "outputs": [],
   "source": [
    "# Create a nested list with the data\n",
    "table_vals = []\n",
    "\n",
    "for i in ...:\n",
    "    row_i = ...\n",
    "    for j in ...:\n",
    "        ...\n",
    "    table_vals..."
   ]
  },
  {
   "cell_type": "code",
   "execution_count": null,
   "id": "1b7986c3-a58b-4918-9f22-b94eae296d90",
   "metadata": {
    "tags": []
   },
   "outputs": [],
   "source": [
    "# Check out the result\n",
    "table_vals"
   ]
  },
  {
   "cell_type": "code",
   "execution_count": null,
   "id": "c1da21a7-19e6-43dd-a2bf-eaee27179d50",
   "metadata": {
    "tags": []
   },
   "outputs": [],
   "source": [
    "# Make it a dataframe\n",
    "df = \n",
    "df"
   ]
  },
  {
   "cell_type": "code",
   "execution_count": null,
   "id": "6ea01116-aa78-4815-9789-9799eee4646a",
   "metadata": {
    "tags": []
   },
   "outputs": [],
   "source": [
    "# Clean it up (reset column labels)\n",
    "df.columns = df.iloc[0]\n",
    "df.drop(0,inplace=True)\n",
    "df"
   ]
  },
  {
   "cell_type": "code",
   "execution_count": null,
   "id": "c9ef868c-3661-4722-b450-ce0355cc0a09",
   "metadata": {
    "tags": []
   },
   "outputs": [],
   "source": [
    "df.columns[0]"
   ]
  },
  {
   "cell_type": "code",
   "execution_count": null,
   "id": "049c1590-b015-4403-b0b2-668b3cbccf01",
   "metadata": {
    "tags": []
   },
   "outputs": [],
   "source": [
    "# Clean it up (reset row labels)\n",
    "df.set_index('\\xa0',inplace=True)"
   ]
  },
  {
   "cell_type": "code",
   "execution_count": null,
   "id": "60da32f1-7c87-4982-8c47-c42cdae540a2",
   "metadata": {
    "tags": []
   },
   "outputs": [],
   "source": [
    "df"
   ]
  },
  {
   "cell_type": "code",
   "execution_count": null,
   "id": "2a28df6e-3d00-41cd-86db-dc30e8f29e15",
   "metadata": {
    "tags": []
   },
   "outputs": [],
   "source": [
    "# Would require further cleanup\n",
    "df.dtypes"
   ]
  },
  {
   "cell_type": "markdown",
   "id": "538ccc86-759f-4aca-ba87-9f31ec38fcd2",
   "metadata": {},
   "source": [
    "There is also a Pandas approach."
   ]
  },
  {
   "cell_type": "code",
   "execution_count": null,
   "id": "00373530-f5bb-4541-9a52-788c0433fce2",
   "metadata": {
    "tags": []
   },
   "outputs": [],
   "source": [
    "# We've taken a chunk of html that we want to parse\n",
    "student_ethnicity_table"
   ]
  },
  {
   "cell_type": "code",
   "execution_count": null,
   "id": "1002b705-d12e-4d0a-b384-4934384560a9",
   "metadata": {
    "tags": []
   },
   "outputs": [],
   "source": [
    "# What is the type\n",
    "type(student_ethnicity_table)"
   ]
  },
  {
   "cell_type": "code",
   "execution_count": null,
   "id": "2372f2d1-ef31-4917-b5c2-00ede47d6fb4",
   "metadata": {
    "tags": []
   },
   "outputs": [],
   "source": [
    "# Read the html into a dataframe\n"
   ]
  },
  {
   "cell_type": "code",
   "execution_count": null,
   "id": "cdd0c032-4b70-4bdf-b6a8-712a752df0ad",
   "metadata": {
    "tags": []
   },
   "outputs": [],
   "source": [
    "# We can use it on the whole page if we want to\n",
    "pd.read_html(...)"
   ]
  },
  {
   "cell_type": "markdown",
   "id": "2285b909-a013-4b16-a3cd-6e8a6abd07d7",
   "metadata": {},
   "source": [
    "## Activity"
   ]
  },
  {
   "cell_type": "markdown",
   "id": "a3dad0e4-9a0c-436b-a06c-01a41e87be66",
   "metadata": {},
   "source": [
    "1. From the same webpage we scraped last (Cal Poly Humboldt IRAR), put the data in the Fall 2024 Geographic Origin of Current Students table into a Pandas DataFrame. Clean the dataframe."
   ]
  },
  {
   "cell_type": "code",
   "execution_count": null,
   "id": "2b4931f0-5b2b-484b-a44c-db4aa72aabcf",
   "metadata": {},
   "outputs": [],
   "source": []
  }
 ],
 "metadata": {
  "kernelspec": {
   "display_name": "Python 3 (ipykernel)",
   "language": "python",
   "name": "python3"
  },
  "language_info": {
   "codemirror_mode": {
    "name": "ipython",
    "version": 3
   },
   "file_extension": ".py",
   "mimetype": "text/x-python",
   "name": "python",
   "nbconvert_exporter": "python",
   "pygments_lexer": "ipython3",
   "version": "3.11.4"
  }
 },
 "nbformat": 4,
 "nbformat_minor": 5
}
