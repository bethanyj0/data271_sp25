{
 "cells": [
  {
   "cell_type": "markdown",
   "id": "bd035d4a",
   "metadata": {},
   "source": [
    "# Interactive Plots"
   ]
  },
  {
   "cell_type": "code",
   "execution_count": null,
   "id": "26e99e3b",
   "metadata": {},
   "outputs": [],
   "source": [
    "import numpy as np\n",
    "import pandas as pd\n",
    "import warnings\n",
    "warnings.filterwarnings(\"ignore\")\n",
    "import matplotlib.pyplot as plt\n",
    "import seaborn as sns"
   ]
  },
  {
   "cell_type": "markdown",
   "id": "8bed24c5",
   "metadata": {},
   "source": [
    "### Basics with Plotly Express\n",
    "**Hover capabilities**"
   ]
  },
  {
   "cell_type": "code",
   "execution_count": null,
   "id": "faf233dd",
   "metadata": {},
   "outputs": [],
   "source": [
    "# Import plotly express\n"
   ]
  },
  {
   "cell_type": "code",
   "execution_count": null,
   "id": "aa586674",
   "metadata": {},
   "outputs": [],
   "source": [
    "# Create a basic line plot\n",
    "t = np.linspace(0, 2*np.pi, 100)\n",
    "fig = \n",
    "fig.show()"
   ]
  },
  {
   "cell_type": "code",
   "execution_count": null,
   "id": "034908b0",
   "metadata": {},
   "outputs": [],
   "source": [
    "# Include more details in the hover feature\n",
    "fig = px.line(x=t, y=np.cos(t), ...)\n",
    "fig.show()"
   ]
  },
  {
   "cell_type": "code",
   "execution_count": null,
   "id": "70d86360",
   "metadata": {},
   "outputs": [],
   "source": [
    "# Simple scatter plot\n",
    "df = px.data.iris() # plotly has some built in datasets (like seaborn and plotnine)\n",
    "\n",
    "fig = px.scatter(df, ..., width=500, height=400)\n",
    "fig.show()"
   ]
  },
  {
   "cell_type": "code",
   "execution_count": null,
   "id": "be97fd6c",
   "metadata": {},
   "outputs": [],
   "source": [
    "# What other info is in the dataframe?\n",
    "df"
   ]
  },
  {
   "cell_type": "code",
   "execution_count": null,
   "id": "2019de15",
   "metadata": {},
   "outputs": [],
   "source": [
    "# add more data to the hover feature\n",
    "fig = px.scatter(df, x=\"sepal_length\", y=\"sepal_width\",color='species',\n",
    "                 width=500, height=400,\n",
    "                ...)\n",
    "fig.show()"
   ]
  },
  {
   "cell_type": "code",
   "execution_count": null,
   "id": "53362b05-b15e-4f03-9d52-4ab39363b2ae",
   "metadata": {
    "tags": []
   },
   "outputs": [],
   "source": [
    "# add more data to the hover feature\n",
    "fig = px.scatter(df, x=\"sepal_length\", y=\"sepal_width\",color='species',\n",
    "                 width=500, height=400,\n",
    "                hover_data=['petal_length','petal_width'],...)\n",
    "fig.show()"
   ]
  },
  {
   "cell_type": "code",
   "execution_count": null,
   "id": "a4415aa1",
   "metadata": {},
   "outputs": [],
   "source": [
    "# Facetting is also possible\n",
    "fig = px.scatter(df, x=\"sepal_length\", y=\"sepal_width\",color='species',\n",
    "                 width=1000, height=400,\n",
    "                hover_data=['petal_length','petal_width'],\n",
    "                ...)\n",
    "fig.show()"
   ]
  },
  {
   "cell_type": "code",
   "execution_count": null,
   "id": "9a4fbc14",
   "metadata": {},
   "outputs": [],
   "source": [
    "# Histograms\n",
    "fig = ...\n",
    "fig.show()"
   ]
  },
  {
   "cell_type": "code",
   "execution_count": null,
   "id": "aa10ecba",
   "metadata": {},
   "outputs": [],
   "source": [
    "# Create heatmap using Plotly Express\n",
    "fig = ...\n",
    "\n",
    "# Show plot\n",
    "fig.show()"
   ]
  },
  {
   "cell_type": "code",
   "execution_count": null,
   "id": "097bd876-9991-42a9-b532-312dd53d9306",
   "metadata": {
    "tags": []
   },
   "outputs": [],
   "source": [
    "# Give a more descriptive name\n",
    "fig = px.imshow(\n",
    "  df.corr(numeric_only=True), color_continuous_scale='plasma', labels={'color':'correlation'}\n",
    ")\n",
    "\n",
    "# Show plot\n",
    "fig.show()"
   ]
  },
  {
   "cell_type": "code",
   "execution_count": null,
   "id": "29cbb146-0a77-4ed8-b50e-06c43e042e85",
   "metadata": {},
   "outputs": [],
   "source": [
    "# Add correlation to the plot\n",
    "fig = px.imshow(\n",
    "  df.corr(numeric_only=True), color_continuous_scale='plasma', labels={'color':'correlation'},\n",
    "    text_auto='.2f'\n",
    ")\n",
    "\n",
    "# Show plot\n",
    "fig.show()"
   ]
  },
  {
   "cell_type": "markdown",
   "id": "c0766fe6-06ca-40df-9202-c1f50a91a5fe",
   "metadata": {},
   "source": [
    "### Interacting with ipywidgets"
   ]
  },
  {
   "cell_type": "code",
   "execution_count": null,
   "id": "91455b11-f6c9-4d7d-8f96-e3a24617e0f3",
   "metadata": {
    "tags": []
   },
   "outputs": [],
   "source": []
  },
  {
   "cell_type": "code",
   "execution_count": null,
   "id": "ef93cc0e-a811-4345-bcaf-81c04629016e",
   "metadata": {
    "tags": []
   },
   "outputs": [],
   "source": [
    "# Write a function\n",
    "def ...:\n",
    "    return ..."
   ]
  },
  {
   "cell_type": "code",
   "execution_count": null,
   "id": "f0312bf0-ec0d-48b0-beb6-62cfb95fed45",
   "metadata": {
    "tags": []
   },
   "outputs": [],
   "source": [
    "# Adjusting the input of the function by interacting\n"
   ]
  },
  {
   "cell_type": "markdown",
   "id": "9a485bb7-bf21-4a26-aeb7-f8dbc498f29d",
   "metadata": {},
   "source": [
    "### Customizing sliders"
   ]
  },
  {
   "cell_type": "code",
   "execution_count": null,
   "id": "bde39c24-1486-43d6-9cbe-11bb0d49c910",
   "metadata": {
    "tags": []
   },
   "outputs": [],
   "source": [
    "# A simple integer slider \n"
   ]
  },
  {
   "cell_type": "code",
   "execution_count": null,
   "id": "04b2efab-fe9d-448a-bcda-7c63c9f01305",
   "metadata": {
    "tags": []
   },
   "outputs": [],
   "source": [
    "# A simple float slider\n",
    "widgets."
   ]
  },
  {
   "cell_type": "code",
   "execution_count": null,
   "id": "309c95d1-7924-4097-8db0-18c53dd37039",
   "metadata": {
    "tags": []
   },
   "outputs": [],
   "source": [
    "# Customize your slider\n",
    "widgets.FloatSlider(...)"
   ]
  },
  {
   "cell_type": "code",
   "execution_count": null,
   "id": "07334fc3-1c48-4712-b08c-ff1f0e35bdf5",
   "metadata": {},
   "outputs": [],
   "source": [
    "# Sliders for understanding functions\n",
    "def sin_func(frequency):\n",
    "    x = ...\n",
    "    \n",
    "    \n",
    "    \n",
    "    plt.show()\n",
    "\n",
    "# Create a slider widget using widget.FloatSlider\n",
    "slider = ...\n",
    "\n",
    "# Use interact to connect the slider and the update_plot function\n"
   ]
  },
  {
   "cell_type": "markdown",
   "id": "579f3c76-0492-4a8d-9686-734d1b6f9eca",
   "metadata": {},
   "source": [
    "### Dropdowns"
   ]
  },
  {
   "cell_type": "code",
   "execution_count": null,
   "id": "5ef0af4b-2b8a-4fb1-a636-24a939c72824",
   "metadata": {
    "tags": []
   },
   "outputs": [],
   "source": [
    "# Create a basic dropdown\n"
   ]
  },
  {
   "cell_type": "code",
   "execution_count": null,
   "id": "b6ba1a4d-9496-410e-998a-f9fc42bc63b4",
   "metadata": {
    "tags": []
   },
   "outputs": [],
   "source": [
    "# Create more interpretable dropdown options with dicts as options\n",
    "w = widgets.Dropdown(...)"
   ]
  },
  {
   "cell_type": "code",
   "execution_count": null,
   "id": "47d89b92-001b-4d02-989d-26d52eebafc6",
   "metadata": {
    "tags": []
   },
   "outputs": [],
   "source": []
  },
  {
   "cell_type": "code",
   "execution_count": null,
   "id": "1401b5cf-7beb-4fc9-8cc8-a0931426fc40",
   "metadata": {
    "tags": []
   },
   "outputs": [],
   "source": []
  },
  {
   "cell_type": "markdown",
   "id": "64b4315b-12a8-4313-b1ac-90af65a2bf5b",
   "metadata": {},
   "source": [
    "#### Using this to update a plot"
   ]
  },
  {
   "cell_type": "code",
   "execution_count": null,
   "id": "1b3ecc0a-724c-4fda-9a29-0fefdc93e6fa",
   "metadata": {},
   "outputs": [],
   "source": [
    "# Generate some data\n",
    "x = np.linspace(0, 10, 100)\n",
    "y1 = np.sin(x)\n",
    "y2 = np.cos(x)\n",
    "\n",
    "# Function to update the plot based on dropdown selection\n",
    "def update_plot(function):\n",
    "    if function == 'sine':\n",
    "        plt.plot(x, y1, label='sin(x)')\n",
    "        plt.ylabel('sin(x)')\n",
    "    elif function == 'cosine':\n",
    "        plt.plot(x, y2, label='cos(x)')\n",
    "        plt.ylabel('cos(x)')\n",
    "    plt.xlabel('x')\n",
    "    plt.show()\n",
    "\n",
    "# Create a dropdown widget with options\n",
    "options = {'sin(x)': 'sine', 'cos(x)': 'cosine'}\n",
    "dropdown = widgets.Dropdown(options=options, description='Function:')\n",
    "\n",
    "# Use interact to connect the dropdown and update_plot function\n",
    "interact(update_plot, function=dropdown);"
   ]
  },
  {
   "cell_type": "markdown",
   "id": "019da0c4",
   "metadata": {},
   "source": [
    "#### Data example"
   ]
  },
  {
   "cell_type": "code",
   "execution_count": null,
   "id": "b6678f4b-ee4f-422c-930c-9958e81de46c",
   "metadata": {},
   "outputs": [],
   "source": [
    "df.head()"
   ]
  },
  {
   "cell_type": "code",
   "execution_count": null,
   "id": "1f31e668",
   "metadata": {},
   "outputs": [],
   "source": [
    "# Create a plot with adjustable x and y axes\n",
    "# Function to update the scatter plot based on dropdown selection\n",
    "def update_plot(x_axis, y_axis):\n",
    "    fig = px.scatter(df, x=... , y=..., color='species',\n",
    "                    height = 500, width=700)\n",
    "    fig.show()\n",
    "\n",
    "# Define dropdown options for x and y axes\n",
    "x_options = ...\n",
    "y_options = ...\n",
    "\n",
    "# Create dropdown widgets\n",
    "x_dropdown = widgets.Dropdown(options=x_options, description='X Axis:')\n",
    "y_dropdown = widgets.Dropdown(options=y_options, description='Y Axis:')\n",
    "\n",
    "# Create interactive plot using ipywidgets interact function\n",
    "interact(update_plot, x_axis=x_dropdown, y_axis=y_dropdown);"
   ]
  },
  {
   "cell_type": "markdown",
   "id": "feb18018",
   "metadata": {},
   "source": [
    "### Animations/sliders with plotly"
   ]
  },
  {
   "cell_type": "code",
   "execution_count": null,
   "id": "d87e3063",
   "metadata": {},
   "outputs": [],
   "source": [
    "# Import the gap minder\n",
    "df = pd.read_csv('gapminder_all.csv')\n",
    "df"
   ]
  },
  {
   "cell_type": "code",
   "execution_count": null,
   "id": "a072e4c3",
   "metadata": {},
   "outputs": [],
   "source": [
    "# Tidy the data (start by melting)\n",
    "long_df = df.melt(id_vars=['continent','country'])\n",
    "long_df"
   ]
  },
  {
   "cell_type": "code",
   "execution_count": null,
   "id": "567d67d5",
   "metadata": {},
   "outputs": [],
   "source": [
    "# Each variable gets its own column\n",
    "long_df[['var','year']] = long_df.variable.str.split('_',expand=True)\n",
    "long_df.drop(columns = 'variable',inplace=True)\n",
    "long_df"
   ]
  },
  {
   "cell_type": "code",
   "execution_count": null,
   "id": "4d3fe276",
   "metadata": {},
   "outputs": [],
   "source": [
    "# pivot so each variable is a column\n",
    "tidy_df = long_df.pivot_table(index = ['continent','country','year'],columns='var',values='value').reset_index()\n",
    "tidy_df"
   ]
  },
  {
   "cell_type": "code",
   "execution_count": null,
   "id": "e1cd4fb4",
   "metadata": {},
   "outputs": [],
   "source": [
    "# check info for datatypes and nulls\n",
    "tidy_df.info()"
   ]
  },
  {
   "cell_type": "code",
   "execution_count": null,
   "id": "07e0e9ee",
   "metadata": {},
   "outputs": [],
   "source": [
    "# cast year to type int\n",
    "tidy_df['year'] = tidy_df.year.astype(int)"
   ]
  },
  {
   "cell_type": "markdown",
   "id": "b7563560",
   "metadata": {},
   "source": [
    "### How would we visualize with Seaborn?"
   ]
  },
  {
   "cell_type": "code",
   "execution_count": null,
   "id": "1ad63515",
   "metadata": {},
   "outputs": [],
   "source": [
    "# scatterplot in seaborn for one year\n",
    "sns.scatterplot(data = tidy_df[tidy_df['year']== 2007],\n",
    "                x = 'gdpPercap',y='lifeExp',size='pop', \n",
    "                sizes=(25, 250), hue='continent',alpha=0.7)\n",
    "plt.xscale('log')"
   ]
  },
  {
   "cell_type": "code",
   "execution_count": null,
   "id": "bf3810c8",
   "metadata": {},
   "outputs": [],
   "source": [
    "# Show the trend across years\n",
    "sns.relplot(data = tidy_df,x = 'gdpPercap',y='lifeExp',\n",
    "            size='pop', sizes=(25, 250), \n",
    "            hue='continent',alpha=0.7,\n",
    "            col='year',col_wrap=4)\n",
    "plt.xscale('log')"
   ]
  },
  {
   "cell_type": "markdown",
   "id": "b49e969a",
   "metadata": {},
   "source": [
    "### Same data with interactive plots"
   ]
  },
  {
   "cell_type": "code",
   "execution_count": null,
   "id": "b120c9c2",
   "metadata": {},
   "outputs": [],
   "source": [
    "# Look at just one year\n",
    "fig = px.scatter(..., x=..., y=...,\n",
    "           size=..., color=..., \n",
    "           log_x=True, size_max=55,\n",
    "           hover_name=...)\n",
    "fig.show()"
   ]
  },
  {
   "cell_type": "code",
   "execution_count": null,
   "id": "220f4e37",
   "metadata": {},
   "outputs": [],
   "source": [
    "# Create animation/slider instead of facetting\n",
    "fig = px.scatter(tidy_df, x=\"gdpPercap\", y=\"lifeExp\",\n",
    "           size=\"pop\", color=\"continent\", \n",
    "           hover_name=\"country\",\n",
    "           ..., \n",
    "           log_x=True, size_max=55, range_x=[100,100000], range_y=[25,90])\n",
    "fig.show()"
   ]
  },
  {
   "cell_type": "code",
   "execution_count": null,
   "id": "e877f92a",
   "metadata": {},
   "outputs": [],
   "source": [
    "# Combine animations with dropdowns\n",
    "def update_plot(option):\n",
    "    if option:\n",
    "        x_scale = [100,100000]\n",
    "    else:\n",
    "        x_scale = [0,45000]\n",
    "    fig = px.scatter(tidy_df, x=\"gdpPercap\", y=\"lifeExp\",\n",
    "           size=\"pop\", color=\"continent\", \n",
    "           hover_name=\"country\",\n",
    "           animation_frame=\"year\", \n",
    "           log_x=option, size_max=55, range_x=x_scale, range_y=[25,90])\n",
    "    fig.show()\n",
    "\n",
    "# Define dropdown options for x and y axes\n",
    "scale_options = [True, False]\n",
    "\n",
    "# Create dropdown widgets\n",
    "scale_dropdown = widgets.Dropdown(options=scale_options, description='Log scale:')\n",
    "\n",
    "# Create interactive plot using ipywidgets interact function\n",
    "interact(update_plot, option=scale_dropdown);"
   ]
  },
  {
   "cell_type": "code",
   "execution_count": null,
   "id": "d56a960e",
   "metadata": {},
   "outputs": [],
   "source": [
    "# Can also make animated bar charts\n",
    "fig = px.bar(tidy_df, x=\"continent\", y=\"pop\", color=\"continent\",\n",
    "              animation_frame=\"year\", hover_name = 'country',range_y=[0,4000000000])\n",
    "fig.show()"
   ]
  },
  {
   "cell_type": "code",
   "execution_count": null,
   "id": "f4531d8c",
   "metadata": {},
   "outputs": [],
   "source": []
  }
 ],
 "metadata": {
  "kernelspec": {
   "display_name": "Python 3 (ipykernel)",
   "language": "python",
   "name": "python3"
  },
  "language_info": {
   "codemirror_mode": {
    "name": "ipython",
    "version": 3
   },
   "file_extension": ".py",
   "mimetype": "text/x-python",
   "name": "python",
   "nbconvert_exporter": "python",
   "pygments_lexer": "ipython3",
   "version": "3.11.4"
  }
 },
 "nbformat": 4,
 "nbformat_minor": 5
}
