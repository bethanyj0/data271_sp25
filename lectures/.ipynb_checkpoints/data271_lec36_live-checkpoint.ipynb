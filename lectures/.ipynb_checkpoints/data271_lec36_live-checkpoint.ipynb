{
 "cells": [
  {
   "cell_type": "markdown",
   "id": "bd035d4a",
   "metadata": {},
   "source": [
    "# How to Handle Missing Data"
   ]
  },
  {
   "cell_type": "code",
   "execution_count": null,
   "id": "51d0dd37-d5ab-4761-b314-b6b25db0b577",
   "metadata": {},
   "outputs": [],
   "source": [
    "import numpy as np\n",
    "import pandas as pd\n",
    "import warnings\n",
    "warnings.filterwarnings(\"ignore\")\n",
    "import matplotlib.pyplot as plt\n",
    "import seaborn as sns\n",
    "np.random.seed(3)"
   ]
  },
  {
   "cell_type": "code",
   "execution_count": null,
   "id": "0e510feb-a36b-452a-82b2-c61f743fecf1",
   "metadata": {
    "tags": []
   },
   "outputs": [],
   "source": [
    "# Read in example dataset (fabricated for this demo)\n",
    "df = \n",
    "df.head()"
   ]
  },
  {
   "cell_type": "code",
   "execution_count": null,
   "id": "1de5b3c5-7189-4cc4-bda1-fb4a2ba0f358",
   "metadata": {
    "tags": []
   },
   "outputs": [],
   "source": [
    "# Explore the data \n"
   ]
  },
  {
   "cell_type": "code",
   "execution_count": null,
   "id": "d5e8986b-a752-4e29-a239-23c432ee89f1",
   "metadata": {
    "tags": []
   },
   "outputs": [],
   "source": [
    "# Function for permutation test to determine if difference in means is significant\n",
    "def permutation_test(data, group_col, value_col):\n",
    "    observed_diff = data.groupby(group_col)[value_col].mean().diff().iloc[-1]\n",
    "    diffs = []\n",
    "    for i in range(5000):\n",
    "        shuffled = data[value_col].sample(frac=1, replace=False).reset_index(drop=True)\n",
    "        shuffled_df = data.copy()\n",
    "        shuffled_df[value_col] = shuffled\n",
    "        diff = shuffled_df.groupby(group_col)[value_col].mean().diff().iloc[-1]\n",
    "        diffs.append(diff)\n",
    "    p_val = np.mean(np.abs(diffs) >= np.abs(observed_diff))\n",
    "    return observed_diff, p_val, diffs"
   ]
  },
  {
   "cell_type": "code",
   "execution_count": null,
   "id": "e6ef2f65-2c07-4c2e-9828-e147f9377a78",
   "metadata": {
    "tags": []
   },
   "outputs": [],
   "source": [
    "# Do the permutation test\n"
   ]
  },
  {
   "cell_type": "code",
   "execution_count": null,
   "id": "2d7e35ca-5631-476a-b067-c011b7c1a578",
   "metadata": {
    "tags": []
   },
   "outputs": [],
   "source": [
    "# Visualize results\n"
   ]
  },
  {
   "cell_type": "markdown",
   "id": "7371b571-49b4-48ea-8a75-d2ea86534631",
   "metadata": {},
   "source": [
    "What if the dataset had missing values?"
   ]
  },
  {
   "cell_type": "code",
   "execution_count": null,
   "id": "a260cccf-022b-49c7-a188-d316b37203ef",
   "metadata": {
    "tags": []
   },
   "outputs": [],
   "source": [
    "# Randomly remove 15% of salaries\n",
    "n = \n",
    "data_random_missing = \n",
    "mask = \n",
    "data_random_missing...\n",
    "data_random_missing.head(10)"
   ]
  },
  {
   "cell_type": "code",
   "execution_count": null,
   "id": "b4d16d11-ecd5-4891-8b81-db76990dcd37",
   "metadata": {
    "tags": []
   },
   "outputs": [],
   "source": [
    "# Drop the rows with missing salary \n",
    "data_random_missing_orig = \n",
    "data_random_missing...\n",
    "data_random_missing.shape"
   ]
  },
  {
   "cell_type": "code",
   "execution_count": null,
   "id": "44d197c7-a08c-44bf-8bf8-6ad06e9d6e35",
   "metadata": {},
   "outputs": [],
   "source": [
    "# Do the permutation test\n",
    "obs_diff_random, p_val_random, diffs_random = permutation_test(data_random_missing, \"gender\", \"salary\")"
   ]
  },
  {
   "cell_type": "code",
   "execution_count": null,
   "id": "fb14921c-2686-4f56-88ba-41e456a4c7af",
   "metadata": {
    "tags": []
   },
   "outputs": [],
   "source": [
    "# Visualize results\n",
    "sns.histplot(diffs_random)\n",
    "plt.scatter(x=obs_diff_random, y = 5, marker='o',color='r');\n",
    "p_val_random"
   ]
  },
  {
   "cell_type": "markdown",
   "id": "55e19540-16d3-4e44-b723-f500b5c34296",
   "metadata": {},
   "source": [
    "What if the missingness is not random? Suppose it is based on gender/age."
   ]
  },
  {
   "cell_type": "code",
   "execution_count": null,
   "id": "d27abda3-6faa-4784-9a76-cef8b19c1bdf",
   "metadata": {
    "tags": []
   },
   "outputs": [],
   "source": [
    "# Generate missing data based on gender/age \n",
    "# (young females less likely to have data)\n",
    "missing_based_on_gender_age = df.copy()\n",
    "mask = \n",
    "missing_based_on_gender_age.loc[mask, 'salary'] = np.nan"
   ]
  },
  {
   "cell_type": "code",
   "execution_count": null,
   "id": "31b5f8f8-56d6-4c7a-a7ee-229818c3f3f0",
   "metadata": {
    "tags": []
   },
   "outputs": [],
   "source": [
    "# Drop the rows with missing salary \n",
    "missing_based_on_gender_age_orig = missing_based_on_gender_age.copy()\n",
    "missing_based_on_gender_age.dropna(subset='salary',inplace=True)\n",
    "missing_based_on_gender_age.shape"
   ]
  },
  {
   "cell_type": "code",
   "execution_count": null,
   "id": "2da9205e-1c1c-4b8e-b7bd-b38e228da167",
   "metadata": {
    "tags": []
   },
   "outputs": [],
   "source": [
    "# Do the permutation test\n",
    "obs_diff_missing, p_val_missing, diffs_missing = permutation_test(missing_based_on_gender_age, \"gender\", \"salary\")"
   ]
  },
  {
   "cell_type": "code",
   "execution_count": null,
   "id": "e520909d-016a-4890-a8a4-b4049316636e",
   "metadata": {
    "tags": []
   },
   "outputs": [],
   "source": [
    "# Visualize results\n",
    "sns.histplot(diffs_missing)\n",
    "plt.scatter(x=obs_diff_missing, y = 5, marker='o',color='r');\n",
    "p_val_missing"
   ]
  },
  {
   "cell_type": "markdown",
   "id": "01e05934-90d4-4211-af58-80f02ec128dd",
   "metadata": {},
   "source": [
    "What if missingness is based on the value itself?"
   ]
  },
  {
   "cell_type": "code",
   "execution_count": null,
   "id": "832eee33-dfac-4e78-a1a1-ebdd0e36d5d2",
   "metadata": {
    "tags": []
   },
   "outputs": [],
   "source": [
    "# Generate missing data based on salary itself. Lower salaries are more likely to skip\n",
    "missing_based_on_salary = df.copy()\n",
    "mask = \n",
    "missing_based_on_salary.loc[mask, 'salary'] = np.nan"
   ]
  },
  {
   "cell_type": "code",
   "execution_count": null,
   "id": "3d3ab284-ed93-4913-8a3c-76887bf51b60",
   "metadata": {
    "tags": []
   },
   "outputs": [],
   "source": [
    "# Drop the rows with missing salary \n",
    "missing_based_on_salary_orig = missing_based_on_salary.copy()\n",
    "missing_based_on_salary.dropna(subset='salary',inplace=True)\n",
    "missing_based_on_salary.shape"
   ]
  },
  {
   "cell_type": "code",
   "execution_count": null,
   "id": "83ff4bff-6bde-43b4-866e-604ee4060148",
   "metadata": {
    "tags": []
   },
   "outputs": [],
   "source": [
    "# Do the permutation test\n",
    "obs_diff_missing2, p_val_missing2, diffs_missing2 = permutation_test(missing_based_on_salary, \"gender\", \"salary\")"
   ]
  },
  {
   "cell_type": "code",
   "execution_count": null,
   "id": "20a0b7d3-8f80-491b-bfb7-f1bbe7ec703f",
   "metadata": {
    "tags": []
   },
   "outputs": [],
   "source": [
    "# Visualize results\n",
    "sns.histplot(diffs_missing2)\n",
    "plt.scatter(x=obs_diff_missing2, y = 5, marker='o',color='r');\n",
    "p_val_missing2"
   ]
  },
  {
   "cell_type": "markdown",
   "id": "f8a79b78-1a49-4dca-a012-61938e4dd460",
   "metadata": {},
   "source": [
    "### Checking for patterns in missingness"
   ]
  },
  {
   "cell_type": "code",
   "execution_count": null,
   "id": "8604bec0-7551-4c10-b196-5c28e977d9f9",
   "metadata": {
    "tags": []
   },
   "outputs": [],
   "source": [
    "# Create a \"missing salary\" column\n",
    "data_random_missing_orig['missing_salary'] = \n",
    "missing_based_on_gender_age_orig['missing_salary'] = \n",
    "missing_based_on_salary_orig['missing_salary'] = "
   ]
  },
  {
   "cell_type": "code",
   "execution_count": null,
   "id": "6a260b02-5efb-4d78-a6bb-91b6a3436d17",
   "metadata": {
    "tags": []
   },
   "outputs": [],
   "source": [
    "# check relationship between missingness and gender, MCAR\n"
   ]
  },
  {
   "cell_type": "code",
   "execution_count": null,
   "id": "cfb406c7-b25f-48ad-81e1-7da03aa8afdd",
   "metadata": {
    "tags": []
   },
   "outputs": [],
   "source": [
    "# check relationship between missingness and age, MCAR\n"
   ]
  },
  {
   "cell_type": "code",
   "execution_count": null,
   "id": "86549c09-0da0-4062-ab5e-a8e63be1aca9",
   "metadata": {
    "tags": []
   },
   "outputs": [],
   "source": [
    "# check relationship between missingness and gender, MAR\n"
   ]
  },
  {
   "cell_type": "code",
   "execution_count": null,
   "id": "c722bcb2-30b7-4266-adc1-8e14f74068c5",
   "metadata": {
    "tags": []
   },
   "outputs": [],
   "source": [
    "# check relationship between missingness and age, MAR\n"
   ]
  },
  {
   "cell_type": "code",
   "execution_count": null,
   "id": "733fc3d9-cccd-4ddc-b075-a8f25700524d",
   "metadata": {
    "tags": []
   },
   "outputs": [],
   "source": [
    "# check relationship between missingness and gender, MNAR\n"
   ]
  },
  {
   "cell_type": "code",
   "execution_count": null,
   "id": "4bd9fead-50ce-4a8e-a196-9ca512ec02e2",
   "metadata": {
    "tags": []
   },
   "outputs": [],
   "source": [
    "# check relationship between missingness and age, MNAR\n"
   ]
  },
  {
   "cell_type": "markdown",
   "id": "29036bfd-6d7b-46a3-a833-3267a4ff4dca",
   "metadata": {},
   "source": [
    "### Imputing the data"
   ]
  },
  {
   "cell_type": "code",
   "execution_count": null,
   "id": "2e200507-4e5a-481b-a744-ec3af8c9f01f",
   "metadata": {
    "tags": []
   },
   "outputs": [],
   "source": [
    "# Fill with the mean\n",
    "random_filled = "
   ]
  },
  {
   "cell_type": "code",
   "execution_count": null,
   "id": "62fd65d0-5485-4d91-a855-6ff16e2d437f",
   "metadata": {
    "tags": []
   },
   "outputs": [],
   "source": [
    "# Check analysis\n",
    "obs_diff, p_val, diffs = permutation_test(random_filled, \"gender\", \"salary\")\n",
    "\n",
    "sns.histplot(diffs)\n",
    "plt.scatter(x=obs_diff, y = 5, marker='o',color='r');\n",
    "p_val"
   ]
  },
  {
   "cell_type": "code",
   "execution_count": null,
   "id": "5572f2cf-be12-4360-ad8f-5b3f9308600c",
   "metadata": {
    "tags": []
   },
   "outputs": [],
   "source": [
    "# Fill with the median\n",
    "random_filled = "
   ]
  },
  {
   "cell_type": "code",
   "execution_count": null,
   "id": "a8224b88-b468-4884-ad77-6b3d56548737",
   "metadata": {
    "tags": []
   },
   "outputs": [],
   "source": [
    "# Check analysis\n",
    "obs_diff, p_val, diffs = permutation_test(random_filled, \"gender\", \"salary\")\n",
    "p_val"
   ]
  },
  {
   "cell_type": "code",
   "execution_count": null,
   "id": "188992a3-2449-4bc2-9e85-44d304e093c5",
   "metadata": {
    "tags": []
   },
   "outputs": [],
   "source": [
    "# Fill MAR with the mean\n",
    "MAR_filled = "
   ]
  },
  {
   "cell_type": "code",
   "execution_count": null,
   "id": "de935b4a-1b58-4a93-99c6-fda708976d10",
   "metadata": {
    "tags": []
   },
   "outputs": [],
   "source": [
    "# Check analysis\n",
    "obs_diff, p_val, diffs = permutation_test(MAR_filled, \"gender\", \"salary\")\n",
    "p_val"
   ]
  },
  {
   "cell_type": "code",
   "execution_count": null,
   "id": "697d058a-2a4b-4989-a50e-0639628b1b37",
   "metadata": {
    "tags": []
   },
   "outputs": [],
   "source": [
    "# Fill MAR with the median\n",
    "MAR_filled = "
   ]
  },
  {
   "cell_type": "code",
   "execution_count": null,
   "id": "f1bc9d08-083f-4b2f-a9a7-38590feff328",
   "metadata": {
    "tags": []
   },
   "outputs": [],
   "source": [
    "# Check analysis\n",
    "obs_diff, p_val, diffs = permutation_test(MAR_filled, \"gender\", \"salary\")\n",
    "p_val"
   ]
  },
  {
   "cell_type": "code",
   "execution_count": null,
   "id": "2f424d27-78f0-4f90-ace4-caac1b881ec0",
   "metadata": {
    "tags": []
   },
   "outputs": [],
   "source": [
    "# Fill MNAR with the mean\n",
    "MNAR_filled = "
   ]
  },
  {
   "cell_type": "code",
   "execution_count": null,
   "id": "bbe672c6-3436-4e6e-bb6b-6facd68e4bec",
   "metadata": {
    "tags": []
   },
   "outputs": [],
   "source": [
    "# Check analysis\n",
    "obs_diff, p_val, diffs = permutation_test(MNAR_filled, \"gender\", \"salary\")\n",
    "p_val"
   ]
  },
  {
   "cell_type": "code",
   "execution_count": null,
   "id": "b3058758-d7c5-4b44-8a75-f8290823cd1e",
   "metadata": {
    "tags": []
   },
   "outputs": [],
   "source": [
    "# Fill MNAR with the median\n",
    "MNAR_filled = "
   ]
  },
  {
   "cell_type": "code",
   "execution_count": null,
   "id": "9cbffd5e-a088-4b6b-81cd-c5fc3d6157a3",
   "metadata": {
    "tags": []
   },
   "outputs": [],
   "source": [
    "# Check analysis\n",
    "obs_diff, p_val, diffs = permutation_test(MNAR_filled, \"gender\", \"salary\")\n",
    "p_val"
   ]
  }
 ],
 "metadata": {
  "kernelspec": {
   "display_name": "Python 3 (ipykernel)",
   "language": "python",
   "name": "python3"
  },
  "language_info": {
   "codemirror_mode": {
    "name": "ipython",
    "version": 3
   },
   "file_extension": ".py",
   "mimetype": "text/x-python",
   "name": "python",
   "nbconvert_exporter": "python",
   "pygments_lexer": "ipython3",
   "version": "3.11.4"
  }
 },
 "nbformat": 4,
 "nbformat_minor": 5
}
