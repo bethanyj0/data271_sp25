{
 "cells": [
  {
   "cell_type": "markdown",
   "id": "bd035d4a",
   "metadata": {},
   "source": [
    "# More on Missing Data"
   ]
  },
  {
   "cell_type": "code",
   "execution_count": null,
   "id": "2b7d2140-4a80-4e51-97d6-ef8d66662464",
   "metadata": {
    "tags": []
   },
   "outputs": [],
   "source": [
    "import numpy as np\n",
    "import pandas as pd\n",
    "import warnings\n",
    "warnings.filterwarnings(\"ignore\")\n",
    "import matplotlib.pyplot as plt\n",
    "import seaborn as sns\n",
    "np.random.seed(3)"
   ]
  },
  {
   "cell_type": "code",
   "execution_count": null,
   "id": "32ac5452-3e79-49ba-ad5d-c078d78dbf62",
   "metadata": {
    "tags": []
   },
   "outputs": [],
   "source": [
    "# Read in example dataset (fabricated for this demo)\n",
    "df = pd.read_csv('gender_wage_full_data.csv')"
   ]
  },
  {
   "cell_type": "code",
   "execution_count": null,
   "id": "3c25dddc-fc54-4eda-a528-4605c75095d8",
   "metadata": {
    "tags": []
   },
   "outputs": [],
   "source": [
    "# Make the missing data\n",
    "\n",
    "# MCAR, Randomly remove 15% of salaries\n",
    "n = df.shape[0]\n",
    "data_random_missing = df.copy()\n",
    "mask = np.random.rand(n) < 0.15\n",
    "data_random_missing.loc[mask, 'salary'] = np.nan\n",
    "data_random_missing.head(10)\n",
    "\n",
    "# MAR, young females more likely to skip salary question\n",
    "missing_based_on_gender_age = df.copy()\n",
    "mask = ((missing_based_on_gender_age['gender'] == 'female') \n",
    "        & (missing_based_on_gender_age['age'] < 30) \n",
    "        & (np.random.rand(n) < 0.5))\n",
    "missing_based_on_gender_age.loc[mask, 'salary'] = np.nan\n",
    "\n",
    "# MNAR, lower salaries more likely to skip salary question\n",
    "missing_based_on_salary = df.copy()\n",
    "mask = (missing_based_on_salary['salary'] < 55000) & (np.random.rand(n) < 0.7)\n",
    "missing_based_on_salary.loc[mask, 'salary'] = np.nan"
   ]
  },
  {
   "cell_type": "markdown",
   "id": "a5680007-08d3-46fc-97e2-170515e31dbd",
   "metadata": {},
   "source": [
    "### Checking for patterns in missingness"
   ]
  },
  {
   "cell_type": "code",
   "execution_count": null,
   "id": "1a749e11-63c0-446e-a276-724c31013833",
   "metadata": {
    "tags": []
   },
   "outputs": [],
   "source": [
    "# Create a \"missing salary\" column\n",
    "data_random_missing['missing_salary'] = \n",
    "missing_based_on_gender_age['missing_salary'] = \n",
    "missing_based_on_salary['missing_salary'] = "
   ]
  },
  {
   "cell_type": "code",
   "execution_count": null,
   "id": "9957089f-7a14-4ff1-a537-924e384b35ba",
   "metadata": {
    "tags": []
   },
   "outputs": [],
   "source": [
    "# check relationship between missingness and gender, MCAR\n"
   ]
  },
  {
   "cell_type": "code",
   "execution_count": null,
   "id": "1fb9e806-b8ba-41bb-978c-bfbfdd8aca11",
   "metadata": {
    "tags": []
   },
   "outputs": [],
   "source": [
    "# check relationship between missingness and age, MCAR\n"
   ]
  },
  {
   "cell_type": "code",
   "execution_count": null,
   "id": "31fb5022-b705-47f9-8aba-2bde3e652aca",
   "metadata": {
    "tags": []
   },
   "outputs": [],
   "source": [
    "# check relationship between missingness and gender, MAR\n"
   ]
  },
  {
   "cell_type": "code",
   "execution_count": null,
   "id": "4f135cae-b65d-4ce8-92a8-231b647403d9",
   "metadata": {
    "tags": []
   },
   "outputs": [],
   "source": [
    "# check relationship between missingness and age, MAR\n"
   ]
  },
  {
   "cell_type": "code",
   "execution_count": null,
   "id": "130d9742-817f-4523-9e73-ce67d8de3d31",
   "metadata": {
    "tags": []
   },
   "outputs": [],
   "source": [
    "# check relationship between missingness and gender, MNAR\n"
   ]
  },
  {
   "cell_type": "code",
   "execution_count": null,
   "id": "13cbe72d-249d-4ab8-baa5-4e35288e020e",
   "metadata": {
    "tags": []
   },
   "outputs": [],
   "source": [
    "# check relationship between missingness and age, MNAR\n"
   ]
  },
  {
   "cell_type": "markdown",
   "id": "13b9b1e2-4184-42bf-be62-f5b6c295f0f8",
   "metadata": {},
   "source": [
    "Use `missingno` for specialized visualizations."
   ]
  },
  {
   "cell_type": "code",
   "execution_count": null,
   "id": "e67e72cb-d0c4-4af6-931a-ec1b2c10bbdc",
   "metadata": {
    "tags": []
   },
   "outputs": [],
   "source": []
  },
  {
   "cell_type": "code",
   "execution_count": null,
   "id": "7ff8585d-3355-4c2f-ad35-6a1c0eee438a",
   "metadata": {},
   "outputs": [],
   "source": [
    "# Can visualize the proportion of non-missing values in each column\n"
   ]
  },
  {
   "cell_type": "code",
   "execution_count": null,
   "id": "1a7c6e7b-d721-4410-8ace-0bd14afe0d46",
   "metadata": {},
   "outputs": [],
   "source": [
    "# Another way to make the null map with the msno module \n"
   ]
  },
  {
   "cell_type": "code",
   "execution_count": null,
   "id": "2e887d07-8e95-4b99-91db-916384087c27",
   "metadata": {},
   "outputs": [],
   "source": [
    "# Plot the matrix again sorted by age\n"
   ]
  },
  {
   "cell_type": "markdown",
   "id": "a1ad118b-313c-4d92-99f9-f69ab5738e01",
   "metadata": {},
   "source": [
    "This makes it clear that only younger individuals skipped the salary question."
   ]
  },
  {
   "cell_type": "code",
   "execution_count": null,
   "id": "20c11656-c071-4809-b6ec-c9a9604ccb87",
   "metadata": {
    "tags": []
   },
   "outputs": [],
   "source": []
  },
  {
   "cell_type": "markdown",
   "id": "fd6fa008-da86-484b-a70e-4c7160630096",
   "metadata": {},
   "source": [
    "This reveals that missingness is be correlated with gender too."
   ]
  },
  {
   "cell_type": "markdown",
   "id": "badc6b12-fa7a-4d92-9d2c-57326be02e73",
   "metadata": {},
   "source": [
    "### Imputing the data"
   ]
  },
  {
   "cell_type": "code",
   "execution_count": null,
   "id": "b8bd78a8-83cc-4148-966e-b5f24f28b9bf",
   "metadata": {
    "tags": []
   },
   "outputs": [],
   "source": [
    "# Fill MCAR the mean\n",
    "MCAR_filled = "
   ]
  },
  {
   "cell_type": "code",
   "execution_count": null,
   "id": "6c2b053b-905f-4afd-8cff-2d17f964d868",
   "metadata": {
    "tags": []
   },
   "outputs": [],
   "source": [
    "# Compare qualitative differences between the complete data and the filled data\n",
    "fig, ax = plt.subplots(1,2, figsize = (10,4))\n"
   ]
  },
  {
   "cell_type": "code",
   "execution_count": null,
   "id": "b24fcdca-55ae-447e-b2d7-bcb707d2ef1b",
   "metadata": {
    "tags": []
   },
   "outputs": [],
   "source": [
    "# Fill MAR with the mean\n",
    "MAR_filled = missing_based_on_gender_age.fillna(\n",
    "    missing_based_on_gender_age.salary.mean())"
   ]
  },
  {
   "cell_type": "code",
   "execution_count": null,
   "id": "24573ca0-b626-4bc6-b210-8f3b58c5308d",
   "metadata": {
    "tags": []
   },
   "outputs": [],
   "source": [
    "# Compare qualitative differences between the complete data and the filled data\n",
    "fig, ax = plt.subplots(1,2, figsize = (10,4))\n",
    "sns.scatterplot(data = df, x = 'age', y = 'salary', hue = 'gender', ax=ax[0]);\n",
    "sns.scatterplot(data = MAR_filled, x = 'age', y = 'salary', hue = 'gender', ax=ax[1]);"
   ]
  },
  {
   "cell_type": "code",
   "execution_count": null,
   "id": "cb0fed1c-a796-48db-afc3-6468c78f9a77",
   "metadata": {
    "tags": []
   },
   "outputs": [],
   "source": [
    "# Fill MNAR with the mean\n",
    "MNAR_filled = missing_based_on_salary.fillna(\n",
    "    missing_based_on_salary.salary.mean())"
   ]
  },
  {
   "cell_type": "code",
   "execution_count": null,
   "id": "6f655fb9-40b9-4d0f-bcf7-454723f37b51",
   "metadata": {
    "tags": []
   },
   "outputs": [],
   "source": [
    "# Compare qualitative differences between the complete data and the filled data\n",
    "fig, ax = plt.subplots(1,2, figsize = (10,4))\n",
    "sns.scatterplot(data = df, x = 'age', y = 'salary', hue = 'gender', ax=ax[0]);\n",
    "sns.scatterplot(data = MNAR_filled, x = 'age', y = 'salary', hue = 'gender', ax=ax[1]);"
   ]
  },
  {
   "cell_type": "markdown",
   "id": "49b97d07-b3fa-4f3c-b676-0a2ecb51b4b3",
   "metadata": {},
   "source": [
    "### Imputing time series data\n",
    "Imputing with the mean, median, or mode is not always the best option, especially for sequential data. "
   ]
  },
  {
   "cell_type": "code",
   "execution_count": null,
   "id": "8482a39d-2ba3-4bc3-8944-b14da101d61c",
   "metadata": {},
   "outputs": [],
   "source": [
    "airquality = \n",
    "airquality"
   ]
  },
  {
   "cell_type": "code",
   "execution_count": null,
   "id": "1ad4ff55-b05a-4712-806d-16132c86247c",
   "metadata": {},
   "outputs": [],
   "source": []
  },
  {
   "cell_type": "code",
   "execution_count": null,
   "id": "88ce2018-deba-4e29-9ac8-7e6698bee151",
   "metadata": {},
   "outputs": [],
   "source": [
    "airquality['Date'] = \n",
    "airquality"
   ]
  },
  {
   "cell_type": "code",
   "execution_count": null,
   "id": "f1187186-8bbe-48e6-86d5-a46b0e42ccdc",
   "metadata": {
    "tags": []
   },
   "outputs": [],
   "source": [
    "# Look at missing Ozone data\n",
    "plt.figure(figsize=(10,4))\n",
    "\n",
    "plt.ylabel('Ozone')\n",
    "plt.show()"
   ]
  },
  {
   "cell_type": "markdown",
   "id": "c918a90d-8c98-4c91-9873-506fdf1c44ad",
   "metadata": {},
   "source": [
    "The time series varies a lot. If we fill everything with the mean or median, we might get strange results. "
   ]
  },
  {
   "cell_type": "code",
   "execution_count": null,
   "id": "5888565d-3f12-4f12-8548-5a732f1dbef5",
   "metadata": {},
   "outputs": [],
   "source": [
    "# Fill nans with the mean datapoint\n",
    "mean_fill = \n",
    "\n",
    "plt.figure(figsize=(10,4))\n",
    "plt.plot(mean_fill[\"Date\"], mean_fill[\"Ozone\"], marker='o', color = 'r');\n",
    "plt.plot(airquality[\"Date\"], airquality[\"Ozone\"], marker='o');\n",
    "plt.ylabel('Ozone')\n",
    "plt.show()"
   ]
  },
  {
   "cell_type": "code",
   "execution_count": null,
   "id": "06b7d911-642a-4d62-8811-4b5fec726aba",
   "metadata": {},
   "outputs": [],
   "source": [
    "# Fill nans with the previous datapoint\n",
    "forward_fill = "
   ]
  },
  {
   "cell_type": "code",
   "execution_count": null,
   "id": "5f5ea350-25d2-4197-809c-ca3f00478c74",
   "metadata": {},
   "outputs": [],
   "source": [
    "# Look at the missing data in Ozone\n",
    "plt.figure(figsize=(10,4))\n",
    "plt.plot(forward_fill[\"Date\"], forward_fill[\"Ozone\"], marker='o', color = 'r');\n",
    "plt.plot(airquality[\"Date\"], airquality[\"Ozone\"], marker='o');\n",
    "plt.ylabel('Ozone')\n",
    "plt.show()"
   ]
  },
  {
   "cell_type": "code",
   "execution_count": null,
   "id": "9f1ae22a-2123-4652-916c-9a58ce8e54c2",
   "metadata": {},
   "outputs": [],
   "source": [
    "# Fill nans with the next datapoint\n",
    "back_fill = "
   ]
  },
  {
   "cell_type": "code",
   "execution_count": null,
   "id": "8a54296e-abd3-4c0e-a2a6-58ef7680676d",
   "metadata": {},
   "outputs": [],
   "source": [
    "# Look at the missing data in Ozone\n",
    "plt.figure(figsize=(10,4))\n",
    "plt.plot(back_fill[\"Date\"], back_fill[\"Ozone\"], marker='o', color = 'r');\n",
    "plt.plot(airquality[\"Date\"], airquality[\"Ozone\"], marker='o');\n",
    "plt.ylabel('Ozone')\n",
    "plt.show()"
   ]
  },
  {
   "cell_type": "code",
   "execution_count": null,
   "id": "6b8f1acb-8b47-43ff-adcd-77499a419c5c",
   "metadata": {},
   "outputs": [],
   "source": [
    "# Linear interpolation\n",
    "interpolated_oz = \n",
    "interpolated_oz['Ozone'] = "
   ]
  },
  {
   "cell_type": "code",
   "execution_count": null,
   "id": "d483864f-58d3-407b-b433-4d7e8bc4f89e",
   "metadata": {},
   "outputs": [],
   "source": [
    "# Look at the missing data in Ozone\n",
    "plt.figure(figsize=(10,4))\n",
    "plt.plot(interpolated_oz[\"Date\"], interpolated_oz[\"Ozone\"], marker='o', color = 'r');\n",
    "plt.plot(airquality[\"Date\"], airquality[\"Ozone\"], marker='o');\n",
    "plt.xlabel('Day')\n",
    "plt.ylabel('Ozone')\n",
    "plt.show()"
   ]
  },
  {
   "cell_type": "markdown",
   "id": "ab2687e9-93b3-4a09-a5df-50b3b7e649bb",
   "metadata": {},
   "source": [
    "This looks like a reasonable guess for how to fill in the datapoints.\n",
    "\n",
    "*NOTE:* There are other methods that can be used to interpolate."
   ]
  },
  {
   "cell_type": "code",
   "execution_count": null,
   "id": "0fdb4b77-7711-4491-8792-82f928d448d3",
   "metadata": {},
   "outputs": [],
   "source": [
    "# Quadratic interpolation\n",
    "interpolated_oz['Ozone'] = "
   ]
  },
  {
   "cell_type": "code",
   "execution_count": null,
   "id": "5cef685c-3fc2-4eea-b1c2-ff482cd0d9a2",
   "metadata": {},
   "outputs": [],
   "source": [
    "# Look at the missing data in Ozone\n",
    "plt.figure(figsize=(10,4))\n",
    "interpolated_oz['Ozone'].plot(color = 'r', marker='o')\n",
    "airquality['Ozone'].plot( marker='o')\n",
    "plt.xlabel('Day')\n",
    "plt.ylabel('Ozone')\n",
    "plt.show()"
   ]
  },
  {
   "cell_type": "markdown",
   "id": "82987af4-99b5-422f-b660-206aa32e9999",
   "metadata": {},
   "source": [
    "This method highly overshot the data ranges. This is not a good option. "
   ]
  },
  {
   "cell_type": "markdown",
   "id": "c61a0a94-b22e-4f2b-a93d-e6279411085d",
   "metadata": {},
   "source": [
    "One other option is to fill null values with a random sample. This could work when the data is MCAR or MAR and could also work for categorical data."
   ]
  },
  {
   "cell_type": "code",
   "execution_count": null,
   "id": "955e87a4-07f6-41d1-98cf-423badf30689",
   "metadata": {},
   "outputs": [],
   "source": [
    "# Get non-NaN values from column 'A'\n",
    "non_nan_values = airquality['Ozone'].dropna()\n",
    "\n",
    "# Count the number of NaN values in column 'A'\n",
    "nan_count = airquality['Ozone'].isna().sum()\n",
    "\n",
    "# Generate random samples from non-NaN values with replacement to fill NaNs\n",
    "random_samples = np.random.choice(non_nan_values, nan_count, replace=True)\n",
    "\n",
    "# Fill NaN values in column 'A' with random samples\n",
    "random_fill = airquality.copy()\n",
    "random_fill.loc[random_fill['Ozone'].isna(), 'Ozone'] = random_samples\n",
    "\n",
    "plt.figure(figsize=(10,4))\n",
    "plt.plot(random_fill[\"Date\"], random_fill[\"Ozone\"], marker='o', color = 'r');\n",
    "plt.plot(airquality[\"Date\"], airquality[\"Ozone\"], marker='o');\n",
    "plt.xlabel('Day')\n",
    "plt.ylabel('Ozone')\n",
    "plt.show()"
   ]
  },
  {
   "cell_type": "markdown",
   "id": "054d8718-e4e7-499e-af56-d525e2d306f2",
   "metadata": {},
   "source": [
    "## Activity\n",
    "Activity 1: Look at the \"Hours.Of.Daylight\" column in the airquality dataset. Fill in the missing values with the most appropriate method."
   ]
  },
  {
   "cell_type": "code",
   "execution_count": null,
   "id": "942479ba-2712-423f-96c4-94c7eb80a89d",
   "metadata": {},
   "outputs": [],
   "source": []
  },
  {
   "cell_type": "markdown",
   "id": "7d4c5084-8a5d-45f3-af5b-d4338f14b8c6",
   "metadata": {},
   "source": [
    "**Activity 2:** Run the following cells to import and clean the Lake Mendocino Data from last time. Use an appropriate imputation method to fill in the null values in this dataset. Plot your results to evaluate if your imputation was reasonable."
   ]
  },
  {
   "cell_type": "code",
   "execution_count": null,
   "id": "b7566fac-9e94-4c23-818c-ce8dc0674f61",
   "metadata": {},
   "outputs": [],
   "source": [
    "# Import a dataset about Lake Mendocino\n",
    "lake = pd.read_csv('coy_wy2024_csvdata.csv')\n",
    "lake"
   ]
  },
  {
   "cell_type": "code",
   "execution_count": null,
   "id": "b5b96a16-5f27-4032-aa22-3d6409ca31de",
   "metadata": {},
   "outputs": [],
   "source": [
    "lake[lake=='-'] = np.nan\n",
    "notes_columns = [col for col in lake.columns if 'notes' in col]\n",
    "lake[notes_columns] = lake[notes_columns].replace(0, np.nan)\n",
    "lake.dropna(axis = 1, thresh = 230,inplace=True)\n",
    "lake = lake.assign(cons_high = lake['Top of Conservation High (ac-ft)'].astype(float),\n",
    "              cons = lake['Top of Conservation (ac-ft)'].astype(float),\n",
    "              gross_pool = lake['Gross Pool'].astype(float),\n",
    "              gross_pool_elev = lake['Gross Pool(elev)'].astype(float))\n",
    "lake['date'] = pd.to_datetime(lake['ISO 8601 Date Time'].str[:10])\n",
    "lake.drop(columns = ['Top of Conservation High (ac-ft)', 'Top of Conservation (ac-ft)','Gross Pool','Gross Pool(elev)'],inplace=True)\n",
    "lake"
   ]
  },
  {
   "cell_type": "code",
   "execution_count": null,
   "id": "01744959-4bc2-4fc2-8f37-aa6c3ee40623",
   "metadata": {},
   "outputs": [],
   "source": [
    "# Fill nans\n"
   ]
  },
  {
   "cell_type": "code",
   "execution_count": null,
   "id": "599794fb-443d-484e-a95b-accd797bbf5b",
   "metadata": {},
   "outputs": [],
   "source": [
    "# Check if it worked \n"
   ]
  },
  {
   "cell_type": "code",
   "execution_count": null,
   "id": "001a4d38-61ea-49f7-9dda-7275d2209b1b",
   "metadata": {},
   "outputs": [],
   "source": [
    "# Plot \n"
   ]
  }
 ],
 "metadata": {
  "kernelspec": {
   "display_name": "Python 3 (ipykernel)",
   "language": "python",
   "name": "python3"
  },
  "language_info": {
   "codemirror_mode": {
    "name": "ipython",
    "version": 3
   },
   "file_extension": ".py",
   "mimetype": "text/x-python",
   "name": "python",
   "nbconvert_exporter": "python",
   "pygments_lexer": "ipython3",
   "version": "3.11.4"
  }
 },
 "nbformat": 4,
 "nbformat_minor": 5
}
