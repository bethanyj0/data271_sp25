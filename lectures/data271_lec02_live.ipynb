{
 "cells": [
  {
   "cell_type": "markdown",
   "id": "bcf01c5b",
   "metadata": {},
   "source": [
    "# Data Structures"
   ]
  },
  {
   "cell_type": "markdown",
   "id": "ee68b575",
   "metadata": {},
   "source": [
    "## Lists"
   ]
  },
  {
   "cell_type": "code",
   "execution_count": null,
   "id": "91e1f464",
   "metadata": {},
   "outputs": [],
   "source": [
    "empty_list = \n"
   ]
  },
  {
   "cell_type": "markdown",
   "id": "c0e3ca32",
   "metadata": {},
   "source": [
    "Lists can store different data types and are ordered (so indexing is possible)."
   ]
  },
  {
   "cell_type": "code",
   "execution_count": null,
   "id": "b462fe01",
   "metadata": {},
   "outputs": [],
   "source": [
    "my_list = \n"
   ]
  },
  {
   "cell_type": "markdown",
   "id": "d607c4c4",
   "metadata": {},
   "source": [
    "Lists are mutable"
   ]
  },
  {
   "cell_type": "code",
   "execution_count": null,
   "id": "127cc038",
   "metadata": {},
   "outputs": [],
   "source": [
    "# update an element\n",
    "my_list[1] = \n",
    "my_list"
   ]
  },
  {
   "cell_type": "markdown",
   "id": "7157a2cb",
   "metadata": {},
   "source": [
    "**Some useful list methods:** `append` adds an element to the list, `extend()` adds a few elements list, and `remove()` removes the first occurence"
   ]
  },
  {
   "cell_type": "code",
   "execution_count": null,
   "id": "486c1c16",
   "metadata": {},
   "outputs": [],
   "source": [
    "my_list\n",
    "print(my_list)\n",
    "my_list\n",
    "print(my_list)\n",
    "my_list\n",
    "print(my_list)"
   ]
  },
  {
   "cell_type": "markdown",
   "id": "bd6b5c29",
   "metadata": {},
   "source": [
    "**Some useful functions**:"
   ]
  },
  {
   "cell_type": "code",
   "execution_count": null,
   "id": "48914a45",
   "metadata": {},
   "outputs": [],
   "source": [
    "len(my_list)"
   ]
  },
  {
   "cell_type": "code",
   "execution_count": null,
   "id": "3b3b4e5b",
   "metadata": {},
   "outputs": [],
   "source": [
    "max([1,5,2,3,4])"
   ]
  },
  {
   "cell_type": "code",
   "execution_count": null,
   "id": "d40c43cd",
   "metadata": {},
   "outputs": [],
   "source": [
    "sorted([1,5,2,3,4])"
   ]
  },
  {
   "cell_type": "markdown",
   "id": "f609f43f",
   "metadata": {},
   "source": [
    "**Indexing and slicing**"
   ]
  },
  {
   "cell_type": "code",
   "execution_count": null,
   "id": "21151ce2",
   "metadata": {},
   "outputs": [],
   "source": [
    "# Indexing: accessing one element with it's position\n",
    "my_list"
   ]
  },
  {
   "cell_type": "code",
   "execution_count": null,
   "id": "36d3bd03",
   "metadata": {},
   "outputs": [],
   "source": [
    "# Indexing: accessing one element with it's position\n",
    "my_list"
   ]
  },
  {
   "cell_type": "code",
   "execution_count": null,
   "id": "0fa465da",
   "metadata": {},
   "outputs": [],
   "source": [
    "# Indexing: accessing one element with it's position\n",
    "my_list"
   ]
  },
  {
   "cell_type": "code",
   "execution_count": null,
   "id": "80585646",
   "metadata": {},
   "outputs": [],
   "source": [
    "# Slicing: accessing more than one element with their positions\n",
    "my_list"
   ]
  },
  {
   "cell_type": "code",
   "execution_count": null,
   "id": "cb129664",
   "metadata": {},
   "outputs": [],
   "source": [
    "# Slicing\n",
    "my_list"
   ]
  },
  {
   "cell_type": "code",
   "execution_count": null,
   "id": "fd980d43",
   "metadata": {},
   "outputs": [],
   "source": [
    "# Slicing\n",
    "my_list"
   ]
  },
  {
   "cell_type": "code",
   "execution_count": null,
   "id": "a9bfd0c8",
   "metadata": {},
   "outputs": [],
   "source": [
    "# Every other\n",
    "my_list"
   ]
  },
  {
   "cell_type": "code",
   "execution_count": null,
   "id": "67aac18f",
   "metadata": {},
   "outputs": [],
   "source": [
    "# Another way for every other\n",
    "my_list"
   ]
  },
  {
   "cell_type": "code",
   "execution_count": null,
   "id": "e1d3bd6e",
   "metadata": {},
   "outputs": [],
   "source": [
    "# Reverse order\n",
    "my_list"
   ]
  },
  {
   "cell_type": "markdown",
   "id": "ef84e0cb",
   "metadata": {},
   "source": [
    "## Dictionaries"
   ]
  },
  {
   "cell_type": "code",
   "execution_count": null,
   "id": "92a62546",
   "metadata": {},
   "outputs": [],
   "source": [
    "my_dict = {'Edward':1, 'Mike':2, 'Sarah':3, 'Joe':4}\n"
   ]
  },
  {
   "cell_type": "markdown",
   "id": "4043ec90",
   "metadata": {},
   "source": [
    "Dictionaries are unordered"
   ]
  },
  {
   "cell_type": "code",
   "execution_count": null,
   "id": "4bc6b5d4",
   "metadata": {},
   "outputs": [],
   "source": [
    "# Can't access elements based on their position\n"
   ]
  },
  {
   "cell_type": "code",
   "execution_count": null,
   "id": "2d3aa683",
   "metadata": {},
   "outputs": [],
   "source": [
    "# Access by key\n",
    "my_dict"
   ]
  },
  {
   "cell_type": "markdown",
   "id": "1c7a001c",
   "metadata": {},
   "source": [
    "Dictionaries are mutable"
   ]
  },
  {
   "cell_type": "code",
   "execution_count": null,
   "id": "e53113c7",
   "metadata": {},
   "outputs": [],
   "source": [
    "del my_dict['Edward']\n",
    "my_dict"
   ]
  },
  {
   "cell_type": "code",
   "execution_count": null,
   "id": "98471c4d",
   "metadata": {},
   "outputs": [],
   "source": [
    "my_dict['Sam'] = 5\n",
    "my_dict"
   ]
  },
  {
   "cell_type": "markdown",
   "id": "679e40be",
   "metadata": {},
   "source": [
    "Looking at the keys and values"
   ]
  },
  {
   "cell_type": "code",
   "execution_count": null,
   "id": "6c89cac0",
   "metadata": {},
   "outputs": [],
   "source": [
    "my_dict.keys()"
   ]
  },
  {
   "cell_type": "code",
   "execution_count": null,
   "id": "6c8a2e42",
   "metadata": {},
   "outputs": [],
   "source": [
    "my_dict.values()"
   ]
  },
  {
   "cell_type": "markdown",
   "id": "d54726e0",
   "metadata": {},
   "source": [
    "Functions"
   ]
  },
  {
   "cell_type": "code",
   "execution_count": null,
   "id": "9b9648d5",
   "metadata": {},
   "outputs": [],
   "source": [
    "len(my_dict)"
   ]
  },
  {
   "cell_type": "code",
   "execution_count": null,
   "id": "58da009d",
   "metadata": {},
   "outputs": [],
   "source": [
    "min(my_dict)"
   ]
  },
  {
   "cell_type": "markdown",
   "id": "8009c74f",
   "metadata": {},
   "source": [
    "## Tuples"
   ]
  },
  {
   "cell_type": "code",
   "execution_count": null,
   "id": "9b36e9d8",
   "metadata": {},
   "outputs": [],
   "source": [
    "my_tup = ('c','a','k','e')\n"
   ]
  },
  {
   "cell_type": "markdown",
   "id": "538b065c",
   "metadata": {},
   "source": [
    "Tuples are ordered"
   ]
  },
  {
   "cell_type": "code",
   "execution_count": null,
   "id": "755f9a6e",
   "metadata": {},
   "outputs": [],
   "source": []
  },
  {
   "cell_type": "markdown",
   "id": "cd60cbed",
   "metadata": {},
   "source": [
    "Tuples are immutable"
   ]
  },
  {
   "cell_type": "code",
   "execution_count": null,
   "id": "0e678617",
   "metadata": {
    "scrolled": true
   },
   "outputs": [],
   "source": [
    "# Can't update elements\n"
   ]
  },
  {
   "cell_type": "markdown",
   "id": "c6484f0a",
   "metadata": {},
   "source": [
    "## Sets"
   ]
  },
  {
   "cell_type": "code",
   "execution_count": null,
   "id": "9aa7a272",
   "metadata": {},
   "outputs": [],
   "source": [
    "my_set = {1,2,3,4,4}\n"
   ]
  },
  {
   "cell_type": "markdown",
   "id": "735eb8a4",
   "metadata": {},
   "source": [
    "Sets only store unique values"
   ]
  },
  {
   "cell_type": "code",
   "execution_count": null,
   "id": "0ff3aea9",
   "metadata": {},
   "outputs": [],
   "source": [
    "my_set"
   ]
  },
  {
   "cell_type": "code",
   "execution_count": null,
   "id": "2018a3de",
   "metadata": {},
   "outputs": [],
   "source": [
    "# This helps us get unique characters in strings etc.\n",
    "cookie = \n",
    "cookie"
   ]
  },
  {
   "cell_type": "markdown",
   "id": "c4106b00",
   "metadata": {},
   "source": [
    "Sets are unordered"
   ]
  },
  {
   "cell_type": "code",
   "execution_count": null,
   "id": "57e6c4dc",
   "metadata": {
    "scrolled": true
   },
   "outputs": [],
   "source": [
    "# Can't access based on position\n"
   ]
  },
  {
   "cell_type": "markdown",
   "id": "75b5f339",
   "metadata": {},
   "source": [
    "Sets are mutable (but it is limited)"
   ]
  },
  {
   "cell_type": "code",
   "execution_count": null,
   "id": "1ac3fbeb",
   "metadata": {},
   "outputs": [],
   "source": [
    "\n",
    "cookie"
   ]
  },
  {
   "cell_type": "markdown",
   "id": "8dfe2a57",
   "metadata": {},
   "source": [
    "Some useful features about sets"
   ]
  },
  {
   "cell_type": "code",
   "execution_count": null,
   "id": "dd5f0385",
   "metadata": {},
   "outputs": [],
   "source": [
    "# All values in two sets\n"
   ]
  },
  {
   "cell_type": "code",
   "execution_count": null,
   "id": "28baea91",
   "metadata": {},
   "outputs": [],
   "source": [
    "# or\n"
   ]
  },
  {
   "cell_type": "code",
   "execution_count": null,
   "id": "1f1c1bf8",
   "metadata": {},
   "outputs": [],
   "source": [
    "# All values that occur in both sets\n"
   ]
  },
  {
   "cell_type": "code",
   "execution_count": null,
   "id": "42da9b98",
   "metadata": {},
   "outputs": [],
   "source": [
    "# or\n"
   ]
  },
  {
   "cell_type": "markdown",
   "id": "85b4b464",
   "metadata": {},
   "source": [
    "## Converting data structures"
   ]
  },
  {
   "cell_type": "code",
   "execution_count": null,
   "id": "22277474",
   "metadata": {},
   "outputs": [],
   "source": [
    "my_list.append(5)\n",
    "my_list"
   ]
  },
  {
   "cell_type": "markdown",
   "id": "eb916eb9",
   "metadata": {},
   "source": [
    "**Lists to other structures:**"
   ]
  },
  {
   "cell_type": "code",
   "execution_count": null,
   "id": "af36cc84",
   "metadata": {},
   "outputs": [],
   "source": [
    "list_to_dict = \n",
    "type(list_to_dict)"
   ]
  },
  {
   "cell_type": "code",
   "execution_count": null,
   "id": "d012c340",
   "metadata": {},
   "outputs": [],
   "source": [
    "list_to_dict"
   ]
  },
  {
   "cell_type": "code",
   "execution_count": null,
   "id": "1866e764",
   "metadata": {},
   "outputs": [],
   "source": [
    "list_to_tup = \n",
    "type(list_to_tup)"
   ]
  },
  {
   "cell_type": "code",
   "execution_count": null,
   "id": "7d4ab347",
   "metadata": {},
   "outputs": [],
   "source": [
    "list_to_tup"
   ]
  },
  {
   "cell_type": "code",
   "execution_count": null,
   "id": "7b35c88c",
   "metadata": {},
   "outputs": [],
   "source": [
    "list_to_set = \n",
    "type(list_to_set)"
   ]
  },
  {
   "cell_type": "code",
   "execution_count": null,
   "id": "0b0ea11a",
   "metadata": {},
   "outputs": [],
   "source": [
    "list_to_set"
   ]
  },
  {
   "cell_type": "markdown",
   "id": "cec2d903",
   "metadata": {},
   "source": [
    "**Dictionaries to other structures**"
   ]
  },
  {
   "cell_type": "code",
   "execution_count": null,
   "id": "004cb995",
   "metadata": {},
   "outputs": [],
   "source": [
    "# If you just call list, it only takes the keys\n",
    "dict_to_list = \n",
    "dict_to_list"
   ]
  },
  {
   "cell_type": "code",
   "execution_count": null,
   "id": "eaf2068a",
   "metadata": {},
   "outputs": [],
   "source": [
    "dict_to_list = \n",
    "type(dict_to_list)"
   ]
  },
  {
   "cell_type": "code",
   "execution_count": null,
   "id": "fe2ca031",
   "metadata": {},
   "outputs": [],
   "source": [
    "dict_to_list"
   ]
  },
  {
   "cell_type": "code",
   "execution_count": null,
   "id": "ee55ec25",
   "metadata": {},
   "outputs": [],
   "source": [
    "dict_to_tup = \n",
    "type(dict_to_tup)"
   ]
  },
  {
   "cell_type": "code",
   "execution_count": null,
   "id": "1a566ccd",
   "metadata": {},
   "outputs": [],
   "source": [
    "dict_to_tup"
   ]
  },
  {
   "cell_type": "code",
   "execution_count": null,
   "id": "88788489",
   "metadata": {},
   "outputs": [],
   "source": [
    "dict_to_set = \n",
    "type(dict_to_set)"
   ]
  },
  {
   "cell_type": "code",
   "execution_count": null,
   "id": "d69c7c29",
   "metadata": {},
   "outputs": [],
   "source": [
    "dict_to_set"
   ]
  },
  {
   "cell_type": "markdown",
   "id": "f9c2972f",
   "metadata": {},
   "source": [
    "**Tuples to other structures:**"
   ]
  },
  {
   "cell_type": "code",
   "execution_count": null,
   "id": "166fca16",
   "metadata": {},
   "outputs": [],
   "source": [
    "tup_to_list = \n",
    "type(tup_to_list)"
   ]
  },
  {
   "cell_type": "code",
   "execution_count": null,
   "id": "da3a1232",
   "metadata": {},
   "outputs": [],
   "source": [
    "tup_to_list"
   ]
  },
  {
   "cell_type": "code",
   "execution_count": null,
   "id": "8be5abf5",
   "metadata": {},
   "outputs": [],
   "source": [
    "tup_to_dict = dict(zip(my_tup[::2],my_tup[1::2]))\n",
    "type(tup_to_dict)"
   ]
  },
  {
   "cell_type": "code",
   "execution_count": null,
   "id": "5455ac10",
   "metadata": {},
   "outputs": [],
   "source": [
    "tup_to_dict"
   ]
  },
  {
   "cell_type": "code",
   "execution_count": null,
   "id": "41ff2724",
   "metadata": {},
   "outputs": [],
   "source": [
    "tup_to_set = set(my_tup)\n",
    "type(tup_to_set)"
   ]
  },
  {
   "cell_type": "code",
   "execution_count": null,
   "id": "ae44cd0b",
   "metadata": {},
   "outputs": [],
   "source": [
    "tup_to_set"
   ]
  },
  {
   "cell_type": "markdown",
   "id": "6435dfd2",
   "metadata": {},
   "source": [
    "**Sets to other structures:**"
   ]
  },
  {
   "cell_type": "code",
   "execution_count": null,
   "id": "5cb8c950",
   "metadata": {},
   "outputs": [],
   "source": [
    "set_to_list = \n",
    "type(set_to_list)"
   ]
  },
  {
   "cell_type": "code",
   "execution_count": null,
   "id": "61e464db",
   "metadata": {},
   "outputs": [],
   "source": [
    "set_to_list"
   ]
  },
  {
   "cell_type": "code",
   "execution_count": null,
   "id": "e9b30b93",
   "metadata": {},
   "outputs": [],
   "source": [
    "set_to_dict = \n",
    "type(set_to_dict)"
   ]
  },
  {
   "cell_type": "code",
   "execution_count": null,
   "id": "7fdcc960",
   "metadata": {},
   "outputs": [],
   "source": [
    "set_to_dict"
   ]
  },
  {
   "cell_type": "code",
   "execution_count": null,
   "id": "6cc162ff",
   "metadata": {},
   "outputs": [],
   "source": [
    "set_to_tup = \n",
    "type(set_to_tup)"
   ]
  },
  {
   "cell_type": "code",
   "execution_count": null,
   "id": "a483552f",
   "metadata": {},
   "outputs": [],
   "source": [
    "set_to_tup"
   ]
  },
  {
   "cell_type": "markdown",
   "id": "fbade1ae",
   "metadata": {},
   "source": [
    "## Activity\n",
    "Suppose you have a list of your favorite super heros including\n",
    "\n",
    "- spider man\n",
    "- thor\n",
    "- hulk\n",
    "- iron man\n",
    "- captain america\n",
    "- captain marvel\n",
    "\n",
    "Answer the following."
   ]
  },
  {
   "cell_type": "markdown",
   "id": "bab34ef6",
   "metadata": {},
   "source": [
    "What is the length of the list. (*Hint:* You will need to create the list first)"
   ]
  },
  {
   "cell_type": "code",
   "execution_count": null,
   "id": "361cd634",
   "metadata": {},
   "outputs": [],
   "source": [
    "..."
   ]
  },
  {
   "cell_type": "markdown",
   "id": "a631071f",
   "metadata": {},
   "source": [
    "Add `black panther` to the end of the list."
   ]
  },
  {
   "cell_type": "code",
   "execution_count": null,
   "id": "b5c815c6",
   "metadata": {},
   "outputs": [],
   "source": [
    "..."
   ]
  },
  {
   "cell_type": "markdown",
   "id": "69c8f4b7",
   "metadata": {},
   "source": [
    "You decide that you actually want to place black panther after iron man in your list. Remove it from the list first and then add it after iron man.  "
   ]
  },
  {
   "cell_type": "code",
   "execution_count": null,
   "id": "5ccda27d",
   "metadata": {},
   "outputs": [],
   "source": [
    "..."
   ]
  },
  {
   "cell_type": "markdown",
   "id": "55a11b50",
   "metadata": {},
   "source": [
    "You decide that you actually don't like Thor or the Hulk since they get angry so easily. So you want to remove them from the list and replace them with doctor strange. He's awesome."
   ]
  },
  {
   "cell_type": "code",
   "execution_count": null,
   "id": "07a21b00",
   "metadata": {},
   "outputs": [],
   "source": [
    "..."
   ]
  },
  {
   "cell_type": "markdown",
   "id": "14a1bc15",
   "metadata": {},
   "source": [
    "Sort the heros list in alphabetical order."
   ]
  },
  {
   "cell_type": "code",
   "execution_count": null,
   "id": "fedee15f",
   "metadata": {},
   "outputs": [],
   "source": [
    "..."
   ]
  }
 ],
 "metadata": {
  "kernelspec": {
   "display_name": "Python 3 (ipykernel)",
   "language": "python",
   "name": "python3"
  },
  "language_info": {
   "codemirror_mode": {
    "name": "ipython",
    "version": 3
   },
   "file_extension": ".py",
   "mimetype": "text/x-python",
   "name": "python",
   "nbconvert_exporter": "python",
   "pygments_lexer": "ipython3",
   "version": "3.11.4"
  }
 },
 "nbformat": 4,
 "nbformat_minor": 5
}
