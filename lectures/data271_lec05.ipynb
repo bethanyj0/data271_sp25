{
 "cells": [
  {
   "cell_type": "markdown",
   "id": "9264180b",
   "metadata": {},
   "source": [
    "# Activity: Analyzing Compensation data in the CSU system\n",
    "\n",
    "The following dataset includes compensation data for all employees who worked in the California State University System in 2022 [source](https://publicpay.ca.gov/Reports/RawExport.aspx#2022_5). \n",
    "\n",
    "Take some time to play around with this data. See if you find any interesting insights. For example, what did lecturers at Cal Poly Humboldt earn on average in 2022? What about faculty? How about administrators and presidents? Do compensations vary by university? I will walk you through the process of answering some of these questions. Once you have finshed those, come up with your own things to explore.\n",
    "\n",
    "Does anything in your analysis impact your thoughts about the strike?\n",
    "\n",
    "**NOTE:** To get more practice on the topic of this week, we will import the data as a list of lists and work through it with dictionary and list comprehensions (like you did with the data in Lab 2). Once you answer some questions with dictionary and list comprehensions feel free to try other methods. For example, if you prefer to work with this in a table, feel free to use the datascience library that we used in DATA 111. Another option is to use this as an opportunity to get a head start in learning how to work with data in Pandas dataframes. We will be learning Pandas later in this class."
   ]
  },
  {
   "cell_type": "code",
   "execution_count": null,
   "id": "1a415e1e",
   "metadata": {},
   "outputs": [],
   "source": [
    "# Use this cell to import the data\n",
    "\n",
    "from csv import reader #Python's built-in csv module\n",
    "# Open and read the dataset\n",
    "csu_compensation = open('2022_csu.csv')\n",
    "csu_compensation = reader(csu_compensation) # type is csv.reader\n",
    "csu_compensation = list(csu_compensation)\n",
    "csu_compensation"
   ]
  },
  {
   "cell_type": "markdown",
   "id": "7e9ac98b",
   "metadata": {},
   "source": [
    "Take a look at the first element of the `csu_compensation` list. These are the column names."
   ]
  },
  {
   "cell_type": "code",
   "execution_count": null,
   "id": "f87cb532",
   "metadata": {},
   "outputs": [],
   "source": []
  },
  {
   "cell_type": "markdown",
   "id": "ce700a48",
   "metadata": {},
   "source": [
    "Use dictionary comprehension to create a lookup key where they keys are the column names and the values are the index of the column name. "
   ]
  },
  {
   "cell_type": "code",
   "execution_count": null,
   "id": "4d28f12c",
   "metadata": {},
   "outputs": [],
   "source": []
  },
  {
   "cell_type": "markdown",
   "id": "24cb6af4",
   "metadata": {},
   "source": [
    "With list comprehension, create a list containing only the lists associated with Cal Poly Humboldt. *Hint:* This is when `EmployerName` is `State Polytech University, Humboldt`."
   ]
  },
  {
   "cell_type": "code",
   "execution_count": null,
   "id": "0456f66b",
   "metadata": {},
   "outputs": [],
   "source": []
  },
  {
   "cell_type": "markdown",
   "id": "a5ed911a",
   "metadata": {},
   "source": [
    "With list comprhension, create a list containing only the lists associated with Cal Poly Humboldt lecturers. *Hint*: This is when `Position` includes the word `Lecturer`."
   ]
  },
  {
   "cell_type": "code",
   "execution_count": null,
   "id": "5a3e1da6",
   "metadata": {},
   "outputs": [],
   "source": []
  },
  {
   "cell_type": "markdown",
   "id": "d59d1541",
   "metadata": {},
   "source": [
    "With list comprehension, make a list containing the regular pay for Cal Poly Humboldt lecturers. "
   ]
  },
  {
   "cell_type": "code",
   "execution_count": null,
   "id": "d541b53a",
   "metadata": {},
   "outputs": [],
   "source": []
  },
  {
   "cell_type": "markdown",
   "id": "ba4364aa",
   "metadata": {},
   "source": [
    "Compute the average regular pay of Cal Poly Humboldt lecturers. "
   ]
  },
  {
   "cell_type": "code",
   "execution_count": null,
   "id": "0235d9a6",
   "metadata": {},
   "outputs": [],
   "source": []
  },
  {
   "cell_type": "markdown",
   "id": "6d0f65f2",
   "metadata": {},
   "source": [
    "Repeat similar steps to compute the average regular pay for Cal Poly Humboldt faculty. *Hint*: This is when `Position` includes the word `Faculty`."
   ]
  },
  {
   "cell_type": "code",
   "execution_count": null,
   "id": "3f6047f8",
   "metadata": {},
   "outputs": [],
   "source": []
  },
  {
   "cell_type": "markdown",
   "id": "a574dc82",
   "metadata": {},
   "source": [
    "Repeat similar steps to compute the average regular pay for administrators who work in the chancellor's office. *Hint*: This is when `EmployerName` is `Chancellor's Office` and `Position` includes the word `Administrator`."
   ]
  },
  {
   "cell_type": "code",
   "execution_count": null,
   "id": "4216b507",
   "metadata": {},
   "outputs": [],
   "source": []
  },
  {
   "cell_type": "markdown",
   "id": "b20cf0f5",
   "metadata": {},
   "source": [
    "Repeat similar steps to compute the average regular pay for presidents in the CSU system. *Hint*: This is when `Position` is `President, Range 0`."
   ]
  },
  {
   "cell_type": "code",
   "execution_count": null,
   "id": "22d26704",
   "metadata": {},
   "outputs": [],
   "source": []
  },
  {
   "cell_type": "markdown",
   "id": "14114eb1",
   "metadata": {},
   "source": [
    "Continue exploring the data, or find a related dataset online and see if you can make any connections. For example, how do these CSU compensations compare to housing prices in California? Can you find any data related to general cost of living in regions of California?"
   ]
  },
  {
   "cell_type": "code",
   "execution_count": null,
   "id": "df889684",
   "metadata": {},
   "outputs": [],
   "source": []
  },
  {
   "cell_type": "markdown",
   "id": "8b2ff46f",
   "metadata": {},
   "source": [
    "**Bonus:** Try doing the same analysis with a `datascience.Table()` or a `pandas.DataFrame()`."
   ]
  },
  {
   "cell_type": "code",
   "execution_count": null,
   "id": "8df56e25",
   "metadata": {},
   "outputs": [],
   "source": [
    "# If you go for the datascience Table() option, use this cell to import the data\n",
    "\n",
    "from datascience import *\n",
    "\n",
    "csu_compensation_table = Table.read_table(\"2022_csu.csv\")\n",
    "csu_compensation_table.show(10)"
   ]
  },
  {
   "cell_type": "code",
   "execution_count": null,
   "id": "043bfea4",
   "metadata": {},
   "outputs": [],
   "source": [
    "# If you go for the Pandas dataframe option, use this cell to import the data\n",
    "\n",
    "import pandas as pd\n",
    "\n",
    "csu_compensation_df = pd.read_csv('2022_csu.csv')\n",
    "csu_compensation_df"
   ]
  },
  {
   "cell_type": "code",
   "execution_count": null,
   "id": "b3f77579",
   "metadata": {},
   "outputs": [],
   "source": []
  }
 ],
 "metadata": {
  "kernelspec": {
   "display_name": "Python 3 (ipykernel)",
   "language": "python",
   "name": "python3"
  },
  "language_info": {
   "codemirror_mode": {
    "name": "ipython",
    "version": 3
   },
   "file_extension": ".py",
   "mimetype": "text/x-python",
   "name": "python",
   "nbconvert_exporter": "python",
   "pygments_lexer": "ipython3",
   "version": "3.11.4"
  }
 },
 "nbformat": 4,
 "nbformat_minor": 5
}
