{
 "cells": [
  {
   "cell_type": "markdown",
   "id": "3a247a39-f051-4e68-a222-8165fc36e97b",
   "metadata": {
    "tags": []
   },
   "source": [
    "# More List and Dictionary Comprehension"
   ]
  },
  {
   "cell_type": "markdown",
   "id": "89dcb31f-b1af-49c2-ae47-698fe37b699f",
   "metadata": {},
   "source": [
    "### Dictionary comprehension with if-else"
   ]
  },
  {
   "cell_type": "code",
   "execution_count": null,
   "id": "31c8d074-0296-41ad-8fa0-dba927d90a9f",
   "metadata": {
    "tags": []
   },
   "outputs": [],
   "source": [
    "# if-else with dictionary comprension -- changing values \n"
   ]
  },
  {
   "cell_type": "code",
   "execution_count": null,
   "id": "4c798429-3137-41e6-a898-4412e5edfdce",
   "metadata": {
    "tags": []
   },
   "outputs": [],
   "source": [
    "# if-else with dictionary comprension -- changing keys and values \n"
   ]
  },
  {
   "cell_type": "code",
   "execution_count": null,
   "id": "a3b63c75-3479-411e-8a47-dafaa18008ea",
   "metadata": {
    "tags": []
   },
   "outputs": [],
   "source": [
    "# these can get really complicated \n"
   ]
  },
  {
   "cell_type": "markdown",
   "id": "2955d8d8-d2fd-4fbd-a761-6b7207958d37",
   "metadata": {},
   "source": [
    "### Other advanced methods"
   ]
  },
  {
   "cell_type": "code",
   "execution_count": null,
   "id": "f0201e51-d75c-4bfd-b85c-caa5c33598c8",
   "metadata": {
    "tags": []
   },
   "outputs": [],
   "source": [
    "# Nested structures -- lists of tuples\n",
    "dessert = ['cupcake','cookie','ice cream','chocolate bar', 'fruit']\n",
    "yum_score = [7,9,8,7,5]\n",
    "\n"
   ]
  },
  {
   "cell_type": "code",
   "execution_count": null,
   "id": "7c69b319-718a-4464-aa02-b7220700dbe8",
   "metadata": {
    "tags": []
   },
   "outputs": [],
   "source": [
    "# Nested structures -- lists of lists\n",
    "matrix = \n",
    "matrix"
   ]
  },
  {
   "cell_type": "code",
   "execution_count": null,
   "id": "27df3e12-363d-48ed-aaea-478d3dcbc19f",
   "metadata": {
    "tags": []
   },
   "outputs": [],
   "source": [
    "# Dicts of dicts -- understanding how to work with nested dictionaries will be very useful later in this class!\n",
    "titles = ['The Hobbit', 'Dune', '1984']\n",
    "authors = ['Tolkien', 'Herbert', 'Orwell']\n",
    "years = [1937, 1965, 1949]\n",
    "\n",
    "books = \n",
    "books"
   ]
  },
  {
   "cell_type": "markdown",
   "id": "9264180b",
   "metadata": {
    "tags": []
   },
   "source": [
    "### Activity: Analyzing Compensation data in the CSU system\n",
    "\n",
    "Knowing how to use list and dictionary comprehensions already enables you to perform some powerful analyses! The following dataset includes compensation data for all employees who worked in the California State University System in 2022 [source](https://publicpay.ca.gov/Reports/RawExport.aspx#2022_5). To practice the topic of this week, we will import the data as a list of lists and work through it with dictionary and list comprehensions (like you did with the data in Lab 2).\n",
    "\n",
    "Can you find any interesting insights using list and dictionary comprehension? For example, what did lecturers at Cal Poly Humboldt earn on average in 2022? What about faculty? How about administrators and presidents? Do compensations vary by university? I will walk you through the process of answering some of these questions. Once you have finished those, come up with your own things to explore."
   ]
  },
  {
   "cell_type": "code",
   "execution_count": null,
   "id": "1a415e1e",
   "metadata": {
    "tags": []
   },
   "outputs": [],
   "source": [
    "# Use this cell to import the data\n",
    "from csv import reader #Python's built-in csv module\n",
    "# Open and read the dataset\n",
    "csu_compensation = open('2022_csu.csv')\n",
    "csu_compensation = reader(csu_compensation) # type is csv.reader\n",
    "csu_compensation = list(csu_compensation)\n",
    "csu_compensation"
   ]
  },
  {
   "cell_type": "markdown",
   "id": "7e9ac98b",
   "metadata": {},
   "source": [
    "Take a look at the first element of the `csu_compensation` list. These are the column names."
   ]
  },
  {
   "cell_type": "code",
   "execution_count": null,
   "id": "f87cb532",
   "metadata": {},
   "outputs": [],
   "source": []
  },
  {
   "cell_type": "markdown",
   "id": "ce700a48",
   "metadata": {},
   "source": [
    "Use dictionary comprehension to create a lookup key where they keys are the column names and the values are the index of the column name. "
   ]
  },
  {
   "cell_type": "code",
   "execution_count": null,
   "id": "4d28f12c",
   "metadata": {},
   "outputs": [],
   "source": []
  },
  {
   "cell_type": "markdown",
   "id": "24cb6af4",
   "metadata": {},
   "source": [
    "With list comprehension, create a list containing only the lists associated with Cal Poly Humboldt. *Hint:* This is when `EmployerName` is `State Polytech University, Humboldt`."
   ]
  },
  {
   "cell_type": "code",
   "execution_count": null,
   "id": "0456f66b",
   "metadata": {
    "tags": []
   },
   "outputs": [],
   "source": []
  },
  {
   "cell_type": "markdown",
   "id": "a5ed911a",
   "metadata": {},
   "source": [
    "With list comprehension, create a list containing only the lists associated with Cal Poly Humboldt lecturers. *Hint*: This is when `Position` includes the word `Lecturer`."
   ]
  },
  {
   "cell_type": "code",
   "execution_count": null,
   "id": "5a3e1da6",
   "metadata": {
    "tags": []
   },
   "outputs": [],
   "source": []
  },
  {
   "cell_type": "markdown",
   "id": "d59d1541",
   "metadata": {},
   "source": [
    "With list comprehension, make a list containing the regular pay for Cal Poly Humboldt lecturers. "
   ]
  },
  {
   "cell_type": "code",
   "execution_count": null,
   "id": "d541b53a",
   "metadata": {
    "tags": []
   },
   "outputs": [],
   "source": []
  },
  {
   "cell_type": "markdown",
   "id": "ba4364aa",
   "metadata": {},
   "source": [
    "Compute the average regular pay of Cal Poly Humboldt lecturers. "
   ]
  },
  {
   "cell_type": "code",
   "execution_count": null,
   "id": "0235d9a6",
   "metadata": {},
   "outputs": [],
   "source": []
  },
  {
   "cell_type": "markdown",
   "id": "6d0f65f2",
   "metadata": {},
   "source": [
    "Repeat similar steps to compute the average regular pay for Cal Poly Humboldt faculty. *Hint*: This is when `Position` includes the word `Faculty`."
   ]
  },
  {
   "cell_type": "code",
   "execution_count": null,
   "id": "3f6047f8",
   "metadata": {
    "tags": []
   },
   "outputs": [],
   "source": []
  },
  {
   "cell_type": "markdown",
   "id": "a574dc82",
   "metadata": {},
   "source": [
    "Repeat similar steps to compute the average regular pay for administrators who work in the chancellor's office. *Hint*: This is when `EmployerName` is `Chancellor's Office` and `Position` includes the word `Administrator`."
   ]
  },
  {
   "cell_type": "code",
   "execution_count": null,
   "id": "4216b507",
   "metadata": {},
   "outputs": [],
   "source": []
  },
  {
   "cell_type": "markdown",
   "id": "b20cf0f5",
   "metadata": {},
   "source": [
    "Repeat similar steps to compute the average regular pay for presidents in the CSU system. *Hint*: This is when `Position` is `President, Range 0`."
   ]
  },
  {
   "cell_type": "code",
   "execution_count": null,
   "id": "22d26704",
   "metadata": {},
   "outputs": [],
   "source": []
  }
 ],
 "metadata": {
  "kernelspec": {
   "display_name": "Python 3 (ipykernel)",
   "language": "python",
   "name": "python3"
  },
  "language_info": {
   "codemirror_mode": {
    "name": "ipython",
    "version": 3
   },
   "file_extension": ".py",
   "mimetype": "text/x-python",
   "name": "python",
   "nbconvert_exporter": "python",
   "pygments_lexer": "ipython3",
   "version": "3.11.4"
  }
 },
 "nbformat": 4,
 "nbformat_minor": 5
}
