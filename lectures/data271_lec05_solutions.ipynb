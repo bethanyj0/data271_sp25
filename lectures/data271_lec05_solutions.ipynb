{
 "cells": [
  {
   "cell_type": "markdown",
   "id": "3a247a39-f051-4e68-a222-8165fc36e97b",
   "metadata": {},
   "source": [
    "# More List and Dictionary Comprehension\n",
    "\n",
    "If you want to type along with me, use [this notebook](https://humboldt.cloudbank.2i2c.cloud/hub/user-redirect/git-pull?repo=https%3A%2F%2Fgithub.com%2Fbethanyj0%2Fdata271_sp25&branch=main&urlpath=tree%2Fdata271_sp25%2Flectures%2Fdata271_lec05_live.ipynb) instead. \n",
    "If you don't want to type and want to follow along just by executing the cells, stay in this notebook. "
   ]
  },
  {
   "cell_type": "markdown",
   "id": "89dcb31f-b1af-49c2-ae47-698fe37b699f",
   "metadata": {
    "tags": []
   },
   "source": [
    "### Dictionary comprehension with if-else"
   ]
  },
  {
   "cell_type": "code",
   "execution_count": null,
   "id": "31c8d074-0296-41ad-8fa0-dba927d90a9f",
   "metadata": {
    "tags": []
   },
   "outputs": [],
   "source": [
    "# if-else with dictionary comprension -- changing values \n",
    "{i:i**3 if i < 5 else i**2 for i in range(10)}"
   ]
  },
  {
   "cell_type": "code",
   "execution_count": null,
   "id": "4c798429-3137-41e6-a898-4412e5edfdce",
   "metadata": {
    "tags": []
   },
   "outputs": [],
   "source": [
    "# if-else with dictionary comprension -- changing keys and values \n",
    "{(i if i < 5 else i**2):(i**3 if i < 5 else i**2) for i in range(10)}"
   ]
  },
  {
   "cell_type": "code",
   "execution_count": null,
   "id": "a3b63c75-3479-411e-8a47-dafaa18008ea",
   "metadata": {
    "tags": []
   },
   "outputs": [],
   "source": [
    "# these can get really complicated \n",
    "{(i if i < 5 else i**2):(i**3 if i < 7 else i**2) for i in range(10)}"
   ]
  },
  {
   "cell_type": "markdown",
   "id": "2955d8d8-d2fd-4fbd-a761-6b7207958d37",
   "metadata": {},
   "source": [
    "### Other advanced methods"
   ]
  },
  {
   "cell_type": "code",
   "execution_count": null,
   "id": "f0201e51-d75c-4bfd-b85c-caa5c33598c8",
   "metadata": {
    "tags": []
   },
   "outputs": [],
   "source": [
    "# Nested structures -- lists of tuples\n",
    "dessert = ['cupcake','cookie','ice cream','chocolate bar', 'fruit']\n",
    "yum_score = [7,9,8,7,5]\n",
    "\n",
    "[(dessert, score) for dessert,score in zip(dessert,yum_score)]"
   ]
  },
  {
   "cell_type": "code",
   "execution_count": null,
   "id": "ea48ad72-0ba7-44b4-b186-a6b35331a5b8",
   "metadata": {
    "tags": []
   },
   "outputs": [],
   "source": [
    "# Nested structures -- lists of lists\n",
    "matrix = [[i**2 for i in range(1,13)] for x in range(5)]\n",
    "matrix"
   ]
  },
  {
   "cell_type": "code",
   "execution_count": null,
   "id": "27df3e12-363d-48ed-aaea-478d3dcbc19f",
   "metadata": {
    "tags": []
   },
   "outputs": [],
   "source": [
    "# Dicts of dicts -- understanding how to work with nested dictionaries will be very useful later in this class!\n",
    "titles = ['The Hobbit', 'Dune', '1984']\n",
    "authors = ['Tolkien', 'Herbert', 'Orwell']\n",
    "years = [1937, 1965, 1949]\n",
    "\n",
    "books = {title: {'author': author,'year': year,'in_stock': True} for title, author, year in zip(titles, authors, years)}\n",
    "books"
   ]
  },
  {
   "cell_type": "markdown",
   "id": "9264180b",
   "metadata": {
    "tags": []
   },
   "source": [
    "### Activity: Analyzing Compensation data in the CSU system\n",
    "\n",
    "Knowing how to use list and dictionary comprehensions already enables you to perform some powerful analyses! The following dataset includes compensation data for all employees who worked in the California State University System in 2022 [source](https://publicpay.ca.gov/Reports/RawExport.aspx#2022_5). To practice the topic of this week, we will import the data as a list of lists and work through it with dictionary and list comprehensions (like you did with the data in Lab 2).\n",
    "\n",
    "Can you find any interesting insights using list and dictionary comprehension? For example, what did lecturers at Cal Poly Humboldt earn on average in 2022? What about faculty? How about administrators and presidents? Do compensations vary by university? I will walk you through the process of answering some of these questions. Once you have finished those, come up with your own things to explore."
   ]
  },
  {
   "cell_type": "code",
   "execution_count": null,
   "id": "1a415e1e",
   "metadata": {
    "tags": []
   },
   "outputs": [],
   "source": [
    "# Use this cell to import the data\n",
    "from csv import reader #Python's built-in csv module\n",
    "# Open and read the dataset\n",
    "csu_compensation = open('2022_csu.csv')\n",
    "csu_compensation = reader(csu_compensation) # type is csv.reader\n",
    "csu_compensation = list(csu_compensation)\n",
    "csu_compensation"
   ]
  },
  {
   "cell_type": "markdown",
   "id": "7e9ac98b",
   "metadata": {},
   "source": [
    "Take a look at the first element of the `csu_compensation` list. These are the column names."
   ]
  },
  {
   "cell_type": "code",
   "execution_count": null,
   "id": "f87cb532",
   "metadata": {},
   "outputs": [],
   "source": [
    "csu_compensation[0]"
   ]
  },
  {
   "cell_type": "markdown",
   "id": "ce700a48",
   "metadata": {},
   "source": [
    "Use dictionary comprehension to create a lookup key where they keys are the column names and the values are the index of the column name. "
   ]
  },
  {
   "cell_type": "code",
   "execution_count": null,
   "id": "4d28f12c",
   "metadata": {},
   "outputs": [],
   "source": [
    "lookup = {element:index for index, element in enumerate(csu_compensation[0])}\n",
    "lookup"
   ]
  },
  {
   "cell_type": "markdown",
   "id": "24cb6af4",
   "metadata": {},
   "source": [
    "With list comprehension, create a list containing only the lists associated with Cal Poly Humboldt. *Hint:* This is when `EmployerName` is `State Polytech University, Humboldt`."
   ]
  },
  {
   "cell_type": "code",
   "execution_count": null,
   "id": "0456f66b",
   "metadata": {
    "tags": []
   },
   "outputs": [],
   "source": [
    "cal_poly = [row for row in csu_compensation[1:] if row[lookup['EmployerName']] == 'State Polytech University, Humboldt' ]\n",
    "cal_poly"
   ]
  },
  {
   "cell_type": "markdown",
   "id": "a5ed911a",
   "metadata": {},
   "source": [
    "With list comprehension, create a list containing only the lists associated with Cal Poly Humboldt lecturers. *Hint*: This is when `Position` includes the word `Lecturer`."
   ]
  },
  {
   "cell_type": "code",
   "execution_count": null,
   "id": "5a3e1da6",
   "metadata": {
    "tags": []
   },
   "outputs": [],
   "source": [
    "cal_poly_lecturers = [row for row in cal_poly if 'Lecturer' in row[lookup['Position']]]\n",
    "cal_poly_lecturers"
   ]
  },
  {
   "cell_type": "markdown",
   "id": "d59d1541",
   "metadata": {},
   "source": [
    "With list comprehension, make a list containing the regular pay for Cal Poly Humboldt lecturers. "
   ]
  },
  {
   "cell_type": "code",
   "execution_count": null,
   "id": "d541b53a",
   "metadata": {
    "tags": []
   },
   "outputs": [],
   "source": [
    "lec_pay = [float(row[lookup['RegularPay']]) for row in cal_poly_lecturers]\n",
    "lec_pay"
   ]
  },
  {
   "cell_type": "markdown",
   "id": "ba4364aa",
   "metadata": {},
   "source": [
    "Compute the average regular pay of Cal Poly Humboldt lecturers. "
   ]
  },
  {
   "cell_type": "code",
   "execution_count": null,
   "id": "0235d9a6",
   "metadata": {},
   "outputs": [],
   "source": [
    "sum(lec_pay)/len(lec_pay)"
   ]
  },
  {
   "cell_type": "markdown",
   "id": "6d0f65f2",
   "metadata": {},
   "source": [
    "Repeat similar steps to compute the average regular pay for Cal Poly Humboldt faculty. *Hint*: This is when `Position` includes the word `Faculty`."
   ]
  },
  {
   "cell_type": "code",
   "execution_count": null,
   "id": "3f6047f8",
   "metadata": {
    "tags": []
   },
   "outputs": [],
   "source": [
    "cal_poly_fac = [row for row in cal_poly if 'Faculty' in row[lookup['Position']]]\n",
    "cal_poly_fac\n",
    "\n",
    "fac_pay = [float(row[lookup['RegularPay']]) for row in cal_poly_fac]\n",
    "sum(fac_pay)/len(fac_pay)"
   ]
  },
  {
   "cell_type": "markdown",
   "id": "a574dc82",
   "metadata": {},
   "source": [
    "Repeat similar steps to compute the average regular pay for administrators who work in the chancellor's office. *Hint*: This is when `EmployerName` is `Chancellor's Office` and `Position` includes the word `Administrator`."
   ]
  },
  {
   "cell_type": "code",
   "execution_count": null,
   "id": "4216b507",
   "metadata": {},
   "outputs": [],
   "source": []
  },
  {
   "cell_type": "markdown",
   "id": "b20cf0f5",
   "metadata": {},
   "source": [
    "Repeat similar steps to compute the average regular pay for presidents in the CSU system. *Hint*: This is when `Position` is `President, Range 0`."
   ]
  },
  {
   "cell_type": "code",
   "execution_count": null,
   "id": "22d26704",
   "metadata": {},
   "outputs": [],
   "source": []
  }
 ],
 "metadata": {
  "kernelspec": {
   "display_name": "Python 3 (ipykernel)",
   "language": "python",
   "name": "python3"
  },
  "language_info": {
   "codemirror_mode": {
    "name": "ipython",
    "version": 3
   },
   "file_extension": ".py",
   "mimetype": "text/x-python",
   "name": "python",
   "nbconvert_exporter": "python",
   "pygments_lexer": "ipython3",
   "version": "3.11.4"
  }
 },
 "nbformat": 4,
 "nbformat_minor": 5
}
