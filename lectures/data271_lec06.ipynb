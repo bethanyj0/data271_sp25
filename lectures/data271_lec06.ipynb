{
 "cells": [
  {
   "cell_type": "markdown",
   "id": "2d6583dc",
   "metadata": {},
   "source": [
    "# Intro to Regular Expression\n",
    "If you want to type along with me, use [this notebook](https://humboldt.cloudbank.2i2c.cloud/hub/user-redirect/git-pull?repo=https%3A%2F%2Fgithub.com%2Fbethanyj0%2Fdata271_sp25&branch=main&urlpath=tree%2Fdata271_sp25%2Flectures%2Fdata271_lec05_live.ipynb) instead. \n",
    "If you don't want to type and want to follow along just by executing the cells, stay in this notebook. "
   ]
  },
  {
   "cell_type": "code",
   "execution_count": null,
   "id": "7b776d25",
   "metadata": {
    "tags": []
   },
   "outputs": [],
   "source": [
    "import re "
   ]
  },
  {
   "cell_type": "markdown",
   "id": "311eeb72",
   "metadata": {},
   "source": [
    "## Regular Expression Functions in `re`"
   ]
  },
  {
   "cell_type": "code",
   "execution_count": null,
   "id": "f5297ac3",
   "metadata": {
    "tags": []
   },
   "outputs": [],
   "source": [
    "text =  \"\"\"Knock, Knock. \n",
    "Who's there? \n",
    "Utah. \n",
    "Utah who? \n",
    "Utah-king to me?\"\"\""
   ]
  },
  {
   "cell_type": "code",
   "execution_count": null,
   "id": "7d406f60",
   "metadata": {
    "tags": []
   },
   "outputs": [],
   "source": [
    "# search (don't usually use this too much unless working with large texts just to know if something is there)\n",
    "re.search('Utah',text)"
   ]
  },
  {
   "cell_type": "code",
   "execution_count": null,
   "id": "cf4f3ab1",
   "metadata": {
    "tags": []
   },
   "outputs": [],
   "source": [
    "print(re.search('271',text))"
   ]
  },
  {
   "cell_type": "code",
   "execution_count": null,
   "id": "628040ca",
   "metadata": {
    "scrolled": true,
    "tags": []
   },
   "outputs": [],
   "source": [
    "# findall catches all occurences and puts them into a list\n",
    "re.findall('Utah',text)"
   ]
  },
  {
   "cell_type": "code",
   "execution_count": null,
   "id": "747fdbbf",
   "metadata": {
    "tags": []
   },
   "outputs": [],
   "source": [
    "# Using len with findall allows us to count occurances\n",
    "len(re.findall('Utah',text))"
   ]
  },
  {
   "cell_type": "code",
   "execution_count": null,
   "id": "995ba625",
   "metadata": {
    "tags": []
   },
   "outputs": [],
   "source": [
    "# split puts things in a list split by your input. NOTE mode doesn't necessarily make sense to split by\n",
    "re.split('Utah',text)"
   ]
  },
  {
   "cell_type": "code",
   "execution_count": null,
   "id": "ff8cfd86",
   "metadata": {
    "tags": []
   },
   "outputs": [],
   "source": [
    "# to split by line\n",
    "re.split('\\n',text)"
   ]
  },
  {
   "cell_type": "code",
   "execution_count": null,
   "id": "06936db1",
   "metadata": {
    "tags": []
   },
   "outputs": [],
   "source": [
    "# sub replaces all occurances\n",
    "re.sub('Knock',\"\\U0001F44A\",text)"
   ]
  },
  {
   "cell_type": "code",
   "execution_count": null,
   "id": "9259fea6",
   "metadata": {
    "tags": []
   },
   "outputs": [],
   "source": [
    "# you can replace just one if needed\n",
    "re.sub('Knock',\"\\U0001F44A\",text,count=1)"
   ]
  },
  {
   "cell_type": "markdown",
   "id": "06840610",
   "metadata": {},
   "source": [
    "## Character classes"
   ]
  },
  {
   "cell_type": "code",
   "execution_count": null,
   "id": "d8d17edb",
   "metadata": {
    "tags": []
   },
   "outputs": [],
   "source": [
    "joke = \"Knock Knock Who's there? 2:30 2:30 who? I made a dentist appointment cause my 2:30 (tooth hurty)\""
   ]
  },
  {
   "cell_type": "code",
   "execution_count": null,
   "id": "3dcf41e4",
   "metadata": {
    "tags": []
   },
   "outputs": [],
   "source": [
    "# To find the digits\n",
    "re.findall('\\d',joke)"
   ]
  },
  {
   "cell_type": "code",
   "execution_count": null,
   "id": "9f0fde74",
   "metadata": {
    "scrolled": true,
    "tags": []
   },
   "outputs": [],
   "source": [
    "# To get everything that isn't a number\n",
    "re.findall('\\D',joke)"
   ]
  },
  {
   "cell_type": "code",
   "execution_count": null,
   "id": "33c03848",
   "metadata": {
    "scrolled": true,
    "tags": []
   },
   "outputs": [],
   "source": [
    "# Something similar\n",
    "# doesn't include the special characters but does include letters and numbers\n",
    "re.findall('\\w',joke) "
   ]
  },
  {
   "cell_type": "code",
   "execution_count": null,
   "id": "1e53374c",
   "metadata": {
    "tags": []
   },
   "outputs": [],
   "source": [
    "# To get just the special characters\n",
    "re.findall('\\W',joke)"
   ]
  },
  {
   "cell_type": "code",
   "execution_count": null,
   "id": "7dfc271e",
   "metadata": {
    "tags": []
   },
   "outputs": [],
   "source": [
    "# To just get the white spaces\n",
    "re.findall('\\s',joke)"
   ]
  },
  {
   "cell_type": "code",
   "execution_count": null,
   "id": "cfa428e7",
   "metadata": {
    "tags": []
   },
   "outputs": [],
   "source": [
    "# To get everything but white spaces\n",
    "re.findall('\\S',joke)"
   ]
  },
  {
   "cell_type": "markdown",
   "id": "fcc70112",
   "metadata": {},
   "source": [
    "## Sets"
   ]
  },
  {
   "cell_type": "code",
   "execution_count": null,
   "id": "9ea64053",
   "metadata": {
    "scrolled": true,
    "tags": []
   },
   "outputs": [],
   "source": [
    "string = \"I like going to Cal Poly Humboldt, and DATA 271 is a fun class.\""
   ]
  },
  {
   "cell_type": "code",
   "execution_count": null,
   "id": "2046cfda",
   "metadata": {
    "tags": []
   },
   "outputs": [],
   "source": [
    "# gets characters, C, a, or l, but not 'Cal'\n",
    "re.findall('[Cal]',string)"
   ]
  },
  {
   "cell_type": "code",
   "execution_count": null,
   "id": "596fcd3b",
   "metadata": {
    "tags": []
   },
   "outputs": [],
   "source": [
    "# get the lowercase characters between a and m\n",
    "re.findall('[a-m]',string) "
   ]
  },
  {
   "cell_type": "code",
   "execution_count": null,
   "id": "b62e39a4",
   "metadata": {
    "scrolled": true,
    "tags": []
   },
   "outputs": [],
   "source": [
    "# get the lowercase and uppercase characters between a and z\n",
    "re.findall('[a-zA-z]',string) "
   ]
  },
  {
   "cell_type": "code",
   "execution_count": null,
   "id": "38c8e82f",
   "metadata": {
    "tags": []
   },
   "outputs": [],
   "source": [
    "# get the lowercase and uppercase characters between a and z and numbers\n",
    "re.findall('[a-zA-z0-9]',string)"
   ]
  },
  {
   "cell_type": "code",
   "execution_count": null,
   "id": "d9b87af1",
   "metadata": {
    "scrolled": true,
    "tags": []
   },
   "outputs": [],
   "source": [
    "# just the numbers 0 through 5\n",
    "re.findall('[0-5]',string)"
   ]
  },
  {
   "cell_type": "code",
   "execution_count": null,
   "id": "1e2de908",
   "metadata": {
    "tags": []
   },
   "outputs": [],
   "source": [
    "# Get every single character\n",
    "re.findall('.',string)"
   ]
  },
  {
   "cell_type": "markdown",
   "id": "7a655203",
   "metadata": {},
   "source": [
    "## Special characters: Specifying number of occurences"
   ]
  },
  {
   "cell_type": "markdown",
   "id": "2f9b67d6",
   "metadata": {},
   "source": [
    "- `*` zero or more\n",
    "- `+` 1 or more\n",
    "- `?` zero or one"
   ]
  },
  {
   "cell_type": "code",
   "execution_count": null,
   "id": "a8617ef5",
   "metadata": {
    "tags": []
   },
   "outputs": [],
   "source": [
    "tongue_twister = 'How much wood would a woodchuck chuck if a woodchuck could chuck wood?'"
   ]
  },
  {
   "cell_type": "code",
   "execution_count": null,
   "id": "c01215a1",
   "metadata": {
    "tags": []
   },
   "outputs": [],
   "source": [
    "# Match wo and then any character zero or more times (greedy)\n",
    "re.findall('wo.*',tongue_twister)"
   ]
  },
  {
   "cell_type": "code",
   "execution_count": null,
   "id": "16e16ff3",
   "metadata": {
    "tags": []
   },
   "outputs": [],
   "source": [
    "# Match wo and then any character zero more times followed by i (greedy)\n",
    "re.findall('wo.*i',tongue_twister)"
   ]
  },
  {
   "cell_type": "code",
   "execution_count": null,
   "id": "0591cd9b",
   "metadata": {
    "tags": []
   },
   "outputs": [],
   "source": [
    "# Match wo and then any character 1 or more times followed by d (greedy)\n",
    "re.findall('wo.+d',tongue_twister)"
   ]
  },
  {
   "cell_type": "code",
   "execution_count": null,
   "id": "1fa07088",
   "metadata": {
    "tags": []
   },
   "outputs": [],
   "source": [
    "# Match wo and then any character 1 or more times followed by d (not greedy)\n",
    "re.findall('wo.+?d',tongue_twister)"
   ]
  },
  {
   "cell_type": "code",
   "execution_count": null,
   "id": "86b7756a",
   "metadata": {
    "tags": []
   },
   "outputs": [],
   "source": [
    "# Match w o 0 or more times followed by d\n",
    "re.findall('wo*d',tongue_twister)"
   ]
  },
  {
   "cell_type": "code",
   "execution_count": null,
   "id": "f84c0dd7",
   "metadata": {
    "tags": []
   },
   "outputs": [],
   "source": [
    "# Match woo and then any character 0 or 1 or zero times followed by d\n",
    "re.findall('woo.?d',tongue_twister)"
   ]
  },
  {
   "cell_type": "code",
   "execution_count": null,
   "id": "cfb9b55d",
   "metadata": {
    "tags": []
   },
   "outputs": [],
   "source": [
    "# Match w then o 0 or more times then u 0 or 1 times then l 0 or 1 times then d\n",
    "re.findall('wo*u?l?d',tongue_twister)"
   ]
  },
  {
   "cell_type": "code",
   "execution_count": null,
   "id": "66ad583e",
   "metadata": {
    "tags": []
   },
   "outputs": [],
   "source": [
    "re.findall('wood|would',tongue_twister)"
   ]
  },
  {
   "cell_type": "code",
   "execution_count": null,
   "id": "7d2e4086",
   "metadata": {
    "tags": []
   },
   "outputs": [],
   "source": [
    "# special characters can't be searched for directly. Can't search for question marks like this\n",
    "re.findall('?',tongue_twister)"
   ]
  },
  {
   "cell_type": "code",
   "execution_count": null,
   "id": "eb832a35",
   "metadata": {
    "tags": []
   },
   "outputs": [],
   "source": [
    "# We need to escape\n",
    "re.findall('\\?',tongue_twister)"
   ]
  },
  {
   "cell_type": "code",
   "execution_count": null,
   "id": "42d91908",
   "metadata": {
    "scrolled": true,
    "tags": []
   },
   "outputs": [],
   "source": [
    "# Search start of the string\n",
    "re.findall('^wood',tongue_twister)"
   ]
  },
  {
   "cell_type": "code",
   "execution_count": null,
   "id": "4f7b5917",
   "metadata": {
    "tags": []
   },
   "outputs": [],
   "source": [
    "# Search start of the string\n",
    "re.findall('^How',tongue_twister)"
   ]
  },
  {
   "cell_type": "code",
   "execution_count": null,
   "id": "31396245-b95b-48af-ad1f-d885d7ac6415",
   "metadata": {},
   "outputs": [],
   "source": []
  }
 ],
 "metadata": {
  "kernelspec": {
   "display_name": "Python 3 (ipykernel)",
   "language": "python",
   "name": "python3"
  },
  "language_info": {
   "codemirror_mode": {
    "name": "ipython",
    "version": 3
   },
   "file_extension": ".py",
   "mimetype": "text/x-python",
   "name": "python",
   "nbconvert_exporter": "python",
   "pygments_lexer": "ipython3",
   "version": "3.11.4"
  }
 },
 "nbformat": 4,
 "nbformat_minor": 5
}
