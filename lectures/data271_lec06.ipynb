{
 "cells": [
  {
   "cell_type": "markdown",
   "id": "2d6583dc",
   "metadata": {},
   "source": [
    "# Intro to Regular Expression\n",
    "If you want to type along with me, use [this notebook](https://humboldt.cloudbank.2i2c.cloud/hub/user-redirect/git-pull?repo=https%3A%2F%2Fgithub.com%2Fbethanyj0%2Fdata271_sp24&branch=main&urlpath=tree%2Fdata271_sp24%2Fdemos%2Fdata271_demo6_live.ipynb) instead. \n",
    "If you don't want to type and want to follow along just by executing the cells, stay in this notebook. "
   ]
  },
  {
   "cell_type": "code",
   "execution_count": null,
   "id": "7b776d25",
   "metadata": {},
   "outputs": [],
   "source": [
    "import re "
   ]
  },
  {
   "cell_type": "markdown",
   "id": "311eeb72",
   "metadata": {},
   "source": [
    "## Regular Expression Functions in `re`"
   ]
  },
  {
   "cell_type": "code",
   "execution_count": null,
   "id": "f5297ac3",
   "metadata": {},
   "outputs": [],
   "source": [
    "text = \"I'm not lazy, I'm just on energy-saving mode. It's the best mode. - Unknown\""
   ]
  },
  {
   "cell_type": "code",
   "execution_count": null,
   "id": "7d406f60",
   "metadata": {},
   "outputs": [],
   "source": [
    "# search (don't usually use this too much unless working with large texts just to know if something is there)\n",
    "print(re.search('mode',text))"
   ]
  },
  {
   "cell_type": "code",
   "execution_count": null,
   "id": "cf4f3ab1",
   "metadata": {},
   "outputs": [],
   "source": [
    "print(re.search('271',text))"
   ]
  },
  {
   "cell_type": "code",
   "execution_count": null,
   "id": "628040ca",
   "metadata": {
    "scrolled": true
   },
   "outputs": [],
   "source": [
    "# findall catches all occurences and puts them into a list\n",
    "re.findall('mode',text)"
   ]
  },
  {
   "cell_type": "code",
   "execution_count": null,
   "id": "747fdbbf",
   "metadata": {},
   "outputs": [],
   "source": [
    "# Using len with findall allows us to count occurances\n",
    "len(re.findall('mode',text))"
   ]
  },
  {
   "cell_type": "code",
   "execution_count": null,
   "id": "995ba625",
   "metadata": {},
   "outputs": [],
   "source": [
    "# split puts things in a list split by your input. NOTE mode doesn't necessarily make sense to split by\n",
    "re.split('mode',text)"
   ]
  },
  {
   "cell_type": "code",
   "execution_count": null,
   "id": "ff8cfd86",
   "metadata": {},
   "outputs": [],
   "source": [
    "# to split by sentence\n",
    "re.split('\\.',text)"
   ]
  },
  {
   "cell_type": "code",
   "execution_count": null,
   "id": "06936db1",
   "metadata": {},
   "outputs": [],
   "source": [
    "# sub to swap things in the string\n",
    "re.sub('on','in',text)"
   ]
  },
  {
   "cell_type": "code",
   "execution_count": null,
   "id": "fdf99fad",
   "metadata": {},
   "outputs": [],
   "source": [
    "# sub replaces all occurances\n",
    "re.sub('mode','zone',text)"
   ]
  },
  {
   "cell_type": "code",
   "execution_count": null,
   "id": "9259fea6",
   "metadata": {},
   "outputs": [],
   "source": [
    "# you can replace just one if needed\n",
    "re.sub('mode','zone',text, count = 1)"
   ]
  },
  {
   "cell_type": "markdown",
   "id": "06840610",
   "metadata": {},
   "source": [
    "## Character classes"
   ]
  },
  {
   "cell_type": "code",
   "execution_count": null,
   "id": "d8d17edb",
   "metadata": {},
   "outputs": [],
   "source": [
    "quote = \"Life is 10% what happens to us and 90% how we react to it. But I want to be 100% happy. - Unknown\""
   ]
  },
  {
   "cell_type": "code",
   "execution_count": null,
   "id": "3dcf41e4",
   "metadata": {},
   "outputs": [],
   "source": [
    "# To find the digits\n",
    "re.findall('\\d',quote)"
   ]
  },
  {
   "cell_type": "code",
   "execution_count": null,
   "id": "9f0fde74",
   "metadata": {
    "scrolled": true
   },
   "outputs": [],
   "source": [
    "# To get everything that isn't a number\n",
    "re.findall('\\D',quote)"
   ]
  },
  {
   "cell_type": "code",
   "execution_count": null,
   "id": "33c03848",
   "metadata": {
    "scrolled": true
   },
   "outputs": [],
   "source": [
    "# Something similar\n",
    "# doesn't include the special characters but does include letters and numbers\n",
    "re.findall('\\w',quote) "
   ]
  },
  {
   "cell_type": "code",
   "execution_count": null,
   "id": "1e53374c",
   "metadata": {},
   "outputs": [],
   "source": [
    "# To get just the special characters\n",
    "re.findall('\\W',quote)"
   ]
  },
  {
   "cell_type": "code",
   "execution_count": null,
   "id": "7dfc271e",
   "metadata": {},
   "outputs": [],
   "source": [
    "# To just get the white spaces\n",
    "re.findall('\\s',quote)"
   ]
  },
  {
   "cell_type": "code",
   "execution_count": null,
   "id": "cfa428e7",
   "metadata": {},
   "outputs": [],
   "source": [
    "# To get everything but white spaces\n",
    "re.findall('\\S',quote)"
   ]
  },
  {
   "cell_type": "markdown",
   "id": "fcc70112",
   "metadata": {},
   "source": [
    "## Sets"
   ]
  },
  {
   "cell_type": "code",
   "execution_count": null,
   "id": "9ea64053",
   "metadata": {
    "scrolled": true
   },
   "outputs": [],
   "source": [
    "string = \"I like going to Cal Poly Humboldt, and DATA 271 is a fun class.\""
   ]
  },
  {
   "cell_type": "code",
   "execution_count": null,
   "id": "2046cfda",
   "metadata": {},
   "outputs": [],
   "source": [
    "# gets characters, C, a, or l, but not 'Cal'\n",
    "re.findall('[Cal]',string)"
   ]
  },
  {
   "cell_type": "code",
   "execution_count": null,
   "id": "596fcd3b",
   "metadata": {},
   "outputs": [],
   "source": [
    "# get the lowercase characters between a and m\n",
    "re.findall('[a-m]',string) "
   ]
  },
  {
   "cell_type": "code",
   "execution_count": null,
   "id": "b62e39a4",
   "metadata": {
    "scrolled": true
   },
   "outputs": [],
   "source": [
    "# get the lowercase and uppercase characters between a and z\n",
    "re.findall('[a-zA-z]',string) "
   ]
  },
  {
   "cell_type": "code",
   "execution_count": null,
   "id": "38c8e82f",
   "metadata": {},
   "outputs": [],
   "source": [
    "# get the lowercase and uppercase characters between a and z and numbers\n",
    "re.findall('[a-zA-z0-9]',string)"
   ]
  },
  {
   "cell_type": "code",
   "execution_count": null,
   "id": "d9b87af1",
   "metadata": {
    "scrolled": true
   },
   "outputs": [],
   "source": [
    "# just the numbers 0 through 5\n",
    "re.findall('[0-5]',string)"
   ]
  },
  {
   "cell_type": "code",
   "execution_count": null,
   "id": "1e2de908",
   "metadata": {},
   "outputs": [],
   "source": [
    "# Get every single character\n",
    "re.findall('.',string)"
   ]
  },
  {
   "cell_type": "markdown",
   "id": "7a655203",
   "metadata": {},
   "source": [
    "## Special characters: Specifying number of occurences"
   ]
  },
  {
   "cell_type": "markdown",
   "id": "2f9b67d6",
   "metadata": {},
   "source": [
    "- `*` zero or more\n",
    "- `+` 1 or more\n",
    "- `?` zero or one"
   ]
  },
  {
   "cell_type": "code",
   "execution_count": null,
   "id": "a8617ef5",
   "metadata": {},
   "outputs": [],
   "source": [
    "tongue_twister = 'How much wood would a woodchuck chuck if a woodchuck could chuck wood?'"
   ]
  },
  {
   "cell_type": "code",
   "execution_count": null,
   "id": "c01215a1",
   "metadata": {},
   "outputs": [],
   "source": [
    "# Match wo and then any character zero or more times (greedy)\n",
    "re.findall('wo.*',tongue_twister)"
   ]
  },
  {
   "cell_type": "code",
   "execution_count": null,
   "id": "16e16ff3",
   "metadata": {},
   "outputs": [],
   "source": [
    "# Match wo and then any character zero more times followed by i (greedy)\n",
    "re.findall('wo.*i',tongue_twister)"
   ]
  },
  {
   "cell_type": "code",
   "execution_count": null,
   "id": "0591cd9b",
   "metadata": {},
   "outputs": [],
   "source": [
    "# Match wo and then any character 1 or more times followed by d (greedy)\n",
    "re.findall('wo.+d',tongue_twister)"
   ]
  },
  {
   "cell_type": "code",
   "execution_count": null,
   "id": "1fa07088",
   "metadata": {},
   "outputs": [],
   "source": [
    "# Match wo and then any character zero or more times followed by d (not greedy)\n",
    "re.findall('wo.+?d',tongue_twister)"
   ]
  },
  {
   "cell_type": "code",
   "execution_count": null,
   "id": "86b7756a",
   "metadata": {},
   "outputs": [],
   "source": [
    "# Match w o 0 or more times followed by d\n",
    "re.findall('wo*d',tongue_twister)"
   ]
  },
  {
   "cell_type": "code",
   "execution_count": null,
   "id": "f84c0dd7",
   "metadata": {},
   "outputs": [],
   "source": [
    "# Match woo and then any character 0 or 1 or zero times followed by d\n",
    "re.findall('wo.+?d',tongue_twister)"
   ]
  },
  {
   "cell_type": "code",
   "execution_count": null,
   "id": "cfb9b55d",
   "metadata": {},
   "outputs": [],
   "source": [
    "# Match w then o 0 or more times then u 0 or 1 times then l 0 or 1 times then d\n",
    "re.findall('wo*u?l?d',tongue_twister)"
   ]
  },
  {
   "cell_type": "code",
   "execution_count": null,
   "id": "66ad583e",
   "metadata": {},
   "outputs": [],
   "source": [
    "re.findall('wood|would',tongue_twister)"
   ]
  },
  {
   "cell_type": "code",
   "execution_count": null,
   "id": "7d2e4086",
   "metadata": {},
   "outputs": [],
   "source": [
    "# special characters can't be searched for directly. Can't search for question marks like this\n",
    "re.findall('?',tongue_twister)"
   ]
  },
  {
   "cell_type": "code",
   "execution_count": null,
   "id": "eb832a35",
   "metadata": {},
   "outputs": [],
   "source": [
    "# We need to escape\n",
    "re.findall('\\?',tongue_twister)"
   ]
  },
  {
   "cell_type": "code",
   "execution_count": null,
   "id": "42d91908",
   "metadata": {
    "scrolled": true
   },
   "outputs": [],
   "source": [
    "# Search start of the string\n",
    "re.findall('^wood',tongue_twister)"
   ]
  },
  {
   "cell_type": "code",
   "execution_count": null,
   "id": "4f7b5917",
   "metadata": {},
   "outputs": [],
   "source": [
    "# Search start of the string\n",
    "re.findall('^How',tongue_twister)"
   ]
  }
 ],
 "metadata": {
  "kernelspec": {
   "display_name": "Python 3 (ipykernel)",
   "language": "python",
   "name": "python3"
  },
  "language_info": {
   "codemirror_mode": {
    "name": "ipython",
    "version": 3
   },
   "file_extension": ".py",
   "mimetype": "text/x-python",
   "name": "python",
   "nbconvert_exporter": "python",
   "pygments_lexer": "ipython3",
   "version": "3.11.4"
  }
 },
 "nbformat": 4,
 "nbformat_minor": 5
}
