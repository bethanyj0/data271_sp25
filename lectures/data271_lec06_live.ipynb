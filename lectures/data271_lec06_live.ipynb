{
 "cells": [
  {
   "cell_type": "markdown",
   "id": "af80b16d",
   "metadata": {},
   "source": [
    "# Intro to Regular Expression\n",
    "If you want to type along with me, use [this notebook](https://humboldt.cloudbank.2i2c.cloud/hub/user-redirect/git-pull?repo=https%3A%2F%2Fgithub.com%2Fbethanyj0%2Fdata271_sp24&branch=main&urlpath=tree%2Fdata271_sp24%2Fdemos%2Fdata271_demo6_live.ipynb) instead. \n",
    "If you don't want to type and want to follow along just by executing the cells, stay in this notebook. "
   ]
  },
  {
   "cell_type": "code",
   "execution_count": null,
   "id": "86eec2da",
   "metadata": {},
   "outputs": [],
   "source": [
    "import re "
   ]
  },
  {
   "cell_type": "markdown",
   "id": "4118592b",
   "metadata": {},
   "source": [
    "## Regular Expression Functions in `re`"
   ]
  },
  {
   "cell_type": "code",
   "execution_count": null,
   "id": "d9a17273",
   "metadata": {},
   "outputs": [],
   "source": [
    "text = \"I'm not lazy, I'm just on energy-saving mode. It's the best mode. - Unknown\""
   ]
  },
  {
   "cell_type": "code",
   "execution_count": null,
   "id": "0f1b260d",
   "metadata": {},
   "outputs": [],
   "source": [
    "# search (don't usually use this too much unless working with large texts just to know if something is there)\n"
   ]
  },
  {
   "cell_type": "code",
   "execution_count": null,
   "id": "8148f057",
   "metadata": {},
   "outputs": [],
   "source": []
  },
  {
   "cell_type": "code",
   "execution_count": null,
   "id": "af0bf003",
   "metadata": {
    "scrolled": true
   },
   "outputs": [],
   "source": [
    "# findall catches all occurences and puts them into a list\n"
   ]
  },
  {
   "cell_type": "code",
   "execution_count": null,
   "id": "6d1db602",
   "metadata": {},
   "outputs": [],
   "source": [
    "# Using len with findall allows us to count occurances\n"
   ]
  },
  {
   "cell_type": "code",
   "execution_count": null,
   "id": "40da91cb",
   "metadata": {},
   "outputs": [],
   "source": [
    "# split puts things in a list split by your input. NOTE mode doesn't necessarily make sense to split by\n"
   ]
  },
  {
   "cell_type": "code",
   "execution_count": null,
   "id": "4635d78c",
   "metadata": {},
   "outputs": [],
   "source": [
    "# to split by sentence\n"
   ]
  },
  {
   "cell_type": "code",
   "execution_count": null,
   "id": "38d63927",
   "metadata": {},
   "outputs": [],
   "source": [
    "# sub to swap things in the string\n"
   ]
  },
  {
   "cell_type": "code",
   "execution_count": null,
   "id": "84ad4b91",
   "metadata": {},
   "outputs": [],
   "source": [
    "# sub replaces all occurances\n"
   ]
  },
  {
   "cell_type": "code",
   "execution_count": null,
   "id": "655cc3c3",
   "metadata": {},
   "outputs": [],
   "source": [
    "# you can replace just one if needed\n"
   ]
  },
  {
   "cell_type": "markdown",
   "id": "48976b2e",
   "metadata": {},
   "source": [
    "## Character classes"
   ]
  },
  {
   "cell_type": "code",
   "execution_count": null,
   "id": "729bc67a",
   "metadata": {},
   "outputs": [],
   "source": [
    "quote = \"Life is 10% what happens to us and 90% how we react to it. But I want to be 100% happy. - Unknown\""
   ]
  },
  {
   "cell_type": "code",
   "execution_count": null,
   "id": "aade285d",
   "metadata": {},
   "outputs": [],
   "source": [
    "# To find the digits\n"
   ]
  },
  {
   "cell_type": "code",
   "execution_count": null,
   "id": "3db852f8",
   "metadata": {
    "scrolled": true
   },
   "outputs": [],
   "source": [
    "# To get everything that isn't a number\n"
   ]
  },
  {
   "cell_type": "code",
   "execution_count": null,
   "id": "49fc7636",
   "metadata": {
    "scrolled": true
   },
   "outputs": [],
   "source": [
    "# Something similar\n",
    "# doesn't include the special characters but does include letters and numbers\n"
   ]
  },
  {
   "cell_type": "code",
   "execution_count": null,
   "id": "8ba3ecd6",
   "metadata": {},
   "outputs": [],
   "source": [
    "# To get just the special characters\n"
   ]
  },
  {
   "cell_type": "code",
   "execution_count": null,
   "id": "20b1ddcf",
   "metadata": {},
   "outputs": [],
   "source": [
    "# To just get the white spaces\n"
   ]
  },
  {
   "cell_type": "code",
   "execution_count": null,
   "id": "94116d6a",
   "metadata": {},
   "outputs": [],
   "source": [
    "# To get everything but white spaces\n"
   ]
  },
  {
   "cell_type": "markdown",
   "id": "127bb45c",
   "metadata": {},
   "source": [
    "## Sets"
   ]
  },
  {
   "cell_type": "code",
   "execution_count": null,
   "id": "a68cb098",
   "metadata": {
    "scrolled": true
   },
   "outputs": [],
   "source": [
    "string = \"I like going to Cal Poly Humboldt, and DATA 271 is a fun class.\""
   ]
  },
  {
   "cell_type": "code",
   "execution_count": null,
   "id": "627c9f18",
   "metadata": {},
   "outputs": [],
   "source": [
    "# gets characters, C, a, or l, but not 'Cal'\n"
   ]
  },
  {
   "cell_type": "code",
   "execution_count": null,
   "id": "4a640d37",
   "metadata": {},
   "outputs": [],
   "source": [
    "# get the lowercase characters between a and m\n"
   ]
  },
  {
   "cell_type": "code",
   "execution_count": null,
   "id": "847331ee",
   "metadata": {
    "scrolled": true
   },
   "outputs": [],
   "source": [
    "# get the lowercase and uppercase characters between a and z\n"
   ]
  },
  {
   "cell_type": "code",
   "execution_count": null,
   "id": "6ee7a76d",
   "metadata": {},
   "outputs": [],
   "source": [
    "# get the lowercase and uppercase characters between a and z and numbers\n"
   ]
  },
  {
   "cell_type": "code",
   "execution_count": null,
   "id": "d5ed0739",
   "metadata": {
    "scrolled": true
   },
   "outputs": [],
   "source": [
    "# just the numbers 0 through 5\n"
   ]
  },
  {
   "cell_type": "code",
   "execution_count": null,
   "id": "432ff99d",
   "metadata": {},
   "outputs": [],
   "source": [
    "# Get every single character\n"
   ]
  },
  {
   "cell_type": "markdown",
   "id": "b8e9be49",
   "metadata": {},
   "source": [
    "## Special characters: Specifying number of occurences"
   ]
  },
  {
   "cell_type": "markdown",
   "id": "9648e383",
   "metadata": {},
   "source": [
    "- `*` zero or more\n",
    "- `+` 1 or more\n",
    "- `?` zero or one"
   ]
  },
  {
   "cell_type": "code",
   "execution_count": null,
   "id": "6af6eb79",
   "metadata": {},
   "outputs": [],
   "source": [
    "tongue_twister = 'How much wood would a woodchuck chuck if a woodchuck could chuck wood?'"
   ]
  },
  {
   "cell_type": "code",
   "execution_count": null,
   "id": "65f39afb",
   "metadata": {},
   "outputs": [],
   "source": [
    "# Match wo and then any character zero or more times (greedy)\n"
   ]
  },
  {
   "cell_type": "code",
   "execution_count": null,
   "id": "35db2196",
   "metadata": {},
   "outputs": [],
   "source": [
    "# Match wo and then any character zero more times followed by i (greedy)\n"
   ]
  },
  {
   "cell_type": "code",
   "execution_count": null,
   "id": "d4d4b32a",
   "metadata": {},
   "outputs": [],
   "source": [
    "# Match wo and then any character 1 or more times followed by d (greedy)\n"
   ]
  },
  {
   "cell_type": "code",
   "execution_count": null,
   "id": "01f50c9f",
   "metadata": {},
   "outputs": [],
   "source": [
    "# Match wo and then any character zero or more times followed by d (not greedy)\n"
   ]
  },
  {
   "cell_type": "code",
   "execution_count": null,
   "id": "ab713a19",
   "metadata": {},
   "outputs": [],
   "source": [
    "# Match w o 0 or more times followed by d\n"
   ]
  },
  {
   "cell_type": "code",
   "execution_count": null,
   "id": "4e520cea",
   "metadata": {},
   "outputs": [],
   "source": [
    "# Match woo and then any character 0 or 1 or zero times followed by d\n"
   ]
  },
  {
   "cell_type": "code",
   "execution_count": null,
   "id": "fbd0dc1e",
   "metadata": {},
   "outputs": [],
   "source": [
    "# Match w then o 0 or more times then u 0 or 1 times then l 0 or 1 times then d\n"
   ]
  },
  {
   "cell_type": "code",
   "execution_count": null,
   "id": "1c6add92",
   "metadata": {},
   "outputs": [],
   "source": []
  },
  {
   "cell_type": "code",
   "execution_count": null,
   "id": "a61b2317",
   "metadata": {},
   "outputs": [],
   "source": [
    "# special characters can't be searched for directly. Can't search for question marks like this\n"
   ]
  },
  {
   "cell_type": "code",
   "execution_count": null,
   "id": "5f0ab783",
   "metadata": {},
   "outputs": [],
   "source": [
    "# We need to escape\n"
   ]
  },
  {
   "cell_type": "code",
   "execution_count": null,
   "id": "505b5df5",
   "metadata": {
    "scrolled": true
   },
   "outputs": [],
   "source": [
    "# Search start of the string\n"
   ]
  },
  {
   "cell_type": "code",
   "execution_count": null,
   "id": "e75d3d49",
   "metadata": {},
   "outputs": [],
   "source": [
    "# Search start of the string\n"
   ]
  }
 ],
 "metadata": {
  "kernelspec": {
   "display_name": "Python 3 (ipykernel)",
   "language": "python",
   "name": "python3"
  },
  "language_info": {
   "codemirror_mode": {
    "name": "ipython",
    "version": 3
   },
   "file_extension": ".py",
   "mimetype": "text/x-python",
   "name": "python",
   "nbconvert_exporter": "python",
   "pygments_lexer": "ipython3",
   "version": "3.11.4"
  }
 },
 "nbformat": 4,
 "nbformat_minor": 5
}
