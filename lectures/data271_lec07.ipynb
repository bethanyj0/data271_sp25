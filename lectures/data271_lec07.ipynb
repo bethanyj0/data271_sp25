{
 "cells": [
  {
   "cell_type": "markdown",
   "id": "5791e92f",
   "metadata": {},
   "source": [
    "# More Regular Expression\n",
    "If you want to type along with me, use [this notebook](https://humboldt.cloudbank.2i2c.cloud/hub/user-redirect/git-pull?repo=https%3A%2F%2Fgithub.com%2Fbethanyj0%2Fdata271_sp24&branch=main&urlpath=tree%2Fdata271_sp24%2Fdemos%2Fdata271_demo7_live.ipynb) instead. \n",
    "If you don't want to type and want to follow along just by executing the cells, stay in this notebook. "
   ]
  },
  {
   "cell_type": "code",
   "execution_count": null,
   "id": "701da2dc",
   "metadata": {},
   "outputs": [],
   "source": [
    "import re "
   ]
  },
  {
   "cell_type": "markdown",
   "id": "45f9d983",
   "metadata": {},
   "source": [
    "## Questions from last time"
   ]
  },
  {
   "cell_type": "code",
   "execution_count": null,
   "id": "748514d0",
   "metadata": {},
   "outputs": [],
   "source": [
    "# How to match the last occurance?\n",
    "text = \"I'm not lazy, I'm just on energy-saving mode. It's the best mode. - Unknown\"\n",
    "re.search('mode',text)"
   ]
  },
  {
   "cell_type": "code",
   "execution_count": null,
   "id": "c87c58a5",
   "metadata": {},
   "outputs": [],
   "source": [
    "#re.finditer allows you to iterate through the match objects\n",
    "[match for match in re.finditer('mode',text)]"
   ]
  },
  {
   "cell_type": "code",
   "execution_count": null,
   "id": "2f4ee376",
   "metadata": {},
   "outputs": [],
   "source": [
    "# Can you split by a character without losing that character? Positive look behind (we'll talk more about this) \n",
    "re.split('(?<=\\.)',text)"
   ]
  },
  {
   "cell_type": "code",
   "execution_count": null,
   "id": "7107430f",
   "metadata": {
    "scrolled": false
   },
   "outputs": [],
   "source": [
    "# Can we sub just the second occurance?\n",
    "re.sub('mode','zone',text,count=1)"
   ]
  },
  {
   "cell_type": "code",
   "execution_count": null,
   "id": "050558c6",
   "metadata": {},
   "outputs": [],
   "source": [
    "# Couldn't find a great solution to this. One I thought of...\n",
    "text[:re.search('mode',text).start()+1] + re.sub('mode','zone',text[re.search('mode',text).start()+1:],count=1)\n",
    "# Brownie points to anyone who thinks of a better solution"
   ]
  },
  {
   "cell_type": "code",
   "execution_count": null,
   "id": "ec91128a",
   "metadata": {},
   "outputs": [],
   "source": [
    "# How to handle characters with accents?\n",
    "str_with_accent = 'cómo'\n",
    "re.findall('[a-z]',str_with_accent)"
   ]
  },
  {
   "cell_type": "code",
   "execution_count": null,
   "id": "7735bb09",
   "metadata": {},
   "outputs": [],
   "source": [
    "# Can use unicode characters\n",
    "re.findall('[a-z\\u00C0-\\u017F]',str_with_accent)"
   ]
  },
  {
   "cell_type": "code",
   "execution_count": null,
   "id": "969b7648",
   "metadata": {},
   "outputs": [],
   "source": [
    "# Or can type them in\n",
    "re.findall('[a-zá-ź]',str_with_accent)"
   ]
  },
  {
   "cell_type": "code",
   "execution_count": null,
   "id": "dedc297f",
   "metadata": {},
   "outputs": [],
   "source": [
    "# Or \\w will capture them\n",
    "re.findall('\\w',str_with_accent)"
   ]
  },
  {
   "cell_type": "markdown",
   "id": "0f9f56cc",
   "metadata": {},
   "source": [
    "## Repetitions"
   ]
  },
  {
   "cell_type": "code",
   "execution_count": null,
   "id": "6fb0e3f0",
   "metadata": {},
   "outputs": [],
   "source": [
    "string = \"She sells seashells by the seashore.\""
   ]
  },
  {
   "cell_type": "code",
   "execution_count": null,
   "id": "0f216100",
   "metadata": {},
   "outputs": [],
   "source": [
    "# get patterns that start with s and end with a with any character in between\n",
    "re.findall('s.a',string)"
   ]
  },
  {
   "cell_type": "code",
   "execution_count": null,
   "id": "227da84b",
   "metadata": {},
   "outputs": [],
   "source": [
    "# get patterns that start with s and end with s with any character in between\n",
    "re.findall('s.s',string)"
   ]
  },
  {
   "cell_type": "code",
   "execution_count": null,
   "id": "65e6f75b",
   "metadata": {},
   "outputs": [],
   "source": [
    "# get patterns that start with s and end with s with any 2 characters in between\n",
    "re.findall('s.{2}s',string)"
   ]
  },
  {
   "cell_type": "code",
   "execution_count": null,
   "id": "987461d5",
   "metadata": {},
   "outputs": [],
   "source": [
    "# another way\n",
    "re.findall('s..s',string)"
   ]
  },
  {
   "cell_type": "code",
   "execution_count": null,
   "id": "0eafe292",
   "metadata": {},
   "outputs": [],
   "source": [
    "# three characters in between\n",
    "re.findall('s.{3}s',string)"
   ]
  },
  {
   "cell_type": "code",
   "execution_count": null,
   "id": "0aa18bcf",
   "metadata": {},
   "outputs": [],
   "source": [
    "# between 1 and 4 characters between s and s\n",
    "re.findall('s.{1,4}s',string)"
   ]
  },
  {
   "cell_type": "code",
   "execution_count": null,
   "id": "43d39dfb",
   "metadata": {},
   "outputs": [],
   "source": [
    "# between 1 and 4 characters between s and s\n",
    "re.findall('s.{1,4}s',string[string.find('s')+1:])"
   ]
  },
  {
   "cell_type": "code",
   "execution_count": null,
   "id": "73718900",
   "metadata": {},
   "outputs": [],
   "source": [
    "# between 1 and 4 characters between s and s (lazy)\n",
    "re.findall('s.{1,4}?s',string[string.find('s')+1:])"
   ]
  },
  {
   "cell_type": "code",
   "execution_count": null,
   "id": "1151d365",
   "metadata": {},
   "outputs": [],
   "source": [
    "# between 1 and 4 characters (except s) between s and s; use carat inside []\n",
    "re.findall('s[^s]{1,4}s',string[string.find('s')+1:])"
   ]
  },
  {
   "cell_type": "code",
   "execution_count": null,
   "id": "288ca2d8",
   "metadata": {},
   "outputs": [],
   "source": [
    "# between 1 and 4 characters between s and s (not including the last s) POSITIVE LOOK AHEAD\n",
    "re.findall('s.{1,4}(?=s)',string)"
   ]
  },
  {
   "cell_type": "code",
   "execution_count": null,
   "id": "a8b9b075",
   "metadata": {},
   "outputs": [],
   "source": [
    "# between 1 and 4 characters between s and s (not including the last s) lazy\n",
    "re.findall('s.{1,4}?(?=s)',string)"
   ]
  },
  {
   "cell_type": "code",
   "execution_count": null,
   "id": "e9ed471f",
   "metadata": {
    "scrolled": false
   },
   "outputs": [],
   "source": [
    "# 2 or more characters between s and s (greedy)\n",
    "re.findall('s.{2,}s',string)"
   ]
  },
  {
   "cell_type": "code",
   "execution_count": null,
   "id": "09d33b61",
   "metadata": {},
   "outputs": [],
   "source": [
    "# between 2 or more characters between\n",
    "re.findall('s.{2,}?s',string)"
   ]
  },
  {
   "cell_type": "markdown",
   "id": "50810a14",
   "metadata": {},
   "source": [
    "## Grouping "
   ]
  },
  {
   "cell_type": "code",
   "execution_count": null,
   "id": "3ec8aaaa",
   "metadata": {},
   "outputs": [],
   "source": [
    "text = 'apple banana appleappleapple applee orange'"
   ]
  },
  {
   "cell_type": "code",
   "execution_count": null,
   "id": "e8e6d7d7",
   "metadata": {},
   "outputs": [],
   "source": [
    "# + only matches characters immediately to the left\n",
    "re.findall('apple+',text)"
   ]
  },
  {
   "cell_type": "code",
   "execution_count": null,
   "id": "02af42c4",
   "metadata": {},
   "outputs": [],
   "source": [
    "# If we want to match a whole word, we group\n",
    "re.findall('(apple)+',text)"
   ]
  },
  {
   "cell_type": "code",
   "execution_count": null,
   "id": "d5131a70",
   "metadata": {},
   "outputs": [],
   "source": [
    "# note that it only returns the things in the group\n",
    "email = 'myusername123@email.com'\n",
    "re.findall('([a-z0-9]+)@',email)"
   ]
  },
  {
   "cell_type": "code",
   "execution_count": null,
   "id": "13722036",
   "metadata": {},
   "outputs": [],
   "source": [
    "# another example: using grouping for collections of info\n",
    "statement = 'Mary has 3 cats. Ben had 2 dogs. Maya has 14 chickens, and April has 1 alpaca.'"
   ]
  },
  {
   "cell_type": "code",
   "execution_count": null,
   "id": "8ab1408f",
   "metadata": {
    "scrolled": true
   },
   "outputs": [],
   "source": [
    "# get all the statements in the form \"person has or had # pets\"\n",
    "re.findall('[A-Za-z]+\\s[A-Za-z]+\\s\\d+\\s[A-Za-z]+',statement)"
   ]
  },
  {
   "cell_type": "code",
   "execution_count": null,
   "id": "81c9a857",
   "metadata": {},
   "outputs": [],
   "source": [
    "# if I only care about the people, group by the first part\n",
    "re.findall('([A-Za-z]+)\\s[A-Za-z]+\\s\\d+\\s[A-Za-z]+',statement)"
   ]
  },
  {
   "cell_type": "code",
   "execution_count": null,
   "id": "4dabd990",
   "metadata": {},
   "outputs": [],
   "source": [
    "# if I care about the people and the number of pets they have or had\n",
    "re.findall('([A-Za-z]+)\\s[A-Za-z]+\\s(\\d+)\\s[A-Za-z]+',statement)"
   ]
  },
  {
   "cell_type": "code",
   "execution_count": null,
   "id": "e92d2c77",
   "metadata": {},
   "outputs": [],
   "source": [
    "# if I care about the people and the number of pets and the type of pet\n",
    "re.findall('([A-Za-z]+)\\s[A-Za-z]+\\s(\\d+)\\s([A-Za-z]+)',statement)"
   ]
  },
  {
   "cell_type": "code",
   "execution_count": null,
   "id": "182c8c74",
   "metadata": {},
   "outputs": [],
   "source": [
    "important_info = re.findall('([A-Za-z]+)\\s[A-Za-z]+\\s(\\d+)\\s([A-Za-z]+)',statement)\n",
    "names = [i[0] for i in important_info]\n",
    "names"
   ]
  },
  {
   "cell_type": "code",
   "execution_count": null,
   "id": "91e14793",
   "metadata": {},
   "outputs": [],
   "source": [
    "pets = [i[2] for i in important_info]\n",
    "pets"
   ]
  },
  {
   "cell_type": "markdown",
   "id": "0210a700",
   "metadata": {},
   "source": [
    "## Searching for special characters"
   ]
  },
  {
   "cell_type": "code",
   "execution_count": null,
   "id": "17c24516",
   "metadata": {},
   "outputs": [],
   "source": [
    "question = \"What is the meaning of life?\""
   ]
  },
  {
   "cell_type": "code",
   "execution_count": null,
   "id": "6bc18a55",
   "metadata": {},
   "outputs": [],
   "source": [
    "# To search for specific special characters\n",
    "re.findall('?',question)"
   ]
  },
  {
   "cell_type": "code",
   "execution_count": null,
   "id": "da361379",
   "metadata": {},
   "outputs": [],
   "source": [
    "# We have to escape\n",
    "re.findall('\\?',question)"
   ]
  },
  {
   "cell_type": "code",
   "execution_count": null,
   "id": "55c6a052",
   "metadata": {},
   "outputs": [],
   "source": [
    "# We don't have to escape if it's inside of a set\n",
    "re.findall('[li?]',question)"
   ]
  },
  {
   "cell_type": "markdown",
   "id": "fda29fb5",
   "metadata": {},
   "source": [
    "## Raw strings"
   ]
  },
  {
   "cell_type": "code",
   "execution_count": null,
   "id": "96108dc4",
   "metadata": {},
   "outputs": [],
   "source": [
    "# A string in python\n",
    "print('\\tTab')"
   ]
  },
  {
   "cell_type": "code",
   "execution_count": null,
   "id": "b31454da",
   "metadata": {},
   "outputs": [],
   "source": [
    "# A raw string in python\n",
    "print(r'\\tTab')"
   ]
  },
  {
   "cell_type": "code",
   "execution_count": null,
   "id": "503c4d23",
   "metadata": {
    "scrolled": true
   },
   "outputs": [],
   "source": [
    "print('Line1\\nLine2')"
   ]
  },
  {
   "cell_type": "code",
   "execution_count": null,
   "id": "eb562a14",
   "metadata": {},
   "outputs": [],
   "source": [
    "print(r'Line1\\nLine2')"
   ]
  },
  {
   "cell_type": "code",
   "execution_count": null,
   "id": "1a092490",
   "metadata": {},
   "outputs": [],
   "source": [
    "example_file_path = r\"C:\\users\\blah.txt\""
   ]
  },
  {
   "cell_type": "code",
   "execution_count": null,
   "id": "12445d4a",
   "metadata": {},
   "outputs": [],
   "source": [
    "re.findall(r\"users\\\\\",example_file_path)"
   ]
  },
  {
   "cell_type": "code",
   "execution_count": null,
   "id": "2ff85a77",
   "metadata": {},
   "outputs": [],
   "source": [
    "re.findall('users\\\\\\\\',example_file_path)"
   ]
  },
  {
   "cell_type": "markdown",
   "id": "f811e216",
   "metadata": {},
   "source": [
    "## Activities"
   ]
  },
  {
   "cell_type": "markdown",
   "id": "f166eb63",
   "metadata": {},
   "source": [
    "1. Extract all the words that contain two or more vowels in a row from the quote below. "
   ]
  },
  {
   "cell_type": "code",
   "execution_count": null,
   "id": "0e827cce",
   "metadata": {},
   "outputs": [],
   "source": [
    "quote = \"The best and most beautiful things in the world cannot be seen or even touched - they must be felt with the heart. -Helen Keller\""
   ]
  },
  {
   "cell_type": "code",
   "execution_count": null,
   "id": "c0be596a",
   "metadata": {},
   "outputs": [],
   "source": []
  },
  {
   "cell_type": "markdown",
   "id": "eb5c1754",
   "metadata": {},
   "source": [
    "2. Extract all the emoticons like `:)` or `:-)` etc. "
   ]
  },
  {
   "cell_type": "code",
   "execution_count": null,
   "id": "fa005f2c",
   "metadata": {},
   "outputs": [],
   "source": [
    "greeting = \"Hi! :D It is so nice to meet you! :-) I wish I could stay and chat :P but I have to go. :( See ya. D,:\""
   ]
  },
  {
   "cell_type": "code",
   "execution_count": null,
   "id": "8dbe1da4",
   "metadata": {},
   "outputs": [],
   "source": []
  },
  {
   "cell_type": "markdown",
   "id": "373a03e0",
   "metadata": {},
   "source": [
    "3. Extract the year, month, and day for each date in the list."
   ]
  },
  {
   "cell_type": "code",
   "execution_count": null,
   "id": "70f8eacd",
   "metadata": {},
   "outputs": [],
   "source": [
    "dates = ['01-01-2001','02-02-2002','03-03-2003','04-04-2004','05-05-2005','06-06-2006',\n",
    "         '07-07-2007','08-08-2008','09-09-2009','10-10-2010','11-11-2011','12-12-2012']\n",
    "\n",
    "year = ...\n",
    "month = ...\n",
    "day = ..."
   ]
  },
  {
   "cell_type": "code",
   "execution_count": null,
   "id": "3816ea9d",
   "metadata": {},
   "outputs": [],
   "source": []
  }
 ],
 "metadata": {
  "kernelspec": {
   "display_name": "Python 3 (ipykernel)",
   "language": "python",
   "name": "python3"
  },
  "language_info": {
   "codemirror_mode": {
    "name": "ipython",
    "version": 3
   },
   "file_extension": ".py",
   "mimetype": "text/x-python",
   "name": "python",
   "nbconvert_exporter": "python",
   "pygments_lexer": "ipython3",
   "version": "3.11.4"
  }
 },
 "nbformat": 4,
 "nbformat_minor": 5
}
