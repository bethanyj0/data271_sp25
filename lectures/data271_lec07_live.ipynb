{
 "cells": [
  {
   "cell_type": "markdown",
   "id": "5791e92f",
   "metadata": {},
   "source": [
    "# More Regular Expression\n",
    "If you want to type along with me, use [this notebook](https://humboldt.cloudbank.2i2c.cloud/hub/user-redirect/git-pull?repo=https%3A%2F%2Fgithub.com%2Fbethanyj0%2Fdata271_sp24&branch=main&urlpath=tree%2Fdata271_sp24%2Fdemos%2Fdata271_demo7_live.ipynb) instead. \n",
    "If you don't want to type and want to follow along just by executing the cells, stay in this notebook. "
   ]
  },
  {
   "cell_type": "code",
   "execution_count": null,
   "id": "701da2dc",
   "metadata": {},
   "outputs": [],
   "source": [
    "import re "
   ]
  },
  {
   "cell_type": "markdown",
   "id": "d32de1b4",
   "metadata": {},
   "source": [
    "## Questions from last time"
   ]
  },
  {
   "cell_type": "code",
   "execution_count": null,
   "id": "5576f0d0",
   "metadata": {},
   "outputs": [],
   "source": [
    "# How to match the last occurance?\n",
    "text = \"I'm not lazy, I'm just on energy-saving mode. It's the best mode. - Unknown\"\n",
    "re.search('mode',text)"
   ]
  },
  {
   "cell_type": "code",
   "execution_count": null,
   "id": "71c78ec1",
   "metadata": {},
   "outputs": [],
   "source": [
    "#re.finditer allows you to iterate through the match objects\n",
    "[match for match in re.finditer('mode',text)]"
   ]
  },
  {
   "cell_type": "code",
   "execution_count": null,
   "id": "c78fbe79",
   "metadata": {},
   "outputs": [],
   "source": [
    "# Can you split by a character without losing that character? Positive look behind (we'll talk more about this) \n",
    "re.split('(?<=\\.)',text)"
   ]
  },
  {
   "cell_type": "code",
   "execution_count": null,
   "id": "56229212",
   "metadata": {
    "scrolled": false
   },
   "outputs": [],
   "source": [
    "# Can we sub just the second occurance?\n",
    "re.sub('mode','zone',text,count=1)"
   ]
  },
  {
   "cell_type": "code",
   "execution_count": null,
   "id": "f3502fd4",
   "metadata": {},
   "outputs": [],
   "source": [
    "# Couldn't find a great solution to this. One I thought of...\n",
    "text[:re.search('mode',text).start()+1] + re.sub('mode','zone',text[re.search('mode',text).start()+1:],count=1)\n",
    "# Brownie points to anyone who thinks of a better solution"
   ]
  },
  {
   "cell_type": "code",
   "execution_count": null,
   "id": "7ab23cf7",
   "metadata": {},
   "outputs": [],
   "source": [
    "# How to handle characters with accents?\n",
    "str_with_accent = 'cómo'\n",
    "re.findall('[a-z]',str_with_accent)"
   ]
  },
  {
   "cell_type": "code",
   "execution_count": null,
   "id": "c0680192",
   "metadata": {},
   "outputs": [],
   "source": [
    "# Can use unicode characters\n",
    "re.findall('[a-z\\u00C0-\\u017F]',str_with_accent)"
   ]
  },
  {
   "cell_type": "code",
   "execution_count": null,
   "id": "24d4d716",
   "metadata": {},
   "outputs": [],
   "source": [
    "# Or can type them in\n",
    "re.findall('[a-zá-ź]',str_with_accent)"
   ]
  },
  {
   "cell_type": "code",
   "execution_count": null,
   "id": "9c6d605b",
   "metadata": {},
   "outputs": [],
   "source": [
    "# Or \\w will capture them\n",
    "re.findall('\\w',str_with_accent)"
   ]
  },
  {
   "cell_type": "markdown",
   "id": "0f9f56cc",
   "metadata": {},
   "source": [
    "## Repetitions"
   ]
  },
  {
   "cell_type": "code",
   "execution_count": null,
   "id": "6fb0e3f0",
   "metadata": {},
   "outputs": [],
   "source": [
    "string = \"She sells seashells by the seashore.\""
   ]
  },
  {
   "cell_type": "code",
   "execution_count": null,
   "id": "0f216100",
   "metadata": {},
   "outputs": [],
   "source": [
    "# get patterns that start with s and end with a with any character in between\n"
   ]
  },
  {
   "cell_type": "code",
   "execution_count": null,
   "id": "227da84b",
   "metadata": {},
   "outputs": [],
   "source": [
    "# get patterns that start with s and end with s with any character in between\n"
   ]
  },
  {
   "cell_type": "code",
   "execution_count": null,
   "id": "65e6f75b",
   "metadata": {},
   "outputs": [],
   "source": [
    "# get patterns that start with s and end with s with any 2 characters in between\n"
   ]
  },
  {
   "cell_type": "code",
   "execution_count": null,
   "id": "987461d5",
   "metadata": {},
   "outputs": [],
   "source": [
    "# another way\n"
   ]
  },
  {
   "cell_type": "code",
   "execution_count": null,
   "id": "0eafe292",
   "metadata": {},
   "outputs": [],
   "source": [
    "# three characters in between\n"
   ]
  },
  {
   "cell_type": "code",
   "execution_count": null,
   "id": "96abf233",
   "metadata": {},
   "outputs": [],
   "source": [
    "# between 1 and 4 characters between s and s\n"
   ]
  },
  {
   "cell_type": "code",
   "execution_count": null,
   "id": "42e1a5c7",
   "metadata": {},
   "outputs": [],
   "source": [
    "# between 1 and 4 characters between s and s\n"
   ]
  },
  {
   "cell_type": "code",
   "execution_count": null,
   "id": "eda19320",
   "metadata": {},
   "outputs": [],
   "source": [
    "# between 1 and 4 characters between s and s (lazy)\n"
   ]
  },
  {
   "cell_type": "code",
   "execution_count": null,
   "id": "c0d98f9e",
   "metadata": {},
   "outputs": [],
   "source": [
    "# between 1 and 4 characters (except s) between s and s; use carat inside []\n"
   ]
  },
  {
   "cell_type": "code",
   "execution_count": null,
   "id": "697d08c5",
   "metadata": {},
   "outputs": [],
   "source": [
    "# between 1 and 4 characters between s and s (not including the last s) POSITIVE LOOK AHEAD\n"
   ]
  },
  {
   "cell_type": "code",
   "execution_count": null,
   "id": "21111279",
   "metadata": {},
   "outputs": [],
   "source": [
    "# between 1 and 4 characters between s and s (not including the last s) lazy\n"
   ]
  },
  {
   "cell_type": "code",
   "execution_count": null,
   "id": "bcfbad02",
   "metadata": {
    "scrolled": false
   },
   "outputs": [],
   "source": [
    "# 2 or more characters between s and s (greedy)\n"
   ]
  },
  {
   "cell_type": "code",
   "execution_count": null,
   "id": "8d7ad341",
   "metadata": {},
   "outputs": [],
   "source": [
    "# between 2 or more characters between\n"
   ]
  },
  {
   "cell_type": "markdown",
   "id": "248713e8",
   "metadata": {},
   "source": [
    "## Grouping "
   ]
  },
  {
   "cell_type": "code",
   "execution_count": null,
   "id": "6bb4b1c9",
   "metadata": {},
   "outputs": [],
   "source": [
    "text = 'apple banana appleappleapple applee orange'"
   ]
  },
  {
   "cell_type": "code",
   "execution_count": null,
   "id": "7adbcc8e",
   "metadata": {},
   "outputs": [],
   "source": [
    "# + only matches characters immediately to the left\n"
   ]
  },
  {
   "cell_type": "code",
   "execution_count": null,
   "id": "a6b999ae",
   "metadata": {},
   "outputs": [],
   "source": [
    "# If we want to match a whole word, we group\n"
   ]
  },
  {
   "cell_type": "code",
   "execution_count": null,
   "id": "0cc01b9a",
   "metadata": {},
   "outputs": [],
   "source": [
    "# note that it only returns the things in the group\n",
    "email = 'myusername123@email.com'\n"
   ]
  },
  {
   "cell_type": "code",
   "execution_count": null,
   "id": "a93bbebb",
   "metadata": {},
   "outputs": [],
   "source": [
    "# another example: using grouping for collections of info\n",
    "statement = 'Mary has 3 cats. Ben had 2 dogs. Maya has 14 chickens, and April has 1 alpaca.'"
   ]
  },
  {
   "cell_type": "code",
   "execution_count": null,
   "id": "ed2bae91",
   "metadata": {
    "scrolled": true
   },
   "outputs": [],
   "source": [
    "# get all the statements in the form \"person has or had # pets\"\n"
   ]
  },
  {
   "cell_type": "code",
   "execution_count": null,
   "id": "03f16411",
   "metadata": {},
   "outputs": [],
   "source": [
    "# if I only care about the people, group by the first part\n"
   ]
  },
  {
   "cell_type": "code",
   "execution_count": null,
   "id": "dee88c68",
   "metadata": {},
   "outputs": [],
   "source": [
    "# if I care about the people and the number of pets they have or had\n"
   ]
  },
  {
   "cell_type": "code",
   "execution_count": null,
   "id": "9c04be77",
   "metadata": {},
   "outputs": [],
   "source": [
    "# if I care about the people and the number of pets and the type of pet\n"
   ]
  },
  {
   "cell_type": "code",
   "execution_count": null,
   "id": "c218f701",
   "metadata": {},
   "outputs": [],
   "source": [
    "important_info = re.findall('([A-Za-z]+)\\s[A-Za-z]+\\s(\\d+)\\s([A-Za-z]+)',statement)\n",
    "names = \n",
    "names"
   ]
  },
  {
   "cell_type": "code",
   "execution_count": null,
   "id": "5c72895c",
   "metadata": {},
   "outputs": [],
   "source": [
    "pets = \n",
    "pets"
   ]
  },
  {
   "cell_type": "markdown",
   "id": "0210a700",
   "metadata": {},
   "source": [
    "## Searching for special characters"
   ]
  },
  {
   "cell_type": "code",
   "execution_count": null,
   "id": "837fe373",
   "metadata": {},
   "outputs": [],
   "source": [
    "question = \"What is the meaning of life?\""
   ]
  },
  {
   "cell_type": "code",
   "execution_count": null,
   "id": "6bc18a55",
   "metadata": {},
   "outputs": [],
   "source": [
    "# To search for specific special characters\n"
   ]
  },
  {
   "cell_type": "code",
   "execution_count": null,
   "id": "da361379",
   "metadata": {},
   "outputs": [],
   "source": [
    "# We have to escape\n"
   ]
  },
  {
   "cell_type": "code",
   "execution_count": null,
   "id": "eb585435",
   "metadata": {},
   "outputs": [],
   "source": [
    "# We don't have to escape if it's inside of a set\n"
   ]
  },
  {
   "cell_type": "markdown",
   "id": "97c0051a",
   "metadata": {},
   "source": [
    "## Raw strings"
   ]
  },
  {
   "cell_type": "code",
   "execution_count": null,
   "id": "88cf240e",
   "metadata": {},
   "outputs": [],
   "source": [
    "# A string in python\n"
   ]
  },
  {
   "cell_type": "code",
   "execution_count": null,
   "id": "ec561f8d",
   "metadata": {},
   "outputs": [],
   "source": [
    "# A raw string in python\n"
   ]
  },
  {
   "cell_type": "code",
   "execution_count": null,
   "id": "21319ee7",
   "metadata": {
    "scrolled": true
   },
   "outputs": [],
   "source": []
  },
  {
   "cell_type": "code",
   "execution_count": null,
   "id": "8e0b60fa",
   "metadata": {},
   "outputs": [],
   "source": []
  },
  {
   "cell_type": "code",
   "execution_count": null,
   "id": "5b1e5ae9",
   "metadata": {},
   "outputs": [],
   "source": [
    "example_file_path = r\"C:\\users\\blah.txt\""
   ]
  },
  {
   "cell_type": "code",
   "execution_count": null,
   "id": "44879957",
   "metadata": {},
   "outputs": [],
   "source": []
  },
  {
   "cell_type": "code",
   "execution_count": null,
   "id": "72eb595c",
   "metadata": {},
   "outputs": [],
   "source": []
  },
  {
   "cell_type": "markdown",
   "id": "ea5bffd2",
   "metadata": {},
   "source": [
    "## Activities"
   ]
  },
  {
   "cell_type": "markdown",
   "id": "b625e9f2",
   "metadata": {},
   "source": [
    "1. Extract all the words that contain two or more vowels in a row from the quote below. "
   ]
  },
  {
   "cell_type": "code",
   "execution_count": null,
   "id": "c47e1b9c",
   "metadata": {},
   "outputs": [],
   "source": [
    "quote = \"The best and most beautiful things in the world cannot be seen or even touched - they must be felt with the heart. -Helen Keller\""
   ]
  },
  {
   "cell_type": "code",
   "execution_count": null,
   "id": "ebfb4d19",
   "metadata": {},
   "outputs": [],
   "source": []
  },
  {
   "cell_type": "markdown",
   "id": "c34a467b",
   "metadata": {},
   "source": [
    "2. Extract all the emoticons like `:)` or `:-)` etc. "
   ]
  },
  {
   "cell_type": "code",
   "execution_count": null,
   "id": "c62e799a",
   "metadata": {},
   "outputs": [],
   "source": [
    "greeting = \"Hi! :D It is so nice to meet you! :-) I wish I could stay and chat :P but I have to go. :( See ya. D,:\""
   ]
  },
  {
   "cell_type": "code",
   "execution_count": null,
   "id": "342eb19e",
   "metadata": {},
   "outputs": [],
   "source": []
  },
  {
   "cell_type": "markdown",
   "id": "994969ed",
   "metadata": {},
   "source": [
    "3. Extract the year, month, and day for each date in the list."
   ]
  },
  {
   "cell_type": "code",
   "execution_count": null,
   "id": "6de60199",
   "metadata": {},
   "outputs": [],
   "source": [
    "dates = ['01-01-2001','02-02-2002','03-03-2003','04-04-2004','05-05-2005','06-06-2006',\n",
    "         '07-07-2007','08-08-2008','09-09-2009','10-10-2010','11-11-2011','12-12-2012']\n",
    "\n",
    "year = ...\n",
    "month = ...\n",
    "day = ..."
   ]
  },
  {
   "cell_type": "code",
   "execution_count": null,
   "id": "dd0753ed",
   "metadata": {},
   "outputs": [],
   "source": []
  }
 ],
 "metadata": {
  "kernelspec": {
   "display_name": "Python 3 (ipykernel)",
   "language": "python",
   "name": "python3"
  },
  "language_info": {
   "codemirror_mode": {
    "name": "ipython",
    "version": 3
   },
   "file_extension": ".py",
   "mimetype": "text/x-python",
   "name": "python",
   "nbconvert_exporter": "python",
   "pygments_lexer": "ipython3",
   "version": "3.11.4"
  }
 },
 "nbformat": 4,
 "nbformat_minor": 5
}
