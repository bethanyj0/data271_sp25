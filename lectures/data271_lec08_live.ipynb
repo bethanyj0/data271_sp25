{
 "cells": [
  {
   "cell_type": "markdown",
   "id": "7092ecb5-be75-49ed-bed1-58ac1d7ba350",
   "metadata": {},
   "source": [
    "# Wrap up Regex"
   ]
  },
  {
   "cell_type": "code",
   "execution_count": null,
   "id": "6b08ec2f-0ec1-4824-93b5-68959c7f36ae",
   "metadata": {
    "tags": []
   },
   "outputs": [],
   "source": [
    "# Backgreferencing  with capture groups.\n",
    "import re\n",
    "dates = \"12/25/2025 01/01/2023 11/14/2022\"\n",
    "re.findall('(\\d{2})/(\\d{2})/(\\d{4})',dates)"
   ]
  },
  {
   "cell_type": "code",
   "execution_count": null,
   "id": "fa654424-6de7-4ea1-8b26-af39acc44950",
   "metadata": {
    "tags": []
   },
   "outputs": [],
   "source": [
    "# Reference the capture groups switch from MM/DD/YYY to YYYY/MM/DD\n",
    "re.sub(r'(\\d{2})/(\\d{2})/(\\d{4})', r'\\3/\\1/\\2', dates)"
   ]
  },
  {
   "cell_type": "code",
   "execution_count": null,
   "id": "ceca363d-e11e-4f0c-ab5b-716f4145834b",
   "metadata": {
    "tags": []
   },
   "outputs": [],
   "source": [
    "# You can name capture groups with ?P to make it easier to reference. use \\g when referencing\n",
    "# Note this only works for substitutions\n",
    "re.sub(r'(?P<month>\\d{2})/(?P<day>\\d{2})/(?P<year>\\d{4})',r'\\g<year>/\\g<month>/\\g<day>', dates)"
   ]
  },
  {
   "cell_type": "code",
   "execution_count": null,
   "id": "68a20160-8d50-49f7-9aa4-1b59fcf5629f",
   "metadata": {
    "tags": []
   },
   "outputs": [],
   "source": [
    "# This type of technique is helpful for cleaning data\n",
    "messy_dates = \"12/25/2025 01/1/2023 11/14/2022\"\n",
    "re.sub(r'/(\\d)/', r'/0\\1/', messy_dates)"
   ]
  },
  {
   "cell_type": "markdown",
   "id": "5791e92f",
   "metadata": {},
   "source": [
    "# Markdown in Jupyter Notebooks"
   ]
  },
  {
   "cell_type": "code",
   "execution_count": null,
   "id": "17e87fe1",
   "metadata": {
    "tags": []
   },
   "outputs": [],
   "source": [
    "# "
   ]
  },
  {
   "cell_type": "markdown",
   "id": "94e1388c",
   "metadata": {},
   "source": [
    "This is a Markdown cell. Markdown is a language for creating formatted text. Jupyter notebooks integrate Markdown cells, which allow us to describe what we're doing with nice clean formatting in between our code cells. Let's see  what we can do with it."
   ]
  },
  {
   "cell_type": "markdown",
   "id": "2100bb48",
   "metadata": {},
   "source": []
  },
  {
   "cell_type": "markdown",
   "id": "bc6f16b8",
   "metadata": {},
   "source": []
  },
  {
   "cell_type": "code",
   "execution_count": null,
   "id": "fbe6d1e4",
   "metadata": {},
   "outputs": [],
   "source": []
  },
  {
   "cell_type": "markdown",
   "id": "20aad7f5",
   "metadata": {},
   "source": []
  },
  {
   "cell_type": "markdown",
   "id": "f36c3e62",
   "metadata": {},
   "source": [
    "## Formatting Code"
   ]
  },
  {
   "cell_type": "markdown",
   "id": "2b5d9fa5",
   "metadata": {},
   "source": [
    "## Formatting math\n",
    "\n",
    "Inline: \n",
    "\n",
    "Display:\n",
    "\n",
    "\n",
    "Common mathy things: \n",
    "\n",
    "Multiple lines:\n",
    "\n",
    "\n",
    "Matrix: \n",
    "\n",
    "\n",
    "\n",
    "To learn more, lookup Latex. "
   ]
  },
  {
   "cell_type": "markdown",
   "id": "9b821856",
   "metadata": {},
   "source": [
    "## Adding Links\n",
    "Add pics with the following syntax:\n",
    "```markdown\n",
    "![alt text](image_url)\n",
    "```\n",
    "\n",
    "Example: \n",
    "\n"
   ]
  },
  {
   "cell_type": "markdown",
   "id": "f3938c2a",
   "metadata": {},
   "source": [
    "## Add images\n",
    "Here's a pic:\n",
    "\n",
    "![humboldt](https://www.times-standard.com/wp-content/uploads/2022/02/spiritSeal-interim-calPolyHumboldt.jpg?w=575)"
   ]
  },
  {
   "cell_type": "markdown",
   "id": "494316a2-4f83-4164-a0fd-ab29ca5279a0",
   "metadata": {},
   "source": [
    "If you need more flexibility (such as resizing), you can use HTML syntax:\n",
    "\n",
    "```markdown\n",
    "<img src=\"image_path\" width=\"300\"/>\n",
    "```\n",
    "Example:\n",
    "\n"
   ]
  }
 ],
 "metadata": {
  "kernelspec": {
   "display_name": "Python 3 (ipykernel)",
   "language": "python",
   "name": "python3"
  },
  "language_info": {
   "codemirror_mode": {
    "name": "ipython",
    "version": 3
   },
   "file_extension": ".py",
   "mimetype": "text/x-python",
   "name": "python",
   "nbconvert_exporter": "python",
   "pygments_lexer": "ipython3",
   "version": "3.11.4"
  }
 },
 "nbformat": 4,
 "nbformat_minor": 5
}
