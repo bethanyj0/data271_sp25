{
 "cells": [
  {
   "cell_type": "markdown",
   "id": "5791e92f",
   "metadata": {},
   "source": [
    "# Markdown in Jupyter Notebooks\n",
    "If you want to type along with me, use [this notebook](https://humboldt.cloudbank.2i2c.cloud/hub/user-redirect/git-pull?repo=https%3A%2F%2Fgithub.com%2Fbethanyj0%2Fdata271_sp24&branch=main&urlpath=tree%2Fdata271_sp24%2Fdemos%2Fdata271_demo8_live.ipynb) instead. \n",
    "If you don't want to type and want to follow along just by executing the cells, stay in this notebook. "
   ]
  },
  {
   "cell_type": "code",
   "execution_count": null,
   "id": "17e87fe1",
   "metadata": {},
   "outputs": [],
   "source": [
    "# "
   ]
  },
  {
   "cell_type": "markdown",
   "id": "94e1388c",
   "metadata": {},
   "source": []
  },
  {
   "cell_type": "markdown",
   "id": "2100bb48",
   "metadata": {},
   "source": []
  },
  {
   "cell_type": "markdown",
   "id": "bc6f16b8",
   "metadata": {},
   "source": []
  },
  {
   "cell_type": "code",
   "execution_count": null,
   "id": "fbe6d1e4",
   "metadata": {},
   "outputs": [],
   "source": []
  },
  {
   "cell_type": "markdown",
   "id": "20aad7f5",
   "metadata": {},
   "source": []
  },
  {
   "cell_type": "markdown",
   "id": "f36c3e62",
   "metadata": {},
   "source": [
    "## Formatting Code"
   ]
  },
  {
   "cell_type": "markdown",
   "id": "2b5d9fa5",
   "metadata": {},
   "source": [
    "## Formatting math\n",
    "\n",
    "Inline: \n",
    "\n",
    "Display:\n",
    "\n",
    "\n",
    "Common mathy things: \n",
    "\n",
    "Multiple lines:\n",
    "\n",
    "\n",
    "Matrix: \n",
    "\n",
    "\n",
    "\n",
    "To learn more, lookup Latex. "
   ]
  },
  {
   "cell_type": "markdown",
   "id": "9b821856",
   "metadata": {},
   "source": [
    "## Adding Links\n",
    "\n",
    "We are at \n",
    "\n",
    "The text we want to link goes in square brackets and the link goes in parentheses. "
   ]
  },
  {
   "cell_type": "markdown",
   "id": "f3938c2a",
   "metadata": {},
   "source": [
    "## Add images\n",
    "Here's a pic:\n",
    "\n",
    "![humboldt](https://www.times-standard.com/wp-content/uploads/2022/02/spiritSeal-interim-calPolyHumboldt.jpg?w=575)"
   ]
  },
  {
   "cell_type": "code",
   "execution_count": null,
   "id": "aaec1c16",
   "metadata": {},
   "outputs": [],
   "source": []
  }
 ],
 "metadata": {
  "kernelspec": {
   "display_name": "Python 3 (ipykernel)",
   "language": "python",
   "name": "python3"
  },
  "language_info": {
   "codemirror_mode": {
    "name": "ipython",
    "version": 3
   },
   "file_extension": ".py",
   "mimetype": "text/x-python",
   "name": "python",
   "nbconvert_exporter": "python",
   "pygments_lexer": "ipython3",
   "version": "3.11.4"
  }
 },
 "nbformat": 4,
 "nbformat_minor": 5
}
