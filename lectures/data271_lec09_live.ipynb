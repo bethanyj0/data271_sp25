{
 "cells": [
  {
   "cell_type": "markdown",
   "id": "5791e92f",
   "metadata": {},
   "source": [
    "# NumPy\n",
    "If you want to type along with me, use [this notebook](https://humboldt.cloudbank.2i2c.cloud/hub/user-redirect/git-pull?repo=https%3A%2F%2Fgithub.com%2Fbethanyj0%2Fdata271_sp24&branch=main&urlpath=tree%2Fdata271_sp24%2Fdemos%2Fdata271_demo9_live.ipynb) instead. \n",
    "If you don't want to type and want to follow along just by executing the cells, stay in this notebook. "
   ]
  },
  {
   "cell_type": "code",
   "execution_count": null,
   "id": "1fb3a498",
   "metadata": {},
   "outputs": [],
   "source": [
    "# Whenever you want to use numpy, import it with the following code\n",
    "import numpy as np"
   ]
  },
  {
   "cell_type": "code",
   "execution_count": null,
   "id": "a7a8df19",
   "metadata": {},
   "outputs": [],
   "source": []
  },
  {
   "cell_type": "code",
   "execution_count": null,
   "id": "8968b7a1",
   "metadata": {},
   "outputs": [],
   "source": []
  },
  {
   "cell_type": "code",
   "execution_count": null,
   "id": "a664be81",
   "metadata": {},
   "outputs": [],
   "source": [
    "arr2d= \n",
    "arr2d"
   ]
  },
  {
   "cell_type": "markdown",
   "id": "8b15fcb3",
   "metadata": {},
   "source": [
    "## Attributes"
   ]
  },
  {
   "cell_type": "code",
   "execution_count": null,
   "id": "698b3fbe",
   "metadata": {},
   "outputs": [],
   "source": [
    "# number of dimensions\n",
    "arr2d."
   ]
  },
  {
   "cell_type": "code",
   "execution_count": null,
   "id": "6f23ac99",
   "metadata": {},
   "outputs": [],
   "source": [
    "# shape of the array\n",
    "arr2d."
   ]
  },
  {
   "cell_type": "code",
   "execution_count": null,
   "id": "44d1a995",
   "metadata": {},
   "outputs": [],
   "source": [
    "# size of the array (how many total elements)\n",
    "arr2d."
   ]
  },
  {
   "cell_type": "code",
   "execution_count": null,
   "id": "bc272087",
   "metadata": {},
   "outputs": [],
   "source": [
    "# type of the elements within the array\n",
    "arr2d."
   ]
  },
  {
   "cell_type": "markdown",
   "id": "77a0d683",
   "metadata": {},
   "source": [
    "## Why NumPy?"
   ]
  },
  {
   "cell_type": "code",
   "execution_count": null,
   "id": "d636dec8",
   "metadata": {},
   "outputs": [],
   "source": [
    "# Base Python data structures can't handle elementwise operations\n",
    "lst = [1,2,3]\n"
   ]
  },
  {
   "cell_type": "code",
   "execution_count": null,
   "id": "ab6bcf48",
   "metadata": {},
   "outputs": [],
   "source": [
    "# NumPy can\n",
    "arr = np.array([1,2,3])\n"
   ]
  },
  {
   "cell_type": "markdown",
   "id": "60000899",
   "metadata": {},
   "source": [
    "Numpy is more computationally efficient"
   ]
  },
  {
   "cell_type": "code",
   "execution_count": null,
   "id": "b195d9b4",
   "metadata": {},
   "outputs": [],
   "source": [
    "# How long to double every element in a big list\n",
    "big_list = list(range(1000000))\n"
   ]
  },
  {
   "cell_type": "code",
   "execution_count": null,
   "id": "979e5052",
   "metadata": {},
   "outputs": [],
   "source": [
    "# How long to double every element in a big array\n",
    "big_array = np.arange(1000000)\n"
   ]
  },
  {
   "cell_type": "markdown",
   "id": "5776b5c9",
   "metadata": {},
   "source": [
    "## Creating NumPy arrays"
   ]
  },
  {
   "cell_type": "code",
   "execution_count": null,
   "id": "41ba2fef",
   "metadata": {},
   "outputs": [],
   "source": [
    "# Manually enter each element\n"
   ]
  },
  {
   "cell_type": "code",
   "execution_count": null,
   "id": "88ee9d2f",
   "metadata": {},
   "outputs": [],
   "source": [
    "# Create sequential array with np.arange\n"
   ]
  },
  {
   "cell_type": "code",
   "execution_count": null,
   "id": "8608d65d",
   "metadata": {},
   "outputs": [],
   "source": [
    "# Indicate start, stop, and step in np.arange\n"
   ]
  },
  {
   "cell_type": "code",
   "execution_count": null,
   "id": "8bdfd9c4",
   "metadata": {
    "scrolled": true
   },
   "outputs": [],
   "source": [
    "# Create a set number of equally spaced elements with np.linspace(start,stop,number)\n"
   ]
  },
  {
   "cell_type": "code",
   "execution_count": null,
   "id": "61fa76b4",
   "metadata": {},
   "outputs": [],
   "source": [
    "# ndarray of ones\n"
   ]
  },
  {
   "cell_type": "code",
   "execution_count": null,
   "id": "2d337c80",
   "metadata": {},
   "outputs": [],
   "source": [
    "# ndarray of zeros\n"
   ]
  },
  {
   "cell_type": "code",
   "execution_count": null,
   "id": "d43c9fb8",
   "metadata": {},
   "outputs": [],
   "source": [
    "# identity matrix\n"
   ]
  },
  {
   "cell_type": "code",
   "execution_count": null,
   "id": "1c03b6fb",
   "metadata": {},
   "outputs": [],
   "source": [
    "# Fill whole nd array with a specific value\n"
   ]
  },
  {
   "cell_type": "markdown",
   "id": "c9ec42eb",
   "metadata": {},
   "source": [
    "### Casting other data structures to numpy arrays"
   ]
  },
  {
   "cell_type": "code",
   "execution_count": null,
   "id": "acd7f0c9",
   "metadata": {},
   "outputs": [],
   "source": [
    "lst = [1,2,3]\n",
    "type(lst)"
   ]
  },
  {
   "cell_type": "code",
   "execution_count": null,
   "id": "122b15d1",
   "metadata": {},
   "outputs": [],
   "source": []
  },
  {
   "cell_type": "code",
   "execution_count": null,
   "id": "57472362",
   "metadata": {},
   "outputs": [],
   "source": [
    "tup = (1,2,3)\n"
   ]
  },
  {
   "cell_type": "code",
   "execution_count": null,
   "id": "d32a2958",
   "metadata": {},
   "outputs": [],
   "source": [
    "# Not typically used (no ordering)\n",
    "dct = {1:2,3:4}\n"
   ]
  },
  {
   "cell_type": "code",
   "execution_count": null,
   "id": "f3de0dd1",
   "metadata": {},
   "outputs": [],
   "source": [
    "# Not typically used (no ordering)\n",
    "my_set = {1,2,3,3}\n"
   ]
  },
  {
   "cell_type": "markdown",
   "id": "55a66865",
   "metadata": {},
   "source": [
    "## Converting data types"
   ]
  },
  {
   "cell_type": "code",
   "execution_count": null,
   "id": "1815f4b9",
   "metadata": {},
   "outputs": [],
   "source": [
    "arr2 = np.array((0,2,3))\n",
    "arr2.dtype"
   ]
  },
  {
   "cell_type": "code",
   "execution_count": null,
   "id": "38b97d9a",
   "metadata": {
    "scrolled": true
   },
   "outputs": [],
   "source": [
    "arr2"
   ]
  },
  {
   "cell_type": "code",
   "execution_count": null,
   "id": "a9b498d1",
   "metadata": {},
   "outputs": [],
   "source": [
    "arr2"
   ]
  },
  {
   "cell_type": "markdown",
   "id": "4ffaa638",
   "metadata": {},
   "source": [
    "More about numpy [data types](https://numpy.org/doc/stable/user/basics.types.html)."
   ]
  },
  {
   "cell_type": "markdown",
   "id": "13a47b54",
   "metadata": {},
   "source": [
    "## Arithmetic with NumPy Arrays"
   ]
  },
  {
   "cell_type": "code",
   "execution_count": null,
   "id": "25a0ec24",
   "metadata": {},
   "outputs": [],
   "source": [
    "# Performs elementwise arithmetic\n",
    "arr1 = np.array([[2,3],[4,5]])\n",
    "arr2 = np.array([[3,3],[3,3]])"
   ]
  },
  {
   "cell_type": "code",
   "execution_count": null,
   "id": "e323e401",
   "metadata": {
    "scrolled": true
   },
   "outputs": [],
   "source": []
  },
  {
   "cell_type": "code",
   "execution_count": null,
   "id": "36009cc3",
   "metadata": {},
   "outputs": [],
   "source": []
  },
  {
   "cell_type": "code",
   "execution_count": null,
   "id": "267c90d3",
   "metadata": {},
   "outputs": [],
   "source": []
  },
  {
   "cell_type": "code",
   "execution_count": null,
   "id": "57e30418",
   "metadata": {},
   "outputs": [],
   "source": []
  },
  {
   "cell_type": "code",
   "execution_count": null,
   "id": "a0107db3",
   "metadata": {},
   "outputs": [],
   "source": []
  },
  {
   "cell_type": "code",
   "execution_count": null,
   "id": "8073b216",
   "metadata": {},
   "outputs": [],
   "source": []
  },
  {
   "cell_type": "code",
   "execution_count": null,
   "id": "934e4f7c",
   "metadata": {},
   "outputs": [],
   "source": [
    "# comparisons are also elementwise\n"
   ]
  },
  {
   "cell_type": "markdown",
   "id": "5c30de5d",
   "metadata": {},
   "source": [
    "## Broadcasting"
   ]
  },
  {
   "cell_type": "code",
   "execution_count": null,
   "id": "3ac99c70",
   "metadata": {},
   "outputs": [],
   "source": [
    "# adding two arrays of the same shape\n"
   ]
  },
  {
   "cell_type": "code",
   "execution_count": null,
   "id": "18b807e1",
   "metadata": {},
   "outputs": [],
   "source": [
    "# adding number, it \"stretches\" the number into the right shape \n"
   ]
  },
  {
   "cell_type": "code",
   "execution_count": null,
   "id": "a8fb7b3d",
   "metadata": {},
   "outputs": [],
   "source": [
    "# works with any operation\n"
   ]
  },
  {
   "cell_type": "markdown",
   "id": "5bd4ce99",
   "metadata": {},
   "source": [
    "# Indexing and slicing"
   ]
  },
  {
   "cell_type": "code",
   "execution_count": null,
   "id": "8ef2d368",
   "metadata": {},
   "outputs": [],
   "source": [
    "arr = np.arange(10)"
   ]
  },
  {
   "cell_type": "code",
   "execution_count": null,
   "id": "0e6820de",
   "metadata": {},
   "outputs": [],
   "source": [
    "# indexing \n"
   ]
  },
  {
   "cell_type": "code",
   "execution_count": null,
   "id": "05d337d0",
   "metadata": {
    "scrolled": true
   },
   "outputs": [],
   "source": [
    "# slicing\n"
   ]
  },
  {
   "cell_type": "markdown",
   "id": "b027c692",
   "metadata": {},
   "source": [
    "### Indexing/slicing 2d arrays"
   ]
  },
  {
   "cell_type": "code",
   "execution_count": null,
   "id": "e5e9ac4f",
   "metadata": {},
   "outputs": [],
   "source": [
    "arr2d"
   ]
  },
  {
   "cell_type": "code",
   "execution_count": null,
   "id": "b0b4d513",
   "metadata": {},
   "outputs": [],
   "source": [
    "# elements can be accessed recursively\n",
    "arr2d"
   ]
  },
  {
   "cell_type": "code",
   "execution_count": null,
   "id": "75048507",
   "metadata": {},
   "outputs": [],
   "source": [
    "# Or with a comma\n",
    "arr2d"
   ]
  },
  {
   "cell_type": "code",
   "execution_count": null,
   "id": "845c4e6c",
   "metadata": {},
   "outputs": [],
   "source": [
    "# access a \"row\"\n",
    "arr2d"
   ]
  },
  {
   "cell_type": "code",
   "execution_count": null,
   "id": "40a941fd",
   "metadata": {},
   "outputs": [],
   "source": [
    "# access a single \"row\" gives a 1d array\n",
    "arr2d"
   ]
  },
  {
   "cell_type": "code",
   "execution_count": null,
   "id": "90e1f038",
   "metadata": {},
   "outputs": [],
   "source": [
    "# access a \"row\" another way\n",
    "arr2d"
   ]
  },
  {
   "cell_type": "code",
   "execution_count": null,
   "id": "6d06c0a0",
   "metadata": {},
   "outputs": [],
   "source": [
    "# access a \"row\" another way gives 2d array\n",
    "arr2d[0:1,].shape"
   ]
  },
  {
   "cell_type": "code",
   "execution_count": null,
   "id": "adbe8c59",
   "metadata": {},
   "outputs": [],
   "source": [
    "# access a \"column\"\n",
    "arr2d"
   ]
  },
  {
   "cell_type": "code",
   "execution_count": null,
   "id": "763880d5",
   "metadata": {},
   "outputs": [],
   "source": [
    "# access a \"column\" gives a 1d array\n",
    "arr2d[:,0].shape"
   ]
  },
  {
   "cell_type": "code",
   "execution_count": null,
   "id": "83fbdeaa",
   "metadata": {},
   "outputs": [],
   "source": [
    "# access a \"column\" another way\n",
    "new_arr = arr2d[:,0]\n"
   ]
  },
  {
   "cell_type": "code",
   "execution_count": null,
   "id": "9fe11176",
   "metadata": {},
   "outputs": [],
   "source": [
    "# access a \"column\" another way gives 2d array\n",
    "new_arr[:,np.newaxis].shape"
   ]
  },
  {
   "cell_type": "markdown",
   "id": "5b1ac50a",
   "metadata": {},
   "source": [
    "## Views vs copies"
   ]
  },
  {
   "cell_type": "code",
   "execution_count": null,
   "id": "4420f6f6",
   "metadata": {
    "scrolled": true
   },
   "outputs": [],
   "source": [
    "# to update elements with slicing\n",
    "arr[3:5]=0\n",
    "arr"
   ]
  },
  {
   "cell_type": "code",
   "execution_count": null,
   "id": "1b7de548",
   "metadata": {},
   "outputs": [],
   "source": [
    "arr_slice = \n",
    "arr_slice"
   ]
  },
  {
   "cell_type": "code",
   "execution_count": null,
   "id": "959956a9",
   "metadata": {},
   "outputs": [],
   "source": [
    "arr_slice[0]= \n",
    "arr_slice"
   ]
  },
  {
   "cell_type": "code",
   "execution_count": null,
   "id": "03a5339f",
   "metadata": {},
   "outputs": [],
   "source": [
    "arr"
   ]
  },
  {
   "cell_type": "code",
   "execution_count": null,
   "id": "acdb382e",
   "metadata": {},
   "outputs": [],
   "source": [
    "# This is a view\n",
    "arr_slice = np.array([1,2,3,4,5,6])[2:5] \n",
    "print(arr_slice.base)"
   ]
  },
  {
   "cell_type": "code",
   "execution_count": null,
   "id": "b72d6eb0",
   "metadata": {},
   "outputs": [],
   "source": [
    "# This is a copy\n",
    "arr_slice_c = np.array([1,2,3,4,5,6])[2:5].copy()\n",
    "print(arr_slice_c.base)"
   ]
  },
  {
   "cell_type": "markdown",
   "id": "56cc0427",
   "metadata": {},
   "source": [
    "## Activity"
   ]
  },
  {
   "cell_type": "markdown",
   "id": "8c09b771",
   "metadata": {},
   "source": [
    "1. Create the following array:\n",
    "\n",
    "\\begin{bmatrix}\n",
    "1 & 1 & 1 & 1 & 1 \\\\\n",
    "1 & 0 & 0 & 0 & 1 \\\\\n",
    "1 & 0 & 2 & 0 & 1 \\\\\n",
    "1 & 0 & 0 & 0 & 1 \\\\\n",
    "1 & 1 & 1 & 1 & 1 \\\\\n",
    "\\end{bmatrix}\n",
    "\n",
    "Feel free to use several lines of code."
   ]
  },
  {
   "cell_type": "code",
   "execution_count": null,
   "id": "eb4a2e45",
   "metadata": {},
   "outputs": [],
   "source": []
  },
  {
   "cell_type": "markdown",
   "id": "15b7ec8b",
   "metadata": {},
   "source": [
    "2. Consider the following array: "
   ]
  },
  {
   "cell_type": "code",
   "execution_count": null,
   "id": "d1cf9cee",
   "metadata": {},
   "outputs": [],
   "source": [
    "array1 = np.array([[1,3,8,2,89],[76,4,7,12,5],[9,31,86,18,13],[19,10,26,28,33]])\n",
    "array1"
   ]
  },
  {
   "cell_type": "markdown",
   "id": "aa84002d",
   "metadata": {},
   "source": [
    "Access the elements containing 12, 5, 18, and 13. Output should be shape (2,2)."
   ]
  },
  {
   "cell_type": "code",
   "execution_count": null,
   "id": "fed32333",
   "metadata": {},
   "outputs": [],
   "source": []
  }
 ],
 "metadata": {
  "kernelspec": {
   "display_name": "Python 3 (ipykernel)",
   "language": "python",
   "name": "python3"
  },
  "language_info": {
   "codemirror_mode": {
    "name": "ipython",
    "version": 3
   },
   "file_extension": ".py",
   "mimetype": "text/x-python",
   "name": "python",
   "nbconvert_exporter": "python",
   "pygments_lexer": "ipython3",
   "version": "3.11.4"
  }
 },
 "nbformat": 4,
 "nbformat_minor": 5
}
