{
 "cells": [
  {
   "cell_type": "markdown",
   "id": "5791e92f",
   "metadata": {},
   "source": [
    "# Method Chaining with NumPy and Intro to Pandas\n",
    "If you want to type along with me, use [this notebook](https://humboldt.cloudbank.2i2c.cloud/hub/user-redirect/git-pull?repo=https%3A%2F%2Fgithub.com%2Fbethanyj0%2Fdata271_sp24&branch=main&urlpath=tree%2Fdata271_sp24%2Fdemos%2Fdata271_demo11_live.ipynb) instead. \n",
    "If you don't want to type and want to follow along just by executing the cells, stay in this notebook. "
   ]
  },
  {
   "cell_type": "code",
   "execution_count": null,
   "id": "1fb3a498",
   "metadata": {},
   "outputs": [],
   "source": [
    "# Whenever you want to use numpy import it with the following code\n",
    "import numpy as np"
   ]
  },
  {
   "cell_type": "markdown",
   "id": "5a0747e9",
   "metadata": {},
   "source": [
    "### NumPy Methods"
   ]
  },
  {
   "cell_type": "code",
   "execution_count": null,
   "id": "8d7c6c92",
   "metadata": {},
   "outputs": [],
   "source": [
    "arr = np.random.randint(1,21,15)\n",
    "arr"
   ]
  },
  {
   "cell_type": "code",
   "execution_count": null,
   "id": "207b8bad",
   "metadata": {},
   "outputs": [],
   "source": [
    "# find the max\n",
    "arr.max()"
   ]
  },
  {
   "cell_type": "code",
   "execution_count": null,
   "id": "5bdec808",
   "metadata": {},
   "outputs": [],
   "source": [
    "# find the min\n",
    "arr.min()"
   ]
  },
  {
   "cell_type": "code",
   "execution_count": null,
   "id": "d71b7022",
   "metadata": {},
   "outputs": [],
   "source": [
    "# find the index of the maximum\n",
    "arr.argmax()"
   ]
  },
  {
   "cell_type": "code",
   "execution_count": null,
   "id": "73fdf0d5",
   "metadata": {},
   "outputs": [],
   "source": [
    "# find the index of the maximum\n",
    "arr.argmin()"
   ]
  },
  {
   "cell_type": "code",
   "execution_count": null,
   "id": "e9f475a5",
   "metadata": {},
   "outputs": [],
   "source": [
    "# find the indices that would sort the array\n",
    "arr.argsort()"
   ]
  },
  {
   "cell_type": "code",
   "execution_count": null,
   "id": "073bd022",
   "metadata": {},
   "outputs": [],
   "source": [
    "arr[arr.argsort()]"
   ]
  },
  {
   "cell_type": "code",
   "execution_count": null,
   "id": "a65d9b24",
   "metadata": {},
   "outputs": [],
   "source": [
    "# find the mean\n",
    "arr.mean()"
   ]
  },
  {
   "cell_type": "code",
   "execution_count": null,
   "id": "62262690",
   "metadata": {},
   "outputs": [],
   "source": [
    "# find the standard deviation\n",
    "arr.std()"
   ]
  },
  {
   "cell_type": "code",
   "execution_count": null,
   "id": "1541bf1e",
   "metadata": {},
   "outputs": [],
   "source": [
    "# add everything up\n",
    "arr.sum()"
   ]
  },
  {
   "cell_type": "code",
   "execution_count": null,
   "id": "143d2bd2",
   "metadata": {},
   "outputs": [],
   "source": [
    "# get cumulative sum element by element\n",
    "arr.cumsum()"
   ]
  },
  {
   "cell_type": "code",
   "execution_count": null,
   "id": "033f7574",
   "metadata": {},
   "outputs": [],
   "source": [
    "# \"peak to peak\" maximum - minimum\n",
    "arr.ptp()"
   ]
  },
  {
   "cell_type": "code",
   "execution_count": null,
   "id": "140a484d",
   "metadata": {},
   "outputs": [],
   "source": [
    "# clip values\n",
    "print(arr.clip(5,15))\n",
    "print(arr)"
   ]
  },
  {
   "cell_type": "markdown",
   "id": "a1530982",
   "metadata": {},
   "source": [
    "### NumPy Methods on 2d arrays"
   ]
  },
  {
   "cell_type": "code",
   "execution_count": null,
   "id": "be07c853",
   "metadata": {
    "scrolled": true
   },
   "outputs": [],
   "source": [
    "arr2d = np.random.randint(1,20,(4,5))\n",
    "arr2d"
   ]
  },
  {
   "cell_type": "code",
   "execution_count": null,
   "id": "fddd31ea",
   "metadata": {},
   "outputs": [],
   "source": [
    "# get max\n",
    "arr2d.max()"
   ]
  },
  {
   "cell_type": "code",
   "execution_count": null,
   "id": "1cf67364",
   "metadata": {},
   "outputs": [],
   "source": [
    "# get max along axis of each column\n",
    "arr2d.max(axis=0)"
   ]
  },
  {
   "cell_type": "code",
   "execution_count": null,
   "id": "44fb9f60",
   "metadata": {},
   "outputs": [],
   "source": [
    "# get max of each row\n",
    "arr2d.max(axis=1)"
   ]
  },
  {
   "cell_type": "code",
   "execution_count": null,
   "id": "96c4371d",
   "metadata": {},
   "outputs": [],
   "source": [
    "# get the index of the maximum element\n",
    "arr2d.argmax()"
   ]
  },
  {
   "cell_type": "code",
   "execution_count": null,
   "id": "ff67d0ae",
   "metadata": {},
   "outputs": [],
   "source": [
    "# get the index of the maximum element in each column\n",
    "arr2d.argmax(axis=0)"
   ]
  },
  {
   "cell_type": "code",
   "execution_count": null,
   "id": "3ad670c2",
   "metadata": {},
   "outputs": [],
   "source": [
    "# get the index of the maximum element in each row\n",
    "arr2d.argmax(axis=1)"
   ]
  },
  {
   "cell_type": "markdown",
   "id": "277887fe",
   "metadata": {},
   "source": [
    "### Method chaining"
   ]
  },
  {
   "cell_type": "code",
   "execution_count": null,
   "id": "b48a1201",
   "metadata": {},
   "outputs": [],
   "source": [
    "# start by reshaping\n",
    "arr2d.reshape((2,10))"
   ]
  },
  {
   "cell_type": "code",
   "execution_count": null,
   "id": "2c05fc3b",
   "metadata": {},
   "outputs": [],
   "source": [
    "# chain: reshape and then take the max of each column\n",
    "arr2d.reshape((2,10)).max(axis=0)"
   ]
  },
  {
   "cell_type": "code",
   "execution_count": null,
   "id": "2495d3e6",
   "metadata": {},
   "outputs": [],
   "source": [
    "# chain: reshape and then take the max of each column then get the average of those\n",
    "arr2d.reshape((2,10)).max(axis=0).mean()"
   ]
  },
  {
   "cell_type": "code",
   "execution_count": null,
   "id": "2c1ee77b",
   "metadata": {},
   "outputs": [],
   "source": [
    "# when your chains start getting long \n",
    "(arr2d.reshape((2,10))\n",
    " .max(axis=0)\n",
    " .mean())"
   ]
  },
  {
   "cell_type": "code",
   "execution_count": null,
   "id": "51719600",
   "metadata": {},
   "outputs": [],
   "source": [
    "# reminder that none of this changes the original array\n",
    "arr2d"
   ]
  },
  {
   "cell_type": "markdown",
   "id": "616862ae",
   "metadata": {},
   "source": [
    "## Activity\n",
    "\n",
    "There are two arrays below:\n",
    "\n",
    "`restaurant_items` is a 2D array. The first row contains appetizers, the second row contains main dishes, and the third row contains beverages. \n",
    "\n",
    "`prices` is a 2D array of the same shape as `restaurant_items`. It contains the prices of each resturant item. \n",
    "\n",
    "Use these to answer the following questions."
   ]
  },
  {
   "cell_type": "code",
   "execution_count": null,
   "id": "5710e4db",
   "metadata": {},
   "outputs": [],
   "source": [
    "restaurant_items = np.array([['fries','salad','soup'],\n",
    "                  ['pizza','pasta','burger'],\n",
    "                  ['soda','iced tea','lemonade']])\n",
    "prices = np.array([[6.50,7.25,4.75],\n",
    "                  [9.50,10.25,10.75],\n",
    "                  [2,2.25,3]])"
   ]
  },
  {
   "cell_type": "markdown",
   "id": "d04bf147",
   "metadata": {},
   "source": [
    "1. Use NumPy methods to determin how much would someone pay for their meal if they ordered the most expensive appetizer, main dish, and beverage? "
   ]
  },
  {
   "cell_type": "code",
   "execution_count": null,
   "id": "cd3db0ed",
   "metadata": {},
   "outputs": [],
   "source": []
  },
  {
   "cell_type": "markdown",
   "id": "45f7377b",
   "metadata": {},
   "source": [
    "2. Use NumPy methods and slicing to create a 1d array containing all the resturaunt items sorted by most expensive to least expensive. "
   ]
  },
  {
   "cell_type": "code",
   "execution_count": null,
   "id": "7834e5d5",
   "metadata": {},
   "outputs": [],
   "source": []
  },
  {
   "cell_type": "markdown",
   "id": "a5975cf1",
   "metadata": {},
   "source": [
    "3. Use NumPy methods and slicing to create a 1d array containing the most expensive appetizer, the most expensive main dish, and the most expensive beverage. "
   ]
  },
  {
   "cell_type": "code",
   "execution_count": null,
   "id": "ede448ab",
   "metadata": {},
   "outputs": [],
   "source": []
  },
  {
   "cell_type": "markdown",
   "id": "e669e1b6",
   "metadata": {},
   "source": [
    "## Pandas"
   ]
  },
  {
   "cell_type": "code",
   "execution_count": null,
   "id": "31acf7bf",
   "metadata": {},
   "outputs": [],
   "source": [
    "# whenever we want to use Pandas\n",
    "import pandas as pd"
   ]
  },
  {
   "cell_type": "markdown",
   "id": "05ae91a4",
   "metadata": {},
   "source": [
    "### Pandas Series"
   ]
  },
  {
   "cell_type": "code",
   "execution_count": null,
   "id": "e2d7f41f",
   "metadata": {},
   "outputs": [],
   "source": [
    "evens_array = np.arange(1,20,2)\n",
    "evens_array"
   ]
  },
  {
   "cell_type": "code",
   "execution_count": null,
   "id": "1d45818b",
   "metadata": {},
   "outputs": [],
   "source": [
    "evens_series = pd.Series(evens_array,name = \"even numbers\")\n",
    "evens_series"
   ]
  },
  {
   "cell_type": "code",
   "execution_count": null,
   "id": "758e7a7b",
   "metadata": {},
   "outputs": [],
   "source": [
    "lst = ['data','science','math']"
   ]
  },
  {
   "cell_type": "code",
   "execution_count": null,
   "id": "3c796cea",
   "metadata": {},
   "outputs": [],
   "source": [
    "pd.Series(lst)"
   ]
  },
  {
   "cell_type": "code",
   "execution_count": null,
   "id": "3beeaee7",
   "metadata": {
    "scrolled": true
   },
   "outputs": [],
   "source": [
    "tup = (2,3,5)\n",
    "tup_series = pd.Series(tup)"
   ]
  },
  {
   "cell_type": "code",
   "execution_count": null,
   "id": "211838ad",
   "metadata": {},
   "outputs": [],
   "source": [
    "tup_series.index = ['two','three','five']\n",
    "tup_series"
   ]
  },
  {
   "cell_type": "code",
   "execution_count": null,
   "id": "cfb815e4",
   "metadata": {},
   "outputs": [],
   "source": [
    "tup_series['two']"
   ]
  },
  {
   "cell_type": "markdown",
   "id": "b83fb11e",
   "metadata": {},
   "source": [
    "##### Series attributes"
   ]
  },
  {
   "cell_type": "code",
   "execution_count": null,
   "id": "35538ebb",
   "metadata": {},
   "outputs": [],
   "source": [
    "evens_series.dtype"
   ]
  },
  {
   "cell_type": "code",
   "execution_count": null,
   "id": "b99480c4",
   "metadata": {},
   "outputs": [],
   "source": [
    "evens_series.shape"
   ]
  },
  {
   "cell_type": "code",
   "execution_count": null,
   "id": "c608aa15",
   "metadata": {},
   "outputs": [],
   "source": [
    "evens_series.index"
   ]
  },
  {
   "cell_type": "code",
   "execution_count": null,
   "id": "ee49af68",
   "metadata": {},
   "outputs": [],
   "source": [
    "evens_series.values"
   ]
  },
  {
   "cell_type": "markdown",
   "id": "9864577f",
   "metadata": {},
   "source": [
    "### Pandas dataframes"
   ]
  },
  {
   "cell_type": "code",
   "execution_count": null,
   "id": "d6bae2e8",
   "metadata": {},
   "outputs": [],
   "source": [
    "my_dict = {'fruit':['apple','banana','orange'],\n",
    "          'color':['red','yellow','orange'],\n",
    "          'yum score':[5,5,5],\n",
    "          'in fridge':[True, False, True],\n",
    "          'number':[3,4,0]}"
   ]
  },
  {
   "cell_type": "code",
   "execution_count": null,
   "id": "d8047b91",
   "metadata": {},
   "outputs": [],
   "source": [
    "fruit_df = pd.DataFrame(my_dict)\n",
    "fruit_df"
   ]
  },
  {
   "cell_type": "code",
   "execution_count": null,
   "id": "b911a930",
   "metadata": {},
   "outputs": [],
   "source": [
    "list_of_tups = [(i,i**2,i**3) for i in range(10)]\n",
    "list_of_tups"
   ]
  },
  {
   "cell_type": "code",
   "execution_count": null,
   "id": "a79a0945",
   "metadata": {},
   "outputs": [],
   "source": [
    "squares_and_cubes = pd.DataFrame(list_of_tups,columns = ['n','squared','cubed'])\n",
    "squares_and_cubes"
   ]
  },
  {
   "cell_type": "markdown",
   "id": "5d0547bf",
   "metadata": {},
   "source": [
    "##### Dataframe attributes"
   ]
  },
  {
   "cell_type": "code",
   "execution_count": null,
   "id": "0c56b4d3",
   "metadata": {},
   "outputs": [],
   "source": [
    "fruit_df.dtypes"
   ]
  },
  {
   "cell_type": "code",
   "execution_count": null,
   "id": "43defaac",
   "metadata": {},
   "outputs": [],
   "source": [
    "fruit_df.shape"
   ]
  },
  {
   "cell_type": "code",
   "execution_count": null,
   "id": "6c1ad4bb",
   "metadata": {},
   "outputs": [],
   "source": [
    "fruit_df.index"
   ]
  },
  {
   "cell_type": "code",
   "execution_count": null,
   "id": "2bf363b8",
   "metadata": {},
   "outputs": [],
   "source": [
    "fruit_df.values"
   ]
  },
  {
   "cell_type": "code",
   "execution_count": null,
   "id": "f7a86a7b",
   "metadata": {},
   "outputs": [],
   "source": [
    "fruit_df.columns"
   ]
  }
 ],
 "metadata": {
  "kernelspec": {
   "display_name": "Python 3 (ipykernel)",
   "language": "python",
   "name": "python3"
  },
  "language_info": {
   "codemirror_mode": {
    "name": "ipython",
    "version": 3
   },
   "file_extension": ".py",
   "mimetype": "text/x-python",
   "name": "python",
   "nbconvert_exporter": "python",
   "pygments_lexer": "ipython3",
   "version": "3.11.4"
  }
 },
 "nbformat": 4,
 "nbformat_minor": 5
}
