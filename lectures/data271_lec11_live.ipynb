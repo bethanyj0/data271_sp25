{
 "cells": [
  {
   "cell_type": "markdown",
   "id": "5791e92f",
   "metadata": {},
   "source": [
    "# Method Chaining with NumPy and Intro to Pandas\n",
    "If you want to type along with me, use [this notebook](https://humboldt.cloudbank.2i2c.cloud/hub/user-redirect/git-pull?repo=https%3A%2F%2Fgithub.com%2Fbethanyj0%2Fdata271_sp24&branch=main&urlpath=tree%2Fdata271_sp24%2Fdemos%2Fdata271_demo11_live.ipynb) instead. \n",
    "If you don't want to type and want to follow along just by executing the cells, stay in this notebook. "
   ]
  },
  {
   "cell_type": "code",
   "execution_count": null,
   "id": "1fb3a498",
   "metadata": {},
   "outputs": [],
   "source": [
    "# Whenever you want to use numpy import it with the following code\n",
    "import numpy as np"
   ]
  },
  {
   "cell_type": "markdown",
   "id": "5a0747e9",
   "metadata": {},
   "source": [
    "### NumPy Methods"
   ]
  },
  {
   "cell_type": "code",
   "execution_count": null,
   "id": "8d7c6c92",
   "metadata": {},
   "outputs": [],
   "source": [
    "arr = np.random.randint(1,21,15)\n",
    "arr"
   ]
  },
  {
   "cell_type": "code",
   "execution_count": null,
   "id": "207b8bad",
   "metadata": {},
   "outputs": [],
   "source": [
    "# find the max\n"
   ]
  },
  {
   "cell_type": "code",
   "execution_count": null,
   "id": "f53d4453",
   "metadata": {},
   "outputs": [],
   "source": [
    "# find the min\n"
   ]
  },
  {
   "cell_type": "code",
   "execution_count": null,
   "id": "3b7ff8cc",
   "metadata": {},
   "outputs": [],
   "source": [
    "# find the index of the maximum\n"
   ]
  },
  {
   "cell_type": "code",
   "execution_count": null,
   "id": "8aec66e0",
   "metadata": {},
   "outputs": [],
   "source": [
    "# find the index of the maximum\n"
   ]
  },
  {
   "cell_type": "code",
   "execution_count": null,
   "id": "d1b26849",
   "metadata": {},
   "outputs": [],
   "source": [
    "# find the indices that would sort the array\n"
   ]
  },
  {
   "cell_type": "code",
   "execution_count": null,
   "id": "d1966428",
   "metadata": {},
   "outputs": [],
   "source": []
  },
  {
   "cell_type": "code",
   "execution_count": null,
   "id": "44797c91",
   "metadata": {},
   "outputs": [],
   "source": [
    "# find the mean\n"
   ]
  },
  {
   "cell_type": "code",
   "execution_count": null,
   "id": "c34991cf",
   "metadata": {},
   "outputs": [],
   "source": [
    "# find the standard deviation\n"
   ]
  },
  {
   "cell_type": "code",
   "execution_count": null,
   "id": "63301e4c",
   "metadata": {},
   "outputs": [],
   "source": [
    "# add everything up\n"
   ]
  },
  {
   "cell_type": "code",
   "execution_count": null,
   "id": "4bab39e1",
   "metadata": {},
   "outputs": [],
   "source": [
    "# get cumulative sum element by element\n"
   ]
  },
  {
   "cell_type": "code",
   "execution_count": null,
   "id": "d39689d7",
   "metadata": {},
   "outputs": [],
   "source": [
    "# \"peak to peak\" maximum - minimum\n"
   ]
  },
  {
   "cell_type": "code",
   "execution_count": null,
   "id": "4163b8dc",
   "metadata": {},
   "outputs": [],
   "source": [
    "# clip values\n",
    "print()\n",
    "print(arr)"
   ]
  },
  {
   "cell_type": "markdown",
   "id": "42c9fc30",
   "metadata": {},
   "source": [
    "### NumPy Methods on 2d arrays"
   ]
  },
  {
   "cell_type": "code",
   "execution_count": null,
   "id": "2ac2db7f",
   "metadata": {
    "scrolled": true
   },
   "outputs": [],
   "source": [
    "arr2d = np.random.randint(1,20,(4,5))\n",
    "arr2d"
   ]
  },
  {
   "cell_type": "code",
   "execution_count": null,
   "id": "a12442aa",
   "metadata": {},
   "outputs": [],
   "source": [
    "# get max\n",
    "arr2d.max()"
   ]
  },
  {
   "cell_type": "code",
   "execution_count": null,
   "id": "5d466e6e",
   "metadata": {},
   "outputs": [],
   "source": [
    "# get max along axis of each column\n",
    "arr2d.max(...)"
   ]
  },
  {
   "cell_type": "code",
   "execution_count": null,
   "id": "45406cde",
   "metadata": {},
   "outputs": [],
   "source": [
    "# get max of each row\n",
    "arr2d.max(...)"
   ]
  },
  {
   "cell_type": "code",
   "execution_count": null,
   "id": "5068478a",
   "metadata": {},
   "outputs": [],
   "source": [
    "# get the index of the maximum element\n",
    "arr2d.argmax()"
   ]
  },
  {
   "cell_type": "code",
   "execution_count": null,
   "id": "01efb4e7",
   "metadata": {},
   "outputs": [],
   "source": [
    "# get the index of the maximum element in each column\n",
    "arr2d.argmax(...)"
   ]
  },
  {
   "cell_type": "code",
   "execution_count": null,
   "id": "2ded9ecd",
   "metadata": {},
   "outputs": [],
   "source": [
    "# get the index of the maximum element in each row\n",
    "arr2d.argmax(...)"
   ]
  },
  {
   "cell_type": "markdown",
   "id": "c9d092fc",
   "metadata": {},
   "source": [
    "### Method chaining"
   ]
  },
  {
   "cell_type": "code",
   "execution_count": null,
   "id": "cb0db4b0",
   "metadata": {},
   "outputs": [],
   "source": [
    "# start by reshaping\n"
   ]
  },
  {
   "cell_type": "code",
   "execution_count": null,
   "id": "47d71d2f",
   "metadata": {},
   "outputs": [],
   "source": [
    "# chain: reshape and then take the max of each column\n",
    "arr2d.reshape((2,10))"
   ]
  },
  {
   "cell_type": "code",
   "execution_count": null,
   "id": "7aecfd1d",
   "metadata": {},
   "outputs": [],
   "source": [
    "# chain: reshape and then take the max of each column then get the average of those\n",
    "arr2d.reshape((2,10)).max(axis=0)"
   ]
  },
  {
   "cell_type": "code",
   "execution_count": null,
   "id": "bbd59016",
   "metadata": {},
   "outputs": [],
   "source": [
    "# when your chains start getting long \n"
   ]
  },
  {
   "cell_type": "code",
   "execution_count": null,
   "id": "9817614d",
   "metadata": {},
   "outputs": [],
   "source": [
    "# reminder that none of this changes the original array\n",
    "arr2d"
   ]
  },
  {
   "cell_type": "markdown",
   "id": "b3213266",
   "metadata": {},
   "source": [
    "## Activity\n",
    "\n",
    "There are two arrays below:\n",
    "\n",
    "`restaurant_items` is a 2D array. The first row contains appetizers, the second row contains main dishes, and the third row contains beverages. \n",
    "\n",
    "`prices` is a 2D array of the same shape as `restaurant_items`. It contains the prices of each resturant item. \n",
    "\n",
    "Use these to answer the following questions."
   ]
  },
  {
   "cell_type": "code",
   "execution_count": null,
   "id": "7e60edf0",
   "metadata": {},
   "outputs": [],
   "source": [
    "restaurant_items = np.array([['fries','salad','soup'],\n",
    "                  ['pizza','pasta','burger'],\n",
    "                  ['soda','iced tea','lemonade']])\n",
    "prices = np.array([[6.50,7.25,4.75],\n",
    "                  [9.50,10.25,10.75],\n",
    "                  [2,2.25,3]])"
   ]
  },
  {
   "cell_type": "markdown",
   "id": "e58c4444",
   "metadata": {},
   "source": [
    "1. Use NumPy methods to determin how much would someone pay for their meal if they ordered the most expensive appetizer, main dish, and beverage? "
   ]
  },
  {
   "cell_type": "code",
   "execution_count": null,
   "id": "4a546db4",
   "metadata": {},
   "outputs": [],
   "source": []
  },
  {
   "cell_type": "markdown",
   "id": "0ef4e6af",
   "metadata": {},
   "source": [
    "2. Use NumPy methods and slicing to create a 1d array containing all the resturaunt items sorted by most expensive to least expensive. "
   ]
  },
  {
   "cell_type": "code",
   "execution_count": null,
   "id": "6f8eca2b",
   "metadata": {},
   "outputs": [],
   "source": []
  },
  {
   "cell_type": "markdown",
   "id": "6b2dabc1",
   "metadata": {},
   "source": [
    "3. Use NumPy methods and slicing to create a 1d array containing the most expensive appetizer, the most expensive main dish, and the most expensive beverage. "
   ]
  },
  {
   "cell_type": "code",
   "execution_count": null,
   "id": "911c6563",
   "metadata": {},
   "outputs": [],
   "source": []
  },
  {
   "cell_type": "markdown",
   "id": "e05454ed",
   "metadata": {},
   "source": [
    "## Pandas"
   ]
  },
  {
   "cell_type": "code",
   "execution_count": null,
   "id": "83f8b915",
   "metadata": {},
   "outputs": [],
   "source": [
    "# whenever we want to use Pandas\n",
    "import pandas as pd"
   ]
  },
  {
   "cell_type": "markdown",
   "id": "70dc1937",
   "metadata": {},
   "source": [
    "### Pandas Series"
   ]
  },
  {
   "cell_type": "code",
   "execution_count": null,
   "id": "d68d2a05",
   "metadata": {},
   "outputs": [],
   "source": [
    "evens_array = np.arange(1,20,2)\n",
    "evens_array"
   ]
  },
  {
   "cell_type": "code",
   "execution_count": null,
   "id": "4c1439be",
   "metadata": {},
   "outputs": [],
   "source": [
    "evens_series = \n",
    "evens_series"
   ]
  },
  {
   "cell_type": "code",
   "execution_count": null,
   "id": "9aeaf1f9",
   "metadata": {},
   "outputs": [],
   "source": [
    "lst = ['data','science','math']"
   ]
  },
  {
   "cell_type": "code",
   "execution_count": null,
   "id": "61c41448",
   "metadata": {},
   "outputs": [],
   "source": []
  },
  {
   "cell_type": "code",
   "execution_count": null,
   "id": "f6fe8926",
   "metadata": {
    "scrolled": true
   },
   "outputs": [],
   "source": [
    "tup = (2,3,5)\n",
    "tup_series = \n",
    "tup_series"
   ]
  },
  {
   "cell_type": "code",
   "execution_count": null,
   "id": "0edc38f5",
   "metadata": {},
   "outputs": [],
   "source": [
    "tup_series.index = ['two','three','five']\n",
    "tup_series"
   ]
  },
  {
   "cell_type": "code",
   "execution_count": null,
   "id": "3099e5e4",
   "metadata": {},
   "outputs": [],
   "source": [
    "tup_series['two']"
   ]
  },
  {
   "cell_type": "markdown",
   "id": "4ac45f85",
   "metadata": {},
   "source": [
    "##### Series attributes"
   ]
  },
  {
   "cell_type": "code",
   "execution_count": null,
   "id": "2100f380",
   "metadata": {},
   "outputs": [],
   "source": [
    "evens_series."
   ]
  },
  {
   "cell_type": "code",
   "execution_count": null,
   "id": "63cf1d23",
   "metadata": {},
   "outputs": [],
   "source": [
    "evens_series."
   ]
  },
  {
   "cell_type": "code",
   "execution_count": null,
   "id": "7c736261",
   "metadata": {},
   "outputs": [],
   "source": [
    "evens_series."
   ]
  },
  {
   "cell_type": "code",
   "execution_count": null,
   "id": "acf6005a",
   "metadata": {},
   "outputs": [],
   "source": [
    "evens_series."
   ]
  },
  {
   "cell_type": "markdown",
   "id": "b44dbd39",
   "metadata": {},
   "source": [
    "### Pandas dataframes"
   ]
  },
  {
   "cell_type": "code",
   "execution_count": null,
   "id": "73290bbb",
   "metadata": {},
   "outputs": [],
   "source": [
    "my_dict = {'fruit':['apple','banana','orange'],\n",
    "          'color':['red','yellow','orange'],\n",
    "          'yum score':[5,5,5],\n",
    "          'in fridge':[True, False, True],\n",
    "          'number':[3,4,0]}"
   ]
  },
  {
   "cell_type": "code",
   "execution_count": null,
   "id": "01800b4e",
   "metadata": {},
   "outputs": [],
   "source": [
    "fruit_df = \n",
    "fruit_df"
   ]
  },
  {
   "cell_type": "code",
   "execution_count": null,
   "id": "23fbac25",
   "metadata": {},
   "outputs": [],
   "source": [
    "list_of_tups = [(i,i**2,i**3) for i in range(10)]\n",
    "list_of_tups"
   ]
  },
  {
   "cell_type": "code",
   "execution_count": null,
   "id": "77313354",
   "metadata": {},
   "outputs": [],
   "source": [
    "squares_and_cubes = \n",
    "squares_and_cubes"
   ]
  },
  {
   "cell_type": "markdown",
   "id": "021eec63",
   "metadata": {},
   "source": [
    "##### Dataframe attributes"
   ]
  },
  {
   "cell_type": "code",
   "execution_count": null,
   "id": "c7a3970e",
   "metadata": {},
   "outputs": [],
   "source": [
    "fruit_df."
   ]
  },
  {
   "cell_type": "code",
   "execution_count": null,
   "id": "6451ade5",
   "metadata": {},
   "outputs": [],
   "source": [
    "fruit_df."
   ]
  },
  {
   "cell_type": "code",
   "execution_count": null,
   "id": "00814e1b",
   "metadata": {},
   "outputs": [],
   "source": [
    "fruit_df."
   ]
  },
  {
   "cell_type": "code",
   "execution_count": null,
   "id": "ff8cc3e1",
   "metadata": {},
   "outputs": [],
   "source": [
    "fruit_df."
   ]
  },
  {
   "cell_type": "code",
   "execution_count": null,
   "id": "52c5d105",
   "metadata": {},
   "outputs": [],
   "source": [
    "fruit_df."
   ]
  }
 ],
 "metadata": {
  "kernelspec": {
   "display_name": "Python 3 (ipykernel)",
   "language": "python",
   "name": "python3"
  },
  "language_info": {
   "codemirror_mode": {
    "name": "ipython",
    "version": 3
   },
   "file_extension": ".py",
   "mimetype": "text/x-python",
   "name": "python",
   "nbconvert_exporter": "python",
   "pygments_lexer": "ipython3",
   "version": "3.11.4"
  }
 },
 "nbformat": 4,
 "nbformat_minor": 5
}
