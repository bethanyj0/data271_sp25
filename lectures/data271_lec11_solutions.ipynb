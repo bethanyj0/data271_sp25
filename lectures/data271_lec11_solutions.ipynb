{
 "cells": [
  {
   "cell_type": "markdown",
   "id": "5791e92f",
   "metadata": {},
   "source": [
    "# Method Chaining with NumPy and Intro to Pandas\n",
    "If you want to type along with me, use [this notebook](https://humboldt.cloudbank.2i2c.cloud/hub/user-redirect/git-pull?repo=https%3A%2F%2Fgithub.com%2Fbethanyj0%2Fdata271_sp25&branch=main&urlpath=tree%2Fdata271_sp25%2Flectures%2Fdata271_lec11_live.ipynb) instead. \n",
    "If you don't want to type and want to follow along just by executing the cells, stay in this notebook. "
   ]
  },
  {
   "cell_type": "code",
   "execution_count": null,
   "id": "1fb3a498",
   "metadata": {},
   "outputs": [],
   "source": [
    "# Whenever you want to use numpy import it with the following code\n",
    "import numpy as np"
   ]
  },
  {
   "cell_type": "markdown",
   "id": "277887fe",
   "metadata": {},
   "source": [
    "### Method chaining"
   ]
  },
  {
   "cell_type": "code",
   "execution_count": null,
   "id": "a75b9693-b0f4-4bb0-bbfd-51fb831cd618",
   "metadata": {
    "tags": []
   },
   "outputs": [],
   "source": [
    "arr2d = np.random.randint(0,20,(5,4))\n",
    "arr2d"
   ]
  },
  {
   "cell_type": "code",
   "execution_count": null,
   "id": "b48a1201",
   "metadata": {},
   "outputs": [],
   "source": [
    "# start by reshaping\n",
    "arr2d.reshape((2,10))"
   ]
  },
  {
   "cell_type": "code",
   "execution_count": null,
   "id": "2c05fc3b",
   "metadata": {},
   "outputs": [],
   "source": [
    "# chain: reshape and then take the max of each column\n",
    "arr2d.reshape((2,10)).max(axis=0)"
   ]
  },
  {
   "cell_type": "code",
   "execution_count": null,
   "id": "2495d3e6",
   "metadata": {},
   "outputs": [],
   "source": [
    "# chain: reshape and then take the max of each column then get the average of those\n",
    "arr2d.reshape((2,10)).max(axis=0).mean()"
   ]
  },
  {
   "cell_type": "code",
   "execution_count": null,
   "id": "2c1ee77b",
   "metadata": {},
   "outputs": [],
   "source": [
    "# when your chains start getting long \n",
    "(arr2d.reshape((2,10))\n",
    " .max(axis=0)\n",
    " .mean())"
   ]
  },
  {
   "cell_type": "code",
   "execution_count": null,
   "id": "51719600",
   "metadata": {},
   "outputs": [],
   "source": [
    "# reminder that this doesn't change the original array\n",
    "arr2d"
   ]
  },
  {
   "cell_type": "markdown",
   "id": "616862ae",
   "metadata": {},
   "source": [
    "## Activity\n",
    "\n",
    "There are two arrays below:\n",
    "\n",
    "`restaurant_items` is a 2D array:\n",
    "- Row 1: appetizers\n",
    "- Row 2: main dishes\n",
    "- Row 3: beverages\n",
    "\n",
    "`prices` is a 2D array of the same shape as `restaurant_items`. It contains the prices of each corresponding resturant item. \n",
    "\n",
    "Use these to answer the following questions."
   ]
  },
  {
   "cell_type": "code",
   "execution_count": null,
   "id": "5710e4db",
   "metadata": {},
   "outputs": [],
   "source": [
    "restaurant_items = np.array([['fries','salad','soup'],\n",
    "                  ['pizza','pasta','burger'],\n",
    "                  ['soda','iced tea','lemonade']])\n",
    "prices = np.array([[6.50,7.25,4.75],\n",
    "                  [9.50,10.25,10.75],\n",
    "                  [2,2.25,3]])"
   ]
  },
  {
   "cell_type": "markdown",
   "id": "d04bf147",
   "metadata": {},
   "source": [
    "1. Use NumPy methods to determine how much would someone pay for their meal if they ordered the most expensive appetizer, main dish, and beverage? "
   ]
  },
  {
   "cell_type": "code",
   "execution_count": null,
   "id": "cd3db0ed",
   "metadata": {},
   "outputs": [],
   "source": []
  },
  {
   "cell_type": "markdown",
   "id": "45f7377b",
   "metadata": {},
   "source": [
    "2. Use NumPy methods and slicing to create a 1d array containing all the resturaunt items sorted by most expensive to least expensive. "
   ]
  },
  {
   "cell_type": "code",
   "execution_count": null,
   "id": "7834e5d5",
   "metadata": {},
   "outputs": [],
   "source": []
  },
  {
   "cell_type": "markdown",
   "id": "a5975cf1",
   "metadata": {},
   "source": [
    "3. Use NumPy methods and slicing to create a 1d array containing the most expensive appetizer, the most expensive main dish, and the most expensive beverage. "
   ]
  },
  {
   "cell_type": "code",
   "execution_count": null,
   "id": "ede448ab",
   "metadata": {},
   "outputs": [],
   "source": []
  },
  {
   "cell_type": "markdown",
   "id": "e669e1b6",
   "metadata": {},
   "source": [
    "## Pandas"
   ]
  },
  {
   "cell_type": "code",
   "execution_count": null,
   "id": "31acf7bf",
   "metadata": {},
   "outputs": [],
   "source": [
    "# whenever we want to use Pandas\n",
    "import pandas as pd"
   ]
  },
  {
   "cell_type": "markdown",
   "id": "05ae91a4",
   "metadata": {},
   "source": [
    "### Creating Pandas Series"
   ]
  },
  {
   "cell_type": "code",
   "execution_count": null,
   "id": "1d45818b",
   "metadata": {},
   "outputs": [],
   "source": [
    "# Create a series from array\n",
    "arr_series = pd.Series(arr2d.ravel()[:5])\n",
    "arr_series"
   ]
  },
  {
   "cell_type": "code",
   "execution_count": null,
   "id": "3c796cea",
   "metadata": {},
   "outputs": [],
   "source": [
    "# Create a series from list\n",
    "lst = ['data','science','math']\n",
    "lst_series = pd.Series(lst)\n",
    "lst_series"
   ]
  },
  {
   "cell_type": "code",
   "execution_count": null,
   "id": "3beeaee7",
   "metadata": {
    "scrolled": true
   },
   "outputs": [],
   "source": [
    "# Create a series from tuple\n",
    "tup = (2,3,5)\n",
    "tup_series = pd.Series(tup)\n",
    "tup_series"
   ]
  },
  {
   "cell_type": "code",
   "execution_count": null,
   "id": "27a2ea18-2bfc-4033-83df-67b22b00af2f",
   "metadata": {
    "tags": []
   },
   "outputs": [],
   "source": [
    "# Create a series from dict (keys become index, values become data)\n",
    "dct = {\"one\": 1, \"two\": 2, \"three\": 3}\n",
    "dct_series = pd.Series(dct)\n",
    "dct_series"
   ]
  },
  {
   "cell_type": "code",
   "execution_count": null,
   "id": "f198ee00-ad0f-4d2c-975e-55ed17176149",
   "metadata": {
    "tags": []
   },
   "outputs": [],
   "source": [
    "# Specify indicies when creating a series\n",
    "tup_series_w_index = pd.Series(tup, index = ['two','three','five'])\n",
    "tup_series_w_index"
   ]
  },
  {
   "cell_type": "code",
   "execution_count": null,
   "id": "211838ad",
   "metadata": {},
   "outputs": [],
   "source": [
    "# Specify indicies after\n",
    "tup_series.index = ['two','three','five']\n",
    "tup_series"
   ]
  },
  {
   "cell_type": "code",
   "execution_count": null,
   "id": "aa733160-5d66-4b49-8d23-b58739c54238",
   "metadata": {
    "tags": []
   },
   "outputs": [],
   "source": [
    "# Can also name your series\n",
    "tup_series_w_index_name = pd.Series(tup, index = ['two','three','five'],name='nums')\n",
    "tup_series_w_index_name"
   ]
  },
  {
   "cell_type": "markdown",
   "id": "b83fb11e",
   "metadata": {},
   "source": [
    "### Series attributes"
   ]
  },
  {
   "cell_type": "code",
   "execution_count": null,
   "id": "35538ebb",
   "metadata": {},
   "outputs": [],
   "source": [
    "arr_series.dtype"
   ]
  },
  {
   "cell_type": "code",
   "execution_count": null,
   "id": "b99480c4",
   "metadata": {},
   "outputs": [],
   "source": [
    "arr_series.shape"
   ]
  },
  {
   "cell_type": "code",
   "execution_count": null,
   "id": "c608aa15",
   "metadata": {},
   "outputs": [],
   "source": [
    "arr_series.index"
   ]
  },
  {
   "cell_type": "code",
   "execution_count": null,
   "id": "408a4a31-d145-4b3f-8609-2d274dd796c3",
   "metadata": {
    "tags": []
   },
   "outputs": [],
   "source": [
    "tup_series_w_index_name.index"
   ]
  },
  {
   "cell_type": "code",
   "execution_count": null,
   "id": "ee49af68",
   "metadata": {},
   "outputs": [],
   "source": [
    "arr_series.values"
   ]
  },
  {
   "cell_type": "code",
   "execution_count": null,
   "id": "6b0fedb4-cf5a-4f56-be70-4e3c31510b20",
   "metadata": {
    "tags": []
   },
   "outputs": [],
   "source": [
    "tup_series_w_index_name.name"
   ]
  },
  {
   "cell_type": "markdown",
   "id": "483afde5-85de-46be-aa78-9811e7a8d841",
   "metadata": {},
   "source": [
    "### Accessing Elements"
   ]
  },
  {
   "cell_type": "code",
   "execution_count": null,
   "id": "f77f5853-6943-4182-9e74-a33feed67f25",
   "metadata": {
    "tags": []
   },
   "outputs": [],
   "source": [
    "dct_series"
   ]
  },
  {
   "cell_type": "code",
   "execution_count": null,
   "id": "24bc62bc-e840-4321-b7fc-8c346b564ce0",
   "metadata": {
    "tags": []
   },
   "outputs": [],
   "source": [
    "# Access elements by their index (bracket notation)\n",
    "dct_series['one']"
   ]
  },
  {
   "cell_type": "code",
   "execution_count": null,
   "id": "d6bd33aa-4c0f-44bb-957f-3400be12927f",
   "metadata": {
    "tags": []
   },
   "outputs": [],
   "source": [
    "# Access elements by their index (dot/attribute notation)\n",
    "dct_series.one"
   ]
  },
  {
   "cell_type": "code",
   "execution_count": null,
   "id": "809cedd2-09ec-4b61-b670-7e971567170b",
   "metadata": {
    "tags": []
   },
   "outputs": [],
   "source": [
    "# Accessing elements by their position\n",
    "dct_series[0]"
   ]
  },
  {
   "cell_type": "code",
   "execution_count": null,
   "id": "e595f1c8-7d71-446e-9215-eb1a9256b858",
   "metadata": {
    "tags": []
   },
   "outputs": [],
   "source": [
    "# Slicing by index (inclusive stop)\n",
    "dct_series['one':'three']"
   ]
  },
  {
   "cell_type": "code",
   "execution_count": null,
   "id": "c93e0d82-dcc2-4e92-8398-d10a57775987",
   "metadata": {
    "tags": []
   },
   "outputs": [],
   "source": [
    "# Slicing by position (exclusive stop)\n",
    "dct_series[0:2]"
   ]
  },
  {
   "cell_type": "code",
   "execution_count": null,
   "id": "059e6391-ea14-472b-bf0e-8fcfb9948a30",
   "metadata": {
    "tags": []
   },
   "outputs": [],
   "source": [
    "# These different ways of accessing elements can get confusing if indices are ints\n",
    "new_series = pd.Series({1:1,2:2,3:3,4:4,5:5})\n",
    "new_series"
   ]
  },
  {
   "cell_type": "code",
   "execution_count": null,
   "id": "f46c0035-6f4d-4d85-8904-23be2e13f3d1",
   "metadata": {
    "tags": []
   },
   "outputs": [],
   "source": [
    "# Are we accessing by index or position here?\n",
    "new_series[1]"
   ]
  },
  {
   "cell_type": "code",
   "execution_count": null,
   "id": "7ef74367-f548-4537-95d9-cef040f5ac42",
   "metadata": {
    "tags": []
   },
   "outputs": [],
   "source": [
    "# Are we slicing by index or position here?\n",
    "new_series[1:3]"
   ]
  },
  {
   "cell_type": "markdown",
   "id": "74b23c55-51cd-4fe7-825c-1b4314e57859",
   "metadata": {
    "tags": []
   },
   "source": [
    "Be explicit with `.loc` (for index-based access) and `.iloc` (for position-based access)"
   ]
  },
  {
   "cell_type": "code",
   "execution_count": null,
   "id": "61b8c230-b2da-412f-a86a-7264780773ef",
   "metadata": {
    "tags": []
   },
   "outputs": [],
   "source": [
    "# Access by index\n",
    "new_series.loc[1]"
   ]
  },
  {
   "cell_type": "code",
   "execution_count": null,
   "id": "b71ab775-449f-49a9-9942-b9381e951cf2",
   "metadata": {
    "tags": []
   },
   "outputs": [],
   "source": [
    "# Access by position\n",
    "new_series.iloc[1]"
   ]
  },
  {
   "cell_type": "code",
   "execution_count": null,
   "id": "e32fa961-0d51-4bd0-9bce-50dcfb027abd",
   "metadata": {
    "tags": []
   },
   "outputs": [],
   "source": [
    "# Slice by index\n",
    "new_series.loc[1:3]"
   ]
  },
  {
   "cell_type": "code",
   "execution_count": null,
   "id": "30273319-52ef-4268-b80e-8e2cc8967b54",
   "metadata": {
    "tags": []
   },
   "outputs": [],
   "source": [
    "# Slice by position\n",
    "new_series.iloc[1:3]"
   ]
  },
  {
   "cell_type": "markdown",
   "id": "9864577f",
   "metadata": {},
   "source": [
    "### Pandas dataframes"
   ]
  },
  {
   "cell_type": "code",
   "execution_count": null,
   "id": "d6bae2e8",
   "metadata": {},
   "outputs": [],
   "source": [
    "my_dict = {'fruit':['apple','banana','orange'],\n",
    "          'color':['red','yellow','orange'],\n",
    "          'yum score':[5,5,5],\n",
    "          'in fridge':[True, False, True],\n",
    "          'number':[3,4,0]}"
   ]
  },
  {
   "cell_type": "code",
   "execution_count": null,
   "id": "d8047b91",
   "metadata": {},
   "outputs": [],
   "source": [
    "fruit_df = pd.DataFrame(my_dict)\n",
    "fruit_df"
   ]
  },
  {
   "cell_type": "code",
   "execution_count": null,
   "id": "b911a930",
   "metadata": {},
   "outputs": [],
   "source": [
    "list_of_tups = [(i,i**2,i**3) for i in range(10)]\n",
    "list_of_tups"
   ]
  },
  {
   "cell_type": "code",
   "execution_count": null,
   "id": "a79a0945",
   "metadata": {},
   "outputs": [],
   "source": [
    "squares_and_cubes = pd.DataFrame(list_of_tups,columns = ['n','squared','cubed'])\n",
    "squares_and_cubes"
   ]
  },
  {
   "cell_type": "markdown",
   "id": "5d0547bf",
   "metadata": {},
   "source": [
    "##### Dataframe attributes"
   ]
  },
  {
   "cell_type": "code",
   "execution_count": null,
   "id": "0c56b4d3",
   "metadata": {},
   "outputs": [],
   "source": [
    "fruit_df.dtypes"
   ]
  },
  {
   "cell_type": "code",
   "execution_count": null,
   "id": "43defaac",
   "metadata": {},
   "outputs": [],
   "source": [
    "fruit_df.shape"
   ]
  },
  {
   "cell_type": "code",
   "execution_count": null,
   "id": "6c1ad4bb",
   "metadata": {},
   "outputs": [],
   "source": [
    "fruit_df.index"
   ]
  },
  {
   "cell_type": "code",
   "execution_count": null,
   "id": "2bf363b8",
   "metadata": {},
   "outputs": [],
   "source": [
    "fruit_df.values"
   ]
  },
  {
   "cell_type": "code",
   "execution_count": null,
   "id": "f7a86a7b",
   "metadata": {},
   "outputs": [],
   "source": [
    "fruit_df.columns"
   ]
  },
  {
   "cell_type": "code",
   "execution_count": null,
   "id": "95574226-10a9-4fc2-8e19-0e62e5b3f23e",
   "metadata": {},
   "outputs": [],
   "source": []
  }
 ],
 "metadata": {
  "kernelspec": {
   "display_name": "Python 3 (ipykernel)",
   "language": "python",
   "name": "python3"
  },
  "language_info": {
   "codemirror_mode": {
    "name": "ipython",
    "version": 3
   },
   "file_extension": ".py",
   "mimetype": "text/x-python",
   "name": "python",
   "nbconvert_exporter": "python",
   "pygments_lexer": "ipython3",
   "version": "3.11.4"
  }
 },
 "nbformat": 4,
 "nbformat_minor": 5
}
