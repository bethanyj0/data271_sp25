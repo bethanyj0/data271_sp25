{
 "cells": [
  {
   "cell_type": "markdown",
   "id": "5791e92f",
   "metadata": {},
   "source": [
    "# Intro to Pandas\n",
    "If you want to type along with me, use [this notebook](https://humboldt.cloudbank.2i2c.cloud/hub/user-redirect/git-pull?repo=https%3A%2F%2Fgithub.com%2Fbethanyj0%2Fdata271_sp24&branch=main&urlpath=tree%2Fdata271_sp24%2Fdemos%2Fdata271_demo12_live.ipynb) instead. \n",
    "If you don't want to type and want to follow along just by executing the cells, stay in this notebook. "
   ]
  },
  {
   "cell_type": "code",
   "execution_count": null,
   "id": "1fb3a498",
   "metadata": {},
   "outputs": [],
   "source": [
    "# Whenever you want to use numpy import it with the following code\n",
    "import numpy as np"
   ]
  },
  {
   "cell_type": "markdown",
   "id": "616862ae",
   "metadata": {},
   "source": [
    "## Activities from last time\n",
    "\n",
    "There are two arrays below:\n",
    "\n",
    "`restaurant_items` is a 2D array. The first row contains appetizers, the second row contains main dishes, and the third row contains beverages. \n",
    "\n",
    "`prices` is a 2D array of the same shape as `restaurant_items`. It contains the prices of each resturant item. \n",
    "\n",
    "Use these to answer the following questions."
   ]
  },
  {
   "cell_type": "code",
   "execution_count": null,
   "id": "5710e4db",
   "metadata": {},
   "outputs": [],
   "source": [
    "restaurant_items = np.array([['fries','salad','soup'],\n",
    "                  ['pizza','pasta','burger'],\n",
    "                  ['soda','iced tea','lemonade']])\n",
    "prices = np.array([[6.50,7.25,4.75],\n",
    "                  [9.50,10.25,10.75],\n",
    "                  [2,2.25,3]])"
   ]
  },
  {
   "cell_type": "markdown",
   "id": "d04bf147",
   "metadata": {},
   "source": [
    "1. Use NumPy methods to determin how much would someone pay for their meal if they ordered the most expensive appetizer, main dish, and beverage? "
   ]
  },
  {
   "cell_type": "code",
   "execution_count": null,
   "id": "cd3db0ed",
   "metadata": {},
   "outputs": [],
   "source": [
    "prices.max(axis=1).sum()"
   ]
  },
  {
   "cell_type": "markdown",
   "id": "45f7377b",
   "metadata": {},
   "source": [
    "2. Use NumPy methods and slicing to create a 1d array containing all the resturaunt items sorted by most expensive to least expensive. "
   ]
  },
  {
   "cell_type": "code",
   "execution_count": null,
   "id": "7834e5d5",
   "metadata": {},
   "outputs": [],
   "source": [
    "restaurant_items.ravel()[prices.ravel().argsort()[::-1]]"
   ]
  },
  {
   "cell_type": "markdown",
   "id": "a5975cf1",
   "metadata": {},
   "source": [
    "3. Use NumPy methods and slicing to create a 1d array containing the most expensive appetizer, the most expensive main dish, and the most expensive beverage. "
   ]
  },
  {
   "cell_type": "code",
   "execution_count": null,
   "id": "ede448ab",
   "metadata": {},
   "outputs": [],
   "source": [
    "restaurant_items[(0,1,2),prices.argmax(axis=1)]"
   ]
  },
  {
   "cell_type": "markdown",
   "id": "e669e1b6",
   "metadata": {},
   "source": [
    "## Pandas"
   ]
  },
  {
   "cell_type": "code",
   "execution_count": null,
   "id": "31acf7bf",
   "metadata": {},
   "outputs": [],
   "source": [
    "# whenever we want to use Pandas\n",
    "import pandas as pd"
   ]
  },
  {
   "cell_type": "markdown",
   "id": "05ae91a4",
   "metadata": {},
   "source": [
    "### Pandas Series"
   ]
  },
  {
   "cell_type": "code",
   "execution_count": null,
   "id": "e2d7f41f",
   "metadata": {},
   "outputs": [],
   "source": [
    "evens_array = np.arange(1,20,2)\n",
    "evens_array"
   ]
  },
  {
   "cell_type": "code",
   "execution_count": null,
   "id": "1d45818b",
   "metadata": {},
   "outputs": [],
   "source": [
    "# create pandas series from a numpy array\n",
    "evens_series = pd.Series(evens_array)\n",
    "evens_series"
   ]
  },
  {
   "cell_type": "code",
   "execution_count": null,
   "id": "758e7a7b",
   "metadata": {},
   "outputs": [],
   "source": [
    "# make a list\n",
    "lst = ['data','science','math']"
   ]
  },
  {
   "cell_type": "code",
   "execution_count": null,
   "id": "3c796cea",
   "metadata": {},
   "outputs": [],
   "source": [
    "# create a series from a list\n",
    "pd.Series(lst)"
   ]
  },
  {
   "cell_type": "code",
   "execution_count": null,
   "id": "3beeaee7",
   "metadata": {
    "scrolled": true
   },
   "outputs": [],
   "source": [
    "# create a series from a tuple\n",
    "tup = (2,3,5)\n",
    "tup_series = pd.Series(tup)\n",
    "tup_series"
   ]
  },
  {
   "cell_type": "code",
   "execution_count": null,
   "id": "5d7566f1",
   "metadata": {
    "scrolled": true
   },
   "outputs": [],
   "source": [
    "# create a series from a dict (keys become indicies)\n",
    "dct = {'key1': 1, 'key2':2,'key3':3}\n",
    "dct_series = pd.Series(dct)\n",
    "dct_series"
   ]
  },
  {
   "cell_type": "markdown",
   "id": "9b2fd683",
   "metadata": {},
   "source": [
    "##### Accessing elements"
   ]
  },
  {
   "cell_type": "code",
   "execution_count": null,
   "id": "26a07277",
   "metadata": {},
   "outputs": [],
   "source": [
    "# access elements by index\n",
    "dct_series['key2']"
   ]
  },
  {
   "cell_type": "code",
   "execution_count": null,
   "id": "0eac5b0f",
   "metadata": {},
   "outputs": [],
   "source": [
    "# or access by position\n",
    "dct_series[1]"
   ]
  },
  {
   "cell_type": "code",
   "execution_count": null,
   "id": "da5e5d48",
   "metadata": {},
   "outputs": [],
   "source": [
    "# or access multiple \n",
    "dct_series[['key1','key2']]"
   ]
  },
  {
   "cell_type": "code",
   "execution_count": null,
   "id": "ec938374",
   "metadata": {},
   "outputs": [],
   "source": [
    "# access multiple with position\n",
    "dct_series[:2]"
   ]
  },
  {
   "cell_type": "markdown",
   "id": "b83fb11e",
   "metadata": {},
   "source": [
    "##### Series attributes"
   ]
  },
  {
   "cell_type": "code",
   "execution_count": null,
   "id": "35538ebb",
   "metadata": {},
   "outputs": [],
   "source": [
    "# data type of the elements\n",
    "evens_series.dtype"
   ]
  },
  {
   "cell_type": "code",
   "execution_count": null,
   "id": "b99480c4",
   "metadata": {},
   "outputs": [],
   "source": [
    "# shape (always 1d)\n",
    "evens_series.shape"
   ]
  },
  {
   "cell_type": "code",
   "execution_count": null,
   "id": "c608aa15",
   "metadata": {},
   "outputs": [],
   "source": [
    "# indices in the series\n",
    "evens_series.index"
   ]
  },
  {
   "cell_type": "code",
   "execution_count": null,
   "id": "ee49af68",
   "metadata": {},
   "outputs": [],
   "source": [
    "# values in the series\n",
    "evens_series.values"
   ]
  },
  {
   "cell_type": "code",
   "execution_count": null,
   "id": "7f1ed26a",
   "metadata": {
    "scrolled": false
   },
   "outputs": [],
   "source": [
    "# general info about the series\n",
    "evens_series.info()"
   ]
  },
  {
   "cell_type": "code",
   "execution_count": null,
   "id": "860307cb",
   "metadata": {},
   "outputs": [],
   "source": [
    "# updating indices\n",
    "evens_series.index = range(1,11)\n",
    "evens_series"
   ]
  },
  {
   "cell_type": "code",
   "execution_count": null,
   "id": "e0182eb1",
   "metadata": {},
   "outputs": [],
   "source": [
    "# or specify index when making the series \n",
    "pd.Series(evens_array, index = range(1,11))"
   ]
  },
  {
   "cell_type": "markdown",
   "id": "9864577f",
   "metadata": {},
   "source": [
    "### Pandas dataframes"
   ]
  },
  {
   "cell_type": "code",
   "execution_count": null,
   "id": "d6bae2e8",
   "metadata": {},
   "outputs": [],
   "source": [
    "my_dict = {'fruit':['apple','banana','orange'],\n",
    "          'color':['red','yellow','orange'],\n",
    "          'yum_score':[5,5,5],\n",
    "          'in fridge':[True, False, True],\n",
    "          'number':[3,4,0]}"
   ]
  },
  {
   "cell_type": "code",
   "execution_count": null,
   "id": "d8047b91",
   "metadata": {},
   "outputs": [],
   "source": [
    "# dataframe from a dictionary (treats each key as a column)\n",
    "fruit_df = pd.DataFrame(my_dict, index = np.arange(1,4))\n",
    "fruit_df"
   ]
  },
  {
   "cell_type": "code",
   "execution_count": null,
   "id": "b911a930",
   "metadata": {},
   "outputs": [],
   "source": [
    "# list of tuples\n",
    "list_of_tups = [(i,i**2,i**3) for i in range(10)]\n",
    "list_of_tups"
   ]
  },
  {
   "cell_type": "code",
   "execution_count": null,
   "id": "a79a0945",
   "metadata": {},
   "outputs": [],
   "source": [
    "# dataframe from a list of tups (treats each tuple as a row)\n",
    "pd.DataFrame(list_of_tups,columns = ['n','squared','cubed'])"
   ]
  },
  {
   "cell_type": "code",
   "execution_count": null,
   "id": "bc234d37",
   "metadata": {},
   "outputs": [],
   "source": [
    "# list of dictionaries\n",
    "list_of_dicts = [\n",
    "    {'Median Home Price': 454000, 'Town': 'Arcata'},\n",
    "     {'Median Home Price': 383000, 'Town': 'Eureka'},\n",
    "]\n",
    "list_of_dicts"
   ]
  },
  {
   "cell_type": "code",
   "execution_count": null,
   "id": "fa9a2de9",
   "metadata": {
    "scrolled": true
   },
   "outputs": [],
   "source": [
    "# Dataframe from list of dictionaries (treats each dict value as a row)\n",
    "pd.DataFrame(list_of_dicts)"
   ]
  },
  {
   "cell_type": "markdown",
   "id": "7a5d956b",
   "metadata": {},
   "source": [
    "##### Accessing elements"
   ]
  },
  {
   "cell_type": "code",
   "execution_count": null,
   "id": "59f36b3b",
   "metadata": {},
   "outputs": [],
   "source": [
    "# accessing columns\n",
    "fruit_df.color"
   ]
  },
  {
   "cell_type": "code",
   "execution_count": null,
   "id": "3f66cb84",
   "metadata": {},
   "outputs": [],
   "source": [
    "# accessing columns (another way)\n",
    "fruit_df['color']"
   ]
  },
  {
   "cell_type": "code",
   "execution_count": null,
   "id": "02e2c0b7",
   "metadata": {
    "scrolled": true
   },
   "outputs": [],
   "source": [
    "# accessing rows (by label)\n",
    "fruit_df.loc[2]"
   ]
  },
  {
   "cell_type": "code",
   "execution_count": null,
   "id": "285eb1e5",
   "metadata": {},
   "outputs": [],
   "source": [
    "# accessing rows (by position)\n",
    "fruit_df.iloc[2]"
   ]
  },
  {
   "cell_type": "code",
   "execution_count": null,
   "id": "d74b9a02",
   "metadata": {},
   "outputs": [],
   "source": [
    "# accessing elements (by label)\n",
    "fruit_df.loc[2,'color']"
   ]
  },
  {
   "cell_type": "code",
   "execution_count": null,
   "id": "2f17dea0",
   "metadata": {},
   "outputs": [],
   "source": [
    "# accessing elements (by position)\n",
    "fruit_df.iloc[1,1]"
   ]
  },
  {
   "cell_type": "code",
   "execution_count": null,
   "id": "a53ced07",
   "metadata": {
    "scrolled": true
   },
   "outputs": [],
   "source": [
    "# slicing (by label)\n",
    "fruit_df.loc[1:2,['fruit','color']]"
   ]
  },
  {
   "cell_type": "code",
   "execution_count": null,
   "id": "381cecfd",
   "metadata": {
    "scrolled": true
   },
   "outputs": [],
   "source": [
    "# slicing (by position)\n",
    "fruit_df.iloc[0:2,0:2]"
   ]
  },
  {
   "cell_type": "markdown",
   "id": "5d0547bf",
   "metadata": {},
   "source": [
    "##### Dataframe attributes"
   ]
  },
  {
   "cell_type": "code",
   "execution_count": null,
   "id": "0c56b4d3",
   "metadata": {},
   "outputs": [],
   "source": [
    "# data type of elements in each column\n",
    "fruit_df.dtypes"
   ]
  },
  {
   "cell_type": "code",
   "execution_count": null,
   "id": "43defaac",
   "metadata": {},
   "outputs": [],
   "source": [
    "# shape (2d)\n",
    "fruit_df.shape"
   ]
  },
  {
   "cell_type": "code",
   "execution_count": null,
   "id": "6c1ad4bb",
   "metadata": {},
   "outputs": [],
   "source": [
    "# indices of rows\n",
    "fruit_df.index"
   ]
  },
  {
   "cell_type": "code",
   "execution_count": null,
   "id": "2bf363b8",
   "metadata": {},
   "outputs": [],
   "source": [
    "# all the values (output as numpy array)\n",
    "fruit_df.values"
   ]
  },
  {
   "cell_type": "code",
   "execution_count": null,
   "id": "f7a86a7b",
   "metadata": {},
   "outputs": [],
   "source": [
    "# column names\n",
    "fruit_df.columns"
   ]
  },
  {
   "cell_type": "code",
   "execution_count": null,
   "id": "d5d1d91e",
   "metadata": {},
   "outputs": [],
   "source": [
    "# general info\n",
    "fruit_df.info()"
   ]
  },
  {
   "cell_type": "markdown",
   "id": "83d5d8ab",
   "metadata": {},
   "source": [
    "## Why Pandas?\n",
    "NumPy is nice for handling homogeneous data types, but sometimes we need more flexibility as data become more complicated. We might also desire visually pleasing way to view the data.  "
   ]
  },
  {
   "cell_type": "code",
   "execution_count": null,
   "id": "c549b85b",
   "metadata": {},
   "outputs": [],
   "source": [
    "# Sample data (made up employees)\n",
    "employee_data = np.array([\n",
    "    [101, 'John', 'Engineering', 60000, '2018-01-15'],\n",
    "    [102, 'Jane', 'Engineering', 65000, '2017-05-12'],\n",
    "    [103, 'Doe', 'HR', 55000, '2019-02-28'],\n",
    "    [104, 'Alice', 'Marketing', 70000, '2016-11-20'],\n",
    "    [105, 'Bob', 'HR', 60000, '2019-09-10'],\n",
    "    [106, 'Eve', 'Marketing', 75000, '2017-04-05']\n",
    "])\n",
    "print(employee_data)\n",
    "\n",
    "# Same data in Pandas dataframe\n",
    "employee_df = pd.DataFrame(employee_data, columns=['ID', 'Name', 'Department', 'Salary', 'Hire Date'])\n",
    "employee_df['Salary'] = pd.to_numeric(employee_df['Salary'])\n",
    "employee_df"
   ]
  },
  {
   "cell_type": "code",
   "execution_count": null,
   "id": "1ac5b282",
   "metadata": {},
   "outputs": [],
   "source": [
    "# Get the average salary by department\n",
    "\n",
    "# Find unique departments\n",
    "unique_departments = np.unique(employee_data[:, 2])\n",
    "\n",
    "# Calculate average salary for each department\n",
    "avg_salaries = []\n",
    "for department in unique_departments:\n",
    "    department_salaries = employee_data[employee_data[:, 2] == department, 3].astype(float)\n",
    "    avg_salaries.append(np.mean(department_salaries))\n",
    "\n",
    "print(unique_departments)\n",
    "print(avg_salaries)"
   ]
  },
  {
   "cell_type": "code",
   "execution_count": null,
   "id": "37721bbd",
   "metadata": {},
   "outputs": [],
   "source": [
    "# Do the same task with Pandas\n",
    "avg_salaries = employee_df.groupby('Department')['Salary'].mean()\n",
    "avg_salaries"
   ]
  },
  {
   "cell_type": "markdown",
   "id": "239b62e3",
   "metadata": {},
   "source": [
    "## Activity \n",
    "\n",
    "Consider the following jokes:\n",
    "\n",
    "1. Q: Why don't scientists trust atoms?\n",
    "    1. Because they make up everything.\n",
    "2. Q: What do you call fake spaghetti?\n",
    "    1. An impasta!\n",
    "3. Q: Why did the scarecrow win an award?\n",
    "    1. Because he was outstanding in his field.\n"
   ]
  },
  {
   "cell_type": "markdown",
   "id": "b0ce3eb8",
   "metadata": {},
   "source": [
    "Create a Pandas dataframe with the jokes in one column, their answers in another column, and your rating of the joke on a scale of 0-5 stars (ints) in another column. "
   ]
  },
  {
   "cell_type": "code",
   "execution_count": null,
   "id": "f31f8556",
   "metadata": {},
   "outputs": [],
   "source": []
  },
  {
   "cell_type": "markdown",
   "id": "d317c843",
   "metadata": {},
   "source": [
    "Compute your average rating of these jokes."
   ]
  },
  {
   "cell_type": "code",
   "execution_count": null,
   "id": "09e7d947",
   "metadata": {},
   "outputs": [],
   "source": []
  },
  {
   "cell_type": "markdown",
   "id": "9acdeb4b",
   "metadata": {},
   "source": [
    "Access the question and answer of your highest rated joke. (output should be a Pandas df with 1(or more) rows and two columns)"
   ]
  },
  {
   "cell_type": "code",
   "execution_count": null,
   "id": "02afd32b",
   "metadata": {},
   "outputs": [],
   "source": []
  }
 ],
 "metadata": {
  "kernelspec": {
   "display_name": "Python 3 (ipykernel)",
   "language": "python",
   "name": "python3"
  },
  "language_info": {
   "codemirror_mode": {
    "name": "ipython",
    "version": 3
   },
   "file_extension": ".py",
   "mimetype": "text/x-python",
   "name": "python",
   "nbconvert_exporter": "python",
   "pygments_lexer": "ipython3",
   "version": "3.11.4"
  }
 },
 "nbformat": 4,
 "nbformat_minor": 5
}
