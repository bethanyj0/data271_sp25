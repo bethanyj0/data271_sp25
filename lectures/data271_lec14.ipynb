{
 "cells": [
  {
   "cell_type": "markdown",
   "id": "bd035d4a",
   "metadata": {},
   "source": [
    "# More Pandas\n",
    "If you want to type along with me, use [this notebook](https://humboldt.cloudbank.2i2c.cloud/hub/user-redirect/git-pull?repo=https%3A%2F%2Fgithub.com%2Fbethanyj0%2Fdata271_sp25&branch=main&urlpath=tree%2Fdata271_sp25%2Flectures%2Fdata271_lec14_live.ipynb) instead. \n",
    "If you don't want to type and want to follow along just by executing the cells, stay in this notebook."
   ]
  },
  {
   "cell_type": "code",
   "execution_count": null,
   "id": "26e99e3b",
   "metadata": {},
   "outputs": [],
   "source": [
    "import numpy as np\n",
    "import pandas as pd\n",
    "import warnings\n",
    "warnings.filterwarnings(\"ignore\")"
   ]
  },
  {
   "cell_type": "markdown",
   "id": "596c7010",
   "metadata": {},
   "source": [
    "### Import data"
   ]
  },
  {
   "cell_type": "code",
   "execution_count": null,
   "id": "6d2d6880",
   "metadata": {},
   "outputs": [],
   "source": [
    "# read a csv in your working directory\n",
    "df = pd.read_csv('earthquakes.csv')\n",
    "df.head(2)"
   ]
  },
  {
   "cell_type": "markdown",
   "id": "38d17982-7a62-42b6-af4e-eb8e4ffbbc97",
   "metadata": {},
   "source": [
    "### Selecting subsets based on datatype"
   ]
  },
  {
   "cell_type": "code",
   "execution_count": null,
   "id": "38b70f5f-5f77-475a-a66d-a2e0c17b700f",
   "metadata": {
    "scrolled": true,
    "tags": []
   },
   "outputs": [],
   "source": [
    "# select all columns with object datatypes\n",
    "df.select_dtypes(object)"
   ]
  },
  {
   "cell_type": "code",
   "execution_count": null,
   "id": "f4bd2d2a-6ef5-45f6-ba5c-b6f6a7df5fe1",
   "metadata": {
    "tags": []
   },
   "outputs": [],
   "source": [
    "# select all columns with ints\n",
    "df.select_dtypes(int)"
   ]
  },
  {
   "cell_type": "code",
   "execution_count": null,
   "id": "e2c2d0ad-8bb3-45fb-af82-47d49062073a",
   "metadata": {
    "tags": []
   },
   "outputs": [],
   "source": [
    "# select all columns with numeric datatypes\n",
    "df.select_dtypes('number')"
   ]
  },
  {
   "cell_type": "markdown",
   "id": "fab06b8f-f415-4d48-b3b5-29af008d4a4c",
   "metadata": {},
   "source": [
    "### Filtering rows or columns with boolean indexing"
   ]
  },
  {
   "cell_type": "code",
   "execution_count": null,
   "id": "458fca87-7377-43d9-807c-a83929f833c1",
   "metadata": {
    "tags": []
   },
   "outputs": [],
   "source": [
    "# tempting syntax, but doesn't work\n",
    "#df['mag' >= 7]"
   ]
  },
  {
   "cell_type": "code",
   "execution_count": null,
   "id": "72934ee7-7c4c-4961-90a5-2534f972ed46",
   "metadata": {
    "tags": []
   },
   "outputs": [],
   "source": [
    "# keep only the rows where this boolean statement is true (mag greater than or equal to 7)\n",
    "df[df['mag'] >= 7]"
   ]
  },
  {
   "cell_type": "code",
   "execution_count": null,
   "id": "4daf6587-4690-4e8d-a048-6f029c1e04d7",
   "metadata": {
    "tags": []
   },
   "outputs": [],
   "source": [
    "# Supports multiple conditions with & or |\n",
    "# select some columns for earthquakes with magnitude greater than or equal to 7 OR caused a tsunami\n",
    "df.loc[\n",
    "    (df.tsunami == 1) | (df.mag >= 7),\n",
    "    ['mag', 'title', 'tsunami', 'place']\n",
    "].head(3)"
   ]
  },
  {
   "cell_type": "code",
   "execution_count": null,
   "id": "a7a93ff4-44ef-43ad-a15c-5bbf526e630c",
   "metadata": {
    "tags": []
   },
   "outputs": [],
   "source": [
    "# Use str.contains to filter strings\n",
    "df.loc[\n",
    "    (df.place.str.contains('California')),\n",
    "    ['mag', 'title', 'tsunami', 'place']\n",
    "].shape"
   ]
  },
  {
   "cell_type": "code",
   "execution_count": null,
   "id": "5efc47a8-f87b-4cf4-8fa9-3acef498c5c8",
   "metadata": {
    "tags": []
   },
   "outputs": [],
   "source": [
    "# Also supports regex -- the USGS has tagged some locations as California and some as CA.\n",
    "cali_df = df.loc[\n",
    "    (df.place.str.contains('CA|California', regex=True)),\n",
    "    ['mag', 'title', 'tsunami', 'place']\n",
    "]\n",
    "cali_df.shape"
   ]
  },
  {
   "cell_type": "code",
   "execution_count": null,
   "id": "a8c4819d-74b9-481e-b7c3-4f2ac2a30734",
   "metadata": {
    "tags": []
   },
   "outputs": [],
   "source": [
    "# Can use list comprehensions to help filtering\n",
    "df.loc[\n",
    "    (df.place.str.contains('CA|California', regex=True)),\n",
    "    [col for col in df.columns if 'mag' in col]\n",
    "].head(3)"
   ]
  },
  {
   "cell_type": "code",
   "execution_count": null,
   "id": "627fcea4",
   "metadata": {},
   "outputs": [],
   "source": [
    "# another way\n",
    "df.loc[\n",
    "    (df.place.str.contains('CA|California', regex=True)),\n",
    "    df.columns.str.contains('.*mag.*',regex=True)\n",
    "]"
   ]
  },
  {
   "cell_type": "code",
   "execution_count": null,
   "id": "1bb45395",
   "metadata": {},
   "outputs": [],
   "source": [
    "# recall .between (inclusive)\n",
    "df.loc[df.mag.between(6.5,7.5),['mag','magType','title','tsunami','type']]"
   ]
  },
  {
   "cell_type": "code",
   "execution_count": null,
   "id": "c87c98d4",
   "metadata": {},
   "outputs": [],
   "source": [
    "# recall isin\n",
    "df.loc[df.magType.isin(['mw','mwb']),['mag','magType','title','tsunami','type']]"
   ]
  },
  {
   "cell_type": "markdown",
   "id": "53d271da-ccd5-47a9-9eb9-d63c15bd1ec4",
   "metadata": {},
   "source": [
    "### Additional methods to filter columns"
   ]
  },
  {
   "cell_type": "code",
   "execution_count": null,
   "id": "a2bf3e2a-b38b-4b87-a8f7-19764de46556",
   "metadata": {
    "tags": []
   },
   "outputs": [],
   "source": [
    "df.shape"
   ]
  },
  {
   "cell_type": "code",
   "execution_count": null,
   "id": "223369c2-e8ee-49ca-99e2-75ad3c3fb8f5",
   "metadata": {
    "tags": []
   },
   "outputs": [],
   "source": [
    "# Drop a column\n",
    "df.drop(columns = 'ids').shape"
   ]
  },
  {
   "cell_type": "code",
   "execution_count": null,
   "id": "feb03b92-3b1e-436d-805d-7bfb6046978d",
   "metadata": {
    "tags": []
   },
   "outputs": [],
   "source": [
    "df.drop(columns = ['ids', 'detail']).shape"
   ]
  },
  {
   "cell_type": "code",
   "execution_count": null,
   "id": "7238d0f4-6b51-4d0c-bc05-6e0ea4fb10fd",
   "metadata": {
    "tags": []
   },
   "outputs": [],
   "source": [
    "df.filter(regex='.*mag.*')"
   ]
  },
  {
   "cell_type": "code",
   "execution_count": null,
   "id": "4bb0ce58-6635-4291-850c-dcbff07cc9b0",
   "metadata": {
    "tags": []
   },
   "outputs": [],
   "source": [
    "# Doesn't update the original (use inplace if you want to update)\n",
    "df.shape"
   ]
  },
  {
   "cell_type": "markdown",
   "id": "75f09816-bfe5-4634-9bb5-cdaeda3818d3",
   "metadata": {},
   "source": [
    "### Broadcasting and Elementwise Arithmetic"
   ]
  },
  {
   "cell_type": "code",
   "execution_count": null,
   "id": "3f46ab60-d084-4a7e-96f4-46d51ed0ac80",
   "metadata": {
    "tags": []
   },
   "outputs": [],
   "source": [
    "# Broadcasting works on Pandas Series\n",
    "df.mag * 3"
   ]
  },
  {
   "cell_type": "code",
   "execution_count": null,
   "id": "cef64fcb-cd09-4df3-b3da-bcd71ddcfb11",
   "metadata": {
    "tags": []
   },
   "outputs": [],
   "source": [
    "# Broadcasting works on Pandas DataFrames\n",
    "df[['mag','gap']] * 3"
   ]
  },
  {
   "cell_type": "code",
   "execution_count": null,
   "id": "21a37f96-fb03-4f14-b7e4-93ce52c5c9f7",
   "metadata": {
    "tags": []
   },
   "outputs": [],
   "source": [
    "# Understanding elementwise arithmetic\n",
    "df1 = pd.DataFrame({'A':[1,2,3], 'B':[3,4,5], 'C':[5,6,7]})\n",
    "df2 = pd.DataFrame({'B':[5,6,7], 'C':[7,8,9], 'D':[9,10,11]}, index = [1,2,3])"
   ]
  },
  {
   "cell_type": "code",
   "execution_count": null,
   "id": "6501e3cc-1ea1-4507-9211-a21048e9dc0b",
   "metadata": {
    "tags": []
   },
   "outputs": [],
   "source": [
    "df1"
   ]
  },
  {
   "cell_type": "code",
   "execution_count": null,
   "id": "9add7872-9991-488f-9940-6187f7dcb949",
   "metadata": {
    "tags": []
   },
   "outputs": [],
   "source": [
    "df2"
   ]
  },
  {
   "cell_type": "code",
   "execution_count": null,
   "id": "83ca1e87-39bd-43e0-9fa2-94fb33c74d08",
   "metadata": {
    "tags": []
   },
   "outputs": [],
   "source": [
    "# Elementsise arithmetic goes by labels\n",
    "df1 + df2"
   ]
  },
  {
   "cell_type": "code",
   "execution_count": null,
   "id": "3b85169c-20a3-4a94-ac49-d00d29c9c556",
   "metadata": {
    "tags": []
   },
   "outputs": [],
   "source": [
    "# Series behave like a row in elementwise arithmetic\n",
    "srs = pd.Series([1,2,3], index = ['A','B','C'])\n",
    "df1 + srs"
   ]
  },
  {
   "cell_type": "code",
   "execution_count": null,
   "id": "521b496a-6026-459b-9abf-d7af16c54063",
   "metadata": {
    "tags": []
   },
   "outputs": [],
   "source": [
    "# Will not work with different labels\n",
    "srs = pd.Series([1,2,3])\n",
    "df1 + srs"
   ]
  },
  {
   "cell_type": "code",
   "execution_count": null,
   "id": "dacf03d7-b5f3-42fe-8eba-fd149aaecaba",
   "metadata": {
    "tags": []
   },
   "outputs": [],
   "source": [
    "# To do arithmetic along the other axis use the arithmetic methods\n",
    "df1.add(srs,axis=0)"
   ]
  },
  {
   "cell_type": "markdown",
   "id": "d83e4c9b-9a66-4174-bbbf-edbac820f79e",
   "metadata": {},
   "source": [
    "## MultiIndex DataFrames"
   ]
  },
  {
   "cell_type": "code",
   "execution_count": null,
   "id": "44906a85-5290-41c6-8277-127cfea9ce72",
   "metadata": {
    "tags": []
   },
   "outputs": [],
   "source": [
    "# Originial DataFrame\n",
    "olympics = pd.read_csv('athlete_events.csv')\n",
    "olympics.head()"
   ]
  },
  {
   "cell_type": "code",
   "execution_count": null,
   "id": "990d70fb-23a1-4e92-8b65-152975cb4cd7",
   "metadata": {
    "tags": []
   },
   "outputs": [],
   "source": [
    "# If we wanted to filter United States entries for 2012 \n",
    "olympics[(olympics.Team == 'United States') & (olympics.Year == 2012)]"
   ]
  },
  {
   "cell_type": "code",
   "execution_count": null,
   "id": "0cb0862e-b70c-4bcc-8ba7-5fe606477d6d",
   "metadata": {
    "tags": []
   },
   "outputs": [],
   "source": [
    "# Using multiple columns as indices\n",
    "multi_olympics = pd.read_csv('athlete_events.csv', index_col = ['Team','Year'])\n",
    "multi_olympics.head()"
   ]
  },
  {
   "cell_type": "code",
   "execution_count": null,
   "id": "7af53225-ba70-4489-be3f-a3705ed728b6",
   "metadata": {
    "tags": []
   },
   "outputs": [],
   "source": [
    "# Indexing with MultiIndex dataframes\n",
    "multi_olympics.loc['United States',2012]"
   ]
  },
  {
   "cell_type": "code",
   "execution_count": null,
   "id": "ed25e272-64bd-4204-848a-df7fe1cc523d",
   "metadata": {
    "tags": []
   },
   "outputs": [],
   "source": [
    "# To just use the first level index\n",
    "multi_olympics.loc['United States']"
   ]
  },
  {
   "cell_type": "code",
   "execution_count": null,
   "id": "cc5bb152-2d0c-43ee-bf57-07faf1788848",
   "metadata": {
    "tags": []
   },
   "outputs": [],
   "source": [
    "# To use the second level index\n",
    "multi_olympics.loc[(slice(None), 2012),:]"
   ]
  },
  {
   "cell_type": "code",
   "execution_count": null,
   "id": "2369b798-32d2-4852-bd9a-bf2b8c6c7778",
   "metadata": {
    "tags": []
   },
   "outputs": [],
   "source": [
    "# To use the second level index\n",
    "multi_olympics.xs(key = 2012, level = 'Year')"
   ]
  },
  {
   "cell_type": "code",
   "execution_count": null,
   "id": "1c9f7e35-2e74-4eb2-9f52-d98a3f5e7f26",
   "metadata": {
    "tags": []
   },
   "outputs": [],
   "source": [
    "# You can also swap the index levels\n",
    "multi_olympics.swaplevel(\"Team\", \"Year\").loc[2012]"
   ]
  },
  {
   "cell_type": "markdown",
   "id": "7b7cc475",
   "metadata": {},
   "source": [
    "## Plotting with Pandas"
   ]
  },
  {
   "cell_type": "code",
   "execution_count": null,
   "id": "098751e7",
   "metadata": {},
   "outputs": [],
   "source": [
    "# histograms\n",
    "df.plot(kind='hist',y='mag');"
   ]
  },
  {
   "cell_type": "code",
   "execution_count": null,
   "id": "64642df1",
   "metadata": {},
   "outputs": [],
   "source": [
    "# line plots\n",
    "df.plot(kind='line',x = 'time', y='mag');"
   ]
  },
  {
   "cell_type": "code",
   "execution_count": null,
   "id": "84f89a9a",
   "metadata": {},
   "outputs": [],
   "source": [
    "# scatter plots\n",
    "df.plot(kind='scatter',x='gap',y='mag');"
   ]
  },
  {
   "cell_type": "code",
   "execution_count": null,
   "id": "c4fdec5a",
   "metadata": {},
   "outputs": [],
   "source": [
    "# bar charts\n",
    "df.value_counts('status').plot(kind='bar');"
   ]
  },
  {
   "cell_type": "code",
   "execution_count": null,
   "id": "b0285c2f",
   "metadata": {},
   "outputs": [],
   "source": [
    "# another notation \n",
    "df.plot.hist(y='mag');"
   ]
  },
  {
   "cell_type": "markdown",
   "id": "db3de7a9-5d0b-4088-b2d1-61dc0517da96",
   "metadata": {
    "tags": []
   },
   "source": [
    "## Activity \n",
    "Create a DataFrame with two rows and 2 columns. The columns should be `mag` and `place`. The first row should contain the information for the smallest earthquake in California (lowest magnitude) and the second row should contain information for the largest earthquake) in California."
   ]
  },
  {
   "cell_type": "code",
   "execution_count": null,
   "id": "f4291c38",
   "metadata": {
    "tags": []
   },
   "outputs": [],
   "source": [
    "# This allows us to index with loc\n"
   ]
  },
  {
   "cell_type": "markdown",
   "id": "a4b39418-9c60-4a92-9d8e-6c57e8452e99",
   "metadata": {
    "tags": []
   },
   "source": [
    "How many earthquakes in the dataset had a red alert?"
   ]
  },
  {
   "cell_type": "code",
   "execution_count": null,
   "id": "aca815ab-4ea7-44ec-905c-11a8f71cf56f",
   "metadata": {
    "tags": []
   },
   "outputs": [],
   "source": []
  },
  {
   "cell_type": "markdown",
   "id": "ef805f93-5ed5-4c82-a2f3-8544c44cd8aa",
   "metadata": {},
   "source": [
    "How many Oregon earthquakes are in the dataset?"
   ]
  },
  {
   "cell_type": "code",
   "execution_count": null,
   "id": "e34ae716-e666-400c-a66c-30e82a06e5af",
   "metadata": {
    "tags": []
   },
   "outputs": [],
   "source": []
  }
 ],
 "metadata": {
  "kernelspec": {
   "display_name": "Python 3 (ipykernel)",
   "language": "python",
   "name": "python3"
  },
  "language_info": {
   "codemirror_mode": {
    "name": "ipython",
    "version": 3
   },
   "file_extension": ".py",
   "mimetype": "text/x-python",
   "name": "python",
   "nbconvert_exporter": "python",
   "pygments_lexer": "ipython3",
   "version": "3.11.4"
  }
 },
 "nbformat": 4,
 "nbformat_minor": 5
}
