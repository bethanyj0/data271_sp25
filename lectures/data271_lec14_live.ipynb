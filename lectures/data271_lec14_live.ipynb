{
 "cells": [
  {
   "cell_type": "markdown",
   "id": "bd035d4a",
   "metadata": {},
   "source": [
    "# Subsetting and filtering data\n",
    "If you want to type along with me, use [this notebook](https://humboldt.cloudbank.2i2c.cloud/hub/user-redirect/git-pull?repo=https%3A%2F%2Fgithub.com%2Fbethanyj0%2Fdata271_sp24&branch=main&urlpath=tree%2Fdata271_sp24%2Fdemos%2Fdata271_demo14_live.ipynb) instead. \n",
    "If you don't want to type and want to follow along just by executing the cells, stay in this notebook. "
   ]
  },
  {
   "cell_type": "code",
   "execution_count": null,
   "id": "26e99e3b",
   "metadata": {},
   "outputs": [],
   "source": [
    "import numpy as np\n",
    "import pandas as pd"
   ]
  },
  {
   "cell_type": "markdown",
   "id": "596c7010",
   "metadata": {},
   "source": [
    "## Import data"
   ]
  },
  {
   "cell_type": "code",
   "execution_count": null,
   "id": "6d2d6880",
   "metadata": {},
   "outputs": [],
   "source": [
    "# read a csv in your working directory\n",
    "df = pd.read_csv('earthquakes.csv')\n",
    "df.head(2)"
   ]
  },
  {
   "cell_type": "markdown",
   "id": "b7cc022f",
   "metadata": {},
   "source": [
    "### Filtering with conditions"
   ]
  },
  {
   "cell_type": "code",
   "execution_count": null,
   "id": "2b9a549d",
   "metadata": {},
   "outputs": [],
   "source": [
    "# keep only the rows where this boolean statement is true (mag greater than or equal to 7)\n",
    "df[df.mag >= 7]"
   ]
  },
  {
   "cell_type": "code",
   "execution_count": null,
   "id": "a99e2666",
   "metadata": {},
   "outputs": [],
   "source": [
    "# note that the other notation works here too\n",
    "df[df['mag'] >= 7]"
   ]
  },
  {
   "cell_type": "code",
   "execution_count": null,
   "id": "efc0774b",
   "metadata": {},
   "outputs": [],
   "source": [
    "# important columns for earthquakes with magnitude greater than or equal to 7 OR caused a tsunami\n",
    "df.loc[\n",
    "    (df.tsunami == 1) | (df.mag >= 7),\n",
    "    ['mag', 'title', 'tsunami', 'place']\n",
    "]"
   ]
  },
  {
   "cell_type": "code",
   "execution_count": null,
   "id": "38e20e20",
   "metadata": {},
   "outputs": [],
   "source": [
    "# Checking if strings in a column (Series) contain another string\n"
   ]
  },
  {
   "cell_type": "code",
   "execution_count": null,
   "id": "d50aa22e",
   "metadata": {
    "scrolled": false
   },
   "outputs": [],
   "source": [
    "# Just get the earthquakes in California\n",
    "df.loc[\n",
    "    (df.place.str.contains('California')),\n",
    "    ['mag', 'title', 'tsunami', 'place']\n",
    "]"
   ]
  },
  {
   "cell_type": "code",
   "execution_count": null,
   "id": "ce0e4fd1",
   "metadata": {
    "scrolled": false
   },
   "outputs": [],
   "source": [
    "# We might have missed some-- the USGS has tagged some locations as California and some as CA. USE REGEX!\n",
    "cali_df = \n",
    "cali_df"
   ]
  },
  {
   "cell_type": "code",
   "execution_count": null,
   "id": "a8d03f5f",
   "metadata": {},
   "outputs": [],
   "source": [
    "# if we just want the columns related to magnitude\n",
    "df.loc[\n",
    "    (df.place.str.contains('CA|California')),\n",
    "    [...]\n",
    "]"
   ]
  },
  {
   "cell_type": "code",
   "execution_count": null,
   "id": "602ff3f6",
   "metadata": {},
   "outputs": [],
   "source": [
    "# another way\n",
    "df.loc[\n",
    "    (df.place.str.contains('CA|California')),\n",
    "    ...\n",
    "]"
   ]
  },
  {
   "cell_type": "code",
   "execution_count": null,
   "id": "9c7ef77f",
   "metadata": {},
   "outputs": [],
   "source": [
    "# get all the earthquakes with magnitude between 6.45 and 7.5 (inclusive)\n",
    "df.loc[...,['mag','magType','title','tsunami','type']]"
   ]
  },
  {
   "cell_type": "code",
   "execution_count": null,
   "id": "a2d3fced",
   "metadata": {
    "scrolled": false
   },
   "outputs": [],
   "source": [
    "# another way (a little messier)\n",
    "df.loc[...,['mag','magType','title','tsunami','type']]"
   ]
  },
  {
   "cell_type": "code",
   "execution_count": null,
   "id": "5e1624aa",
   "metadata": {},
   "outputs": [],
   "source": [
    "# accessing things that match anything in a list\n",
    "df.loc[...,['mag','magType','title','tsunami','type']]"
   ]
  },
  {
   "cell_type": "markdown",
   "id": "825cc34d",
   "metadata": {},
   "source": [
    "### Finding and selecting the minimum and maximum\n",
    "We might be interested in knowing the lowest and highest magnitude earthquakes which occured in California during the time frame the data frame represents, and also knowing where and when they occured.  Pandas lets us find the index of these extrema and then we can select the entire row."
   ]
  },
  {
   "cell_type": "code",
   "execution_count": null,
   "id": "68c61445",
   "metadata": {},
   "outputs": [],
   "source": [
    "# get the index of lowest and highest magnitude earthquakes in California\n",
    "cali_df.mag..., cali_df.mag..."
   ]
  },
  {
   "cell_type": "code",
   "execution_count": null,
   "id": "9f2b6679",
   "metadata": {},
   "outputs": [],
   "source": [
    "# ERROR! this gives us the POSITION index\n",
    "cali_df.loc[\n",
    "    [cali_df.mag.argmin(), cali_df.mag.argmax()],\n",
    "    ['mag', 'title', 'tsunami', 'place']\n",
    "]"
   ]
  },
  {
   "cell_type": "code",
   "execution_count": null,
   "id": "4b240216",
   "metadata": {},
   "outputs": [],
   "source": [
    "# get the index LABEL of the lowest and highest magnitude earthquakes in Cali\n",
    "cali_df.mag..., cali_df.mag..."
   ]
  },
  {
   "cell_type": "code",
   "execution_count": null,
   "id": "8ebd7006",
   "metadata": {},
   "outputs": [],
   "source": [
    "# This allows us to indwex with loc\n",
    "cali_df.loc[\n",
    "    [cali_df.mag.idxmin(), cali_df.mag.idxmax()],\n",
    "    ['mag', 'title', 'tsunami', 'place']\n",
    "]"
   ]
  },
  {
   "cell_type": "markdown",
   "id": "3b90c6a2",
   "metadata": {},
   "source": [
    "The largest quake in California was in Trinidad! "
   ]
  },
  {
   "cell_type": "markdown",
   "id": "7b7cc475",
   "metadata": {},
   "source": [
    "## Plotting with Pandas"
   ]
  },
  {
   "cell_type": "code",
   "execution_count": null,
   "id": "098751e7",
   "metadata": {},
   "outputs": [],
   "source": [
    "# histograms\n",
    "df.plot(kind='hist',y='mag');"
   ]
  },
  {
   "cell_type": "code",
   "execution_count": null,
   "id": "64642df1",
   "metadata": {},
   "outputs": [],
   "source": [
    "# line plots\n",
    "df.plot(kind='line',x = 'time', y='mag');"
   ]
  },
  {
   "cell_type": "code",
   "execution_count": null,
   "id": "84f89a9a",
   "metadata": {},
   "outputs": [],
   "source": [
    "# scatter plots\n",
    "df.plot(kind='scatter',x='gap',y='mag');"
   ]
  },
  {
   "cell_type": "code",
   "execution_count": null,
   "id": "c4fdec5a",
   "metadata": {},
   "outputs": [],
   "source": [
    "# bar charts\n",
    "df.value_counts('status').plot(kind='bar');"
   ]
  },
  {
   "cell_type": "code",
   "execution_count": null,
   "id": "91309ab5",
   "metadata": {
    "scrolled": false
   },
   "outputs": [],
   "source": [
    "# another notation \n",
    "df.plot.hist(y='mag');"
   ]
  },
  {
   "cell_type": "markdown",
   "id": "dfbc9261",
   "metadata": {},
   "source": [
    "### Adding/removing data\n",
    "\n",
    "*NOTE:* Some pandas methods update the original dataframe. If you want to avoid updating the original, do the following. "
   ]
  },
  {
   "cell_type": "code",
   "execution_count": null,
   "id": "4e8fc466",
   "metadata": {},
   "outputs": [],
   "source": [
    "# make a copy that will not modify the original\n",
    "df_copy = df.copy()"
   ]
  },
  {
   "cell_type": "markdown",
   "id": "43181c3f",
   "metadata": {},
   "source": [
    "### Columns"
   ]
  },
  {
   "cell_type": "code",
   "execution_count": null,
   "id": "5d230734",
   "metadata": {},
   "outputs": [],
   "source": [
    "# We can filter columns immediately when we import the data\n",
    "df_sub = pd.read_csv('earthquakes.csv',...)\n",
    "df_sub.head(3)"
   ]
  },
  {
   "cell_type": "code",
   "execution_count": null,
   "id": "e45bc99c",
   "metadata": {},
   "outputs": [],
   "source": [
    "# Pandas broadcasts. This is useful for adding new columns\n",
    "\n",
    "df_sub.head()"
   ]
  },
  {
   "cell_type": "code",
   "execution_count": null,
   "id": "91cc5231",
   "metadata": {},
   "outputs": [],
   "source": [
    "# More broadcasting\n",
    "\n",
    "df_sub.head()"
   ]
  },
  {
   "cell_type": "code",
   "execution_count": null,
   "id": "06252374",
   "metadata": {},
   "outputs": [],
   "source": [
    "# can be useful for doing additional analysis\n"
   ]
  },
  {
   "cell_type": "code",
   "execution_count": null,
   "id": "5a8cfd8a",
   "metadata": {
    "scrolled": true
   },
   "outputs": [],
   "source": [
    "# remove columns with .drop\n"
   ]
  },
  {
   "cell_type": "code",
   "execution_count": null,
   "id": "7a611cdf",
   "metadata": {},
   "outputs": [],
   "source": [
    "# remove columns with .drop another way\n"
   ]
  },
  {
   "cell_type": "code",
   "execution_count": null,
   "id": "0c9c9efe",
   "metadata": {},
   "outputs": [],
   "source": [
    "# does not update original\n",
    "df_sub.head()"
   ]
  },
  {
   "cell_type": "code",
   "execution_count": null,
   "id": "a75c53ff",
   "metadata": {},
   "outputs": [],
   "source": [
    "# remove columns with .drop and update the original\n"
   ]
  },
  {
   "cell_type": "code",
   "execution_count": null,
   "id": "0bf41d06",
   "metadata": {},
   "outputs": [],
   "source": [
    "df_sub.head()"
   ]
  },
  {
   "cell_type": "markdown",
   "id": "8280ddcd",
   "metadata": {},
   "source": [
    "### Rows"
   ]
  },
  {
   "cell_type": "code",
   "execution_count": null,
   "id": "1b36f58c",
   "metadata": {},
   "outputs": [],
   "source": [
    "# prepare two data frames to demonstrate adding and removing rows\n",
    "tsunami = df_sub[df_sub.tsunami == 1]\n",
    "no_tsunami = df_sub[df_sub.tsunami == 0]\n",
    "\n",
    "tsunami.shape, no_tsunami.shape"
   ]
  },
  {
   "cell_type": "code",
   "execution_count": null,
   "id": "5c1aef4a",
   "metadata": {},
   "outputs": [],
   "source": [
    "# concatenate two dataframes\n"
   ]
  },
  {
   "cell_type": "code",
   "execution_count": null,
   "id": "7b199449",
   "metadata": {},
   "outputs": [],
   "source": [
    "# concatenate two dataframes with unequal columns\n"
   ]
  },
  {
   "cell_type": "code",
   "execution_count": null,
   "id": "ee89330a",
   "metadata": {
    "scrolled": true
   },
   "outputs": [],
   "source": [
    "# inner join\n"
   ]
  },
  {
   "cell_type": "code",
   "execution_count": null,
   "id": "23987297",
   "metadata": {},
   "outputs": [],
   "source": [
    "# removing rows\n"
   ]
  },
  {
   "cell_type": "markdown",
   "id": "c0732e5f",
   "metadata": {},
   "source": [
    "## Updating data"
   ]
  },
  {
   "cell_type": "code",
   "execution_count": null,
   "id": "76f638a7",
   "metadata": {},
   "outputs": [],
   "source": [
    "cali_df['parsed_place']= \n",
    "cali_df"
   ]
  },
  {
   "cell_type": "markdown",
   "id": "b8a5c753",
   "metadata": {},
   "source": [
    "## Activity \n",
    "\n",
    "Consider the following jokes:\n",
    "\n",
    "1. Q: Why don't scientists trust atoms?\n",
    "    1. Because they make up everything.\n",
    "2. Q: What do you call fake spaghetti?\n",
    "    1. An impasta!\n",
    "3. Q: Why did the scarecrow win an award?\n",
    "    1. Because he was outstanding in his field.\n"
   ]
  },
  {
   "cell_type": "markdown",
   "id": "3b40436f",
   "metadata": {},
   "source": [
    "Create a Pandas dataframe with the jokes in one column, their answers in another column, and your rating of the joke on a scale of 0-5 stars (ints) in another column. "
   ]
  },
  {
   "cell_type": "code",
   "execution_count": null,
   "id": "36b8e230",
   "metadata": {},
   "outputs": [],
   "source": []
  },
  {
   "cell_type": "markdown",
   "id": "3b329f85",
   "metadata": {},
   "source": [
    "Compute your average rating of these jokes."
   ]
  },
  {
   "cell_type": "code",
   "execution_count": null,
   "id": "4dc6db95",
   "metadata": {},
   "outputs": [],
   "source": []
  },
  {
   "cell_type": "markdown",
   "id": "e66055d5",
   "metadata": {},
   "source": [
    "Access the question and answer of your highest rated joke. (output should be a Pandas df with 1(or more) rows and two columns)"
   ]
  },
  {
   "cell_type": "code",
   "execution_count": null,
   "id": "48b4c5cb",
   "metadata": {},
   "outputs": [],
   "source": []
  }
 ],
 "metadata": {
  "kernelspec": {
   "display_name": "Python 3 (ipykernel)",
   "language": "python",
   "name": "python3"
  },
  "language_info": {
   "codemirror_mode": {
    "name": "ipython",
    "version": 3
   },
   "file_extension": ".py",
   "mimetype": "text/x-python",
   "name": "python",
   "nbconvert_exporter": "python",
   "pygments_lexer": "ipython3",
   "version": "3.11.4"
  }
 },
 "nbformat": 4,
 "nbformat_minor": 5
}
