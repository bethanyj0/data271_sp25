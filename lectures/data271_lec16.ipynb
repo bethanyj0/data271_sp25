{
 "cells": [
  {
   "cell_type": "markdown",
   "id": "bd035d4a",
   "metadata": {},
   "source": [
    "# Customizing plots with Matplotlib\n",
    "If you want to type along with me, use [this notebook](https://humboldt.cloudbank.2i2c.cloud/hub/user-redirect/git-pull?repo=https%3A%2F%2Fgithub.com%2Fbethanyj0%2Fdata271_sp25&branch=main&urlpath=tree%2Fdata271_sp25%2Flectures%2Fdata271_lec16_live.ipynb) instead. \n",
    "If you don't want to type and want to follow along just by executing the cells, stay in this notebook. "
   ]
  },
  {
   "cell_type": "code",
   "execution_count": null,
   "id": "26e99e3b",
   "metadata": {},
   "outputs": [],
   "source": [
    "import numpy as np\n",
    "import pandas as pd\n",
    "import matplotlib.pyplot as plt"
   ]
  },
  {
   "cell_type": "code",
   "execution_count": null,
   "id": "60050dc8-c7bb-4076-8a80-4c8e09ed0331",
   "metadata": {
    "tags": []
   },
   "outputs": [],
   "source": [
    "np.random.seed(1)\n",
    "x = range(10)\n",
    "y = np.random.randint(1,10,10)\n",
    "y2 = np.random.randint(1,100,10)\n",
    "y3 = np.random.randint(1,100,10)\n",
    "y4 = np.random.randint(1,100,10)"
   ]
  },
  {
   "cell_type": "markdown",
   "id": "03092261-ae83-4183-890e-c5bf9a5549f1",
   "metadata": {},
   "source": [
    "### Subplots"
   ]
  },
  {
   "cell_type": "code",
   "execution_count": null,
   "id": "b34944c9-e298-42ed-a8e7-8191bf801486",
   "metadata": {},
   "outputs": [],
   "source": [
    "# add_subplot(num rows, num cols, index of subplot we're adding)\n",
    "\n",
    "figure = plt.figure()\n",
    "ax = figure.add_subplot(111)\n",
    "\n",
    "ax.plot(x,y)\n",
    "plt.show()"
   ]
  },
  {
   "cell_type": "code",
   "execution_count": null,
   "id": "94644c7c-776f-4f29-9098-771032cc442a",
   "metadata": {},
   "outputs": [],
   "source": [
    "# adding multiple subplots\n",
    "# add_subplot(num rows, num cols, index of subplot we're adding)\n",
    "figure = plt.figure()\n",
    "ax = figure.add_subplot(121)\n",
    "ax2 = figure.add_subplot(122)\n",
    "\n",
    "ax.plot(x,y)\n",
    "ax2.plot(x,y2)\n",
    "plt.show()"
   ]
  },
  {
   "cell_type": "code",
   "execution_count": null,
   "id": "7f570e07-e8c4-4cfb-9068-2bb0d16cc779",
   "metadata": {},
   "outputs": [],
   "source": [
    "# if you need to add many subplots stacked on top of eachother\n",
    "fig,ax = plt.subplots(4)\n",
    "\n",
    "ax[0].plot(y)\n",
    "ax[1].plot(y2)\n",
    "ax[2].plot(y3)\n",
    "ax[3].plot(y4)\n",
    "plt.show()"
   ]
  },
  {
   "cell_type": "code",
   "execution_count": null,
   "id": "88a005ff-8304-4fa6-b533-b00fad3256f1",
   "metadata": {},
   "outputs": [],
   "source": [
    "# or you can rearrange them\n",
    "fig,ax = plt.subplots(2,2)\n",
    "\n",
    "ax[0,0].plot(y)\n",
    "ax[0,1].plot(y2)\n",
    "ax[1,0].plot(y3)\n",
    "ax[1,1].plot(y4)\n",
    "plt.show()"
   ]
  },
  {
   "cell_type": "code",
   "execution_count": null,
   "id": "311ed2dc-e1bb-46f6-a24f-6d3c07f42960",
   "metadata": {},
   "outputs": [],
   "source": [
    "# changing the figure size\n",
    "fig,ax = plt.subplots(4,figsize=(6,8))\n",
    "\n",
    "ax[0].plot(y)\n",
    "ax[1].plot(y2)\n",
    "ax[2].plot(y3)\n",
    "ax[3].plot(y4)\n",
    "plt.show()"
   ]
  },
  {
   "cell_type": "markdown",
   "id": "170dca55-0c21-44a9-87f6-a20d72861eff",
   "metadata": {},
   "source": [
    "### Labels"
   ]
  },
  {
   "cell_type": "code",
   "execution_count": null,
   "id": "ba43ed54-e27f-4c3e-9d15-d39646017457",
   "metadata": {},
   "outputs": [],
   "source": [
    "# Adding axes labels with set_?label\n",
    "figure = plt.figure()\n",
    "ax = figure.add_axes([0,0,0.7,0.7])\n",
    "\n",
    "ax.plot(x,y)\n",
    "ax.set_xlabel('x-axis label')\n",
    "ax.set_ylabel('y-axis label')\n",
    "plt.show()"
   ]
  },
  {
   "cell_type": "code",
   "execution_count": null,
   "id": "e3c1f387-d78b-4db7-88c0-1cedeff18b7a",
   "metadata": {},
   "outputs": [],
   "source": [
    "# Without the object-oriented approach\n",
    "plt.plot(x,y)\n",
    "plt.xlabel('x-axis label')\n",
    "plt.ylabel('y-axis label')\n",
    "plt.show()"
   ]
  },
  {
   "cell_type": "markdown",
   "id": "e6a80c8f-849d-4c27-b785-15f2143b88c2",
   "metadata": {},
   "source": [
    "### Title"
   ]
  },
  {
   "cell_type": "code",
   "execution_count": null,
   "id": "23a6c63c-28cf-4d63-9725-b494596d3dc1",
   "metadata": {
    "tags": []
   },
   "outputs": [],
   "source": [
    "# Add title with set_title\n",
    "figure = plt.figure()\n",
    "ax = figure.add_axes([0,0,0.7,0.7])\n",
    "\n",
    "ax.plot(x,y)\n",
    "ax.set_xlabel('x-axis label')\n",
    "ax.set_ylabel('y-axis label')\n",
    "ax.set_title('Plot Title')\n",
    "plt.show()"
   ]
  },
  {
   "cell_type": "code",
   "execution_count": null,
   "id": "53ee6387-a111-46c1-9bf2-628a6a57aa31",
   "metadata": {
    "tags": []
   },
   "outputs": [],
   "source": [
    "# If using subplots, add titles to each axes object and figure with sup_title\n",
    "figure = plt.figure(figsize=(8,4))\n",
    "\n",
    "ax1 = figure.add_subplot(121)\n",
    "ax2 = figure.add_subplot(122)\n",
    "\n",
    "ax1.plot(x,y)\n",
    "ax2.plot(x,y)\n",
    "ax1.set_xlabel('x-axis label')\n",
    "ax1.set_ylabel('y-axis label')\n",
    "ax2.set_xlabel('x-axis label2')\n",
    "ax2.set_ylabel('y-axis label2')\n",
    "ax1.set_title('Subplot Title 1')\n",
    "ax2.set_title('Subplot Title 2')\n",
    "figure.suptitle('Full Plot Title')\n",
    "plt.show()"
   ]
  },
  {
   "cell_type": "code",
   "execution_count": null,
   "id": "6263c0ac-1851-4b40-b321-900e11adef29",
   "metadata": {
    "tags": []
   },
   "outputs": [],
   "source": [
    "# Without the object-oriented approach\n",
    "plt.plot(x,y)\n",
    "plt.xlabel('x-axis label')\n",
    "plt.ylabel('y-axis label')\n",
    "plt.title('Plot Title')\n",
    "plt.show()"
   ]
  },
  {
   "cell_type": "markdown",
   "id": "42401c75-9108-4e1b-b7dc-7ca0a2a400ba",
   "metadata": {},
   "source": [
    "### Legend"
   ]
  },
  {
   "cell_type": "code",
   "execution_count": null,
   "id": "d30d5a43-e826-404b-8506-53ec1b1d1fee",
   "metadata": {
    "tags": []
   },
   "outputs": [],
   "source": [
    "# Add legend with .legend\n",
    "figure = plt.figure()\n",
    "ax = figure.add_axes([0,0,0.7,0.7])\n",
    "\n",
    "ax.plot(x,y2)\n",
    "ax.plot(x,y3)\n",
    "ax.set_xlabel('x-axis label')\n",
    "ax.set_ylabel('y-axis label')\n",
    "ax.set_title('Plot Title')\n",
    "ax.legend(['y2','y3'])\n",
    "plt.show()"
   ]
  },
  {
   "cell_type": "code",
   "execution_count": null,
   "id": "ff389ea7-249f-4e72-a66d-fa0912f2f179",
   "metadata": {
    "tags": []
   },
   "outputs": [],
   "source": [
    "# change legend location with the loc argument\n",
    "figure = plt.figure()\n",
    "ax = figure.add_axes([0,0,0.7,0.7])\n",
    "\n",
    "ax.plot(x,y2)\n",
    "ax.plot(x,y3)\n",
    "ax.set_xlabel('x-axis label')\n",
    "ax.set_ylabel('y-axis label')\n",
    "ax.set_title('Plot Title')\n",
    "ax.legend(['y2','y3'], loc = 'lower right')\n",
    "plt.show()"
   ]
  },
  {
   "cell_type": "code",
   "execution_count": null,
   "id": "88c0b4e3-16fc-49c9-885e-9098e8fce85b",
   "metadata": {
    "tags": []
   },
   "outputs": [],
   "source": [
    "# Another way to make the legend labels (better for lots of labels)\n",
    "figure = plt.figure()\n",
    "ax = figure.add_axes([0,0,0.7,0.7])\n",
    "\n",
    "ax.plot(x,y2, label = 'y2')\n",
    "ax.plot(x,y3, label = 'y3')\n",
    "ax.set_xlabel('x-axis label')\n",
    "ax.set_ylabel('y-axis label')\n",
    "ax.set_title('Plot Title')\n",
    "ax.legend(loc = 'lower right')\n",
    "plt.show()"
   ]
  },
  {
   "cell_type": "code",
   "execution_count": null,
   "id": "88b1ebf9-b909-40ae-aa3a-442b6091b394",
   "metadata": {
    "tags": []
   },
   "outputs": [],
   "source": [
    "# Move legend outside\n",
    "figure = plt.figure()\n",
    "ax = figure.add_axes([0,0,0.7,0.7])\n",
    "\n",
    "ax.plot(x,y2, label = 'y2')\n",
    "ax.plot(x,y3, label = 'y3')\n",
    "ax.set_xlabel('x-axis label')\n",
    "ax.set_ylabel('y-axis label')\n",
    "ax.set_title('Plot Title')\n",
    "ax.legend(loc = 'lower right')\n",
    "ax.legend(loc = 'center',bbox_to_anchor=(1.15,0.93))\n",
    "plt.show()"
   ]
  },
  {
   "cell_type": "markdown",
   "id": "de01a9bd-eade-4a7f-b0d1-597e09f398e5",
   "metadata": {},
   "source": [
    "### Ticks"
   ]
  },
  {
   "cell_type": "code",
   "execution_count": null,
   "id": "7b6c5fb6-c346-410b-8aad-9af0567f8e64",
   "metadata": {
    "tags": []
   },
   "outputs": [],
   "source": [
    "# Adjust ticks with set_?ticks\n",
    "figure = plt.figure()\n",
    "ax = figure.add_axes([0,0,0.7,0.7])\n",
    "\n",
    "ax.plot(x,y)\n",
    "ax.set_xlabel('x-axis label')\n",
    "ax.set_ylabel('y-axis label')\n",
    "ax.set_title('Plot Title')\n",
    "ax.set_xticks(np.arange(0,11,2))\n",
    "ax.set_yticks(np.arange(0,11,2))\n",
    "plt.show()"
   ]
  },
  {
   "cell_type": "code",
   "execution_count": null,
   "id": "50deba99-131e-4844-90a5-7a5109be29c9",
   "metadata": {
    "tags": []
   },
   "outputs": [],
   "source": [
    "# Adjust the labels that go with the ticks with set_?ticklabels\n",
    "figure = plt.figure()\n",
    "ax = figure.add_axes([0,0,0.7,0.7])\n",
    "\n",
    "ax.plot(x,y)\n",
    "ax.set_xlabel('x-axis label')\n",
    "ax.set_ylabel('y-axis label')\n",
    "ax.set_title('Plot Title')\n",
    "ax.set_xticks(np.arange(0,11,2))\n",
    "ax.set_yticks(np.arange(0,11,2))\n",
    "ax.set_xticklabels(['zero','two','four','six','eight','ten'])\n",
    "plt.show()"
   ]
  },
  {
   "cell_type": "code",
   "execution_count": null,
   "id": "ac620291-2455-4c95-b87c-486403b5180f",
   "metadata": {
    "tags": []
   },
   "outputs": [],
   "source": [
    "# Add minor ticks with minorticks_on\n",
    "figure = plt.figure()\n",
    "ax = figure.add_axes([0,0,0.7,0.7])\n",
    "\n",
    "ax.plot(x,y)\n",
    "ax.set_xlabel('x-axis label')\n",
    "ax.set_ylabel('y-axis label')\n",
    "ax.set_title('Plot Title')\n",
    "ax.set_xticks(np.arange(0,11,2))\n",
    "ax.set_yticks(np.arange(0,11,2))\n",
    "ax.set_xticklabels(['zero','two','four','six','eight','ten'])\n",
    "ax.minorticks_on()\n",
    "\n",
    "plt.show()"
   ]
  },
  {
   "cell_type": "markdown",
   "id": "79f5061a-ab5e-498d-a49d-ffe58afd7311",
   "metadata": {},
   "source": [
    "### Grid"
   ]
  },
  {
   "cell_type": "code",
   "execution_count": null,
   "id": "df69120c-0652-4b89-a7f7-10102b9e5ca8",
   "metadata": {
    "tags": []
   },
   "outputs": [],
   "source": [
    "# Add a grid on major ticks\n",
    "figure = plt.figure()\n",
    "ax = figure.add_axes([0,0,0.7,0.7])\n",
    "\n",
    "ax.plot(x,y)\n",
    "ax.set_xlabel('x-axis label')\n",
    "ax.set_ylabel('y-axis label')\n",
    "ax.set_title('Plot Title')\n",
    "ax.set_xticks(np.arange(0,11,2))\n",
    "ax.set_yticks(np.arange(0,11,2))\n",
    "ax.minorticks_on()\n",
    "ax.grid()\n",
    "\n",
    "plt.show()"
   ]
  },
  {
   "cell_type": "code",
   "execution_count": null,
   "id": "c63dfd50-3d26-4f2e-a050-eadc9a9be3aa",
   "metadata": {
    "tags": []
   },
   "outputs": [],
   "source": [
    "# Add a grid on minor ticks\n",
    "figure = plt.figure()\n",
    "ax = figure.add_axes([0,0,0.7,0.7])\n",
    "\n",
    "ax.plot(x,y)\n",
    "ax.set_xlabel('x-axis label')\n",
    "ax.set_ylabel('y-axis label')\n",
    "ax.set_title('Plot Title')\n",
    "ax.set_xticks(np.arange(0,11,2))\n",
    "ax.set_yticks(np.arange(0,11,2))\n",
    "ax.minorticks_on()\n",
    "ax.grid(which = 'both')\n",
    "\n",
    "plt.show()"
   ]
  },
  {
   "cell_type": "code",
   "execution_count": null,
   "id": "ceebfb03-57bf-4aaf-907a-b48b42ec36d7",
   "metadata": {
    "tags": []
   },
   "outputs": [],
   "source": [
    "# Remove plot boundaries (spines)\n",
    "figure = plt.figure()\n",
    "ax = figure.add_axes([0,0,0.7,0.7])\n",
    "\n",
    "ax.plot(x,y)\n",
    "ax.set_xlabel('x-axis label')\n",
    "ax.set_ylabel('y-axis label')\n",
    "ax.set_title('Plot Title')\n",
    "ax.set_xticks(np.arange(0,11,2))\n",
    "ax.set_yticks(np.arange(0,11,2))\n",
    "ax.minorticks_on()\n",
    "ax.grid(which = 'both')\n",
    "ax.spines['top'].set_visible(False)\n",
    "ax.spines['right'].set_visible(False)\n",
    "plt.show()"
   ]
  },
  {
   "cell_type": "markdown",
   "id": "596c7010",
   "metadata": {},
   "source": [
    "## Other modifications"
   ]
  },
  {
   "cell_type": "code",
   "execution_count": null,
   "id": "6d2d6880",
   "metadata": {
    "scrolled": true
   },
   "outputs": [],
   "source": [
    "# Let's look at a more applied example\n",
    "peppers = pd.DataFrame({\n",
    "    'Scoville_scale':[0.0,5000.0,10000.0,60000.0,500000.0,2000000.0],\n",
    "    'Chili_pepper_scale':[0,1,2,3,4,5],\n",
    "    'Name': ['Bell pepper','Espelette pepper','Serrano pepper',\"Bird's eye chili\",'Chocolate habanero','Carolina Reaper'],\n",
    "    'Feeling':['Not even spicy','Uncomfortable','I regret this','4th stage of grief','Practically ate pepper spray','Actually ate pepper spray']\n",
    "    \n",
    "})\n",
    "peppers"
   ]
  },
  {
   "cell_type": "code",
   "execution_count": null,
   "id": "1d7959fa-4f27-4cbe-92e6-ede0766f678a",
   "metadata": {},
   "outputs": [],
   "source": [
    "# Base plot\n",
    "fig = plt.figure()\n",
    "ax = fig.add_axes([0,0,0.7,0.7])\n",
    "ax.plot('Scoville_scale','Chili_pepper_scale','ro',data = peppers)\n",
    "ax.set_xlabel('Schoville scale')\n",
    "ax.set_ylabel('Chili pepper scale')\n",
    "ax.set_title('Peppers')\n",
    "plt.show()"
   ]
  },
  {
   "cell_type": "code",
   "execution_count": null,
   "id": "4551c274-1788-475a-8d33-231a8b8ab84c",
   "metadata": {},
   "outputs": [],
   "source": [
    "# Add annotation\n",
    "ax.annotate('mild',xytext=(10**5,0.15),xy = (0,0), arrowprops = dict(arrowstyle='->'))\n",
    "ax.annotate('spicy',xytext=(1800000,4.5),\n",
    "            xy = (peppers.Scoville_scale.iloc[-1],peppers.Chili_pepper_scale.iloc[-1]), \n",
    "            arrowprops = dict(arrowstyle='->'))\n",
    "fig"
   ]
  },
  {
   "cell_type": "code",
   "execution_count": null,
   "id": "49db94e9",
   "metadata": {},
   "outputs": [],
   "source": [
    "# remove scientific notation\n",
    "ax.ticklabel_format(style=\"plain\", axis=\"x\")\n",
    "fig"
   ]
  },
  {
   "cell_type": "code",
   "execution_count": null,
   "id": "e77feaf8-7c4d-4cda-bd4d-569b352bd63d",
   "metadata": {
    "tags": []
   },
   "outputs": [],
   "source": [
    "# Rotate x-ticks\n",
    "ax.set_xticks(np.linspace(0,max(peppers.Scoville_scale),5))  # Ensure ticks are placed correctly\n",
    "ax.set_xticklabels(np.linspace(0,max(peppers.Scoville_scale),5),rotation=45)\n",
    "fig"
   ]
  },
  {
   "cell_type": "markdown",
   "id": "bbbb2d87-6612-4a43-bde9-ef35488f0bcb",
   "metadata": {},
   "source": [
    "### Making Prettier Plots"
   ]
  },
  {
   "cell_type": "code",
   "execution_count": null,
   "id": "aed76b7f-ced4-4681-b9e1-fdb30a6ba426",
   "metadata": {
    "tags": []
   },
   "outputs": [],
   "source": [
    "# Make things pretty\n",
    "plt.style.use(\"fivethirtyeight\")\n",
    "\n",
    "plt.rcParams[\"font.size\"] = 14  # Increase default font size\n",
    "plt.rcParams[\"font.family\"] = \"Times New Roman\"  # Use a serif font (e.g., Times New Roman)\n",
    "plt.rcParams[\"axes.labelweight\"] = \"bold\"  # Make axis labels bold\n",
    "plt.rcParams[\"axes.titleweight\"] = \"bold\"  # Make title bold\n",
    "plt.rcParams[\"axes.titlesize\"] = 16  # Bigger title size\n",
    "plt.rcParams[\"xtick.labelsize\"] = 12  # Adjust tick label size\n",
    "plt.rcParams[\"ytick.labelsize\"] = 12"
   ]
  },
  {
   "cell_type": "code",
   "execution_count": null,
   "id": "93930a0e",
   "metadata": {},
   "outputs": [],
   "source": [
    "df = pd.read_csv('https://raw.githubusercontent.com/bethanyj0/data271_sp24/main/midterms/property_price.csv')\n",
    "df.head()"
   ]
  },
  {
   "cell_type": "code",
   "execution_count": null,
   "id": "47ac48dd",
   "metadata": {},
   "outputs": [],
   "source": [
    "# get California and Florida data\n",
    "cali = df[df['City'].str.contains('CA')]\n",
    "florida = df[df['City'].str.contains('FL')]"
   ]
  },
  {
   "cell_type": "code",
   "execution_count": null,
   "id": "b978cf6b",
   "metadata": {},
   "outputs": [],
   "source": [
    "# Labels for the legend\n",
    "plt.plot('Affordability Index','Price To Income Ratio','o',data = cali,label = 'California')\n",
    "plt.plot('Affordability Index','Price To Income Ratio','o',data=florida, label = 'Florida')\n",
    "plt.xlabel('Affordability Index')\n",
    "plt.ylabel('Price To Income Ratio')\n",
    "plt.title('Florida and California')\n",
    "plt.legend()\n",
    "plt.show()"
   ]
  },
  {
   "cell_type": "markdown",
   "id": "d7dd5fac",
   "metadata": {},
   "source": [
    "## Activity "
   ]
  },
  {
   "cell_type": "markdown",
   "id": "4440ab26",
   "metadata": {},
   "source": [
    "Plot the relationship between Price To Rent Ratio City Centre Price To Rent Ratio Outside of City in the `df` dataset. Add a title, legend, axes labels and adjust the ticks. Play with the display options."
   ]
  },
  {
   "cell_type": "code",
   "execution_count": null,
   "id": "c3e34a8b",
   "metadata": {},
   "outputs": [],
   "source": []
  },
  {
   "cell_type": "markdown",
   "id": "4cfc4a64",
   "metadata": {},
   "source": [
    "Plot the distribution of Price to Income Ratio. Be sure to add a title and axes labels. Play with any other customizations you want."
   ]
  },
  {
   "cell_type": "code",
   "execution_count": null,
   "id": "94eeddf2",
   "metadata": {},
   "outputs": [],
   "source": []
  }
 ],
 "metadata": {
  "kernelspec": {
   "display_name": "Python 3 (ipykernel)",
   "language": "python",
   "name": "python3"
  },
  "language_info": {
   "codemirror_mode": {
    "name": "ipython",
    "version": 3
   },
   "file_extension": ".py",
   "mimetype": "text/x-python",
   "name": "python",
   "nbconvert_exporter": "python",
   "pygments_lexer": "ipython3",
   "version": "3.11.4"
  }
 },
 "nbformat": 4,
 "nbformat_minor": 5
}
