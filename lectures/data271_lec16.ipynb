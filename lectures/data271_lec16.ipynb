{
 "cells": [
  {
   "cell_type": "markdown",
   "id": "bd035d4a",
   "metadata": {},
   "source": [
    "# Customizing plots with Matplotlib\n",
    "If you want to type along with me, use [this notebook](https://humboldt.cloudbank.2i2c.cloud/hub/user-redirect/git-pull?repo=https%3A%2F%2Fgithub.com%2Fbethanyj0%2Fdata271_sp24&branch=main&urlpath=tree%2Fdata271_sp24%2Fdemos%2Fdata271_demo16_live.ipynb) instead. \n",
    "If you don't want to type and want to follow along just by executing the cells, stay in this notebook. "
   ]
  },
  {
   "cell_type": "code",
   "execution_count": null,
   "id": "26e99e3b",
   "metadata": {},
   "outputs": [],
   "source": [
    "import numpy as np\n",
    "import pandas as pd\n",
    "import matplotlib.pyplot as plt"
   ]
  },
  {
   "cell_type": "markdown",
   "id": "596c7010",
   "metadata": {},
   "source": [
    "## Data in a Pandas DataFrame"
   ]
  },
  {
   "cell_type": "code",
   "execution_count": null,
   "id": "6d2d6880",
   "metadata": {
    "scrolled": true
   },
   "outputs": [],
   "source": [
    "# Make peppers dataframe\n",
    "peppers = pd.DataFrame({\n",
    "    'Scoville_scale':[0.0,5000.0,10000.0,60000.0,500000.0,2000000.0],\n",
    "    'Chili_pepper_scale':[0,1,2,3,4,5],\n",
    "    'Name': ['Bell pepper','Espelette pepper','Serrano pepper',\"Bird's eye chili\",'Chocolate habanero','Carolina Reaper'],\n",
    "    'Feeling':['Not even spicy','Uncomfortable','I regret this','4th stage of grief','Practically ate pepper spray','Actually ate pepper spray']\n",
    "    \n",
    "})\n",
    "peppers"
   ]
  },
  {
   "cell_type": "code",
   "execution_count": null,
   "id": "49db94e9",
   "metadata": {},
   "outputs": [],
   "source": [
    "# plotting with matplotlib\n",
    "plt.plot(peppers.Scoville_scale,peppers.Chili_pepper_scale,'ro')\n",
    "plt.show()"
   ]
  },
  {
   "cell_type": "code",
   "execution_count": null,
   "id": "53595a4b",
   "metadata": {},
   "outputs": [],
   "source": [
    "# another way plt.plot(x_label,y_label,[format],data = Pandas DataFrame)\n",
    "plt.plot('Scoville_scale','Chili_pepper_scale','ro',data = peppers)\n",
    "plt.show()"
   ]
  },
  {
   "cell_type": "code",
   "execution_count": null,
   "id": "13a446ac",
   "metadata": {},
   "outputs": [],
   "source": [
    "# object oriented version: how to label axes\n",
    "fig = plt.figure()\n",
    "ax = fig.add_axes([0,0,0.7,0.7])\n",
    "ax.plot('Scoville_scale','Chili_pepper_scale','ro',data = peppers)\n",
    "ax.set_xlabel('Schoville scale')\n",
    "ax.set_ylabel('Chili pepper scale')\n",
    "plt.show()"
   ]
  },
  {
   "cell_type": "code",
   "execution_count": null,
   "id": "99b26fc7",
   "metadata": {},
   "outputs": [],
   "source": [
    "# Make a title\n",
    "ax.set_title('Spicy scales')\n",
    "fig"
   ]
  },
  {
   "cell_type": "code",
   "execution_count": null,
   "id": "474be287",
   "metadata": {},
   "outputs": [],
   "source": [
    "ax.annotate('mild',xytext=(10**5,0.15),xy = (0,0), arrowprops = dict(arrowstyle='->'))\n",
    "ax.annotate('spicy',xytext=(1800000,4.5),\n",
    "            xy = (peppers.Scoville_scale.iloc[-1],peppers.Chili_pepper_scale.iloc[-1]), \n",
    "            arrowprops = dict(arrowstyle='->'))\n",
    "fig"
   ]
  },
  {
   "cell_type": "markdown",
   "id": "50526e44",
   "metadata": {},
   "source": [
    "## Customizing plots with more complicated data"
   ]
  },
  {
   "cell_type": "code",
   "execution_count": null,
   "id": "93930a0e",
   "metadata": {},
   "outputs": [],
   "source": [
    "df = pd.read_csv('https://raw.githubusercontent.com/bethanyj0/data271_sp24/main/midterms/property_price.csv')\n",
    "df.head()"
   ]
  },
  {
   "cell_type": "code",
   "execution_count": null,
   "id": "47ac48dd",
   "metadata": {},
   "outputs": [],
   "source": [
    "# get California and Florida data\n",
    "cali = df[df['City'].str.contains('CA')]\n",
    "florida = df[df['City'].str.contains('FL')]"
   ]
  },
  {
   "cell_type": "code",
   "execution_count": null,
   "id": "b66c6829",
   "metadata": {},
   "outputs": [],
   "source": [
    "# Add a legend to figures\n",
    "plt.plot('Affordability Index','Price To Income Ratio','o',data = cali)\n",
    "plt.plot('Affordability Index','Price To Income Ratio','o',data=florida)\n",
    "plt.xlabel('Affordability Index')\n",
    "plt.ylabel('Price To Income Ratio')\n",
    "plt.title('Florida and California')\n",
    "plt.legend()\n",
    "plt.show()"
   ]
  },
  {
   "cell_type": "code",
   "execution_count": null,
   "id": "b978cf6b",
   "metadata": {},
   "outputs": [],
   "source": [
    "# Labels for the legend\n",
    "plt.plot('Affordability Index','Price To Income Ratio','o',data = cali,label = 'California')\n",
    "plt.plot('Affordability Index','Price To Income Ratio','o',data=florida, label = 'Florida')\n",
    "plt.xlabel('Affordability Index')\n",
    "plt.ylabel('Price To Income Ratio')\n",
    "plt.title('Florida and California')\n",
    "plt.legend()\n",
    "plt.show()"
   ]
  },
  {
   "cell_type": "code",
   "execution_count": null,
   "id": "dfed760f",
   "metadata": {},
   "outputs": [],
   "source": [
    "# If you want the legend on the outside of the figure\n",
    "plt.plot('Affordability Index','Price To Income Ratio','o',data = cali,label = 'California')\n",
    "plt.plot('Affordability Index','Price To Income Ratio','o',data=florida, label = 'Florida')\n",
    "plt.xlabel('Affordability Index')\n",
    "plt.ylabel('Price To Income Ratio')\n",
    "plt.title('Florida and California')\n",
    "plt.legend(loc = 'center',bbox_to_anchor=(1.15,0.93))\n",
    "plt.show()"
   ]
  },
  {
   "cell_type": "code",
   "execution_count": null,
   "id": "98577e1d",
   "metadata": {},
   "outputs": [],
   "source": [
    "# Adjust the fontsize of the title\n",
    "plt.plot('Affordability Index','Price To Income Ratio','o',data = cali,label = 'California')\n",
    "plt.plot('Affordability Index','Price To Income Ratio','o',data=florida, label = 'Florida')\n",
    "plt.xlabel('Affordability Index')\n",
    "plt.ylabel('Price To Income Ratio')\n",
    "plt.title('Florida and California',fontsize = 19)\n",
    "plt.legend(loc = 'center',bbox_to_anchor=(1.15,0.93))\n",
    "plt.show()"
   ]
  },
  {
   "cell_type": "code",
   "execution_count": null,
   "id": "f9e125c6",
   "metadata": {},
   "outputs": [],
   "source": [
    "# Adjust the font \n",
    "plt.plot('Affordability Index','Price To Income Ratio','o',data = cali,label = 'California')\n",
    "plt.plot('Affordability Index','Price To Income Ratio','o',data=florida, label = 'Florida')\n",
    "plt.xlabel('Affordability Index')\n",
    "plt.ylabel('Price To Income Ratio')\n",
    "plt.title('Florida and California',fontdict = {'fontsize' : 19,'font':'Times New Roman'})\n",
    "plt.legend(loc = 'center',bbox_to_anchor=(1.15,0.93))\n",
    "plt.show()"
   ]
  },
  {
   "cell_type": "code",
   "execution_count": null,
   "id": "d4eae1f5",
   "metadata": {},
   "outputs": [],
   "source": [
    "# Set fontsize for everything\n",
    "plt.rcParams['font.size'] = '16'\n",
    "\n",
    "plt.plot('Affordability Index','Price To Income Ratio','o',data = cali,label = 'California')\n",
    "plt.plot('Affordability Index','Price To Income Ratio','o',data=florida, label = 'Florida')\n",
    "plt.xlabel('Affordability Index')\n",
    "plt.ylabel('Price To Income Ratio')\n",
    "plt.title('Florida and California')\n",
    "plt.legend(loc = 'center',bbox_to_anchor=(1.15,0.93))\n",
    "plt.show()"
   ]
  },
  {
   "cell_type": "code",
   "execution_count": null,
   "id": "64d239f1",
   "metadata": {},
   "outputs": [],
   "source": [
    "# Set the x limits and the y limits\n",
    "plt.rcParams['font.size'] = '12'\n",
    "plt.plot('Affordability Index','Price To Income Ratio','o',data = cali,label = 'California')\n",
    "plt.plot('Affordability Index','Price To Income Ratio','o',data=florida, label = 'Florida')\n",
    "plt.xlabel('Affordability Index')\n",
    "plt.ylabel('Price To Income Ratio')\n",
    "plt.title('Florida and California', fontsize = 18)\n",
    "plt.legend(loc = 'center',bbox_to_anchor=(1.15,0.93))\n",
    "plt.xlim([0,6])\n",
    "plt.ylim([0,15])\n",
    "plt.show()"
   ]
  },
  {
   "cell_type": "code",
   "execution_count": null,
   "id": "5472f48b",
   "metadata": {},
   "outputs": [],
   "source": [
    "# Specifying the tick frequency\n",
    "plt.plot('Affordability Index','Price To Income Ratio','o',data = cali,label = 'California')\n",
    "plt.plot('Affordability Index','Price To Income Ratio','o',data=florida, label = 'Florida')\n",
    "plt.xlabel('Affordability Index')\n",
    "plt.ylabel('Price To Income Ratio')\n",
    "plt.title('Florida and California', fontsize = 18)\n",
    "plt.legend(loc = 'center',bbox_to_anchor=(1.15,0.93))\n",
    "plt.xlim([0,6])\n",
    "plt.ylim([0,15])\n",
    "plt.xticks(np.arange(0,6.5,0.3))\n",
    "plt.show()"
   ]
  },
  {
   "cell_type": "code",
   "execution_count": null,
   "id": "21d17223",
   "metadata": {},
   "outputs": [],
   "source": [
    "# Rotating your tick labels\n",
    "plt.plot('Affordability Index','Price To Income Ratio','o',data = cali,label = 'California')\n",
    "plt.plot('Affordability Index','Price To Income Ratio','o',data=florida, label = 'Florida')\n",
    "plt.xlabel('Affordability Index')\n",
    "plt.ylabel('Price To Income Ratio')\n",
    "plt.title('Florida and California', fontsize = 18)\n",
    "plt.legend(loc = 'center',bbox_to_anchor=(1.15,0.93))\n",
    "plt.xlim([0,6])\n",
    "plt.ylim([0,15])\n",
    "plt.xticks(np.arange(0,6.5,0.3), rotation=45)\n",
    "plt.show()"
   ]
  },
  {
   "cell_type": "code",
   "execution_count": null,
   "id": "c70b5cb1",
   "metadata": {},
   "outputs": [],
   "source": [
    "# Object oriented version of all of this\n",
    "figure = plt.figure()\n",
    "ax = figure.add_axes([0,0,0.7,0.7])\n",
    "ax.plot('Affordability Index','Price To Income Ratio','o',data = cali,label='California')\n",
    "ax.plot('Affordability Index','Price To Income Ratio','o',data=florida,label='Florida')\n",
    "ax.legend(loc = 'upper right')\n",
    "ax.set_xlabel('Affordability Index')\n",
    "ax.set_ylabel('Price To Income Ratio')\n",
    "ax.set_title('Florida and California')\n",
    "ax.legend(loc = 'center',bbox_to_anchor=(1.15,0.93))\n",
    "ax.set_xlim([0,6])\n",
    "ax.set_ylim([0,15])\n",
    "plt.xticks(np.arange(0,6.5,0.3), rotation=45)\n",
    "plt.show()"
   ]
  },
  {
   "cell_type": "code",
   "execution_count": null,
   "id": "e565bff2",
   "metadata": {},
   "outputs": [],
   "source": [
    "figure"
   ]
  },
  {
   "cell_type": "markdown",
   "id": "f9f3860b",
   "metadata": {},
   "source": [
    "## Plotting categorical data"
   ]
  },
  {
   "cell_type": "code",
   "execution_count": null,
   "id": "8d1be01e",
   "metadata": {},
   "outputs": [],
   "source": [
    "# create a new column just containing the state\n",
    "df['state'] = [i[-2:] for i in df.City]\n",
    "df"
   ]
  },
  {
   "cell_type": "code",
   "execution_count": null,
   "id": "7ccf7cd6",
   "metadata": {
    "scrolled": false
   },
   "outputs": [],
   "source": [
    "# Get frequency of each state and make a bar plot\n",
    "state_nums = df.state.value_counts()\n",
    "\n",
    "plt.rcParams['font.size'] = '12'\n",
    "plt.figure(figsize=(12,3))\n",
    "plt.bar(state_nums.index, state_nums.values)\n",
    "plt.xticks(rotation=45)\n",
    "plt.ylabel('Frequency')\n",
    "plt.xlabel('State')\n",
    "plt.show()"
   ]
  },
  {
   "cell_type": "code",
   "execution_count": null,
   "id": "5d58e0a6",
   "metadata": {},
   "outputs": [],
   "source": [
    "# Can also make horizontal bar plots\n",
    "plt.figure(figsize=(3,12))\n",
    "plt.barh(state_nums.index, state_nums.values)\n",
    "plt.xlabel('Frequency')\n",
    "plt.ylabel('State')\n",
    "plt.show()"
   ]
  },
  {
   "cell_type": "markdown",
   "id": "d17e552d",
   "metadata": {},
   "source": [
    "## Plotting Distributions "
   ]
  },
  {
   "cell_type": "code",
   "execution_count": null,
   "id": "4f1ce495",
   "metadata": {},
   "outputs": [],
   "source": [
    "plt.hist(df['Affordability Index'])\n",
    "plt.ylabel('Frequency')\n",
    "plt.xlabel('Affordability Index')\n",
    "plt.show()"
   ]
  },
  {
   "cell_type": "code",
   "execution_count": null,
   "id": "3e1d8651",
   "metadata": {},
   "outputs": [],
   "source": [
    "# some modifications\n",
    "plt.hist(df['Affordability Index'],bins=12, color='skyblue', edgecolor='black')\n",
    "plt.ylabel('Frequency')\n",
    "plt.xlabel('Affordability Index')\n",
    "plt.show()"
   ]
  },
  {
   "cell_type": "markdown",
   "id": "d7dd5fac",
   "metadata": {},
   "source": [
    "## Activity "
   ]
  },
  {
   "cell_type": "markdown",
   "id": "4440ab26",
   "metadata": {},
   "source": [
    "Plot the relationship between Price To Rent Ratio City Centre Price To Rent Ratio Outside of City in the `df` dataset. Add a title, legend, axes labels and adjust the ticks. "
   ]
  },
  {
   "cell_type": "code",
   "execution_count": null,
   "id": "c3e34a8b",
   "metadata": {},
   "outputs": [],
   "source": []
  },
  {
   "cell_type": "markdown",
   "id": "4cfc4a64",
   "metadata": {},
   "source": [
    "Plot the distribution of Price to Income Ratio. Be sure to add a title and axes labels. Play with any other customizations you want."
   ]
  },
  {
   "cell_type": "code",
   "execution_count": null,
   "id": "94eeddf2",
   "metadata": {},
   "outputs": [],
   "source": []
  }
 ],
 "metadata": {
  "kernelspec": {
   "display_name": "Python 3 (ipykernel)",
   "language": "python",
   "name": "python3"
  },
  "language_info": {
   "codemirror_mode": {
    "name": "ipython",
    "version": 3
   },
   "file_extension": ".py",
   "mimetype": "text/x-python",
   "name": "python",
   "nbconvert_exporter": "python",
   "pygments_lexer": "ipython3",
   "version": "3.11.4"
  }
 },
 "nbformat": 4,
 "nbformat_minor": 5
}
