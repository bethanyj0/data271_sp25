{
 "cells": [
  {
   "cell_type": "markdown",
   "id": "bd035d4a",
   "metadata": {},
   "source": [
    "# The Grammar of Graphics\n",
    "If you want to type along with me, use [this notebook](https://humboldt.cloudbank.2i2c.cloud/hub/user-redirect/git-pull?repo=https%3A%2F%2Fgithub.com%2Fbethanyj0%2Fdata271_sp24&branch=main&urlpath=tree%2Fdata271_sp24%2Fdemos%2Fdata271_demo17_live.ipynb) instead. \n",
    "If you don't want to type and want to follow along just by executing the cells, stay in this notebook. "
   ]
  },
  {
   "cell_type": "code",
   "execution_count": null,
   "id": "26e99e3b",
   "metadata": {},
   "outputs": [],
   "source": [
    "import numpy as np\n",
    "import pandas as pd\n",
    "import matplotlib.pyplot as plt\n",
    "from plotnine import *\n",
    "from plotnine.data import midwest\n",
    "import warnings \n",
    "warnings.filterwarnings('ignore') "
   ]
  },
  {
   "cell_type": "markdown",
   "id": "aa868a1b",
   "metadata": {},
   "source": [
    "**NOTE** If you get errors when you run the cell above, go to the terminal and type the following\n",
    "```python\n",
    "pip install plotnine\n",
    "pip install matplotlib==3.8.3\n",
    "```\n",
    "\n",
    "Then come back to this notebook and try again. (You might have to restart your kernel). "
   ]
  },
  {
   "cell_type": "code",
   "execution_count": null,
   "id": "59d97531",
   "metadata": {},
   "outputs": [],
   "source": [
    "df = midwest\n",
    "df"
   ]
  },
  {
   "cell_type": "code",
   "execution_count": null,
   "id": "521dae3b",
   "metadata": {},
   "outputs": [],
   "source": [
    "# Visualize the relationship between the percent who went to college, and the percent who got a professional degree\n",
    "# With matplotlib\n",
    "plt.scatter('percollege','percprof',data = df)\n",
    "plt.xlabel('percollege')\n",
    "plt.ylabel('percprof')\n",
    "plt.show()"
   ]
  },
  {
   "cell_type": "code",
   "execution_count": null,
   "id": "4f8d4b89",
   "metadata": {},
   "outputs": [],
   "source": [
    "# Do the same with a plotnine ggplot\n",
    "ggplot?"
   ]
  },
  {
   "cell_type": "markdown",
   "id": "0d1d6a0d",
   "metadata": {},
   "source": [
    "The rest of the plotnine documentation is [here](https://plotnine.org/reference/) (including examples). "
   ]
  },
  {
   "cell_type": "code",
   "execution_count": null,
   "id": "cd63b784",
   "metadata": {
    "scrolled": true
   },
   "outputs": [],
   "source": [
    "# Do the same with a plotnine ggplot\n",
    "(ggplot(df, aes(x='percollege',y='percprof'))\n",
    "+geom_point())"
   ]
  },
  {
   "cell_type": "markdown",
   "id": "579ef93e",
   "metadata": {},
   "source": [
    "Does the relationship vary by state? Let's make each state a different color."
   ]
  },
  {
   "cell_type": "code",
   "execution_count": null,
   "id": "dd225d59",
   "metadata": {},
   "outputs": [],
   "source": [
    "# Do this with matplotlib\n",
    "df.state.unique()"
   ]
  },
  {
   "cell_type": "code",
   "execution_count": null,
   "id": "8ec72790",
   "metadata": {},
   "outputs": [],
   "source": [
    "# Separate our data\n",
    "IL = df[df.state == 'IL']\n",
    "IN = df[df.state == 'IN']\n",
    "MI = df[df.state == 'MI']\n",
    "OH = df[df.state == 'OH']\n",
    "WI = df[df.state == 'WI']"
   ]
  },
  {
   "cell_type": "code",
   "execution_count": null,
   "id": "16e0b838",
   "metadata": {},
   "outputs": [],
   "source": [
    "# Create our scatter plots\n",
    "plt.scatter('percollege','percprof',data = IL,label='IL')\n",
    "plt.scatter('percollege','percprof',data = IN,label='IN')\n",
    "plt.scatter('percollege','percprof',data = MI,label='MI')\n",
    "plt.scatter('percollege','percprof',data = OH,label='OH')\n",
    "plt.scatter('percollege','percprof',data = WI,label='WI')\n",
    "plt.xlabel('percollege')\n",
    "plt.ylabel('percprof')\n",
    "plt.legend()\n",
    "plt.show()"
   ]
  },
  {
   "cell_type": "code",
   "execution_count": null,
   "id": "1ef0e117",
   "metadata": {},
   "outputs": [],
   "source": [
    "# do the same thing with a plotnine ggplot\n",
    "(ggplot(df, aes('percollege','percprof',color = 'state'))\n",
    "+geom_point())"
   ]
  },
  {
   "cell_type": "markdown",
   "id": "2a37eccf",
   "metadata": {},
   "source": [
    "These are all on top of eachother. Let's split up the visulazations"
   ]
  },
  {
   "cell_type": "code",
   "execution_count": null,
   "id": "17cb2357",
   "metadata": {},
   "outputs": [],
   "source": [
    "# with matplotlib\n",
    "fig, ax = plt.subplots(1,5,figsize = (12,3))\n",
    "ax[0].scatter('percollege','percprof',data = IL)\n",
    "ax[0].set_title('IL')\n",
    "ax[1].scatter('percollege','percprof',data = IN)\n",
    "ax[1].set_title('IL')\n",
    "ax[2].scatter('percollege','percprof',data = MI)\n",
    "ax[2].set_title('IL')\n",
    "ax[3].scatter('percollege','percprof',data = OH)\n",
    "ax[3].set_title('IL')\n",
    "ax[4].scatter('percollege','percprof',data = WI)\n",
    "ax[4].set_title('IL')\n",
    "ax[0].set_xlabel('percollege')\n",
    "ax[0].set_ylabel('percprof')\n",
    "plt.show()"
   ]
  },
  {
   "cell_type": "code",
   "execution_count": null,
   "id": "ea358a2e",
   "metadata": {},
   "outputs": [],
   "source": [
    "# with a plotnine ggplot\n",
    "(ggplot(df,aes('percollege','percprof',color = 'state'))\n",
    "+geom_point()\n",
    "+facet_wrap('state'))"
   ]
  },
  {
   "cell_type": "code",
   "execution_count": null,
   "id": "9c131acb",
   "metadata": {},
   "outputs": [],
   "source": [
    "# add statistical transformations\n",
    "(ggplot(df,aes('percollege','percprof',color = 'state'))\n",
    "+geom_point()\n",
    "+facet_wrap('state')\n",
    "+stat_smooth())"
   ]
  },
  {
   "cell_type": "markdown",
   "id": "603244c3",
   "metadata": {},
   "source": [
    "What if we wanted to visualize the number of counties in each state."
   ]
  },
  {
   "cell_type": "code",
   "execution_count": null,
   "id": "b7acecb3",
   "metadata": {},
   "outputs": [],
   "source": [
    "# with matplotlib \n",
    "counties_per_state = df.state.value_counts()\n",
    "plt.bar(counties_per_state.index, counties_per_state.values)\n",
    "plt.show()"
   ]
  },
  {
   "cell_type": "code",
   "execution_count": null,
   "id": "498746a0",
   "metadata": {},
   "outputs": [],
   "source": [
    "# with ggplot\n",
    "(ggplot(df,aes(x='state'))\n",
    "+geom_bar())"
   ]
  },
  {
   "cell_type": "code",
   "execution_count": null,
   "id": "44408164",
   "metadata": {},
   "outputs": [],
   "source": []
  }
 ],
 "metadata": {
  "kernelspec": {
   "display_name": "Python 3 (ipykernel)",
   "language": "python",
   "name": "python3"
  },
  "language_info": {
   "codemirror_mode": {
    "name": "ipython",
    "version": 3
   },
   "file_extension": ".py",
   "mimetype": "text/x-python",
   "name": "python",
   "nbconvert_exporter": "python",
   "pygments_lexer": "ipython3",
   "version": "3.11.4"
  }
 },
 "nbformat": 4,
 "nbformat_minor": 5
}
