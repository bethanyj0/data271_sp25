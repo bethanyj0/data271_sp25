{
 "cells": [
  {
   "cell_type": "markdown",
   "id": "bd035d4a",
   "metadata": {},
   "source": [
    "# The Grammar of Graphics"
   ]
  },
  {
   "cell_type": "code",
   "execution_count": null,
   "id": "d1a4bf6f-e3db-485b-ba62-89e92a7693de",
   "metadata": {},
   "outputs": [],
   "source": [
    "import numpy as np\n",
    "import pandas as pd\n",
    "import matplotlib.pyplot as plt\n",
    "from plotnine import *\n",
    "from plotnine.data import midwest\n",
    "import warnings \n",
    "warnings.filterwarnings('ignore') "
   ]
  },
  {
   "cell_type": "markdown",
   "id": "8bfef58f-0cfc-42f5-ac80-40102d42d1f8",
   "metadata": {},
   "source": [
    "**NOTE** If you get errors when you run the cell above, go to the terminal and type the following\n",
    "```python\n",
    "pip install plotnine\n",
    "pip install matplotlib==3.8.3\n",
    "```\n",
    "\n",
    "Then come back to this notebook and try again. (You might have to restart your kernel). "
   ]
  },
  {
   "cell_type": "code",
   "execution_count": null,
   "id": "ff811d39-c98e-4c4a-b035-884247bb3377",
   "metadata": {},
   "outputs": [],
   "source": [
    "df = ...\n",
    "df"
   ]
  },
  {
   "cell_type": "code",
   "execution_count": null,
   "id": "fa86abd4-90f9-4b59-9ec0-f6ba3cdfe43a",
   "metadata": {},
   "outputs": [],
   "source": [
    "# Visualize the relationship between the percent who went to college, and the percent who got a professional degree\n",
    "# With matplotlib\n",
    "plt.\n",
    "plt.\n",
    "plt.\n",
    "plt."
   ]
  },
  {
   "cell_type": "code",
   "execution_count": null,
   "id": "5f609081-85ba-4e88-9711-9cf5215b3409",
   "metadata": {},
   "outputs": [],
   "source": [
    "# Do the same with a plotnine ggplot\n"
   ]
  },
  {
   "cell_type": "markdown",
   "id": "38522210-fd14-4aa4-ae37-a5a4c2715743",
   "metadata": {},
   "source": [
    "The rest of the plotnine documentation is [here](https://plotnine.org/reference/) (including examples). "
   ]
  },
  {
   "cell_type": "code",
   "execution_count": null,
   "id": "e5defc8f-5326-40c9-87f5-1baaafba21c4",
   "metadata": {
    "scrolled": true
   },
   "outputs": [],
   "source": [
    "# Do the same with a plotnine ggplot\n"
   ]
  },
  {
   "cell_type": "markdown",
   "id": "8544bf00-744a-4646-9a1b-821c7e665ed0",
   "metadata": {},
   "source": [
    "Does the relationship vary by state? Let's make each state a different color."
   ]
  },
  {
   "cell_type": "code",
   "execution_count": null,
   "id": "b76f8f6b-9197-4c11-82c2-b0cf220b7f03",
   "metadata": {},
   "outputs": [],
   "source": [
    "# Do this with matplotlib\n"
   ]
  },
  {
   "cell_type": "code",
   "execution_count": null,
   "id": "c0fe8efe-ae32-409a-87fa-2820e79fc3e1",
   "metadata": {},
   "outputs": [],
   "source": [
    "# Separate our data\n",
    "IL = \n",
    "IN =\n",
    "MI = \n",
    "OH = \n",
    "WI ="
   ]
  },
  {
   "cell_type": "code",
   "execution_count": null,
   "id": "b7c26c74-950c-47b8-8cc7-ed62e7e98f96",
   "metadata": {},
   "outputs": [],
   "source": [
    "# Create our scatter plots\n",
    "plt.\n",
    "plt.\n",
    "plt.\n",
    "plt.\n",
    "plt.\n",
    "plt.\n",
    "plt.\n",
    "plt.legend()\n",
    "plt.show()"
   ]
  },
  {
   "cell_type": "code",
   "execution_count": null,
   "id": "93d9b6ed-6162-4587-a387-1b4aa6da043b",
   "metadata": {},
   "outputs": [],
   "source": [
    "# do the same thing with a plotnine ggplot\n"
   ]
  },
  {
   "cell_type": "markdown",
   "id": "35b4c062-cca5-4c71-ab98-c3ae383dc6b2",
   "metadata": {},
   "source": [
    "These are all on top of eachother. Let's split up the visulazations"
   ]
  },
  {
   "cell_type": "code",
   "execution_count": null,
   "id": "25991d45-8063-4867-8bd9-d656c9bce09b",
   "metadata": {},
   "outputs": [],
   "source": [
    "# with matplotlib\n",
    "fig, ax = plt.subplots(1,5,figsize = (15,3))\n",
    "ax[0].scatter('percollege','percprof',data = IL)\n",
    "ax[0].set_title('IL')\n",
    "ax[1].scatter('percollege','percprof',data = IN)\n",
    "ax[1].set_title('IN')\n",
    "ax[2].scatter('percollege','percprof',data = MI)\n",
    "ax[2].set_title('MI')\n",
    "ax[3].scatter('percollege','percprof',data = OH)\n",
    "ax[3].set_title('OH')\n",
    "ax[4].scatter('percollege','percprof',data = WI)\n",
    "ax[4].set_title('WI')\n",
    "ax[0].set_xlabel('percollege')\n",
    "ax[0].set_ylabel('percprof')\n",
    "plt.show()"
   ]
  },
  {
   "cell_type": "code",
   "execution_count": null,
   "id": "e409b3ec-9ca4-4cb0-9554-e31bbc15058c",
   "metadata": {},
   "outputs": [],
   "source": [
    "# with a plotnine ggplot\n",
    "(ggplot(df,aes('percollege','percprof',color = 'state'))\n",
    "+geom_point()\n",
    "...)"
   ]
  },
  {
   "cell_type": "code",
   "execution_count": null,
   "id": "c271b180-7e4f-4c8c-988d-6ff3efa1c38c",
   "metadata": {
    "tags": []
   },
   "outputs": [],
   "source": [
    "(ggplot(df,aes('percollege','percprof',color = 'state'))\n",
    "+geom_point()\n",
    "...)"
   ]
  },
  {
   "cell_type": "code",
   "execution_count": null,
   "id": "ecf26505-d4d6-4735-8329-429ab060a540",
   "metadata": {
    "tags": []
   },
   "outputs": [],
   "source": [
    "(ggplot(df,aes('percollege','percprof',color = 'state'))\n",
    "+geom_point()\n",
    "+facet_wrap('state',ncol=5)\n",
    "...)"
   ]
  },
  {
   "cell_type": "code",
   "execution_count": null,
   "id": "5de1b389-7fa7-410b-913a-d1b6a69f3398",
   "metadata": {},
   "outputs": [],
   "source": [
    "# add statistical transformations\n",
    "(ggplot(df,aes('percollege','percprof',color = 'state'))\n",
    "+geom_point()\n",
    "+facet_wrap('state')\n",
    "...)"
   ]
  },
  {
   "cell_type": "markdown",
   "id": "77785a18-a1dd-4d3f-9d1f-cd98fba89509",
   "metadata": {},
   "source": [
    "What if we wanted to visualize the number of counties in each state."
   ]
  },
  {
   "cell_type": "code",
   "execution_count": null,
   "id": "4225a842-0b09-4c26-bcd8-ca1b6977dd44",
   "metadata": {},
   "outputs": [],
   "source": [
    "# with matplotlib \n"
   ]
  },
  {
   "cell_type": "code",
   "execution_count": null,
   "id": "ccb8b687-6842-4aa6-a385-707084bd32b4",
   "metadata": {},
   "outputs": [],
   "source": [
    "# with ggplot\n"
   ]
  }
 ],
 "metadata": {
  "kernelspec": {
   "display_name": "Python 3 (ipykernel)",
   "language": "python",
   "name": "python3"
  },
  "language_info": {
   "codemirror_mode": {
    "name": "ipython",
    "version": 3
   },
   "file_extension": ".py",
   "mimetype": "text/x-python",
   "name": "python",
   "nbconvert_exporter": "python",
   "pygments_lexer": "ipython3",
   "version": "3.11.4"
  }
 },
 "nbformat": 4,
 "nbformat_minor": 5
}
