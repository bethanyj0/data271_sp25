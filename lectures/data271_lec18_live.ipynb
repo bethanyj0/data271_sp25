{
 "cells": [
  {
   "cell_type": "markdown",
   "id": "bd035d4a",
   "metadata": {},
   "source": [
    "# More Grammar of Graphics\n",
    "If you want to type along with me, use [this notebook](https://humboldt.cloudbank.2i2c.cloud/hub/user-redirect/git-pull?repo=https%3A%2F%2Fgithub.com%2Fbethanyj0%2Fdata271_sp24&branch=main&urlpath=tree%2Fdata271_sp24%2Fdemos%2Fdata271_demo18_live.ipynb) instead. \n",
    "If you don't want to type and want to follow along just by executing the cells, stay in this notebook. "
   ]
  },
  {
   "cell_type": "code",
   "execution_count": null,
   "id": "26e99e3b",
   "metadata": {},
   "outputs": [],
   "source": [
    "import numpy as np\n",
    "import pandas as pd\n",
    "import matplotlib.pyplot as plt\n",
    "from plotnine import *\n",
    "from plotnine.data import *\n",
    "import warnings \n",
    "warnings.filterwarnings('ignore') "
   ]
  },
  {
   "cell_type": "markdown",
   "id": "aa868a1b",
   "metadata": {},
   "source": [
    "**NOTE** If you get errors when you run the cell above, go to the terminal and type the following\n",
    "```python\n",
    "pip install plotnine\n",
    "pip install matplotlib==3.8.3\n",
    "```\n",
    "\n",
    "Then come back to this notebook and try again. (You might have to restart your kernel). "
   ]
  },
  {
   "cell_type": "code",
   "execution_count": null,
   "id": "59d97531",
   "metadata": {},
   "outputs": [],
   "source": [
    "df = midwest\n",
    "df"
   ]
  },
  {
   "cell_type": "markdown",
   "id": "2e38b76e",
   "metadata": {},
   "source": [
    "## Basics"
   ]
  },
  {
   "cell_type": "code",
   "execution_count": null,
   "id": "521dae3b",
   "metadata": {},
   "outputs": [],
   "source": [
    "# Visualize the relationship between the percent who went to college, and the percent who got a professional degree\n",
    "# With matplotlib\n",
    "plt.scatter('percollege','percprof',data = df)\n",
    "plt.xlabel('percollege')\n",
    "plt.ylabel('percprof')\n",
    "plt.show()"
   ]
  },
  {
   "cell_type": "markdown",
   "id": "0d1d6a0d",
   "metadata": {},
   "source": [
    "The rest of the plotnine documentation is [here](https://plotnine.org/reference/) (including examples). "
   ]
  },
  {
   "cell_type": "code",
   "execution_count": null,
   "id": "cd63b784",
   "metadata": {
    "scrolled": true
   },
   "outputs": [],
   "source": [
    "# Do the same with a plotnine ggplot\n",
    "(ggplot(df, aes(x='percollege',y='percprof'))\n",
    "+geom_point())"
   ]
  },
  {
   "cell_type": "code",
   "execution_count": null,
   "id": "a8d34416",
   "metadata": {},
   "outputs": [],
   "source": [
    "# to make the output pretty, use .draw() (kind of like .show() in matplotlib)\n",
    "(ggplot(df, aes(x='percollege',y='percprof'))\n",
    "+geom_point())..."
   ]
  },
  {
   "cell_type": "markdown",
   "id": "579ef93e",
   "metadata": {},
   "source": [
    "## Adding additional variables with aesthetic mappings (aes)\n",
    "Does the relationship vary by state? Let's make each state a different color."
   ]
  },
  {
   "cell_type": "code",
   "execution_count": null,
   "id": "dd225d59",
   "metadata": {},
   "outputs": [],
   "source": [
    "# Do this with matplotlib\n"
   ]
  },
  {
   "cell_type": "code",
   "execution_count": null,
   "id": "8ec72790",
   "metadata": {},
   "outputs": [],
   "source": [
    "# Separate our data\n",
    "IL = ...\n",
    "IN = ...\n",
    "MI = ...\n",
    "OH = ...\n",
    "WI = ..."
   ]
  },
  {
   "cell_type": "code",
   "execution_count": null,
   "id": "16e0b838",
   "metadata": {},
   "outputs": [],
   "source": [
    "# Create our scatter plots\n",
    "plt.scatter(...)\n",
    "plt.scatter(...)\n",
    "plt.scatter(...)\n",
    "plt.scatter(...)\n",
    "plt.scatter(...)\n",
    "plt.xlabel('percollege')\n",
    "plt.ylabel('percprof')\n",
    "plt.legend()\n",
    "plt.show()"
   ]
  },
  {
   "cell_type": "code",
   "execution_count": null,
   "id": "1ef0e117",
   "metadata": {},
   "outputs": [],
   "source": [
    "# do the same thing with a plotnine ggplot\n",
    "(\n",
    "    \n",
    "\n",
    ").draw()"
   ]
  },
  {
   "cell_type": "markdown",
   "id": "52a982ea",
   "metadata": {},
   "source": [
    "## Scales\n",
    "Maybe we don't like that default color scale, we can reset the scales in a number of ways. One way is to choose one of the [discrete color scales from matplotlib](https://matplotlib.org/stable/users/explain/colors/colormaps.html#qualitative)."
   ]
  },
  {
   "cell_type": "code",
   "execution_count": null,
   "id": "e6831028",
   "metadata": {},
   "outputs": [],
   "source": [
    "# Change color scale with matplotlib\n",
    "(ggplot(df, aes('percollege','percprof',color = 'state'))\n",
    "+geom_point()\n",
    "+...).draw() "
   ]
  },
  {
   "cell_type": "code",
   "execution_count": null,
   "id": "36112d86",
   "metadata": {},
   "outputs": [],
   "source": [
    "# Or you can change the color scale manually\n",
    "(ggplot(df, aes('percollege','percprof',color = 'state'))\n",
    "+geom_point()\n",
    "+...).draw()"
   ]
  },
  {
   "cell_type": "markdown",
   "id": "603244c3",
   "metadata": {},
   "source": [
    "## Geometric objects (geom)\n",
    "What if we wanted to visualize the number of counties in each state?"
   ]
  },
  {
   "cell_type": "code",
   "execution_count": null,
   "id": "b7acecb3",
   "metadata": {},
   "outputs": [],
   "source": [
    "# with matplotlib \n",
    "counties_per_state = ...\n",
    "plt.bar(...)\n",
    "plt.show()"
   ]
  },
  {
   "cell_type": "code",
   "execution_count": null,
   "id": "498746a0",
   "metadata": {},
   "outputs": [],
   "source": [
    "# with ggplot\n",
    "(\n",
    "    \n",
    ").draw()"
   ]
  },
  {
   "cell_type": "code",
   "execution_count": null,
   "id": "3f9beb55",
   "metadata": {
    "scrolled": false
   },
   "outputs": [],
   "source": [
    "# To adjust the order of the bars, we adjust the x-axis scale\n",
    "(ggplot(df, aes(x='state'))\n",
    "+geom_bar()\n",
    "...).draw()"
   ]
  },
  {
   "cell_type": "code",
   "execution_count": null,
   "id": "e531f13d",
   "metadata": {},
   "outputs": [],
   "source": [
    "# Histograms\n",
    "(\n",
    "    \n",
    ").draw()"
   ]
  },
  {
   "cell_type": "markdown",
   "id": "2a37eccf",
   "metadata": {},
   "source": [
    "## Facetting\n",
    "In the plots above, a lot of points fell on top of eachother. Let's split up the visulizations for each state."
   ]
  },
  {
   "cell_type": "code",
   "execution_count": null,
   "id": "17cb2357",
   "metadata": {},
   "outputs": [],
   "source": [
    "# with matplotlib\n",
    "fig, ax = plt.subplots(1,5,figsize = (12,3))\n",
    "ax[0].scatter('percollege','percprof',data = IL)\n",
    "ax[0].set_title('IL')\n",
    "ax[1].scatter('percollege','percprof',data = IN)\n",
    "ax[1].set_title('IN')\n",
    "ax[2].scatter('percollege','percprof',data = MI)\n",
    "ax[2].set_title('MI')\n",
    "ax[3].scatter('percollege','percprof',data = OH)\n",
    "ax[3].set_title('OH')\n",
    "ax[4].scatter('percollege','percprof',data = WI)\n",
    "ax[4].set_title('WI')\n",
    "ax[0].set_xlabel('percollege')\n",
    "ax[0].set_ylabel('percprof')\n",
    "plt.show()"
   ]
  },
  {
   "cell_type": "code",
   "execution_count": null,
   "id": "ea358a2e",
   "metadata": {},
   "outputs": [],
   "source": [
    "# with a plotnine ggplot\n",
    "(\n",
    "    ggplot(df,aes('percollege','percprof',color = 'state'))\n",
    "    +geom_point()\n",
    "    ...\n",
    ").draw()"
   ]
  },
  {
   "cell_type": "code",
   "execution_count": null,
   "id": "ede7207b",
   "metadata": {},
   "outputs": [],
   "source": [
    "# adjusting the number of rows in your facetting\n",
    "(ggplot(df,aes('percollege','percprof',color = 'state'))\n",
    "+geom_point()\n",
    "+facet_wrap('state',...)).draw()"
   ]
  },
  {
   "cell_type": "code",
   "execution_count": null,
   "id": "bb61e984",
   "metadata": {},
   "outputs": [],
   "source": [
    "# facetting by more than one variable\n",
    "(ggplot(df,aes('percollege','percprof',color = 'state'))\n",
    "+geom_point()\n",
    "+facet_wrap('state',nrow=1)\n",
    "...).draw()"
   ]
  },
  {
   "cell_type": "code",
   "execution_count": null,
   "id": "0da97c43",
   "metadata": {
    "scrolled": true
   },
   "outputs": [],
   "source": [
    "# adjust the figure size\n",
    "(ggplot(df,aes('percollege','percprof',color = 'state'))\n",
    "+geom_point()\n",
    "...\n",
    "+theme(figure_size=(8,16))).draw()"
   ]
  },
  {
   "cell_type": "markdown",
   "id": "b653b585",
   "metadata": {},
   "source": [
    "## Statistical transformations (stat)"
   ]
  },
  {
   "cell_type": "code",
   "execution_count": null,
   "id": "9c131acb",
   "metadata": {},
   "outputs": [],
   "source": [
    "# add statistical transformations\n",
    "(ggplot(df,aes('percollege','percprof',color = 'state'))\n",
    "+geom_point()\n",
    "+facet_wrap('state')\n",
    "...).draw()"
   ]
  },
  {
   "cell_type": "markdown",
   "id": "ef913d74",
   "metadata": {},
   "source": [
    "## Layer-specific mappings"
   ]
  },
  {
   "cell_type": "code",
   "execution_count": null,
   "id": "b6760cb0",
   "metadata": {
    "scrolled": true
   },
   "outputs": [],
   "source": [
    "# Use different aesthetics for different parts of graphic\n",
    "(ggplot(df,aes('percollege','percprof'))\n",
    "+geom_point(...)\n",
    "+facet_wrap('state')\n",
    "+stat_smooth()).draw()"
   ]
  },
  {
   "cell_type": "markdown",
   "id": "5d4fc669",
   "metadata": {},
   "source": [
    "## Themes\n",
    "There are several things we can adjust about the figure that don't fall into the specific grammar of graphics components. These often fall into the `theme` category. For example, the graph below shows how we can adjust the angle of the x-tick labels. See the documentation for other options."
   ]
  },
  {
   "cell_type": "code",
   "execution_count": null,
   "id": "bd7ef7c0",
   "metadata": {},
   "outputs": [],
   "source": [
    "(ggplot(df, aes(x='percollege'))\n",
    "+geom_histogram()\n",
    "+theme(axis_text_x  = element_text(angle = 45, hjust = 1))).draw()"
   ]
  },
  {
   "cell_type": "markdown",
   "id": "0e08e338",
   "metadata": {},
   "source": [
    "## Activity\n",
    "\n",
    "The `plotnine` module has several has a dataset called `diamonds`. \n",
    "\n",
    "A dataset containing the prices and other attributes of almost 54,000 diamonds."
   ]
  },
  {
   "cell_type": "markdown",
   "id": "34f6190f",
   "metadata": {},
   "source": [
    "1. Create a grid of histograms showing the distribution of prices facetted by `cut` and `clarity`. Adjust the number of bins as needed."
   ]
  },
  {
   "cell_type": "code",
   "execution_count": null,
   "id": "d921365c",
   "metadata": {},
   "outputs": [],
   "source": []
  },
  {
   "cell_type": "markdown",
   "id": "e7a22419",
   "metadata": {},
   "source": [
    "2. Plot the number of carats vs the price. Think about how you might gain additional insights with additional aesthetic mappings, facetting, statistical transformations, etc. "
   ]
  },
  {
   "cell_type": "code",
   "execution_count": null,
   "id": "3574defe",
   "metadata": {},
   "outputs": [],
   "source": []
  }
 ],
 "metadata": {
  "kernelspec": {
   "display_name": "Python 3 (ipykernel)",
   "language": "python",
   "name": "python3"
  },
  "language_info": {
   "codemirror_mode": {
    "name": "ipython",
    "version": 3
   },
   "file_extension": ".py",
   "mimetype": "text/x-python",
   "name": "python",
   "nbconvert_exporter": "python",
   "pygments_lexer": "ipython3",
   "version": "3.11.4"
  }
 },
 "nbformat": 4,
 "nbformat_minor": 5
}
