{
 "cells": [
  {
   "cell_type": "markdown",
   "id": "bd035d4a",
   "metadata": {},
   "source": [
    "# Principles of Data Visualization\n",
    "If you want to type along with me, use [this notebook](https://humboldt.cloudbank.2i2c.cloud/hub/user-redirect/git-pull?repo=https%3A%2F%2Fgithub.com%2Fbethanyj0%2Fdata271_sp24&branch=main&urlpath=tree%2Fdata271_sp24%2Fdemos%2Fdata271_demo19_live.ipynb) instead. \n",
    "If you don't want to type and want to follow along just by executing the cells, stay in this notebook. "
   ]
  },
  {
   "cell_type": "code",
   "execution_count": null,
   "id": "26e99e3b",
   "metadata": {},
   "outputs": [],
   "source": [
    "import numpy as np\n",
    "import pandas as pd\n",
    "import matplotlib.pyplot as plt\n",
    "from plotnine import *\n",
    "from plotnine.data import *\n",
    "import warnings \n",
    "warnings.filterwarnings('ignore') "
   ]
  },
  {
   "cell_type": "markdown",
   "id": "aa868a1b",
   "metadata": {},
   "source": [
    "**NOTE** If you get errors when you run the cell above, go to the terminal and type the following\n",
    "```python\n",
    "pip install plotnine\n",
    "pip install matplotlib==3.8.3\n",
    "```\n",
    "\n",
    "Then come back to this notebook and try again. (You might have to restart your kernel). "
   ]
  },
  {
   "cell_type": "code",
   "execution_count": null,
   "id": "59d97531",
   "metadata": {},
   "outputs": [],
   "source": [
    "df = midwest\n",
    "df.head()"
   ]
  },
  {
   "cell_type": "code",
   "execution_count": null,
   "id": "1ef0e117",
   "metadata": {},
   "outputs": [],
   "source": [
    "# adding variables with ggplot aesthetic mapping\n",
    "(ggplot(df, aes('percollege','percprof',color = 'state'))\n",
    "+geom_point()).draw()"
   ]
  },
  {
   "cell_type": "markdown",
   "id": "2a37eccf",
   "metadata": {},
   "source": [
    "## Facetting\n",
    "In the plots above, a lot of points fell on top of eachother. Let's split up the visulizations for each state."
   ]
  },
  {
   "cell_type": "code",
   "execution_count": null,
   "id": "ea358a2e",
   "metadata": {},
   "outputs": [],
   "source": [
    "# with a plotnine ggplot\n",
    "(ggplot(df,aes('percollege','percprof',color = 'state'))\n",
    "+geom_point()\n",
    "+...).draw()"
   ]
  },
  {
   "cell_type": "code",
   "execution_count": null,
   "id": "c78668be",
   "metadata": {},
   "outputs": [],
   "source": [
    "# adjust the number of rows in your facets\n",
    "(ggplot(df,aes('percollege','percprof',color = 'state'))\n",
    "+geom_point()\n",
    "+facet_wrap('state',...)\n",
    "+theme(figure_size=(10,3))).draw()"
   ]
  },
  {
   "cell_type": "code",
   "execution_count": null,
   "id": "52ae9fab",
   "metadata": {
    "scrolled": true
   },
   "outputs": [],
   "source": [
    "# facetting by more than one variable\n",
    "(ggplot(df,aes('percollege','percprof',color = 'state'))\n",
    "+geom_point()\n",
    "+...\n",
    "+theme(figure_size=(8,16))).draw()"
   ]
  },
  {
   "cell_type": "markdown",
   "id": "52a05050",
   "metadata": {},
   "source": [
    "## Statistical transformations (stat)"
   ]
  },
  {
   "cell_type": "code",
   "execution_count": null,
   "id": "9c131acb",
   "metadata": {},
   "outputs": [],
   "source": [
    "# add statistical transformations\n",
    "(ggplot(df,aes('percollege','percprof',color = 'state'))\n",
    "+geom_point()\n",
    "+facet_wrap('state')\n",
    "+...).draw()"
   ]
  },
  {
   "cell_type": "markdown",
   "id": "0cebba23",
   "metadata": {},
   "source": [
    "## Layer-specific mappings"
   ]
  },
  {
   "cell_type": "code",
   "execution_count": null,
   "id": "f45fe01b",
   "metadata": {
    "scrolled": true
   },
   "outputs": [],
   "source": [
    "# Use different aesthetics for different parts of graphic\n",
    "(ggplot(df,aes('percollege','percprof'))\n",
    "+geom_point(...))\n",
    "+facet_wrap('state')\n",
    "+stat_smooth()).draw()"
   ]
  },
  {
   "cell_type": "markdown",
   "id": "4702c53f",
   "metadata": {},
   "source": [
    "## Activity\n",
    "\n",
    "The `plotnine` module has several has a dataset called `diamonds`, a dataset containing the prices and other attributes of almost 54,000 diamonds."
   ]
  },
  {
   "cell_type": "code",
   "execution_count": null,
   "id": "0cd4c0f7",
   "metadata": {},
   "outputs": [],
   "source": [
    "diamonds.head()"
   ]
  },
  {
   "cell_type": "markdown",
   "id": "5abfb06f",
   "metadata": {},
   "source": [
    "1. According to the principles of data visualization, what is wrong with the graph below? Adjust the ggplot so that it aligns with the principles of data visualization.  "
   ]
  },
  {
   "cell_type": "code",
   "execution_count": null,
   "id": "e8b042b7",
   "metadata": {},
   "outputs": [],
   "source": [
    "(ggplot(diamonds, aes(x='x',y='y'))\n",
    "       +geom_line()).draw()"
   ]
  },
  {
   "cell_type": "markdown",
   "id": "ab217303",
   "metadata": {},
   "source": [
    "2. According to the principles of data visualization, what is wrong with the graph below? Adjust the matplotlib graph, or create a ggplot so that it aligns with the principles of data visualization.  "
   ]
  },
  {
   "cell_type": "code",
   "execution_count": null,
   "id": "8ec72790",
   "metadata": {},
   "outputs": [],
   "source": [
    "ideal = diamonds[diamonds.cut == 'Ideal']\n",
    "prem = diamonds[diamonds.cut == 'Premium']\n",
    "good = diamonds[diamonds.cut == 'Good']\n",
    "vgood = diamonds[diamonds.cut == 'Very Good']\n",
    "fair = diamonds[diamonds.cut == 'Fair']\n",
    "\n",
    "plt.plot('carat','price','r.',data = ideal)\n",
    "plt.plot('carat','price','m.',data = prem)\n",
    "plt.plot('carat','price','y.',data = good)\n",
    "plt.plot('carat','price','w.',data = vgood)\n",
    "plt.plot('carat','price','k.',data = fair)\n",
    "plt.show()"
   ]
  },
  {
   "cell_type": "markdown",
   "id": "17dbd461",
   "metadata": {},
   "source": [
    "3. According to the principles of data visualization, what is wrong with the graph below? Adjust the ggplot so that it aligns with the principles of data visualization.  "
   ]
  },
  {
   "cell_type": "code",
   "execution_count": null,
   "id": "eb33a7d8",
   "metadata": {},
   "outputs": [],
   "source": [
    "avg_price = diamonds.groupby('clarity').price.mean().reset_index()\n",
    "(ggplot(avg_price,aes(x='clarity',y='price',fill = 'clarity')) \n",
    " + geom_bar(stat='identity',color='r')\n",
    " + geom_text(label=avg_price.clarity)\n",
    " + theme_classic()).draw()"
   ]
  },
  {
   "cell_type": "code",
   "execution_count": null,
   "id": "dfd4232e",
   "metadata": {},
   "outputs": [],
   "source": []
  }
 ],
 "metadata": {
  "kernelspec": {
   "display_name": "Python 3 (ipykernel)",
   "language": "python",
   "name": "python3"
  },
  "language_info": {
   "codemirror_mode": {
    "name": "ipython",
    "version": 3
   },
   "file_extension": ".py",
   "mimetype": "text/x-python",
   "name": "python",
   "nbconvert_exporter": "python",
   "pygments_lexer": "ipython3",
   "version": "3.11.4"
  }
 },
 "nbformat": 4,
 "nbformat_minor": 5
}
