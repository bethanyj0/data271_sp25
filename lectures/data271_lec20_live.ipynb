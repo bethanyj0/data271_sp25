{
 "cells": [
  {
   "cell_type": "markdown",
   "id": "bd035d4a",
   "metadata": {},
   "source": [
    "# EDA and Intro to Seaborn\n",
    "If you want to type along with me, use [this notebook](https://humboldt.cloudbank.2i2c.cloud/hub/user-redirect/git-pull?repo=https%3A%2F%2Fgithub.com%2Fbethanyj0%2Fdata271_sp24&branch=main&urlpath=tree%2Fdata271_sp24%2Fdemos%2Fdata271_demo20_live.ipynb) instead. \n",
    "If you don't want to type and want to follow along just by executing the cells, stay in this notebook. "
   ]
  },
  {
   "cell_type": "code",
   "execution_count": null,
   "id": "26e99e3b",
   "metadata": {},
   "outputs": [],
   "source": [
    "import numpy as np\n",
    "import pandas as pd\n",
    "import matplotlib.pyplot as plt\n",
    "import sklearn\n",
    "\n",
    "import warnings \n",
    "warnings.filterwarnings('ignore') "
   ]
  },
  {
   "cell_type": "markdown",
   "id": "9e842eb6",
   "metadata": {},
   "source": [
    "## Seaborn basics"
   ]
  },
  {
   "cell_type": "code",
   "execution_count": null,
   "id": "b8756ef0",
   "metadata": {},
   "outputs": [],
   "source": [
    "# Whenever we want to use seaborn for visualization\n",
    "\n"
   ]
  },
  {
   "cell_type": "code",
   "execution_count": null,
   "id": "c1761f7f",
   "metadata": {},
   "outputs": [],
   "source": [
    "iris = \n",
    "iris"
   ]
  },
  {
   "cell_type": "code",
   "execution_count": null,
   "id": "c101d5b8",
   "metadata": {},
   "outputs": [],
   "source": [
    "# To make a scatter plot\n",
    " "
   ]
  },
  {
   "cell_type": "code",
   "execution_count": null,
   "id": "95b0b85a",
   "metadata": {},
   "outputs": [],
   "source": [
    "# Customizing your scatter plot: change the color of all the points to another color\n"
   ]
  },
  {
   "cell_type": "code",
   "execution_count": null,
   "id": "f4a7a65c",
   "metadata": {},
   "outputs": [],
   "source": [
    "# Customizing your scatter plot: change the color of points to map to another variable (like an aesthetic map)\n",
    " "
   ]
  },
  {
   "cell_type": "code",
   "execution_count": null,
   "id": "ebd3272d",
   "metadata": {},
   "outputs": [],
   "source": [
    "# Customizing your scatter plot: change the shape of points to map to another variable (like an aesthetic map)\n"
   ]
  },
  {
   "cell_type": "code",
   "execution_count": null,
   "id": "f0b749d6",
   "metadata": {},
   "outputs": [],
   "source": [
    "# adjusting axis scales\n",
    "fig = sns.scatterplot(data = iris, x = 'petal_length', y = 'petal_width', hue = 'species')\n"
   ]
  },
  {
   "cell_type": "code",
   "execution_count": null,
   "id": "e2d4daa4",
   "metadata": {},
   "outputs": [],
   "source": [
    "# adjusting color scales\n",
    "sns.scatterplot(data = iris, x = 'petal_length', y = 'petal_width', hue = 'species', ...);"
   ]
  },
  {
   "cell_type": "code",
   "execution_count": null,
   "id": "f18f5f62",
   "metadata": {},
   "outputs": [],
   "source": [
    "# Facetting\n",
    "# Create a facet grid\n",
    "\n",
    "# map your scatter plots to the grid\n"
   ]
  },
  {
   "cell_type": "code",
   "execution_count": null,
   "id": "70d1aa0a",
   "metadata": {},
   "outputs": [],
   "source": [
    "# line plots (NOTE: THIS IS NOT A CASE WHERE YOU SHOULD USE A LINE PLOT)\n"
   ]
  },
  {
   "cell_type": "code",
   "execution_count": null,
   "id": "5087c873",
   "metadata": {},
   "outputs": [],
   "source": [
    "# barplots to look at averages of a numeric variable vs a categorical variable\n"
   ]
  },
  {
   "cell_type": "code",
   "execution_count": null,
   "id": "3cfd72e0",
   "metadata": {},
   "outputs": [],
   "source": [
    "# barplots to just look at counts\n"
   ]
  },
  {
   "cell_type": "code",
   "execution_count": null,
   "id": "52aaa9ce",
   "metadata": {},
   "outputs": [],
   "source": [
    "# Histograms\n"
   ]
  },
  {
   "cell_type": "markdown",
   "id": "9c634124",
   "metadata": {},
   "source": [
    "## Visualizations for EDA"
   ]
  },
  {
   "cell_type": "code",
   "execution_count": null,
   "id": "923fa3b1",
   "metadata": {},
   "outputs": [],
   "source": [
    "# Pairplots show the relationship between numeric variables\n",
    "sns.pairplot(data = iris);"
   ]
  },
  {
   "cell_type": "code",
   "execution_count": null,
   "id": "31ae1881",
   "metadata": {
    "scrolled": false
   },
   "outputs": [],
   "source": [
    "# Can map other variables to aesthetic properties\n",
    "sns.pairplot(data = iris, ...);"
   ]
  },
  {
   "cell_type": "code",
   "execution_count": null,
   "id": "b4b61c26",
   "metadata": {},
   "outputs": [],
   "source": [
    "# boxplots can be used to look at he distribution of data in different categories\n",
    "sns.boxplot(data = iris);"
   ]
  },
  {
   "cell_type": "code",
   "execution_count": null,
   "id": "428d3641",
   "metadata": {},
   "outputs": [],
   "source": [
    "# boxplots can also be used with a categorical x and a numerical y\n",
    "sns.boxplot(data = iris, ...);"
   ]
  },
  {
   "cell_type": "code",
   "execution_count": null,
   "id": "b84739c1",
   "metadata": {},
   "outputs": [],
   "source": [
    "# heatmaps can be used to study correlations\n",
    "corrmat = iris.corr() # make correlation matrix\n",
    "sns.heatmap(data = ..., ...);"
   ]
  },
  {
   "cell_type": "markdown",
   "id": "700cbad4",
   "metadata": {},
   "source": [
    "## Practice: Exploratory Data Analysis on Covid Data"
   ]
  },
  {
   "cell_type": "code",
   "execution_count": null,
   "id": "18b061f3",
   "metadata": {},
   "outputs": [],
   "source": [
    "# import covid data\n",
    "covid = pd.read_csv('https://raw.githubusercontent.com/PacktPublishing/Python-Data-Cleaning-Cookbook/master/Chapter05/data/covidtotals.csv')\n",
    "covid.head()"
   ]
  },
  {
   "cell_type": "code",
   "execution_count": null,
   "id": "fc8a39dc",
   "metadata": {},
   "outputs": [],
   "source": [
    "# begin exploring the dataset\n",
    "covid_desc = ...\n",
    "covid_desc"
   ]
  },
  {
   "cell_type": "code",
   "execution_count": null,
   "id": "997e26dc",
   "metadata": {},
   "outputs": [],
   "source": [
    "# info\n",
    "covid."
   ]
  },
  {
   "cell_type": "code",
   "execution_count": null,
   "id": "4e5f4fd4",
   "metadata": {
    "scrolled": false
   },
   "outputs": [],
   "source": [
    "# Check for na values\n",
    "covid."
   ]
  },
  {
   "cell_type": "code",
   "execution_count": null,
   "id": "37661b1a",
   "metadata": {},
   "outputs": [],
   "source": [
    "# Summarize number of na's by column\n",
    "nas = covid.\n",
    "nas"
   ]
  },
  {
   "cell_type": "code",
   "execution_count": null,
   "id": "ca787c9d",
   "metadata": {},
   "outputs": [],
   "source": [
    "# drop columns with na values\n",
    "covid = covid.\n",
    "covid"
   ]
  },
  {
   "cell_type": "code",
   "execution_count": null,
   "id": "5cedb996",
   "metadata": {},
   "outputs": [],
   "source": [
    "# check if there are any duplicate rows\n",
    "covid."
   ]
  },
  {
   "cell_type": "code",
   "execution_count": null,
   "id": "694cb766",
   "metadata": {},
   "outputs": [],
   "source": [
    "# begin visualizing for insights\n"
   ]
  },
  {
   "cell_type": "code",
   "execution_count": null,
   "id": "3f2f45ee",
   "metadata": {
    "scrolled": true
   },
   "outputs": [],
   "source": [
    "# boxplots to look at distributions\n",
    "plt.figure(figsize=(12,4))\n",
    "sns.boxplot(x = covid.region,y=covid.total_deaths_pm)\n",
    "plt.xticks(rotation=45)\n",
    "plt.show()"
   ]
  },
  {
   "cell_type": "code",
   "execution_count": null,
   "id": "108cd0f7",
   "metadata": {},
   "outputs": [],
   "source": [
    "# heatmaps to look at correlations\n",
    "corrmatc = covid.corr() # make correlation matrix\n",
    "sns.heatmap(data = corrmatc, annot = True);"
   ]
  },
  {
   "cell_type": "markdown",
   "id": "66a22aed",
   "metadata": {},
   "source": [
    "## Activity"
   ]
  },
  {
   "cell_type": "markdown",
   "id": "121e6968",
   "metadata": {},
   "source": [
    "1. What did the inital visualizations above reveal that was surprising or interesting? Create additional Seaborn visualizations to explore this more. "
   ]
  },
  {
   "cell_type": "code",
   "execution_count": null,
   "id": "df9aaaed",
   "metadata": {},
   "outputs": [],
   "source": []
  }
 ],
 "metadata": {
  "kernelspec": {
   "display_name": "Python 3 (ipykernel)",
   "language": "python",
   "name": "python3"
  },
  "language_info": {
   "codemirror_mode": {
    "name": "ipython",
    "version": 3
   },
   "file_extension": ".py",
   "mimetype": "text/x-python",
   "name": "python",
   "nbconvert_exporter": "python",
   "pygments_lexer": "ipython3",
   "version": "3.11.4"
  }
 },
 "nbformat": 4,
 "nbformat_minor": 5
}
