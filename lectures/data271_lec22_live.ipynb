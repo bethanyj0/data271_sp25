{
 "cells": [
  {
   "cell_type": "markdown",
   "id": "633b2d83-44fb-4582-b020-5c80206099a4",
   "metadata": {
    "tags": []
   },
   "source": [
    "# Advanced Plotting in Seaborn and How to Use it in EDA"
   ]
  },
  {
   "cell_type": "code",
   "execution_count": null,
   "id": "555d13e9-4a08-426e-b3ec-8022791d3e74",
   "metadata": {
    "tags": []
   },
   "outputs": [],
   "source": [
    "import numpy as np\n",
    "import pandas as pd\n",
    "import matplotlib.pyplot as plt\n",
    "import seaborn as sns\n",
    "import warnings\n",
    "warnings.filterwarnings('ignore')"
   ]
  },
  {
   "cell_type": "code",
   "execution_count": null,
   "id": "eb8c785d",
   "metadata": {
    "tags": []
   },
   "outputs": [],
   "source": [
    "# import covid data\n",
    "covid = pd.read_csv('https://raw.githubusercontent.com/PacktPublishing/Python-Data-Cleaning-Cookbook/master/Chapter05/data/covidtotals.csv')"
   ]
  },
  {
   "cell_type": "markdown",
   "id": "cb9358c7-2990-4f24-b8d1-f871ad04797b",
   "metadata": {},
   "source": [
    "### Initial inspection"
   ]
  },
  {
   "cell_type": "code",
   "execution_count": null,
   "id": "8494d256-0cb9-4e77-bef2-efd752e29cc7",
   "metadata": {
    "tags": []
   },
   "outputs": [],
   "source": []
  },
  {
   "cell_type": "code",
   "execution_count": null,
   "id": "7f6f7e33-8b75-4833-880f-2abbd8f19bc6",
   "metadata": {
    "tags": []
   },
   "outputs": [],
   "source": []
  },
  {
   "cell_type": "code",
   "execution_count": null,
   "id": "37613a84-b230-4138-b8b4-f570b8eff36c",
   "metadata": {
    "tags": []
   },
   "outputs": [],
   "source": []
  },
  {
   "cell_type": "markdown",
   "id": "bf731b1a-3e4c-4e16-833f-1df421bd9467",
   "metadata": {},
   "source": [
    "`covid` is a DataFrame with with 209 rows. Each row represents a location (country). It contains the following columns: \n",
    "\n",
    "- iso_code - a unique 3 digit identifier for each country\n",
    "- lastdate - the date for when the report was last updated\n",
    "- location - full name of the country\n",
    "- total_cases - the cumulative number of confirmed COVID-19 cases in that location\n",
    "- total_deaths - the cumulative number of confirmed COVID-19 deaths in that location\n",
    "- total_cases_pm - the cumulative number of confirmed COVID-19 cases per million in that location\n",
    "- total_deaths_pm - the cumulative number of confirmed COVID-19 deaths per million in that location\n",
    "- population - population size\n",
    "- pop_density - number of people per square kilometer\n",
    "- median_age - median age of the population \n",
    "- gdp_per_capita - The GDP per capita (economic indicator of wealth per person)\n",
    "- hosp_beds - The number of hospital beds per 1,000 people (an indicator of healthcare capacity)\n",
    "- region - broader region "
   ]
  },
  {
   "cell_type": "markdown",
   "id": "300b848c-ddd9-4a6b-92e2-f2bbd258ca13",
   "metadata": {},
   "source": [
    "### Preprocessing"
   ]
  },
  {
   "cell_type": "code",
   "execution_count": null,
   "id": "3187dd72",
   "metadata": {
    "tags": []
   },
   "outputs": [],
   "source": [
    "# Check for na values\n"
   ]
  },
  {
   "cell_type": "code",
   "execution_count": null,
   "id": "53d9554e",
   "metadata": {
    "tags": []
   },
   "outputs": [],
   "source": [
    "# Summarize number of na's by column\n",
    "nas = \n",
    "nas"
   ]
  },
  {
   "cell_type": "code",
   "execution_count": null,
   "id": "32cb0a92",
   "metadata": {
    "tags": []
   },
   "outputs": [],
   "source": [
    "# drop columns with na values\n"
   ]
  },
  {
   "cell_type": "code",
   "execution_count": null,
   "id": "5f366ccc-d5b4-4067-b76e-79cc7b70279d",
   "metadata": {
    "tags": []
   },
   "outputs": [],
   "source": [
    "covid.shape"
   ]
  },
  {
   "cell_type": "code",
   "execution_count": null,
   "id": "a0df0a61-a002-4949-971a-a0f16007595b",
   "metadata": {
    "tags": []
   },
   "outputs": [],
   "source": [
    "# drop rows with na values\n"
   ]
  },
  {
   "cell_type": "code",
   "execution_count": null,
   "id": "f06cab52-38d2-4528-a781-3916724e2e86",
   "metadata": {
    "tags": []
   },
   "outputs": [],
   "source": [
    "covid.shape"
   ]
  },
  {
   "cell_type": "code",
   "execution_count": null,
   "id": "ed333bc5",
   "metadata": {
    "tags": []
   },
   "outputs": [],
   "source": [
    "# check if there are any duplicate rows\n"
   ]
  },
  {
   "cell_type": "code",
   "execution_count": null,
   "id": "45c70290-bb16-4de8-979a-08e4c6a3ad6c",
   "metadata": {
    "tags": []
   },
   "outputs": [],
   "source": [
    "# check the data types to make sure they are appropriate\n"
   ]
  },
  {
   "cell_type": "code",
   "execution_count": null,
   "id": "ad666adb-52d6-4a76-b294-73991f045c8c",
   "metadata": {
    "tags": []
   },
   "outputs": [],
   "source": [
    "covid['lastdate'] = \n",
    "covid.dtypes"
   ]
  },
  {
   "cell_type": "markdown",
   "id": "c6ff1b97-4670-48e9-a182-999bc51ad83b",
   "metadata": {},
   "source": [
    "### Summary statistics and Exploration"
   ]
  },
  {
   "cell_type": "code",
   "execution_count": null,
   "id": "34e10a93",
   "metadata": {
    "tags": []
   },
   "outputs": [],
   "source": [
    "# begin exploring the dataset\n",
    "covid_desc = \n",
    "covid_desc"
   ]
  },
  {
   "cell_type": "code",
   "execution_count": null,
   "id": "7cec4b81-d301-46d0-8d2c-23903be38173",
   "metadata": {
    "tags": []
   },
   "outputs": [],
   "source": [
    "# What is the average death rate by region?\n"
   ]
  },
  {
   "cell_type": "code",
   "execution_count": null,
   "id": "c8bb9b79-d094-49c2-a2e6-f153ac8b1862",
   "metadata": {
    "tags": []
   },
   "outputs": [],
   "source": [
    "# Which country has the highest death counts\n"
   ]
  },
  {
   "cell_type": "code",
   "execution_count": null,
   "id": "9683552f-d65e-4db9-9a09-772551422f99",
   "metadata": {
    "tags": []
   },
   "outputs": [],
   "source": [
    "# Which country has the highest death rate\n"
   ]
  },
  {
   "cell_type": "markdown",
   "id": "03422cee-26c4-42bb-8715-8f5579eb963c",
   "metadata": {},
   "source": [
    "# Visualization"
   ]
  },
  {
   "cell_type": "code",
   "execution_count": null,
   "id": "e45bd7dc",
   "metadata": {
    "tags": []
   },
   "outputs": [],
   "source": [
    "# heatmaps to look at correlations\n"
   ]
  },
  {
   "cell_type": "markdown",
   "id": "76eab9b0-429e-48d2-8da7-3fb645994436",
   "metadata": {},
   "source": [
    "The median age and gdp per capita are correlated with deaths per million. This is interesting. "
   ]
  },
  {
   "cell_type": "code",
   "execution_count": null,
   "id": "e7a3d534-6660-4923-b792-9b3af4965d08",
   "metadata": {
    "tags": []
   },
   "outputs": [],
   "source": [
    "# Let's look at the relationship with gdp\n"
   ]
  },
  {
   "cell_type": "code",
   "execution_count": null,
   "id": "b7a1d5ed-f31b-4a16-9bc0-bd228c202e50",
   "metadata": {
    "tags": []
   },
   "outputs": [],
   "source": [
    "# Where would the regression line be?\n",
    "sns...(data = covid, x = 'gdp_per_capita',y = 'total_deaths_pm');"
   ]
  },
  {
   "cell_type": "code",
   "execution_count": null,
   "id": "27756ad2-e78b-4295-aeb4-a958170cf1eb",
   "metadata": {
    "tags": []
   },
   "outputs": [],
   "source": [
    "# Look at the relationships and distributions together\n",
    "sns...(data = covid, x = 'gdp_per_capita',y = 'total_deaths_pm');"
   ]
  },
  {
   "cell_type": "code",
   "execution_count": null,
   "id": "9de3e6e3",
   "metadata": {
    "scrolled": true,
    "tags": []
   },
   "outputs": [],
   "source": [
    "# boxplots to look at deaths by region\n",
    "plt.figure(figsize=(4,6))\n",
    "\n",
    "plt.show()"
   ]
  },
  {
   "cell_type": "markdown",
   "id": "951ba692-9e30-4a24-b5d2-25e1cf3dc6a7",
   "metadata": {},
   "source": [
    "There are a few regions we might want to zoom in on..."
   ]
  },
  {
   "cell_type": "code",
   "execution_count": null,
   "id": "4662c4ed-3dee-45b9-b59c-545927dcdf6b",
   "metadata": {
    "tags": []
   },
   "outputs": [],
   "source": [
    "high_covid_regions = ...\n",
    "high_covid_regions.head()"
   ]
  },
  {
   "cell_type": "code",
   "execution_count": null,
   "id": "42abce5b-2c08-407e-9910-36588b1c1a31",
   "metadata": {
    "tags": []
   },
   "outputs": [],
   "source": [
    "# Let's redo the boxplot with these points\n",
    "sns.boxplot(data = ..., y = 'region',x='total_deaths_pm');"
   ]
  },
  {
   "cell_type": "code",
   "execution_count": null,
   "id": "ae3f2614-177c-4922-862f-fbe7a5bea5c6",
   "metadata": {
    "tags": []
   },
   "outputs": [],
   "source": [
    "# To get more information about the distributions\n",
    "sns...(data = high_covid_regions, y = 'region',x='total_deaths_pm');"
   ]
  },
  {
   "cell_type": "code",
   "execution_count": null,
   "id": "8e5edace-999e-4ab1-8c2c-688b7a6aae30",
   "metadata": {
    "tags": []
   },
   "outputs": [],
   "source": [
    "# Show all the points in the distributions with a swarm plot\n",
    "sns...(data = high_covid_regions, y = 'region',x='total_deaths_pm');"
   ]
  },
  {
   "cell_type": "code",
   "execution_count": null,
   "id": "e4a9c8b8-2944-4760-adcd-600851b8fc54",
   "metadata": {
    "tags": []
   },
   "outputs": [],
   "source": [
    "# Notice a swarm plot is different from a scatter plot\n",
    "sns...(data = high_covid_regions, y = 'region',x='total_deaths_pm');"
   ]
  },
  {
   "cell_type": "code",
   "execution_count": null,
   "id": "f05d448d-f0fa-4fb6-adcf-dce1f72580ca",
   "metadata": {
    "tags": []
   },
   "outputs": [],
   "source": [
    "# Another way to compare categories (best if this is an ordinal variable)\n",
    "sns...(data = high_covid_regions, x = 'region',y='total_deaths_pm');"
   ]
  },
  {
   "cell_type": "code",
   "execution_count": null,
   "id": "36e53b65-9e24-4623-b04f-5ff85004289c",
   "metadata": {
    "tags": []
   },
   "outputs": [],
   "source": [
    "# Let's look at that gdp relationship again\n",
    "sns.jointplot(data = high_covid_regions, x = 'gdp_per_capita',y = 'total_deaths_pm', hue = 'region');\n",
    "plt.xlim([0,120000]);\n",
    "plt.ylim([-20,1000]);"
   ]
  },
  {
   "cell_type": "markdown",
   "id": "67fcede8-876d-4d61-a76a-77087ea3108c",
   "metadata": {},
   "source": [
    "South America has almost a bimodal distribution"
   ]
  },
  {
   "cell_type": "code",
   "execution_count": null,
   "id": "2b154728-ea57-460e-a044-7471d09523cc",
   "metadata": {
    "tags": []
   },
   "outputs": [],
   "source": [
    "# Focus on these distributions more (messy!)\n",
    "sns...(high_covid_regions, x = 'total_deaths_pm', hue = 'region');"
   ]
  },
  {
   "cell_type": "code",
   "execution_count": null,
   "id": "980905af-d24a-408d-95ea-dd1d461973c2",
   "metadata": {
    "tags": []
   },
   "outputs": [],
   "source": [
    "# Better\n",
    "sns...(high_covid_regions, x = 'total_deaths_pm', hue = 'region', fill=True);"
   ]
  },
  {
   "cell_type": "code",
   "execution_count": null,
   "id": "271287ec-202d-4313-b7cb-e2bf06ead243",
   "metadata": {
    "tags": []
   },
   "outputs": [],
   "source": [
    "# Even better \n",
    "g = sns.FacetGrid(high_covid_regions, col=\"region\", hue = 'region')\n",
    "g.map(sns.kdeplot, \"total_deaths_pm\", fill = True)\n",
    "plt.tight_layout();"
   ]
  },
  {
   "cell_type": "code",
   "execution_count": null,
   "id": "8ca5a573-d5a5-4f42-b2b4-565a7dc68024",
   "metadata": {
    "tags": []
   },
   "outputs": [],
   "source": [
    "na = covid.loc[covid.region == 'North America', :]\n",
    "na"
   ]
  },
  {
   "cell_type": "code",
   "execution_count": null,
   "id": "5f28d0ad-1c69-4289-81d9-6ad0ec939063",
   "metadata": {
    "tags": []
   },
   "outputs": [],
   "source": [
    "# A teaser for interactive plots\n",
    "\n",
    "import plotly.express as px\n",
    "\n",
    "\n",
    "fig = px.scatter(covid, x = 'gdp_per_capita', y = 'total_deaths_pm', hover_name='location')\n",
    "# Set figure size\n",
    "fig.update_layout(width=600, height=600)"
   ]
  },
  {
   "cell_type": "code",
   "execution_count": null,
   "id": "37f4b50f-0dc3-44c1-b069-7752ebfd8877",
   "metadata": {},
   "outputs": [],
   "source": []
  }
 ],
 "metadata": {
  "kernelspec": {
   "display_name": "Python 3 (ipykernel)",
   "language": "python",
   "name": "python3"
  },
  "language_info": {
   "codemirror_mode": {
    "name": "ipython",
    "version": 3
   },
   "file_extension": ".py",
   "mimetype": "text/x-python",
   "name": "python",
   "nbconvert_exporter": "python",
   "pygments_lexer": "ipython3",
   "version": "3.11.4"
  }
 },
 "nbformat": 4,
 "nbformat_minor": 5
}
