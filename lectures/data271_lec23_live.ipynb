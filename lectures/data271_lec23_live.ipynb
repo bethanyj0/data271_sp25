{
 "cells": [
  {
   "cell_type": "markdown",
   "id": "bd035d4a",
   "metadata": {},
   "source": [
    "# Advanced Plotting in Seaborn and how to use it in EDA\n",
    "If you want to type along with me, use [this notebook](https://humboldt.cloudbank.2i2c.cloud/hub/user-redirect/git-pull?repo=https%3A%2F%2Fgithub.com%2Fbethanyj0%2Fdata271_sp24&branch=main&urlpath=tree%2Fdata271_sp24%2Fdemos%2Fdata271_demo23_live.ipynb) instead. \n",
    "If you don't want to type and want to follow along just by executing the cells, stay in this notebook. "
   ]
  },
  {
   "cell_type": "code",
   "execution_count": null,
   "id": "07295d99",
   "metadata": {},
   "outputs": [],
   "source": [
    "import numpy as np\n",
    "import pandas as pd\n",
    "import matplotlib.pyplot as plt\n",
    "import seaborn as sns"
   ]
  },
  {
   "cell_type": "code",
   "execution_count": null,
   "id": "29441eba",
   "metadata": {},
   "outputs": [],
   "source": [
    "iris = sns.load_dataset('iris')"
   ]
  },
  {
   "cell_type": "markdown",
   "id": "481dc649",
   "metadata": {},
   "source": [
    "### Distributions of numerical data"
   ]
  },
  {
   "cell_type": "code",
   "execution_count": null,
   "id": "3de1c15a",
   "metadata": {},
   "outputs": [],
   "source": [
    "# Historgrams for distributions\n",
    "sns.histplot(data = iris, x = 'petal_width')\n",
    "plt.show()"
   ]
  },
  {
   "cell_type": "code",
   "execution_count": null,
   "id": "4885daff",
   "metadata": {},
   "outputs": [],
   "source": [
    "# Histograms take hue argument\n",
    "sns.histplot(data = iris, x = 'petal_width', hue = 'species')\n",
    "plt.show()"
   ]
  },
  {
   "cell_type": "code",
   "execution_count": null,
   "id": "b21fc45d",
   "metadata": {},
   "outputs": [],
   "source": [
    "# Kernel Density Estimate (KDE) plot for smooth distributions\n",
    "sns...(data = iris, x = 'petal_width')\n",
    "plt.show()"
   ]
  },
  {
   "cell_type": "code",
   "execution_count": null,
   "id": "3e34d5d9",
   "metadata": {},
   "outputs": [],
   "source": [
    "# Shade your KDE plot\n",
    "sns.kdeplot(data = iris, x = 'petal_width',...)\n",
    "plt.show()"
   ]
  },
  {
   "cell_type": "code",
   "execution_count": null,
   "id": "c1ec9b97",
   "metadata": {
    "scrolled": true
   },
   "outputs": [],
   "source": [
    "# More options with colors\n",
    "sns.kdeplot(data = iris, x = 'petal_width', fill = True, hue = 'species')\n",
    "plt.show()"
   ]
  },
  {
   "cell_type": "code",
   "execution_count": null,
   "id": "0f878539",
   "metadata": {},
   "outputs": [],
   "source": [
    "# Can plot binned histograms and smooth distributions together\n",
    "sns.histplot(data = iris, x = 'petal_width',..., hue = 'species')\n",
    "plt.show()"
   ]
  },
  {
   "cell_type": "code",
   "execution_count": null,
   "id": "36f044f8",
   "metadata": {},
   "outputs": [],
   "source": [
    "# Easily transition between different types of distributions using displot\n",
    "sns...(data = iris, x = 'petal_width', hue = 'species',...)\n",
    "plt.show()"
   ]
  },
  {
   "cell_type": "code",
   "execution_count": null,
   "id": "2fe9743d",
   "metadata": {},
   "outputs": [],
   "source": [
    "# distplot with KDE\n",
    "sns.displot(data = iris, x = 'petal_width', hue = 'species', kind=..., fill=True)\n",
    "plt.show()"
   ]
  },
  {
   "cell_type": "code",
   "execution_count": null,
   "id": "fa34bd4c",
   "metadata": {},
   "outputs": [],
   "source": [
    "# distplot makes facetting easier!! Use argument col to map a variable to different columns in a subplot\n",
    "sns.displot(data = iris, x = 'petal_width', hue = 'species', kind='kde', fill=True, ...)\n",
    "plt.show()"
   ]
  },
  {
   "cell_type": "markdown",
   "id": "dcb83f3d",
   "metadata": {},
   "source": [
    "### Numerical data"
   ]
  },
  {
   "cell_type": "code",
   "execution_count": null,
   "id": "d10b7374",
   "metadata": {
    "scrolled": true
   },
   "outputs": [],
   "source": [
    "# plot numerical data with regression plots\n",
    "sns...(data = iris, x = 'petal_length',y='petal_width')\n",
    "plt.show()"
   ]
  },
  {
   "cell_type": "code",
   "execution_count": null,
   "id": "dadff817",
   "metadata": {},
   "outputs": [],
   "source": [
    "# plot data associations AND distributions in same plot\n",
    "sns...(data = iris, x = 'petal_length',y='petal_width')\n",
    "plt.show()"
   ]
  },
  {
   "cell_type": "code",
   "execution_count": null,
   "id": "e902dfae",
   "metadata": {},
   "outputs": [],
   "source": [
    "# joinplot has options such as hex (useful when there is a lot of overlap in original scatter)\n",
    "sns.jointplot(data = iris, x = 'petal_length',y='petal_width', ...)\n",
    "plt.show()"
   ]
  },
  {
   "cell_type": "markdown",
   "id": "b451bbd2",
   "metadata": {},
   "source": [
    "### Categorical data"
   ]
  },
  {
   "cell_type": "code",
   "execution_count": null,
   "id": "9f1fb214",
   "metadata": {},
   "outputs": [],
   "source": [
    "# swarm plot\n",
    "plt.figure(figsize=(5,5))\n",
    "sns...\n",
    "plt.show()"
   ]
  },
  {
   "cell_type": "code",
   "execution_count": null,
   "id": "f3b52a97",
   "metadata": {},
   "outputs": [],
   "source": [
    "# swarm plot (adjust point size)\n",
    "plt.figure(figsize=(5,5))\n",
    "sns.swarmplot(data = iris, x = 'species', y = 'petal_width',...)\n",
    "plt.show()"
   ]
  },
  {
   "cell_type": "code",
   "execution_count": null,
   "id": "d1f06b5d",
   "metadata": {},
   "outputs": [],
   "source": [
    "# Violin plot\n",
    "plt.figure(figsize=(5,5))\n",
    "sns...(data = iris, x = 'species', y = 'petal_width')\n",
    "plt.show()"
   ]
  },
  {
   "cell_type": "code",
   "execution_count": null,
   "id": "361221cd",
   "metadata": {},
   "outputs": [],
   "source": [
    "# Point plot (best when there is some order to the categories)\n",
    "plt.figure(figsize=(5,5))\n",
    "sns...(data = iris, x = 'species', y = 'petal_width')\n",
    "plt.show()"
   ]
  },
  {
   "cell_type": "code",
   "execution_count": null,
   "id": "0aa816dd",
   "metadata": {},
   "outputs": [],
   "source": [
    "# Categorical plots (catplot) allow you to seemlessly transition between different types of categorical plots\n",
    "sns...(data = iris, x = 'species', y = None, ...)\n",
    "plt.show()"
   ]
  },
  {
   "cell_type": "code",
   "execution_count": null,
   "id": "c3b72f66",
   "metadata": {},
   "outputs": [],
   "source": [
    "# another version of catplot\n",
    "sns.catplot(data = iris, x = 'species',y = 'petal_width',kind = ...)\n",
    "plt.show()"
   ]
  },
  {
   "cell_type": "code",
   "execution_count": null,
   "id": "47de6cf2",
   "metadata": {},
   "outputs": [],
   "source": [
    "# Another version of catplot\n",
    "sns.catplot(data = iris, x = 'species',y = 'petal_width',kind = ...)\n",
    "plt.show()"
   ]
  },
  {
   "cell_type": "code",
   "execution_count": null,
   "id": "2bf316bd",
   "metadata": {},
   "outputs": [],
   "source": [
    "# Cat plot takes the same arguments as the original type of plot\n",
    "sns.catplot(data = iris, x = 'species',y = 'petal_width',...)\n",
    "plt.show()"
   ]
  },
  {
   "cell_type": "code",
   "execution_count": null,
   "id": "3e9d75c8",
   "metadata": {},
   "outputs": [],
   "source": [
    "# Violin with catplot\n",
    "sns.catplot(data = iris, x = 'species',y = 'petal_width',...)\n",
    "plt.show()"
   ]
  },
  {
   "cell_type": "code",
   "execution_count": null,
   "id": "24dfefee",
   "metadata": {
    "scrolled": false
   },
   "outputs": [],
   "source": [
    "# Point plot with catplot\n",
    "sns.catplot(data = iris, x = 'species',y = 'petal_width',...)\n",
    "plt.show()"
   ]
  },
  {
   "cell_type": "markdown",
   "id": "532e98d7",
   "metadata": {},
   "source": [
    "### Subplots with Seaborn"
   ]
  },
  {
   "cell_type": "code",
   "execution_count": null,
   "id": "cc4ae790",
   "metadata": {},
   "outputs": [],
   "source": [
    "# sometimes we want to visualize the relationship between all variables and 1 specific variable\n"
   ]
  },
  {
   "cell_type": "markdown",
   "id": "80893930",
   "metadata": {},
   "source": [
    "## Group Activity: Using plotting methods in an EDA: Titanic Data"
   ]
  },
  {
   "cell_type": "code",
   "execution_count": null,
   "id": "5a3684ab",
   "metadata": {},
   "outputs": [],
   "source": [
    "# set defined plot sizes and styles\n",
    "plt.rcParams['figure.figsize'] = [6,3] # figures will be 6 units in length 3 units in height\n",
    "plt.rcParams['figure.dpi'] = 80 # default is 72 in webpages, we wish to see in higher resolution"
   ]
  },
  {
   "cell_type": "code",
   "execution_count": null,
   "id": "a7316748",
   "metadata": {},
   "outputs": [],
   "source": [
    "# titanic data set is part of Seaborn\n",
    "titanic = sns.load_dataset('titanic')"
   ]
  },
  {
   "cell_type": "code",
   "execution_count": null,
   "id": "7dc6a4db",
   "metadata": {},
   "outputs": [],
   "source": [
    "# look at the first few lines\n",
    "titanic.head()"
   ]
  },
  {
   "cell_type": "code",
   "execution_count": null,
   "id": "02b91b3d",
   "metadata": {},
   "outputs": [],
   "source": [
    "# describe will only represent the numerical columns-- for example, sex, class, embark town, etc. are not included\n",
    "titanic.describe()"
   ]
  },
  {
   "cell_type": "code",
   "execution_count": null,
   "id": "66011004",
   "metadata": {},
   "outputs": [],
   "source": [
    "titanic.info()"
   ]
  },
  {
   "cell_type": "markdown",
   "id": "378c4194",
   "metadata": {},
   "source": [
    "### Task: \n",
    "Use a heatmap to visualize the null values in the dataset. "
   ]
  },
  {
   "cell_type": "code",
   "execution_count": null,
   "id": "c56b4b89",
   "metadata": {},
   "outputs": [],
   "source": [
    "plt.style.use('ggplot')"
   ]
  },
  {
   "cell_type": "code",
   "execution_count": null,
   "id": "946c0596",
   "metadata": {},
   "outputs": [],
   "source": []
  },
  {
   "cell_type": "code",
   "execution_count": null,
   "id": "1d17dee0",
   "metadata": {},
   "outputs": [],
   "source": []
  },
  {
   "cell_type": "markdown",
   "id": "5f5b58f7",
   "metadata": {},
   "source": [
    "### Discussion Question: \n",
    "What do you notice about the heatmap? What information does it show. What information does it not show?"
   ]
  },
  {
   "cell_type": "markdown",
   "id": "ef04ed57",
   "metadata": {},
   "source": [
    "### Task\n",
    "Use a heatmap to visualize the correlation in the data. "
   ]
  },
  {
   "cell_type": "code",
   "execution_count": null,
   "id": "deda2ba0",
   "metadata": {},
   "outputs": [],
   "source": []
  },
  {
   "cell_type": "code",
   "execution_count": null,
   "id": "a2a60d5c",
   "metadata": {
    "scrolled": true
   },
   "outputs": [],
   "source": []
  },
  {
   "cell_type": "markdown",
   "id": "ec3504e8",
   "metadata": {},
   "source": [
    "### Discussion question\n",
    "Looking at the `survived` column, what do you notice. Anything else you notice about the heatmap overall?"
   ]
  },
  {
   "cell_type": "markdown",
   "id": "2e6448f2",
   "metadata": {},
   "source": [
    "## Task \n",
    "Create subplots to show the count of each category for the variables `survived`, `pclass`, `sex`, `sibsp`, `parch`, `embark_town`, and `alone`. "
   ]
  },
  {
   "cell_type": "code",
   "execution_count": null,
   "id": "bf85ad9c",
   "metadata": {},
   "outputs": [],
   "source": []
  },
  {
   "cell_type": "markdown",
   "id": "aa4e95ff",
   "metadata": {},
   "source": [
    "### Discussion Question\n",
    "What observations can you make from the plots you created?"
   ]
  }
 ],
 "metadata": {
  "kernelspec": {
   "display_name": "Python 3 (ipykernel)",
   "language": "python",
   "name": "python3"
  },
  "language_info": {
   "codemirror_mode": {
    "name": "ipython",
    "version": 3
   },
   "file_extension": ".py",
   "mimetype": "text/x-python",
   "name": "python",
   "nbconvert_exporter": "python",
   "pygments_lexer": "ipython3",
   "version": "3.11.4"
  }
 },
 "nbformat": 4,
 "nbformat_minor": 5
}
