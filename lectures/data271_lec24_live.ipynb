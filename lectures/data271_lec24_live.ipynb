{
 "cells": [
  {
   "cell_type": "markdown",
   "id": "bd035d4a",
   "metadata": {},
   "source": [
    "# Preparing Data: Adding Columns"
   ]
  },
  {
   "cell_type": "code",
   "execution_count": null,
   "id": "26e99e3b",
   "metadata": {},
   "outputs": [],
   "source": [
    "import numpy as np\n",
    "import pandas as pd\n",
    "import matplotlib.pyplot as plt\n",
    "import sklearn\n",
    "import seaborn as sns\n",
    "import re\n",
    "sns.set_style(\"darkgrid\")\n",
    "import warnings \n",
    "warnings.filterwarnings('ignore') "
   ]
  },
  {
   "cell_type": "markdown",
   "id": "51d3b736",
   "metadata": {},
   "source": [
    "## Adding independent columns"
   ]
  },
  {
   "cell_type": "markdown",
   "id": "b1333f8b",
   "metadata": {},
   "source": [
    "### Method 1: Add to the end"
   ]
  },
  {
   "cell_type": "code",
   "execution_count": null,
   "id": "c1cda193",
   "metadata": {},
   "outputs": [],
   "source": [
    "# Creating animals dataframe\n",
    "animals_dct = {\n",
    "    'Animal': ['cow', 'kitten', 'penguin', 'Puppy'],\n",
    "    'Sound': ['moo', 'purr', 'chirp', 'bark'],\n",
    "}\n",
    "\n",
    "animals = pd.DataFrame(animals_dct)\n",
    "animals"
   ]
  },
  {
   "cell_type": "code",
   "execution_count": null,
   "id": "7943261b",
   "metadata": {},
   "outputs": [],
   "source": [
    "# add a column on the right (broadcasting)\n",
    "\n",
    "animals"
   ]
  },
  {
   "cell_type": "code",
   "execution_count": null,
   "id": "9df70041",
   "metadata": {},
   "outputs": [],
   "source": [
    "# add a column on the right (list)\n",
    "animals = pd.DataFrame(animals_dct)\n",
    "\n",
    "animals"
   ]
  },
  {
   "cell_type": "markdown",
   "id": "9ec70798",
   "metadata": {},
   "source": [
    "### Method 2: Insert the column in specific position"
   ]
  },
  {
   "cell_type": "code",
   "execution_count": null,
   "id": "565aa5a5",
   "metadata": {},
   "outputs": [],
   "source": [
    "# Insert at a specific position with .insert(i, column, value)\n",
    "animals = pd.DataFrame(animals_dct)\n",
    "\n",
    "animals"
   ]
  },
  {
   "cell_type": "code",
   "execution_count": null,
   "id": "38a3733d",
   "metadata": {},
   "outputs": [],
   "source": [
    "# or do it with a list\n",
    "animals = pd.DataFrame(animals_dct)\n",
    "\n",
    "animals"
   ]
  },
  {
   "cell_type": "markdown",
   "id": "67247ee7",
   "metadata": {},
   "source": [
    "### Method 3: Add more than 1 column at once"
   ]
  },
  {
   "cell_type": "code",
   "execution_count": null,
   "id": "b2db0a68",
   "metadata": {},
   "outputs": [],
   "source": [
    "# create two columns at once\n"
   ]
  },
  {
   "cell_type": "code",
   "execution_count": null,
   "id": "2f1ec1c3",
   "metadata": {},
   "outputs": [],
   "source": [
    "animals"
   ]
  },
  {
   "cell_type": "markdown",
   "id": "b54588c1",
   "metadata": {},
   "source": [
    "## Adding columns based on other columns"
   ]
  },
  {
   "cell_type": "code",
   "execution_count": null,
   "id": "83a080cb",
   "metadata": {},
   "outputs": [],
   "source": [
    "# Making a bool column based on condition\n",
    "\n",
    "animals.head()"
   ]
  },
  {
   "cell_type": "code",
   "execution_count": null,
   "id": "ac456b59",
   "metadata": {},
   "outputs": [],
   "source": [
    "# Making a categorical column based on another categorical column with map\n",
    "\n",
    "animals.head()"
   ]
  },
  {
   "cell_type": "code",
   "execution_count": null,
   "id": "25f7a092",
   "metadata": {},
   "outputs": [],
   "source": [
    "# applying a function to everything in another column\n",
    "\n",
    "animals.head()"
   ]
  },
  {
   "cell_type": "code",
   "execution_count": null,
   "id": "37f959bd",
   "metadata": {
    "scrolled": true
   },
   "outputs": [],
   "source": [
    "# Creating new columns with element-wise arithmetic\n",
    "\n",
    "animals.head()"
   ]
  },
  {
   "cell_type": "code",
   "execution_count": null,
   "id": "2d6bb8ff",
   "metadata": {},
   "outputs": [],
   "source": [
    "# With string methods\n",
    "\n",
    "animals.head()"
   ]
  },
  {
   "cell_type": "code",
   "execution_count": null,
   "id": "05df9024",
   "metadata": {},
   "outputs": [],
   "source": [
    "# With list comprehension\n",
    "\n",
    "animals.head()"
   ]
  },
  {
   "cell_type": "markdown",
   "id": "98538749-9adf-4922-98bf-57b69c64e09b",
   "metadata": {},
   "source": [
    "## Activity"
   ]
  },
  {
   "cell_type": "markdown",
   "id": "d72d7e3c-75dc-4740-9f94-5ed283bac96b",
   "metadata": {},
   "source": [
    "Let's look at the Titanic dataset from the Seaborn library."
   ]
  },
  {
   "cell_type": "code",
   "execution_count": null,
   "id": "3559703f-b1dd-47d7-a755-2969cb602ae6",
   "metadata": {},
   "outputs": [],
   "source": [
    "# load titanic data \n",
    "titanic_seaborn = sns.load_dataset('titanic')\n",
    "titanic_seaborn.head()"
   ]
  },
  {
   "cell_type": "markdown",
   "id": "7bc30c35-8779-410c-a555-3be1ad7c53ba",
   "metadata": {},
   "source": [
    "The titanic dataset is available in Seaborn, but it originally came from [this](https://www.kaggle.com/c/titanic/data) Kaggle source."
   ]
  },
  {
   "cell_type": "code",
   "execution_count": null,
   "id": "bdc8838a-bec2-4057-b403-109018bd58d9",
   "metadata": {
    "tags": []
   },
   "outputs": [],
   "source": [
    "titanic_kaggle = pd.read_csv('titanic.csv')\n",
    "titanic_kaggle.head()"
   ]
  },
  {
   "cell_type": "markdown",
   "id": "03c75fe5-75d6-4399-9e6f-8fb85ef77f9f",
   "metadata": {},
   "source": [
    "Notice that some of the columns in the Seaborn version of this dataset are not included in the Kaggle version. This is because the Seaborn creators added columns to make the data more interpretable and to make further analysis easier. We will replicate this process, then do a short EDA."
   ]
  },
  {
   "cell_type": "markdown",
   "id": "6e0cf0ab-7dd8-4cd4-943f-27c1b73f5b21",
   "metadata": {},
   "source": [
    "**Activity 1:** In the `titanic_kaggle` dataframe, create a new column called `alive` based on the `survived` column. It should be \"no\" when `survived` is 0, and \"yes\" when `survived` is 1. Your goal is to make it match the `alive` column in the `titanic_seaborn` dataframe, which was added by the Seaborn creators. "
   ]
  },
  {
   "cell_type": "code",
   "execution_count": null,
   "id": "68a05554-b83e-40bf-885d-354ee6ceff29",
   "metadata": {},
   "outputs": [],
   "source": []
  },
  {
   "cell_type": "code",
   "execution_count": null,
   "id": "84d4442c-d427-4b45-9b38-f9b7d02faaf9",
   "metadata": {},
   "outputs": [],
   "source": [
    "# run this to check your work\n",
    "(titanic_kaggle['alive'] == titanic_seaborn['alive']).all()"
   ]
  },
  {
   "cell_type": "markdown",
   "id": "3568bc36-4798-445b-b112-858a8807ac85",
   "metadata": {},
   "source": [
    "**Activity 2:** In the `titanic_kaggle` dataframe, create a new column called `alone` based on the `sibsp` and `parch` columns. It should be False if the passenger had any family members on board, True otherwise. Your goal is to make it match the `alone` column in `titanic_seaborn`, which was added by the Seaborn creators. "
   ]
  },
  {
   "cell_type": "code",
   "execution_count": null,
   "id": "4f5d83a3-b2e0-4ad9-aeca-68cf01ed0a16",
   "metadata": {},
   "outputs": [],
   "source": []
  },
  {
   "cell_type": "code",
   "execution_count": null,
   "id": "730bbf8a-36fe-4382-b2db-1855c9733192",
   "metadata": {},
   "outputs": [],
   "source": [
    "# run this to check your work\n",
    "(titanic_kaggle['alone'] == titanic_seaborn['alone']).all()"
   ]
  },
  {
   "cell_type": "markdown",
   "id": "e987e792-b4c2-4a6b-a40a-afc5ef2e41c7",
   "metadata": {},
   "source": [
    "**Activity 3:** In the `titanic_kaggle` dataframe, create a new column called `who` based on the original `sex` and `age` columns. If the passenger is under 16, they should be labelled as \"child\", if they are over 16 and are `sex` \"male\" they should be labelled \"man\", and if they are over 16 and are `sex` \"female\" they should be labelled \"woman.\" Your goal is to make it match the `who` column in `titanic_seaborn` which was added by the Seaborn creators. \n",
    "\n",
    "*HINT*: You might find it helpful to split this one up and solve in multiple lines of code. "
   ]
  },
  {
   "cell_type": "code",
   "execution_count": null,
   "id": "ea6aba80-5358-423f-8879-459d66aca91f",
   "metadata": {},
   "outputs": [],
   "source": []
  },
  {
   "cell_type": "code",
   "execution_count": null,
   "id": "93905975-f82d-41c9-95c9-9b77f39a41d9",
   "metadata": {},
   "outputs": [],
   "source": [
    "# run this to check your work\n",
    "(titanic_kaggle['who'] == titanic_seaborn['who']).all()"
   ]
  },
  {
   "cell_type": "markdown",
   "id": "60cb5fe2-566e-4e62-b8f1-2e4030721cf3",
   "metadata": {},
   "source": [
    "**Activity 4:** Use Pandas methods or visualization to determine the number of passengers that survived and the number of passengers that didn't in each class. "
   ]
  },
  {
   "cell_type": "code",
   "execution_count": null,
   "id": "70b50c51-3939-4b6f-ab25-25be757f254f",
   "metadata": {},
   "outputs": [],
   "source": []
  },
  {
   "cell_type": "markdown",
   "id": "03b00fee-6fd4-4dcb-9c75-68dea092418c",
   "metadata": {},
   "source": [
    "**Activity 5:** Survival by class and sex: Create a plot that shows the number of passengers that survived and the number of passengers that didn't in each pclass, facetted by sex."
   ]
  },
  {
   "cell_type": "code",
   "execution_count": null,
   "id": "4c953579-e569-470c-a5ad-8693efc6c2f1",
   "metadata": {},
   "outputs": [],
   "source": []
  },
  {
   "cell_type": "markdown",
   "id": "96429086-6abc-4661-972c-d2f19f150f47",
   "metadata": {},
   "source": [
    "**Activity 6:** Create a visualization that will help you determine how the median age of inviduals who survived compares to the median age of individuals who did not survive. What plot would also help you compare the age distributions between those who survived and those who didn't?"
   ]
  },
  {
   "cell_type": "code",
   "execution_count": null,
   "id": "8c031ef4-ae83-4a5d-85d1-59baf51080a5",
   "metadata": {},
   "outputs": [],
   "source": []
  },
  {
   "cell_type": "markdown",
   "id": "89dc55f1-9518-49ff-80e7-64b03248d63d",
   "metadata": {},
   "source": [
    "### Code for Discussion Questions"
   ]
  },
  {
   "cell_type": "code",
   "execution_count": null,
   "id": "c4c32ed4-7649-431f-98d2-a9b3cf35db97",
   "metadata": {},
   "outputs": [],
   "source": [
    "flights = pd.read_csv('flight_delays.csv')\n",
    "flights.head()"
   ]
  },
  {
   "cell_type": "code",
   "execution_count": null,
   "id": "53eae271-95dd-4e09-9c03-e53821b49b14",
   "metadata": {},
   "outputs": [],
   "source": [
    "flights['Year'] = flights['Flight_Date'].str.split(\"-\").str[0]\n",
    "flights.head()"
   ]
  },
  {
   "cell_type": "code",
   "execution_count": null,
   "id": "68b5694c-f6de-415d-839e-c328e28fa60d",
   "metadata": {
    "tags": []
   },
   "outputs": [],
   "source": [
    "# Another option\n",
    "flights['Flight_Date'] = pd.to_datetime(flights['Flight_Date'])\n",
    "flights.dtypes"
   ]
  },
  {
   "cell_type": "code",
   "execution_count": null,
   "id": "3eac5467-db32-437a-947b-5c23c45c71e8",
   "metadata": {
    "tags": []
   },
   "outputs": [],
   "source": [
    "flights['Year_dt'] = flights['Flight_Date'].dt.year\n",
    "flights.head()"
   ]
  },
  {
   "cell_type": "code",
   "execution_count": null,
   "id": "167cce27-790e-45c6-bb9d-a603ff407bfc",
   "metadata": {
    "tags": []
   },
   "outputs": [],
   "source": [
    "flights.dtypes"
   ]
  },
  {
   "cell_type": "code",
   "execution_count": null,
   "id": "6d125a55-e35c-4a67-a458-26d41d200ecf",
   "metadata": {},
   "outputs": [],
   "source": [
    "sns.set(font_scale = 1.8)\n",
    "fig = sns.displot(data = flights, x  = 'Departure_Delay_Minutes', col = 'Year_dt',binwidth=5)\n",
    "fig.set(xlim=(-20, 100))\n",
    "plt.tight_layout()"
   ]
  },
  {
   "cell_type": "code",
   "execution_count": null,
   "id": "05d2ca5f-33b3-4843-8333-6b7c65281503",
   "metadata": {},
   "outputs": [],
   "source": [
    "sns.set(font_scale = 1.8)\n",
    "fig = sns.displot(data = flights, x  = 'Departure_Delay_Minutes', col = 'Year',binwidth=5)\n",
    "fig.set(xlim=(-20, 100))\n",
    "plt.tight_layout()"
   ]
  }
 ],
 "metadata": {
  "kernelspec": {
   "display_name": "Python 3 (ipykernel)",
   "language": "python",
   "name": "python3"
  },
  "language_info": {
   "codemirror_mode": {
    "name": "ipython",
    "version": 3
   },
   "file_extension": ".py",
   "mimetype": "text/x-python",
   "name": "python",
   "nbconvert_exporter": "python",
   "pygments_lexer": "ipython3",
   "version": "3.11.4"
  }
 },
 "nbformat": 4,
 "nbformat_minor": 5
}
