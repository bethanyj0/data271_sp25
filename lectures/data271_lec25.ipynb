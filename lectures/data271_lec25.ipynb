{
 "cells": [
  {
   "cell_type": "markdown",
   "id": "5145a75e-39fe-490c-a80b-23891d0966df",
   "metadata": {},
   "source": [
    "# Fetching Data with an API and Preparing the Data\n",
    "If you want to type along with me, use [this notebook](https://humboldt.cloudbank.2i2c.cloud/hub/user-redirect/git-pull?repo=https%3A%2F%2Fgithub.com%2Fbethanyj0%2Fdata271_sp25&branch=main&urlpath=tree%2Fdata271_sp25%2Flectures%2Fdata271_lec25_live.ipynb) instead. \n",
    "If you don't want to type and want to follow along just by executing the cells, stay in this notebook. "
   ]
  },
  {
   "cell_type": "code",
   "execution_count": null,
   "id": "26e99e3b",
   "metadata": {},
   "outputs": [],
   "source": [
    "import numpy as np\n",
    "import pandas as pd"
   ]
  },
  {
   "cell_type": "markdown",
   "id": "e4832ca5-d8d0-43f2-bd89-094d465fb604",
   "metadata": {},
   "source": [
    "## Requesting data from Google's Youtube API"
   ]
  },
  {
   "cell_type": "markdown",
   "id": "1749aca4-0afb-404a-981b-715b4ddb2069",
   "metadata": {},
   "source": [
    "First we have to create credentials. Go to https://console.cloud.google.com/. Sign in with your Google account if you haven't already. Click on \"Create Project\" and name a new project whatever you want. When it asks you to enable API's look through the API library, and select the Youtube Data API. Once you've enabled the API, you should be able to access your API Key. "
   ]
  },
  {
   "cell_type": "code",
   "execution_count": null,
   "id": "89bbfcd2",
   "metadata": {},
   "outputs": [],
   "source": [
    "# Paste your youtube API here\n",
    "api_key = "
   ]
  },
  {
   "cell_type": "markdown",
   "id": "c3d9acbb-c995-44ae-bf4f-66b2e032c565",
   "metadata": {},
   "source": [
    "We will just request data from Cal Poly Humboldt's Youtube Channel ([HumboldtOnline](https://www.youtube.com/@CalPolyHumboldt))."
   ]
  },
  {
   "cell_type": "code",
   "execution_count": null,
   "id": "9b42e298",
   "metadata": {},
   "outputs": [],
   "source": [
    "# whenever we want to request data with an API\n",
    "import requests"
   ]
  },
  {
   "cell_type": "markdown",
   "id": "4940c91a-ed32-43c8-91f5-b6b705bb1735",
   "metadata": {},
   "source": [
    "Read the Youtube API documentation [here](https://developers.google.com/youtube/v3/docs). We first want to get data about the Youtube channel. Navigate to the Channel endpoint, and read the documentation."
   ]
  },
  {
   "cell_type": "code",
   "execution_count": null,
   "id": "c9d5deb4-4850-4e28-bbba-1b20bd5511bd",
   "metadata": {
    "tags": []
   },
   "outputs": [],
   "source": [
    "# the url for making the request \n",
    "url = \"https://www.googleapis.com/youtube/v3/channels?key=\"+api_key+\"&part=snippet&forHandle=CalPolyHumboldt\""
   ]
  },
  {
   "cell_type": "code",
   "execution_count": null,
   "id": "d3095047",
   "metadata": {},
   "outputs": [],
   "source": [
    "# Request the data with a \"GET\" request\n",
    "response = requests.get(url)\n",
    "response"
   ]
  },
  {
   "cell_type": "code",
   "execution_count": null,
   "id": "57496806",
   "metadata": {},
   "outputs": [],
   "source": [
    "# check out response\n",
    "type(response)"
   ]
  },
  {
   "cell_type": "code",
   "execution_count": null,
   "id": "f8054d27",
   "metadata": {
    "tags": []
   },
   "outputs": [],
   "source": [
    "# learn more about response\n",
    "help(response)"
   ]
  },
  {
   "cell_type": "code",
   "execution_count": null,
   "id": "081c7d67",
   "metadata": {
    "tags": []
   },
   "outputs": [],
   "source": [
    "# use the json() method to access the data\n",
    "response.json()"
   ]
  },
  {
   "cell_type": "code",
   "execution_count": null,
   "id": "8287583d",
   "metadata": {},
   "outputs": [],
   "source": [
    "# Save the response data\n",
    "payload = response.json()"
   ]
  },
  {
   "cell_type": "code",
   "execution_count": null,
   "id": "7af7b0e2",
   "metadata": {},
   "outputs": [],
   "source": [
    "# inpsect the payload\n",
    "payload.keys()"
   ]
  },
  {
   "cell_type": "code",
   "execution_count": null,
   "id": "54d57a6d",
   "metadata": {
    "scrolled": true
   },
   "outputs": [],
   "source": [
    "# Inspect the data\n",
    "payload['items'][0]['id']"
   ]
  },
  {
   "cell_type": "code",
   "execution_count": null,
   "id": "116ad6bd-b2e5-4a39-b934-3819f7e46f51",
   "metadata": {
    "tags": []
   },
   "outputs": [],
   "source": [
    "# Save the channel id\n",
    "channel_id = payload['items'][0]['id']"
   ]
  },
  {
   "cell_type": "code",
   "execution_count": null,
   "id": "d6ab6424-4441-48a2-bdd0-ac13d4f2dd93",
   "metadata": {
    "tags": []
   },
   "outputs": [],
   "source": [
    "payload['items'][0]['snippet']"
   ]
  },
  {
   "cell_type": "code",
   "execution_count": null,
   "id": "ee939cbb-0948-4497-bbf9-b8ed0ed409f5",
   "metadata": {
    "tags": []
   },
   "outputs": [],
   "source": [
    "# Use this information to get video information (other notation)\n",
    "search_url = 'https://www.googleapis.com/youtube/v3/search'\n",
    "parameters = {'key':api_key,\n",
    "         'part':'snippet',\n",
    "         'channelId':channel_id,\n",
    "         'order':'date',\n",
    "          'maxResults':'50'}\n",
    "\n",
    "search_response = requests.get(search_url, params = parameters)"
   ]
  },
  {
   "cell_type": "code",
   "execution_count": null,
   "id": "bef5af14-1762-40c0-8854-3a087185da1d",
   "metadata": {
    "tags": []
   },
   "outputs": [],
   "source": [
    "# check to make sure it was a successful request\n",
    "search_response.status_code"
   ]
  },
  {
   "cell_type": "code",
   "execution_count": null,
   "id": "f4ac1bb1-2d96-4043-adf8-1e10b0e5e346",
   "metadata": {
    "tags": []
   },
   "outputs": [],
   "source": [
    "payload = search_response.json()"
   ]
  },
  {
   "cell_type": "code",
   "execution_count": null,
   "id": "5f1d90cf-3d84-4be8-8a06-91ae4d83a826",
   "metadata": {
    "tags": []
   },
   "outputs": [],
   "source": [
    "payload.keys()"
   ]
  },
  {
   "cell_type": "markdown",
   "id": "9afaae20-dc57-4e28-9b14-801a1fc44db4",
   "metadata": {},
   "source": [
    "## Parsing/Preparing the Data"
   ]
  },
  {
   "cell_type": "code",
   "execution_count": null,
   "id": "5ac3c793",
   "metadata": {
    "scrolled": true
   },
   "outputs": [],
   "source": [
    "# Put the data in a pandas dataframe\n",
    "payload_df = pd.DataFrame(payload['items'])\n",
    "payload_df.head()"
   ]
  },
  {
   "cell_type": "code",
   "execution_count": null,
   "id": "4314beeb-9627-44a6-903a-ff6304046f4c",
   "metadata": {
    "tags": []
   },
   "outputs": [],
   "source": [
    "payload_normalized_df = pd.json_normalize(payload['items'])\n",
    "payload_normalized_df.head()"
   ]
  },
  {
   "cell_type": "code",
   "execution_count": null,
   "id": "1709704c-b931-4e12-b640-4a700ce43919",
   "metadata": {
    "tags": []
   },
   "outputs": [],
   "source": [
    "payload_normalized_df.drop(columns = 'kind',inplace=True)"
   ]
  },
  {
   "cell_type": "code",
   "execution_count": null,
   "id": "6ab75339",
   "metadata": {},
   "outputs": [],
   "source": [
    "# inspect the id data\n",
    "payload_normalized_df.columns = ['_'.join(i.split('.')[-2:]) if 'snippet.thumbnails' in i \n",
    "                                 else i.split('.')[-1] for i in payload_normalized_df.columns]\n",
    "payload_normalized_df.head()"
   ]
  },
  {
   "cell_type": "code",
   "execution_count": null,
   "id": "d0a3fe6e",
   "metadata": {},
   "outputs": [],
   "source": [
    "# Video title\n",
    "clean_df = payload_normalized_df.copy()\n",
    "clean_df.head()"
   ]
  },
  {
   "cell_type": "markdown",
   "id": "cb71b0e8-3430-491e-857a-4f13214e3bfe",
   "metadata": {},
   "source": [
    "## Enhancing the data with video-specific info"
   ]
  },
  {
   "cell_type": "code",
   "execution_count": null,
   "id": "51773387",
   "metadata": {},
   "outputs": [],
   "source": [
    "# Test getting data for a specific video\n",
    "video_id = \"Wkbj2V8CQTw\"\n",
    "video_url = \"https://www.googleapis.com/youtube/v3/videos\"\n",
    "video_params = {'key':api_key,\n",
    "               'part':'statistics',\n",
    "               'id':video_id}"
   ]
  },
  {
   "cell_type": "code",
   "execution_count": null,
   "id": "907efed0",
   "metadata": {},
   "outputs": [],
   "source": [
    "response_video_stats_test = requests.get(video_url,params = video_params)"
   ]
  },
  {
   "cell_type": "code",
   "execution_count": null,
   "id": "d2fbbefd",
   "metadata": {},
   "outputs": [],
   "source": [
    "response_video_stats_test.json()"
   ]
  },
  {
   "cell_type": "markdown",
   "id": "6c0d195d-ea51-4add-a2bc-5fa986de3dd7",
   "metadata": {},
   "source": [
    "Get data for multiple videos"
   ]
  },
  {
   "cell_type": "code",
   "execution_count": null,
   "id": "25889a05",
   "metadata": {},
   "outputs": [],
   "source": [
    "# get data for multiple videos\n",
    "ids = ','.join(clean_df.videoId)\n",
    "ids"
   ]
  },
  {
   "cell_type": "code",
   "execution_count": null,
   "id": "92c1d471",
   "metadata": {},
   "outputs": [],
   "source": [
    "# Create parameters for more video requests\n",
    "more_video_params = {'key':api_key,\n",
    "               'part':'statistics',\n",
    "               'id':ids}"
   ]
  },
  {
   "cell_type": "code",
   "execution_count": null,
   "id": "c0b4c0ac",
   "metadata": {},
   "outputs": [],
   "source": [
    "# Request the data\n",
    "response_stats = requests.get(video_url, params = more_video_params).json()"
   ]
  },
  {
   "cell_type": "code",
   "execution_count": null,
   "id": "28f97eab",
   "metadata": {},
   "outputs": [],
   "source": [
    "# Inspect the result\n",
    "response_stats.keys()"
   ]
  },
  {
   "cell_type": "code",
   "execution_count": null,
   "id": "75db3e27",
   "metadata": {},
   "outputs": [],
   "source": [
    "# Access the statistics\n",
    "response_stats['items'][0]['statistics']"
   ]
  },
  {
   "cell_type": "code",
   "execution_count": null,
   "id": "fa4ba835",
   "metadata": {},
   "outputs": [],
   "source": [
    "# Add to the dataframe\n",
    "clean_df['viewCount'] = [i['statistics']['viewCount'] for i in response_stats['items']]\n",
    "clean_df.head()"
   ]
  },
  {
   "cell_type": "code",
   "execution_count": null,
   "id": "f3fee01d",
   "metadata": {},
   "outputs": [],
   "source": [
    "# Add to the dataframe\n",
    "clean_df['likeCount'] = [i['statistics']['likeCount'] for i in response_stats['items']]\n",
    "clean_df.head()"
   ]
  },
  {
   "cell_type": "markdown",
   "id": "881d4851-8f29-4170-974f-017b2d1965d4",
   "metadata": {},
   "source": [
    "## Activity"
   ]
  },
  {
   "cell_type": "markdown",
   "id": "150f5cc0-de02-4afd-987c-2ef183c96e6a",
   "metadata": {},
   "source": [
    "**Activity 1:** Explore other endpoints or parts of the Youtube API to get more information about Cal Poly Humboldt's channel or a specific video."
   ]
  },
  {
   "cell_type": "code",
   "execution_count": null,
   "id": "f5ad66f8-ef9d-4cd4-ab97-2af21367f54d",
   "metadata": {},
   "outputs": [],
   "source": []
  },
  {
   "cell_type": "markdown",
   "id": "47952eee-cfd4-4b96-b2b4-a213008a6e1d",
   "metadata": {},
   "source": [
    "**Activity 2:** With a partner, choose a Youtube channel of your choice, and use the `requests` module to fetch basic video data from the YouTube API (e.g. videoId, publishedAt, title)."
   ]
  },
  {
   "cell_type": "code",
   "execution_count": null,
   "id": "78b00544",
   "metadata": {},
   "outputs": [],
   "source": []
  },
  {
   "cell_type": "markdown",
   "id": "139f1bad-1f7e-41ed-8601-2407afe54c12",
   "metadata": {},
   "source": [
    "**Activity 3:** Put the response object in a Pandas DataFrame and use it to create two new columns `date` and `time` to show the date the video was published, and the time the video was published. "
   ]
  },
  {
   "cell_type": "code",
   "execution_count": null,
   "id": "d27535f2",
   "metadata": {},
   "outputs": [],
   "source": []
  }
 ],
 "metadata": {
  "kernelspec": {
   "display_name": "Python 3 (ipykernel)",
   "language": "python",
   "name": "python3"
  },
  "language_info": {
   "codemirror_mode": {
    "name": "ipython",
    "version": 3
   },
   "file_extension": ".py",
   "mimetype": "text/x-python",
   "name": "python",
   "nbconvert_exporter": "python",
   "pygments_lexer": "ipython3",
   "version": "3.11.4"
  }
 },
 "nbformat": 4,
 "nbformat_minor": 5
}
