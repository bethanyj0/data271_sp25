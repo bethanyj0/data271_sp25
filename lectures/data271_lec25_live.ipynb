{
 "cells": [
  {
   "cell_type": "markdown",
   "id": "9ef78f72-44e9-4983-b25e-d519bb6825a2",
   "metadata": {},
   "source": [
    "# Fetching Data with an API and Preparing the Data"
   ]
  },
  {
   "cell_type": "code",
   "execution_count": null,
   "id": "42935dad-f496-442d-9146-6b74213f004a",
   "metadata": {},
   "outputs": [],
   "source": [
    "import numpy as np\n",
    "import pandas as pd"
   ]
  },
  {
   "cell_type": "markdown",
   "id": "5362ff60-c01c-456a-af7f-37b69d178310",
   "metadata": {},
   "source": [
    "## Requesting data from Google's Youtube API"
   ]
  },
  {
   "cell_type": "markdown",
   "id": "1fa80265-27f0-4c9a-ba2c-a24ea1ba39fc",
   "metadata": {},
   "source": [
    "First we have to create credentials. Go to https://console.cloud.google.com/. Sign in with your Google account if you haven't already. Click on \"Create Project\" and name a new project whatever you want. When it asks you to enable API's look through the API library, and select the Youtube Data API. Once you've enabled the API, you should be able to access your API Key. "
   ]
  },
  {
   "cell_type": "code",
   "execution_count": null,
   "id": "6caeeb5b-705a-4c55-bc33-ccf8acd65c03",
   "metadata": {},
   "outputs": [],
   "source": [
    "# Paste your youtube API here\n",
    "api_key = "
   ]
  },
  {
   "cell_type": "markdown",
   "id": "0b032b1f-6663-4131-be31-cad8cf95b420",
   "metadata": {},
   "source": [
    "We will just request data from Cal Poly Humboldt's Youtube Channel ([HumboldtOnline](https://www.youtube.com/@CalPolyHumboldt))."
   ]
  },
  {
   "cell_type": "code",
   "execution_count": null,
   "id": "ecf08ed0-7ac3-433c-b7cf-5235462d4424",
   "metadata": {},
   "outputs": [],
   "source": [
    "# whenever we want to request data with an API\n"
   ]
  },
  {
   "cell_type": "markdown",
   "id": "5006eaef-7948-42be-b51b-5f0ae90ae579",
   "metadata": {},
   "source": [
    "Read the Youtube API documentation [here](https://developers.google.com/youtube/v3/docs). We first want to get data about the Youtube channel. Navigate to the Channel endpoint, and read the documentation."
   ]
  },
  {
   "cell_type": "code",
   "execution_count": null,
   "id": "85e4138d-ed85-4eb1-a6c3-28c17daeb37f",
   "metadata": {
    "tags": []
   },
   "outputs": [],
   "source": [
    "# the url for making the request \n",
    "url = "
   ]
  },
  {
   "cell_type": "code",
   "execution_count": null,
   "id": "ebf9b764-7926-42a4-94ca-54e4c5895617",
   "metadata": {},
   "outputs": [],
   "source": [
    "# Request the data with a \"GET\" request\n",
    "response = \n",
    "response"
   ]
  },
  {
   "cell_type": "code",
   "execution_count": null,
   "id": "9adf6a5b-60a3-4113-8722-cba6f45587a0",
   "metadata": {},
   "outputs": [],
   "source": [
    "# check out response\n"
   ]
  },
  {
   "cell_type": "code",
   "execution_count": null,
   "id": "31b78729-cf27-4657-8fc2-09c0cb921fa3",
   "metadata": {
    "tags": []
   },
   "outputs": [],
   "source": [
    "# learn more about response\n"
   ]
  },
  {
   "cell_type": "code",
   "execution_count": null,
   "id": "9c0c3d3f-822e-4719-93a7-adb803d68703",
   "metadata": {
    "tags": []
   },
   "outputs": [],
   "source": [
    "# use the json() method to access the data\n"
   ]
  },
  {
   "cell_type": "code",
   "execution_count": null,
   "id": "8fee8a48-398f-45a2-a579-26513159e9e4",
   "metadata": {},
   "outputs": [],
   "source": [
    "# Save the response data\n",
    "payload = response.json()"
   ]
  },
  {
   "cell_type": "code",
   "execution_count": null,
   "id": "ee414715-9289-49da-8d96-798cc91db218",
   "metadata": {},
   "outputs": [],
   "source": [
    "# inpsect the payload\n"
   ]
  },
  {
   "cell_type": "code",
   "execution_count": null,
   "id": "1f9603c5-0e9e-4755-82ea-64bd47f01e1b",
   "metadata": {
    "scrolled": true
   },
   "outputs": [],
   "source": [
    "# Inspect the data\n"
   ]
  },
  {
   "cell_type": "code",
   "execution_count": null,
   "id": "ec1697ac-145f-4787-86f2-e80688f0a556",
   "metadata": {
    "tags": []
   },
   "outputs": [],
   "source": [
    "# Save the channel id\n"
   ]
  },
  {
   "cell_type": "code",
   "execution_count": null,
   "id": "db88b791-cfb5-46bd-b028-73e4fb36391d",
   "metadata": {
    "tags": []
   },
   "outputs": [],
   "source": []
  },
  {
   "cell_type": "code",
   "execution_count": null,
   "id": "16b7a78b-ba00-42f9-b7eb-8fb6a5a77647",
   "metadata": {
    "tags": []
   },
   "outputs": [],
   "source": [
    "# Use this information to get video information (other notation)\n",
    "search_url = \n",
    "parameters = \n",
    "\n",
    "search_response = requests.get(search_url, params = parameters)"
   ]
  },
  {
   "cell_type": "code",
   "execution_count": null,
   "id": "47dfc32e-62dc-45e6-9dde-79146772eb7a",
   "metadata": {
    "tags": []
   },
   "outputs": [],
   "source": [
    "# check to make sure it was a successful request\n",
    "search_response..."
   ]
  },
  {
   "cell_type": "code",
   "execution_count": null,
   "id": "3ae9df58-3478-4f07-8c1e-3a086d31d31c",
   "metadata": {
    "tags": []
   },
   "outputs": [],
   "source": [
    "payload = "
   ]
  },
  {
   "cell_type": "code",
   "execution_count": null,
   "id": "132f28ce-1de7-4da9-85f4-8f32f75618f3",
   "metadata": {
    "tags": []
   },
   "outputs": [],
   "source": []
  },
  {
   "cell_type": "markdown",
   "id": "abb0794b-5250-4cf8-bcac-e3f013adda88",
   "metadata": {},
   "source": [
    "## Parsing/Preparing the Data"
   ]
  },
  {
   "cell_type": "code",
   "execution_count": null,
   "id": "90900a3c-f4d3-47cc-89c1-37f94e99d220",
   "metadata": {
    "scrolled": true
   },
   "outputs": [],
   "source": [
    "# Put the data in a pandas dataframe\n",
    "payload_df = \n",
    "payload_df.head()"
   ]
  },
  {
   "cell_type": "code",
   "execution_count": null,
   "id": "949f4c33-4b2c-43db-bbbe-d92ec3414b9e",
   "metadata": {
    "tags": []
   },
   "outputs": [],
   "source": [
    "payload_normalized_df = \n",
    "payload_normalized_df.head()"
   ]
  },
  {
   "cell_type": "code",
   "execution_count": null,
   "id": "be9a5099-d090-4eac-be3f-76eada6d5ed2",
   "metadata": {
    "tags": []
   },
   "outputs": [],
   "source": [
    "payload_normalized_df.drop(columns = 'kind',inplace=True)"
   ]
  },
  {
   "cell_type": "code",
   "execution_count": null,
   "id": "75d18aec-a834-465b-8fff-3cad440d2ad8",
   "metadata": {},
   "outputs": [],
   "source": [
    "# inspect the id data\n",
    "payload_normalized_df.columns = ['_'.join(i.split('.')[-2:]) if 'snippet.thumbnails' in i \n",
    "                                 else i.split('.')[-1] for i in payload_normalized_df.columns]\n",
    "payload_normalized_df.head()"
   ]
  },
  {
   "cell_type": "code",
   "execution_count": null,
   "id": "81fcd72a-07bc-4a2a-aa52-e513c841b318",
   "metadata": {},
   "outputs": [],
   "source": [
    "# Video title\n",
    "clean_df = payload_normalized_df.copy()\n",
    "clean_df.head()"
   ]
  },
  {
   "cell_type": "markdown",
   "id": "001e6f7d-4991-4878-9139-8555b291ffed",
   "metadata": {},
   "source": [
    "## Enhancing the data with video-specific info"
   ]
  },
  {
   "cell_type": "code",
   "execution_count": null,
   "id": "2258ac44-e6ef-47e5-a19b-75630ec4a7fa",
   "metadata": {},
   "outputs": [],
   "source": [
    "# Test getting data for a specific video\n",
    "video_id = \n",
    "video_url = \n",
    "video_params = "
   ]
  },
  {
   "cell_type": "code",
   "execution_count": null,
   "id": "272bb53c-4317-4701-b39a-90c0a9e2b80f",
   "metadata": {},
   "outputs": [],
   "source": [
    "response_video_stats_test = requests.get(video_url,params = video_params)"
   ]
  },
  {
   "cell_type": "code",
   "execution_count": null,
   "id": "d34786fb-2ee7-4046-ba0c-35d2dc547a11",
   "metadata": {},
   "outputs": [],
   "source": [
    "response_video_stats_test.json()"
   ]
  },
  {
   "cell_type": "markdown",
   "id": "09438ab4-d2d1-4883-991a-4f0c84cd7c3b",
   "metadata": {},
   "source": [
    "Get data for multiple videos"
   ]
  },
  {
   "cell_type": "code",
   "execution_count": null,
   "id": "2a7c67e0-4f47-48ab-b480-8cf3afc2ad99",
   "metadata": {},
   "outputs": [],
   "source": [
    "# get data for multiple videos\n",
    "ids = \n",
    "ids"
   ]
  },
  {
   "cell_type": "code",
   "execution_count": null,
   "id": "6f1a1443-0c10-41af-ae3a-95f159e010a5",
   "metadata": {},
   "outputs": [],
   "source": [
    "# Create parameters for more video requests\n",
    "more_video_params = "
   ]
  },
  {
   "cell_type": "code",
   "execution_count": null,
   "id": "3e3256ef-bbf6-4d91-91b1-5fd5de230927",
   "metadata": {},
   "outputs": [],
   "source": [
    "# Request the data\n",
    "response_stats = requests.get(video_url, params = more_video_params).json()"
   ]
  },
  {
   "cell_type": "code",
   "execution_count": null,
   "id": "c06ad431-1ac0-48a6-adec-f6c59c7afd15",
   "metadata": {},
   "outputs": [],
   "source": [
    "# Inspect the result\n",
    "response_stats.keys()"
   ]
  },
  {
   "cell_type": "code",
   "execution_count": null,
   "id": "6f445622-b21e-4117-a9bd-99b83fb3511c",
   "metadata": {},
   "outputs": [],
   "source": [
    "# Access the statistics\n",
    "response_stats['items'][0]['statistics']"
   ]
  },
  {
   "cell_type": "code",
   "execution_count": null,
   "id": "56bf13a2-e43d-4e6b-a77f-0ee65a3c1f62",
   "metadata": {},
   "outputs": [],
   "source": [
    "# Add to the dataframe\n",
    "clean_df['viewCount'] = [i['statistics']['viewCount'] for i in response_stats['items']]\n",
    "clean_df.head()"
   ]
  },
  {
   "cell_type": "code",
   "execution_count": null,
   "id": "0b7c8705-caa2-436a-aba2-c061e1f7d65d",
   "metadata": {},
   "outputs": [],
   "source": [
    "# Add to the dataframe\n",
    "clean_df['likeCount'] = [i['statistics']['likeCount'] for i in response_stats['items']]\n",
    "clean_df.head()"
   ]
  },
  {
   "cell_type": "markdown",
   "id": "ac69de2a-96b2-4c4a-aa45-b10cfc2ab54b",
   "metadata": {},
   "source": [
    "## Activity"
   ]
  },
  {
   "cell_type": "markdown",
   "id": "173d6466-d43f-45f2-afef-b72ca7ea9328",
   "metadata": {},
   "source": [
    "**Activity 1:** Explore other endpoints or parts of the Youtube API to get more information about Cal Poly Humboldt's channel or a specific video."
   ]
  },
  {
   "cell_type": "code",
   "execution_count": null,
   "id": "99253738-9d6e-428b-bf4f-5b07a200276c",
   "metadata": {},
   "outputs": [],
   "source": []
  },
  {
   "cell_type": "markdown",
   "id": "422c2310-7639-4b57-a7aa-849f68ddf220",
   "metadata": {},
   "source": [
    "**Activity 2:** With a partner, choose a Youtube channel of your choice, and use the `requests` module to fetch basic video data from the YouTube API (e.g. videoId, publishedAt, title)."
   ]
  },
  {
   "cell_type": "code",
   "execution_count": null,
   "id": "c2c58155-9217-45cb-b10f-2be7eb9d7f8d",
   "metadata": {},
   "outputs": [],
   "source": []
  },
  {
   "cell_type": "markdown",
   "id": "a16b84ed-be81-4f02-a00b-48cc39853886",
   "metadata": {},
   "source": [
    "**Activity 3:** Put the response object in a Pandas DataFrame and use it to create two new columns `date` and `time` to show the date the video was published, and the time the video was published. "
   ]
  },
  {
   "cell_type": "code",
   "execution_count": null,
   "id": "f513c25b-fa8f-4a9f-bf53-3aa467cf8c79",
   "metadata": {},
   "outputs": [],
   "source": []
  }
 ],
 "metadata": {
  "kernelspec": {
   "display_name": "Python 3 (ipykernel)",
   "language": "python",
   "name": "python3"
  },
  "language_info": {
   "codemirror_mode": {
    "name": "ipython",
    "version": 3
   },
   "file_extension": ".py",
   "mimetype": "text/x-python",
   "name": "python",
   "nbconvert_exporter": "python",
   "pygments_lexer": "ipython3",
   "version": "3.11.4"
  }
 },
 "nbformat": 4,
 "nbformat_minor": 5
}
