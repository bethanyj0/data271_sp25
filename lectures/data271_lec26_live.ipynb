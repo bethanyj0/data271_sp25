{
 "cells": [
  {
   "cell_type": "markdown",
   "id": "0a38f9d2-2b6c-41f5-a740-dd063a752158",
   "metadata": {},
   "source": [
    "# Fetching Data with an API and Preparing the Data"
   ]
  },
  {
   "cell_type": "code",
   "execution_count": null,
   "id": "a6ea2074-2b85-455f-9819-a196e7235aaf",
   "metadata": {},
   "outputs": [],
   "source": [
    "import numpy as np\n",
    "import pandas as pd"
   ]
  },
  {
   "cell_type": "markdown",
   "id": "18eb93bf-a629-4b48-b87a-51c63acda94d",
   "metadata": {},
   "source": [
    "## Requesting data from Google's Youtube API"
   ]
  },
  {
   "cell_type": "markdown",
   "id": "066b5a30-e82c-47be-a2ec-aab3733e3b38",
   "metadata": {},
   "source": [
    "First we have to create credentials. Go to https://console.cloud.google.com/. Sign in with your Google account if you haven't already. Click on \"Create Project\" and name a new project whatever you want. When it asks you to enable API's look through the API library, and select the Youtube Data API. Once you've enabled the API, you should be able to access your API Key. "
   ]
  },
  {
   "cell_type": "code",
   "execution_count": null,
   "id": "3aa66305-3262-42d1-8909-128e605ba1cf",
   "metadata": {},
   "outputs": [],
   "source": [
    "# Paste your youtube API here\n",
    "api_key = "
   ]
  },
  {
   "cell_type": "markdown",
   "id": "5b912aea-2d5c-4956-b547-295f6fed0fbc",
   "metadata": {},
   "source": [
    "We will just request data from Cal Poly Humboldt's Youtube Channel ([HumboldtOnline](https://www.youtube.com/@CalPolyHumboldt))."
   ]
  },
  {
   "cell_type": "code",
   "execution_count": null,
   "id": "00be54b3-5ff6-44ce-a135-97020298af25",
   "metadata": {},
   "outputs": [],
   "source": [
    "# whenever we want to request data with an API\n",
    "import requests"
   ]
  },
  {
   "cell_type": "markdown",
   "id": "ef572ff6-43bf-4347-83b9-3a90e6686a32",
   "metadata": {},
   "source": [
    "Read the Youtube API documentation [here](https://developers.google.com/youtube/v3/docs). We first want to get data about the Youtube channel. Navigate to the Channel endpoint, and read the documentation."
   ]
  },
  {
   "cell_type": "code",
   "execution_count": null,
   "id": "e61bc04d-ed24-4c11-8f2b-1b32c7bc144a",
   "metadata": {
    "tags": []
   },
   "outputs": [],
   "source": [
    "# the url for making the request \n",
    "url = url = \"https://www.googleapis.com/youtube/v3/channels?key=\"+api_key+\"&part=snippet&forHandle=CalPolyHumboldt\""
   ]
  },
  {
   "cell_type": "code",
   "execution_count": null,
   "id": "d3095047",
   "metadata": {},
   "outputs": [],
   "source": [
    "# Request the data with a \"GET\" request\n",
    "response = requests.get(url)\n",
    "response"
   ]
  },
  {
   "cell_type": "code",
   "execution_count": null,
   "id": "57496806",
   "metadata": {},
   "outputs": [],
   "source": [
    "# check out response\n",
    "type(response)"
   ]
  },
  {
   "cell_type": "code",
   "execution_count": null,
   "id": "f8054d27",
   "metadata": {
    "tags": []
   },
   "outputs": [],
   "source": [
    "# learn more about response\n",
    "help(response)"
   ]
  },
  {
   "cell_type": "code",
   "execution_count": null,
   "id": "081c7d67",
   "metadata": {
    "tags": []
   },
   "outputs": [],
   "source": [
    "# use the json() method to access the data\n",
    "response.json()"
   ]
  },
  {
   "cell_type": "code",
   "execution_count": null,
   "id": "8287583d",
   "metadata": {},
   "outputs": [],
   "source": [
    "# Save the response data\n",
    "payload = response.json()"
   ]
  },
  {
   "cell_type": "code",
   "execution_count": null,
   "id": "7af7b0e2",
   "metadata": {},
   "outputs": [],
   "source": [
    "# inpsect the payload\n",
    "payload.keys()"
   ]
  },
  {
   "cell_type": "code",
   "execution_count": null,
   "id": "54d57a6d",
   "metadata": {
    "scrolled": true
   },
   "outputs": [],
   "source": [
    "# Inspect the data\n",
    "payload['items'][0]['id']"
   ]
  },
  {
   "cell_type": "code",
   "execution_count": null,
   "id": "116ad6bd-b2e5-4a39-b934-3819f7e46f51",
   "metadata": {
    "tags": []
   },
   "outputs": [],
   "source": [
    "# Save the channel id\n",
    "channel_id = payload['items'][0]['id']"
   ]
  },
  {
   "cell_type": "code",
   "execution_count": null,
   "id": "d6ab6424-4441-48a2-bdd0-ac13d4f2dd93",
   "metadata": {
    "tags": []
   },
   "outputs": [],
   "source": [
    "payload['items'][0]['snippet']"
   ]
  },
  {
   "cell_type": "code",
   "execution_count": null,
   "id": "ce84c92c-6b01-4236-8cba-fb5777570297",
   "metadata": {
    "tags": []
   },
   "outputs": [],
   "source": [
    "# Use this information to get video information (other notation)\n",
    "search_url = \n",
    "parameters = \n",
    "\n",
    "search_response = requests.get(search_url, params = parameters)"
   ]
  },
  {
   "cell_type": "code",
   "execution_count": null,
   "id": "21be8147-14df-4212-b0a9-4cde982f5bbc",
   "metadata": {
    "tags": []
   },
   "outputs": [],
   "source": [
    "# check to make sure it was a successful request\n",
    "search_response..."
   ]
  },
  {
   "cell_type": "code",
   "execution_count": null,
   "id": "d2bc45a0-dbb3-40f4-b92c-2013675bb0c7",
   "metadata": {
    "tags": []
   },
   "outputs": [],
   "source": [
    "payload = "
   ]
  },
  {
   "cell_type": "code",
   "execution_count": null,
   "id": "3770ef07-c672-4d23-a8f5-1f752ea4e561",
   "metadata": {
    "tags": []
   },
   "outputs": [],
   "source": []
  },
  {
   "cell_type": "markdown",
   "id": "4f983c1a-05cf-40a8-b0cb-0f73c45c30cc",
   "metadata": {},
   "source": [
    "## Parsing/Preparing the Data"
   ]
  },
  {
   "cell_type": "code",
   "execution_count": null,
   "id": "7addbe10-b8e1-43db-a6ba-48cfb9e9116f",
   "metadata": {
    "scrolled": true
   },
   "outputs": [],
   "source": [
    "# Put the data in a pandas dataframe\n",
    "payload_df = \n",
    "payload_df.head()"
   ]
  },
  {
   "cell_type": "code",
   "execution_count": null,
   "id": "75ea783f-eefc-4a7b-a282-0f3b53d87826",
   "metadata": {
    "tags": []
   },
   "outputs": [],
   "source": [
    "payload_normalized_df = \n",
    "payload_normalized_df.head()"
   ]
  },
  {
   "cell_type": "code",
   "execution_count": null,
   "id": "734f2664-4c18-48c0-a40f-055234f445b3",
   "metadata": {
    "tags": []
   },
   "outputs": [],
   "source": [
    "payload_normalized_df.drop(columns = 'kind',inplace=True)"
   ]
  },
  {
   "cell_type": "code",
   "execution_count": null,
   "id": "f4cc7a1c-48bd-4961-a38a-654a7fbfba45",
   "metadata": {},
   "outputs": [],
   "source": [
    "# inspect the id data\n",
    "payload_normalized_df.columns = ['_'.join(i.split('.')[-2:]) if 'snippet.thumbnails' in i \n",
    "                                 else i.split('.')[-1] for i in payload_normalized_df.columns]\n",
    "payload_normalized_df.head()"
   ]
  },
  {
   "cell_type": "code",
   "execution_count": null,
   "id": "23ae4e7f-bf99-4bae-84c1-5fd644bab907",
   "metadata": {},
   "outputs": [],
   "source": [
    "# Video title\n",
    "clean_df = payload_normalized_df.copy()\n",
    "clean_df.head()"
   ]
  },
  {
   "cell_type": "markdown",
   "id": "ca18ce78-56f0-4acd-a827-02ae9498cf1f",
   "metadata": {},
   "source": [
    "## Enhancing the data with video-specific info"
   ]
  },
  {
   "cell_type": "code",
   "execution_count": null,
   "id": "1870626f-1149-4c23-94c0-df3ce9565d84",
   "metadata": {},
   "outputs": [],
   "source": [
    "# Test getting data for a specific video\n",
    "video_id = \n",
    "video_url = \n",
    "video_params = "
   ]
  },
  {
   "cell_type": "code",
   "execution_count": null,
   "id": "76324a16-5821-494e-ad26-eeb3db773f77",
   "metadata": {},
   "outputs": [],
   "source": [
    "response_video_stats_test = requests.get(video_url,params = video_params)"
   ]
  },
  {
   "cell_type": "code",
   "execution_count": null,
   "id": "6366e06d-2c3b-4905-9d5d-7fb41fac1185",
   "metadata": {},
   "outputs": [],
   "source": [
    "response_video_stats_test.json()"
   ]
  },
  {
   "cell_type": "markdown",
   "id": "0aaddb03-73dc-40c9-8258-7d44e589b673",
   "metadata": {},
   "source": [
    "Get data for multiple videos"
   ]
  },
  {
   "cell_type": "code",
   "execution_count": null,
   "id": "2916f01c-3451-4463-bcd9-909ea27813c3",
   "metadata": {},
   "outputs": [],
   "source": [
    "# get data for multiple videos\n",
    "ids = \n",
    "ids"
   ]
  },
  {
   "cell_type": "code",
   "execution_count": null,
   "id": "a329aeab-1ab9-4fd4-8e7f-0175533ad4d5",
   "metadata": {},
   "outputs": [],
   "source": [
    "# Create parameters for more video requests\n",
    "more_video_params = "
   ]
  },
  {
   "cell_type": "code",
   "execution_count": null,
   "id": "ef79a909-aabd-4200-970c-42fbe0d5c64d",
   "metadata": {},
   "outputs": [],
   "source": [
    "# Request the data\n",
    "response_stats = requests.get(video_url, params = more_video_params).json()"
   ]
  },
  {
   "cell_type": "code",
   "execution_count": null,
   "id": "3a254e47-d707-410b-b9fb-4e03d4292488",
   "metadata": {},
   "outputs": [],
   "source": [
    "# Inspect the result\n",
    "response_stats.keys()"
   ]
  },
  {
   "cell_type": "code",
   "execution_count": null,
   "id": "80e89a0a-1ff9-4a34-bf4a-520a3cf6368c",
   "metadata": {},
   "outputs": [],
   "source": [
    "# Access the statistics\n",
    "response_stats['items'][0]['statistics']"
   ]
  },
  {
   "cell_type": "code",
   "execution_count": null,
   "id": "34ac5eb9-0030-4781-a57d-fa0c8f7180c2",
   "metadata": {},
   "outputs": [],
   "source": [
    "# Add to the dataframe\n",
    "clean_df['viewCount'] = [i['statistics']['viewCount'] for i in response_stats['items']]\n",
    "clean_df.head()"
   ]
  },
  {
   "cell_type": "code",
   "execution_count": null,
   "id": "c4a7b59b-14a4-4c13-ae12-8eb5f6a53f5a",
   "metadata": {},
   "outputs": [],
   "source": [
    "# Add to the dataframe\n",
    "clean_df['likeCount'] = [i['statistics']['likeCount'] for i in response_stats['items']]\n",
    "clean_df.head()"
   ]
  },
  {
   "cell_type": "markdown",
   "id": "ec11e1ed-44c6-4c94-a199-f0de7bbc6826",
   "metadata": {},
   "source": [
    "## Activity"
   ]
  },
  {
   "cell_type": "markdown",
   "id": "284f1813-c911-46d8-9deb-1449ff63c2ab",
   "metadata": {},
   "source": [
    "**Activity 1:** Explore other endpoints or parts of the Youtube API to get more information about Cal Poly Humboldt's channel or a specific video."
   ]
  },
  {
   "cell_type": "code",
   "execution_count": null,
   "id": "68c0ead7-d336-4ee0-b300-ee99491a1c31",
   "metadata": {},
   "outputs": [],
   "source": []
  },
  {
   "cell_type": "markdown",
   "id": "a515a733-36c2-497b-9ee5-7e56d707f019",
   "metadata": {},
   "source": [
    "**Activity 2:** With a partner, choose a Youtube channel of your choice, and use the `requests` module to fetch basic video data from the YouTube API (e.g. videoId, publishedAt, title)."
   ]
  },
  {
   "cell_type": "code",
   "execution_count": null,
   "id": "6e2fe7c7-3bf6-4f56-85bc-21df30960abd",
   "metadata": {},
   "outputs": [],
   "source": []
  },
  {
   "cell_type": "markdown",
   "id": "230fd3e4-d93a-4a13-8c31-ba3d6cc813be",
   "metadata": {},
   "source": [
    "**Activity 3:** Put the response object in a Pandas DataFrame and use it to create two new columns `date` and `time` to show the date the video was published, and the time the video was published. "
   ]
  },
  {
   "cell_type": "code",
   "execution_count": null,
   "id": "26e99e3b",
   "metadata": {},
   "outputs": [],
   "source": [
    "import numpy as np\n",
    "import pandas as pd"
   ]
  },
  {
   "cell_type": "markdown",
   "id": "51d3b736",
   "metadata": {},
   "source": [
    "## Requesting data from Google's Youtube API"
   ]
  },
  {
   "cell_type": "markdown",
   "id": "d328fe48",
   "metadata": {},
   "source": [
    "First we have to create credentials. Go to https://console.cloud.google.com/. Sign in with your Google account if you haven't already. Click on \"Create Project\" and name a new project whatever you want. When it asks you to enable API's look through the API library, and select the Youtube Data API. Once you've enabled the API, you should be able to access your API Key. "
   ]
  },
  {
   "cell_type": "code",
   "execution_count": null,
   "id": "fd32e93e",
   "metadata": {},
   "outputs": [],
   "source": [
    "# Paste your youtube API here\n",
    "api_key = "
   ]
  },
  {
   "cell_type": "markdown",
   "id": "26b20a67",
   "metadata": {},
   "source": [
    "We will just request data from Cal Poly Humboldt's Youtube Channel (@HumboldtOnline). For this, we will need the channel's channel ID. Go to Youtube and find one of Cal Poly Humboldt's youtube videos. Right-click on your browser and click View Page Source. Search (Ctrl-F) for https://www.youtube.com/channel/ in the page source. The channel ID will appear directly after the /channel/ text in the URL path."
   ]
  },
  {
   "cell_type": "code",
   "execution_count": null,
   "id": "7d460d81",
   "metadata": {},
   "outputs": [],
   "source": [
    "# Paste the channel ID here\n",
    "channel_id = "
   ]
  },
  {
   "cell_type": "code",
   "execution_count": null,
   "id": "5b4d63a5",
   "metadata": {},
   "outputs": [],
   "source": [
    "# whenever we want to request data from an API\n"
   ]
  },
  {
   "cell_type": "markdown",
   "id": "12b10cbd",
   "metadata": {},
   "source": [
    "Read the Youtube API documentation [here](https://developers.google.com/youtube/v3/docs). "
   ]
  },
  {
   "cell_type": "code",
   "execution_count": null,
   "id": "d00d53b1",
   "metadata": {},
   "outputs": [],
   "source": [
    "# The url to request from\n",
    "url = "
   ]
  },
  {
   "cell_type": "code",
   "execution_count": null,
   "id": "4091e013",
   "metadata": {},
   "outputs": [],
   "source": [
    "# Request the data with a \"GET\" request\n",
    "response = \n",
    "response"
   ]
  },
  {
   "cell_type": "code",
   "execution_count": null,
   "id": "d6439f8d",
   "metadata": {},
   "outputs": [],
   "source": [
    "# check out response\n"
   ]
  },
  {
   "cell_type": "code",
   "execution_count": null,
   "id": "0fdbf350",
   "metadata": {},
   "outputs": [],
   "source": [
    "# learn more about response\n"
   ]
  },
  {
   "cell_type": "code",
   "execution_count": null,
   "id": "b0db4be5",
   "metadata": {},
   "outputs": [],
   "source": [
    "# use the json() method to access the data\n"
   ]
  },
  {
   "cell_type": "code",
   "execution_count": null,
   "id": "7a62c216",
   "metadata": {},
   "outputs": [],
   "source": [
    "# Save the response data\n",
    "payload = response.json()"
   ]
  },
  {
   "cell_type": "code",
   "execution_count": null,
   "id": "83a6a431",
   "metadata": {},
   "outputs": [],
   "source": [
    "# inpsect the payload\n",
    "payload."
   ]
  },
  {
   "cell_type": "code",
   "execution_count": null,
   "id": "8b9fb539",
   "metadata": {
    "scrolled": true
   },
   "outputs": [],
   "source": [
    "# Inspect the data\n"
   ]
  },
  {
   "cell_type": "markdown",
   "id": "c215aaa1",
   "metadata": {},
   "source": [
    "## Parsing/Preparing the Data"
   ]
  },
  {
   "cell_type": "code",
   "execution_count": null,
   "id": "9ca8c01b",
   "metadata": {
    "scrolled": true
   },
   "outputs": [],
   "source": [
    "# Put the data in a pandas dataframe\n",
    "payload_df = \n",
    "payload_df.head()"
   ]
  },
  {
   "cell_type": "code",
   "execution_count": null,
   "id": "94c6f45d",
   "metadata": {},
   "outputs": [],
   "source": [
    "# inspect the id data\n",
    "payload_df"
   ]
  },
  {
   "cell_type": "code",
   "execution_count": null,
   "id": "b8d58ee8",
   "metadata": {},
   "outputs": [],
   "source": [
    "# inspect the snippet data\n",
    "payload_df"
   ]
  },
  {
   "cell_type": "code",
   "execution_count": null,
   "id": "7309478e",
   "metadata": {},
   "outputs": [],
   "source": [
    "# Create a new dataframe to store the clean data\n",
    "clean_df = pd.DataFrame()"
   ]
  },
  {
   "cell_type": "code",
   "execution_count": null,
   "id": "d318071e",
   "metadata": {},
   "outputs": [],
   "source": [
    "# add video ID\n",
    "clean_df\n",
    "clean_df.head()"
   ]
  },
  {
   "cell_type": "code",
   "execution_count": null,
   "id": "dddfa0e8",
   "metadata": {},
   "outputs": [],
   "source": [
    "# add published date/time\n",
    "clean_df\n",
    "clean_df.head()"
   ]
  },
  {
   "cell_type": "code",
   "execution_count": null,
   "id": "9dcb20ed",
   "metadata": {},
   "outputs": [],
   "source": [
    "# Video title\n",
    "clean_df\n",
    "clean_df.head()"
   ]
  },
  {
   "cell_type": "markdown",
   "id": "b3e26d2c",
   "metadata": {},
   "source": [
    "## Enhancing the data with video-specific info"
   ]
  },
  {
   "cell_type": "code",
   "execution_count": null,
   "id": "84e824e4",
   "metadata": {},
   "outputs": [],
   "source": [
    "# Test getting data for a specific video\n",
    "video_id = \n",
    "video_stats_test = \"https://www.googleapis.com/youtube/v3/videos?id=\"+video_id+\"&part=statistics&key=\"+api_key"
   ]
  },
  {
   "cell_type": "code",
   "execution_count": null,
   "id": "73cd6e49",
   "metadata": {},
   "outputs": [],
   "source": [
    "response_video_stats_test = "
   ]
  },
  {
   "cell_type": "code",
   "execution_count": null,
   "id": "f2563492",
   "metadata": {},
   "outputs": [],
   "source": [
    "response_video_stats_test.json()"
   ]
  },
  {
   "cell_type": "markdown",
   "id": "6e623dad",
   "metadata": {},
   "source": [
    "Get data for multiple videos"
   ]
  },
  {
   "cell_type": "code",
   "execution_count": null,
   "id": "3f9d0cbd",
   "metadata": {},
   "outputs": [],
   "source": [
    "# get data for multiple videos\n",
    "ids = ','.join(clean_df.videoID)\n",
    "ids"
   ]
  },
  {
   "cell_type": "code",
   "execution_count": null,
   "id": "473f0998",
   "metadata": {},
   "outputs": [],
   "source": [
    "# Create url for the video statistics\n",
    "url_for_stats = \"https://www.googleapis.com/youtube/v3/videos?id=\"+ids+\"&part=statistics&key=\"+api_key"
   ]
  },
  {
   "cell_type": "code",
   "execution_count": null,
   "id": "17e2a329",
   "metadata": {},
   "outputs": [],
   "source": [
    "# Request the data\n",
    "response_stats = "
   ]
  },
  {
   "cell_type": "code",
   "execution_count": null,
   "id": "acc335f3",
   "metadata": {},
   "outputs": [],
   "source": [
    "# Inspect the result\n",
    "response_stats.keys()"
   ]
  },
  {
   "cell_type": "code",
   "execution_count": null,
   "id": "a20efbfd",
   "metadata": {},
   "outputs": [],
   "source": [
    "# Access the statistics\n",
    "response_stats['items'][0]['statistics']"
   ]
  },
  {
   "cell_type": "code",
   "execution_count": null,
   "id": "cc5b40e9",
   "metadata": {},
   "outputs": [],
   "source": [
    "# Add to the dataframe\n",
    "clean_df['viewCount'] = [i['statistics']['viewCount'] for i in response_stats['items']]\n",
    "clean_df.head()"
   ]
  },
  {
   "cell_type": "code",
   "execution_count": null,
   "id": "e5d353e6",
   "metadata": {},
   "outputs": [],
   "source": [
    "# Add to the dataframe\n",
    "clean_df['likeCount'] = [i['statistics']['likeCount'] for i in response_stats['items']]\n",
    "clean_df.head()"
   ]
  },
  {
   "cell_type": "markdown",
   "id": "38390fe8",
   "metadata": {},
   "source": [
    "## Activity"
   ]
  },
  {
   "cell_type": "markdown",
   "id": "aa692af4",
   "metadata": {},
   "source": [
    "**Activity 1:** With a partner, choose a Youtube channel of your choice, and use the `requests` module to fetch basic video data from the YouTube API (e.g. videoId, publishedAt, title)."
   ]
  },
  {
   "cell_type": "code",
   "execution_count": null,
   "id": "ba772147",
   "metadata": {},
   "outputs": [],
   "source": []
  },
  {
   "cell_type": "markdown",
   "id": "d772c28d",
   "metadata": {},
   "source": [
    "**Activity 2:** Put the response object in a Pandas DataFrame and use it to create two new columns `date` and `time` to show the date the video was published, and the time the video was published. "
   ]
  },
  {
   "cell_type": "code",
   "execution_count": null,
   "id": "7eb2f08d",
   "metadata": {},
   "outputs": [],
   "source": []
  }
 ],
 "metadata": {
  "kernelspec": {
   "display_name": "Python 3 (ipykernel)",
   "language": "python",
   "name": "python3"
  },
  "language_info": {
   "codemirror_mode": {
    "name": "ipython",
    "version": 3
   },
   "file_extension": ".py",
   "mimetype": "text/x-python",
   "name": "python",
   "nbconvert_exporter": "python",
   "pygments_lexer": "ipython3",
   "version": "3.11.4"
  }
 },
 "nbformat": 4,
 "nbformat_minor": 5
}
