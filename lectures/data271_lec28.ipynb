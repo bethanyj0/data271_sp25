{
 "cells": [
  {
   "cell_type": "markdown",
   "id": "bd035d4a",
   "metadata": {},
   "source": [
    "# Cleaning Data\n",
    "If you want to type along with me, use [this notebook](https://humboldt.cloudbank.2i2c.cloud/hub/user-redirect/git-pull?repo=https%3A%2F%2Fgithub.com%2Fbethanyj0%2Fdata271_sp24&branch=main&urlpath=tree%2Fdata271_sp24%2Fdemos%2Fdata271_demo28_live.ipynb) instead. \n",
    "If you don't want to type and want to follow along just by executing the cells, stay in this notebook. "
   ]
  },
  {
   "cell_type": "code",
   "execution_count": 4,
   "id": "26e99e3b",
   "metadata": {},
   "outputs": [],
   "source": [
    "import numpy as np\n",
    "import pandas as pd"
   ]
  },
  {
   "cell_type": "code",
   "execution_count": null,
   "id": "40303a17",
   "metadata": {},
   "outputs": [],
   "source": [
    "# import the data from last time\n",
    "df = pd.read_csv('youtube_humboldt.csv')\n",
    "df = df.iloc[:,1:]\n",
    "df.head()"
   ]
  },
  {
   "cell_type": "markdown",
   "id": "af3c8fc7",
   "metadata": {},
   "source": [
    "## Cleaning the data "
   ]
  },
  {
   "cell_type": "markdown",
   "id": "64fa73c1",
   "metadata": {},
   "source": [
    "### Reformat column names"
   ]
  },
  {
   "cell_type": "code",
   "execution_count": null,
   "id": "95be0b97",
   "metadata": {},
   "outputs": [],
   "source": [
    "# OPTION 1 .rename method\n",
    "df.rename(columns = {'videoId':'video_id',\n",
    "                                'publishedAt':'published_at',\n",
    "                                'viewCount':'view_count',\n",
    "                                'likeCount':'like_count'})"
   ]
  },
  {
   "cell_type": "code",
   "execution_count": null,
   "id": "f2a17d69",
   "metadata": {},
   "outputs": [],
   "source": [
    "# does not update original (use inline=True)\n",
    "df"
   ]
  },
  {
   "cell_type": "code",
   "execution_count": null,
   "id": "bae21f12",
   "metadata": {},
   "outputs": [],
   "source": [
    "# OPTION 2: more general approach that would work for many columns\n",
    "# Split column names by words\n",
    "import re\n",
    "split_by_words = [re.split('(?=[A-Z])',i) for i in df.columns]\n",
    "split_by_words"
   ]
  },
  {
   "cell_type": "code",
   "execution_count": null,
   "id": "a838f17b",
   "metadata": {},
   "outputs": [],
   "source": [
    "# Insert an underscore between words\n",
    "columns_with_underscores = ['_'.join(i) for i in split_by_words]\n",
    "columns_with_underscores"
   ]
  },
  {
   "cell_type": "code",
   "execution_count": null,
   "id": "54f329a7",
   "metadata": {},
   "outputs": [],
   "source": [
    "# Reassign column names\n",
    "df.columns = columns_with_underscores"
   ]
  },
  {
   "cell_type": "code",
   "execution_count": null,
   "id": "1cf95c6f",
   "metadata": {},
   "outputs": [],
   "source": [
    "# Make everything lowercase\n",
    "df.columns = df.columns.str.lower()\n",
    "df.head()"
   ]
  },
  {
   "cell_type": "markdown",
   "id": "6d215253",
   "metadata": {},
   "source": [
    "### Convert datatypes"
   ]
  },
  {
   "cell_type": "code",
   "execution_count": null,
   "id": "1af9c825",
   "metadata": {},
   "outputs": [],
   "source": [
    "# Suppose we wanted to look at the relationship between view counts and like counts\n",
    "import matplotlib.pyplot as plt\n",
    "import seaborn as sns\n",
    "sns.set_style('darkgrid')\n",
    "sns.scatterplot(data = df, x='view_count',y='like_count')\n",
    "plt.show()"
   ]
  },
  {
   "cell_type": "code",
   "execution_count": null,
   "id": "91c46319",
   "metadata": {
    "scrolled": true
   },
   "outputs": [],
   "source": [
    "# Something is funky. Check the data types\n",
    "df.dtypes"
   ]
  },
  {
   "cell_type": "code",
   "execution_count": null,
   "id": "c4dd2e51",
   "metadata": {},
   "outputs": [],
   "source": [
    "# convert the data types\n",
    "df = df.assign(view_count = df.view_count.astype(int),\n",
    "                like_count = df.like_count.astype(int))"
   ]
  },
  {
   "cell_type": "code",
   "execution_count": null,
   "id": "17867ec2",
   "metadata": {},
   "outputs": [],
   "source": [
    "# check data types again\n",
    "df.dtypes"
   ]
  },
  {
   "cell_type": "code",
   "execution_count": null,
   "id": "42a16c5c",
   "metadata": {},
   "outputs": [],
   "source": [
    "# plot again\n",
    "sns.scatterplot(data = df, x='view_count',y='like_count')\n",
    "plt.show()"
   ]
  },
  {
   "cell_type": "code",
   "execution_count": null,
   "id": "0c58b328",
   "metadata": {},
   "outputs": [],
   "source": [
    "# What if we wanted to plot trend in view counts?\n",
    "sns.lineplot(data = df, x='published_at',y='view_count')\n",
    "plt.show()"
   ]
  },
  {
   "cell_type": "code",
   "execution_count": null,
   "id": "d3d4882a",
   "metadata": {},
   "outputs": [],
   "source": [
    "# change dates to datetime data\n",
    "df = df.assign(date = pd.to_datetime(df.published_at))\n",
    "df.head()"
   ]
  },
  {
   "cell_type": "code",
   "execution_count": null,
   "id": "e1b4c288",
   "metadata": {},
   "outputs": [],
   "source": [
    "# Check dtypes again\n",
    "df.dtypes"
   ]
  },
  {
   "cell_type": "code",
   "execution_count": null,
   "id": "9c837ebf",
   "metadata": {},
   "outputs": [],
   "source": [
    "# plot again\n",
    "sns.lineplot(data = df, x='date',y='view_count')\n",
    "plt.show()"
   ]
  },
  {
   "cell_type": "markdown",
   "id": "449d8f10",
   "metadata": {},
   "source": [
    "#### More on working with dates"
   ]
  },
  {
   "cell_type": "code",
   "execution_count": null,
   "id": "1d156f67",
   "metadata": {},
   "outputs": [],
   "source": [
    "date1 = 'March 29, 2024'\n",
    "pd.to_datetime(date1, format = '%B %d, %Y')"
   ]
  },
  {
   "cell_type": "code",
   "execution_count": null,
   "id": "24620f8a",
   "metadata": {},
   "outputs": [],
   "source": [
    "date2 = 'Mar 29, 2024'\n",
    "pd.to_datetime(date2, format = '%b %d, %Y')"
   ]
  },
  {
   "cell_type": "code",
   "execution_count": null,
   "id": "1a6399d8",
   "metadata": {},
   "outputs": [],
   "source": [
    "date3 = '3/29/10'\n",
    "pd.to_datetime(date3, format = '%m/%d/%y')"
   ]
  },
  {
   "cell_type": "code",
   "execution_count": null,
   "id": "a4a9dd3d",
   "metadata": {},
   "outputs": [],
   "source": [
    "date4 = '29-03-10'\n",
    "pd.to_datetime(date4, format = '%d-%m-%y')"
   ]
  },
  {
   "cell_type": "markdown",
   "id": "c6aac8a6",
   "metadata": {},
   "source": [
    "### Reset the index"
   ]
  },
  {
   "cell_type": "code",
   "execution_count": null,
   "id": "409775d8",
   "metadata": {},
   "outputs": [],
   "source": [
    "# Reset the index for easy access by video id\n",
    "df.set_index('video_id',inplace=True)\n",
    "df.head()"
   ]
  },
  {
   "cell_type": "code",
   "execution_count": null,
   "id": "e1054bcc",
   "metadata": {},
   "outputs": [],
   "source": [
    "# index by video id\n",
    "video_id = \"GpOplrOC7X0\"\n",
    "df.loc[video_id]"
   ]
  },
  {
   "cell_type": "code",
   "execution_count": null,
   "id": "b6143cd1",
   "metadata": {},
   "outputs": [],
   "source": [
    "df.loc[df.view_count.idxmax()]"
   ]
  },
  {
   "cell_type": "markdown",
   "id": "5ad90c54",
   "metadata": {},
   "source": [
    "### Reorder the data"
   ]
  },
  {
   "cell_type": "code",
   "execution_count": null,
   "id": "216b889d",
   "metadata": {},
   "outputs": [],
   "source": [
    "# reorder rows\n",
    "df.sort_index(axis=0)"
   ]
  },
  {
   "cell_type": "code",
   "execution_count": null,
   "id": "d2357ffd",
   "metadata": {},
   "outputs": [],
   "source": [
    "# doesn't update original\n",
    "df"
   ]
  },
  {
   "cell_type": "code",
   "execution_count": null,
   "id": "71356e33",
   "metadata": {},
   "outputs": [],
   "source": [
    "# reorder columns\n",
    "df.sort_index(axis=1)"
   ]
  },
  {
   "cell_type": "code",
   "execution_count": null,
   "id": "c95226fe",
   "metadata": {},
   "outputs": [],
   "source": [
    "# reorder columns manually\n",
    "df[['view_count','like_count','date','published_at','title']]"
   ]
  },
  {
   "cell_type": "code",
   "execution_count": null,
   "id": "8a177343",
   "metadata": {},
   "outputs": [],
   "source": [
    "# sort the data \n",
    "df.sort_values(by='view_count')"
   ]
  },
  {
   "cell_type": "code",
   "execution_count": null,
   "id": "110da18f",
   "metadata": {},
   "outputs": [],
   "source": [
    "# doesn't update original\n",
    "df"
   ]
  },
  {
   "cell_type": "code",
   "execution_count": null,
   "id": "753fb631",
   "metadata": {},
   "outputs": [],
   "source": [
    "# do it inplace\n",
    "df.sort_values(by = 'view_count',ascending=False, inplace=True)"
   ]
  },
  {
   "cell_type": "code",
   "execution_count": null,
   "id": "d3e878b5",
   "metadata": {},
   "outputs": [],
   "source": [
    "df"
   ]
  },
  {
   "cell_type": "code",
   "execution_count": null,
   "id": "035a12d7",
   "metadata": {},
   "outputs": [],
   "source": [
    "# sort by multiple values at once\n",
    "df.sort_values(by = ['view_count','like_count'],ascending=[False,True], inplace=True)\n",
    "df"
   ]
  },
  {
   "cell_type": "markdown",
   "id": "4b69846a",
   "metadata": {},
   "source": [
    "### Reshaping data"
   ]
  },
  {
   "cell_type": "code",
   "execution_count": 5,
   "id": "ab58ca72",
   "metadata": {},
   "outputs": [
    {
     "data": {
      "text/html": [
       "<div>\n",
       "<style scoped>\n",
       "    .dataframe tbody tr th:only-of-type {\n",
       "        vertical-align: middle;\n",
       "    }\n",
       "\n",
       "    .dataframe tbody tr th {\n",
       "        vertical-align: top;\n",
       "    }\n",
       "\n",
       "    .dataframe thead th {\n",
       "        text-align: right;\n",
       "    }\n",
       "</style>\n",
       "<table border=\"1\" class=\"dataframe\">\n",
       "  <thead>\n",
       "    <tr style=\"text-align: right;\">\n",
       "      <th></th>\n",
       "      <th>date</th>\n",
       "      <th>inches_of_rain</th>\n",
       "      <th>max_temp</th>\n",
       "      <th>min_temp</th>\n",
       "    </tr>\n",
       "  </thead>\n",
       "  <tbody>\n",
       "    <tr>\n",
       "      <th>0</th>\n",
       "      <td>2024-01-01</td>\n",
       "      <td>0.5</td>\n",
       "      <td>60</td>\n",
       "      <td>40</td>\n",
       "    </tr>\n",
       "    <tr>\n",
       "      <th>1</th>\n",
       "      <td>2024-01-02</td>\n",
       "      <td>0.0</td>\n",
       "      <td>55</td>\n",
       "      <td>45</td>\n",
       "    </tr>\n",
       "    <tr>\n",
       "      <th>2</th>\n",
       "      <td>2024-01-03</td>\n",
       "      <td>0.1</td>\n",
       "      <td>52</td>\n",
       "      <td>42</td>\n",
       "    </tr>\n",
       "    <tr>\n",
       "      <th>3</th>\n",
       "      <td>2022-01-04</td>\n",
       "      <td>0.0</td>\n",
       "      <td>56</td>\n",
       "      <td>48</td>\n",
       "    </tr>\n",
       "  </tbody>\n",
       "</table>\n",
       "</div>"
      ],
      "text/plain": [
       "         date  inches_of_rain  max_temp  min_temp\n",
       "0  2024-01-01             0.5        60        40\n",
       "1  2024-01-02             0.0        55        45\n",
       "2  2024-01-03             0.1        52        42\n",
       "3  2022-01-04             0.0        56        48"
      ]
     },
     "execution_count": 5,
     "metadata": {},
     "output_type": "execute_result"
    }
   ],
   "source": [
    "df_weather_wide = pd.read_csv('sample_weather.csv')\n",
    "df_weather_wide = df_weather_wide.iloc[:,1:]\n",
    "df_weather_wide"
   ]
  },
  {
   "cell_type": "code",
   "execution_count": 6,
   "id": "56b0652d",
   "metadata": {},
   "outputs": [
    {
     "data": {
      "text/html": [
       "<div>\n",
       "<style scoped>\n",
       "    .dataframe tbody tr th:only-of-type {\n",
       "        vertical-align: middle;\n",
       "    }\n",
       "\n",
       "    .dataframe tbody tr th {\n",
       "        vertical-align: top;\n",
       "    }\n",
       "\n",
       "    .dataframe thead th {\n",
       "        text-align: right;\n",
       "    }\n",
       "</style>\n",
       "<table border=\"1\" class=\"dataframe\">\n",
       "  <thead>\n",
       "    <tr style=\"text-align: right;\">\n",
       "      <th></th>\n",
       "      <th>0</th>\n",
       "      <th>1</th>\n",
       "      <th>2</th>\n",
       "      <th>3</th>\n",
       "    </tr>\n",
       "  </thead>\n",
       "  <tbody>\n",
       "    <tr>\n",
       "      <th>date</th>\n",
       "      <td>2024-01-01</td>\n",
       "      <td>2024-01-02</td>\n",
       "      <td>2024-01-03</td>\n",
       "      <td>2022-01-04</td>\n",
       "    </tr>\n",
       "    <tr>\n",
       "      <th>inches_of_rain</th>\n",
       "      <td>0.5</td>\n",
       "      <td>0.0</td>\n",
       "      <td>0.1</td>\n",
       "      <td>0.0</td>\n",
       "    </tr>\n",
       "    <tr>\n",
       "      <th>max_temp</th>\n",
       "      <td>60</td>\n",
       "      <td>55</td>\n",
       "      <td>52</td>\n",
       "      <td>56</td>\n",
       "    </tr>\n",
       "    <tr>\n",
       "      <th>min_temp</th>\n",
       "      <td>40</td>\n",
       "      <td>45</td>\n",
       "      <td>42</td>\n",
       "      <td>48</td>\n",
       "    </tr>\n",
       "  </tbody>\n",
       "</table>\n",
       "</div>"
      ],
      "text/plain": [
       "                         0           1           2           3\n",
       "date            2024-01-01  2024-01-02  2024-01-03  2022-01-04\n",
       "inches_of_rain         0.5         0.0         0.1         0.0\n",
       "max_temp                60          55          52          56\n",
       "min_temp                40          45          42          48"
      ]
     },
     "execution_count": 6,
     "metadata": {},
     "output_type": "execute_result"
    }
   ],
   "source": [
    "# transpose the data\n",
    "df_weather_wide.T"
   ]
  },
  {
   "cell_type": "code",
   "execution_count": null,
   "id": "84db19df",
   "metadata": {},
   "outputs": [],
   "source": [
    "# transpose with more informative columns\n",
    "df_weather_wide.set_index('date').T"
   ]
  },
  {
   "cell_type": "code",
   "execution_count": 7,
   "id": "71b0665c",
   "metadata": {
    "scrolled": true
   },
   "outputs": [
    {
     "data": {
      "text/html": [
       "<div>\n",
       "<style scoped>\n",
       "    .dataframe tbody tr th:only-of-type {\n",
       "        vertical-align: middle;\n",
       "    }\n",
       "\n",
       "    .dataframe tbody tr th {\n",
       "        vertical-align: top;\n",
       "    }\n",
       "\n",
       "    .dataframe thead th {\n",
       "        text-align: right;\n",
       "    }\n",
       "</style>\n",
       "<table border=\"1\" class=\"dataframe\">\n",
       "  <thead>\n",
       "    <tr style=\"text-align: right;\">\n",
       "      <th></th>\n",
       "      <th>date</th>\n",
       "      <th>variable</th>\n",
       "      <th>value</th>\n",
       "    </tr>\n",
       "  </thead>\n",
       "  <tbody>\n",
       "    <tr>\n",
       "      <th>0</th>\n",
       "      <td>2024-01-01</td>\n",
       "      <td>max_temp</td>\n",
       "      <td>60.0</td>\n",
       "    </tr>\n",
       "    <tr>\n",
       "      <th>1</th>\n",
       "      <td>2024-01-02</td>\n",
       "      <td>max_temp</td>\n",
       "      <td>55.0</td>\n",
       "    </tr>\n",
       "    <tr>\n",
       "      <th>2</th>\n",
       "      <td>2024-01-03</td>\n",
       "      <td>max_temp</td>\n",
       "      <td>52.0</td>\n",
       "    </tr>\n",
       "    <tr>\n",
       "      <th>3</th>\n",
       "      <td>2022-01-04</td>\n",
       "      <td>max_temp</td>\n",
       "      <td>56.0</td>\n",
       "    </tr>\n",
       "    <tr>\n",
       "      <th>4</th>\n",
       "      <td>2024-01-01</td>\n",
       "      <td>min_temp</td>\n",
       "      <td>40.0</td>\n",
       "    </tr>\n",
       "    <tr>\n",
       "      <th>5</th>\n",
       "      <td>2024-01-02</td>\n",
       "      <td>min_temp</td>\n",
       "      <td>45.0</td>\n",
       "    </tr>\n",
       "    <tr>\n",
       "      <th>6</th>\n",
       "      <td>2024-01-03</td>\n",
       "      <td>min_temp</td>\n",
       "      <td>42.0</td>\n",
       "    </tr>\n",
       "    <tr>\n",
       "      <th>7</th>\n",
       "      <td>2022-01-04</td>\n",
       "      <td>min_temp</td>\n",
       "      <td>48.0</td>\n",
       "    </tr>\n",
       "    <tr>\n",
       "      <th>8</th>\n",
       "      <td>2024-01-01</td>\n",
       "      <td>inches_of_rain</td>\n",
       "      <td>0.5</td>\n",
       "    </tr>\n",
       "    <tr>\n",
       "      <th>9</th>\n",
       "      <td>2024-01-02</td>\n",
       "      <td>inches_of_rain</td>\n",
       "      <td>0.0</td>\n",
       "    </tr>\n",
       "    <tr>\n",
       "      <th>10</th>\n",
       "      <td>2024-01-03</td>\n",
       "      <td>inches_of_rain</td>\n",
       "      <td>0.1</td>\n",
       "    </tr>\n",
       "    <tr>\n",
       "      <th>11</th>\n",
       "      <td>2022-01-04</td>\n",
       "      <td>inches_of_rain</td>\n",
       "      <td>0.0</td>\n",
       "    </tr>\n",
       "  </tbody>\n",
       "</table>\n",
       "</div>"
      ],
      "text/plain": [
       "          date        variable  value\n",
       "0   2024-01-01        max_temp   60.0\n",
       "1   2024-01-02        max_temp   55.0\n",
       "2   2024-01-03        max_temp   52.0\n",
       "3   2022-01-04        max_temp   56.0\n",
       "4   2024-01-01        min_temp   40.0\n",
       "5   2024-01-02        min_temp   45.0\n",
       "6   2024-01-03        min_temp   42.0\n",
       "7   2022-01-04        min_temp   48.0\n",
       "8   2024-01-01  inches_of_rain    0.5\n",
       "9   2024-01-02  inches_of_rain    0.0\n",
       "10  2024-01-03  inches_of_rain    0.1\n",
       "11  2022-01-04  inches_of_rain    0.0"
      ]
     },
     "execution_count": 7,
     "metadata": {},
     "output_type": "execute_result"
    }
   ],
   "source": [
    "# change wide format data into long format\n",
    "long_df = df_weather_wide.melt(id_vars = 'date',value_vars = ['max_temp','min_temp','inches_of_rain'])\n",
    "long_df"
   ]
  },
  {
   "cell_type": "code",
   "execution_count": null,
   "id": "e823594f",
   "metadata": {},
   "outputs": [],
   "source": [
    "# change long format back into wide format\n",
    "long_df.pivot(index = 'date',columns = 'variable',values='value')"
   ]
  },
  {
   "cell_type": "markdown",
   "id": "ec66b8f2",
   "metadata": {},
   "source": [
    "### What do when there are multiple values in categories "
   ]
  },
  {
   "cell_type": "code",
   "execution_count": null,
   "id": "aad334de",
   "metadata": {},
   "outputs": [],
   "source": [
    "long_df = pd.read_csv('long_data.csv')\n",
    "long_df = long_df.iloc[:,1:]\n",
    "long_df.head()"
   ]
  },
  {
   "cell_type": "code",
   "execution_count": null,
   "id": "2c69de22",
   "metadata": {
    "scrolled": true
   },
   "outputs": [],
   "source": [
    "# Pivot the data to get average sales by date and category\n",
    "long_df.pivot_table(index=['date'], columns='category', values=['sales'])"
   ]
  },
  {
   "cell_type": "code",
   "execution_count": null,
   "id": "02c35905",
   "metadata": {},
   "outputs": [],
   "source": [
    "# Pivot the data to get TOTAL sales by date and category\n",
    "wide_df = long_df.pivot_table(index=['date'], columns='category', values=['sales'], aggfunc=sum)\n",
    "wide_df"
   ]
  },
  {
   "cell_type": "code",
   "execution_count": null,
   "id": "e1141a0e",
   "metadata": {},
   "outputs": [],
   "source": [
    "# Pivot the data to get TOTAL sales by date, product, and category\n",
    "long_df.pivot_table(index='date', columns=['category','product'], values=['sales'], aggfunc=sum)"
   ]
  },
  {
   "cell_type": "code",
   "execution_count": null,
   "id": "ca5d8fcf",
   "metadata": {},
   "outputs": [],
   "source": [
    "# Go from wide to long\n",
    "wide_df.reset_index().melt(id_vars='date', var_name=['type','category'])"
   ]
  },
  {
   "cell_type": "markdown",
   "id": "288b9893",
   "metadata": {},
   "source": [
    "## Activity"
   ]
  },
  {
   "cell_type": "code",
   "execution_count": null,
   "id": "f375b7a2",
   "metadata": {},
   "outputs": [],
   "source": [
    "\n",
    "# Create a DataFrame with data cleaning and reshaping opportunities\n",
    "data = {\n",
    "    'Pet Name': ['Fluffy', 'Whiskers', 'Bubbles', 'Spike', 'Coco', 'Maybelle', 'Snowball'],\n",
    "    'Date Adopted': ['10-01-2023','03-04-2024','01-10-2024','02-14-2024','11-22-2023','01-04-2024','12-25-2025'],\n",
    "    'Animal Type': ['Cat', 'Cat', 'Fish', 'Dog', 'Fish', 'Dog', 'Cat'],\n",
    "    'Pet Age': ['3', '2', '13', '5', '4', '3', '2'],\n",
    "    'Color': ['White', 'Gray', 'Orange', 'White', 'White', 'Black', 'Black'],\n",
    "    'Happiness Level': ['High', 'Medium', 'High', 'Low', 'High', 'High', 'Medium']\n",
    "}\n",
    "df_pets = pd.DataFrame(data)\n",
    "df_pets"
   ]
  },
  {
   "cell_type": "markdown",
   "id": "8d1c82cf",
   "metadata": {},
   "source": [
    "**Activity 1:** Rename the columns of the pets dataframe to be in a better format."
   ]
  },
  {
   "cell_type": "code",
   "execution_count": null,
   "id": "78b00544",
   "metadata": {},
   "outputs": [],
   "source": []
  },
  {
   "cell_type": "markdown",
   "id": "890bf896",
   "metadata": {},
   "source": [
    "**Activity 2:** Change any datatypes that should be adjusted.  "
   ]
  },
  {
   "cell_type": "code",
   "execution_count": null,
   "id": "d27535f2",
   "metadata": {},
   "outputs": [],
   "source": []
  },
  {
   "cell_type": "markdown",
   "id": "83d6403f",
   "metadata": {},
   "source": [
    "**Activity 3:** Practice pivoting the dataframe."
   ]
  },
  {
   "cell_type": "code",
   "execution_count": null,
   "id": "b6afcfe3",
   "metadata": {},
   "outputs": [],
   "source": []
  }
 ],
 "metadata": {
  "kernelspec": {
   "display_name": "Python 3 (ipykernel)",
   "language": "python",
   "name": "python3"
  },
  "language_info": {
   "codemirror_mode": {
    "name": "ipython",
    "version": 3
   },
   "file_extension": ".py",
   "mimetype": "text/x-python",
   "name": "python",
   "nbconvert_exporter": "python",
   "pygments_lexer": "ipython3",
   "version": "3.11.4"
  }
 },
 "nbformat": 4,
 "nbformat_minor": 5
}
