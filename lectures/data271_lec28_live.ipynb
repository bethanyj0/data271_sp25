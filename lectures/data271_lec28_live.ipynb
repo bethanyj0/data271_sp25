{
 "cells": [
  {
   "cell_type": "markdown",
   "id": "bd035d4a",
   "metadata": {},
   "source": [
    "# Cleaning Data\n",
    "If you want to type along with me, use [this notebook](https://humboldt.cloudbank.2i2c.cloud/hub/user-redirect/git-pull?repo=https%3A%2F%2Fgithub.com%2Fbethanyj0%2Fdata271_sp24&branch=main&urlpath=tree%2Fdata271_sp24%2Fdemos%2Fdata271_demo28_live.ipynb) instead. \n",
    "If you don't want to type and want to follow along just by executing the cells, stay in this notebook. "
   ]
  },
  {
   "cell_type": "code",
   "execution_count": null,
   "id": "26e99e3b",
   "metadata": {},
   "outputs": [],
   "source": [
    "import numpy as np\n",
    "import pandas as pd"
   ]
  },
  {
   "cell_type": "code",
   "execution_count": null,
   "id": "a8607096",
   "metadata": {},
   "outputs": [],
   "source": [
    "# import the data from last time\n",
    "df = pd.read_csv('youtube_humboldt.csv')\n",
    "df = df.iloc[:,1:]\n",
    "df.head()"
   ]
  },
  {
   "cell_type": "markdown",
   "id": "af3c8fc7",
   "metadata": {},
   "source": [
    "## Cleaning the data "
   ]
  },
  {
   "cell_type": "markdown",
   "id": "64fa73c1",
   "metadata": {},
   "source": [
    "### Reformat column names"
   ]
  },
  {
   "cell_type": "code",
   "execution_count": null,
   "id": "95be0b97",
   "metadata": {},
   "outputs": [],
   "source": [
    "# OPTION 1 .rename method\n",
    "df.rename(columns = {'videoId':'video_id',\n",
    "                                'publishedAt':'published_at',\n",
    "                                'viewCount':'view_count',\n",
    "                                'likeCount':'like_count'})"
   ]
  },
  {
   "cell_type": "code",
   "execution_count": null,
   "id": "f2a17d69",
   "metadata": {},
   "outputs": [],
   "source": [
    "# does not update original (use inline=True)\n",
    "df"
   ]
  },
  {
   "cell_type": "code",
   "execution_count": null,
   "id": "bae21f12",
   "metadata": {},
   "outputs": [],
   "source": [
    "# OPTION 2: more general approach that would work for many columns\n",
    "# Split column names by words\n",
    "import re\n",
    "split_by_words = [re.split('(?=[A-Z])',i) for i in df.columns]\n",
    "split_by_words"
   ]
  },
  {
   "cell_type": "code",
   "execution_count": null,
   "id": "a838f17b",
   "metadata": {},
   "outputs": [],
   "source": [
    "# Insert an underscore between words\n",
    "columns_with_underscores = ['_'.join(i) for i in split_by_words]\n",
    "columns_with_underscores"
   ]
  },
  {
   "cell_type": "code",
   "execution_count": null,
   "id": "54f329a7",
   "metadata": {},
   "outputs": [],
   "source": [
    "# Reassign column names\n",
    "df.columns = columns_with_underscores"
   ]
  },
  {
   "cell_type": "code",
   "execution_count": null,
   "id": "1cf95c6f",
   "metadata": {},
   "outputs": [],
   "source": [
    "# Make everything lowercase\n",
    "df.columns = df.columns.str.lower()\n",
    "df.head()"
   ]
  },
  {
   "cell_type": "markdown",
   "id": "6d215253",
   "metadata": {},
   "source": [
    "### Convert datatypes"
   ]
  },
  {
   "cell_type": "code",
   "execution_count": null,
   "id": "1af9c825",
   "metadata": {},
   "outputs": [],
   "source": [
    "# Suppose we wanted to look at the relationship between view counts and like counts\n",
    "import matplotlib.pyplot as plt\n",
    "import seaborn as sns\n",
    "sns.set_style('darkgrid')\n",
    "sns.scatterplot(data = df, x='view_count',y='like_count')\n",
    "plt.show()"
   ]
  },
  {
   "cell_type": "code",
   "execution_count": null,
   "id": "91c46319",
   "metadata": {
    "scrolled": true
   },
   "outputs": [],
   "source": [
    "# Something is funky. Check the data types\n",
    "df.dtypes"
   ]
  },
  {
   "cell_type": "code",
   "execution_count": null,
   "id": "c4dd2e51",
   "metadata": {},
   "outputs": [],
   "source": [
    "# convert the data types\n",
    "df = ..."
   ]
  },
  {
   "cell_type": "code",
   "execution_count": null,
   "id": "17867ec2",
   "metadata": {},
   "outputs": [],
   "source": [
    "# check data types again\n",
    "df.dtypes"
   ]
  },
  {
   "cell_type": "code",
   "execution_count": null,
   "id": "42a16c5c",
   "metadata": {},
   "outputs": [],
   "source": [
    "# plot again\n",
    "sns.scatterplot(data = df, x='view_count',y='like_count')\n",
    "plt.show()"
   ]
  },
  {
   "cell_type": "code",
   "execution_count": null,
   "id": "0c58b328",
   "metadata": {},
   "outputs": [],
   "source": [
    "# What if we wanted to plot trend in view counts?\n",
    "...\n",
    "plt.show()"
   ]
  },
  {
   "cell_type": "code",
   "execution_count": null,
   "id": "d3d4882a",
   "metadata": {},
   "outputs": [],
   "source": [
    "# change dates to datetime data\n",
    "df = ...\n",
    "df.head()"
   ]
  },
  {
   "cell_type": "code",
   "execution_count": null,
   "id": "e1b4c288",
   "metadata": {},
   "outputs": [],
   "source": [
    "# Check dtypes again\n",
    "df.dtypes"
   ]
  },
  {
   "cell_type": "code",
   "execution_count": null,
   "id": "9c837ebf",
   "metadata": {},
   "outputs": [],
   "source": [
    "# plot again\n",
    "\n",
    "plt.show()"
   ]
  },
  {
   "cell_type": "markdown",
   "id": "28499a80",
   "metadata": {},
   "source": [
    "#### More on working with dates"
   ]
  },
  {
   "cell_type": "code",
   "execution_count": null,
   "id": "f3488c36",
   "metadata": {},
   "outputs": [],
   "source": [
    "date1 = 'March 29, 2024'\n"
   ]
  },
  {
   "cell_type": "code",
   "execution_count": null,
   "id": "5c6e4838",
   "metadata": {},
   "outputs": [],
   "source": [
    "date2 = 'Mar 29, 2024'\n"
   ]
  },
  {
   "cell_type": "code",
   "execution_count": null,
   "id": "80d281f3",
   "metadata": {},
   "outputs": [],
   "source": [
    "date3 = '3/29/10'\n"
   ]
  },
  {
   "cell_type": "code",
   "execution_count": null,
   "id": "73e8ba6d",
   "metadata": {},
   "outputs": [],
   "source": [
    "date4 = '29-03-10'\n"
   ]
  },
  {
   "cell_type": "markdown",
   "id": "c6aac8a6",
   "metadata": {},
   "source": [
    "### Reset the index"
   ]
  },
  {
   "cell_type": "code",
   "execution_count": null,
   "id": "409775d8",
   "metadata": {},
   "outputs": [],
   "source": [
    "# Reset the index for easy access by video id\n",
    "\n",
    "df.head()"
   ]
  },
  {
   "cell_type": "code",
   "execution_count": null,
   "id": "e1054bcc",
   "metadata": {},
   "outputs": [],
   "source": [
    "# index by video id\n",
    "video_id = \"GpOplrOC7X0\"\n"
   ]
  },
  {
   "cell_type": "code",
   "execution_count": null,
   "id": "b6143cd1",
   "metadata": {},
   "outputs": [],
   "source": []
  },
  {
   "cell_type": "markdown",
   "id": "ef3d011b",
   "metadata": {},
   "source": [
    "### Reorder the data"
   ]
  },
  {
   "cell_type": "code",
   "execution_count": null,
   "id": "7436ceba",
   "metadata": {},
   "outputs": [],
   "source": [
    "# reorder rows\n"
   ]
  },
  {
   "cell_type": "code",
   "execution_count": null,
   "id": "a874e374",
   "metadata": {},
   "outputs": [],
   "source": [
    "# doesn't update original\n",
    "df"
   ]
  },
  {
   "cell_type": "code",
   "execution_count": null,
   "id": "5b1a8ab2",
   "metadata": {},
   "outputs": [],
   "source": [
    "# reorder columns\n"
   ]
  },
  {
   "cell_type": "code",
   "execution_count": null,
   "id": "407526fa",
   "metadata": {},
   "outputs": [],
   "source": [
    "# reorder columns manually\n",
    "df[['view_count','like_count','date','published_at','title']]"
   ]
  },
  {
   "cell_type": "code",
   "execution_count": null,
   "id": "75b6dc0b",
   "metadata": {},
   "outputs": [],
   "source": [
    "# sort the data \n"
   ]
  },
  {
   "cell_type": "code",
   "execution_count": null,
   "id": "cba214fc",
   "metadata": {},
   "outputs": [],
   "source": [
    "# doesn't update original\n",
    "df"
   ]
  },
  {
   "cell_type": "code",
   "execution_count": null,
   "id": "56dc3533",
   "metadata": {},
   "outputs": [],
   "source": [
    "# do it inplace\n"
   ]
  },
  {
   "cell_type": "code",
   "execution_count": null,
   "id": "87891e10",
   "metadata": {},
   "outputs": [],
   "source": [
    "df"
   ]
  },
  {
   "cell_type": "code",
   "execution_count": null,
   "id": "ac570508",
   "metadata": {},
   "outputs": [],
   "source": [
    "# sort by multiple values at once\n",
    "df.sort_values(by = ['view_count','like_count'],ascending=[False,True], inplace=True)\n",
    "df"
   ]
  },
  {
   "cell_type": "markdown",
   "id": "73456a1d",
   "metadata": {},
   "source": [
    "### Reshaping data"
   ]
  },
  {
   "cell_type": "code",
   "execution_count": null,
   "id": "9c012b13",
   "metadata": {},
   "outputs": [],
   "source": [
    "df_weather_wide = pd.read_csv('sample_weather.csv')\n",
    "df_weather_wide = df_weather_wide.iloc[:,1:]\n",
    "df_weather_wide"
   ]
  },
  {
   "cell_type": "code",
   "execution_count": null,
   "id": "3c9e2bec",
   "metadata": {},
   "outputs": [],
   "source": [
    "# transpose the data\n"
   ]
  },
  {
   "cell_type": "code",
   "execution_count": null,
   "id": "9324ce24",
   "metadata": {},
   "outputs": [],
   "source": [
    "# transpose with more informative columns\n"
   ]
  },
  {
   "cell_type": "code",
   "execution_count": null,
   "id": "64ed3376",
   "metadata": {
    "scrolled": true
   },
   "outputs": [],
   "source": [
    "# change wide format data into long format\n",
    "long_df = \n",
    "long_df"
   ]
  },
  {
   "cell_type": "code",
   "execution_count": null,
   "id": "eabbe634",
   "metadata": {},
   "outputs": [],
   "source": [
    "# change long format back into wide format\n"
   ]
  },
  {
   "cell_type": "markdown",
   "id": "72eeae0d",
   "metadata": {},
   "source": [
    "### What do when there are multiple values in categories "
   ]
  },
  {
   "cell_type": "code",
   "execution_count": null,
   "id": "1e13bbb0",
   "metadata": {},
   "outputs": [],
   "source": [
    "long_df = pd.read_csv('long_data.csv')\n",
    "long_df = long_df.iloc[:,1:]\n",
    "long_df.head()"
   ]
  },
  {
   "cell_type": "code",
   "execution_count": null,
   "id": "c4e3995d",
   "metadata": {
    "scrolled": true
   },
   "outputs": [],
   "source": [
    "# Pivot the data to get average sales by date and category\n"
   ]
  },
  {
   "cell_type": "code",
   "execution_count": null,
   "id": "4eb569f2",
   "metadata": {},
   "outputs": [],
   "source": [
    "# Pivot the data to get TOTAL sales by date and category\n",
    "wide_df = \n",
    "wide_df"
   ]
  },
  {
   "cell_type": "code",
   "execution_count": null,
   "id": "5dd38e0b",
   "metadata": {},
   "outputs": [],
   "source": [
    "# Pivot the data to get TOTAL sales by date, product, and category\n"
   ]
  },
  {
   "cell_type": "code",
   "execution_count": null,
   "id": "c905d251",
   "metadata": {},
   "outputs": [],
   "source": [
    "# Go from wide to long\n",
    "wide_df.reset_index().melt(id_vars='date', var_name=['type','category'])"
   ]
  },
  {
   "cell_type": "markdown",
   "id": "288b9893",
   "metadata": {},
   "source": [
    "## Activity"
   ]
  },
  {
   "cell_type": "code",
   "execution_count": null,
   "id": "9df301f7",
   "metadata": {},
   "outputs": [],
   "source": [
    "\n",
    "# Create a DataFrame with data cleaning and reshaping opportunities\n",
    "data = {\n",
    "    'Pet Name': ['Fluffy', 'Whiskers', 'Bubbles', 'Spike', 'Coco', 'Maybelle', 'Snowball'],\n",
    "    'Date Adopted': ['10-01-2023','03-04-2024','01-10-2024','02-14-2024','11-22-2023','01-04-2024','12-25-2025'],\n",
    "    'Animal Type': ['Cat', 'Cat', 'Fish', 'Dog', 'Fish', 'Dog', 'Cat'],\n",
    "    'Pet Age': ['3', '2', '13', '5', '4', '3', '2'],\n",
    "    'Color': ['White', 'Gray', 'Orange', 'White', 'White', 'Black', 'Black'],\n",
    "    'Happiness Level': ['High', 'Medium', 'High', 'Low', 'High', 'High', 'Medium']\n",
    "}\n",
    "df_pets = pd.DataFrame(data)\n",
    "df_pets"
   ]
  },
  {
   "cell_type": "markdown",
   "id": "8d1c82cf",
   "metadata": {},
   "source": [
    "**Activity 1:** Rename the columns of the pets dataframe to be in a better format."
   ]
  },
  {
   "cell_type": "code",
   "execution_count": null,
   "id": "78b00544",
   "metadata": {},
   "outputs": [],
   "source": []
  },
  {
   "cell_type": "markdown",
   "id": "890bf896",
   "metadata": {},
   "source": [
    "**Activity 2:** Change any datatypes that should be adjusted.  "
   ]
  },
  {
   "cell_type": "code",
   "execution_count": null,
   "id": "d27535f2",
   "metadata": {},
   "outputs": [],
   "source": []
  },
  {
   "cell_type": "markdown",
   "id": "f474782a",
   "metadata": {},
   "source": [
    "**Activity 3:** Practice pivoting the dataframe."
   ]
  },
  {
   "cell_type": "code",
   "execution_count": null,
   "id": "0b453f18",
   "metadata": {},
   "outputs": [],
   "source": []
  }
 ],
 "metadata": {
  "kernelspec": {
   "display_name": "Python 3 (ipykernel)",
   "language": "python",
   "name": "python3"
  },
  "language_info": {
   "codemirror_mode": {
    "name": "ipython",
    "version": 3
   },
   "file_extension": ".py",
   "mimetype": "text/x-python",
   "name": "python",
   "nbconvert_exporter": "python",
   "pygments_lexer": "ipython3",
   "version": "3.11.4"
  }
 },
 "nbformat": 4,
 "nbformat_minor": 5
}
