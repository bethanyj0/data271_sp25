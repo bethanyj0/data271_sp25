{
 "cells": [
  {
   "cell_type": "markdown",
   "id": "bd035d4a",
   "metadata": {},
   "source": [
    "# Cleaning Data/ Advanced Pandas\n",
    "If you want to type along with me, use [this notebook](https://humboldt.cloudbank.2i2c.cloud/hub/user-redirect/git-pull?repo=https%3A%2F%2Fgithub.com%2Fbethanyj0%2Fdata271_sp24&branch=main&urlpath=tree%2Fdata271_sp24%2Fdemos%2Fdata271_demo29_live.ipynb) instead. \n",
    "If you don't want to type and want to follow along just by executing the cells, stay in this notebook. "
   ]
  },
  {
   "cell_type": "code",
   "execution_count": null,
   "id": "26e99e3b",
   "metadata": {},
   "outputs": [],
   "source": [
    "import numpy as np\n",
    "import pandas as pd"
   ]
  },
  {
   "cell_type": "markdown",
   "id": "4b69846a",
   "metadata": {},
   "source": [
    "### Reshaping data"
   ]
  },
  {
   "cell_type": "code",
   "execution_count": null,
   "id": "ab58ca72",
   "metadata": {},
   "outputs": [],
   "source": [
    "df_weather_wide = pd.read_csv('sample_weather.csv')\n",
    "df_weather_wide = df_weather_wide.iloc[:,1:]\n",
    "df_weather_wide"
   ]
  },
  {
   "cell_type": "code",
   "execution_count": null,
   "id": "71b0665c",
   "metadata": {
    "scrolled": true
   },
   "outputs": [],
   "source": [
    "# change wide format data into long format\n",
    "long_weather = df_weather_wide.melt(id_vars = 'date',value_vars = ['max_temp','min_temp','inches_of_rain'])\n",
    "long_weather"
   ]
  },
  {
   "cell_type": "code",
   "execution_count": null,
   "id": "21668225",
   "metadata": {},
   "outputs": [],
   "source": [
    "# Can just include subsets of data if needed \n",
    "df_weather_wide.melt(id_vars = 'date',value_vars = ['max_temp','min_temp'])"
   ]
  },
  {
   "cell_type": "code",
   "execution_count": null,
   "id": "8d39178f",
   "metadata": {},
   "outputs": [],
   "source": [
    "# Note that there is only one entry per date/variable combination\n",
    "pd.crosstab(index = long_weather.date,columns=long_weather.variable)"
   ]
  },
  {
   "cell_type": "code",
   "execution_count": null,
   "id": "e823594f",
   "metadata": {},
   "outputs": [],
   "source": [
    "# change long format back into wide format\n",
    "long_weather.pivot(index = 'date',columns = 'variable',values='value')"
   ]
  },
  {
   "cell_type": "markdown",
   "id": "ec66b8f2",
   "metadata": {},
   "source": [
    "### What do when there are multiple values in categories "
   ]
  },
  {
   "cell_type": "code",
   "execution_count": null,
   "id": "aad334de",
   "metadata": {},
   "outputs": [],
   "source": [
    "# A new long dataframe\n",
    "long_df = pd.read_csv('long_data.csv')\n",
    "long_df = long_df.iloc[:,1:]\n",
    "long_df.head()"
   ]
  },
  {
   "cell_type": "code",
   "execution_count": null,
   "id": "38ce852a",
   "metadata": {},
   "outputs": [],
   "source": [
    "# check the number of entries for each combination of date/category\n",
    "pd.crosstab(index=long_df.date,columns=long_df.category)"
   ]
  },
  {
   "cell_type": "code",
   "execution_count": null,
   "id": "40fc9cf2",
   "metadata": {},
   "outputs": [],
   "source": [
    "# Pivot doesn't know how to handle this\n",
    "long_df.pivot(index='date', columns='category', values='sales')"
   ]
  },
  {
   "cell_type": "code",
   "execution_count": null,
   "id": "2c69de22",
   "metadata": {
    "scrolled": true
   },
   "outputs": [],
   "source": [
    "# Use pivot table instead to get the average sales by date and category\n",
    "long_df.pivot_table(index='date', columns='category', values='sales')"
   ]
  },
  {
   "cell_type": "code",
   "execution_count": null,
   "id": "02c35905",
   "metadata": {},
   "outputs": [],
   "source": [
    "# You can also change the aggregation function; e.g. TOTAL sales by date/category\n",
    "wide_df = long_df.pivot_table(index='date', columns='category', values='sales', aggfunc=sum)\n",
    "wide_df"
   ]
  },
  {
   "cell_type": "code",
   "execution_count": null,
   "id": "362cd3a1",
   "metadata": {},
   "outputs": [],
   "source": [
    "# Can also use it like crosstab if you choose len as the aggfunc\n",
    "long_df.pivot_table(index=['date'], columns='category', values=['sales'], aggfunc=len)"
   ]
  },
  {
   "cell_type": "code",
   "execution_count": null,
   "id": "42de4c67",
   "metadata": {},
   "outputs": [],
   "source": [
    "# back to a longer format (note that this only has total sales)\n",
    "wide_df.reset_index().melt(id_vars='date', value_vars=['Books','Clothing','Electronics'])"
   ]
  },
  {
   "cell_type": "code",
   "execution_count": null,
   "id": "f724bda6",
   "metadata": {},
   "outputs": [],
   "source": [
    "# You can also change choose multiple columns\n",
    "wide_df2 = long_df.pivot_table(index='date', columns=['category','product'], values='sales', aggfunc=sum)\n",
    "wide_df2"
   ]
  },
  {
   "cell_type": "code",
   "execution_count": null,
   "id": "9f011cc3",
   "metadata": {},
   "outputs": [],
   "source": [
    "# Rename columns and reset index to work with it as you normally would\n",
    "wide_df2.columns = list(map(\"_\".join, wide_df2.columns))\n",
    "wide_df2.reset_index()"
   ]
  },
  {
   "cell_type": "markdown",
   "id": "eb858da6",
   "metadata": {},
   "source": [
    "## Combining Data"
   ]
  },
  {
   "cell_type": "code",
   "execution_count": null,
   "id": "429260fe",
   "metadata": {},
   "outputs": [],
   "source": [
    "# Create the first dataframe\n",
    "df1 = pd.DataFrame({\n",
    "    'Name': ['Lorelai Gilmore', 'Rory Gilmore', 'Luke Danes', 'Emily Gilmore'],\n",
    "    'Occupation': ['Manager', 'Student', 'Owner', 'Socialite'],\n",
    "    'Age': [32, 20, 40, 60]\n",
    "})\n",
    "\n",
    "# Create the second dataframe\n",
    "df2 = pd.DataFrame({\n",
    "    'Name': ['Lorelai Gilmore', 'Rory Gilmore', 'Sookie St. James', 'Richard Gilmore'],\n",
    "    'Home': ['Stars Hollow', 'Stars Hollow', 'Stars Hollow', 'Hartford']\n",
    "})"
   ]
  },
  {
   "cell_type": "code",
   "execution_count": null,
   "id": "e55e5e9e",
   "metadata": {},
   "outputs": [],
   "source": [
    "df1"
   ]
  },
  {
   "cell_type": "code",
   "execution_count": null,
   "id": "0d710981",
   "metadata": {},
   "outputs": [],
   "source": [
    "df2"
   ]
  },
  {
   "cell_type": "markdown",
   "id": "03fb7ed1",
   "metadata": {},
   "source": [
    "### Merge"
   ]
  },
  {
   "cell_type": "code",
   "execution_count": null,
   "id": "811690d1",
   "metadata": {},
   "outputs": [],
   "source": [
    "# A standard merge (inner)\n",
    "df1.merge(df2)"
   ]
  },
  {
   "cell_type": "code",
   "execution_count": null,
   "id": "ebff7ef3",
   "metadata": {},
   "outputs": [],
   "source": [
    "# Explicitly specifying what to merge by (same as before)\n",
    "df1.merge(df2, on = 'Name')"
   ]
  },
  {
   "cell_type": "code",
   "execution_count": null,
   "id": "29c029c5",
   "metadata": {},
   "outputs": [],
   "source": [
    "# What if they had different column names?\n",
    "df2.rename(columns = {'Name':'Character Name'},inplace=True)\n",
    "df2"
   ]
  },
  {
   "cell_type": "code",
   "execution_count": null,
   "id": "24dd6132",
   "metadata": {},
   "outputs": [],
   "source": [
    "# # What if they had different column names?\n",
    "df1.merge(df2, left_on = 'Name',right_on = 'Character Name')"
   ]
  },
  {
   "cell_type": "code",
   "execution_count": null,
   "id": "e141c884",
   "metadata": {},
   "outputs": [],
   "source": [
    "# Can drop the redundant column\n",
    "df1.merge(df2, left_on = 'Name',right_on = 'Character Name').drop(columns = 'Character Name')"
   ]
  },
  {
   "cell_type": "code",
   "execution_count": null,
   "id": "6c2dcaa5",
   "metadata": {},
   "outputs": [],
   "source": [
    "# Reset it back to original\n",
    "df2.rename(columns = {'Character Name':'Name'},inplace=True)"
   ]
  },
  {
   "cell_type": "code",
   "execution_count": null,
   "id": "da8a5e91",
   "metadata": {},
   "outputs": [],
   "source": [
    "# Outer\n",
    "df1.merge(df2, how = 'outer')"
   ]
  },
  {
   "cell_type": "code",
   "execution_count": null,
   "id": "1719fa95",
   "metadata": {},
   "outputs": [],
   "source": [
    "# Left\n",
    "df1.merge(df2,how = 'left')"
   ]
  },
  {
   "cell_type": "code",
   "execution_count": null,
   "id": "fed9e4df",
   "metadata": {},
   "outputs": [],
   "source": [
    "# Right\n",
    "df1.merge(df2,how = 'right')"
   ]
  },
  {
   "cell_type": "code",
   "execution_count": null,
   "id": "afc5ac11",
   "metadata": {},
   "outputs": [],
   "source": [
    "# Cross join (not super common, but occasionally handy)\n",
    "df1.merge(df2,how='cross')"
   ]
  },
  {
   "cell_type": "code",
   "execution_count": null,
   "id": "858471c5",
   "metadata": {},
   "outputs": [],
   "source": [
    "# What if there are two common columns?\n",
    "df1['School'] = ['Hartford Community College','Yale','Stars Hollow High','Smith College']\n",
    "df2['School'] = ['Hartford Community College','Yale','Unknown','Yale']"
   ]
  },
  {
   "cell_type": "code",
   "execution_count": null,
   "id": "6bffea49",
   "metadata": {},
   "outputs": [],
   "source": [
    "# Test what a standard merge does\n",
    "df1.merge(df2)"
   ]
  },
  {
   "cell_type": "code",
   "execution_count": null,
   "id": "eaac3461",
   "metadata": {},
   "outputs": [],
   "source": [
    "# Outer merge behaves as expected\n",
    "df1.merge(df2, how = 'outer')"
   ]
  },
  {
   "cell_type": "code",
   "execution_count": null,
   "id": "ebdf9248",
   "metadata": {},
   "outputs": [],
   "source": [
    "# What if we only specify one column to merge on?\n",
    "df1.merge(df2, on = 'Name',how = 'outer')"
   ]
  },
  {
   "cell_type": "code",
   "execution_count": null,
   "id": "8ab3514b",
   "metadata": {},
   "outputs": [],
   "source": [
    "# Merge on both\n",
    "df1.merge(df2, on = ['Name','School'],how = 'outer')"
   ]
  },
  {
   "cell_type": "markdown",
   "id": "576e5819",
   "metadata": {},
   "source": [
    "### Join"
   ]
  },
  {
   "cell_type": "code",
   "execution_count": null,
   "id": "0a49aa3b",
   "metadata": {},
   "outputs": [],
   "source": [
    "# Standard join won't work.\n",
    "df1.join(df2)"
   ]
  },
  {
   "cell_type": "code",
   "execution_count": null,
   "id": "1e1d4cb8",
   "metadata": {},
   "outputs": [],
   "source": [
    "# Join works when we just want to join on the index\n",
    "df1.set_index('Name',inplace=True)\n",
    "df2.set_index('Name',inplace=True)"
   ]
  },
  {
   "cell_type": "code",
   "execution_count": null,
   "id": "d95838c6",
   "metadata": {},
   "outputs": [],
   "source": [
    "df1"
   ]
  },
  {
   "cell_type": "code",
   "execution_count": null,
   "id": "b466418d",
   "metadata": {},
   "outputs": [],
   "source": [
    "df2"
   ]
  },
  {
   "cell_type": "code",
   "execution_count": null,
   "id": "6524e08a",
   "metadata": {},
   "outputs": [],
   "source": [
    "# still doesn't work. \n",
    "df1.join(df2)"
   ]
  },
  {
   "cell_type": "code",
   "execution_count": null,
   "id": "b27cd52e",
   "metadata": {},
   "outputs": [],
   "source": [
    "# We have to define suffixes when we use join (merge did it automatically)\n",
    "df1.join(df2, lsuffix='_left',rsuffix='_right')"
   ]
  },
  {
   "cell_type": "code",
   "execution_count": null,
   "id": "e3612636",
   "metadata": {},
   "outputs": [],
   "source": [
    "# Can select different \"how\" with join\n",
    "df1.join(df2,how='outer', lsuffix='_left',rsuffix='_right')"
   ]
  },
  {
   "cell_type": "markdown",
   "id": "dff21989",
   "metadata": {},
   "source": [
    "### Concatenate"
   ]
  },
  {
   "cell_type": "code",
   "execution_count": null,
   "id": "be981d71",
   "metadata": {},
   "outputs": [],
   "source": [
    "# First lets reset the indices\n",
    "df1.reset_index(inplace=True)\n",
    "df2.reset_index(inplace=True)"
   ]
  },
  {
   "cell_type": "code",
   "execution_count": null,
   "id": "ef9971cd",
   "metadata": {},
   "outputs": [],
   "source": [
    "# A standard concatenate\n",
    "pd.concat([df1,df2])"
   ]
  },
  {
   "cell_type": "code",
   "execution_count": null,
   "id": "926ba4fe",
   "metadata": {},
   "outputs": [],
   "source": [
    "# Explicitly state how to concatenate (keep all columns that appear in either dataset)\n",
    "pd.concat([df1,df2],join='outer')"
   ]
  },
  {
   "cell_type": "code",
   "execution_count": null,
   "id": "c04ddf6b",
   "metadata": {},
   "outputs": [],
   "source": [
    "# Only keep common columns\n",
    "pd.concat([df1,df2],join='inner')"
   ]
  },
  {
   "cell_type": "code",
   "execution_count": null,
   "id": "b5d6bf94",
   "metadata": {},
   "outputs": [],
   "source": [
    "# concatenate the rows (can get very confusing if you aren't careful!)\n",
    "pd.concat([df1,df2],axis=1)"
   ]
  },
  {
   "cell_type": "markdown",
   "id": "96406aec",
   "metadata": {},
   "source": [
    "## Activity"
   ]
  },
  {
   "cell_type": "markdown",
   "id": "5fd8dd3a",
   "metadata": {},
   "source": [
    "**1.** Run the following cells to read in Cal Poly Humboldt student data. Check what would happen if you did not include the `skiprows` argument."
   ]
  },
  {
   "cell_type": "code",
   "execution_count": null,
   "id": "4cf5d4e7",
   "metadata": {},
   "outputs": [],
   "source": [
    "pd.read_csv('humboldt_data/Humboldt_Passing_Fa23.csv',skiprows=5)"
   ]
  },
  {
   "cell_type": "code",
   "execution_count": null,
   "id": "4c505261",
   "metadata": {},
   "outputs": [],
   "source": [
    "passing = pd.read_csv('humboldt_data/Humboldt_Passing_Fa23.csv',skiprows=5)"
   ]
  },
  {
   "cell_type": "code",
   "execution_count": null,
   "id": "7f24383b",
   "metadata": {},
   "outputs": [],
   "source": [
    "passing.head()"
   ]
  },
  {
   "cell_type": "code",
   "execution_count": null,
   "id": "d5dcf1a3",
   "metadata": {},
   "outputs": [],
   "source": [
    "first_gen = pd.read_csv('humboldt_data/FirstGenData_Fa23.csv',skiprows=5)"
   ]
  },
  {
   "cell_type": "code",
   "execution_count": null,
   "id": "0dcb0bbb",
   "metadata": {},
   "outputs": [],
   "source": [
    "first_gen.head()"
   ]
  },
  {
   "cell_type": "markdown",
   "id": "d1c730fc",
   "metadata": {},
   "source": [
    "**2.** Merge the two dataframes. Try different `how` arguments."
   ]
  },
  {
   "cell_type": "code",
   "execution_count": null,
   "id": "181a1d8a",
   "metadata": {},
   "outputs": [],
   "source": []
  },
  {
   "cell_type": "markdown",
   "id": "e8ab99b9",
   "metadata": {},
   "source": [
    "**3.** Recreate the figure from the discussion question."
   ]
  },
  {
   "cell_type": "code",
   "execution_count": null,
   "id": "ab67f6ed",
   "metadata": {},
   "outputs": [],
   "source": []
  }
 ],
 "metadata": {
  "kernelspec": {
   "display_name": "Python 3 (ipykernel)",
   "language": "python",
   "name": "python3"
  },
  "language_info": {
   "codemirror_mode": {
    "name": "ipython",
    "version": 3
   },
   "file_extension": ".py",
   "mimetype": "text/x-python",
   "name": "python",
   "nbconvert_exporter": "python",
   "pygments_lexer": "ipython3",
   "version": "3.11.4"
  }
 },
 "nbformat": 4,
 "nbformat_minor": 5
}
