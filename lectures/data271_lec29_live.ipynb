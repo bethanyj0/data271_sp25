{
 "cells": [
  {
   "cell_type": "markdown",
   "id": "bd035d4a",
   "metadata": {},
   "source": [
    "# Cleaning Data/ Advanced Pandas\n",
    "If you want to type along with me, use [this notebook](https://humboldt.cloudbank.2i2c.cloud/hub/user-redirect/git-pull?repo=https%3A%2F%2Fgithub.com%2Fbethanyj0%2Fdata271_sp24&branch=main&urlpath=tree%2Fdata271_sp24%2Fdemos%2Fdata271_demo29_live.ipynb) instead. \n",
    "If you don't want to type and want to follow along just by executing the cells, stay in this notebook. "
   ]
  },
  {
   "cell_type": "code",
   "execution_count": null,
   "id": "26e99e3b",
   "metadata": {},
   "outputs": [],
   "source": [
    "import numpy as np\n",
    "import pandas as pd"
   ]
  },
  {
   "cell_type": "markdown",
   "id": "4b69846a",
   "metadata": {},
   "source": [
    "### Reshaping data"
   ]
  },
  {
   "cell_type": "code",
   "execution_count": null,
   "id": "ab58ca72",
   "metadata": {},
   "outputs": [],
   "source": [
    "df_weather_wide = pd.read_csv('sample_weather.csv')\n",
    "df_weather_wide = df_weather_wide.iloc[:,1:]\n",
    "df_weather_wide"
   ]
  },
  {
   "cell_type": "code",
   "execution_count": null,
   "id": "71b0665c",
   "metadata": {
    "scrolled": true
   },
   "outputs": [],
   "source": [
    "# change wide format data into long format\n",
    "long_weather = df_weather_wide.melt(id_vars = 'date',value_vars = ['max_temp','min_temp','inches_of_rain'])\n",
    "long_weather"
   ]
  },
  {
   "cell_type": "code",
   "execution_count": null,
   "id": "7f30cb1d",
   "metadata": {},
   "outputs": [],
   "source": [
    "# Can just include subsets of data if needed \n",
    "df_weather_wide.melt(id_vars = 'date',value_vars = ['max_temp','min_temp'])"
   ]
  },
  {
   "cell_type": "code",
   "execution_count": null,
   "id": "0aa628dc",
   "metadata": {},
   "outputs": [],
   "source": [
    "# Note that there is only one entry per date/variable combination\n",
    "pd.crosstab(index = long_weather.date,columns=long_weather.variable)"
   ]
  },
  {
   "cell_type": "code",
   "execution_count": null,
   "id": "e823594f",
   "metadata": {},
   "outputs": [],
   "source": [
    "# change long format back into wide format\n",
    "long_weather.pivot(index = 'date',columns = 'variable',values='value')"
   ]
  },
  {
   "cell_type": "markdown",
   "id": "ec66b8f2",
   "metadata": {},
   "source": [
    "### What do when there are multiple values in categories "
   ]
  },
  {
   "cell_type": "code",
   "execution_count": null,
   "id": "aad334de",
   "metadata": {},
   "outputs": [],
   "source": [
    "# A new long dataframe\n",
    "long_df = pd.read_csv('long_data.csv')\n",
    "long_df = long_df.iloc[:,1:]\n",
    "long_df.head()"
   ]
  },
  {
   "cell_type": "code",
   "execution_count": null,
   "id": "ceb3abc9",
   "metadata": {},
   "outputs": [],
   "source": [
    "# check the number of entries for each combination of date/category\n"
   ]
  },
  {
   "cell_type": "code",
   "execution_count": null,
   "id": "c25751a0",
   "metadata": {},
   "outputs": [],
   "source": [
    "# Pivot doesn't know how to handle this\n",
    "long_df.pivot(index='date', columns='category', values='sales')"
   ]
  },
  {
   "cell_type": "code",
   "execution_count": null,
   "id": "2c69de22",
   "metadata": {
    "scrolled": true
   },
   "outputs": [],
   "source": [
    "# Use pivot table instead to get the average sales by date and category\n"
   ]
  },
  {
   "cell_type": "code",
   "execution_count": null,
   "id": "02c35905",
   "metadata": {},
   "outputs": [],
   "source": [
    "# You can also change the aggregation function; e.g. TOTAL sales by date/category\n",
    "wide_df = \n",
    "wide_df"
   ]
  },
  {
   "cell_type": "code",
   "execution_count": null,
   "id": "0eb0bbed",
   "metadata": {},
   "outputs": [],
   "source": [
    "# Can also use it like crosstab if you choose len as the aggfunc\n"
   ]
  },
  {
   "cell_type": "code",
   "execution_count": null,
   "id": "2e74ee42",
   "metadata": {},
   "outputs": [],
   "source": [
    "# back to a longer format (note that this only has total sales)\n",
    "wide_df.reset_index().melt(id_vars='date', value_vars=['Books','Clothing','Electronics'])"
   ]
  },
  {
   "cell_type": "code",
   "execution_count": null,
   "id": "68c48d55",
   "metadata": {},
   "outputs": [],
   "source": [
    "# You can also choose multiple columns\n",
    "wide_df2 = \n",
    "wide_df2"
   ]
  },
  {
   "cell_type": "code",
   "execution_count": null,
   "id": "625de117",
   "metadata": {},
   "outputs": [],
   "source": [
    "# Rename columns and reset index to work with it as you normally would\n",
    "wide_df2.columns = list(map(\"_\".join, wide_df2.columns))\n",
    "wide_df2.reset_index()"
   ]
  },
  {
   "cell_type": "markdown",
   "id": "0a090941",
   "metadata": {},
   "source": [
    "## Combining Data"
   ]
  },
  {
   "cell_type": "code",
   "execution_count": null,
   "id": "d24e667e",
   "metadata": {},
   "outputs": [],
   "source": [
    "# Create the first dataframe\n",
    "df1 = pd.DataFrame({\n",
    "    'Name': ['Lorelai Gilmore', 'Rory Gilmore', 'Luke Danes', 'Emily Gilmore'],\n",
    "    'Occupation': ['Manager', 'Student', 'Owner', 'Socialite'],\n",
    "    'Age': [32, 20, 40, 60]\n",
    "})\n",
    "\n",
    "# Create the second dataframe\n",
    "df2 = pd.DataFrame({\n",
    "    'Name': ['Lorelai Gilmore', 'Rory Gilmore', 'Sookie St. James', 'Richard Gilmore'],\n",
    "    'Home': ['Stars Hollow', 'Stars Hollow', 'Stars Hollow', 'Hartford']\n",
    "})"
   ]
  },
  {
   "cell_type": "code",
   "execution_count": null,
   "id": "aebdb63c",
   "metadata": {},
   "outputs": [],
   "source": [
    "df1"
   ]
  },
  {
   "cell_type": "code",
   "execution_count": null,
   "id": "c1effa02",
   "metadata": {},
   "outputs": [],
   "source": [
    "df2"
   ]
  },
  {
   "cell_type": "markdown",
   "id": "28fde7d5",
   "metadata": {},
   "source": [
    "### Merge"
   ]
  },
  {
   "cell_type": "code",
   "execution_count": null,
   "id": "35853ff7",
   "metadata": {},
   "outputs": [],
   "source": [
    "# A standard merge (inner)\n"
   ]
  },
  {
   "cell_type": "code",
   "execution_count": null,
   "id": "a8476a40",
   "metadata": {},
   "outputs": [],
   "source": [
    "# Explicitly specifying what to merge by (same as before)\n"
   ]
  },
  {
   "cell_type": "code",
   "execution_count": null,
   "id": "f879d377",
   "metadata": {},
   "outputs": [],
   "source": [
    "# Outer\n"
   ]
  },
  {
   "cell_type": "code",
   "execution_count": null,
   "id": "8bd2cddc",
   "metadata": {},
   "outputs": [],
   "source": [
    "# Left\n"
   ]
  },
  {
   "cell_type": "code",
   "execution_count": null,
   "id": "5e3cb725",
   "metadata": {},
   "outputs": [],
   "source": [
    "# Right\n"
   ]
  },
  {
   "cell_type": "code",
   "execution_count": null,
   "id": "08dd836c",
   "metadata": {},
   "outputs": [],
   "source": [
    "# Cross join (not super common, but occasionally handy)\n"
   ]
  },
  {
   "cell_type": "code",
   "execution_count": null,
   "id": "bcd1bd04",
   "metadata": {},
   "outputs": [],
   "source": [
    "# What if they had different column names?\n",
    "df2.rename(columns = {'Name':'Character Name'},inplace=True)\n",
    "df2"
   ]
  },
  {
   "cell_type": "code",
   "execution_count": null,
   "id": "bdf0dbf6",
   "metadata": {},
   "outputs": [],
   "source": [
    "# What if they had different column names?\n"
   ]
  },
  {
   "cell_type": "code",
   "execution_count": null,
   "id": "956b7ba5",
   "metadata": {},
   "outputs": [],
   "source": [
    "# Can drop the redundant column\n"
   ]
  },
  {
   "cell_type": "code",
   "execution_count": null,
   "id": "eb194a62",
   "metadata": {},
   "outputs": [],
   "source": [
    "# Reset it back to original\n",
    "df2.rename(columns = {'Character Name':'Name'},inplace=True)"
   ]
  },
  {
   "cell_type": "code",
   "execution_count": null,
   "id": "c01b14f3",
   "metadata": {},
   "outputs": [],
   "source": [
    "# What if there are two common columns?\n",
    "df1['School'] = ['Hartford Community College','Yale','Stars Hollow High','Smith College']\n",
    "df2['School'] = ['Hartford Community College','Yale','Unknown','Yale']"
   ]
  },
  {
   "cell_type": "code",
   "execution_count": null,
   "id": "d34d1c79",
   "metadata": {},
   "outputs": [],
   "source": [
    "# Test what a standard merge does\n"
   ]
  },
  {
   "cell_type": "code",
   "execution_count": null,
   "id": "d6e67151",
   "metadata": {},
   "outputs": [],
   "source": [
    "# Outer merge behaves as expected\n"
   ]
  },
  {
   "cell_type": "code",
   "execution_count": null,
   "id": "72766373",
   "metadata": {},
   "outputs": [],
   "source": [
    "# What if we only specify one column to merge on?\n"
   ]
  },
  {
   "cell_type": "code",
   "execution_count": null,
   "id": "42081a1d",
   "metadata": {},
   "outputs": [],
   "source": [
    "# Merge on both\n"
   ]
  },
  {
   "cell_type": "markdown",
   "id": "f02d3c1d",
   "metadata": {},
   "source": [
    "### Join"
   ]
  },
  {
   "cell_type": "code",
   "execution_count": null,
   "id": "7cf88b92",
   "metadata": {},
   "outputs": [],
   "source": [
    "# Standard join won't work.\n",
    "df1.join(df2)"
   ]
  },
  {
   "cell_type": "code",
   "execution_count": null,
   "id": "461fafe6",
   "metadata": {},
   "outputs": [],
   "source": [
    "# Join works when we just want to join on the index\n",
    "df1.set_index('Name',inplace=True)\n",
    "df2.set_index('Name',inplace=True)"
   ]
  },
  {
   "cell_type": "code",
   "execution_count": null,
   "id": "f5ae3701",
   "metadata": {},
   "outputs": [],
   "source": [
    "df1"
   ]
  },
  {
   "cell_type": "code",
   "execution_count": null,
   "id": "d6a93683",
   "metadata": {},
   "outputs": [],
   "source": [
    "df2"
   ]
  },
  {
   "cell_type": "code",
   "execution_count": null,
   "id": "1c0f57c2",
   "metadata": {},
   "outputs": [],
   "source": [
    "# still doesn't work. \n",
    "df1.join(df2)"
   ]
  },
  {
   "cell_type": "code",
   "execution_count": null,
   "id": "4fe3d741",
   "metadata": {},
   "outputs": [],
   "source": [
    "# We have to define suffixes when we use join (merge did it automatically)\n"
   ]
  },
  {
   "cell_type": "code",
   "execution_count": null,
   "id": "d0e362d5",
   "metadata": {},
   "outputs": [],
   "source": [
    "# Can select different \"how\" with join\n"
   ]
  },
  {
   "cell_type": "markdown",
   "id": "9fe2cfd6",
   "metadata": {},
   "source": [
    "### Concatenate"
   ]
  },
  {
   "cell_type": "code",
   "execution_count": null,
   "id": "9e8c9ecf",
   "metadata": {},
   "outputs": [],
   "source": [
    "# First lets reset the indices\n",
    "df1.reset_index(inplace=True)\n",
    "df2.reset_index(inplace=True)"
   ]
  },
  {
   "cell_type": "code",
   "execution_count": null,
   "id": "96064946",
   "metadata": {},
   "outputs": [],
   "source": [
    "# A standard concatenate\n"
   ]
  },
  {
   "cell_type": "code",
   "execution_count": null,
   "id": "79efad5f",
   "metadata": {},
   "outputs": [],
   "source": [
    "# Explicitly state how to concatenate (keep all columns that appear in either dataset)\n"
   ]
  },
  {
   "cell_type": "code",
   "execution_count": null,
   "id": "4b5eb0f5",
   "metadata": {},
   "outputs": [],
   "source": [
    "# Only keep common columns\n"
   ]
  },
  {
   "cell_type": "code",
   "execution_count": null,
   "id": "f1b6ce3b",
   "metadata": {},
   "outputs": [],
   "source": [
    "# concatenate the rows (can get very confusing if you aren't careful!)\n"
   ]
  },
  {
   "cell_type": "markdown",
   "id": "7f306755",
   "metadata": {},
   "source": [
    "## Activity"
   ]
  },
  {
   "cell_type": "markdown",
   "id": "3b779c71",
   "metadata": {},
   "source": [
    "**1.** Run the following cells to read in Cal Poly Humboldt student data. Check what would happen if you did not include the `skiprows` argument."
   ]
  },
  {
   "cell_type": "code",
   "execution_count": null,
   "id": "1d58174e",
   "metadata": {},
   "outputs": [],
   "source": [
    "pd.read_csv('humboldt_data/Humboldt_Passing_Fa23.csv',skiprows=5)"
   ]
  },
  {
   "cell_type": "code",
   "execution_count": null,
   "id": "2474d248",
   "metadata": {},
   "outputs": [],
   "source": [
    "passing = pd.read_csv('humboldt_data/Humboldt_Passing_Fa23.csv',skiprows=5)"
   ]
  },
  {
   "cell_type": "code",
   "execution_count": null,
   "id": "9abb54f7",
   "metadata": {},
   "outputs": [],
   "source": [
    "passing.head()"
   ]
  },
  {
   "cell_type": "code",
   "execution_count": null,
   "id": "2def8a82",
   "metadata": {},
   "outputs": [],
   "source": [
    "first_gen = pd.read_csv('humboldt_data/FirstGenData_Fa23.csv',skiprows=5)"
   ]
  },
  {
   "cell_type": "code",
   "execution_count": null,
   "id": "7cc49ceb",
   "metadata": {},
   "outputs": [],
   "source": [
    "first_gen.head()"
   ]
  },
  {
   "cell_type": "markdown",
   "id": "66ec575b",
   "metadata": {},
   "source": [
    "**2.** Merge the two dataframes. Try different `how` arguments."
   ]
  },
  {
   "cell_type": "code",
   "execution_count": null,
   "id": "f4ce4078",
   "metadata": {},
   "outputs": [],
   "source": []
  },
  {
   "cell_type": "markdown",
   "id": "eff9e102",
   "metadata": {},
   "source": [
    "**3.** Recreate the figure from the discussion question."
   ]
  },
  {
   "cell_type": "code",
   "execution_count": null,
   "id": "52f58039",
   "metadata": {},
   "outputs": [],
   "source": []
  }
 ],
 "metadata": {
  "kernelspec": {
   "display_name": "Python 3 (ipykernel)",
   "language": "python",
   "name": "python3"
  },
  "language_info": {
   "codemirror_mode": {
    "name": "ipython",
    "version": 3
   },
   "file_extension": ".py",
   "mimetype": "text/x-python",
   "name": "python",
   "nbconvert_exporter": "python",
   "pygments_lexer": "ipython3",
   "version": "3.11.4"
  }
 },
 "nbformat": 4,
 "nbformat_minor": 5
}
