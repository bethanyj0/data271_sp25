{
 "cells": [
  {
   "cell_type": "markdown",
   "id": "bd035d4a",
   "metadata": {},
   "source": [
    "# Advanced Pandas: combining data"
   ]
  },
  {
   "cell_type": "code",
   "execution_count": null,
   "id": "fdd9ad2b-5ed2-4ced-a657-76a1b2c6bc91",
   "metadata": {},
   "outputs": [],
   "source": [
    "import numpy as np\n",
    "import pandas as pd"
   ]
  },
  {
   "cell_type": "markdown",
   "id": "b4e1281b-78e3-42fc-b340-febb42cf93c4",
   "metadata": {},
   "source": [
    "## Combining Data"
   ]
  },
  {
   "cell_type": "code",
   "execution_count": null,
   "id": "9c1319be-1abb-4c06-aad2-4e648db9e8e4",
   "metadata": {},
   "outputs": [],
   "source": [
    "# Create the first dataframe\n",
    "df1 = pd.DataFrame({\n",
    "    'Name': ['Lorelai Gilmore', 'Rory Gilmore', 'Luke Danes', 'Emily Gilmore'],\n",
    "    'Occupation': ['Manager', 'Student', 'Owner', 'Socialite'],\n",
    "    'Age': [32, 20, 40, 60]\n",
    "})\n",
    "\n",
    "# Create the second dataframe\n",
    "df2 = pd.DataFrame({\n",
    "    'Name': ['Lorelai Gilmore', 'Rory Gilmore', 'Sookie St. James', 'Richard Gilmore'],\n",
    "    'Home': ['Stars Hollow', 'Stars Hollow', 'Stars Hollow', 'Hartford']\n",
    "})"
   ]
  },
  {
   "cell_type": "code",
   "execution_count": null,
   "id": "1220d144-d683-4a1c-b688-08da0ffd0945",
   "metadata": {},
   "outputs": [],
   "source": []
  },
  {
   "cell_type": "code",
   "execution_count": null,
   "id": "f3b70f7d-dbfe-468b-b9bc-2790cfd87b98",
   "metadata": {},
   "outputs": [],
   "source": []
  },
  {
   "cell_type": "markdown",
   "id": "06fc291a-ca53-4694-bb3f-393776ca4370",
   "metadata": {},
   "source": [
    "### Merge"
   ]
  },
  {
   "cell_type": "code",
   "execution_count": null,
   "id": "34c46e17-6337-4949-9e5c-0b1854b18e87",
   "metadata": {},
   "outputs": [],
   "source": [
    "# A standard merge (inner)\n"
   ]
  },
  {
   "cell_type": "code",
   "execution_count": null,
   "id": "29ab3a27-f2e4-46cf-9d65-86c9b934a40e",
   "metadata": {},
   "outputs": [],
   "source": [
    "# Explicitly specifying what to merge by (same as before)\n",
    "df1.merge(df2, ...)"
   ]
  },
  {
   "cell_type": "code",
   "execution_count": null,
   "id": "78ff9ec0-f702-47aa-a8c9-c9f1a73ae566",
   "metadata": {},
   "outputs": [],
   "source": [
    "# What if they had different column names?\n",
    "df2.rename(columns = {'Name':'Character Name'},inplace=True)\n",
    "df2"
   ]
  },
  {
   "cell_type": "code",
   "execution_count": null,
   "id": "44a7b90d-3036-40b9-b285-8c1f1ad17c55",
   "metadata": {
    "tags": []
   },
   "outputs": [],
   "source": []
  },
  {
   "cell_type": "code",
   "execution_count": null,
   "id": "6c228865-9bf0-4be3-a003-be5269acd758",
   "metadata": {
    "tags": []
   },
   "outputs": [],
   "source": []
  },
  {
   "cell_type": "code",
   "execution_count": null,
   "id": "f61be5d5-2280-4721-a70f-0de6da098ff0",
   "metadata": {
    "tags": []
   },
   "outputs": [],
   "source": [
    "# Try merging now (error!)\n",
    "df1.merge(df2)"
   ]
  },
  {
   "cell_type": "code",
   "execution_count": null,
   "id": "11f9cfaf-74b6-4324-9e23-4d0a14e6a6b8",
   "metadata": {
    "tags": []
   },
   "outputs": [],
   "source": [
    "# Specify one of the column names (error!)\n",
    "df1.merge(df2, on = 'Name')"
   ]
  },
  {
   "cell_type": "code",
   "execution_count": null,
   "id": "24b9a961-81b3-4c0f-b1fa-ec3ff1263f0e",
   "metadata": {},
   "outputs": [],
   "source": [
    "# How to specify both names if they are different\n",
    "df1.merge(df2, ...)"
   ]
  },
  {
   "cell_type": "code",
   "execution_count": null,
   "id": "a539f7cf-bea9-4ff3-8533-bb13a5d96e23",
   "metadata": {},
   "outputs": [],
   "source": [
    "# Can drop the redundant column\n",
    "df1.merge(df2, left_on = 'Name',right_on = 'Character Name')..."
   ]
  },
  {
   "cell_type": "code",
   "execution_count": null,
   "id": "707d4bea-9abd-4af4-b0a1-2e55d0e588ea",
   "metadata": {},
   "outputs": [],
   "source": [
    "# Reset it back to original\n",
    "df2.rename(columns = {'Character Name':'Name'},inplace=True)"
   ]
  },
  {
   "cell_type": "code",
   "execution_count": null,
   "id": "8117396b-d27c-4c58-b438-ecb4f4517fc1",
   "metadata": {},
   "outputs": [],
   "source": [
    "# Outer\n",
    "df1.merge(df2, ...)"
   ]
  },
  {
   "cell_type": "code",
   "execution_count": null,
   "id": "e328b9d2-ef0e-4794-92a8-08523e5d5ae8",
   "metadata": {
    "tags": []
   },
   "outputs": [],
   "source": [
    "# Use the indicator parameter to keep track of where the rows came from (good for debugging)\n",
    "df1.merge(df2, how = 'outer', ...)"
   ]
  },
  {
   "cell_type": "code",
   "execution_count": null,
   "id": "4313b959-d427-455b-819f-a6b218ccd5c0",
   "metadata": {},
   "outputs": [],
   "source": [
    "# Left\n",
    "df1.merge(df2, ...)"
   ]
  },
  {
   "cell_type": "code",
   "execution_count": null,
   "id": "ebcae895-bf86-405d-be0c-65e48501a149",
   "metadata": {},
   "outputs": [],
   "source": [
    "# Right\n",
    "df1.merge(df2, ...)"
   ]
  },
  {
   "cell_type": "code",
   "execution_count": null,
   "id": "f6f26176-5e84-4555-84d8-ad407116a891",
   "metadata": {},
   "outputs": [],
   "source": [
    "# Cross join (less common, but occasionally handy)\n",
    "df1.merge(df2, ...)"
   ]
  },
  {
   "cell_type": "code",
   "execution_count": null,
   "id": "dacab245-d741-4af9-843a-7d16ec8a2d41",
   "metadata": {},
   "outputs": [],
   "source": [
    "# What if there are two common columns?\n",
    "df1['School'] = ['Hartford Community College','Yale','Stars Hollow High','Smith College']\n",
    "df2['School'] = ['Hartford Community College','Yale','Unknown','Yale']"
   ]
  },
  {
   "cell_type": "code",
   "execution_count": null,
   "id": "16ede956-c056-4787-9d82-27235f946d30",
   "metadata": {},
   "outputs": [],
   "source": [
    "# Test what a standard merge does\n",
    "df1.merge(df2)"
   ]
  },
  {
   "cell_type": "code",
   "execution_count": null,
   "id": "c81d966d-25a9-44b6-a88e-4ab6f4c1e50f",
   "metadata": {},
   "outputs": [],
   "source": [
    "# Outer merge behaves as expected\n",
    "df1.merge(df2, how = 'outer')"
   ]
  },
  {
   "cell_type": "code",
   "execution_count": null,
   "id": "981728c7-5e1e-47df-b2ed-ef12aff2e643",
   "metadata": {},
   "outputs": [],
   "source": [
    "# What if we only specify one column to merge on?\n",
    "df1.merge(df2, ... ,how = 'outer')"
   ]
  },
  {
   "cell_type": "code",
   "execution_count": null,
   "id": "85259b62-9f90-413d-8ffd-bd8446bb7485",
   "metadata": {},
   "outputs": [],
   "source": [
    "# Merge on both\n",
    "df1.merge(df2, ... ,how = 'outer')"
   ]
  },
  {
   "cell_type": "code",
   "execution_count": null,
   "id": "29c260c5-f443-481a-b8e4-feb1c5593990",
   "metadata": {
    "tags": []
   },
   "outputs": [],
   "source": [
    "# If one of the columns is actually an index\n",
    "\n",
    "df2"
   ]
  },
  {
   "cell_type": "code",
   "execution_count": null,
   "id": "9e7c760c-2be8-43d9-9c23-0abe75d63693",
   "metadata": {
    "tags": []
   },
   "outputs": [],
   "source": [
    "# If one of the columns is actually an index\n",
    "df1.merge(df2, left_on='Name', ...)"
   ]
  },
  {
   "cell_type": "code",
   "execution_count": null,
   "id": "7b0bb26f-347b-4294-9fc6-ac4571932fbf",
   "metadata": {
    "tags": []
   },
   "outputs": [],
   "source": [
    "df2.reset_index(inplace=True)"
   ]
  },
  {
   "cell_type": "markdown",
   "id": "ea61b4c1-d3fc-46cf-818b-f445f8e21307",
   "metadata": {},
   "source": [
    "### Join"
   ]
  },
  {
   "cell_type": "code",
   "execution_count": null,
   "id": "23f28cad-c287-49c2-8ac3-9741e7ad4c8c",
   "metadata": {
    "tags": []
   },
   "outputs": [],
   "source": [
    "# Standard join won't work (error!)\n"
   ]
  },
  {
   "cell_type": "code",
   "execution_count": null,
   "id": "b78ee61f-0a66-4946-970d-73533d0b30ad",
   "metadata": {},
   "outputs": [],
   "source": [
    "# Join works when we just want to join on the index\n",
    "df1.set_index('Name',inplace=True)\n",
    "df2.set_index('Name',inplace=True)"
   ]
  },
  {
   "cell_type": "code",
   "execution_count": null,
   "id": "9da133c0-04ca-4df8-a532-861530fda02e",
   "metadata": {},
   "outputs": [],
   "source": []
  },
  {
   "cell_type": "code",
   "execution_count": null,
   "id": "2497f1ec-ee34-4aee-9d82-68e6e4bdcca8",
   "metadata": {},
   "outputs": [],
   "source": []
  },
  {
   "cell_type": "code",
   "execution_count": null,
   "id": "6f05b290-ff1c-4edb-90d8-a63f3b0c71b4",
   "metadata": {},
   "outputs": [],
   "source": [
    "# still doesn't work (it doesn't know what to do with the identical columns) \n"
   ]
  },
  {
   "cell_type": "code",
   "execution_count": null,
   "id": "6dfde178-6840-4549-9e69-8d428f6dfad0",
   "metadata": {},
   "outputs": [],
   "source": [
    "# We have to define suffixes when we use join (merge did it automatically)\n",
    "df1.join(df2, ...)"
   ]
  },
  {
   "cell_type": "code",
   "execution_count": null,
   "id": "697d96f8-3895-4a0b-88a3-181608abfe08",
   "metadata": {},
   "outputs": [],
   "source": [
    "# Can select different \"how\" with join\n",
    "df1.join(df2, how='outer', lsuffix='_left',rsuffix='_right')"
   ]
  },
  {
   "cell_type": "markdown",
   "id": "d3984d68-21ab-4475-91dc-81f4bdd9fd1d",
   "metadata": {},
   "source": [
    "### Concatenate"
   ]
  },
  {
   "cell_type": "code",
   "execution_count": null,
   "id": "a26b3498-e647-44de-99a8-a3cb39ed3129",
   "metadata": {},
   "outputs": [],
   "source": [
    "# First lets reset the indices\n",
    "df1.reset_index(inplace=True)\n",
    "df2.reset_index(inplace=True)"
   ]
  },
  {
   "cell_type": "code",
   "execution_count": null,
   "id": "93c9062f-1fb6-4451-b81b-187c62a28fce",
   "metadata": {},
   "outputs": [],
   "source": [
    "# A standard concatenate\n"
   ]
  },
  {
   "cell_type": "code",
   "execution_count": null,
   "id": "0226b23d-16cb-4b82-8689-7f60e1c76be9",
   "metadata": {},
   "outputs": [],
   "source": [
    "# Explicitly state how to concatenate (keep all columns that appear in either dataset)\n",
    "pd.concat([df1,df2],join=)"
   ]
  },
  {
   "cell_type": "code",
   "execution_count": null,
   "id": "2477c94d-7469-4d43-919c-2ad378b00931",
   "metadata": {},
   "outputs": [],
   "source": [
    "# Only keep common columns\n",
    "pd.concat([df1,df2],join=)"
   ]
  },
  {
   "cell_type": "code",
   "execution_count": null,
   "id": "f7dccf2e-d75c-41ea-bf61-119520c5ef69",
   "metadata": {
    "tags": []
   },
   "outputs": [],
   "source": [
    "# Left/right combinations are not supported\n",
    "pd.concat([df1,df2],join='left')"
   ]
  },
  {
   "cell_type": "code",
   "execution_count": null,
   "id": "a9e55aca-ad4d-48b0-82ba-ce225beb1dfc",
   "metadata": {
    "tags": []
   },
   "outputs": [],
   "source": [
    "# Be careful with indices!\n",
    "concat_gilmores = pd.concat([df1,df2])\n",
    "concat_gilmores"
   ]
  },
  {
   "cell_type": "code",
   "execution_count": null,
   "id": "e6f4259e-5fc8-4aac-a749-dcd1d0887d85",
   "metadata": {
    "tags": []
   },
   "outputs": [],
   "source": [
    "# indices might be duplicated\n"
   ]
  },
  {
   "cell_type": "code",
   "execution_count": null,
   "id": "f5c1fe55-d002-46de-8525-0050c2e10817",
   "metadata": {
    "tags": []
   },
   "outputs": [],
   "source": [
    "# You can prevent this by ignoring the index (this will give new indices)\n",
    "pd.concat([df1,df2],...)"
   ]
  },
  {
   "cell_type": "code",
   "execution_count": null,
   "id": "778778b7-f5d6-4707-a9c7-c26a1894caea",
   "metadata": {},
   "outputs": [],
   "source": [
    "# concatenate the rows (can get very confusing if you aren't careful!)\n",
    "pd.concat([df1,df2],...)"
   ]
  },
  {
   "cell_type": "code",
   "execution_count": null,
   "id": "e994422e-1c53-4a70-ad06-072b2be86ac4",
   "metadata": {
    "tags": []
   },
   "outputs": [],
   "source": [
    "# Concat is useful for adding rows\n",
    "new_row = pd.DataFrame([{'Name':'Kurk', 'Home':'Stars Hollow', 'School': 'Unknown'}])\n",
    "new_row"
   ]
  },
  {
   "cell_type": "code",
   "execution_count": null,
   "id": "26bebaf6-ea38-4779-97b0-b0a613e6a9d8",
   "metadata": {
    "tags": []
   },
   "outputs": [],
   "source": [
    "# Concat is useful for adding rows\n",
    "df2 = \n",
    "df2"
   ]
  },
  {
   "cell_type": "code",
   "execution_count": null,
   "id": "01b363a3-9411-4de9-94a6-268a4a74e24b",
   "metadata": {
    "tags": []
   },
   "outputs": [],
   "source": [
    "# Concatenating columns would do an outer\n",
    "pd.concat([df1,df2],axis=1)"
   ]
  },
  {
   "cell_type": "code",
   "execution_count": null,
   "id": "5bb06bce-2051-4389-97a9-c8972e616fc7",
   "metadata": {
    "tags": []
   },
   "outputs": [],
   "source": [
    "# Change it to inner\n",
    "pd.concat([df1,df2],axis=1,join='inner')"
   ]
  },
  {
   "cell_type": "markdown",
   "id": "1fcd64d4-06bb-4093-a830-1f1115f5920f",
   "metadata": {},
   "source": [
    "## Activity"
   ]
  },
  {
   "cell_type": "markdown",
   "id": "2e4a5866-69f4-4484-8250-132279c3b1f3",
   "metadata": {},
   "source": [
    "**1.** Run the following cells to read in Cal Poly Humboldt student data. Check what would happen if you did not include the `skiprows` argument."
   ]
  },
  {
   "cell_type": "code",
   "execution_count": null,
   "id": "80440fe5-7db3-4697-841d-dbe3c244e67d",
   "metadata": {},
   "outputs": [],
   "source": [
    "passing = pd.read_csv('humboldt_data/Humboldt_Passing_Fa23.csv',skiprows=5)"
   ]
  },
  {
   "cell_type": "code",
   "execution_count": null,
   "id": "a5554f56-c97a-4da3-a537-d136664baeed",
   "metadata": {},
   "outputs": [],
   "source": [
    "passing.head()"
   ]
  },
  {
   "cell_type": "code",
   "execution_count": null,
   "id": "29391340-1480-414b-8daa-b5ccbe16b4fa",
   "metadata": {},
   "outputs": [],
   "source": [
    "first_gen = pd.read_csv('humboldt_data/FirstGenData_Fa23.csv',skiprows=5)"
   ]
  },
  {
   "cell_type": "code",
   "execution_count": null,
   "id": "5204da3c-af89-4538-864c-0164a675cdda",
   "metadata": {},
   "outputs": [],
   "source": [
    "first_gen.head()"
   ]
  },
  {
   "cell_type": "markdown",
   "id": "8a157b79-0255-46dc-9f4d-86bb1f96d49e",
   "metadata": {},
   "source": [
    "**2.** Merge the two dataframes. Try different `how` arguments."
   ]
  },
  {
   "cell_type": "code",
   "execution_count": null,
   "id": "8e265b7d-be87-4851-823c-01435a8ad411",
   "metadata": {},
   "outputs": [],
   "source": []
  },
  {
   "cell_type": "markdown",
   "id": "c10b41ac-9393-41df-a483-5fa5598ff6c2",
   "metadata": {},
   "source": [
    "**3.** Recreate the figure from the discussion question."
   ]
  },
  {
   "cell_type": "code",
   "execution_count": null,
   "id": "eb36d1dc-4281-4987-bf99-87b3711ade54",
   "metadata": {},
   "outputs": [],
   "source": []
  }
 ],
 "metadata": {
  "kernelspec": {
   "display_name": "Python 3 (ipykernel)",
   "language": "python",
   "name": "python3"
  },
  "language_info": {
   "codemirror_mode": {
    "name": "ipython",
    "version": 3
   },
   "file_extension": ".py",
   "mimetype": "text/x-python",
   "name": "python",
   "nbconvert_exporter": "python",
   "pygments_lexer": "ipython3",
   "version": "3.11.4"
  }
 },
 "nbformat": 4,
 "nbformat_minor": 5
}
