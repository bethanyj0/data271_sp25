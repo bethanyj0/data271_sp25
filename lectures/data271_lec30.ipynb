{
 "cells": [
  {
   "cell_type": "markdown",
   "id": "bd035d4a",
   "metadata": {},
   "source": [
    "# Combining Data Wrap-up \n",
    "If you want to type along with me, use [this notebook](https://humboldt.cloudbank.2i2c.cloud/hub/user-redirect/git-pull?repo=https%3A%2F%2Fgithub.com%2Fbethanyj0%2Fdata271_sp25&branch=main&urlpath=tree%2Fdata271_sp25%2Flectures%2Fdata271_lec30_live.ipynb) instead. \n",
    "If you don't want to type and want to follow along just by executing the cells, stay in this notebook. "
   ]
  },
  {
   "cell_type": "code",
   "execution_count": null,
   "id": "26e99e3b",
   "metadata": {},
   "outputs": [],
   "source": [
    "import numpy as np\n",
    "import pandas as pd"
   ]
  },
  {
   "cell_type": "markdown",
   "id": "eb858da6",
   "metadata": {},
   "source": [
    "## Combining Time Series Data"
   ]
  },
  {
   "cell_type": "code",
   "execution_count": null,
   "id": "bc9e3cd5-a493-4b4b-ae67-c77e8bb68ce3",
   "metadata": {
    "tags": []
   },
   "outputs": [],
   "source": [
    "env_data = pd.DataFrame({\n",
    "    'time': pd.date_range('2025-04-14 08:00', periods=6, freq='1h'),\n",
    "    'temperature_C': [14.0, 12.5, 13.0, 13.5, 12.0, 14.2],\n",
    "    'humidity_pct': [85, 83, 80, 78, 76, 75]\n",
    "})\n",
    "env_data.sort_values(by='temperature_C',inplace=True)\n",
    "env_data"
   ]
  },
  {
   "cell_type": "code",
   "execution_count": null,
   "id": "be161a2d-dcea-4925-8e43-bc84768ceff9",
   "metadata": {
    "tags": []
   },
   "outputs": [],
   "source": [
    "precip_data = pd.DataFrame({\n",
    "    'time': pd.date_range('2025-04-14 07:00', periods=9, freq='1h'),\n",
    "    'precipitation': [0.1, 0.3, 0, 0, 0.1, 0.05, 0.05, 0.1, 0.1],\n",
    "})\n",
    "precip_data"
   ]
  },
  {
   "cell_type": "code",
   "execution_count": null,
   "id": "bbf4024d-cc2f-49cc-9109-803fbb1a941e",
   "metadata": {
    "tags": []
   },
   "outputs": [],
   "source": [
    "# A standard merge goes in the order of the original left dataframe\n",
    "pd.merge(env_data, precip_data)"
   ]
  },
  {
   "cell_type": "code",
   "execution_count": null,
   "id": "14deffcc-1cea-4f47-9d1a-372c7fcb3443",
   "metadata": {
    "tags": []
   },
   "outputs": [],
   "source": [
    "# merge_ordered sorts the data too\n",
    "pd.merge_ordered(env_data, precip_data)"
   ]
  },
  {
   "cell_type": "code",
   "execution_count": null,
   "id": "06e5c6c4-ac4e-4fec-b305-676429f97db8",
   "metadata": {
    "tags": []
   },
   "outputs": [],
   "source": [
    "# merge_ordered also allows you to fill in gaps with a method of choice\n",
    "pd.merge_ordered(env_data, precip_data, fill_method='ffill')"
   ]
  },
  {
   "cell_type": "code",
   "execution_count": null,
   "id": "385872ba-ec6e-46ed-8e07-89662e86b6b8",
   "metadata": {
    "tags": []
   },
   "outputs": [],
   "source": [
    "# When this is most useful?\n",
    "precip_data = pd.DataFrame({\n",
    "    'time': pd.date_range('2025-04-14 07:00', periods=10, freq='30min'),\n",
    "    'precipitation': [0.1, 0.3, 0, 0, 0.1, 0.05, 0.05, 0.1, 0.1, 0.2],\n",
    "})\n",
    "precip_data"
   ]
  },
  {
   "cell_type": "code",
   "execution_count": null,
   "id": "64d03041-a954-4227-95e2-7a2995f513a8",
   "metadata": {
    "tags": []
   },
   "outputs": [],
   "source": [
    "# When the frequency of data points is different\n",
    "env_data"
   ]
  },
  {
   "cell_type": "code",
   "execution_count": null,
   "id": "59bc629d-3b6e-4a7d-8e3b-68e6239f3d55",
   "metadata": {
    "tags": []
   },
   "outputs": [],
   "source": [
    "# When the frequency of data points is different\n",
    "pd.merge_ordered(env_data, precip_data)"
   ]
  },
  {
   "cell_type": "code",
   "execution_count": null,
   "id": "3ce5921b-a7c9-4a92-96e1-1430f7348161",
   "metadata": {
    "tags": []
   },
   "outputs": [],
   "source": [
    "pd.merge_ordered(env_data, precip_data, fill_method='ffill')"
   ]
  },
  {
   "cell_type": "code",
   "execution_count": null,
   "id": "563898c5-dede-46cf-8246-3b185b8eea88",
   "metadata": {
    "tags": []
   },
   "outputs": [],
   "source": [
    "# Merge_ordered also accepts different \"how\" args\n",
    "pd.merge_ordered(env_data, precip_data, how = 'inner')"
   ]
  },
  {
   "cell_type": "code",
   "execution_count": null,
   "id": "b05c403f-3c54-4911-8eee-5c2b2d1832e2",
   "metadata": {
    "tags": []
   },
   "outputs": [],
   "source": [
    "# You can also take the approach of \"course graining\" with resample\n",
    "hourly_precip = precip_data.resample('1H', on='time').sum()\n",
    "hourly_precip"
   ]
  },
  {
   "cell_type": "code",
   "execution_count": null,
   "id": "88a4ae92-2a6c-4e54-8acc-4471dd464d26",
   "metadata": {
    "tags": []
   },
   "outputs": [],
   "source": [
    "# Merge at course-grained resolution\n",
    "course = pd.merge_ordered(env_data,hourly_precip.reset_index())\n",
    "course"
   ]
  },
  {
   "cell_type": "code",
   "execution_count": null,
   "id": "0c45e5c2-767d-4036-a183-dcfd07f26232",
   "metadata": {
    "tags": []
   },
   "outputs": [],
   "source": [
    "# When should we be careful about resampling?\n",
    "precip_data['lat'] = [38.1, 38.1, 38.1, 38.1, 38.1, 38.2, 38.2, 38.2, 38.2, 38.2]\n",
    "precip_data['lon'] = [-120.1, -120.1, -120.2,-120.2, -120.2,-120.1, -120.1, -120.2,-120.2, -120.2]\n",
    "precip_data"
   ]
  },
  {
   "cell_type": "code",
   "execution_count": null,
   "id": "5d737789-dcc5-478d-b658-bf2074cccfaf",
   "metadata": {
    "tags": []
   },
   "outputs": [],
   "source": [
    "# Resampling this would lead to inaccurate location data\n",
    "precip_data.resample('1H',on='time').sum()"
   ]
  },
  {
   "cell_type": "code",
   "execution_count": null,
   "id": "150600e1-8a2e-46dd-bb29-d1b07ce8b002",
   "metadata": {
    "tags": []
   },
   "outputs": [],
   "source": [
    "# In this case, use groupby with pd.Grouper\n",
    "precip_data.groupby(pd.Grouper(key = 'time', freq=\"1H\")).sum()"
   ]
  },
  {
   "cell_type": "code",
   "execution_count": null,
   "id": "098085bc-af35-473d-8935-755335e5dafd",
   "metadata": {
    "tags": []
   },
   "outputs": [],
   "source": [
    "# Groupby can handle multiple columns\n",
    "precip_data.groupby([pd.Grouper(key = 'time', freq=\"1H\"),'lat','lon']).sum()"
   ]
  },
  {
   "cell_type": "code",
   "execution_count": null,
   "id": "c3eb6757-0614-44fa-b5d7-21b7dc3d1f9a",
   "metadata": {
    "tags": []
   },
   "outputs": [],
   "source": [
    "# Get course-grained data for each location\n",
    "precip_data.groupby([pd.Grouper(key = 'time', freq=\"1H\"),'lat','lon']).mean().reset_index()"
   ]
  },
  {
   "cell_type": "markdown",
   "id": "1efa126c-7de1-4857-b3f5-7445a88e39b9",
   "metadata": {},
   "source": [
    "### More flexible temporal matches"
   ]
  },
  {
   "cell_type": "code",
   "execution_count": null,
   "id": "e55e5e9e",
   "metadata": {},
   "outputs": [],
   "source": [
    "# Irregular observational data\n",
    "observations = pd.DataFrame({\n",
    "    'time': pd.to_datetime([\n",
    "        '2025-04-14 08:03', '2025-04-14 09:21', '2025-04-14 11:00',\n",
    "        '2025-04-14 09:45', '2025-04-14 13:27'\n",
    "    ]),\n",
    "    'animal': ['fox', 'bear', 'wolf', 'bear', 'wolf'],\n",
    "    'location': ['ridge', 'valley', 'creek', 'creek', 'ridge']\n",
    "}).sort_values('time')\n",
    "\n",
    "observations"
   ]
  },
  {
   "cell_type": "code",
   "execution_count": null,
   "id": "0d710981",
   "metadata": {},
   "outputs": [],
   "source": [
    "env_data = pd.DataFrame({\n",
    "    'time': pd.date_range('2025-04-14 08:00', periods=6, freq='1h'),\n",
    "    'temperature_C': [12.0, 12.5, 13.0, 13.5, 14.0, 14.2],\n",
    "    'humidity_pct': [85, 83, 80, 78, 76, 75]\n",
    "})\n",
    "env_data"
   ]
  },
  {
   "cell_type": "code",
   "execution_count": null,
   "id": "708555bc-fcbb-4fd1-b075-b028d9597283",
   "metadata": {
    "tags": []
   },
   "outputs": [],
   "source": [
    "# Merge ordered takes all unique\n",
    "pd.merge_ordered(observations, env_data)"
   ]
  },
  {
   "cell_type": "code",
   "execution_count": null,
   "id": "48bc79b4-5204-4282-9ce8-812f386f9609",
   "metadata": {
    "tags": []
   },
   "outputs": [],
   "source": [
    "# Merge ordered incorrectly duplicates observations\n",
    "pd.merge_ordered(observations, env_data, fill_method='ffill')"
   ]
  },
  {
   "cell_type": "code",
   "execution_count": null,
   "id": "716c21f3-fea2-41ad-97ee-4642464c95d5",
   "metadata": {
    "tags": []
   },
   "outputs": [],
   "source": [
    "# Remind ourselves of what the originals look like\n",
    "observations"
   ]
  },
  {
   "cell_type": "code",
   "execution_count": null,
   "id": "8b4cc724-6c45-4d4e-bd6c-4145ad09d24f",
   "metadata": {
    "tags": []
   },
   "outputs": [],
   "source": [
    "env_data"
   ]
  },
  {
   "cell_type": "code",
   "execution_count": null,
   "id": "73b981a5-cc69-465e-849d-b9acae22ec1d",
   "metadata": {
    "tags": []
   },
   "outputs": [],
   "source": [
    "# Merge the left time points to the previous point from the right\n",
    "pd.merge_asof(observations, env_data, on='time')"
   ]
  },
  {
   "cell_type": "code",
   "execution_count": null,
   "id": "76a4c077-32eb-4cd5-99c6-106e64f28c61",
   "metadata": {
    "tags": []
   },
   "outputs": [],
   "source": [
    "# Merge the left time points to the nearest point from the right \n",
    "pd.merge_asof(observations, env_data, on='time', direction='nearest')"
   ]
  },
  {
   "cell_type": "code",
   "execution_count": null,
   "id": "87ce567d-2d5a-4743-85b1-6381afa97f18",
   "metadata": {
    "tags": []
   },
   "outputs": [],
   "source": [
    "# Merge the left time points to the next point from the right\n",
    "pd.merge_asof(observations, env_data, on='time', direction='forward')"
   ]
  },
  {
   "cell_type": "code",
   "execution_count": null,
   "id": "b8d55d2f-d47e-49cf-bacd-5a21e1a6e264",
   "metadata": {
    "tags": []
   },
   "outputs": [],
   "source": [
    "# If they have different names\n",
    "env_data.rename(columns={'time':'Time'},inplace=True)\n",
    "pd.merge_asof(observations, env_data, left_on='time', right_on = 'Time')"
   ]
  },
  {
   "cell_type": "code",
   "execution_count": null,
   "id": "2b4b8174-b1c8-4c63-aac7-b689e8ce0332",
   "metadata": {
    "tags": []
   },
   "outputs": [],
   "source": [
    "# Reset\n",
    "env_data.rename(columns={'Time':'time'},inplace=True)"
   ]
  },
  {
   "cell_type": "markdown",
   "id": "6d09d7bc-b34d-4c6f-8115-a6ce3379a5a5",
   "metadata": {
    "tags": []
   },
   "source": [
    "### If we have spatial information too"
   ]
  },
  {
   "cell_type": "code",
   "execution_count": null,
   "id": "3134479e-98ae-4d8e-b015-e9dfcd64c913",
   "metadata": {
    "tags": []
   },
   "outputs": [],
   "source": [
    "observations['lat'] = [38.2, 38.2, 38.2, 38.2, 38.2]\n",
    "observations['lon'] = [-120.1, -120.1, -120.2,-120.2, -120.2]"
   ]
  },
  {
   "cell_type": "code",
   "execution_count": null,
   "id": "2f6975a2-c23a-4587-9edc-641f6a4d8c14",
   "metadata": {
    "tags": []
   },
   "outputs": [],
   "source": [
    "env_data['lat'] = [38.2, 38.2, 38.2, 38.2, 38.2,38.2]\n",
    "env_data['lon'] = [-120.1, -120.1, -120.2,-120.2, -120.2, -120.1]"
   ]
  },
  {
   "cell_type": "code",
   "execution_count": null,
   "id": "cbf30b5c-de56-4db6-a709-f52c33deb400",
   "metadata": {
    "tags": []
   },
   "outputs": [],
   "source": [
    "observations"
   ]
  },
  {
   "cell_type": "code",
   "execution_count": null,
   "id": "81850068-e3b6-46b2-98bd-9af28ee64602",
   "metadata": {
    "tags": []
   },
   "outputs": [],
   "source": [
    "env_data"
   ]
  },
  {
   "cell_type": "code",
   "execution_count": null,
   "id": "945c63b4-b75e-4d71-8eec-986830622731",
   "metadata": {
    "tags": []
   },
   "outputs": [],
   "source": [
    "# Merge each location on the time column\n",
    "pd.merge_asof(observations, env_data, on='time')"
   ]
  },
  {
   "cell_type": "code",
   "execution_count": null,
   "id": "2605970d-d99a-4371-8626-44d40768a93d",
   "metadata": {
    "tags": []
   },
   "outputs": [],
   "source": [
    "pd.merge_asof(observations, env_data, on='time', by = ['lat','lon'])"
   ]
  },
  {
   "cell_type": "markdown",
   "id": "af9b614c-09e8-4125-9c47-aab0c44efb15",
   "metadata": {},
   "source": [
    "This could change the distance it reaches to get a match."
   ]
  },
  {
   "cell_type": "code",
   "execution_count": null,
   "id": "46c90126-19fe-4817-a8e1-34d640dd9573",
   "metadata": {
    "tags": []
   },
   "outputs": [],
   "source": [
    "# Set a tolerance for how close the points have to be to match\n",
    "pd.merge_asof(observations, env_data, on='time', by = ['lat','lon'],\n",
    "              tolerance=pd.Timedelta('1h'))"
   ]
  },
  {
   "cell_type": "markdown",
   "id": "345630ca-9bbb-42cb-8f77-11fc0c68afc3",
   "metadata": {},
   "source": [
    "## Activity"
   ]
  },
  {
   "cell_type": "markdown",
   "id": "65516a79-841f-4df8-abf1-193b230a3ef0",
   "metadata": {},
   "source": [
    "You're analyzing bird behavior with GPS trackers and sound-activated recorders. The GPS trackers log positions every 5 minutes. The sound recorders log audio events (calls, songs, other birds) at irregular times. \n",
    "\n",
    "For each bird location, merge the most recent sound event recorded in that area."
   ]
  },
  {
   "cell_type": "code",
   "execution_count": null,
   "id": "5c1b27b7-5c1a-4a8e-8f4e-4b5c5146834c",
   "metadata": {
    "tags": []
   },
   "outputs": [],
   "source": [
    "bird_gps = pd.DataFrame({\n",
    "    \"time\": pd.to_datetime([\n",
    "        \"2023-04-13 08:00\", \"2023-04-13 08:05\", \"2023-04-13 08:10\"\n",
    "    ]),\n",
    "    \"bird_id\": [101, 101, 101],\n",
    "    \"lat\": [40.5, 40.5, 40.5],\n",
    "    \"lon\": [-123.8, -123.8, -123.8]\n",
    "})\n",
    "\n",
    "sound_events = pd.DataFrame({\n",
    "    \"time\": pd.to_datetime([\n",
    "        \"2023-04-13 07:59\", \"2023-04-13 08:03\", \"2023-04-13 08:12\"\n",
    "    ]),\n",
    "    \"event_type\": [\"call\", \"song\", \"flight\"]\n",
    "})"
   ]
  },
  {
   "cell_type": "code",
   "execution_count": null,
   "id": "3e85a218-3d87-4744-b183-03a1066fad34",
   "metadata": {},
   "outputs": [],
   "source": []
  }
 ],
 "metadata": {
  "kernelspec": {
   "display_name": "Python 3 (ipykernel)",
   "language": "python",
   "name": "python3"
  },
  "language_info": {
   "codemirror_mode": {
    "name": "ipython",
    "version": 3
   },
   "file_extension": ".py",
   "mimetype": "text/x-python",
   "name": "python",
   "nbconvert_exporter": "python",
   "pygments_lexer": "ipython3",
   "version": "3.11.4"
  }
 },
 "nbformat": 4,
 "nbformat_minor": 5
}
