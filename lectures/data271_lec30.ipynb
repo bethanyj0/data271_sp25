{
 "cells": [
  {
   "cell_type": "markdown",
   "id": "bd035d4a",
   "metadata": {},
   "source": [
    "# Combining Data Wrap-up\n",
    "If you want to type along with me, use [this notebook](https://humboldt.cloudbank.2i2c.cloud/hub/user-redirect/git-pull?repo=https%3A%2F%2Fgithub.com%2Fbethanyj0%2Fdata271_sp24&branch=main&urlpath=tree%2Fdata271_sp24%2Fdemos%2Fdata271_demo30_live.ipynb) instead. \n",
    "If you don't want to type and want to follow along just by executing the cells, stay in this notebook. "
   ]
  },
  {
   "cell_type": "code",
   "execution_count": null,
   "id": "26e99e3b",
   "metadata": {},
   "outputs": [],
   "source": [
    "import numpy as np\n",
    "import pandas as pd"
   ]
  },
  {
   "cell_type": "markdown",
   "id": "eb858da6",
   "metadata": {},
   "source": [
    "## Combining Data"
   ]
  },
  {
   "cell_type": "code",
   "execution_count": null,
   "id": "429260fe",
   "metadata": {},
   "outputs": [],
   "source": [
    "# Create the first dataframe\n",
    "df1 = pd.DataFrame({\n",
    "    'Name': ['Lorelai Gilmore', 'Rory Gilmore', 'Luke Danes', 'Emily Gilmore'],\n",
    "    'Occupation': ['Manager', 'Student', 'Owner', 'Socialite'],\n",
    "    'Age': [32, 20, 40, 60]\n",
    "})\n",
    "\n",
    "# Create the second dataframe\n",
    "df2 = pd.DataFrame({\n",
    "    'Name': ['Lorelai Gilmore', 'Rory Gilmore', 'Sookie St. James', 'Richard Gilmore'],\n",
    "    'Home': ['Stars Hollow', 'Stars Hollow', 'Stars Hollow', 'Hartford']\n",
    "})"
   ]
  },
  {
   "cell_type": "code",
   "execution_count": null,
   "id": "e55e5e9e",
   "metadata": {},
   "outputs": [],
   "source": [
    "df1"
   ]
  },
  {
   "cell_type": "code",
   "execution_count": null,
   "id": "0d710981",
   "metadata": {},
   "outputs": [],
   "source": [
    "df2"
   ]
  },
  {
   "cell_type": "markdown",
   "id": "03fb7ed1",
   "metadata": {},
   "source": [
    "### Merge"
   ]
  },
  {
   "cell_type": "code",
   "execution_count": null,
   "id": "811690d1",
   "metadata": {},
   "outputs": [],
   "source": [
    "# A standard merge (inner)\n",
    "df1.merge(df2)"
   ]
  },
  {
   "cell_type": "code",
   "execution_count": null,
   "id": "ebff7ef3",
   "metadata": {},
   "outputs": [],
   "source": [
    "# Explicitly specifying what to merge by (same as before)\n",
    "df1.merge(df2, on = 'Name')"
   ]
  },
  {
   "cell_type": "code",
   "execution_count": null,
   "id": "29c029c5",
   "metadata": {},
   "outputs": [],
   "source": [
    "# What if they had different column names?\n",
    "df2.rename(columns = {'Name':'Character Name'},inplace=True)\n",
    "df2"
   ]
  },
  {
   "cell_type": "code",
   "execution_count": null,
   "id": "24dd6132",
   "metadata": {},
   "outputs": [],
   "source": [
    "# # What if they had different column names?\n",
    "df1.merge(df2, left_on = 'Name',right_on = 'Character Name')"
   ]
  },
  {
   "cell_type": "code",
   "execution_count": null,
   "id": "e141c884",
   "metadata": {},
   "outputs": [],
   "source": [
    "# Can drop the redundant column\n",
    "df1.merge(df2, left_on = 'Name',right_on = 'Character Name').drop(columns = 'Character Name')"
   ]
  },
  {
   "cell_type": "code",
   "execution_count": null,
   "id": "6c2dcaa5",
   "metadata": {},
   "outputs": [],
   "source": [
    "# Reset it back to original\n",
    "df2.rename(columns = {'Character Name':'Name'},inplace=True)"
   ]
  },
  {
   "cell_type": "code",
   "execution_count": null,
   "id": "da8a5e91",
   "metadata": {},
   "outputs": [],
   "source": [
    "# Outer\n",
    "df1.merge(df2, how = 'outer')"
   ]
  },
  {
   "cell_type": "code",
   "execution_count": null,
   "id": "1719fa95",
   "metadata": {},
   "outputs": [],
   "source": [
    "# Left\n",
    "df1.merge(df2,how = 'left')"
   ]
  },
  {
   "cell_type": "code",
   "execution_count": null,
   "id": "fed9e4df",
   "metadata": {},
   "outputs": [],
   "source": [
    "# Right\n",
    "df1.merge(df2,how = 'right')"
   ]
  },
  {
   "cell_type": "code",
   "execution_count": null,
   "id": "afc5ac11",
   "metadata": {},
   "outputs": [],
   "source": [
    "# Cross join (not super common, but occasionally handy)\n",
    "df1.merge(df2,how='cross')"
   ]
  },
  {
   "cell_type": "code",
   "execution_count": null,
   "id": "858471c5",
   "metadata": {},
   "outputs": [],
   "source": [
    "# What if there are two common columns?\n",
    "df1['School'] = ['Hartford Community College','Yale','Stars Hollow High','Smith College']\n",
    "df2['School'] = ['Hartford Community College','Yale','Unknown','Yale']"
   ]
  },
  {
   "cell_type": "code",
   "execution_count": null,
   "id": "6bffea49",
   "metadata": {},
   "outputs": [],
   "source": [
    "# Test what a standard merge does\n",
    "df1.merge(df2)"
   ]
  },
  {
   "cell_type": "code",
   "execution_count": null,
   "id": "eaac3461",
   "metadata": {},
   "outputs": [],
   "source": [
    "# Outer merge behaves as expected\n",
    "df1.merge(df2, how = 'outer')"
   ]
  },
  {
   "cell_type": "code",
   "execution_count": null,
   "id": "ebdf9248",
   "metadata": {},
   "outputs": [],
   "source": [
    "# What if we only specify one column to merge on?\n",
    "df1.merge(df2, on = 'Name',how = 'outer')"
   ]
  },
  {
   "cell_type": "code",
   "execution_count": null,
   "id": "8ab3514b",
   "metadata": {},
   "outputs": [],
   "source": [
    "# Merge on both\n",
    "df1.merge(df2, on = ['Name','School'],how = 'outer')"
   ]
  },
  {
   "cell_type": "markdown",
   "id": "576e5819",
   "metadata": {},
   "source": [
    "### Join"
   ]
  },
  {
   "cell_type": "code",
   "execution_count": null,
   "id": "0a49aa3b",
   "metadata": {},
   "outputs": [],
   "source": [
    "# Standard join won't work.\n",
    "df1.join(df2)"
   ]
  },
  {
   "cell_type": "code",
   "execution_count": null,
   "id": "1e1d4cb8",
   "metadata": {},
   "outputs": [],
   "source": [
    "# Join works when we just want to join on the index\n",
    "df1.set_index('Name',inplace=True)\n",
    "df2.set_index('Name',inplace=True)"
   ]
  },
  {
   "cell_type": "code",
   "execution_count": null,
   "id": "d95838c6",
   "metadata": {},
   "outputs": [],
   "source": [
    "df1"
   ]
  },
  {
   "cell_type": "code",
   "execution_count": null,
   "id": "b466418d",
   "metadata": {},
   "outputs": [],
   "source": [
    "df2"
   ]
  },
  {
   "cell_type": "code",
   "execution_count": null,
   "id": "6524e08a",
   "metadata": {},
   "outputs": [],
   "source": [
    "# still doesn't work. \n",
    "df1.join(df2)"
   ]
  },
  {
   "cell_type": "code",
   "execution_count": null,
   "id": "b27cd52e",
   "metadata": {},
   "outputs": [],
   "source": [
    "# We have to define suffixes when we use join (merge did it automatically)\n",
    "df1.join(df2, lsuffix='_left',rsuffix='_right')"
   ]
  },
  {
   "cell_type": "code",
   "execution_count": null,
   "id": "e3612636",
   "metadata": {},
   "outputs": [],
   "source": [
    "# Can select different \"how\" with join\n",
    "df1.join(df2,how='outer', lsuffix='_left',rsuffix='_right')"
   ]
  },
  {
   "cell_type": "markdown",
   "id": "dff21989",
   "metadata": {},
   "source": [
    "### Concatenate"
   ]
  },
  {
   "cell_type": "code",
   "execution_count": null,
   "id": "be981d71",
   "metadata": {},
   "outputs": [],
   "source": [
    "# First lets reset the indices\n",
    "df1.reset_index(inplace=True)\n",
    "df2.reset_index(inplace=True)"
   ]
  },
  {
   "cell_type": "code",
   "execution_count": null,
   "id": "ef9971cd",
   "metadata": {},
   "outputs": [],
   "source": [
    "# A standard concatenate\n",
    "pd.concat([df1,df2])"
   ]
  },
  {
   "cell_type": "code",
   "execution_count": null,
   "id": "926ba4fe",
   "metadata": {},
   "outputs": [],
   "source": [
    "# Explicitly state how to concatenate (keep all columns that appear in either dataset)\n",
    "pd.concat([df1,df2],join='outer')"
   ]
  },
  {
   "cell_type": "code",
   "execution_count": null,
   "id": "c04ddf6b",
   "metadata": {},
   "outputs": [],
   "source": [
    "# Only keep common columns\n",
    "pd.concat([df1,df2],join='inner')"
   ]
  },
  {
   "cell_type": "code",
   "execution_count": null,
   "id": "b5d6bf94",
   "metadata": {},
   "outputs": [],
   "source": [
    "# concatenate the rows (can get very confusing if you aren't careful!)\n",
    "pd.concat([df1,df2],axis=1)"
   ]
  },
  {
   "cell_type": "code",
   "execution_count": null,
   "id": "e005d419",
   "metadata": {},
   "outputs": [],
   "source": [
    "# A better way to do that\n",
    "pd.concat([df1.set_index('Name'),df2.set_index('Name')],axis=1)"
   ]
  },
  {
   "cell_type": "code",
   "execution_count": null,
   "id": "f6eeb535",
   "metadata": {},
   "outputs": [],
   "source": [
    "# Another way\n",
    "pd.concat([df1.set_index(['Name','School']),df2.set_index(['Name','School'])],axis=1)"
   ]
  },
  {
   "cell_type": "markdown",
   "id": "c73fc1d1",
   "metadata": {},
   "source": [
    "### Compare"
   ]
  },
  {
   "cell_type": "code",
   "execution_count": null,
   "id": "544a31be",
   "metadata": {},
   "outputs": [],
   "source": [
    "# Create a similar dataframe\n",
    "df3 = df1.copy()\n",
    "df3.loc[1,'Occupation'] = 'Journalist'\n",
    "df3['Age'] = df3.Age+1\n",
    "df3"
   ]
  },
  {
   "cell_type": "code",
   "execution_count": null,
   "id": "1ed03956",
   "metadata": {},
   "outputs": [],
   "source": [
    "# Compare dataframes to spot differences\n",
    "df1.compare(df3)"
   ]
  },
  {
   "cell_type": "code",
   "execution_count": null,
   "id": "39276b42",
   "metadata": {},
   "outputs": [],
   "source": [
    "# Compare dataframes to spot similarities and differences\n",
    "df1.compare(df3,keep_equal=True)"
   ]
  },
  {
   "cell_type": "code",
   "execution_count": null,
   "id": "e0064e53",
   "metadata": {},
   "outputs": [],
   "source": [
    "# If you don't need specific information about differences\n",
    "df1.equals(df3)"
   ]
  },
  {
   "cell_type": "markdown",
   "id": "96406aec",
   "metadata": {},
   "source": [
    "## Activity"
   ]
  },
  {
   "cell_type": "markdown",
   "id": "5fd8dd3a",
   "metadata": {},
   "source": [
    "**1.** Run the following cells to read in Cal Poly Humboldt student data. Check what would happen if you did not include the `skiprows` argument."
   ]
  },
  {
   "cell_type": "code",
   "execution_count": null,
   "id": "4cf5d4e7",
   "metadata": {},
   "outputs": [],
   "source": [
    "pd.read_csv('humboldt_data/Humboldt_Passing_Fa23.csv',skiprows=5)"
   ]
  },
  {
   "cell_type": "code",
   "execution_count": null,
   "id": "4c505261",
   "metadata": {},
   "outputs": [],
   "source": [
    "passing = pd.read_csv('humboldt_data/Humboldt_Passing_Fa23.csv',skiprows=5)"
   ]
  },
  {
   "cell_type": "code",
   "execution_count": null,
   "id": "7f24383b",
   "metadata": {},
   "outputs": [],
   "source": [
    "passing.head()"
   ]
  },
  {
   "cell_type": "code",
   "execution_count": null,
   "id": "d5dcf1a3",
   "metadata": {},
   "outputs": [],
   "source": [
    "first_gen = pd.read_csv('humboldt_data/FirstGenData_Fa23.csv',skiprows=5)"
   ]
  },
  {
   "cell_type": "code",
   "execution_count": null,
   "id": "0dcb0bbb",
   "metadata": {},
   "outputs": [],
   "source": [
    "first_gen.head()"
   ]
  },
  {
   "cell_type": "markdown",
   "id": "d1c730fc",
   "metadata": {},
   "source": [
    "**2.** Merge the two dataframes. Try different `how` arguments."
   ]
  },
  {
   "cell_type": "code",
   "execution_count": null,
   "id": "181a1d8a",
   "metadata": {},
   "outputs": [],
   "source": []
  },
  {
   "cell_type": "markdown",
   "id": "e8ab99b9",
   "metadata": {},
   "source": [
    "**3.** Recreate the figure from the discussion question."
   ]
  },
  {
   "cell_type": "code",
   "execution_count": null,
   "id": "ab67f6ed",
   "metadata": {},
   "outputs": [],
   "source": []
  },
  {
   "cell_type": "markdown",
   "id": "5f5473f4",
   "metadata": {},
   "source": [
    "**4.** There are additional datasets related to Cal Poly Humboldt students from Fall 2023 in the `humboldt_data` folder in this directory. Choose one or more to combine with `passing` and `first_gen`. "
   ]
  },
  {
   "cell_type": "code",
   "execution_count": null,
   "id": "b3789093",
   "metadata": {},
   "outputs": [],
   "source": []
  }
 ],
 "metadata": {
  "kernelspec": {
   "display_name": "Python 3 (ipykernel)",
   "language": "python",
   "name": "python3"
  },
  "language_info": {
   "codemirror_mode": {
    "name": "ipython",
    "version": 3
   },
   "file_extension": ".py",
   "mimetype": "text/x-python",
   "name": "python",
   "nbconvert_exporter": "python",
   "pygments_lexer": "ipython3",
   "version": "3.11.4"
  }
 },
 "nbformat": 4,
 "nbformat_minor": 5
}
