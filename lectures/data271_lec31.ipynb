{
 "cells": [
  {
   "cell_type": "markdown",
   "id": "bd035d4a",
   "metadata": {},
   "source": [
    "# Web Scraping\n",
    "If you want to type along with me, use [this notebook](https://humboldt.cloudbank.2i2c.cloud/hub/user-redirect/git-pull?repo=https%3A%2F%2Fgithub.com%2Fbethanyj0%2Fdata271_sp24&branch=main&urlpath=tree%2Fdata271_sp24%2Fdemos%2Fdata271_demo31_live.ipynb) instead. \n",
    "If you don't want to type and want to follow along just by executing the cells, stay in this notebook. "
   ]
  },
  {
   "cell_type": "code",
   "execution_count": 1,
   "id": "26e99e3b",
   "metadata": {},
   "outputs": [],
   "source": [
    "import numpy as np\n",
    "import pandas as pd"
   ]
  },
  {
   "cell_type": "markdown",
   "id": "eb858da6",
   "metadata": {},
   "source": [
    "## Scraping a very basic webpage"
   ]
  },
  {
   "cell_type": "code",
   "execution_count": 2,
   "id": "a63804f0",
   "metadata": {},
   "outputs": [],
   "source": [
    "# Whenever you want to scrape a website without an API\n",
    "import requests\n",
    "from bs4 import BeautifulSoup"
   ]
  },
  {
   "cell_type": "markdown",
   "id": "0bc3696c",
   "metadata": {},
   "source": [
    "BeautifulSoup documentation [here](https://www.crummy.com/software/BeautifulSoup/bs4/doc/).\n",
    "\n",
    "\n",
    "Let's look [this](https://web.ics.purdue.edu/~gchopra/class/public/pages/webdesign/05_simple.html) very simple webpage."
   ]
  },
  {
   "cell_type": "code",
   "execution_count": 9,
   "id": "d2d7adea",
   "metadata": {},
   "outputs": [],
   "source": [
    "# Get the content of a website\n",
    "site = requests.get('https://web.ics.purdue.edu/~gchopra/class/public/pages/webdesign/05_simple.html')"
   ]
  },
  {
   "cell_type": "code",
   "execution_count": 10,
   "id": "7329ee21",
   "metadata": {},
   "outputs": [
    {
     "data": {
      "text/plain": [
       "requests.models.Response"
      ]
     },
     "execution_count": 10,
     "metadata": {},
     "output_type": "execute_result"
    }
   ],
   "source": [
    "# What did we just get?\n",
    "type(site)"
   ]
  },
  {
   "cell_type": "code",
   "execution_count": 11,
   "id": "c44daa59",
   "metadata": {},
   "outputs": [
    {
     "data": {
      "text/plain": [
       "200"
      ]
     },
     "execution_count": 11,
     "metadata": {},
     "output_type": "execute_result"
    }
   ],
   "source": [
    "# Check the status\n",
    "site.status_code"
   ]
  },
  {
   "cell_type": "code",
   "execution_count": 12,
   "id": "e0a88fa9",
   "metadata": {},
   "outputs": [
    {
     "data": {
      "text/plain": [
       "'<html>\\n\\n<head>\\n<title>A very simple webpage</title>\\n<basefont size=4>\\n</head>\\n\\n<body bgcolor=FFFFFF>\\n\\n<h1>A very simple webpage. This is an \"h1\" level header.</h1>\\n\\n<h2>This is a level h2 header.</h2>\\n\\n<h6>This is a level h6 header.  Pretty small!</h6>\\n\\n<p>This is a standard paragraph.</p>\\n\\n<p align=center>Now I\\'ve aligned it in the center of the screen.</p>\\n\\n<p align=right>Now aligned to the right</p>\\n\\n<p><b>Bold text</b></p>\\n\\n<p><strong>Strongly emphasized text</strong>  Can you tell the difference vs. bold?</p>\\n\\n<p><i>Italics</i></p>\\n\\n<p><em>Emphasized text</em>  Just like Italics!</p>\\n\\n<p>Here is a pretty picture: <img src=example/prettypicture.jpg alt=\"Pretty Picture\"></p>\\n\\n<p>Same thing, aligned differently to the paragraph: <img align=top src=example/prettypicture.jpg alt=\"Pretty Picture\"></p>\\n\\n<hr>\\n\\n<h2>How about a nice ordered list!</h2>\\n<ol>\\n  <li>This little piggy went to market\\n  <li>This little piggy went to SB228 class\\n  <li>This little piggy went to an expensive restaurant in Downtown Palo Alto\\n  <li>This little piggy ate too much at Indian Buffet.\\n  <li>This little piggy got lost\\n</ol>\\n\\n<h2>Unordered list</h2>\\n<ul>\\n  <li>First element\\n  <li>Second element\\n  <li>Third element\\n</ul>\\n\\n<hr>\\n\\n<h2>Nested Lists!</h2>\\n<ul>\\n  <li>Things to to today:\\n    <ol>\\n      <li>Walk the dog\\n      <li>Feed the cat\\n      <li>Mow the lawn\\n    </ol>\\n  <li>Things to do tomorrow:\\n    <ol>\\n      <li>Lunch with mom\\n      <li>Feed the hamster\\n      <li>Clean kitchen\\n    </ol>\\n</ul>\\n\\n<p>And finally, how about some <a href=http://www.yahoo.com/>Links?</a></p>\\n\\n<p>Or let\\'s just link to <a href=../../index.html>another page on this server</a></p>\\n\\n<p>Remember, you can view the HTMl code from this or any other page by using the \"View Page Source\" command of your browser.</p>\\n\\n</body>\\n\\n</html>\\n'"
      ]
     },
     "execution_count": 12,
     "metadata": {},
     "output_type": "execute_result"
    }
   ],
   "source": [
    "# inspect the contents\n",
    "site.text\n",
    "# messy!"
   ]
  },
  {
   "cell_type": "code",
   "execution_count": 13,
   "id": "ce69bc1e",
   "metadata": {},
   "outputs": [],
   "source": [
    "# Let's beautify this and make it easier to parse\n",
    "soup = BeautifulSoup(site.text)"
   ]
  },
  {
   "cell_type": "code",
   "execution_count": 14,
   "id": "c424aa8b",
   "metadata": {},
   "outputs": [
    {
     "data": {
      "text/plain": [
       "<html>\n",
       "<head>\n",
       "<title>A very simple webpage</title>\n",
       "<basefont size=\"4\"/>\n",
       "</head>\n",
       "<body bgcolor=\"FFFFFF\">\n",
       "<h1>A very simple webpage. This is an \"h1\" level header.</h1>\n",
       "<h2>This is a level h2 header.</h2>\n",
       "<h6>This is a level h6 header.  Pretty small!</h6>\n",
       "<p>This is a standard paragraph.</p>\n",
       "<p align=\"center\">Now I've aligned it in the center of the screen.</p>\n",
       "<p align=\"right\">Now aligned to the right</p>\n",
       "<p><b>Bold text</b></p>\n",
       "<p><strong>Strongly emphasized text</strong>  Can you tell the difference vs. bold?</p>\n",
       "<p><i>Italics</i></p>\n",
       "<p><em>Emphasized text</em>  Just like Italics!</p>\n",
       "<p>Here is a pretty picture: <img alt=\"Pretty Picture\" src=\"example/prettypicture.jpg\"/></p>\n",
       "<p>Same thing, aligned differently to the paragraph: <img align=\"top\" alt=\"Pretty Picture\" src=\"example/prettypicture.jpg\"/></p>\n",
       "<hr/>\n",
       "<h2>How about a nice ordered list!</h2>\n",
       "<ol>\n",
       "<li>This little piggy went to market\n",
       "  </li><li>This little piggy went to SB228 class\n",
       "  </li><li>This little piggy went to an expensive restaurant in Downtown Palo Alto\n",
       "  </li><li>This little piggy ate too much at Indian Buffet.\n",
       "  </li><li>This little piggy got lost\n",
       "</li></ol>\n",
       "<h2>Unordered list</h2>\n",
       "<ul>\n",
       "<li>First element\n",
       "  </li><li>Second element\n",
       "  </li><li>Third element\n",
       "</li></ul>\n",
       "<hr/>\n",
       "<h2>Nested Lists!</h2>\n",
       "<ul>\n",
       "<li>Things to to today:\n",
       "    <ol>\n",
       "<li>Walk the dog\n",
       "      </li><li>Feed the cat\n",
       "      </li><li>Mow the lawn\n",
       "    </li></ol>\n",
       "</li><li>Things to do tomorrow:\n",
       "    <ol>\n",
       "<li>Lunch with mom\n",
       "      </li><li>Feed the hamster\n",
       "      </li><li>Clean kitchen\n",
       "    </li></ol>\n",
       "</li></ul>\n",
       "<p>And finally, how about some <a href=\"http://www.yahoo.com/\">Links?</a></p>\n",
       "<p>Or let's just link to <a href=\"../../index.html\">another page on this server</a></p>\n",
       "<p>Remember, you can view the HTMl code from this or any other page by using the \"View Page Source\" command of your browser.</p>\n",
       "</body>\n",
       "</html>"
      ]
     },
     "execution_count": 14,
     "metadata": {},
     "output_type": "execute_result"
    }
   ],
   "source": [
    "# What does our soup look like?\n",
    "soup"
   ]
  },
  {
   "cell_type": "code",
   "execution_count": 15,
   "id": "59eb06cf",
   "metadata": {},
   "outputs": [
    {
     "name": "stdout",
     "output_type": "stream",
     "text": [
      "<html>\n",
      " <head>\n",
      "  <title>\n",
      "   A very simple webpage\n",
      "  </title>\n",
      "  <basefont size=\"4\"/>\n",
      " </head>\n",
      " <body bgcolor=\"FFFFFF\">\n",
      "  <h1>\n",
      "   A very simple webpage. This is an \"h1\" level header.\n",
      "  </h1>\n",
      "  <h2>\n",
      "   This is a level h2 header.\n",
      "  </h2>\n",
      "  <h6>\n",
      "   This is a level h6 header.  Pretty small!\n",
      "  </h6>\n",
      "  <p>\n",
      "   This is a standard paragraph.\n",
      "  </p>\n",
      "  <p align=\"center\">\n",
      "   Now I've aligned it in the center of the screen.\n",
      "  </p>\n",
      "  <p align=\"right\">\n",
      "   Now aligned to the right\n",
      "  </p>\n",
      "  <p>\n",
      "   <b>\n",
      "    Bold text\n",
      "   </b>\n",
      "  </p>\n",
      "  <p>\n",
      "   <strong>\n",
      "    Strongly emphasized text\n",
      "   </strong>\n",
      "   Can you tell the difference vs. bold?\n",
      "  </p>\n",
      "  <p>\n",
      "   <i>\n",
      "    Italics\n",
      "   </i>\n",
      "  </p>\n",
      "  <p>\n",
      "   <em>\n",
      "    Emphasized text\n",
      "   </em>\n",
      "   Just like Italics!\n",
      "  </p>\n",
      "  <p>\n",
      "   Here is a pretty picture:\n",
      "   <img alt=\"Pretty Picture\" src=\"example/prettypicture.jpg\"/>\n",
      "  </p>\n",
      "  <p>\n",
      "   Same thing, aligned differently to the paragraph:\n",
      "   <img align=\"top\" alt=\"Pretty Picture\" src=\"example/prettypicture.jpg\"/>\n",
      "  </p>\n",
      "  <hr/>\n",
      "  <h2>\n",
      "   How about a nice ordered list!\n",
      "  </h2>\n",
      "  <ol>\n",
      "   <li>\n",
      "    This little piggy went to market\n",
      "   </li>\n",
      "   <li>\n",
      "    This little piggy went to SB228 class\n",
      "   </li>\n",
      "   <li>\n",
      "    This little piggy went to an expensive restaurant in Downtown Palo Alto\n",
      "   </li>\n",
      "   <li>\n",
      "    This little piggy ate too much at Indian Buffet.\n",
      "   </li>\n",
      "   <li>\n",
      "    This little piggy got lost\n",
      "   </li>\n",
      "  </ol>\n",
      "  <h2>\n",
      "   Unordered list\n",
      "  </h2>\n",
      "  <ul>\n",
      "   <li>\n",
      "    First element\n",
      "   </li>\n",
      "   <li>\n",
      "    Second element\n",
      "   </li>\n",
      "   <li>\n",
      "    Third element\n",
      "   </li>\n",
      "  </ul>\n",
      "  <hr/>\n",
      "  <h2>\n",
      "   Nested Lists!\n",
      "  </h2>\n",
      "  <ul>\n",
      "   <li>\n",
      "    Things to to today:\n",
      "    <ol>\n",
      "     <li>\n",
      "      Walk the dog\n",
      "     </li>\n",
      "     <li>\n",
      "      Feed the cat\n",
      "     </li>\n",
      "     <li>\n",
      "      Mow the lawn\n",
      "     </li>\n",
      "    </ol>\n",
      "   </li>\n",
      "   <li>\n",
      "    Things to do tomorrow:\n",
      "    <ol>\n",
      "     <li>\n",
      "      Lunch with mom\n",
      "     </li>\n",
      "     <li>\n",
      "      Feed the hamster\n",
      "     </li>\n",
      "     <li>\n",
      "      Clean kitchen\n",
      "     </li>\n",
      "    </ol>\n",
      "   </li>\n",
      "  </ul>\n",
      "  <p>\n",
      "   And finally, how about some\n",
      "   <a href=\"http://www.yahoo.com/\">\n",
      "    Links?\n",
      "   </a>\n",
      "  </p>\n",
      "  <p>\n",
      "   Or let's just link to\n",
      "   <a href=\"../../index.html\">\n",
      "    another page on this server\n",
      "   </a>\n",
      "  </p>\n",
      "  <p>\n",
      "   Remember, you can view the HTMl code from this or any other page by using the \"View Page Source\" command of your browser.\n",
      "  </p>\n",
      " </body>\n",
      "</html>\n",
      "\n"
     ]
    }
   ],
   "source": [
    "# Make it even prettier\n",
    "print(soup.prettify())"
   ]
  },
  {
   "cell_type": "markdown",
   "id": "78a2e336",
   "metadata": {},
   "source": [
    "### Parse the html"
   ]
  },
  {
   "cell_type": "code",
   "execution_count": null,
   "id": "8bf3f817",
   "metadata": {},
   "outputs": [],
   "source": [
    "# Find a level 1 header\n",
    "soup.find('h1')"
   ]
  },
  {
   "cell_type": "code",
   "execution_count": null,
   "id": "a6ebe02f",
   "metadata": {},
   "outputs": [],
   "source": [
    "# Find a level 2 header\n",
    "soup.find('h2')"
   ]
  },
  {
   "cell_type": "code",
   "execution_count": null,
   "id": "68d141f3",
   "metadata": {},
   "outputs": [],
   "source": [
    "# Find all the level 2 headers\n",
    "soup.find_all('h2')"
   ]
  },
  {
   "cell_type": "code",
   "execution_count": null,
   "id": "f78a3046",
   "metadata": {},
   "outputs": [],
   "source": [
    "# Find all the level 3 headers\n",
    "soup.find_all('h3')\n",
    "# There were none."
   ]
  },
  {
   "cell_type": "code",
   "execution_count": null,
   "id": "dbb0ede7",
   "metadata": {},
   "outputs": [],
   "source": [
    "# Find all the paragraphs\n",
    "soup.find_all('p')"
   ]
  },
  {
   "cell_type": "code",
   "execution_count": null,
   "id": "fa07d4cc",
   "metadata": {},
   "outputs": [],
   "source": [
    "# Find all the hyperlinks\n",
    "soup.find_all('a')"
   ]
  },
  {
   "cell_type": "code",
   "execution_count": null,
   "id": "75042ed9",
   "metadata": {},
   "outputs": [],
   "source": [
    "# Get the links\n",
    "soup.find('a')['href']"
   ]
  },
  {
   "cell_type": "code",
   "execution_count": null,
   "id": "d74a2321",
   "metadata": {},
   "outputs": [],
   "source": [
    "# Get the text for the hyperlink\n",
    "soup.find('a').text"
   ]
  },
  {
   "cell_type": "code",
   "execution_count": null,
   "id": "910bcddb",
   "metadata": {},
   "outputs": [],
   "source": [
    "# Get all the list items\n",
    "soup.find_all('li')"
   ]
  },
  {
   "cell_type": "code",
   "execution_count": null,
   "id": "870d3679",
   "metadata": {},
   "outputs": [],
   "source": [
    "# Specifically get the ordered lists\n",
    "soup.find_all('ol')"
   ]
  },
  {
   "cell_type": "code",
   "execution_count": null,
   "id": "76dd1921",
   "metadata": {},
   "outputs": [],
   "source": [
    "# Specifically get the unordered lists\n",
    "soup.find_all('ul')"
   ]
  },
  {
   "cell_type": "markdown",
   "id": "a208cd85",
   "metadata": {},
   "source": [
    "## Another example"
   ]
  },
  {
   "cell_type": "markdown",
   "id": "1d493169",
   "metadata": {},
   "source": [
    "Let's check out [this](https://irar.humboldt.edu/node/552) Cal Poly Humboldt website."
   ]
  },
  {
   "cell_type": "code",
   "execution_count": null,
   "id": "6841bcdf",
   "metadata": {},
   "outputs": [],
   "source": [
    "# Get the data\n",
    "cph_stats = requests.get('https://irar.humboldt.edu/node/552')\n",
    "cph_stats.status_code"
   ]
  },
  {
   "cell_type": "code",
   "execution_count": null,
   "id": "4eef15d2",
   "metadata": {},
   "outputs": [],
   "source": [
    "# Beautify the data\n",
    "cph_soup = BeautifulSoup(cph_stats.text, 'html.parser')"
   ]
  },
  {
   "cell_type": "code",
   "execution_count": null,
   "id": "8e646b26",
   "metadata": {},
   "outputs": [],
   "source": [
    "# Pretty!\n",
    "print(cph_soup.prettify())"
   ]
  },
  {
   "cell_type": "code",
   "execution_count": null,
   "id": "d8b2af76",
   "metadata": {},
   "outputs": [],
   "source": [
    "# check for specific tags\n",
    "cph_soup.find_all('a')"
   ]
  },
  {
   "cell_type": "code",
   "execution_count": null,
   "id": "bd4674a8",
   "metadata": {},
   "outputs": [],
   "source": [
    "# refine the search with css selectors\n",
    "cph_soup.find_all('a', class_ = \"expanded\")"
   ]
  },
  {
   "cell_type": "code",
   "execution_count": null,
   "id": "4aa3dba1",
   "metadata": {},
   "outputs": [],
   "source": [
    "# A shorthand way of searching that\n",
    "cph_soup.select('a.expanded')"
   ]
  },
  {
   "cell_type": "code",
   "execution_count": null,
   "id": "2bdf3263",
   "metadata": {},
   "outputs": [],
   "source": [
    "# How many tables are there?\n",
    "len(cph_soup.find_all('table'))"
   ]
  },
  {
   "cell_type": "code",
   "execution_count": null,
   "id": "d3202091",
   "metadata": {},
   "outputs": [],
   "source": [
    "# Tables are labeled with h3 headers\n",
    "cph_soup.find_all('h3')"
   ]
  },
  {
   "cell_type": "code",
   "execution_count": null,
   "id": "8c67f0e8",
   "metadata": {},
   "outputs": [],
   "source": [
    "# Let's just focus on one of the tables\n",
    "student_ethnicity_table = cph_soup.find_all('table')[3]"
   ]
  },
  {
   "cell_type": "code",
   "execution_count": null,
   "id": "0921e963",
   "metadata": {},
   "outputs": [],
   "source": [
    "# Look at the rows\n",
    "student_ethnicity_table.find_all('tr')"
   ]
  },
  {
   "cell_type": "code",
   "execution_count": null,
   "id": "2e6fee26",
   "metadata": {},
   "outputs": [],
   "source": [
    "# Look at a single row\n",
    "student_ethnicity_table.find_all('tr')[0]"
   ]
  },
  {
   "cell_type": "code",
   "execution_count": null,
   "id": "3952654f",
   "metadata": {},
   "outputs": [],
   "source": [
    "# Look at all the data points in that row\n",
    "student_ethnicity_table.find_all('tr')[0].find_all('td')"
   ]
  },
  {
   "cell_type": "code",
   "execution_count": null,
   "id": "35376b2f",
   "metadata": {},
   "outputs": [],
   "source": [
    "# Look at one specific data point\n",
    "student_ethnicity_table.find_all('tr')[0].find_all('td')[1]"
   ]
  },
  {
   "cell_type": "code",
   "execution_count": null,
   "id": "ef6376fd",
   "metadata": {},
   "outputs": [],
   "source": [
    "# Get the text of that data point \n",
    "student_ethnicity_table.find_all('tr')[0].find_all('td')[1].text"
   ]
  },
  {
   "cell_type": "markdown",
   "id": "9a0ef1b4",
   "metadata": {},
   "source": [
    "### Create a Pandas DataFrame"
   ]
  },
  {
   "cell_type": "code",
   "execution_count": null,
   "id": "7db1cdbf",
   "metadata": {},
   "outputs": [],
   "source": [
    "# Create a nested list with the data\n",
    "table_vals = []\n",
    "\n",
    "for i in student_ethnicity_table.find_all('tr'):\n",
    "    row_i = []\n",
    "    for j in i.find_all('td'):\n",
    "        row_i.append(j.text)\n",
    "    table_vals.append(row_i)"
   ]
  },
  {
   "cell_type": "code",
   "execution_count": null,
   "id": "9fecff70",
   "metadata": {},
   "outputs": [],
   "source": [
    "# Check out the result\n",
    "table_vals"
   ]
  },
  {
   "cell_type": "code",
   "execution_count": null,
   "id": "28a5b4e3",
   "metadata": {},
   "outputs": [],
   "source": [
    "# Make it a dataframe\n",
    "df = pd.DataFrame(table_vals)\n",
    "df"
   ]
  },
  {
   "cell_type": "code",
   "execution_count": null,
   "id": "65224b72",
   "metadata": {},
   "outputs": [],
   "source": [
    "# Clean it up (reset column labels)\n",
    "df.columns = df.iloc[0]\n",
    "df.drop(0,inplace=True)\n",
    "df"
   ]
  },
  {
   "cell_type": "code",
   "execution_count": null,
   "id": "53a45d0a",
   "metadata": {},
   "outputs": [],
   "source": [
    "# Clean it up (reset row labels)\n",
    "df.set_index('',inplace=True)"
   ]
  },
  {
   "cell_type": "code",
   "execution_count": null,
   "id": "da03c444",
   "metadata": {},
   "outputs": [],
   "source": [
    "df"
   ]
  },
  {
   "cell_type": "code",
   "execution_count": null,
   "id": "c5aaa6c1",
   "metadata": {},
   "outputs": [],
   "source": [
    "# Would require further cleanup\n",
    "df.dtypes"
   ]
  },
  {
   "cell_type": "markdown",
   "id": "b2ebab06",
   "metadata": {},
   "source": [
    "## Activity"
   ]
  },
  {
   "cell_type": "markdown",
   "id": "fc2f8727",
   "metadata": {},
   "source": [
    "1. From the same webpage we scraped last (Cal Poly Humboldt IRAR), put the data in the Fall 2023 Geographic Origin of Current Students. Table into a Pandas DataFrame."
   ]
  },
  {
   "cell_type": "code",
   "execution_count": null,
   "id": "a6ce7284",
   "metadata": {},
   "outputs": [],
   "source": []
  }
 ],
 "metadata": {
  "kernelspec": {
   "display_name": "Python 3 (ipykernel)",
   "language": "python",
   "name": "python3"
  },
  "language_info": {
   "codemirror_mode": {
    "name": "ipython",
    "version": 3
   },
   "file_extension": ".py",
   "mimetype": "text/x-python",
   "name": "python",
   "nbconvert_exporter": "python",
   "pygments_lexer": "ipython3",
   "version": "3.11.4"
  }
 },
 "nbformat": 4,
 "nbformat_minor": 5
}
