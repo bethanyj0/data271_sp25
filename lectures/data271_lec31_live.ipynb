{
 "cells": [
  {
   "cell_type": "markdown",
   "id": "bd035d4a",
   "metadata": {},
   "source": [
    "# Web Scraping\n",
    "If you want to type along with me, use [this notebook](https://humboldt.cloudbank.2i2c.cloud/hub/user-redirect/git-pull?repo=https%3A%2F%2Fgithub.com%2Fbethanyj0%2Fdata271_sp24&branch=main&urlpath=tree%2Fdata271_sp24%2Fdemos%2Fdata271_demo31_live.ipynb) instead. \n",
    "If you don't want to type and want to follow along just by executing the cells, stay in this notebook. "
   ]
  },
  {
   "cell_type": "code",
   "execution_count": null,
   "id": "26e99e3b",
   "metadata": {},
   "outputs": [],
   "source": [
    "import numpy as np\n",
    "import pandas as pd"
   ]
  },
  {
   "cell_type": "markdown",
   "id": "eb858da6",
   "metadata": {},
   "source": [
    "## Scraping a very basic webpage"
   ]
  },
  {
   "cell_type": "code",
   "execution_count": null,
   "id": "dbb3516b",
   "metadata": {},
   "outputs": [],
   "source": [
    "# Whenever you want to scrape a website without an API\n"
   ]
  },
  {
   "cell_type": "markdown",
   "id": "ea757696",
   "metadata": {},
   "source": [
    "BeautifulSoup documentation [here](https://www.crummy.com/software/BeautifulSoup/bs4/doc/).\n",
    "\n",
    "\n",
    "Let's look [this](https://bethanyj0.github.io/) very simple webpage."
   ]
  },
  {
   "cell_type": "code",
   "execution_count": null,
   "id": "b97216de",
   "metadata": {},
   "outputs": [],
   "source": [
    "# Get the content of a website\n",
    "site = requests.get('https://bethanyj0.github.io/')"
   ]
  },
  {
   "cell_type": "code",
   "execution_count": null,
   "id": "0b39b750",
   "metadata": {},
   "outputs": [],
   "source": [
    "# What did we just get?\n"
   ]
  },
  {
   "cell_type": "code",
   "execution_count": null,
   "id": "3864a8bf",
   "metadata": {},
   "outputs": [],
   "source": [
    "# Check the status\n"
   ]
  },
  {
   "cell_type": "code",
   "execution_count": null,
   "id": "475ebe00",
   "metadata": {},
   "outputs": [],
   "source": [
    "# inspect the contents\n",
    "\n",
    "# messy!"
   ]
  },
  {
   "cell_type": "code",
   "execution_count": null,
   "id": "b75566e8",
   "metadata": {},
   "outputs": [],
   "source": [
    "# Let's beautify this and make it easier to parse\n",
    "soup = "
   ]
  },
  {
   "cell_type": "code",
   "execution_count": null,
   "id": "89dd67cb",
   "metadata": {},
   "outputs": [],
   "source": [
    "# What does our soup look like?\n",
    "soup"
   ]
  },
  {
   "cell_type": "code",
   "execution_count": null,
   "id": "344512b1",
   "metadata": {},
   "outputs": [],
   "source": [
    "# Make it even prettier\n"
   ]
  },
  {
   "cell_type": "markdown",
   "id": "a43281b2",
   "metadata": {},
   "source": [
    "### Parse the html"
   ]
  },
  {
   "cell_type": "code",
   "execution_count": null,
   "id": "7559e96c",
   "metadata": {},
   "outputs": [],
   "source": [
    "# Find a level 1 header\n"
   ]
  },
  {
   "cell_type": "code",
   "execution_count": null,
   "id": "bc9a1156",
   "metadata": {},
   "outputs": [],
   "source": [
    "# Find a level 2 header\n",
    "soup.find('')"
   ]
  },
  {
   "cell_type": "code",
   "execution_count": null,
   "id": "3eea0712",
   "metadata": {},
   "outputs": [],
   "source": [
    "# Find all the level 2 headers\n"
   ]
  },
  {
   "cell_type": "code",
   "execution_count": null,
   "id": "3a290483",
   "metadata": {},
   "outputs": [],
   "source": [
    "# Find all the level 3 headers\n",
    "soup.find_all('')\n",
    "# There were none."
   ]
  },
  {
   "cell_type": "code",
   "execution_count": null,
   "id": "a66f6539",
   "metadata": {},
   "outputs": [],
   "source": [
    "# Find all the paragraphs\n",
    "soup.find_all('')"
   ]
  },
  {
   "cell_type": "code",
   "execution_count": null,
   "id": "39267436",
   "metadata": {},
   "outputs": [],
   "source": [
    "# Find all the hyperlinks\n",
    "soup.find_all('')"
   ]
  },
  {
   "cell_type": "code",
   "execution_count": null,
   "id": "28607a67",
   "metadata": {},
   "outputs": [],
   "source": [
    "# Get the links\n",
    "soup.find('a')['']"
   ]
  },
  {
   "cell_type": "code",
   "execution_count": null,
   "id": "f1b8e949",
   "metadata": {},
   "outputs": [],
   "source": [
    "# Get the text for the hyperlink\n",
    "soup.find('a')..."
   ]
  },
  {
   "cell_type": "code",
   "execution_count": null,
   "id": "d79fdc6d",
   "metadata": {},
   "outputs": [],
   "source": [
    "# Get all the list items\n",
    "soup.find_all('')"
   ]
  },
  {
   "cell_type": "code",
   "execution_count": null,
   "id": "7e2bca89",
   "metadata": {},
   "outputs": [],
   "source": [
    "# Specifically get the ordered lists\n",
    "soup.find_all('')"
   ]
  },
  {
   "cell_type": "code",
   "execution_count": null,
   "id": "40df3d6f",
   "metadata": {},
   "outputs": [],
   "source": [
    "# Specifically get the unordered lists\n",
    "soup.find_all('')"
   ]
  },
  {
   "cell_type": "markdown",
   "id": "b8c11588",
   "metadata": {},
   "source": [
    "## Another example"
   ]
  },
  {
   "cell_type": "markdown",
   "id": "47b2cb0b",
   "metadata": {},
   "source": [
    "Let's check out [this](https://irar.humboldt.edu/node/552) Cal Poly Humboldt website."
   ]
  },
  {
   "cell_type": "code",
   "execution_count": null,
   "id": "c73d378f",
   "metadata": {},
   "outputs": [],
   "source": [
    "# Get the data\n",
    "cph_stats = requests.get('https://irar.humboldt.edu/node/552')\n",
    "cph_stats.status_code"
   ]
  },
  {
   "cell_type": "code",
   "execution_count": null,
   "id": "281ca091",
   "metadata": {},
   "outputs": [],
   "source": [
    "# Beautify the data\n",
    "cph_soup = BeautifulSoup(cph_stats.text, 'html.parser')"
   ]
  },
  {
   "cell_type": "code",
   "execution_count": null,
   "id": "9e10d8ca",
   "metadata": {},
   "outputs": [],
   "source": [
    "# Pretty!\n",
    "print(cph_soup.prettify())"
   ]
  },
  {
   "cell_type": "code",
   "execution_count": null,
   "id": "e3490904",
   "metadata": {},
   "outputs": [],
   "source": [
    "# check for specific tags\n",
    "cph_soup.find_all('a')"
   ]
  },
  {
   "cell_type": "code",
   "execution_count": null,
   "id": "26d80719",
   "metadata": {},
   "outputs": [],
   "source": [
    "# refine the search with css selectors\n",
    "cph_soup.find_all('a', ...)"
   ]
  },
  {
   "cell_type": "code",
   "execution_count": null,
   "id": "633fba62",
   "metadata": {},
   "outputs": [],
   "source": [
    "# A shorthand way of searching that\n",
    "cph_soup.select(...)"
   ]
  },
  {
   "cell_type": "code",
   "execution_count": null,
   "id": "9cb23a8c",
   "metadata": {},
   "outputs": [],
   "source": [
    "# How many tables are there?\n"
   ]
  },
  {
   "cell_type": "code",
   "execution_count": null,
   "id": "0d6413e8",
   "metadata": {},
   "outputs": [],
   "source": [
    "# Tables are labeled with h3 headers\n",
    "cph_soup.find_all('h3')"
   ]
  },
  {
   "cell_type": "code",
   "execution_count": null,
   "id": "e4bc3b8e",
   "metadata": {},
   "outputs": [],
   "source": [
    "# Let's just focus on one of the tables\n",
    "student_ethnicity_table = cph_soup.find_all('table')[3]"
   ]
  },
  {
   "cell_type": "code",
   "execution_count": null,
   "id": "7fbe3ca5",
   "metadata": {},
   "outputs": [],
   "source": [
    "# Look at the rows\n",
    "student_ethnicity_table.find_all('')"
   ]
  },
  {
   "cell_type": "code",
   "execution_count": null,
   "id": "af8a4e06",
   "metadata": {},
   "outputs": [],
   "source": [
    "# Look at a single row\n",
    "student_ethnicity_table.find_all('tr')"
   ]
  },
  {
   "cell_type": "code",
   "execution_count": null,
   "id": "1312d4fa",
   "metadata": {},
   "outputs": [],
   "source": [
    "# Look at all the data points in that row\n",
    "student_ethnicity_table.find_all('')[0]."
   ]
  },
  {
   "cell_type": "code",
   "execution_count": null,
   "id": "6f151bea",
   "metadata": {},
   "outputs": [],
   "source": [
    "# Look at one specific data point\n",
    "student_ethnicity_table.find_all('tr')[0].find_all('td')"
   ]
  },
  {
   "cell_type": "code",
   "execution_count": null,
   "id": "96de8170",
   "metadata": {},
   "outputs": [],
   "source": [
    "# Get the text of that data point \n",
    "student_ethnicity_table.find_all('tr')[0].find_all('td')[1]"
   ]
  },
  {
   "cell_type": "markdown",
   "id": "edd13ada",
   "metadata": {},
   "source": [
    "### Create a Pandas DataFrame"
   ]
  },
  {
   "cell_type": "code",
   "execution_count": null,
   "id": "1b5c9c5f",
   "metadata": {},
   "outputs": [],
   "source": [
    "# Create a nested list with the data\n",
    "table_vals = ...\n",
    "\n",
    "for ... in ...:\n",
    "    row_i = ...\n",
    "    for ... in ...:\n",
    "        ...\n",
    "    ..."
   ]
  },
  {
   "cell_type": "code",
   "execution_count": null,
   "id": "0b64afba",
   "metadata": {},
   "outputs": [],
   "source": [
    "# Check out the result\n",
    "table_vals"
   ]
  },
  {
   "cell_type": "code",
   "execution_count": null,
   "id": "e553f7ae",
   "metadata": {},
   "outputs": [],
   "source": [
    "# Make it a dataframe\n",
    "df = pd.DataFrame(table_vals)\n",
    "df"
   ]
  },
  {
   "cell_type": "code",
   "execution_count": null,
   "id": "eff62c3a",
   "metadata": {},
   "outputs": [],
   "source": [
    "# Clean it up (reset column labels)\n",
    "df.columns = df.iloc[0]\n",
    "df.drop(0,inplace=True)\n",
    "df"
   ]
  },
  {
   "cell_type": "code",
   "execution_count": null,
   "id": "a9a0217d",
   "metadata": {},
   "outputs": [],
   "source": [
    "# Clean it up (reset row labels)\n",
    "df.set_index('',inplace=True)"
   ]
  },
  {
   "cell_type": "code",
   "execution_count": null,
   "id": "086437c2",
   "metadata": {},
   "outputs": [],
   "source": [
    "df"
   ]
  },
  {
   "cell_type": "code",
   "execution_count": null,
   "id": "8c201981",
   "metadata": {},
   "outputs": [],
   "source": [
    "# Would require further cleanup\n",
    "df.dtypes"
   ]
  },
  {
   "cell_type": "markdown",
   "id": "2a444f03",
   "metadata": {},
   "source": [
    "## Activity"
   ]
  },
  {
   "cell_type": "markdown",
   "id": "ee2a2a12",
   "metadata": {},
   "source": [
    "1. From the same webpage we scraped last (Cal Poly Humboldt IRAR), put the data in the Fall 2023 Geographic Origin of Current Students. Table into a Pandas DataFrame."
   ]
  },
  {
   "cell_type": "code",
   "execution_count": null,
   "id": "edc16e6d",
   "metadata": {},
   "outputs": [],
   "source": []
  }
 ],
 "metadata": {
  "kernelspec": {
   "display_name": "Python 3 (ipykernel)",
   "language": "python",
   "name": "python3"
  },
  "language_info": {
   "codemirror_mode": {
    "name": "ipython",
    "version": 3
   },
   "file_extension": ".py",
   "mimetype": "text/x-python",
   "name": "python",
   "nbconvert_exporter": "python",
   "pygments_lexer": "ipython3",
   "version": "3.11.4"
  }
 },
 "nbformat": 4,
 "nbformat_minor": 5
}
