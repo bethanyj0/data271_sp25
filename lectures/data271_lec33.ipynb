{
 "cells": [
  {
   "cell_type": "markdown",
   "id": "bd035d4a",
   "metadata": {},
   "source": [
    "# Tidy Data\n",
    "If you want to type along with me, use [this notebook](https://humboldt.cloudbank.2i2c.cloud/hub/user-redirect/git-pull?repo=https%3A%2F%2Fgithub.com%2Fbethanyj0%2Fdata271_sp24&branch=main&urlpath=tree%2Fdata271_sp24%2Fdemos%2Fdata271_demo33_live.ipynb) instead. \n",
    "If you don't want to type and want to follow along just by executing the cells, stay in this notebook. "
   ]
  },
  {
   "cell_type": "code",
   "execution_count": null,
   "id": "26e99e3b",
   "metadata": {},
   "outputs": [],
   "source": [
    "import numpy as np\n",
    "import pandas as pd"
   ]
  },
  {
   "cell_type": "markdown",
   "id": "eb858da6",
   "metadata": {},
   "source": [
    "### Tidying Data"
   ]
  },
  {
   "cell_type": "markdown",
   "id": "19780181",
   "metadata": {},
   "source": [
    "### Example 1"
   ]
  },
  {
   "cell_type": "code",
   "execution_count": null,
   "id": "c19d8c6f",
   "metadata": {},
   "outputs": [],
   "source": [
    "df = pd.read_csv(\"pew-raw.csv\")\n",
    "df"
   ]
  },
  {
   "cell_type": "code",
   "execution_count": null,
   "id": "f7619e5c",
   "metadata": {},
   "outputs": [],
   "source": [
    "# MELT to tidy\n",
    "tidy_df = pd.melt(df,id_vars = \"religion\", var_name=\"income\", value_name=\"frequency\")\n",
    "tidy_df"
   ]
  },
  {
   "cell_type": "markdown",
   "id": "531e2eda",
   "metadata": {},
   "source": [
    "### Example 2"
   ]
  },
  {
   "cell_type": "code",
   "execution_count": null,
   "id": "a77fe221",
   "metadata": {},
   "outputs": [],
   "source": [
    "person_data = pd.read_csv('https://gist.githubusercontent.com/Kimmirikwa/87886e7740d30697145d8a638a523b90/raw/ad12e081266db54c44a0a7c994306006c4096396/student_raw.csv')\n",
    "person_data"
   ]
  },
  {
   "cell_type": "code",
   "execution_count": null,
   "id": "8a524e39",
   "metadata": {},
   "outputs": [],
   "source": [
    "performance_data = pd.read_csv('https://gist.githubusercontent.com/Kimmirikwa/98e0982d035a09a7c7441617b079c1c0/raw/5a20352893e097a1de23ee135cc9f9b82f86b449/performance_raw.csv')\n",
    "performance_data"
   ]
  },
  {
   "cell_type": "code",
   "execution_count": null,
   "id": "4156b195",
   "metadata": {
    "scrolled": true
   },
   "outputs": [],
   "source": [
    "# Tidy the person data\n",
    "person_data['sex'] = person_data['sex and age'].str.split('_').str[0]\n",
    "person_data['age'] = person_data['sex and age'].str.split('_').str[1]\n",
    "person_data.drop(columns = 'sex and age',inplace=True)\n",
    "person_data"
   ]
  },
  {
   "cell_type": "code",
   "execution_count": null,
   "id": "08399407",
   "metadata": {},
   "outputs": [],
   "source": [
    "# There are some duplicates\n",
    "tidy_person_data = person_data.drop_duplicates()\n",
    "tidy_person_data"
   ]
  },
  {
   "cell_type": "code",
   "execution_count": null,
   "id": "c131997d",
   "metadata": {},
   "outputs": [],
   "source": [
    "# Tidy performance data\n",
    "performance_data.melt(id_vars=['id','test number'],value_vars=['term 1', 'term 2','term 3'],var_name='term',value_name='score')"
   ]
  },
  {
   "cell_type": "markdown",
   "id": "58ff15d1",
   "metadata": {},
   "source": [
    "### Example 3"
   ]
  },
  {
   "cell_type": "code",
   "execution_count": null,
   "id": "a5090b35",
   "metadata": {},
   "outputs": [],
   "source": [
    "tuples = list(\n",
    "    zip(\n",
    "        *[\n",
    "            [\"level 1\", \"level 1\", \"level 2\", \"level 2\", \"level 3\", \"level 3\", \"level 4\", \"level 4\"],\n",
    "            [\"one\", \"two\", \"one\", \"two\", \"one\", \"two\", \"one\", \"two\"],\n",
    "        ]\n",
    "    )\n",
    ")\n",
    "index = pd.MultiIndex.from_tuples(tuples, names=[\"first\", \"second\"])\n",
    "df = pd.DataFrame(np.random.randn(8, 2), index=index, columns=[\"A\", \"B\"])\n",
    "df"
   ]
  },
  {
   "cell_type": "code",
   "execution_count": null,
   "id": "13912acd",
   "metadata": {},
   "outputs": [],
   "source": [
    "# sometimes tidying can be done with the \"stack\" method (if you have multi-index)\n",
    "df = pd.DataFrame(df.stack().reset_index())\n",
    "df.columns = ['first','second','variable','value']\n",
    "df"
   ]
  },
  {
   "cell_type": "markdown",
   "id": "744a9621",
   "metadata": {},
   "source": [
    "### Example 4"
   ]
  },
  {
   "cell_type": "code",
   "execution_count": null,
   "id": "cee8a346",
   "metadata": {},
   "outputs": [],
   "source": [
    "df = pd.read_csv(\"tb-raw.csv\")\n",
    "df"
   ]
  },
  {
   "cell_type": "code",
   "execution_count": null,
   "id": "d32a0441",
   "metadata": {},
   "outputs": [],
   "source": [
    "df = pd.melt(df, id_vars=[\"country\",\"year\"], value_name=\"cases\", var_name=\"sex_and_age\")\n",
    "df.head()"
   ]
  },
  {
   "cell_type": "code",
   "execution_count": null,
   "id": "c03b5fd0",
   "metadata": {},
   "outputs": [],
   "source": [
    "# Extract Sex, Age lower bound and Age upper bound group\n",
    "tmp_df = df[\"sex_and_age\"].str.extract(\"(\\D)(\\d+)(\\d{2})\", expand=False)   # regular expression \n",
    "tmp_df.head()"
   ]
  },
  {
   "cell_type": "code",
   "execution_count": null,
   "id": "a1125889",
   "metadata": {},
   "outputs": [],
   "source": [
    "# Name columns\n",
    "tmp_df.columns = [\"sex\", \"age_lower\", \"age_upper\"]\n",
    "tmp_df.head()"
   ]
  },
  {
   "cell_type": "code",
   "execution_count": null,
   "id": "e2ed9a91",
   "metadata": {},
   "outputs": [],
   "source": [
    "# Create `age`column based on `age_lower` and `age_upper`\n",
    "tmp_df[\"age\"] = tmp_df[\"age_lower\"] + \"-\" + tmp_df[\"age_upper\"]\n",
    "tmp_df.head()"
   ]
  },
  {
   "cell_type": "code",
   "execution_count": null,
   "id": "63845e4c",
   "metadata": {},
   "outputs": [],
   "source": [
    "# combine data \n",
    "df = pd.concat([df, tmp_df], axis=1)\n",
    "df.head()"
   ]
  },
  {
   "cell_type": "code",
   "execution_count": null,
   "id": "eb89943e",
   "metadata": {},
   "outputs": [],
   "source": [
    "# Drop unnecessary columns and rows\n",
    "df = df.drop(['sex_and_age',\"age_lower\",\"age_upper\"], axis=1)\n",
    "df.head()"
   ]
  },
  {
   "cell_type": "markdown",
   "id": "c3996ee2",
   "metadata": {},
   "source": [
    "### Activity"
   ]
  },
  {
   "cell_type": "markdown",
   "id": "b3fbaea6",
   "metadata": {},
   "source": [
    "**Activity 1**: Run the following cell to get a messy dataset. Tidy the data."
   ]
  },
  {
   "cell_type": "code",
   "execution_count": null,
   "id": "ef33cf95",
   "metadata": {
    "scrolled": true
   },
   "outputs": [],
   "source": [
    "data = {\n",
    "    'Date': ['04/01/24', '04/02/24','04/03/24'],\n",
    "    'New York_Temperature': [32, 35, 33],\n",
    "    'New York_Humidity': [40, 45, 47],\n",
    "    'Los Angeles_Temperature': [70, 72, 71],\n",
    "    'Los Angeles_Humidity': [60, 65, 66]\n",
    "}\n",
    "\n",
    "df = pd.DataFrame(data)\n",
    "df"
   ]
  },
  {
   "cell_type": "code",
   "execution_count": null,
   "id": "a0cca8cb",
   "metadata": {},
   "outputs": [],
   "source": [
    "df2 = \n",
    "df2"
   ]
  },
  {
   "cell_type": "code",
   "execution_count": null,
   "id": "62ede664",
   "metadata": {},
   "outputs": [],
   "source": []
  },
  {
   "cell_type": "code",
   "execution_count": null,
   "id": "ac111433",
   "metadata": {},
   "outputs": [],
   "source": []
  },
  {
   "cell_type": "markdown",
   "id": "72958095",
   "metadata": {},
   "source": [
    "**Activity 2**: Run the following cell to get a messy dataset. Tidy the data."
   ]
  },
  {
   "cell_type": "code",
   "execution_count": null,
   "id": "fffdf252",
   "metadata": {},
   "outputs": [],
   "source": [
    "df = pd.read_csv(\"billboard.csv\", encoding=\"mac_latin2\")\n",
    "df.head(10)"
   ]
  },
  {
   "cell_type": "code",
   "execution_count": null,
   "id": "f2d1a30b",
   "metadata": {},
   "outputs": [],
   "source": [
    "# Melting\n",
    "id_vars = \n",
    "df2 = \n",
    "df2.head()"
   ]
  },
  {
   "cell_type": "code",
   "execution_count": null,
   "id": "e6115d75",
   "metadata": {},
   "outputs": [],
   "source": []
  },
  {
   "cell_type": "code",
   "execution_count": null,
   "id": "bb6d86bf",
   "metadata": {},
   "outputs": [],
   "source": []
  },
  {
   "cell_type": "code",
   "execution_count": null,
   "id": "6b86f70f",
   "metadata": {},
   "outputs": [],
   "source": []
  },
  {
   "cell_type": "code",
   "execution_count": null,
   "id": "2dd897ec",
   "metadata": {},
   "outputs": [],
   "source": []
  },
  {
   "cell_type": "code",
   "execution_count": null,
   "id": "e2d37918",
   "metadata": {},
   "outputs": [],
   "source": []
  }
 ],
 "metadata": {
  "kernelspec": {
   "display_name": "Python 3 (ipykernel)",
   "language": "python",
   "name": "python3"
  },
  "language_info": {
   "codemirror_mode": {
    "name": "ipython",
    "version": 3
   },
   "file_extension": ".py",
   "mimetype": "text/x-python",
   "name": "python",
   "nbconvert_exporter": "python",
   "pygments_lexer": "ipython3",
   "version": "3.11.4"
  }
 },
 "nbformat": 4,
 "nbformat_minor": 5
}
