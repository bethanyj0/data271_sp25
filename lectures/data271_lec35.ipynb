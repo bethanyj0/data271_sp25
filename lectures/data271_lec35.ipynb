{
 "cells": [
  {
   "cell_type": "markdown",
   "id": "bd035d4a",
   "metadata": {},
   "source": [
    "# Animations and Tidy Data\n",
    "If you want to type along with me, use [this notebook](https://humboldt.cloudbank.2i2c.cloud/hub/user-redirect/git-pull?repo=https%3A%2F%2Fgithub.com%2Fbethanyj0%2Fdata271_sp25&branch=main&urlpath=tree%2Fdata271_sp25%2Flectures%2Fdata271_lec35_live.ipynb) instead. \n",
    "If you don't want to type and want to follow along just by executing the cells, stay in this notebook. "
   ]
  },
  {
   "cell_type": "code",
   "execution_count": null,
   "id": "26e99e3b",
   "metadata": {},
   "outputs": [],
   "source": [
    "import numpy as np\n",
    "import pandas as pd\n",
    "import warnings\n",
    "warnings.filterwarnings(\"ignore\")\n",
    "import matplotlib.pyplot as plt\n",
    "import seaborn as sns\n",
    "import plotly.express as px\n",
    "from ipywidgets import interact\n",
    "import ipywidgets as widgets"
   ]
  },
  {
   "cell_type": "markdown",
   "id": "feb18018",
   "metadata": {},
   "source": [
    "### Animations/sliders with plotly"
   ]
  },
  {
   "cell_type": "code",
   "execution_count": null,
   "id": "d87e3063",
   "metadata": {},
   "outputs": [],
   "source": [
    "# Import the gap minder\n",
    "df = pd.read_csv('gapminder_all.csv')\n",
    "df"
   ]
  },
  {
   "cell_type": "code",
   "execution_count": null,
   "id": "a072e4c3",
   "metadata": {},
   "outputs": [],
   "source": [
    "# Tidy the data (start by melting)\n",
    "long_df = df.melt(id_vars=['continent','country'])\n",
    "long_df"
   ]
  },
  {
   "cell_type": "code",
   "execution_count": null,
   "id": "567d67d5",
   "metadata": {},
   "outputs": [],
   "source": [
    "# Each variable gets its own column\n",
    "long_df[['var','year']] = long_df.variable.str.split('_',expand=True)\n",
    "long_df.drop(columns = 'variable',inplace=True)\n",
    "long_df"
   ]
  },
  {
   "cell_type": "code",
   "execution_count": null,
   "id": "4d3fe276",
   "metadata": {},
   "outputs": [],
   "source": [
    "# pivot so each variable is a column\n",
    "tidy_df = long_df.pivot_table(index = ['continent','country','year'],\n",
    "                              columns='var',values='value').reset_index()\n",
    "tidy_df"
   ]
  },
  {
   "cell_type": "code",
   "execution_count": null,
   "id": "e1cd4fb4",
   "metadata": {},
   "outputs": [],
   "source": [
    "# check info for datatypes and nulls\n",
    "tidy_df.info()"
   ]
  },
  {
   "cell_type": "code",
   "execution_count": null,
   "id": "07e0e9ee",
   "metadata": {},
   "outputs": [],
   "source": [
    "# cast year to type int\n",
    "tidy_df['year'] = tidy_df.year.astype(int)"
   ]
  },
  {
   "cell_type": "markdown",
   "id": "b7563560",
   "metadata": {},
   "source": [
    "### How would we visualize with Seaborn?"
   ]
  },
  {
   "cell_type": "code",
   "execution_count": null,
   "id": "1ad63515",
   "metadata": {},
   "outputs": [],
   "source": [
    "# scatterplot in seaborn for one year\n",
    "sns.scatterplot(data = tidy_df[tidy_df['year']== 2007],\n",
    "                x = 'gdpPercap',y='lifeExp',size='pop', \n",
    "                sizes=(25, 250), hue='continent',alpha=0.7)\n",
    "plt.xscale('log')"
   ]
  },
  {
   "cell_type": "code",
   "execution_count": null,
   "id": "bf3810c8",
   "metadata": {},
   "outputs": [],
   "source": [
    "# Show the trend across years\n",
    "sns.relplot(data = tidy_df,x = 'gdpPercap',y='lifeExp',\n",
    "            size='pop', sizes=(25, 250), \n",
    "            hue='continent',alpha=0.7,\n",
    "            col='year',col_wrap=4)\n",
    "plt.xscale('log')"
   ]
  },
  {
   "cell_type": "markdown",
   "id": "b49e969a",
   "metadata": {},
   "source": [
    "### Same data with interactive plots"
   ]
  },
  {
   "cell_type": "code",
   "execution_count": null,
   "id": "b120c9c2",
   "metadata": {},
   "outputs": [],
   "source": [
    "# Look at just one year\n",
    "fig = px.scatter(tidy_df[tidy_df['year']==2007], x=\"gdpPercap\", y=\"lifeExp\",\n",
    "           size=\"pop\", color=\"continent\", \n",
    "           log_x=True, size_max=55,\n",
    "           hover_name='country')\n",
    "fig.show()"
   ]
  },
  {
   "cell_type": "code",
   "execution_count": null,
   "id": "220f4e37",
   "metadata": {},
   "outputs": [],
   "source": [
    "# Create animation/slider instead of facetting\n",
    "fig = px.scatter(tidy_df, x=\"gdpPercap\", y=\"lifeExp\",\n",
    "           size=\"pop\", color=\"continent\", \n",
    "           hover_name=\"country\",\n",
    "           animation_frame='year',\n",
    "           log_x=True, size_max=55, range_x=[100,100000], range_y=[25,90])\n",
    "fig.show()"
   ]
  },
  {
   "cell_type": "code",
   "execution_count": null,
   "id": "e877f92a",
   "metadata": {},
   "outputs": [],
   "source": [
    "# Combine animations with dropdowns\n",
    "def update_plot(option):\n",
    "    if option:\n",
    "        x_scale = [100,100000]\n",
    "    else:\n",
    "        x_scale = [0,45000]\n",
    "    fig = px.scatter(tidy_df, x=\"gdpPercap\", y=\"lifeExp\",\n",
    "           size=\"pop\", color=\"continent\", \n",
    "           hover_name=\"country\",\n",
    "           animation_frame=\"year\", \n",
    "           log_x=option, size_max=55, range_x=x_scale, range_y=[25,90])\n",
    "    fig.show()\n",
    "\n",
    "# Define dropdown options for x and y axes\n",
    "scale_options = [True, False]\n",
    "\n",
    "# Create dropdown widgets\n",
    "scale_dropdown = widgets.Dropdown(options=scale_options, description='Log scale:')\n",
    "\n",
    "# Create interactive plot using ipywidgets interact function\n",
    "interact(update_plot, option=scale_dropdown);"
   ]
  },
  {
   "cell_type": "code",
   "execution_count": null,
   "id": "d56a960e",
   "metadata": {},
   "outputs": [],
   "source": [
    "# Can also make animated bar charts\n",
    "fig = px.bar(tidy_df, x=\"continent\", y=\"pop\", color=\"continent\",\n",
    "              animation_frame=\"year\", hover_name = 'country',range_y=[0,4000000000])\n",
    "fig.show()"
   ]
  },
  {
   "cell_type": "code",
   "execution_count": null,
   "id": "ce4482d0-0a1b-4f86-8b81-308bb283f48d",
   "metadata": {},
   "outputs": [],
   "source": []
  }
 ],
 "metadata": {
  "kernelspec": {
   "display_name": "Python 3 (ipykernel)",
   "language": "python",
   "name": "python3"
  },
  "language_info": {
   "codemirror_mode": {
    "name": "ipython",
    "version": 3
   },
   "file_extension": ".py",
   "mimetype": "text/x-python",
   "name": "python",
   "nbconvert_exporter": "python",
   "pygments_lexer": "ipython3",
   "version": "3.11.4"
  }
 },
 "nbformat": 4,
 "nbformat_minor": 5
}
