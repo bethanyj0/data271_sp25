{
 "cells": [
  {
   "cell_type": "markdown",
   "id": "bd035d4a",
   "metadata": {},
   "source": [
    "# How to Handle Missing Data\n",
    "If you want to type along with me, use [this notebook](https://humboldt.cloudbank.2i2c.cloud/hub/user-redirect/git-pull?repo=https%3A%2F%2Fgithub.com%2Fbethanyj0%2Fdata271_sp25&branch=main&urlpath=tree%2Fdata271_sp25%2Flectures%2Fdata271_lec36_live.ipynb) instead. \n",
    "If you don't want to type and want to follow along just by executing the cells, stay in this notebook. "
   ]
  },
  {
   "cell_type": "code",
   "execution_count": null,
   "id": "26e99e3b",
   "metadata": {},
   "outputs": [],
   "source": [
    "import numpy as np\n",
    "import pandas as pd\n",
    "import warnings\n",
    "warnings.filterwarnings(\"ignore\")\n",
    "import matplotlib.pyplot as plt\n",
    "import seaborn as sns\n",
    "np.random.seed(3)"
   ]
  },
  {
   "cell_type": "code",
   "execution_count": null,
   "id": "b7c49cb3-3691-49c9-84e8-e0d64dd198a9",
   "metadata": {
    "tags": []
   },
   "outputs": [],
   "source": [
    "# Read in example dataset (fabricated for this demo)\n",
    "df = pd.read_csv('gender_wage_full_data.csv')\n",
    "df.head()"
   ]
  },
  {
   "cell_type": "code",
   "execution_count": null,
   "id": "e5b8f29f-85db-4ade-b279-e4e71c304597",
   "metadata": {
    "tags": []
   },
   "outputs": [],
   "source": [
    "# Explore the data \n",
    "sns.boxplot(data = df, x = 'gender', y = 'salary');"
   ]
  },
  {
   "cell_type": "code",
   "execution_count": null,
   "id": "5d321258-823f-4f63-98a0-770ab886b68f",
   "metadata": {
    "tags": []
   },
   "outputs": [],
   "source": [
    "# Function for permutation test to determine if difference in means is significant\n",
    "def permutation_test(data, group_col, value_col):\n",
    "    observed_diff = data.groupby(group_col)[value_col].mean().diff().iloc[-1]\n",
    "    diffs = []\n",
    "    for i in range(5000):\n",
    "        shuffled = data[value_col].sample(frac=1, replace=False).reset_index(drop=True)\n",
    "        shuffled_df = data.copy()\n",
    "        shuffled_df[value_col] = shuffled\n",
    "        diff = shuffled_df.groupby(group_col)[value_col].mean().diff().iloc[-1]\n",
    "        diffs.append(diff)\n",
    "    p_val = np.mean(np.abs(diffs) >= np.abs(observed_diff))\n",
    "    return observed_diff, p_val, diffs"
   ]
  },
  {
   "cell_type": "code",
   "execution_count": null,
   "id": "cbe5564e-84e7-4c93-b433-de984a445a10",
   "metadata": {
    "tags": []
   },
   "outputs": [],
   "source": [
    "# Do the permutation test\n",
    "obs_diff, p_val, diffs = permutation_test(df, \"gender\", \"salary\")"
   ]
  },
  {
   "cell_type": "code",
   "execution_count": null,
   "id": "9b0a0b80-6b99-4edd-87e4-eb6b2a703b9e",
   "metadata": {
    "tags": []
   },
   "outputs": [],
   "source": [
    "# Visualize results\n",
    "sns.histplot(diffs)\n",
    "plt.scatter(x=obs_diff, y = 5, marker='o',color='r');\n",
    "p_val"
   ]
  },
  {
   "cell_type": "markdown",
   "id": "604e313f-a066-48dd-ad0d-bebbabb31396",
   "metadata": {},
   "source": [
    "What if the dataset had missing values?"
   ]
  },
  {
   "cell_type": "code",
   "execution_count": null,
   "id": "7f492d9a-87b7-454e-8810-a297817066e7",
   "metadata": {
    "tags": []
   },
   "outputs": [],
   "source": [
    "# Randomly remove 15% of salaries\n",
    "n = df.shape[0]\n",
    "data_random_missing = df.copy()\n",
    "mask = np.random.rand(n) < 0.15\n",
    "data_random_missing.loc[mask, 'salary'] = np.nan\n",
    "data_random_missing.head(10)"
   ]
  },
  {
   "cell_type": "code",
   "execution_count": null,
   "id": "23dced79-c417-4236-896b-bbab51bcc73e",
   "metadata": {
    "tags": []
   },
   "outputs": [],
   "source": [
    "# Drop the rows with missing salary \n",
    "data_random_missing_orig = data_random_missing.copy()\n",
    "data_random_missing.dropna(subset='salary',inplace=True)\n",
    "data_random_missing.shape"
   ]
  },
  {
   "cell_type": "code",
   "execution_count": null,
   "id": "fe058aff-26b5-4e85-96b7-ebe21d92ab93",
   "metadata": {},
   "outputs": [],
   "source": [
    "# Do the permutation test\n",
    "obs_diff_random, p_val_random, diffs_random = permutation_test(data_random_missing, \"gender\", \"salary\")"
   ]
  },
  {
   "cell_type": "code",
   "execution_count": null,
   "id": "70bbe8ff-93ac-40c4-b4a4-d5bc2887db4b",
   "metadata": {
    "tags": []
   },
   "outputs": [],
   "source": [
    "# Visualize results\n",
    "sns.histplot(diffs_random)\n",
    "plt.scatter(x=obs_diff_random, y = 5, marker='o',color='r');\n",
    "p_val_random"
   ]
  },
  {
   "cell_type": "markdown",
   "id": "33a964d0-f5dc-47f3-a44c-0b8abb6d6bb5",
   "metadata": {},
   "source": [
    "What if the missingness is not random? Suppose it is based on gender/age."
   ]
  },
  {
   "cell_type": "code",
   "execution_count": null,
   "id": "cba49562-4e85-44be-af21-dc681d524b8d",
   "metadata": {
    "tags": []
   },
   "outputs": [],
   "source": [
    "# Generate missing data based on gender/age \n",
    "# (young females less likely to have data)\n",
    "missing_based_on_gender_age = df.copy()\n",
    "mask = ((missing_based_on_gender_age['gender'] == 'female') \n",
    "        & (missing_based_on_gender_age['age'] < 30) \n",
    "        & (np.random.rand(n) < 0.5))\n",
    "missing_based_on_gender_age.loc[mask, 'salary'] = np.nan"
   ]
  },
  {
   "cell_type": "code",
   "execution_count": null,
   "id": "0c4f2da5-8fcf-47dd-ab2e-6b8955b6712c",
   "metadata": {
    "tags": []
   },
   "outputs": [],
   "source": [
    "# Drop the rows with missing salary \n",
    "missing_based_on_gender_age_orig = missing_based_on_gender_age.copy()\n",
    "missing_based_on_gender_age.dropna(subset='salary',inplace=True)\n",
    "missing_based_on_gender_age.shape"
   ]
  },
  {
   "cell_type": "code",
   "execution_count": null,
   "id": "295f6d95-eb47-4296-b4f3-58b14dea59a6",
   "metadata": {
    "tags": []
   },
   "outputs": [],
   "source": [
    "# Do the permutation test\n",
    "obs_diff_missing, p_val_missing, diffs_missing = permutation_test(missing_based_on_gender_age, \"gender\", \"salary\")"
   ]
  },
  {
   "cell_type": "code",
   "execution_count": null,
   "id": "f3609c18-1766-4a7e-8fd9-e3a98106c397",
   "metadata": {
    "tags": []
   },
   "outputs": [],
   "source": [
    "# Visualize results\n",
    "sns.histplot(diffs_missing)\n",
    "plt.scatter(x=obs_diff_missing, y = 5, marker='o',color='r');\n",
    "p_val_missing"
   ]
  },
  {
   "cell_type": "markdown",
   "id": "8ad5f990-cd9e-4624-8136-7b42c89a822b",
   "metadata": {},
   "source": [
    "What if missingness is based on the value itself?"
   ]
  },
  {
   "cell_type": "code",
   "execution_count": null,
   "id": "69f475be-4702-414f-81a4-ed75f42f3f1c",
   "metadata": {
    "tags": []
   },
   "outputs": [],
   "source": [
    "# Generate missing data based on salary itself. Low salaries are more likely to skip\n",
    "missing_based_on_salary = df.copy()\n",
    "mask = (missing_based_on_salary['salary'] < 55000) & (np.random.rand(n) < 0.7)\n",
    "missing_based_on_salary.loc[mask, 'salary'] = np.nan"
   ]
  },
  {
   "cell_type": "code",
   "execution_count": null,
   "id": "ebca5e9d-d3b4-43d4-86d5-e87abb30b63b",
   "metadata": {
    "tags": []
   },
   "outputs": [],
   "source": [
    "# Drop the rows with missing salary \n",
    "missing_based_on_salary_orig = missing_based_on_salary.copy()\n",
    "missing_based_on_salary.dropna(subset='salary',inplace=True)\n",
    "missing_based_on_salary.shape"
   ]
  },
  {
   "cell_type": "code",
   "execution_count": null,
   "id": "32d9b737-3004-42c5-9ec7-183b5abe5a95",
   "metadata": {
    "tags": []
   },
   "outputs": [],
   "source": [
    "# Do the permutation test\n",
    "obs_diff_missing2, p_val_missing2, diffs_missing2 = permutation_test(missing_based_on_salary, \"gender\", \"salary\")"
   ]
  },
  {
   "cell_type": "code",
   "execution_count": null,
   "id": "230c5ceb-92ad-42ec-bbeb-d99252527145",
   "metadata": {
    "tags": []
   },
   "outputs": [],
   "source": [
    "# Visualize results\n",
    "sns.histplot(diffs_missing2)\n",
    "plt.scatter(x=obs_diff_missing2, y = 5, marker='o',color='r');\n",
    "p_val_missing2"
   ]
  },
  {
   "cell_type": "markdown",
   "id": "e502c99f-cb91-4f46-8a37-31631943fc6e",
   "metadata": {},
   "source": [
    "### Checking for patterns in missingness"
   ]
  },
  {
   "cell_type": "code",
   "execution_count": null,
   "id": "9330ca0a-ec59-4eed-9ba4-82b2f997efb3",
   "metadata": {
    "tags": []
   },
   "outputs": [],
   "source": [
    "# Create a \"missing salary\" column\n",
    "data_random_missing_orig['missing_salary'] = data_random_missing_orig.salary.isna()\n",
    "missing_based_on_gender_age_orig['missing_salary'] = missing_based_on_gender_age_orig.salary.isna()\n",
    "missing_based_on_salary_orig['missing_salary'] = missing_based_on_salary_orig.salary.isna()"
   ]
  },
  {
   "cell_type": "code",
   "execution_count": null,
   "id": "511444db-1e09-4194-ba5c-028b1a3c8d76",
   "metadata": {
    "tags": []
   },
   "outputs": [],
   "source": [
    "# check relationship between missingness and gender, MCAR\n",
    "data_random_missing_orig.groupby('gender')['missing_salary'].mean()"
   ]
  },
  {
   "cell_type": "code",
   "execution_count": null,
   "id": "a12c629e-a687-411f-a4fe-8c4fe3a3a0f2",
   "metadata": {
    "tags": []
   },
   "outputs": [],
   "source": [
    "# check relationship between missingness and age, MCAR\n",
    "sns.violinplot(x='missing_salary', y='age', data=data_random_missing_orig);"
   ]
  },
  {
   "cell_type": "code",
   "execution_count": null,
   "id": "4d991e0e-4f3b-433d-b340-64fca5107a59",
   "metadata": {
    "tags": []
   },
   "outputs": [],
   "source": [
    "# check relationship between missingness and gender, MAR\n",
    "missing_based_on_gender_age_orig.groupby('gender')['missing_salary'].mean()"
   ]
  },
  {
   "cell_type": "code",
   "execution_count": null,
   "id": "502fce67-2b56-42d4-b440-d9993cc81891",
   "metadata": {
    "tags": []
   },
   "outputs": [],
   "source": [
    "# check relationship between missingness and age, MAR\n",
    "sns.violinplot(x='missing_salary', y='age', data=missing_based_on_gender_age_orig);"
   ]
  },
  {
   "cell_type": "code",
   "execution_count": null,
   "id": "e52df964-ff2a-43e6-b8ba-11fcedb76563",
   "metadata": {
    "tags": []
   },
   "outputs": [],
   "source": [
    "# check relationship between missingness and gender, MNAR\n",
    "missing_based_on_salary_orig.groupby('gender')['missing_salary'].mean()"
   ]
  },
  {
   "cell_type": "code",
   "execution_count": null,
   "id": "f6cfef02-049e-44d1-b8dc-5c75a50adfa5",
   "metadata": {
    "tags": []
   },
   "outputs": [],
   "source": [
    "# check relationship between missingness and age, MNAR\n",
    "sns.violinplot(x='missing_salary', y='age', data=missing_based_on_salary_orig);"
   ]
  },
  {
   "cell_type": "markdown",
   "id": "c7d1f660-84d3-4fcb-9a19-8aeedb980b24",
   "metadata": {},
   "source": [
    "### Imputing the data"
   ]
  },
  {
   "cell_type": "code",
   "execution_count": null,
   "id": "c9c0441a-19ea-4112-a263-5d093b3eed5b",
   "metadata": {
    "tags": []
   },
   "outputs": [],
   "source": [
    "# Fill with the mean\n",
    "random_filled = data_random_missing_orig.fillna(data_random_missing_orig.salary.mean())"
   ]
  },
  {
   "cell_type": "code",
   "execution_count": null,
   "id": "d7a1c898-017c-4db0-a3e1-1b388dd93817",
   "metadata": {
    "tags": []
   },
   "outputs": [],
   "source": [
    "# Check analysis\n",
    "obs_diff, p_val, diffs = permutation_test(random_filled, \"gender\", \"salary\")\n",
    "\n",
    "sns.histplot(diffs)\n",
    "plt.scatter(x=obs_diff, y = 5, marker='o',color='r');\n",
    "p_val"
   ]
  },
  {
   "cell_type": "code",
   "execution_count": null,
   "id": "eec60ec3-f534-4f61-b9ce-13cdabfa43d4",
   "metadata": {
    "tags": []
   },
   "outputs": [],
   "source": [
    "# Fill with the median\n",
    "random_filled = data_random_missing_orig.fillna(data_random_missing_orig.salary.median())"
   ]
  },
  {
   "cell_type": "code",
   "execution_count": null,
   "id": "4ffd5542-d45a-4be1-9750-fe72407f9445",
   "metadata": {
    "tags": []
   },
   "outputs": [],
   "source": [
    "# Check analysis\n",
    "obs_diff, p_val, diffs = permutation_test(random_filled, \"gender\", \"salary\")\n",
    "p_val"
   ]
  },
  {
   "cell_type": "code",
   "execution_count": null,
   "id": "acb17fda-32de-4e5d-b35e-6132d38cc0b1",
   "metadata": {
    "tags": []
   },
   "outputs": [],
   "source": [
    "# Fill MAR with the mean\n",
    "MAR_filled = missing_based_on_gender_age_orig.fillna(\n",
    "    missing_based_on_gender_age_orig.salary.mean())"
   ]
  },
  {
   "cell_type": "code",
   "execution_count": null,
   "id": "5588c708-f9e2-45f8-8d53-17e202988598",
   "metadata": {
    "tags": []
   },
   "outputs": [],
   "source": [
    "# Check analysis\n",
    "obs_diff, p_val, diffs = permutation_test(MAR_filled, \"gender\", \"salary\")\n",
    "p_val"
   ]
  },
  {
   "cell_type": "code",
   "execution_count": null,
   "id": "f46409d7-495a-4440-8146-5a96a618d0b3",
   "metadata": {
    "tags": []
   },
   "outputs": [],
   "source": [
    "# Fill MAR with the median\n",
    "MAR_filled = missing_based_on_gender_age_orig.fillna(\n",
    "    missing_based_on_gender_age_orig.salary.median())"
   ]
  },
  {
   "cell_type": "code",
   "execution_count": null,
   "id": "70054488-f0d1-44c9-b061-d771dff8a818",
   "metadata": {
    "tags": []
   },
   "outputs": [],
   "source": [
    "# Check analysis\n",
    "obs_diff, p_val, diffs = permutation_test(MAR_filled, \"gender\", \"salary\")\n",
    "p_val"
   ]
  },
  {
   "cell_type": "code",
   "execution_count": null,
   "id": "8ae77008-7a27-422f-a77b-877021d0f217",
   "metadata": {
    "tags": []
   },
   "outputs": [],
   "source": [
    "# Fill MNAR with the mean\n",
    "MNAR_filled = missing_based_on_salary_orig.fillna(\n",
    "    missing_based_on_salary_orig.salary.mean())"
   ]
  },
  {
   "cell_type": "code",
   "execution_count": null,
   "id": "1b511310-91bb-4136-9772-a569a891d7a9",
   "metadata": {
    "tags": []
   },
   "outputs": [],
   "source": [
    "# Check analysis\n",
    "obs_diff, p_val, diffs = permutation_test(MNAR_filled, \"gender\", \"salary\")\n",
    "p_val"
   ]
  },
  {
   "cell_type": "code",
   "execution_count": null,
   "id": "b5afb427-28ec-420f-9d58-6e297b29b52c",
   "metadata": {
    "tags": []
   },
   "outputs": [],
   "source": [
    "# Fill MNAR with the median\n",
    "MNAR_filled = missing_based_on_salary_orig.fillna(\n",
    "    missing_based_on_salary_orig.salary.median())"
   ]
  },
  {
   "cell_type": "code",
   "execution_count": null,
   "id": "68c637d9-3f20-4f17-ae4d-ce548719e445",
   "metadata": {
    "tags": []
   },
   "outputs": [],
   "source": [
    "# Check analysis\n",
    "obs_diff, p_val, diffs = permutation_test(MNAR_filled, \"gender\", \"salary\")\n",
    "p_val"
   ]
  },
  {
   "cell_type": "code",
   "execution_count": null,
   "id": "10e491b1-fe0c-4585-8009-f15966d263da",
   "metadata": {},
   "outputs": [],
   "source": []
  }
 ],
 "metadata": {
  "kernelspec": {
   "display_name": "Python 3 (ipykernel)",
   "language": "python",
   "name": "python3"
  },
  "language_info": {
   "codemirror_mode": {
    "name": "ipython",
    "version": 3
   },
   "file_extension": ".py",
   "mimetype": "text/x-python",
   "name": "python",
   "nbconvert_exporter": "python",
   "pygments_lexer": "ipython3",
   "version": "3.11.4"
  }
 },
 "nbformat": 4,
 "nbformat_minor": 5
}
