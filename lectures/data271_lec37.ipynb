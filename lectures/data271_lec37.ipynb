{
 "cells": [
  {
   "cell_type": "markdown",
   "id": "bd035d4a",
   "metadata": {},
   "source": [
    "# More on Missing Data\n",
    "If you want to type along with me, use [this notebook](https://humboldt.cloudbank.2i2c.cloud/hub/user-redirect/git-pull?repo=https%3A%2F%2Fgithub.com%2Fbethanyj0%2Fdata271_sp24&branch=main&urlpath=tree%2Fdata271_sp24%2Fdemos%2Fdata271_demo35_live.ipynb) instead. \n",
    "If you don't want to type and want to follow along just by executing the cells, stay in this notebook. "
   ]
  },
  {
   "cell_type": "code",
   "execution_count": null,
   "id": "7f7b868e-4c13-4375-88a9-d1c4f27601f6",
   "metadata": {
    "tags": []
   },
   "outputs": [],
   "source": [
    "import numpy as np\n",
    "import pandas as pd\n",
    "import warnings\n",
    "warnings.filterwarnings(\"ignore\")\n",
    "import matplotlib.pyplot as plt\n",
    "import seaborn as sns\n",
    "np.random.seed(3)"
   ]
  },
  {
   "cell_type": "code",
   "execution_count": null,
   "id": "d083902f-45e7-462c-99c4-12c187cfc29f",
   "metadata": {
    "tags": []
   },
   "outputs": [],
   "source": [
    "# Read in example dataset (fabricated for this demo)\n",
    "df = pd.read_csv('gender_wage_full_data.csv')"
   ]
  },
  {
   "cell_type": "code",
   "execution_count": null,
   "id": "d35bba0f-8f4d-458f-a943-6058710924b7",
   "metadata": {
    "tags": []
   },
   "outputs": [],
   "source": [
    "# Make the missing data\n",
    "\n",
    "# MCAR, Randomly remove 15% of salaries\n",
    "n = df.shape[0]\n",
    "data_random_missing = df.copy()\n",
    "mask = np.random.rand(n) < 0.15\n",
    "data_random_missing.loc[mask, 'salary'] = np.nan\n",
    "data_random_missing.head(10)\n",
    "\n",
    "# MAR, young females more likely to skip salary question\n",
    "missing_based_on_gender_age = df.copy()\n",
    "mask = ((missing_based_on_gender_age['gender'] == 'female') \n",
    "        & (missing_based_on_gender_age['age'] < 30) \n",
    "        & (np.random.rand(n) < 0.5))\n",
    "missing_based_on_gender_age.loc[mask, 'salary'] = np.nan\n",
    "\n",
    "# MNAR, lower salaries more likely to skip salary question\n",
    "missing_based_on_salary = df.copy()\n",
    "mask = (missing_based_on_salary['salary'] < 55000) & (np.random.rand(n) < 0.7)\n",
    "missing_based_on_salary.loc[mask, 'salary'] = np.nan"
   ]
  },
  {
   "cell_type": "markdown",
   "id": "9877cd8f-7ea3-4caa-83a3-fd0dda560f2f",
   "metadata": {},
   "source": [
    "### Checking for patterns in missingness"
   ]
  },
  {
   "cell_type": "code",
   "execution_count": null,
   "id": "a151127b-2b13-452d-bf01-7bf2aa9a504f",
   "metadata": {
    "tags": []
   },
   "outputs": [],
   "source": [
    "# Create a \"missing salary\" column\n",
    "data_random_missing['missing_salary'] = data_random_missing.salary.isna()\n",
    "missing_based_on_gender_age['missing_salary'] = missing_based_on_gender_age.salary.isna()\n",
    "missing_based_on_salary['missing_salary'] = missing_based_on_salary.salary.isna()"
   ]
  },
  {
   "cell_type": "code",
   "execution_count": null,
   "id": "d89126f2-ecf5-4c11-b97d-4b0d2e41f01e",
   "metadata": {
    "tags": []
   },
   "outputs": [],
   "source": [
    "data_random_missing.groupby('gender')['missing_salary'].mean()"
   ]
  },
  {
   "cell_type": "code",
   "execution_count": null,
   "id": "9de8925c-f65a-4e9b-b681-ded1f37cf06d",
   "metadata": {
    "tags": []
   },
   "outputs": [],
   "source": [
    "# check relationship between missingness and age, MCAR\n",
    "sns.violinplot(x='missing_salary', y='age', data=data_random_missing);"
   ]
  },
  {
   "cell_type": "code",
   "execution_count": null,
   "id": "49810054-9405-444d-8fc8-a09a79023675",
   "metadata": {
    "tags": []
   },
   "outputs": [],
   "source": [
    "# check relationship between missingness and gender, MAR\n",
    "missing_based_on_gender_age.groupby('gender')['missing_salary'].mean()"
   ]
  },
  {
   "cell_type": "code",
   "execution_count": null,
   "id": "96f13c7c-1efb-42f8-afff-a83dace23bed",
   "metadata": {
    "tags": []
   },
   "outputs": [],
   "source": [
    "# check relationship between missingness and age, MAR\n",
    "sns.violinplot(x='missing_salary', y='age', data=missing_based_on_gender_age);"
   ]
  },
  {
   "cell_type": "code",
   "execution_count": null,
   "id": "01eec2e1-1012-435b-bd6d-49ace2b9ec12",
   "metadata": {
    "tags": []
   },
   "outputs": [],
   "source": [
    "# check relationship between missingness and gender, MNAR\n",
    "missing_based_on_salary.groupby('gender')['missing_salary'].mean()"
   ]
  },
  {
   "cell_type": "code",
   "execution_count": null,
   "id": "c2276271-e731-48fd-b4ad-071d415e338e",
   "metadata": {
    "tags": []
   },
   "outputs": [],
   "source": [
    "# check relationship between missingness and age, MNAR\n",
    "sns.violinplot(x='missing_salary', y='age', data=missing_based_on_salary);"
   ]
  },
  {
   "cell_type": "markdown",
   "id": "81c0b6ff-2ed5-4566-bb46-760d6219d3c4",
   "metadata": {},
   "source": [
    "Use `missingno` for specialized visualizations."
   ]
  },
  {
   "cell_type": "code",
   "execution_count": null,
   "id": "8df19e64-c9a2-48c3-9ffb-6c044452d0f5",
   "metadata": {},
   "outputs": [],
   "source": [
    "# Run this if on JupyterHub\n",
    "#!pip install missingno"
   ]
  },
  {
   "cell_type": "code",
   "execution_count": null,
   "id": "bea8bffa-2f20-4971-91fb-91bb60d916ac",
   "metadata": {
    "tags": []
   },
   "outputs": [],
   "source": [
    "import missingno as msno"
   ]
  },
  {
   "cell_type": "code",
   "execution_count": null,
   "id": "357f9c45-d9ac-4e6c-bee7-32f0dfa4075e",
   "metadata": {},
   "outputs": [],
   "source": [
    "# Can visualize the proportion of non-missing values in each column\n",
    "msno.bar(missing_based_on_gender_age);"
   ]
  },
  {
   "cell_type": "code",
   "execution_count": null,
   "id": "cd6fad98-10f0-4c05-8817-25845f8652e0",
   "metadata": {},
   "outputs": [],
   "source": [
    "# Another way to make the null map with the msno module \n",
    "msno.matrix(missing_based_on_gender_age);"
   ]
  },
  {
   "cell_type": "code",
   "execution_count": null,
   "id": "bfff10c2-218c-4f44-882e-208e74265da1",
   "metadata": {},
   "outputs": [],
   "source": [
    "# Plot the matrix again sorted by age\n",
    "sorted_df = missing_based_on_gender_age.sort_values('age')\n",
    "msno.matrix(sorted_df);"
   ]
  },
  {
   "cell_type": "markdown",
   "id": "8681a60c-2a62-442e-9a96-3a675687c7bb",
   "metadata": {},
   "source": [
    "This makes it clear that only younger individuals skipped the salary question."
   ]
  },
  {
   "cell_type": "code",
   "execution_count": null,
   "id": "fac94d86-75cf-4e95-b07e-07644c66016d",
   "metadata": {
    "tags": []
   },
   "outputs": [],
   "source": [
    "sorted_df = missing_based_on_gender_age.sort_values('gender')\n",
    "msno.matrix(sorted_df);"
   ]
  },
  {
   "cell_type": "markdown",
   "id": "88df1eae-8049-4c49-9000-eef0bcf9628d",
   "metadata": {},
   "source": [
    "This reveals that missingness is be correlated with gender too."
   ]
  },
  {
   "cell_type": "markdown",
   "id": "9d2ec2d6-6c7e-44e2-aef3-ab33855c440e",
   "metadata": {},
   "source": [
    "### Imputing the data"
   ]
  },
  {
   "cell_type": "code",
   "execution_count": null,
   "id": "d9307e25-4ab1-4f03-8adc-daee763e5bd1",
   "metadata": {
    "tags": []
   },
   "outputs": [],
   "source": [
    "# Fill MCAR the mean\n",
    "MCAR_filled = data_random_missing.fillna(data_random_missing.salary.mean())"
   ]
  },
  {
   "cell_type": "code",
   "execution_count": null,
   "id": "45423b36-61d3-47c1-8d2e-087c302701d6",
   "metadata": {
    "tags": []
   },
   "outputs": [],
   "source": [
    "# Compare qualitative differences between the complete data and the filled data\n",
    "fig, ax = plt.subplots(1,2, figsize = (10,4))\n",
    "sns.scatterplot(data = df, x = 'age', y = 'salary', hue = 'gender', ax=ax[0]);\n",
    "sns.scatterplot(data = MCAR_filled, x = 'age', y = 'salary', hue = 'gender', ax=ax[1]);"
   ]
  },
  {
   "cell_type": "code",
   "execution_count": null,
   "id": "8e96fa17-35e7-48af-9be8-8602de515c83",
   "metadata": {
    "tags": []
   },
   "outputs": [],
   "source": [
    "# Fill MAR with the mean\n",
    "MAR_filled = missing_based_on_gender_age.fillna(\n",
    "    missing_based_on_gender_age.salary.mean())"
   ]
  },
  {
   "cell_type": "code",
   "execution_count": null,
   "id": "f89bbb8d-7ce4-42f8-bd8e-a071777f8c9d",
   "metadata": {
    "tags": []
   },
   "outputs": [],
   "source": [
    "# Compare qualitative differences between the complete data and the filled data\n",
    "fig, ax = plt.subplots(1,2, figsize = (10,4))\n",
    "sns.scatterplot(data = df, x = 'age', y = 'salary', hue = 'gender', ax=ax[0]);\n",
    "sns.scatterplot(data = MAR_filled, x = 'age', y = 'salary', hue = 'gender', ax=ax[1]);"
   ]
  },
  {
   "cell_type": "code",
   "execution_count": null,
   "id": "1453d109-5c9e-421f-b10e-23b106c80f4c",
   "metadata": {
    "tags": []
   },
   "outputs": [],
   "source": [
    "# Fill MNAR with the mean\n",
    "MNAR_filled = missing_based_on_salary.fillna(\n",
    "    missing_based_on_salary.salary.mean())"
   ]
  },
  {
   "cell_type": "code",
   "execution_count": null,
   "id": "0ff51840-fa01-454c-96de-d8c02524e79a",
   "metadata": {
    "tags": []
   },
   "outputs": [],
   "source": [
    "# Compare qualitative differences between the complete data and the filled data\n",
    "fig, ax = plt.subplots(1,2, figsize = (10,4))\n",
    "sns.scatterplot(data = df, x = 'age', y = 'salary', hue = 'gender', ax=ax[0]);\n",
    "sns.scatterplot(data = MNAR_filled, x = 'age', y = 'salary', hue = 'gender', ax=ax[1]);"
   ]
  },
  {
   "cell_type": "markdown",
   "id": "aacbe6ca-a04b-4918-84c3-79ee8a065e9a",
   "metadata": {},
   "source": [
    "### Imputing time series data\n",
    "Imputing with the mean, median, or mode is not always the best option, especially for sequential data. "
   ]
  },
  {
   "cell_type": "code",
   "execution_count": null,
   "id": "97ce1f99-9fde-41ab-a008-ba61319d8612",
   "metadata": {},
   "outputs": [],
   "source": [
    "airquality = pd.read_csv(\"airquality.csv\")\n",
    "airquality"
   ]
  },
  {
   "cell_type": "code",
   "execution_count": null,
   "id": "cd3c0cb5-8f44-448a-9bea-0eadcc322bce",
   "metadata": {},
   "outputs": [],
   "source": [
    "airquality.info()"
   ]
  },
  {
   "cell_type": "code",
   "execution_count": null,
   "id": "30d34962-5623-4d8c-aafa-94f252c83a67",
   "metadata": {},
   "outputs": [],
   "source": [
    "airquality['Date'] = pd.to_datetime(airquality['Date'])\n",
    "airquality"
   ]
  },
  {
   "cell_type": "code",
   "execution_count": null,
   "id": "0ffa969b-8eb7-4e4e-87f8-f73e8dffd754",
   "metadata": {
    "tags": []
   },
   "outputs": [],
   "source": [
    "# Look at missing Ozone data\n",
    "plt.figure(figsize=(10,4))\n",
    "plt.plot(airquality[\"Date\"], airquality[\"Ozone\"], marker='o');\n",
    "plt.ylabel('Ozone')\n",
    "plt.show()"
   ]
  },
  {
   "cell_type": "markdown",
   "id": "80777795-040b-444c-9d7b-4f417515dbf2",
   "metadata": {},
   "source": [
    "The time series varies a lot. If we fill everything with the mean or median, we might get strange results. "
   ]
  },
  {
   "cell_type": "code",
   "execution_count": null,
   "id": "47e34fb9-900a-48ce-a3b6-87300ef8d3af",
   "metadata": {},
   "outputs": [],
   "source": [
    "# Fill nans with the mean datapoint\n",
    "mean_fill = airquality.fillna(airquality.Ozone.mean())\n",
    "\n",
    "plt.figure(figsize=(10,4))\n",
    "plt.plot(mean_fill[\"Date\"], mean_fill[\"Ozone\"], marker='o', color = 'r');\n",
    "plt.plot(airquality[\"Date\"], airquality[\"Ozone\"], marker='o');\n",
    "plt.ylabel('Ozone')\n",
    "plt.show()"
   ]
  },
  {
   "cell_type": "code",
   "execution_count": null,
   "id": "254560ba-ff71-47ef-b486-dbd7435b23c1",
   "metadata": {},
   "outputs": [],
   "source": [
    "# Fill nans with the previous datapoint\n",
    "forward_fill = airquality.fillna(method='ffill')"
   ]
  },
  {
   "cell_type": "code",
   "execution_count": null,
   "id": "5baa6123-8892-4868-82c4-b33908215e81",
   "metadata": {},
   "outputs": [],
   "source": [
    "# Look at the missing data in Ozone\n",
    "plt.figure(figsize=(10,4))\n",
    "plt.plot(forward_fill[\"Date\"], forward_fill[\"Ozone\"], marker='o', color = 'r');\n",
    "plt.plot(airquality[\"Date\"], airquality[\"Ozone\"], marker='o');\n",
    "plt.ylabel('Ozone')\n",
    "plt.show()"
   ]
  },
  {
   "cell_type": "code",
   "execution_count": null,
   "id": "f2f8eacc-bf7d-48ca-9c73-b3808f48d69c",
   "metadata": {},
   "outputs": [],
   "source": [
    "# Fill nans with the next datapoint\n",
    "back_fill = airquality.fillna(method='bfill')"
   ]
  },
  {
   "cell_type": "code",
   "execution_count": null,
   "id": "d79b5053-9bb2-40c0-a7ce-acd949109435",
   "metadata": {},
   "outputs": [],
   "source": [
    "# Look at the missing data in Ozone\n",
    "plt.figure(figsize=(10,4))\n",
    "plt.plot(back_fill[\"Date\"], back_fill[\"Ozone\"], marker='o', color = 'r');\n",
    "plt.plot(airquality[\"Date\"], airquality[\"Ozone\"], marker='o');\n",
    "plt.ylabel('Ozone')\n",
    "plt.show()"
   ]
  },
  {
   "cell_type": "code",
   "execution_count": null,
   "id": "ce4c54f3-8320-45b9-88b4-4d62ba4be42b",
   "metadata": {},
   "outputs": [],
   "source": [
    "# Linear interpolation\n",
    "interpolated_oz = airquality.copy()\n",
    "interpolated_oz['Ozone'] = airquality.Ozone.interpolate(method='linear')"
   ]
  },
  {
   "cell_type": "code",
   "execution_count": null,
   "id": "a7dc63d7-5f69-4aa4-acb7-7d29d174d58e",
   "metadata": {},
   "outputs": [],
   "source": [
    "# Look at the missing data in Ozone\n",
    "plt.figure(figsize=(10,4))\n",
    "plt.plot(interpolated_oz[\"Date\"], interpolated_oz[\"Ozone\"], marker='o', color = 'r');\n",
    "plt.plot(airquality[\"Date\"], airquality[\"Ozone\"], marker='o');\n",
    "plt.xlabel('Day')\n",
    "plt.ylabel('Ozone')\n",
    "plt.show()"
   ]
  },
  {
   "cell_type": "markdown",
   "id": "e83c5765-5c10-49ff-935e-9bb485df0c19",
   "metadata": {},
   "source": [
    "This looks like a reasonable guess for how to fill in the datapoints.\n",
    "\n",
    "*NOTE:* There are other methods that can be used to interpolate."
   ]
  },
  {
   "cell_type": "code",
   "execution_count": null,
   "id": "946c6d13-5b97-4c21-8ed8-ea93e993b099",
   "metadata": {},
   "outputs": [],
   "source": [
    "# Quadratic interpolation\n",
    "interpolated_oz['Ozone'] = airquality.Ozone.interpolate(method='quadratic')"
   ]
  },
  {
   "cell_type": "code",
   "execution_count": null,
   "id": "9d5e2d84-4532-487e-b360-a0438bedaa2c",
   "metadata": {},
   "outputs": [],
   "source": [
    "# Look at the missing data in Ozone\n",
    "plt.figure(figsize=(10,4))\n",
    "interpolated_oz['Ozone'].plot(color = 'r', marker='o')\n",
    "airquality['Ozone'].plot( marker='o')\n",
    "plt.xlabel('Day')\n",
    "plt.ylabel('Ozone')\n",
    "plt.show()"
   ]
  },
  {
   "cell_type": "markdown",
   "id": "c909b2fc-ddb7-4d06-805f-b590655d3e1a",
   "metadata": {},
   "source": [
    "This method highly overshot the data ranges. This is not a good option. "
   ]
  },
  {
   "cell_type": "markdown",
   "id": "9ad75b3c-0192-48d3-8ed2-7d056ca02cdf",
   "metadata": {},
   "source": [
    "One other option is to fill null values with a random sample. This could work when the data is MCAR or MAR and could also work for categorical data."
   ]
  },
  {
   "cell_type": "code",
   "execution_count": null,
   "id": "f429507f-07a9-4163-9b76-a74797f9828d",
   "metadata": {},
   "outputs": [],
   "source": [
    "# Get non-NaN values from ozone column\n",
    "non_nan_values = airquality['Ozone'].dropna()\n",
    "\n",
    "# Get the number of NaNs we need to fill\n",
    "nan_count = airquality['Ozone'].isna().sum()\n",
    "\n",
    "# Generate random samples from non-NaN values to fill NaNs\n",
    "random_samples = np.random.choice(non_nan_values, nan_count, replace=True)\n",
    "\n",
    "# Fill NaN values in the ozone column with the random values\n",
    "random_fill = airquality.copy()\n",
    "random_fill.loc[random_fill['Ozone'].isna(), 'Ozone'] = random_samples\n",
    "\n",
    "plt.figure(figsize=(10,4))\n",
    "plt.plot(random_fill[\"Date\"], random_fill[\"Ozone\"], marker='o', color = 'r');\n",
    "plt.plot(airquality[\"Date\"], airquality[\"Ozone\"], marker='o');\n",
    "plt.xlabel('Day')\n",
    "plt.ylabel('Ozone')\n",
    "plt.show()"
   ]
  },
  {
   "cell_type": "markdown",
   "id": "47d9c9f8-040f-417d-815b-88c942ca7ae8",
   "metadata": {},
   "source": [
    "## Activity\n",
    "Activity 1: Look at the \"Hours.Of.Daylight\" column in the airquality dataset. Fill in the missing values with the most appropriate method."
   ]
  },
  {
   "cell_type": "code",
   "execution_count": null,
   "id": "fdf8cdd7-b562-4c63-8b76-3a944efdb474",
   "metadata": {},
   "outputs": [],
   "source": []
  },
  {
   "cell_type": "markdown",
   "id": "7217241a-d77c-45a6-8724-5f174a4d3770",
   "metadata": {},
   "source": [
    "**Activity 2:** Run the following cells to import and clean the Lake Mendocino Data from last time. Use an appropriate imputation method to fill in the null values in this dataset. Plot your results to evaluate if your imputation was reasonable."
   ]
  },
  {
   "cell_type": "code",
   "execution_count": null,
   "id": "4df6391f-fd88-4a87-8215-41e9f253cd8b",
   "metadata": {},
   "outputs": [],
   "source": [
    "# Import a dataset about Lake Mendocino\n",
    "lake = pd.read_csv('coy_wy2024_csvdata.csv')\n",
    "lake"
   ]
  },
  {
   "cell_type": "code",
   "execution_count": null,
   "id": "56d8d299-1025-4d8b-9efe-d6a264321af7",
   "metadata": {},
   "outputs": [],
   "source": [
    "lake[lake=='-'] = np.nan\n",
    "notes_columns = [col for col in lake.columns if 'notes' in col]\n",
    "lake[notes_columns] = lake[notes_columns].replace(0, np.nan)\n",
    "lake.dropna(axis = 1, thresh = 230,inplace=True)\n",
    "lake = lake.assign(cons_high = lake['Top of Conservation High (ac-ft)'].astype(float),\n",
    "              cons = lake['Top of Conservation (ac-ft)'].astype(float),\n",
    "              gross_pool = lake['Gross Pool'].astype(float),\n",
    "              gross_pool_elev = lake['Gross Pool(elev)'].astype(float))\n",
    "lake['date'] = pd.to_datetime(lake['ISO 8601 Date Time'].str[:10])\n",
    "lake.drop(columns = ['Top of Conservation High (ac-ft)', 'Top of Conservation (ac-ft)','Gross Pool','Gross Pool(elev)'],inplace=True)\n",
    "lake"
   ]
  },
  {
   "cell_type": "code",
   "execution_count": null,
   "id": "504a2252-1576-4f27-899c-c3a5397166fa",
   "metadata": {},
   "outputs": [],
   "source": [
    "# Fill nans\n"
   ]
  },
  {
   "cell_type": "code",
   "execution_count": null,
   "id": "334be00a-a956-4093-a0f2-7235eee9b8d8",
   "metadata": {},
   "outputs": [],
   "source": [
    "# Check if it worked \n"
   ]
  },
  {
   "cell_type": "code",
   "execution_count": null,
   "id": "dbd1a2cd-4a83-495d-bf02-75d2733e61b8",
   "metadata": {},
   "outputs": [],
   "source": [
    "# Plot \n"
   ]
  }
 ],
 "metadata": {
  "kernelspec": {
   "display_name": "Python 3 (ipykernel)",
   "language": "python",
   "name": "python3"
  },
  "language_info": {
   "codemirror_mode": {
    "name": "ipython",
    "version": 3
   },
   "file_extension": ".py",
   "mimetype": "text/x-python",
   "name": "python",
   "nbconvert_exporter": "python",
   "pygments_lexer": "ipython3",
   "version": "3.11.4"
  }
 },
 "nbformat": 4,
 "nbformat_minor": 5
}
