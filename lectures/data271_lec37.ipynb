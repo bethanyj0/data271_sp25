{
 "cells": [
  {
   "cell_type": "markdown",
   "id": "bd035d4a",
   "metadata": {},
   "source": [
    "# Interactive Plots\n",
    "If you want to type along with me, use [this notebook](https://humboldt.cloudbank.2i2c.cloud/hub/user-redirect/git-pull?repo=https%3A%2F%2Fgithub.com%2Fbethanyj0%2Fdata271_sp24&branch=main&urlpath=tree%2Fdata271_sp24%2Fdemos%2Fdata271_demo37_live.ipynb) instead. \n",
    "If you don't want to type and want to follow along just by executing the cells, stay in this notebook. "
   ]
  },
  {
   "cell_type": "code",
   "execution_count": null,
   "id": "26e99e3b",
   "metadata": {},
   "outputs": [],
   "source": [
    "import numpy as np\n",
    "import pandas as pd\n",
    "import warnings\n",
    "warnings.filterwarnings(\"ignore\")\n",
    "import matplotlib.pyplot as plt\n",
    "import seaborn as sns"
   ]
  },
  {
   "cell_type": "markdown",
   "id": "8bed24c5",
   "metadata": {},
   "source": [
    "### Basics with Plotly Express\n",
    "**Hover capabilities**"
   ]
  },
  {
   "cell_type": "code",
   "execution_count": null,
   "id": "faf233dd",
   "metadata": {},
   "outputs": [],
   "source": [
    "# Import plotly express\n",
    "import plotly.express as px"
   ]
  },
  {
   "cell_type": "code",
   "execution_count": null,
   "id": "aa586674",
   "metadata": {},
   "outputs": [],
   "source": [
    "# Create a basic line plot\n",
    "t = np.linspace(0, 2*np.pi, 100)\n",
    "fig = px.line(x=t, y=np.cos(t))\n",
    "fig.show()"
   ]
  },
  {
   "cell_type": "code",
   "execution_count": null,
   "id": "034908b0",
   "metadata": {},
   "outputs": [],
   "source": [
    "# Include more details in the hover feature\n",
    "fig = px.line(x=t, y=np.cos(t), labels={'x':'t', 'y':'cos(t)'})\n",
    "fig.show()"
   ]
  },
  {
   "cell_type": "code",
   "execution_count": null,
   "id": "70d86360",
   "metadata": {},
   "outputs": [],
   "source": [
    "# Simple scatter plot\n",
    "df = px.data.iris() # plotly has some built in datasets (like seaborn and plotnine)\n",
    "\n",
    "fig = px.scatter(df, x=\"sepal_length\", y=\"sepal_width\",color='species', width=500, height=400)\n",
    "fig.show()"
   ]
  },
  {
   "cell_type": "code",
   "execution_count": null,
   "id": "be97fd6c",
   "metadata": {},
   "outputs": [],
   "source": [
    "# What other info is in the dataframe?\n",
    "df"
   ]
  },
  {
   "cell_type": "code",
   "execution_count": null,
   "id": "2019de15",
   "metadata": {},
   "outputs": [],
   "source": [
    "# add more data to the hover feature\n",
    "fig = px.scatter(df, x=\"sepal_length\", y=\"sepal_width\",color='species',\n",
    "                 width=500, height=400,\n",
    "                hover_data=['petal_length','petal_width'])\n",
    "fig.show()"
   ]
  },
  {
   "cell_type": "code",
   "execution_count": null,
   "id": "a4415aa1",
   "metadata": {},
   "outputs": [],
   "source": [
    "# Facetting is also possible\n",
    "fig = px.scatter(df, x=\"sepal_length\", y=\"sepal_width\",color='species',\n",
    "                 width=1000, height=400,\n",
    "                hover_data=['petal_length','petal_width'],\n",
    "                facet_col='species')\n",
    "fig.show()"
   ]
  },
  {
   "cell_type": "code",
   "execution_count": null,
   "id": "9a4fbc14",
   "metadata": {},
   "outputs": [],
   "source": [
    "# Histograms\n",
    "fig = px.histogram(df, x=\"sepal_length\", \n",
    "                 width=500, height=400)\n",
    "fig.show()"
   ]
  },
  {
   "cell_type": "code",
   "execution_count": null,
   "id": "aa10ecba",
   "metadata": {},
   "outputs": [],
   "source": [
    "# Create heatmap using Plotly Express\n",
    "fig = px.imshow(\n",
    "  df.corr(numeric_only=True), color_continuous_scale='plasma'\n",
    ")\n",
    "\n",
    "# Show plot\n",
    "fig.show()"
   ]
  },
  {
   "cell_type": "markdown",
   "id": "6fc8c982",
   "metadata": {},
   "source": [
    "### Adding dropdown menus and sliders with ipywidgets"
   ]
  },
  {
   "cell_type": "code",
   "execution_count": null,
   "id": "00bfffa9",
   "metadata": {},
   "outputs": [],
   "source": [
    "from ipywidgets import interact\n",
    "import ipywidgets as widgets\n",
    "\n",
    "# Generate some data\n",
    "x = np.linspace(0, 10, 100)\n",
    "y1 = np.sin(x)\n",
    "y2 = np.cos(x)\n",
    "\n",
    "# Function to update the plot based on dropdown selection\n",
    "def update_plot(change):\n",
    "    if change == 'sin':\n",
    "        plt.plot(x, y1, label='sin(x)')\n",
    "    elif change == 'cos':\n",
    "        plt.plot(x, y2, label='cos(x)')\n",
    "    plt.xlabel('X')\n",
    "    plt.ylabel('Y')\n",
    "    plt.legend()\n",
    "    plt.show()\n",
    "\n",
    "# Create a dropdown widget with options\n",
    "options = {'sin(x)': 'sin', 'cos(x)': 'cos'}\n",
    "dropdown = widgets.Dropdown(options=options, description='Function:')\n",
    "\n",
    "# Use interact to connect the dropdown and update_plot function\n",
    "interact(update_plot, change=dropdown);"
   ]
  },
  {
   "cell_type": "code",
   "execution_count": null,
   "id": "7bde63cf",
   "metadata": {},
   "outputs": [],
   "source": [
    "# Sliders\n",
    "def update_plot(slider_value):\n",
    "    plt.plot(x, np.sin(x * slider_value))\n",
    "    plt.xlabel('x')\n",
    "    plt.ylabel('sin(f*x)')\n",
    "    plt.show()\n",
    "\n",
    "# Create a slider widget using widget.FloatSlider\n",
    "slider = widgets.FloatSlider(\n",
    "    value=1.0,\n",
    "    min=0.1,\n",
    "    max=2.0,\n",
    "    step=0.1,\n",
    "    description='Frequency (f):',\n",
    "    continuous_update=True\n",
    ")\n",
    "\n",
    "# Use interact to connect the slider and the update_plot function\n",
    "interact(update_plot, slider_value=slider);"
   ]
  },
  {
   "cell_type": "markdown",
   "id": "019da0c4",
   "metadata": {},
   "source": [
    "#### Data example"
   ]
  },
  {
   "cell_type": "code",
   "execution_count": null,
   "id": "1f31e668",
   "metadata": {},
   "outputs": [],
   "source": [
    "# Create a plot with adjustable x and y axes\n",
    "# Function to update the scatter plot based on dropdown selection\n",
    "def update_plot(x_axis, y_axis):\n",
    "    fig = px.scatter(df, x=x_axis, y=y_axis, color='species',\n",
    "                    height = 500, width=700)\n",
    "    fig.show()\n",
    "\n",
    "# Define dropdown options for x and y axes\n",
    "x_options = ['sepal_length', 'sepal_width', 'petal_length', 'petal_width']\n",
    "y_options = ['sepal_length', 'sepal_width', 'petal_length', 'petal_width']\n",
    "\n",
    "# Create dropdown widgets\n",
    "x_dropdown = widgets.Dropdown(options=x_options, description='X Axis:')\n",
    "y_dropdown = widgets.Dropdown(options=y_options, description='Y Axis:')\n",
    "\n",
    "# Create interactive plot using ipywidgets interact function\n",
    "interact(update_plot, x_axis=x_dropdown, y_axis=y_dropdown);"
   ]
  },
  {
   "cell_type": "markdown",
   "id": "feb18018",
   "metadata": {},
   "source": [
    "### Animations/sliders with plotly"
   ]
  },
  {
   "cell_type": "code",
   "execution_count": null,
   "id": "d87e3063",
   "metadata": {
    "scrolled": false
   },
   "outputs": [],
   "source": [
    "# Import the gap minder\n",
    "df = pd.read_csv('gapminder_all.csv')\n",
    "df"
   ]
  },
  {
   "cell_type": "code",
   "execution_count": null,
   "id": "a072e4c3",
   "metadata": {},
   "outputs": [],
   "source": [
    "# Tidy the data (start by melting)\n",
    "long_df = df.melt(id_vars=['continent','country'])\n",
    "long_df"
   ]
  },
  {
   "cell_type": "code",
   "execution_count": null,
   "id": "567d67d5",
   "metadata": {},
   "outputs": [],
   "source": [
    "# Each variable gets its own column\n",
    "long_df[['var','year']] = long_df.variable.str.split('_',expand=True)\n",
    "long_df.drop(columns = 'variable',inplace=True)\n",
    "long_df"
   ]
  },
  {
   "cell_type": "code",
   "execution_count": null,
   "id": "4d3fe276",
   "metadata": {},
   "outputs": [],
   "source": [
    "# pivot so each variable is a column\n",
    "tidy_df = long_df.pivot_table(index = ['continent','country','year'],columns='var',values='value').reset_index()\n",
    "tidy_df"
   ]
  },
  {
   "cell_type": "code",
   "execution_count": null,
   "id": "e1cd4fb4",
   "metadata": {},
   "outputs": [],
   "source": [
    "# check info for datatypes and nulls\n",
    "tidy_df.info()"
   ]
  },
  {
   "cell_type": "code",
   "execution_count": null,
   "id": "07e0e9ee",
   "metadata": {},
   "outputs": [],
   "source": [
    "# cast year to type int\n",
    "tidy_df['year'] = tidy_df.year.astype(int)"
   ]
  },
  {
   "cell_type": "markdown",
   "id": "b7563560",
   "metadata": {},
   "source": [
    "### How would we visualize with Seaborn?"
   ]
  },
  {
   "cell_type": "code",
   "execution_count": null,
   "id": "1ad63515",
   "metadata": {},
   "outputs": [],
   "source": [
    "# scatterplot in seaborn for one year\n",
    "sns.scatterplot(data = tidy_df[tidy_df['year']== 2007],\n",
    "                x = 'gdpPercap',y='lifeExp',size='pop', \n",
    "                sizes=(25, 250), hue='continent',alpha=0.7)\n",
    "plt.xscale('log')"
   ]
  },
  {
   "cell_type": "code",
   "execution_count": null,
   "id": "bf3810c8",
   "metadata": {},
   "outputs": [],
   "source": [
    "# Show the trend across years\n",
    "sns.relplot(data = tidy_df,x = 'gdpPercap',y='lifeExp',\n",
    "            size='pop', sizes=(25, 250), \n",
    "            hue='continent',alpha=0.7,\n",
    "            col='year',col_wrap=4)\n",
    "plt.xscale('log')"
   ]
  },
  {
   "cell_type": "markdown",
   "id": "b49e969a",
   "metadata": {},
   "source": [
    "### Same data with interactive plots"
   ]
  },
  {
   "cell_type": "code",
   "execution_count": null,
   "id": "b120c9c2",
   "metadata": {
    "scrolled": false
   },
   "outputs": [],
   "source": [
    "# Look at just one year\n",
    "fig = px.scatter(tidy_df[tidy_df['year']==2007], x=\"gdpPercap\", y=\"lifeExp\",\n",
    "           size=\"pop\", color=\"continent\", \n",
    "           log_x=True, size_max=55,\n",
    "           hover_name='country')\n",
    "fig.show()"
   ]
  },
  {
   "cell_type": "code",
   "execution_count": null,
   "id": "220f4e37",
   "metadata": {
    "scrolled": false
   },
   "outputs": [],
   "source": [
    "# Create animation/slider instead of facetting\n",
    "fig = px.scatter(tidy_df, x=\"gdpPercap\", y=\"lifeExp\",\n",
    "           size=\"pop\", color=\"continent\", \n",
    "           hover_name=\"country\",\n",
    "           animation_frame=\"year\", \n",
    "           log_x=True, size_max=55, range_x=[100,100000], range_y=[25,90])\n",
    "fig.show()"
   ]
  },
  {
   "cell_type": "code",
   "execution_count": null,
   "id": "e877f92a",
   "metadata": {},
   "outputs": [],
   "source": [
    "# Combine animations with dropdowns\n",
    "def update_plot(option):\n",
    "    if option:\n",
    "        x_scale = [100,100000]\n",
    "    else:\n",
    "        x_scale = [0,45000]\n",
    "    fig = px.scatter(tidy_df, x=\"gdpPercap\", y=\"lifeExp\",\n",
    "           size=\"pop\", color=\"continent\", \n",
    "           hover_name=\"country\",\n",
    "           animation_frame=\"year\", \n",
    "           log_x=option, size_max=55, range_x=x_scale, range_y=[25,90])\n",
    "    fig.show()\n",
    "\n",
    "# Define dropdown options for x and y axes\n",
    "scale_options = [True, False]\n",
    "\n",
    "# Create dropdown widgets\n",
    "scale_dropdown = widgets.Dropdown(options=scale_options, description='Log scale:')\n",
    "\n",
    "# Create interactive plot using ipywidgets interact function\n",
    "interact(update_plot, option=scale_dropdown);\n",
    "\n"
   ]
  },
  {
   "cell_type": "code",
   "execution_count": null,
   "id": "d56a960e",
   "metadata": {
    "scrolled": false
   },
   "outputs": [],
   "source": [
    "# Can also make animated bar charts\n",
    "fig = px.bar(tidy_df, x=\"continent\", y=\"pop\", color=\"continent\",\n",
    "              animation_frame=\"year\", hover_name = 'country',range_y=[0,4000000000])\n",
    "fig.show()"
   ]
  },
  {
   "cell_type": "code",
   "execution_count": null,
   "id": "f4531d8c",
   "metadata": {},
   "outputs": [],
   "source": []
  }
 ],
 "metadata": {
  "kernelspec": {
   "display_name": "Python 3 (ipykernel)",
   "language": "python",
   "name": "python3"
  },
  "language_info": {
   "codemirror_mode": {
    "name": "ipython",
    "version": 3
   },
   "file_extension": ".py",
   "mimetype": "text/x-python",
   "name": "python",
   "nbconvert_exporter": "python",
   "pygments_lexer": "ipython3",
   "version": "3.11.4"
  }
 },
 "nbformat": 4,
 "nbformat_minor": 5
}
